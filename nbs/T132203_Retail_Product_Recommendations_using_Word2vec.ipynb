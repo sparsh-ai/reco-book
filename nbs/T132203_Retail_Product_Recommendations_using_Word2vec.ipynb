{
  "nbformat": 4,
  "nbformat_minor": 0,
  "metadata": {
    "colab": {
      "name": "2021-04-24-rec-medium-word2vec.ipynb",
      "provenance": [],
      "collapsed_sections": [],
      "toc_visible": true
    },
    "kernelspec": {
      "display_name": "Python 3",
      "language": "python",
      "name": "python3"
    },
    "language_info": {
      "codemirror_mode": {
        "name": "ipython",
        "version": 3
      },
      "file_extension": ".py",
      "mimetype": "text/x-python",
      "name": "python",
      "nbconvert_exporter": "python",
      "pygments_lexer": "ipython3",
      "version": "3.7.3"
    }
  },
  "cells": [
    {
      "cell_type": "markdown",
      "metadata": {
        "id": "QU13Xg9n0bSM"
      },
      "source": [
        "# Retail Product Recommendations using word2vec\n",
        "> Creating a system that automatically recommends a certain number of products to the consumers on an E-commerce website based on the past purchase behavior of the consumers."
      ]
    },
    {
      "cell_type": "markdown",
      "metadata": {
        "id": "VwgbuHwVtshy"
      },
      "source": [
        "A person involved in sports-related activities might have an online buying pattern similar to this:"
      ]
    },
    {
      "cell_type": "markdown",
      "metadata": {
        "id": "3Kr2W6kLeCST"
      },
      "source": [
        "<img src='https://www.notion.so/image/https%3A%2F%2Fs3-us-west-2.amazonaws.com%2Fsecure.notion-static.com%2F24d6fd6d-398c-49d6-b064-b40a888c3b12%2FUntitled.png?table=block&id=523946d0-176c-43af-94ed-f31a6a297529&spaceId=63b72b1f-0e90-4ab8-a6df-a060a6545a56&width=2000&userId=21ec183f-f0be-4b6b-9b3e-6f0d4e5c5469&cache=v2'>"
      ]
    },
    {
      "cell_type": "markdown",
      "metadata": {
        "id": "2tYh4SrWtynJ"
      },
      "source": [
        "If we can represent each of these products by a vector, then we can easily find similar products. So, if a user is checking out a product online, then we can easily recommend him/her similar products by using the vector similarity score between the products."
      ]
    },
    {
      "cell_type": "code",
      "metadata": {
        "id": "W0wI5j74nc9W"
      },
      "source": [
        "#hide\n",
        "import pandas as pd\n",
        "import numpy as np\n",
        "import random\n",
        "from tqdm import tqdm\n",
        "from gensim.models import Word2Vec \n",
        "import matplotlib.pyplot as plt\n",
        "%matplotlib inline\n",
        "\n",
        "import warnings;\n",
        "warnings.filterwarnings('ignore')"
      ],
      "execution_count": null,
      "outputs": []
    },
    {
      "cell_type": "markdown",
      "metadata": {
        "id": "cDi5Gu8Ou7bb"
      },
      "source": [
        "## Data gathering and understanding"
      ]
    },
    {
      "cell_type": "code",
      "metadata": {
        "id": "TlW0pTzGniGo"
      },
      "source": [
        "#hide-output\n",
        "!wget https://archive.ics.uci.edu/ml/machine-learning-databases/00352/Online%20Retail.xlsx"
      ],
      "execution_count": null,
      "outputs": []
    },
    {
      "cell_type": "code",
      "metadata": {
        "colab": {
          "base_uri": "https://localhost:8080/",
          "height": 204
        },
        "id": "z_Kt8wtZnjRm",
        "outputId": "e30cdfd6-fd16-48ab-fa22-283fdb3d2578"
      },
      "source": [
        "df = pd.read_excel('Online Retail.xlsx')\n",
        "df.head()"
      ],
      "execution_count": null,
      "outputs": [
        {
          "data": {
            "text/html": [
              "<div>\n",
              "<style scoped>\n",
              "    .dataframe tbody tr th:only-of-type {\n",
              "        vertical-align: middle;\n",
              "    }\n",
              "\n",
              "    .dataframe tbody tr th {\n",
              "        vertical-align: top;\n",
              "    }\n",
              "\n",
              "    .dataframe thead th {\n",
              "        text-align: right;\n",
              "    }\n",
              "</style>\n",
              "<table border=\"1\" class=\"dataframe\">\n",
              "  <thead>\n",
              "    <tr style=\"text-align: right;\">\n",
              "      <th></th>\n",
              "      <th>InvoiceNo</th>\n",
              "      <th>StockCode</th>\n",
              "      <th>Description</th>\n",
              "      <th>Quantity</th>\n",
              "      <th>InvoiceDate</th>\n",
              "      <th>UnitPrice</th>\n",
              "      <th>CustomerID</th>\n",
              "      <th>Country</th>\n",
              "    </tr>\n",
              "  </thead>\n",
              "  <tbody>\n",
              "    <tr>\n",
              "      <th>0</th>\n",
              "      <td>536365</td>\n",
              "      <td>85123A</td>\n",
              "      <td>WHITE HANGING HEART T-LIGHT HOLDER</td>\n",
              "      <td>6</td>\n",
              "      <td>2010-12-01 08:26:00</td>\n",
              "      <td>2.55</td>\n",
              "      <td>17850.0</td>\n",
              "      <td>United Kingdom</td>\n",
              "    </tr>\n",
              "    <tr>\n",
              "      <th>1</th>\n",
              "      <td>536365</td>\n",
              "      <td>71053</td>\n",
              "      <td>WHITE METAL LANTERN</td>\n",
              "      <td>6</td>\n",
              "      <td>2010-12-01 08:26:00</td>\n",
              "      <td>3.39</td>\n",
              "      <td>17850.0</td>\n",
              "      <td>United Kingdom</td>\n",
              "    </tr>\n",
              "    <tr>\n",
              "      <th>2</th>\n",
              "      <td>536365</td>\n",
              "      <td>84406B</td>\n",
              "      <td>CREAM CUPID HEARTS COAT HANGER</td>\n",
              "      <td>8</td>\n",
              "      <td>2010-12-01 08:26:00</td>\n",
              "      <td>2.75</td>\n",
              "      <td>17850.0</td>\n",
              "      <td>United Kingdom</td>\n",
              "    </tr>\n",
              "    <tr>\n",
              "      <th>3</th>\n",
              "      <td>536365</td>\n",
              "      <td>84029G</td>\n",
              "      <td>KNITTED UNION FLAG HOT WATER BOTTLE</td>\n",
              "      <td>6</td>\n",
              "      <td>2010-12-01 08:26:00</td>\n",
              "      <td>3.39</td>\n",
              "      <td>17850.0</td>\n",
              "      <td>United Kingdom</td>\n",
              "    </tr>\n",
              "    <tr>\n",
              "      <th>4</th>\n",
              "      <td>536365</td>\n",
              "      <td>84029E</td>\n",
              "      <td>RED WOOLLY HOTTIE WHITE HEART.</td>\n",
              "      <td>6</td>\n",
              "      <td>2010-12-01 08:26:00</td>\n",
              "      <td>3.39</td>\n",
              "      <td>17850.0</td>\n",
              "      <td>United Kingdom</td>\n",
              "    </tr>\n",
              "  </tbody>\n",
              "</table>\n",
              "</div>"
            ],
            "text/plain": [
              "  InvoiceNo StockCode  ... CustomerID         Country\n",
              "0    536365    85123A  ...    17850.0  United Kingdom\n",
              "1    536365     71053  ...    17850.0  United Kingdom\n",
              "2    536365    84406B  ...    17850.0  United Kingdom\n",
              "3    536365    84029G  ...    17850.0  United Kingdom\n",
              "4    536365    84029E  ...    17850.0  United Kingdom\n",
              "\n",
              "[5 rows x 8 columns]"
            ]
          },
          "execution_count": 3,
          "metadata": {
            "tags": []
          },
          "output_type": "execute_result"
        }
      ]
    },
    {
      "cell_type": "markdown",
      "metadata": {
        "id": "KJHexOy0oPHl"
      },
      "source": [
        "Given below is the description of the fields in this dataset:\n",
        "\n",
        "1. __InvoiceNo:__ Invoice number, a unique number assigned to each transaction.\n",
        "\n",
        "2. __StockCode:__ Product/item code. a unique number assigned to each distinct product.\n",
        "\n",
        "3. __Description:__ Product description\n",
        "\n",
        "4. __Quantity:__ The quantities of each product per transaction.\n",
        "\n",
        "5. __InvoiceDate:__ Invoice Date and time. The day and time when each transaction was generated.\n",
        "\n",
        "6. __CustomerID:__ Customer number, a unique number assigned to each customer."
      ]
    },
    {
      "cell_type": "markdown",
      "metadata": {
        "id": "h8BwXsF5ox--"
      },
      "source": [
        "## Data Preprocessing"
      ]
    },
    {
      "cell_type": "code",
      "metadata": {
        "colab": {
          "base_uri": "https://localhost:8080/"
        },
        "id": "F58y_bU6nypT",
        "outputId": "26f4b722-e131-46af-9dde-3cf388986882"
      },
      "source": [
        "# check for missing values\n",
        "df.isnull().sum()"
      ],
      "execution_count": null,
      "outputs": [
        {
          "data": {
            "text/plain": [
              "InvoiceNo           0\n",
              "StockCode           0\n",
              "Description      1454\n",
              "Quantity            0\n",
              "InvoiceDate         0\n",
              "UnitPrice           0\n",
              "CustomerID     135080\n",
              "Country             0\n",
              "dtype: int64"
            ]
          },
          "execution_count": 4,
          "metadata": {
            "tags": []
          },
          "output_type": "execute_result"
        }
      ]
    },
    {
      "cell_type": "markdown",
      "metadata": {
        "id": "JM04nhUAot7Y"
      },
      "source": [
        "Since we have sufficient data, we will drop all the rows with missing values."
      ]
    },
    {
      "cell_type": "code",
      "metadata": {
        "colab": {
          "base_uri": "https://localhost:8080/"
        },
        "id": "uqEjaaTKorZ4",
        "outputId": "061df95f-dfbf-4fda-fd6c-f3f329df87ed"
      },
      "source": [
        "# remove missing values\n",
        "df.dropna(inplace=True)\n",
        "\n",
        "# again check missing values\n",
        "df.isnull().sum()"
      ],
      "execution_count": null,
      "outputs": [
        {
          "data": {
            "text/plain": [
              "InvoiceNo      0\n",
              "StockCode      0\n",
              "Description    0\n",
              "Quantity       0\n",
              "InvoiceDate    0\n",
              "UnitPrice      0\n",
              "CustomerID     0\n",
              "Country        0\n",
              "dtype: int64"
            ]
          },
          "execution_count": 5,
          "metadata": {
            "tags": []
          },
          "output_type": "execute_result"
        }
      ]
    },
    {
      "cell_type": "code",
      "metadata": {
        "id": "RUib7vkCpd1E"
      },
      "source": [
        "# Convert the StockCode to string datatype\n",
        "df['StockCode']= df['StockCode'].astype(str)"
      ],
      "execution_count": null,
      "outputs": []
    },
    {
      "cell_type": "code",
      "metadata": {
        "colab": {
          "base_uri": "https://localhost:8080/"
        },
        "id": "wPI7YWkQo6wu",
        "outputId": "e751a6d9-6ba2-42a7-8a4f-1aaee616f2b4"
      },
      "source": [
        "# Check out the number of unique customers in our dataset\n",
        "customers = df[\"CustomerID\"].unique().tolist()\n",
        "len(customers)"
      ],
      "execution_count": null,
      "outputs": [
        {
          "data": {
            "text/plain": [
              "4372"
            ]
          },
          "execution_count": 7,
          "metadata": {
            "tags": []
          },
          "output_type": "execute_result"
        }
      ]
    },
    {
      "cell_type": "markdown",
      "metadata": {
        "id": "ED5y4TDxpOfL"
      },
      "source": [
        "There are 4,372 customers in our dataset. For each of these customers we will extract their buying history. In other words, we can have 4,372 sequences of purchases."
      ]
    },
    {
      "cell_type": "markdown",
      "metadata": {
        "id": "Aogi1piGvEGl"
      },
      "source": [
        "## Data Preparation"
      ]
    },
    {
      "cell_type": "markdown",
      "metadata": {
        "id": "F_WFU-rTvJ_l"
      },
      "source": [
        "It is a good practice to set aside a small part of the dataset for validation purpose. Therefore, we will use data of 90% of the customers to create word2vec embeddings. Let's split the data."
      ]
    },
    {
      "cell_type": "code",
      "metadata": {
        "id": "WxWaZx3zpPFW"
      },
      "source": [
        "# shuffle customer ID's\n",
        "random.shuffle(customers)\n",
        "\n",
        "# extract 90% of customer ID's\n",
        "customers_train = [customers[i] for i in range(round(0.9*len(customers)))]\n",
        "\n",
        "# split data into train and validation set\n",
        "train_df = df[df['CustomerID'].isin(customers_train)]\n",
        "validation_df = df[~df['CustomerID'].isin(customers_train)]"
      ],
      "execution_count": null,
      "outputs": []
    },
    {
      "cell_type": "markdown",
      "metadata": {
        "id": "ul94yT2cqJ38"
      },
      "source": [
        "Let's create sequences of purchases made by the customers in the dataset for both the train and validation set."
      ]
    },
    {
      "cell_type": "code",
      "metadata": {
        "id": "uhIwWEe-qGwK"
      },
      "source": [
        "# list to capture purchase history of the customers\n",
        "purchases_train = []\n",
        "\n",
        "# populate the list with the product codes\n",
        "for i in tqdm(customers_train):\n",
        "    temp = train_df[train_df[\"CustomerID\"] == i][\"StockCode\"].tolist()\n",
        "    purchases_train.append(temp)"
      ],
      "execution_count": null,
      "outputs": []
    },
    {
      "cell_type": "code",
      "metadata": {
        "id": "VGT9oyVeqhky"
      },
      "source": [
        "# list to capture purchase history of the customers\n",
        "purchases_val = []\n",
        "\n",
        "# populate the list with the product codes\n",
        "for i in tqdm(validation_df['CustomerID'].unique()):\n",
        "    temp = validation_df[validation_df[\"CustomerID\"] == i][\"StockCode\"].tolist()\n",
        "    purchases_val.append(temp)"
      ],
      "execution_count": null,
      "outputs": []
    },
    {
      "cell_type": "markdown",
      "metadata": {
        "id": "AgDLwI_4q4Fm"
      },
      "source": [
        "## Build word2vec Embeddings for Products"
      ]
    },
    {
      "cell_type": "code",
      "metadata": {
        "colab": {
          "base_uri": "https://localhost:8080/"
        },
        "id": "rr_tHmmuqu24",
        "outputId": "dcedddc7-d410-4d0c-bd3a-79f6022f42ef"
      },
      "source": [
        "# train word2vec model\n",
        "model = Word2Vec(window = 10, sg = 1, hs = 0,\n",
        "                 negative = 10, # for negative sampling\n",
        "                 alpha=0.03, min_alpha=0.0007,\n",
        "                 seed = 14)\n",
        "\n",
        "model.build_vocab(purchases_train, progress_per=200)\n",
        "\n",
        "model.train(purchases_train, total_examples = model.corpus_count, \n",
        "            epochs=10, report_delay=1)"
      ],
      "execution_count": null,
      "outputs": [
        {
          "data": {
            "text/plain": [
              "(3657318, 3696290)"
            ]
          },
          "execution_count": 11,
          "metadata": {
            "tags": []
          },
          "output_type": "execute_result"
        }
      ]
    },
    {
      "cell_type": "code",
      "metadata": {
        "id": "_CwTzmNqq_lQ"
      },
      "source": [
        "# save word2vec model\n",
        "model.save(\"word2vec_2.model\")"
      ],
      "execution_count": null,
      "outputs": []
    },
    {
      "cell_type": "markdown",
      "metadata": {
        "id": "HBbudJ7hrDw0"
      },
      "source": [
        "As we do not plan to train the model any further, we are calling init_sims(), which will make the model much more memory-efficient"
      ]
    },
    {
      "cell_type": "code",
      "metadata": {
        "id": "UGYK8p1xrAJy"
      },
      "source": [
        "model.init_sims(replace=True)"
      ],
      "execution_count": null,
      "outputs": []
    },
    {
      "cell_type": "code",
      "metadata": {
        "colab": {
          "base_uri": "https://localhost:8080/"
        },
        "id": "M_AbUfMOrGsI",
        "outputId": "66d6d641-2dfb-4129-b27c-6eeafffd07a2"
      },
      "source": [
        "print(model)"
      ],
      "execution_count": null,
      "outputs": [
        {
          "name": "stdout",
          "output_type": "stream",
          "text": [
            "Word2Vec(vocab=3153, size=100, alpha=0.03)\n"
          ]
        }
      ]
    },
    {
      "cell_type": "markdown",
      "metadata": {
        "id": "HKFT2SECrMY1"
      },
      "source": [
        "Now we will extract the vectors of all the words in our vocabulary and store it in one place for easy access"
      ]
    },
    {
      "cell_type": "code",
      "metadata": {
        "colab": {
          "base_uri": "https://localhost:8080/"
        },
        "id": "odn6f3rorG7T",
        "outputId": "f8c06bf9-1ba4-48f9-e491-1fb2369fdadc"
      },
      "source": [
        "# extract all vectors\n",
        "X = model[model.wv.vocab]\n",
        "\n",
        "X.shape"
      ],
      "execution_count": null,
      "outputs": [
        {
          "data": {
            "text/plain": [
              "(3153, 100)"
            ]
          },
          "execution_count": 15,
          "metadata": {
            "tags": []
          },
          "output_type": "execute_result"
        }
      ]
    },
    {
      "cell_type": "markdown",
      "metadata": {
        "id": "VQr5YRjIrTC2"
      },
      "source": [
        "## Visualize word2vec Embeddings"
      ]
    },
    {
      "cell_type": "markdown",
      "metadata": {
        "id": "EwW0xbwkrVoB"
      },
      "source": [
        "It is always quite helpful to visualize the embeddings that you have created. Over here we have 100 dimensional embeddings. We can't even visualize 4 dimensions let alone 100. Therefore, we are going to reduce the dimensions of the product embeddings from 100 to 2 by using the UMAP algorithm, it is used for dimensionality reduction."
      ]
    },
    {
      "cell_type": "code",
      "metadata": {
        "id": "A7XmYq1Eragv"
      },
      "source": [
        "#hide\n",
        "!pip install umap-learn"
      ],
      "execution_count": null,
      "outputs": []
    },
    {
      "cell_type": "code",
      "metadata": {
        "id": "Y8wKkbRQrQAy"
      },
      "source": [
        "#collapse\n",
        "import umap\n",
        "\n",
        "cluster_embedding = umap.UMAP(n_neighbors=30, min_dist=0.0,\n",
        "                              n_components=2, random_state=42).fit_transform(X)\n",
        "\n",
        "plt.figure(figsize=(10,9))\n",
        "plt.scatter(cluster_embedding[:, 0], cluster_embedding[:, 1], s=3, cmap='Spectral');"
      ],
      "execution_count": null,
      "outputs": []
    },
    {
      "cell_type": "markdown",
      "metadata": {
        "id": "ApQzScpxeG-x"
      },
      "source": [
        "<img src='https://www.notion.so/image/https%3A%2F%2Fs3-us-west-2.amazonaws.com%2Fsecure.notion-static.com%2Fa8e9cc19-74bc-4809-b800-c195343c2ece%2FUntitled.png?table=block&id=178a0d8f-f66f-4d1a-ae86-011a95f61dd9&spaceId=63b72b1f-0e90-4ab8-a6df-a060a6545a56&width=2000&userId=21ec183f-f0be-4b6b-9b3e-6f0d4e5c5469&cache=v2'>"
      ]
    },
    {
      "cell_type": "markdown",
      "metadata": {
        "id": "wNQ9hotsr1eC"
      },
      "source": [
        "Every dot in this plot is a product. As you can see, there are several tiny clusters of these datapoints. These are groups of similar products."
      ]
    },
    {
      "cell_type": "markdown",
      "metadata": {
        "id": "5_KBjh2Jr-Qg"
      },
      "source": [
        "## Generate and validate recommendations"
      ]
    },
    {
      "cell_type": "markdown",
      "metadata": {
        "id": "he6azpQysC_M"
      },
      "source": [
        "We are finally ready with the word2vec embeddings for every product in our online retail dataset. Now our next step is to suggest similar products for a certain product or a product's vector. \n",
        "\n",
        "Let's first create a product-ID and product-description dictionary to easily map a product's description to its ID and vice versa."
      ]
    },
    {
      "cell_type": "code",
      "metadata": {
        "id": "sckVfOMHrYHp"
      },
      "source": [
        "products = train_df[[\"StockCode\", \"Description\"]]\n",
        "\n",
        "# remove duplicates\n",
        "products.drop_duplicates(inplace=True, subset='StockCode', keep=\"last\")\n",
        "\n",
        "# create product-ID and product-description dictionary\n",
        "products_dict = products.groupby('StockCode')['Description'].apply(list).to_dict()"
      ],
      "execution_count": null,
      "outputs": []
    },
    {
      "cell_type": "code",
      "metadata": {
        "colab": {
          "base_uri": "https://localhost:8080/"
        },
        "id": "Ldj0ew7UsOiw",
        "outputId": "e03b87e5-8f3c-466e-a85c-ec004746efdc"
      },
      "source": [
        "# test the dictionary\n",
        "products_dict['84029E']"
      ],
      "execution_count": null,
      "outputs": [
        {
          "data": {
            "text/plain": [
              "['RED WOOLLY HOTTIE WHITE HEART.']"
            ]
          },
          "execution_count": 19,
          "metadata": {
            "tags": []
          },
          "output_type": "execute_result"
        }
      ]
    },
    {
      "cell_type": "markdown",
      "metadata": {
        "id": "eneoWxrwsSjt"
      },
      "source": [
        "We have defined the function below. It will take a product's vector (n) as input and return top 6 similar products."
      ]
    },
    {
      "cell_type": "code",
      "metadata": {
        "id": "TmgZr0c2sPuz"
      },
      "source": [
        "#hide\n",
        "def similar_products(v, n = 6):\n",
        "    \n",
        "    # extract most similar products for the input vector\n",
        "    ms = model.similar_by_vector(v, topn= n+1)[1:]\n",
        "    \n",
        "    # extract name and similarity score of the similar products\n",
        "    new_ms = []\n",
        "    for j in ms:\n",
        "        pair = (products_dict[j[0]][0], j[1])\n",
        "        new_ms.append(pair)\n",
        "        \n",
        "    return new_ms        "
      ],
      "execution_count": null,
      "outputs": []
    },
    {
      "cell_type": "markdown",
      "metadata": {
        "id": "H3ygmMQHsZRA"
      },
      "source": [
        "Let's try out our function by passing the vector of the product '90019A' ('SILVER M.O.P ORBIT BRACELET')"
      ]
    },
    {
      "cell_type": "code",
      "metadata": {
        "colab": {
          "base_uri": "https://localhost:8080/"
        },
        "id": "pWnP50EVsWEj",
        "outputId": "bec2fe21-2259-4ae6-a30d-5cb4667d53d7"
      },
      "source": [
        "similar_products(model['90019A'])"
      ],
      "execution_count": null,
      "outputs": [
        {
          "data": {
            "text/plain": [
              "[('SILVER M.O.P ORBIT DROP EARRINGS', 0.7879312634468079),\n",
              " ('AMBER DROP EARRINGS W LONG BEADS', 0.7682332992553711),\n",
              " ('JADE DROP EARRINGS W FILIGREE', 0.761816143989563),\n",
              " ('DROP DIAMANTE EARRINGS PURPLE', 0.7489826679229736),\n",
              " ('SILVER LARIAT BLACK STONE EARRINGS', 0.7389366626739502),\n",
              " ('WHITE VINT ART DECO CRYSTAL NECKLAC', 0.7352254390716553)]"
            ]
          },
          "execution_count": 21,
          "metadata": {
            "tags": []
          },
          "output_type": "execute_result"
        }
      ]
    },
    {
      "cell_type": "markdown",
      "metadata": {
        "id": "aH-2nt_ishkM"
      },
      "source": [
        "Cool! The results are pretty relevant and match well with the input product. However, this output is based on the vector of a single product only. What if we want recommend a user products based on the multiple purchases he or she has made in the past?\n",
        "\n",
        "One simple solution is to take average of all the vectors of the products he has bought so far and use this resultant vector to find similar products. For that we will use the function below that takes in a list of product ID's and gives out a 100 dimensional vector which is mean of vectors of the products in the input list."
      ]
    },
    {
      "cell_type": "code",
      "metadata": {
        "id": "MqtpgpqFsauG"
      },
      "source": [
        "#collapse\n",
        "def aggregate_vectors(products):\n",
        "    product_vec = []\n",
        "    for i in products:\n",
        "        try:\n",
        "            product_vec.append(model[i])\n",
        "        except KeyError:\n",
        "            continue\n",
        "        \n",
        "    return np.mean(product_vec, axis=0)"
      ],
      "execution_count": null,
      "outputs": []
    },
    {
      "cell_type": "markdown",
      "metadata": {
        "id": "mXPqS4h0sojc"
      },
      "source": [
        "If you can recall, we have already created a separate list of purchase sequences for validation purpose. Now let's make use of that."
      ]
    },
    {
      "cell_type": "code",
      "metadata": {
        "colab": {
          "base_uri": "https://localhost:8080/"
        },
        "id": "KfI_RrLZsn8W",
        "outputId": "929f549e-1621-474d-9c96-f4012a1aa5f9"
      },
      "source": [
        "#hide\n",
        "len(purchases_val[0])"
      ],
      "execution_count": null,
      "outputs": [
        {
          "data": {
            "text/plain": [
              "28"
            ]
          },
          "execution_count": 23,
          "metadata": {
            "tags": []
          },
          "output_type": "execute_result"
        }
      ]
    },
    {
      "cell_type": "markdown",
      "metadata": {
        "id": "nuaqWGa4ssZr"
      },
      "source": [
        "The length of the first list of products purchased by a user is 314. We will pass this products' sequence of the validation set to the function aggregate_vectors."
      ]
    },
    {
      "cell_type": "code",
      "metadata": {
        "colab": {
          "base_uri": "https://localhost:8080/"
        },
        "id": "OdurKB3ysp6c",
        "outputId": "c2635b4c-584c-47a0-e436-f4175fc87dad"
      },
      "source": [
        "#hide\n",
        "aggregate_vectors(purchases_val[0]).shape"
      ],
      "execution_count": null,
      "outputs": [
        {
          "data": {
            "text/plain": [
              "(100,)"
            ]
          },
          "execution_count": 24,
          "metadata": {
            "tags": []
          },
          "output_type": "execute_result"
        }
      ]
    },
    {
      "cell_type": "markdown",
      "metadata": {
        "id": "gwaXOQSus9ya"
      },
      "source": [
        "Well, the function has returned an array of 100 dimension. It means the function is working fine. Now we can use this result to get the most similar products. Let's do it."
      ]
    },
    {
      "cell_type": "code",
      "metadata": {
        "colab": {
          "base_uri": "https://localhost:8080/"
        },
        "id": "PKTVsoc3s7ZK",
        "outputId": "ec1f2e74-74bc-4035-e8f6-b01b95b35f4d"
      },
      "source": [
        "similar_products(aggregate_vectors(purchases_val[0]))"
      ],
      "execution_count": null,
      "outputs": [
        {
          "data": {
            "text/plain": [
              "[('WHITE SPOT BLUE CERAMIC DRAWER KNOB', 0.6860978603363037),\n",
              " ('RED SPOT CERAMIC DRAWER KNOB', 0.6785424947738647),\n",
              " ('BLUE STRIPE CERAMIC DRAWER KNOB', 0.6783121824264526),\n",
              " ('BLUE SPOT CERAMIC DRAWER KNOB', 0.6738985776901245),\n",
              " ('CLEAR DRAWER KNOB ACRYLIC EDWARDIAN', 0.6731897592544556),\n",
              " ('RED STRIPE CERAMIC DRAWER KNOB', 0.6667704582214355)]"
            ]
          },
          "execution_count": 25,
          "metadata": {
            "tags": []
          },
          "output_type": "execute_result"
        }
      ]
    },
    {
      "cell_type": "markdown",
      "metadata": {
        "id": "MRsPrkMotDaZ"
      },
      "source": [
        "As it turns out, our system has recommended 6 products based on the entire purchase history of a user. Moreover, if you want to get products suggestions based on the last few purchases only then also you can use the same set of functions.\n",
        "\n",
        "Below we are giving only the last 10 products purchased as input."
      ]
    },
    {
      "cell_type": "code",
      "metadata": {
        "colab": {
          "base_uri": "https://localhost:8080/"
        },
        "id": "OUqyW1-Ns_u2",
        "outputId": "c903bdf6-ac73-4a53-eaa6-8987a67cc8fb"
      },
      "source": [
        "similar_products(aggregate_vectors(purchases_val[0][-10:]))"
      ],
      "execution_count": null,
      "outputs": [
        {
          "data": {
            "text/plain": [
              "[('BLUE SPOT CERAMIC DRAWER KNOB', 0.7394766807556152),\n",
              " ('RED SPOT CERAMIC DRAWER KNOB', 0.7364704012870789),\n",
              " ('WHITE SPOT BLUE CERAMIC DRAWER KNOB', 0.7347637414932251),\n",
              " ('ASSORTED COLOUR BIRD ORNAMENT', 0.7345550060272217),\n",
              " ('RED STRIPE CERAMIC DRAWER KNOB', 0.7305896878242493),\n",
              " ('WHITE SPOT RED CERAMIC DRAWER KNOB', 0.6979628801345825)]"
            ]
          },
          "execution_count": 26,
          "metadata": {
            "tags": []
          },
          "output_type": "execute_result"
        }
      ]
    },
    {
      "cell_type": "markdown",
      "metadata": {
        "id": "59iEesnTzNHq"
      },
      "source": [
        "## References\n",
        "\n",
        "- [https://www.analyticsvidhya.com/blog/2019/07/how-to-build-recommendation-system-word2vec-python/](https://www.analyticsvidhya.com/blog/2019/07/how-to-build-recommendation-system-word2vec-python/)\n",
        "- [https://mccormickml.com/2018/06/15/applying-word2vec-to-recommenders-and-advertising/](https://mccormickml.com/2018/06/15/applying-word2vec-to-recommenders-and-advertising/)\n",
        "- [https://www.analyticsinsight.net/building-recommendation-system-using-item2vec/](https://www.analyticsinsight.net/building-recommendation-system-using-item2vec/)\n",
        "- [https://towardsdatascience.com/using-word2vec-for-music-recommendations-bb9649ac2484](https://towardsdatascience.com/using-word2vec-for-music-recommendations-bb9649ac2484)\n",
        "- [https://capablemachine.com/2020/06/23/word-embedding/](https://capablemachine.com/2020/06/23/word-embedding/)"
      ]
    }
  ]
}