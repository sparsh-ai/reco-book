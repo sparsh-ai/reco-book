{
  "nbformat": 4,
  "nbformat_minor": 0,
  "metadata": {
    "colab": {
      "name": "2021-06-10-recobook-goodreads-book-recommender.ipynb",
      "provenance": [],
      "collapsed_sections": [],
      "toc_visible": true,
      "authorship_tag": "ABX9TyMKvRFPtFCdep0fgdIpXIA+"
    },
    "kernelspec": {
      "display_name": "Python 3",
      "language": "python",
      "name": "python3"
    },
    "language_info": {
      "name": "python"
    }
  },
  "cells": [
    {
      "cell_type": "markdown",
      "metadata": {
        "id": "yH-WcJpQKox7"
      },
      "source": [
        "# Diversity Aware Book Recommender\n",
        "> A tutorial on building an amazon-like book recommender and keeping diversity as an important factor"
      ]
    },
    {
      "cell_type": "code",
      "metadata": {
        "id": "WafZxDxkKK27"
      },
      "source": [
        "import math\n",
        "import heapq\n",
        "\n",
        "import numpy as np\n",
        "import pandas as pd\n",
        "\n",
        "from sklearn.feature_extraction.text import CountVectorizer\n",
        "from sklearn.metrics.pairwise import pairwise_distances, cosine_similarity"
      ],
      "execution_count": null,
      "outputs": []
    },
    {
      "cell_type": "code",
      "metadata": {
        "id": "hOkyd4lZLGre"
      },
      "source": [
        "books_df = pd.read_csv(\"https://raw.githubusercontent.com/sparsh-ai/reco-data/master/goodreads/books.csv\", encoding=\"ISO-8859-1\")\n",
        "books_tags_df = pd.read_csv(\"https://raw.githubusercontent.com/sparsh-ai/reco-data/master/goodreads/books_tags.csv\", encoding=\"ISO-8859-1\")\n",
        "users_df = pd.read_csv(\"https://raw.githubusercontent.com/sparsh-ai/reco-data/master/goodreads/users.csv\", encoding=\"ISO-8859-1\")\n",
        "ratings_df = pd.read_csv(\"https://raw.githubusercontent.com/sparsh-ai/reco-data/master/goodreads/ratings.csv\", encoding=\"ISO-8859-1\")\n",
        "tags_df = pd.read_csv(\"https://raw.githubusercontent.com/sparsh-ai/reco-data/master/goodreads/tags.csv\", encoding=\"ISO-8859-1\")\n",
        "test_df = pd.read_csv(\"https://raw.githubusercontent.com/sparsh-ai/reco-data/master/goodreads/test.csv\", encoding=\"ISO-8859-1\")"
      ],
      "execution_count": null,
      "outputs": []
    },
    {
      "cell_type": "code",
      "metadata": {
        "colab": {
          "base_uri": "https://localhost:8080/",
          "height": 428
        },
        "id": "q0ZCy-0jMOgW",
        "outputId": "99b07cf2-ecf1-4dda-eb13-0e8f4f1ac194"
      },
      "source": [
        "books_df.head()"
      ],
      "execution_count": null,
      "outputs": [
        {
          "data": {
            "text/html": [
              "<div>\n",
              "<style scoped>\n",
              "    .dataframe tbody tr th:only-of-type {\n",
              "        vertical-align: middle;\n",
              "    }\n",
              "\n",
              "    .dataframe tbody tr th {\n",
              "        vertical-align: top;\n",
              "    }\n",
              "\n",
              "    .dataframe thead th {\n",
              "        text-align: right;\n",
              "    }\n",
              "</style>\n",
              "<table border=\"1\" class=\"dataframe\">\n",
              "  <thead>\n",
              "    <tr style=\"text-align: right;\">\n",
              "      <th></th>\n",
              "      <th>book_id</th>\n",
              "      <th>goodreads_book_id</th>\n",
              "      <th>best_book_id</th>\n",
              "      <th>work_id</th>\n",
              "      <th>books_count</th>\n",
              "      <th>isbn</th>\n",
              "      <th>isbn13</th>\n",
              "      <th>authors</th>\n",
              "      <th>original_publication_year</th>\n",
              "      <th>original_title</th>\n",
              "      <th>title</th>\n",
              "      <th>language_code</th>\n",
              "      <th>image_url</th>\n",
              "      <th>small_image_url</th>\n",
              "    </tr>\n",
              "  </thead>\n",
              "  <tbody>\n",
              "    <tr>\n",
              "      <th>0</th>\n",
              "      <td>1</td>\n",
              "      <td>2767052</td>\n",
              "      <td>2767052</td>\n",
              "      <td>2792775</td>\n",
              "      <td>272</td>\n",
              "      <td>439023483</td>\n",
              "      <td>9.780440e+12</td>\n",
              "      <td>Suzanne Collins</td>\n",
              "      <td>2008.0</td>\n",
              "      <td>The Hunger Games</td>\n",
              "      <td>The Hunger Games (The Hunger Games, #1)</td>\n",
              "      <td>eng</td>\n",
              "      <td>https://images.gr-assets.com/books/1447303603m...</td>\n",
              "      <td>https://images.gr-assets.com/books/1447303603s...</td>\n",
              "    </tr>\n",
              "    <tr>\n",
              "      <th>1</th>\n",
              "      <td>2</td>\n",
              "      <td>3</td>\n",
              "      <td>3</td>\n",
              "      <td>4640799</td>\n",
              "      <td>491</td>\n",
              "      <td>439554934</td>\n",
              "      <td>9.780440e+12</td>\n",
              "      <td>J.K. Rowling, Mary GrandPrÃÂÃÂ©</td>\n",
              "      <td>1997.0</td>\n",
              "      <td>Harry Potter and the Philosopher's Stone</td>\n",
              "      <td>Harry Potter and the Sorcerer's Stone (Harry P...</td>\n",
              "      <td>eng</td>\n",
              "      <td>https://images.gr-assets.com/books/1474154022m...</td>\n",
              "      <td>https://images.gr-assets.com/books/1474154022s...</td>\n",
              "    </tr>\n",
              "    <tr>\n",
              "      <th>2</th>\n",
              "      <td>3</td>\n",
              "      <td>41865</td>\n",
              "      <td>41865</td>\n",
              "      <td>3212258</td>\n",
              "      <td>226</td>\n",
              "      <td>316015849</td>\n",
              "      <td>9.780320e+12</td>\n",
              "      <td>Stephenie Meyer</td>\n",
              "      <td>2005.0</td>\n",
              "      <td>Twilight</td>\n",
              "      <td>Twilight (Twilight, #1)</td>\n",
              "      <td>en-US</td>\n",
              "      <td>https://images.gr-assets.com/books/1361039443m...</td>\n",
              "      <td>https://images.gr-assets.com/books/1361039443s...</td>\n",
              "    </tr>\n",
              "    <tr>\n",
              "      <th>3</th>\n",
              "      <td>4</td>\n",
              "      <td>2657</td>\n",
              "      <td>2657</td>\n",
              "      <td>3275794</td>\n",
              "      <td>487</td>\n",
              "      <td>61120081</td>\n",
              "      <td>9.780060e+12</td>\n",
              "      <td>Harper Lee</td>\n",
              "      <td>1960.0</td>\n",
              "      <td>To Kill a Mockingbird</td>\n",
              "      <td>To Kill a Mockingbird</td>\n",
              "      <td>eng</td>\n",
              "      <td>https://images.gr-assets.com/books/1361975680m...</td>\n",
              "      <td>https://images.gr-assets.com/books/1361975680s...</td>\n",
              "    </tr>\n",
              "    <tr>\n",
              "      <th>4</th>\n",
              "      <td>5</td>\n",
              "      <td>4671</td>\n",
              "      <td>4671</td>\n",
              "      <td>245494</td>\n",
              "      <td>1356</td>\n",
              "      <td>743273567</td>\n",
              "      <td>9.780740e+12</td>\n",
              "      <td>F. Scott Fitzgerald</td>\n",
              "      <td>1925.0</td>\n",
              "      <td>The Great Gatsby</td>\n",
              "      <td>The Great Gatsby</td>\n",
              "      <td>eng</td>\n",
              "      <td>https://images.gr-assets.com/books/1490528560m...</td>\n",
              "      <td>https://images.gr-assets.com/books/1490528560s...</td>\n",
              "    </tr>\n",
              "  </tbody>\n",
              "</table>\n",
              "</div>"
            ],
            "text/plain": [
              "   book_id  ...                                    small_image_url\n",
              "0        1  ...  https://images.gr-assets.com/books/1447303603s...\n",
              "1        2  ...  https://images.gr-assets.com/books/1474154022s...\n",
              "2        3  ...  https://images.gr-assets.com/books/1361039443s...\n",
              "3        4  ...  https://images.gr-assets.com/books/1361975680s...\n",
              "4        5  ...  https://images.gr-assets.com/books/1490528560s...\n",
              "\n",
              "[5 rows x 14 columns]"
            ]
          },
          "execution_count": 3,
          "metadata": {
            "tags": []
          },
          "output_type": "execute_result"
        }
      ]
    },
    {
      "cell_type": "code",
      "metadata": {
        "colab": {
          "base_uri": "https://localhost:8080/"
        },
        "id": "6SaAmNSEYyg9",
        "outputId": "23430e4c-da64-45f6-d954-1f815a50431e"
      },
      "source": [
        "books_df.columns"
      ],
      "execution_count": null,
      "outputs": [
        {
          "data": {
            "text/plain": [
              "Index(['book_id', 'goodreads_book_id', 'best_book_id', 'work_id',\n",
              "       'books_count', 'isbn', 'isbn13', 'authors', 'original_publication_year',\n",
              "       'original_title', 'title', 'language_code', 'image_url',\n",
              "       'small_image_url'],\n",
              "      dtype='object')"
            ]
          },
          "execution_count": 23,
          "metadata": {
            "tags": []
          },
          "output_type": "execute_result"
        }
      ]
    },
    {
      "cell_type": "code",
      "metadata": {
        "colab": {
          "base_uri": "https://localhost:8080/"
        },
        "id": "aeFq3hfnY38U",
        "outputId": "2e202f0e-5967-4f37-80bc-5ca03c9b1f94"
      },
      "source": [
        "books_df.info()"
      ],
      "execution_count": null,
      "outputs": [
        {
          "name": "stdout",
          "output_type": "stream",
          "text": [
            "<class 'pandas.core.frame.DataFrame'>\n",
            "RangeIndex: 5000 entries, 0 to 4999\n",
            "Data columns (total 14 columns):\n",
            " #   Column                     Non-Null Count  Dtype  \n",
            "---  ------                     --------------  -----  \n",
            " 0   book_id                    5000 non-null   int64  \n",
            " 1   goodreads_book_id          5000 non-null   int64  \n",
            " 2   best_book_id               5000 non-null   int64  \n",
            " 3   work_id                    5000 non-null   int64  \n",
            " 4   books_count                5000 non-null   int64  \n",
            " 5   isbn                       4764 non-null   object \n",
            " 6   isbn13                     4794 non-null   float64\n",
            " 7   authors                    5000 non-null   object \n",
            " 8   original_publication_year  4993 non-null   float64\n",
            " 9   original_title             4831 non-null   object \n",
            " 10  title                      5000 non-null   object \n",
            " 11  language_code              4621 non-null   object \n",
            " 12  image_url                  5000 non-null   object \n",
            " 13  small_image_url            5000 non-null   object \n",
            "dtypes: float64(2), int64(5), object(7)\n",
            "memory usage: 547.0+ KB\n"
          ]
        }
      ]
    },
    {
      "cell_type": "code",
      "metadata": {
        "colab": {
          "base_uri": "https://localhost:8080/",
          "height": 204
        },
        "id": "bShG86UoMog9",
        "outputId": "fa6b5047-eae2-42e2-c626-efbb237f1a62"
      },
      "source": [
        "books_tags_df.head()"
      ],
      "execution_count": null,
      "outputs": [
        {
          "data": {
            "text/html": [
              "<div>\n",
              "<style scoped>\n",
              "    .dataframe tbody tr th:only-of-type {\n",
              "        vertical-align: middle;\n",
              "    }\n",
              "\n",
              "    .dataframe tbody tr th {\n",
              "        vertical-align: top;\n",
              "    }\n",
              "\n",
              "    .dataframe thead th {\n",
              "        text-align: right;\n",
              "    }\n",
              "</style>\n",
              "<table border=\"1\" class=\"dataframe\">\n",
              "  <thead>\n",
              "    <tr style=\"text-align: right;\">\n",
              "      <th></th>\n",
              "      <th>goodreads_book_id</th>\n",
              "      <th>tag_id</th>\n",
              "    </tr>\n",
              "  </thead>\n",
              "  <tbody>\n",
              "    <tr>\n",
              "      <th>0</th>\n",
              "      <td>1</td>\n",
              "      <td>30574</td>\n",
              "    </tr>\n",
              "    <tr>\n",
              "      <th>1</th>\n",
              "      <td>1</td>\n",
              "      <td>11305</td>\n",
              "    </tr>\n",
              "    <tr>\n",
              "      <th>2</th>\n",
              "      <td>1</td>\n",
              "      <td>11557</td>\n",
              "    </tr>\n",
              "    <tr>\n",
              "      <th>3</th>\n",
              "      <td>1</td>\n",
              "      <td>8717</td>\n",
              "    </tr>\n",
              "    <tr>\n",
              "      <th>4</th>\n",
              "      <td>1</td>\n",
              "      <td>33114</td>\n",
              "    </tr>\n",
              "  </tbody>\n",
              "</table>\n",
              "</div>"
            ],
            "text/plain": [
              "   goodreads_book_id  tag_id\n",
              "0                  1   30574\n",
              "1                  1   11305\n",
              "2                  1   11557\n",
              "3                  1    8717\n",
              "4                  1   33114"
            ]
          },
          "execution_count": 4,
          "metadata": {
            "tags": []
          },
          "output_type": "execute_result"
        }
      ]
    },
    {
      "cell_type": "code",
      "metadata": {
        "colab": {
          "base_uri": "https://localhost:8080/",
          "height": 204
        },
        "id": "g0dpPnj9MoN1",
        "outputId": "7d831402-e55e-4263-8778-018d06ffb4be"
      },
      "source": [
        "users_df.head()"
      ],
      "execution_count": null,
      "outputs": [
        {
          "data": {
            "text/html": [
              "<div>\n",
              "<style scoped>\n",
              "    .dataframe tbody tr th:only-of-type {\n",
              "        vertical-align: middle;\n",
              "    }\n",
              "\n",
              "    .dataframe tbody tr th {\n",
              "        vertical-align: top;\n",
              "    }\n",
              "\n",
              "    .dataframe thead th {\n",
              "        text-align: right;\n",
              "    }\n",
              "</style>\n",
              "<table border=\"1\" class=\"dataframe\">\n",
              "  <thead>\n",
              "    <tr style=\"text-align: right;\">\n",
              "      <th></th>\n",
              "      <th>user_id</th>\n",
              "      <th>location</th>\n",
              "      <th>age</th>\n",
              "    </tr>\n",
              "  </thead>\n",
              "  <tbody>\n",
              "    <tr>\n",
              "      <th>0</th>\n",
              "      <td>1</td>\n",
              "      <td>North Dakota</td>\n",
              "      <td>69</td>\n",
              "    </tr>\n",
              "    <tr>\n",
              "      <th>1</th>\n",
              "      <td>2</td>\n",
              "      <td>California</td>\n",
              "      <td>24</td>\n",
              "    </tr>\n",
              "    <tr>\n",
              "      <th>2</th>\n",
              "      <td>4</td>\n",
              "      <td>Missouri</td>\n",
              "      <td>98</td>\n",
              "    </tr>\n",
              "    <tr>\n",
              "      <th>3</th>\n",
              "      <td>6</td>\n",
              "      <td>Rhode Island</td>\n",
              "      <td>66</td>\n",
              "    </tr>\n",
              "    <tr>\n",
              "      <th>4</th>\n",
              "      <td>8</td>\n",
              "      <td>Hawaii</td>\n",
              "      <td>64</td>\n",
              "    </tr>\n",
              "  </tbody>\n",
              "</table>\n",
              "</div>"
            ],
            "text/plain": [
              "   user_id      location  age\n",
              "0        1  North Dakota   69\n",
              "1        2    California   24\n",
              "2        4      Missouri   98\n",
              "3        6  Rhode Island   66\n",
              "4        8        Hawaii   64"
            ]
          },
          "execution_count": 5,
          "metadata": {
            "tags": []
          },
          "output_type": "execute_result"
        }
      ]
    },
    {
      "cell_type": "code",
      "metadata": {
        "colab": {
          "base_uri": "https://localhost:8080/",
          "height": 204
        },
        "id": "e00fRG13MoCy",
        "outputId": "66a42f46-ea16-4c39-bea1-ffdc40d4525a"
      },
      "source": [
        "ratings_df.head()"
      ],
      "execution_count": null,
      "outputs": [
        {
          "data": {
            "text/html": [
              "<div>\n",
              "<style scoped>\n",
              "    .dataframe tbody tr th:only-of-type {\n",
              "        vertical-align: middle;\n",
              "    }\n",
              "\n",
              "    .dataframe tbody tr th {\n",
              "        vertical-align: top;\n",
              "    }\n",
              "\n",
              "    .dataframe thead th {\n",
              "        text-align: right;\n",
              "    }\n",
              "</style>\n",
              "<table border=\"1\" class=\"dataframe\">\n",
              "  <thead>\n",
              "    <tr style=\"text-align: right;\">\n",
              "      <th></th>\n",
              "      <th>user_id</th>\n",
              "      <th>book_id</th>\n",
              "      <th>rating</th>\n",
              "    </tr>\n",
              "  </thead>\n",
              "  <tbody>\n",
              "    <tr>\n",
              "      <th>0</th>\n",
              "      <td>511</td>\n",
              "      <td>277</td>\n",
              "      <td>4</td>\n",
              "    </tr>\n",
              "    <tr>\n",
              "      <th>1</th>\n",
              "      <td>2766</td>\n",
              "      <td>54</td>\n",
              "      <td>5</td>\n",
              "    </tr>\n",
              "    <tr>\n",
              "      <th>2</th>\n",
              "      <td>2290</td>\n",
              "      <td>2499</td>\n",
              "      <td>2</td>\n",
              "    </tr>\n",
              "    <tr>\n",
              "      <th>3</th>\n",
              "      <td>3920</td>\n",
              "      <td>1603</td>\n",
              "      <td>5</td>\n",
              "    </tr>\n",
              "    <tr>\n",
              "      <th>4</th>\n",
              "      <td>2457</td>\n",
              "      <td>4</td>\n",
              "      <td>5</td>\n",
              "    </tr>\n",
              "  </tbody>\n",
              "</table>\n",
              "</div>"
            ],
            "text/plain": [
              "   user_id  book_id  rating\n",
              "0      511      277       4\n",
              "1     2766       54       5\n",
              "2     2290     2499       2\n",
              "3     3920     1603       5\n",
              "4     2457        4       5"
            ]
          },
          "execution_count": 6,
          "metadata": {
            "tags": []
          },
          "output_type": "execute_result"
        }
      ]
    },
    {
      "cell_type": "code",
      "metadata": {
        "colab": {
          "base_uri": "https://localhost:8080/",
          "height": 204
        },
        "id": "pCxaDwXOMnRY",
        "outputId": "a3125d83-05ff-4348-d951-2bc33aeda18d"
      },
      "source": [
        "tags_df.head()"
      ],
      "execution_count": null,
      "outputs": [
        {
          "data": {
            "text/html": [
              "<div>\n",
              "<style scoped>\n",
              "    .dataframe tbody tr th:only-of-type {\n",
              "        vertical-align: middle;\n",
              "    }\n",
              "\n",
              "    .dataframe tbody tr th {\n",
              "        vertical-align: top;\n",
              "    }\n",
              "\n",
              "    .dataframe thead th {\n",
              "        text-align: right;\n",
              "    }\n",
              "</style>\n",
              "<table border=\"1\" class=\"dataframe\">\n",
              "  <thead>\n",
              "    <tr style=\"text-align: right;\">\n",
              "      <th></th>\n",
              "      <th>tag_id</th>\n",
              "      <th>tag_name</th>\n",
              "    </tr>\n",
              "  </thead>\n",
              "  <tbody>\n",
              "    <tr>\n",
              "      <th>0</th>\n",
              "      <td>0</td>\n",
              "      <td>-</td>\n",
              "    </tr>\n",
              "    <tr>\n",
              "      <th>1</th>\n",
              "      <td>1</td>\n",
              "      <td>--1-</td>\n",
              "    </tr>\n",
              "    <tr>\n",
              "      <th>2</th>\n",
              "      <td>2</td>\n",
              "      <td>--10-</td>\n",
              "    </tr>\n",
              "    <tr>\n",
              "      <th>3</th>\n",
              "      <td>3</td>\n",
              "      <td>--12-</td>\n",
              "    </tr>\n",
              "    <tr>\n",
              "      <th>4</th>\n",
              "      <td>4</td>\n",
              "      <td>--122-</td>\n",
              "    </tr>\n",
              "  </tbody>\n",
              "</table>\n",
              "</div>"
            ],
            "text/plain": [
              "   tag_id tag_name\n",
              "0       0        -\n",
              "1       1     --1-\n",
              "2       2    --10-\n",
              "3       3    --12-\n",
              "4       4   --122-"
            ]
          },
          "execution_count": 7,
          "metadata": {
            "tags": []
          },
          "output_type": "execute_result"
        }
      ]
    },
    {
      "cell_type": "code",
      "metadata": {
        "colab": {
          "base_uri": "https://localhost:8080/",
          "height": 204
        },
        "id": "8imx2ekDMvJa",
        "outputId": "05165568-a222-4c65-9d8c-811bed89a781"
      },
      "source": [
        "test_df.head()"
      ],
      "execution_count": null,
      "outputs": [
        {
          "data": {
            "text/html": [
              "<div>\n",
              "<style scoped>\n",
              "    .dataframe tbody tr th:only-of-type {\n",
              "        vertical-align: middle;\n",
              "    }\n",
              "\n",
              "    .dataframe tbody tr th {\n",
              "        vertical-align: top;\n",
              "    }\n",
              "\n",
              "    .dataframe thead th {\n",
              "        text-align: right;\n",
              "    }\n",
              "</style>\n",
              "<table border=\"1\" class=\"dataframe\">\n",
              "  <thead>\n",
              "    <tr style=\"text-align: right;\">\n",
              "      <th></th>\n",
              "      <th>user_id</th>\n",
              "      <th>book_id</th>\n",
              "      <th>rating</th>\n",
              "    </tr>\n",
              "  </thead>\n",
              "  <tbody>\n",
              "    <tr>\n",
              "      <th>0</th>\n",
              "      <td>2558</td>\n",
              "      <td>1660</td>\n",
              "      <td>4</td>\n",
              "    </tr>\n",
              "    <tr>\n",
              "      <th>1</th>\n",
              "      <td>2694</td>\n",
              "      <td>1738</td>\n",
              "      <td>5</td>\n",
              "    </tr>\n",
              "    <tr>\n",
              "      <th>2</th>\n",
              "      <td>135</td>\n",
              "      <td>565</td>\n",
              "      <td>3</td>\n",
              "    </tr>\n",
              "    <tr>\n",
              "      <th>3</th>\n",
              "      <td>1074</td>\n",
              "      <td>337</td>\n",
              "      <td>5</td>\n",
              "    </tr>\n",
              "    <tr>\n",
              "      <th>4</th>\n",
              "      <td>727</td>\n",
              "      <td>4394</td>\n",
              "      <td>4</td>\n",
              "    </tr>\n",
              "  </tbody>\n",
              "</table>\n",
              "</div>"
            ],
            "text/plain": [
              "   user_id  book_id  rating\n",
              "0     2558     1660       4\n",
              "1     2694     1738       5\n",
              "2      135      565       3\n",
              "3     1074      337       5\n",
              "4      727     4394       4"
            ]
          },
          "execution_count": 8,
          "metadata": {
            "tags": []
          },
          "output_type": "execute_result"
        }
      ]
    },
    {
      "cell_type": "code",
      "metadata": {
        "colab": {
          "base_uri": "https://localhost:8080/",
          "height": 204
        },
        "id": "S0NoZqP3L-bA",
        "outputId": "0c988ab2-e625-4ec1-fb9e-ff219197d2d2"
      },
      "source": [
        "b_r_u_df = pd.merge(books_df[['book_id', 'title']], ratings_df, on='book_id', how='inner')\n",
        "b_r_u_df = pd.merge(b_r_u_df, users_df, on='user_id', how='inner')\n",
        "items_df = b_r_u_df[['book_id', 'title']].drop_duplicates(subset='book_id')\n",
        "items_df.head()"
      ],
      "execution_count": null,
      "outputs": [
        {
          "data": {
            "text/html": [
              "<div>\n",
              "<style scoped>\n",
              "    .dataframe tbody tr th:only-of-type {\n",
              "        vertical-align: middle;\n",
              "    }\n",
              "\n",
              "    .dataframe tbody tr th {\n",
              "        vertical-align: top;\n",
              "    }\n",
              "\n",
              "    .dataframe thead th {\n",
              "        text-align: right;\n",
              "    }\n",
              "</style>\n",
              "<table border=\"1\" class=\"dataframe\">\n",
              "  <thead>\n",
              "    <tr style=\"text-align: right;\">\n",
              "      <th></th>\n",
              "      <th>book_id</th>\n",
              "      <th>title</th>\n",
              "    </tr>\n",
              "  </thead>\n",
              "  <tbody>\n",
              "    <tr>\n",
              "      <th>0</th>\n",
              "      <td>1</td>\n",
              "      <td>The Hunger Games (The Hunger Games, #1)</td>\n",
              "    </tr>\n",
              "    <tr>\n",
              "      <th>1</th>\n",
              "      <td>4</td>\n",
              "      <td>To Kill a Mockingbird</td>\n",
              "    </tr>\n",
              "    <tr>\n",
              "      <th>2</th>\n",
              "      <td>5</td>\n",
              "      <td>The Great Gatsby</td>\n",
              "    </tr>\n",
              "    <tr>\n",
              "      <th>3</th>\n",
              "      <td>8</td>\n",
              "      <td>The Catcher in the Rye</td>\n",
              "    </tr>\n",
              "    <tr>\n",
              "      <th>4</th>\n",
              "      <td>17</td>\n",
              "      <td>Catching Fire (The Hunger Games, #2)</td>\n",
              "    </tr>\n",
              "  </tbody>\n",
              "</table>\n",
              "</div>"
            ],
            "text/plain": [
              "   book_id                                    title\n",
              "0        1  The Hunger Games (The Hunger Games, #1)\n",
              "1        4                    To Kill a Mockingbird\n",
              "2        5                         The Great Gatsby\n",
              "3        8                   The Catcher in the Rye\n",
              "4       17     Catching Fire (The Hunger Games, #2)"
            ]
          },
          "execution_count": 9,
          "metadata": {
            "tags": []
          },
          "output_type": "execute_result"
        }
      ]
    },
    {
      "cell_type": "markdown",
      "metadata": {
        "id": "doeC66SkRRRD"
      },
      "source": [
        "## Util functions"
      ]
    },
    {
      "cell_type": "code",
      "metadata": {
        "id": "PhHNANjcNCS4"
      },
      "source": [
        "# Score for each book\n",
        "def weighted_average_rating(counts_df, m, rating_mean_df, rating_all_mean):\n",
        "    return (counts_df / (counts_df + m)) * rating_mean_df + (m / (counts_df + m)) * rating_all_mean\n",
        "\n",
        "\n",
        "# To get the top k recommendations, the k books with the best score\n",
        "def get_top_k_recommendations(df, counts_df, k, columns, m):\n",
        "    return df[counts_df >= m].nlargest(k, columns)\n",
        "\n",
        "\n",
        "# Get the top k recommendations: the k books with the best weighted average rating\n",
        "def calculate_WAR_and_top_k(df, m, rating_all_mean, k, columns):\n",
        "    df['weighted_average_rating'] = weighted_average_rating(df['counts'], m, df['rating_mean'], rating_all_mean)\n",
        "    return get_top_k_recommendations(df, df['counts'], k, columns, m)\n",
        "\n",
        "\n",
        "# Gets a number and creates the range of ages as required in the task\n",
        "def get_age_range(age):\n",
        "    if age % 10 == 0:\n",
        "        age -= 1\n",
        "    lower_bound = age - ((age % 10) - 1)\n",
        "    upper_bound = age + (10 - (age % 10))\n",
        "    return lower_bound, upper_bound\n",
        "\n",
        "\n",
        "# Creates distribution of votes and ratings by book id and returns them\n",
        "def merge_tables(df):\n",
        "    # Dataframe that contains distribution of votes by book ID\n",
        "    nb_voters_data = df['book_id'].value_counts()\n",
        "    nb_voters_df = pd.DataFrame(data={'book_id': nb_voters_data.index.tolist(), 'counts': nb_voters_data.values.tolist()})\n",
        "\n",
        "    # Dataframe that contains distribution of rate averages by book ID\n",
        "    rating_mean_data = df.groupby(['book_id'])['rating'].mean()\n",
        "    rating_mean_df = pd.DataFrame(data={'book_id': rating_mean_data.index.tolist(), 'rating_mean': rating_mean_data.values.tolist()})\n",
        "    \n",
        "    return nb_voters_df, nb_voters_data, rating_mean_df, rating_mean_data\n",
        "\n",
        "\n",
        "# m represents the minimum voters we need to count the rating and the score\n",
        "# We'll also need the total mean to caluculate the score (WR)\n",
        "def get_voters_and_means(nb_voters_data, rating_mean_df):\n",
        "    m = nb_voters_data.quantile(0.90)\n",
        "    rating_all_mean = rating_mean_df['rating_mean'].mean()\n",
        "    return m, rating_all_mean"
      ],
      "execution_count": null,
      "outputs": []
    },
    {
      "cell_type": "markdown",
      "metadata": {
        "id": "GWBsBlhyRUy4"
      },
      "source": [
        "## Non-personalized recommendations"
      ]
    },
    {
      "cell_type": "code",
      "metadata": {
        "colab": {
          "base_uri": "https://localhost:8080/",
          "height": 359
        },
        "id": "90UPDNr5OJde",
        "outputId": "e3242afe-caab-4c12-9d84-d91ca6f13ecc"
      },
      "source": [
        "# Calculate the WAR and get the k books with the best results\n",
        "def get_simply_recommendation(k):\n",
        "\n",
        "    nb_voters_df, nb_voters_data, rating_mean_df, rating_mean_data = merge_tables(b_r_u_df)\n",
        "    m, rating_all_mean = get_voters_and_means(nb_voters_data, rating_mean_df)\n",
        "    \n",
        "    df = pd.merge(items_df, nb_voters_df, on='book_id', how='inner')\n",
        "    df = pd.merge(df, rating_mean_df, on='book_id', how='inner')\n",
        "\n",
        "    return calculate_WAR_and_top_k(df, m, rating_all_mean, k, ['weighted_average_rating'])\n",
        "\n",
        "\n",
        "recommendation_df = get_simply_recommendation(10)\n",
        "recommendation_df[['book_id','title','weighted_average_rating']].head(10)"
      ],
      "execution_count": null,
      "outputs": [
        {
          "data": {
            "text/html": [
              "<div>\n",
              "<style scoped>\n",
              "    .dataframe tbody tr th:only-of-type {\n",
              "        vertical-align: middle;\n",
              "    }\n",
              "\n",
              "    .dataframe tbody tr th {\n",
              "        vertical-align: top;\n",
              "    }\n",
              "\n",
              "    .dataframe thead th {\n",
              "        text-align: right;\n",
              "    }\n",
              "</style>\n",
              "<table border=\"1\" class=\"dataframe\">\n",
              "  <thead>\n",
              "    <tr style=\"text-align: right;\">\n",
              "      <th></th>\n",
              "      <th>book_id</th>\n",
              "      <th>title</th>\n",
              "      <th>weighted_average_rating</th>\n",
              "    </tr>\n",
              "  </thead>\n",
              "  <tbody>\n",
              "    <tr>\n",
              "      <th>504</th>\n",
              "      <td>25</td>\n",
              "      <td>Harry Potter and the Deathly Hallows (Harry Po...</td>\n",
              "      <td>4.338028</td>\n",
              "    </tr>\n",
              "    <tr>\n",
              "      <th>1</th>\n",
              "      <td>4</td>\n",
              "      <td>To Kill a Mockingbird</td>\n",
              "      <td>4.299843</td>\n",
              "    </tr>\n",
              "    <tr>\n",
              "      <th>506</th>\n",
              "      <td>102</td>\n",
              "      <td>Where the Wild Things Are</td>\n",
              "      <td>4.273212</td>\n",
              "    </tr>\n",
              "    <tr>\n",
              "      <th>370</th>\n",
              "      <td>85</td>\n",
              "      <td>The Giving Tree</td>\n",
              "      <td>4.240309</td>\n",
              "    </tr>\n",
              "    <tr>\n",
              "      <th>364</th>\n",
              "      <td>50</td>\n",
              "      <td>Where the Sidewalk Ends</td>\n",
              "      <td>4.239724</td>\n",
              "    </tr>\n",
              "    <tr>\n",
              "      <th>8</th>\n",
              "      <td>31</td>\n",
              "      <td>The Help</td>\n",
              "      <td>4.238851</td>\n",
              "    </tr>\n",
              "    <tr>\n",
              "      <th>425</th>\n",
              "      <td>144</td>\n",
              "      <td>Unbroken: A World War II Story of Survival, Re...</td>\n",
              "      <td>4.221864</td>\n",
              "    </tr>\n",
              "    <tr>\n",
              "      <th>212</th>\n",
              "      <td>27</td>\n",
              "      <td>Harry Potter and the Half-Blood Prince (Harry ...</td>\n",
              "      <td>4.213906</td>\n",
              "    </tr>\n",
              "    <tr>\n",
              "      <th>0</th>\n",
              "      <td>1</td>\n",
              "      <td>The Hunger Games (The Hunger Games, #1)</td>\n",
              "      <td>4.187383</td>\n",
              "    </tr>\n",
              "    <tr>\n",
              "      <th>663</th>\n",
              "      <td>133</td>\n",
              "      <td>Anne of Green Gables (Anne of Green Gables, #1)</td>\n",
              "      <td>4.181489</td>\n",
              "    </tr>\n",
              "  </tbody>\n",
              "</table>\n",
              "</div>"
            ],
            "text/plain": [
              "     book_id  ... weighted_average_rating\n",
              "504       25  ...                4.338028\n",
              "1          4  ...                4.299843\n",
              "506      102  ...                4.273212\n",
              "370       85  ...                4.240309\n",
              "364       50  ...                4.239724\n",
              "8         31  ...                4.238851\n",
              "425      144  ...                4.221864\n",
              "212       27  ...                4.213906\n",
              "0          1  ...                4.187383\n",
              "663      133  ...                4.181489\n",
              "\n",
              "[10 rows x 3 columns]"
            ]
          },
          "execution_count": 11,
          "metadata": {
            "tags": []
          },
          "output_type": "execute_result"
        }
      ]
    },
    {
      "cell_type": "code",
      "metadata": {
        "colab": {
          "base_uri": "https://localhost:8080/",
          "height": 359
        },
        "id": "YaRGlLDCOmZz",
        "outputId": "6a668723-5265-4131-eed2-bbe7d1c314ab"
      },
      "source": [
        "# Calculate the WAR and get the k best books by a place\n",
        "def get_simply_place_recommendation(place, k):\n",
        "    global b_r_u_df\n",
        "    \n",
        "    b_r_u_place_df = b_r_u_df[b_r_u_df['location'] == place]\n",
        "    \n",
        "    nb_voters_df, nb_voters_data, rating_mean_df, rating_mean_data = merge_tables(b_r_u_place_df)\n",
        "    m, rating_all_mean = get_voters_and_means(nb_voters_data, rating_mean_df)\n",
        "    \n",
        "    df = pd.merge(items_df, nb_voters_df, on='book_id', how='inner')\n",
        "    df = pd.merge(df, rating_mean_df, on='book_id', how='inner')\n",
        "\n",
        "    return calculate_WAR_and_top_k(df, m, rating_all_mean, k, ['weighted_average_rating'])\n",
        "\n",
        "\n",
        "place_recommendation_df = get_simply_place_recommendation('Ohio', 10)\n",
        "place_recommendation_df[['book_id','title','weighted_average_rating']].head(10)"
      ],
      "execution_count": null,
      "outputs": [
        {
          "data": {
            "text/html": [
              "<div>\n",
              "<style scoped>\n",
              "    .dataframe tbody tr th:only-of-type {\n",
              "        vertical-align: middle;\n",
              "    }\n",
              "\n",
              "    .dataframe tbody tr th {\n",
              "        vertical-align: top;\n",
              "    }\n",
              "\n",
              "    .dataframe thead th {\n",
              "        text-align: right;\n",
              "    }\n",
              "</style>\n",
              "<table border=\"1\" class=\"dataframe\">\n",
              "  <thead>\n",
              "    <tr style=\"text-align: right;\">\n",
              "      <th></th>\n",
              "      <th>book_id</th>\n",
              "      <th>title</th>\n",
              "      <th>weighted_average_rating</th>\n",
              "    </tr>\n",
              "  </thead>\n",
              "  <tbody>\n",
              "    <tr>\n",
              "      <th>310</th>\n",
              "      <td>126</td>\n",
              "      <td>Dune (Dune Chronicles #1)</td>\n",
              "      <td>4.367963</td>\n",
              "    </tr>\n",
              "    <tr>\n",
              "      <th>602</th>\n",
              "      <td>143</td>\n",
              "      <td>All the Light We Cannot See</td>\n",
              "      <td>4.317786</td>\n",
              "    </tr>\n",
              "    <tr>\n",
              "      <th>356</th>\n",
              "      <td>144</td>\n",
              "      <td>Unbroken: A World War II Story of Survival, Re...</td>\n",
              "      <td>4.266087</td>\n",
              "    </tr>\n",
              "    <tr>\n",
              "      <th>190</th>\n",
              "      <td>24</td>\n",
              "      <td>Harry Potter and the Goblet of Fire (Harry Pot...</td>\n",
              "      <td>4.249728</td>\n",
              "    </tr>\n",
              "    <tr>\n",
              "      <th>424</th>\n",
              "      <td>102</td>\n",
              "      <td>Where the Wild Things Are</td>\n",
              "      <td>4.226877</td>\n",
              "    </tr>\n",
              "    <tr>\n",
              "      <th>889</th>\n",
              "      <td>490</td>\n",
              "      <td>Maus I: A Survivor's Tale: My Father Bleeds Hi...</td>\n",
              "      <td>4.213664</td>\n",
              "    </tr>\n",
              "    <tr>\n",
              "      <th>1191</th>\n",
              "      <td>1462</td>\n",
              "      <td>The Orphan Master's Son</td>\n",
              "      <td>4.213664</td>\n",
              "    </tr>\n",
              "    <tr>\n",
              "      <th>1554</th>\n",
              "      <td>983</td>\n",
              "      <td>Between the World and Me</td>\n",
              "      <td>4.213664</td>\n",
              "    </tr>\n",
              "    <tr>\n",
              "      <th>884</th>\n",
              "      <td>119</td>\n",
              "      <td>The Handmaid's Tale</td>\n",
              "      <td>4.199565</td>\n",
              "    </tr>\n",
              "    <tr>\n",
              "      <th>800</th>\n",
              "      <td>89</td>\n",
              "      <td>The Princess Bride</td>\n",
              "      <td>4.190062</td>\n",
              "    </tr>\n",
              "  </tbody>\n",
              "</table>\n",
              "</div>"
            ],
            "text/plain": [
              "      book_id  ... weighted_average_rating\n",
              "310       126  ...                4.367963\n",
              "602       143  ...                4.317786\n",
              "356       144  ...                4.266087\n",
              "190        24  ...                4.249728\n",
              "424       102  ...                4.226877\n",
              "889       490  ...                4.213664\n",
              "1191     1462  ...                4.213664\n",
              "1554      983  ...                4.213664\n",
              "884       119  ...                4.199565\n",
              "800        89  ...                4.190062\n",
              "\n",
              "[10 rows x 3 columns]"
            ]
          },
          "execution_count": 12,
          "metadata": {
            "tags": []
          },
          "output_type": "execute_result"
        }
      ]
    },
    {
      "cell_type": "code",
      "metadata": {
        "colab": {
          "base_uri": "https://localhost:8080/",
          "height": 359
        },
        "id": "ApwrZaisOvPe",
        "outputId": "06b7c576-5aa4-44f7-e8ee-d8a626ac6a77"
      },
      "source": [
        "# Calculate the WAR and get the k best books by a range of ages\n",
        "def get_simply_age_recommendation(age, k):\n",
        "    global b_r_u_df\n",
        "    \n",
        "    lower_bound, upper_bound = get_age_range(age)\n",
        "    b_r_u_age_df = b_r_u_df[(b_r_u_df['age'] >= lower_bound) & (b_r_u_df['age'] <= upper_bound)]\n",
        "    \n",
        "    nb_voters_df, nb_voters_data, rating_mean_df, rating_mean_data = merge_tables(b_r_u_age_df)\n",
        "    m, rating_all_mean = get_voters_and_means(nb_voters_data, rating_mean_df)\n",
        "    \n",
        "    df = pd.merge(items_df, nb_voters_df, on='book_id', how='inner')\n",
        "    df = pd.merge(df, rating_mean_df, on='book_id', how='inner')\n",
        "\n",
        "    return calculate_WAR_and_top_k(df, m, rating_all_mean, k, ['weighted_average_rating'])\n",
        "\n",
        "\n",
        "age_recommendation_df = get_simply_age_recommendation(28, 10)\n",
        "age_recommendation_df[['book_id','title','weighted_average_rating']].head(10)"
      ],
      "execution_count": null,
      "outputs": [
        {
          "data": {
            "text/html": [
              "<div>\n",
              "<style scoped>\n",
              "    .dataframe tbody tr th:only-of-type {\n",
              "        vertical-align: middle;\n",
              "    }\n",
              "\n",
              "    .dataframe tbody tr th {\n",
              "        vertical-align: top;\n",
              "    }\n",
              "\n",
              "    .dataframe thead th {\n",
              "        text-align: right;\n",
              "    }\n",
              "</style>\n",
              "<table border=\"1\" class=\"dataframe\">\n",
              "  <thead>\n",
              "    <tr style=\"text-align: right;\">\n",
              "      <th></th>\n",
              "      <th>book_id</th>\n",
              "      <th>title</th>\n",
              "      <th>weighted_average_rating</th>\n",
              "    </tr>\n",
              "  </thead>\n",
              "  <tbody>\n",
              "    <tr>\n",
              "      <th>502</th>\n",
              "      <td>25</td>\n",
              "      <td>Harry Potter and the Deathly Hallows (Harry Po...</td>\n",
              "      <td>4.326251</td>\n",
              "    </tr>\n",
              "    <tr>\n",
              "      <th>1</th>\n",
              "      <td>4</td>\n",
              "      <td>To Kill a Mockingbird</td>\n",
              "      <td>4.294203</td>\n",
              "    </tr>\n",
              "    <tr>\n",
              "      <th>368</th>\n",
              "      <td>85</td>\n",
              "      <td>The Giving Tree</td>\n",
              "      <td>4.289614</td>\n",
              "    </tr>\n",
              "    <tr>\n",
              "      <th>948</th>\n",
              "      <td>89</td>\n",
              "      <td>The Princess Bride</td>\n",
              "      <td>4.244702</td>\n",
              "    </tr>\n",
              "    <tr>\n",
              "      <th>659</th>\n",
              "      <td>133</td>\n",
              "      <td>Anne of Green Gables (Anne of Green Gables, #1)</td>\n",
              "      <td>4.224914</td>\n",
              "    </tr>\n",
              "    <tr>\n",
              "      <th>362</th>\n",
              "      <td>50</td>\n",
              "      <td>Where the Sidewalk Ends</td>\n",
              "      <td>4.216411</td>\n",
              "    </tr>\n",
              "    <tr>\n",
              "      <th>504</th>\n",
              "      <td>102</td>\n",
              "      <td>Where the Wild Things Are</td>\n",
              "      <td>4.204680</td>\n",
              "    </tr>\n",
              "    <tr>\n",
              "      <th>418</th>\n",
              "      <td>70</td>\n",
              "      <td>Ender's Game (Ender's Saga, #1)</td>\n",
              "      <td>4.204095</td>\n",
              "    </tr>\n",
              "    <tr>\n",
              "      <th>8</th>\n",
              "      <td>31</td>\n",
              "      <td>The Help</td>\n",
              "      <td>4.202891</td>\n",
              "    </tr>\n",
              "    <tr>\n",
              "      <th>209</th>\n",
              "      <td>21</td>\n",
              "      <td>Harry Potter and the Order of the Phoenix (Har...</td>\n",
              "      <td>4.196385</td>\n",
              "    </tr>\n",
              "  </tbody>\n",
              "</table>\n",
              "</div>"
            ],
            "text/plain": [
              "     book_id  ... weighted_average_rating\n",
              "502       25  ...                4.326251\n",
              "1          4  ...                4.294203\n",
              "368       85  ...                4.289614\n",
              "948       89  ...                4.244702\n",
              "659      133  ...                4.224914\n",
              "362       50  ...                4.216411\n",
              "504      102  ...                4.204680\n",
              "418       70  ...                4.204095\n",
              "8         31  ...                4.202891\n",
              "209       21  ...                4.196385\n",
              "\n",
              "[10 rows x 3 columns]"
            ]
          },
          "execution_count": 13,
          "metadata": {
            "tags": []
          },
          "output_type": "execute_result"
        }
      ]
    },
    {
      "cell_type": "markdown",
      "metadata": {
        "id": "LRMn2824RYgj"
      },
      "source": [
        "## Collaborative filtering"
      ]
    },
    {
      "cell_type": "code",
      "metadata": {
        "id": "RQM0lI8NO01_"
      },
      "source": [
        "# Get top K values from given array\n",
        "def keep_top_k(array, k):\n",
        "    smallest = heapq.nlargest(k, array)[-1]\n",
        "    array[array < smallest] = 0\n",
        "    return array\n",
        "\n",
        "\n",
        "# Similirity matrix according to the chosen similarity\n",
        "def build_CF_prediction_matrix(sim):\n",
        "    global ratings_diff\n",
        "    return 1-pairwise_distances(ratings_diff, metric=sim)\n",
        "\n",
        "\n",
        "# Function that extracts user recommendations\n",
        "# Gets the highest rates indexes and returns book id and the title for that user\n",
        "def get_CF_final_output(pred, data_matrix, user_id, items_new_to_original, items, k):\n",
        "    user_id = user_id - 1\n",
        "    predicted_ratings_row = pred[user_id]\n",
        "    data_matrix_row = data_matrix[user_id]\n",
        "    \n",
        "    predicted_ratings_unrated = predicted_ratings_row.copy()\n",
        "    predicted_ratings_unrated[~np.isnan(data_matrix_row)] = 0\n",
        "\n",
        "    idx = np.argsort(-predicted_ratings_unrated)\n",
        "    sim_scores = idx[0:k]\n",
        "    \n",
        "    # When getting the results, we map them back to original book ids\n",
        "    books_original_indexes_df = pd.DataFrame(data={'book_id': [items_new_to_original[index] for index in sim_scores]})\n",
        "    return pd.merge(books_original_indexes_df, items, on='book_id', how='inner')"
      ],
      "execution_count": null,
      "outputs": []
    },
    {
      "cell_type": "code",
      "metadata": {
        "id": "yJBv6OOwRuF9"
      },
      "source": [
        "# Get the collaborative filtering recommendation according to the user\n",
        "def get_CF_recommendation(user_id, k):\n",
        "    # Import global variables\n",
        "    global ratings_df\n",
        "    global items_df\n",
        "\n",
        "    # Declare of global variables\n",
        "    global users_original_to_new\n",
        "    global users_new_to_original\n",
        "    global items_original_to_new\n",
        "    global items_new_to_original\n",
        "    global data_matrix\n",
        "    global mean_user_rating\n",
        "\n",
        "    # Part 1\n",
        "    unique_users = ratings_df['user_id'].unique()\n",
        "    unique_items = ratings_df['book_id'].unique()\n",
        "    n_users = unique_users.shape[0]\n",
        "    n_items = unique_items.shape[0]\n",
        "\n",
        "    # Working on user data\n",
        "    unique_users.sort()\n",
        "    # Creating a dictionary that contains a mapping from original user id to a new user id\n",
        "    users_original_to_new = {original_index: new_index for original_index, new_index in zip(unique_users, range(n_users))}\n",
        "    # Creating a dictionary that contains a mapping from new user id to a original user id\n",
        "    users_new_to_original = {value: key for key, value in users_original_to_new.items()}\n",
        "\n",
        "    # Working on items data\n",
        "    unique_items.sort()\n",
        "    # Creating a dictionary that contains a mapping from original book id to a new book id\n",
        "    items_original_to_new = {original_index: new_index for original_index, new_index in zip(unique_items, range(n_items))}\n",
        "    # Creating a dictionary that contains a mapping from new book id to a original book id\n",
        "    items_new_to_original = {value: key for key, value in items_original_to_new.items()}\n",
        "\n",
        "    # Part 2\n",
        "    data_matrix = np.empty((n_users, n_items))\n",
        "    data_matrix[:] = np.nan\n",
        "    for line in ratings_df.itertuples():\n",
        "        user = users_original_to_new[line[1]]\n",
        "        book = items_original_to_new[line[2]]\n",
        "        rating = line[3]\n",
        "        data_matrix[user, book] = rating\n",
        "\n",
        "    mean_user_rating = np.nanmean(data_matrix, axis=1).reshape(-1, 1)\n",
        "\n",
        "    global ratings_diff\n",
        "    ratings_diff = (data_matrix - mean_user_rating)\n",
        "    ratings_diff[np.isnan(ratings_diff)] = 0\n",
        "\n",
        "    user_similarity = build_CF_prediction_matrix('cosine')\n",
        "    user_similarity = np.array([keep_top_k(np.array(arr), k) for arr in user_similarity])\n",
        "    pred = mean_user_rating + user_similarity.dot(ratings_diff) / np.array([np.abs(user_similarity).sum(axis=1)]).T\n",
        "\n",
        "    # Part 3\n",
        "    return get_CF_final_output(pred, data_matrix, user_id, items_new_to_original, items_df, k)"
      ],
      "execution_count": null,
      "outputs": []
    },
    {
      "cell_type": "code",
      "metadata": {
        "colab": {
          "base_uri": "https://localhost:8080/",
          "height": 359
        },
        "id": "0eKgqb_6R6HQ",
        "outputId": "cd194361-dd6e-46a3-9e41-def63f1094de"
      },
      "source": [
        "recommendations_by_user = get_CF_recommendation(user_id=1, k=10)\n",
        "recommendations_by_user.head(10)"
      ],
      "execution_count": null,
      "outputs": [
        {
          "data": {
            "text/html": [
              "<div>\n",
              "<style scoped>\n",
              "    .dataframe tbody tr th:only-of-type {\n",
              "        vertical-align: middle;\n",
              "    }\n",
              "\n",
              "    .dataframe tbody tr th {\n",
              "        vertical-align: top;\n",
              "    }\n",
              "\n",
              "    .dataframe thead th {\n",
              "        text-align: right;\n",
              "    }\n",
              "</style>\n",
              "<table border=\"1\" class=\"dataframe\">\n",
              "  <thead>\n",
              "    <tr style=\"text-align: right;\">\n",
              "      <th></th>\n",
              "      <th>book_id</th>\n",
              "      <th>title</th>\n",
              "    </tr>\n",
              "  </thead>\n",
              "  <tbody>\n",
              "    <tr>\n",
              "      <th>0</th>\n",
              "      <td>101</td>\n",
              "      <td>Me Talk Pretty One Day</td>\n",
              "    </tr>\n",
              "    <tr>\n",
              "      <th>1</th>\n",
              "      <td>775</td>\n",
              "      <td>Just Kids</td>\n",
              "    </tr>\n",
              "    <tr>\n",
              "      <th>2</th>\n",
              "      <td>264</td>\n",
              "      <td>The Sun Also Rises</td>\n",
              "    </tr>\n",
              "    <tr>\n",
              "      <th>3</th>\n",
              "      <td>289</td>\n",
              "      <td>Watership Down (Watership Down, #1)</td>\n",
              "    </tr>\n",
              "    <tr>\n",
              "      <th>4</th>\n",
              "      <td>335</td>\n",
              "      <td>James and the Giant Peach</td>\n",
              "    </tr>\n",
              "    <tr>\n",
              "      <th>5</th>\n",
              "      <td>1084</td>\n",
              "      <td>To the Lighthouse</td>\n",
              "    </tr>\n",
              "    <tr>\n",
              "      <th>6</th>\n",
              "      <td>468</td>\n",
              "      <td>Their Eyes Were Watching God</td>\n",
              "    </tr>\n",
              "    <tr>\n",
              "      <th>7</th>\n",
              "      <td>184</td>\n",
              "      <td>Matilda</td>\n",
              "    </tr>\n",
              "    <tr>\n",
              "      <th>8</th>\n",
              "      <td>83</td>\n",
              "      <td>A Tale of Two Cities</td>\n",
              "    </tr>\n",
              "    <tr>\n",
              "      <th>9</th>\n",
              "      <td>344</td>\n",
              "      <td>Naked</td>\n",
              "    </tr>\n",
              "  </tbody>\n",
              "</table>\n",
              "</div>"
            ],
            "text/plain": [
              "   book_id                                title\n",
              "0      101               Me Talk Pretty One Day\n",
              "1      775                            Just Kids\n",
              "2      264                   The Sun Also Rises\n",
              "3      289  Watership Down (Watership Down, #1)\n",
              "4      335            James and the Giant Peach\n",
              "5     1084                    To the Lighthouse\n",
              "6      468         Their Eyes Were Watching God\n",
              "7      184                              Matilda\n",
              "8       83                 A Tale of Two Cities\n",
              "9      344                                Naked"
            ]
          },
          "execution_count": 16,
          "metadata": {
            "tags": []
          },
          "output_type": "execute_result"
        }
      ]
    },
    {
      "cell_type": "markdown",
      "metadata": {
        "id": "cpy4KaJKSJk_"
      },
      "source": [
        "## Content-based filtering"
      ]
    },
    {
      "cell_type": "markdown",
      "metadata": {
        "id": "LfHfZc3WW7Gl"
      },
      "source": [
        "The features we used to work with are: language, tags, original title and authors.\n",
        "\n",
        "We tried different features to choose the best ones. It seems logical that if we want a recommendation for Twilight or Harry Potter, or The Hunger Games, it will recommend us the other books of the Saga. That’s why the title’s book is important.\n",
        "\n",
        "Moreover, usually, every author has its own writing style. We can see it through their different books. And if I liked a book of an author, I would like to get recommendations for its other books.\n",
        "\n",
        "Language has also its logical impact. The way it’s been written, the language the lector speaks and language can also mean culture. French books are different from American books.\n",
        "\n",
        "Tags give us some hints about the books: like the genre. It’s also important for the recommendation. We also tried with the publication year but it adds noises. It limits us. The year is taken as a string, so it’s either equal or different. That is not what we want."
      ]
    },
    {
      "cell_type": "code",
      "metadata": {
        "id": "BUap3tjhR9pW"
      },
      "source": [
        "# Preparing the dataframe for the algorithm\n",
        "# Reading the tags and the relevant features and preparing the features for the algorithm\n",
        "bookreads_tags_df = pd.merge(books_tags_df, tags_df, on='tag_id', how='inner')\n",
        "\n",
        "groupped_data = bookreads_tags_df.groupby('goodreads_book_id', as_index=False)['tag_name'].transform(lambda x: ' '.join(x))\n",
        "books_tags_row_df = pd.DataFrame(data={'goodreads_book_id': groupped_data.index.tolist(), 'tag_name': groupped_data['tag_name'].values.tolist()})\n",
        "\n",
        "content_based_filtering_df = pd.merge(books_df[['book_id', 'title', 'authors', 'goodreads_book_id',  'language_code', 'original_title']], books_tags_row_df, on='goodreads_book_id', how='outer')\n",
        "content_based_filtering_df['tag_name'] = content_based_filtering_df['tag_name'].fillna('')"
      ],
      "execution_count": null,
      "outputs": []
    },
    {
      "cell_type": "code",
      "metadata": {
        "id": "ni1k-NLySaub"
      },
      "source": [
        "# Clean the data to get lower case letter and get rid of '-'\n",
        "def clean_data(x):\n",
        "    x = str.lower(str(x))\n",
        "    return x.replace('-', '')\n",
        "\n",
        "\n",
        "# Get all of our features together with a space in between. The choice of the features is explained in the report.\n",
        "def create_soup(x):\n",
        "    return x['original_title'] + ' ' + x['language_code'] + ' ' + x['authors'] + ' ' + x['tag_name']\n",
        "\n",
        "\n",
        "# Similarity matrix. We use cosine similarity\n",
        "def build_contact_sim_metrix():\n",
        "    global count_matrix\n",
        "    return cosine_similarity(count_matrix, count_matrix)"
      ],
      "execution_count": null,
      "outputs": []
    },
    {
      "cell_type": "code",
      "metadata": {
        "id": "Y6JKv69GSdbf"
      },
      "source": [
        "# We return the top k recommendation according to the content (The features of each book)\n",
        "def get_content_recommendation(book_name, k):\n",
        "    global content_based_filtering_df\n",
        "\n",
        "    features = ['original_title', 'language_code', 'authors', 'tag_name']\n",
        "    for feature in features:\n",
        "        content_based_filtering_df[feature] = content_based_filtering_df[feature].apply(clean_data)\n",
        "\n",
        "    content_based_filtering_df['soup'] = content_based_filtering_df.apply(create_soup, axis=1)\n",
        "\n",
        "    global count_matrix\n",
        "    count_matrix = CountVectorizer(stop_words='english').fit_transform(content_based_filtering_df['soup'])\n",
        "\n",
        "    cosine_sim = build_contact_sim_metrix()\n",
        "\n",
        "    content_based_filtering_df = content_based_filtering_df.reset_index()\n",
        "    indices = pd.Series(content_based_filtering_df.index, index=content_based_filtering_df['title'])\n",
        "\n",
        "    idx = indices[book_name]\n",
        "\n",
        "    sim_scores = list(enumerate(cosine_sim[idx]))\n",
        "    sim_scores = sorted(sim_scores, key=lambda x: x[1], reverse=True)\n",
        "    sim_scores = sim_scores[1:k+1]\n",
        "\n",
        "    book_indices = [i[0] for i in sim_scores]\n",
        "    return content_based_filtering_df['title'].iloc[book_indices]"
      ],
      "execution_count": null,
      "outputs": []
    },
    {
      "cell_type": "code",
      "metadata": {
        "id": "kPt_aef5Sg_e"
      },
      "source": [
        "content_based_filtering_result = get_content_recommendation('Twilight (Twilight, #1)', k=10)\n",
        "content_based_filtering_result"
      ],
      "execution_count": null,
      "outputs": []
    },
    {
      "cell_type": "markdown",
      "metadata": {
        "id": "7HWTE8oFTcc1"
      },
      "source": [
        "## Evaluations"
      ]
    },
    {
      "cell_type": "code",
      "metadata": {
        "id": "1bOaw7v7Sllp"
      },
      "source": [
        "# Filter the data\n",
        "# We want only the books with ratings >= 4 and the users that that ranked books at least 10 times\n",
        "high_rate_test_df = test_df[test_df['rating'] >= 4]\n",
        "user_value_counts = high_rate_test_df['user_id'].value_counts()\n",
        "user_value_counts_df = pd.DataFrame(data={'user_id': user_value_counts.index.tolist(), 'appearances': user_value_counts.values.tolist()})\n",
        "user_value_counts_df = user_value_counts_df[user_value_counts_df['appearances'] >= 10]"
      ],
      "execution_count": null,
      "outputs": []
    },
    {
      "cell_type": "markdown",
      "metadata": {
        "id": "Hkksp1zPWbU6"
      },
      "source": [
        "We get a weak precision_k for every similarity. The reason to this is that the test file is very small so it can’t give us a good precision. We don’t have enough information. We could have got better results for ARHR, but we didn’t for the same reasons. If we had more samples in our test file, the ARHR would be better. We still get better results than precision_k because we take into account the position of the books. Moreover, precision_k and ARHR, use only the top 10 recommendations that have been given. RMSE takes into account the predicted results and compare it to the actual one. Only the difference between the rankings matters. Those results show us that our rankings are good and that we succeeded to find the right rank of the recommendation (ARHR high)."
      ]
    },
    {
      "cell_type": "markdown",
      "metadata": {
        "id": "R5qQ2bixnK0a"
      },
      "source": [
        "<img src='https://www.notion.so/image/https%3A%2F%2Fs3-us-west-2.amazonaws.com%2Fsecure.notion-static.com%2F6bda19d0-541a-4dee-9a8d-6e4c2ae14843%2FUntitled.png?table=block&id=26e96ac0-a90d-4299-be71-f7ad6d902a63&spaceId=63b72b1f-0e90-4ab8-a6df-a060a6545a56&width=2000&userId=21ec183f-f0be-4b6b-9b3e-6f0d4e5c5469&cache=v2'>"
      ]
    },
    {
      "cell_type": "code",
      "metadata": {
        "colab": {
          "base_uri": "https://localhost:8080/"
        },
        "id": "iiyfRK5FThOF",
        "outputId": "ab637b85-aa47-488a-e0c1-636298550343"
      },
      "source": [
        "# Evaluation P@k for each similarity\n",
        "def precision_k(k):\n",
        "    # Importing global variables that has been assigned before to use them here\n",
        "    global items_df\n",
        "    global data_matrix\n",
        "    global ratings_diff\n",
        "    global mean_user_rating\n",
        "    global items_new_to_original\n",
        "    \n",
        "    pk_list = []\n",
        "    for sim in ['cosine', 'euclidean', 'jaccard']:\n",
        "        calculations_list = []\n",
        "\n",
        "        user_similarity = 1-pairwise_distances(ratings_diff, metric=sim)\n",
        "        user_similarity = np.array([keep_top_k(np.array(arr), k) for arr in user_similarity])\n",
        "        pred = mean_user_rating + user_similarity.dot(ratings_diff) / np.array([np.abs(user_similarity).sum(axis=1)]).T\n",
        "\n",
        "        for user_id in user_value_counts_df['user_id'].values:\n",
        "            user_recommendations = get_CF_final_output(pred, data_matrix, user_id, items_new_to_original, items_df, k)\n",
        "\n",
        "            counter = 0\n",
        "            for book_idx in user_recommendations['book_id'].values:\n",
        "                chosen_book = high_rate_test_df[(high_rate_test_df['user_id'] == user_id) & (high_rate_test_df['book_id'] == book_idx)]\n",
        "                if chosen_book.shape[0] == 1:\n",
        "                    counter += 1\n",
        "\n",
        "            calculations_list.append(counter / k)\n",
        "\n",
        "        pk_list.append(sum(calculations_list) / user_value_counts_df.shape[0])\n",
        "\n",
        "    return pk_list\n",
        "\n",
        "\n",
        "print(precision_k(10))"
      ],
      "execution_count": null,
      "outputs": [
        {
          "name": "stderr",
          "output_type": "stream",
          "text": [
            "/usr/local/lib/python3.7/dist-packages/sklearn/metrics/pairwise.py:1738: DataConversionWarning: Data was converted to boolean for metric jaccard\n",
            "  warnings.warn(msg, DataConversionWarning)\n"
          ]
        },
        {
          "name": "stdout",
          "output_type": "stream",
          "text": [
            "[0.08, 0.008, 0.08]\n"
          ]
        }
      ]
    },
    {
      "cell_type": "code",
      "metadata": {
        "colab": {
          "base_uri": "https://localhost:8080/"
        },
        "id": "bC4QPTjeUheO",
        "outputId": "dcb1f4e4-7a8a-423b-e954-4c318563369b"
      },
      "source": [
        "# Evaluation ARHR\n",
        "def ARHR(k):\n",
        "    # Importing global variables that has been assigned before to use them here\n",
        "    global items_df\n",
        "    global data_matrix\n",
        "    global ratings_diff\n",
        "    global mean_user_rating\n",
        "    global items_new_to_original\n",
        "    \n",
        "    arhr_list = []\n",
        "    for sim in ['cosine', 'euclidean', 'jaccard']:\n",
        "        calculations_list = []\n",
        "\n",
        "        user_similarity = 1-pairwise_distances(ratings_diff, metric=sim)\n",
        "        user_similarity = np.array([keep_top_k(np.array(arr), k) for arr in user_similarity])\n",
        "        pred = mean_user_rating + user_similarity.dot(ratings_diff) / np.array([np.abs(user_similarity).sum(axis=1)]).T\n",
        "\n",
        "        for user_id in user_value_counts_df['user_id'].values:\n",
        "            user_recommendations = get_CF_final_output(pred, data_matrix, user_id, items_new_to_original, items_df, k)\n",
        "\n",
        "            user_high_rate_df = high_rate_test_df[high_rate_test_df['user_id'] == user_id]\n",
        "            user_rec_merged_df = pd.merge(user_recommendations, user_high_rate_df, on='book_id', how='inner')\n",
        "\n",
        "            for position in user_rec_merged_df.index + 1:\n",
        "                calculations_list.append(1 / position)\n",
        "\n",
        "        arhr_list.append(sum(calculations_list) / user_value_counts_df.shape[0])\n",
        "\n",
        "    return arhr_list\n",
        "\n",
        "\n",
        "ARHR(10)"
      ],
      "execution_count": null,
      "outputs": [
        {
          "name": "stderr",
          "output_type": "stream",
          "text": [
            "/usr/local/lib/python3.7/dist-packages/sklearn/metrics/pairwise.py:1738: DataConversionWarning: Data was converted to boolean for metric jaccard\n",
            "  warnings.warn(msg, DataConversionWarning)\n"
          ]
        },
        {
          "data": {
            "text/plain": [
              "[0.6466666666666666, 0.08, 0.6266666666666666]"
            ]
          },
          "execution_count": 21,
          "metadata": {
            "tags": []
          },
          "output_type": "execute_result"
        }
      ]
    },
    {
      "cell_type": "code",
      "metadata": {
        "colab": {
          "base_uri": "https://localhost:8080/"
        },
        "id": "VIrIaB0rUnMo",
        "outputId": "981642cb-41cb-40c0-b13c-5f57834155a4"
      },
      "source": [
        "# Helper function to build the function RMSE. This time we wont filter the data.\n",
        "def get_recommendations_RMSE(pred, data_matrix, user_id):\n",
        "    user_id = user_id - 1\n",
        "    predicted_ratings_row = pred[user_id]\n",
        "    data_matrix_row = data_matrix[user_id]\n",
        "\n",
        "    predicted_ratings_unrated = predicted_ratings_row.copy()\n",
        "    predicted_ratings_unrated[~np.isnan(data_matrix_row)] = 0\n",
        "\n",
        "    book_ids = np.argsort(-predicted_ratings_unrated)\n",
        "    books_rating = np.sort(predicted_ratings_unrated)[::-1]\n",
        "\n",
        "    return {idx: rating for idx, rating in zip(book_ids, books_rating)}\n",
        "\n",
        "\n",
        "# Evaluation RMSE.\n",
        "def RMSE():\n",
        "    # Importing global variables that has been assigned before to use them here.\n",
        "    global ratings_diff\n",
        "    global mean_user_rating\n",
        "    \n",
        "    rmse_list = []\n",
        "    for sim in ['cosine', 'euclidean', 'jaccard']:\n",
        "        sum_error = 0\n",
        "        count_lines = 0\n",
        "\n",
        "        user_similarity = 1-pairwise_distances(ratings_diff, metric=sim)\n",
        "        pred = mean_user_rating + user_similarity.dot(ratings_diff) / np.array([np.abs(user_similarity).sum(axis=1)]).T\n",
        "\n",
        "        for user_id, test_user_data in test_df.groupby('user_id'):\n",
        "            user_recommendations = get_recommendations_RMSE(pred, data_matrix, user_id)\n",
        "\n",
        "            for row in test_user_data.itertuples(index=False):\n",
        "                _, test_book_id, rating = tuple(row)\n",
        "                prediction = user_recommendations[test_book_id] if test_book_id in user_recommendations else 0\n",
        "\n",
        "                if prediction == 0:\n",
        "                    continue\n",
        "\n",
        "                sum_error += (prediction - rating)**2\n",
        "                count_lines += 1\n",
        "\n",
        "        rmse_list.append(math.sqrt(sum_error/count_lines))\n",
        "\n",
        "    return rmse_list\n",
        "    \n",
        "    \n",
        "RMSE()"
      ],
      "execution_count": null,
      "outputs": [
        {
          "name": "stderr",
          "output_type": "stream",
          "text": [
            "/usr/local/lib/python3.7/dist-packages/sklearn/metrics/pairwise.py:1738: DataConversionWarning: Data was converted to boolean for metric jaccard\n",
            "  warnings.warn(msg, DataConversionWarning)\n"
          ]
        },
        {
          "data": {
            "text/plain": [
              "[0.9176794695882072, 0.9168899103744533, 0.9187216947055077]"
            ]
          },
          "execution_count": 22,
          "metadata": {
            "tags": []
          },
          "output_type": "execute_result"
        }
      ]
    }
  ]
}