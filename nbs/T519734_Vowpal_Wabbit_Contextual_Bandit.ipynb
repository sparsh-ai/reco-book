{
  "nbformat": 4,
  "nbformat_minor": 0,
  "metadata": {
    "colab": {
      "name": "2021-06-12-vowpalwabbit-changing-context.ipynb",
      "provenance": [],
      "collapsed_sections": [],
      "toc_visible": true
    },
    "kernelspec": {
      "display_name": "Python 3",
      "language": "python",
      "name": "python3"
    },
    "language_info": {
      "codemirror_mode": {
        "name": "ipython",
        "version": 3
      },
      "file_extension": ".py",
      "mimetype": "text/x-python",
      "name": "python",
      "nbconvert_exporter": "python",
      "pygments_lexer": "ipython3",
      "version": "3.7.3"
    }
  },
  "cells": [
    {
      "cell_type": "markdown",
      "metadata": {
        "id": "DcOjyNefx9Ho"
      },
      "source": [
        "# Vowpal Wabbit Contextual Bandit"
      ]
    },
    {
      "cell_type": "markdown",
      "metadata": {
        "id": "mzsjxPxPuRYX"
      },
      "source": [
        "## Contextual bandit with changing context\n",
        "> Customizing the context and changing it midway to see how fast the agent can adapt to the new context and start recommending better products as per the context"
      ]
    },
    {
      "cell_type": "code",
      "metadata": {
        "id": "7SCDe05G1QSx"
      },
      "source": [
        "!pip install -q vowpalwabbit"
      ],
      "execution_count": null,
      "outputs": []
    },
    {
      "cell_type": "code",
      "metadata": {
        "id": "U17IKmm51Sa_"
      },
      "source": [
        "from vowpalwabbit import pyvw\n",
        "import random\n",
        "import matplotlib.pyplot as plt\n",
        "import pandas as pd\n",
        "from itertools import product"
      ],
      "execution_count": null,
      "outputs": []
    },
    {
      "cell_type": "markdown",
      "metadata": {
        "id": "Mh7X3wHlrvk7"
      },
      "source": [
        "### Setting the context"
      ]
    },
    {
      "cell_type": "code",
      "metadata": {
        "id": "AFdEwthO1U6N"
      },
      "source": [
        "USER_LIKED_ARTICLE = -1.0\n",
        "USER_DISLIKED_ARTICLE = 0.0"
      ],
      "execution_count": null,
      "outputs": []
    },
    {
      "cell_type": "code",
      "metadata": {
        "id": "Joz5em0y7kfi"
      },
      "source": [
        "users = ['A','B','C']\n",
        "items = ['Item1','Item2','Item3','Item4','Item5','Item6']\n",
        "context1 = ['morning','evening']\n",
        "context2 = ['summer','winter']\n",
        "\n",
        "context = pd.DataFrame(list(product(users, context1, context2, items)), columns=['users', 'context1', 'context2', 'items'])\n",
        "context['reward'] = 0\n",
        "\n",
        "#user 1 likes Item 1 in morning, and Item 6 in summer\n",
        "context.loc[(context.users=='A') & \\\n",
        "            (context.context1=='morning') & \\\n",
        "            (context['items']=='Item1'), \\\n",
        "            'reward'] = 1\n",
        "context.loc[(context.users=='A') & \\\n",
        "            (context.context2=='summer') & \\\n",
        "            (context['items']=='Item6'), \\\n",
        "            'reward'] = 1\n",
        "\n",
        "#user 2 likes Item 2 in winter, and Item 5 in summer morning\n",
        "context.loc[(context.users=='B') & \\\n",
        "            (context.context2=='winter') & \\\n",
        "            (context['items']=='Item2'), \\\n",
        "            'reward'] = 1\n",
        "context.loc[(context.users=='B') & \\\n",
        "            (context.context1=='morning') & \\\n",
        "            (context.context2=='summer') & \\\n",
        "            (context['items']=='Item5'), \\\n",
        "            'reward'] = 1\n",
        "\n",
        "\n",
        "#user 3 likes Item 2 in morning, Item 3 in evening, and item 4 in winter morning\n",
        "context.loc[(context.users=='C') & \\\n",
        "            (context.context1=='morning') & \\\n",
        "            (context['items']=='Item2'), \\\n",
        "            'reward'] = 1\n",
        "context.loc[(context.users=='C') & \\\n",
        "            (context.context1=='evening') & \\\n",
        "            (context['items']=='Item3'), \\\n",
        "            'reward'] = 1\n",
        "context.loc[(context.users=='C') & \\\n",
        "            (context.context1=='morning') & \\\n",
        "            (context.context2=='winter') & \\\n",
        "            (context['items']=='Item4'), \\\n",
        "            'reward'] = 1\n",
        "\n",
        "context['cost'] = context['reward']*-1\n",
        "\n",
        "contextdf = context.copy()"
      ],
      "execution_count": null,
      "outputs": []
    },
    {
      "cell_type": "code",
      "metadata": {
        "colab": {
          "base_uri": "https://localhost:8080/"
        },
        "id": "rpgSzAFjv_Rh",
        "outputId": "7398f2a8-d5c0-4281-e98d-7c08b6363373"
      },
      "source": [
        "contextdf.cost.value_counts()"
      ],
      "execution_count": null,
      "outputs": [
        {
          "data": {
            "text/plain": [
              " 0    60\n",
              "-1    12\n",
              "Name: cost, dtype: int64"
            ]
          },
          "execution_count": 5,
          "metadata": {
            "tags": []
          },
          "output_type": "execute_result"
        }
      ]
    },
    {
      "cell_type": "markdown",
      "metadata": {
        "id": "_nTz89_drrWM"
      },
      "source": [
        "### Cost function util"
      ]
    },
    {
      "cell_type": "code",
      "metadata": {
        "id": "QlOd83hd1Z3F"
      },
      "source": [
        "def get_cost(context,action):\n",
        "    return contextdf.loc[(contextdf['users']==context['user']) & \\\n",
        "            (contextdf.context1==context['context1']) & \\\n",
        "            (contextdf.context2==context['context2']) & \\\n",
        "            (contextdf['items']==action), \\\n",
        "            'cost'].values[0]"
      ],
      "execution_count": null,
      "outputs": []
    },
    {
      "cell_type": "code",
      "metadata": {
        "colab": {
          "base_uri": "https://localhost:8080/"
        },
        "id": "6P_HYhhW8UWO",
        "outputId": "06eb7e38-ede8-4013-8767-8e230092bb1a"
      },
      "source": [
        "get_cost({'user':'A','context1':'morning','context2':'summer'},'Item2')"
      ],
      "execution_count": null,
      "outputs": [
        {
          "data": {
            "text/plain": [
              "0"
            ]
          },
          "execution_count": 7,
          "metadata": {
            "tags": []
          },
          "output_type": "execute_result"
        }
      ]
    },
    {
      "cell_type": "markdown",
      "metadata": {
        "id": "wws6kC3ur2R0"
      },
      "source": [
        "### Vowpalwabbit format util"
      ]
    },
    {
      "cell_type": "code",
      "metadata": {
        "id": "pTCHTNFf3jRe"
      },
      "source": [
        "# This function modifies (context, action, cost, probability) to VW friendly format\n",
        "def to_vw_example_format(context, actions, cb_label = None):\n",
        "    if cb_label is not None:\n",
        "        chosen_action, cost, prob = cb_label\n",
        "    example_string = \"\"\n",
        "    example_string += \"shared |User users={} context1={} context2={}\\n\".format(context[\"user\"], context[\"context1\"], context[\"context2\"])\n",
        "    for action in actions:\n",
        "        if cb_label is not None and action == chosen_action:\n",
        "            example_string += \"0:{}:{} \".format(cost, prob)\n",
        "        example_string += \"|Action items={} \\n\".format(action)\n",
        "    #Strip the last newline\n",
        "    return example_string[:-1]"
      ],
      "execution_count": null,
      "outputs": []
    },
    {
      "cell_type": "code",
      "metadata": {
        "colab": {
          "base_uri": "https://localhost:8080/"
        },
        "id": "k8dLifwF3eDJ",
        "outputId": "29547726-b54f-42bf-cfbd-190195a43243"
      },
      "source": [
        "context = {\"user\":\"A\",\"context1\":\"morning\",\"context2\":\"summer\"}\n",
        "\n",
        "print(to_vw_example_format(context,items))"
      ],
      "execution_count": null,
      "outputs": [
        {
          "name": "stdout",
          "output_type": "stream",
          "text": [
            "shared |User users=A context1=morning context2=summer\n",
            "|Action items=Item1 \n",
            "|Action items=Item2 \n",
            "|Action items=Item3 \n",
            "|Action items=Item4 \n",
            "|Action items=Item5 \n",
            "|Action items=Item6 \n"
          ]
        }
      ]
    },
    {
      "cell_type": "code",
      "metadata": {
        "id": "dM_aaYyb5xe9"
      },
      "source": [
        "def sample_custom_pmf(pmf):\n",
        "    total = sum(pmf)\n",
        "    scale = 1 / total\n",
        "    pmf = [x * scale for x in pmf]\n",
        "    draw = random.random()\n",
        "    sum_prob = 0.0\n",
        "    for index, prob in enumerate(pmf):\n",
        "        sum_prob += prob\n",
        "        if(sum_prob > draw):\n",
        "            return index, prob"
      ],
      "execution_count": null,
      "outputs": []
    },
    {
      "cell_type": "code",
      "metadata": {
        "id": "1xeAG23o2EGj"
      },
      "source": [
        "def get_action(vw, context, actions):\n",
        "    vw_text_example = to_vw_example_format(context,actions)\n",
        "    pmf = vw.predict(vw_text_example)\n",
        "    chosen_action_index, prob = sample_custom_pmf(pmf)\n",
        "    return actions[chosen_action_index], prob"
      ],
      "execution_count": null,
      "outputs": []
    },
    {
      "cell_type": "code",
      "metadata": {
        "id": "az_BHiJ32EwX"
      },
      "source": [
        "def choose_user(users):\n",
        "    return random.choice(users)\n",
        "\n",
        "def choose_context1(context1):\n",
        "    return random.choice(context1)\n",
        "\n",
        "def choose_context2(context2):\n",
        "    return random.choice(context2)"
      ],
      "execution_count": null,
      "outputs": []
    },
    {
      "cell_type": "code",
      "metadata": {
        "id": "XqWD3pqt2GTr"
      },
      "source": [
        "def run_simulation(vw, num_iterations, users, contexts1, contexts2, actions, cost_function, do_learn = True):\n",
        "    cost_sum = 0.\n",
        "    ctr = []\n",
        "\n",
        "    for i in range(1, num_iterations+1):\n",
        "        user = choose_user(users)\n",
        "        context1 = choose_context1(contexts1)\n",
        "        context2 = choose_context2(contexts2)\n",
        "\n",
        "        context = {'user': user, 'context1': context1, 'context2': context2}\n",
        "        # print(context)\n",
        "        action, prob = get_action(vw, context, actions)\n",
        "        # print(action, prob)\n",
        "\n",
        "        cost = cost_function(context, action)\n",
        "        # print(cost)\n",
        "        cost_sum += cost\n",
        "\n",
        "        if do_learn:\n",
        "            # 5. Inform VW of what happened so we can learn from it\n",
        "            vw_format = vw.parse(to_vw_example_format(context, actions, (action, cost, prob)),pyvw.vw.lContextualBandit)\n",
        "            # 6. Learn\n",
        "            vw.learn(vw_format)\n",
        "            # 7. Let VW know you're done with these objects\n",
        "            vw.finish_example(vw_format)\n",
        "\n",
        "        # We negate this so that on the plot instead of minimizing cost, we are maximizing reward\n",
        "        ctr.append(-1*cost_sum/i)\n",
        "\n",
        "    return ctr"
      ],
      "execution_count": null,
      "outputs": []
    },
    {
      "cell_type": "code",
      "metadata": {
        "id": "fPDQ5H512KEj"
      },
      "source": [
        "def plot_ctr(num_iterations, ctr):\n",
        "    plt.plot(range(1,num_iterations+1), ctr)\n",
        "    plt.xlabel('num_iterations', fontsize=14)\n",
        "    plt.ylabel('ctr', fontsize=14)\n",
        "    plt.ylim([0,1])"
      ],
      "execution_count": null,
      "outputs": []
    },
    {
      "cell_type": "code",
      "metadata": {
        "colab": {
          "base_uri": "https://localhost:8080/",
          "height": 287
        },
        "id": "wPhRpLyo2MmF",
        "outputId": "51f7cefd-986b-4366-c767-f9b6938a432c"
      },
      "source": [
        "# Instantiate learner in VW\n",
        "vw = pyvw.vw(\"--cb_explore_adf -q UA --quiet --epsilon 0.2\")\n",
        "\n",
        "num_iterations = 5000\n",
        "ctr = run_simulation(vw, num_iterations, users, context1, context2, items, get_cost)\n",
        "\n",
        "plot_ctr(num_iterations, ctr)"
      ],
      "execution_count": null,
      "outputs": [
        {
          "data": {
            "image/png": "[encoded data removed]",
            "text/plain": [
              "<Figure size 432x288 with 1 Axes>"
            ]
          },
          "metadata": {
            "needs_background": "light",
            "tags": []
          },
          "output_type": "display_data"
        }
      ]
    },
    {
      "cell_type": "code",
      "metadata": {
        "colab": {
          "base_uri": "https://localhost:8080/",
          "height": 287
        },
        "id": "TL81VOqK2Tbq",
        "outputId": "acae0673-e691-419d-e766-604b1a9807ef"
      },
      "source": [
        "# Instantiate learner in VW but without -q\n",
        "vw = pyvw.vw(\"--cb_explore_adf --quiet --epsilon 0.2\")\n",
        "\n",
        "num_iterations = 5000\n",
        "ctr = run_simulation(vw, num_iterations, users, context1, context2, items, get_cost)\n",
        "\n",
        "plot_ctr(num_iterations, ctr)"
      ],
      "execution_count": null,
      "outputs": [
        {
          "data": {
            "image/png": "[encoded data removed]",
            "text/plain": [
              "<Figure size 432x288 with 1 Axes>"
            ]
          },
          "metadata": {
            "needs_background": "light",
            "tags": []
          },
          "output_type": "display_data"
        }
      ]
    },
    {
      "cell_type": "code",
      "metadata": {
        "colab": {
          "base_uri": "https://localhost:8080/",
          "height": 287
        },
        "id": "2vU5Kozv2WDg",
        "outputId": "a77bdbf6-e776-4dc5-bc9d-3daaa335156f"
      },
      "source": [
        "# Instantiate learner in VW\n",
        "vw = pyvw.vw(\"--cb_explore_adf -q UA --quiet --epsilon 0.2\")\n",
        "\n",
        "num_iterations = 5000\n",
        "ctr = run_simulation(vw, num_iterations, users, context1, context2, items, get_cost, do_learn=False)\n",
        "\n",
        "plot_ctr(num_iterations, ctr)"
      ],
      "execution_count": null,
      "outputs": [
        {
          "data": {
            "image/png": "[encoded data removed]",
            "text/plain": [
              "<Figure size 432x288 with 1 Axes>"
            ]
          },
          "metadata": {
            "needs_background": "light",
            "tags": []
          },
          "output_type": "display_data"
        }
      ]
    },
    {
      "cell_type": "code",
      "metadata": {
        "id": "UzavSLvC2ZHm"
      },
      "source": [
        "users = ['A','B','C']\n",
        "items = ['Item1','Item2','Item3','Item4','Item5','Item6']\n",
        "context1 = ['morning','evening']\n",
        "context2 = ['summer','winter']\n",
        "\n",
        "context = pd.DataFrame(list(product(users, context1, context2, items)), columns=['users', 'context1', 'context2', 'items'])\n",
        "context['reward'] = 0\n",
        "\n",
        "#user 1 likes Item 2 in morning, and Item 5 in summer\n",
        "context.loc[(context.users=='A') & \\\n",
        "            (context.context1=='morning') & \\\n",
        "            (context['items']=='Item2'), \\\n",
        "            'reward'] = 1\n",
        "context.loc[(context.users=='A') & \\\n",
        "            (context.context2=='summer') & \\\n",
        "            (context['items']=='Item5'), \\\n",
        "            'reward'] = 1\n",
        "\n",
        "#user 2 likes Item 2 in summer, and Item 5 in morning\n",
        "context.loc[(context.users=='B') & \\\n",
        "            (context.context2=='summer') & \\\n",
        "            (context['items']=='Item2'), \\\n",
        "            'reward'] = 1\n",
        "context.loc[(context.users=='B') & \\\n",
        "            (context.context1=='morning') & \\\n",
        "            (context['items']=='Item5'), \\\n",
        "            'reward'] = 1\n",
        "\n",
        "\n",
        "#user 3 likes Item 4 in morning, Item 3 in evening, and item 4 in winter evening\n",
        "context.loc[(context.users=='C') & \\\n",
        "            (context.context1=='morning') & \\\n",
        "            (context['items']=='Item4'), \\\n",
        "            'reward'] = 1\n",
        "context.loc[(context.users=='C') & \\\n",
        "            (context.context1=='evening') & \\\n",
        "            (context['items']=='Item3'), \\\n",
        "            'reward'] = 1\n",
        "context.loc[(context.users=='C') & \\\n",
        "            (context.context1=='evening') & \\\n",
        "            (context.context2=='winter') & \\\n",
        "            (context['items']=='Item4'), \\\n",
        "            'reward'] = 1\n",
        "\n",
        "context['cost'] = context['reward']*-1\n",
        "\n",
        "contextdf_new = context.copy()\n",
        "\n",
        "def get_cost_new1(context,action):\n",
        "    return contextdf_new.loc[(contextdf_new['users']==context['user']) & \\\n",
        "            (contextdf_new.context1==context['context1']) & \\\n",
        "            (contextdf_new.context2==context['context2']) & \\\n",
        "            (contextdf_new['items']==action), \\\n",
        "            'cost'].values[0]"
      ],
      "execution_count": null,
      "outputs": []
    },
    {
      "cell_type": "code",
      "metadata": {
        "id": "Mqvn5gLc2ik2"
      },
      "source": [
        "def run_simulation_multiple_cost_functions(vw, num_iterations, users, contexts1, contexts2, actions, cost_functions, do_learn = True):\n",
        "    cost_sum = 0.\n",
        "    ctr = []\n",
        "\n",
        "    start_counter = 1\n",
        "    end_counter = start_counter + num_iterations\n",
        "    for cost_function in cost_functions:\n",
        "        for i in range(start_counter, end_counter):\n",
        "          user = choose_user(users)\n",
        "          context1 = choose_context1(contexts1)\n",
        "          context2 = choose_context2(contexts2)\n",
        "\n",
        "          context = {'user': user, 'context1': context1, 'context2': context2}\n",
        "          \n",
        "          action, prob = get_action(vw, context, actions)\n",
        "          cost = cost_function(context, action)\n",
        "          cost_sum += cost\n",
        "\n",
        "          if do_learn:\n",
        "              vw_format = vw.parse(to_vw_example_format(context, actions, (action, cost, prob)),pyvw.vw.lContextualBandit)\n",
        "              vw.learn(vw_format)\n",
        "\n",
        "          ctr.append(-1*cost_sum/i)\n",
        "        start_counter = end_counter\n",
        "        end_counter = start_counter + num_iterations\n",
        "\n",
        "    return ctr"
      ],
      "execution_count": null,
      "outputs": []
    },
    {
      "cell_type": "code",
      "metadata": {
        "colab": {
          "base_uri": "https://localhost:8080/",
          "height": 287
        },
        "id": "ExchBfTr2lBS",
        "outputId": "3c23545d-652c-4deb-971c-8da1b409fbd9"
      },
      "source": [
        "# use first reward function initially and then switch to second reward function\n",
        "\n",
        "# Instantiate learner in VW\n",
        "vw = pyvw.vw(\"--cb_explore_adf -q UA --quiet --epsilon 0.2\")\n",
        "\n",
        "num_iterations_per_cost_func = 5000\n",
        "cost_functions = [get_cost, get_cost_new1]\n",
        "total_iterations = num_iterations_per_cost_func * len(cost_functions)\n",
        "\n",
        "ctr = run_simulation_multiple_cost_functions(vw, num_iterations_per_cost_func, users, context1, context2, items, cost_functions)\n",
        "\n",
        "plot_ctr(total_iterations, ctr)"
      ],
      "execution_count": null,
      "outputs": [
        {
          "data": {
            "image/png": "[encoded data removed]",
            "text/plain": [
              "<Figure size 432x288 with 1 Axes>"
            ]
          },
          "metadata": {
            "needs_background": "light",
            "tags": []
          },
          "output_type": "display_data"
        }
      ]
    },
    {
      "cell_type": "code",
      "metadata": {
        "colab": {
          "base_uri": "https://localhost:8080/",
          "height": 287
        },
        "id": "mgaEviR42mlI",
        "outputId": "00ccc48f-f222-4a58-fe14-d8675d4b13cc"
      },
      "source": [
        "# Do not learn\n",
        "# use first reward function initially and then switch to second reward function\n",
        "\n",
        "# Instantiate learner in VW\n",
        "vw = pyvw.vw(\"--cb_explore_adf -q UA --quiet --epsilon 0.2\")\n",
        "\n",
        "num_iterations_per_cost_func = 5000\n",
        "cost_functions = [get_cost, get_cost_new1]\n",
        "total_iterations = num_iterations_per_cost_func * len(cost_functions)\n",
        "\n",
        "ctr = run_simulation_multiple_cost_functions(vw, num_iterations_per_cost_func, users, context1, context2, items, cost_functions, do_learn=False)\n",
        "plot_ctr(total_iterations, ctr)"
      ],
      "execution_count": null,
      "outputs": [
        {
          "data": {
            "image/png": "[encoded data removed]",
            "text/plain": [
              "<Figure size 432x288 with 1 Axes>"
            ]
          },
          "metadata": {
            "needs_background": "light",
            "tags": []
          },
          "output_type": "display_data"
        }
      ]
    },
    {
      "cell_type": "markdown",
      "metadata": {
        "id": "RnXUndQf1Zqt"
      },
      "source": [
        "## Contextual bandit with changing context part 2\n",
        "> Customizing the context and changing it midway to see how fast the agent can adapt to the new context and start recommending better products as per the context."
      ]
    },
    {
      "cell_type": "code",
      "metadata": {
        "id": "NDf-kJiZ1WfJ"
      },
      "source": [
        "mapping_users = {\n",
        "    'Alex':'usera',\n",
        "    'Ben':'userb',\n",
        "    'Cindy': 'userc'\n",
        "}\n",
        "    \n",
        "mapping_context1 = {\n",
        "    'Morning':'ctx11',\n",
        "    'Evening':'ctx12',\n",
        "}\n",
        "\n",
        "mapping_context2 = {\n",
        "    'Summer':'ctx21',\n",
        "    'Winter':'ctx22'\n",
        "}\n",
        "\n",
        "mapping_items = {\n",
        "    'Politics':'item1',\n",
        "    'Economics':'item2',\n",
        "    'Technology':'item3',\n",
        "    'Movies':'item4',\n",
        "    'Business':'item5',\n",
        "    'History':'item6'\n",
        "}\n",
        "\n",
        "# {v:k for k,v in mappings.items()}"
      ],
      "execution_count": null,
      "outputs": []
    },
    {
      "cell_type": "code",
      "metadata": {
        "id": "ywUBRGWp1WfO"
      },
      "source": [
        "from vowpalwabbit import pyvw\n",
        "import random\n",
        "import matplotlib.pyplot as plt\n",
        "import pandas as pd\n",
        "from itertools import product"
      ],
      "execution_count": null,
      "outputs": []
    },
    {
      "cell_type": "code",
      "metadata": {
        "id": "bLp9p35a1WfT"
      },
      "source": [
        "users = list(mapping_users.values())\n",
        "items = list(mapping_items.values())\n",
        "context1 = list(mapping_context1.values())\n",
        "context2 = list(mapping_context2.values())"
      ],
      "execution_count": null,
      "outputs": []
    },
    {
      "cell_type": "code",
      "metadata": {
        "id": "bJPAR-pJ1WfW"
      },
      "source": [
        "context = pd.DataFrame(list(product(users, context1, context2, items)), columns=['users', 'context1', 'context2', 'items'])\n",
        "context['reward'] = np.random.choice([0,1],len(context))\n",
        "context['cost'] = context['reward']*-1\n",
        "contextdf = context.copy()"
      ],
      "execution_count": null,
      "outputs": []
    },
    {
      "cell_type": "code",
      "metadata": {
        "id": "EklmWXvw1WfY",
        "outputId": "13a9bf54-8780-40ac-b8ee-6a1f7a7b8d63"
      },
      "source": [
        "contextdf"
      ],
      "execution_count": null,
      "outputs": [
        {
          "output_type": "execute_result",
          "data": {
            "text/html": [
              "<div>\n",
              "<style scoped>\n",
              "    .dataframe tbody tr th:only-of-type {\n",
              "        vertical-align: middle;\n",
              "    }\n",
              "\n",
              "    .dataframe tbody tr th {\n",
              "        vertical-align: top;\n",
              "    }\n",
              "\n",
              "    .dataframe thead th {\n",
              "        text-align: right;\n",
              "    }\n",
              "</style>\n",
              "<table border=\"1\" class=\"dataframe\">\n",
              "  <thead>\n",
              "    <tr style=\"text-align: right;\">\n",
              "      <th></th>\n",
              "      <th>users</th>\n",
              "      <th>context1</th>\n",
              "      <th>context2</th>\n",
              "      <th>items</th>\n",
              "      <th>reward</th>\n",
              "      <th>cost</th>\n",
              "    </tr>\n",
              "  </thead>\n",
              "  <tbody>\n",
              "    <tr>\n",
              "      <th>0</th>\n",
              "      <td>usera</td>\n",
              "      <td>ctx11</td>\n",
              "      <td>ctx21</td>\n",
              "      <td>item1</td>\n",
              "      <td>1</td>\n",
              "      <td>-1</td>\n",
              "    </tr>\n",
              "    <tr>\n",
              "      <th>1</th>\n",
              "      <td>usera</td>\n",
              "      <td>ctx11</td>\n",
              "      <td>ctx21</td>\n",
              "      <td>item2</td>\n",
              "      <td>1</td>\n",
              "      <td>-1</td>\n",
              "    </tr>\n",
              "    <tr>\n",
              "      <th>2</th>\n",
              "      <td>usera</td>\n",
              "      <td>ctx11</td>\n",
              "      <td>ctx21</td>\n",
              "      <td>item3</td>\n",
              "      <td>1</td>\n",
              "      <td>-1</td>\n",
              "    </tr>\n",
              "    <tr>\n",
              "      <th>3</th>\n",
              "      <td>usera</td>\n",
              "      <td>ctx11</td>\n",
              "      <td>ctx21</td>\n",
              "      <td>item4</td>\n",
              "      <td>0</td>\n",
              "      <td>0</td>\n",
              "    </tr>\n",
              "    <tr>\n",
              "      <th>4</th>\n",
              "      <td>usera</td>\n",
              "      <td>ctx11</td>\n",
              "      <td>ctx21</td>\n",
              "      <td>item5</td>\n",
              "      <td>0</td>\n",
              "      <td>0</td>\n",
              "    </tr>\n",
              "    <tr>\n",
              "      <th>...</th>\n",
              "      <td>...</td>\n",
              "      <td>...</td>\n",
              "      <td>...</td>\n",
              "      <td>...</td>\n",
              "      <td>...</td>\n",
              "      <td>...</td>\n",
              "    </tr>\n",
              "    <tr>\n",
              "      <th>67</th>\n",
              "      <td>userc</td>\n",
              "      <td>ctx12</td>\n",
              "      <td>ctx22</td>\n",
              "      <td>item2</td>\n",
              "      <td>0</td>\n",
              "      <td>0</td>\n",
              "    </tr>\n",
              "    <tr>\n",
              "      <th>68</th>\n",
              "      <td>userc</td>\n",
              "      <td>ctx12</td>\n",
              "      <td>ctx22</td>\n",
              "      <td>item3</td>\n",
              "      <td>0</td>\n",
              "      <td>0</td>\n",
              "    </tr>\n",
              "    <tr>\n",
              "      <th>69</th>\n",
              "      <td>userc</td>\n",
              "      <td>ctx12</td>\n",
              "      <td>ctx22</td>\n",
              "      <td>item4</td>\n",
              "      <td>1</td>\n",
              "      <td>-1</td>\n",
              "    </tr>\n",
              "    <tr>\n",
              "      <th>70</th>\n",
              "      <td>userc</td>\n",
              "      <td>ctx12</td>\n",
              "      <td>ctx22</td>\n",
              "      <td>item5</td>\n",
              "      <td>1</td>\n",
              "      <td>-1</td>\n",
              "    </tr>\n",
              "    <tr>\n",
              "      <th>71</th>\n",
              "      <td>userc</td>\n",
              "      <td>ctx12</td>\n",
              "      <td>ctx22</td>\n",
              "      <td>item6</td>\n",
              "      <td>0</td>\n",
              "      <td>0</td>\n",
              "    </tr>\n",
              "  </tbody>\n",
              "</table>\n",
              "<p>72 rows × 6 columns</p>\n",
              "</div>"
            ],
            "text/plain": [
              "    users context1 context2  items  reward  cost\n",
              "0   usera    ctx11    ctx21  item1       1    -1\n",
              "1   usera    ctx11    ctx21  item2       1    -1\n",
              "2   usera    ctx11    ctx21  item3       1    -1\n",
              "3   usera    ctx11    ctx21  item4       0     0\n",
              "4   usera    ctx11    ctx21  item5       0     0\n",
              "..    ...      ...      ...    ...     ...   ...\n",
              "67  userc    ctx12    ctx22  item2       0     0\n",
              "68  userc    ctx12    ctx22  item3       0     0\n",
              "69  userc    ctx12    ctx22  item4       1    -1\n",
              "70  userc    ctx12    ctx22  item5       1    -1\n",
              "71  userc    ctx12    ctx22  item6       0     0\n",
              "\n",
              "[72 rows x 6 columns]"
            ]
          },
          "metadata": {
            "tags": []
          },
          "execution_count": 56
        }
      ]
    },
    {
      "cell_type": "code",
      "metadata": {
        "id": "FAOCxBU31Wfb"
      },
      "source": [
        "import numpy as np\n",
        "import scipy\n",
        "import scipy.stats as stats\n",
        "from vowpalwabbit import pyvw\n",
        "import random\n",
        "import pandas as pd\n",
        "from itertools import product"
      ],
      "execution_count": null,
      "outputs": []
    },
    {
      "cell_type": "code",
      "metadata": {
        "id": "ojr3s0vC1Wfc"
      },
      "source": [
        "# This function modifies (context, action, cost, probability) to VW friendly format\n",
        "def to_vw_example_format(context, actions, cb_label=None):\n",
        "    if cb_label is not None:\n",
        "        chosen_action, cost, prob = cb_label\n",
        "    example_string = \"\"\n",
        "    example_string += \"shared |User users={} context1={} context2={}\\n\".format(context[\"user\"], context[\"context1\"], context[\"context2\"])\n",
        "    for action in actions:\n",
        "        if cb_label is not None and action == chosen_action:\n",
        "            example_string += \"0:{}:{} \".format(cost, prob)\n",
        "        example_string += \"|Action items={} \\n\".format(action)\n",
        "    #Strip the last newline\n",
        "    return example_string[:-1]\n",
        "def sample_custom_pmf(pmf):\n",
        "    total = sum(pmf)\n",
        "    scale = 1 / total\n",
        "    pmf = [x * scale for x in pmf]\n",
        "    draw = random.random()\n",
        "    sum_prob = 0.0\n",
        "    for index, prob in enumerate(pmf):\n",
        "        sum_prob += prob\n",
        "        if(sum_prob > draw):\n",
        "            return index, prob\n",
        "def get_action(vw, context, actions):\n",
        "    vw_text_example = to_vw_example_format(context, actions)\n",
        "    pmf = vw.predict(vw_text_example)\n",
        "    chosen_action_index, prob = sample_custom_pmf(pmf)\n",
        "    return actions[chosen_action_index], prob\n",
        "def choose_user(users):\n",
        "    return random.choice(users)\n",
        "def choose_context1(context1):\n",
        "    return random.choice(context1)\n",
        "def choose_context2(context2):\n",
        "    return random.choice(context2)"
      ],
      "execution_count": null,
      "outputs": []
    },
    {
      "cell_type": "code",
      "metadata": {
        "id": "S2WXd8Xd1Wff"
      },
      "source": [
        "class VWCSimulation():\n",
        "    def __init__(self, vw, ictxt, n=100000):\n",
        "        self.vw = vw\n",
        "        self.users = ictxt['users'].unique().tolist()\n",
        "        self.contexts1 = ictxt['context1'].unique().tolist()\n",
        "        self.contexts2 = ictxt['context2'].unique().tolist()\n",
        "        self.actions = ictxt['items'].unique().tolist()\n",
        "        self.contextdf = ictxt.copy()\n",
        "        self.contextdf['cost'] = self.contextdf['reward']*-1\n",
        "        \n",
        "    def get_cost(self, context, action):\n",
        "        return self.contextdf.loc[(self.contextdf['users']==context['user']) & \\\n",
        "                (self.contextdf.context1==context['context1']) & \\\n",
        "                (self.contextdf.context2==context['context2']) & \\\n",
        "                (self.contextdf['items']==action), \\\n",
        "                'cost'].values[0]\n",
        "    \n",
        "    def update_context(self, new_ctxt):\n",
        "        self.contextdf = new_ctxt.copy()\n",
        "        self.contextdf['cost'] = self.contextdf['reward']*-1\n",
        "    \n",
        "    def step(self):\n",
        "        user = choose_user(self.users)\n",
        "        context1 = choose_context1(self.contexts1)\n",
        "        context2 = choose_context2(self.contexts2)\n",
        "        context = {'user': user, 'context1': context1, 'context2': context2}\n",
        "        action, prob = get_action(self.vw, context, self.actions)\n",
        "        cost = self.get_cost(context, action)\n",
        "        vw_format = self.vw.parse(to_vw_example_format(context, self.actions, (action, cost, prob)), pyvw.vw.lContextualBandit)\n",
        "        self.vw.learn(vw_format)\n",
        "        self.vw.finish_example(vw_format)\n",
        "        return (context['user'], context['context1'], context['context2'], action, cost, prob)"
      ],
      "execution_count": null,
      "outputs": []
    },
    {
      "cell_type": "code",
      "metadata": {
        "id": "z_33SgaP1Wfi",
        "outputId": "bc8f39ed-e666-40d8-f69d-58960bbba94c"
      },
      "source": [
        "context = pd.DataFrame(list(product(users, context1, context2, items)), columns=['users', 'context1', 'context2', 'items'])\n",
        "context['reward'] = np.random.choice([0,1],len(context),p=[0.8,0.2])\n",
        "contextdf = context.copy()\n",
        "contextdf.reward.value_counts()"
      ],
      "execution_count": null,
      "outputs": [
        {
          "output_type": "execute_result",
          "data": {
            "text/plain": [
              "0    61\n",
              "1    11\n",
              "Name: reward, dtype: int64"
            ]
          },
          "metadata": {
            "tags": []
          },
          "execution_count": 136
        }
      ]
    },
    {
      "cell_type": "code",
      "metadata": {
        "id": "hLYqC-B21Wfj"
      },
      "source": [
        "vw = pyvw.vw(\"--cb_explore_adf -q UA --quiet --epsilon 0.2\")\n",
        "vws = VWCSimulation(vw, contextdf)"
      ],
      "execution_count": null,
      "outputs": []
    },
    {
      "cell_type": "code",
      "metadata": {
        "id": "iN7_K3-l1Wfl",
        "outputId": "382ec01f-22ba-45c2-ba2a-d181ac41db11"
      },
      "source": [
        "vws.step()"
      ],
      "execution_count": null,
      "outputs": [
        {
          "output_type": "execute_result",
          "data": {
            "text/plain": [
              "('usera', 'ctx11', 'ctx22', 'item4', 0, 0.16666666666666666)"
            ]
          },
          "metadata": {
            "tags": []
          },
          "execution_count": 138
        }
      ]
    },
    {
      "cell_type": "code",
      "metadata": {
        "id": "GnEvCkub1Wfm"
      },
      "source": [
        "_temp = []\n",
        "for i in range(5000):\n",
        "    _temp.append(vws.step())"
      ],
      "execution_count": null,
      "outputs": []
    },
    {
      "cell_type": "code",
      "metadata": {
        "id": "IykFBA931Wfn"
      },
      "source": [
        "x = pd.DataFrame.from_records(_temp, columns=['user','context1','context2','item','cost','prob'])"
      ],
      "execution_count": null,
      "outputs": []
    },
    {
      "cell_type": "code",
      "metadata": {
        "id": "-36YdGnH1Wfn",
        "outputId": "3adfdb67-ec48-4a0e-bfd9-861dd5be98d2"
      },
      "source": [
        "xx = x.copy()\n",
        "xx['ccost'] = xx['cost'].cumsum()\n",
        "xx = xx.fillna(0)\n",
        "xx = xx.rename_axis('iter').reset_index()\n",
        "xx['ctr'] = -1*xx['ccost']/xx['iter']\n",
        "xx.sample(10)"
      ],
      "execution_count": null,
      "outputs": [
        {
          "output_type": "execute_result",
          "data": {
            "text/html": [
              "<div>\n",
              "<style scoped>\n",
              "    .dataframe tbody tr th:only-of-type {\n",
              "        vertical-align: middle;\n",
              "    }\n",
              "\n",
              "    .dataframe tbody tr th {\n",
              "        vertical-align: top;\n",
              "    }\n",
              "\n",
              "    .dataframe thead th {\n",
              "        text-align: right;\n",
              "    }\n",
              "</style>\n",
              "<table border=\"1\" class=\"dataframe\">\n",
              "  <thead>\n",
              "    <tr style=\"text-align: right;\">\n",
              "      <th></th>\n",
              "      <th>iter</th>\n",
              "      <th>user</th>\n",
              "      <th>context1</th>\n",
              "      <th>context2</th>\n",
              "      <th>item</th>\n",
              "      <th>cost</th>\n",
              "      <th>prob</th>\n",
              "      <th>ccost</th>\n",
              "      <th>ctr</th>\n",
              "    </tr>\n",
              "  </thead>\n",
              "  <tbody>\n",
              "    <tr>\n",
              "      <th>3199</th>\n",
              "      <td>3199</td>\n",
              "      <td>usera</td>\n",
              "      <td>ctx11</td>\n",
              "      <td>ctx22</td>\n",
              "      <td>item5</td>\n",
              "      <td>-1</td>\n",
              "      <td>0.833333</td>\n",
              "      <td>-1781</td>\n",
              "      <td>0.556736</td>\n",
              "    </tr>\n",
              "    <tr>\n",
              "      <th>700</th>\n",
              "      <td>700</td>\n",
              "      <td>userb</td>\n",
              "      <td>ctx11</td>\n",
              "      <td>ctx22</td>\n",
              "      <td>item4</td>\n",
              "      <td>-1</td>\n",
              "      <td>0.833333</td>\n",
              "      <td>-343</td>\n",
              "      <td>0.490000</td>\n",
              "    </tr>\n",
              "    <tr>\n",
              "      <th>3660</th>\n",
              "      <td>3660</td>\n",
              "      <td>usera</td>\n",
              "      <td>ctx12</td>\n",
              "      <td>ctx22</td>\n",
              "      <td>item5</td>\n",
              "      <td>0</td>\n",
              "      <td>0.833333</td>\n",
              "      <td>-2035</td>\n",
              "      <td>0.556011</td>\n",
              "    </tr>\n",
              "    <tr>\n",
              "      <th>4123</th>\n",
              "      <td>4123</td>\n",
              "      <td>userc</td>\n",
              "      <td>ctx12</td>\n",
              "      <td>ctx22</td>\n",
              "      <td>item5</td>\n",
              "      <td>-1</td>\n",
              "      <td>0.833333</td>\n",
              "      <td>-2302</td>\n",
              "      <td>0.558331</td>\n",
              "    </tr>\n",
              "    <tr>\n",
              "      <th>4448</th>\n",
              "      <td>4448</td>\n",
              "      <td>userb</td>\n",
              "      <td>ctx11</td>\n",
              "      <td>ctx22</td>\n",
              "      <td>item4</td>\n",
              "      <td>-1</td>\n",
              "      <td>0.833333</td>\n",
              "      <td>-2480</td>\n",
              "      <td>0.557554</td>\n",
              "    </tr>\n",
              "    <tr>\n",
              "      <th>485</th>\n",
              "      <td>485</td>\n",
              "      <td>usera</td>\n",
              "      <td>ctx11</td>\n",
              "      <td>ctx21</td>\n",
              "      <td>item2</td>\n",
              "      <td>-1</td>\n",
              "      <td>0.833333</td>\n",
              "      <td>-219</td>\n",
              "      <td>0.451546</td>\n",
              "    </tr>\n",
              "    <tr>\n",
              "      <th>3280</th>\n",
              "      <td>3280</td>\n",
              "      <td>userb</td>\n",
              "      <td>ctx11</td>\n",
              "      <td>ctx21</td>\n",
              "      <td>item1</td>\n",
              "      <td>0</td>\n",
              "      <td>0.033333</td>\n",
              "      <td>-1822</td>\n",
              "      <td>0.555488</td>\n",
              "    </tr>\n",
              "    <tr>\n",
              "      <th>1679</th>\n",
              "      <td>1679</td>\n",
              "      <td>userb</td>\n",
              "      <td>ctx12</td>\n",
              "      <td>ctx21</td>\n",
              "      <td>item6</td>\n",
              "      <td>-1</td>\n",
              "      <td>0.833333</td>\n",
              "      <td>-901</td>\n",
              "      <td>0.536629</td>\n",
              "    </tr>\n",
              "    <tr>\n",
              "      <th>3489</th>\n",
              "      <td>3489</td>\n",
              "      <td>userc</td>\n",
              "      <td>ctx11</td>\n",
              "      <td>ctx21</td>\n",
              "      <td>item3</td>\n",
              "      <td>-1</td>\n",
              "      <td>0.833333</td>\n",
              "      <td>-1932</td>\n",
              "      <td>0.553740</td>\n",
              "    </tr>\n",
              "    <tr>\n",
              "      <th>103</th>\n",
              "      <td>103</td>\n",
              "      <td>usera</td>\n",
              "      <td>ctx11</td>\n",
              "      <td>ctx22</td>\n",
              "      <td>item2</td>\n",
              "      <td>0</td>\n",
              "      <td>0.833333</td>\n",
              "      <td>-24</td>\n",
              "      <td>0.233010</td>\n",
              "    </tr>\n",
              "  </tbody>\n",
              "</table>\n",
              "</div>"
            ],
            "text/plain": [
              "      iter   user context1 context2   item  cost      prob  ccost       ctr\n",
              "3199  3199  usera    ctx11    ctx22  item5    -1  0.833333  -1781  0.556736\n",
              "700    700  userb    ctx11    ctx22  item4    -1  0.833333   -343  0.490000\n",
              "3660  3660  usera    ctx12    ctx22  item5     0  0.833333  -2035  0.556011\n",
              "4123  4123  userc    ctx12    ctx22  item5    -1  0.833333  -2302  0.558331\n",
              "4448  4448  userb    ctx11    ctx22  item4    -1  0.833333  -2480  0.557554\n",
              "485    485  usera    ctx11    ctx21  item2    -1  0.833333   -219  0.451546\n",
              "3280  3280  userb    ctx11    ctx21  item1     0  0.033333  -1822  0.555488\n",
              "1679  1679  userb    ctx12    ctx21  item6    -1  0.833333   -901  0.536629\n",
              "3489  3489  userc    ctx11    ctx21  item3    -1  0.833333  -1932  0.553740\n",
              "103    103  usera    ctx11    ctx22  item2     0  0.833333    -24  0.233010"
            ]
          },
          "metadata": {
            "tags": []
          },
          "execution_count": 141
        }
      ]
    },
    {
      "cell_type": "code",
      "metadata": {
        "id": "X1Aa6gjX1Wfo",
        "outputId": "5b62b160-8a68-4b61-f1f2-28f524737614"
      },
      "source": [
        "xx['ccost'].plot()"
      ],
      "execution_count": null,
      "outputs": [
        {
          "output_type": "execute_result",
          "data": {
            "text/plain": [
              "<AxesSubplot:>"
            ]
          },
          "metadata": {
            "tags": []
          },
          "execution_count": 142
        },
        {
          "output_type": "display_data",
          "data": {
            "image/png": "[encoded data removed]",
            "text/plain": [
              "<Figure size 432x288 with 1 Axes>"
            ]
          },
          "metadata": {
            "tags": [],
            "needs_background": "light"
          }
        }
      ]
    },
    {
      "cell_type": "code",
      "metadata": {
        "id": "L4MXTt071Wfo",
        "outputId": "4d5ae04a-a638-4b3a-8f98-eef32ede93f4"
      },
      "source": [
        "xx['ctr'].plot()"
      ],
      "execution_count": null,
      "outputs": [
        {
          "output_type": "execute_result",
          "data": {
            "text/plain": [
              "<AxesSubplot:>"
            ]
          },
          "metadata": {
            "tags": []
          },
          "execution_count": 143
        },
        {
          "output_type": "display_data",
          "data": {
            "image/png": "[encoded data removed]",
            "text/plain": [
              "<Figure size 432x288 with 1 Axes>"
            ]
          },
          "metadata": {
            "tags": [],
            "needs_background": "light"
          }
        }
      ]
    },
    {
      "cell_type": "code",
      "metadata": {
        "id": "M6WRP_0P1Wfp"
      },
      "source": [
        "tempdf1 = xx.copy()"
      ],
      "execution_count": null,
      "outputs": []
    },
    {
      "cell_type": "code",
      "metadata": {
        "id": "ukACuqoc1Wfq",
        "outputId": "f6941465-fc4c-40ff-8a7c-84f8e104366e"
      },
      "source": [
        "context = pd.DataFrame(list(product(users, context1, context2, items)), columns=['users', 'context1', 'context2', 'items'])\n",
        "context['reward'] = 0\n",
        "X = context.copy()\n",
        "X.loc[(X['users']=='usera')&(X['items']=='item1'),'reward']=1\n",
        "X.loc[(X['users']=='userb')&(X['items']=='item2'),'reward']=1\n",
        "X.loc[(X['users']=='userc')&(X['items']=='item3'),'reward']=1\n",
        "X.reward.value_counts()"
      ],
      "execution_count": null,
      "outputs": [
        {
          "output_type": "execute_result",
          "data": {
            "text/plain": [
              "0    60\n",
              "1    12\n",
              "Name: reward, dtype: int64"
            ]
          },
          "metadata": {
            "tags": []
          },
          "execution_count": 145
        }
      ]
    },
    {
      "cell_type": "code",
      "metadata": {
        "id": "NwVd7J4C1Wfq"
      },
      "source": [
        "vws.update_context(X)"
      ],
      "execution_count": null,
      "outputs": []
    },
    {
      "cell_type": "code",
      "metadata": {
        "id": "nqs6J8sy1Wfr"
      },
      "source": [
        "_temp = []\n",
        "for i in range(5000):\n",
        "    _temp.append(vws.step())"
      ],
      "execution_count": null,
      "outputs": []
    },
    {
      "cell_type": "code",
      "metadata": {
        "id": "JV3H9J4N1Wfr",
        "outputId": "5f675cad-76e7-42eb-b769-bd2b896cca7f"
      },
      "source": [
        "x = pd.DataFrame.from_records(_temp, columns=['user','context1','context2','item','cost','prob'])\n",
        "xx = x.copy()\n",
        "xx['ccost'] = xx['cost'].cumsum()\n",
        "xx = xx.fillna(0)\n",
        "xx = xx.rename_axis('iter').reset_index()\n",
        "xx['ctr'] = -1*xx['ccost']/xx['iter']\n",
        "xx.sample(10)"
      ],
      "execution_count": null,
      "outputs": [
        {
          "output_type": "execute_result",
          "data": {
            "text/html": [
              "<div>\n",
              "<style scoped>\n",
              "    .dataframe tbody tr th:only-of-type {\n",
              "        vertical-align: middle;\n",
              "    }\n",
              "\n",
              "    .dataframe tbody tr th {\n",
              "        vertical-align: top;\n",
              "    }\n",
              "\n",
              "    .dataframe thead th {\n",
              "        text-align: right;\n",
              "    }\n",
              "</style>\n",
              "<table border=\"1\" class=\"dataframe\">\n",
              "  <thead>\n",
              "    <tr style=\"text-align: right;\">\n",
              "      <th></th>\n",
              "      <th>iter</th>\n",
              "      <th>user</th>\n",
              "      <th>context1</th>\n",
              "      <th>context2</th>\n",
              "      <th>item</th>\n",
              "      <th>cost</th>\n",
              "      <th>prob</th>\n",
              "      <th>ccost</th>\n",
              "      <th>ctr</th>\n",
              "    </tr>\n",
              "  </thead>\n",
              "  <tbody>\n",
              "    <tr>\n",
              "      <th>354</th>\n",
              "      <td>354</td>\n",
              "      <td>userc</td>\n",
              "      <td>ctx12</td>\n",
              "      <td>ctx21</td>\n",
              "      <td>item2</td>\n",
              "      <td>0</td>\n",
              "      <td>0.833333</td>\n",
              "      <td>-88</td>\n",
              "      <td>0.248588</td>\n",
              "    </tr>\n",
              "    <tr>\n",
              "      <th>3362</th>\n",
              "      <td>3362</td>\n",
              "      <td>userb</td>\n",
              "      <td>ctx11</td>\n",
              "      <td>ctx22</td>\n",
              "      <td>item2</td>\n",
              "      <td>-1</td>\n",
              "      <td>0.833333</td>\n",
              "      <td>-2481</td>\n",
              "      <td>0.737954</td>\n",
              "    </tr>\n",
              "    <tr>\n",
              "      <th>485</th>\n",
              "      <td>485</td>\n",
              "      <td>usera</td>\n",
              "      <td>ctx11</td>\n",
              "      <td>ctx22</td>\n",
              "      <td>item1</td>\n",
              "      <td>-1</td>\n",
              "      <td>0.833333</td>\n",
              "      <td>-171</td>\n",
              "      <td>0.352577</td>\n",
              "    </tr>\n",
              "    <tr>\n",
              "      <th>3383</th>\n",
              "      <td>3383</td>\n",
              "      <td>userb</td>\n",
              "      <td>ctx11</td>\n",
              "      <td>ctx22</td>\n",
              "      <td>item3</td>\n",
              "      <td>0</td>\n",
              "      <td>0.033333</td>\n",
              "      <td>-2499</td>\n",
              "      <td>0.738693</td>\n",
              "    </tr>\n",
              "    <tr>\n",
              "      <th>2803</th>\n",
              "      <td>2803</td>\n",
              "      <td>userc</td>\n",
              "      <td>ctx12</td>\n",
              "      <td>ctx21</td>\n",
              "      <td>item3</td>\n",
              "      <td>-1</td>\n",
              "      <td>0.833333</td>\n",
              "      <td>-2002</td>\n",
              "      <td>0.714235</td>\n",
              "    </tr>\n",
              "    <tr>\n",
              "      <th>3410</th>\n",
              "      <td>3410</td>\n",
              "      <td>userb</td>\n",
              "      <td>ctx12</td>\n",
              "      <td>ctx21</td>\n",
              "      <td>item3</td>\n",
              "      <td>0</td>\n",
              "      <td>0.033333</td>\n",
              "      <td>-2521</td>\n",
              "      <td>0.739296</td>\n",
              "    </tr>\n",
              "    <tr>\n",
              "      <th>267</th>\n",
              "      <td>267</td>\n",
              "      <td>usera</td>\n",
              "      <td>ctx12</td>\n",
              "      <td>ctx21</td>\n",
              "      <td>item4</td>\n",
              "      <td>0</td>\n",
              "      <td>0.033333</td>\n",
              "      <td>-54</td>\n",
              "      <td>0.202247</td>\n",
              "    </tr>\n",
              "    <tr>\n",
              "      <th>3848</th>\n",
              "      <td>3848</td>\n",
              "      <td>userb</td>\n",
              "      <td>ctx12</td>\n",
              "      <td>ctx21</td>\n",
              "      <td>item2</td>\n",
              "      <td>-1</td>\n",
              "      <td>0.833333</td>\n",
              "      <td>-2888</td>\n",
              "      <td>0.750520</td>\n",
              "    </tr>\n",
              "    <tr>\n",
              "      <th>54</th>\n",
              "      <td>54</td>\n",
              "      <td>userb</td>\n",
              "      <td>ctx12</td>\n",
              "      <td>ctx21</td>\n",
              "      <td>item6</td>\n",
              "      <td>0</td>\n",
              "      <td>0.833333</td>\n",
              "      <td>-13</td>\n",
              "      <td>0.240741</td>\n",
              "    </tr>\n",
              "    <tr>\n",
              "      <th>1447</th>\n",
              "      <td>1447</td>\n",
              "      <td>userc</td>\n",
              "      <td>ctx11</td>\n",
              "      <td>ctx21</td>\n",
              "      <td>item5</td>\n",
              "      <td>0</td>\n",
              "      <td>0.033333</td>\n",
              "      <td>-891</td>\n",
              "      <td>0.615757</td>\n",
              "    </tr>\n",
              "  </tbody>\n",
              "</table>\n",
              "</div>"
            ],
            "text/plain": [
              "      iter   user context1 context2   item  cost      prob  ccost       ctr\n",
              "354    354  userc    ctx12    ctx21  item2     0  0.833333    -88  0.248588\n",
              "3362  3362  userb    ctx11    ctx22  item2    -1  0.833333  -2481  0.737954\n",
              "485    485  usera    ctx11    ctx22  item1    -1  0.833333   -171  0.352577\n",
              "3383  3383  userb    ctx11    ctx22  item3     0  0.033333  -2499  0.738693\n",
              "2803  2803  userc    ctx12    ctx21  item3    -1  0.833333  -2002  0.714235\n",
              "3410  3410  userb    ctx12    ctx21  item3     0  0.033333  -2521  0.739296\n",
              "267    267  usera    ctx12    ctx21  item4     0  0.033333    -54  0.202247\n",
              "3848  3848  userb    ctx12    ctx21  item2    -1  0.833333  -2888  0.750520\n",
              "54      54  userb    ctx12    ctx21  item6     0  0.833333    -13  0.240741\n",
              "1447  1447  userc    ctx11    ctx21  item5     0  0.033333   -891  0.615757"
            ]
          },
          "metadata": {
            "tags": []
          },
          "execution_count": 148
        }
      ]
    },
    {
      "cell_type": "code",
      "metadata": {
        "id": "6-2NfwBF1Wfs",
        "outputId": "5b89213a-e4f0-48a2-af31-cf79277a650a"
      },
      "source": [
        "tempdf2 = tempdf1.append(xx, ignore_index=True)\n",
        "tempdf2.sample(10)"
      ],
      "execution_count": null,
      "outputs": [
        {
          "output_type": "execute_result",
          "data": {
            "text/html": [
              "<div>\n",
              "<style scoped>\n",
              "    .dataframe tbody tr th:only-of-type {\n",
              "        vertical-align: middle;\n",
              "    }\n",
              "\n",
              "    .dataframe tbody tr th {\n",
              "        vertical-align: top;\n",
              "    }\n",
              "\n",
              "    .dataframe thead th {\n",
              "        text-align: right;\n",
              "    }\n",
              "</style>\n",
              "<table border=\"1\" class=\"dataframe\">\n",
              "  <thead>\n",
              "    <tr style=\"text-align: right;\">\n",
              "      <th></th>\n",
              "      <th>iter</th>\n",
              "      <th>user</th>\n",
              "      <th>context1</th>\n",
              "      <th>context2</th>\n",
              "      <th>item</th>\n",
              "      <th>cost</th>\n",
              "      <th>prob</th>\n",
              "      <th>ccost</th>\n",
              "      <th>ctr</th>\n",
              "    </tr>\n",
              "  </thead>\n",
              "  <tbody>\n",
              "    <tr>\n",
              "      <th>8837</th>\n",
              "      <td>3837</td>\n",
              "      <td>usera</td>\n",
              "      <td>ctx12</td>\n",
              "      <td>ctx22</td>\n",
              "      <td>item1</td>\n",
              "      <td>-1</td>\n",
              "      <td>0.833333</td>\n",
              "      <td>-2879</td>\n",
              "      <td>0.750326</td>\n",
              "    </tr>\n",
              "    <tr>\n",
              "      <th>8210</th>\n",
              "      <td>3210</td>\n",
              "      <td>userc</td>\n",
              "      <td>ctx11</td>\n",
              "      <td>ctx21</td>\n",
              "      <td>item2</td>\n",
              "      <td>0</td>\n",
              "      <td>0.033333</td>\n",
              "      <td>-2348</td>\n",
              "      <td>0.731464</td>\n",
              "    </tr>\n",
              "    <tr>\n",
              "      <th>3280</th>\n",
              "      <td>3280</td>\n",
              "      <td>userb</td>\n",
              "      <td>ctx11</td>\n",
              "      <td>ctx21</td>\n",
              "      <td>item1</td>\n",
              "      <td>0</td>\n",
              "      <td>0.033333</td>\n",
              "      <td>-1822</td>\n",
              "      <td>0.555488</td>\n",
              "    </tr>\n",
              "    <tr>\n",
              "      <th>1029</th>\n",
              "      <td>1029</td>\n",
              "      <td>userc</td>\n",
              "      <td>ctx12</td>\n",
              "      <td>ctx21</td>\n",
              "      <td>item1</td>\n",
              "      <td>0</td>\n",
              "      <td>0.033333</td>\n",
              "      <td>-531</td>\n",
              "      <td>0.516035</td>\n",
              "    </tr>\n",
              "    <tr>\n",
              "      <th>4183</th>\n",
              "      <td>4183</td>\n",
              "      <td>userc</td>\n",
              "      <td>ctx12</td>\n",
              "      <td>ctx22</td>\n",
              "      <td>item2</td>\n",
              "      <td>0</td>\n",
              "      <td>0.033333</td>\n",
              "      <td>-2328</td>\n",
              "      <td>0.556538</td>\n",
              "    </tr>\n",
              "    <tr>\n",
              "      <th>2715</th>\n",
              "      <td>2715</td>\n",
              "      <td>userc</td>\n",
              "      <td>ctx11</td>\n",
              "      <td>ctx22</td>\n",
              "      <td>item4</td>\n",
              "      <td>-1</td>\n",
              "      <td>0.833333</td>\n",
              "      <td>-1467</td>\n",
              "      <td>0.540331</td>\n",
              "    </tr>\n",
              "    <tr>\n",
              "      <th>6300</th>\n",
              "      <td>1300</td>\n",
              "      <td>usera</td>\n",
              "      <td>ctx12</td>\n",
              "      <td>ctx21</td>\n",
              "      <td>item1</td>\n",
              "      <td>-1</td>\n",
              "      <td>0.833333</td>\n",
              "      <td>-776</td>\n",
              "      <td>0.596923</td>\n",
              "    </tr>\n",
              "    <tr>\n",
              "      <th>7111</th>\n",
              "      <td>2111</td>\n",
              "      <td>usera</td>\n",
              "      <td>ctx12</td>\n",
              "      <td>ctx21</td>\n",
              "      <td>item1</td>\n",
              "      <td>-1</td>\n",
              "      <td>0.833333</td>\n",
              "      <td>-1427</td>\n",
              "      <td>0.675983</td>\n",
              "    </tr>\n",
              "    <tr>\n",
              "      <th>4008</th>\n",
              "      <td>4008</td>\n",
              "      <td>usera</td>\n",
              "      <td>ctx11</td>\n",
              "      <td>ctx22</td>\n",
              "      <td>item5</td>\n",
              "      <td>-1</td>\n",
              "      <td>0.833333</td>\n",
              "      <td>-2239</td>\n",
              "      <td>0.558633</td>\n",
              "    </tr>\n",
              "    <tr>\n",
              "      <th>2236</th>\n",
              "      <td>2236</td>\n",
              "      <td>userc</td>\n",
              "      <td>ctx12</td>\n",
              "      <td>ctx21</td>\n",
              "      <td>item2</td>\n",
              "      <td>-1</td>\n",
              "      <td>0.833333</td>\n",
              "      <td>-1203</td>\n",
              "      <td>0.538014</td>\n",
              "    </tr>\n",
              "  </tbody>\n",
              "</table>\n",
              "</div>"
            ],
            "text/plain": [
              "      iter   user context1 context2   item  cost      prob  ccost       ctr\n",
              "8837  3837  usera    ctx12    ctx22  item1    -1  0.833333  -2879  0.750326\n",
              "8210  3210  userc    ctx11    ctx21  item2     0  0.033333  -2348  0.731464\n",
              "3280  3280  userb    ctx11    ctx21  item1     0  0.033333  -1822  0.555488\n",
              "1029  1029  userc    ctx12    ctx21  item1     0  0.033333   -531  0.516035\n",
              "4183  4183  userc    ctx12    ctx22  item2     0  0.033333  -2328  0.556538\n",
              "2715  2715  userc    ctx11    ctx22  item4    -1  0.833333  -1467  0.540331\n",
              "6300  1300  usera    ctx12    ctx21  item1    -1  0.833333   -776  0.596923\n",
              "7111  2111  usera    ctx12    ctx21  item1    -1  0.833333  -1427  0.675983\n",
              "4008  4008  usera    ctx11    ctx22  item5    -1  0.833333  -2239  0.558633\n",
              "2236  2236  userc    ctx12    ctx21  item2    -1  0.833333  -1203  0.538014"
            ]
          },
          "metadata": {
            "tags": []
          },
          "execution_count": 149
        }
      ]
    },
    {
      "cell_type": "code",
      "metadata": {
        "id": "28SHrzVq1Wfs",
        "outputId": "16959443-416f-4fbe-f0e7-e331e324fc93"
      },
      "source": [
        "tempdf2['ccost'].plot()"
      ],
      "execution_count": null,
      "outputs": [
        {
          "output_type": "execute_result",
          "data": {
            "text/plain": [
              "<AxesSubplot:>"
            ]
          },
          "metadata": {
            "tags": []
          },
          "execution_count": 150
        },
        {
          "output_type": "display_data",
          "data": {
            "image/png": "[encoded data removed]",
            "text/plain": [
              "<Figure size 432x288 with 1 Axes>"
            ]
          },
          "metadata": {
            "tags": [],
            "needs_background": "light"
          }
        }
      ]
    },
    {
      "cell_type": "code",
      "metadata": {
        "id": "2Nq8ZhSr1Wft",
        "outputId": "a9f12adf-13da-416b-e51c-dc66bdac8c59"
      },
      "source": [
        "tempdf2['ctr'].plot()"
      ],
      "execution_count": null,
      "outputs": [
        {
          "output_type": "execute_result",
          "data": {
            "text/plain": [
              "<AxesSubplot:>"
            ]
          },
          "metadata": {
            "tags": []
          },
          "execution_count": 151
        },
        {
          "output_type": "display_data",
          "data": {
            "image/png": "[encoded data removed]",
            "text/plain": [
              "<Figure size 432x288 with 1 Axes>"
            ]
          },
          "metadata": {
            "tags": [],
            "needs_background": "light"
          }
        }
      ]
    },
    {
      "cell_type": "markdown",
      "metadata": {
        "id": "BSAcuI0wySX6"
      },
      "source": [
        "## Contextual bandit dash app\n",
        "> Building a dash app of contextual bandit based recommender system"
      ]
    },
    {
      "cell_type": "code",
      "metadata": {
        "id": "YVP4fTkR3duW"
      },
      "source": [
        "!pip install -q dash dash-html-components dash-core-components dash_bootstrap_components jupyter-dash\n",
        "!pip install -q vowpalwabbit"
      ],
      "execution_count": null,
      "outputs": []
    },
    {
      "cell_type": "code",
      "metadata": {
        "id": "Wq_hAT_t5AGN"
      },
      "source": [
        "!mkdir assets\n",
        "!wget -O assets/image.jpg https://moodle.com/wp-content/uploads/2020/04/Moodle_General_news.png"
      ],
      "execution_count": null,
      "outputs": []
    },
    {
      "cell_type": "code",
      "metadata": {
        "id": "pcv55-nd3WWy"
      },
      "source": [
        "import dash\n",
        "import dash_core_components as dcc\n",
        "import dash_html_components as html\n",
        "import dash_bootstrap_components as dbc\n",
        "from dash.dependencies import Input, Output, State\n",
        "from jupyter_dash import JupyterDash\n",
        "import plotly.graph_objs as go\n",
        "import plotly.express as px\n",
        "\n",
        "from vowpalwabbit import pyvw\n",
        "\n",
        "import numpy as np\n",
        "import pandas as pd\n",
        "import itertools\n",
        "import pathlib\n",
        "from copy import deepcopy\n",
        "from itertools import product\n",
        "import scipy\n",
        "import scipy.stats as stats\n",
        "import random"
      ],
      "execution_count": null,
      "outputs": []
    },
    {
      "cell_type": "code",
      "metadata": {
        "id": "8mLLJQJn5Wws"
      },
      "source": [
        "# This function modifies (context, action, cost, probability) to VW friendly format\n",
        "def to_vw_example_format(context, actions, cb_label=None):\n",
        "    if cb_label is not None:\n",
        "        chosen_action, cost, prob = cb_label\n",
        "    example_string = \"\"\n",
        "    example_string += \"shared |User users={} context1={} context2={}\\n\".format(context[\"user\"], context[\"context1\"], context[\"context2\"])\n",
        "    for action in actions:\n",
        "        if cb_label is not None and action == chosen_action:\n",
        "            example_string += \"0:{}:{} \".format(cost, prob)\n",
        "        example_string += \"|Action items={} \\n\".format(action)\n",
        "    #Strip the last newline\n",
        "    return example_string[:-1]\n",
        "def sample_custom_pmf(pmf):\n",
        "    total = sum(pmf)\n",
        "    scale = 1 / total\n",
        "    pmf = [x * scale for x in pmf]\n",
        "    draw = random.random()\n",
        "    sum_prob = 0.0\n",
        "    for index, prob in enumerate(pmf):\n",
        "        sum_prob += prob\n",
        "        if(sum_prob > draw):\n",
        "            return index, prob\n",
        "def get_action(vw, context, actions):\n",
        "    vw_text_example = to_vw_example_format(context, actions)\n",
        "    pmf = vw.predict(vw_text_example)\n",
        "    chosen_action_index, prob = sample_custom_pmf(pmf)\n",
        "    return actions[chosen_action_index], prob\n",
        "def choose_user(users):\n",
        "    return random.choice(users)\n",
        "def choose_context1(context1):\n",
        "    return random.choice(context1)\n",
        "def choose_context2(context2):\n",
        "    return random.choice(context2)\n",
        "\n",
        "class VWCSimulation():\n",
        "    def __init__(self, vw, ictxt):\n",
        "        self.vw = vw\n",
        "        self.users = ictxt['users'].unique().tolist()\n",
        "        self.contexts1 = ictxt['context1'].unique().tolist()\n",
        "        self.contexts2 = ictxt['context2'].unique().tolist()\n",
        "        self.actions = ictxt['items'].unique().tolist()\n",
        "        self.contextdf = ictxt.copy()\n",
        "        self.contextdf['cost'] = self.contextdf['reward']*-1\n",
        "        \n",
        "    def get_cost(self, context, action):\n",
        "        return self.contextdf.loc[(self.contextdf['users']==context['user']) & \\\n",
        "                (self.contextdf.context1==context['context1']) & \\\n",
        "                (self.contextdf.context2==context['context2']) & \\\n",
        "                (self.contextdf['items']==action), \\\n",
        "                'cost'].values[0]\n",
        "    \n",
        "    def update_context(self, new_ctxt):\n",
        "        self.contextdf = new_ctxt.copy()\n",
        "        self.contextdf['cost'] = self.contextdf['reward']*-1\n",
        "    \n",
        "    def step(self):\n",
        "        user = choose_user(self.users)\n",
        "        context1 = choose_context1(self.contexts1)\n",
        "        context2 = choose_context2(self.contexts2)\n",
        "        context = {'user': user, 'context1': context1, 'context2': context2}\n",
        "        action, prob = get_action(self.vw, context, self.actions)\n",
        "        cost = self.get_cost(context, action)\n",
        "        vw_format = self.vw.parse(to_vw_example_format(context, self.actions, (action, cost, prob)), pyvw.vw.lContextualBandit)\n",
        "        self.vw.learn(vw_format)\n",
        "        self.vw.finish_example(vw_format)\n",
        "        return (context['user'], context['context1'], context['context2'], action, cost, prob)"
      ],
      "execution_count": null,
      "outputs": []
    },
    {
      "cell_type": "code",
      "metadata": {
        "id": "IEd6IKmv3NLq"
      },
      "source": [
        "app = JupyterDash(__name__, external_stylesheets = [dbc.themes.BOOTSTRAP])\n",
        "\n",
        "def generate_input_cards(preference='Random'):\n",
        "    card_content = [\n",
        "    dbc.CardImg(src=\"assets/image.jpg\", top=True),\n",
        "    dbc.CardBody([html.P(preference, className=\"card-title\")])\n",
        "    ]\n",
        "    card = dbc.Card(card_content, color=\"primary\", outline=True)\n",
        "    return dbc.Col([card], width={\"size\": 2})\n",
        "\n",
        "pref_grid = []\n",
        "\n",
        "mapping_users = {\n",
        "    'Alex':'usera',\n",
        "    'Ben':'userb',\n",
        "    'Cindy': 'userc'\n",
        "}\n",
        "    \n",
        "mapping_context1 = {\n",
        "    'Morning':'ctx11',\n",
        "    'Evening':'ctx12',\n",
        "}\n",
        "\n",
        "mapping_context2 = {\n",
        "    'Weekday':'ctx21',\n",
        "    'Weekend':'ctx22'\n",
        "}\n",
        "\n",
        "mapping_items = {\n",
        "    'Politics':'item1',\n",
        "    'Economics':'item2',\n",
        "    'Technology':'item3',\n",
        "    'Weather':'item4',\n",
        "    'Business':'item5',\n",
        "    'History':'item6'\n",
        "}\n",
        "\n",
        "mapping_users_reverse = {v:k for k,v in mapping_users.items()}\n",
        "mapping_context1_reverse = {v:k for k,v in mapping_context1.items()}\n",
        "mapping_context2_reverse = {v:k for k,v in mapping_context2.items()}\n",
        "mapping_items_reverse = {v:k for k,v in mapping_items.items()}\n",
        "\n",
        "users = list(mapping_users.values())\n",
        "items = list(mapping_items.values())\n",
        "context1 = list(mapping_context1.values())\n",
        "context2 = list(mapping_context2.values())\n",
        "\n",
        "context = pd.DataFrame(list(product(users, context1, context2, items)),\n",
        "                       columns=['users', 'context1', 'context2', 'items'])\n",
        "context['reward'] = np.random.choice([0,1],len(context),p=[0.8,0.2])\n",
        "\n",
        "vw = pyvw.vw(\"--cb_explore_adf -q UA --quiet --epsilon 0.2\")\n",
        "vws = VWCSimulation(vw, context)\n",
        "last_update = vws.step()\n",
        "\n",
        "contextdf = context.copy()\n",
        "countDF = contextdf.copy()\n",
        "countDF['prob'] = 0\n",
        "\n",
        "def generate_input_boxes():\n",
        "    dropdown_users = dcc.Dropdown(\n",
        "        id='ddown_users',\n",
        "        options=[{\"label\":k, \"value\":v} for k,v in mapping_users.items()],\n",
        "        clearable=False,\n",
        "        value=\"usera\",\n",
        "        className=\"m-1\",\n",
        "    )\n",
        "    dropdown_context1 = dcc.Dropdown(\n",
        "        id='ddown_ctx1',\n",
        "        options=[{\"label\":k, \"value\":v} for k,v in mapping_context1.items()],\n",
        "        clearable=False,\n",
        "        value=\"ctx11\",\n",
        "        className=\"m-1\",\n",
        "    )\n",
        "    dropdown_context2 = dcc.Dropdown(\n",
        "        id='ddown_ctx2',\n",
        "        options=[{\"label\":k, \"value\":v} for k,v in mapping_context2.items()],\n",
        "        clearable=False,\n",
        "        value=\"ctx21\",\n",
        "        className=\"m-1\",\n",
        "    )\n",
        "    dropdown_items = dcc.Dropdown(\n",
        "        id='ddown_items',\n",
        "        options=[{\"label\":k, \"value\":v} for k,v in mapping_items.items()],\n",
        "        clearable=False,\n",
        "        value=\"item1\",\n",
        "        className=\"m-1\",\n",
        "    )\n",
        "    return html.Div(\n",
        "        [\n",
        "            dropdown_users,\n",
        "            dropdown_context1,\n",
        "            dropdown_context2,\n",
        "            dropdown_items,\n",
        "        ],\n",
        "        style={\"display\": \"flex\", \"flex-direction\": \"column\"},\n",
        "    )\n",
        "\n",
        "def generate_context_boxes():\n",
        "    dropdown_outcontext1 = dcc.Dropdown(\n",
        "        id='ddown_outctx1',\n",
        "        options=[{\"label\":k, \"value\":v} for k,v in mapping_context1.items()],\n",
        "        clearable=False,\n",
        "        value=\"ctx11\",\n",
        "        className=\"m-1\",\n",
        "    )\n",
        "    dropdown_outcontext2 = dcc.Dropdown(\n",
        "        id='ddown_outctx2',\n",
        "        options=[{\"label\":k, \"value\":v} for k,v in mapping_context2.items()],\n",
        "        clearable=False,\n",
        "        value=\"ctx21\",\n",
        "        className=\"m-1\",\n",
        "    )\n",
        "    return html.Div(\n",
        "        [\n",
        "            dropdown_outcontext1,\n",
        "            dropdown_outcontext2\n",
        "        ],\n",
        "        style={\"display\": \"flex\", \"flex-direction\": \"column\"},\n",
        "    )\n",
        "\n",
        "app.layout = html.Div([\n",
        "        generate_input_boxes(),\n",
        "        dbc.Button(\"Register your Preference\", color=\"primary\", className=\"m-1\", \n",
        "                   id='pref-button', block=True),\n",
        "        html.Div(id='pref-grid'),\n",
        "        dbc.Button(\"Clear the context\", color=\"secondary\", \n",
        "                   className=\"m-1\", id='clr-button', block=True),\n",
        "        dbc.Button(\"Start rewarding Agent for these Preferences\", color=\"success\", \n",
        "                   className=\"m-1\", id='updt-button', block=True),\n",
        "        generate_context_boxes(),\n",
        "        dcc.Interval(\n",
        "            id='interval-component',\n",
        "            interval=100, # in milliseconds\n",
        "            n_intervals=0),\n",
        "        html.Div(id='placeholder'),\n",
        "        html.Div(id='placeholder2'),\n",
        "\n",
        "])\n",
        "\n",
        "@app.callback(\n",
        "    Output(\"pref-grid\", \"children\"),\n",
        "    Input(\"pref-button\", \"n_clicks\"),   \n",
        "    Input(\"clr-button\", \"n_clicks\"),\n",
        "    State('ddown_users', 'value'),\n",
        "    State('ddown_items', 'value'),\n",
        "    State('ddown_ctx1', 'value'), \n",
        "    State('ddown_ctx2', 'value'),\n",
        ")\n",
        "def update_pref_grid(nclick_pref, nclick_clr, pref_user, pref_item, pref_ctx1, pref_ctx2):\n",
        "    global pref_grid\n",
        "    changed_id = [p['prop_id'] for p in dash.callback_context.triggered][0]\n",
        "    if \"pref-button\" in changed_id:\n",
        "        global contextdf\n",
        "        card_text = '{} prefers {} related news in {} {}s'.format(mapping_users_reverse[pref_user],\n",
        "                                                  mapping_items_reverse[pref_item],\n",
        "                                                  mapping_context2_reverse[pref_ctx2],\n",
        "                                                  mapping_context1_reverse[pref_ctx1])\n",
        "        \n",
        "        contextdf.loc[(contextdf.users==pref_user) & \\\n",
        "            (contextdf.context1==pref_ctx1) & \\\n",
        "            (contextdf.context2==pref_ctx2), \\\n",
        "            'reward'] = 0\n",
        "        contextdf.loc[(contextdf.users==pref_user) & \\\n",
        "            (contextdf.context1==pref_ctx1) & \\\n",
        "            (contextdf.context2==pref_ctx2) & \\\n",
        "            (contextdf['items']==pref_item), \\\n",
        "            'reward'] = 1\n",
        "        pref_grid.append(generate_input_cards(card_text))\n",
        "        return dbc.Row(children=pref_grid,\n",
        "                      style={'max-width': '100%',\n",
        "                             'display': 'flex',\n",
        "                             'align-items': 'center',\n",
        "                             'padding': '2rem 5rem',\n",
        "                             'overflow': 'auto',\n",
        "                             'height': 'fit-content',\n",
        "                             'flex-direction': 'row',\n",
        "                            })\n",
        "    elif \"clr-button\" in changed_id:\n",
        "        pref_grid = []\n",
        "        return dbc.Row(children=pref_grid)\n",
        "\n",
        "@app.callback(\n",
        "    Output(\"placeholder2\", \"children\"),\n",
        "    Input(\"updt-button\", \"n_clicks\")\n",
        ")\n",
        "def update_context(nclick):\n",
        "    if nclick:\n",
        "        global vws\n",
        "        global contextdf\n",
        "        vws.update_context(contextdf)\n",
        "    return ''\n",
        "\n",
        "\n",
        "@app.callback(\n",
        "    Output(\"placeholder\", \"children\"),\n",
        "    Input('interval-component', 'n_intervals'),\n",
        "    Input('ddown_outctx1', 'value'), \n",
        "    Input('ddown_outctx2', 'value'),\n",
        ")\n",
        "def update_metrics(n, octx1, octx2):\n",
        "    global countDF\n",
        "    countDF = countDF.append(pd.Series(vws.step(),countDF.columns),ignore_index=True)\n",
        "    _x = countDF.copy()\n",
        "    _x = _x[(_x.context1==octx1) & (_x.context2==octx2)]\n",
        "    _x['reward']*=-1\n",
        "    pv = pd.pivot_table(_x, index=['users'], columns=[\"items\"], values=['reward'], aggfunc=sum, fill_value=0)\n",
        "    pv.index = [mapping_users_reverse[x] for x in pv.index]\n",
        "    pv.columns = pv.columns.droplevel(0)\n",
        "    pv = pv.rename_axis('User').reset_index().rename_axis(None, axis=1).set_index('User').T.reset_index()\n",
        "    pv['index'] = pv['index'].map(mapping_items_reverse)\n",
        "    pv = pv.rename(columns={\"index\": \"Preferences\"})\n",
        "    out = html.Div([\n",
        "        dbc.Table.from_dataframe(pv, striped=True, bordered=True, hover=True, responsive=True)\n",
        "    ])\n",
        "    return out"
      ],
      "execution_count": null,
      "outputs": []
    },
    {
      "cell_type": "code",
      "metadata": {
        "colab": {
          "base_uri": "https://localhost:8080/",
          "height": 671
        },
        "id": "Cm6QckQy4BeO",
        "outputId": "ae426974-63a7-4705-8e4a-af2ec69f9912"
      },
      "source": [
        "app.run_server(mode='inline', port=8081)"
      ],
      "execution_count": null,
      "outputs": [
        {
          "data": {
            "application/javascript": [
              "(async (port, path, width, height, cache, element) => {\n",
              "    if (!google.colab.kernel.accessAllowed && !cache) {\n",
              "      return;\n",
              "    }\n",
              "    element.appendChild(document.createTextNode(''));\n",
              "    const url = await google.colab.kernel.proxyPort(port, {cache});\n",
              "    const iframe = document.createElement('iframe');\n",
              "    iframe.src = new URL(path, url).toString();\n",
              "    iframe.height = height;\n",
              "    iframe.width = width;\n",
              "    iframe.style.border = 0;\n",
              "    element.appendChild(iframe);\n",
              "  })(8081, \"/\", \"100%\", 650, false, window.element)"
            ],
            "text/plain": [
              "<IPython.core.display.Javascript object>"
            ]
          },
          "metadata": {
            "tags": []
          },
          "output_type": "display_data"
        }
      ]
    },
    {
      "cell_type": "code",
      "metadata": {
        "id": "Lg14PTYT4CuG"
      },
      "source": [
        "# !kill -9 $(lsof -t -i:8081) # command to kill the dash once done"
      ],
      "execution_count": null,
      "outputs": []
    }
  ]
}