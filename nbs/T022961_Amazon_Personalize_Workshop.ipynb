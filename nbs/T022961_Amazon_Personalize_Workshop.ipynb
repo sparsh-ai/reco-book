{
  "nbformat": 4,
  "nbformat_minor": 0,
  "metadata": {
    "kernelspec": {
      "display_name": "conda_python3",
      "language": "python",
      "name": "conda_python3"
    },
    "language_info": {
      "codemirror_mode": {
        "name": "ipython",
        "version": 3
      },
      "file_extension": ".py",
      "mimetype": "text/x-python",
      "name": "python",
      "nbconvert_exporter": "python",
      "pygments_lexer": "ipython3",
      "version": "3.6.13"
    },
    "colab": {
      "name": "2021-06-20-amazon-personalize-workshop-part-1.ipynb",
      "provenance": [],
      "toc_visible": true
    }
  },
  "cells": [
    {
      "cell_type": "markdown",
      "metadata": {
        "id": "w26u-218_PSB"
      },
      "source": [
        "# Amazon Personalize Workshop"
      ]
    },
    {
      "cell_type": "markdown",
      "metadata": {
        "id": "Mqo-qDrr_HbQ"
      },
      "source": [
        "## Part 1 - Build your campaign\n",
        "> This notebook will walk you through the steps to build a recommendation model for movies based on data collected from the movielens data set. The goal is to recommend movies that are relevant based on a particular user. The data is coming from the MovieLens project."
      ]
    },
    {
      "cell_type": "markdown",
      "metadata": {
        "id": "dtKO5JNc_HbY"
      },
      "source": [
        "### How to Use the Notebook\n",
        "\n",
        "Code is broken up into cells like the one below. There's a triangular `Run` button at the top of this page you can click to execute each cell and move onto the next, or you can press `Shift` + `Enter` while in the cell to execute it and move onto the next one.\n",
        "\n",
        "As a cell is executing you'll notice a line to the side showcase an `*` while the cell is running or it will update to a number to indicate the last cell that completed executing after it has finished exectuting all the code within a cell.\n",
        "\n",
        "\n",
        "Simply follow the instructions below and execute the cells to get started with Amazon Personalize."
      ]
    },
    {
      "cell_type": "markdown",
      "metadata": {
        "id": "kAXuvzrY_Hba"
      },
      "source": [
        "### Imports \n",
        "\n",
        "Python ships with a broad collection of libraries and we need to import those as well as the ones installed to help us like [boto3](https://aws.amazon.com/sdk-for-python/) (AWS SDK for python) and [Pandas](https://pandas.pydata.org/)/[Numpy](https://numpy.org/) which are core data science tools."
      ]
    },
    {
      "cell_type": "code",
      "metadata": {
        "id": "YeKqH1_6_Hbb",
        "outputId": "7b2ac7db-ad60-4c10-d776-bed75ea841c6"
      },
      "source": [
        "# Imports\n",
        "import boto3\n",
        "import json\n",
        "import numpy as np\n",
        "import pandas as pd\n",
        "import time\n",
        "!conda install -y -c conda-forge unzip"
      ],
      "execution_count": null,
      "outputs": [
        {
          "name": "stdout",
          "output_type": "stream",
          "text": [
            "Collecting package metadata (current_repodata.json): done\n",
            "Solving environment: | \n",
            "The environment is inconsistent, please check the package plan carefully\n",
            "The following packages are causing the inconsistency:\n",
            "\n",
            "  - conda-forge/noarch::seaborn-base==0.11.1=pyhd8ed1ab_1\n",
            "  - conda-forge/noarch::nbclassic==0.2.6=pyhd8ed1ab_0\n",
            "  - conda-forge/linux-64::blaze==0.11.3=py36_0\n",
            "  - conda-forge/linux-64::matplotlib==3.3.4=py36h5fab9bb_0\n",
            "  - defaults/linux-64::_anaconda_depends==5.1.0=py36_2\n",
            "  - conda-forge/noarch::jupyterlab==3.0.9=pyhd8ed1ab_0\n",
            "  - conda-forge/noarch::python-language-server==0.36.2=pyhd8ed1ab_0\n",
            "  - conda-forge/noarch::jupyterlab_server==2.3.0=pyhd8ed1ab_0\n",
            "  - conda-forge/noarch::pyls-black==0.4.6=pyh9f0ad1d_0\n",
            "  - conda-forge/linux-64::scikit-image==0.16.2=py36hb3f55d8_0\n",
            "  - conda-forge/noarch::black==20.8b1=py_1\n",
            "  - conda-forge/linux-64::anyio==2.1.0=py36h5fab9bb_0\n",
            "  - conda-forge/linux-64::jupyter_server==1.4.1=py36h5fab9bb_0\n",
            "  - conda-forge/linux-64::bokeh==2.2.3=py36h5fab9bb_0\n",
            "  - conda-forge/noarch::aiobotocore==1.2.1=pyhd8ed1ab_0\n",
            "  - conda-forge/noarch::numpydoc==1.1.0=py_1\n",
            "  - conda-forge/linux-64::spyder==4.2.0=py36h5fab9bb_0\n",
            "  - conda-forge/noarch::pyls-spyder==0.3.2=pyhd8ed1ab_0\n",
            "  - conda-forge/noarch::odo==0.5.1=py_1\n",
            "  - conda-forge/noarch::imageio==2.9.0=py_0\n",
            "  - conda-forge/linux-64::yarl==1.6.3=py36h8f6f2f9_1\n",
            "  - conda-forge/noarch::sphinx==3.5.1=pyhd8ed1ab_0\n",
            "  - conda-forge/noarch::seaborn==0.11.1=hd8ed1ab_1\n",
            "  - conda-forge/linux-64::jupyter==1.0.0=py36h5fab9bb_6\n",
            "  - conda-forge/noarch::dask==2021.2.0=pyhd8ed1ab_0\n",
            "  - conda-forge/linux-64::idna_ssl==1.1.0=py36h9f0ad1d_1001\n",
            "  - conda-forge/linux-64::matplotlib-base==3.3.4=py36hd391965_0\n",
            "  - conda-forge/noarch::anaconda-client==1.7.2=py_0\n",
            "  - conda-forge/noarch::anaconda-project==0.9.1=pyhd8ed1ab_0\n",
            "done\n",
            "\n",
            "\n",
            "==> WARNING: A newer version of conda exists. <==\n",
            "  current version: 4.8.4\n",
            "  latest version: 4.10.1\n",
            "\n",
            "Please update conda by running\n",
            "\n",
            "    $ conda update -n base -c defaults conda\n",
            "\n",
            "\n",
            "\n",
            "## Package Plan ##\n",
            "\n",
            "  environment location: /home/ec2-user/anaconda3/envs/python3\n",
            "\n",
            "  added / updated specs:\n",
            "    - unzip\n",
            "\n",
            "\n",
            "The following packages will be downloaded:\n",
            "\n",
            "    package                    |            build\n",
            "    ---------------------------|-----------------\n",
            "    aiohttp-3.7.4.post0        |   py36h8f6f2f9_0         622 KB  conda-forge\n",
            "    astroid-2.5.8              |   py36h5fab9bb_0         316 KB  conda-forge\n",
            "    botocore-1.19.52           |     pyhd3eb1b0_0         3.5 MB\n",
            "    ca-certificates-2021.5.30  |       ha878542_0         136 KB  conda-forge\n",
            "    certifi-2021.5.30          |   py36h5fab9bb_0         141 KB  conda-forge\n",
            "    dataclasses-0.8            |     pyh787bdff_0          22 KB  conda-forge\n",
            "    docutils-0.15.2            |   py36h5fab9bb_2         738 KB  conda-forge\n",
            "    flask-cors-3.0.10          |     pyhd8ed1ab_0          15 KB  conda-forge\n",
            "    jupyter_console-5.2.0      |           py36_1          34 KB  conda-forge\n",
            "    lxml-4.6.3                 |   py36h04a5ba7_0         1.5 MB  conda-forge\n",
            "    openjpeg-2.4.0             |       hb52868f_1         444 KB  conda-forge\n",
            "    pillow-8.2.0               |   py36ha6010c0_1         688 KB  conda-forge\n",
            "    pylint-2.7.2               |   py36h5fab9bb_0         466 KB  conda-forge\n",
            "    unzip-6.0                  |       h7f98852_2         143 KB  conda-forge\n",
            "    urllib3-1.25.11            |             py_0          93 KB  conda-forge\n",
            "    ------------------------------------------------------------\n",
            "                                           Total:         8.8 MB\n",
            "\n",
            "The following NEW packages will be INSTALLED:\n",
            "\n",
            "  aiohttp            conda-forge/linux-64::aiohttp-3.7.4.post0-py36h8f6f2f9_0\n",
            "  astroid            conda-forge/linux-64::astroid-2.5.8-py36h5fab9bb_0\n",
            "  botocore           pkgs/main/noarch::botocore-1.19.52-pyhd3eb1b0_0\n",
            "  colorama           conda-forge/noarch::colorama-0.4.4-pyh9f0ad1d_0\n",
            "  dataclasses        conda-forge/noarch::dataclasses-0.8-pyh787bdff_0\n",
            "  docutils           conda-forge/linux-64::docutils-0.15.2-py36h5fab9bb_2\n",
            "  flask-cors         conda-forge/noarch::flask-cors-3.0.10-pyhd8ed1ab_0\n",
            "  idna               conda-forge/noarch::idna-2.10-pyh9f0ad1d_0\n",
            "  jupyter_console    conda-forge/linux-64::jupyter_console-5.2.0-py36_1\n",
            "  lxml               conda-forge/linux-64::lxml-4.6.3-py36h04a5ba7_0\n",
            "  openjpeg           conda-forge/linux-64::openjpeg-2.4.0-hb52868f_1\n",
            "  pillow             conda-forge/linux-64::pillow-8.2.0-py36ha6010c0_1\n",
            "  pylint             conda-forge/linux-64::pylint-2.7.2-py36h5fab9bb_0\n",
            "  requests           conda-forge/noarch::requests-2.25.1-pyhd3deb0d_0\n",
            "  unzip              conda-forge/linux-64::unzip-6.0-h7f98852_2\n",
            "  urllib3            conda-forge/noarch::urllib3-1.25.11-py_0\n",
            "\n",
            "The following packages will be UPDATED:\n",
            "\n",
            "  ca-certificates                      2020.12.5-ha878542_0 --> 2021.5.30-ha878542_0\n",
            "  certifi                          2020.12.5-py36h5fab9bb_1 --> 2021.5.30-py36h5fab9bb_0\n",
            "\n",
            "\n",
            "\n",
            "Downloading and Extracting Packages\n",
            "docutils-0.15.2      | 738 KB    | ##################################### | 100% \n",
            "lxml-4.6.3           | 1.5 MB    | ##################################### | 100% \n",
            "botocore-1.19.52     | 3.5 MB    | ##################################### | 100% \n",
            "jupyter_console-5.2. | 34 KB     | ##################################### | 100% \n",
            "urllib3-1.25.11      | 93 KB     | ##################################### | 100% \n",
            "flask-cors-3.0.10    | 15 KB     | ##################################### | 100% \n",
            "openjpeg-2.4.0       | 444 KB    | ##################################### | 100% \n",
            "pillow-8.2.0         | 688 KB    | ##################################### | 100% \n",
            "aiohttp-3.7.4.post0  | 622 KB    | ##################################### | 100% \n",
            "astroid-2.5.8        | 316 KB    | ##################################### | 100% \n",
            "certifi-2021.5.30    | 141 KB    | ##################################### | 100% \n",
            "pylint-2.7.2         | 466 KB    | ##################################### | 100% \n",
            "dataclasses-0.8      | 22 KB     | ##################################### | 100% \n",
            "ca-certificates-2021 | 136 KB    | ##################################### | 100% \n",
            "unzip-6.0            | 143 KB    | ##################################### | 100% \n",
            "Preparing transaction: done\n",
            "Verifying transaction: done\n",
            "Executing transaction: done\n"
          ]
        }
      ]
    },
    {
      "cell_type": "markdown",
      "metadata": {
        "id": "clHeu5AC_Hbe"
      },
      "source": [
        "Next you will want to validate that your environment can communicate successfully with Amazon Personalize, the lines below do just that."
      ]
    },
    {
      "cell_type": "code",
      "metadata": {
        "id": "GV31_qjq_Hbf"
      },
      "source": [
        "# Configure the SDK to Personalize:\n",
        "personalize = boto3.client('personalize')\n",
        "personalize_runtime = boto3.client('personalize-runtime')"
      ],
      "execution_count": null,
      "outputs": []
    },
    {
      "cell_type": "code",
      "metadata": {
        "id": "yidYrdEj_Hbf",
        "outputId": "e015f6ec-3deb-4f85-b9f4-5bd2c6483e69"
      },
      "source": [
        "aws_account_number = boto3.client('sts').get_caller_identity().get('Account')\n",
        "aws_account_number"
      ],
      "execution_count": null,
      "outputs": [
        {
          "data": {
            "text/plain": [
              "'284105231590'"
            ]
          },
          "execution_count": 8,
          "metadata": {},
          "output_type": "execute_result"
        }
      ]
    },
    {
      "cell_type": "markdown",
      "metadata": {
        "id": "tjqFaeBY_Hbh"
      },
      "source": [
        "### Configure the data\n",
        "\n",
        "Data is imported into Amazon Personalize through Amazon S3, below we will specify a bucket that you have created within AWS for the purposes of this exercise.\n",
        "\n",
        "Below you will update the `bucket` variable to instead be set to the value that you created earlier in the CloudFormation steps, this should be in a text file from your earlier work. the `filename` does not need to be changed.\n",
        "\n",
        "#### Specify a Bucket and Data Output Location\n",
        "Be sure to update the `bucket` value if you customized it during deployment of the CloudFormation template. Click in the cell below to make changes."
      ]
    },
    {
      "cell_type": "code",
      "metadata": {
        "id": "UByto2Jo_Hbi"
      },
      "source": [
        "bucket = \"personalizedemobucket202106200728\"       # replace with the name of your S3 bucket\n",
        "filename = \"movie-lens-100k.csv\""
      ],
      "execution_count": null,
      "outputs": []
    },
    {
      "cell_type": "markdown",
      "metadata": {
        "id": "Y4UMFVqk_Hbj"
      },
      "source": [
        "#### Download, Prepare, and Upload Training Data\n",
        "\n",
        "At present you do not have the MovieLens data loaded locally yet for examination, execute the lines below to download the latest copy and to examine it quickly."
      ]
    },
    {
      "cell_type": "markdown",
      "metadata": {
        "id": "6SJe8cPS_Hbk"
      },
      "source": [
        "##### Download and Explore the Dataset"
      ]
    },
    {
      "cell_type": "code",
      "metadata": {
        "id": "5wP_PYve_Hbk",
        "outputId": "8e4e0511-1c1d-49f6-9b99-bb1c5477ca42"
      },
      "source": [
        "!wget -N http://files.grouplens.org/datasets/movielens/ml-100k.zip\n",
        "!unzip -o ml-100k.zip\n",
        "data = pd.read_csv('./ml-100k/u.data', sep='\\t', names=['USER_ID', 'ITEM_ID', 'RATING', 'TIMESTAMP'])\n",
        "pd.set_option('display.max_rows', 5)\n",
        "data"
      ],
      "execution_count": null,
      "outputs": [
        {
          "name": "stdout",
          "output_type": "stream",
          "text": [
            "--2021-06-20 02:18:52--  http://files.grouplens.org/datasets/movielens/ml-100k.zip\n",
            "Resolving files.grouplens.org (files.grouplens.org)... 128.101.65.152\n",
            "Connecting to files.grouplens.org (files.grouplens.org)|128.101.65.152|:80... connected.\n",
            "HTTP request sent, awaiting response... 200 OK\n",
            "Length: 4924029 (4.7M) [application/zip]\n",
            "Saving to: ‘ml-100k.zip’\n",
            "\n",
            "ml-100k.zip         100%[===================>]   4.70M  13.0MB/s    in 0.4s    \n",
            "\n",
            "2021-06-20 02:18:53 (13.0 MB/s) - ‘ml-100k.zip’ saved [4924029/4924029]\n",
            "\n",
            "Archive:  ml-100k.zip\n",
            "   creating: ml-100k/\n",
            "  inflating: ml-100k/allbut.pl       \n",
            "  inflating: ml-100k/mku.sh          \n",
            "  inflating: ml-100k/README          \n",
            "  inflating: ml-100k/u.data          \n",
            "  inflating: ml-100k/u.genre         \n",
            "  inflating: ml-100k/u.info          \n",
            "  inflating: ml-100k/u.item          \n",
            "  inflating: ml-100k/u.occupation    \n",
            "  inflating: ml-100k/u.user          \n",
            "  inflating: ml-100k/u1.base         \n",
            "  inflating: ml-100k/u1.test         \n",
            "  inflating: ml-100k/u2.base         \n",
            "  inflating: ml-100k/u2.test         \n",
            "  inflating: ml-100k/u3.base         \n",
            "  inflating: ml-100k/u3.test         \n",
            "  inflating: ml-100k/u4.base         \n",
            "  inflating: ml-100k/u4.test         \n",
            "  inflating: ml-100k/u5.base         \n",
            "  inflating: ml-100k/u5.test         \n",
            "  inflating: ml-100k/ua.base         \n",
            "  inflating: ml-100k/ua.test         \n",
            "  inflating: ml-100k/ub.base         \n",
            "  inflating: ml-100k/ub.test         \n"
          ]
        },
        {
          "data": {
            "text/html": [
              "<div>\n",
              "<style scoped>\n",
              "    .dataframe tbody tr th:only-of-type {\n",
              "        vertical-align: middle;\n",
              "    }\n",
              "\n",
              "    .dataframe tbody tr th {\n",
              "        vertical-align: top;\n",
              "    }\n",
              "\n",
              "    .dataframe thead th {\n",
              "        text-align: right;\n",
              "    }\n",
              "</style>\n",
              "<table border=\"1\" class=\"dataframe\">\n",
              "  <thead>\n",
              "    <tr style=\"text-align: right;\">\n",
              "      <th></th>\n",
              "      <th>USER_ID</th>\n",
              "      <th>ITEM_ID</th>\n",
              "      <th>RATING</th>\n",
              "      <th>TIMESTAMP</th>\n",
              "    </tr>\n",
              "  </thead>\n",
              "  <tbody>\n",
              "    <tr>\n",
              "      <th>0</th>\n",
              "      <td>196</td>\n",
              "      <td>242</td>\n",
              "      <td>3</td>\n",
              "      <td>881250949</td>\n",
              "    </tr>\n",
              "    <tr>\n",
              "      <th>1</th>\n",
              "      <td>186</td>\n",
              "      <td>302</td>\n",
              "      <td>3</td>\n",
              "      <td>891717742</td>\n",
              "    </tr>\n",
              "    <tr>\n",
              "      <th>...</th>\n",
              "      <td>...</td>\n",
              "      <td>...</td>\n",
              "      <td>...</td>\n",
              "      <td>...</td>\n",
              "    </tr>\n",
              "    <tr>\n",
              "      <th>99998</th>\n",
              "      <td>13</td>\n",
              "      <td>225</td>\n",
              "      <td>2</td>\n",
              "      <td>882399156</td>\n",
              "    </tr>\n",
              "    <tr>\n",
              "      <th>99999</th>\n",
              "      <td>12</td>\n",
              "      <td>203</td>\n",
              "      <td>3</td>\n",
              "      <td>879959583</td>\n",
              "    </tr>\n",
              "  </tbody>\n",
              "</table>\n",
              "<p>100000 rows × 4 columns</p>\n",
              "</div>"
            ],
            "text/plain": [
              "       USER_ID  ITEM_ID  RATING  TIMESTAMP\n",
              "0          196      242       3  881250949\n",
              "1          186      302       3  891717742\n",
              "...        ...      ...     ...        ...\n",
              "99998       13      225       2  882399156\n",
              "99999       12      203       3  879959583\n",
              "\n",
              "[100000 rows x 4 columns]"
            ]
          },
          "execution_count": 4,
          "metadata": {},
          "output_type": "execute_result"
        }
      ]
    },
    {
      "cell_type": "markdown",
      "metadata": {
        "id": "0Zmewxnk_Hbl"
      },
      "source": [
        "##### Prepare and Upload Data\n",
        "\n",
        "As you can see the data contains a UserID, ItemID, Rating, and Timestamp.\n",
        "\n",
        "We are now going to remove the items with low rankings, and remove the Rating column before we build our model.\n",
        "\n",
        "Once done we will now save the file as a new CSV and then upload it to S3.\n",
        "\n",
        "All of that is done by executing the lines in the cell below."
      ]
    },
    {
      "cell_type": "code",
      "metadata": {
        "id": "NpQql06u_Hbm"
      },
      "source": [
        "data = data[data['RATING'] > 3]                # Keep only movies rated higher than 3 out of 5.\n",
        "data = data[['USER_ID', 'ITEM_ID', 'TIMESTAMP']] # select columns that match the columns in the schema below\n",
        "data.to_csv(filename, index=False)\n",
        "boto3.Session().resource('s3').Bucket(bucket).Object(filename).upload_file(filename)"
      ],
      "execution_count": null,
      "outputs": []
    },
    {
      "cell_type": "markdown",
      "metadata": {
        "id": "ndewID58_Hbm"
      },
      "source": [
        "#### Create Schema\n",
        "\n",
        "A core component of how Personalize understands your data comes from the Schema that is defined below. This configuration tells the service how to digest the data provided via your CSV file. Note the columns and types align to what was in the file you created above."
      ]
    },
    {
      "cell_type": "code",
      "metadata": {
        "id": "Mcf9-4Nd_Hbm",
        "outputId": "e962a385-3905-4cf1-88fa-3a547ff1707d"
      },
      "source": [
        "schema = {\n",
        "    \"type\": \"record\",\n",
        "    \"name\": \"Interactions\",\n",
        "    \"namespace\": \"com.amazonaws.personalize.schema\",\n",
        "    \"fields\": [\n",
        "        {\n",
        "            \"name\": \"USER_ID\",\n",
        "            \"type\": \"string\"\n",
        "        },\n",
        "        {\n",
        "            \"name\": \"ITEM_ID\",\n",
        "            \"type\": \"string\"\n",
        "        },\n",
        "        {\n",
        "            \"name\": \"TIMESTAMP\",\n",
        "            \"type\": \"long\"\n",
        "        }\n",
        "    ],\n",
        "    \"version\": \"1.0\"\n",
        "}\n",
        "\n",
        "try:\n",
        "    create_schema_response = personalize.create_schema(\n",
        "        name = \"personalize-demo-schema\",\n",
        "        schema = json.dumps(schema)\n",
        "    )\n",
        "    schema_arn = create_schema_response['schemaArn']\n",
        "    print(json.dumps(create_schema_response, indent=2))\n",
        "except:\n",
        "    schema_arn = \"arn:aws:personalize:us-east-1:{}:schema/personalize-demo-schema\".format(aws_account_number)\n",
        "    print(\"Resource already exist with ARN :{}\".format(schema_arn))"
      ],
      "execution_count": null,
      "outputs": [
        {
          "name": "stdout",
          "output_type": "stream",
          "text": [
            "Resource already exist with ARN :arn:aws:personalize:us-east-1:284105231590:schema/personalize-demo-schema\n"
          ]
        }
      ]
    },
    {
      "cell_type": "markdown",
      "metadata": {
        "id": "gIP_-b___Hbn"
      },
      "source": [
        "#### Create and Wait for Dataset Group\n",
        "\n",
        "The largest grouping in Personalize is a Dataset Group, this will isolate your data, event trackers, solutions, and campaigns. Grouping things together that share a common collection of data. Feel free to alter the name below if you'd like."
      ]
    },
    {
      "cell_type": "markdown",
      "metadata": {
        "id": "t0GkqQb__Hbn"
      },
      "source": [
        "##### Create Dataset Group"
      ]
    },
    {
      "cell_type": "code",
      "metadata": {
        "id": "8obTR99__Hbo",
        "outputId": "e6a1ac29-f0a3-4e62-f708-cdb5593ef856"
      },
      "source": [
        "try:\n",
        "    create_dataset_group_response = personalize.create_dataset_group(\n",
        "    name = \"personalize-launch-demo\")\n",
        "    dataset_group_arn = create_dataset_group_response['datasetGroupArn']\n",
        "    print(json.dumps(create_dataset_group_response, indent=2))\n",
        "except:\n",
        "    dataset_group_arn = \"arn:aws:personalize:us-east-1:{}:dataset-group/personalize-launch-demo\".format(aws_account_number)\n",
        "    print(\"Resource already exist with ARN :{}\".format(dataset_group_arn))"
      ],
      "execution_count": null,
      "outputs": [
        {
          "name": "stdout",
          "output_type": "stream",
          "text": [
            "{\n",
            "  \"datasetGroupArn\": \"arn:aws:personalize:us-east-1:284105231590:dataset-group/personalize-launch-demo\",\n",
            "  \"ResponseMetadata\": {\n",
            "    \"RequestId\": \"998c048b-22ba-42fc-bb58-c5c6d8c390b6\",\n",
            "    \"HTTPStatusCode\": 200,\n",
            "    \"HTTPHeaders\": {\n",
            "      \"content-type\": \"application/x-amz-json-1.1\",\n",
            "      \"date\": \"Sun, 20 Jun 2021 02:43:40 GMT\",\n",
            "      \"x-amzn-requestid\": \"998c048b-22ba-42fc-bb58-c5c6d8c390b6\",\n",
            "      \"content-length\": \"102\",\n",
            "      \"connection\": \"keep-alive\"\n",
            "    },\n",
            "    \"RetryAttempts\": 0\n",
            "  }\n",
            "}\n"
          ]
        }
      ]
    },
    {
      "cell_type": "markdown",
      "metadata": {
        "id": "yM5CunjL_Hbo"
      },
      "source": [
        "##### Wait for Dataset Group to Have ACTIVE Status\n",
        "\n",
        "Before we can use the Dataset Group in any items below it must be active, execute the cell below and wait for it to show active."
      ]
    },
    {
      "cell_type": "code",
      "metadata": {
        "id": "K13T6FPm_Hbo",
        "outputId": "fc4011e6-f7b7-4c80-b4a2-b8cb7e0346cf"
      },
      "source": [
        "max_time = time.time() + 3*60*60 # 3 hours\n",
        "while time.time() < max_time:\n",
        "    describe_dataset_group_response = personalize.describe_dataset_group(\n",
        "        datasetGroupArn = dataset_group_arn\n",
        "    )\n",
        "    status = describe_dataset_group_response[\"datasetGroup\"][\"status\"]\n",
        "    print(\"DatasetGroup: {}\".format(status))\n",
        "    \n",
        "    if status == \"ACTIVE\" or status == \"CREATE FAILED\":\n",
        "        break\n",
        "        \n",
        "    time.sleep(60)"
      ],
      "execution_count": null,
      "outputs": [
        {
          "name": "stdout",
          "output_type": "stream",
          "text": [
            "DatasetGroup: ACTIVE\n"
          ]
        }
      ]
    },
    {
      "cell_type": "markdown",
      "metadata": {
        "id": "YGA6VWdd_Hbp"
      },
      "source": [
        "##### Create Dataset\n",
        "\n",
        "After the group, the next thing to create is the actual datasets, in this example we will only create 1 for the interactions data. Execute the cells below to create it."
      ]
    },
    {
      "cell_type": "code",
      "metadata": {
        "id": "ZiKRdn58_Hbp",
        "outputId": "bf5abb64-eec7-476c-bca9-ecc78c2aa147"
      },
      "source": [
        "dataset_type = \"INTERACTIONS\"\n",
        "create_dataset_response = personalize.create_dataset(\n",
        "    name = \"personalize-launch-interactions\",\n",
        "    datasetType = dataset_type,\n",
        "    datasetGroupArn = dataset_group_arn,\n",
        "    schemaArn = schema_arn\n",
        ")\n",
        "\n",
        "dataset_arn = create_dataset_response['datasetArn']\n",
        "print(json.dumps(create_dataset_response, indent=2))"
      ],
      "execution_count": null,
      "outputs": [
        {
          "name": "stdout",
          "output_type": "stream",
          "text": [
            "{\n",
            "  \"datasetArn\": \"arn:aws:personalize:us-east-1:284105231590:dataset/personalize-launch-demo/INTERACTIONS\",\n",
            "  \"ResponseMetadata\": {\n",
            "    \"RequestId\": \"7a6533d3-4358-4040-aa09-ce251236d3ff\",\n",
            "    \"HTTPStatusCode\": 200,\n",
            "    \"HTTPHeaders\": {\n",
            "      \"content-type\": \"application/x-amz-json-1.1\",\n",
            "      \"date\": \"Sun, 20 Jun 2021 02:45:56 GMT\",\n",
            "      \"x-amzn-requestid\": \"7a6533d3-4358-4040-aa09-ce251236d3ff\",\n",
            "      \"content-length\": \"104\",\n",
            "      \"connection\": \"keep-alive\"\n",
            "    },\n",
            "    \"RetryAttempts\": 0\n",
            "  }\n",
            "}\n"
          ]
        }
      ]
    },
    {
      "cell_type": "markdown",
      "metadata": {
        "id": "MuzlDqrJ_Hbq"
      },
      "source": [
        "##### Attach Policy to S3 Bucket\n",
        "\n",
        "Amazon Personalize needs to be able to read the content of your S3 bucket that you created earlier. The lines below will do that."
      ]
    },
    {
      "cell_type": "code",
      "metadata": {
        "id": "f3Ybio3o_Hbq",
        "outputId": "43e4b444-05b3-468f-b131-e64baeddc1cc"
      },
      "source": [
        "s3 = boto3.client(\"s3\")\n",
        "\n",
        "policy = {\n",
        "    \"Version\": \"2012-10-17\",\n",
        "    \"Id\": \"PersonalizeS3BucketAccessPolicy\",\n",
        "    \"Statement\": [\n",
        "        {\n",
        "            \"Sid\": \"PersonalizeS3BucketAccessPolicy\",\n",
        "            \"Effect\": \"Allow\",\n",
        "            \"Principal\": {\n",
        "                \"Service\": \"personalize.amazonaws.com\"\n",
        "            },\n",
        "            \"Action\": [\n",
        "                \"s3:GetObject\",\n",
        "                \"s3:ListBucket\"\n",
        "            ],\n",
        "            \"Resource\": [\n",
        "                \"arn:aws:s3:::{}\".format(bucket),\n",
        "                \"arn:aws:s3:::{}/*\".format(bucket)\n",
        "            ]\n",
        "        }\n",
        "    ]\n",
        "}\n",
        "\n",
        "s3.put_bucket_policy(Bucket=bucket, Policy=json.dumps(policy))"
      ],
      "execution_count": null,
      "outputs": [
        {
          "data": {
            "text/plain": [
              "{'ResponseMetadata': {'RequestId': 'V0GWAVB6A7MYM4H3',\n",
              "  'HostId': 'JKRdfmw/tDRvtC3jhfRi62TLCltQTxUUnTV8gQOzkf1cs+IGsxyvc06+wB4g92NUUnORjZEXWNs=',\n",
              "  'HTTPStatusCode': 204,\n",
              "  'HTTPHeaders': {'x-amz-id-2': 'JKRdfmw/tDRvtC3jhfRi62TLCltQTxUUnTV8gQOzkf1cs+IGsxyvc06+wB4g92NUUnORjZEXWNs=',\n",
              "   'x-amz-request-id': 'V0GWAVB6A7MYM4H3',\n",
              "   'date': 'Sun, 20 Jun 2021 02:46:28 GMT',\n",
              "   'server': 'AmazonS3'},\n",
              "  'RetryAttempts': 0}}"
            ]
          },
          "execution_count": 10,
          "metadata": {},
          "output_type": "execute_result"
        }
      ]
    },
    {
      "cell_type": "markdown",
      "metadata": {
        "id": "bkBpNCWY_Hbr"
      },
      "source": [
        "##### Create Personalize Role\n",
        "\n",
        "Also Amazon Personalize needs the ability to assume Roles in AWS in order to have the permissions to execute certain tasks, the lines below grant that."
      ]
    },
    {
      "cell_type": "code",
      "metadata": {
        "id": "TbXnIn6Z_Hbr",
        "outputId": "16dc28c5-bf6c-4eaa-9b19-19945c87284d"
      },
      "source": [
        "iam = boto3.client(\"iam\")\n",
        "\n",
        "role_name = \"PersonalizeRoleDemo\"\n",
        "assume_role_policy_document = {\n",
        "    \"Version\": \"2012-10-17\",\n",
        "    \"Statement\": [\n",
        "        {\n",
        "          \"Effect\": \"Allow\",\n",
        "          \"Principal\": {\n",
        "            \"Service\": \"personalize.amazonaws.com\"\n",
        "          },\n",
        "          \"Action\": \"sts:AssumeRole\"\n",
        "        }\n",
        "    ]\n",
        "}\n",
        "\n",
        "create_role_response = iam.create_role(\n",
        "    RoleName = role_name,\n",
        "    AssumeRolePolicyDocument = json.dumps(assume_role_policy_document)\n",
        ")\n",
        "\n",
        "# AmazonPersonalizeFullAccess provides access to any S3 bucket with a name that includes \"personalize\" or \"Personalize\" \n",
        "# if you would like to use a bucket with a different name, please consider creating and attaching a new policy\n",
        "# that provides read access to your bucket or attaching the AmazonS3ReadOnlyAccess policy to the role\n",
        "policy_arn = \"arn:aws:iam::aws:policy/service-role/AmazonPersonalizeFullAccess\"\n",
        "iam.attach_role_policy(\n",
        "    RoleName = role_name,\n",
        "    PolicyArn = policy_arn\n",
        ")\n",
        "\n",
        "# Now add S3 support\n",
        "iam.attach_role_policy(\n",
        "    PolicyArn='arn:aws:iam::aws:policy/AmazonS3FullAccess',\n",
        "    RoleName=role_name\n",
        ")\n",
        "time.sleep(60) # wait for a minute to allow IAM role policy attachment to propagate\n",
        "\n",
        "role_arn = create_role_response[\"Role\"][\"Arn\"]\n",
        "print(role_arn)"
      ],
      "execution_count": null,
      "outputs": [
        {
          "name": "stdout",
          "output_type": "stream",
          "text": [
            "arn:aws:iam::284105231590:role/PersonalizeRoleDemo\n"
          ]
        }
      ]
    },
    {
      "cell_type": "markdown",
      "metadata": {
        "id": "2M-hCQ_l_Hbs"
      },
      "source": [
        "### Import the data\n",
        "\n",
        "Earlier you created the DatasetGroup and Dataset to house your information, now you will execute an import job that will load the data from S3 into Amazon Personalize for usage building your model."
      ]
    },
    {
      "cell_type": "markdown",
      "metadata": {
        "id": "WzOngBjS_Hbs"
      },
      "source": [
        "##### Create Dataset Import Job"
      ]
    },
    {
      "cell_type": "code",
      "metadata": {
        "id": "huGX1nyA_Hbs",
        "outputId": "05d87284-72e8-4301-a818-3bbe3204affb"
      },
      "source": [
        "create_dataset_import_job_response = personalize.create_dataset_import_job(\n",
        "    jobName = \"personalize-demo-import1\",\n",
        "    datasetArn = dataset_arn,\n",
        "    dataSource = {\n",
        "        \"dataLocation\": \"s3://{}/{}\".format(bucket, filename)\n",
        "    },\n",
        "    roleArn = role_arn\n",
        ")\n",
        "\n",
        "dataset_import_job_arn = create_dataset_import_job_response['datasetImportJobArn']\n",
        "print(json.dumps(create_dataset_import_job_response, indent=2))"
      ],
      "execution_count": null,
      "outputs": [
        {
          "name": "stdout",
          "output_type": "stream",
          "text": [
            "{\n",
            "  \"datasetImportJobArn\": \"arn:aws:personalize:us-east-1:284105231590:dataset-import-job/personalize-demo-import1\",\n",
            "  \"ResponseMetadata\": {\n",
            "    \"RequestId\": \"f766900d-2d98-4791-8788-3b4e4153e932\",\n",
            "    \"HTTPStatusCode\": 200,\n",
            "    \"HTTPHeaders\": {\n",
            "      \"content-type\": \"application/x-amz-json-1.1\",\n",
            "      \"date\": \"Sun, 20 Jun 2021 02:49:04 GMT\",\n",
            "      \"x-amzn-requestid\": \"f766900d-2d98-4791-8788-3b4e4153e932\",\n",
            "      \"content-length\": \"112\",\n",
            "      \"connection\": \"keep-alive\"\n",
            "    },\n",
            "    \"RetryAttempts\": 0\n",
            "  }\n",
            "}\n"
          ]
        }
      ]
    },
    {
      "cell_type": "markdown",
      "metadata": {
        "id": "ZpB9_oIL_Hbt"
      },
      "source": [
        "##### Wait for Dataset Import Job to Have ACTIVE Status\n",
        "\n",
        "It can take a while before the import job completes, please wait until you see that it is active below."
      ]
    },
    {
      "cell_type": "code",
      "metadata": {
        "id": "7bwM46x3_Hbt",
        "outputId": "678df85b-f17b-4049-bb52-4b3f07a2b54d"
      },
      "source": [
        "max_time = time.time() + 3*60*60 # 3 hours\n",
        "while time.time() < max_time:\n",
        "    describe_dataset_import_job_response = personalize.describe_dataset_import_job(\n",
        "        datasetImportJobArn = dataset_import_job_arn\n",
        "    )\n",
        "    status = describe_dataset_import_job_response[\"datasetImportJob\"]['status']\n",
        "    print(\"DatasetImportJob: {}\".format(status))\n",
        "    \n",
        "    if status == \"ACTIVE\" or status == \"CREATE FAILED\":\n",
        "        break\n",
        "        \n",
        "    time.sleep(60)"
      ],
      "execution_count": null,
      "outputs": [
        {
          "name": "stdout",
          "output_type": "stream",
          "text": [
            "DatasetImportJob: CREATE PENDING\n",
            "DatasetImportJob: CREATE IN_PROGRESS\n",
            "DatasetImportJob: CREATE IN_PROGRESS\n",
            "DatasetImportJob: ACTIVE\n"
          ]
        }
      ]
    },
    {
      "cell_type": "markdown",
      "metadata": {
        "id": "dvza_Krn_Hbt"
      },
      "source": [
        "### Create the Solution and Version\n",
        "\n",
        "In Amazon Personalize a trained model is called a Solution, each Solution can have many specific versions that relate to a given volume of data when the model was trained.\n",
        "\n",
        "To begin we will list all the recipies that are supported, a recipie is an algorithm that has not been trained on your data yet. After listing you'll select one and use that to build your model."
      ]
    },
    {
      "cell_type": "markdown",
      "metadata": {
        "id": "nwWbfiQs_Hbu"
      },
      "source": [
        "#### Select Recipe"
      ]
    },
    {
      "cell_type": "code",
      "metadata": {
        "id": "IK80S460_Hbu",
        "outputId": "327722e7-e94b-46d0-8108-df525f495ced"
      },
      "source": [
        "list_recipes_response = personalize.list_recipes()\n",
        "list_recipes_response"
      ],
      "execution_count": null,
      "outputs": [
        {
          "data": {
            "text/plain": [
              "{'recipes': [{'name': 'aws-hrnn',\n",
              "   'recipeArn': 'arn:aws:personalize:::recipe/aws-hrnn',\n",
              "   'status': 'ACTIVE',\n",
              "   'creationDateTime': datetime.datetime(2019, 6, 10, 0, 0, tzinfo=tzlocal()),\n",
              "   'lastUpdatedDateTime': datetime.datetime(2021, 2, 6, 19, 6, 40, 447000, tzinfo=tzlocal())},\n",
              "  {'name': 'aws-hrnn-coldstart',\n",
              "   'recipeArn': 'arn:aws:personalize:::recipe/aws-hrnn-coldstart',\n",
              "   'status': 'ACTIVE',\n",
              "   'creationDateTime': datetime.datetime(2019, 6, 10, 0, 0, tzinfo=tzlocal()),\n",
              "   'lastUpdatedDateTime': datetime.datetime(2021, 2, 6, 19, 6, 40, 447000, tzinfo=tzlocal())},\n",
              "  {'name': 'aws-hrnn-metadata',\n",
              "   'recipeArn': 'arn:aws:personalize:::recipe/aws-hrnn-metadata',\n",
              "   'status': 'ACTIVE',\n",
              "   'creationDateTime': datetime.datetime(2019, 6, 10, 0, 0, tzinfo=tzlocal()),\n",
              "   'lastUpdatedDateTime': datetime.datetime(2021, 2, 6, 19, 6, 40, 447000, tzinfo=tzlocal())},\n",
              "  {'name': 'aws-personalized-ranking',\n",
              "   'recipeArn': 'arn:aws:personalize:::recipe/aws-personalized-ranking',\n",
              "   'status': 'ACTIVE',\n",
              "   'creationDateTime': datetime.datetime(2019, 6, 10, 0, 0, tzinfo=tzlocal()),\n",
              "   'lastUpdatedDateTime': datetime.datetime(2021, 2, 6, 19, 6, 40, 447000, tzinfo=tzlocal())},\n",
              "  {'name': 'aws-popularity-count',\n",
              "   'recipeArn': 'arn:aws:personalize:::recipe/aws-popularity-count',\n",
              "   'status': 'ACTIVE',\n",
              "   'creationDateTime': datetime.datetime(2019, 6, 10, 0, 0, tzinfo=tzlocal()),\n",
              "   'lastUpdatedDateTime': datetime.datetime(2021, 2, 6, 19, 6, 40, 447000, tzinfo=tzlocal())},\n",
              "  {'name': 'aws-sims',\n",
              "   'recipeArn': 'arn:aws:personalize:::recipe/aws-sims',\n",
              "   'status': 'ACTIVE',\n",
              "   'creationDateTime': datetime.datetime(2019, 6, 10, 0, 0, tzinfo=tzlocal()),\n",
              "   'lastUpdatedDateTime': datetime.datetime(2021, 2, 6, 19, 6, 40, 447000, tzinfo=tzlocal())},\n",
              "  {'name': 'aws-user-personalization',\n",
              "   'recipeArn': 'arn:aws:personalize:::recipe/aws-user-personalization',\n",
              "   'status': 'ACTIVE',\n",
              "   'creationDateTime': datetime.datetime(2019, 6, 10, 0, 0, tzinfo=tzlocal()),\n",
              "   'lastUpdatedDateTime': datetime.datetime(2021, 2, 6, 19, 6, 40, 447000, tzinfo=tzlocal())}],\n",
              " 'ResponseMetadata': {'RequestId': '4a9fd177-5443-495c-abcf-3e3a50f7ae86',\n",
              "  'HTTPStatusCode': 200,\n",
              "  'HTTPHeaders': {'content-type': 'application/x-amz-json-1.1',\n",
              "   'date': 'Sun, 20 Jun 2021 02:52:04 GMT',\n",
              "   'x-amzn-requestid': '4a9fd177-5443-495c-abcf-3e3a50f7ae86',\n",
              "   'content-length': '1259',\n",
              "   'connection': 'keep-alive'},\n",
              "  'RetryAttempts': 0}}"
            ]
          },
          "execution_count": 14,
          "metadata": {},
          "output_type": "execute_result"
        }
      ]
    },
    {
      "cell_type": "markdown",
      "metadata": {
        "id": "BkT1lXFV_Hbu"
      },
      "source": [
        "##### User Personalization\n",
        "The [User-Personalization](https://docs.aws.amazon.com/personalize/latest/dg/native-recipe-new-item-USER_PERSONALIZATION.html) (aws-user-personalization) recipe is optimized for all USER_PERSONALIZATION recommendation scenarios. When recommending items, it uses automatic item exploration.\n",
        "\n",
        "With automatic exploration, Amazon Personalize automatically tests different item recommendations, learns from how users interact with these recommended items, and boosts recommendations for items that drive better engagement and conversion. This improves item discovery and engagement when you have a fast-changing catalog, or when new items, such as news articles or promotions, are more relevant to users when fresh.\n",
        "\n",
        "You can balance how much to explore (where items with less interactions data or relevance are recommended more frequently) against how much to exploit (where recommendations are based on what we know or relevance). Amazon Personalize automatically adjusts future recommendations based on implicit user feedback.\n",
        "\n",
        "First, select the recipe by finding the ARN in the list of recipes above."
      ]
    },
    {
      "cell_type": "code",
      "metadata": {
        "id": "mVErrUAj_Hbv"
      },
      "source": [
        "recipe_arn = \"arn:aws:personalize:::recipe/aws-user-personalization\" # aws-user-personalization selected for demo purposes"
      ],
      "execution_count": null,
      "outputs": []
    },
    {
      "cell_type": "markdown",
      "metadata": {
        "id": "moiB72Ka_Hbv"
      },
      "source": [
        "#### Create and Wait for Solution\n",
        "\n",
        "First you will create the solution with the API, then you will create a version. It will take several minutes to train the model and thus create your version of a solution. Once it gets started and you are seeing the in progress notifications it is a good time to take a break, grab a coffee, etc."
      ]
    },
    {
      "cell_type": "markdown",
      "metadata": {
        "id": "am60Kqxs_Hbv"
      },
      "source": [
        "##### Create Solution"
      ]
    },
    {
      "cell_type": "code",
      "metadata": {
        "id": "--MsgDJY_Hbv",
        "outputId": "0675330c-4241-4b09-b4a5-29c5774b4411"
      },
      "source": [
        "create_solution_response = personalize.create_solution(\n",
        "    name = \"personalize-demo-soln-user-personalization\",\n",
        "    datasetGroupArn = dataset_group_arn,\n",
        "    recipeArn = recipe_arn\n",
        ")\n",
        "\n",
        "solution_arn = create_solution_response['solutionArn']\n",
        "print(json.dumps(create_solution_response, indent=2))"
      ],
      "execution_count": null,
      "outputs": [
        {
          "name": "stdout",
          "output_type": "stream",
          "text": [
            "{\n",
            "  \"solutionArn\": \"arn:aws:personalize:us-east-1:284105231590:solution/personalize-demo-soln-user-personalization\",\n",
            "  \"ResponseMetadata\": {\n",
            "    \"RequestId\": \"4b7f984a-bd8a-4cd1-b7a5-6a9f578a577c\",\n",
            "    \"HTTPStatusCode\": 200,\n",
            "    \"HTTPHeaders\": {\n",
            "      \"content-type\": \"application/x-amz-json-1.1\",\n",
            "      \"date\": \"Sun, 20 Jun 2021 02:52:04 GMT\",\n",
            "      \"x-amzn-requestid\": \"4b7f984a-bd8a-4cd1-b7a5-6a9f578a577c\",\n",
            "      \"content-length\": \"112\",\n",
            "      \"connection\": \"keep-alive\"\n",
            "    },\n",
            "    \"RetryAttempts\": 0\n",
            "  }\n",
            "}\n"
          ]
        }
      ]
    },
    {
      "cell_type": "markdown",
      "metadata": {
        "id": "y-b6yliI_Hbw"
      },
      "source": [
        "##### Create Solution Version"
      ]
    },
    {
      "cell_type": "code",
      "metadata": {
        "id": "Bsn6PrNk_Hbw",
        "outputId": "42b67599-7451-4b03-e646-d9acf16679a6"
      },
      "source": [
        "create_solution_version_response = personalize.create_solution_version(\n",
        "    solutionArn = solution_arn\n",
        ")\n",
        "\n",
        "solution_version_arn = create_solution_version_response['solutionVersionArn']\n",
        "print(json.dumps(create_solution_version_response, indent=2))"
      ],
      "execution_count": null,
      "outputs": [
        {
          "name": "stdout",
          "output_type": "stream",
          "text": [
            "{\n",
            "  \"solutionVersionArn\": \"arn:aws:personalize:us-east-1:284105231590:solution/personalize-demo-soln-user-personalization/c8dd176c\",\n",
            "  \"ResponseMetadata\": {\n",
            "    \"RequestId\": \"2613b4c0-67f5-4186-8db3-27aeb17a326f\",\n",
            "    \"HTTPStatusCode\": 200,\n",
            "    \"HTTPHeaders\": {\n",
            "      \"content-type\": \"application/x-amz-json-1.1\",\n",
            "      \"date\": \"Sun, 20 Jun 2021 02:52:05 GMT\",\n",
            "      \"x-amzn-requestid\": \"2613b4c0-67f5-4186-8db3-27aeb17a326f\",\n",
            "      \"content-length\": \"128\",\n",
            "      \"connection\": \"keep-alive\"\n",
            "    },\n",
            "    \"RetryAttempts\": 0\n",
            "  }\n",
            "}\n"
          ]
        }
      ]
    },
    {
      "cell_type": "markdown",
      "metadata": {
        "id": "lLnXNh3p_Hbw"
      },
      "source": [
        "##### Wait for Solution Version to Have ACTIVE Status\n",
        "\n",
        "This will take approximately 40-50 minutes."
      ]
    },
    {
      "cell_type": "code",
      "metadata": {
        "id": "ZQr2r2ty_Hbw",
        "outputId": "f1e18ce9-b16d-4b12-b1e7-2745d73de231"
      },
      "source": [
        "max_time = time.time() + 3*60*60 # 3 hours\n",
        "while time.time() < max_time:\n",
        "    describe_solution_version_response = personalize.describe_solution_version(\n",
        "        solutionVersionArn = solution_version_arn\n",
        "    )\n",
        "    status = describe_solution_version_response[\"solutionVersion\"][\"status\"]\n",
        "    print(\"SolutionVersion: {}\".format(status))\n",
        "    \n",
        "    if status == \"ACTIVE\" or status == \"CREATE FAILED\":\n",
        "        break\n",
        "        \n",
        "    time.sleep(60)"
      ],
      "execution_count": null,
      "outputs": [
        {
          "name": "stdout",
          "output_type": "stream",
          "text": [
            "SolutionVersion: ACTIVE\n"
          ]
        }
      ]
    },
    {
      "cell_type": "markdown",
      "metadata": {
        "id": "O8UGoV4P_Hbx"
      },
      "source": [
        "##### Get Metrics of Solution Version\n",
        "\n",
        "Now that your solution and version exists, you can obtain the metrics for it to judge its performance. These metrics are not particularly good as it is a demo set of data, but with larger more complex datasets you should see improvements."
      ]
    },
    {
      "cell_type": "code",
      "metadata": {
        "id": "mwf4BPoT_Hbx",
        "outputId": "460e4246-acfb-4056-f5f3-32d6983b7c19"
      },
      "source": [
        "get_solution_metrics_response = personalize.get_solution_metrics(\n",
        "    solutionVersionArn = solution_version_arn\n",
        ")\n",
        "\n",
        "print(json.dumps(get_solution_metrics_response, indent=2))"
      ],
      "execution_count": null,
      "outputs": [
        {
          "name": "stdout",
          "output_type": "stream",
          "text": [
            "{\n",
            "  \"solutionVersionArn\": \"arn:aws:personalize:us-east-1:284105231590:solution/personalize-demo-soln-user-personalization/c8dd176c\",\n",
            "  \"metrics\": {\n",
            "    \"coverage\": 0.3184,\n",
            "    \"mean_reciprocal_rank_at_25\": 0.1395,\n",
            "    \"normalized_discounted_cumulative_gain_at_10\": 0.174,\n",
            "    \"normalized_discounted_cumulative_gain_at_25\": 0.2434,\n",
            "    \"normalized_discounted_cumulative_gain_at_5\": 0.1339,\n",
            "    \"precision_at_10\": 0.0427,\n",
            "    \"precision_at_25\": 0.0342,\n",
            "    \"precision_at_5\": 0.0449\n",
            "  },\n",
            "  \"ResponseMetadata\": {\n",
            "    \"RequestId\": \"31f4c894-2e81-400a-aa82-af6c459d0d24\",\n",
            "    \"HTTPStatusCode\": 200,\n",
            "    \"HTTPHeaders\": {\n",
            "      \"content-type\": \"application/x-amz-json-1.1\",\n",
            "      \"date\": \"Sun, 20 Jun 2021 03:42:46 GMT\",\n",
            "      \"x-amzn-requestid\": \"31f4c894-2e81-400a-aa82-af6c459d0d24\",\n",
            "      \"content-length\": \"425\",\n",
            "      \"connection\": \"keep-alive\"\n",
            "    },\n",
            "    \"RetryAttempts\": 0\n",
            "  }\n",
            "}\n"
          ]
        }
      ]
    },
    {
      "cell_type": "markdown",
      "metadata": {
        "id": "Ap8obzKN_Hbx"
      },
      "source": [
        "We recommend reading [the documentation](https://docs.aws.amazon.com/personalize/latest/dg/working-with-training-metrics.html) to understand the metrics, but we have also copied parts of the documentation below for convenience.\n",
        "\n",
        "You need to understand the following terms regarding evaluation in Personalize:\n",
        "\n",
        "- *Relevant recommendation* refers to a recommendation that matches a value in the testing data for the particular user.\n",
        "- *Rank* refers to the position of a recommended item in the list of recommendations. Position 1 (the top of the list) is presumed to be the most relevant to the user.\n",
        "- *Query* refers to the internal equivalent of a GetRecommendations call.\n",
        "\n",
        "The metrics produced by Personalize are:\n",
        "\n",
        "- coverage: The proportion of unique recommended items from all queries out of the total number of unique items in the training data (includes both the Items and Interactions datasets).\n",
        "- mean_reciprocal_rank_at_25: The [mean of the reciprocal ranks](https://en.wikipedia.org/wiki/Mean_reciprocal_rank) of the first relevant recommendation out of the top 25 recommendations over all queries. This metric is appropriate if you're interested in the single highest ranked recommendation.\n",
        "- normalized_discounted_cumulative_gain_at_K: Discounted gain assumes that recommendations lower on a list of recommendations are less relevant than higher recommendations. Therefore, each recommendation is discounted (given a lower weight) by a factor dependent on its position. To produce the [cumulative discounted gain](https://en.wikipedia.org/wiki/Discounted_cumulative_gain) (DCG) at K, each relevant discounted recommendation in the top K recommendations is summed together. The normalized discounted cumulative gain (NDCG) is the DCG divided by the ideal DCG such that NDCG is between 0 - 1. (The ideal DCG is where the top K recommendations are sorted by relevance.) Amazon Personalize uses a weighting factor of 1/log(1 + position), where the top of the list is position 1. This metric rewards relevant items that appear near the top of the list, because the top of a list usually draws more attention.\n",
        "- precision_at_K: The number of relevant recommendations out of the top K recommendations divided by K. This metric rewards precise recommendation of the relevant items."
      ]
    },
    {
      "cell_type": "markdown",
      "metadata": {
        "id": "EU7UicmH_Hby"
      },
      "source": [
        "### Create and Wait for the Campaign\n",
        "\n",
        "Now that you have a working solution version you will need to create a campaign to use it with your applications. A campaign is a hosted solution version; an endpoint which you can query for recommendations. Pricing is set by estimating throughput capacity (requests from users for personalization per second). When deploying a campaign, you set a minimum transactions per second (TPS) value (`minProvisionedTPS`). This service, like many within AWS, will automatically scale based on demand, but if latency is critical, you may want to provision ahead for larger demand. For this demo, the minimum throughput threshold is set to 1. For more information, see the [pricing](https://aws.amazon.com/personalize/pricing/) page.\n",
        "\n",
        "As mentioned above, the user-personalization recipe used for our solution supports automatic exploration of \"cold\" items. You can control how much exploration is performed when creating your campaign. The `itemExplorationConfig` data type supports `explorationWeight` and `explorationItemAgeCutOff` parameters. Exploration weight determines how frequently recommendations include items with less interactions data or relevance. The closer the value is to 1.0, the more exploration. At zero, no exploration occurs and recommendations are based on current data (relevance). Exploration item age cut-off determines items to be explored based on time frame since latest interaction. Provide the maximum item age, in days since the latest interaction, to define the scope of item exploration. The larger the value, the more items are considered during exploration. For our campaign below, we'll specify an exploration weight of 0.5."
      ]
    },
    {
      "cell_type": "markdown",
      "metadata": {
        "id": "j2EhxtG0_Hby"
      },
      "source": [
        "##### Create Campaign"
      ]
    },
    {
      "cell_type": "code",
      "metadata": {
        "id": "lPBY1Dok_Hby",
        "outputId": "8fd6c7cc-7276-4ed2-c1b3-41eb1e07363e"
      },
      "source": [
        "create_campaign_response = personalize.create_campaign(\n",
        "    name = \"personalize-demo-camp\",\n",
        "    solutionVersionArn = solution_version_arn,\n",
        "    minProvisionedTPS = 1,\n",
        "    campaignConfig = {\n",
        "        \"itemExplorationConfig\": {\n",
        "            \"explorationWeight\": \"0.5\"\n",
        "        }\n",
        "    }\n",
        ")\n",
        "\n",
        "campaign_arn = create_campaign_response['campaignArn']\n",
        "print(json.dumps(create_campaign_response, indent=2))"
      ],
      "execution_count": null,
      "outputs": [
        {
          "name": "stdout",
          "output_type": "stream",
          "text": [
            "{\n",
            "  \"campaignArn\": \"arn:aws:personalize:us-east-1:284105231590:campaign/personalize-demo-camp\",\n",
            "  \"ResponseMetadata\": {\n",
            "    \"RequestId\": \"6f9fbb78-aa32-40f0-9bbb-fef8ce90d612\",\n",
            "    \"HTTPStatusCode\": 200,\n",
            "    \"HTTPHeaders\": {\n",
            "      \"content-type\": \"application/x-amz-json-1.1\",\n",
            "      \"date\": \"Sun, 20 Jun 2021 03:43:29 GMT\",\n",
            "      \"x-amzn-requestid\": \"6f9fbb78-aa32-40f0-9bbb-fef8ce90d612\",\n",
            "      \"content-length\": \"91\",\n",
            "      \"connection\": \"keep-alive\"\n",
            "    },\n",
            "    \"RetryAttempts\": 0\n",
            "  }\n",
            "}\n"
          ]
        }
      ]
    },
    {
      "cell_type": "markdown",
      "metadata": {
        "id": "kbDCaZkl_Hby"
      },
      "source": [
        "##### Wait for Campaign to Have ACTIVE Status\n",
        "\n",
        "This should take about 10 minutes."
      ]
    },
    {
      "cell_type": "code",
      "metadata": {
        "id": "DHn5jy24_Hby",
        "outputId": "5562d510-8e93-4861-bb0f-b61e42ddd584"
      },
      "source": [
        "max_time = time.time() + 3*60*60 # 3 hours\n",
        "while time.time() < max_time:\n",
        "    describe_campaign_response = personalize.describe_campaign(\n",
        "        campaignArn = campaign_arn\n",
        "    )\n",
        "    status = describe_campaign_response[\"campaign\"][\"status\"]\n",
        "    print(\"Campaign: {}\".format(status))\n",
        "    \n",
        "    if status == \"ACTIVE\" or status == \"CREATE FAILED\":\n",
        "        break\n",
        "        \n",
        "    time.sleep(60)"
      ],
      "execution_count": null,
      "outputs": [
        {
          "name": "stdout",
          "output_type": "stream",
          "text": [
            "Campaign: CREATE PENDING\n",
            "Campaign: CREATE IN_PROGRESS\n",
            "Campaign: CREATE IN_PROGRESS\n",
            "Campaign: CREATE IN_PROGRESS\n",
            "Campaign: CREATE IN_PROGRESS\n",
            "Campaign: CREATE IN_PROGRESS\n",
            "Campaign: CREATE IN_PROGRESS\n",
            "Campaign: CREATE IN_PROGRESS\n",
            "Campaign: CREATE IN_PROGRESS\n",
            "Campaign: CREATE IN_PROGRESS\n",
            "Campaign: ACTIVE\n"
          ]
        }
      ]
    },
    {
      "cell_type": "markdown",
      "metadata": {
        "id": "h-pErslb_Hbz"
      },
      "source": [
        "### Get Sample Recommendations\n",
        "\n",
        "After the campaign is active you are ready to get recommendations. First we need to select a random user from the collection. Then we will create a few helper functions for getting movie information to show for recommendations instead of just IDs."
      ]
    },
    {
      "cell_type": "code",
      "metadata": {
        "id": "7MF7rP0H_Hbz",
        "outputId": "74acc9c6-fd18-4679-a628-d641212e9b48"
      },
      "source": [
        "# data = pd.read_csv('./ml-100k/u.data', sep='\\t', names=['USER_ID', 'ITEM_ID', 'RATING', 'TIMESTAMP'])\n",
        "# data.head()"
      ],
      "execution_count": null,
      "outputs": [
        {
          "data": {
            "text/html": [
              "<div>\n",
              "<style scoped>\n",
              "    .dataframe tbody tr th:only-of-type {\n",
              "        vertical-align: middle;\n",
              "    }\n",
              "\n",
              "    .dataframe tbody tr th {\n",
              "        vertical-align: top;\n",
              "    }\n",
              "\n",
              "    .dataframe thead th {\n",
              "        text-align: right;\n",
              "    }\n",
              "</style>\n",
              "<table border=\"1\" class=\"dataframe\">\n",
              "  <thead>\n",
              "    <tr style=\"text-align: right;\">\n",
              "      <th></th>\n",
              "      <th>USER_ID</th>\n",
              "      <th>ITEM_ID</th>\n",
              "      <th>RATING</th>\n",
              "      <th>TIMESTAMP</th>\n",
              "    </tr>\n",
              "  </thead>\n",
              "  <tbody>\n",
              "    <tr>\n",
              "      <th>0</th>\n",
              "      <td>196</td>\n",
              "      <td>242</td>\n",
              "      <td>3</td>\n",
              "      <td>881250949</td>\n",
              "    </tr>\n",
              "    <tr>\n",
              "      <th>1</th>\n",
              "      <td>186</td>\n",
              "      <td>302</td>\n",
              "      <td>3</td>\n",
              "      <td>891717742</td>\n",
              "    </tr>\n",
              "    <tr>\n",
              "      <th>2</th>\n",
              "      <td>22</td>\n",
              "      <td>377</td>\n",
              "      <td>1</td>\n",
              "      <td>878887116</td>\n",
              "    </tr>\n",
              "    <tr>\n",
              "      <th>3</th>\n",
              "      <td>244</td>\n",
              "      <td>51</td>\n",
              "      <td>2</td>\n",
              "      <td>880606923</td>\n",
              "    </tr>\n",
              "    <tr>\n",
              "      <th>4</th>\n",
              "      <td>166</td>\n",
              "      <td>346</td>\n",
              "      <td>1</td>\n",
              "      <td>886397596</td>\n",
              "    </tr>\n",
              "  </tbody>\n",
              "</table>\n",
              "</div>"
            ],
            "text/plain": [
              "   USER_ID  ITEM_ID  RATING  TIMESTAMP\n",
              "0      196      242       3  881250949\n",
              "1      186      302       3  891717742\n",
              "2       22      377       1  878887116\n",
              "3      244       51       2  880606923\n",
              "4      166      346       1  886397596"
            ]
          },
          "execution_count": 28,
          "metadata": {},
          "output_type": "execute_result"
        }
      ]
    },
    {
      "cell_type": "code",
      "metadata": {
        "id": "C_dG5eLP_Hbz",
        "outputId": "84c5e137-163e-4943-da87-795d81dfffc0"
      },
      "source": [
        "# Getting a random user:\n",
        "user_id, item_id, _, _ = data.sample().values[0]\n",
        "print(\"USER: {}\".format(user_id))"
      ],
      "execution_count": null,
      "outputs": [
        {
          "name": "stdout",
          "output_type": "stream",
          "text": [
            "USER: 839\n"
          ]
        }
      ]
    },
    {
      "cell_type": "code",
      "metadata": {
        "id": "ZiJZLObW_Hbz"
      },
      "source": [
        "# First load items into memory\n",
        "items = pd.read_csv('./ml-100k/u.item', sep='|', usecols=[0,1], encoding='latin-1', names=['ITEM_ID', 'TITLE'], index_col='ITEM_ID')\n",
        "\n",
        "def get_movie_title(movie_id):\n",
        "    \"\"\"\n",
        "    Takes in an ID, returns a title\n",
        "    \"\"\"\n",
        "    movie_id = int(movie_id)-1\n",
        "    return items.iloc[movie_id]['TITLE']\n"
      ],
      "execution_count": null,
      "outputs": []
    },
    {
      "cell_type": "markdown",
      "metadata": {
        "id": "oyQkKBeA_Hb0"
      },
      "source": [
        "##### Call GetRecommendations\n",
        "\n",
        "Using the user that you obtained above, the lines below will get recommendations for you and return the list of movies that are recommended.\n"
      ]
    },
    {
      "cell_type": "code",
      "metadata": {
        "id": "MynTrpQO_Hb0",
        "outputId": "6b2bd0e3-c9f7-4068-e7f6-bb9c601f45fc"
      },
      "source": [
        "get_recommendations_response = personalize_runtime.get_recommendations(\n",
        "    campaignArn = campaign_arn,\n",
        "    userId = str(user_id),\n",
        ")\n",
        "# Update DF rendering\n",
        "pd.set_option('display.max_rows', 30)\n",
        "\n",
        "print(\"Recommendations for user: \", user_id)\n",
        "\n",
        "item_list = get_recommendations_response['itemList']\n",
        "\n",
        "recommendation_list = []\n",
        "\n",
        "for item in item_list:\n",
        "    title = get_movie_title(item['itemId'])\n",
        "    recommendation_list.append(title)\n",
        "    \n",
        "recommendations_df = pd.DataFrame(recommendation_list, columns = ['OriginalRecs'])\n",
        "recommendations_df"
      ],
      "execution_count": null,
      "outputs": [
        {
          "name": "stdout",
          "output_type": "stream",
          "text": [
            "Recommendations for user:  839\n"
          ]
        },
        {
          "data": {
            "text/html": [
              "<div>\n",
              "<style scoped>\n",
              "    .dataframe tbody tr th:only-of-type {\n",
              "        vertical-align: middle;\n",
              "    }\n",
              "\n",
              "    .dataframe tbody tr th {\n",
              "        vertical-align: top;\n",
              "    }\n",
              "\n",
              "    .dataframe thead th {\n",
              "        text-align: right;\n",
              "    }\n",
              "</style>\n",
              "<table border=\"1\" class=\"dataframe\">\n",
              "  <thead>\n",
              "    <tr style=\"text-align: right;\">\n",
              "      <th></th>\n",
              "      <th>OriginalRecs</th>\n",
              "    </tr>\n",
              "  </thead>\n",
              "  <tbody>\n",
              "    <tr>\n",
              "      <th>0</th>\n",
              "      <td>Schindler's List (1993)</td>\n",
              "    </tr>\n",
              "    <tr>\n",
              "      <th>1</th>\n",
              "      <td>Pulp Fiction (1994)</td>\n",
              "    </tr>\n",
              "    <tr>\n",
              "      <th>2</th>\n",
              "      <td>Usual Suspects, The (1995)</td>\n",
              "    </tr>\n",
              "    <tr>\n",
              "      <th>3</th>\n",
              "      <td>Raiders of the Lost Ark (1981)</td>\n",
              "    </tr>\n",
              "    <tr>\n",
              "      <th>4</th>\n",
              "      <td>Silence of the Lambs, The (1991)</td>\n",
              "    </tr>\n",
              "    <tr>\n",
              "      <th>5</th>\n",
              "      <td>Casablanca (1942)</td>\n",
              "    </tr>\n",
              "    <tr>\n",
              "      <th>6</th>\n",
              "      <td>Fugitive, The (1993)</td>\n",
              "    </tr>\n",
              "    <tr>\n",
              "      <th>7</th>\n",
              "      <td>Shawshank Redemption, The (1994)</td>\n",
              "    </tr>\n",
              "    <tr>\n",
              "      <th>8</th>\n",
              "      <td>Amadeus (1984)</td>\n",
              "    </tr>\n",
              "    <tr>\n",
              "      <th>9</th>\n",
              "      <td>Braveheart (1995)</td>\n",
              "    </tr>\n",
              "    <tr>\n",
              "      <th>10</th>\n",
              "      <td>Truth About Cats &amp; Dogs, The (1996)</td>\n",
              "    </tr>\n",
              "    <tr>\n",
              "      <th>11</th>\n",
              "      <td>Sling Blade (1996)</td>\n",
              "    </tr>\n",
              "    <tr>\n",
              "      <th>12</th>\n",
              "      <td>One Flew Over the Cuckoo's Nest (1975)</td>\n",
              "    </tr>\n",
              "    <tr>\n",
              "      <th>13</th>\n",
              "      <td>Aladdin (1992)</td>\n",
              "    </tr>\n",
              "    <tr>\n",
              "      <th>14</th>\n",
              "      <td>Back to the Future (1985)</td>\n",
              "    </tr>\n",
              "    <tr>\n",
              "      <th>15</th>\n",
              "      <td>Time to Kill, A (1996)</td>\n",
              "    </tr>\n",
              "    <tr>\n",
              "      <th>16</th>\n",
              "      <td>Seven (Se7en) (1995)</td>\n",
              "    </tr>\n",
              "    <tr>\n",
              "      <th>17</th>\n",
              "      <td>E.T. the Extra-Terrestrial (1982)</td>\n",
              "    </tr>\n",
              "    <tr>\n",
              "      <th>18</th>\n",
              "      <td>Princess Bride, The (1987)</td>\n",
              "    </tr>\n",
              "    <tr>\n",
              "      <th>19</th>\n",
              "      <td>Godfather, The (1972)</td>\n",
              "    </tr>\n",
              "    <tr>\n",
              "      <th>20</th>\n",
              "      <td>Sleepers (1996)</td>\n",
              "    </tr>\n",
              "    <tr>\n",
              "      <th>21</th>\n",
              "      <td>Long Kiss Goodnight, The (1996)</td>\n",
              "    </tr>\n",
              "    <tr>\n",
              "      <th>22</th>\n",
              "      <td>Monty Python and the Holy Grail (1974)</td>\n",
              "    </tr>\n",
              "    <tr>\n",
              "      <th>23</th>\n",
              "      <td>Willy Wonka and the Chocolate Factory (1971)</td>\n",
              "    </tr>\n",
              "    <tr>\n",
              "      <th>24</th>\n",
              "      <td>GoodFellas (1990)</td>\n",
              "    </tr>\n",
              "  </tbody>\n",
              "</table>\n",
              "</div>"
            ],
            "text/plain": [
              "                                    OriginalRecs\n",
              "0                        Schindler's List (1993)\n",
              "1                            Pulp Fiction (1994)\n",
              "2                     Usual Suspects, The (1995)\n",
              "3                 Raiders of the Lost Ark (1981)\n",
              "4               Silence of the Lambs, The (1991)\n",
              "5                              Casablanca (1942)\n",
              "6                           Fugitive, The (1993)\n",
              "7               Shawshank Redemption, The (1994)\n",
              "8                                 Amadeus (1984)\n",
              "9                              Braveheart (1995)\n",
              "10           Truth About Cats & Dogs, The (1996)\n",
              "11                            Sling Blade (1996)\n",
              "12        One Flew Over the Cuckoo's Nest (1975)\n",
              "13                                Aladdin (1992)\n",
              "14                     Back to the Future (1985)\n",
              "15                        Time to Kill, A (1996)\n",
              "16                          Seven (Se7en) (1995)\n",
              "17             E.T. the Extra-Terrestrial (1982)\n",
              "18                    Princess Bride, The (1987)\n",
              "19                         Godfather, The (1972)\n",
              "20                               Sleepers (1996)\n",
              "21               Long Kiss Goodnight, The (1996)\n",
              "22        Monty Python and the Holy Grail (1974)\n",
              "23  Willy Wonka and the Chocolate Factory (1971)\n",
              "24                             GoodFellas (1990)"
            ]
          },
          "execution_count": 31,
          "metadata": {},
          "output_type": "execute_result"
        }
      ]
    },
    {
      "cell_type": "markdown",
      "metadata": {
        "id": "rbW-4-U8_Hb0"
      },
      "source": [
        "### Review\n",
        "\n",
        "Using the codes above you have successfully trained a deep learning model to generate movie recommendations based on prior user behavior. Think about other types of problems where this data is available and what it might look like to build a system like this to offer those recommendations.\n",
        "\n",
        "Now you are ready to move onto the next notebook.\n",
        "\n"
      ]
    },
    {
      "cell_type": "markdown",
      "metadata": {
        "id": "1Grq5eta_Hb1"
      },
      "source": [
        "### Notes for the Next Notebook:\n",
        "\n",
        "There are a few values you will need for the next notebook, execute the cells below to store them so they can be copied and pasted into the next part of the exercise."
      ]
    },
    {
      "cell_type": "code",
      "metadata": {
        "id": "1HPPTajW_Hb1",
        "outputId": "e2859c3e-b4af-4642-df9b-9efe1d30ff18"
      },
      "source": [
        "%store campaign_arn"
      ],
      "execution_count": null,
      "outputs": [
        {
          "name": "stdout",
          "output_type": "stream",
          "text": [
            "Stored 'campaign_arn' (str)\n"
          ]
        }
      ]
    },
    {
      "cell_type": "code",
      "metadata": {
        "id": "pceKhDWk_Hb2",
        "outputId": "a3fefabf-d0f2-4cd7-ea43-760a37e414b6"
      },
      "source": [
        "%store dataset_group_arn"
      ],
      "execution_count": null,
      "outputs": [
        {
          "name": "stdout",
          "output_type": "stream",
          "text": [
            "Stored 'dataset_group_arn' (str)\n"
          ]
        }
      ]
    },
    {
      "cell_type": "code",
      "metadata": {
        "id": "VMesA2wc_Hb2",
        "outputId": "71ead66e-0b1e-468f-d8e7-92e50dcfd2b7"
      },
      "source": [
        "%store solution_version_arn"
      ],
      "execution_count": null,
      "outputs": [
        {
          "name": "stdout",
          "output_type": "stream",
          "text": [
            "Stored 'solution_version_arn' (str)\n"
          ]
        }
      ]
    },
    {
      "cell_type": "code",
      "metadata": {
        "id": "4TlfGtBr_Hb2",
        "outputId": "7b536c7b-ccf0-44f4-963b-e94d1188575a"
      },
      "source": [
        "%store solution_arn"
      ],
      "execution_count": null,
      "outputs": [
        {
          "name": "stdout",
          "output_type": "stream",
          "text": [
            "Stored 'solution_arn' (str)\n"
          ]
        }
      ]
    },
    {
      "cell_type": "code",
      "metadata": {
        "id": "M8MfGx_Z_Hb3",
        "outputId": "a3e15c06-e4b9-40f5-b49a-f262113b65c1"
      },
      "source": [
        "%store dataset_arn"
      ],
      "execution_count": null,
      "outputs": [
        {
          "name": "stdout",
          "output_type": "stream",
          "text": [
            "Stored 'dataset_arn' (str)\n"
          ]
        }
      ]
    },
    {
      "cell_type": "code",
      "metadata": {
        "id": "YqoOM96q_Hb3",
        "outputId": "8dce9856-cb54-4349-b687-e432a97eebc7"
      },
      "source": [
        "%store campaign_arn"
      ],
      "execution_count": null,
      "outputs": [
        {
          "name": "stdout",
          "output_type": "stream",
          "text": [
            "Stored 'campaign_arn' (str)\n"
          ]
        }
      ]
    },
    {
      "cell_type": "code",
      "metadata": {
        "id": "3OsNJlyD_Hb3",
        "outputId": "1c3efe27-7daa-424c-f19f-aa18195d46c0"
      },
      "source": [
        "%store schema_arn"
      ],
      "execution_count": null,
      "outputs": [
        {
          "name": "stdout",
          "output_type": "stream",
          "text": [
            "Stored 'schema_arn' (str)\n"
          ]
        }
      ]
    },
    {
      "cell_type": "code",
      "metadata": {
        "id": "Mo10lehj_Hb3",
        "outputId": "c873128d-806f-4a07-974a-9830c23d05ba"
      },
      "source": [
        "%store bucket"
      ],
      "execution_count": null,
      "outputs": [
        {
          "name": "stdout",
          "output_type": "stream",
          "text": [
            "Stored 'bucket' (str)\n"
          ]
        }
      ]
    },
    {
      "cell_type": "code",
      "metadata": {
        "id": "T68XY-w9_Hb4",
        "outputId": "283e4058-4d5c-412a-bab5-15ce679e2c02"
      },
      "source": [
        "%store filename"
      ],
      "execution_count": null,
      "outputs": [
        {
          "name": "stdout",
          "output_type": "stream",
          "text": [
            "Stored 'filename' (str)\n"
          ]
        }
      ]
    },
    {
      "cell_type": "code",
      "metadata": {
        "id": "XjOf7Q2B_Hb4",
        "outputId": "27bd82cd-9c2a-4849-89c2-1a18817c83b2"
      },
      "source": [
        "%store role_name"
      ],
      "execution_count": null,
      "outputs": [
        {
          "name": "stdout",
          "output_type": "stream",
          "text": [
            "Stored 'role_name' (str)\n"
          ]
        }
      ]
    },
    {
      "cell_type": "code",
      "metadata": {
        "id": "cx4n22qa_Hb4",
        "outputId": "cccd1485-b0af-44e4-de7d-4166392da9b6"
      },
      "source": [
        "%store recommendations_df"
      ],
      "execution_count": null,
      "outputs": [
        {
          "name": "stdout",
          "output_type": "stream",
          "text": [
            "Stored 'recommendations_df' (DataFrame)\n"
          ]
        }
      ]
    },
    {
      "cell_type": "code",
      "metadata": {
        "id": "GiRftL73_Hb4",
        "outputId": "8ca21ae2-be0e-43f3-95a1-8254e78cfeb4"
      },
      "source": [
        "%store user_id"
      ],
      "execution_count": null,
      "outputs": [
        {
          "name": "stdout",
          "output_type": "stream",
          "text": [
            "Stored 'user_id' (int64)\n"
          ]
        }
      ]
    },
    {
      "cell_type": "markdown",
      "metadata": {
        "id": "RUw3KCd1_hHu"
      },
      "source": [
        "## Part 2 - View Campaign and Interactions\n",
        "> In the first part, you successfully built and deployed a recommendation model using deep learning with Amazon Personalize. This notebook will expand on that and will walk you through adding the ability to react to real time behavior of users. If their intent changes while browsing a movie, you will see revised recommendations based on that behavior. It will also showcase demo code for simulating user behavior selecting movies before the recommendations are returned."
      ]
    },
    {
      "cell_type": "markdown",
      "metadata": {
        "id": "fKH66tEd_hH4"
      },
      "source": [
        "Below we start with just importing libraries that we need to interact with Personalize"
      ]
    },
    {
      "cell_type": "code",
      "metadata": {
        "id": "aY4zLz71_hH6"
      },
      "source": [
        "# Imports\n",
        "import boto3\n",
        "import json\n",
        "import numpy as np\n",
        "import pandas as pd\n",
        "import time\n",
        "import uuid"
      ],
      "execution_count": null,
      "outputs": []
    },
    {
      "cell_type": "markdown",
      "metadata": {
        "id": "iSTKZ51G_hH-"
      },
      "source": [
        "The line below will retrieve your shared variables from the first notebook."
      ]
    },
    {
      "cell_type": "code",
      "metadata": {
        "id": "LNnrZ80r_hH_"
      },
      "source": [
        "%store -r"
      ],
      "execution_count": null,
      "outputs": []
    },
    {
      "cell_type": "code",
      "metadata": {
        "id": "4F0pO9Id_hIA"
      },
      "source": [
        "# Setup and Config\n",
        "# Recommendations from Event data\n",
        "personalize = boto3.client('personalize')\n",
        "personalize_runtime = boto3.client('personalize-runtime')\n",
        "\n",
        "# Establish a connection to Personalize's Event Streaming\n",
        "personalize_events = boto3.client(service_name='personalize-events')"
      ],
      "execution_count": null,
      "outputs": []
    },
    {
      "cell_type": "markdown",
      "metadata": {
        "id": "pf7Q6sl5_hIB"
      },
      "source": [
        "### Creating an Event Tracker\n",
        "\n",
        "Before your recommendation system can respond to real time events you will need an event tracker, the code below will generate one and can be used going forward with this lab. Feel free to name it something more clever."
      ]
    },
    {
      "cell_type": "code",
      "metadata": {
        "id": "wO5iDqIJ_hID",
        "outputId": "acb7e05a-adfc-4397-da90-ac3b19337c07"
      },
      "source": [
        "response = personalize.create_event_tracker(\n",
        "    name='MovieClickTracker',\n",
        "    datasetGroupArn=dataset_group_arn\n",
        ")\n",
        "print(response['eventTrackerArn'])\n",
        "print(response['trackingId'])\n",
        "TRACKING_ID = response['trackingId']"
      ],
      "execution_count": null,
      "outputs": [
        {
          "name": "stdout",
          "output_type": "stream",
          "text": [
            "arn:aws:personalize:us-east-1:284105231590:event-tracker/a1b7dce4\n",
            "f252168d-a73d-467a-b2e7-66071f5d6d78\n"
          ]
        }
      ]
    },
    {
      "cell_type": "code",
      "metadata": {
        "id": "e5hCgV1o_hIG"
      },
      "source": [
        "event_tracker_arn = response['eventTrackerArn']"
      ],
      "execution_count": null,
      "outputs": []
    },
    {
      "cell_type": "markdown",
      "metadata": {
        "id": "rtb1TYX0_hII"
      },
      "source": [
        "### Configuring Source Data\n",
        "\n",
        "Above you'll see your tracking ID and this has been assigned to a variable so no further action is needed by you. The lines below are going to setup the data used for recommendations so you can render the list of movies later."
      ]
    },
    {
      "cell_type": "code",
      "metadata": {
        "id": "NQReQRkc_hIJ"
      },
      "source": [
        "# First load items into memory\n",
        "items = pd.read_csv('./ml-100k/u.item', sep='|', usecols=[0,1], encoding='latin-1', names=['ITEM_ID', 'TITLE'], index_col='ITEM_ID')\n",
        "\n",
        "def get_movie_title(movie_id):\n",
        "    \"\"\"\n",
        "    Takes in an ID, returns a title\n",
        "    \"\"\"\n",
        "    movie_id = int(movie_id)-1\n",
        "    return items.loc[movie_id]['TITLE']"
      ],
      "execution_count": null,
      "outputs": []
    },
    {
      "cell_type": "markdown",
      "metadata": {
        "id": "D9Fef_iq_hIK"
      },
      "source": [
        "### Getting Recommendations\n",
        "\n",
        "First we will render the recommendations again from the previous notebook:"
      ]
    },
    {
      "cell_type": "code",
      "metadata": {
        "id": "GJn3PWjX_hIM",
        "outputId": "f2d34499-4226-4c79-939b-d22223dc4bdc"
      },
      "source": [
        "recommendations_df"
      ],
      "execution_count": null,
      "outputs": [
        {
          "data": {
            "text/html": [
              "<div>\n",
              "<style scoped>\n",
              "    .dataframe tbody tr th:only-of-type {\n",
              "        vertical-align: middle;\n",
              "    }\n",
              "\n",
              "    .dataframe tbody tr th {\n",
              "        vertical-align: top;\n",
              "    }\n",
              "\n",
              "    .dataframe thead th {\n",
              "        text-align: right;\n",
              "    }\n",
              "</style>\n",
              "<table border=\"1\" class=\"dataframe\">\n",
              "  <thead>\n",
              "    <tr style=\"text-align: right;\">\n",
              "      <th></th>\n",
              "      <th>OriginalRecs</th>\n",
              "    </tr>\n",
              "  </thead>\n",
              "  <tbody>\n",
              "    <tr>\n",
              "      <th>0</th>\n",
              "      <td>Schindler's List (1993)</td>\n",
              "    </tr>\n",
              "    <tr>\n",
              "      <th>1</th>\n",
              "      <td>Pulp Fiction (1994)</td>\n",
              "    </tr>\n",
              "    <tr>\n",
              "      <th>2</th>\n",
              "      <td>Usual Suspects, The (1995)</td>\n",
              "    </tr>\n",
              "    <tr>\n",
              "      <th>3</th>\n",
              "      <td>Raiders of the Lost Ark (1981)</td>\n",
              "    </tr>\n",
              "    <tr>\n",
              "      <th>4</th>\n",
              "      <td>Silence of the Lambs, The (1991)</td>\n",
              "    </tr>\n",
              "    <tr>\n",
              "      <th>5</th>\n",
              "      <td>Casablanca (1942)</td>\n",
              "    </tr>\n",
              "    <tr>\n",
              "      <th>6</th>\n",
              "      <td>Fugitive, The (1993)</td>\n",
              "    </tr>\n",
              "    <tr>\n",
              "      <th>7</th>\n",
              "      <td>Shawshank Redemption, The (1994)</td>\n",
              "    </tr>\n",
              "    <tr>\n",
              "      <th>8</th>\n",
              "      <td>Amadeus (1984)</td>\n",
              "    </tr>\n",
              "    <tr>\n",
              "      <th>9</th>\n",
              "      <td>Braveheart (1995)</td>\n",
              "    </tr>\n",
              "    <tr>\n",
              "      <th>10</th>\n",
              "      <td>Truth About Cats &amp; Dogs, The (1996)</td>\n",
              "    </tr>\n",
              "    <tr>\n",
              "      <th>11</th>\n",
              "      <td>Sling Blade (1996)</td>\n",
              "    </tr>\n",
              "    <tr>\n",
              "      <th>12</th>\n",
              "      <td>One Flew Over the Cuckoo's Nest (1975)</td>\n",
              "    </tr>\n",
              "    <tr>\n",
              "      <th>13</th>\n",
              "      <td>Aladdin (1992)</td>\n",
              "    </tr>\n",
              "    <tr>\n",
              "      <th>14</th>\n",
              "      <td>Back to the Future (1985)</td>\n",
              "    </tr>\n",
              "    <tr>\n",
              "      <th>15</th>\n",
              "      <td>Time to Kill, A (1996)</td>\n",
              "    </tr>\n",
              "    <tr>\n",
              "      <th>16</th>\n",
              "      <td>Seven (Se7en) (1995)</td>\n",
              "    </tr>\n",
              "    <tr>\n",
              "      <th>17</th>\n",
              "      <td>E.T. the Extra-Terrestrial (1982)</td>\n",
              "    </tr>\n",
              "    <tr>\n",
              "      <th>18</th>\n",
              "      <td>Princess Bride, The (1987)</td>\n",
              "    </tr>\n",
              "    <tr>\n",
              "      <th>19</th>\n",
              "      <td>Godfather, The (1972)</td>\n",
              "    </tr>\n",
              "    <tr>\n",
              "      <th>20</th>\n",
              "      <td>Sleepers (1996)</td>\n",
              "    </tr>\n",
              "    <tr>\n",
              "      <th>21</th>\n",
              "      <td>Long Kiss Goodnight, The (1996)</td>\n",
              "    </tr>\n",
              "    <tr>\n",
              "      <th>22</th>\n",
              "      <td>Monty Python and the Holy Grail (1974)</td>\n",
              "    </tr>\n",
              "    <tr>\n",
              "      <th>23</th>\n",
              "      <td>Willy Wonka and the Chocolate Factory (1971)</td>\n",
              "    </tr>\n",
              "    <tr>\n",
              "      <th>24</th>\n",
              "      <td>GoodFellas (1990)</td>\n",
              "    </tr>\n",
              "  </tbody>\n",
              "</table>\n",
              "</div>"
            ],
            "text/plain": [
              "                                    OriginalRecs\n",
              "0                        Schindler's List (1993)\n",
              "1                            Pulp Fiction (1994)\n",
              "2                     Usual Suspects, The (1995)\n",
              "3                 Raiders of the Lost Ark (1981)\n",
              "4               Silence of the Lambs, The (1991)\n",
              "5                              Casablanca (1942)\n",
              "6                           Fugitive, The (1993)\n",
              "7               Shawshank Redemption, The (1994)\n",
              "8                                 Amadeus (1984)\n",
              "9                              Braveheart (1995)\n",
              "10           Truth About Cats & Dogs, The (1996)\n",
              "11                            Sling Blade (1996)\n",
              "12        One Flew Over the Cuckoo's Nest (1975)\n",
              "13                                Aladdin (1992)\n",
              "14                     Back to the Future (1985)\n",
              "15                        Time to Kill, A (1996)\n",
              "16                          Seven (Se7en) (1995)\n",
              "17             E.T. the Extra-Terrestrial (1982)\n",
              "18                    Princess Bride, The (1987)\n",
              "19                         Godfather, The (1972)\n",
              "20                               Sleepers (1996)\n",
              "21               Long Kiss Goodnight, The (1996)\n",
              "22        Monty Python and the Holy Grail (1974)\n",
              "23  Willy Wonka and the Chocolate Factory (1971)\n",
              "24                             GoodFellas (1990)"
            ]
          },
          "execution_count": 10,
          "metadata": {},
          "output_type": "execute_result"
        }
      ]
    },
    {
      "cell_type": "markdown",
      "metadata": {
        "id": "7EB_xeUN_hIN"
      },
      "source": [
        "### Simulating User Behavior\n",
        "\n",
        "The lines below provide a code sample that simulates a user interacting with a particular item, you will then get recommendations that differ from those when you started."
      ]
    },
    {
      "cell_type": "code",
      "metadata": {
        "id": "OwR_7NqZ_hIO"
      },
      "source": [
        "session_dict = {}"
      ],
      "execution_count": null,
      "outputs": []
    },
    {
      "cell_type": "code",
      "metadata": {
        "id": "XChCdTKc_hIO"
      },
      "source": [
        "def send_movie_click(USER_ID, ITEM_ID):\n",
        "    \"\"\"\n",
        "    Simulates a click as an event\n",
        "    to send an event to Amazon Personalize's Event Tracker\n",
        "    \"\"\"\n",
        "    # Configure Session\n",
        "    try:\n",
        "        session_ID = session_dict[USER_ID]\n",
        "    except:\n",
        "        session_dict[USER_ID] = str(uuid.uuid1())\n",
        "        session_ID = session_dict[USER_ID]\n",
        "        \n",
        "    # Configure Properties:\n",
        "    event = {\n",
        "    \"itemId\": str(ITEM_ID),\n",
        "    }\n",
        "    event_json = json.dumps(event)\n",
        "        \n",
        "    # Make Call\n",
        "    personalize_events.put_events(\n",
        "    trackingId = TRACKING_ID,\n",
        "    userId= USER_ID,\n",
        "    sessionId = session_ID,\n",
        "    eventList = [{\n",
        "        'sentAt': int(time.time()),\n",
        "        'eventType': 'EVENT_TYPE',\n",
        "        'properties': event_json\n",
        "        }]\n",
        ")"
      ],
      "execution_count": null,
      "outputs": []
    },
    {
      "cell_type": "markdown",
      "metadata": {
        "id": "-rxaMxPl_hIP"
      },
      "source": [
        "Immediately below this line will update the tracker as if the user has clicked a particular title.\n",
        "\n",
        "\n",
        "If the table generated by the cells below does not shift the recommendations simply try another random 3 digit number in the cell above and run both cells again. You'll see a third column generated of recommendations."
      ]
    },
    {
      "cell_type": "code",
      "metadata": {
        "id": "gW-_L-Ei_hIR"
      },
      "source": [
        "# Pick a movie, we will use ID 270 or Gattaca\n",
        "movie_to_click = 270\n",
        "movie_title_clicked = get_movie_title(movie_to_click)\n",
        "send_movie_click(USER_ID=str(user_id), ITEM_ID=movie_to_click)"
      ],
      "execution_count": null,
      "outputs": []
    },
    {
      "cell_type": "markdown",
      "metadata": {
        "id": "X9D6p3rN_hIR"
      },
      "source": [
        "After executing this block you will see the alterations in the recommendations now that you have event tracking enabled and that you have sent the events to the service."
      ]
    },
    {
      "cell_type": "code",
      "metadata": {
        "id": "iBPnCaZu_hIS",
        "outputId": "97c924fb-f19c-4eff-815d-4300c7a1023c"
      },
      "source": [
        "get_recommendations_response = personalize_runtime.get_recommendations(\n",
        "    campaignArn = campaign_arn,\n",
        "    userId = str(user_id),\n",
        ")\n",
        "\n",
        "print(\"Recommendations for user: \", user_id)\n",
        "\n",
        "item_list = get_recommendations_response['itemList']\n",
        "\n",
        "recommendation_list = []\n",
        "\n",
        "for item in item_list:\n",
        "    title = get_movie_title(item['itemId'])\n",
        "    recommendation_list.append(title)\n",
        "    \n",
        "new_rec_DF = pd.DataFrame(recommendation_list, columns = [movie_title_clicked])\n",
        "\n",
        "recommendations_df = recommendations_df.join(new_rec_DF)\n",
        "recommendations_df"
      ],
      "execution_count": null,
      "outputs": [
        {
          "name": "stdout",
          "output_type": "stream",
          "text": [
            "Recommendations for user:  839\n"
          ]
        },
        {
          "data": {
            "text/html": [
              "<div>\n",
              "<style scoped>\n",
              "    .dataframe tbody tr th:only-of-type {\n",
              "        vertical-align: middle;\n",
              "    }\n",
              "\n",
              "    .dataframe tbody tr th {\n",
              "        vertical-align: top;\n",
              "    }\n",
              "\n",
              "    .dataframe thead th {\n",
              "        text-align: right;\n",
              "    }\n",
              "</style>\n",
              "<table border=\"1\" class=\"dataframe\">\n",
              "  <thead>\n",
              "    <tr style=\"text-align: right;\">\n",
              "      <th></th>\n",
              "      <th>OriginalRecs</th>\n",
              "      <th>Full Monty, The (1997)</th>\n",
              "    </tr>\n",
              "  </thead>\n",
              "  <tbody>\n",
              "    <tr>\n",
              "      <th>0</th>\n",
              "      <td>Schindler's List (1993)</td>\n",
              "      <td>Professional, The (1994)</td>\n",
              "    </tr>\n",
              "    <tr>\n",
              "      <th>1</th>\n",
              "      <td>Pulp Fiction (1994)</td>\n",
              "      <td>unknown</td>\n",
              "    </tr>\n",
              "    <tr>\n",
              "      <th>2</th>\n",
              "      <td>Usual Suspects, The (1995)</td>\n",
              "      <td>Amistad (1997)</td>\n",
              "    </tr>\n",
              "    <tr>\n",
              "      <th>3</th>\n",
              "      <td>Raiders of the Lost Ark (1981)</td>\n",
              "      <td>Chasing Amy (1997)</td>\n",
              "    </tr>\n",
              "    <tr>\n",
              "      <th>4</th>\n",
              "      <td>Silence of the Lambs, The (1991)</td>\n",
              "      <td>Muppet Treasure Island (1996)</td>\n",
              "    </tr>\n",
              "    <tr>\n",
              "      <th>5</th>\n",
              "      <td>Casablanca (1942)</td>\n",
              "      <td>Empire Strikes Back, The (1980)</td>\n",
              "    </tr>\n",
              "    <tr>\n",
              "      <th>6</th>\n",
              "      <td>Fugitive, The (1993)</td>\n",
              "      <td>River Wild, The (1994)</td>\n",
              "    </tr>\n",
              "    <tr>\n",
              "      <th>7</th>\n",
              "      <td>Shawshank Redemption, The (1994)</td>\n",
              "      <td>Midnight in the Garden of Good and Evil (1997)</td>\n",
              "    </tr>\n",
              "    <tr>\n",
              "      <th>8</th>\n",
              "      <td>Amadeus (1984)</td>\n",
              "      <td>Last of the Mohicans, The (1992)</td>\n",
              "    </tr>\n",
              "    <tr>\n",
              "      <th>9</th>\n",
              "      <td>Braveheart (1995)</td>\n",
              "      <td>Marvin's Room (1996)</td>\n",
              "    </tr>\n",
              "    <tr>\n",
              "      <th>10</th>\n",
              "      <td>Truth About Cats &amp; Dogs, The (1996)</td>\n",
              "      <td>Seven (Se7en) (1995)</td>\n",
              "    </tr>\n",
              "    <tr>\n",
              "      <th>11</th>\n",
              "      <td>Sling Blade (1996)</td>\n",
              "      <td>Spitfire Grill, The (1996)</td>\n",
              "    </tr>\n",
              "    <tr>\n",
              "      <th>12</th>\n",
              "      <td>One Flew Over the Cuckoo's Nest (1975)</td>\n",
              "      <td>Citizen Ruth (1996)</td>\n",
              "    </tr>\n",
              "    <tr>\n",
              "      <th>13</th>\n",
              "      <td>Aladdin (1992)</td>\n",
              "      <td>Hoodlum (1997)</td>\n",
              "    </tr>\n",
              "    <tr>\n",
              "      <th>14</th>\n",
              "      <td>Back to the Future (1985)</td>\n",
              "      <td>Henry V (1989)</td>\n",
              "    </tr>\n",
              "    <tr>\n",
              "      <th>15</th>\n",
              "      <td>Time to Kill, A (1996)</td>\n",
              "      <td>I.Q. (1994)</td>\n",
              "    </tr>\n",
              "    <tr>\n",
              "      <th>16</th>\n",
              "      <td>Seven (Se7en) (1995)</td>\n",
              "      <td>Dr. Strangelove or: How I Learned to Stop Worr...</td>\n",
              "    </tr>\n",
              "    <tr>\n",
              "      <th>17</th>\n",
              "      <td>E.T. the Extra-Terrestrial (1982)</td>\n",
              "      <td>Starship Troopers (1997)</td>\n",
              "    </tr>\n",
              "    <tr>\n",
              "      <th>18</th>\n",
              "      <td>Princess Bride, The (1987)</td>\n",
              "      <td>Santa Clause, The (1994)</td>\n",
              "    </tr>\n",
              "    <tr>\n",
              "      <th>19</th>\n",
              "      <td>Godfather, The (1972)</td>\n",
              "      <td>Ref, The (1994)</td>\n",
              "    </tr>\n",
              "    <tr>\n",
              "      <th>20</th>\n",
              "      <td>Sleepers (1996)</td>\n",
              "      <td>Apocalypse Now (1979)</td>\n",
              "    </tr>\n",
              "    <tr>\n",
              "      <th>21</th>\n",
              "      <td>Long Kiss Goodnight, The (1996)</td>\n",
              "      <td>Star Trek: First Contact (1996)</td>\n",
              "    </tr>\n",
              "    <tr>\n",
              "      <th>22</th>\n",
              "      <td>Monty Python and the Holy Grail (1974)</td>\n",
              "      <td>Free Willy (1993)</td>\n",
              "    </tr>\n",
              "    <tr>\n",
              "      <th>23</th>\n",
              "      <td>Willy Wonka and the Chocolate Factory (1971)</td>\n",
              "      <td>Princess Bride, The (1987)</td>\n",
              "    </tr>\n",
              "    <tr>\n",
              "      <th>24</th>\n",
              "      <td>GoodFellas (1990)</td>\n",
              "      <td>Shanghai Triad (Yao a yao yao dao waipo qiao) ...</td>\n",
              "    </tr>\n",
              "  </tbody>\n",
              "</table>\n",
              "</div>"
            ],
            "text/plain": [
              "                                    OriginalRecs  \\\n",
              "0                        Schindler's List (1993)   \n",
              "1                            Pulp Fiction (1994)   \n",
              "2                     Usual Suspects, The (1995)   \n",
              "3                 Raiders of the Lost Ark (1981)   \n",
              "4               Silence of the Lambs, The (1991)   \n",
              "5                              Casablanca (1942)   \n",
              "6                           Fugitive, The (1993)   \n",
              "7               Shawshank Redemption, The (1994)   \n",
              "8                                 Amadeus (1984)   \n",
              "9                              Braveheart (1995)   \n",
              "10           Truth About Cats & Dogs, The (1996)   \n",
              "11                            Sling Blade (1996)   \n",
              "12        One Flew Over the Cuckoo's Nest (1975)   \n",
              "13                                Aladdin (1992)   \n",
              "14                     Back to the Future (1985)   \n",
              "15                        Time to Kill, A (1996)   \n",
              "16                          Seven (Se7en) (1995)   \n",
              "17             E.T. the Extra-Terrestrial (1982)   \n",
              "18                    Princess Bride, The (1987)   \n",
              "19                         Godfather, The (1972)   \n",
              "20                               Sleepers (1996)   \n",
              "21               Long Kiss Goodnight, The (1996)   \n",
              "22        Monty Python and the Holy Grail (1974)   \n",
              "23  Willy Wonka and the Chocolate Factory (1971)   \n",
              "24                             GoodFellas (1990)   \n",
              "\n",
              "                               Full Monty, The (1997)  \n",
              "0                            Professional, The (1994)  \n",
              "1                                             unknown  \n",
              "2                                      Amistad (1997)  \n",
              "3                                  Chasing Amy (1997)  \n",
              "4                       Muppet Treasure Island (1996)  \n",
              "5                     Empire Strikes Back, The (1980)  \n",
              "6                              River Wild, The (1994)  \n",
              "7      Midnight in the Garden of Good and Evil (1997)  \n",
              "8                    Last of the Mohicans, The (1992)  \n",
              "9                                Marvin's Room (1996)  \n",
              "10                               Seven (Se7en) (1995)  \n",
              "11                         Spitfire Grill, The (1996)  \n",
              "12                                Citizen Ruth (1996)  \n",
              "13                                     Hoodlum (1997)  \n",
              "14                                     Henry V (1989)  \n",
              "15                                        I.Q. (1994)  \n",
              "16  Dr. Strangelove or: How I Learned to Stop Worr...  \n",
              "17                           Starship Troopers (1997)  \n",
              "18                           Santa Clause, The (1994)  \n",
              "19                                    Ref, The (1994)  \n",
              "20                              Apocalypse Now (1979)  \n",
              "21                    Star Trek: First Contact (1996)  \n",
              "22                                  Free Willy (1993)  \n",
              "23                         Princess Bride, The (1987)  \n",
              "24  Shanghai Triad (Yao a yao yao dao waipo qiao) ...  "
            ]
          },
          "execution_count": 14,
          "metadata": {},
          "output_type": "execute_result"
        }
      ]
    },
    {
      "cell_type": "markdown",
      "metadata": {
        "id": "ALADGyAa_hIT"
      },
      "source": [
        "### Conclusion\n",
        "\n",
        "You can see now that recommendations are altered by changing the movie that a user interacts with, this system can be modified to any application where users are interacting with a collection of items. These tools are available at any time to pull down and start exploring what is possible with the data you have.\n",
        "\n",
        "Execute the cell below to store values needed for the cleanup notebook.\n",
        "\n",
        "Finally when you are ready to remove the items from your account, open the `Cleanup.ipynb` notebook and execute the steps there.\n"
      ]
    },
    {
      "cell_type": "code",
      "metadata": {
        "id": "NkYc-r5j_hIT",
        "outputId": "a854b3ed-0eb9-4a8d-ffba-81cfa2c5e892"
      },
      "source": [
        "%store event_tracker_arn"
      ],
      "execution_count": null,
      "outputs": [
        {
          "name": "stdout",
          "output_type": "stream",
          "text": [
            "Stored 'event_tracker_arn' (str)\n"
          ]
        }
      ]
    },
    {
      "cell_type": "markdown",
      "metadata": {
        "id": "A2O0SMvx_z2D"
      },
      "source": [
        "## Part 3 - Cleanup the resources\n",
        "> After building your model you may want to delete your campaign, solutions, and datasets."
      ]
    },
    {
      "cell_type": "code",
      "metadata": {
        "id": "AjW6Q80l_z2R"
      },
      "source": [
        "# Imports\n",
        "import boto3\n",
        "import json\n",
        "import numpy as np\n",
        "import pandas as pd\n",
        "import time"
      ],
      "execution_count": null,
      "outputs": []
    },
    {
      "cell_type": "code",
      "metadata": {
        "id": "nT-F1gSB_z2U"
      },
      "source": [
        "# Configure the SDK to Personalize:\n",
        "personalize = boto3.client('personalize')\n",
        "personalize_runtime = boto3.client('personalize-runtime')"
      ],
      "execution_count": null,
      "outputs": []
    },
    {
      "cell_type": "markdown",
      "metadata": {
        "id": "1-DbjwI6_z2W"
      },
      "source": [
        "### Defining the Things to Cleanup\n",
        "\n",
        "Using the store command we will retrieve all the values needed to cleanup our work."
      ]
    },
    {
      "cell_type": "code",
      "metadata": {
        "id": "IhzL1gHc_z2X"
      },
      "source": [
        "%store -r"
      ],
      "execution_count": null,
      "outputs": []
    },
    {
      "cell_type": "code",
      "metadata": {
        "id": "Z-qs5Txl_z2Y"
      },
      "source": [
        "# Delete the campaign:\n",
        "personalize.delete_campaign(campaignArn=campaign_arn)\n",
        "time.sleep(60)"
      ],
      "execution_count": null,
      "outputs": []
    },
    {
      "cell_type": "code",
      "metadata": {
        "id": "Fo-2_KTb_z2Z"
      },
      "source": [
        "# Delete the solution\n",
        "personalize.delete_solution(solutionArn=solution_arn)\n",
        "time.sleep(60)"
      ],
      "execution_count": null,
      "outputs": []
    },
    {
      "cell_type": "code",
      "metadata": {
        "id": "03Dkza_c_z2c"
      },
      "source": [
        "# Delete the event tracker\n",
        "personalize.delete_event_tracker(eventTrackerArn=event_tracker_arn)\n",
        "time.sleep(60)"
      ],
      "execution_count": null,
      "outputs": []
    },
    {
      "cell_type": "code",
      "metadata": {
        "id": "eRh7L0JW_z2e"
      },
      "source": [
        "# Delete the interaction dataset\n",
        "personalize.delete_dataset(datasetArn=dataset_arn)\n",
        "time.sleep(60)"
      ],
      "execution_count": null,
      "outputs": []
    },
    {
      "cell_type": "code",
      "metadata": {
        "id": "--YYNsG9_z2g"
      },
      "source": [
        "# Delete the event dataset\n",
        "event_interactions_dataset_arn = dataset_arn\n",
        "event_interactions_dataset_arn = event_interactions_dataset_arn.replace(\"INTERACTIONS\", \"EVENT_INTERACTIONS\")\n",
        "personalize.delete_dataset(datasetArn=event_interactions_dataset_arn)\n",
        "time.sleep(60)"
      ],
      "execution_count": null,
      "outputs": []
    },
    {
      "cell_type": "code",
      "metadata": {
        "id": "PZiCMvVB_z2i"
      },
      "source": [
        "# Delete the schema\n",
        "personalize.delete_schema(schemaArn=schema_arn)"
      ],
      "execution_count": null,
      "outputs": []
    },
    {
      "cell_type": "markdown",
      "metadata": {
        "id": "VirVmzJo_z2j"
      },
      "source": [
        "### Empty Your S3 Bucket\n",
        "\n",
        "Next empty your S3 bucket, you uploaded a movie file to it in the first notebook.\n"
      ]
    },
    {
      "cell_type": "code",
      "metadata": {
        "id": "5SZ6eDv6_z2k"
      },
      "source": [
        "boto3.Session().resource('s3').Bucket(bucket).Object(filename).delete()"
      ],
      "execution_count": null,
      "outputs": []
    },
    {
      "cell_type": "markdown",
      "metadata": {
        "id": "wbjs-Moc_z2k"
      },
      "source": [
        "### IAM Policy Cleanup\n",
        "\n",
        "The very last step in the notebooks is to remove the policies that were attached to a role and then to delete it. No changes should need to be made here, just execute the cell."
      ]
    },
    {
      "cell_type": "code",
      "metadata": {
        "id": "_st35LXK_z2l"
      },
      "source": [
        "# IAM policies should also be removed\n",
        "iam = boto3.client(\"iam\")\n",
        "iam.detach_role_policy(PolicyArn=\"arn:aws:iam::aws:policy/AmazonS3FullAccess\", RoleName=role_name)\n",
        "iam.detach_role_policy(PolicyArn=\"arn:aws:iam::aws:policy/service-role/AmazonPersonalizeFullAccess\",RoleName=role_name)\n",
        "\n",
        "iam.delete_role(RoleName=role_name)"
      ],
      "execution_count": null,
      "outputs": []
    },
    {
      "cell_type": "markdown",
      "metadata": {
        "id": "NvTijJWD_z2m"
      },
      "source": [
        "#### Last Step\n",
        "\n",
        "After cleaning up all of the resources you can now close this window and go back to the github page you stareted on. At the bottom of the Readme file are steps to delete the CloudFormation stack you created earlier. Once that is done you are 100% done with the lab.\n",
        "\n",
        "Congratulations!"
      ]
    },
    {
      "cell_type": "markdown",
      "metadata": {
        "id": "PqU7hNEN_9S6"
      },
      "source": [
        "## Part 4 - Security best practices (optional)\n",
        "> We are using a pre-made dataset that hasn't been encrypted so there is no need to decrypt this dataset. However, it would be a good security practice to store your datasets encrypted."
      ]
    },
    {
      "cell_type": "markdown",
      "metadata": {
        "id": "vPvy6eRC_9TE"
      },
      "source": [
        "### Get the Personalize boto3 Client"
      ]
    },
    {
      "cell_type": "code",
      "metadata": {
        "id": "1OuFFyDE_9TF"
      },
      "source": [
        "import boto3\n",
        "\n",
        "import json\n",
        "import numpy as np\n",
        "import pandas as pd\n",
        "import time\n",
        "\n",
        "personalize = boto3.client('personalize')\n",
        "personalize_runtime = boto3.client('personalize-runtime')\n",
        "iam = boto3.client(\"iam\")\n",
        "s3 = boto3.client(\"s3\")"
      ],
      "execution_count": null,
      "outputs": []
    },
    {
      "cell_type": "markdown",
      "metadata": {
        "id": "yNkWeGus_9TH"
      },
      "source": [
        "### Specify a Bucket and Data Output Location"
      ]
    },
    {
      "cell_type": "code",
      "metadata": {
        "id": "4macxQo9_9TJ"
      },
      "source": [
        "bucket = \"personalize-demo\"       # replace with the name of your S3 bucket\n",
        "filename = \"movie-lens-100k.csv\"  # replace with a name that you want to save the dataset under"
      ],
      "execution_count": null,
      "outputs": []
    },
    {
      "cell_type": "markdown",
      "metadata": {
        "id": "Kfqb9GT2_9TK"
      },
      "source": [
        "### Download, Prepare, and Upload Training Data"
      ]
    },
    {
      "cell_type": "markdown",
      "metadata": {
        "id": "x817W-fk_9TL"
      },
      "source": [
        "#### Download and Explore the Dataset"
      ]
    },
    {
      "cell_type": "code",
      "metadata": {
        "id": "aEpjU1m6_9TM",
        "outputId": "b6ccf8c6-dacf-4d79-886d-fab7868d1306"
      },
      "source": [
        "!wget -N http://files.grouplens.org/datasets/movielens/ml-100k.zip\n",
        "!unzip -o ml-100k.zip\n",
        "data = pd.read_csv('./ml-100k/u.data', sep='\\t', names=['USER_ID', 'ITEM_ID', 'RATING', 'TIMESTAMP'])\n",
        "pd.set_option('display.max_rows', 5)\n",
        "data"
      ],
      "execution_count": null,
      "outputs": [
        {
          "name": "stdout",
          "output_type": "stream",
          "text": [
            "--2020-05-05 09:38:29--  http://files.grouplens.org/datasets/movielens/ml-100k.zip\n",
            "Resolving files.grouplens.org (files.grouplens.org)... 128.101.65.152\n",
            "Connecting to files.grouplens.org (files.grouplens.org)|128.101.65.152|:80... connected.\n",
            "HTTP request sent, awaiting response... 304 Not Modified\n",
            "File ‘ml-100k.zip’ not modified on server. Omitting download.\n",
            "\n",
            "Archive:  ml-100k.zip\n",
            "  inflating: ml-100k/allbut.pl       \n",
            "  inflating: ml-100k/mku.sh          \n",
            "  inflating: ml-100k/README          \n",
            "  inflating: ml-100k/u.data          \n",
            "  inflating: ml-100k/u.genre         \n",
            "  inflating: ml-100k/u.info          \n",
            "  inflating: ml-100k/u.item          \n",
            "  inflating: ml-100k/u.occupation    \n",
            "  inflating: ml-100k/u.user          \n",
            "  inflating: ml-100k/u1.base         \n",
            "  inflating: ml-100k/u1.test         \n",
            "  inflating: ml-100k/u2.base         \n",
            "  inflating: ml-100k/u2.test         \n",
            "  inflating: ml-100k/u3.base         \n",
            "  inflating: ml-100k/u3.test         \n",
            "  inflating: ml-100k/u4.base         \n",
            "  inflating: ml-100k/u4.test         \n",
            "  inflating: ml-100k/u5.base         \n",
            "  inflating: ml-100k/u5.test         \n",
            "  inflating: ml-100k/ua.base         \n",
            "  inflating: ml-100k/ua.test         \n",
            "  inflating: ml-100k/ub.base         \n",
            "  inflating: ml-100k/ub.test         \n"
          ]
        },
        {
          "data": {
            "text/html": [
              "<div>\n",
              "<style scoped>\n",
              "    .dataframe tbody tr th:only-of-type {\n",
              "        vertical-align: middle;\n",
              "    }\n",
              "\n",
              "    .dataframe tbody tr th {\n",
              "        vertical-align: top;\n",
              "    }\n",
              "\n",
              "    .dataframe thead th {\n",
              "        text-align: right;\n",
              "    }\n",
              "</style>\n",
              "<table border=\"1\" class=\"dataframe\">\n",
              "  <thead>\n",
              "    <tr style=\"text-align: right;\">\n",
              "      <th></th>\n",
              "      <th>USER_ID</th>\n",
              "      <th>ITEM_ID</th>\n",
              "      <th>RATING</th>\n",
              "      <th>TIMESTAMP</th>\n",
              "    </tr>\n",
              "  </thead>\n",
              "  <tbody>\n",
              "    <tr>\n",
              "      <th>0</th>\n",
              "      <td>196</td>\n",
              "      <td>242</td>\n",
              "      <td>3</td>\n",
              "      <td>881250949</td>\n",
              "    </tr>\n",
              "    <tr>\n",
              "      <th>1</th>\n",
              "      <td>186</td>\n",
              "      <td>302</td>\n",
              "      <td>3</td>\n",
              "      <td>891717742</td>\n",
              "    </tr>\n",
              "    <tr>\n",
              "      <th>...</th>\n",
              "      <td>...</td>\n",
              "      <td>...</td>\n",
              "      <td>...</td>\n",
              "      <td>...</td>\n",
              "    </tr>\n",
              "    <tr>\n",
              "      <th>99998</th>\n",
              "      <td>13</td>\n",
              "      <td>225</td>\n",
              "      <td>2</td>\n",
              "      <td>882399156</td>\n",
              "    </tr>\n",
              "    <tr>\n",
              "      <th>99999</th>\n",
              "      <td>12</td>\n",
              "      <td>203</td>\n",
              "      <td>3</td>\n",
              "      <td>879959583</td>\n",
              "    </tr>\n",
              "  </tbody>\n",
              "</table>\n",
              "<p>100000 rows × 4 columns</p>\n",
              "</div>"
            ],
            "text/plain": [
              "       USER_ID  ITEM_ID  RATING  TIMESTAMP\n",
              "0          196      242       3  881250949\n",
              "1          186      302       3  891717742\n",
              "...        ...      ...     ...        ...\n",
              "99998       13      225       2  882399156\n",
              "99999       12      203       3  879959583\n",
              "\n",
              "[100000 rows x 4 columns]"
            ]
          },
          "execution_count": 8,
          "metadata": {},
          "output_type": "execute_result"
        }
      ]
    },
    {
      "cell_type": "markdown",
      "metadata": {
        "id": "1XcvZBn7_9TN"
      },
      "source": [
        "#### Optional security practice: Protect data at rest - Encrypt/decrypt your dataset\n",
        "We are using a pre-made dataset that hasn't been encrypted so there is no need to decrypt this dataset. However, it would be a good security practice to store your datasets encrypted.\n",
        "\n",
        "For more information on encrypting your data when using S3, visit https://docs.aws.amazon.com/AmazonS3/latest/dev/KMSUsingRESTAPI.html"
      ]
    },
    {
      "cell_type": "markdown",
      "metadata": {
        "id": "q3_VHuI5_9TP"
      },
      "source": [
        "#### Optional security practice: Protect data in transit - SSL access only for S3 bucket"
      ]
    },
    {
      "cell_type": "code",
      "metadata": {
        "id": "kDSyiktv_9TP",
        "outputId": "da6d02af-a9cd-413b-c2a5-cb65f8878e21"
      },
      "source": [
        "requires_ssl_access_policy = {\n",
        "    \"Version\": \"2012-10-17\",\n",
        "    \"Id\": \"RequireSSLAccess\",\n",
        "    \"Statement\": [\n",
        "        {\n",
        "            \"Sid\": \"RequireSSLAccess\",\n",
        "            \"Effect\": \"Deny\",\n",
        "            \"Principal\": \"*\",\n",
        "            \"Action\": \"*\",\n",
        "            \"Resource\": [\n",
        "                \"arn:aws:s3:::{}\".format(bucket),\n",
        "                \"arn:aws:s3:::{}/*\".format(bucket)\n",
        "            ],\n",
        "            \"Condition\": {\n",
        "                \"Bool\": {\n",
        "                    \"aws:SecureTransport\": \"false\"\n",
        "                }\n",
        "            }\n",
        "        }\n",
        "    ]\n",
        "}\n",
        "\n",
        "s3.put_bucket_policy(Bucket=bucket, Policy=json.dumps(requires_ssl_access_policy))"
      ],
      "execution_count": null,
      "outputs": [
        {
          "data": {
            "text/plain": [
              "{'ResponseMetadata': {'RequestId': 'FA2BA6A24A738415',\n",
              "  'HostId': 'PWU2HsPCLALBFzYHzVEUK5EuODQkMTrj2l9IuCs3x+GBDlM24tg2k4BF1fMlnmzCAwy/KRVplQw=',\n",
              "  'HTTPStatusCode': 204,\n",
              "  'HTTPHeaders': {'x-amz-id-2': 'PWU2HsPCLALBFzYHzVEUK5EuODQkMTrj2l9IuCs3x+GBDlM24tg2k4BF1fMlnmzCAwy/KRVplQw=',\n",
              "   'x-amz-request-id': 'FA2BA6A24A738415',\n",
              "   'date': 'Tue, 05 May 2020 16:38:34 GMT',\n",
              "   'server': 'AmazonS3'},\n",
              "  'RetryAttempts': 0}}"
            ]
          },
          "execution_count": 9,
          "metadata": {},
          "output_type": "execute_result"
        }
      ]
    },
    {
      "cell_type": "markdown",
      "metadata": {
        "id": "51QR2Mf2_9TR"
      },
      "source": [
        "#### Additional security note:\n",
        "Some users prevent accidental information disclosure by limiting S3 access to only come from a VPC. Another common security practice is to validate this limited access. It should be noted that this security check will fail when performed against S3 buckets used for Personalize - as Personalize copies data from the user's S3 into the internal systems used by Personalize (during dataset import jobs)."
      ]
    },
    {
      "cell_type": "markdown",
      "metadata": {
        "id": "kco24026_9TT"
      },
      "source": [
        "#### Optional security practice: validate bucket owner matches your account canonical id\n",
        "[More information about canonical ids here](https://docs.aws.amazon.com/general/latest/gr/acct-identifiers.html#FindingCanonicalId)"
      ]
    },
    {
      "cell_type": "code",
      "metadata": {
        "id": "eteLVFWp_9TU",
        "outputId": "1ce5fd93-f29c-44f6-9966-6ed05e45652c"
      },
      "source": [
        "bucket_owner_id = boto3.client('s3').get_bucket_acl(Bucket=bucket)['Owner']['ID']\n",
        "print(\"This bucket belongs to: {} \".format(bucket_owner_id))"
      ],
      "execution_count": null,
      "outputs": [
        {
          "name": "stdout",
          "output_type": "stream",
          "text": [
            "This bucket belongs to: 28398dc6b1acac01a4a73b246b5f9c9a688f50b9ce70240f74c0f90ebf5e2c61 \n"
          ]
        }
      ]
    },
    {
      "cell_type": "markdown",
      "metadata": {
        "id": "z1C2Sj0v_9TV"
      },
      "source": [
        "#### Optional security practice: Protect data integrity - Enable S3 bucket versioning\n"
      ]
    },
    {
      "cell_type": "code",
      "metadata": {
        "id": "o-d6Yhz4_9TW",
        "outputId": "8d19ae3f-7752-428f-8568-7e4d7a6f88d3"
      },
      "source": [
        "s3_resource = boto3.resource('s3')\n",
        "bucket_versioning = s3_resource.BucketVersioning(bucket)\n",
        "bucket_versioning.enable()"
      ],
      "execution_count": null,
      "outputs": [
        {
          "data": {
            "text/plain": [
              "{'ResponseMetadata': {'RequestId': '4C3AA32EF96CA240',\n",
              "  'HostId': 'HQaKmMvUTbXTRsxLL/9BubrfD09xisEO8x72cpQP0syhAH9dXKRx7gqmzchq3TbERdwprUKcRmQ=',\n",
              "  'HTTPStatusCode': 200,\n",
              "  'HTTPHeaders': {'x-amz-id-2': 'HQaKmMvUTbXTRsxLL/9BubrfD09xisEO8x72cpQP0syhAH9dXKRx7gqmzchq3TbERdwprUKcRmQ=',\n",
              "   'x-amz-request-id': '4C3AA32EF96CA240',\n",
              "   'date': 'Mon, 04 May 2020 20:46:23 GMT',\n",
              "   'content-length': '0',\n",
              "   'server': 'AmazonS3'},\n",
              "  'RetryAttempts': 0}}"
            ]
          },
          "execution_count": 10,
          "metadata": {},
          "output_type": "execute_result"
        }
      ]
    },
    {
      "cell_type": "markdown",
      "metadata": {
        "id": "QcsIlunH_9Ta"
      },
      "source": [
        "#### Prepare and Upload Data"
      ]
    },
    {
      "cell_type": "code",
      "metadata": {
        "id": "jMg7B8-k_9Tb"
      },
      "source": [
        "data = data[data['RATING'] > 3.6]                # keep only movies rated 3.6 and above\n",
        "data = data[['USER_ID', 'ITEM_ID', 'TIMESTAMP']] # select columns that match the columns in the schema below\n",
        "data.to_csv(filename, index=False)\n",
        "\n",
        "boto3.Session().resource('s3').Bucket(bucket).Object(filename).upload_file(filename)"
      ],
      "execution_count": null,
      "outputs": []
    },
    {
      "cell_type": "markdown",
      "metadata": {
        "id": "BJeYg5ey_9Tc"
      },
      "source": [
        "### Create Schema"
      ]
    },
    {
      "cell_type": "code",
      "metadata": {
        "id": "Csuf28Zf_9Tc",
        "outputId": "61e44fb8-a7e9-49c9-b11e-03adc31687a4"
      },
      "source": [
        "schema = {\n",
        "    \"type\": \"record\",\n",
        "    \"name\": \"Interactions\",\n",
        "    \"namespace\": \"com.amazonaws.personalize.schema\",\n",
        "    \"fields\": [\n",
        "        {\n",
        "            \"name\": \"USER_ID\",\n",
        "            \"type\": \"string\"\n",
        "        },\n",
        "        {\n",
        "            \"name\": \"ITEM_ID\",\n",
        "            \"type\": \"string\"\n",
        "        },\n",
        "        {\n",
        "            \"name\": \"TIMESTAMP\",\n",
        "            \"type\": \"long\"\n",
        "        }\n",
        "    ],\n",
        "    \"version\": \"1.0\"\n",
        "}\n",
        "\n",
        "create_schema_response = personalize.create_schema(\n",
        "    name = \"DEMO-schema\",\n",
        "    schema = json.dumps(schema)\n",
        ")\n",
        "\n",
        "schema_arn = create_schema_response['schemaArn']\n",
        "print(json.dumps(create_schema_response, indent=2))"
      ],
      "execution_count": null,
      "outputs": [
        {
          "name": "stdout",
          "output_type": "stream",
          "text": [
            "{\n",
            "  \"schemaArn\": \"arn:aws:personalize:us-west-2:237539672711:schema/DEMO-schema\", \n",
            "  \"ResponseMetadata\": {\n",
            "    \"RetryAttempts\": 0, \n",
            "    \"HTTPStatusCode\": 200, \n",
            "    \"RequestId\": \"12eb7cba-2b64-4be9-9f6e-eeebff7629a5\", \n",
            "    \"HTTPHeaders\": {\n",
            "      \"date\": \"Tue, 04 Dec 2018 05:49:04 GMT\", \n",
            "      \"x-amzn-requestid\": \"12eb7cba-2b64-4be9-9f6e-eeebff7629a5\", \n",
            "      \"content-length\": \"79\", \n",
            "      \"content-type\": \"application/x-amz-json-1.1\", \n",
            "      \"connection\": \"keep-alive\"\n",
            "    }\n",
            "  }\n",
            "}\n"
          ]
        }
      ]
    },
    {
      "cell_type": "markdown",
      "metadata": {
        "id": "tOE-ZCHI_9Te"
      },
      "source": [
        "#### Optional security practice - Protect data at rest - Encrypt datasets under Personalize\n",
        "If you skip this step, do not pass kmsKeyArn or roleArn when you create your dataset group."
      ]
    },
    {
      "cell_type": "code",
      "metadata": {
        "id": "X2ELTBFo_9Te",
        "outputId": "890c6ab5-d9bf-4243-ef9c-5a6f687ed6f6"
      },
      "source": [
        "kmsKeyArn = boto3.client('kms').create_key(Description=\"personalize-data\")['KeyMetadata']['Arn']\n",
        "print(kmsKeyArn)\n",
        "key_accessor_policy_name = \"AccessPersonalizeDatasetPolicy\"\n",
        "key_accessor_policy = {\n",
        "  \"Version\": \"2012-10-17\",\n",
        "  \"Statement\": {\n",
        "    \"Effect\": \"Allow\",\n",
        "    \"Action\": [\n",
        "      \"kms:*\"\n",
        "    ],\n",
        "    \"Resource\": [ kmsKeyArn ]\n",
        "  }\n",
        "}\n",
        "key_access_policy = iam.create_policy(\n",
        "    PolicyName = key_accessor_policy_name,\n",
        "    PolicyDocument = json.dumps(key_accessor_policy)\n",
        ")\n",
        "\n",
        "key_access_role_name = \"AccessPersonalizeDatasetRole\"\n",
        "assume_role_policy_document = {\n",
        "    \"Version\": \"2012-10-17\",\n",
        "    \"Statement\": [\n",
        "        {\n",
        "          \"Effect\": \"Allow\",\n",
        "          \"Principal\": {\n",
        "            \"Service\": \"personalize.amazonaws.com\"\n",
        "          },\n",
        "          \"Action\": \"sts:AssumeRole\"\n",
        "        }\n",
        "    ]\n",
        "}\n",
        "\n",
        "create_role_response = iam.create_role(\n",
        "    RoleName = key_access_role_name,\n",
        "    AssumeRolePolicyDocument = json.dumps(assume_role_policy_document)\n",
        ")\n",
        "iam.attach_role_policy(\n",
        "    RoleName = create_role_response[\"Role\"][\"RoleName\"],\n",
        "    PolicyArn = key_access_policy[\"Policy\"][\"Arn\"]\n",
        ")\n",
        "\n",
        "keyAccessRoleArn = create_role_response[\"Role\"][\"Arn\"]\n",
        "print(keyAccessRoleArn)"
      ],
      "execution_count": null,
      "outputs": [
        {
          "name": "stdout",
          "output_type": "stream",
          "text": [
            "arn:aws:kms:us-west-2:001513653716:key/f5be82af-a160-4c49-813e-e5448fa95693\n",
            "arn:aws:iam::001513653716:role/AccessPersonalizeDatasetRole\n"
          ]
        }
      ]
    },
    {
      "cell_type": "markdown",
      "metadata": {
        "id": "y44Pili7_9Tf"
      },
      "source": [
        "### Create and Wait for Encrypted Dataset Group"
      ]
    },
    {
      "cell_type": "markdown",
      "metadata": {
        "id": "W5JV7Rml_9Tg"
      },
      "source": [
        "#### Create Encrypted Dataset Group\n",
        "If you did not create a KMS Key and IAM role from the last step, then do not pass in roleArn or kmsKeyArn."
      ]
    },
    {
      "cell_type": "code",
      "metadata": {
        "id": "uFuBgGfl_9Th",
        "outputId": "fefebbb5-926c-46d5-f404-046e2c233b28"
      },
      "source": [
        "create_dataset_group_response = personalize.create_dataset_group(\n",
        "    name = \"DEMO-dataset-group\",\n",
        "    roleArn = keyAccessRoleArn,\n",
        "    kmsKeyArn = kmsKeyArn\n",
        ")\n",
        "\n",
        "dataset_group_arn = create_dataset_group_response['datasetGroupArn']\n",
        "print(json.dumps(create_dataset_group_response, indent=2))"
      ],
      "execution_count": null,
      "outputs": [
        {
          "ename": "ClientError",
          "evalue": "An error occurred (AccessDeniedException) when calling the CreateDatasetGroup operation: Cross-account pass role is not allowed.",
          "output_type": "error",
          "traceback": [
            "\u001b[0;31m---------------------------------------------------------------------------\u001b[0m",
            "\u001b[0;31mClientError\u001b[0m                               Traceback (most recent call last)",
            "\u001b[0;32m<ipython-input-5-d867662faf2d>\u001b[0m in \u001b[0;36m<module>\u001b[0;34m\u001b[0m\n\u001b[1;32m      2\u001b[0m     \u001b[0mname\u001b[0m \u001b[0;34m=\u001b[0m \u001b[0;34m\"DEMO-dataset-group-aadata\"\u001b[0m\u001b[0;34m,\u001b[0m\u001b[0;34m\u001b[0m\u001b[0;34m\u001b[0m\u001b[0m\n\u001b[1;32m      3\u001b[0m     \u001b[0mroleArn\u001b[0m \u001b[0;34m=\u001b[0m \u001b[0;34m\"arn:aws:iam::261294318658:role/AccessPersonalizeDatasetRole\"\u001b[0m\u001b[0;34m,\u001b[0m\u001b[0;34m\u001b[0m\u001b[0;34m\u001b[0m\u001b[0m\n\u001b[0;32m----> 4\u001b[0;31m     \u001b[0mkmsKeyArn\u001b[0m \u001b[0;34m=\u001b[0m \u001b[0;34m\"arn:aws:kms:us-west-2:261294318658:key/be6db2bb-1fe8-43a5-8134-0762740a22b9\"\u001b[0m\u001b[0;34m\u001b[0m\u001b[0;34m\u001b[0m\u001b[0m\n\u001b[0m\u001b[1;32m      5\u001b[0m )\n\u001b[1;32m      6\u001b[0m \u001b[0;34m\u001b[0m\u001b[0m\n",
            "\u001b[0;32m~/boto3/src/botocore/botocore/client.py\u001b[0m in \u001b[0;36m_api_call\u001b[0;34m(self, *args, **kwargs)\u001b[0m\n\u001b[1;32m    314\u001b[0m                     \"%s() only accepts keyword arguments.\" % py_operation_name)\n\u001b[1;32m    315\u001b[0m             \u001b[0;31m# The \"self\" in this scope is referring to the BaseClient.\u001b[0m\u001b[0;34m\u001b[0m\u001b[0;34m\u001b[0m\u001b[0;34m\u001b[0m\u001b[0m\n\u001b[0;32m--> 316\u001b[0;31m             \u001b[0;32mreturn\u001b[0m \u001b[0mself\u001b[0m\u001b[0;34m.\u001b[0m\u001b[0m_make_api_call\u001b[0m\u001b[0;34m(\u001b[0m\u001b[0moperation_name\u001b[0m\u001b[0;34m,\u001b[0m \u001b[0mkwargs\u001b[0m\u001b[0;34m)\u001b[0m\u001b[0;34m\u001b[0m\u001b[0;34m\u001b[0m\u001b[0m\n\u001b[0m\u001b[1;32m    317\u001b[0m \u001b[0;34m\u001b[0m\u001b[0m\n\u001b[1;32m    318\u001b[0m         \u001b[0m_api_call\u001b[0m\u001b[0;34m.\u001b[0m\u001b[0m__name__\u001b[0m \u001b[0;34m=\u001b[0m \u001b[0mstr\u001b[0m\u001b[0;34m(\u001b[0m\u001b[0mpy_operation_name\u001b[0m\u001b[0;34m)\u001b[0m\u001b[0;34m\u001b[0m\u001b[0;34m\u001b[0m\u001b[0m\n",
            "\u001b[0;32m~/boto3/src/botocore/botocore/client.py\u001b[0m in \u001b[0;36m_make_api_call\u001b[0;34m(self, operation_name, api_params)\u001b[0m\n\u001b[1;32m    633\u001b[0m             \u001b[0merror_code\u001b[0m \u001b[0;34m=\u001b[0m \u001b[0mparsed_response\u001b[0m\u001b[0;34m.\u001b[0m\u001b[0mget\u001b[0m\u001b[0;34m(\u001b[0m\u001b[0;34m\"Error\"\u001b[0m\u001b[0;34m,\u001b[0m \u001b[0;34m{\u001b[0m\u001b[0;34m}\u001b[0m\u001b[0;34m)\u001b[0m\u001b[0;34m.\u001b[0m\u001b[0mget\u001b[0m\u001b[0;34m(\u001b[0m\u001b[0;34m\"Code\"\u001b[0m\u001b[0;34m)\u001b[0m\u001b[0;34m\u001b[0m\u001b[0;34m\u001b[0m\u001b[0m\n\u001b[1;32m    634\u001b[0m             \u001b[0merror_class\u001b[0m \u001b[0;34m=\u001b[0m \u001b[0mself\u001b[0m\u001b[0;34m.\u001b[0m\u001b[0mexceptions\u001b[0m\u001b[0;34m.\u001b[0m\u001b[0mfrom_code\u001b[0m\u001b[0;34m(\u001b[0m\u001b[0merror_code\u001b[0m\u001b[0;34m)\u001b[0m\u001b[0;34m\u001b[0m\u001b[0;34m\u001b[0m\u001b[0m\n\u001b[0;32m--> 635\u001b[0;31m             \u001b[0;32mraise\u001b[0m \u001b[0merror_class\u001b[0m\u001b[0;34m(\u001b[0m\u001b[0mparsed_response\u001b[0m\u001b[0;34m,\u001b[0m \u001b[0moperation_name\u001b[0m\u001b[0;34m)\u001b[0m\u001b[0;34m\u001b[0m\u001b[0;34m\u001b[0m\u001b[0m\n\u001b[0m\u001b[1;32m    636\u001b[0m         \u001b[0;32melse\u001b[0m\u001b[0;34m:\u001b[0m\u001b[0;34m\u001b[0m\u001b[0;34m\u001b[0m\u001b[0m\n\u001b[1;32m    637\u001b[0m             \u001b[0;32mreturn\u001b[0m \u001b[0mparsed_response\u001b[0m\u001b[0;34m\u001b[0m\u001b[0;34m\u001b[0m\u001b[0m\n",
            "\u001b[0;31mClientError\u001b[0m: An error occurred (AccessDeniedException) when calling the CreateDatasetGroup operation: Cross-account pass role is not allowed."
          ]
        }
      ]
    },
    {
      "cell_type": "markdown",
      "metadata": {
        "id": "nBh672hh_9Th"
      },
      "source": [
        "#### Wait for Dataset Group to Have ACTIVE Status"
      ]
    },
    {
      "cell_type": "code",
      "metadata": {
        "id": "qwpEXt0T_9Th",
        "outputId": "dba07b9d-edba-4f06-b212-ef66f88872e8"
      },
      "source": [
        "max_time = time.time() + 3*60*60 # 3 hours\n",
        "while time.time() < max_time:\n",
        "    describe_dataset_group_response = personalize.describe_dataset_group(\n",
        "        datasetGroupArn = dataset_group_arn\n",
        "    )\n",
        "    status = describe_dataset_group_response[\"datasetGroup\"][\"status\"]\n",
        "    print(\"DatasetGroup: {}\".format(status))\n",
        "    \n",
        "    if status == \"ACTIVE\" or status == \"CREATE FAILED\":\n",
        "        break\n",
        "        \n",
        "    time.sleep(60)"
      ],
      "execution_count": null,
      "outputs": [
        {
          "name": "stdout",
          "output_type": "stream",
          "text": [
            "DatasetGroup: CREATE PENDING\n",
            "DatasetGroup: CREATE FAILED\n"
          ]
        }
      ]
    },
    {
      "cell_type": "markdown",
      "metadata": {
        "id": "yrmRy6JW_9Ti"
      },
      "source": [
        "### Create Dataset"
      ]
    },
    {
      "cell_type": "code",
      "metadata": {
        "id": "bxyc5dy5_9Ti",
        "outputId": "850f854e-bebf-4323-e0d7-f4e10fd448a2"
      },
      "source": [
        "dataset_type = \"INTERACTIONS\"\n",
        "create_dataset_response = personalize.create_dataset(\n",
        "    name = \"DEMO-dataset\",\n",
        "    datasetType = dataset_type,\n",
        "    datasetGroupArn = dataset_group_arn,\n",
        "    schemaArn = schema_arn\n",
        ")\n",
        "\n",
        "dataset_arn = create_dataset_response['datasetArn']\n",
        "print(json.dumps(create_dataset_response, indent=2))"
      ],
      "execution_count": null,
      "outputs": [
        {
          "name": "stdout",
          "output_type": "stream",
          "text": [
            "{\n",
            "  \"ResponseMetadata\": {\n",
            "    \"RetryAttempts\": 0, \n",
            "    \"HTTPStatusCode\": 200, \n",
            "    \"RequestId\": \"29ab75c8-df6e-4807-943f-1b48014181d1\", \n",
            "    \"HTTPHeaders\": {\n",
            "      \"date\": \"Tue, 04 Dec 2018 05:50:19 GMT\", \n",
            "      \"x-amzn-requestid\": \"29ab75c8-df6e-4807-943f-1b48014181d1\", \n",
            "      \"content-length\": \"101\", \n",
            "      \"content-type\": \"application/x-amz-json-1.1\", \n",
            "      \"connection\": \"keep-alive\"\n",
            "    }\n",
            "  }, \n",
            "  \"datasetArn\": \"arn:aws:personalize:us-west-2:237539672711:dataset/DEMO-dataset-group/INTERACTIONS\"\n",
            "}\n"
          ]
        }
      ]
    },
    {
      "cell_type": "markdown",
      "metadata": {
        "id": "fJLnkf7c_9Tj"
      },
      "source": [
        "### Prepare, Create, and Wait for Dataset Import Job"
      ]
    },
    {
      "cell_type": "markdown",
      "metadata": {
        "id": "Y1RHgnIU_9Tk"
      },
      "source": [
        "#### Attach Policy to S3 Bucket"
      ]
    },
    {
      "cell_type": "code",
      "metadata": {
        "id": "ulZVbmKS_9Tk"
      },
      "source": [
        "policy = {\n",
        "    \"Version\": \"2012-10-17\",\n",
        "    \"Id\": \"PersonalizeS3BucketAccessPolicy\",\n",
        "    \"Statement\": [\n",
        "        {\n",
        "            \"Sid\": \"PersonalizeS3BucketAccessPolicy\",\n",
        "            \"Effect\": \"Allow\",\n",
        "            \"Principal\": {\n",
        "                \"Service\": \"personalize.amazonaws.com\"\n",
        "            },\n",
        "            \"Action\": [\n",
        "                \"s3:GetObject\",\n",
        "                \"s3:ListBucket\"\n",
        "            ],\n",
        "            \"Resource\": [\n",
        "                \"arn:aws:s3:::{}\".format(bucket),\n",
        "                \"arn:aws:s3:::{}/*\".format(bucket)\n",
        "            ]\n",
        "        }\n",
        "    ]\n",
        "}\n",
        "\n",
        "s3.put_bucket_policy(Bucket=bucket, Policy=json.dumps(policy))"
      ],
      "execution_count": null,
      "outputs": []
    },
    {
      "cell_type": "markdown",
      "metadata": {
        "id": "Kf38NGD2_9Tk"
      },
      "source": [
        "#### Create Personalize Role"
      ]
    },
    {
      "cell_type": "code",
      "metadata": {
        "id": "IximtZGg_9Tk",
        "outputId": "132012e7-e568-4558-a54f-d261938ce955"
      },
      "source": [
        "role_name = \"PersonalizeRole\"\n",
        "assume_role_policy_document = {\n",
        "    \"Version\": \"2012-10-17\",\n",
        "    \"Statement\": [\n",
        "        {\n",
        "          \"Effect\": \"Allow\",\n",
        "          \"Principal\": {\n",
        "            \"Service\": \"personalize.amazonaws.com\"\n",
        "          },\n",
        "          \"Action\": \"sts:AssumeRole\"\n",
        "        }\n",
        "    ]\n",
        "}\n",
        "\n",
        "create_role_response = iam.create_role(\n",
        "    RoleName = role_name,\n",
        "    AssumeRolePolicyDocument = json.dumps(assume_role_policy_document)\n",
        ")\n",
        "\n",
        "# AmazonPersonalizeFullAccess provides access to any S3 bucket with a name that includes \"personalize\" or \"Personalize\" \n",
        "# if you would like to use a bucket with a different name, please consider creating and attaching a new policy\n",
        "# that provides read access to your bucket or attaching the AmazonS3ReadOnlyAccess policy to the role\n",
        "policy_arn = \"arn:aws:iam::aws:policy/service-role/AmazonPersonalizeFullAccess\"\n",
        "iam.attach_role_policy(\n",
        "    RoleName = role_name,\n",
        "    PolicyArn = policy_arn\n",
        ")\n",
        "\n",
        "time.sleep(60) # wait for a minute to allow IAM role policy attachment to propagate\n",
        "\n",
        "role_arn = create_role_response[\"Role\"][\"Arn\"]\n",
        "print(role_arn)"
      ],
      "execution_count": null,
      "outputs": [
        {
          "name": "stdout",
          "output_type": "stream",
          "text": [
            "arn:aws:iam::660166145966:role/PersonalizeRole2\n"
          ]
        }
      ]
    },
    {
      "cell_type": "markdown",
      "metadata": {
        "id": "8Ts5eNve_9Tn"
      },
      "source": [
        "#### Create Dataset Import Job"
      ]
    },
    {
      "cell_type": "code",
      "metadata": {
        "id": "XAN0KhR2_9Tn",
        "outputId": "2c84992b-68cd-47e0-8fa8-809b746e79ed"
      },
      "source": [
        "create_dataset_import_job_response = personalize.create_dataset_import_job(\n",
        "    jobName = \"DEMO-dataset-import-job\",\n",
        "    datasetArn = dataset_arn,\n",
        "    dataSource = {\n",
        "        \"dataLocation\": \"s3://{}/{}\".format(bucket, filename)\n",
        "    },\n",
        "    roleArn = role_arn\n",
        ")\n",
        "\n",
        "dataset_import_job_arn = create_dataset_import_job_response['datasetImportJobArn']\n",
        "print(json.dumps(create_dataset_import_job_response, indent=2))"
      ],
      "execution_count": null,
      "outputs": [
        {
          "name": "stdout",
          "output_type": "stream",
          "text": [
            "{\n",
            "  \"datasetImportJobArn\": \"arn:aws:personalize:us-west-2:237539672711:dataset-import-job/DEMO-dataset-import-job\", \n",
            "  \"ResponseMetadata\": {\n",
            "    \"RetryAttempts\": 0, \n",
            "    \"HTTPStatusCode\": 200, \n",
            "    \"RequestId\": \"3c77fe8d-d9fe-4ca5-ad03-b18e937acbb3\", \n",
            "    \"HTTPHeaders\": {\n",
            "      \"date\": \"Tue, 04 Dec 2018 05:50:55 GMT\", \n",
            "      \"x-amzn-requestid\": \"3c77fe8d-d9fe-4ca5-ad03-b18e937acbb3\", \n",
            "      \"content-length\": \"113\", \n",
            "      \"content-type\": \"application/x-amz-json-1.1\", \n",
            "      \"connection\": \"keep-alive\"\n",
            "    }\n",
            "  }\n",
            "}\n"
          ]
        }
      ]
    },
    {
      "cell_type": "markdown",
      "metadata": {
        "id": "LWbIOUp__9To"
      },
      "source": [
        "#### Wait for Dataset Import Job to Have ACTIVE Status"
      ]
    },
    {
      "cell_type": "code",
      "metadata": {
        "id": "owdGFx1a_9To",
        "outputId": "626249de-14ce-409a-fc63-705fe659ad7f"
      },
      "source": [
        "max_time = time.time() + 3*60*60 # 3 hours\n",
        "while time.time() < max_time:\n",
        "    describe_dataset_import_job_response = personalize.describe_dataset_import_job(\n",
        "        datasetImportJobArn = dataset_import_job_arn\n",
        "    )\n",
        "    status = describe_dataset_import_job_response[\"datasetImportJob\"]['status']\n",
        "    print(\"DatasetImportJob: {}\".format(status))\n",
        "    \n",
        "    if status == \"ACTIVE\" or status == \"CREATE FAILED\":\n",
        "        break\n",
        "        \n",
        "    time.sleep(60)"
      ],
      "execution_count": null,
      "outputs": [
        {
          "name": "stdout",
          "output_type": "stream",
          "text": [
            "DatasetImportJob: CREATE PENDING\n",
            "DatasetImportJob: CREATE IN_PROGRESS\n",
            "DatasetImportJob: CREATE IN_PROGRESS\n",
            "DatasetImportJob: CREATE IN_PROGRESS\n",
            "DatasetImportJob: CREATE IN_PROGRESS\n",
            "DatasetImportJob: CREATE IN_PROGRESS\n",
            "DatasetImportJob: CREATE IN_PROGRESS\n",
            "DatasetImportJob: CREATE IN_PROGRESS\n",
            "DatasetImportJob: CREATE IN_PROGRESS\n",
            "DatasetImportJob: CREATE IN_PROGRESS\n",
            "DatasetImportJob: CREATE IN_PROGRESS\n",
            "DatasetImportJob: CREATE IN_PROGRESS\n",
            "DatasetImportJob: CREATE IN_PROGRESS\n",
            "DatasetImportJob: CREATE IN_PROGRESS\n",
            "DatasetImportJob: CREATE IN_PROGRESS\n",
            "DatasetImportJob: CREATE IN_PROGRESS\n",
            "DatasetImportJob: ACTIVE\n"
          ]
        }
      ]
    },
    {
      "cell_type": "markdown",
      "metadata": {
        "id": "QqlPgPhZ_9Tp"
      },
      "source": [
        "### Select Recipe"
      ]
    },
    {
      "cell_type": "code",
      "metadata": {
        "id": "PgLGp7_C_9Tp",
        "outputId": "8bc37952-9531-470a-b266-51d1998f306b"
      },
      "source": [
        "list_recipes_response = personalize.list_recipes()\n",
        "recipe_arn = \"arn:aws:personalize:::recipe/aws-hrnn\" # aws-hrnn selected for demo purposes\n",
        "list_recipes_response"
      ],
      "execution_count": null,
      "outputs": [
        {
          "data": {
            "text/plain": [
              "{'ResponseMetadata': {'HTTPHeaders': {'connection': 'keep-alive',\n",
              "   'content-length': '1287',\n",
              "   'content-type': 'application/x-amz-json-1.1',\n",
              "   'date': 'Fri, 22 Mar 2019 19:28:37 GMT',\n",
              "   'x-amzn-requestid': '275695de-45b2-4077-82d4-c961ceeaf367'},\n",
              "  'HTTPStatusCode': 200,\n",
              "  'RequestId': '275695de-45b2-4077-82d4-c961ceeaf367',\n",
              "  'RetryAttempts': 0},\n",
              " u'recipes': [{u'creationDateTime': datetime.datetime(2018, 11, 25, 16, 0, tzinfo=tzlocal()),\n",
              "   u'lastUpdatedDateTime': datetime.datetime(1969, 12, 31, 16, 0, tzinfo=tzlocal()),\n",
              "   u'name': u'aws-hrnn',\n",
              "   u'recipeArn': u'arn:aws:personalize:::recipe/aws-hrnn',\n",
              "   u'status': u'ACTIVE'},\n",
              "  {u'creationDateTime': datetime.datetime(2018, 11, 25, 16, 0, tzinfo=tzlocal()),\n",
              "   u'lastUpdatedDateTime': datetime.datetime(1969, 12, 31, 16, 0, tzinfo=tzlocal()),\n",
              "   u'name': u'aws-hrnn-coldstart',\n",
              "   u'recipeArn': u'arn:aws:personalize:::recipe/aws-hrnn-coldstart',\n",
              "   u'status': u'ACTIVE'},\n",
              "  {u'creationDateTime': datetime.datetime(2018, 11, 25, 16, 0, tzinfo=tzlocal()),\n",
              "   u'lastUpdatedDateTime': datetime.datetime(1969, 12, 31, 16, 0, tzinfo=tzlocal()),\n",
              "   u'name': u'aws-hrnn-metadata',\n",
              "   u'recipeArn': u'arn:aws:personalize:::recipe/aws-hrnn-metadata',\n",
              "   u'status': u'ACTIVE'},\n",
              "  {u'creationDateTime': datetime.datetime(2018, 11, 25, 16, 0, tzinfo=tzlocal()),\n",
              "   u'lastUpdatedDateTime': datetime.datetime(1969, 12, 31, 16, 0, tzinfo=tzlocal()),\n",
              "   u'name': u'aws-personalized-ranking',\n",
              "   u'recipeArn': u'arn:aws:personalize:::recipe/aws-personalized-ranking',\n",
              "   u'status': u'ACTIVE'},\n",
              "  {u'creationDateTime': datetime.datetime(2018, 11, 25, 16, 0, tzinfo=tzlocal()),\n",
              "   u'lastUpdatedDateTime': datetime.datetime(1969, 12, 31, 16, 0, tzinfo=tzlocal()),\n",
              "   u'name': u'aws-popularity-count',\n",
              "   u'recipeArn': u'arn:aws:personalize:::recipe/aws-popularity-count',\n",
              "   u'status': u'ACTIVE'},\n",
              "  {u'creationDateTime': datetime.datetime(2018, 11, 25, 16, 0, tzinfo=tzlocal()),\n",
              "   u'lastUpdatedDateTime': datetime.datetime(1969, 12, 31, 16, 0, tzinfo=tzlocal()),\n",
              "   u'name': u'aws-sims',\n",
              "   u'recipeArn': u'arn:aws:personalize:::recipe/aws-sims',\n",
              "   u'status': u'ACTIVE'}]}"
            ]
          },
          "execution_count": null,
          "metadata": {},
          "output_type": "execute_result"
        }
      ]
    },
    {
      "cell_type": "markdown",
      "metadata": {
        "id": "ce4zlpc8_9Tr"
      },
      "source": [
        "### Create and Wait for Solution"
      ]
    },
    {
      "cell_type": "markdown",
      "metadata": {
        "id": "4EIx7bel_9Tr"
      },
      "source": [
        "#### Create Solution"
      ]
    },
    {
      "cell_type": "code",
      "metadata": {
        "id": "Bt1GlAuw_9Tr",
        "outputId": "2b046487-f27b-449a-fc38-1f09bece3622"
      },
      "source": [
        "create_solution_response = personalize.create_solution(\n",
        "    name = \"DEMO-solution\",\n",
        "    datasetGroupArn = dataset_group_arn,\n",
        "    recipeArn = recipe_arn\n",
        ")\n",
        "\n",
        "solution_arn = create_solution_response['solutionArn']\n",
        "print(json.dumps(create_solution_response, indent=2))"
      ],
      "execution_count": null,
      "outputs": [
        {
          "name": "stdout",
          "output_type": "stream",
          "text": [
            "{\n",
            "  \"solutionArn\": \"arn:aws:personalize:us-west-2:237539672711:solution/DEMO-solution\", \n",
            "  \"ResponseMetadata\": {\n",
            "    \"RetryAttempts\": 0, \n",
            "    \"HTTPStatusCode\": 200, \n",
            "    \"RequestId\": \"2042832f-0775-43e2-86de-53a061be1f63\", \n",
            "    \"HTTPHeaders\": {\n",
            "      \"date\": \"Mon, 03 Dec 2018 23:55:17 GMT\", \n",
            "      \"x-amzn-requestid\": \"2042832f-0775-43e2-86de-53a061be1f63\", \n",
            "      \"content-length\": \"83\", \n",
            "      \"content-type\": \"application/x-amz-json-1.1\", \n",
            "      \"connection\": \"keep-alive\"\n",
            "    }\n",
            "  }\n",
            "}\n"
          ]
        }
      ]
    },
    {
      "cell_type": "markdown",
      "metadata": {
        "id": "oIowLz6G_9Ts"
      },
      "source": [
        "#### Create Solution Version"
      ]
    },
    {
      "cell_type": "code",
      "metadata": {
        "id": "4KpfWaqI_9Tt",
        "outputId": "0a8bc203-f02f-4cde-e66a-ecda290404c9"
      },
      "source": [
        "create_solution_version_response = personalize.create_solution_version(\n",
        "    solutionArn = solution_arn\n",
        ")\n",
        "\n",
        "solution_version_arn = create_solution_version_response['solutionVersionArn']\n",
        "print(json.dumps(create_solution_version_response, indent=2))"
      ],
      "execution_count": null,
      "outputs": [
        {
          "name": "stdout",
          "output_type": "stream",
          "text": [
            "{\n",
            "  \"solutionVersionArn\": \"arn:aws:personalize:us-west-2:237539672711:solution/DEMO-solution/702e0792\", \n",
            "  \"ResponseMetadata\": {\n",
            "    \"RetryAttempts\": 0, \n",
            "    \"HTTPStatusCode\": 200, \n",
            "    \"RequestId\": \"2042832f-0775-43e2-86de-53a061be1f65\", \n",
            "    \"HTTPHeaders\": {\n",
            "      \"date\": \"Mon, 03 Dec 2018 23:55:17 GMT\", \n",
            "      \"x-amzn-requestid\": \"2042832f-0775-43e2-86de-53a061be1f65\", \n",
            "      \"content-length\": \"90\", \n",
            "      \"content-type\": \"application/x-amz-json-1.1\", \n",
            "      \"connection\": \"keep-alive\"\n",
            "    }\n",
            "  }\n",
            "}\n"
          ]
        }
      ]
    },
    {
      "cell_type": "markdown",
      "metadata": {
        "id": "NfkrkZd3_9Tu"
      },
      "source": [
        "#### Wait for Solution Version to Have ACTIVE Status"
      ]
    },
    {
      "cell_type": "code",
      "metadata": {
        "id": "RbueJ4CZ_9Tu",
        "outputId": "da0ff008-d596-4715-c0fd-4d8eef6d5122"
      },
      "source": [
        "max_time = time.time() + 3*60*60 # 3 hours\n",
        "while time.time() < max_time:\n",
        "    describe_solution_version_response = personalize.describe_solution_version(\n",
        "        solutionVersionArn = solution_version_arn\n",
        "    )\n",
        "    status = describe_solution_version_response[\"solutionVersion\"][\"status\"]\n",
        "    print(\"SolutionVersion: {}\".format(status))\n",
        "    \n",
        "    if status == \"ACTIVE\" or status == \"CREATE FAILED\":\n",
        "        break\n",
        "        \n",
        "    time.sleep(60)"
      ],
      "execution_count": null,
      "outputs": [
        {
          "name": "stdout",
          "output_type": "stream",
          "text": [
            "SolutionVersion: CREATE PENDING\n",
            "SolutionVersion: CREATE IN_PROGRESS\n",
            "SolutionVersion: CREATE IN_PROGRESS\n",
            "SolutionVersion: CREATE IN_PROGRESS\n",
            "SolutionVersion: CREATE IN_PROGRESS\n",
            "SolutionVersion: CREATE IN_PROGRESS\n",
            "SolutionVersion: CREATE IN_PROGRESS\n",
            "SolutionVersion: CREATE IN_PROGRESS\n",
            "SolutionVersion: CREATE IN_PROGRESS\n",
            "SolutionVersion: CREATE IN_PROGRESS\n",
            "SolutionVersion: CREATE IN_PROGRESS\n",
            "SolutionVersion: CREATE IN_PROGRESS\n",
            "SolutionVersion: CREATE IN_PROGRESS\n",
            "SolutionVersion: CREATE IN_PROGRESS\n",
            "SolutionVersion: CREATE IN_PROGRESS\n",
            "SolutionVersion: CREATE IN_PROGRESS\n",
            "SolutionVersion: CREATE IN_PROGRESS\n",
            "SolutionVersion: CREATE IN_PROGRESS\n",
            "SolutionVersion: CREATE IN_PROGRESS\n",
            "SolutionVersion: CREATE IN_PROGRESS\n",
            "SolutionVersion: CREATE IN_PROGRESS\n",
            "SolutionVersion: CREATE IN_PROGRESS\n",
            "SolutionVersion: CREATE IN_PROGRESS\n",
            "SolutionVersion: CREATE IN_PROGRESS\n",
            "SolutionVersion: CREATE IN_PROGRESS\n",
            "SolutionVersion: CREATE IN_PROGRESS\n",
            "SolutionVersion: CREATE IN_PROGRESS\n",
            "SolutionVersion: CREATE IN_PROGRESS\n",
            "SolutionVersion: CREATE IN_PROGRESS\n",
            "SolutionVersion: CREATE IN_PROGRESS\n",
            "SolutionVersion: CREATE IN_PROGRESS\n",
            "SolutionVersion: CREATE IN_PROGRESS\n",
            "SolutionVersion: CREATE IN_PROGRESS\n",
            "SolutionVersion: CREATE IN_PROGRESS\n",
            "SolutionVersion: CREATE IN_PROGRESS\n",
            "SolutionVersion: CREATE IN_PROGRESS\n",
            "SolutionVersion: CREATE IN_PROGRESS\n",
            "SolutionVersion: CREATE IN_PROGRESS\n",
            "SolutionVersion: CREATE IN_PROGRESS\n",
            "SolutionVersion: CREATE IN_PROGRESS\n",
            "SolutionVersion: CREATE IN_PROGRESS\n",
            "SolutionVersion: CREATE IN_PROGRESS\n",
            "SolutionVersion: CREATE IN_PROGRESS\n",
            "SolutionVersion: CREATE IN_PROGRESS\n",
            "SolutionVersion: CREATE IN_PROGRESS\n",
            "SolutionVersion: CREATE IN_PROGRESS\n",
            "SolutionVersion: CREATE IN_PROGRESS\n",
            "SolutionVersion: CREATE IN_PROGRESS\n",
            "SolutionVersion: CREATE IN_PROGRESS\n",
            "SolutionVersion: CREATE IN_PROGRESS\n",
            "SolutionVersion: CREATE IN_PROGRESS\n",
            "SolutionVersion: CREATE IN_PROGRESS\n",
            "SolutionVersion: CREATE IN_PROGRESS\n",
            "SolutionVersion: CREATE IN_PROGRESS\n",
            "SolutionVersion: CREATE IN_PROGRESS\n",
            "SolutionVersion: CREATE IN_PROGRESS\n",
            "SolutionVersion: CREATE IN_PROGRESS\n",
            "SolutionVersion: ACTIVE\n"
          ]
        }
      ]
    },
    {
      "cell_type": "markdown",
      "metadata": {
        "id": "CK6Q7lk9_9Tv"
      },
      "source": [
        "#### Get Metrics of Solution"
      ]
    },
    {
      "cell_type": "code",
      "metadata": {
        "id": "iPE9Coe0_9Tv",
        "outputId": "c29db527-9585-46a9-e6af-4074e1ab9359"
      },
      "source": [
        "get_solution_metrics_response = personalize.get_solution_metrics(\n",
        "    solutionVersionArn = solution_version_arn\n",
        ")\n",
        "\n",
        "print(json.dumps(get_solution_metrics_response, indent=2))"
      ],
      "execution_count": null,
      "outputs": [
        {
          "name": "stdout",
          "output_type": "stream",
          "text": [
            "{\n",
            "  \"metrics\": {\n",
            "    \"coverage\": 0.2603, \n",
            "    \"mean_reciprocal_rank_at_25\": 0.0539, \n",
            "    \"normalized_discounted_cumulative_gain_at_5\": 0.0486, \n",
            "    \"normalized_discounted_cumulative_gain_at_10\": 0.0649, \n",
            "    \"normalized_discounted_cumulative_gain_at_25\": 0.0918, \n",
            "    \"precision_at_5\": 0.0109, \n",
            "    \"precision_at_10\": 0.0098, \n",
            "    \"precision_at_25\": 0.0083, \n",
            "  }, \n",
            "  \"solutionVersionArn\": \"arn:aws:personalize:us-west-2:237539672711:solution/DEMO-solution/702e0792\", \n",
            "  \"ResponseMetadata\": {\n",
            "    \"RetryAttempts\": 0, \n",
            "    \"HTTPStatusCode\": 200, \n",
            "    \"RequestId\": \"5b5f4f4f-5249-4c0e-9f83-45e3fe22f09f\", \n",
            "    \"HTTPHeaders\": {\n",
            "      \"date\": \"Tue, 04 Dec 2018 00:53:54 GMT\", \n",
            "      \"x-amzn-requestid\": \"5b5f4f4f-5249-4c0e-9f83-45e3fe22f09f\", \n",
            "      \"content-length\": \"724\", \n",
            "      \"content-type\": \"application/x-amz-json-1.1\", \n",
            "      \"connection\": \"keep-alive\"\n",
            "    }\n",
            "  }\n",
            "}\n"
          ]
        }
      ]
    },
    {
      "cell_type": "markdown",
      "metadata": {
        "id": "smlHtCew_9Tw"
      },
      "source": [
        "### Create and Wait for Campaign"
      ]
    },
    {
      "cell_type": "markdown",
      "metadata": {
        "id": "I3HuGmH7_9Tw"
      },
      "source": [
        "#### Create Campaign"
      ]
    },
    {
      "cell_type": "code",
      "metadata": {
        "id": "d2NNeyta_9Tx",
        "outputId": "a98413fc-98c4-4b32-9823-73825457ac66"
      },
      "source": [
        "create_campaign_response = personalize.create_campaign(\n",
        "    name = \"DEMO-campaign\",\n",
        "    solutionVersionArn = solution_version_arn,\n",
        "    minProvisionedTPS = 1\n",
        ")\n",
        "\n",
        "campaign_arn = create_campaign_response['campaignArn']\n",
        "print(json.dumps(create_campaign_response, indent=2))"
      ],
      "execution_count": null,
      "outputs": [
        {
          "name": "stdout",
          "output_type": "stream",
          "text": [
            "{\n",
            "  \"campaignArn\": \"arn:aws:personalize:us-west-2:237539672711:campaign/DEMO-campaign\", \n",
            "  \"ResponseMetadata\": {\n",
            "    \"RetryAttempts\": 0, \n",
            "    \"HTTPStatusCode\": 200, \n",
            "    \"RequestId\": \"527e97ba-683c-4dc7-8218-00716f22c904\", \n",
            "    \"HTTPHeaders\": {\n",
            "      \"date\": \"Tue, 04 Dec 2018 00:54:17 GMT\", \n",
            "      \"x-amzn-requestid\": \"527e97ba-683c-4dc7-8218-00716f22c904\", \n",
            "      \"content-length\": \"83\", \n",
            "      \"content-type\": \"application/x-amz-json-1.1\", \n",
            "      \"connection\": \"keep-alive\"\n",
            "    }\n",
            "  }\n",
            "}\n"
          ]
        }
      ]
    },
    {
      "cell_type": "markdown",
      "metadata": {
        "id": "bMo8qzdq_9Tx"
      },
      "source": [
        "#### Wait for Campaign to Have ACTIVE Status"
      ]
    },
    {
      "cell_type": "code",
      "metadata": {
        "id": "4oz0qsJQ_9Tx",
        "outputId": "3d30b1e4-5840-4251-f513-a899116fd520"
      },
      "source": [
        "max_time = time.time() + 3*60*60 # 3 hours\n",
        "while time.time() < max_time:\n",
        "    describe_campaign_response = personalize.describe_campaign(\n",
        "        campaignArn = campaign_arn\n",
        "    )\n",
        "    status = describe_campaign_response[\"campaign\"][\"status\"]\n",
        "    print(\"Campaign: {}\".format(status))\n",
        "    \n",
        "    if status == \"ACTIVE\" or status == \"CREATE FAILED\":\n",
        "        break\n",
        "        \n",
        "    time.sleep(60)"
      ],
      "execution_count": null,
      "outputs": [
        {
          "name": "stdout",
          "output_type": "stream",
          "text": [
            "Campaign: CREATE PENDING\n",
            "Campaign: CREATE IN_PROGRESS\n",
            "Campaign: CREATE IN_PROGRESS\n",
            "Campaign: CREATE IN_PROGRESS\n",
            "Campaign: CREATE IN_PROGRESS\n",
            "Campaign: CREATE IN_PROGRESS\n",
            "Campaign: CREATE IN_PROGRESS\n",
            "Campaign: CREATE IN_PROGRESS\n",
            "Campaign: CREATE IN_PROGRESS\n",
            "Campaign: ACTIVE\n"
          ]
        }
      ]
    },
    {
      "cell_type": "markdown",
      "metadata": {
        "id": "wb1VVu6C_9Ty"
      },
      "source": [
        "### Get Recommendations"
      ]
    },
    {
      "cell_type": "markdown",
      "metadata": {
        "id": "_zI60lzo_9Ty"
      },
      "source": [
        "#### Select a User and an Item"
      ]
    },
    {
      "cell_type": "code",
      "metadata": {
        "id": "DEYsCq9u_9Ty",
        "outputId": "07349186-c9f2-4e1f-df5c-faec0a49c036"
      },
      "source": [
        "items = pd.read_csv('./ml-100k/u.item', sep='|', usecols=[0,1], encoding='latin-1')\n",
        "items.columns = ['ITEM_ID', 'TITLE']\n",
        "\n",
        "user_id, item_id, _ = data.sample().values[0]\n",
        "item_title = items.loc[items['ITEM_ID'] == item_id].values[0][-1]\n",
        "print(\"USER: {}\".format(user_id))\n",
        "print(\"ITEM: {}\".format(item_title))\n",
        "\n",
        "items"
      ],
      "execution_count": null,
      "outputs": [
        {
          "name": "stdout",
          "output_type": "stream",
          "text": [
            "USER: 711\n",
            "ITEM: Silence of the Lambs, The (1991)\n"
          ]
        },
        {
          "data": {
            "text/html": [
              "<div>\n",
              "<style scoped>\n",
              "    .dataframe tbody tr th:only-of-type {\n",
              "        vertical-align: middle;\n",
              "    }\n",
              "\n",
              "    .dataframe tbody tr th {\n",
              "        vertical-align: top;\n",
              "    }\n",
              "\n",
              "    .dataframe thead th {\n",
              "        text-align: right;\n",
              "    }\n",
              "</style>\n",
              "<table border=\"1\" class=\"dataframe\">\n",
              "  <thead>\n",
              "    <tr style=\"text-align: right;\">\n",
              "      <th></th>\n",
              "      <th>ITEM_ID</th>\n",
              "      <th>TITLE</th>\n",
              "    </tr>\n",
              "  </thead>\n",
              "  <tbody>\n",
              "    <tr>\n",
              "      <th>0</th>\n",
              "      <td>1</td>\n",
              "      <td>Toy Story (1995)</td>\n",
              "    </tr>\n",
              "    <tr>\n",
              "      <th>1</th>\n",
              "      <td>2</td>\n",
              "      <td>GoldenEye (1995)</td>\n",
              "    </tr>\n",
              "    <tr>\n",
              "      <th>...</th>\n",
              "      <td>...</td>\n",
              "      <td>...</td>\n",
              "    </tr>\n",
              "    <tr>\n",
              "      <th>1680</th>\n",
              "      <td>1681</td>\n",
              "      <td>You So Crazy (1994)</td>\n",
              "    </tr>\n",
              "    <tr>\n",
              "      <th>1681</th>\n",
              "      <td>1682</td>\n",
              "      <td>Scream of Stone (Schrei aus Stein) (1991)</td>\n",
              "    </tr>\n",
              "  </tbody>\n",
              "</table>\n",
              "<p>1682 rows × 2 columns</p>\n",
              "</div>"
            ],
            "text/plain": [
              "      ITEM_ID                                      TITLE\n",
              "0           1                           Toy Story (1995)\n",
              "1           2                           GoldenEye (1995)\n",
              "...       ...                                        ...\n",
              "1680     1681                        You So Crazy (1994)\n",
              "1681     1682  Scream of Stone (Schrei aus Stein) (1991)\n",
              "\n",
              "[1682 rows x 2 columns]"
            ]
          },
          "execution_count": null,
          "metadata": {},
          "output_type": "execute_result"
        }
      ]
    },
    {
      "cell_type": "markdown",
      "metadata": {
        "id": "f24MVrNa_9Tz"
      },
      "source": [
        "#### Call GetRecommendations"
      ]
    },
    {
      "cell_type": "code",
      "metadata": {
        "id": "S1xUELjq_9T0",
        "outputId": "4f52f53e-b132-4d41-b366-f9d5c2f504f8"
      },
      "source": [
        "get_recommendations_response = personalize_runtime.get_recommendations(\n",
        "    campaignArn = campaign_arn,\n",
        "    userId = str(user_id),\n",
        "    itemId = str(item_id)\n",
        ")\n",
        "\n",
        "item_list = get_recommendations_response['itemList']\n",
        "title_list = [items.loc[items['ITEM_ID'] == np.int(item['itemId'])].values[0][-1] for item in item_list]\n",
        "\n",
        "print(\"Recommendations: {}\".format(json.dumps(title_list, indent=2)))"
      ],
      "execution_count": null,
      "outputs": [
        {
          "name": "stdout",
          "output_type": "stream",
          "text": [
            "Recommendations: [\n",
            "  \"Godfather, The (1972)\", \n",
            "  \"Contact (1997)\", \n",
            "  \"Titanic (1997)\", \n",
            "  \"Star Wars (1977)\", \n",
            "  \"Fargo (1996)\", \n",
            "  \"Liar Liar (1997)\", \n",
            "  \"Evita (1996)\", \n",
            "  \"Jerry Maguire (1996)\", \n",
            "  \"Scream (1996)\", \n",
            "  \"Devil's Advocate, The (1997)\", \n",
            "  \"Full Monty, The (1997)\", \n",
            "  \"Conspiracy Theory (1997)\", \n",
            "  \"Edge, The (1997)\", \n",
            "  \"Sense and Sensibility (1995)\", \n",
            "  \"English Patient, The (1996)\", \n",
            "  \"Twelve Monkeys (1995)\", \n",
            "  \"L.A. Confidential (1997)\", \n",
            "  \"As Good As It Gets (1997)\", \n",
            "  \"In & Out (1997)\", \n",
            "  \"Rock, The (1996)\", \n",
            "  \"Return of the Jedi (1983)\", \n",
            "  \"Amistad (1997)\", \n",
            "  \"Men in Black (1997)\", \n",
            "  \"Truth About Cats & Dogs, The (1996)\", \n",
            "  \"Alien: Resurrection (1997)\"\n",
            "]\n"
          ]
        }
      ]
    }
  ]
}