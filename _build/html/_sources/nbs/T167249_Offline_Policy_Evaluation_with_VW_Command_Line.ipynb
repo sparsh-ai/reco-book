{
  "cells": [
    {
      "cell_type": "markdown",
      "metadata": {
        "id": "view-in-github"
      },
      "source": [
        "<a href=\"https://colab.research.google.com/github/sparsh-ai/reco-book/blob/stage/nbs/T167249_Offline_Policy_Evaluation_with_VW_Command_Line.ipynb\" target=\"_parent\"><img src=\"https://colab.research.google.com/assets/colab-badge.svg\" alt=\"Open In Colab\"/></a>"
      ]
    },
    {
      "cell_type": "markdown",
      "metadata": {
        "id": "WG4fo-sbXvi3"
      },
      "source": [
        "# Offline Policy Evaluation with VW Command Line"
      ]
    },
    {
      "cell_type": "markdown",
      "metadata": {
        "id": "JLa718n7Un3r"
      },
      "source": [
        "VW implements several estimators to reduce policy evaluation to supervised learning-type evaluation. The simplest method, the direct method (DM), simply trains a regression model that estimates the cost (negative reward) of an (action, context) pair. As you might suspect, this method is generally biased, because the partial information problem means you typically see many more rewards for good actions than bad ones (assuming your production policy is working normally). Biased estimators should not be used for offline policy evaluation, but VW implements provably unbiased estimators like inverse propensity weighting (IPS) and doubly robust (DR) that can be used for this purpose."
      ]
    },
    {
      "cell_type": "markdown",
      "metadata": {
        "id": "FON2pvvuUqDs"
      },
      "source": [
        "## Batch scenario: policy evaluation with a pre-trained VW policy, cb-format data"
      ]
    },
    {
      "cell_type": "markdown",
      "metadata": {
        "id": "7OnRU1F3UzuV"
      },
      "source": [
        "Let’s say you have collected the following bandit data from your production policy, and that the data is ordered such that the oldest data is first (don’t worry about the actual numbers in this toy example):"
      ]
    },
    {
      "cell_type": "markdown",
      "metadata": {
        "id": "sxq7udK1U3eV"
      },
      "source": [
        "```text\n",
        "1:1:0.5 | user_age:25\n",
        "2:0:0.5 | user_age:25\n",
        "2:1:0.5 | user_age:55\n",
        "2:1:0.5 | user_age:56\n",
        "2:1:0.5 | user_age:55\n",
        "2:1:0.5 | user_age:56\n",
        "1:1:0.5 | user_age:27\n",
        "2:0:0.5 | user_age:21\n",
        "2:0:0.5 | user_age:23\n",
        "2:0:0.5 | user_age:56\n",
        "2:1:0.5 | user_age:55\n",
        "2:1:0.5 | user_age:36\n",
        "1:1:0.5 | user_age:25\n",
        "2:0:0.5 | user_age:25\n",
        "2:1:0.5 | user_age:55\n",
        "2:1:0.5 | user_age:56\n",
        "2:1:0.5 | user_age:55\n",
        "2:1:0.5 | user_age:56\n",
        "1:1:0.5 | user_age:27\n",
        "2:0:0.5 | user_age:21\n",
        "2:0:0.5 | user_age:23\n",
        "2:0:0.5 | user_age:56\n",
        "2:1:0.5 | user_age:55\n",
        "2:1:0.5 | user_age:36\n",
        "```"
      ]
    },
    {
      "cell_type": "markdown",
      "metadata": {
        "id": "0OcD8EngVEd8"
      },
      "source": [
        "In order to do OPE, it is useful to think carefully about what you wish to evaluate. In a batch setting, you are interested in training a candidate policy and evaluating its performance on unseen data that is fresher than what you trained on. So, let’s split our data into two files. Starting from the oldest data first, we do e.g. and 70%/30% split, and save the results as train.dat and test.dat:"
      ]
    },
    {
      "cell_type": "code",
      "execution_count": 1,
      "metadata": {
        "id": "-KeLIaPtVFKr"
      },
      "outputs": [
        {
          "name": "stdout",
          "output_type": "stream",
          "text": [
            "Writing train.dat\n"
          ]
        }
      ],
      "source": [
        "%%writefile train.dat\n",
        "1:1:0.5 | user_age:25\n",
        "2:0:0.5 | user_age:25\n",
        "2:1:0.5 | user_age:55\n",
        "2:1:0.5 | user_age:56\n",
        "2:1:0.5 | user_age:55\n",
        "2:1:0.5 | user_age:56\n",
        "1:1:0.5 | user_age:27\n",
        "2:0:0.5 | user_age:21\n",
        "2:0:0.5 | user_age:23\n",
        "2:0:0.5 | user_age:56\n",
        "2:1:0.5 | user_age:55\n",
        "2:1:0.5 | user_age:36\n",
        "1:1:0.5 | user_age:25\n",
        "2:0:0.5 | user_age:25\n",
        "2:1:0.5 | user_age:55\n",
        "2:1:0.5 | user_age:56"
      ]
    },
    {
      "cell_type": "code",
      "execution_count": 2,
      "metadata": {
        "id": "6ilx6kZzVJB7"
      },
      "outputs": [
        {
          "name": "stdout",
          "output_type": "stream",
          "text": [
            "Writing test.dat\n"
          ]
        }
      ],
      "source": [
        "%%writefile test.dat\n",
        "2:1:0.5 | user_age:55\n",
        "2:1:0.5 | user_age:56\n",
        "1:1:0.5 | user_age:27\n",
        "2:0:0.5 | user_age:21\n",
        "2:0:0.5 | user_age:23\n",
        "2:0:0.5 | user_age:56\n",
        "2:1:0.5 | user_age:55\n",
        "2:1:0.5 | user_age:36"
      ]
    },
    {
      "cell_type": "markdown",
      "metadata": {
        "id": "fIRQjPR6VL0x"
      },
      "source": [
        "Before continuing, it is worth understanding that policy value estimators such as IPS, DM and DR aren’t only useful for policy value estimation. Since they provide us a way to fill in fake rewards for untaken actions, they allow us to reduce bandit learning to supervised learning, and used to train policies. For example, say you have a (biased) DM estimator. For each untaken action per round, you can predict a reward, thus forming a supervised learning example where the loss of each action is known (estimated). You can then train an importance-weighted classification model, or even a regression model that estimates costs of arms given contexts, and use these models as policies. This is, in fact, what VW does: estimators serve a dual purpose and are used not only for evaluation, but also optimisation/training.\n",
        "\n",
        "Now that we know that the same estimators that are used for OPE can also be used to train policies, let’s train a new candidate policy on the train set using e.g. IPS, and save the model as candidate-model.vw. In this instance we have two arms, so the command will look something like:"
      ]
    },
    {
      "cell_type": "code",
      "execution_count": null,
      "metadata": {
        "id": "_0trP5tiV-Q2"
      },
      "outputs": [],
      "source": [
        "!sudo apt-get install vowpal-wabbit"
      ]
    },
    {
      "cell_type": "code",
      "execution_count": 6,
      "metadata": {
        "id": "4SjIK64pVv4h"
      },
      "outputs": [
        {
          "name": "stdout",
          "output_type": "stream",
          "text": [
            "final_regressor = candidate-model.vw\n",
            "Num weight bits = 18\n",
            "learning rate = 0.5\n",
            "initial_t = 0\n",
            "power_t = 0.5\n",
            "using no cache\n",
            "Reading datafile = train.dat\n",
            "num sources = 1\n",
            "average  since         example        example  current  current  current\n",
            "loss     last          counter         weight    label  predict features\n",
            "2.000000 2.000000            1            1.0    known        1        2\n",
            "1.000000 0.000000            2            2.0    known        2        2\n",
            "1.000000 1.000000            4            4.0    known        1        2\n",
            "0.750000 0.500000            8            8.0    known        1        2\n",
            "0.500000 0.250000           16           16.0    known        1        2\n",
            "\n",
            "finished run\n",
            "number of examples per pass = 16\n",
            "passes used = 1\n",
            "weighted example sum = 16.000000\n",
            "weighted label sum = 0.000000\n",
            "average loss = 0.500000\n",
            "total feature number = 32\n"
          ]
        }
      ],
      "source": [
        "!vw --cb 2 --cb_type ips -d train.dat -f candidate-model.vw"
      ]
    },
    {
      "cell_type": "markdown",
      "metadata": {
        "id": "qOK1ks71V13z"
      },
      "source": [
        "The average loss above is of less interest to us in this scenario since we have a separate test set. Let’s load candidate-model.vw using -i and test against our test set. Remember to use the -t flag to disable learning, and to use the same cb_type as you did when training:"
      ]
    },
    {
      "cell_type": "code",
      "execution_count": 7,
      "metadata": {
        "id": "E84AqVqdWPzx"
      },
      "outputs": [
        {
          "name": "stdout",
          "output_type": "stream",
          "text": [
            "only testing\n",
            "ignoring duplicate option: '--cb_type ips'\n",
            "Num weight bits = 18\n",
            "learning rate = 0.5\n",
            "initial_t = 0\n",
            "power_t = 0.5\n",
            "using no cache\n",
            "Reading datafile = test.dat\n",
            "num sources = 1\n",
            "average  since         example        example  current  current  current\n",
            "loss     last          counter         weight    label  predict features\n",
            "0.000000 0.000000            1            1.0    known        1        2\n",
            "0.000000 0.000000            2            2.0    known        1        2\n",
            "0.500000 1.000000            4            4.0    known        1        2\n",
            "0.250000 0.000000            8            8.0    known        1        2\n",
            "\n",
            "finished run\n",
            "number of examples per pass = 8\n",
            "passes used = 1\n",
            "weighted example sum = 8.000000\n",
            "weighted label sum = 0.000000\n",
            "average loss = 0.250000\n",
            "total feature number = 16\n"
          ]
        }
      ],
      "source": [
        "!vw -i candidate-model.vw --cb_type ips -t -d test.dat"
      ]
    },
    {
      "cell_type": "markdown",
      "metadata": {
        "id": "FzqaRfkXWRpm"
      },
      "source": [
        "The average loss reported is the OPE estimate for this policy, and in this case, calculated against our test set. Since we specified --cb_type ips, the IPS estimator is used, which is unbiased. Feel free to use dr, too, but note that although VW will allow it, the use of dm is discouraged for OPE since it is biased. If you are unsure, we suggest using dr. Note that VW will complain if you train using one cb_type but test using another; mixing estimators in training and evaluation is currently not supported.\n",
        "\n",
        "Now that you have an OPE estimate of 0.250000, how does it compare to the production policy in production? This comparison is easy to make since, for the same time period, we have the ground truth in the test.dat file. If we sum the costs in that file and divide by the number of examples, we get 0.625. Generally, our toy example has far too little data with which to perform reliable estimates, but the principle applied: lower is better, so your candidate policy is estimated to perform better than the production policy in production. The exact definition of OPE is important: in this case, it means that had you deployed the candidate policy, with no exploration, instead of the production policy you could have expected to see the average cost reduce from 0.625 to 0.250000 for the period of time covered in the test set.\n",
        "\n",
        "Feel free to gridsearch several candidate policies using the same setup, to determine a combination of hyperparameters that work well for your use case. Note however that mixing different cb_type options when gridsearching is discouraged, even if all specified estimators are unbiased. Choose either IPS or DR beforehand."
      ]
    },
    {
      "cell_type": "markdown",
      "metadata": {
        "id": "ctZCTSn5WaBb"
      },
      "source": [
        "## Batch scenario: policy evaluation with a pre-trained VW policy, cb_adf-format data\n",
        "The cb_adf format is especially useful if you have rich features associated with an arm, or a variable number of arms per round. If you have adf-format data, the same procedure as above applies – just change cb to cb_adf in the corresponding commands."
      ]
    },
    {
      "cell_type": "markdown",
      "metadata": {
        "id": "GTMLnQKnWfhD"
      },
      "source": [
        "## Online scenario: policy evaluation with an incrementally trained VW policy, cb-format data\n",
        "In the online scenario, when you deploy a new policy behind e.g. a REST endpoint, that policy will continue to update itself from second to second, as and when new examples come in. Learning is incremental: you don’t iterate over the same training examples more than once.\n",
        "\n",
        "Online learning is particularly useful in settings where you need to react to changes in the world as fast as possible. From the point of view of OPE, the objective is the same: determining if a candidate policy is better than the one currently in production. But the setup differs slightly: since any policy deployed will continue to learn online, the key question is how well it will generalise to new examples coming in, considering that the policy is constantly evolving. So in this case, our candidate policy is in fact not a fixed policy, but one that changes constantly. It may help to think of it as a set of hyperparameters instead. The aim is to find out which set of these hyperparameters learns best in an online fashion.\n",
        "\n",
        "To answer this question, we leverage progressive validation (PV), a validation process implemented in VW. PV is explained in detail elsewhere (see e.g. John Langford’s talk on real world interactive learning), but for this tutorial, it is enough to know that for one-pass learning, the loss reported by progressive validation deviates like a test set yet allows you to train on all of your data. It’s a good indicator of the generalisation performance for online learning.\n",
        "\n",
        "VW reports PV loss automatically if you only iterate once over your data when training, i.e. --passes is 1 (the default). In this case, obtaining an OPE estimate is simply a matter of taking the bandit data from the production policy, again ordered oldest example first, and training as normal – no train/test split is needed.\n",
        "\n",
        "First, save your bandit data to a file, e.g data.dat:"
      ]
    },
    {
      "cell_type": "code",
      "execution_count": 8,
      "metadata": {
        "id": "W0Ds4d8VWm8Y"
      },
      "outputs": [
        {
          "name": "stdout",
          "output_type": "stream",
          "text": [
            "Writing data.dat\n"
          ]
        }
      ],
      "source": [
        "%%writefile data.dat\n",
        "1:1:0.5 | user_age:25\n",
        "2:0:0.5 | user_age:25\n",
        "2:1:0.5 | user_age:55\n",
        "2:1:0.5 | user_age:56\n",
        "2:1:0.5 | user_age:55\n",
        "2:1:0.5 | user_age:56\n",
        "1:1:0.5 | user_age:27\n",
        "2:0:0.5 | user_age:21\n",
        "2:0:0.5 | user_age:23\n",
        "2:0:0.5 | user_age:56\n",
        "2:1:0.5 | user_age:55\n",
        "2:1:0.5 | user_age:36\n",
        "1:1:0.5 | user_age:25\n",
        "2:0:0.5 | user_age:25\n",
        "2:1:0.5 | user_age:55\n",
        "2:1:0.5 | user_age:56\n",
        "2:1:0.5 | user_age:55\n",
        "2:1:0.5 | user_age:56\n",
        "1:1:0.5 | user_age:27\n",
        "2:0:0.5 | user_age:21\n",
        "2:0:0.5 | user_age:23\n",
        "2:0:0.5 | user_age:56\n",
        "2:1:0.5 | user_age:55\n",
        "2:1:0.5 | user_age:36"
      ]
    },
    {
      "cell_type": "markdown",
      "metadata": {
        "id": "3-brQqWoWrMQ"
      },
      "source": [
        "Then, train a policy incrementally. For the above data, with 2 possible actions and an IPS estimator, the command would be vw --cb 2 --cb_type ips -d data.dat (plus any additional options)."
      ]
    },
    {
      "cell_type": "code",
      "execution_count": 9,
      "metadata": {
        "id": "UCSQBLkGWxvS"
      },
      "outputs": [
        {
          "name": "stdout",
          "output_type": "stream",
          "text": [
            "Num weight bits = 18\n",
            "learning rate = 0.5\n",
            "initial_t = 0\n",
            "power_t = 0.5\n",
            "using no cache\n",
            "Reading datafile = data.dat\n",
            "num sources = 1\n",
            "average  since         example        example  current  current  current\n",
            "loss     last          counter         weight    label  predict features\n",
            "2.000000 2.000000            1            1.0    known        1        2\n",
            "1.000000 0.000000            2            2.0    known        2        2\n",
            "1.000000 1.000000            4            4.0    known        1        2\n",
            "0.750000 0.500000            8            8.0    known        1        2\n",
            "0.500000 0.250000           16           16.0    known        1        2\n",
            "\n",
            "finished run\n",
            "number of examples per pass = 24\n",
            "passes used = 1\n",
            "weighted example sum = 24.000000\n",
            "weighted label sum = 0.000000\n",
            "average loss = 0.416667\n",
            "total feature number = 48\n"
          ]
        }
      ],
      "source": [
        "!vw --cb 2 --cb_type ips -d data.dat "
      ]
    },
    {
      "cell_type": "markdown",
      "metadata": {
        "id": "pls7CM55WyHW"
      },
      "source": [
        "The average loss here is the OPE estimate, calculated using progressive validation, with the cb_type estimator you specified. The same caveats as before apply: if the specified cb_type is biased, it is generally no recommended to use the average loss as an OPE estimate. Again, if you are unsure, we recommend using the default by omitting cb_type altogether.\n",
        "\n",
        "To compare the OPE estimate of the candidate policy to the production policy, calculate the realised average cost in the data.dat file. In this case, it is 0.6667, and since our candidate policy’s 0.416667 is lower, we have found a set of hyperparameters estimated to perform better than our production online learner were it deployed at the time covered by the data."
      ]
    },
    {
      "cell_type": "markdown",
      "metadata": {
        "id": "QQ9Jz3IjW-hb"
      },
      "source": [
        "## Online scenario: policy evaluation with an incrementally trained VW policy, cb_adf-format data\n",
        "If you have adf-format data, the same procedure as above applies – just change cb to cb_adf in the corresponding commands."
      ]
    },
    {
      "cell_type": "markdown",
      "metadata": {
        "id": "tU2RgRFxXB_C"
      },
      "source": [
        "## Legacy: policy evaluation with cb-format data, using a pre-trained policy\n",
        "If your production policy produces bandit data in the standard cb format, and you already have a candidate policy even one trained outside VW, you can use the legacy --eval option to perform OPE. It is not recommended to use --eval if you are able to use any of the other methods described in this tutorial.\n",
        "\n",
        "First, create a new file, e.g. eval.dat. Then, for each instance of your production policy’s bandit data, write it to eval.dat but prepend the line with the action your candidate policy would have chosen given the same context. For example, if your current instance is 1:2:0.5 | feature_a feature_b and your candidate policy chooses action 2 instead given the same context feature_a feature_b, write the line 2 1:2:0.5 | feature_a feature_b (note the space!)."
      ]
    },
    {
      "cell_type": "code",
      "execution_count": 10,
      "metadata": {
        "id": "Ee6PXNr5XQQe"
      },
      "outputs": [
        {
          "name": "stdout",
          "output_type": "stream",
          "text": [
            "Writing eval.dat\n"
          ]
        }
      ],
      "source": [
        "%%writefile eval.dat\n",
        "2 1:2:0.5 | feature_a feature_b\n",
        "2 2:2:0.4 | feature_a feature_c\n",
        "1 1:2:0.1 | feature_b feature_c"
      ]
    },
    {
      "cell_type": "markdown",
      "metadata": {
        "id": "9IulJtDpXT1w"
      },
      "source": [
        "In the toy example above, the candidate agreed with the production policy for the second and third instances, but disagreed on the first instance.\n",
        "\n",
        "You are now ready to run policy evaluation using the command vw --cb <number_of_arms> --eval -d <dataset>. In our example, we have two possible actions, so the command is vw --cb 2 --eval -d eval.dat. This produced the following output (your results might differ based on VW version, or the seed):"
      ]
    },
    {
      "cell_type": "code",
      "execution_count": 11,
      "metadata": {
        "id": "RrI8WDDdXWVL"
      },
      "outputs": [
        {
          "name": "stdout",
          "output_type": "stream",
          "text": [
            "Num weight bits = 18\n",
            "learning rate = 0.5\n",
            "initial_t = 0\n",
            "power_t = 0.5\n",
            "using no cache\n",
            "Reading datafile = eval.dat\n",
            "num sources = 1\n",
            "average  since         example        example  current  current  current\n",
            "loss     last          counter         weight    label  predict features\n",
            "0.000000 0.000000            1            1.0    known        2        3\n",
            "2.500000 5.000000            2            2.0    known        2        3\n",
            "\n",
            "finished run\n",
            "number of examples per pass = 3\n",
            "passes used = 1\n",
            "weighted example sum = 3.000000\n",
            "weighted label sum = 0.000000\n",
            "average loss = 6.501957\n",
            "total feature number = 9\n"
          ]
        }
      ],
      "source": [
        "!vw --cb 2 --eval -d eval.dat"
      ]
    },
    {
      "cell_type": "markdown",
      "metadata": {
        "id": "ryK-zXbQXeu7"
      },
      "source": [
        "Again, average loss is the OPE estimate, and can be compared against the production policy’s realised average loss to determine if your candidate policy is estimated to work better than the policy in production.\n",
        "\n",
        "Note what happens if we try to run --eval with an estimator we know is biased, vw --cb 2 --eval -d eval.dat --cb_type dm. You will end up with an error, to prevent you from making a mistake:"
      ]
    },
    {
      "cell_type": "code",
      "execution_count": 12,
      "metadata": {
        "id": "uXkJRXNuXlXB"
      },
      "outputs": [
        {
          "name": "stdout",
          "output_type": "stream",
          "text": [
            "Error: direct method can not be used for evaluation --- it is biased.\n",
            "\n",
            "finished run\n",
            "number of examples = 0\n",
            "weighted example sum = 0.000000\n",
            "weighted label sum = 0.000000\n",
            "average loss = n.a.\n",
            "total feature number = 0\n",
            "vw (cb_algs.cc:168): direct method can not be used for evaluation --- it is biased.\n"
          ]
        }
      ],
      "source": [
        "!vw --cb 2 --eval -d eval.dat --cb_type dm"
      ]
    }
  ],
  "metadata": {
    "colab": {
      "collapsed_sections": [],
      "name": "T167249_Offline_Policy_Evaluation_with_VW_Command_Line.ipynb",
      "toc_visible": true
    },
    "kernelspec": {
      "display_name": "Python 3",
      "name": "python3"
    }
  },
  "nbformat": 4,
  "nbformat_minor": 0
}
