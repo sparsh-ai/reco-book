{
  "cells": [
    {
      "cell_type": "markdown",
      "metadata": {
        "id": "view-in-github"
      },
      "source": [
        "<a href=\"https://colab.research.google.com/github/sparsh-ai/reco-book/blob/stage/nbs/US780867_Transformer_based_Recommenders.ipynb\" target=\"_parent\"><img src=\"https://colab.research.google.com/assets/colab-badge.svg\" alt=\"Open In Colab\"/></a>"
      ]
    },
    {
      "cell_type": "markdown",
      "metadata": {
        "id": "UmTFtNQFXExo"
      },
      "source": [
        "# Transformer-based Recommenders"
      ]
    },
    {
      "cell_type": "markdown",
      "metadata": {
        "id": "cg9Ij8bhX2rU"
      },
      "source": [
        "To deal with sequential and session-based recommendation, many sequence learning algorithms previously applied in machine learning and NLP research have been explored for RecSys, based on k-Nearest Neighbors, Frequent Pattern Mining, Hidden Markov Models, Recurrent Neural Networks, and more recently neural architectures using the Self-Attention Mechanism and the Transformer architectures.\n",
        "\n",
        "Much of the recent progress in sequential and session-based recommendation has been driven by improvements in model architecture and pretraining techniques originating in the field of Natural Language Processing. Transformer architectures in particular have facilitated building higher-capacity models and provided data augmentation and training techniques which demonstrably improve the effectiveness of sequential recommendation.\n",
        "\n",
        "## Models\n",
        "\n",
        "1. SASRec\n",
        "2. BERT4Rec\n",
        "3. BST\n",
        "4. SSE-PT\n",
        "\n",
        "## Tools\n",
        "\n",
        "1. Transformers4Rec\n",
        "\n",
        "## Concepts\n",
        "\n",
        "1. Masked Language Modeling\n",
        "2. Permutation Language Modeling\n",
        "3. Causal Language Modeling\n",
        "4. Replacement Token Detection\n",
        "\n",
        "## Use Cases\n",
        "\n",
        "1. Santander Banking Product Recommendations\n",
        "2. Taobao"
      ]
    },
    {
      "cell_type": "markdown",
      "metadata": {
        "id": "QTOqmL-jX4no"
      },
      "source": [
        "See the sections of this tutorial to the left to get started!\n",
        "\n",
        "```{tableofcontents}\n",
        "```"
      ]
    }
  ],
  "metadata": {
    "colab": {
      "name": "US780867_Transformer_based_Recommenders.ipynb",
      "toc_visible": true
    },
    "kernelspec": {
      "display_name": "Python 3",
      "name": "python3"
    }
  },
  "nbformat": 4,
  "nbformat_minor": 0
}
