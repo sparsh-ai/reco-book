{
  "cells": [
    {
      "cell_type": "markdown",
      "metadata": {
        "id": "Uy5MoE99aESR"
      },
      "source": [
        "# Course Recommender with SVD based similarity\n",
        "> Applying SVD on education course dataset, storing in sqlite and wrapping in Flask REST api."
      ]
    },
    {
      "cell_type": "markdown",
      "metadata": {
        "id": "xBxkLnWf39V2"
      },
      "source": [
        "## Setup"
      ]
    },
    {
      "cell_type": "code",
      "execution_count": null,
      "metadata": {
        "id": "LjlfOLxQDWk5"
      },
      "outputs": [],
      "source": [
        "import os\n",
        "import yaml\n",
        "import copy\n",
        "import json\n",
        "import sqlite3\n",
        "import logging\n",
        "import requests\n",
        "import functools\n",
        "import numpy as np\n",
        "import pandas as pd\n",
        "from time import time\n",
        "from typing import List\n",
        "from flask import request\n",
        "from sklearn.decomposition import TruncatedSVD\n",
        "from sklearn.metrics.pairwise import pairwise_distances\n",
        "\n",
        "logging.getLogger().setLevel(logging.INFO)"
      ]
    },
    {
      "cell_type": "code",
      "execution_count": null,
      "metadata": {
        "id": "OssJ94WBEkt2"
      },
      "outputs": [],
      "source": [
        "data_path = \".\"\n",
        "\n",
        "# SQlite\n",
        "env = \"dev\"\n",
        "database = \"recommender_dev.db\"\n",
        "username = \"admin\"\n",
        "pwd = \"\"\n",
        "hostname = \"0.0.0.0\"\n",
        "port = 8081\n",
        "\n",
        "similarity_metric = \"cosine\" # Similarity metric for pairwise distance measurement\n",
        "weights = ['0.50','0.30','0.20'] # Weights for similarity matrix: interest,assessment,tags\n",
        "results_table = \"rank_matrix\"  # SQLite3 table containing user similarity metrics\n",
        "user_id = None # unique user id for scoring similarities\n",
        "\n",
        "# Flask server\n",
        "hostname = \"0.0.0.0\" # hostname for serving Flask application\n",
        "port = 5000 # port for serving Flask application"
      ]
    },
    {
      "cell_type": "markdown",
      "metadata": {
        "id": "56diW9dz32vs"
      },
      "source": [
        "## Data ingestion"
      ]
    },
    {
      "cell_type": "code",
      "execution_count": null,
      "metadata": {
        "id": "GAB7Yq0kHx8t"
      },
      "outputs": [],
      "source": [
        "#hide-output\n",
        "!wget https://github.com/sparsh-ai/user-recommender/raw/main/data/course_tags.csv\n",
        "!wget https://github.com/sparsh-ai/user-recommender/raw/main/data/user_interests.csv\n",
        "!wget https://github.com/sparsh-ai/user-recommender/raw/main/data/user_course_views.csv\n",
        "!wget https://github.com/sparsh-ai/user-recommender/raw/main/data/user_assessment_scores.csv"
      ]
    },
    {
      "cell_type": "code",
      "execution_count": null,
      "metadata": {
        "id": "fBqjXjpdKq1v"
      },
      "outputs": [],
      "source": [
        "def ingest_raw_data(env: str, data_dir: str = \"data\"):\n",
        "    \"\"\"Write .csv raw files to SQLite Database\"\"\"\n",
        "    csv_files = [i for i in os.listdir(data_dir) if \".csv\" in i]\n",
        "    for f in csv_files:\n",
        "        df = pd.read_csv(os.path.join(data_dir, f))\n",
        "        conn = sqlite3.connect(database)\n",
        "        cur = conn.cursor()\n",
        "        df.to_sql(name=f.split(\".\")[0], con=conn, if_exists=\"replace\", index=False)"
      ]
    },
    {
      "cell_type": "code",
      "execution_count": null,
      "metadata": {
        "id": "XHIiY3D7Kw6h"
      },
      "outputs": [],
      "source": [
        "ingest_raw_data(env, data_path)"
      ]
    },
    {
      "cell_type": "markdown",
      "metadata": {
        "id": "JpJBwY9j3rm9"
      },
      "source": [
        "## Load data from SQlite"
      ]
    },
    {
      "cell_type": "code",
      "execution_count": null,
      "metadata": {
        "id": "ggnYx7wTQ72v"
      },
      "outputs": [],
      "source": [
        "def read_table(env: str, query: str) -> pd.DataFrame:\n",
        "    \"\"\"Query Table from SQLite Database\"\"\"\n",
        "    conn = sqlite3.connect(database)\n",
        "    cur = conn.cursor()\n",
        "    cur.execute(query)\n",
        "    df = pd.DataFrame(cur.fetchall(), columns=[column[0] for column in cur.description])\n",
        "    return df"
      ]
    },
    {
      "cell_type": "code",
      "execution_count": null,
      "metadata": {
        "id": "nwwcDfi2QkHb"
      },
      "outputs": [],
      "source": [
        "def load_data(env: str) -> dict:\n",
        "    \"\"\"Load Users and Content Data from SQLite\"\"\"\n",
        "\n",
        "    df_course = read_table(env, f\"select * from user_course_views\")\n",
        "    df_asmt = read_table(env, f\"select * from user_assessment_scores\")\n",
        "    df_interest = read_table(env, f\"select * from user_interests\")\n",
        "    df_tags = read_table(env, f\"select * from course_tags\")\n",
        "\n",
        "    return {\n",
        "        \"course\": df_course,\n",
        "        \"assessment\": df_asmt,\n",
        "        \"interest\": df_interest,\n",
        "        \"tags\": df_tags,\n",
        "    }"
      ]
    },
    {
      "cell_type": "code",
      "execution_count": null,
      "metadata": {
        "id": "czO1yIuAQxQF"
      },
      "outputs": [],
      "source": [
        "# Load Users/Assessments/Course/Tags Data\n",
        "data_raw = load_data(env)"
      ]
    },
    {
      "cell_type": "markdown",
      "metadata": {
        "id": "wcOw1mQM3xAT"
      },
      "source": [
        "## Summarize"
      ]
    },
    {
      "cell_type": "code",
      "execution_count": null,
      "metadata": {
        "id": "vA16sAQXRomz"
      },
      "outputs": [],
      "source": [
        "def data_summary(data: dict):\n",
        "    \"\"\"Print Summary Metrics of Data\"\"\"\n",
        "    for name, df in data.items():\n",
        "        logging.info(f\"\\nDataframe: {name.upper()} -- Shape: {df.shape}\")\n",
        "        for c in df.columns:\n",
        "            unique = len(df[c].unique())\n",
        "            is_null = df[df[c].isnull()].shape[0]\n",
        "            logging.info(f\"{c} -- Unique: {unique} -- Null: {is_null}\")\n",
        "    return"
      ]
    },
    {
      "cell_type": "code",
      "execution_count": null,
      "metadata": {
        "id": "Hd5bQRA1Rdx-"
      },
      "outputs": [
        {
          "name": "stderr",
          "output_type": "stream",
          "text": [
            "INFO:root:\n",
            "Dataframe: COURSE -- Shape: (249238, 6)\n",
            "INFO:root:user_handle -- Unique: 8760 -- Null: 0\n",
            "INFO:root:view_date -- Unique: 212 -- Null: 0\n",
            "INFO:root:course_id -- Unique: 5942 -- Null: 0\n",
            "INFO:root:author_handle -- Unique: 1412 -- Null: 0\n",
            "INFO:root:level -- Unique: 3 -- Null: 0\n",
            "INFO:root:view_time_seconds -- Unique: 11631 -- Null: 0\n",
            "INFO:root:\n",
            "Dataframe: ASSESSMENT -- Shape: (6571, 4)\n",
            "INFO:root:user_handle -- Unique: 3114 -- Null: 0\n",
            "INFO:root:assessment_tag -- Unique: 54 -- Null: 0\n",
            "INFO:root:user_assessment_date -- Unique: 6570 -- Null: 0\n",
            "INFO:root:user_assessment_score -- Unique: 282 -- Null: 0\n",
            "INFO:root:\n",
            "Dataframe: INTEREST -- Shape: (297526, 3)\n",
            "INFO:root:user_handle -- Unique: 10000 -- Null: 0\n",
            "INFO:root:interest_tag -- Unique: 748 -- Null: 0\n",
            "INFO:root:date_followed -- Unique: 12869 -- Null: 0\n",
            "INFO:root:\n",
            "Dataframe: TAGS -- Shape: (11337, 2)\n",
            "INFO:root:course_id -- Unique: 5942 -- Null: 0\n",
            "INFO:root:course_tags -- Unique: 999 -- Null: 112\n"
          ]
        }
      ],
      "source": [
        "# Summary of Users/Assessments/Courses/Tags Data\n",
        "data_summary(data_raw)"
      ]
    },
    {
      "cell_type": "markdown",
      "metadata": {
        "id": "ih8a4TUL3mc4"
      },
      "source": [
        "## Preprocessing"
      ]
    },
    {
      "cell_type": "code",
      "execution_count": null,
      "metadata": {
        "id": "DPdzp-6RSN8d"
      },
      "outputs": [],
      "source": [
        "def preprocess(data: dict) -> dict:\n",
        "    \"\"\"Preprocess input DataFrames\"\"\"\n",
        "    prep = {}\n",
        "    data = copy.deepcopy(data)\n",
        "    for name, df in data.items():\n",
        "        # drop null values\n",
        "        df.dropna(axis=1, how=\"all\", inplace=True)  # course tags table\n",
        "        df.reset_index(drop=True, inplace=True)\n",
        "\n",
        "        # rename columns in dataframe\n",
        "        rename = {\n",
        "            \"interest_tag\": \"tag\",\n",
        "            \"assessment_tag\": \"tag\",\n",
        "            \"course_tags\": \"tag\",\n",
        "            \"user_assessment_score\": \"score\",\n",
        "            \"view_time_seconds\": \"view\",\n",
        "        }\n",
        "        df.columns = [rename[i] if i in rename.keys() else i for i in df.columns]\n",
        "\n",
        "        # discretize user assessment scores quantile buckets\n",
        "        # if \"score\" in df.columns:\n",
        "        #     df = df.replace({\"score\": {0:\"low\", 1:\"medium\", 2:\"high\"}})\n",
        "        if any(\"score\" in col for col in df.columns):\n",
        "            df[\"score\"] = pd.qcut(df[\"score\"], q=3, labels=[\"high\", \"medium\", \"low\"])\n",
        "\n",
        "        # discretize user viewing time into quantile buckets\n",
        "        # if \"view\" in df.columns:\n",
        "        #     df = df.replace({\"view\": {0:\"low\",1:\"high\"}})\n",
        "        if any(\"view\" in col for col in df.columns):\n",
        "            df[\"view\"] = pd.qcut(df[\"view\"], q=4, labels=[\"high\", \"medium\", \"low\", \"very low\"])\n",
        "\n",
        "        # encode categorical columns\n",
        "        cat_cols = [\"tag\", \"score\", \"view\", \"level\"]\n",
        "        for col in df.columns:\n",
        "            if col in cat_cols:\n",
        "                df[col] = pd.Categorical(df[col]).codes\n",
        "\n",
        "        # save prep dataframe\n",
        "        prep[name] = df\n",
        "\n",
        "    # add key for max users -> used for initializing user-item matrix\n",
        "    prep[\"max_users\"] = max(\n",
        "        [max(v[\"user_handle\"]) for k, v in prep.items() if \"user_handle\" in v.columns]\n",
        "    )\n",
        "\n",
        "    # add key containing dataframe for merged course/tags\n",
        "    prep[\"course_tags\"] = pd.merge(\n",
        "        prep[\"course\"], prep[\"tags\"], on=\"course_id\", how=\"left\"\n",
        "    )\n",
        "    return prep"
      ]
    },
    {
      "cell_type": "code",
      "execution_count": null,
      "metadata": {
        "id": "vtOR7Zx2SPva"
      },
      "outputs": [],
      "source": [
        "# Preprocess Raw Data\n",
        "data = preprocess(data_raw)"
      ]
    },
    {
      "cell_type": "markdown",
      "metadata": {
        "id": "1Kk8JXy83en1"
      },
      "source": [
        "## Calculating similarities and ranking"
      ]
    },
    {
      "cell_type": "markdown",
      "metadata": {
        "id": "mxgc7l5c3ZaL"
      },
      "source": [
        "### Similarity"
      ]
    },
    {
      "cell_type": "code",
      "execution_count": null,
      "metadata": {
        "id": "8Q2ROQiKD69A"
      },
      "outputs": [],
      "source": [
        "class UserSimilarityMatrix:\n",
        "    \"\"\"Class for building and computing similar users\"\"\"\n",
        "\n",
        "    def __init__(self, data: pd.DataFrame):\n",
        "        self.data = data\n",
        "\n",
        "    def __repr__(self) -> str:\n",
        "        return f\"Dimensions of User-Items Matrix: {self.matrix.shape}\"\n",
        "\n",
        "    def build_user_item_matrix(self, max_users: str, item: str) -> None:\n",
        "        \"\"\"Build User/Item Interaction Matrix\"\"\"\n",
        "        matrix = np.zeros(shape=(max_users, max(self.data[item])))\n",
        "        for _, row in self.data.iterrows():\n",
        "            matrix[row[\"user_handle\"] - 1, row[item] - 1] = 1\n",
        "        return matrix\n",
        "\n",
        "    def get_user_item_matrix(self, max_users: int, features: List[str]):\n",
        "        \"\"\"Concatenate Features into One User-Items Matrix\"\"\"\n",
        "        results = []\n",
        "        for item in features:\n",
        "            results.append(self.build_user_item_matrix(max_users, item))\n",
        "        self.matrix = np.hstack(results)\n",
        "      \n",
        "    def _truncatedSVD(self, threshold: float = 0.90) -> np.ndarray:\n",
        "        \"\"\"Apply Truncated SVD to Explain 'n'% of total variance\"\"\"\n",
        "        n_components = 2  # minimum components to begin\n",
        "        ex_var = 0\n",
        "        while ex_var < threshold:\n",
        "            pc = TruncatedSVD(n_components=n_components)\n",
        "            pc.fit_transform(self.matrix)\n",
        "            ex_var = np.sum(pc.explained_variance_ratio_)\n",
        "            n_components += 1\n",
        "        logging.info(\n",
        "            f\"Total components {pc.n_components} with {ex_var:0.2f} variance explained\"\n",
        "        )\n",
        "        self.matrix = pc.transform(self.matrix)\n",
        "\n",
        "    def compute_similarity(self, metric: str = \"cosine\") -> np.ndarray:\n",
        "        \"\"\"Compute Similarity\"\"\"\n",
        "        return pairwise_distances(self.matrix, metric=metric)"
      ]
    },
    {
      "cell_type": "code",
      "execution_count": null,
      "metadata": {
        "id": "DU9UA1m1Wj3C"
      },
      "outputs": [],
      "source": [
        "def apply_similarity_calculation(name: str, features: List[str], metric: str) -> np.ndarray:\n",
        "  \"\"\"Compute User-Items Similarity Matrix\n",
        "  Steps:\n",
        "      - Construct User-Item Binary Vector for each input dataset\n",
        "      - Apply truncatedSVD to determine 'n' components to explain m% of total variance\n",
        "      - Compute cosine similarity\n",
        "  \"\"\"\n",
        "  logging.info(\"=\" * 50)\n",
        "  logging.info(f\"Computing USER-{name.upper()} Similarity Matrix...\")\n",
        "  logging.info(f\"Input Features: {features}\")\n",
        "  SM = UserSimilarityMatrix(data[name])\n",
        "  SM.get_user_item_matrix(data[\"max_users\"], features)\n",
        "\n",
        "  logging.info(f\"Applying Truncated SVD: Input Shape: {SM.matrix.shape}...\")\n",
        "  SM._truncatedSVD()\n",
        "  logging.info(f\"Reduced User-Item Matrix Shape: {SM.matrix.shape}\")\n",
        "\n",
        "  # Compute pairwise user-similarity\n",
        "  return SM.compute_similarity(metric=metric)"
      ]
    },
    {
      "cell_type": "code",
      "execution_count": null,
      "metadata": {
        "id": "kXYUi1BcWvJq"
      },
      "outputs": [
        {
          "name": "stderr",
          "output_type": "stream",
          "text": [
            "INFO:root:==================================================\n",
            "INFO:root:Computing USER-INTEREST Similarity Matrix...\n",
            "INFO:root:Input Features: ['tag']\n",
            "INFO:root:Applying Truncated SVD: Input Shape: (10000, 747)...\n",
            "INFO:root:Total components 164 with 0.90 variance explained\n",
            "INFO:root:Reduced User-Item Matrix Shape: (10000, 164)\n"
          ]
        }
      ],
      "source": [
        "user_interest = apply_similarity_calculation(\"interest\", [\"tag\"], similarity_metric)"
      ]
    },
    {
      "cell_type": "code",
      "execution_count": null,
      "metadata": {
        "id": "4C6GRvulWvE-"
      },
      "outputs": [
        {
          "name": "stderr",
          "output_type": "stream",
          "text": [
            "INFO:root:==================================================\n",
            "INFO:root:Computing USER-ASSESSMENT Similarity Matrix...\n",
            "INFO:root:Input Features: ['tag', 'score']\n",
            "INFO:root:Applying Truncated SVD: Input Shape: (10000, 55)...\n",
            "INFO:root:Total components 20 with 0.91 variance explained\n",
            "INFO:root:Reduced User-Item Matrix Shape: (10000, 20)\n"
          ]
        }
      ],
      "source": [
        "user_assessment = apply_similarity_calculation(\"assessment\", [\"tag\", \"score\"], similarity_metric)"
      ]
    },
    {
      "cell_type": "code",
      "execution_count": null,
      "metadata": {
        "id": "A1slgCZJWu97"
      },
      "outputs": [
        {
          "name": "stderr",
          "output_type": "stream",
          "text": [
            "INFO:root:==================================================\n",
            "INFO:root:Computing USER-COURSE_TAGS Similarity Matrix...\n",
            "INFO:root:Input Features: ['tag', 'view']\n",
            "INFO:root:Applying Truncated SVD: Input Shape: (10000, 1000)...\n",
            "INFO:root:Total components 264 with 0.90 variance explained\n",
            "INFO:root:Reduced User-Item Matrix Shape: (10000, 264)\n"
          ]
        },
        {
          "name": "stdout",
          "output_type": "stream",
          "text": [
            "CPU times: user 12min 2s, sys: 5min 52s, total: 17min 55s\n",
            "Wall time: 9min 43s\n"
          ]
        }
      ],
      "source": [
        "%%time\n",
        "user_courses = apply_similarity_calculation(\"course_tags\", [\"tag\", \"view\"], similarity_metric)"
      ]
    },
    {
      "cell_type": "markdown",
      "metadata": {
        "id": "bxHWZMi03TpZ"
      },
      "source": [
        "### Weighted averaging"
      ]
    },
    {
      "cell_type": "code",
      "execution_count": null,
      "metadata": {
        "id": "cXKNW42YZgkg"
      },
      "outputs": [],
      "source": [
        "def compute_weighted_matrix(\n",
        "    users: np.ndarray, assessments: np.ndarray, course: np.ndarray, weights: List[float]\n",
        ") -> np.ndarray:\n",
        "    \"\"\"Compute Weighted Similarity Matrix where: weight_1 + weight_2 + weight_3 = 1\"\"\"\n",
        "    return (\n",
        "        (users * float(weights[0]))\n",
        "        + (assessments * float(weights[1]))\n",
        "        + (course * float(weights[2]))\n",
        "    )"
      ]
    },
    {
      "cell_type": "code",
      "execution_count": null,
      "metadata": {
        "id": "J3urPoKXX8Z_"
      },
      "outputs": [],
      "source": [
        "def apply_weighted_similarity(i: np.ndarray, a: np.ndarray, c: np.ndarray, weights: List[float]) -> np.ndarray:\n",
        "  \"\"\"Compute Interest/Assessment/Courses Weighted Matrix\"\"\"\n",
        "  logging.info(\"=\" * 50)\n",
        "  logging.info(\"Computing Weighted Similarity Matrix...\")\n",
        "  return compute_weighted_matrix(i, a, c, weights)"
      ]
    },
    {
      "cell_type": "code",
      "execution_count": null,
      "metadata": {
        "id": "akKgRv4iX9zF"
      },
      "outputs": [
        {
          "name": "stderr",
          "output_type": "stream",
          "text": [
            "INFO:root:==================================================\n",
            "INFO:root:Computing Weighted Similarity Matrix...\n"
          ]
        }
      ],
      "source": [
        "weighted_matrix = apply_weighted_similarity(user_interest, user_assessment, user_courses, weights)"
      ]
    },
    {
      "cell_type": "markdown",
      "metadata": {
        "id": "_KO723Fb3RjG"
      },
      "source": [
        "### Ranking"
      ]
    },
    {
      "cell_type": "code",
      "execution_count": null,
      "metadata": {
        "id": "ZXAewofzZq2G"
      },
      "outputs": [],
      "source": [
        "def rank_similar_users(X: np.ndarray, top_n: int = 5) -> pd.DataFrame:\n",
        "    \"\"\"Apply Custom Pandas Function to Rank Top 'n' Users\"\"\"\n",
        "\n",
        "    def custom_udf(X):\n",
        "        \"\"\"\n",
        "        Custom Pandas function for using index/score to\n",
        "        generate output results dataframe.\n",
        "        \"\"\"\n",
        "        idx = np.argsort(X.values, axis=0)[::-1][1 : top_n + 1]\n",
        "        return [\n",
        "            str({\"user\": i, \"score\": X.astype(float).round(4).values[i]}) for i in idx\n",
        "        ]\n",
        "\n",
        "    # dimensions: users x top_n\n",
        "    if isinstance(X, np.ndarray):\n",
        "        X = pd.DataFrame(X)\n",
        "    ranking = X.apply(custom_udf).T\n",
        "    ranking.columns = [f\"{i+1}\" for i in ranking.columns]\n",
        "    ranking[\"user_handle\"] = ranking.index\n",
        "    logging.info(f\"User Ranking Dataframe Shape: {ranking.shape}\")\n",
        "    return ranking"
      ]
    },
    {
      "cell_type": "code",
      "execution_count": null,
      "metadata": {
        "id": "iWUFp4W9YLGJ"
      },
      "outputs": [],
      "source": [
        "def apply_user_ranking(df: pd.DataFrame) -> pd.DataFrame:\n",
        "  \"\"\"Rank Users based on Similarity Metric\"\"\"\n",
        "  logging.info(\"=\" * 50)\n",
        "  logging.info(\"Computing Weighted Similarity Matrix...\")\n",
        "  return rank_similar_users(df)"
      ]
    },
    {
      "cell_type": "code",
      "execution_count": null,
      "metadata": {
        "id": "w7hAOwPWYIqV"
      },
      "outputs": [
        {
          "name": "stderr",
          "output_type": "stream",
          "text": [
            "INFO:root:==================================================\n",
            "INFO:root:Computing Weighted Similarity Matrix...\n",
            "INFO:root:User Ranking Dataframe Shape: (10000, 6)\n"
          ]
        },
        {
          "name": "stdout",
          "output_type": "stream",
          "text": [
            "CPU times: user 17.2 s, sys: 28.8 ms, total: 17.3 s\n",
            "Wall time: 17.2 s\n"
          ]
        }
      ],
      "source": [
        "%%time\n",
        "rank_matrix = apply_user_ranking(weighted_matrix)"
      ]
    },
    {
      "cell_type": "markdown",
      "metadata": {
        "id": "iSYO881a3Jz8"
      },
      "source": [
        "### Save the similarity matrix into database"
      ]
    },
    {
      "cell_type": "code",
      "execution_count": null,
      "metadata": {
        "id": "mIg0CugOZHRA"
      },
      "outputs": [],
      "source": [
        "def write_table(env: str, table: str, df: pd.DataFrame) -> None:\n",
        "  \"\"\"Write Table from SQLite Database\"\"\"\n",
        "  conn = sqlite3.connect(database)\n",
        "  cur = conn.cursor()\n",
        "  df.to_sql(name=table, con=conn, if_exists=\"replace\", index=False)"
      ]
    },
    {
      "cell_type": "code",
      "execution_count": null,
      "metadata": {
        "id": "6jXLCb7bYS8F"
      },
      "outputs": [],
      "source": [
        "def save(results: pd.DataFrame) -> None:\n",
        "  \"\"\"Write Output Data to Table in SQLite Database\"\"\"\n",
        "  logging.info(\"=\" * 50)\n",
        "  logging.info(\"Updating similarity matrix in SQLite Database...\")\n",
        "  write_table(env, results_table, results)"
      ]
    },
    {
      "cell_type": "code",
      "execution_count": null,
      "metadata": {
        "id": "akdX564OYV94"
      },
      "outputs": [
        {
          "name": "stderr",
          "output_type": "stream",
          "text": [
            "INFO:root:==================================================\n",
            "INFO:root:Updating similarity matrix in SQLite Database...\n"
          ]
        }
      ],
      "source": [
        "save(rank_matrix)"
      ]
    },
    {
      "cell_type": "markdown",
      "metadata": {
        "id": "6uTC57Fa3F1k"
      },
      "source": [
        "## Adding Test sample"
      ]
    },
    {
      "cell_type": "code",
      "execution_count": null,
      "metadata": {
        "id": "nwCNoS_9a99f"
      },
      "outputs": [],
      "source": [
        "def read_table(env: str, query: str) -> pd.DataFrame:\n",
        "  \"\"\"Query Table from SQLite Database\"\"\"\n",
        "  conn = sqlite3.connect(database)\n",
        "  cur = conn.cursor()\n",
        "  cur.execute(query)\n",
        "  df = pd.DataFrame(\n",
        "      cur.fetchall(), columns=[column[0] for column in cur.description]\n",
        "  )\n",
        "  return df"
      ]
    },
    {
      "cell_type": "code",
      "execution_count": null,
      "metadata": {
        "id": "NQbC8M1qa9zN"
      },
      "outputs": [
        {
          "data": {
            "text/html": [
              "<div>\n",
              "<style scoped>\n",
              "    .dataframe tbody tr th:only-of-type {\n",
              "        vertical-align: middle;\n",
              "    }\n",
              "\n",
              "    .dataframe tbody tr th {\n",
              "        vertical-align: top;\n",
              "    }\n",
              "\n",
              "    .dataframe thead th {\n",
              "        text-align: right;\n",
              "    }\n",
              "</style>\n",
              "<table border=\"1\" class=\"dataframe\">\n",
              "  <thead>\n",
              "    <tr style=\"text-align: right;\">\n",
              "      <th></th>\n",
              "      <th>course_id</th>\n",
              "      <th>course_tags</th>\n",
              "    </tr>\n",
              "  </thead>\n",
              "  <tbody>\n",
              "    <tr>\n",
              "      <th>0</th>\n",
              "      <td>12-principles-animation-toon-boom-harmony-1475</td>\n",
              "      <td>2d-animation</td>\n",
              "    </tr>\n",
              "    <tr>\n",
              "      <th>1</th>\n",
              "      <td>2d-racing-game-series-unity-5-1312</td>\n",
              "      <td>game-design</td>\n",
              "    </tr>\n",
              "    <tr>\n",
              "      <th>2</th>\n",
              "      <td>2d-racing-games-unity-volume-2-1286</td>\n",
              "      <td>game-art</td>\n",
              "    </tr>\n",
              "    <tr>\n",
              "      <th>3</th>\n",
              "      <td>2d-racing-games-unity-volume-2-1286</td>\n",
              "      <td>digital-painting</td>\n",
              "    </tr>\n",
              "    <tr>\n",
              "      <th>4</th>\n",
              "      <td>2d-racing-games-unity-volume-2-1286</td>\n",
              "      <td>image-editing</td>\n",
              "    </tr>\n",
              "  </tbody>\n",
              "</table>\n",
              "</div>"
            ],
            "text/plain": [
              "                                        course_id       course_tags\n",
              "0  12-principles-animation-toon-boom-harmony-1475      2d-animation\n",
              "1              2d-racing-game-series-unity-5-1312       game-design\n",
              "2             2d-racing-games-unity-volume-2-1286          game-art\n",
              "3             2d-racing-games-unity-volume-2-1286  digital-painting\n",
              "4             2d-racing-games-unity-volume-2-1286     image-editing"
            ]
          },
          "execution_count": 208,
          "metadata": {
            "tags": []
          },
          "output_type": "execute_result"
        }
      ],
      "source": [
        "df_check_tags = read_table('dev', f\"select * from course_tags\")\n",
        "df_check_tags.head()"
      ]
    },
    {
      "cell_type": "code",
      "execution_count": null,
      "metadata": {
        "id": "zZEaW1UIsgnm"
      },
      "outputs": [],
      "source": [
        "# Sample Data\n",
        "df_test = pd.DataFrame({'user_handle':['110','110','111','111'],\n",
        "                        'user_match': ['112','113','157','145'],\n",
        "                        'similarity': ['80.2','20.8','52.0','48.0']})"
      ]
    },
    {
      "cell_type": "code",
      "execution_count": null,
      "metadata": {
        "id": "1tcGg1P9tGPx"
      },
      "outputs": [],
      "source": [
        "# Write Similarty Results to Table\n",
        "write_table('dev','test_table',df_test)"
      ]
    },
    {
      "cell_type": "code",
      "execution_count": null,
      "metadata": {
        "id": "o7XdpxENtF97"
      },
      "outputs": [
        {
          "data": {
            "text/html": [
              "<div>\n",
              "<style scoped>\n",
              "    .dataframe tbody tr th:only-of-type {\n",
              "        vertical-align: middle;\n",
              "    }\n",
              "\n",
              "    .dataframe tbody tr th {\n",
              "        vertical-align: top;\n",
              "    }\n",
              "\n",
              "    .dataframe thead th {\n",
              "        text-align: right;\n",
              "    }\n",
              "</style>\n",
              "<table border=\"1\" class=\"dataframe\">\n",
              "  <thead>\n",
              "    <tr style=\"text-align: right;\">\n",
              "      <th></th>\n",
              "      <th>user_handle</th>\n",
              "      <th>user_match</th>\n",
              "      <th>similarity</th>\n",
              "    </tr>\n",
              "  </thead>\n",
              "  <tbody>\n",
              "    <tr>\n",
              "      <th>0</th>\n",
              "      <td>110</td>\n",
              "      <td>112</td>\n",
              "      <td>80.2</td>\n",
              "    </tr>\n",
              "    <tr>\n",
              "      <th>1</th>\n",
              "      <td>110</td>\n",
              "      <td>113</td>\n",
              "      <td>20.8</td>\n",
              "    </tr>\n",
              "  </tbody>\n",
              "</table>\n",
              "</div>"
            ],
            "text/plain": [
              "  user_handle user_match similarity\n",
              "0         110        112       80.2\n",
              "1         110        113       20.8"
            ]
          },
          "execution_count": 211,
          "metadata": {
            "tags": []
          },
          "output_type": "execute_result"
        }
      ],
      "source": [
        "# Read from Table\n",
        "users = '110'\n",
        "read_table('dev', f\"select * from test_table where user_handle = {users}\")"
      ]
    },
    {
      "cell_type": "code",
      "execution_count": null,
      "metadata": {
        "id": "dlj9ilMKtUio"
      },
      "outputs": [
        {
          "data": {
            "text/plain": [
              "<sqlite3.Cursor at 0x7f5c0ad68570>"
            ]
          },
          "execution_count": 213,
          "metadata": {
            "tags": []
          },
          "output_type": "execute_result"
        }
      ],
      "source": [
        "# Add Index on Results Table (user_ranking)\n",
        "conn = sqlite3.connect(database)\n",
        "sql_table = f\"\"\"CREATE UNIQUE INDEX user_handle_index ON {results_table} (user_handle)\"\"\"\n",
        "cur = conn.cursor()\n",
        "cur.execute(sql_table)"
      ]
    },
    {
      "cell_type": "markdown",
      "metadata": {
        "id": "C7i7ls7L4EiQ"
      },
      "source": [
        "## Manual evaluation"
      ]
    },
    {
      "cell_type": "code",
      "execution_count": null,
      "metadata": {
        "id": "eyIzvj2o4L6h"
      },
      "outputs": [],
      "source": [
        "# User content\n",
        "user_assesments = pd.read_csv('user_assessment_scores.csv')\n",
        "user_interest = pd.read_csv('user_interests.csv')\n",
        "user_course_views = pd.read_csv('user_course_views.csv')\n",
        "course_tags = pd.read_csv('course_tags.csv')"
      ]
    },
    {
      "cell_type": "code",
      "execution_count": null,
      "metadata": {
        "id": "ffcdSJpn4L20"
      },
      "outputs": [
        {
          "data": {
            "text/html": [
              "<div>\n",
              "<style scoped>\n",
              "    .dataframe tbody tr th:only-of-type {\n",
              "        vertical-align: middle;\n",
              "    }\n",
              "\n",
              "    .dataframe tbody tr th {\n",
              "        vertical-align: top;\n",
              "    }\n",
              "\n",
              "    .dataframe thead th {\n",
              "        text-align: right;\n",
              "    }\n",
              "</style>\n",
              "<table border=\"1\" class=\"dataframe\">\n",
              "  <thead>\n",
              "    <tr style=\"text-align: right;\">\n",
              "      <th></th>\n",
              "      <th>1</th>\n",
              "      <th>2</th>\n",
              "      <th>3</th>\n",
              "      <th>4</th>\n",
              "      <th>5</th>\n",
              "      <th>user_handle</th>\n",
              "    </tr>\n",
              "  </thead>\n",
              "  <tbody>\n",
              "    <tr>\n",
              "      <th>0</th>\n",
              "      <td>{'user': 9776, 'score': 1.0047}</td>\n",
              "      <td>{'user': 1171, 'score': 1.0034}</td>\n",
              "      <td>{'user': 225, 'score': 1.003}</td>\n",
              "      <td>{'user': 2211, 'score': 1.0027}</td>\n",
              "      <td>{'user': 3712, 'score': 1.0026}</td>\n",
              "      <td>9</td>\n",
              "    </tr>\n",
              "  </tbody>\n",
              "</table>\n",
              "</div>"
            ],
            "text/plain": [
              "                                 1  ... user_handle\n",
              "0  {'user': 9776, 'score': 1.0047}  ...           9\n",
              "\n",
              "[1 rows x 6 columns]"
            ]
          },
          "execution_count": 275,
          "metadata": {
            "tags": []
          },
          "output_type": "execute_result"
        }
      ],
      "source": [
        "input_user  = 9\n",
        "read_table('dev', f\"select * from {results_table} where user_handle = {input_user}\")"
      ]
    },
    {
      "cell_type": "code",
      "execution_count": null,
      "metadata": {
        "id": "7YpiMrAv4Lyk"
      },
      "outputs": [
        {
          "data": {
            "text/html": [
              "<div>\n",
              "<style scoped>\n",
              "    .dataframe tbody tr th:only-of-type {\n",
              "        vertical-align: middle;\n",
              "    }\n",
              "\n",
              "    .dataframe tbody tr th {\n",
              "        vertical-align: top;\n",
              "    }\n",
              "\n",
              "    .dataframe thead th {\n",
              "        text-align: right;\n",
              "    }\n",
              "</style>\n",
              "<table border=\"1\" class=\"dataframe\">\n",
              "  <thead>\n",
              "    <tr style=\"text-align: right;\">\n",
              "      <th></th>\n",
              "      <th>user_handle</th>\n",
              "      <th>interest_tag</th>\n",
              "      <th>date_followed</th>\n",
              "    </tr>\n",
              "  </thead>\n",
              "  <tbody>\n",
              "    <tr>\n",
              "      <th>297</th>\n",
              "      <td>9</td>\n",
              "      <td>cloud-computing</td>\n",
              "      <td>2017-11-06 16:55:35</td>\n",
              "    </tr>\n",
              "    <tr>\n",
              "      <th>298</th>\n",
              "      <td>9</td>\n",
              "      <td>devops</td>\n",
              "      <td>2017-11-06 16:55:35</td>\n",
              "    </tr>\n",
              "    <tr>\n",
              "      <th>299</th>\n",
              "      <td>9</td>\n",
              "      <td>microsoft-azure</td>\n",
              "      <td>2017-11-06 16:55:35</td>\n",
              "    </tr>\n",
              "    <tr>\n",
              "      <th>300</th>\n",
              "      <td>9</td>\n",
              "      <td>windows-azure</td>\n",
              "      <td>2017-11-06 16:55:35</td>\n",
              "    </tr>\n",
              "    <tr>\n",
              "      <th>301</th>\n",
              "      <td>9</td>\n",
              "      <td>azure-deployment</td>\n",
              "      <td>2017-11-06 16:55:35</td>\n",
              "    </tr>\n",
              "    <tr>\n",
              "      <th>302</th>\n",
              "      <td>9</td>\n",
              "      <td>azure</td>\n",
              "      <td>2017-11-06 16:55:35</td>\n",
              "    </tr>\n",
              "    <tr>\n",
              "      <th>303</th>\n",
              "      <td>9</td>\n",
              "      <td>cloud-computing</td>\n",
              "      <td>2017-11-06 16:55:35</td>\n",
              "    </tr>\n",
              "  </tbody>\n",
              "</table>\n",
              "</div>"
            ],
            "text/plain": [
              "     user_handle      interest_tag        date_followed\n",
              "297            9   cloud-computing  2017-11-06 16:55:35\n",
              "298            9            devops  2017-11-06 16:55:35\n",
              "299            9   microsoft-azure  2017-11-06 16:55:35\n",
              "300            9     windows-azure  2017-11-06 16:55:35\n",
              "301            9  azure-deployment  2017-11-06 16:55:35\n",
              "302            9             azure  2017-11-06 16:55:35\n",
              "303            9   cloud-computing  2017-11-06 16:55:35"
            ]
          },
          "execution_count": 276,
          "metadata": {
            "tags": []
          },
          "output_type": "execute_result"
        }
      ],
      "source": [
        "user_interest[user_interest['user_handle'] == input_user]"
      ]
    },
    {
      "cell_type": "code",
      "execution_count": null,
      "metadata": {
        "id": "hU3mhL_i4Lve"
      },
      "outputs": [
        {
          "data": {
            "text/html": [
              "<div>\n",
              "<style scoped>\n",
              "    .dataframe tbody tr th:only-of-type {\n",
              "        vertical-align: middle;\n",
              "    }\n",
              "\n",
              "    .dataframe tbody tr th {\n",
              "        vertical-align: top;\n",
              "    }\n",
              "\n",
              "    .dataframe thead th {\n",
              "        text-align: right;\n",
              "    }\n",
              "</style>\n",
              "<table border=\"1\" class=\"dataframe\">\n",
              "  <thead>\n",
              "    <tr style=\"text-align: right;\">\n",
              "      <th></th>\n",
              "      <th>user_handle</th>\n",
              "      <th>interest_tag</th>\n",
              "      <th>date_followed</th>\n",
              "    </tr>\n",
              "  </thead>\n",
              "  <tbody>\n",
              "    <tr>\n",
              "      <th>292147</th>\n",
              "      <td>9776</td>\n",
              "      <td>c#</td>\n",
              "      <td>2017-06-21 07:36:34</td>\n",
              "    </tr>\n",
              "    <tr>\n",
              "      <th>292148</th>\n",
              "      <td>9776</td>\n",
              "      <td>data-analysis</td>\n",
              "      <td>2017-06-21 07:36:34</td>\n",
              "    </tr>\n",
              "    <tr>\n",
              "      <th>292149</th>\n",
              "      <td>9776</td>\n",
              "      <td>python</td>\n",
              "      <td>2017-06-21 07:36:34</td>\n",
              "    </tr>\n",
              "    <tr>\n",
              "      <th>292150</th>\n",
              "      <td>9776</td>\n",
              "      <td>vmware-vcloud</td>\n",
              "      <td>2017-06-21 07:36:34</td>\n",
              "    </tr>\n",
              "    <tr>\n",
              "      <th>292151</th>\n",
              "      <td>9776</td>\n",
              "      <td>security-auditing</td>\n",
              "      <td>2017-06-21 07:36:34</td>\n",
              "    </tr>\n",
              "    <tr>\n",
              "      <th>292152</th>\n",
              "      <td>9776</td>\n",
              "      <td>troubleshooting</td>\n",
              "      <td>2017-06-21 07:36:34</td>\n",
              "    </tr>\n",
              "    <tr>\n",
              "      <th>292153</th>\n",
              "      <td>9776</td>\n",
              "      <td>sql-server</td>\n",
              "      <td>2017-06-21 07:36:34</td>\n",
              "    </tr>\n",
              "    <tr>\n",
              "      <th>292154</th>\n",
              "      <td>9776</td>\n",
              "      <td>vmware-vsphere</td>\n",
              "      <td>2017-06-21 07:36:34</td>\n",
              "    </tr>\n",
              "    <tr>\n",
              "      <th>292155</th>\n",
              "      <td>9776</td>\n",
              "      <td>vsphere</td>\n",
              "      <td>2017-06-21 07:36:34</td>\n",
              "    </tr>\n",
              "    <tr>\n",
              "      <th>292156</th>\n",
              "      <td>9776</td>\n",
              "      <td>devops</td>\n",
              "      <td>2017-06-21 07:36:34</td>\n",
              "    </tr>\n",
              "  </tbody>\n",
              "</table>\n",
              "</div>"
            ],
            "text/plain": [
              "        user_handle       interest_tag        date_followed\n",
              "292147         9776                 c#  2017-06-21 07:36:34\n",
              "292148         9776      data-analysis  2017-06-21 07:36:34\n",
              "292149         9776             python  2017-06-21 07:36:34\n",
              "292150         9776      vmware-vcloud  2017-06-21 07:36:34\n",
              "292151         9776  security-auditing  2017-06-21 07:36:34\n",
              "292152         9776    troubleshooting  2017-06-21 07:36:34\n",
              "292153         9776         sql-server  2017-06-21 07:36:34\n",
              "292154         9776     vmware-vsphere  2017-06-21 07:36:34\n",
              "292155         9776            vsphere  2017-06-21 07:36:34\n",
              "292156         9776             devops  2017-06-21 07:36:34"
            ]
          },
          "execution_count": 277,
          "metadata": {
            "tags": []
          },
          "output_type": "execute_result"
        }
      ],
      "source": [
        "user_interest[user_interest['user_handle'] == 9776].head(10)"
      ]
    },
    {
      "cell_type": "code",
      "execution_count": null,
      "metadata": {
        "id": "wufmGLxh4Lr-"
      },
      "outputs": [
        {
          "data": {
            "text/html": [
              "<div>\n",
              "<style scoped>\n",
              "    .dataframe tbody tr th:only-of-type {\n",
              "        vertical-align: middle;\n",
              "    }\n",
              "\n",
              "    .dataframe tbody tr th {\n",
              "        vertical-align: top;\n",
              "    }\n",
              "\n",
              "    .dataframe thead th {\n",
              "        text-align: right;\n",
              "    }\n",
              "</style>\n",
              "<table border=\"1\" class=\"dataframe\">\n",
              "  <thead>\n",
              "    <tr style=\"text-align: right;\">\n",
              "      <th></th>\n",
              "      <th>user_handle</th>\n",
              "      <th>assessment_tag</th>\n",
              "      <th>user_assessment_date</th>\n",
              "      <th>user_assessment_score</th>\n",
              "    </tr>\n",
              "  </thead>\n",
              "  <tbody>\n",
              "    <tr>\n",
              "      <th>3752</th>\n",
              "      <td>9</td>\n",
              "      <td>azure-infrastructure-as-a-service</td>\n",
              "      <td>2017-11-06 17:06:03</td>\n",
              "      <td>141</td>\n",
              "    </tr>\n",
              "  </tbody>\n",
              "</table>\n",
              "</div>"
            ],
            "text/plain": [
              "      user_handle  ... user_assessment_score\n",
              "3752            9  ...                   141\n",
              "\n",
              "[1 rows x 4 columns]"
            ]
          },
          "execution_count": 278,
          "metadata": {
            "tags": []
          },
          "output_type": "execute_result"
        }
      ],
      "source": [
        "user_assesments[user_assesments['user_handle'] == input_user]"
      ]
    },
    {
      "cell_type": "code",
      "execution_count": null,
      "metadata": {
        "id": "a2ssultC4-k-"
      },
      "outputs": [
        {
          "data": {
            "text/html": [
              "<div>\n",
              "<style scoped>\n",
              "    .dataframe tbody tr th:only-of-type {\n",
              "        vertical-align: middle;\n",
              "    }\n",
              "\n",
              "    .dataframe tbody tr th {\n",
              "        vertical-align: top;\n",
              "    }\n",
              "\n",
              "    .dataframe thead th {\n",
              "        text-align: right;\n",
              "    }\n",
              "</style>\n",
              "<table border=\"1\" class=\"dataframe\">\n",
              "  <thead>\n",
              "    <tr style=\"text-align: right;\">\n",
              "      <th></th>\n",
              "      <th>user_handle</th>\n",
              "      <th>interest_tag</th>\n",
              "      <th>date_followed</th>\n",
              "    </tr>\n",
              "  </thead>\n",
              "  <tbody>\n",
              "    <tr>\n",
              "      <th>292147</th>\n",
              "      <td>9776</td>\n",
              "      <td>c#</td>\n",
              "      <td>2017-06-21 07:36:34</td>\n",
              "    </tr>\n",
              "    <tr>\n",
              "      <th>292148</th>\n",
              "      <td>9776</td>\n",
              "      <td>data-analysis</td>\n",
              "      <td>2017-06-21 07:36:34</td>\n",
              "    </tr>\n",
              "    <tr>\n",
              "      <th>292149</th>\n",
              "      <td>9776</td>\n",
              "      <td>python</td>\n",
              "      <td>2017-06-21 07:36:34</td>\n",
              "    </tr>\n",
              "    <tr>\n",
              "      <th>292150</th>\n",
              "      <td>9776</td>\n",
              "      <td>vmware-vcloud</td>\n",
              "      <td>2017-06-21 07:36:34</td>\n",
              "    </tr>\n",
              "    <tr>\n",
              "      <th>292151</th>\n",
              "      <td>9776</td>\n",
              "      <td>security-auditing</td>\n",
              "      <td>2017-06-21 07:36:34</td>\n",
              "    </tr>\n",
              "    <tr>\n",
              "      <th>292152</th>\n",
              "      <td>9776</td>\n",
              "      <td>troubleshooting</td>\n",
              "      <td>2017-06-21 07:36:34</td>\n",
              "    </tr>\n",
              "    <tr>\n",
              "      <th>292153</th>\n",
              "      <td>9776</td>\n",
              "      <td>sql-server</td>\n",
              "      <td>2017-06-21 07:36:34</td>\n",
              "    </tr>\n",
              "    <tr>\n",
              "      <th>292154</th>\n",
              "      <td>9776</td>\n",
              "      <td>vmware-vsphere</td>\n",
              "      <td>2017-06-21 07:36:34</td>\n",
              "    </tr>\n",
              "    <tr>\n",
              "      <th>292155</th>\n",
              "      <td>9776</td>\n",
              "      <td>vsphere</td>\n",
              "      <td>2017-06-21 07:36:34</td>\n",
              "    </tr>\n",
              "    <tr>\n",
              "      <th>292156</th>\n",
              "      <td>9776</td>\n",
              "      <td>devops</td>\n",
              "      <td>2017-06-21 07:36:34</td>\n",
              "    </tr>\n",
              "  </tbody>\n",
              "</table>\n",
              "</div>"
            ],
            "text/plain": [
              "        user_handle       interest_tag        date_followed\n",
              "292147         9776                 c#  2017-06-21 07:36:34\n",
              "292148         9776      data-analysis  2017-06-21 07:36:34\n",
              "292149         9776             python  2017-06-21 07:36:34\n",
              "292150         9776      vmware-vcloud  2017-06-21 07:36:34\n",
              "292151         9776  security-auditing  2017-06-21 07:36:34\n",
              "292152         9776    troubleshooting  2017-06-21 07:36:34\n",
              "292153         9776         sql-server  2017-06-21 07:36:34\n",
              "292154         9776     vmware-vsphere  2017-06-21 07:36:34\n",
              "292155         9776            vsphere  2017-06-21 07:36:34\n",
              "292156         9776             devops  2017-06-21 07:36:34"
            ]
          },
          "execution_count": 279,
          "metadata": {
            "tags": []
          },
          "output_type": "execute_result"
        }
      ],
      "source": [
        "user_interest[user_interest['user_handle'] == 9776].head(10)"
      ]
    },
    {
      "cell_type": "code",
      "execution_count": null,
      "metadata": {
        "id": "CKXbS1XR6FZv"
      },
      "outputs": [
        {
          "data": {
            "text/html": [
              "<div>\n",
              "<style scoped>\n",
              "    .dataframe tbody tr th:only-of-type {\n",
              "        vertical-align: middle;\n",
              "    }\n",
              "\n",
              "    .dataframe tbody tr th {\n",
              "        vertical-align: top;\n",
              "    }\n",
              "\n",
              "    .dataframe thead th {\n",
              "        text-align: right;\n",
              "    }\n",
              "</style>\n",
              "<table border=\"1\" class=\"dataframe\">\n",
              "  <thead>\n",
              "    <tr style=\"text-align: right;\">\n",
              "      <th></th>\n",
              "      <th>user_handle</th>\n",
              "      <th>view_date</th>\n",
              "      <th>course_id</th>\n",
              "      <th>author_handle</th>\n",
              "      <th>level</th>\n",
              "      <th>view_time_seconds</th>\n",
              "    </tr>\n",
              "  </thead>\n",
              "  <tbody>\n",
              "    <tr>\n",
              "      <th>233</th>\n",
              "      <td>9</td>\n",
              "      <td>2017-10-02</td>\n",
              "      <td>azure-adding-search-abilities-apps</td>\n",
              "      <td>140</td>\n",
              "      <td>Intermediate</td>\n",
              "      <td>2548</td>\n",
              "    </tr>\n",
              "    <tr>\n",
              "      <th>234</th>\n",
              "      <td>9</td>\n",
              "      <td>2017-10-03</td>\n",
              "      <td>azure-adding-search-abilities-apps</td>\n",
              "      <td>140</td>\n",
              "      <td>Intermediate</td>\n",
              "      <td>160</td>\n",
              "    </tr>\n",
              "    <tr>\n",
              "      <th>235</th>\n",
              "      <td>9</td>\n",
              "      <td>2017-10-05</td>\n",
              "      <td>terraform-getting-started</td>\n",
              "      <td>278</td>\n",
              "      <td>Beginner</td>\n",
              "      <td>998</td>\n",
              "    </tr>\n",
              "    <tr>\n",
              "      <th>236</th>\n",
              "      <td>9</td>\n",
              "      <td>2017-10-11</td>\n",
              "      <td>elasticsearch-analyzing-data</td>\n",
              "      <td>381</td>\n",
              "      <td>Intermediate</td>\n",
              "      <td>110</td>\n",
              "    </tr>\n",
              "    <tr>\n",
              "      <th>237</th>\n",
              "      <td>9</td>\n",
              "      <td>2017-10-11</td>\n",
              "      <td>elasticsearch-for-dotnet-developers</td>\n",
              "      <td>377</td>\n",
              "      <td>Beginner</td>\n",
              "      <td>3214</td>\n",
              "    </tr>\n",
              "    <tr>\n",
              "      <th>238</th>\n",
              "      <td>9</td>\n",
              "      <td>2017-10-16</td>\n",
              "      <td>terraform-getting-started</td>\n",
              "      <td>278</td>\n",
              "      <td>Beginner</td>\n",
              "      <td>678</td>\n",
              "    </tr>\n",
              "    <tr>\n",
              "      <th>239</th>\n",
              "      <td>9</td>\n",
              "      <td>2017-10-19</td>\n",
              "      <td>enterprise-search-using-apache-solr</td>\n",
              "      <td>936</td>\n",
              "      <td>Intermediate</td>\n",
              "      <td>2840</td>\n",
              "    </tr>\n",
              "    <tr>\n",
              "      <th>240</th>\n",
              "      <td>9</td>\n",
              "      <td>2017-10-20</td>\n",
              "      <td>enterprise-search-using-apache-solr</td>\n",
              "      <td>936</td>\n",
              "      <td>Intermediate</td>\n",
              "      <td>574</td>\n",
              "    </tr>\n",
              "    <tr>\n",
              "      <th>241</th>\n",
              "      <td>9</td>\n",
              "      <td>2017-10-27</td>\n",
              "      <td>intro-desktop-virtualization</td>\n",
              "      <td>221</td>\n",
              "      <td>Intermediate</td>\n",
              "      <td>2461</td>\n",
              "    </tr>\n",
              "    <tr>\n",
              "      <th>242</th>\n",
              "      <td>9</td>\n",
              "      <td>2017-11-04</td>\n",
              "      <td>getting-started-kubernetes</td>\n",
              "      <td>681</td>\n",
              "      <td>Beginner</td>\n",
              "      <td>2892</td>\n",
              "    </tr>\n",
              "    <tr>\n",
              "      <th>243</th>\n",
              "      <td>9</td>\n",
              "      <td>2017-11-05</td>\n",
              "      <td>getting-started-kubernetes</td>\n",
              "      <td>681</td>\n",
              "      <td>Beginner</td>\n",
              "      <td>1584</td>\n",
              "    </tr>\n",
              "    <tr>\n",
              "      <th>244</th>\n",
              "      <td>9</td>\n",
              "      <td>2017-11-06</td>\n",
              "      <td>azure-adding-search-abilities-apps</td>\n",
              "      <td>140</td>\n",
              "      <td>Intermediate</td>\n",
              "      <td>160</td>\n",
              "    </tr>\n",
              "    <tr>\n",
              "      <th>245</th>\n",
              "      <td>9</td>\n",
              "      <td>2017-11-06</td>\n",
              "      <td>getting-started-kubernetes</td>\n",
              "      <td>681</td>\n",
              "      <td>Beginner</td>\n",
              "      <td>2622</td>\n",
              "    </tr>\n",
              "    <tr>\n",
              "      <th>246</th>\n",
              "      <td>9</td>\n",
              "      <td>2017-11-08</td>\n",
              "      <td>azure-advanced-storage</td>\n",
              "      <td>457</td>\n",
              "      <td>Intermediate</td>\n",
              "      <td>1724</td>\n",
              "    </tr>\n",
              "    <tr>\n",
              "      <th>247</th>\n",
              "      <td>9</td>\n",
              "      <td>2017-11-08</td>\n",
              "      <td>preparing-pass-microsoft-azure-70-533-exam</td>\n",
              "      <td>896</td>\n",
              "      <td>Intermediate</td>\n",
              "      <td>674</td>\n",
              "    </tr>\n",
              "    <tr>\n",
              "      <th>248</th>\n",
              "      <td>9</td>\n",
              "      <td>2017-11-15</td>\n",
              "      <td>azure-functions-fundamentals</td>\n",
              "      <td>592</td>\n",
              "      <td>Intermediate</td>\n",
              "      <td>1915</td>\n",
              "    </tr>\n",
              "    <tr>\n",
              "      <th>249</th>\n",
              "      <td>9</td>\n",
              "      <td>2017-11-15</td>\n",
              "      <td>azure-serverless-applications</td>\n",
              "      <td>592</td>\n",
              "      <td>Beginner</td>\n",
              "      <td>605</td>\n",
              "    </tr>\n",
              "    <tr>\n",
              "      <th>250</th>\n",
              "      <td>9</td>\n",
              "      <td>2017-11-15</td>\n",
              "      <td>windows-server2012-remote-desktop-infrastructure</td>\n",
              "      <td>825</td>\n",
              "      <td>Intermediate</td>\n",
              "      <td>2553</td>\n",
              "    </tr>\n",
              "    <tr>\n",
              "      <th>251</th>\n",
              "      <td>9</td>\n",
              "      <td>2017-11-16</td>\n",
              "      <td>azure-functions-fundamentals</td>\n",
              "      <td>592</td>\n",
              "      <td>Intermediate</td>\n",
              "      <td>625</td>\n",
              "    </tr>\n",
              "    <tr>\n",
              "      <th>252</th>\n",
              "      <td>9</td>\n",
              "      <td>2017-11-17</td>\n",
              "      <td>azure-functions-fundamentals</td>\n",
              "      <td>592</td>\n",
              "      <td>Intermediate</td>\n",
              "      <td>910</td>\n",
              "    </tr>\n",
              "  </tbody>\n",
              "</table>\n",
              "</div>"
            ],
            "text/plain": [
              "     user_handle   view_date  ...         level  view_time_seconds\n",
              "233            9  2017-10-02  ...  Intermediate               2548\n",
              "234            9  2017-10-03  ...  Intermediate                160\n",
              "235            9  2017-10-05  ...      Beginner                998\n",
              "236            9  2017-10-11  ...  Intermediate                110\n",
              "237            9  2017-10-11  ...      Beginner               3214\n",
              "238            9  2017-10-16  ...      Beginner                678\n",
              "239            9  2017-10-19  ...  Intermediate               2840\n",
              "240            9  2017-10-20  ...  Intermediate                574\n",
              "241            9  2017-10-27  ...  Intermediate               2461\n",
              "242            9  2017-11-04  ...      Beginner               2892\n",
              "243            9  2017-11-05  ...      Beginner               1584\n",
              "244            9  2017-11-06  ...  Intermediate                160\n",
              "245            9  2017-11-06  ...      Beginner               2622\n",
              "246            9  2017-11-08  ...  Intermediate               1724\n",
              "247            9  2017-11-08  ...  Intermediate                674\n",
              "248            9  2017-11-15  ...  Intermediate               1915\n",
              "249            9  2017-11-15  ...      Beginner                605\n",
              "250            9  2017-11-15  ...  Intermediate               2553\n",
              "251            9  2017-11-16  ...  Intermediate                625\n",
              "252            9  2017-11-17  ...  Intermediate                910\n",
              "\n",
              "[20 rows x 6 columns]"
            ]
          },
          "execution_count": 280,
          "metadata": {
            "tags": []
          },
          "output_type": "execute_result"
        }
      ],
      "source": [
        "user_course_views[user_course_views['user_handle'] == input_user]"
      ]
    },
    {
      "cell_type": "markdown",
      "metadata": {
        "id": "kyFz981V2_g7"
      },
      "source": [
        "## Deploy and Inference"
      ]
    },
    {
      "cell_type": "markdown",
      "metadata": {
        "id": "1s_I2W_s24pL"
      },
      "source": [
        "### Build the API"
      ]
    },
    {
      "cell_type": "code",
      "execution_count": null,
      "metadata": {
        "id": "VoTbfCsqGNYi"
      },
      "outputs": [
        {
          "name": "stdout",
          "output_type": "stream",
          "text": [
            "Overwriting app.py\n"
          ]
        }
      ],
      "source": [
        "%%writefile app.py\n",
        "\n",
        "import os\n",
        "import json\n",
        "import sqlite3\n",
        "import pandas as pd\n",
        "from flask import Flask, request, jsonify\n",
        "\n",
        "DATABASE_ENV = \"dev\"\n",
        "DATABASE_NAME = \"recommender_dev.db\"\n",
        "TABLE = \"rank_matrix\"\n",
        "\n",
        "app = Flask(__name__)\n",
        "\n",
        "\n",
        "def read_table(env: str, query: str) -> pd.DataFrame:\n",
        "  \"\"\"Query Table from SQLite Database\"\"\"\n",
        "  conn = sqlite3.connect(DATABASE_NAME)\n",
        "  cur = conn.cursor()\n",
        "  cur.execute(query)\n",
        "  df = pd.DataFrame(\n",
        "      cur.fetchall(), columns=[column[0] for column in cur.description]\n",
        "  )\n",
        "  return df\n",
        "\n",
        "\n",
        "class SimilarUsers:\n",
        "    def __init__(self, user):\n",
        "        self.user = user\n",
        "\n",
        "    def fetch_user_from_db(self):\n",
        "        \"\"\"Fetch User Record from SQLite Database\"\"\"\n",
        "        query = f\"select * from {TABLE} where user_handle = {self.user}\"\n",
        "        print(\"Table\", TABLE)\n",
        "        return read_table(DATABASE_ENV, query)\n",
        "\n",
        "    def get_payload(self):\n",
        "        \"\"\"Return JSON Payload containing Input User and Top\n",
        "        Similar Users with associated similarity scores\"\"\"\n",
        "        data = self.fetch_user_from_db()\n",
        "        if data.shape[0] == 0:\n",
        "            return {self.user_id: \"No records found!\"}\n",
        "        else:\n",
        "            return {str(self.user): list(data.loc[0].values.flatten()[:-1])}\n",
        "\n",
        "\n",
        "@app.route(\"/api/similarity/\", methods=[\"POST\", \"GET\"])\n",
        "def get_user_similarity():\n",
        "    user = json.loads(request.get_data())[\"user_handle\"]\n",
        "    SU = SimilarUsers(user)\n",
        "    results = SU.get_payload()\n",
        "    return results\n",
        "\n",
        "\n",
        "if __name__ == '__main__':\n",
        "  app.run(debug=True)"
      ]
    },
    {
      "cell_type": "markdown",
      "metadata": {
        "id": "wJenoG7J2z2T"
      },
      "source": [
        "### Run the server API"
      ]
    },
    {
      "cell_type": "code",
      "execution_count": null,
      "metadata": {
        "id": "heWzh51NwqEf"
      },
      "outputs": [
        {
          "name": "stdout",
          "output_type": "stream",
          "text": [
            "nohup: redirecting stderr to stdout\n"
          ]
        }
      ],
      "source": [
        "!chmod +x app.py\n",
        "!nohup python3 app.py > output.log &"
      ]
    },
    {
      "cell_type": "code",
      "execution_count": null,
      "metadata": {
        "id": "nRrNznADyKWn"
      },
      "outputs": [
        {
          "name": "stdout",
          "output_type": "stream",
          "text": [
            " * Serving Flask app \"app\" (lazy loading)\n",
            " * Environment: production\n",
            "   WARNING: This is a development server. Do not use it in a production deployment.\n",
            "   Use a production WSGI server instead.\n",
            " * Debug mode: on\n",
            " * Running on http://127.0.0.1:5000/ (Press CTRL+C to quit)\n",
            " * Restarting with stat\n",
            " * Debugger is active!\n",
            " * Debugger PIN: 504-461-721\n"
          ]
        }
      ],
      "source": [
        "!cat output.log"
      ]
    },
    {
      "cell_type": "markdown",
      "metadata": {
        "id": "N8CWXAs42ss4"
      },
      "source": [
        "### Make post request"
      ]
    },
    {
      "cell_type": "code",
      "execution_count": null,
      "metadata": {
        "id": "2lJ6mWqMGIc5"
      },
      "outputs": [],
      "source": [
        "def similarity(user_id: str, host: str = \"0.0.0.0\", port: int = 5000) -> json:\n",
        "\n",
        "    \"\"\"API call to flask app running on localhost\n",
        "    and fetch top similar customers to the input customer(s)\n",
        "    \"\"\"\n",
        "    url = f\"http://{host}:{port}/api/similarity/\"\n",
        "    to_json = json.dumps({\"user_handle\": user_id})\n",
        "    headers = {\"content-type\": \"application/json\", \"Accept-Charset\": \"UTF-8\"}\n",
        "    response = requests.post(url, data=to_json, headers=headers)\n",
        "    print(response.text)"
      ]
    },
    {
      "cell_type": "code",
      "execution_count": null,
      "metadata": {
        "id": "9Ry-RHzdt6CY"
      },
      "outputs": [
        {
          "name": "stdout",
          "output_type": "stream",
          "text": [
            "{\n",
            "  \"110\": [\n",
            "    \"{'user': 7785, 'score': 1.0065}\", \n",
            "    \"{'user': 5318, 'score': 1.0064}\", \n",
            "    \"{'user': 8165, 'score': 1.0055}\", \n",
            "    \"{'user': 6607, 'score': 1.0049}\", \n",
            "    \"{'user': 6586, 'score': 1.0046}\"\n",
            "  ]\n",
            "}\n",
            "\n"
          ]
        }
      ],
      "source": [
        "similarity(user_id='110')"
      ]
    },
    {
      "cell_type": "markdown",
      "metadata": {
        "id": "PpsZ73fq2jiQ"
      },
      "source": [
        "### Make post request using CURL from command line"
      ]
    },
    {
      "cell_type": "code",
      "execution_count": null,
      "metadata": {
        "id": "lpGmAbNZ0oiO"
      },
      "outputs": [
        {
          "name": "stdout",
          "output_type": "stream",
          "text": [
            "{\n",
            "  \"110\": [\n",
            "    \"{'user': 7785, 'score': 1.0065}\", \n",
            "    \"{'user': 5318, 'score': 1.0064}\", \n",
            "    \"{'user': 8165, 'score': 1.0055}\", \n",
            "    \"{'user': 6607, 'score': 1.0049}\", \n",
            "    \"{'user': 6586, 'score': 1.0046}\"\n",
            "  ]\n",
            "}\n"
          ]
        }
      ],
      "source": [
        "!curl -X GET -H \"Content-type: application/json\" -d \"{\\\"user_handle\\\":\\\"110\\\"}\" \"http://0.0.0.0:5000/api/similarity/\""
      ]
    }
  ],
  "metadata": {
    "colab": {
      "collapsed_sections": [],
      "name": "T990001_course_recommender_svd_flask.ipynb",
      "toc_visible": true
    },
    "kernelspec": {
      "display_name": "Python 3",
      "name": "python3"
    }
  },
  "nbformat": 4,
  "nbformat_minor": 0
}
