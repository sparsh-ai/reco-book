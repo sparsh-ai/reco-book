{
 "cells": [
  {
   "cell_type": "markdown",
   "metadata": {
    "id": "UnT3HPuhtjmu"
   },
   "source": [
    "# Kafka MongoDB Real-time Streaming"
   ]
  },
  {
   "cell_type": "markdown",
   "metadata": {
    "id": "h7LRAwH-L7eP"
   },
   "source": [
    "## Kafka Producer\n",
    "> Sending events to Kafka broker in real-time"
   ]
  },
  {
   "cell_type": "code",
   "execution_count": null,
   "metadata": {
    "id": "Mu8H8dKKttgd"
   },
   "outputs": [],
   "source": [
    "!pip install confluent_kafka -q"
   ]
  },
  {
   "cell_type": "code",
   "execution_count": null,
   "metadata": {
    "id": "yhnNQHc-ttgd"
   },
   "outputs": [],
   "source": [
    "import json\n",
    "import sys\n",
    "import os\n",
    "import pandas as pd\n",
    "\n",
    "from confluent_kafka import Producer\n",
    "from confluent_kafka import Consumer, KafkaException, KafkaError"
   ]
  },
  {
   "cell_type": "code",
   "execution_count": null,
   "metadata": {
    "id": "OBkfvdEJJUjF"
   },
   "outputs": [],
   "source": [
    "!wget http://files.grouplens.org/datasets/movielens/ml-latest-small.zip\n",
    "!unzip ml-latest-small.zip"
   ]
  },
  {
   "cell_type": "code",
   "execution_count": null,
   "metadata": {
    "id": "JcnH7FiTHqfJ"
   },
   "outputs": [
    {
     "name": "stdout",
     "output_type": "stream",
     "text": [
      "{'movieId': 1, 'title': 'Toy Story (1995)', 'genres': 'Adventure|Animation|Children|Comedy|Fantasy'}\n"
     ]
    }
   ],
   "source": [
    "df = pd.read_csv('./ml-latest-small/movies.csv')\n",
    "df.to_json('df.json')\n",
    "df_json = pd.read_json('df.json')\n",
    "movie_list= df_json.to_dict(orient=\"records\")\n",
    "print(movie_list[0])"
   ]
  },
  {
   "cell_type": "markdown",
   "metadata": {
    "id": "t5fqJSfYK5Ac"
   },
   "source": [
    "### Producer Setup [notebook]"
   ]
  },
  {
   "cell_type": "code",
   "execution_count": null,
   "metadata": {
    "id": "_41zdl9zttgg"
   },
   "outputs": [],
   "source": [
    "CLOUDKARAFKA_TOPIC = 'yx03wajr-demo'\n",
    "CLOUDKARAFKA_BROKERS = 'dory-01.srvs.cloudkafka.com:9094, \\\n",
    "dory-02.srvs.cloudkafka.com:9094, \\\n",
    "dory-03.srvs.cloudkafka.com:9094'\n",
    "CLOUDKARAFKA_USERNAME = 'yx03wajr'\n",
    "CLOUDKARAFKA_PASSWORD = 'pHva0afDUXPya6JfKrbM1******'"
   ]
  },
  {
   "cell_type": "code",
   "execution_count": null,
   "metadata": {
    "id": "U0Ill6RU2DK-"
   },
   "outputs": [],
   "source": [
    "topic = CLOUDKARAFKA_TOPIC.split(\",\")[0]\n",
    "\n",
    "conf = {\n",
    "    'bootstrap.servers': CLOUDKARAFKA_BROKERS,\n",
    "    'session.timeout.ms': 6000,\n",
    "    'default.topic.config': {'auto.offset.reset': 'smallest'},\n",
    "    'security.protocol': 'SASL_SSL',\n",
    "    'sasl.mechanisms': 'SCRAM-SHA-256',\n",
    "    'sasl.username': CLOUDKARAFKA_USERNAME,\n",
    "    'sasl.password': CLOUDKARAFKA_PASSWORD\n",
    "    }"
   ]
  },
  {
   "cell_type": "code",
   "execution_count": null,
   "metadata": {
    "id": "-rBf0QNBJR8B"
   },
   "outputs": [],
   "source": [
    "p = Producer(**conf)"
   ]
  },
  {
   "cell_type": "code",
   "execution_count": null,
   "metadata": {
    "id": "sNdPhyNCKBA3"
   },
   "outputs": [],
   "source": [
    "def delivery_callback(err, msg):\n",
    "  if err:\n",
    "      sys.stderr.write('%% Message failed delivery: %s\\n' % err)\n",
    "  else:\n",
    "      sys.stderr.write('%% Message delivered to %s [%d]\\n' %\n",
    "                        (msg.topic(), msg.partition()))"
   ]
  },
  {
   "cell_type": "code",
   "execution_count": null,
   "metadata": {
    "id": "A-IYHF2pKNze"
   },
   "outputs": [
    {
     "name": "stdout",
     "output_type": "stream",
     "text": [
      "Message to be send :  {'movieId': 1, 'title': 'Toy Story (1995)', 'genres': 'Adventure|Animation|Children|Comedy|Fantasy'}\n",
      "Message to be send :  {'movieId': 2, 'title': 'Jumanji (1995)', 'genres': 'Adventure|Children|Fantasy'}\n",
      "Message to be send :  {'movieId': 3, 'title': 'Grumpier Old Men (1995)', 'genres': 'Comedy|Romance'}\n",
      "Message to be send :  {'movieId': 4, 'title': 'Waiting to Exhale (1995)', 'genres': 'Comedy|Drama|Romance'}\n",
      "Message to be send :  {'movieId': 5, 'title': 'Father of the Bride Part II (1995)', 'genres': 'Comedy'}\n"
     ]
    },
    {
     "name": "stderr",
     "output_type": "stream",
     "text": [
      "% Waiting for 5 deliveries\n",
      "% Message delivered to yx03wajr-demo [1]\n",
      "% Message delivered to yx03wajr-demo [2]\n",
      "% Message delivered to yx03wajr-demo [0]\n",
      "% Message delivered to yx03wajr-demo [0]\n",
      "% Message delivered to yx03wajr-demo [0]\n"
     ]
    },
    {
     "data": {
      "text/plain": [
       "0"
      ]
     },
     "execution_count": 9,
     "metadata": {
      "tags": []
     },
     "output_type": "execute_result"
    }
   ],
   "source": [
    "for movie in movie_list[0:5]:\n",
    "    try:\n",
    "        print(\"Message to be send : \", movie)\n",
    "        p.produce(topic, str(movie), callback=delivery_callback)\n",
    "    except BufferError as e:\n",
    "        sys.stderr.write('%% Local producer queue is full (%d messages awaiting delivery): try again\\n' %\n",
    "                          len(p))\n",
    "    p.poll(0)\n",
    "\n",
    "sys.stderr.write('%% Waiting for %d deliveries\\n' % len(p))\n",
    "p.flush()"
   ]
  },
  {
   "cell_type": "markdown",
   "metadata": {
    "id": "M0_ITYAfN2E7"
   },
   "source": [
    "### Producer Setup [terminal]"
   ]
  },
  {
   "cell_type": "code",
   "execution_count": null,
   "metadata": {
    "id": "BHPP91vaM620"
   },
   "outputs": [
    {
     "name": "stdout",
     "output_type": "stream",
     "text": [
      "Overwriting producer.py\n"
     ]
    }
   ],
   "source": [
    "%%writefile producer.py\n",
    "\n",
    "import sys\n",
    "import os\n",
    "\n",
    "from confluent_kafka import Producer\n",
    "\n",
    "CLOUDKARAFKA_TOPIC = 'yx03wajr-demo'\n",
    "CLOUDKARAFKA_BROKERS = 'dory-01.srvs.cloudkafka.com:9094, \\\n",
    "dory-02.srvs.cloudkafka.com:9094, \\\n",
    "dory-03.srvs.cloudkafka.com:9094'\n",
    "CLOUDKARAFKA_USERNAME = 'yx03wajr'\n",
    "CLOUDKARAFKA_PASSWORD = 'pHva0afDUXPya6JfKrbM1******'\n",
    "\n",
    "if __name__ == '__main__':\n",
    "    topic = CLOUDKARAFKA_TOPIC.split(\",\")[0]\n",
    "\n",
    "    # Consumer configuration\n",
    "    # See https://github.com/edenhill/librdkafka/blob/master/CONFIGURATION.md\n",
    "    conf = {\n",
    "      'bootstrap.servers': CLOUDKARAFKA_BROKERS,\n",
    "      'session.timeout.ms': 6000,\n",
    "      'default.topic.config': {'auto.offset.reset': 'smallest'},\n",
    "      'security.protocol': 'SASL_SSL',\n",
    "      'sasl.mechanisms': 'SCRAM-SHA-256',\n",
    "      'sasl.username': CLOUDKARAFKA_USERNAME,\n",
    "      'sasl.password': CLOUDKARAFKA_PASSWORD\n",
    "      }\n",
    "\n",
    "    p = Producer(**conf)\n",
    "\n",
    "    def delivery_callback(err, msg):\n",
    "        if err:\n",
    "            sys.stderr.write('%% Message failed delivery: %s\\n' % err)\n",
    "        else:\n",
    "            sys.stderr.write('%% Message delivered to %s [%d]\\n' %\n",
    "                             (msg.topic(), msg.partition()))\n",
    "\n",
    "    for line in sys.stdin:\n",
    "        try:\n",
    "            p.produce(topic, line.rstrip(), callback=delivery_callback)\n",
    "        except BufferError as e:\n",
    "            sys.stderr.write('%% Local producer queue is full (%d messages awaiting delivery): try again\\n' %\n",
    "                             len(p))\n",
    "        p.poll(0)\n",
    "\n",
    "    sys.stderr.write('%% Waiting for %d deliveries\\n' % len(p))\n",
    "    p.flush()"
   ]
  },
  {
   "cell_type": "code",
   "execution_count": null,
   "metadata": {
    "id": "tU7pY0SFNMF2"
   },
   "outputs": [
    {
     "name": "stdout",
     "output_type": "stream",
     "text": [
      "%4|1623432412.565|CONFWARN|rdkafka#producer-1| [thrd:app]: Configuration property session.timeout.ms is a consumer property and will be ignored by this producer instance\n",
      "%4|1623432412.565|CONFWARN|rdkafka#producer-1| [thrd:app]: Configuration property auto.offset.reset is a consumer property and will be ignored by this producer instance\n",
      "{'movieId': 3, 'title': 'Grumpier Old Men (1995)', 'genres': 'Comedy|Romance'}\n"
     ]
    }
   ],
   "source": [
    "!python producer.py"
   ]
  },
  {
   "cell_type": "markdown",
   "metadata": {
    "id": "H6scelNfLkw8"
   },
   "source": [
    "## Kafka Consumer and MongoDB\n",
    "> Listening from kafka topic in real-time and storing in mongodb"
   ]
  },
  {
   "cell_type": "code",
   "execution_count": null,
   "metadata": {
    "id": "eqHjK5UbBEqK"
   },
   "outputs": [],
   "source": [
    "!pip install confluent_kafka -q"
   ]
  },
  {
   "cell_type": "code",
   "execution_count": null,
   "metadata": {
    "id": "ppjOFhRnCTJu"
   },
   "outputs": [],
   "source": [
    "import json\n",
    "import sys\n",
    "import os\n",
    "import pandas as pd\n",
    "\n",
    "from confluent_kafka import Producer\n",
    "from confluent_kafka import Consumer, KafkaException, KafkaError"
   ]
  },
  {
   "cell_type": "markdown",
   "metadata": {
    "id": "9mHX3NBGLTMb"
   },
   "source": [
    "### Consumer Setup [notebook]"
   ]
  },
  {
   "cell_type": "code",
   "execution_count": null,
   "metadata": {
    "id": "RXBtNbCTJZb2"
   },
   "outputs": [],
   "source": [
    "CLOUDKARAFKA_TOPIC = 'yx03wajr-demo'\n",
    "CLOUDKARAFKA_BROKERS = 'dory-01.srvs.cloudkafka.com:9094, \\\n",
    "dory-02.srvs.cloudkafka.com:9094, \\\n",
    "dory-03.srvs.cloudkafka.com:9094'\n",
    "CLOUDKARAFKA_USERNAME = 'yx03wajr'\n",
    "CLOUDKARAFKA_PASSWORD = 'pHva0afDUXPya6JfKrbM1j549G*****'"
   ]
  },
  {
   "cell_type": "code",
   "execution_count": null,
   "metadata": {
    "id": "lAYgDcRZLf9f"
   },
   "outputs": [],
   "source": [
    "topics = CLOUDKARAFKA_TOPIC.split(\",\")\n",
    "\n",
    "# Consumer configuration\n",
    "conf = {\n",
    "    'bootstrap.servers': CLOUDKARAFKA_BROKERS,\n",
    "    'group.id': \"%s-consumer\" % CLOUDKARAFKA_USERNAME,\n",
    "    'session.timeout.ms': 6000,\n",
    "    'default.topic.config': {'auto.offset.reset': 'smallest'},\n",
    "    'security.protocol': 'SASL_SSL',\n",
    "    'sasl.mechanisms': 'SCRAM-SHA-256',\n",
    "    'sasl.username': CLOUDKARAFKA_USERNAME,\n",
    "    'sasl.password': CLOUDKARAFKA_PASSWORD\n",
    "}"
   ]
  },
  {
   "cell_type": "code",
   "execution_count": null,
   "metadata": {
    "id": "kQZv-OBALWR_"
   },
   "outputs": [],
   "source": [
    "c = Consumer(**conf)\n",
    "c.subscribe(topics)"
   ]
  },
  {
   "cell_type": "code",
   "execution_count": null,
   "metadata": {
    "id": "QLo8xNhFKYrf"
   },
   "outputs": [
    {
     "name": "stdout",
     "output_type": "stream",
     "text": [
      "1\n",
      "2\n",
      "3\n",
      "4\n",
      "5\n"
     ]
    },
    {
     "name": "stderr",
     "output_type": "stream",
     "text": [
      "% yx03wajr-demo [0] at offset 0 with key None:\n",
      "% yx03wajr-demo [0] at offset 1 with key None:\n",
      "% yx03wajr-demo [0] at offset 2 with key None:\n",
      "% yx03wajr-demo [0] at offset 3 with key None:\n",
      "% yx03wajr-demo [0] at offset 4 with key None:\n"
     ]
    },
    {
     "name": "stdout",
     "output_type": "stream",
     "text": [
      "b\"{'movieId': 2, 'title': 'Jumanji (1995)', 'genres': 'Adventure|Children|Fantasy'}\"\n",
      "6\n",
      "b\"{'movieId': 5, 'title': 'Father of the Bride Part II (1995)', 'genres': 'Comedy'}\"\n",
      "7\n",
      "b\"{'movieId': 3, 'title': 'Grumpier Old Men (1995)', 'genres': 'Comedy|Romance'}\"\n",
      "8\n",
      "b\"{'movieId': 4, 'title': 'Waiting to Exhale (1995)', 'genres': 'Comedy|Drama|Romance'}\"\n",
      "9\n",
      "b\"{'movieId': 5, 'title': 'Father of the Bride Part II (1995)', 'genres': 'Comedy'}\"\n",
      "10\n",
      "b\"{'movieId': 4, 'title': 'Waiting to Exhale (1995)', 'genres': 'Comedy|Drama|Romance'}\"\n"
     ]
    },
    {
     "name": "stderr",
     "output_type": "stream",
     "text": [
      "% yx03wajr-demo [1] at offset 0 with key None:\n"
     ]
    }
   ],
   "source": [
    "# while True:\n",
    "for i in range(10):\n",
    "  i+=1\n",
    "  print(i)\n",
    "  msg = c.poll(timeout=1.0)\n",
    "  if msg is None:\n",
    "      continue\n",
    "  if msg.error():\n",
    "      # Error or event\n",
    "      if msg.error().code() == KafkaError._PARTITION_EOF:\n",
    "          # End of partition event\n",
    "          sys.stderr.write('%% %s [%d] reached end at offset %d\\n' %\n",
    "                            (msg.topic(), msg.partition(), msg.offset()))\n",
    "      elif msg.error():\n",
    "          # Error\n",
    "          raise KafkaException(msg.error())\n",
    "  else:\n",
    "      # Proper message\n",
    "      sys.stderr.write('%% %s [%d] at offset %d with key %s:\\n' %\n",
    "                        (msg.topic(), msg.partition(), msg.offset(),\n",
    "                        str(msg.key())))\n",
    "      print(msg.value())\n",
    "\n",
    "c.close()"
   ]
  },
  {
   "cell_type": "markdown",
   "metadata": {
    "id": "DOslXBsRTGP_"
   },
   "source": [
    "### Consumer Setup [terminal]"
   ]
  },
  {
   "cell_type": "code",
   "execution_count": null,
   "metadata": {
    "id": "A7C7RJnOL6qK"
   },
   "outputs": [
    {
     "name": "stdout",
     "output_type": "stream",
     "text": [
      "Writing consumer.py\n"
     ]
    }
   ],
   "source": [
    "%%writefile consumer.py\n",
    "\n",
    "import sys\n",
    "import os\n",
    "\n",
    "from confluent_kafka import Consumer, KafkaException, KafkaError\n",
    "\n",
    "\n",
    "CLOUDKARAFKA_TOPIC = 'yx03wajr-demo'\n",
    "CLOUDKARAFKA_BROKERS = 'dory-01.srvs.cloudkafka.com:9094, \\\n",
    "dory-02.srvs.cloudkafka.com:9094, \\\n",
    "dory-03.srvs.cloudkafka.com:9094'\n",
    "CLOUDKARAFKA_USERNAME = 'yx03wajr'\n",
    "CLOUDKARAFKA_PASSWORD = 'pHva0afDUXPya6JfKrbM1j549G*****'\n",
    "\n",
    "if __name__ == '__main__':\n",
    "    topics = CLOUDKARAFKA_TOPIC.split(\",\")\n",
    "\n",
    "    # Consumer configuration\n",
    "    # See https://github.com/edenhill/librdkafka/blob/master/CONFIGURATION.md\n",
    "    conf = {\n",
    "        'bootstrap.servers': CLOUDKARAFKA_BROKERS,\n",
    "        'group.id': \"%s-consumer\" % CLOUDKARAFKA_USERNAME,\n",
    "        'session.timeout.ms': 6000,\n",
    "        'default.topic.config': {'auto.offset.reset': 'smallest'},\n",
    "        'security.protocol': 'SASL_SSL',\n",
    "        'sasl.mechanisms': 'SCRAM-SHA-256',\n",
    "        'sasl.username': CLOUDKARAFKA_USERNAME,\n",
    "        'sasl.password': CLOUDKARAFKA_PASSWORD\n",
    "    }\n",
    "\n",
    "    c = Consumer(**conf)\n",
    "    c.subscribe(topics)\n",
    "    try:\n",
    "        while True:\n",
    "            msg = c.poll(timeout=1.0)\n",
    "            if msg is None:\n",
    "                continue\n",
    "            if msg.error():\n",
    "                # Error or event\n",
    "                if msg.error().code() == KafkaError._PARTITION_EOF:\n",
    "                    # End of partition event\n",
    "                    sys.stderr.write('%% %s [%d] reached end at offset %d\\n' %\n",
    "                                     (msg.topic(), msg.partition(), msg.offset()))\n",
    "                elif msg.error():\n",
    "                    # Error\n",
    "                    raise KafkaException(msg.error())\n",
    "            else:\n",
    "                # Proper message\n",
    "                sys.stderr.write('%% %s [%d] at offset %d with key %s:\\n' %\n",
    "                                 (msg.topic(), msg.partition(), msg.offset(),\n",
    "                                  str(msg.key())))\n",
    "                print(msg.value())\n",
    "\n",
    "    except KeyboardInterrupt:\n",
    "        sys.stderr.write('%% Aborted by user\\n')\n",
    "\n",
    "    # Close down consumer to commit final offsets.\n",
    "    c.close()"
   ]
  },
  {
   "cell_type": "code",
   "execution_count": null,
   "metadata": {
    "id": "kdTMz6JyTQyy"
   },
   "outputs": [
    {
     "name": "stdout",
     "output_type": "stream",
     "text": [
      "% 2nizjcn5-movielens [1] at offset 4 with key None:\n",
      "b'Transporter | click'\n",
      "%% Aborted by user\n"
     ]
    }
   ],
   "source": [
    "!python consumer.py"
   ]
  },
  {
   "cell_type": "markdown",
   "metadata": {
    "id": "E9fHshxUdrS2"
   },
   "source": [
    "### MongoDB Setup"
   ]
  },
  {
   "cell_type": "code",
   "execution_count": null,
   "metadata": {
    "id": "abIKLu67dq65"
   },
   "outputs": [],
   "source": [
    "!pip uninstall pymongo\n",
    "!pip install pymongo[srv]"
   ]
  },
  {
   "cell_type": "code",
   "execution_count": null,
   "metadata": {
    "id": "K2TRWDWs5IVt"
   },
   "outputs": [],
   "source": [
    "MONGODB_USER = 'kafka-demo'\n",
    "MONGODB_PASSWORD = '<your-pass>'\n",
    "MONGODB_CLUSTER = 'cluster0.ca4wh.mongodb.net'\n",
    "MONGODB_DATABASE = 'movielens'"
   ]
  },
  {
   "cell_type": "code",
   "execution_count": null,
   "metadata": {
    "id": "fpSqox-OX54F"
   },
   "outputs": [],
   "source": [
    "import pymongo\n",
    "import urllib \n",
    "\n",
    "mongo_uri = f\"mongodb+srv://{MONGODB_USER}:{MONGODB_PASSWORD}@{MONGODB_CLUSTER}/{MONGODB_DATABASE}?retryWrites=true&w=majority\"\n",
    "client = pymongo.MongoClient(mongo_uri)"
   ]
  },
  {
   "cell_type": "code",
   "execution_count": null,
   "metadata": {
    "id": "F-pbkwAukbVx"
   },
   "outputs": [
    {
     "data": {
      "text/plain": [
       "['movies']"
      ]
     },
     "execution_count": 31,
     "metadata": {
      "tags": []
     },
     "output_type": "execute_result"
    }
   ],
   "source": [
    "mydb = client[\"movielens\"]\n",
    "mydb.list_collection_names()"
   ]
  },
  {
   "cell_type": "code",
   "execution_count": null,
   "metadata": {
    "id": "FUlch4VvmQFf"
   },
   "outputs": [
    {
     "data": {
      "text/plain": [
       "['movielens', 'admin', 'local']"
      ]
     },
     "execution_count": 30,
     "metadata": {
      "tags": []
     },
     "output_type": "execute_result"
    }
   ],
   "source": [
    "client.list_database_names()"
   ]
  },
  {
   "cell_type": "code",
   "execution_count": null,
   "metadata": {
    "id": "iNsVjxr8mXXX"
   },
   "outputs": [],
   "source": [
    "movies = mydb.movies"
   ]
  },
  {
   "cell_type": "code",
   "execution_count": null,
   "metadata": {
    "id": "JIzwhu6qmhb8"
   },
   "outputs": [
    {
     "data": {
      "text/plain": [
       "<pymongo.results.InsertOneResult at 0x7f6cf017b820>"
      ]
     },
     "execution_count": 33,
     "metadata": {
      "tags": []
     },
     "output_type": "execute_result"
    }
   ],
   "source": [
    "result = movies.insert_one({'movieId': 3, 'title': 'Grumpier Old Men (1995)', 'genres': 'Comedy|Romance'})\n",
    "result"
   ]
  },
  {
   "cell_type": "code",
   "execution_count": null,
   "metadata": {
    "id": "h2VDDAqNhZvF"
   },
   "outputs": [
    {
     "name": "stdout",
     "output_type": "stream",
     "text": [
      "One movie: 60c39abe413cf49529925bf4\n"
     ]
    }
   ],
   "source": [
    "print(f\"One movie: {result.inserted_id}\")"
   ]
  },
  {
   "cell_type": "code",
   "execution_count": null,
   "metadata": {
    "id": "bFLfB7CGvXFR"
   },
   "outputs": [
    {
     "name": "stdout",
     "output_type": "stream",
     "text": [
      "60c39ac1413cf49529925bf5\n"
     ]
    }
   ],
   "source": [
    "# single-line command to insert record\n",
    "print(client.movielens.movies.insert_one({'movieId':5, 'title':'Bride', 'genres':'Comedy'}).inserted_id)"
   ]
  },
  {
   "cell_type": "code",
   "execution_count": null,
   "metadata": {
    "id": "r2sOG1h_hZqr"
   },
   "outputs": [
    {
     "name": "stdout",
     "output_type": "stream",
     "text": [
      "Multiple movies: [ObjectId('60c39ac3413cf49529925bf6'), ObjectId('60c39ac3413cf49529925bf7')]\n"
     ]
    }
   ],
   "source": [
    "movie2 = {'movieId': 2, 'title': 'Jumanji (1995)', 'genres': 'Adventure|Children|Fantasy'}\n",
    "movie3 = {'movieId': 3, 'title': 'Grumpier Old Men (1995)', 'genres': 'Comedy|Romance'}\n",
    "\n",
    "new_result = movies.insert_many([movie2, movie3])\n",
    "print(f\"Multiple movies: {new_result.inserted_ids}\")"
   ]
  },
  {
   "cell_type": "code",
   "execution_count": null,
   "metadata": {
    "id": "Ud9mkOYqnTcC"
   },
   "outputs": [
    {
     "name": "stdout",
     "output_type": "stream",
     "text": [
      "{'_id': ObjectId('60c39abe413cf49529925bf4'),\n",
      " 'genres': 'Comedy|Romance',\n",
      " 'movieId': 3,\n",
      " 'title': 'Grumpier Old Men (1995)'}\n",
      "{'_id': ObjectId('60c39ac1413cf49529925bf5'),\n",
      " 'genres': 'Comedy',\n",
      " 'movieId': 5,\n",
      " 'title': 'Bride'}\n",
      "{'_id': ObjectId('60c39ac3413cf49529925bf6'),\n",
      " 'genres': 'Adventure|Children|Fantasy',\n",
      " 'movieId': 2,\n",
      " 'title': 'Jumanji (1995)'}\n",
      "{'_id': ObjectId('60c39ac3413cf49529925bf7'),\n",
      " 'genres': 'Comedy|Romance',\n",
      " 'movieId': 3,\n",
      " 'title': 'Grumpier Old Men (1995)'}\n"
     ]
    }
   ],
   "source": [
    "import pprint\n",
    "\n",
    "for doc in movies.find():\n",
    "  pprint.pprint(doc)"
   ]
  },
  {
   "cell_type": "code",
   "execution_count": null,
   "metadata": {
    "id": "6o5C_7kxnbGW"
   },
   "outputs": [
    {
     "name": "stdout",
     "output_type": "stream",
     "text": [
      "Overwriting consumer.py\n"
     ]
    }
   ],
   "source": [
    "%%writefile consumer.py\n",
    "\n",
    "import sys\n",
    "import os\n",
    "\n",
    "from confluent_kafka import Consumer, KafkaException, KafkaError\n",
    "import pymongo\n",
    "\n",
    "CLOUDKARAFKA_TOPIC = 'yx03wajr-demo'\n",
    "CLOUDKARAFKA_BROKERS = 'dory-01.srvs.cloudkafka.com:9094, \\\n",
    "dory-02.srvs.cloudkafka.com:9094, \\\n",
    "dory-03.srvs.cloudkafka.com:9094'\n",
    "CLOUDKARAFKA_USERNAME = 'yx03wajr'\n",
    "CLOUDKARAFKA_PASSWORD = 'pHva0afDUXPya6JfKrbM1j549G*****'\n",
    "\n",
    "MONGODB_USER = 'kafka-demo'\n",
    "MONGODB_PASSWORD = '<your-pass>'\n",
    "MONGODB_CLUSTER = 'cluster0.ca4wh.mongodb.net'\n",
    "MONGODB_DATABASE = 'movielens'\n",
    "\n",
    "mongo_uri = f\"mongodb+srv://{MONGODB_USER}:{MONGODB_PASSWORD}@{MONGODB_CLUSTER}/{MONGODB_DATABASE}?retryWrites=true&w=majority\"\n",
    "client = pymongo.MongoClient(mongo_uri)\n",
    "mydb = client[MONGODB_DATABASE]\n",
    "movies = mydb.movies\n",
    "\n",
    "if __name__ == '__main__':\n",
    "    topics = CLOUDKARAFKA_TOPIC.split(\",\")\n",
    "\n",
    "    # Consumer configuration\n",
    "    # See https://github.com/edenhill/librdkafka/blob/master/CONFIGURATION.md\n",
    "    conf = {\n",
    "        'bootstrap.servers': CLOUDKARAFKA_BROKERS,\n",
    "        'group.id': \"%s-consumer\" % CLOUDKARAFKA_USERNAME,\n",
    "        'session.timeout.ms': 6000,\n",
    "        'default.topic.config': {'auto.offset.reset': 'smallest'},\n",
    "        'security.protocol': 'SASL_SSL',\n",
    "        'sasl.mechanisms': 'SCRAM-SHA-256',\n",
    "        'sasl.username': CLOUDKARAFKA_USERNAME,\n",
    "        'sasl.password': CLOUDKARAFKA_PASSWORD\n",
    "    }\n",
    "\n",
    "    c = Consumer(**conf)\n",
    "    c.subscribe(topics)\n",
    "    try:\n",
    "        while True:\n",
    "            msg = c.poll(timeout=1.0)\n",
    "            if msg is None:\n",
    "                continue\n",
    "            if msg.error():\n",
    "                # Error or event\n",
    "                if msg.error().code() == KafkaError._PARTITION_EOF:\n",
    "                    # End of partition event\n",
    "                    sys.stderr.write('%% %s [%d] reached end at offset %d\\n' %\n",
    "                                     (msg.topic(), msg.partition(), msg.offset()))\n",
    "                elif msg.error():\n",
    "                    # Error\n",
    "                    raise KafkaException(msg.error())\n",
    "            else:\n",
    "                # Proper message\n",
    "                sys.stderr.write('%% %s [%d] at offset %d with key %s:\\n' %\n",
    "                                 (msg.topic(), msg.partition(), msg.offset(),\n",
    "                                  str(msg.key())))\n",
    "                print(msg.value())\n",
    "                try:\n",
    "                  movies.insert_one(eval(msg.value().decode('utf-8')))\n",
    "                except:\n",
    "                  movies.insert_one({\"err_flag\":True, \"msg\":str(msg.value())})\n",
    "\n",
    "    except KeyboardInterrupt:\n",
    "        sys.stderr.write('%% Aborted by user\\n')\n",
    "\n",
    "    # Close down consumer to commit final offsets.\n",
    "    c.close()"
   ]
  },
  {
   "cell_type": "code",
   "execution_count": null,
   "metadata": {
    "id": "FMAspFyRoVKq"
   },
   "outputs": [
    {
     "name": "stdout",
     "output_type": "stream",
     "text": [
      "% yx03wajr-demo [2] at offset 4 with key None:\n",
      "b\"{'movieId': 3, 'title': 'Grumpier Old Men (1995)', 'genres': 'Comedy|Romance'}\"\n"
     ]
    }
   ],
   "source": [
    "!python consumer.py"
   ]
  },
  {
   "cell_type": "markdown",
   "metadata": {
    "id": "jX4a2Mj0LNef"
   },
   "source": [
    "## MongoDB Listener\n",
    "> Listening mongoDB data events in real-time."
   ]
  },
  {
   "cell_type": "code",
   "execution_count": null,
   "metadata": {
    "id": "fIk1Q3gTuAlw"
   },
   "outputs": [],
   "source": [
    "!pip uninstall pymongo\n",
    "!pip install pymongo[srv]"
   ]
  },
  {
   "cell_type": "code",
   "execution_count": null,
   "metadata": {
    "id": "PEMdGJpYuEd4"
   },
   "outputs": [],
   "source": [
    "import os\n",
    "import pymongo\n",
    "from bson.json_util import dumps\n",
    "\n",
    "MONGODB_USER = 'kafka-demo'\n",
    "MONGODB_PASSWORD = '<your-pass>'\n",
    "MONGODB_CLUSTER = 'cluster0.ca4wh.mongodb.net'\n",
    "MONGODB_DATABASE = 'movielens'\n",
    "\n",
    "mongo_uri = f\"mongodb+srv://{MONGODB_USER}:{MONGODB_PASSWORD}@{MONGODB_CLUSTER}/{MONGODB_DATABASE}?retryWrites=true&w=majority\"\n",
    "client = pymongo.MongoClient(mongo_uri)"
   ]
  },
  {
   "cell_type": "code",
   "execution_count": null,
   "metadata": {
    "id": "3qT-btVF3Q-F"
   },
   "outputs": [],
   "source": [
    "import pandas as pd\n",
    "movies = pd.DataFrame(columns=['_id','movieId','title','genres'])"
   ]
  },
  {
   "cell_type": "code",
   "execution_count": null,
   "metadata": {
    "id": "qCvUib_euNGA"
   },
   "outputs": [
    {
     "data": {
      "text/html": [
       "<div>\n",
       "<style scoped>\n",
       "    .dataframe tbody tr th:only-of-type {\n",
       "        vertical-align: middle;\n",
       "    }\n",
       "\n",
       "    .dataframe tbody tr th {\n",
       "        vertical-align: top;\n",
       "    }\n",
       "\n",
       "    .dataframe thead th {\n",
       "        text-align: right;\n",
       "    }\n",
       "</style>\n",
       "<table border=\"1\" class=\"dataframe\">\n",
       "  <thead>\n",
       "    <tr style=\"text-align: right;\">\n",
       "      <th></th>\n",
       "      <th>_id</th>\n",
       "      <th>movieId</th>\n",
       "      <th>title</th>\n",
       "      <th>genres</th>\n",
       "    </tr>\n",
       "  </thead>\n",
       "  <tbody>\n",
       "    <tr>\n",
       "      <th>0</th>\n",
       "      <td>60c39d0078640c489089261e</td>\n",
       "      <td>3</td>\n",
       "      <td>Grumpier Old Men (1995)</td>\n",
       "      <td>Comedy|Romance</td>\n",
       "    </tr>\n",
       "  </tbody>\n",
       "</table>\n",
       "</div>"
      ],
      "text/plain": [
       "                        _id movieId                    title          genres\n",
       "0  60c39d0078640c489089261e       3  Grumpier Old Men (1995)  Comedy|Romance"
      ]
     },
     "metadata": {
      "tags": []
     },
     "output_type": "display_data"
    }
   ],
   "source": [
    "change_stream = client.movielens.movies.watch()\n",
    "for change in change_stream:\n",
    "  _temp = change['fullDocument']\n",
    "  movies = movies.append(pd.DataFrame(_temp, columns=_temp.keys(), index=[0]), ignore_index=True)\n",
    "  display(movies)"
   ]
  }
 ],
 "metadata": {
  "colab": {
   "collapsed_sections": [],
   "name": "T023535_Kafka_MongoDB_Real_time_Streaming.ipynb",
   "toc_visible": true
  },
  "kernelspec": {
   "display_name": "Python 3",
   "name": "python3"
  }
 },
 "nbformat": 4,
 "nbformat_minor": 0
}