{
 "cells": [
  {
   "cell_type": "markdown",
   "metadata": {
    "id": "cNfAFrCcPjbS"
   },
   "source": [
    "# Large-scale Document Retrieval with ElasticSearch\n",
    "> A tutorial to understand the process of retrieving documents/items using elastic search and vector indexing methods."
   ]
  },
  {
   "cell_type": "markdown",
   "metadata": {
    "id": "yy3ey7nmL2Pk"
   },
   "source": [
    "## Retrieval Flow Overview\n",
    "\n",
    "<img src='https://www.notion.so/image/https%3A%2F%2Fs3-us-west-2.amazonaws.com%2Fsecure.notion-static.com%2F7b4bf01f-9987-432f-8ebe-1f37b25677b7%2FUntitled.png?table=block&id=61534db0-2258-419d-8bf8-2eb8b7147d8a&spaceId=63b72b1f-0e90-4ab8-a6df-a060a6545a56&width=2000&userId=21ec183f-f0be-4b6b-9b3e-6f0d4e5c5469&cache=v2'>"
   ]
  },
  {
   "cell_type": "markdown",
   "metadata": {
    "id": "AEzsSJLpa6xQ"
   },
   "source": [
    "<img src='https://www.notion.so/image/https%3A%2F%2Fs3-us-west-2.amazonaws.com%2Fsecure.notion-static.com%2Faa63e727-1671-4762-8a14-5de31ff58de6%2FUntitled.png?table=block&id=535f4857-68f0-4f3e-95e6-1336395e770d&spaceId=63b72b1f-0e90-4ab8-a6df-a060a6545a56&width=2000&userId=21ec183f-f0be-4b6b-9b3e-6f0d4e5c5469&cache=v2'>"
   ]
  },
  {
   "cell_type": "markdown",
   "metadata": {
    "id": "Mz_q-We5Ms_c"
   },
   "source": [
    "## Part 1 - Setting up Elasticsearch\n",
    "- Download the elasticsearch archive (linux), setup a local server\n",
    "- Create a client connection to the local elasticsearch instance"
   ]
  },
  {
   "cell_type": "code",
   "execution_count": null,
   "metadata": {
    "id": "Hq97N16ZN-qh"
   },
   "outputs": [
    {
     "name": "stdout",
     "output_type": "stream",
     "text": [
      "{\n",
      "  \"name\" : \"50176241ce38\",\n",
      "  \"cluster_name\" : \"elasticsearch\",\n",
      "  \"cluster_uuid\" : \"WQS1QVG8RX6FQ65LS6MyrA\",\n",
      "  \"version\" : {\n",
      "    \"number\" : \"7.11.1\",\n",
      "    \"build_flavor\" : \"default\",\n",
      "    \"build_type\" : \"tar\",\n",
      "    \"build_hash\" : \"ff17057114c2199c9c1bbecc727003a907c0db7a\",\n",
      "    \"build_date\" : \"2021-02-15T13:44:09.394032Z\",\n",
      "    \"build_snapshot\" : false,\n",
      "    \"lucene_version\" : \"8.7.0\",\n",
      "    \"minimum_wire_compatibility_version\" : \"6.8.0\",\n",
      "    \"minimum_index_compatibility_version\" : \"6.0.0-beta1\"\n",
      "  },\n",
      "  \"tagline\" : \"You Know, for Search\"\n",
      "}\n"
     ]
    }
   ],
   "source": [
    "# download the latest elasticsearch version\n",
    "!wget https://artifacts.elastic.co/downloads/elasticsearch/elasticsearch-7.11.1-linux-x86_64.tar.gz\n",
    "!tar -xzvf elasticsearch-7.11.1-linux-x86_64.tar.gz\n",
    "!chown -R daemon:daemon elasticsearch-7.11.1\n",
    "\n",
    "# prep the elasticsearch server\n",
    "import os\n",
    "from subprocess import Popen, PIPE, STDOUT\n",
    "es_subprocess = Popen(['elasticsearch-7.11.1/bin/elasticsearch'], stdout=PIPE, stderr=STDOUT, preexec_fn=lambda : os.setuid(1))\n",
    "\n",
    "# wait for a few minutes for the local host to start\n",
    "!curl -X GET \"localhost:9200/\"\n",
    "\n",
    "# install elasticsearch python api\n",
    "!pip install -q elasticsearch"
   ]
  },
  {
   "cell_type": "code",
   "execution_count": null,
   "metadata": {
    "id": "fbiXCkTKPAuL"
   },
   "outputs": [
    {
     "data": {
      "text/plain": [
       "{'cluster_name': 'elasticsearch',\n",
       " 'cluster_uuid': 'WQS1QVG8RX6FQ65LS6MyrA',\n",
       " 'name': '50176241ce38',\n",
       " 'tagline': 'You Know, for Search',\n",
       " 'version': {'build_date': '2021-02-15T13:44:09.394032Z',\n",
       "  'build_flavor': 'default',\n",
       "  'build_hash': 'ff17057114c2199c9c1bbecc727003a907c0db7a',\n",
       "  'build_snapshot': False,\n",
       "  'build_type': 'tar',\n",
       "  'lucene_version': '8.7.0',\n",
       "  'minimum_index_compatibility_version': '6.0.0-beta1',\n",
       "  'minimum_wire_compatibility_version': '6.8.0',\n",
       "  'number': '7.11.1'}}"
      ]
     },
     "execution_count": 6,
     "metadata": {
      "tags": []
     },
     "output_type": "execute_result"
    }
   ],
   "source": [
    "# check if elasticsearch server is properly running in the background\n",
    "from elasticsearch import Elasticsearch, helpers\n",
    "es_client = Elasticsearch(['localhost'])\n",
    "es_client.info()"
   ]
  },
  {
   "cell_type": "markdown",
   "metadata": {
    "id": "bYunh06DPbGC"
   },
   "source": [
    "## Part 2 - Walking through an embedding-based retrieval system\n"
   ]
  },
  {
   "cell_type": "markdown",
   "metadata": {
    "id": "Gn9I5VRcQGpF"
   },
   "source": [
    "### Download MovieLens dataset"
   ]
  },
  {
   "cell_type": "code",
   "execution_count": null,
   "metadata": {
    "id": "lxKakOKSPLZa"
   },
   "outputs": [
    {
     "name": "stdout",
     "output_type": "stream",
     "text": [
      "Archive:  ml-25m.zip\n",
      "   creating: ml-25m/\n",
      "  inflating: ml-25m/tags.csv         \n",
      "  inflating: ml-25m/links.csv        \n",
      "  inflating: ml-25m/README.txt       \n",
      "  inflating: ml-25m/ratings.csv      \n",
      "  inflating: ml-25m/genome-tags.csv  \n",
      "  inflating: ml-25m/genome-scores.csv  \n",
      "  inflating: ml-25m/movies.csv       \n"
     ]
    }
   ],
   "source": [
    "!wget https://files.grouplens.org/datasets/movielens/ml-25m.zip --no-check-certificate\n",
    "!unzip ml-25m.zip"
   ]
  },
  {
   "cell_type": "code",
   "execution_count": null,
   "metadata": {
    "id": "Q9_kY-H3QohB"
   },
   "outputs": [
    {
     "data": {
      "text/html": [
       "<div>\n",
       "<style scoped>\n",
       "    .dataframe tbody tr th:only-of-type {\n",
       "        vertical-align: middle;\n",
       "    }\n",
       "\n",
       "    .dataframe tbody tr th {\n",
       "        vertical-align: top;\n",
       "    }\n",
       "\n",
       "    .dataframe thead th {\n",
       "        text-align: right;\n",
       "    }\n",
       "</style>\n",
       "<table border=\"1\" class=\"dataframe\">\n",
       "  <thead>\n",
       "    <tr style=\"text-align: right;\">\n",
       "      <th></th>\n",
       "      <th>movieId</th>\n",
       "      <th>title</th>\n",
       "      <th>genres</th>\n",
       "    </tr>\n",
       "  </thead>\n",
       "  <tbody>\n",
       "    <tr>\n",
       "      <th>0</th>\n",
       "      <td>1</td>\n",
       "      <td>Toy Story (1995)</td>\n",
       "      <td>Adventure|Animation|Children|Comedy|Fantasy</td>\n",
       "    </tr>\n",
       "    <tr>\n",
       "      <th>1</th>\n",
       "      <td>2</td>\n",
       "      <td>Jumanji (1995)</td>\n",
       "      <td>Adventure|Children|Fantasy</td>\n",
       "    </tr>\n",
       "    <tr>\n",
       "      <th>2</th>\n",
       "      <td>3</td>\n",
       "      <td>Grumpier Old Men (1995)</td>\n",
       "      <td>Comedy|Romance</td>\n",
       "    </tr>\n",
       "    <tr>\n",
       "      <th>3</th>\n",
       "      <td>4</td>\n",
       "      <td>Waiting to Exhale (1995)</td>\n",
       "      <td>Comedy|Drama|Romance</td>\n",
       "    </tr>\n",
       "    <tr>\n",
       "      <th>4</th>\n",
       "      <td>5</td>\n",
       "      <td>Father of the Bride Part II (1995)</td>\n",
       "      <td>Comedy</td>\n",
       "    </tr>\n",
       "  </tbody>\n",
       "</table>\n",
       "</div>"
      ],
      "text/plain": [
       "   movieId  ...                                       genres\n",
       "0        1  ...  Adventure|Animation|Children|Comedy|Fantasy\n",
       "1        2  ...                   Adventure|Children|Fantasy\n",
       "2        3  ...                               Comedy|Romance\n",
       "3        4  ...                         Comedy|Drama|Romance\n",
       "4        5  ...                                       Comedy\n",
       "\n",
       "[5 rows x 3 columns]"
      ]
     },
     "execution_count": 14,
     "metadata": {
      "tags": []
     },
     "output_type": "execute_result"
    }
   ],
   "source": [
    "import pandas as pd\n",
    "data = pd.read_csv('ml-25m/movies.csv').drop_duplicates()\n",
    "data.head()"
   ]
  },
  {
   "cell_type": "markdown",
   "metadata": {
    "id": "3UluFk94RVvq"
   },
   "source": [
    "### Build index with document vectors"
   ]
  },
  {
   "cell_type": "code",
   "execution_count": null,
   "metadata": {
    "id": "ir84MOryRUVs"
   },
   "outputs": [],
   "source": [
    "import tensorflow_hub as hub\n",
    "from timeit import default_timer as timer\n",
    "import json"
   ]
  },
  {
   "cell_type": "code",
   "execution_count": null,
   "metadata": {
    "id": "NBct0WgySCNC"
   },
   "outputs": [],
   "source": [
    "embed = hub.load(\"https://tfhub.dev/google/universal-sentence-encoder-large/5\")"
   ]
  },
  {
   "cell_type": "code",
   "execution_count": null,
   "metadata": {
    "id": "Po31_fncSbo0"
   },
   "outputs": [],
   "source": [
    "# constants\n",
    "INDEX_NAME = \"movie_title\"\n",
    "BATCH_SIZE = 200\n",
    "SEARCH_SIZE = 10\n",
    "MAPPINGS = {\n",
    "    'mappings': {'_source': {'enabled': 'true'},\n",
    "                 'dynamic': 'true',\n",
    "                 'properties': {'title_vector':\n",
    "                                {'dims': 512, 'type': 'dense_vector'},\n",
    "                                'movie_id': {'type': 'keyword'},\n",
    "                                'genres': {'type': 'keyword'}\n",
    "                                }\n",
    "                 },\n",
    "            'settings': {'number_of_replicas': 1, 'number_of_shards':2}\n",
    "}"
   ]
  },
  {
   "cell_type": "code",
   "execution_count": null,
   "metadata": {
    "id": "x-aKQfPwT1o9"
   },
   "outputs": [],
   "source": [
    "def index_movie_lens(df, num_doc=500):\n",
    "  print('creating the {} index.'.format(INDEX_NAME))\n",
    "  es_client.indices.delete(index=INDEX_NAME, ignore=[404])\n",
    "  es_client.indices.create(index=INDEX_NAME, body=json.dumps(MAPPINGS))\n",
    "\n",
    "  requests = []\n",
    "  count = 0\n",
    "  start = timer()\n",
    "\n",
    "  for row_index, doc in df.iterrows():\n",
    "\n",
    "    # specify the index size to avoid long waiting time\n",
    "    if count >= num_doc:\n",
    "      break\n",
    "    \n",
    "    # construct requests\n",
    "    if len(requests) < BATCH_SIZE:\n",
    "\n",
    "      title_text = doc.title\n",
    "      genres_text = doc.genres\n",
    "      title_vector = embed([title_text]).numpy().tolist()[0]\n",
    "\n",
    "      request = {\n",
    "          \"op_type\": \"index\",\n",
    "          \"_index\": INDEX_NAME,\n",
    "          \"_id\": row_index,\n",
    "          \"title\": title_text,\n",
    "          \"genres\": genres_text,\n",
    "          \"title_vector\": title_vector,\n",
    "          \"movie_id\": doc.movieId\n",
    "      }\n",
    "\n",
    "      requests.append(request)\n",
    "    \n",
    "    else:\n",
    "      helpers.bulk(es_client, requests)\n",
    "      count += len(requests)\n",
    "      requests.clear()\n",
    "      if count % (BATCH_SIZE * 2) == 0:\n",
    "        print(\"Indexed {} documents in {:.2f} seconds.\".format(count, timer()-start))\n",
    "    \n",
    "  # Index the remaining\n",
    "  helpers.bulk(es_client, requests)\n",
    "  end = timer()\n",
    "\n",
    "  print(\"Done indexing {} documents in {:.2f} seconds\".format(count, end-start))"
   ]
  },
  {
   "cell_type": "markdown",
   "metadata": {
    "id": "y4cN-nnnWmIe"
   },
   "source": [
    "Ref - https://youtu.be/F4D08uU3mPA"
   ]
  },
  {
   "cell_type": "code",
   "execution_count": null,
   "metadata": {
    "id": "hQgtzMszWnsN"
   },
   "outputs": [
    {
     "name": "stdout",
     "output_type": "stream",
     "text": [
      "creating the movie_title index.\n",
      "Indexed 400 documents in 27.59 seconds.\n",
      "Indexed 800 documents in 48.96 seconds.\n",
      "Indexed 1200 documents in 70.18 seconds.\n",
      "Indexed 1600 documents in 90.92 seconds.\n",
      "Indexed 2000 documents in 111.85 seconds.\n",
      "Done indexing 2000 documents in 111.85 seconds\n"
     ]
    }
   ],
   "source": [
    "index_movie_lens(data, num_doc=2000)"
   ]
  },
  {
   "cell_type": "markdown",
   "metadata": {
    "id": "nG4Yhjk7YB1X"
   },
   "source": [
    "### Search with query vector"
   ]
  },
  {
   "cell_type": "code",
   "execution_count": null,
   "metadata": {
    "id": "rqo27lJmW8ML"
   },
   "outputs": [],
   "source": [
    "def return_top_movies(query):\n",
    "\n",
    "  embedding_start = timer()\n",
    "  query_vector = embed([query]).numpy().tolist()[0]\n",
    "  embedding_time = timer() - embedding_start\n",
    "  formula = \"cosineSimilarity(params.query_vector, 'title_vector') + 1.0\"\n",
    "\n",
    "  script_query = {\n",
    "      \"script_score\": {\n",
    "          \"query\": {\"match_all\": {}},\n",
    "          \"script\": {\n",
    "              \"source\": formula,\n",
    "              \"params\": {\"query_vector\": query_vector}\n",
    "          }\n",
    "      }\n",
    "  }\n",
    "\n",
    "  search_start = timer()\n",
    "  response = es_client.search(\n",
    "      index=INDEX_NAME,\n",
    "      body={\n",
    "          \"size\":SEARCH_SIZE,\n",
    "          \"query\": script_query,\n",
    "          \"_source\": {\"includes\": [\"title\", \"genres\"]}\n",
    "      }\n",
    "  )\n",
    "  search_time = timer() - search_start\n",
    "\n",
    "  print()\n",
    "  print(\"{} total hits.\".format(response[\"hits\"][\"total\"][\"value\"]))\n",
    "  \n",
    "  for hit in response[\"hits\"][\"hits\"]:\n",
    "\n",
    "    print(\"id: {}, score: {}\".format(hit[\"_id\"], hit[\"_score\"] - 1))\n",
    "    print(hit[\"_source\"])\n",
    "    print()"
   ]
  },
  {
   "cell_type": "code",
   "execution_count": null,
   "metadata": {
    "id": "PlUfXg8ZagyB"
   },
   "outputs": [
    {
     "name": "stdout",
     "output_type": "stream",
     "text": [
      "\n",
      "2000 total hits.\n",
      "id: 335, score: 0.5282537\n",
      "{'genres': 'Adventure|Drama|War', 'title': 'War, The (1994)'}\n",
      "\n",
      "id: 712, score: 0.43743240000000005\n",
      "{'genres': 'Documentary', 'title': 'War Stories (1995)'}\n",
      "\n",
      "id: 1493, score: 0.3954858000000001\n",
      "{'genres': 'Drama', 'title': 'War at Home, The (1996)'}\n",
      "\n",
      "id: 1362, score: 0.32700850000000004\n",
      "{'genres': 'Romance|War', 'title': 'In Love and War (1996)'}\n",
      "\n",
      "id: 550, score: 0.3104720000000001\n",
      "{'genres': 'Documentary', 'title': 'War Room, The (1993)'}\n",
      "\n",
      "id: 1828, score: 0.30568780000000007\n",
      "{'genres': 'Action|Romance|Sci-Fi|Thriller', 'title': 'Armageddon (1998)'}\n",
      "\n",
      "id: 1932, score: 0.3055576\n",
      "{'genres': 'Adventure|Sci-Fi', 'title': 'Dune (1984)'}\n",
      "\n",
      "id: 1265, score: 0.2961224\n",
      "{'genres': 'Drama|War', 'title': 'Killing Fields, The (1984)'}\n",
      "\n",
      "id: 1063, score: 0.2951368999999999\n",
      "{'genres': 'Drama|War', 'title': 'Platoon (1986)'}\n",
      "\n",
      "id: 1676, score: 0.2776048\n",
      "{'genres': 'Comedy', 'title': 'Senseless (1998)'}\n",
      "\n"
     ]
    }
   ],
   "source": [
    "return_top_movies(\"war\")"
   ]
  },
  {
   "cell_type": "markdown",
   "metadata": {
    "id": "VT0xw-Ykbh6d"
   },
   "source": [
    "## Part 3 - Approximate Nearest Neighbor (ANN) Algorithms"
   ]
  },
  {
   "cell_type": "markdown",
   "metadata": {
    "id": "TKXZbKN1bEXl"
   },
   "source": [
    "<img src='https://www.notion.so/image/https%3A%2F%2Fs3-us-west-2.amazonaws.com%2Fsecure.notion-static.com%2F46e6ee37-c37c-4d71-b3ee-bd8a3d31f19c%2FUntitled.png?table=block&id=90318bad-2d58-47e2-b82f-16d1d30c1d85&spaceId=63b72b1f-0e90-4ab8-a6df-a060a6545a56&width=2000&userId=21ec183f-f0be-4b6b-9b3e-6f0d4e5c5469&cache=v2'>"
   ]
  },
  {
   "cell_type": "code",
   "execution_count": null,
   "metadata": {
    "id": "G4PKIA4majzy"
   },
   "outputs": [],
   "source": [
    "#hide_output\n",
    "!pip install faiss\n",
    "!pip install nmslib\n",
    "!apt-get install libomp-dev\n",
    "\n",
    "import faiss\n",
    "import nmslib"
   ]
  },
  {
   "cell_type": "code",
   "execution_count": null,
   "metadata": {
    "id": "29Ui3p1Qdg7U"
   },
   "outputs": [
    {
     "data": {
      "text/plain": [
       "(2000, 512)"
      ]
     },
     "execution_count": 32,
     "metadata": {
      "tags": []
     },
     "output_type": "execute_result"
    }
   ],
   "source": [
    "documents = data['title'].to_list()[:2000]\n",
    "# # OOM for large document size\n",
    "embeddings = embed(documents).numpy()\n",
    "embeddings.shape"
   ]
  },
  {
   "cell_type": "code",
   "execution_count": null,
   "metadata": {
    "id": "xdb1-u8DefgR"
   },
   "outputs": [],
   "source": [
    "class DemoIndexLSH():\n",
    "  def __init__(self, dimension, documents, embeddings):\n",
    "    self.dimension = dimension\n",
    "    self.documents = documents\n",
    "    self.embeddings = embeddings\n",
    "\n",
    "  def build(self, num_bits=8):\n",
    "    self.index = faiss.IndexLSH(self.dimension, num_bits)\n",
    "    self.index.add(self.embeddings)\n",
    "\n",
    "  def query(self, input_embedding, k=5):\n",
    "    distances, indices = self.index.search(input_embedding, k)\n",
    "\n",
    "    return [(distance, self.documents[index]) for distance, index in zip(distances[0], indices[0])]\n",
    "\n",
    "index_lsh = DemoIndexLSH(512, documents, embeddings)\n",
    "index_lsh.build(num_bits=16)"
   ]
  },
  {
   "cell_type": "code",
   "execution_count": null,
   "metadata": {
    "id": "wEubyvLzgKF_"
   },
   "outputs": [],
   "source": [
    "class DemoIndexIVFPQ():\n",
    "  def __init__(self, dimension, documents, embeddings):\n",
    "    self.dimension = dimension\n",
    "    self.documents = documents\n",
    "    self.embeddings = embeddings\n",
    "\n",
    "  def build(self,\n",
    "            number_of_partition=2,\n",
    "            number_of_subquantizers=2,\n",
    "            subvector_bits=4):\n",
    "    quantizer = faiss.IndexFlatL2(self.dimension)\n",
    "    self.index = faiss.IndexIVFPQ(quantizer, \n",
    "                                  self.dimension,\n",
    "                                  number_of_partition,\n",
    "                                  number_of_subquantizers,\n",
    "                                  subvector_bits)\n",
    "    self.index.train(self.embeddings)\n",
    "    self.index.add(self.embeddings)\n",
    "\n",
    "  def query(self, input_embedding, k=5):\n",
    "    distances, indices = self.index.search(input_embedding, k)\n",
    "\n",
    "    return [(distance, self.documents[index]) for distance, index in zip(distances[0], indices[0])]\n",
    "\n",
    "index_pq = DemoIndexIVFPQ(512, documents, embeddings)\n",
    "index_pq.build()"
   ]
  },
  {
   "cell_type": "code",
   "execution_count": null,
   "metadata": {
    "id": "lk7zw9GCiLbg"
   },
   "outputs": [],
   "source": [
    "class DemoHNSW():\n",
    "  def __init__(self, dimension, documents, embeddings):\n",
    "    self.dimension = dimension\n",
    "    self.documents = documents\n",
    "    self.embeddings = embeddings\n",
    "\n",
    "  def build(self, num_bits=8):\n",
    "    self.index = nmslib.init(method='hnsw', space='cosinesimil')\n",
    "    self.index.addDataPointBatch(self.embeddings)\n",
    "    self.index.createIndex({'post': 2}, print_progress=True)\n",
    "\n",
    "  def query(self, input_embedding, k=5):\n",
    "    indices, distances = self.index.knnQuery(input_embedding, k)\n",
    "\n",
    "    return [(distance, self.documents[index]) for distance, index in zip(distances, indices)]\n",
    "\n",
    "index_hnsw = DemoHNSW(512, documents, embeddings)\n",
    "index_hnsw.build()"
   ]
  },
  {
   "cell_type": "code",
   "execution_count": null,
   "metadata": {
    "id": "H98OFMKwi7LX"
   },
   "outputs": [],
   "source": [
    "class DemoIndexFlatL2():\n",
    "  def __init__(self, dimension, documents, embeddings):\n",
    "    self.dimension = dimension\n",
    "    self.documents = documents\n",
    "    self.embeddings = embeddings\n",
    "\n",
    "  def build(self, num_bits=8):\n",
    "    self.index = faiss.IndexFlatL2(self.dimension)\n",
    "    self.index.add(self.embeddings)\n",
    "\n",
    "  def query(self, input_embedding, k=5):\n",
    "    distances, indices = self.index.search(input_embedding, k)\n",
    "\n",
    "    return [(distance, self.documents[index]) for distance, index in zip(distances[0], indices[0])]\n",
    "\n",
    "index_flat = DemoIndexFlatL2(512, documents, embeddings)\n",
    "index_flat.build()"
   ]
  },
  {
   "cell_type": "code",
   "execution_count": null,
   "metadata": {
    "id": "hD98Z5DmjhmT"
   },
   "outputs": [],
   "source": [
    "def return_ann_top_movies(ann_index, query, k=SEARCH_SIZE):\n",
    "  query_vector = embed([query]).numpy()\n",
    "  search_start = timer()\n",
    "  top_docs = ann_index.query(query_vector, k)\n",
    "  search_time = timer() - search_start\n",
    "  print(\"search time: {:.2f} ms\".format(search_time * 1000))\n",
    "  return top_docs"
   ]
  },
  {
   "cell_type": "code",
   "execution_count": null,
   "metadata": {
    "id": "iRdd27NykJRH"
   },
   "outputs": [
    {
     "name": "stdout",
     "output_type": "stream",
     "text": [
      "search time: 0.82 ms\n"
     ]
    },
    {
     "data": {
      "text/plain": [
       "[(0.95573366, 'True Romance (1993)'),\n",
       " (1.2160163, 'Love Serenade (1996)'),\n",
       " (1.2626679, 'Love Affair (1994)'),\n",
       " (1.3447753, 'Kissed (1996)'),\n",
       " (1.3752131, 'In Love and War (1996)'),\n",
       " (1.3804029, 'Casablanca (1942)'),\n",
       " (1.3832319, 'Flirt (1995)'),\n",
       " (1.38626, 'Moonlight and Valentino (1995)'),\n",
       " (1.3862813, 'Hotel de Love (1996)'),\n",
       " (1.3907104, 'Intimate Relations (1996)')]"
      ]
     },
     "execution_count": 39,
     "metadata": {
      "tags": []
     },
     "output_type": "execute_result"
    }
   ],
   "source": [
    "return_ann_top_movies(index_flat, \"romance\")"
   ]
  },
  {
   "cell_type": "code",
   "execution_count": null,
   "metadata": {
    "id": "70cRnxLQkO-k"
   },
   "outputs": [
    {
     "name": "stdout",
     "output_type": "stream",
     "text": [
      "search time: 0.56 ms\n"
     ]
    },
    {
     "data": {
      "text/plain": [
       "[(2.0, 'Visitors, The (Visiteurs, Les) (1993)'),\n",
       " (2.0, 'City Hall (1996)'),\n",
       " (2.0, 'Paradise Road (1997)'),\n",
       " (3.0, 'When a Man Loves a Woman (1994)'),\n",
       " (3.0, 'Cosi (1996)'),\n",
       " (3.0, 'Haunted World of Edward D. Wood Jr., The (1996)'),\n",
       " (3.0, 'Eddie (1996)'),\n",
       " (3.0, 'Ransom (1996)'),\n",
       " (3.0, 'Time to Kill, A (1996)'),\n",
       " (3.0, 'Mirage (1995)')]"
      ]
     },
     "execution_count": 40,
     "metadata": {
      "tags": []
     },
     "output_type": "execute_result"
    }
   ],
   "source": [
    "return_ann_top_movies(index_lsh, \"romance\")"
   ]
  },
  {
   "cell_type": "code",
   "execution_count": null,
   "metadata": {
    "id": "I5p67iuXkUaL"
   },
   "outputs": [
    {
     "name": "stdout",
     "output_type": "stream",
     "text": [
      "search time: 0.19 ms\n"
     ]
    },
    {
     "data": {
      "text/plain": [
       "[(1.07124, 'Streetcar Named Desire, A (1951)'),\n",
       " (1.07124, 'Moonlight Murder (1936)'),\n",
       " (1.0847104, 'To Kill a Mockingbird (1962)'),\n",
       " (1.0847104, 'Meet John Doe (1941)'),\n",
       " (1.0867723, 'Moonlight and Valentino (1995)'),\n",
       " (1.0901785, 'Laura (1944)'),\n",
       " (1.0901785, 'Rebecca (1940)'),\n",
       " (1.0901785, 'African Queen, The (1951)'),\n",
       " (1.0901785, 'Gigi (1958)'),\n",
       " (1.0901785, 'Scarlet Letter, The (1926)')]"
      ]
     },
     "execution_count": 41,
     "metadata": {
      "tags": []
     },
     "output_type": "execute_result"
    }
   ],
   "source": [
    "return_ann_top_movies(index_pq, \"romance\")"
   ]
  },
  {
   "cell_type": "code",
   "execution_count": null,
   "metadata": {
    "id": "zJaAlR4ukX5H"
   },
   "outputs": [
    {
     "name": "stdout",
     "output_type": "stream",
     "text": [
      "search time: 0.29 ms\n"
     ]
    },
    {
     "data": {
      "text/plain": [
       "[(0.47786665, 'True Romance (1993)'),\n",
       " (0.6080081, 'Love Serenade (1996)'),\n",
       " (0.63133395, 'Love Affair (1994)'),\n",
       " (0.6723877, 'Kissed (1996)'),\n",
       " (0.6876065, 'In Love and War (1996)'),\n",
       " (0.6916158, 'Flirt (1995)'),\n",
       " (0.69312984, 'Moonlight and Valentino (1995)'),\n",
       " (0.69314075, 'Hotel de Love (1996)'),\n",
       " (0.69535506, 'Intimate Relations (1996)'),\n",
       " (0.6985383, 'Love in Bloom (1935)')]"
      ]
     },
     "execution_count": 46,
     "metadata": {
      "tags": []
     },
     "output_type": "execute_result"
    }
   ],
   "source": [
    "return_ann_top_movies(index_hnsw, \"romance\")"
   ]
  }
 ],
 "metadata": {
  "colab": {
   "collapsed_sections": [],
   "name": "T034809_Large_scale_Document_Retrieval_with_Elastic_Search.ipynb",
   "toc_visible": true
  },
  "kernelspec": {
   "display_name": "Python 3",
   "name": "python3"
  }
 },
 "nbformat": 4,
 "nbformat_minor": 0
}