{
 "cells": [
  {
   "cell_type": "markdown",
   "metadata": {
    "id": "Ezeu9nViz3yv"
   },
   "source": [
    "# Read Cassandra Data Snapshot as DataFrame\n",
    "> Short guide on how to read data from Cassandra into pandas dataframe format."
   ]
  },
  {
   "cell_type": "code",
   "execution_count": null,
   "metadata": {
    "id": "fYlxGtNWzxrz"
   },
   "outputs": [],
   "source": [
    "import os\n",
    "from cassandra.cqlengine.models import Model\n",
    "from cassandra.cqlengine import columns\n",
    "from datetime import datetime\n",
    "import pandas as pd"
   ]
  },
  {
   "cell_type": "code",
   "execution_count": null,
   "metadata": {
    "id": "PUfn2tsyzxr4"
   },
   "outputs": [],
   "source": [
    "import os\n",
    "from datetime import datetime\n",
    "\n",
    "from cassandra.cqlengine.management import sync_table\n",
    "from cassandra.policies import TokenAwarePolicy\n",
    "from cassandra.auth import PlainTextAuthProvider\n",
    "from cassandra.cluster import (\n",
    "    Cluster,\n",
    "    DCAwareRoundRobinPolicy\n",
    ")\n",
    "from cassandra.cqlengine.connection import (\n",
    "    register_connection,\n",
    "    set_default_connection\n",
    ")"
   ]
  },
  {
   "cell_type": "code",
   "execution_count": null,
   "metadata": {
    "id": "J_ZJSfPWzxr6"
   },
   "outputs": [],
   "source": [
    "CASSANDRA_USERNAME='cassandra'\n",
    "CASSANDRA_PASSWORD='cassandra'\n",
    "CASSANDRA_HOST='127.0.0.1'\n",
    "CASSANDRA_PORT=9042"
   ]
  },
  {
   "cell_type": "code",
   "execution_count": null,
   "metadata": {
    "id": "vVnyNK7Szxr7"
   },
   "outputs": [
    {
     "name": "stderr",
     "output_type": "stream",
     "text": [
      "ipykernel_launcher:10: DeprecationWarning: Legacy execution parameters will be removed in 4.0. Consider using execution profiles.\n"
     ]
    }
   ],
   "source": [
    "session = None\n",
    "cluster = None\n",
    "\n",
    "auth_provider = PlainTextAuthProvider(username=CASSANDRA_USERNAME, password=CASSANDRA_PASSWORD)\n",
    "cluster = Cluster([CASSANDRA_HOST],\n",
    "load_balancing_policy=TokenAwarePolicy(DCAwareRoundRobinPolicy()),\n",
    "port=CASSANDRA_PORT,\n",
    "auth_provider=auth_provider,\n",
    "executor_threads=2,\n",
    "protocol_version=4,\n",
    ")           "
   ]
  },
  {
   "cell_type": "code",
   "execution_count": null,
   "metadata": {
    "id": "tz58KhpFzxsB"
   },
   "outputs": [],
   "source": [
    "session = cluster.connect()\n",
    "register_connection(str(session), session=session)\n",
    "set_default_connection(str(session))"
   ]
  },
  {
   "cell_type": "code",
   "execution_count": null,
   "metadata": {
    "id": "m2aSYu5ZzxsC"
   },
   "outputs": [
    {
     "data": {
      "text/html": [
       "<div>\n",
       "<style scoped>\n",
       "    .dataframe tbody tr th:only-of-type {\n",
       "        vertical-align: middle;\n",
       "    }\n",
       "\n",
       "    .dataframe tbody tr th {\n",
       "        vertical-align: top;\n",
       "    }\n",
       "\n",
       "    .dataframe thead th {\n",
       "        text-align: right;\n",
       "    }\n",
       "</style>\n",
       "<table border=\"1\" class=\"dataframe\">\n",
       "  <thead>\n",
       "    <tr style=\"text-align: right;\">\n",
       "      <th></th>\n",
       "      <th>pk</th>\n",
       "      <th>created_at</th>\n",
       "      <th>client_ip</th>\n",
       "      <th>cookie_id</th>\n",
       "      <th>event_name</th>\n",
       "      <th>item_id</th>\n",
       "      <th>url</th>\n",
       "    </tr>\n",
       "  </thead>\n",
       "  <tbody>\n",
       "    <tr>\n",
       "      <th>0</th>\n",
       "      <td>2021-05-01</td>\n",
       "      <td>2021-05-01 15:59:08.188</td>\n",
       "      <td>172.20.0.1</td>\n",
       "      <td>0:ko0sujvr:WcQ5Z8kIqvWRLp3~Rlpxu_ygeqqQMdkN</td>\n",
       "      <td>view</td>\n",
       "      <td>10009</td>\n",
       "      <td>http://127.0.0.1:8051/</td>\n",
       "    </tr>\n",
       "    <tr>\n",
       "      <th>1</th>\n",
       "      <td>2021-05-01</td>\n",
       "      <td>2021-05-01 15:59:08.256</td>\n",
       "      <td>172.20.0.1</td>\n",
       "      <td>0:ko0sujvr:WcQ5Z8kIqvWRLp3~Rlpxu_ygeqqQMdkN</td>\n",
       "      <td>view</td>\n",
       "      <td>10004</td>\n",
       "      <td>http://127.0.0.1:8051/</td>\n",
       "    </tr>\n",
       "    <tr>\n",
       "      <th>2</th>\n",
       "      <td>2021-05-01</td>\n",
       "      <td>2021-05-01 15:59:08.265</td>\n",
       "      <td>172.20.0.1</td>\n",
       "      <td>0:ko0sujvr:WcQ5Z8kIqvWRLp3~Rlpxu_ygeqqQMdkN</td>\n",
       "      <td>view</td>\n",
       "      <td>10007</td>\n",
       "      <td>http://127.0.0.1:8051/</td>\n",
       "    </tr>\n",
       "    <tr>\n",
       "      <th>3</th>\n",
       "      <td>2021-05-01</td>\n",
       "      <td>2021-05-01 15:59:08.270</td>\n",
       "      <td>172.20.0.1</td>\n",
       "      <td>0:ko0sujvr:WcQ5Z8kIqvWRLp3~Rlpxu_ygeqqQMdkN</td>\n",
       "      <td>view</td>\n",
       "      <td>10002</td>\n",
       "      <td>http://127.0.0.1:8051/</td>\n",
       "    </tr>\n",
       "    <tr>\n",
       "      <th>4</th>\n",
       "      <td>2021-05-01</td>\n",
       "      <td>2021-05-01 15:59:08.280</td>\n",
       "      <td>172.20.0.1</td>\n",
       "      <td>0:ko0sujvr:WcQ5Z8kIqvWRLp3~Rlpxu_ygeqqQMdkN</td>\n",
       "      <td>view</td>\n",
       "      <td>10001</td>\n",
       "      <td>http://127.0.0.1:8051/</td>\n",
       "    </tr>\n",
       "  </tbody>\n",
       "</table>\n",
       "</div>"
      ],
      "text/plain": [
       "           pk              created_at   client_ip  \\\n",
       "0  2021-05-01 2021-05-01 15:59:08.188  172.20.0.1   \n",
       "1  2021-05-01 2021-05-01 15:59:08.256  172.20.0.1   \n",
       "2  2021-05-01 2021-05-01 15:59:08.265  172.20.0.1   \n",
       "3  2021-05-01 2021-05-01 15:59:08.270  172.20.0.1   \n",
       "4  2021-05-01 2021-05-01 15:59:08.280  172.20.0.1   \n",
       "\n",
       "                                     cookie_id event_name item_id  \\\n",
       "0  0:ko0sujvr:WcQ5Z8kIqvWRLp3~Rlpxu_ygeqqQMdkN       view   10009   \n",
       "1  0:ko0sujvr:WcQ5Z8kIqvWRLp3~Rlpxu_ygeqqQMdkN       view   10004   \n",
       "2  0:ko0sujvr:WcQ5Z8kIqvWRLp3~Rlpxu_ygeqqQMdkN       view   10007   \n",
       "3  0:ko0sujvr:WcQ5Z8kIqvWRLp3~Rlpxu_ygeqqQMdkN       view   10002   \n",
       "4  0:ko0sujvr:WcQ5Z8kIqvWRLp3~Rlpxu_ygeqqQMdkN       view   10001   \n",
       "\n",
       "                      url  \n",
       "0  http://127.0.0.1:8051/  \n",
       "1  http://127.0.0.1:8051/  \n",
       "2  http://127.0.0.1:8051/  \n",
       "3  http://127.0.0.1:8051/  \n",
       "4  http://127.0.0.1:8051/  "
      ]
     },
     "execution_count": 6,
     "metadata": {
      "tags": []
     },
     "output_type": "execute_result"
    }
   ],
   "source": [
    "rows = session.execute('select * from demo.click_stream;')\n",
    "df = pd.DataFrame(list(rows))\n",
    "df.head()"
   ]
  },
  {
   "cell_type": "code",
   "execution_count": null,
   "metadata": {
    "id": "0i4RM91czxsD"
   },
   "outputs": [
    {
     "name": "stdout",
     "output_type": "stream",
     "text": [
      "<class 'pandas.core.frame.DataFrame'>\n",
      "RangeIndex: 265 entries, 0 to 264\n",
      "Data columns (total 7 columns):\n",
      " #   Column      Non-Null Count  Dtype         \n",
      "---  ------      --------------  -----         \n",
      " 0   pk          265 non-null    object        \n",
      " 1   created_at  265 non-null    datetime64[ns]\n",
      " 2   client_ip   265 non-null    object        \n",
      " 3   cookie_id   265 non-null    object        \n",
      " 4   event_name  265 non-null    object        \n",
      " 5   item_id     265 non-null    object        \n",
      " 6   url         265 non-null    object        \n",
      "dtypes: datetime64[ns](1), object(6)\n",
      "memory usage: 14.6+ KB\n"
     ]
    }
   ],
   "source": [
    "df.info()"
   ]
  },
  {
   "cell_type": "code",
   "execution_count": null,
   "metadata": {
    "id": "2ZE4ekoEzxsE"
   },
   "outputs": [
    {
     "name": "stderr",
     "output_type": "stream",
     "text": [
      "ipykernel_launcher:1: FutureWarning: Treating datetime data as categorical rather than numeric in `.describe` is deprecated and will be removed in a future version of pandas. Specify `datetime_is_numeric=True` to silence this warning and adopt the future behavior now.\n"
     ]
    },
    {
     "data": {
      "text/html": [
       "<div>\n",
       "<style scoped>\n",
       "    .dataframe tbody tr th:only-of-type {\n",
       "        vertical-align: middle;\n",
       "    }\n",
       "\n",
       "    .dataframe tbody tr th {\n",
       "        vertical-align: top;\n",
       "    }\n",
       "\n",
       "    .dataframe thead th {\n",
       "        text-align: right;\n",
       "    }\n",
       "</style>\n",
       "<table border=\"1\" class=\"dataframe\">\n",
       "  <thead>\n",
       "    <tr style=\"text-align: right;\">\n",
       "      <th></th>\n",
       "      <th>pk</th>\n",
       "      <th>created_at</th>\n",
       "      <th>client_ip</th>\n",
       "      <th>cookie_id</th>\n",
       "      <th>event_name</th>\n",
       "      <th>item_id</th>\n",
       "      <th>url</th>\n",
       "    </tr>\n",
       "  </thead>\n",
       "  <tbody>\n",
       "    <tr>\n",
       "      <th>count</th>\n",
       "      <td>265</td>\n",
       "      <td>265</td>\n",
       "      <td>265</td>\n",
       "      <td>265</td>\n",
       "      <td>265</td>\n",
       "      <td>265</td>\n",
       "      <td>265</td>\n",
       "    </tr>\n",
       "    <tr>\n",
       "      <th>unique</th>\n",
       "      <td>1</td>\n",
       "      <td>265</td>\n",
       "      <td>1</td>\n",
       "      <td>5</td>\n",
       "      <td>4</td>\n",
       "      <td>12</td>\n",
       "      <td>2</td>\n",
       "    </tr>\n",
       "    <tr>\n",
       "      <th>top</th>\n",
       "      <td>2021-05-01</td>\n",
       "      <td>2021-05-01 18:43:48.776000</td>\n",
       "      <td>172.20.0.1</td>\n",
       "      <td>0:ko5xo7an:1ORfub~MP9WFwk9lasJHFV70F~lkpcVk</td>\n",
       "      <td>view</td>\n",
       "      <td>10002</td>\n",
       "      <td>http://127.0.0.1:8051/</td>\n",
       "    </tr>\n",
       "    <tr>\n",
       "      <th>freq</th>\n",
       "      <td>265</td>\n",
       "      <td>1</td>\n",
       "      <td>265</td>\n",
       "      <td>160</td>\n",
       "      <td>260</td>\n",
       "      <td>38</td>\n",
       "      <td>264</td>\n",
       "    </tr>\n",
       "    <tr>\n",
       "      <th>first</th>\n",
       "      <td>NaN</td>\n",
       "      <td>2021-05-01 15:59:08.188000</td>\n",
       "      <td>NaN</td>\n",
       "      <td>NaN</td>\n",
       "      <td>NaN</td>\n",
       "      <td>NaN</td>\n",
       "      <td>NaN</td>\n",
       "    </tr>\n",
       "    <tr>\n",
       "      <th>last</th>\n",
       "      <td>NaN</td>\n",
       "      <td>2021-05-01 18:44:17.576000</td>\n",
       "      <td>NaN</td>\n",
       "      <td>NaN</td>\n",
       "      <td>NaN</td>\n",
       "      <td>NaN</td>\n",
       "      <td>NaN</td>\n",
       "    </tr>\n",
       "  </tbody>\n",
       "</table>\n",
       "</div>"
      ],
      "text/plain": [
       "                pk                  created_at   client_ip  \\\n",
       "count          265                         265         265   \n",
       "unique           1                         265           1   \n",
       "top     2021-05-01  2021-05-01 18:43:48.776000  172.20.0.1   \n",
       "freq           265                           1         265   \n",
       "first          NaN  2021-05-01 15:59:08.188000         NaN   \n",
       "last           NaN  2021-05-01 18:44:17.576000         NaN   \n",
       "\n",
       "                                          cookie_id event_name item_id  \\\n",
       "count                                           265        265     265   \n",
       "unique                                            5          4      12   \n",
       "top     0:ko5xo7an:1ORfub~MP9WFwk9lasJHFV70F~lkpcVk       view   10002   \n",
       "freq                                            160        260      38   \n",
       "first                                           NaN        NaN     NaN   \n",
       "last                                            NaN        NaN     NaN   \n",
       "\n",
       "                           url  \n",
       "count                      265  \n",
       "unique                       2  \n",
       "top     http://127.0.0.1:8051/  \n",
       "freq                       264  \n",
       "first                      NaN  \n",
       "last                       NaN  "
      ]
     },
     "execution_count": 8,
     "metadata": {
      "tags": []
     },
     "output_type": "execute_result"
    }
   ],
   "source": [
    "df.describe()"
   ]
  },
  {
   "cell_type": "code",
   "execution_count": null,
   "metadata": {
    "id": "UVfC-exMzxsF"
   },
   "outputs": [
    {
     "data": {
      "text/plain": [
       "10002    38\n",
       "10006    34\n",
       "10003    30\n",
       "10000    28\n",
       "10009    27\n",
       "10001    24\n",
       "10004    24\n",
       "10007    20\n",
       "10005    20\n",
       "10008    18\n",
       "1204      1\n",
       "1231      1\n",
       "Name: item_id, dtype: int64"
      ]
     },
     "execution_count": 9,
     "metadata": {
      "tags": []
     },
     "output_type": "execute_result"
    }
   ],
   "source": [
    "df.item_id.value_counts()"
   ]
  },
  {
   "cell_type": "code",
   "execution_count": null,
   "metadata": {
    "id": "YhMWrOQAzxsG"
   },
   "outputs": [],
   "source": [
    "df.to_pickle('../recommender/data/logs_test_020521_1.p')"
   ]
  }
 ],
 "metadata": {
  "colab": {
   "name": "T990000_read_data_from_cassandra_into_pandas.ipynb",
   "toc_visible": true
  },
  "kernelspec": {
   "display_name": "Python 3",
   "name": "python3"
  }
 },
 "nbformat": 4,
 "nbformat_minor": 0
}