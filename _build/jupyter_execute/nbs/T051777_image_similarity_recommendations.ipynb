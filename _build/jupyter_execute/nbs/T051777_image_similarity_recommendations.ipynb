{
 "cells": [
  {
   "cell_type": "markdown",
   "metadata": {
    "id": "mdcFFjIG8dot"
   },
   "source": [
    "# Similar Product Recommendations\n",
    "> A tutorial on building a recommender system that will find similar looking products"
   ]
  },
  {
   "cell_type": "code",
   "execution_count": null,
   "metadata": {
    "id": "MVHAW10n1F74"
   },
   "outputs": [
    {
     "name": "stdout",
     "output_type": "stream",
     "text": [
      "Mounted at /content/drive\n"
     ]
    }
   ],
   "source": [
    "from google.colab import drive\n",
    "drive.mount('/content/drive')"
   ]
  },
  {
   "cell_type": "code",
   "execution_count": null,
   "metadata": {
    "id": "KqMPSQ8xsTbu"
   },
   "outputs": [
    {
     "name": "stdout",
     "output_type": "stream",
     "text": [
      "Writing kaggle.json\n"
     ]
    }
   ],
   "source": [
    "%%writefile kaggle.json\n",
    "{\"username\":\"<your kaggle username>\",\"key\":\"<your kaggle api key>\"}"
   ]
  },
  {
   "cell_type": "code",
   "execution_count": null,
   "metadata": {
    "id": "j6tw-MsbsYpt"
   },
   "outputs": [],
   "source": [
    "!pip install -q -U kaggle\n",
    "!pip install --upgrade --force-reinstall --no-deps kaggle\n",
    "!mkdir ~/.kaggle\n",
    "!cp kaggle.json ~/.kaggle/\n",
    "!chmod 600 ~/.kaggle/kaggle.json"
   ]
  },
  {
   "cell_type": "markdown",
   "metadata": {
    "id": "gM-u9gwnlg00"
   },
   "source": [
    "<img src='https://www.notion.so/image/https%3A%2F%2Fs3-us-west-2.amazonaws.com%2Fsecure.notion-static.com%2F09280297-5ac3-402d-8e04-7b6a8a182c97%2FUntitled.png?table=block&id=ef21d77b-7db0-4b82-a818-214716bbd8b4&spaceId=63b72b1f-0e90-4ab8-a6df-a060a6545a56&width=2000&userId=21ec183f-f0be-4b6b-9b3e-6f0d4e5c5469&cache=v2'>"
   ]
  },
  {
   "cell_type": "markdown",
   "metadata": {
    "id": "8GlqfNWm6ciB"
   },
   "source": [
    "## Choice of variables\n",
    "\n",
    "- Image Encoder: Any pre-trained image classification model can be selected. These models are commonly known as encoders because their job is to encode an image into a feature vector. In our case, we analyzed four encoders named 1) MobileNet, 2) EfficientNet, 3) ResNet and 4) [BiT](https://tfhub.dev/google/bit/m-r152x4/1). After some basic research, we decided to select BiT model because of its performance. I selected the BiT-M-50x3 variant of model which is of size 748 MB. More details about this architecture can be found on the official page [here](https://tfhub.dev/google/bit/m-r50x3/1).\n",
    "- Vector Similarity System: Images are represented in a fixed-length feature vector format. For the given input vector, we need to find the TopK most similar vectors, keeping the memory efficiency and real-time retrival objective in mind. We explored the most popular techniques and listed down five of them: Annoy, Cosine distance, L1 distance, Locally Sensitive Hashing (LSH) and Image Deep Ranking. We selected Annoy because of its fast and efficient nature. More details about Annoy can be found on the official page [here](https://github.com/spotify/annoy).\n",
    "- Dataset: This system is able to handle all kind of image dataset. Only the basic preprocessing (in step 1) would need some modifications depending on the dataset. We chose [Fashion Product Images (Small)](https://www.kaggle.com/bhaskar2443053/fashion-small?). Other examples can be [Food-11 image dataset](https://www.kaggle.com/trolukovich/food11-image-dataset?), and [Caltech 256 Image Dataset](https://www.kaggle.com/jessicali9530/caltech256?)."
   ]
  },
  {
   "cell_type": "markdown",
   "metadata": {
    "id": "ushnAKJ5VyfI"
   },
   "source": [
    "## Step 1: Data Acquisition"
   ]
  },
  {
   "cell_type": "markdown",
   "metadata": {
    "id": "SdAaHU-x5R7U"
   },
   "source": [
    "Download the raw image dataset into a directory. Categorize these images into their respective category directories. Make sure that images are of the same type, JPEG recommended. We will also process the metadata and store it in a serialized file, CSV recommended. "
   ]
  },
  {
   "cell_type": "code",
   "execution_count": null,
   "metadata": {
    "id": "Q72U45CZtzAZ"
   },
   "outputs": [],
   "source": [
    "# downloading raw images from kaggle\n",
    "!kaggle datasets download -d paramaggarwal/fashion-product-images-small\n",
    "!unzip fashion-product-images-small.zip"
   ]
  },
  {
   "cell_type": "code",
   "execution_count": null,
   "metadata": {
    "id": "xS6CNOmrUfmi"
   },
   "outputs": [],
   "source": [
    "import pandas as pd\n",
    "from shutil import move\n",
    "import os\n",
    "from tqdm import tqdm\n",
    "\n",
    "os.mkdir('/content/Fashion_data')\n",
    "os.chdir('/content/Fashion_data')\n",
    "\n",
    "df = pd.read_csv('/content/styles.csv', usecols=['id','masterCategory']).reset_index()\n",
    "df['id'] = df['id'].astype('str')\n",
    "\n",
    "all_images = os.listdir('/content/images/')\n",
    "co = 0\n",
    "os.mkdir('/content/Fashion_data/categories')\n",
    "for image in tqdm(all_images):\n",
    "    category = df[df['id'] == image.split('.')[0]]['masterCategory']\n",
    "    category = str(list(category)[0])\n",
    "    if not os.path.exists(os.path.join('/content/Fashion_data/categories', category)):\n",
    "        os.mkdir(os.path.join('/content/Fashion_data/categories', category))\n",
    "    path_from = os.path.join('/content/images', image)\n",
    "    path_to = os.path.join('/content/Fashion_data/categories', category, image)\n",
    "    move(path_from, path_to)\n",
    "    co += 1\n",
    "print('Moved {} images.'.format(co))"
   ]
  },
  {
   "cell_type": "markdown",
   "metadata": {
    "id": "dx-LREyDWEYK"
   },
   "source": [
    "## Step 2: Encoder Fine-tuning [optional]"
   ]
  },
  {
   "cell_type": "markdown",
   "metadata": {
    "id": "TEYVHxkN5U_K"
   },
   "source": [
    "Download the pre-trained image model and add two additional layers on top of that: the first layer is a feature vector layer and the second layer is the classification layer. We will only train these 2 layers on our data and after training, we will select the feature vector layer as the output of our fine-tuned encoder. After fine-tuning the model, we will save the feature extractor for later use."
   ]
  },
  {
   "cell_type": "code",
   "execution_count": null,
   "metadata": {
    "id": "gdpzJdFpUfiu"
   },
   "outputs": [
    {
     "name": "stdout",
     "output_type": "stream",
     "text": [
      "TF version: 2.4.1\n",
      "Hub version: 0.12.0\n",
      "GPU is available\n"
     ]
    }
   ],
   "source": [
    "import itertools\n",
    "import os\n",
    "\n",
    "import matplotlib.pylab as plt\n",
    "import numpy as np\n",
    "\n",
    "import tensorflow as tf\n",
    "import tensorflow_hub as hub\n",
    "\n",
    "print(\"TF version:\", tf.__version__)\n",
    "print(\"Hub version:\", hub.__version__)\n",
    "print(\"GPU is\", \"available\" if tf.config.list_physical_devices('GPU') else \"NOT AVAILABLE\")"
   ]
  },
  {
   "cell_type": "code",
   "execution_count": null,
   "metadata": {
    "id": "F5D6EK18Ufg_"
   },
   "outputs": [
    {
     "name": "stdout",
     "output_type": "stream",
     "text": [
      "Using https://tfhub.dev/google/bit/m-r50x3/1 with input size (224, 224)\n"
     ]
    }
   ],
   "source": [
    "MODULE_HANDLE = 'https://tfhub.dev/google/bit/m-r50x3/1'\n",
    "IMAGE_SIZE = (224, 224)\n",
    "print(\"Using {} with input size {}\".format(MODULE_HANDLE, IMAGE_SIZE))\n",
    "BATCH_SIZE = 32 \n",
    "N_FEATURES = 256"
   ]
  },
  {
   "cell_type": "code",
   "execution_count": null,
   "metadata": {
    "id": "6W9wx6VvUfff"
   },
   "outputs": [],
   "source": [
    "data_dir = '/content/Fashion_data/categories'"
   ]
  },
  {
   "cell_type": "code",
   "execution_count": null,
   "metadata": {
    "id": "LGyqBujZUfd0"
   },
   "outputs": [
    {
     "name": "stdout",
     "output_type": "stream",
     "text": [
      "Found 8886 images belonging to 7 classes.\n",
      "Found 35555 images belonging to 7 classes.\n"
     ]
    }
   ],
   "source": [
    "datagen_kwargs = dict(rescale=1./255, validation_split=.20)\n",
    "dataflow_kwargs = dict(target_size=IMAGE_SIZE, batch_size=BATCH_SIZE,\n",
    "                   interpolation=\"bilinear\")\n",
    "\n",
    "valid_datagen = tf.keras.preprocessing.image.ImageDataGenerator(\n",
    "    **datagen_kwargs)\n",
    "valid_generator = valid_datagen.flow_from_directory(\n",
    "    data_dir, subset=\"validation\", shuffle=False, **dataflow_kwargs)\n",
    "\n",
    "do_data_augmentation = False \n",
    "if do_data_augmentation:\n",
    "  train_datagen = tf.keras.preprocessing.image.ImageDataGenerator(\n",
    "      rotation_range=40,\n",
    "      horizontal_flip=True,\n",
    "      width_shift_range=0.2, height_shift_range=0.2,\n",
    "      shear_range=0.2, zoom_range=0.2,\n",
    "      **datagen_kwargs)\n",
    "else:\n",
    "  train_datagen = valid_datagen\n",
    "train_generator = train_datagen.flow_from_directory(\n",
    "    data_dir, subset=\"training\", shuffle=True, **dataflow_kwargs)"
   ]
  },
  {
   "cell_type": "code",
   "execution_count": null,
   "metadata": {
    "id": "acJCBUeiUfcC"
   },
   "outputs": [
    {
     "name": "stdout",
     "output_type": "stream",
     "text": [
      "Building model with https://tfhub.dev/google/bit/m-r50x3/1\n",
      "Model: \"sequential_1\"\n",
      "_________________________________________________________________\n",
      "Layer (type)                 Output Shape              Param #   \n",
      "=================================================================\n",
      "keras_layer_1 (KerasLayer)   (None, 6144)              211174080 \n",
      "_________________________________________________________________\n",
      "dropout_2 (Dropout)          (None, 6144)              0         \n",
      "_________________________________________________________________\n",
      "dense_2 (Dense)              (None, 256)               1573120   \n",
      "_________________________________________________________________\n",
      "dropout_3 (Dropout)          (None, 256)               0         \n",
      "_________________________________________________________________\n",
      "dense_3 (Dense)              (None, 7)                 1799      \n",
      "=================================================================\n",
      "Total params: 212,748,999\n",
      "Trainable params: 1,574,919\n",
      "Non-trainable params: 211,174,080\n",
      "_________________________________________________________________\n"
     ]
    }
   ],
   "source": [
    "print(\"Building model with\", MODULE_HANDLE)\n",
    "model = tf.keras.Sequential([\n",
    "    tf.keras.layers.InputLayer(input_shape=IMAGE_SIZE + (3,)),\n",
    "    hub.KerasLayer(MODULE_HANDLE, trainable=False),\n",
    "    tf.keras.layers.Dropout(rate=0.2),\n",
    "    tf.keras.layers.Dense(N_FEATURES,\n",
    "                          kernel_regularizer=tf.keras.regularizers.l2(0.0001)),\n",
    "    tf.keras.layers.Dropout(rate=0.2),\n",
    "    tf.keras.layers.Dense(train_generator.num_classes,\n",
    "                          kernel_regularizer=tf.keras.regularizers.l2(0.0001))\n",
    "])\n",
    "model.build((None,)+IMAGE_SIZE+(3,))\n",
    "model.summary()"
   ]
  },
  {
   "cell_type": "code",
   "execution_count": null,
   "metadata": {
    "id": "g2CMlRLFUfZC"
   },
   "outputs": [],
   "source": [
    "# Define optimiser and loss\n",
    "lr = 0.003 * BATCH_SIZE / 512 \n",
    "SCHEDULE_LENGTH = 500\n",
    "SCHEDULE_BOUNDARIES = [200, 300, 400]\n",
    "\n",
    "# Decay learning rate by a factor of 10 at SCHEDULE_BOUNDARIES.\n",
    "lr_schedule = tf.keras.optimizers.schedules.PiecewiseConstantDecay(boundaries=SCHEDULE_BOUNDARIES, \n",
    "                                                                   values=[lr, lr*0.1, lr*0.001, lr*0.0001])\n",
    "optimizer = tf.keras.optimizers.SGD(learning_rate=lr_schedule, momentum=0.9)\n",
    "\n",
    "loss_fn = tf.keras.losses.CategoricalCrossentropy(from_logits=True)\n",
    "\n",
    "model.compile(optimizer=optimizer,\n",
    "              loss=loss_fn,\n",
    "              metrics=['accuracy'])"
   ]
  },
  {
   "cell_type": "code",
   "execution_count": null,
   "metadata": {
    "id": "i8lBtDaOUfWD"
   },
   "outputs": [
    {
     "name": "stdout",
     "output_type": "stream",
     "text": [
      "Epoch 1/5\n",
      "1111/1111 [==============================] - 1221s 1s/step - loss: 0.4232 - accuracy: 0.9410 - val_loss: 0.1400 - val_accuracy: 0.9878\n",
      "Epoch 2/5\n",
      "1111/1111 [==============================] - 1210s 1s/step - loss: 0.2100 - accuracy: 0.9760 - val_loss: 0.1399 - val_accuracy: 0.9879\n",
      "Epoch 3/5\n",
      "1111/1111 [==============================] - 1210s 1s/step - loss: 0.2115 - accuracy: 0.9766 - val_loss: 0.1397 - val_accuracy: 0.9880\n",
      "Epoch 4/5\n",
      "1111/1111 [==============================] - 1210s 1s/step - loss: 0.2094 - accuracy: 0.9763 - val_loss: 0.1396 - val_accuracy: 0.9880\n",
      "Epoch 5/5\n",
      "1111/1111 [==============================] - 1210s 1s/step - loss: 0.1923 - accuracy: 0.9775 - val_loss: 0.1394 - val_accuracy: 0.9880\n"
     ]
    }
   ],
   "source": [
    "steps_per_epoch = train_generator.samples // train_generator.batch_size\n",
    "validation_steps = valid_generator.samples // valid_generator.batch_size\n",
    "hist = model.fit(\n",
    "    train_generator,\n",
    "    epochs=5, steps_per_epoch=steps_per_epoch,\n",
    "    validation_data=valid_generator,\n",
    "    validation_steps=validation_steps).history"
   ]
  },
  {
   "cell_type": "code",
   "execution_count": null,
   "metadata": {
    "id": "NJKzJ1q1W6BO"
   },
   "outputs": [
    {
     "data": {
      "text/plain": [
       "[<matplotlib.lines.Line2D at 0x7f62d65abfd0>]"
      ]
     },
     "execution_count": 15,
     "metadata": {
      "tags": []
     },
     "output_type": "execute_result"
    },
    {
     "data": {
      "image/png": "[encoded data removed]",
      "text/plain": [
       "<Figure size 432x288 with 1 Axes>"
      ]
     },
     "metadata": {
      "filenames": {
       "image/png": "/content/reco-book/_build/jupyter_execute/nbs/T051777_image_similarity_recommendations_19_1.png"
      },
      "needs_background": "light",
      "tags": []
     },
     "output_type": "display_data"
    },
    {
     "data": {
      "image/png": "[encoded data removed]",
      "text/plain": [
       "<Figure size 432x288 with 1 Axes>"
      ]
     },
     "metadata": {
      "filenames": {
       "image/png": "/content/reco-book/_build/jupyter_execute/nbs/T051777_image_similarity_recommendations_19_2.png"
      },
      "needs_background": "light",
      "tags": []
     },
     "output_type": "display_data"
    }
   ],
   "source": [
    "plt.figure()\n",
    "plt.ylabel(\"Loss (training and validation)\")\n",
    "plt.xlabel(\"Training Steps\")\n",
    "plt.ylim([0,2])\n",
    "plt.plot(hist[\"loss\"])\n",
    "plt.plot(hist[\"val_loss\"])\n",
    "\n",
    "plt.figure()\n",
    "plt.ylabel(\"Accuracy (training and validation)\")\n",
    "plt.xlabel(\"Training Steps\")\n",
    "plt.ylim([0,1])\n",
    "plt.plot(hist[\"accuracy\"])\n",
    "plt.plot(hist[\"val_accuracy\"])"
   ]
  },
  {
   "cell_type": "code",
   "execution_count": null,
   "metadata": {
    "id": "NY6gNBhyW5-5"
   },
   "outputs": [
    {
     "name": "stdout",
     "output_type": "stream",
     "text": [
      "INFO:tensorflow:Assets written to: /content/drive/MyDrive/ImgSim/bit_feature_extractor/assets\n"
     ]
    },
    {
     "name": "stderr",
     "output_type": "stream",
     "text": [
      "INFO:tensorflow:Assets written to: /content/drive/MyDrive/ImgSim/bit_feature_extractor/assets\n"
     ]
    },
    {
     "name": "stdout",
     "output_type": "stream",
     "text": [
      "INFO:tensorflow:Assets written to: /content/drive/MyDrive/ImgSim/bit_model/assets\n"
     ]
    },
    {
     "name": "stderr",
     "output_type": "stream",
     "text": [
      "INFO:tensorflow:Assets written to: /content/drive/MyDrive/ImgSim/bit_model/assets\n"
     ]
    }
   ],
   "source": [
    "if not os.path.exists('/content/drive/MyDrive/ImgSim/'):\n",
    "    os.mkdir('/content/drive/MyDrive/ImgSim/')\n",
    "\n",
    "feature_extractor = tf.keras.Model(inputs=model.inputs, outputs=model.layers[-3].output)\n",
    "feature_extractor.save('/content/drive/MyDrive/ImgSim/bit_feature_extractor', save_format='tf')\n",
    "\n",
    "saved_model_path = '/content/drive/MyDrive/ImgSim/bit_model'\n",
    "tf.saved_model.save(model, saved_model_path)"
   ]
  },
  {
   "cell_type": "markdown",
   "metadata": {
    "id": "QoymCsSMXOeu"
   },
   "source": [
    "## Step 3: Image Vectorization\n",
    "Now, we will use the encoder (prepared in step 2) to encode the images (prepared in step 1). We will save feature vector of each image as an array in a directory. After processing, we will save these embeddings for later use."
   ]
  },
  {
   "cell_type": "code",
   "execution_count": null,
   "metadata": {
    "id": "VbWu23iuW56S"
   },
   "outputs": [],
   "source": [
    "import tensorflow as tf\n",
    "from pathlib import Path\n",
    "import numpy as np\n",
    "import os\n",
    "from tqdm import tqdm\n",
    "tqdm.pandas()"
   ]
  },
  {
   "cell_type": "code",
   "execution_count": null,
   "metadata": {
    "id": "_USmBUpiW58t"
   },
   "outputs": [],
   "source": [
    "img_paths = []\n",
    "for path in Path('/content/Fashion_data/categories').rglob('*.jpg'):\n",
    "  img_paths.append(path)\n",
    "np.random.shuffle(img_paths)"
   ]
  },
  {
   "cell_type": "code",
   "execution_count": null,
   "metadata": {
    "id": "992vULeyW5zD"
   },
   "outputs": [],
   "source": [
    "def load_img(path):\n",
    "  img = tf.io.read_file(path)\n",
    "  img = tf.io.decode_jpeg(img, channels=3)\n",
    "  img = tf.image.resize_with_pad(img, 224, 224)\n",
    "  img  = tf.image.convert_image_dtype(img, tf.float32)[tf.newaxis, ...]\n",
    "  return img"
   ]
  },
  {
   "cell_type": "code",
   "execution_count": null,
   "metadata": {
    "id": "2B8cJuQgaT1r"
   },
   "outputs": [],
   "source": [
    "TRANSFER_LEARNING_FLAG = 1\n",
    "if TRANSFER_LEARNING_FLAG:\n",
    "  module = tf.keras.models.load_model('/content/drive/MyDrive/ImgSim/bit_feature_extractor')\n",
    "else:\n",
    "  module_handle = \"https://tfhub.dev/google/bit/s-r50x3/ilsvrc2012_classification/1\" \n",
    "  module = hub.load(module_handle)"
   ]
  },
  {
   "cell_type": "code",
   "execution_count": null,
   "metadata": {
    "id": "WtfPQPWIW5wD"
   },
   "outputs": [],
   "source": [
    "imgvec_path = '/content/img_vectors/'\n",
    "Path(imgvec_path).mkdir(parents=True, exist_ok=True)"
   ]
  },
  {
   "cell_type": "code",
   "execution_count": null,
   "metadata": {
    "id": "1kLn4sOyW5sx"
   },
   "outputs": [],
   "source": [
    "for filename in tqdm(img_paths[:5000]):\n",
    "    img = load_img(str(filename))\n",
    "    features = module(img)\n",
    "    feature_set = np.squeeze(features)\n",
    "    outfile_name = os.path.basename(filename).split('.')[0] + \".npz\"\n",
    "    out_path_file = os.path.join(imgvec_path, outfile_name)\n",
    "    np.savetxt(out_path_file, feature_set, delimiter=',')"
   ]
  },
  {
   "cell_type": "markdown",
   "metadata": {
    "id": "UsSVlCOhf5b0"
   },
   "source": [
    "## Step 4: Metadata and Indexing"
   ]
  },
  {
   "cell_type": "markdown",
   "metadata": {
    "id": "iUMsk_kd5bPU"
   },
   "source": [
    "We will assign a unique id to each image and create dictionaries to locate information of this image: 1) Image id to Image name dictionary, 2) Image id to image feature vector dictionary, and 3) (optional) Image id to metadata product id dictionary. We will also create an image id to image feature vector indexing. Then we will save these dictionaries and index object for later use."
   ]
  },
  {
   "cell_type": "code",
   "execution_count": null,
   "metadata": {
    "id": "21NzEoTegKxZ"
   },
   "outputs": [],
   "source": [
    "import pandas as pd\n",
    "import glob\n",
    "import os\n",
    "import numpy as np\n",
    "from tqdm import tqdm\n",
    "tqdm.pandas()\n",
    "!pip install -q annoy\n",
    "import json\n",
    "from annoy import AnnoyIndex\n",
    "from scipy import spatial\n",
    "import pickle\n",
    "from IPython.display import Image as dispImage"
   ]
  },
  {
   "cell_type": "code",
   "execution_count": null,
   "metadata": {
    "id": "9jv-lnwzHvlC"
   },
   "outputs": [
    {
     "data": {
      "image/jpeg": "[encoded data removed]",
      "text/plain": [
       "<IPython.core.display.Image object>"
      ]
     },
     "execution_count": 54,
     "metadata": {
      "filenames": {
       "image/jpeg": "/content/reco-book/_build/jupyter_execute/nbs/T051777_image_similarity_recommendations_31_0.jpg"
      },
      "tags": []
     },
     "output_type": "execute_result"
    }
   ],
   "source": [
    "test_img = '/content/Fashion_data/categories/Accessories/1941.jpg'\n",
    "dispImage(test_img)"
   ]
  },
  {
   "cell_type": "code",
   "execution_count": null,
   "metadata": {
    "id": "1niXWpbXW5m3"
   },
   "outputs": [],
   "source": [
    "styles = pd.read_csv('/content/styles.csv', error_bad_lines=False)\n",
    "styles['id'] = styles['id'].astype('str')\n",
    "styles.to_csv(root_path+'/styles.csv', index=False)"
   ]
  },
  {
   "cell_type": "code",
   "execution_count": null,
   "metadata": {
    "id": "W-nFnff8W5j7"
   },
   "outputs": [],
   "source": [
    "def match_id(fname):\n",
    "  return styles.index[styles.id==fname].values[0]"
   ]
  },
  {
   "cell_type": "code",
   "execution_count": null,
   "metadata": {
    "id": "Fq594UchW5hz"
   },
   "outputs": [],
   "source": [
    "# Defining data structures as empty dict\n",
    "file_index_to_file_name = {}\n",
    "file_index_to_file_vector = {}\n",
    "file_index_to_product_id = {}\n",
    "\n",
    "# Configuring annoy parameters\n",
    "dims = 256\n",
    "n_nearest_neighbors = 20\n",
    "trees = 10000\n",
    "\n",
    "# Reads all file names which stores feature vectors \n",
    "allfiles = glob.glob('/content/img_vectors/*.npz')\n",
    "\n",
    "t = AnnoyIndex(dims, metric='angular')"
   ]
  },
  {
   "cell_type": "code",
   "execution_count": null,
   "metadata": {
    "id": "OvKGnMU-W5fh"
   },
   "outputs": [
    {
     "name": "stderr",
     "output_type": "stream",
     "text": [
      "5000it [00:17, 279.67it/s]\n"
     ]
    }
   ],
   "source": [
    "for findex, fname in tqdm(enumerate(allfiles)):\n",
    "  file_vector = np.loadtxt(fname)\n",
    "  file_name = os.path.basename(fname).split('.')[0]\n",
    "  file_index_to_file_name[findex] = file_name\n",
    "  file_index_to_file_vector[findex] = file_vector\n",
    "  try:\n",
    "    file_index_to_product_id[findex] = match_id(file_name)\n",
    "  except IndexError:\n",
    "    pass \n",
    "  t.add_item(findex, file_vector)"
   ]
  },
  {
   "cell_type": "code",
   "execution_count": null,
   "metadata": {
    "id": "PHB-JNObW5cs"
   },
   "outputs": [
    {
     "data": {
      "text/plain": [
       "True"
      ]
     },
     "execution_count": 32,
     "metadata": {
      "tags": []
     },
     "output_type": "execute_result"
    }
   ],
   "source": [
    "t.build(trees)\n",
    "t.save('t.ann')"
   ]
  },
  {
   "cell_type": "code",
   "execution_count": null,
   "metadata": {
    "id": "c-6vhz4Dhjz3"
   },
   "outputs": [],
   "source": [
    "file_path = '/content/drive/MyDrive/ImgSim/'"
   ]
  },
  {
   "cell_type": "code",
   "execution_count": null,
   "metadata": {
    "id": "WKzVD4PdW5ZD"
   },
   "outputs": [],
   "source": [
    "t.save(file_path+'indexer.ann')\n",
    "pickle.dump(file_index_to_file_name, open(file_path+\"file_index_to_file_name.p\", \"wb\"))\n",
    "pickle.dump(file_index_to_file_vector, open(file_path+\"file_index_to_file_vector.p\", \"wb\"))\n",
    "pickle.dump(file_index_to_product_id, open(file_path+\"file_index_to_product_id.p\", \"wb\"))"
   ]
  },
  {
   "cell_type": "markdown",
   "metadata": {
    "id": "WQ9BN_MsiwSy"
   },
   "source": [
    "## Step 5: Local Testing"
   ]
  },
  {
   "cell_type": "markdown",
   "metadata": {
    "id": "6k1SHCwd5fO8"
   },
   "source": [
    "We will load a random image and find top-K most similar images."
   ]
  },
  {
   "cell_type": "code",
   "execution_count": null,
   "metadata": {
    "id": "QK_ChEiYf1n0"
   },
   "outputs": [],
   "source": [
    "from PIL import Image\n",
    "import matplotlib.image as mpimg"
   ]
  },
  {
   "cell_type": "code",
   "execution_count": null,
   "metadata": {
    "id": "V32QozZfHtDU"
   },
   "outputs": [
    {
     "data": {
      "image/png": "[encoded data removed]",
      "text/plain": [
       "<PIL.Image.Image image mode=RGB size=224x334 at 0x7F62CB935C50>"
      ]
     },
     "execution_count": 56,
     "metadata": {
      "filenames": {
       "image/png": "/content/reco-book/_build/jupyter_execute/nbs/T051777_image_similarity_recommendations_42_0.png"
      },
      "tags": []
     },
     "output_type": "execute_result"
    }
   ],
   "source": [
    "img_addr = 'https://images-na.ssl-images-amazon.com/images/I/81%2Bd6eSA0eL._UL1500_.jpg'\n",
    "\n",
    "!wget -q -O img.jpg $img_addr\n",
    "test_img = 'img.jpg'\n",
    "topK = 4\n",
    "\n",
    "test_vec = np.squeeze(module(load_img(test_img)))\n",
    "\n",
    "basewidth = 224\n",
    "img = Image.open(test_img)\n",
    "wpercent = (basewidth/float(img.size[0]))\n",
    "hsize = int((float(img.size[1])*float(wpercent)))\n",
    "img = img.resize((basewidth,hsize), Image.ANTIALIAS)\n",
    "img"
   ]
  },
  {
   "cell_type": "code",
   "execution_count": null,
   "metadata": {
    "id": "HFs56RynGrjO"
   },
   "outputs": [
    {
     "data": {
      "image/png": "[encoded data removed]",
      "text/plain": [
       "<Figure size 1440x720 with 4 Axes>"
      ]
     },
     "metadata": {
      "filenames": {
       "image/png": "/content/reco-book/_build/jupyter_execute/nbs/T051777_image_similarity_recommendations_43_0.png"
      },
      "needs_background": "light",
      "tags": []
     },
     "output_type": "display_data"
    }
   ],
   "source": [
    "path_dict = {}\n",
    "for path in Path('/content/Fashion_data/categories').rglob('*.jpg'):\n",
    "  path_dict[path.name] = path\n",
    "\n",
    "nns = t.get_nns_by_vector(test_vec, n=topK)\n",
    "plt.figure(figsize=(20, 10))\n",
    "for i in range(topK):\n",
    "  x = file_index_to_file_name[nns[i]]\n",
    "  x = path_dict[x+'.jpg']\n",
    "  y = file_index_to_product_id[nns[i]]\n",
    "  title = '\\n'.join([str(j) for j in list(styles.loc[y].values[-5:])])\n",
    "  plt.subplot(1, topK, i+1)\n",
    "  plt.title(title)\n",
    "  plt.imshow(mpimg.imread(x))\n",
    "  plt.axis('off')\n",
    "plt.tight_layout()"
   ]
  },
  {
   "cell_type": "markdown",
   "metadata": {
    "id": "7-pbfJyqkS9T"
   },
   "source": [
    "## Step 6: API Call"
   ]
  },
  {
   "cell_type": "markdown",
   "metadata": {
    "id": "lATZdqAI5iQU"
   },
   "source": [
    "We will build two kinds of API - 1) UI based API using Streamlit, and 2) REST API using Flask. In both the cases, we will receive an image from user, encode it with our image encoder, find TopK similar vectors using Indexing object, and retrieve the image (and metadata) using dictionaries. We send these images (and metadata) back to the user."
   ]
  },
  {
   "cell_type": "code",
   "execution_count": null,
   "metadata": {
    "id": "bEuchptAlDIK"
   },
   "outputs": [],
   "source": [
    "import os\n",
    "import time"
   ]
  },
  {
   "cell_type": "code",
   "execution_count": null,
   "metadata": {
    "id": "4xqniAiWk-da"
   },
   "outputs": [],
   "source": [
    "root_path = '/content/drive/MyDrive/ImgSim'"
   ]
  },
  {
   "cell_type": "code",
   "execution_count": null,
   "metadata": {
    "id": "kUXYz5QZBiDG"
   },
   "outputs": [
    {
     "name": "stdout",
     "output_type": "stream",
     "text": [
      "Writing utils.py\n"
     ]
    }
   ],
   "source": [
    "%%writefile utils.py\n",
    "## ----utils.py---- ###\n",
    "\n",
    "import os\n",
    "import tensorflow as tf\n",
    "from annoy import AnnoyIndex\n",
    "\n",
    "root_path = '/content/drive/MyDrive/ImgSim'\n",
    "\n",
    "class Encoder:\n",
    "  encoder = tf.keras.models.load_model(os.path.join(root_path, 'bit_feature_extractor'))\n",
    "\n",
    "class Indexer:\n",
    "  dims = 256\n",
    "  topK = 6\n",
    "  indexer = AnnoyIndex(dims, 'angular')\n",
    "  indexer.load(os.path.join(root_path, 'indexer.ann'))\n",
    "  \n",
    "encoder = Encoder()\n",
    "indexer = Indexer()"
   ]
  },
  {
   "cell_type": "markdown",
   "metadata": {
    "id": "OSO01jdL5rHK"
   },
   "source": [
    "## Streamlit App"
   ]
  },
  {
   "cell_type": "code",
   "execution_count": null,
   "metadata": {
    "id": "d2xGrUSvyAHt"
   },
   "outputs": [
    {
     "name": "stdout",
     "output_type": "stream",
     "text": [
      "Writing app.py\n"
     ]
    }
   ],
   "source": [
    "%%writefile app.py\n",
    "## ----app.py---- ###\n",
    "\n",
    "import streamlit as st\n",
    "import pandas as pd\n",
    "import numpy as np\n",
    "from PIL import Image\n",
    "from annoy import AnnoyIndex\n",
    "import glob\n",
    "import os\n",
    "import tensorflow as tf\n",
    "import tarfile\n",
    "import pickle\n",
    "from pathlib import Path\n",
    "import time\n",
    "from utils import encoder, indexer\n",
    "\n",
    "root_path = '/content/drive/MyDrive/ImgSim'\n",
    "\n",
    "start_time = time.time()\n",
    "encoder = encoder.encoder\n",
    "print(\"---Encoder--- %s seconds ---\" % (time.time() - start_time))\n",
    "\n",
    "topK = 6\n",
    "\n",
    "start_time = time.time()\n",
    "t = indexer.indexer\n",
    "print(\"---Indexer--- %s seconds ---\" % (time.time() - start_time))\n",
    "\n",
    "# load the meta data\n",
    "meta_data = pd.read_csv(os.path.join(root_path, 'styles.csv'))\n",
    "\n",
    "# load the mappings\n",
    "file_index_to_file_name = pickle.load(open(os.path.join(root_path ,'file_index_to_file_name.p'), 'rb'))\n",
    "file_index_to_file_vector = pickle.load(open(os.path.join(root_path ,'file_index_to_file_vector.p'), 'rb'))\n",
    "file_index_to_product_id = pickle.load(open(os.path.join(root_path ,'file_index_to_product_id.p'), 'rb'))\n",
    "\n",
    "# load image path mapping\n",
    "path_dict = {}\n",
    "for path in Path('/content/Fashion_data/categories').rglob('*.jpg'):\n",
    "  path_dict[path.name] = path\n",
    "\n",
    "def load_img(path):\n",
    "  img = tf.io.read_file(path)\n",
    "  img = tf.io.decode_jpeg(img, channels=3)\n",
    "  img = tf.image.resize_with_pad(img, 224, 224)\n",
    "  img  = tf.image.convert_image_dtype(img, tf.float32)[tf.newaxis, ...]\n",
    "  return img\n",
    "\n",
    "query_path = '/content/user_query.jpg'\n",
    "\n",
    "st.title(\"Image Similarity App\")\n",
    "\n",
    "uploaded_file = st.file_uploader(\"Choose an image...\", type=\"jpg\")\n",
    "\n",
    "if uploaded_file is not None:\n",
    "    image = Image.open(uploaded_file)\n",
    "    image.save(query_path)\n",
    "    st.image(image, caption='Uploaded Image.', use_column_width=True)\n",
    "    st.write(\"\")\n",
    "    st.write(\"Top similar images...\")\n",
    "    \n",
    "    start_time = time.time()\n",
    "    test_vec = np.squeeze(encoder(load_img(query_path)))\n",
    "    print(\"---Encoding--- %s seconds ---\" % (time.time() - start_time))\n",
    "\n",
    "    start_time = time.time()\n",
    "    nns = t.get_nns_by_vector(test_vec, n=topK)\n",
    "    print(\"---SimilarityIndex--- %s seconds ---\" % (time.time() - start_time))\n",
    "\n",
    "    img_files = []\n",
    "    img_captions = []\n",
    "\n",
    "    start_time = time.time()\n",
    "    for i in nns:\n",
    "      #image files\n",
    "      img_path = str(path_dict[file_index_to_file_name[i]+'.jpg'])\n",
    "      img_file = Image.open(img_path)\n",
    "      img_files.append(img_file)\n",
    "      #image captions\n",
    "      item_id = file_index_to_product_id[i]\n",
    "      img_caption = '\\n'.join([str(j) for j in list(meta_data.loc[item_id].values[-5:])])\n",
    "      img_captions.append(img_caption)\n",
    "    print(\"---Output--- %s seconds ---\" % (time.time() - start_time))\n",
    "\n",
    "    st.image(img_files, caption=img_captions, width=200)"
   ]
  },
  {
   "cell_type": "code",
   "execution_count": null,
   "metadata": {
    "id": "HTGShJ4HvhOr"
   },
   "outputs": [],
   "source": [
    "! pip install -q pyngrok\n",
    "! pip install -q streamlit\n",
    "! pip install -q colab-everything\n",
    "\n",
    "from colab_everything import ColabStreamlit\n",
    "ColabStreamlit('app.py')"
   ]
  },
  {
   "cell_type": "markdown",
   "metadata": {
    "id": "GUAHHR5ZjWi1"
   },
   "source": [
    "## Flask API"
   ]
  },
  {
   "cell_type": "markdown",
   "metadata": {
    "id": "IlPaLLHq4ENq"
   },
   "source": [
    "### server-side"
   ]
  },
  {
   "cell_type": "code",
   "execution_count": null,
   "metadata": {
    "id": "5fahnFX0lWUp"
   },
   "outputs": [],
   "source": [
    "%%writefile flask_app.py\n",
    "## ----flask_app.py---- ###\n",
    "\n",
    "import pandas as pd\n",
    "import numpy as np\n",
    "from PIL import Image\n",
    "from annoy import AnnoyIndex\n",
    "import glob\n",
    "import os\n",
    "import tensorflow as tf\n",
    "import tarfile\n",
    "import pickle\n",
    "from pathlib import Path\n",
    "import time\n",
    "from utils import encoder, indexer\n",
    "import io\n",
    "import base64\n",
    "\n",
    "from flask import Flask, request, jsonify, send_file\n",
    "\n",
    "_PPATH = '/content/drive/MyDrive/ImgSim/'\n",
    "\n",
    "start_time = time.time()\n",
    "encoder = encoder.encoder\n",
    "print(\"---Encoder--- %s seconds ---\" % (time.time() - start_time))\n",
    "\n",
    "topK = 6\n",
    "\n",
    "start_time = time.time()\n",
    "t = indexer.indexer\n",
    "print(\"---Indexer--- %s seconds ---\" % (time.time() - start_time))\n",
    "\n",
    "# load the meta data\n",
    "meta_data = pd.read_csv(_PPATH+'styles.csv')\n",
    "\n",
    "# load the mappings\n",
    "file_index_to_file_name = pickle.load(open(_PPATH+'file_index_to_file_name.p', 'rb'))\n",
    "file_index_to_file_vector = pickle.load(open(_PPATH+'file_index_to_file_vector.p', 'rb'))\n",
    "file_index_to_product_id = pickle.load(open(_PPATH+'file_index_to_product_id.p', 'rb'))\n",
    "\n",
    "# load image path mapping\n",
    "path_dict = {}\n",
    "for path in Path('/content/Fashion_data/categories').rglob('*.jpg'):\n",
    "  path_dict[path.name] = path\n",
    "\n",
    "def load_img(path):\n",
    "  img = tf.io.read_file(path)\n",
    "  img = tf.io.decode_jpeg(img, channels=3)\n",
    "  img = tf.image.resize_with_pad(img, 224, 224)\n",
    "  img  = tf.image.convert_image_dtype(img, tf.float32)[tf.newaxis, ...]\n",
    "  return img\n",
    "\n",
    "query_path = '/content/user_query.jpg'\n",
    "\n",
    "def get_encoded_img(img):\n",
    "    img_byte_arr = io.BytesIO()\n",
    "    img.save(img_byte_arr, format='PNG')\n",
    "    my_encoded_img = base64.encodebytes(img_byte_arr.getvalue()).decode('ascii')\n",
    "    return my_encoded_img\n",
    "\n",
    "\n",
    "app = Flask(__name__)\n",
    "\n",
    "@app.route(\"/fashion\", methods=[\"POST\"])\n",
    "def home():\n",
    "    file = request.files['image']\n",
    "    # Read the image via file.stream\n",
    "    img = Image.open(file.stream)\n",
    "    img.save(query_path)\n",
    "\n",
    "    start_time = time.time()\n",
    "    test_vec = np.squeeze(encoder(load_img(query_path)))\n",
    "    print(\"---Encoding--- %s seconds ---\" % (time.time() - start_time))\n",
    "\n",
    "    start_time = time.time()\n",
    "    nns = t.get_nns_by_vector(test_vec, n=topK)\n",
    "    print(\"---SimilarityIndex--- %s seconds ---\" % (time.time() - start_time))\n",
    "\n",
    "    img_files = {}\n",
    "    img_captions = {}\n",
    "\n",
    "    start_time = time.time()\n",
    "    for count, i in enumerate(nns):\n",
    "      #image files\n",
    "      img_path = str(path_dict[file_index_to_file_name[i]+'.jpg'])\n",
    "      img_file = Image.open(img_path)\n",
    "      img_files[count] = get_encoded_img(img_file)\n",
    "      #image captions\n",
    "      item_id = file_index_to_product_id[i]\n",
    "      img_caption = '\\n'.join([str(j) for j in list(meta_data.loc[item_id].values[-5:])])\n",
    "      img_captions[count] = img_caption\n",
    "    print(\"---Output--- %s seconds ---\" % (time.time() - start_time))\n",
    "\n",
    "    return jsonify(img_files)\n",
    "\n",
    "app.run(debug=True)"
   ]
  },
  {
   "cell_type": "code",
   "execution_count": null,
   "metadata": {
    "id": "X0ktfvwxlWQt"
   },
   "outputs": [
    {
     "name": "stdout",
     "output_type": "stream",
     "text": [
      "nohup: appending output to 'nohup.out'\n"
     ]
    }
   ],
   "source": [
    "!nohup python3 -u flask_app.py &"
   ]
  },
  {
   "cell_type": "markdown",
   "metadata": {
    "id": "k63_TOdX3_jU"
   },
   "source": [
    "### client-side"
   ]
  },
  {
   "cell_type": "code",
   "execution_count": null,
   "metadata": {
    "id": "DX7NLTjUIx-4"
   },
   "outputs": [],
   "source": [
    "from PIL import Image\n",
    "from io import BytesIO\n",
    "import base64\n",
    "import requests\n",
    "\n",
    "!wget -O 'img.jpg' -q 'https://images-na.ssl-images-amazon.com/images/I/61utX8kBDlL._UL1100_.jpg'\n",
    "\n",
    "url = 'http://localhost:5000/fashion'\n",
    "my_img = {'image': open('img.jpg', 'rb')}\n",
    "r = requests.post(url, files=my_img)\n",
    "\n",
    "imgs = []\n",
    "for i in range(6):\n",
    "  img = base64.decodebytes(r.json()[str(i)].encode('ascii'))\n",
    "  img = Image.open(BytesIO(img)).convert('RGBA')\n",
    "  imgs.append(img)\n",
    "\n",
    "imgs[1]"
   ]
  },
  {
   "cell_type": "markdown",
   "metadata": {
    "id": "dasr882iulPo"
   },
   "source": [
    "## Step 7: Deployment on AWS Elastic BeanStalk"
   ]
  },
  {
   "cell_type": "markdown",
   "metadata": {
    "id": "mlGzPLof6AQ5"
   },
   "source": [
    "The API was deployed on AWS cloud infrastructure using AWS Elastic Beanstalk service."
   ]
  },
  {
   "cell_type": "markdown",
   "metadata": {
    "id": "35dX1OE5ln20"
   },
   "source": [
    "<img src='https://www.notion.so/image/https%3A%2F%2Fs3-us-west-2.amazonaws.com%2Fsecure.notion-static.com%2F3305ebeb-315b-4d64-b0f7-315284f52790%2FUntitled.png?table=block&id=85c7129d-676e-4e50-9519-67a8dad0cbfa&spaceId=63b72b1f-0e90-4ab8-a6df-a060a6545a56&width=2000&userId=21ec183f-f0be-4b6b-9b3e-6f0d4e5c5469&cache=v2'>"
   ]
  },
  {
   "cell_type": "markdown",
   "metadata": {
    "id": "K-flZYOU3UHC"
   },
   "source": [
    "## application.py"
   ]
  },
  {
   "cell_type": "code",
   "execution_count": null,
   "metadata": {
    "id": "AQFwCf4Du_w6"
   },
   "outputs": [],
   "source": [
    "%%writefile ./ebsapp/application.py\n",
    "import os\n",
    "import zipfile\n",
    "import requests\n",
    "from tqdm import tqdm\n",
    "from shutil import move\n",
    "from pandas import read_csv\n",
    "from pathlib import Path\n",
    "import shutil\n",
    "import tensorflow as tf\n",
    "import tensorflow_hub as hub\n",
    "import numpy as np\n",
    "import pandas as pd\n",
    "import glob\n",
    "import json\n",
    "from tqdm import tqdm\n",
    "from annoy import AnnoyIndex\n",
    "from scipy import spatial\n",
    "import pickle\n",
    "import time\n",
    "from PIL import Image\n",
    "import tarfile\n",
    "import io\n",
    "import base64\n",
    "from flask import Flask, request, jsonify, send_file\n",
    "from flask import redirect, url_for, flash, render_template\n",
    "\n",
    "# path = Path(__file__)\n",
    "# _PPATH = str(path.parents[1])+'/'\n",
    "_PPATH = os.path.join(os.getcwd(), 'mytemp')\n",
    "\n",
    "def load_img(path):\n",
    "  img = tf.io.read_file(path)\n",
    "  img = tf.io.decode_jpeg(img, channels=3)\n",
    "  img = tf.image.resize_with_pad(img, 224, 224)\n",
    "  img  = tf.image.convert_image_dtype(img, tf.float32)[tf.newaxis, ...]\n",
    "  return img\n",
    "\n",
    "module_handle = \"https://tfhub.dev/google/imagenet/resnet_v2_50/feature_vector/4\"\n",
    "module = hub.load(module_handle)\n",
    "\n",
    "def allowed_file(filename):\n",
    "    return '.' in filename and \\\n",
    "           filename.rsplit('.', 1)[1].lower() in ALLOWED_EXTENSIONS\n",
    "\n",
    "topK = 5\n",
    "threshold = 0.3\n",
    "UPLOAD_FOLDER = _PPATH\n",
    "ALLOWED_EXTENSIONS = set(['zip'])\n",
    "\n",
    "application = Flask(__name__)\n",
    "           \n",
    "@application.route('/')\n",
    "def hello_world():\n",
    "    return \"Hello world!\"\n",
    "\n",
    "@application.route('/original_images', methods=['POST'])\n",
    "def upload_zip1():\n",
    "  os.makedirs(_PPATH, exist_ok=True)\n",
    "  shutil.rmtree(_PPATH)\n",
    "  os.makedirs(_PPATH, exist_ok=True)\n",
    "  os.chdir(_PPATH)\n",
    "  file = request.files['file']\n",
    "  if file and allowed_file(file.filename):\n",
    "      file.save(os.path.join(UPLOAD_FOLDER, 'zip1.zip'))\n",
    "\n",
    "  zip1_path = os.path.join(_PPATH, 'zip1.zip')\n",
    "  zip1_ipath = os.path.join(_PPATH, 'zip1')\n",
    "  os.makedirs(zip1_ipath, exist_ok=True)\n",
    "  with zipfile.ZipFile(zip1_path, 'r') as zip_ref:\n",
    "    zip_ref.extractall(os.path.join(_PPATH, 'zip1'))\n",
    "\n",
    "  img_paths = []\n",
    "  for path in Path(zip1_ipath).rglob('*.jpg'):\n",
    "    img_paths.append(path)\n",
    "\n",
    "  imgvec_path = os.path.join(_PPATH, 'vecs1')\n",
    "  Path(imgvec_path).mkdir(parents=True, exist_ok=True)\n",
    "\n",
    "  for filename in tqdm(img_paths):\n",
    "    outfile_name = os.path.basename(filename).split('.')[0] + \".npz\"\n",
    "    out_path_file = os.path.join(imgvec_path, outfile_name)\n",
    "    if not os.path.exists(out_path_file):\n",
    "      img = load_img(str(filename))\n",
    "      features = module(img)\n",
    "      feature_set = np.squeeze(features)\n",
    "      print(features.shape)\n",
    "      np.savetxt(out_path_file, feature_set, delimiter=',')\n",
    "\n",
    "  # Defining data structures as empty dict\n",
    "  file_index_to_file_name = {}\n",
    "  file_index_to_file_vector = {}\n",
    "\n",
    "  # Configuring annoy parameters\n",
    "  dims = 2048\n",
    "  n_nearest_neighbors = 20\n",
    "  trees = 10000\n",
    "\n",
    "  # Reads all file names which stores feature vectors \n",
    "  allfiles = glob.glob(os.path.join(_PPATH, 'vecs1', '*.npz'))\n",
    "\n",
    "  t = AnnoyIndex(dims, metric='angular')\n",
    "\n",
    "  for findex, fname in tqdm(enumerate(allfiles)):\n",
    "    file_vector = np.loadtxt(fname)\n",
    "    file_name = os.path.basename(fname).split('.')[0]\n",
    "    file_index_to_file_name[findex] = file_name\n",
    "    file_index_to_file_vector[findex] = file_vector\n",
    "    t.add_item(findex, file_vector)\n",
    "\n",
    "  t.build(trees)\n",
    "\n",
    "  file_path = os.path.join(_PPATH,'models/indices/')\n",
    "  Path(file_path).mkdir(parents=True, exist_ok=True)\n",
    "\n",
    "  t.save(file_path+'indexer.ann')\n",
    "  pickle.dump(file_index_to_file_name, open(file_path+\"file_index_to_file_name.p\", \"wb\"))\n",
    "  pickle.dump(file_index_to_file_vector, open(file_path+\"file_index_to_file_vector.p\", \"wb\"))\n",
    "\n",
    "  return 'File processed on the server status OK!'\n",
    "\n",
    "@application.route('/test_images', methods=['POST'])\n",
    "def upload_zip2():\n",
    "  os.chdir(_PPATH)\n",
    "  file = request.files['file']\n",
    "  if file and allowed_file(file.filename):\n",
    "      file.save(os.path.join(UPLOAD_FOLDER, 'zip2.zip'))\n",
    "\n",
    "  zip2_path = os.path.join(_PPATH, 'zip2.zip')\n",
    "  zip2_ipath = os.path.join(_PPATH, 'zip2')\n",
    "  os.makedirs(zip2_ipath, exist_ok=True)\n",
    "  with zipfile.ZipFile(zip2_path, 'r') as zip_ref:\n",
    "    zip_ref.extractall(os.path.join(_PPATH, 'zip2'))\n",
    "\n",
    "  query_files = []\n",
    "  for path in Path(zip2_ipath).rglob('*.jpg'):\n",
    "    query_files.append(path)\n",
    "  \n",
    "  dims = 2048\n",
    "  indexer = AnnoyIndex(dims, 'angular')\n",
    "  indexer.load(os.path.join(_PPATH,'models/indices/indexer.ann'))\n",
    "  file_index_to_file_name = pickle.load(open(os.path.join(_PPATH,'models/indices/file_index_to_file_name.p'), 'rb'))\n",
    "\n",
    "  results = pd.DataFrame(columns=['qid','fname','dist'])\n",
    "\n",
    "  for q in query_files:\n",
    "    temp_vec = np.squeeze(module(load_img(str(q))))\n",
    "    nns = indexer.get_nns_by_vector(temp_vec, n=topK, include_distances=True)\n",
    "    col1 = [q.stem]*topK\n",
    "    col2 = [file_index_to_file_name[x] for x in nns[0]]\n",
    "    col3 = nns[1]\n",
    "    results = results.append(pd.DataFrame({'qid':col1,'fname':col2,'dist':col3}))\n",
    "    results = results[results.dist<=threshold]\n",
    "  \n",
    "  results = results.reset_index(drop=True).T.to_json()\n",
    "  return results\n",
    "  \n",
    " # run the app.\n",
    "if __name__ == \"__main__\":\n",
    "    # Setting debug to True enables debug output. This line should be\n",
    "    # removed before deploying a production app.\n",
    "    application.debug = True\n",
    "    application.run()"
   ]
  },
  {
   "cell_type": "markdown",
   "metadata": {
    "id": "ckTHq6dl3bp0"
   },
   "source": [
    "## requirements.txt"
   ]
  },
  {
   "cell_type": "code",
   "execution_count": null,
   "metadata": {
    "id": "UHjFGVqDu_ut"
   },
   "outputs": [],
   "source": [
    "%%writefile ./ebsapp/requirements.txt\n",
    "annoy==1.16.3\n",
    "Pillow==2.2.2\n",
    "click==7.1.2\n",
    "Flask==1.1.2\n",
    "itsdangerous==1.1.0\n",
    "Jinja2==2.11.2\n",
    "MarkupSafe==1.1.1\n",
    "Werkzeug==1.0.1\n",
    "numpy==1.18.5\n",
    "pandas==1.0.5\n",
    "pathlib==1.0.1\n",
    "pip-tools==4.5.1\n",
    "requests==2.23.0\n",
    "scipy==1.4.1\n",
    "tensorflow==2.0.0b1\n",
    "tensorflow-hub==0.8.0\n",
    "tqdm==4.41.1\n",
    "urllib3==1.24.3\n",
    "zipfile36==0.1.3"
   ]
  },
  {
   "cell_type": "markdown",
   "metadata": {
    "id": "OQ2y7D2L3d6h"
   },
   "source": [
    "## packages.config"
   ]
  },
  {
   "cell_type": "code",
   "execution_count": null,
   "metadata": {
    "id": "kc9FLbpVvj4S"
   },
   "outputs": [],
   "source": [
    "%%writefile ./ebsapp/.ebextensions/01_packages.config\n",
    "packages:\n",
    "  yum:\n",
    "    gcc-c++: []\n",
    "    unixODBC-devel: []\n",
    "files:\n",
    "  \"/etc/httpd/conf.d/wsgi_custom.conf\":\n",
    "    mode: \"000644\"\n",
    "    owner: root\n",
    "    group: root\n",
    "    content: |\n",
    "      WSGIApplicationGroup %{GLOBAL}"
   ]
  },
  {
   "cell_type": "markdown",
   "metadata": {
    "id": "w0y_hOmR3pPq"
   },
   "source": [
    "## extras\n",
    "some handy EBS commands"
   ]
  },
  {
   "cell_type": "code",
   "execution_count": null,
   "metadata": {
    "id": "vJRxjqlwtIu_"
   },
   "outputs": [],
   "source": [
    "# !pip install aws.sam.cli\n",
    "# !sam init\n",
    "\n",
    "# %cd my-app\n",
    "\n",
    "# !git config --global user.email \"<email>\"\n",
    "# !git config --global user.name  \"sparsh-ai\"\n",
    "# !git init\n",
    "# !git status\n",
    "# !git add .\n",
    "# !git commit -m 'commit'\n",
    "\n",
    "# !pip install awscli\n",
    "# !aws configure\n",
    "\n",
    "# !sam build && sam deploy\n",
    "# !pip install flask-lambda-python36\n",
    "\n",
    "# !aws ec2 create-key-pair --key-name MyKeyPair --query 'KeyMaterial' --output text > MyKeyPair.pem\n",
    "# !chmod 400 MyKeyPair.pem\n",
    "# !aws ec2 describe-instances --filters \"Name=instance-type,Values=t2.micro\" --query \"Reservations[].Instances[].InstanceId\"\n",
    "# !ssh -i MyKeyPair.pem ec2-user@ec2-50-xx-xx-xxx.compute-1.amazonaws.com\n",
    "\n",
    "# !git clone https://github.com/aws/aws-elastic-beanstalk-cli-setup.git\n",
    "# build-essential zlib1g-dev libssl-dev libncurses-dev libffi-dev libsqlite3-dev libreadline-dev libbz2-dev\n",
    "\n",
    "# !pip install awscli\n",
    "# !pip install awsebcli\n",
    "# !aws configure\n",
    "\n",
    "# !mkdir eb-flask\n",
    "# %cd eb-flask\n",
    "\n",
    "# python --version\n",
    "# pip install awsebcli --upgrade --user\n",
    "# eb --version\n",
    "# mkdir eb-flask\n",
    "# cd eb-flask\n",
    "# pip install virtualenv\n",
    "# virtualenv virt\n",
    "# source virt/bin/activate\n",
    "# pip install flask\n",
    "# pip freeze\n",
    "# pip freeze > requirements.txt\n",
    "# python application.py\n",
    "# eb init -p python-3.6 my-app --region us-east-1\n",
    "# pip install zip-files"
   ]
  },
  {
   "cell_type": "markdown",
   "metadata": {
    "id": "hrVZMaXPlstO"
   },
   "source": [
    "<img src='https://www.notion.so/image/https%3A%2F%2Fs3-us-west-2.amazonaws.com%2Fsecure.notion-static.com%2Fb36990f1-5047-4dfe-bba4-56ce313b492d%2FUntitled.png?table=block&id=4484897f-c470-4453-9ce7-651171ad5e6e&spaceId=63b72b1f-0e90-4ab8-a6df-a060a6545a56&width=2000&userId=21ec183f-f0be-4b6b-9b3e-6f0d4e5c5469&cache=v2'>"
   ]
  }
 ],
 "metadata": {
  "accelerator": "GPU",
  "colab": {
   "collapsed_sections": [],
   "name": "T051777_image_similarity_recommendations.ipynb",
   "toc_visible": true
  },
  "kernelspec": {
   "display_name": "Python 3",
   "name": "python3"
  }
 },
 "nbformat": 4,
 "nbformat_minor": 0
}