{
 "cells": [
  {
   "cell_type": "markdown",
   "metadata": {
    "id": "pSyOXuQv7RGx"
   },
   "source": [
    "# Building Models from scratch\n",
    "> Applying various MF and Deep learning recommender models on movielens 100k."
   ]
  },
  {
   "cell_type": "markdown",
   "metadata": {
    "id": "nyQlzit4qwZg"
   },
   "source": [
    "## Imports"
   ]
  },
  {
   "cell_type": "code",
   "execution_count": null,
   "metadata": {
    "id": "PwfX0h11vXPt"
   },
   "outputs": [
    {
     "name": "stdout",
     "output_type": "stream",
     "text": [
      "TensorFlow 1.x selected.\n"
     ]
    }
   ],
   "source": [
    "%tensorflow_version 1.x"
   ]
  },
  {
   "cell_type": "code",
   "execution_count": null,
   "metadata": {
    "id": "7kMaXO6ypymg"
   },
   "outputs": [],
   "source": [
    "import math\n",
    "import numpy as np\n",
    "import pandas as pd\n",
    "\n",
    "from pylab import *\n",
    "import matplotlib\n",
    "import matplotlib.pyplot as plt\n",
    "\n",
    "from sklearn.model_selection import train_test_split\n",
    "from sklearn.metrics import mean_absolute_error, mean_squared_error\n",
    "\n",
    "import tensorflow as tf\n",
    "\n",
    "%matplotlib inline"
   ]
  },
  {
   "cell_type": "markdown",
   "metadata": {
    "id": "4xYEBXL2qdp4"
   },
   "source": [
    "## Data utils"
   ]
  },
  {
   "cell_type": "code",
   "execution_count": null,
   "metadata": {
    "id": "l9Tbu8YbqcCZ"
   },
   "outputs": [],
   "source": [
    "def load_data(file_dir):\n",
    "    # output: \n",
    "    # N: the number of user;\n",
    "    # M: the number of item\n",
    "    # data: the list of rating information\n",
    "    user_ids_dict, rated_item_ids_dict = {},{}\n",
    "    N, M, u_idx, i_idx = 0,0,0,0 \n",
    "    data = []\n",
    "    f = open(file_dir)\n",
    "    for line in f.readlines():\n",
    "        if '::' in line:\n",
    "            u, i, r, _ = line.split('::')\n",
    "        else:\n",
    "            u, i, r, _ = line.split()\n",
    "    \n",
    "        if int(u) not in user_ids_dict:\n",
    "            user_ids_dict[int(u)]=u_idx\n",
    "            u_idx+=1\n",
    "        if int(i) not in rated_item_ids_dict:\n",
    "            rated_item_ids_dict[int(i)]=i_idx\n",
    "            i_idx+=1\n",
    "        data.append([user_ids_dict[int(u)],rated_item_ids_dict[int(i)],float(r)])\n",
    "    \n",
    "    f.close()\n",
    "    N = u_idx\n",
    "    M = i_idx\n",
    "\n",
    "    return N, M, data, rated_item_ids_dict\n",
    "\t\n",
    "\n",
    "def sequence2mat(sequence, N, M):\n",
    "    # input:\n",
    "    # sequence: the list of rating information\n",
    "    # N: row number, i.e. the number of users\n",
    "    # M: column number, i.e. the number of items\n",
    "    # output:\n",
    "    # mat: user-item rating matrix\n",
    "    records_array = np.array(sequence)\n",
    "    mat = np.zeros([N,M])\n",
    "    row = records_array[:,0].astype(int)\n",
    "    col = records_array[:,1].astype(int)\n",
    "    values = records_array[:,2].astype(np.float32)\n",
    "    mat[row,col]=values\n",
    "    \n",
    "    return mat"
   ]
  },
  {
   "cell_type": "markdown",
   "metadata": {
    "id": "Knvcmsydq2bU"
   },
   "source": [
    "## Data download"
   ]
  },
  {
   "cell_type": "code",
   "execution_count": null,
   "metadata": {
    "id": "4Uw0eStMq3s1"
   },
   "outputs": [],
   "source": [
    "!wget http://files.grouplens.org/datasets/movielens/ml-100k.zip\n",
    "!unzip ml-100k.zip"
   ]
  },
  {
   "cell_type": "markdown",
   "metadata": {
    "id": "sYcCrA4fuWlT"
   },
   "source": [
    "## Data loading"
   ]
  },
  {
   "cell_type": "code",
   "execution_count": null,
   "metadata": {
    "id": "esRh9cRgw9ud"
   },
   "outputs": [],
   "source": [
    "data_col = ['user_id','item_id','rating','timestamp']\n",
    " \n",
    "item_col = ['movie_id','movie_title','release_date','video_release_date','IMDb_URL','unknown','Action',\n",
    "           'Adventure','Animation',\"Children's\",'Comedy','Crime','Documentary','Drama','Fantasy',\n",
    "           'Film-Noir','Horror','Musical','Mystery','Romance','Sci-Fi','Thriller','War','Western']\n",
    " \n",
    "data_dir = 'ml-100k/u.data' \n",
    "data = pd.read_table(data_dir,header=None, names=data_col, parse_dates=['timestamp'])\n",
    " \n",
    "item_dir = 'ml-100k/u.item'\n",
    "item = pd.read_table(item_dir, header=None, names=item_col, parse_dates=['release_date','video_release_date'], encoding='ISO-8859-1', sep='|')"
   ]
  },
  {
   "cell_type": "code",
   "execution_count": null,
   "metadata": {
    "id": "iTkDPpl5w9pt"
   },
   "outputs": [
    {
     "data": {
      "text/html": [
       "<div>\n",
       "<style scoped>\n",
       "    .dataframe tbody tr th:only-of-type {\n",
       "        vertical-align: middle;\n",
       "    }\n",
       "\n",
       "    .dataframe tbody tr th {\n",
       "        vertical-align: top;\n",
       "    }\n",
       "\n",
       "    .dataframe thead th {\n",
       "        text-align: right;\n",
       "    }\n",
       "</style>\n",
       "<table border=\"1\" class=\"dataframe\">\n",
       "  <thead>\n",
       "    <tr style=\"text-align: right;\">\n",
       "      <th></th>\n",
       "      <th>movie_id</th>\n",
       "      <th>movie_title</th>\n",
       "      <th>release_date</th>\n",
       "      <th>video_release_date</th>\n",
       "      <th>IMDb_URL</th>\n",
       "      <th>unknown</th>\n",
       "      <th>Action</th>\n",
       "      <th>Adventure</th>\n",
       "      <th>Animation</th>\n",
       "      <th>Children's</th>\n",
       "      <th>Comedy</th>\n",
       "      <th>Crime</th>\n",
       "      <th>Documentary</th>\n",
       "      <th>Drama</th>\n",
       "      <th>Fantasy</th>\n",
       "      <th>Film-Noir</th>\n",
       "      <th>Horror</th>\n",
       "      <th>Musical</th>\n",
       "      <th>Mystery</th>\n",
       "      <th>Romance</th>\n",
       "      <th>Sci-Fi</th>\n",
       "      <th>Thriller</th>\n",
       "      <th>War</th>\n",
       "      <th>Western</th>\n",
       "    </tr>\n",
       "  </thead>\n",
       "  <tbody>\n",
       "    <tr>\n",
       "      <th>0</th>\n",
       "      <td>1</td>\n",
       "      <td>Toy Story (1995)</td>\n",
       "      <td>1995-01-01</td>\n",
       "      <td>NaT</td>\n",
       "      <td>http://us.imdb.com/M/title-exact?Toy%20Story%2...</td>\n",
       "      <td>0</td>\n",
       "      <td>0</td>\n",
       "      <td>0</td>\n",
       "      <td>1</td>\n",
       "      <td>1</td>\n",
       "      <td>1</td>\n",
       "      <td>0</td>\n",
       "      <td>0</td>\n",
       "      <td>0</td>\n",
       "      <td>0</td>\n",
       "      <td>0</td>\n",
       "      <td>0</td>\n",
       "      <td>0</td>\n",
       "      <td>0</td>\n",
       "      <td>0</td>\n",
       "      <td>0</td>\n",
       "      <td>0</td>\n",
       "      <td>0</td>\n",
       "      <td>0</td>\n",
       "    </tr>\n",
       "    <tr>\n",
       "      <th>1</th>\n",
       "      <td>2</td>\n",
       "      <td>GoldenEye (1995)</td>\n",
       "      <td>1995-01-01</td>\n",
       "      <td>NaT</td>\n",
       "      <td>http://us.imdb.com/M/title-exact?GoldenEye%20(...</td>\n",
       "      <td>0</td>\n",
       "      <td>1</td>\n",
       "      <td>1</td>\n",
       "      <td>0</td>\n",
       "      <td>0</td>\n",
       "      <td>0</td>\n",
       "      <td>0</td>\n",
       "      <td>0</td>\n",
       "      <td>0</td>\n",
       "      <td>0</td>\n",
       "      <td>0</td>\n",
       "      <td>0</td>\n",
       "      <td>0</td>\n",
       "      <td>0</td>\n",
       "      <td>0</td>\n",
       "      <td>0</td>\n",
       "      <td>1</td>\n",
       "      <td>0</td>\n",
       "      <td>0</td>\n",
       "    </tr>\n",
       "    <tr>\n",
       "      <th>2</th>\n",
       "      <td>3</td>\n",
       "      <td>Four Rooms (1995)</td>\n",
       "      <td>1995-01-01</td>\n",
       "      <td>NaT</td>\n",
       "      <td>http://us.imdb.com/M/title-exact?Four%20Rooms%...</td>\n",
       "      <td>0</td>\n",
       "      <td>0</td>\n",
       "      <td>0</td>\n",
       "      <td>0</td>\n",
       "      <td>0</td>\n",
       "      <td>0</td>\n",
       "      <td>0</td>\n",
       "      <td>0</td>\n",
       "      <td>0</td>\n",
       "      <td>0</td>\n",
       "      <td>0</td>\n",
       "      <td>0</td>\n",
       "      <td>0</td>\n",
       "      <td>0</td>\n",
       "      <td>0</td>\n",
       "      <td>0</td>\n",
       "      <td>1</td>\n",
       "      <td>0</td>\n",
       "      <td>0</td>\n",
       "    </tr>\n",
       "    <tr>\n",
       "      <th>3</th>\n",
       "      <td>4</td>\n",
       "      <td>Get Shorty (1995)</td>\n",
       "      <td>1995-01-01</td>\n",
       "      <td>NaT</td>\n",
       "      <td>http://us.imdb.com/M/title-exact?Get%20Shorty%...</td>\n",
       "      <td>0</td>\n",
       "      <td>1</td>\n",
       "      <td>0</td>\n",
       "      <td>0</td>\n",
       "      <td>0</td>\n",
       "      <td>1</td>\n",
       "      <td>0</td>\n",
       "      <td>0</td>\n",
       "      <td>1</td>\n",
       "      <td>0</td>\n",
       "      <td>0</td>\n",
       "      <td>0</td>\n",
       "      <td>0</td>\n",
       "      <td>0</td>\n",
       "      <td>0</td>\n",
       "      <td>0</td>\n",
       "      <td>0</td>\n",
       "      <td>0</td>\n",
       "      <td>0</td>\n",
       "    </tr>\n",
       "    <tr>\n",
       "      <th>4</th>\n",
       "      <td>5</td>\n",
       "      <td>Copycat (1995)</td>\n",
       "      <td>1995-01-01</td>\n",
       "      <td>NaT</td>\n",
       "      <td>http://us.imdb.com/M/title-exact?Copycat%20(1995)</td>\n",
       "      <td>0</td>\n",
       "      <td>0</td>\n",
       "      <td>0</td>\n",
       "      <td>0</td>\n",
       "      <td>0</td>\n",
       "      <td>0</td>\n",
       "      <td>1</td>\n",
       "      <td>0</td>\n",
       "      <td>1</td>\n",
       "      <td>0</td>\n",
       "      <td>0</td>\n",
       "      <td>0</td>\n",
       "      <td>0</td>\n",
       "      <td>0</td>\n",
       "      <td>0</td>\n",
       "      <td>0</td>\n",
       "      <td>1</td>\n",
       "      <td>0</td>\n",
       "      <td>0</td>\n",
       "    </tr>\n",
       "  </tbody>\n",
       "</table>\n",
       "</div>"
      ],
      "text/plain": [
       "   movie_id        movie_title release_date  ... Thriller War  Western\n",
       "0         1   Toy Story (1995)   1995-01-01  ...        0   0        0\n",
       "1         2   GoldenEye (1995)   1995-01-01  ...        1   0        0\n",
       "2         3  Four Rooms (1995)   1995-01-01  ...        1   0        0\n",
       "3         4  Get Shorty (1995)   1995-01-01  ...        0   0        0\n",
       "4         5     Copycat (1995)   1995-01-01  ...        1   0        0\n",
       "\n",
       "[5 rows x 24 columns]"
      ]
     },
     "execution_count": 29,
     "metadata": {
      "tags": []
     },
     "output_type": "execute_result"
    }
   ],
   "source": [
    "item.head()"
   ]
  },
  {
   "cell_type": "code",
   "execution_count": null,
   "metadata": {
    "id": "LrgynatixM1-"
   },
   "outputs": [
    {
     "data": {
      "text/html": [
       "<div>\n",
       "<style scoped>\n",
       "    .dataframe tbody tr th:only-of-type {\n",
       "        vertical-align: middle;\n",
       "    }\n",
       "\n",
       "    .dataframe tbody tr th {\n",
       "        vertical-align: top;\n",
       "    }\n",
       "\n",
       "    .dataframe thead th {\n",
       "        text-align: right;\n",
       "    }\n",
       "</style>\n",
       "<table border=\"1\" class=\"dataframe\">\n",
       "  <thead>\n",
       "    <tr style=\"text-align: right;\">\n",
       "      <th></th>\n",
       "      <th>user_id</th>\n",
       "      <th>item_id</th>\n",
       "      <th>rating</th>\n",
       "      <th>timestamp</th>\n",
       "    </tr>\n",
       "  </thead>\n",
       "  <tbody>\n",
       "    <tr>\n",
       "      <th>0</th>\n",
       "      <td>196</td>\n",
       "      <td>242</td>\n",
       "      <td>3</td>\n",
       "      <td>881250949</td>\n",
       "    </tr>\n",
       "    <tr>\n",
       "      <th>1</th>\n",
       "      <td>186</td>\n",
       "      <td>302</td>\n",
       "      <td>3</td>\n",
       "      <td>891717742</td>\n",
       "    </tr>\n",
       "    <tr>\n",
       "      <th>2</th>\n",
       "      <td>22</td>\n",
       "      <td>377</td>\n",
       "      <td>1</td>\n",
       "      <td>878887116</td>\n",
       "    </tr>\n",
       "    <tr>\n",
       "      <th>3</th>\n",
       "      <td>244</td>\n",
       "      <td>51</td>\n",
       "      <td>2</td>\n",
       "      <td>880606923</td>\n",
       "    </tr>\n",
       "    <tr>\n",
       "      <th>4</th>\n",
       "      <td>166</td>\n",
       "      <td>346</td>\n",
       "      <td>1</td>\n",
       "      <td>886397596</td>\n",
       "    </tr>\n",
       "  </tbody>\n",
       "</table>\n",
       "</div>"
      ],
      "text/plain": [
       "   user_id  item_id  rating  timestamp\n",
       "0      196      242       3  881250949\n",
       "1      186      302       3  891717742\n",
       "2       22      377       1  878887116\n",
       "3      244       51       2  880606923\n",
       "4      166      346       1  886397596"
      ]
     },
     "execution_count": 30,
     "metadata": {
      "tags": []
     },
     "output_type": "execute_result"
    }
   ],
   "source": [
    "data.head()"
   ]
  },
  {
   "cell_type": "code",
   "execution_count": null,
   "metadata": {
    "id": "8FRK6CykuV1a"
   },
   "outputs": [
    {
     "name": "stdout",
     "output_type": "stream",
     "text": [
      " data length: 100000 \n",
      " user number: 943 \n",
      " item number: 1682\n"
     ]
    }
   ],
   "source": [
    "data_dir = 'ml-100k/u.data' \n",
    "N, M, data_list, _ = load_data(file_dir=data_dir)\n",
    "print(' data length: %d \\n user number: %d \\n item number: %d' %(len(data_list),N,M))"
   ]
  },
  {
   "cell_type": "markdown",
   "metadata": {
    "id": "WA4hLCNHugGn"
   },
   "source": [
    "## Train test split"
   ]
  },
  {
   "cell_type": "code",
   "execution_count": null,
   "metadata": {
    "id": "AJsuK4squcX8"
   },
   "outputs": [
    {
     "name": "stdout",
     "output_type": "stream",
     "text": [
      "train length: 80000 \n",
      " test length: 20000\n"
     ]
    }
   ],
   "source": [
    "train_list, test_list = train_test_split(data_list,test_size=0.2)\n",
    "print ('train length: %d \\n test length: %d' %(len(train_list),len(test_list)))"
   ]
  },
  {
   "cell_type": "code",
   "execution_count": null,
   "metadata": {
    "id": "S4EXPPHJucUT"
   },
   "outputs": [
    {
     "data": {
      "text/plain": [
       "array([3., 0., 0., 0., 0., 0., 0., 0., 0., 0., 2., 0., 0., 0., 0., 0., 0.,\n",
       "       0., 0., 0., 0., 0., 0., 0., 0., 0., 0., 0., 0., 0., 0., 0., 0., 0.,\n",
       "       0., 0., 0., 0., 0., 0., 0., 0., 0., 0., 0., 0., 0., 0., 0., 0., 0.,\n",
       "       0., 0., 0., 0., 0., 0., 0., 0., 0., 0., 0., 0., 0., 0., 0., 0., 0.,\n",
       "       0., 0., 0., 0., 0., 0., 0., 0., 0., 0., 0., 0., 0., 0., 0., 4., 0.,\n",
       "       0., 4., 0., 0., 0., 0., 0., 4., 0., 0., 0., 0., 0., 0., 0.])"
      ]
     },
     "execution_count": 32,
     "metadata": {
      "tags": []
     },
     "output_type": "execute_result"
    }
   ],
   "source": [
    "train_mat = sequence2mat(sequence = train_list, N = N, M = M)\n",
    "test_mat = sequence2mat(sequence = test_list, N = N, M = M)\n",
    "train_mat[0,:100]"
   ]
  },
  {
   "cell_type": "markdown",
   "metadata": {
    "id": "VVkAtg8OqVM3"
   },
   "source": [
    "## Evaluation policy"
   ]
  },
  {
   "cell_type": "code",
   "execution_count": null,
   "metadata": {
    "id": "y9AcNHGGqKjs"
   },
   "outputs": [],
   "source": [
    "def get_topn(r_pred, train_mat, n=10):\n",
    "    unrated_items = r_pred * (train_mat==0)\n",
    "    idx = np.argsort(-unrated_items)\n",
    "    return idx[:,:n]\n",
    "\n",
    "\n",
    "def recall_precision(topn, test_mat):\n",
    "    n,m = test_mat.shape\n",
    "    hits,total_pred,total_true = 0.,0.,0.\n",
    "    for u in range(n):\n",
    "        hits += len([i for i in topn[u,:] if test_mat[u,i]>0])\n",
    "        size_pred = len(topn[u,:])\n",
    "        size_true = np.sum(test_mat[u,:]>0,axis=0)\n",
    "        total_pred += size_pred\n",
    "        total_true += size_true\n",
    "\n",
    "    recall = hits/total_true\n",
    "    precision = hits/total_pred\n",
    "    return recall, precision\t\n",
    "\t\n",
    "\t\n",
    "def mae_rmse(r_pred, test_mat):\n",
    "    y_pred = r_pred[test_mat>0]\n",
    "    y_true = test_mat[test_mat>0]\n",
    "    mae = mean_absolute_error(y_true, y_pred)\n",
    "    rmse = np.sqrt(mean_squared_error(y_true, y_pred))\n",
    "    return mae, rmse \n",
    "\n",
    "\n",
    "def evaluation(pred_mat, train_mat, test_mat):\n",
    "    topn = get_topn(pred_mat, train_mat, n=10)\n",
    "    mae, rmse = mae_rmse(pred_mat, test_mat)\n",
    "    recall, precision = recall_precision(topn, test_mat)\n",
    "    return mae, rmse, recall, precision\n",
    "\t\n",
    "\t\n",
    "def get_hit(ranklist,rated_item):\n",
    "    result = 0\n",
    "    for item in ranklist:\n",
    "        if item==rated_item:\n",
    "            result = 1\n",
    "    return result\n",
    "    \n",
    "    \n",
    "def get_ndcg(ranklist,rated_item):\n",
    "    result = 0\n",
    "    for i in range(len(ranklist)):\n",
    "        item = ranklist[i]\n",
    "        if item==rated_item:\n",
    "            result = math.log(2)/math.log(i+2)\n",
    "    return result\n",
    "\n",
    "\n",
    "def hit_ndcg(test_sequence, ranklist):\n",
    "    length = len(test_sequence)\n",
    "    hits,ndcgs=[],[]\n",
    "    for idx in range(length):\n",
    "        user = test_sequence[idx,0].astype(np.int32)\n",
    "        rated_item = test_sequence[idx,1].astype(np.int32)\n",
    "        hr = get_hit(ranklist[user],rated_item)\n",
    "        ndcg = get_ndcg(ranklist[user],rated_item)\n",
    "        hits.append(hr)\n",
    "        ndcgs.append(ndcg)\n",
    "    #hr,ndcg = np.array(hits).mean(),np.array(ndcgs).mean()\n",
    "    return hits,ndcgs\t"
   ]
  },
  {
   "cell_type": "code",
   "execution_count": null,
   "metadata": {
    "id": "mlC5tvsGvNwh"
   },
   "outputs": [],
   "source": [
    "def plot_figure(values_list, name=''):\n",
    "    fig=plt.figure(name)\n",
    "    x = range(len(values_list))\n",
    "    plot(x, values_list, color='g',linewidth=3)\n",
    "    plt.title(name + ' curve')\n",
    "    plt.xlabel('Iterations')\n",
    "    plt.ylabel(name)\n",
    "    show()"
   ]
  },
  {
   "cell_type": "markdown",
   "metadata": {
    "id": "FGkcdMF5xsRv"
   },
   "source": [
    "## KNN"
   ]
  },
  {
   "cell_type": "markdown",
   "metadata": {
    "id": "wzRSR7zf2ejq"
   },
   "source": [
    "<img src='https://www.notion.so/image/https%3A%2F%2Fs3-us-west-2.amazonaws.com%2Fsecure.notion-static.com%2Fa871d8c9-2e22-4ce2-a116-3df42a311c39%2FUntitled.png?table=block&id=3297877c-9136-4e02-9c6a-7ada7d41165c&spaceId=63b72b1f-0e90-4ab8-a6df-a060a6545a56&width=2000&userId=21ec183f-f0be-4b6b-9b3e-6f0d4e5c5469&cache=v2'>"
   ]
  },
  {
   "cell_type": "code",
   "execution_count": null,
   "metadata": {
    "id": "flScGexcxuQS"
   },
   "outputs": [],
   "source": [
    "def calculate_similarity(a, b, model='pearson', minimum_common_items=5):\n",
    "    assert a.shape==b.shape\n",
    "    dim = len(a.shape) #向量维度\n",
    "    common_items = a*b>0 # 共同评分的项\n",
    "    common_size = np.sum(common_items,axis=dim-1)\n",
    "    \n",
    "    if model=='pearson':\n",
    "        mean_a = np.sum(a,axis=dim-1)/np.sum(a>0,axis=dim-1)\n",
    "        mean_b = np.sum(b,axis=dim-1)/np.sum(b>0,axis=dim-1)\n",
    "        if dim ==1:\n",
    "            aa = (a - mean_a)*common_items\n",
    "            bb = (b - mean_b)*common_items\n",
    "        else:\n",
    "            aa = (a - np.reshape(mean_a, (-1,1)))*common_items\n",
    "            bb = (b - np.reshape(mean_b, (-1,1)))*common_items\n",
    "    else: #consine\n",
    "        mean_u = np.sum(b,axis=0)/np.sum(b>0,axis=0)\n",
    "        aa = (a - mean_u)*common_items\n",
    "        bb = (b - mean_u)*common_items\n",
    "        \n",
    "    sim = np.sum(aa*bb, axis=dim-1)/(np.sqrt(np.sum(aa**2, axis=dim-1))*np.sqrt(np.sum(bb**2, axis=dim-1)) + 1e-10)\n",
    "    least_common_items = common_size>minimum_common_items\n",
    "    return sim*least_common_items"
   ]
  },
  {
   "cell_type": "code",
   "execution_count": null,
   "metadata": {
    "id": "0XO5F1q9xuMz"
   },
   "outputs": [],
   "source": [
    "def similarity_matrix(mat, model='pearson', minimum_common_items=5):\n",
    "    n,m = mat.shape\n",
    "    sim_list=[]\n",
    "    for u in range(n):\n",
    "        a = np.tile(mat[u,:], (n,1))\n",
    "        b = mat\n",
    "        if model=='pearson':\n",
    "            sim = calculate_similarity(a, b, model='pearson', minimum_common_items=minimum_common_items)\n",
    "        else: # consine\n",
    "            sim = calculate_similarity(a, b, model='consine', minimum_common_items=minimum_common_items)\n",
    "        sim_list.append(sim)\n",
    "        if u % 100 ==0:\n",
    "            print(u)\n",
    "    return np.array(sim_list)"
   ]
  },
  {
   "cell_type": "code",
   "execution_count": null,
   "metadata": {
    "id": "we_GmLgdxuHu"
   },
   "outputs": [
    {
     "name": "stdout",
     "output_type": "stream",
     "text": [
      "0\n",
      "100\n",
      "200\n",
      "300\n",
      "400\n",
      "500\n",
      "600\n",
      "700\n",
      "800\n",
      "900\n"
     ]
    }
   ],
   "source": [
    "sim_mat = similarity_matrix(mat=train_mat, model='pearson')\n",
    "neighbors = np.argsort(-np.array(sim_mat))\n",
    "sim_sort = -1*np.sort(-np.array(sim_mat))"
   ]
  },
  {
   "cell_type": "code",
   "execution_count": null,
   "metadata": {
    "id": "JD0QuQLaxuDT"
   },
   "outputs": [
    {
     "name": "stdout",
     "output_type": "stream",
     "text": [
      "user 0:\n",
      "neighbors:\n",
      "[  0 768 542  23 842 340 626 140 501 311]\n",
      "sim:\n",
      "\n",
      "[1.     0.8819 0.8712 0.7861 0.7826 0.7512 0.7492 0.7405 0.739  0.6876]\n",
      "similarity_mat:\n",
      "[[ 1.      0.      0.5462  0.3105  0.     -0.    ]\n",
      " [ 0.      1.     -0.0122 -0.1385  0.     -0.2046]\n",
      " [ 0.5462 -0.0122  1.      0.1852  0.      0.306 ]\n",
      " [ 0.3105 -0.1385  0.1852  1.      0.      0.0444]\n",
      " [ 0.      0.      0.      0.      1.      0.    ]\n",
      " [-0.     -0.2046  0.306   0.0444  0.      1.    ]]\n"
     ]
    }
   ],
   "source": [
    "np.set_printoptions(precision=4, suppress=True)\n",
    "print('user 0:')\n",
    "print('neighbors:') # 用户0的近邻\n",
    "print(neighbors[0,:10])\n",
    "print('sim:\\n') # 用户0 的近邻相似度\n",
    "print(sim_sort[0,:10])\n",
    "print('similarity_mat:') # 用户之间的相似度矩阵\n",
    "print(sim_mat[:6,:6])"
   ]
  },
  {
   "cell_type": "code",
   "execution_count": null,
   "metadata": {
    "id": "8Yg5OGiqxt_a"
   },
   "outputs": [],
   "source": [
    "def get_K(sim_mat, min_similarity=0.5):\n",
    "    num = np.sum(sim_mat[:,1:]>min_similarity, axis=1)\n",
    "    plt.rcParams['font.sans-serif'] = [u'SimHei']\n",
    "    plt.rcParams['axes.unicode_minus'] = False\n",
    "    plt.hist(num, bins=40, facecolor=\"blue\", edgecolor=\"black\", alpha=0.7)\n",
    "    plt.show()\n",
    "    \n",
    "    num_sort = np.sort(-num)\n",
    "    line = int(0.8*len(sim_mat))\n",
    "    K = -1*num_sort[line]\n",
    "    return K"
   ]
  },
  {
   "cell_type": "code",
   "execution_count": null,
   "metadata": {
    "id": "ravLCJALxt6g"
   },
   "outputs": [
    {
     "data": {
      "image/png": "[encoded data removed]",
      "text/plain": [
       "<Figure size 432x288 with 1 Axes>"
      ]
     },
     "metadata": {
      "filenames": {
       "image/png": "/content/reco-book/_build/jupyter_execute/nbs/T460437_Building_Models_From_Scratch_26_0.png"
      },
      "needs_background": "light",
      "tags": []
     },
     "output_type": "display_data"
    },
    {
     "name": "stdout",
     "output_type": "stream",
     "text": [
      "min_similarity: 0.8 K: 3\n"
     ]
    }
   ],
   "source": [
    "min_similarity=0.8\n",
    "K = get_K(sim_mat, min_similarity=min_similarity)\n",
    "print('min_similarity:',min_similarity,'K:',K)"
   ]
  },
  {
   "cell_type": "code",
   "execution_count": null,
   "metadata": {
    "id": "y9pasQ6lxt2L"
   },
   "outputs": [
    {
     "data": {
      "image/png": "[encoded data removed]",
      "text/plain": [
       "<Figure size 432x288 with 1 Axes>"
      ]
     },
     "metadata": {
      "filenames": {
       "image/png": "/content/reco-book/_build/jupyter_execute/nbs/T460437_Building_Models_From_Scratch_27_0.png"
      },
      "needs_background": "light",
      "tags": []
     },
     "output_type": "display_data"
    },
    {
     "name": "stdout",
     "output_type": "stream",
     "text": [
      "min_similarity: 0.5 K: 32\n"
     ]
    }
   ],
   "source": [
    "min_similarity=0.5\n",
    "K = get_K(sim_mat, min_similarity=min_similarity)\n",
    "print('min_similarity:',min_similarity,'K:',K)"
   ]
  },
  {
   "cell_type": "code",
   "execution_count": null,
   "metadata": {
    "id": "HhPgdztQyReq"
   },
   "outputs": [],
   "source": [
    "def prediction(train_mat, sim_mat, K=1, model='user_based'):\n",
    "    assert len(train_mat.shape)>1\n",
    "    n,m = train_mat.shape\n",
    "    \n",
    "    if  model=='user_based':\n",
    "        sim_sort = -1*np.sort(-np.array(sim_mat))[:,1:K+1] # 除去最相似的自己\n",
    "        neighbors = np.argsort(-np.array(sim_mat))[:,1:K+1]\n",
    "        common_items = train_mat[neighbors]>0 \n",
    "        mean_user = np.reshape(np.sum(train_mat,axis=1)/np.sum(train_mat>0,axis=1), (-1,1))\n",
    "        mat_m = train_mat - mean_user\n",
    "        aa = np.sum(sim_sort[:,:,np.newaxis]*mat_m[neighbors]*common_items,axis=1)\n",
    "        bb = np.sum(sim_sort[:,:,np.newaxis]*common_items,axis=1)+1e-10 # 1e-10保证分母不为０\n",
    "        r_pred = mean_user + aa/bb\n",
    "        return r_pred\n",
    "    else: # 'item_based'\n",
    "        r_pred=[]\n",
    "        for u in range(n):\n",
    "            u_mat = np.tile(train_mat[u],(m,1)) # m份用户u的记录,m*m\n",
    "            rated_items_sim = (u_mat>0)*sim_mat # 保留有评分记录的相似度 m*m\n",
    "            sim_sort = -1*np.sort(-np.array(rated_items_sim))[:,:K] # m*K\n",
    "            neighbors = np.argsort(-np.array(rated_items_sim))[:,:K] # m*K\n",
    "            neighbor_ratings = np.array([u_mat[i,neighbors[i]] for i in range(m)])# m*K\n",
    "            aa = np.sum(sim_sort*neighbor_ratings,axis=1) # m*1\n",
    "            bb = np.sum(sim_sort,axis=1)+1e-10 # 1e-10保证分母不为０ m*1\n",
    "            r_pred.append(aa/bb)\n",
    "        \n",
    "        return np.array(r_pred)"
   ]
  },
  {
   "cell_type": "code",
   "execution_count": null,
   "metadata": {
    "id": "pNNaRn04yRag"
   },
   "outputs": [],
   "source": [
    "r_pred = prediction(train_mat=train_mat, sim_mat=sim_mat, K=K, model='user_based')"
   ]
  },
  {
   "cell_type": "code",
   "execution_count": null,
   "metadata": {
    "id": "aOWmxpWGyRWz"
   },
   "outputs": [
    {
     "name": "stdout",
     "output_type": "stream",
     "text": [
      "user 0:\n",
      "top-n list: [ 346 1453  983 1562 1135 1455    5  482  593  271]\n"
     ]
    }
   ],
   "source": [
    "n = 10\n",
    "topn = get_topn(r_pred=r_pred, train_mat=train_mat, n=n)\n",
    "print('user 0:')\n",
    "print('top-n list:',topn[0])"
   ]
  },
  {
   "cell_type": "code",
   "execution_count": null,
   "metadata": {
    "id": "4Fr1dzohyRR7"
   },
   "outputs": [
    {
     "name": "stdout",
     "output_type": "stream",
     "text": [
      "mae:0.8495; rmse:1.0855\n",
      "recall:0.0118; precision:0.0251\n"
     ]
    }
   ],
   "source": [
    "mae, rmse = mae_rmse(r_pred=r_pred, test_mat=test_mat)\n",
    "print('mae:%.4f; rmse:%.4f'%(mae,rmse))\n",
    "recall, precision = recall_precision(topn=topn, test_mat=test_mat)\n",
    "print('recall:%.4f; precision:%.4f'%(recall,precision))"
   ]
  },
  {
   "cell_type": "code",
   "execution_count": null,
   "metadata": {
    "id": "a38qGqSKyaGc"
   },
   "outputs": [
    {
     "name": "stdout",
     "output_type": "stream",
     "text": [
      "0\n",
      "100\n",
      "200\n",
      "300\n",
      "400\n",
      "500\n",
      "600\n",
      "700\n",
      "800\n",
      "900\n",
      "1000\n",
      "1100\n",
      "1200\n",
      "1300\n",
      "1400\n",
      "1500\n",
      "1600\n"
     ]
    }
   ],
   "source": [
    "sim_mat = similarity_matrix(mat=train_mat.T, model='consine', minimum_common_items=3)\n",
    "neighbors = np.argsort(-np.array(sim_mat))\n",
    "sim_sort = -1*np.sort(-np.array(sim_mat))"
   ]
  },
  {
   "cell_type": "code",
   "execution_count": null,
   "metadata": {
    "id": "7n1GsgusyaCF"
   },
   "outputs": [
    {
     "data": {
      "image/png": "[encoded data removed]",
      "text/plain": [
       "<Figure size 432x288 with 1 Axes>"
      ]
     },
     "metadata": {
      "filenames": {
       "image/png": "/content/reco-book/_build/jupyter_execute/nbs/T460437_Building_Models_From_Scratch_33_0.png"
      },
      "needs_background": "light",
      "tags": []
     },
     "output_type": "display_data"
    },
    {
     "name": "stdout",
     "output_type": "stream",
     "text": [
      "min_similarity: 0.5 K: 1\n"
     ]
    }
   ],
   "source": [
    "min_similarity = 0.5\n",
    "K = get_K(sim_mat, min_similarity=min_similarity)\n",
    "print('min_similarity:',min_similarity,'K:',K)"
   ]
  },
  {
   "cell_type": "code",
   "execution_count": null,
   "metadata": {
    "id": "4m_lc4feyjqX"
   },
   "outputs": [
    {
     "name": "stdout",
     "output_type": "stream",
     "text": [
      "mae:0.8235; rmse:1.0665\n",
      "recall:0.0080; precision:0.0171\n"
     ]
    }
   ],
   "source": [
    "r_pred = prediction(train_mat=train_mat, sim_mat=sim_mat, K=5, model='item_based')\n",
    "\n",
    "n = 10\n",
    "topn = get_topn(r_pred=r_pred, train_mat=train_mat, n=n)\n",
    "\n",
    "mae, rmse = mae_rmse(r_pred=r_pred, test_mat=test_mat)\n",
    "print('mae:%.4f; rmse:%.4f'%(mae,rmse))\n",
    "recall, precision = recall_precision(topn=topn, test_mat=test_mat)\n",
    "print('recall:%.4f; precision:%.4f'%(recall,precision))"
   ]
  },
  {
   "cell_type": "markdown",
   "metadata": {
    "id": "Y3sZ87x-1HgB"
   },
   "source": [
    "## MF"
   ]
  },
  {
   "cell_type": "markdown",
   "metadata": {
    "id": "Wv9wXCUb2jyu"
   },
   "source": [
    "<img src='https://www.notion.so/image/https%3A%2F%2Fs3-us-west-2.amazonaws.com%2Fsecure.notion-static.com%2F6aac4ba6-d0b7-4cea-8589-f4cd93531e99%2FUntitled.png?table=block&id=ed132ae9-b7cc-43b2-85bb-eec0ce964f72&spaceId=63b72b1f-0e90-4ab8-a6df-a060a6545a56&width=2000&userId=21ec183f-f0be-4b6b-9b3e-6f0d4e5c5469&cache=v2'>"
   ]
  },
  {
   "cell_type": "code",
   "execution_count": null,
   "metadata": {
    "id": "Eaapp4qL1KOR"
   },
   "outputs": [],
   "source": [
    "class mf():\n",
    "    def __init__(self, \n",
    "                 train_list,            # train_list: train data \n",
    "                 test_list,             # test_list: test data\n",
    "                 N,                     # N:the number of user\n",
    "                 M,                     # M:the number of item\n",
    "                 K=10,                  # K: the number of latent factor\n",
    "                 learning_rate=0.001,   # learning_rate: the learning rata\n",
    "                 lamda_regularizer=0.1, # lamda_regularizer: regularization parameters\n",
    "                 max_iteration=50       # max_iteration: the max iteration\n",
    "                ):\n",
    "        self.train_list = train_list\n",
    "        self.test_list = test_list\n",
    "        self.N = N\n",
    "        self.M = M\n",
    "        self.K = K\n",
    "        self.learning_rate = learning_rate\n",
    "        self.lamda_regularizer = lamda_regularizer\n",
    "        self.max_iteration = max_iteration\n",
    "    \n",
    "    \n",
    "    def train(self):\n",
    "        P = np.random.normal(0, 0.1, (self.N, self.K))\n",
    "        Q = np.random.normal(0, 0.1, (self.M, self.K))\n",
    "\n",
    "        train_mat = sequence2mat(sequence = self.train_list, N = self.N, M = self.M)\n",
    "        test_mat = sequence2mat(sequence = self.test_list, N = self.N, M = self.M)\n",
    "\n",
    "        records_list = []\n",
    "        for step in range(self.max_iteration):\n",
    "            los=0.0\n",
    "            for data in self.train_list:\n",
    "                u,i,r = data\n",
    "                P[u],Q[i],ls = self.update(P[u], Q[i], r=r, \n",
    "                                           learning_rate=self.learning_rate, \n",
    "                                           lamda_regularizer=self.lamda_regularizer)\n",
    "                los += ls\n",
    "            pred_mat = self.prediction(P,Q)\n",
    "            mae, rmse, recall, precision = evaluation(pred_mat, train_mat, test_mat)\n",
    "            records_list.append(np.array([los, mae, rmse, recall, precision]))\n",
    "\n",
    "            if step % 10 ==0:\n",
    "                print(' step:%d \\n loss:%.4f,mae:%.4f,rmse:%.4f,recall:%.4f,precision:%.4f'\n",
    "                      %(step,los,mae,rmse,recall,precision))\n",
    "\n",
    "        print(' end. \\n loss:%.4f,mae:%.4f,rmse:%.4f,recall:%.4f,precision:%.4f'\n",
    "              %(records_list[-1][0],records_list[-1][1],records_list[-1][2],records_list[-1][3],records_list[-1][4]))\n",
    "        return P, Q, np.array(records_list)\n",
    "\n",
    "\n",
    "    def update(self, p, q, r, learning_rate=0.001, lamda_regularizer=0.1):\n",
    "        error = r - np.dot(p, q.T)            \n",
    "        p = p + learning_rate*(error*q - lamda_regularizer*p)\n",
    "        q = q + learning_rate*(error*p - lamda_regularizer*q)\n",
    "        loss = 0.5 * (error**2 + lamda_regularizer*(np.square(p).sum() + np.square(q).sum()))\n",
    "        return p, q, loss\n",
    "\n",
    "\n",
    "    def prediction(self, P, Q):\n",
    "        N,K = P.shape\n",
    "        M,K = Q.shape\n",
    "\n",
    "        rating_list=[]\n",
    "        for u in range(N):\n",
    "            u_rating = np.sum(P[u,:]*Q, axis=1)\n",
    "            rating_list.append(u_rating)\n",
    "        r_pred = np.array(rating_list)\n",
    "        return r_pred"
   ]
  },
  {
   "cell_type": "code",
   "execution_count": null,
   "metadata": {
    "id": "Q39mNlGc1KJ6"
   },
   "outputs": [
    {
     "name": "stdout",
     "output_type": "stream",
     "text": [
      " step:0 \n",
      " loss:549449.5639,mae:3.5169,rmse:3.6918,recall:0.0162,precision:0.0344\n",
      " step:10 \n",
      " loss:65630.3526,mae:0.7811,rmse:0.9929,recall:0.0333,precision:0.0706\n",
      " step:20 \n",
      " loss:63095.0387,mae:0.7615,rmse:0.9634,recall:0.0308,precision:0.0653\n",
      " step:30 \n",
      " loss:61813.1467,mae:0.7488,rmse:0.9466,recall:0.0331,precision:0.0701\n",
      " step:40 \n",
      " loss:60758.6475,mae:0.7382,rmse:0.9333,recall:0.0342,precision:0.0725\n",
      " step:50 \n",
      " loss:59985.8868,mae:0.7318,rmse:0.9256,recall:0.0341,precision:0.0723\n",
      " step:60 \n",
      " loss:59411.9142,mae:0.7281,rmse:0.9212,recall:0.0346,precision:0.0734\n",
      " step:70 \n",
      " loss:58989.6100,mae:0.7261,rmse:0.9190,recall:0.0323,precision:0.0684\n",
      " step:80 \n",
      " loss:58678.2983,mae:0.7252,rmse:0.9180,recall:0.0300,precision:0.0636\n",
      " step:90 \n",
      " loss:58446.1711,mae:0.7248,rmse:0.9178,recall:0.0287,precision:0.0609\n",
      " end. \n",
      " loss:58285.9034,mae:0.7248,rmse:0.9180,recall:0.0279,precision:0.0592\n",
      "MAE:0.7248;RMSE:0.9180;Recall:0.0279;Precision:0.0592\n"
     ]
    }
   ],
   "source": [
    "model = mf(train_list=train_list, \n",
    "           test_list=test_list, \n",
    "           N=N, \n",
    "           M=M,\n",
    "           K=K,\n",
    "           learning_rate=learning_rate, \n",
    "           lamda_regularizer=lamda_regularizer, \n",
    "           max_iteration=max_iteration)\n",
    "P, Q, records_array = model.train()\n",
    "print('MAE:%.4f;RMSE:%.4f;Recall:%.4f;Precision:%.4f'\n",
    "      %(records_array[:,1][-1],records_array[:,2][-1],records_array[:,3][-1],records_array[:,4][-1]))"
   ]
  },
  {
   "cell_type": "code",
   "execution_count": null,
   "metadata": {
    "id": "Kh12Jqwx1KGW"
   },
   "outputs": [
    {
     "data": {
      "image/png": "[encoded data removed]",
      "text/plain": [
       "<Figure size 432x288 with 1 Axes>"
      ]
     },
     "metadata": {
      "filenames": {
       "image/png": "/content/reco-book/_build/jupyter_execute/nbs/T460437_Building_Models_From_Scratch_39_0.png"
      },
      "needs_background": "light",
      "tags": []
     },
     "output_type": "display_data"
    }
   ],
   "source": [
    "plot_figure(values_list=records_array[:,0],name='loss')"
   ]
  },
  {
   "cell_type": "code",
   "execution_count": null,
   "metadata": {
    "id": "iah43b0s1QRL"
   },
   "outputs": [
    {
     "data": {
      "image/png": "[encoded data removed]",
      "text/plain": [
       "<Figure size 432x288 with 1 Axes>"
      ]
     },
     "metadata": {
      "filenames": {
       "image/png": "/content/reco-book/_build/jupyter_execute/nbs/T460437_Building_Models_From_Scratch_40_0.png"
      },
      "needs_background": "light",
      "tags": []
     },
     "output_type": "display_data"
    }
   ],
   "source": [
    "plot_figure(values_list=records_array[:,1],name='MAE')"
   ]
  },
  {
   "cell_type": "markdown",
   "metadata": {
    "id": "fViwyvbAzSsS"
   },
   "source": [
    "## NMF"
   ]
  },
  {
   "cell_type": "markdown",
   "metadata": {
    "id": "Qw1q1rDo2ps3"
   },
   "source": [
    "<img src='https://www.notion.so/image/https%3A%2F%2Fs3-us-west-2.amazonaws.com%2Fsecure.notion-static.com%2F9f5ce0ed-4f9a-4487-bc15-2303e920f640%2FUntitled.png?table=block&id=d1dd6ee8-9256-4bc4-a416-f2053c314300&spaceId=63b72b1f-0e90-4ab8-a6df-a060a6545a56&width=2000&userId=21ec183f-f0be-4b6b-9b3e-6f0d4e5c5469&cache=v2'>"
   ]
  },
  {
   "cell_type": "code",
   "execution_count": null,
   "metadata": {
    "id": "MjWHQv0Bze3q"
   },
   "outputs": [],
   "source": [
    "class nmf_sgd():\n",
    "    def __init__(self, \n",
    "                 train_list,            # train_list: train data \n",
    "                 test_list,             # test_list: test data\n",
    "                 N,                     # N:the number of user\n",
    "                 M,                     # M:the number of item\n",
    "                 K=10,                  # K: the number of latent factor\n",
    "                 learning_rate=0.001,   # learning_rate: the learning rata\n",
    "                 max_iteration=50       # max_iteration: the max iteration\n",
    "                ):\n",
    "        self.train_list = train_list\n",
    "        self.test_list = test_list\n",
    "        self.N = N\n",
    "        self.M = M\n",
    "        self.K = K\n",
    "        self.learning_rate = learning_rate\n",
    "        self.max_iteration = max_iteration\n",
    "    \n",
    "    \n",
    "    def train(self):\n",
    "        P = np.random.normal(0, 0.1, (self.N, self.K))\n",
    "        Q = np.random.normal(0, 0.1, (self.M, self.K))\n",
    "\n",
    "        train_mat = sequence2mat(sequence = self.train_list, N = self.N, M = self.M)\n",
    "        test_mat = sequence2mat(sequence = self.test_list, N = self.N, M = self.M)\n",
    "\n",
    "        records_list = []\n",
    "        for step in range(self.max_iteration):\n",
    "            los=0.0\n",
    "            for data in self.train_list:\n",
    "                u,i,r = data\n",
    "                P[u],Q[i],ls = self.update(P[u], Q[i], r=r, learning_rate=self.learning_rate)\n",
    "                los += ls\n",
    "            pred_mat = self.prediction(P,Q)\n",
    "            mae, rmse, recall, precision = evaluation(pred_mat, train_mat, test_mat)\n",
    "            records_list.append(np.array([los, mae, rmse, recall, precision]))\n",
    "\n",
    "            if step % 10 ==0:\n",
    "                print(' step:%d \\n loss:%.4f,mae:%.4f,rmse:%.4f,recall:%.4f,precision:%.4f'\n",
    "                      %(step,los,mae,rmse,recall,precision))\n",
    "\n",
    "        print(' end. \\n loss:%.4f,mae:%.4f,rmse:%.4f,recall:%.4f,precision:%.4f'\n",
    "              %(records_list[-1][0],records_list[-1][1],records_list[-1][2],records_list[-1][3],records_list[-1][4]))\n",
    "        return P,Q,np.array(records_list)\n",
    "\n",
    "\n",
    "    def update(self, p, q, r, learning_rate=0.001):\n",
    "        error = r - np.dot(p, q.T)            \n",
    "        p = p + learning_rate*error*q\n",
    "        q = q + learning_rate*error*p\n",
    "        loss = 0.5 * error**2 \n",
    "        return p, q, loss\n",
    "\n",
    "\n",
    "    def prediction(self, P, Q):\n",
    "        N,K = P.shape\n",
    "        M,K = Q.shape\n",
    "\n",
    "        rating_list=[]\n",
    "        for u in range(N):\n",
    "            u_rating = np.sum(P[u,:]*Q, axis=1)\n",
    "            rating_list.append(u_rating)\n",
    "        r_pred = np.array(rating_list)\n",
    "        return r_pred\n",
    "\t\t\n",
    "\t\t\n",
    "class nmf_mult():\n",
    "    def __init__(self, \n",
    "                 train_list,            # train_list: train data \n",
    "                 test_list,             # test_list: test data\n",
    "                 N,                     # N:the number of user\n",
    "                 M,                     # M:the number of item\n",
    "                 K=10,                  # K: the number of latent factor\n",
    "                 max_iteration=50       # max_iteration: the max iteration\n",
    "                ):\n",
    "        self.train_list = train_list\n",
    "        self.test_list = test_list\n",
    "        self.N = N\n",
    "        self.M = M\n",
    "        self.K = K\n",
    "        self.max_iteration = max_iteration\n",
    "    \n",
    "    \n",
    "    def train(self):\n",
    "        train_mat = sequence2mat(sequence = self.train_list, N = self.N, M = self.M)\n",
    "        test_mat = sequence2mat(sequence = self.test_list, N = self.N, M = self.M)\n",
    "\n",
    "        avg = np.sqrt(train_mat.mean() / self.K)\n",
    "        P = avg*np.random.normal(0, 1., (self.N, self.K))\n",
    "        Q = avg*np.random.normal(0, 1., (self.M, self.K))\n",
    "\n",
    "        records_list = []\n",
    "        for step in range(self.max_iteration):\n",
    "            P,Q = self.update(P, Q, R=train_mat)\n",
    "            user = np.array(self.train_list)[:,0].astype(np.int16)\n",
    "            item = np.array(self.train_list)[:,1].astype(np.int16)\n",
    "            rating_true = np.array(self.train_list)[:,2]\n",
    "            rating_pred = np.sum(P[user,:]*Q[item,:],axis=1)\n",
    "            los = np.sum((rating_true-rating_pred)**2)\n",
    "            pred_mat = self.prediction(P,Q)\n",
    "            mae, rmse, recall, precision = evaluation(pred_mat, train_mat, test_mat)\n",
    "            records_list.append(np.array([los, mae, rmse, recall, precision]))\n",
    "\n",
    "            if step % 10 ==0:\n",
    "                print(' step:%d \\n loss:%.4f,mae:%.4f,rmse:%.4f,recall:%.4f,precision:%.4f'\n",
    "                      %(step,los,mae,rmse,recall,precision))\n",
    "\n",
    "        print(' end. \\n loss:%.4f,mae:%.4f,rmse:%.4f,recall:%.4f,precision:%.4f'\n",
    "              %(records_list[-1][0],records_list[-1][1],records_list[-1][2],records_list[-1][3],records_list[-1][4]))\n",
    "        return P,Q,np.array(records_list)\n",
    "\n",
    "\n",
    "    def update(self, P, Q, R ,eps=1e-6):            \n",
    "        P = P * (np.dot(R+eps,Q)/(np.dot(P,np.dot(Q.T,Q)))+eps)\n",
    "        Q = Q * (np.dot(R.T+eps,P)/(np.dot(Q,np.dot(P.T,P)))+eps)\n",
    "        return P, Q\n",
    "    \n",
    "    \n",
    "    def prediction(self, P, Q):\n",
    "        N,K = P.shape\n",
    "        M,K = Q.shape\n",
    "\n",
    "        rating_list=[]\n",
    "        for u in range(N):\n",
    "            u_rating = np.sum(P[u,:]*Q, axis=1)\n",
    "            rating_list.append(u_rating)\n",
    "        r_pred = np.array(rating_list)\n",
    "        return r_pred"
   ]
  },
  {
   "cell_type": "code",
   "execution_count": null,
   "metadata": {
    "id": "8TAv8QK8zUgI"
   },
   "outputs": [],
   "source": [
    "learning_rate = 0.005\n",
    "lamda_regularizer = 0.1\n",
    "max_iteration = 100\n",
    "K = 10"
   ]
  },
  {
   "cell_type": "code",
   "execution_count": null,
   "metadata": {
    "id": "c-kpzaKZzUkm"
   },
   "outputs": [
    {
     "name": "stdout",
     "output_type": "stream",
     "text": [
      " step:0 \n",
      " loss:548038.5902,mae:3.5055,rmse:3.6806,recall:0.0280,precision:0.0595\n",
      " step:10 \n",
      " loss:35704.9549,mae:0.7664,rmse:0.9833,recall:0.0343,precision:0.0726\n",
      " step:20 \n",
      " loss:29719.9134,mae:0.7436,rmse:0.9529,recall:0.0420,precision:0.0891\n",
      " step:30 \n",
      " loss:25978.4018,mae:0.7458,rmse:0.9586,recall:0.0478,precision:0.1015\n",
      " step:40 \n",
      " loss:23907.4936,mae:0.7525,rmse:0.9709,recall:0.0466,precision:0.0989\n",
      " step:50 \n",
      " loss:22628.8693,mae:0.7586,rmse:0.9817,recall:0.0440,precision:0.0934\n",
      " step:60 \n",
      " loss:21764.8215,mae:0.7640,rmse:0.9908,recall:0.0406,precision:0.0860\n",
      " step:70 \n",
      " loss:21146.5636,mae:0.7690,rmse:0.9986,recall:0.0382,precision:0.0811\n",
      " step:80 \n",
      " loss:20685.7537,mae:0.7734,rmse:1.0054,recall:0.0346,precision:0.0734\n",
      " step:90 \n",
      " loss:20330.0393,mae:0.7773,rmse:1.0116,recall:0.0316,precision:0.0671\n",
      " end. \n",
      " loss:20072.3955,mae:0.7805,rmse:1.0166,recall:0.0303,precision:0.0643\n",
      "MAE:0.7805;RMSE:1.0166;Recall:0.0303;Precision:0.0643\n"
     ]
    }
   ],
   "source": [
    "model = nmf_sgd(train_list=train_list, \n",
    "                test_list=test_list, \n",
    "                N=N, \n",
    "                M=M,\n",
    "                K=K,\n",
    "                learning_rate=learning_rate,\n",
    "                max_iteration=max_iteration)\n",
    "P, Q, records_array = model.train()\n",
    "print('MAE:%.4f;RMSE:%.4f;Recall:%.4f;Precision:%.4f'\n",
    "      %(records_array[:,1][-1],records_array[:,2][-1],records_array[:,3][-1],records_array[:,4][-1]))"
   ]
  },
  {
   "cell_type": "code",
   "execution_count": null,
   "metadata": {
    "id": "YJ0unBdwzUbz"
   },
   "outputs": [
    {
     "name": "stderr",
     "output_type": "stream",
     "text": [
      "findfont: Font family ['sans-serif'] not found. Falling back to DejaVu Sans.\n"
     ]
    },
    {
     "data": {
      "image/png": "[encoded data removed]",
      "text/plain": [
       "<Figure size 432x288 with 1 Axes>"
      ]
     },
     "metadata": {
      "filenames": {
       "image/png": "/content/reco-book/_build/jupyter_execute/nbs/T460437_Building_Models_From_Scratch_46_1.png"
      },
      "needs_background": "light",
      "tags": []
     },
     "output_type": "display_data"
    }
   ],
   "source": [
    "plot_figure(values_list=records_array[:,0],name='loss')"
   ]
  },
  {
   "cell_type": "code",
   "execution_count": null,
   "metadata": {
    "id": "xlGXdrMsza0i"
   },
   "outputs": [
    {
     "data": {
      "image/png": "[encoded data removed]",
      "text/plain": [
       "<Figure size 432x288 with 1 Axes>"
      ]
     },
     "metadata": {
      "filenames": {
       "image/png": "/content/reco-book/_build/jupyter_execute/nbs/T460437_Building_Models_From_Scratch_47_0.png"
      },
      "needs_background": "light",
      "tags": []
     },
     "output_type": "display_data"
    }
   ],
   "source": [
    "plot_figure(values_list=records_array[:,1],name='MAE')"
   ]
  },
  {
   "cell_type": "code",
   "execution_count": null,
   "metadata": {
    "id": "4OJD6IPdznYu"
   },
   "outputs": [
    {
     "name": "stdout",
     "output_type": "stream",
     "text": [
      " step:0 \n",
      " loss:2580523.1425,mae:3.5267,rmse:5.8206,recall:0.0259,precision:0.0549\n",
      " step:10 \n",
      " loss:2964883.3145,mae:3.8250,rmse:6.8355,recall:0.0232,precision:0.0491\n",
      " step:20 \n",
      " loss:3519744.0259,mae:3.6206,rmse:6.1980,recall:0.0217,precision:0.0461\n",
      " step:30 \n",
      " loss:2553275.7664,mae:3.5180,rmse:3.7344,recall:0.0274,precision:0.0582\n",
      " step:40 \n",
      " loss:82457928.5335,mae:4.4230,rmse:21.7644,recall:0.0219,precision:0.0464\n",
      " step:50 \n",
      " loss:49372155.9049,mae:4.8383,rmse:27.7464,recall:0.0331,precision:0.0703\n",
      " step:60 \n",
      " loss:1783316.4779,mae:3.5159,rmse:4.8778,recall:0.0226,precision:0.0479\n",
      " step:70 \n",
      " loss:1378775.2095,mae:3.4903,rmse:3.7809,recall:0.0312,precision:0.0662\n",
      " step:80 \n",
      " loss:6013408.4926,mae:3.7754,rmse:7.0817,recall:0.0381,precision:0.0807\n",
      " step:90 \n",
      " loss:1095681.3585,mae:3.4406,rmse:3.7484,recall:0.0146,precision:0.0310\n",
      " end. \n",
      " loss:9446218.6269,mae:3.5393,rmse:3.8621,recall:0.0215,precision:0.0457\n",
      "MAE:3.5393;RMSE:3.8621;Recall:0.0215;Precision:0.0457\n"
     ]
    }
   ],
   "source": [
    "model = nmf_mult(train_list=train_list, \n",
    "                 test_list=test_list, \n",
    "                 N=N, \n",
    "                 M=M,\n",
    "                 K=K,\n",
    "                 max_iteration=max_iteration)\n",
    "P, Q, records_array = model.train()\n",
    "print('MAE:%.4f;RMSE:%.4f;Recall:%.4f;Precision:%.4f'\n",
    "      %(records_array[:,1][-1],records_array[:,2][-1],records_array[:,3][-1],records_array[:,4][-1]))"
   ]
  },
  {
   "cell_type": "code",
   "execution_count": null,
   "metadata": {
    "id": "hs7z96hIz0zT"
   },
   "outputs": [
    {
     "data": {
      "image/png": "[encoded data removed]",
      "text/plain": [
       "<Figure size 432x288 with 1 Axes>"
      ]
     },
     "metadata": {
      "filenames": {
       "image/png": "/content/reco-book/_build/jupyter_execute/nbs/T460437_Building_Models_From_Scratch_49_0.png"
      },
      "needs_background": "light",
      "tags": []
     },
     "output_type": "display_data"
    }
   ],
   "source": [
    "plot_figure(values_list=records_array[:,0],name='loss')"
   ]
  },
  {
   "cell_type": "code",
   "execution_count": null,
   "metadata": {
    "id": "CIW3Awamz0vA"
   },
   "outputs": [
    {
     "data": {
      "image/png": "[encoded data removed]",
      "text/plain": [
       "<Figure size 432x288 with 1 Axes>"
      ]
     },
     "metadata": {
      "filenames": {
       "image/png": "/content/reco-book/_build/jupyter_execute/nbs/T460437_Building_Models_From_Scratch_50_0.png"
      },
      "needs_background": "light",
      "tags": []
     },
     "output_type": "display_data"
    }
   ],
   "source": [
    "plot_figure(values_list=records_array[:,1],name='MAE')"
   ]
  },
  {
   "cell_type": "code",
   "execution_count": null,
   "metadata": {
    "id": "O-J9Tnblz477"
   },
   "outputs": [
    {
     "name": "stdout",
     "output_type": "stream",
     "text": [
      "517235.90674966876 2.368676919640145 2.6390209548615853 0.1556 0.33001060445387065\n"
     ]
    }
   ],
   "source": [
    "from sklearn.decomposition import NMF\n",
    "model = NMF(n_components=10, init='random', random_state=0)\n",
    "train_mat = sequence2mat(sequence = train_list, N = N, M = M)\n",
    "W = model.fit_transform(train_mat)\n",
    "H = model.components_\n",
    "\n",
    "def prediction(P, Q):\n",
    "    N,K = P.shape\n",
    "    M,K = Q.shape\n",
    "\n",
    "    rating_list=[]\n",
    "    for u in range(N):\n",
    "        u_rating = np.sum(P[u,:]*Q, axis=1)\n",
    "        rating_list.append(u_rating)\n",
    "    r_pred = np.array(rating_list)\n",
    "    return r_pred\n",
    "\n",
    "# 预测评分\n",
    "user = np.array(train_list)[:,0].astype(np.int16)\n",
    "item = np.array(train_list)[:,1].astype(np.int16)\n",
    "rating_true = np.array(train_list)[:,2]\n",
    "rating_pred = np.sum(W[user,:]*H.T[item,:],axis=1)\n",
    "loss = np.sum((rating_true-rating_pred)**2)\n",
    "pred_mat = prediction(W, H.T)\n",
    "\n",
    "# 评估算法\n",
    "mae, rmse, recall, precision = evaluation(pred_mat, train_mat, test_mat)\n",
    "print(loss, mae, rmse, recall, precision)"
   ]
  },
  {
   "cell_type": "markdown",
   "metadata": {
    "id": "k4yOC6JE1URM"
   },
   "source": [
    "## PMF"
   ]
  },
  {
   "cell_type": "markdown",
   "metadata": {
    "id": "p9DP1a9N2vkZ"
   },
   "source": [
    "<img src='https://www.notion.so/image/https%3A%2F%2Fs3-us-west-2.amazonaws.com%2Fsecure.notion-static.com%2F9b35e438-71ce-4933-b320-e8ef21cc5691%2FUntitled.png?table=block&id=8865c550-3b88-41b6-8aa4-f3eca04c31f8&spaceId=63b72b1f-0e90-4ab8-a6df-a060a6545a56&width=2000&userId=21ec183f-f0be-4b6b-9b3e-6f0d4e5c5469&cache=v2'>"
   ]
  },
  {
   "cell_type": "code",
   "execution_count": null,
   "metadata": {
    "id": "FnAsea7O1bQV"
   },
   "outputs": [],
   "source": [
    "class pmf():\n",
    "    def __init__(self, \n",
    "                 train_list,            # train_list: train data \n",
    "                 test_list,             # test_list: test data\n",
    "                 N,                     # N:the number of user\n",
    "                 M,                     # M:the number of item\n",
    "                 K=10,                  # K: the number of latent factor\n",
    "                 learning_rate=0.001,   # learning_rate: the learning rata\n",
    "                 lamda_regularizer=0.1, # lamda_regularizer: regularization parameters\n",
    "                 max_iteration=50       # max_iteration: the max iteration\n",
    "                ):\n",
    "        self.train_list = train_list\n",
    "        self.test_list = test_list\n",
    "        self.N = N\n",
    "        self.M = M\n",
    "        self.K = K\n",
    "        self.learning_rate = learning_rate\n",
    "        self.lamda_regularizer = lamda_regularizer\n",
    "        self.max_iteration = max_iteration\n",
    "    \n",
    "    \n",
    "    def train(self):\n",
    "        P = np.random.normal(0, 0.1, (self.N, self.K))\n",
    "        Q = np.random.normal(0, 0.1, (self.M, self.K))\n",
    "\n",
    "        train_mat = sequence2mat(sequence = self.train_list, N = self.N, M = self.M)\n",
    "        test_mat = sequence2mat(sequence = self.test_list, N = self.N, M = self.M)\n",
    "\n",
    "        records_list = []\n",
    "        for step in range(self.max_iteration):\n",
    "            los=0.0\n",
    "            for data in self.train_list:\n",
    "                u,i,r = data\n",
    "                P[u],Q[i],ls = self.update(P[u], Q[i], r=r, \n",
    "                                           learning_rate=self.learning_rate, \n",
    "                                           lamda_regularizer=self.lamda_regularizer)\n",
    "                los += ls\n",
    "            pred_mat = self.prediction(P,Q)\n",
    "            mae, rmse, recall, precision = evaluation(pred_mat, train_mat, test_mat)\n",
    "            records_list.append(np.array([los, mae, rmse, recall, precision]))\n",
    "\n",
    "            if step % 10 ==0:\n",
    "                print(' step:%d \\n loss:%.4f,mae:%.4f,rmse:%.4f,recall:%.4f,precision:%.4f'\n",
    "                      %(step,los,mae,rmse,recall,precision))\n",
    "\n",
    "        print(' end. \\n loss:%.4f,mae:%.4f,rmse:%.4f,recall:%.4f,precision:%.4f'\n",
    "              %(records_list[-1][0],records_list[-1][1],records_list[-1][2],records_list[-1][3],records_list[-1][4]))\n",
    "        return P, Q, np.array(records_list)\n",
    "\n",
    "\n",
    "    def update(self, p, q, r, learning_rate=0.001, lamda_regularizer=0.1):\n",
    "        error = r - np.dot(p, q.T)            \n",
    "        p = p + learning_rate*(error*q - lamda_regularizer*p)\n",
    "        q = q + learning_rate*(error*p - lamda_regularizer*q)\n",
    "        loss = 0.5 * (error**2 + lamda_regularizer*(np.square(p).sum() + np.square(q).sum()))\n",
    "        return p, q, loss\n",
    "\n",
    "\n",
    "    def prediction(self, P, Q):\n",
    "        N,K = P.shape\n",
    "        M,K = Q.shape\n",
    "\n",
    "        rating_list=[]\n",
    "        for u in range(N):\n",
    "            u_rating = np.sum(P[u,:]*Q, axis=1)\n",
    "            rating_list.append(u_rating)\n",
    "        r_pred = np.array(rating_list)\n",
    "        return r_pred"
   ]
  },
  {
   "cell_type": "code",
   "execution_count": null,
   "metadata": {
    "id": "JBChoVIA1W4r"
   },
   "outputs": [
    {
     "name": "stdout",
     "output_type": "stream",
     "text": [
      " step:0 \n",
      " loss:549485.5123,mae:3.5175,rmse:3.6925,recall:0.0155,precision:0.0328\n",
      " step:10 \n",
      " loss:65455.1499,mae:0.7777,rmse:0.9897,recall:0.0347,precision:0.0735\n",
      " step:20 \n",
      " loss:62521.8712,mae:0.7523,rmse:0.9537,recall:0.0367,precision:0.0778\n",
      " step:30 \n",
      " loss:61353.0497,mae:0.7414,rmse:0.9388,recall:0.0382,precision:0.0810\n",
      " step:40 \n",
      " loss:60595.2757,mae:0.7355,rmse:0.9307,recall:0.0381,precision:0.0807\n",
      " step:50 \n",
      " loss:59977.5104,mae:0.7314,rmse:0.9253,recall:0.0366,precision:0.0776\n",
      " step:60 \n",
      " loss:59462.0573,mae:0.7287,rmse:0.9219,recall:0.0331,precision:0.0703\n",
      " step:70 \n",
      " loss:59048.4957,mae:0.7272,rmse:0.9200,recall:0.0295,precision:0.0627\n",
      " step:80 \n",
      " loss:58729.0087,mae:0.7264,rmse:0.9191,recall:0.0273,precision:0.0579\n",
      " step:90 \n",
      " loss:58486.3105,mae:0.7261,rmse:0.9189,recall:0.0251,precision:0.0532\n",
      " end. \n",
      " loss:58317.9659,mae:0.7261,rmse:0.9191,recall:0.0237,precision:0.0503\n",
      "MAE:0.7261;RMSE:0.9191;Recall:0.0237;Precision:0.0503\n"
     ]
    }
   ],
   "source": [
    "model = pmf(train_list=train_list, \n",
    "            test_list=test_list, \n",
    "            N=N, \n",
    "            M=M,\n",
    "            K=K,\n",
    "            learning_rate=learning_rate, \n",
    "            lamda_regularizer=lamda_regularizer, \n",
    "            max_iteration=max_iteration)\n",
    "P, Q, records_array = model.train()\n",
    "print('MAE:%.4f;RMSE:%.4f;Recall:%.4f;Precision:%.4f'\n",
    "      %(records_array[:,1][-1],records_array[:,2][-1],records_array[:,3][-1],records_array[:,4][-1]))"
   ]
  },
  {
   "cell_type": "code",
   "execution_count": null,
   "metadata": {
    "id": "xbljd6Kk1eR8"
   },
   "outputs": [
    {
     "data": {
      "image/png": "[encoded data removed]",
      "text/plain": [
       "<Figure size 432x288 with 1 Axes>"
      ]
     },
     "metadata": {
      "filenames": {
       "image/png": "/content/reco-book/_build/jupyter_execute/nbs/T460437_Building_Models_From_Scratch_56_0.png"
      },
      "needs_background": "light",
      "tags": []
     },
     "output_type": "display_data"
    }
   ],
   "source": [
    "plot_figure(values_list=records_array[:,0],name='loss')"
   ]
  },
  {
   "cell_type": "code",
   "execution_count": null,
   "metadata": {
    "id": "SvSgjhFw1eNl"
   },
   "outputs": [
    {
     "data": {
      "image/png": "[encoded data removed]",
      "text/plain": [
       "<Figure size 432x288 with 1 Axes>"
      ]
     },
     "metadata": {
      "filenames": {
       "image/png": "/content/reco-book/_build/jupyter_execute/nbs/T460437_Building_Models_From_Scratch_57_0.png"
      },
      "needs_background": "light",
      "tags": []
     },
     "output_type": "display_data"
    }
   ],
   "source": [
    "plot_figure(values_list=records_array[:,1],name='MAE')"
   ]
  },
  {
   "cell_type": "markdown",
   "metadata": {
    "id": "_H8cNZeI1jFc"
   },
   "source": [
    "## WMF"
   ]
  },
  {
   "cell_type": "code",
   "execution_count": null,
   "metadata": {
    "id": "aBWRkwfp1wNX"
   },
   "outputs": [],
   "source": [
    "class wmf():\n",
    "    def __init__(self, \n",
    "                 train_list,            # train_list: train data \n",
    "                 test_list,             # test_list: test data\n",
    "                 N,                     # N:the number of user\n",
    "                 M,                     # M:the number of item\n",
    "                 K=10,                  # K: the number of latent factor\n",
    "                 alpha=40,              # alpha: the confidence of negtive samplers\n",
    "                 lamda_regularizer=0.1, # lamda_regularizer: regularization parameters\n",
    "                 max_iteration=50       # max_iteration: the max iteration\n",
    "                ):\n",
    "        self.train_list = train_list\n",
    "        self.test_list = test_list\n",
    "        self.N = N\n",
    "        self.M = M\n",
    "        self.K = K\n",
    "        self.alpha = alpha\n",
    "        self.lamda_regularizer = lamda_regularizer\n",
    "        self.max_iteration = max_iteration\n",
    "    \n",
    "    \n",
    "    def train(self):\n",
    "        P = np.random.normal(0, 0.1, (self.N, self.K))\n",
    "        Q = np.random.normal(0, 0.1, (self.M, self.K))\n",
    "\n",
    "        train_mat = sequence2mat(sequence = self.train_list, N = self.N, M = self.M)\n",
    "        test_mat = sequence2mat(sequence = self.test_list, N = self.N, M = self.M)\n",
    "\n",
    "        records_list = []\n",
    "        for step in range(self.max_iteration):\n",
    "            for u in range(self.N):\n",
    "                Ru = train_mat[u,:]\n",
    "                P[u,:] = self.update(Q, Ru, lamda_regularizer=self.lamda_regularizer, alpha=self.alpha)\n",
    "\n",
    "            for i in range(self.M):\n",
    "                Ri = train_mat[:,i]\n",
    "                Q[i,:] = self.update(P, Ri.T, lamda_regularizer=self.lamda_regularizer, alpha=self.alpha)\n",
    "\n",
    "            pred_mat = self.prediction(P, Q)\n",
    "            mae, rmse, recall, precision = evaluation(pred_mat, train_mat, test_mat)\n",
    "            records_list.append(np.array([mae, rmse, recall, precision]))\n",
    "\n",
    "            print(' step:%d \\n mae:%.4f,rmse:%.4f,recall:%.4f,precision:%.4f'%(step,mae,rmse,recall,precision))\n",
    "\n",
    "        print(' end. \\n mae:%.4f,rmse:%.4f,recall:%.4f,precision:%.4f'\n",
    "              %(records_list[-1][0],records_list[-1][1],records_list[-1][2],records_list[-1][3]))\n",
    "        return P, Q, np.array(records_list)\n",
    "\n",
    "\n",
    "    def update(self, P, Ru, lamda_regularizer=0.1, alpha=40):\n",
    "        # P: N/M *K\n",
    "        # Ru: N/M *1\n",
    "        N, K = P.shape\n",
    "        c_ui = 1 + alpha*Ru\n",
    "        Cu = c_ui* np.eye(N)   \n",
    "\n",
    "        YtCY_I = P.T.dot(Cu).dot(P) + lamda_regularizer*np.eye(K)\n",
    "        YtCRu = P.T.dot(Cu).dot(Ru)\n",
    "        p = np.linalg.inv(YtCY_I).dot(YtCRu)\n",
    "        return p.T\n",
    "\n",
    "\n",
    "    def prediction(self, P, Q):\n",
    "        N,K = P.shape\n",
    "        M,K = Q.shape\n",
    "\n",
    "        rating_list=[]\n",
    "        for u in range(N):\n",
    "            u_rating = np.sum(P[u,:]*Q, axis=1)\n",
    "            rating_list.append(u_rating)\n",
    "        r_pred = np.array(rating_list)\n",
    "        return r_pred"
   ]
  },
  {
   "cell_type": "code",
   "execution_count": null,
   "metadata": {
    "id": "PvX8cFdH1nRr"
   },
   "outputs": [],
   "source": [
    "max_iteration = 10\n",
    "alpha=40"
   ]
  },
  {
   "cell_type": "code",
   "execution_count": null,
   "metadata": {
    "id": "5ErZrClB1lMA"
   },
   "outputs": [
    {
     "name": "stdout",
     "output_type": "stream",
     "text": [
      " step:0 \n",
      " mae:2.2314,rmse:2.7460,recall:0.0182,precision:0.0386\n",
      " step:1 \n",
      " mae:0.8536,rmse:1.1179,recall:0.0722,precision:0.1530\n",
      " step:2 \n",
      " mae:0.8400,rmse:1.1036,recall:0.0751,precision:0.1593\n",
      " step:3 \n",
      " mae:0.8361,rmse:1.1002,recall:0.0759,precision:0.1610\n",
      " step:4 \n",
      " mae:0.8343,rmse:1.0983,recall:0.0775,precision:0.1644\n",
      " step:5 \n",
      " mae:0.8329,rmse:1.0969,recall:0.0777,precision:0.1648\n",
      " step:6 \n",
      " mae:0.8319,rmse:1.0959,recall:0.0776,precision:0.1646\n",
      " step:7 \n",
      " mae:0.8313,rmse:1.0954,recall:0.0776,precision:0.1647\n",
      " step:8 \n",
      " mae:0.8308,rmse:1.0953,recall:0.0786,precision:0.1667\n",
      " step:9 \n",
      " mae:0.8303,rmse:1.0954,recall:0.0788,precision:0.1671\n",
      " end. \n",
      " mae:0.8303,rmse:1.0954,recall:0.0788,precision:0.1671\n",
      "MAE:0.8303;RMSE:1.0954;Recall:0.0788;Precision:0.1671\n"
     ]
    }
   ],
   "source": [
    "model = wmf(train_list=train_list, \n",
    "            test_list=test_list, \n",
    "            N=N, \n",
    "            M=M,\n",
    "            K=K,\n",
    "            alpha=alpha,\n",
    "            lamda_regularizer=lamda_regularizer, \n",
    "            max_iteration=max_iteration)\n",
    "P, Q, records_array = model.train()\n",
    "print('MAE:%.4f;RMSE:%.4f;Recall:%.4f;Precision:%.4f'\n",
    "      %(records_array[:,0][-1],records_array[:,1][-1],records_array[:,2][-1],records_array[:,3][-1]))"
   ]
  },
  {
   "cell_type": "code",
   "execution_count": null,
   "metadata": {
    "id": "H8-xojut1o8Y"
   },
   "outputs": [
    {
     "data": {
      "image/png": "[encoded data removed]",
      "text/plain": [
       "<Figure size 432x288 with 1 Axes>"
      ]
     },
     "metadata": {
      "filenames": {
       "image/png": "/content/reco-book/_build/jupyter_execute/nbs/T460437_Building_Models_From_Scratch_62_0.png"
      },
      "needs_background": "light",
      "tags": []
     },
     "output_type": "display_data"
    }
   ],
   "source": [
    "plot_figure(values_list=records_array[:,2],name='Recall')"
   ]
  },
  {
   "cell_type": "code",
   "execution_count": null,
   "metadata": {
    "id": "uHyI8bSa1poa"
   },
   "outputs": [
    {
     "data": {
      "image/png": "[encoded data removed]",
      "text/plain": [
       "<Figure size 432x288 with 1 Axes>"
      ]
     },
     "metadata": {
      "filenames": {
       "image/png": "/content/reco-book/_build/jupyter_execute/nbs/T460437_Building_Models_From_Scratch_63_0.png"
      },
      "needs_background": "light",
      "tags": []
     },
     "output_type": "display_data"
    }
   ],
   "source": [
    "plot_figure(values_list=records_array[:,3],name='Precision')"
   ]
  },
  {
   "cell_type": "markdown",
   "metadata": {
    "id": "TjeeTO8n2afs"
   },
   "source": [
    "## SVD"
   ]
  },
  {
   "cell_type": "markdown",
   "metadata": {
    "id": "vDGeJoxZ20vq"
   },
   "source": [
    "<img src='https://www.notion.so/image/https%3A%2F%2Fs3-us-west-2.amazonaws.com%2Fsecure.notion-static.com%2Ff4d94b05-ddb7-4b90-9d74-df995650ca8e%2FUntitled.png?table=block&id=4f6d01de-c8ca-4ccb-8c8c-fe9260f7fcb0&spaceId=63b72b1f-0e90-4ab8-a6df-a060a6545a56&width=2000&userId=21ec183f-f0be-4b6b-9b3e-6f0d4e5c5469&cache=v2'>"
   ]
  },
  {
   "cell_type": "code",
   "execution_count": null,
   "metadata": {
    "id": "LjNmCWDi2dAR"
   },
   "outputs": [],
   "source": [
    "from sklearn.utils.extmath import randomized_svd\n",
    "def puresvd(R = None, # train mat\n",
    "            k=150, # the number of latent factor\n",
    "            ):\n",
    "    P, sigma, QT = randomized_svd(R, k)\n",
    "    sigma = scipy.sparse.diags(sigma, 0)\n",
    "    P = P * sigma\n",
    "    Q = QT.T   \n",
    "    # R_= np.dot(P, QT)\n",
    "    R_ = np.dot(R, np.dot(Q, QT)) #\n",
    "    return R_"
   ]
  },
  {
   "cell_type": "code",
   "execution_count": null,
   "metadata": {
    "id": "vPs7Bvat2c7N"
   },
   "outputs": [],
   "source": [
    "R_score = puresvd(R=train_mat, k=K)\n",
    "mae, rmse, recall, precision = evaluation(pred_mat=R_score, train_mat=train_mat, test_mat=test_mat)\n",
    "print('mae:%.4f,rmse:%.4f,recall:%.4f,precision:%.4f'%(mae,rmse,recall,precision))"
   ]
  },
  {
   "cell_type": "markdown",
   "metadata": {
    "id": "DWaLjZ5k11hs"
   },
   "source": [
    "## BiasSVD"
   ]
  },
  {
   "cell_type": "code",
   "execution_count": null,
   "metadata": {
    "id": "xGcRvmnG13f_"
   },
   "outputs": [],
   "source": [
    "class biassvd():\n",
    "    def __init__(self, \n",
    "                 train_list,            # train_list: train data \n",
    "                 test_list,             # test_list: test data\n",
    "                 N,                     # N:the number of user\n",
    "                 M,                     # M:the number of item\n",
    "                 K=10,                  # K: the number of latent factor\n",
    "                 learning_rate=0.001,   # learning_rate: the learning rata\n",
    "                 lamda_regularizer=0.1, # lamda_regularizer: regularization parameters\n",
    "                 max_iteration=50       # max_iteration: the max iteration\n",
    "                ):\n",
    "        self.train_list = train_list\n",
    "        self.test_list = test_list\n",
    "        self.N = N\n",
    "        self.M = M\n",
    "        self.K = K\n",
    "        self.learning_rate = learning_rate\n",
    "        self.lamda_regularizer = lamda_regularizer\n",
    "        self.max_iteration = max_iteration\n",
    "        \n",
    "        \n",
    "    def train(self):\n",
    "        P = np.random.normal(0, 0.1, (self.N, self.K))\n",
    "        Q = np.random.normal(0, 0.1, (self.M, self.K))\n",
    "        bu = np.zeros([self.N])\n",
    "        bi = np.zeros([self.M])\n",
    "\n",
    "        train_mat = sequence2mat(sequence = self.train_list, N = self.N, M = self.M)\n",
    "        test_mat = sequence2mat(sequence = self.test_list, N = self.N, M = self.M)\n",
    "\n",
    "        aveg_rating = np.mean(train_mat[train_mat>0])\n",
    "\n",
    "        records_list = []\n",
    "        for step in range(self.max_iteration):\n",
    "            los=0.0\n",
    "            for data in self.train_list:\n",
    "                u,i,r = data\n",
    "                P[u],Q[i],bu[u],bi[i],ls = self.update(P[u], Q[i], bu=bu[u], bi=bi[i], \n",
    "                                                       aveg_rating=aveg_rating, r=r,\n",
    "                                                       learning_rate=self.learning_rate, \n",
    "                                                       lamda_regularizer=self.lamda_regularizer)\n",
    "                los += ls\n",
    "            pred_mat = self.prediction(P, Q, bu, bi, aveg_rating)\n",
    "            mae, rmse, recall, precision = evaluation(pred_mat, train_mat, test_mat)\n",
    "            records_list.append(np.array([los, mae, rmse, recall, precision]))\n",
    "\n",
    "            if step % 10 ==0:\n",
    "                print(' step:%d \\n loss:%.4f,mae:%.4f,rmse:%.4f,recall:%.4f,precision:%.4f'\n",
    "                      %(step,los,mae,rmse,recall,precision))\n",
    "\n",
    "        print(' end. \\n loss:%.4f,mae:%.4f,rmse:%.4f,recall:%.4f,precision:%.4f'\n",
    "              %(records_list[-1][0],records_list[-1][1],records_list[-1][2],records_list[-1][3],records_list[-1][4]))\n",
    "        return P, Q, bu, bi, np.array(records_list)\n",
    "\n",
    "\n",
    "    def prediction(self, P, Q, bu, bi, aveg_rating):\n",
    "        N,K = P.shape\n",
    "        M,K = Q.shape\n",
    "\n",
    "        rating_list=[]\n",
    "        for u in range(N):\n",
    "            u_rating = aveg_rating + bu[u] + bi + np.sum(P[u,:]*Q, axis=1)\n",
    "            rating_list.append(u_rating)\n",
    "        r_pred = np.array(rating_list)\n",
    "        return r_pred\n",
    "\n",
    "\n",
    "    def update(self, p, q, bu, bi, aveg_rating, r, learning_rate=0.001, lamda_regularizer=0.1):\n",
    "        error = r - (aveg_rating + bu + bi + np.dot(p, q.T))            \n",
    "        p = p + learning_rate*(error*q - lamda_regularizer*p)\n",
    "        q = q + learning_rate*(error*p - lamda_regularizer*q)\n",
    "        bu = bu + learning_rate*(error - lamda_regularizer*bu)\n",
    "        bi = bi + learning_rate*(error - lamda_regularizer*bi)\n",
    "        loss = 0.5 * (error**2 + lamda_regularizer*(np.square(p).sum() + np.square(q).sum()) + bu**2 + bi**2)\n",
    "        return p, q, bu, bi, loss"
   ]
  },
  {
   "cell_type": "code",
   "execution_count": null,
   "metadata": {
    "id": "I7nYXhr913bk"
   },
   "outputs": [
    {
     "name": "stdout",
     "output_type": "stream",
     "text": [
      " step:0 \n",
      " loss:46872.3253,mae:0.8161,rmse:1.0085,recall:0.0638,precision:0.1353\n",
      " step:10 \n",
      " loss:47453.6253,mae:0.7516,rmse:0.9502,recall:0.0358,precision:0.0759\n",
      " step:20 \n",
      " loss:47772.9913,mae:0.7465,rmse:0.9452,recall:0.0295,precision:0.0626\n",
      " step:30 \n",
      " loss:47453.6354,mae:0.7410,rmse:0.9391,recall:0.0304,precision:0.0645\n",
      " step:40 \n",
      " loss:46753.5474,mae:0.7329,rmse:0.9298,recall:0.0302,precision:0.0641\n",
      " step:50 \n",
      " loss:46051.6004,mae:0.7273,rmse:0.9228,recall:0.0323,precision:0.0686\n",
      " step:60 \n",
      " loss:45389.8553,mae:0.7237,rmse:0.9184,recall:0.0321,precision:0.0682\n",
      " step:70 \n",
      " loss:44785.6377,mae:0.7214,rmse:0.9157,recall:0.0299,precision:0.0634\n",
      " step:80 \n",
      " loss:44272.4167,mae:0.7202,rmse:0.9143,recall:0.0278,precision:0.0590\n",
      " step:90 \n",
      " loss:43856.1163,mae:0.7197,rmse:0.9137,recall:0.0256,precision:0.0543\n",
      " end. \n",
      " loss:43554.0978,mae:0.7196,rmse:0.9137,recall:0.0233,precision:0.0495\n",
      "MAE:0.7196;RMSE:0.9137;Recall:0.0233;Precision:0.0495\n"
     ]
    }
   ],
   "source": [
    "max_iteration = 100\n",
    "model = biassvd(train_list=train_list, \n",
    "                test_list=test_list, \n",
    "                N=N, \n",
    "                M=M,\n",
    "                K=K,\n",
    "                learning_rate=learning_rate, \n",
    "                lamda_regularizer=lamda_regularizer, \n",
    "                max_iteration=max_iteration)\n",
    "P, Q, bu, bi, records_array = model.train()\n",
    "print('MAE:%.4f;RMSE:%.4f;Recall:%.4f;Precision:%.4f'\n",
    "      %(records_array[:,1][-1],records_array[:,2][-1],records_array[:,3][-1],records_array[:,4][-1]))"
   ]
  },
  {
   "cell_type": "code",
   "execution_count": null,
   "metadata": {
    "id": "13YRenYq13MW"
   },
   "outputs": [
    {
     "data": {
      "image/png": "[encoded data removed]",
      "text/plain": [
       "<Figure size 432x288 with 1 Axes>"
      ]
     },
     "metadata": {
      "filenames": {
       "image/png": "/content/reco-book/_build/jupyter_execute/nbs/T460437_Building_Models_From_Scratch_71_0.png"
      },
      "needs_background": "light",
      "tags": []
     },
     "output_type": "display_data"
    }
   ],
   "source": [
    "plot_figure(values_list=records_array[:,0],name='loss')"
   ]
  },
  {
   "cell_type": "code",
   "execution_count": null,
   "metadata": {
    "id": "s84OHQQQ13G9"
   },
   "outputs": [
    {
     "data": {
      "image/png": "[encoded data removed]",
      "text/plain": [
       "<Figure size 432x288 with 1 Axes>"
      ]
     },
     "metadata": {
      "filenames": {
       "image/png": "/content/reco-book/_build/jupyter_execute/nbs/T460437_Building_Models_From_Scratch_72_0.png"
      },
      "needs_background": "light",
      "tags": []
     },
     "output_type": "display_data"
    }
   ],
   "source": [
    "plot_figure(values_list=records_array[:,1],name='MAE')"
   ]
  },
  {
   "cell_type": "markdown",
   "metadata": {
    "id": "ydmWSYbJ2NP2"
   },
   "source": [
    "## SVD++"
   ]
  },
  {
   "cell_type": "code",
   "execution_count": null,
   "metadata": {
    "id": "8PE0Le8c2O6e"
   },
   "outputs": [],
   "source": [
    "class svdplus():\n",
    "    def __init__(self, \n",
    "                 train_list,            # train_list: train data \n",
    "                 test_list,             # test_list: test data\n",
    "                 N,                     # N:the number of user\n",
    "                 M,                     # M:the number of item\n",
    "                 K=10,                  # K: the number of latent factor\n",
    "                 learning_rate=0.001,   # learning_rate: the learning rata\n",
    "                 lamda_regularizer=0.1, # lamda_regularizer: regularization parameters\n",
    "                 max_iteration=50       # max_iteration: the max iteration\n",
    "                ):\n",
    "        self.train_list = train_list\n",
    "        self.test_list = test_list\n",
    "        self.N = N\n",
    "        self.M = M\n",
    "        self.K = K\n",
    "        self.learning_rate = learning_rate\n",
    "        self.lamda_regularizer = lamda_regularizer\n",
    "        self.max_iteration = max_iteration\n",
    "    \n",
    "    \n",
    "    def train(self): \n",
    "        P = np.random.normal(0, 0.1, (self.N, self.K))\n",
    "        Q = np.random.normal(0, 0.1, (self.M, self.K))\n",
    "        Y = np.random.normal(0, 0.1, (self.M, self.K))\n",
    "        bu = np.zeros([self.N])\n",
    "        bi = np.zeros([self.M])\n",
    "\n",
    "        train_mat = sequence2mat(sequence = self.train_list, N = self.N, M = self.M)\n",
    "        test_mat = sequence2mat(sequence = self.test_list, N = self.N, M = self.M)\n",
    "\n",
    "        aveg_rating = np.mean(train_mat[train_mat>0])\n",
    "\n",
    "        records_list = []\n",
    "        for step in range(self.max_iteration):\n",
    "            los=0.0\n",
    "            for data in self.train_list:\n",
    "                u,i,r = data\n",
    "                P[u],Q[i],bu[u],bi[i],Y, ls = self.update(p=P[u], q=Q[i], bu=bu[u], bi=bi[i], Y=Y, \n",
    "                                                          aveg_rating=aveg_rating, r=r,Ru = train_mat[u], \n",
    "                                                          learning_rate=self.learning_rate, \n",
    "                                                          lamda_regularizer=self.lamda_regularizer)\n",
    "                los += ls\n",
    "            pred_mat = self.prediction(P, Q, Y, bu, bi, aveg_rating, train_mat)\n",
    "            mae, rmse, recall, precision = evaluation(pred_mat, train_mat, test_mat)\n",
    "            records_list.append(np.array([los, mae, rmse, recall, precision]))\n",
    "\n",
    "            if step % 10 ==0:\n",
    "                print(' step:%d \\n loss:%.4f,mae:%.4f,rmse:%.4f,recall:%.4f,precision:%.4f'\n",
    "                      %(step,los,mae,rmse,recall,precision))\n",
    "\n",
    "        print(' end. \\n loss:%.4f,mae:%.4f,rmse:%.4f,recall:%.4f,precision:%.4f'\n",
    "              %(records_list[-1][0],records_list[-1][1],records_list[-1][2],records_list[-1][3],records_list[-1][4]))\n",
    "        return P, Q, Y, bu, bi, np.array(records_list)\n",
    "\n",
    "\n",
    "    def update(self, p, q, bu, bi, Y, aveg_rating, r, Ru, learning_rate=0.001, lamda_regularizer=0.1):\n",
    "        Iu = np.sum(Ru>0)\n",
    "        y_sum = np.sum(Y[np.where(Ru>0)], axis=0)\n",
    "        error = r - (aveg_rating + bu + bi + np.dot(p+Iu**(-0.5)*y_sum, q.T))            \n",
    "        p = p + learning_rate*(error*q - lamda_regularizer*p)\n",
    "        q = q + learning_rate*(error*(p + Iu**(-0.5)*y_sum) - lamda_regularizer*q)\n",
    "        bu = bu + learning_rate*(error - lamda_regularizer*bu)\n",
    "        bi = bi + learning_rate*(error - lamda_regularizer*bi)\n",
    "\n",
    "        l = 0\n",
    "        for j in np.where(Ru>0):\n",
    "            Y[j] = Y[j] + learning_rate*(error*Iu**(-0.5)*q - lamda_regularizer*Y[j])\n",
    "            l = l + np.square(Y[j]).sum()\n",
    "\n",
    "        loss = 0.5 * (error**2 + lamda_regularizer*(np.square(p).sum() + np.square(q).sum()) + bu**2 + bi**2 + l)\n",
    "        return p, q, bu, bi, Y, loss\n",
    "\n",
    "\n",
    "    def prediction(self, P, Q, Y, bu, bi, aveg_rating, R):\n",
    "        N,K = P.shape\n",
    "        M,K = Q.shape\n",
    "\n",
    "        rating_list=[]\n",
    "        for u in range(N):\n",
    "            Ru = R[u]\n",
    "            Iu = np.sum(Ru>0)\n",
    "            y_sum = np.sum(Y[np.where(Ru>0)],axis=0)\n",
    "            u_rating = aveg_rating + bu[u]+ bi + np.sum((P[u,:]+Iu**(-0.5)*y_sum)*Q,axis=1)\n",
    "            rating_list.append(u_rating)\n",
    "        r_pred = np.array(rating_list)\n",
    "        return r_pred"
   ]
  },
  {
   "cell_type": "code",
   "execution_count": null,
   "metadata": {
    "id": "p925itar2O1f"
   },
   "outputs": [],
   "source": [
    "model = svdplus(train_list=train_list, \n",
    "                test_list=test_list, \n",
    "                N=N, \n",
    "                M=M,\n",
    "                K=K,\n",
    "                learning_rate=learning_rate, \n",
    "                lamda_regularizer=lamda_regularizer, \n",
    "                max_iteration=max_iteration)\n",
    "P, Q, Y, bu, bi, records_array = model.train()\n",
    "print('MAE:%.4f;RMSE:%.4f;Recall:%.4f;Precision:%.4f'\n",
    "      %(records_array[:,1][-1],records_array[:,2][-1],records_array[:,3][-1],records_array[:,4][-1]))"
   ]
  },
  {
   "cell_type": "code",
   "execution_count": null,
   "metadata": {
    "id": "ws9gfAFQ2OwU"
   },
   "outputs": [],
   "source": [
    "plot_figure(values_list=records_array[:,0],name='loss')"
   ]
  },
  {
   "cell_type": "code",
   "execution_count": null,
   "metadata": {
    "id": "5mLW292z2OrI"
   },
   "outputs": [],
   "source": [
    "plot_figure(values_list=records_array[:,1],name='MAE')"
   ]
  },
  {
   "cell_type": "markdown",
   "metadata": {
    "id": "jugX3EBkuvfU"
   },
   "source": [
    "## MLP"
   ]
  },
  {
   "cell_type": "markdown",
   "metadata": {
    "id": "IIc7numo28TY"
   },
   "source": [
    "<img src='https://www.notion.so/image/https%3A%2F%2Fs3-us-west-2.amazonaws.com%2Fsecure.notion-static.com%2Fd5fbd3d9-147f-4bd2-8ba2-9d92e59935a0%2FUntitled.png?table=block&id=ce89cc19-d2c6-45ab-a02b-ddc7765d47c6&spaceId=63b72b1f-0e90-4ab8-a6df-a060a6545a56&width=2000&userId=21ec183f-f0be-4b6b-9b3e-6f0d4e5c5469&cache=v2' width=50%>"
   ]
  },
  {
   "cell_type": "code",
   "execution_count": null,
   "metadata": {
    "id": "tAr7HlhRuwJa"
   },
   "outputs": [],
   "source": [
    "class mlp():\n",
    "    def __init__(self,               \n",
    "                 users_num = None,\n",
    "                 items_num = None,\n",
    "                 embedding_size = 16,\n",
    "                 hidden_sizes = [16,8],\n",
    "                 learning_rate = 1e-3,\n",
    "                 lamda_regularizer=1e-3,\n",
    "                 batch_size = 256\n",
    "                ):\n",
    "        self.users_num = users_num\n",
    "        self.items_num = items_num\n",
    "        self.embedding_size = embedding_size\n",
    "        self.hidden_sizes = hidden_sizes\n",
    "        self.learning_rate = learning_rate\n",
    "        self.lamda_regularizer = lamda_regularizer\n",
    "        self.batch_size = batch_size\n",
    "\n",
    "        # loss records\n",
    "        self.train_loss_records = []  \n",
    "        self.build_graph()   \n",
    "\n",
    "        \n",
    "    def build_graph(self):\n",
    "        self.graph = tf.Graph()\n",
    "        with self.graph.as_default():       \n",
    "            # _________ input data _________\n",
    "            self.users_inputs = tf.compat.v1.placeholder(tf.int32, shape = [None], name='users_inputs')\n",
    "            self.items_inputs = tf.compat.v1.placeholder(tf.int32, shape = [None], name='items_inputs')\n",
    "            self.train_labels = tf.compat.v1.placeholder(tf.float32, shape = [None], name='train_labels') \n",
    "            \n",
    "            # _________ variables _________\n",
    "            self.weights = self._initialize_weights()\n",
    "            \n",
    "            # _________ train _____________\n",
    "            self.y_ = self.inference(users_inputs=self.users_inputs, items_inputs=self.items_inputs)\n",
    "            self.loss_train = self.loss_function(true_labels=self.train_labels, \n",
    "                                                 predicted_labels=tf.reshape(self.y_,shape=[-1]),\n",
    "                                                 lamda_regularizer=self.lamda_regularizer)\n",
    "            self.train_op = tf.compat.v1.train.AdamOptimizer(learning_rate=self.learning_rate,beta1=0.9, beta2=0.999, epsilon=1e-08).minimize(self.loss_train) \n",
    "\n",
    "            # _________ prediction _____________\n",
    "            self.predictions = self.inference(users_inputs=self.users_inputs, items_inputs=self.items_inputs)\n",
    "        \n",
    "            #变量初始化 init \n",
    "            init = tf.compat.v1.global_variables_initializer()\n",
    "            self.sess = self._init_session()\n",
    "            self.sess.run(init)\n",
    "    \n",
    "    \n",
    "    def _init_session(self):\n",
    "        # adaptively growing memory\n",
    "        config = tf.compat.v1.ConfigProto()\n",
    "        config.gpu_options.allow_growth = True\n",
    "        return tf.compat.v1.Session(config=config)\n",
    "    \n",
    "    \n",
    "    def _initialize_weights(self):\n",
    "        all_weights = dict()\n",
    "\n",
    "        # -----embedding layer------\n",
    "        all_weights['embedding_users'] = tf.Variable(tf.random.normal([self.users_num, self.embedding_size],0, 0.1),name='embedding_users')\n",
    "        all_weights['embedding_items'] = tf.Variable(tf.random.normal([self.items_num, self.embedding_size],\n",
    "                                                                      0, 0.1),name='embedding_items') \n",
    "        \n",
    "        # ------hidden layer------\n",
    "        all_weights['weight_0'] = tf.Variable(tf.random.normal([self.embedding_size * 2,self.hidden_sizes[0]], 0.0, 0.1),name='weight_0')\n",
    "        all_weights['bias_0'] = tf.Variable(tf.zeros([self.hidden_sizes[0]]), name='bias_0')\n",
    "        all_weights['weight_1'] = tf.Variable(tf.random.normal([self.hidden_sizes[0],self.hidden_sizes[1]], 0.0, 0.1), name='weight_1')\n",
    "        all_weights['bias_1'] = tf.Variable(tf.zeros([self.hidden_sizes[1]]), name='bias_1')\n",
    "        \n",
    "        # ------output layer-----\n",
    "        all_weights['weight_n'] = tf.Variable(tf.random.normal([self.hidden_sizes[-1], 1], 0, 0.1), name='weight_n')\n",
    "        all_weights['bias_n'] = tf.Variable(tf.zeros([1]), name='bias_n')\n",
    "        return all_weights\n",
    "        \n",
    "    \n",
    "    def train(self, data_sequence):\n",
    "        train_size = len(data_sequence)\n",
    "        batch_size = self.batch_size\n",
    "        total_batch = math.ceil(train_size/batch_size)\n",
    "\n",
    "        for batch in range(total_batch):\n",
    "            start = (batch*batch_size)% train_size\n",
    "            end = min(start+batch_size, train_size)\n",
    "            data_array = np.array(data_sequence[start:end])\n",
    "            X = data_array[:,:2] # u,i\n",
    "            y = data_array[:,-1] # label\n",
    "\n",
    "            feed_dict = {self.users_inputs: X[:,0], self.items_inputs: X[:,1], self.train_labels:y}  \n",
    "            loss, opt = self.sess.run([self.loss_train,self.train_op], feed_dict=feed_dict)\n",
    "            self.train_loss_records.append(loss)\n",
    "            \n",
    "        return self.train_loss_records\n",
    "\n",
    "\n",
    "    def inference(self, users_inputs, items_inputs):\n",
    "        embed_users = tf.reshape(tf.nn.embedding_lookup(self.weights['embedding_users'], users_inputs),\n",
    "                                 shape=[-1, self.embedding_size])\n",
    "        embed_items = tf.reshape(tf.nn.embedding_lookup(self.weights['embedding_items'], items_inputs),\n",
    "                                 shape=[-1, self.embedding_size])\n",
    "            \n",
    "        layer0 = tf.nn.relu(tf.matmul(tf.concat([embed_items,embed_users],1), self.weights['weight_0']) + self.weights['bias_0'])\n",
    "        layer1 = tf.nn.relu(tf.matmul(layer0, self.weights['weight_1']) + self.weights['bias_1'])       \n",
    "        y_ = tf.matmul(layer1,self.weights['weight_n']) + self.weights['bias_n']\n",
    "        return y_         \n",
    "        \n",
    "        \n",
    "    def loss_function(self, true_labels, predicted_labels,lamda_regularizer=1e-3):   \n",
    "        loss = tf.compat.v1.losses.mean_squared_error(true_labels, predicted_labels)\n",
    "        cost = loss\n",
    "        if lamda_regularizer>0:\n",
    "            regularizer_1 = tf.contrib.layers.l2_regularizer(lamda_regularizer)\n",
    "            regularization = regularizer_1(\n",
    "                self.weights['embedding_users']) + regularizer_1(\n",
    "                self.weights['embedding_items'])+ regularizer_1(\n",
    "                self.weights['weight_0']) + regularizer_1(\n",
    "                self.weights['weight_1']) + regularizer_1(\n",
    "                self.weights['weight_n'])\n",
    "            cost = loss + regularization\n",
    "\n",
    "        return cost   \n",
    "    \n",
    "    \n",
    "    def predict_ratings(self, data_sequence):\n",
    "        pred_mat = np.zeros([self.users_num, self.items_num])\n",
    "        \n",
    "        instances_size = len(data_sequence)\n",
    "        data_array = np.array(data_sequence)\n",
    "        items_id = np.array([i for i in range(self.items_num)])\n",
    "        for u in range(self.users_num):\n",
    "            users_id = u*np.ones_like(items_id)\n",
    "            feed_dict = {self.users_inputs:users_id, \n",
    "                         self.items_inputs:items_id}  \n",
    "            out = self.sess.run([self.predictions], feed_dict=feed_dict)\n",
    "            pred_mat[u] = np.reshape(out,(-1))\n",
    "\n",
    "        return pred_mat"
   ]
  },
  {
   "cell_type": "code",
   "execution_count": null,
   "metadata": {
    "id": "YPWGOfXIy880"
   },
   "outputs": [],
   "source": [
    "users_num = N\n",
    "items_num = M\n",
    "hidden_size = 500\n",
    "batch_size = 256\n",
    "lamda_regularizer = 1e-3\n",
    "learning_rate = 1e-4\n",
    "epoches  = 100\n",
    "embedding_size = 8"
   ]
  },
  {
   "cell_type": "code",
   "execution_count": null,
   "metadata": {
    "id": "oy-_STKYvCt-"
   },
   "outputs": [
    {
     "name": "stdout",
     "output_type": "stream",
     "text": [
      "epoch:0  loss=14.1272; \n",
      " MAE=3.4707; RMSE=3.6485; Recall=0.0110; Precision=0.0233; Hit=0.0110; NDCG=0.0049\n",
      "epoch:10  loss=0.9330; \n",
      " MAE=0.8052; RMSE=1.0114; Recall=0.0621; Precision=0.1317; Hit=0.0621; NDCG=0.0305\n",
      "epoch:20  loss=1.1057; \n",
      " MAE=0.7549; RMSE=0.9589; Recall=0.0452; Precision=0.0959; Hit=0.0452; NDCG=0.0189\n",
      "epoch:30  loss=1.0902; \n",
      " MAE=0.7459; RMSE=0.9493; Recall=0.0403; Precision=0.0856; Hit=0.0403; NDCG=0.0165\n",
      "epoch:40  loss=1.0826; \n",
      " MAE=0.7434; RMSE=0.9463; Recall=0.0376; Precision=0.0796; Hit=0.0376; NDCG=0.0154\n",
      "epoch:50  loss=0.9546; \n",
      " MAE=0.7424; RMSE=0.9454; Recall=0.0367; Precision=0.0777; Hit=0.0367; NDCG=0.0152\n",
      "epoch:60  loss=1.1408; \n",
      " MAE=0.7416; RMSE=0.9450; Recall=0.0360; Precision=0.0764; Hit=0.0360; NDCG=0.0147\n",
      "epoch:70  loss=0.7712; \n",
      " MAE=0.7419; RMSE=0.9446; Recall=0.0323; Precision=0.0685; Hit=0.0323; NDCG=0.0136\n",
      "epoch:80  loss=0.9435; \n",
      " MAE=0.7416; RMSE=0.9446; Recall=0.0323; Precision=0.0684; Hit=0.0323; NDCG=0.0135\n",
      "epoch:90  loss=0.7107; \n",
      " MAE=0.7416; RMSE=0.9445; Recall=0.0309; Precision=0.0655; Hit=0.0309; NDCG=0.0131\n"
     ]
    }
   ],
   "source": [
    "learning_rate = 1e-4\n",
    "hidden_sizes = [embedding_size,int(embedding_size/2)]\n",
    "model = mlp(users_num = users_num,\n",
    "            items_num = items_num,\n",
    "            embedding_size = embedding_size,\n",
    "            hidden_sizes = hidden_sizes,\n",
    "            learning_rate = learning_rate,\n",
    "            lamda_regularizer = lamda_regularizer,\n",
    "            batch_size = batch_size)\n",
    "\n",
    "records_list = []\n",
    "input_data = train_list\n",
    "for epoch in range(epoches):\n",
    "    data_mat = np.random.permutation(input_data) \n",
    "    loss = model.train(data_sequence=data_mat)\n",
    "    pred_mat = model.predict_ratings(data_sequence=test_list)\n",
    "    mae, rmse, recall, precision = evaluation(pred_mat, train_mat, test_mat)\n",
    "    records_list.append([loss[-1],mae, rmse, recall, precision])\n",
    "    if epoch % 10==0:\n",
    "        topn = get_topn(pred_mat, train_mat, n=10)\n",
    "        hit_list, ndcg_list = hit_ndcg(test_sequence=np.array(test_list), ranklist=topn)\n",
    "        hit, ndcg = np.array(hit_list).mean(),np.array(ndcg_list).mean()\n",
    "        print('epoch:%d  loss=%.4f; \\n MAE=%.4f; RMSE=%.4f; Recall=%.4f; Precision=%.4f; Hit=%.4f; NDCG=%.4f'\n",
    "              %(epoch, loss[-1], mae, rmse, recall, precision, hit, ndcg))"
   ]
  },
  {
   "cell_type": "code",
   "execution_count": null,
   "metadata": {
    "id": "XAWk0KZ7wUoB"
   },
   "outputs": [
    {
     "data": {
      "image/png": "[encoded data removed]",
      "text/plain": [
       "<Figure size 432x288 with 1 Axes>"
      ]
     },
     "metadata": {
      "filenames": {
       "image/png": "/content/reco-book/_build/jupyter_execute/nbs/T460437_Building_Models_From_Scratch_83_0.png"
      },
      "needs_background": "light",
      "tags": []
     },
     "output_type": "display_data"
    }
   ],
   "source": [
    "plot_figure(values_list=np.array(records_list)[:,0],name='loss')"
   ]
  },
  {
   "cell_type": "code",
   "execution_count": null,
   "metadata": {
    "id": "AQUTWyIPwT4Z"
   },
   "outputs": [
    {
     "data": {
      "image/png": "[encoded data removed]",
      "text/plain": [
       "<Figure size 432x288 with 1 Axes>"
      ]
     },
     "metadata": {
      "filenames": {
       "image/png": "/content/reco-book/_build/jupyter_execute/nbs/T460437_Building_Models_From_Scratch_84_0.png"
      },
      "needs_background": "light",
      "tags": []
     },
     "output_type": "display_data"
    }
   ],
   "source": [
    "plot_figure(values_list=np.array(records_list)[:,2],name='RMSE')"
   ]
  },
  {
   "cell_type": "code",
   "execution_count": null,
   "metadata": {
    "id": "-eiw9viUwT0y"
   },
   "outputs": [
    {
     "data": {
      "image/png": "[encoded data removed]",
      "text/plain": [
       "<Figure size 432x288 with 1 Axes>"
      ]
     },
     "metadata": {
      "filenames": {
       "image/png": "/content/reco-book/_build/jupyter_execute/nbs/T460437_Building_Models_From_Scratch_85_0.png"
      },
      "needs_background": "light",
      "tags": []
     },
     "output_type": "display_data"
    }
   ],
   "source": [
    "plot_figure(values_list=np.array(records_list)[:,-1],name='Precision')"
   ]
  },
  {
   "cell_type": "markdown",
   "metadata": {
    "id": "6c_9EgLXvqPP"
   },
   "source": [
    "## AutoRec"
   ]
  },
  {
   "cell_type": "markdown",
   "metadata": {
    "id": "HMtIVKXR3RJd"
   },
   "source": [
    "<img src='https://www.notion.so/image/https%3A%2F%2Fs3-us-west-2.amazonaws.com%2Fsecure.notion-static.com%2F23e2e6a6-6a9b-4a78-b5ca-ad61f89c1633%2FUntitled.png?table=block&id=29caaba9-6e27-49aa-8737-da51c3575af2&spaceId=63b72b1f-0e90-4ab8-a6df-a060a6545a56&width=2000&userId=21ec183f-f0be-4b6b-9b3e-6f0d4e5c5469&cache=v2'>"
   ]
  },
  {
   "cell_type": "code",
   "execution_count": null,
   "metadata": {
    "id": "TNB74RhTvQhZ"
   },
   "outputs": [],
   "source": [
    "class autorec():\n",
    "    def __init__(self,\n",
    "                 users_num = None,         #用户数\n",
    "                 items_num = None,         #商品数\n",
    "                 hidden_size = 500,        #隐层节点数目，即用户的嵌入空间维度\n",
    "                 batch_size = 256,         #batch大小\n",
    "                 learning_rate = 1e-3,     #学习率\n",
    "                 lamda_regularizer = 1e-3, #正则项系数\n",
    "                ):\n",
    "        self.users_num = users_num\n",
    "        self.items_num = items_num\n",
    "        self.hidden_size = hidden_size\n",
    "        self.batch_size = batch_size\n",
    "        self.learning_rate = learning_rate\n",
    "        self.lamda_regularizer = lamda_regularizer\n",
    "        \n",
    "        self.train_loss_records = []  \n",
    "        self.build_graph()   \n",
    "\n",
    "        \n",
    "    def build_graph(self):\n",
    "        self.graph = tf.Graph()\n",
    "        with self.graph.as_default():      \n",
    "            # _________ input data _________\n",
    "            self.rating_inputs = tf.compat.v1.placeholder(tf.float32, shape = [None, self.items_num], name='rating_inputs')\n",
    "            \n",
    "            # _________ variables _________\n",
    "            self.weights = self._initialize_weights()\n",
    "            \n",
    "            # _________ train _____________\n",
    "            self.y_ = self.inference(rating_inputs=self.rating_inputs)\n",
    "            self.loss_train = self.loss_function(true_r=self.rating_inputs, predicted_r=self.y_, lamda_regularizer=self.lamda_regularizer)\n",
    "            self.train_op = tf.compat.v1.train.AdamOptimizer(learning_rate=self.learning_rate, beta1=0.9, beta2=0.999, epsilon=1e-08).minimize(self.loss_train) \n",
    "        \n",
    "            # _________ prediction _____________\n",
    "            self.predictions = self.inference(rating_inputs=self.rating_inputs)\n",
    "            \n",
    "            #变量初始化 init \n",
    "            init = tf.compat.v1.global_variables_initializer()\n",
    "            self.sess = self._init_session()\n",
    "            self.sess.run(init)\n",
    "    \n",
    "    \n",
    "    def _init_session(self):\n",
    "        # adaptively growing memory\n",
    "        config = tf.compat.v1.ConfigProto()\n",
    "        config.gpu_options.allow_growth = True\n",
    "        return tf.compat.v1.Session(config=config)\n",
    "    \n",
    "    \n",
    "    def _initialize_weights(self):\n",
    "        all_weights = dict()\n",
    "        all_weights['V'] = tf.Variable(tf.random.normal([self.items_num, self.hidden_size], 0.0, 0.1), name='V')\n",
    "        all_weights['mu'] = tf.Variable(tf.zeros([self.hidden_size]), name='mu')\n",
    "        all_weights['W'] = tf.Variable(tf.random.normal([self.hidden_size, self.items_num], 0.0, 0.1), name='W')\n",
    "        all_weights['b'] = tf.Variable(tf.zeros([self.items_num]), name='b')\n",
    "        return all_weights\n",
    "    \n",
    "    \n",
    "    def train(self, data_mat):\n",
    "        instances_size = len(data_mat)\n",
    "        batch_size = self.batch_size\n",
    "        total_batch = math.ceil(instances_size/batch_size)\n",
    "        for batch in range(total_batch):\n",
    "            start = (batch*batch_size)% instances_size\n",
    "            end = min(start+batch_size, instances_size)\n",
    "            feed_dict = {self.rating_inputs: data_mat[start:end]}  \n",
    "            loss, opt = self.sess.run([self.loss_train, self.train_op], feed_dict=feed_dict)\n",
    "            self.train_loss_records.append(loss)\n",
    "            \n",
    "        return self.train_loss_records\n",
    "\n",
    "        \n",
    "    # 网络的前向传播\n",
    "    def inference(self, rating_inputs):\n",
    "        encoder = tf.nn.sigmoid(tf.matmul(rating_inputs, self.weights['V']) + self.weights['mu'])\n",
    "        decoder = tf.identity(tf.matmul(encoder, self.weights['W']) + self.weights['b'])\n",
    "        return decoder         \n",
    "        \n",
    "        \n",
    "    def loss_function(self, true_r, predicted_r, lamda_regularizer=1e-3):\n",
    "        idx = tf.where(true_r>0)\n",
    "        true_y = tf.gather_nd(true_r, idx)\n",
    "        predicted_y = tf.gather_nd(predicted_r, idx)\n",
    "        mse = tf.compat.v1.losses.mean_squared_error(true_y, predicted_y)\n",
    "        regularizer = tf.contrib.layers.l2_regularizer(lamda_regularizer)\n",
    "        regularization = regularizer(self.weights['V']) + regularizer(self.weights['W'])\n",
    "        cost = mse + regularization\n",
    "        return cost \n",
    "    \n",
    "    \n",
    "    def predict_ratings(self, data_mat):\n",
    "        pred_mat = np.zeros([self.users_num, self.items_num])\n",
    "        \n",
    "        instances_size = len(data_mat)\n",
    "        batch_size = self.batch_size\n",
    "        total_batch = math.ceil(instances_size/batch_size)\n",
    "        for batch in range(total_batch):\n",
    "            start = (batch*batch_size)% instances_size\n",
    "            end = min(start+batch_size, instances_size)\n",
    "            feed_dict = {self.rating_inputs: data_mat[start:end]}  \n",
    "            out = self.sess.run([self.predictions], feed_dict=feed_dict)\n",
    "            pred_mat[start:end,:] = np.reshape(out,(-1,self.items_num))\n",
    "\n",
    "        return pred_mat"
   ]
  },
  {
   "cell_type": "code",
   "execution_count": null,
   "metadata": {
    "id": "lpoYqqy0zDDK"
   },
   "outputs": [],
   "source": [
    "users_num = N\n",
    "items_num = M\n",
    "hidden_size = 500\n",
    "batch_size = 256\n",
    "lamda_regularizer = 1e-3\n",
    "learning_rate = 1e-3\n",
    "epoches  = 100\n",
    "embedding_size = 8"
   ]
  },
  {
   "cell_type": "code",
   "execution_count": null,
   "metadata": {
    "id": "OHor8fAsv2jA"
   },
   "outputs": [
    {
     "name": "stdout",
     "output_type": "stream",
     "text": [
      "epoch:0  loss=24.2964; \n",
      " MAE=3.5297; RMSE=3.9273; Recall=0.0103; Precision=0.0217\n",
      "epoch:10  loss=16.9620; \n",
      " MAE=2.5527; RMSE=2.9667; Recall=0.0167; Precision=0.0354\n",
      "epoch:20  loss=12.6437; \n",
      " MAE=1.7899; RMSE=2.1856; Recall=0.0200; Precision=0.0424\n",
      "epoch:30  loss=10.4896; \n",
      " MAE=1.3248; RMSE=1.6534; Recall=0.0243; Precision=0.0514\n",
      "epoch:40  loss=9.4038; \n",
      " MAE=1.1130; RMSE=1.3923; Recall=0.0246; Precision=0.0522\n",
      "epoch:50  loss=8.9156; \n",
      " MAE=1.0301; RMSE=1.2882; Recall=0.0238; Precision=0.0504\n",
      "epoch:60  loss=8.6506; \n",
      " MAE=0.9955; RMSE=1.2448; Recall=0.0243; Precision=0.0514\n",
      "epoch:70  loss=8.3318; \n",
      " MAE=0.9777; RMSE=1.2228; Recall=0.0240; Precision=0.0509\n",
      "epoch:80  loss=8.1872; \n",
      " MAE=0.9658; RMSE=1.2083; Recall=0.0240; Precision=0.0510\n",
      "epoch:90  loss=7.8398; \n",
      " MAE=0.9569; RMSE=1.1974; Recall=0.0237; Precision=0.0503\n"
     ]
    }
   ],
   "source": [
    "model = autorec(users_num = users_num,\n",
    "                items_num = items_num,\n",
    "                hidden_size = hidden_size,\n",
    "                batch_size = batch_size,\n",
    "                learning_rate = learning_rate,\n",
    "                lamda_regularizer = lamda_regularizer)\n",
    "\n",
    "records_list = []\n",
    "for epoch in range(epoches):\n",
    "    data_mat = np.random.permutation(train_mat) \n",
    "    loss = model.train(data_mat=data_mat)\n",
    "    pred_mat = model.predict_ratings(data_mat=train_mat)\n",
    "    mae, rmse, recall, precision = evaluation(pred_mat, train_mat, test_mat)\n",
    "    records_list.append([loss[-1],mae, rmse, recall, precision])\n",
    "    if epoch % 10==0:\n",
    "        print('epoch:%d  loss=%.4f; \\n MAE=%.4f; RMSE=%.4f; Recall=%.4f; Precision=%.4f'\n",
    "              %(epoch, loss[-1], mae, rmse, recall, precision))"
   ]
  },
  {
   "cell_type": "code",
   "execution_count": null,
   "metadata": {
    "id": "O9JlBOzdv7O4"
   },
   "outputs": [],
   "source": [
    "plot_figure(values_list=np.array(records_list)[:,0],name='loss')"
   ]
  },
  {
   "cell_type": "code",
   "execution_count": null,
   "metadata": {
    "id": "UPgCJTrDwe1X"
   },
   "outputs": [],
   "source": [
    "plot_figure(values_list=np.array(records_list)[:,2],name='RMSE')"
   ]
  },
  {
   "cell_type": "code",
   "execution_count": null,
   "metadata": {
    "id": "xpTg-5JLweyW"
   },
   "outputs": [],
   "source": [
    "plot_figure(values_list=np.array(records_list)[:,-1],name='Precision')"
   ]
  },
  {
   "cell_type": "markdown",
   "metadata": {
    "id": "TjQhYy6Qwh51"
   },
   "source": [
    "## CDAE"
   ]
  },
  {
   "cell_type": "markdown",
   "metadata": {
    "id": "9-tlleXf3W4a"
   },
   "source": [
    "<img src='https://www.notion.so/image/https%3A%2F%2Fs3-us-west-2.amazonaws.com%2Fsecure.notion-static.com%2Ffb4cd4c9-0c90-4ab9-88a5-a9ce533f324d%2FUntitled.png?table=block&id=5694096f-ced8-428c-ada2-4a4e2e5a923f&spaceId=63b72b1f-0e90-4ab8-a6df-a060a6545a56&width=2000&userId=21ec183f-f0be-4b6b-9b3e-6f0d4e5c5469&cache=v2'>"
   ]
  },
  {
   "cell_type": "code",
   "execution_count": null,
   "metadata": {
    "id": "60VqlGw9weuM"
   },
   "outputs": [],
   "source": [
    "class cdae():\n",
    "    def __init__(self,\n",
    "                 users_num = None,         #用户数\n",
    "                 items_num = None,         #商品数\n",
    "                 hidden_size = 500,        #隐层节点数目，即用户的嵌入空间维度\n",
    "                 batch_size = 256,         #batch大小\n",
    "                 learning_rate = 1e-3,     #学习率\n",
    "                 lamda_regularizer = 1e-3, #正则项系数\n",
    "                 dropout_rate = 0.5,       # dropout rate\n",
    "                 noise_level = 1e-3\n",
    "                ):\n",
    "        self.users_num = users_num\n",
    "        self.items_num = items_num\n",
    "        self.hidden_size = hidden_size\n",
    "        self.batch_size = batch_size\n",
    "        self.learning_rate = learning_rate\n",
    "        self.lamda_regularizer = lamda_regularizer\n",
    "        self.dropout_rate = dropout_rate\n",
    "        self.noise_level = noise_level\n",
    "        \n",
    "        self.train_loss_records = []  \n",
    "        self.build_graph()   \n",
    "\n",
    "        \n",
    "    def build_graph(self):\n",
    "        self.graph = tf.Graph()\n",
    "        with self.graph.as_default():      \n",
    "            # _________ input data _________\n",
    "            self.rating_inputs = tf.compat.v1.placeholder(tf.float32, shape = [None, self.items_num], name='rating_inputs')\n",
    "            self.user_inputs = tf.compat.v1.placeholder(tf.int32, shape = [None, 1], name='user_inputs')\n",
    "            self.dropout_prob = tf.compat.v1.placeholder(tf.float32, name = \"dropout_prob\")\n",
    "\n",
    "            # _________ variables _________\n",
    "            self.weights = self._initialize_weights()\n",
    "            \n",
    "            # _________ train _____________\n",
    "            self.y_ = self.inference(rating_inputs=self.rating_inputs, user_inputs=self.user_inputs)\n",
    "            self.loss_train = self.loss_function(true_r=self.corrupted_inputs, predicted_r=self.y_, lamda_regularizer=self.lamda_regularizer)\n",
    "            self.train_op = tf.compat.v1.train.AdamOptimizer(learning_rate=self.learning_rate, beta1=0.9, beta2=0.999, epsilon=1e-08).minimize(self.loss_train) \n",
    "        \n",
    "            # _________ prediction _____________\n",
    "            self.predictions = self.inference(rating_inputs=self.rating_inputs, user_inputs=self.user_inputs)\n",
    "            \n",
    "            #变量初始化 init \n",
    "            init = tf.compat.v1.global_variables_initializer()\n",
    "            self.sess = self._init_session()\n",
    "            self.sess.run(init)\n",
    "    \n",
    "    \n",
    "    def _init_session(self):\n",
    "        # adaptively growing memory\n",
    "        config = tf.compat.v1.ConfigProto()\n",
    "        config.gpu_options.allow_growth = True\n",
    "        return tf.compat.v1.Session(config=config)\n",
    "    \n",
    "    \n",
    "    def _initialize_weights(self):\n",
    "        all_weights = dict()\n",
    "        all_weights['W1'] = tf.Variable(tf.random.normal([self.items_num, self.hidden_size], 0.0, 0.1), name='W1')\n",
    "        all_weights['b1'] = tf.Variable(tf.zeros([self.hidden_size]), name='b1')\n",
    "        all_weights['W2'] = tf.Variable(tf.random.normal([self.hidden_size, self.items_num], 0.0, 0.1), name='W2')\n",
    "        all_weights['b2'] = tf.Variable(tf.zeros([self.items_num]), name='b2')\n",
    "        all_weights['V'] = tf.Variable(tf.zeros([self.users_num, self.hidden_size]), name='V')\n",
    "        return all_weights\n",
    "    \n",
    "    \n",
    "    def train(self, data_mat):\n",
    "        instances_size = len(data_mat)\n",
    "        batch_size = self.batch_size\n",
    "        total_batch = math.ceil(instances_size/batch_size)\n",
    "        for batch in range(total_batch):\n",
    "            start = (batch*batch_size)% instances_size\n",
    "            end = min(start+batch_size, instances_size)\n",
    "            feed_dict = {self.user_inputs:np.reshape(data_mat[start:end,0],(-1,1)), \n",
    "                         self.rating_inputs:data_mat[start:end,1:], \n",
    "                         self.dropout_prob:self.dropout_rate}  \n",
    "            loss, opt = self.sess.run([self.loss_train, self.train_op], feed_dict=feed_dict)\n",
    "            self.train_loss_records.append(loss)\n",
    "            \n",
    "        return self.train_loss_records\n",
    "\n",
    "        \n",
    "    # 网络的前向传播\n",
    "    def inference(self, rating_inputs, user_inputs):\n",
    "        inputs_noisy = rating_inputs + self.noise_level * tf.random_normal(tf.shape(rating_inputs))\n",
    "        self.corrupted_inputs = tf.nn.dropout(inputs_noisy, rate=self.dropout_prob)\n",
    "        Vu = tf.reshape(tf.nn.embedding_lookup(self.weights['V'], user_inputs),(-1, self.hidden_size))\n",
    "        encoder = tf.nn.sigmoid(tf.matmul(self.corrupted_inputs, self.weights['W1']) + Vu + self.weights['b1'])\n",
    "        decoder = tf.identity(tf.matmul(encoder, self.weights['W2']) + self.weights['b2'])\n",
    "        return decoder         \n",
    "        \n",
    "        \n",
    "    def loss_function(self, true_r, predicted_r, lamda_regularizer=1e-3, loss_type='square'):\n",
    "        idx = tf.where(true_r>0)\n",
    "        true_y = tf.gather_nd(true_r, idx)\n",
    "        predicted_y = tf.gather_nd(predicted_r, idx)\n",
    "       \n",
    "        if loss_type=='square':\n",
    "            loss = tf.compat.v1.losses.mean_squared_error(true_y, predicted_y)\n",
    "        elif loss_type=='cross_entropy':\n",
    "            loss = tf.nn.sigmoid_cross_entropy_with_logits(labels=true_y, logits=predicted_y)\n",
    "        \n",
    "        regularizer = tf.contrib.layers.l2_regularizer(lamda_regularizer)\n",
    "        regularization = regularizer(self.weights['V']) + regularizer(self.weights['W1']) + regularizer(\n",
    "            self.weights['W2']) + regularizer(self.weights['b1']) + regularizer(self.weights['b2'])\n",
    "        cost = loss + regularization\n",
    "        return cost \n",
    "    \n",
    "    \n",
    "    def predict_ratings(self, data_mat):\n",
    "        pred_mat = np.zeros([self.users_num, self.items_num])\n",
    "        \n",
    "        instances_size = len(data_mat)\n",
    "        batch_size = self.batch_size\n",
    "        total_batch = math.ceil(instances_size/batch_size)\n",
    "        for batch in range(total_batch):\n",
    "            start = (batch*batch_size)% instances_size\n",
    "            end = min(start+batch_size, instances_size)\n",
    "            feed_dict = {self.user_inputs:np.reshape(data_mat[start:end,0],(-1,1)), \n",
    "                         self.rating_inputs:data_mat[start:end,1:],\n",
    "                         self.dropout_prob:0.}  \n",
    "            out = self.sess.run([self.predictions], feed_dict=feed_dict)\n",
    "            pred_mat[start:end,:] = np.reshape(out,(-1,self.items_num))\n",
    "\n",
    "        return pred_mat"
   ]
  },
  {
   "cell_type": "code",
   "execution_count": null,
   "metadata": {
    "id": "qKpBLXlizEwU"
   },
   "outputs": [],
   "source": [
    "users_num = N\n",
    "items_num = M\n",
    "hidden_size = 50\n",
    "batch_size = 256\n",
    "lamda_regularizer = 1e-2\n",
    "learning_rate = 0.01\n",
    "epoches  = 100\n",
    "embedding_size = 8\n",
    "hidden_size = 50\n",
    "dropout_rate = 0.5"
   ]
  },
  {
   "cell_type": "code",
   "execution_count": null,
   "metadata": {
    "id": "DCXwXaEbweq3"
   },
   "outputs": [
    {
     "name": "stdout",
     "output_type": "stream",
     "text": [
      "epoch:0  loss=10.3755; \n",
      " MAE=2.8404; RMSE=3.0550; Recall=0.0570; Precision=0.1208\n",
      "epoch:10  loss=4.4843; \n",
      " MAE=1.9206; RMSE=2.2486; Recall=0.1089; Precision=0.2309\n",
      "epoch:20  loss=3.7899; \n",
      " MAE=1.9118; RMSE=2.2383; Recall=0.1076; Precision=0.2282\n",
      "epoch:30  loss=4.1955; \n",
      " MAE=1.9184; RMSE=2.2458; Recall=0.1118; Precision=0.2370\n",
      "epoch:40  loss=4.1775; \n",
      " MAE=1.9164; RMSE=2.2450; Recall=0.1080; Precision=0.2291\n",
      "epoch:50  loss=3.7932; \n",
      " MAE=1.9130; RMSE=2.2392; Recall=0.1067; Precision=0.2263\n",
      "epoch:60  loss=3.8836; \n",
      " MAE=1.9184; RMSE=2.2473; Recall=0.1114; Precision=0.2362\n",
      "epoch:70  loss=4.1528; \n",
      " MAE=1.9213; RMSE=2.2488; Recall=0.1026; Precision=0.2176\n",
      "epoch:80  loss=4.0620; \n",
      " MAE=1.9569; RMSE=2.2818; Recall=0.1072; Precision=0.2274\n",
      "epoch:90  loss=4.4991; \n",
      " MAE=1.9058; RMSE=2.2374; Recall=0.1050; Precision=0.2227\n"
     ]
    }
   ],
   "source": [
    "model = cdae(users_num = users_num,\n",
    "             items_num = items_num,\n",
    "             hidden_size = hidden_size,\n",
    "             batch_size = batch_size,\n",
    "             learning_rate = learning_rate,\n",
    "             lamda_regularizer = lamda_regularizer,\n",
    "             dropout_rate = dropout_rate)\n",
    "\n",
    "user_array = np.array([u for u in range(users_num)])\n",
    "input_data = np.c_[user_array, train_mat]\n",
    "records_list = []\n",
    "for epoch in range(epoches):\n",
    "    data_mat = np.random.permutation(input_data) \n",
    "    loss = model.train(data_mat=data_mat)\n",
    "    pred_mat = model.predict_ratings(data_mat=np.c_[user_array, train_mat])\n",
    "    mae, rmse, recall, precision = evaluation(pred_mat, train_mat, test_mat)\n",
    "    records_list.append([loss[-1],mae, rmse, recall, precision])\n",
    "    if epoch % 10==0:\n",
    "        print('epoch:%d  loss=%.4f; \\n MAE=%.4f; RMSE=%.4f; Recall=%.4f; Precision=%.4f'\n",
    "              %(epoch, loss[-1], mae, rmse, recall, precision))"
   ]
  },
  {
   "cell_type": "code",
   "execution_count": null,
   "metadata": {
    "id": "ebwEonEQws-N"
   },
   "outputs": [
    {
     "data": {
      "image/png": "[encoded data removed]",
      "text/plain": [
       "<Figure size 432x288 with 1 Axes>"
      ]
     },
     "metadata": {
      "filenames": {
       "image/png": "/content/reco-book/_build/jupyter_execute/nbs/T460437_Building_Models_From_Scratch_99_0.png"
      },
      "needs_background": "light",
      "tags": []
     },
     "output_type": "display_data"
    }
   ],
   "source": [
    "plot_figure(values_list=np.array(records_list)[:,0],name='loss')"
   ]
  },
  {
   "cell_type": "code",
   "execution_count": null,
   "metadata": {
    "id": "iM3W5Jjhws7A"
   },
   "outputs": [
    {
     "data": {
      "image/png": "[encoded data removed]",
      "text/plain": [
       "<Figure size 432x288 with 1 Axes>"
      ]
     },
     "metadata": {
      "filenames": {
       "image/png": "/content/reco-book/_build/jupyter_execute/nbs/T460437_Building_Models_From_Scratch_100_0.png"
      },
      "needs_background": "light",
      "tags": []
     },
     "output_type": "display_data"
    }
   ],
   "source": [
    "plot_figure(values_list=np.array(records_list)[:,2],name='RMSE')"
   ]
  },
  {
   "cell_type": "code",
   "execution_count": null,
   "metadata": {
    "id": "dBmfXHKVws38"
   },
   "outputs": [
    {
     "data": {
      "image/png": "[encoded data removed]",
      "text/plain": [
       "<Figure size 432x288 with 1 Axes>"
      ]
     },
     "metadata": {
      "filenames": {
       "image/png": "/content/reco-book/_build/jupyter_execute/nbs/T460437_Building_Models_From_Scratch_101_0.png"
      },
      "needs_background": "light",
      "tags": []
     },
     "output_type": "display_data"
    }
   ],
   "source": [
    "plot_figure(values_list=np.array(records_list)[:,-1],name='Precision')"
   ]
  }
 ],
 "metadata": {
  "colab": {
   "collapsed_sections": [
    "nyQlzit4qwZg",
    "4xYEBXL2qdp4",
    "Knvcmsydq2bU",
    "sYcCrA4fuWlT",
    "WA4hLCNHugGn",
    "VVkAtg8OqVM3"
   ],
   "name": "T460437_Building_Models_From_Scratch.ipynb",
   "toc_visible": true
  },
  "kernelspec": {
   "display_name": "Python 3",
   "name": "python3"
  }
 },
 "nbformat": 4,
 "nbformat_minor": 0
}