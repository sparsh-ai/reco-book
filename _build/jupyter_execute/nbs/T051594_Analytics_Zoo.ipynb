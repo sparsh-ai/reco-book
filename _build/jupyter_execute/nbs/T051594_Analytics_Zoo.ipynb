{
 "cells": [
  {
   "cell_type": "markdown",
   "metadata": {
    "id": "hnpXiliawRYn"
   },
   "source": [
    "# Analytics Zoo"
   ]
  },
  {
   "cell_type": "markdown",
   "metadata": {
    "id": "vWAyqrazbVkU"
   },
   "source": [
    "## Part 1\n",
    "> Applying NCF on Movielens using Analytics Zoo library"
   ]
  },
  {
   "cell_type": "markdown",
   "metadata": {
    "id": "5tJLYN9yYJxO"
   },
   "source": [
    "### Introduction"
   ]
  },
  {
   "cell_type": "markdown",
   "metadata": {
    "id": "f4e-a8D8YSXJ"
   },
   "source": [
    "NCF Recommender with Explict Feedback\n",
    "\n",
    "In this notebook we demostrate how to build a neural network recommendation system, Neural Collaborative Filtering(NCF) with explict feedback. We use Recommender API in Analytics Zoo to build a model, and use optimizer of BigDL to train the model. \n",
    "\n",
    "The system ([Recommendation systems: Principles, methods and evaluation](http://www.sciencedirect.com/science/article/pii/S1110866515000341)) normally prompts the user through the system interface to provide ratings for items in order to construct and improve the model. The accuracy of recommendation depends on the quantity of ratings provided by the user.  \n",
    "\n",
    "NCF([He, 2015](https://www.comp.nus.edu.sg/~xiangnan/papers/ncf.pdf)) leverages a multi-layer perceptrons to learn the user–item interaction function, at the mean time, NCF can express and generalize matrix factorization under its framework. includeMF(Boolean) is provided for users to build a NCF with or without matrix factorization. \n",
    "\n",
    "Data: \n",
    "* The dataset we used is movielens-1M ([link](https://grouplens.org/datasets/movielens/1m/)), which contains 1 million ratings from 6000 users on 4000 movies.  There're 5 levels of rating. We will try classify each (user,movie) pair into 5 classes and evaluate the effect of algortithms using Mean Absolute Error.  \n",
    "  \n",
    "References: \n",
    "* A Keras implementation of Movie Recommendation([notebook](https://github.com/ririw/ririw.github.io/blob/master/assets/Recommending%20movies.ipynb)) from the [blog](http://blog.richardweiss.org/2016/09/25/movie-embeddings.html).\n",
    "* Nerual Collaborative filtering ([He, 2015](https://www.comp.nus.edu.sg/~xiangnan/papers/ncf.pdf))\n",
    "\n",
    "Python interface:\n",
    "\n",
    "```python\n",
    "ncf = NeuralCF(user_count, item_count, class_num, user_embed=20, item_embed=20, hidden_layers=(40, 20, 10), include_mf=True, mf_embed=20)\n",
    "```\n",
    "\n",
    "- `user_count`: The number of users. Positive int.\n",
    "- `item_count`: The number of classes. Positive int.\n",
    "- `class_num`: The number of classes. Positive int.\n",
    "- `user_embed`: Units of user embedding. Positive int. Default is 20.\n",
    "- `item_embed`: itemEmbed Units of item embedding. Positive int. Default is 20.\n",
    "- `hidden_layers`: Units of hidden layers for MLP. Tuple of positive int. Default is (40, 20, 10).\n",
    "- `include_mf`: Whether to include Matrix Factorization. Boolean. Default is True.\n",
    "- `mf_embed`: Units of matrix factorization embedding. Positive int. Default is 20."
   ]
  },
  {
   "cell_type": "markdown",
   "metadata": {
    "id": "IPqTsm9pSckt"
   },
   "source": [
    "### Installation"
   ]
  },
  {
   "cell_type": "markdown",
   "metadata": {
    "id": "u5UkOC-3SuwP"
   },
   "source": [
    "#### Install Java 8"
   ]
  },
  {
   "cell_type": "markdown",
   "metadata": {
    "id": "nY8_OcwpSyha"
   },
   "source": [
    "Run the command on the colaboratory file to install jdk 1.8"
   ]
  },
  {
   "cell_type": "code",
   "execution_count": null,
   "metadata": {
    "id": "8oH5g_58SScM"
   },
   "outputs": [
    {
     "name": "stdout",
     "output_type": "stream",
     "text": [
      "update-alternatives: using /usr/lib/jvm/java-8-openjdk-amd64/jre/bin/java to provide /usr/bin/java (java) in manual mode\n"
     ]
    }
   ],
   "source": [
    "# Install jdk8\n",
    "!apt-get install openjdk-8-jdk-headless -qq > /dev/null\n",
    "# Set jdk environment path which enables you to run Pyspark in your Colab environment.\n",
    "import os\n",
    "os.environ[\"JAVA_HOME\"] = \"/usr/lib/jvm/java-8-openjdk-amd64\"\n",
    "!update-alternatives --set java /usr/lib/jvm/java-8-openjdk-amd64/jre/bin/java"
   ]
  },
  {
   "cell_type": "markdown",
   "metadata": {
    "id": "zPqef37WS2r-"
   },
   "source": [
    "#### Install Analytics Zoo from pip"
   ]
  },
  {
   "cell_type": "markdown",
   "metadata": {
    "id": "Mo4najsbS5RX"
   },
   "source": [
    "You can add the following command on your colab file to install the analytics-zoo via pip easily:"
   ]
  },
  {
   "cell_type": "code",
   "execution_count": null,
   "metadata": {
    "id": "RtHKGTcSS1cD"
   },
   "outputs": [],
   "source": [
    "# Install latest release version of analytics-zoo \n",
    "# Installing analytics-zoo from pip will automatically install pyspark, bigdl, and their dependencies.\n",
    "!pip install analytics-zoo"
   ]
  },
  {
   "cell_type": "markdown",
   "metadata": {
    "id": "M8KiG7WhTAPa"
   },
   "source": [
    "#### Initialize context"
   ]
  },
  {
   "cell_type": "markdown",
   "metadata": {
    "id": "ZWWxCdrkTCqY"
   },
   "source": [
    "Call init_nncontext() that will create a SparkContext with optimized performance configurations."
   ]
  },
  {
   "cell_type": "code",
   "execution_count": null,
   "metadata": {
    "id": "Wy6CnH-8S81r"
   },
   "outputs": [
    {
     "name": "stdout",
     "output_type": "stream",
     "text": [
      "Prepending /usr/local/lib/python3.7/dist-packages/bigdl/share/conf/spark-bigdl.conf to sys.path\n",
      "Adding /usr/local/lib/python3.7/dist-packages/zoo/share/lib/analytics-zoo-bigdl_0.12.2-spark_2.4.3-0.10.0-jar-with-dependencies.jar to BIGDL_JARS\n",
      "Prepending /usr/local/lib/python3.7/dist-packages/zoo/share/conf/spark-analytics-zoo.conf to sys.path\n",
      "pyspark_submit_args is:  --driver-class-path /usr/local/lib/python3.7/dist-packages/zoo/share/lib/analytics-zoo-bigdl_0.12.2-spark_2.4.3-0.10.0-jar-with-dependencies.jar:/usr/local/lib/python3.7/dist-packages/bigdl/share/lib/bigdl-0.12.2-jar-with-dependencies.jar pyspark-shell \n"
     ]
    }
   ],
   "source": [
    "from zoo.common.nncontext import*\n",
    "\n",
    "sc = init_nncontext()"
   ]
  },
  {
   "cell_type": "markdown",
   "metadata": {
    "id": "nLQymd-_TbKx"
   },
   "source": [
    "Analytics Zoo provides three Recommenders, including Wide and Deep (WND) model, Neural network-based Collaborative Filtering (NCF) model and Session Recommender model. Easy-to-use Keras-Style defined models which provides compile and fit methods for training. Alternatively, they could be fed into NNFrames or BigDL Optimizer.\n",
    "\n",
    "WND and NCF recommenders can handle either explict or implicit feedback, given corresponding features."
   ]
  },
  {
   "cell_type": "markdown",
   "metadata": {
    "id": "_KTBMy52T5he"
   },
   "source": [
    "### Imports"
   ]
  },
  {
   "cell_type": "code",
   "execution_count": null,
   "metadata": {
    "id": "nsib3Wg_T7E5"
   },
   "outputs": [
    {
     "name": "stdout",
     "output_type": "stream",
     "text": [
      "Populating the interactive namespace from numpy and matplotlib\n"
     ]
    }
   ],
   "source": [
    "from zoo.pipeline.api.keras.layers import *\n",
    "from zoo.models.recommendation import UserItemFeature\n",
    "from zoo.models.recommendation import NeuralCF\n",
    "from zoo.common.nncontext import init_nncontext\n",
    "import matplotlib\n",
    "from sklearn import metrics\n",
    "from operator import itemgetter\n",
    "from bigdl.util.common import *\n",
    "\n",
    "import os\n",
    "import numpy as np\n",
    "\n",
    "matplotlib.use('agg')\n",
    "import matplotlib.pyplot as plt\n",
    "%pylab inline"
   ]
  },
  {
   "cell_type": "markdown",
   "metadata": {
    "id": "Cl6H99sBTgOt"
   },
   "source": [
    "### Download movielens dataset"
   ]
  },
  {
   "cell_type": "code",
   "execution_count": null,
   "metadata": {
    "id": "wkKAeEORTPZ_"
   },
   "outputs": [],
   "source": [
    "!wget http://files.grouplens.org/datasets/movielens/ml-1m.zip\n",
    "!unzip ml-1m.zip"
   ]
  },
  {
   "cell_type": "markdown",
   "metadata": {
    "id": "cizJHBZhVV15"
   },
   "source": [
    "### Read the dataset"
   ]
  },
  {
   "cell_type": "code",
   "execution_count": null,
   "metadata": {
    "id": "vT8aZM0BT2oi"
   },
   "outputs": [],
   "source": [
    "def read_data_sets(data_dir):\n",
    "  rating_files = os.path.join(data_dir,\"ratings.dat\")\n",
    "  rating_list = [i.strip().split(\"::\") for i in open(rating_files,\"r\").readlines()]    \n",
    "  movielens_data = np.array(rating_list).astype(int)\n",
    "  return movielens_data \n",
    "\n",
    "def get_id_pairs(data_dir):\n",
    "\tmovielens_data = read_data_sets(data_dir)\n",
    "\treturn movielens_data[:, 0:2]\n",
    "\n",
    "def get_id_ratings(data_dir):\n",
    "\tmovielens_data = read_data_sets(data_dir)\n",
    "\treturn movielens_data[:, 0:3]"
   ]
  },
  {
   "cell_type": "code",
   "execution_count": null,
   "metadata": {
    "id": "7n6vQz-3VR4I"
   },
   "outputs": [],
   "source": [
    "movielens_data = get_id_ratings(\"/content/ml-1m\")"
   ]
  },
  {
   "cell_type": "markdown",
   "metadata": {
    "id": "GCRIqd0hV2-5"
   },
   "source": [
    "### Understand the data"
   ]
  },
  {
   "cell_type": "code",
   "execution_count": null,
   "metadata": {
    "id": "nY3Bbk1xV8wL"
   },
   "outputs": [
    {
     "name": "stdout",
     "output_type": "stream",
     "text": [
      "(1000209, 3)\n",
      "1 6040 1 3952 [1 2 3 4 5]\n"
     ]
    }
   ],
   "source": [
    "min_user_id = np.min(movielens_data[:,0])\n",
    "max_user_id = np.max(movielens_data[:,0])\n",
    "min_movie_id = np.min(movielens_data[:,1])\n",
    "max_movie_id = np.max(movielens_data[:,1])\n",
    "rating_labels= np.unique(movielens_data[:,2])\n",
    "\n",
    "print(movielens_data.shape)\n",
    "print(min_user_id, max_user_id, min_movie_id, max_movie_id, rating_labels)"
   ]
  },
  {
   "cell_type": "markdown",
   "metadata": {
    "id": "Vrs_dyQcVz8z"
   },
   "source": [
    "Each record is in format of (userid, movieid, rating_score). UserIDs range between 1 and 6040. MovieIDs range between 1 and 3952. Ratings are made on a 5-star scale (whole-star ratings only). Counts of users and movies are recorded for later use."
   ]
  },
  {
   "cell_type": "markdown",
   "metadata": {
    "id": "O-Ks_RL2WMT7"
   },
   "source": [
    "### Transformation"
   ]
  },
  {
   "cell_type": "markdown",
   "metadata": {
    "id": "cnUhH-ksWOxh"
   },
   "source": [
    "Transform original data into RDD of sample. We use optimizer of BigDL directly to train the model, it requires data to be provided in format of RDD(Sample). A Sample is a BigDL data structure which can be constructed using 2 numpy arrays, feature and label respectively. The API interface is Sample.from_ndarray(feature, label) Here, labels are tranformed into zero-based since original labels start from 1."
   ]
  },
  {
   "cell_type": "code",
   "execution_count": null,
   "metadata": {
    "id": "gmD0lS0eVnK7"
   },
   "outputs": [],
   "source": [
    "def build_sample(user_id, item_id, rating):\n",
    "    sample = Sample.from_ndarray(np.array([user_id, item_id]), np.array([rating]))\n",
    "    return UserItemFeature(user_id, item_id, sample)"
   ]
  },
  {
   "cell_type": "code",
   "execution_count": null,
   "metadata": {
    "id": "BcwsB2SsWVBZ"
   },
   "outputs": [
    {
     "data": {
      "text/plain": [
       "[<zoo.models.recommendation.recommender.UserItemFeature at 0x7fde70f09910>,\n",
       " <zoo.models.recommendation.recommender.UserItemFeature at 0x7fde70d792d0>,\n",
       " <zoo.models.recommendation.recommender.UserItemFeature at 0x7fde55409e10>]"
      ]
     },
     "execution_count": 15,
     "metadata": {
      "tags": []
     },
     "output_type": "execute_result"
    }
   ],
   "source": [
    "pairFeatureRdds = sc.parallelize(movielens_data).map(lambda x: build_sample(x[0], x[1], x[2]-1))\n",
    "pairFeatureRdds.take(3)"
   ]
  },
  {
   "cell_type": "markdown",
   "metadata": {
    "id": "wfqh_7FsWkrw"
   },
   "source": [
    "### Split"
   ]
  },
  {
   "cell_type": "markdown",
   "metadata": {
    "id": "qw37Flz4Wm0F"
   },
   "source": [
    "Randomly split the data into train (80%) and validation (20%)"
   ]
  },
  {
   "cell_type": "code",
   "execution_count": null,
   "metadata": {
    "id": "plRhKQ0BWdD5"
   },
   "outputs": [
    {
     "data": {
      "text/plain": [
       "PythonRDD[3] at RDD at PythonRDD.scala:53"
      ]
     },
     "execution_count": 16,
     "metadata": {
      "tags": []
     },
     "output_type": "execute_result"
    }
   ],
   "source": [
    "trainPairFeatureRdds, valPairFeatureRdds = pairFeatureRdds.randomSplit([0.8, 0.2], seed= 1)\n",
    "valPairFeatureRdds.cache()\n",
    "\n",
    "train_rdd= trainPairFeatureRdds.map(lambda pair_feature: pair_feature.sample)\n",
    "val_rdd= valPairFeatureRdds.map(lambda pair_feature: pair_feature.sample)\n",
    "val_rdd.persist()"
   ]
  },
  {
   "cell_type": "code",
   "execution_count": null,
   "metadata": {
    "id": "PCWetBlaWuyb"
   },
   "outputs": [
    {
     "data": {
      "text/plain": [
       "800491"
      ]
     },
     "execution_count": 17,
     "metadata": {
      "tags": []
     },
     "output_type": "execute_result"
    }
   ],
   "source": [
    "train_rdd.count()"
   ]
  },
  {
   "cell_type": "code",
   "execution_count": null,
   "metadata": {
    "id": "czo63lHuW2DB"
   },
   "outputs": [
    {
     "data": {
      "text/plain": [
       "[Sample: features: [JTensor: storage: [1.000e+00 1.193e+03], shape: [2], float], labels: [JTensor: storage: [4.], shape: [1], float],\n",
       " Sample: features: [JTensor: storage: [  1. 914.], shape: [2], float], labels: [JTensor: storage: [2.], shape: [1], float],\n",
       " Sample: features: [JTensor: storage: [1.000e+00 3.408e+03], shape: [2], float], labels: [JTensor: storage: [3.], shape: [1], float]]"
      ]
     },
     "execution_count": 18,
     "metadata": {
      "tags": []
     },
     "output_type": "execute_result"
    }
   ],
   "source": [
    "train_rdd.take(3)"
   ]
  },
  {
   "cell_type": "markdown",
   "metadata": {
    "id": "KnONxSMsXARF"
   },
   "source": [
    "### Build model"
   ]
  },
  {
   "cell_type": "markdown",
   "metadata": {
    "id": "IhpOgCvFXG2e"
   },
   "source": [
    "In Analytics Zoo, it is simple to build NCF model by calling NeuralCF API. You need specify the user count, item count and class number according to your data, then add hidden layers as needed, you can also choose to include matrix factorization in the network. The model could be fed into an Optimizer of BigDL or NNClassifier of analytics-zoo. Please refer to the document for more details. In this example, we demostrate how to use optimizer of BigDL."
   ]
  },
  {
   "cell_type": "code",
   "execution_count": null,
   "metadata": {
    "id": "4xMI7FZqW3zv"
   },
   "outputs": [
    {
     "name": "stdout",
     "output_type": "stream",
     "text": [
      "creating: createZooKerasInput\n",
      "creating: createZooKerasFlatten\n",
      "creating: createZooKerasSelect\n",
      "creating: createZooKerasFlatten\n",
      "creating: createZooKerasSelect\n",
      "creating: createZooKerasEmbedding\n",
      "creating: createZooKerasEmbedding\n",
      "creating: createZooKerasFlatten\n",
      "creating: createZooKerasFlatten\n",
      "creating: createZooKerasMerge\n",
      "creating: createZooKerasDense\n",
      "creating: createZooKerasDense\n",
      "creating: createZooKerasDense\n",
      "creating: createZooKerasModel\n",
      "creating: createZooNeuralCF\n"
     ]
    }
   ],
   "source": [
    "ncf = NeuralCF(user_count=max_user_id, \n",
    "               item_count=max_movie_id, \n",
    "               class_num=5, \n",
    "               hidden_layers=[20, 10], \n",
    "               include_mf = False)"
   ]
  },
  {
   "cell_type": "markdown",
   "metadata": {
    "id": "BVfHXNF2XMLp"
   },
   "source": [
    "### Compile model"
   ]
  },
  {
   "cell_type": "markdown",
   "metadata": {
    "id": "R_Xgwv_MXUUI"
   },
   "source": [
    "Compile model given specific optimizers, loss, as well as metrics for evaluation. Optimizer tries to minimize the loss of the neural net with respect to its weights/biases, over the training set. To create an Optimizer in BigDL, you want to at least specify arguments: model(a neural network model), criterion(the loss function), traing_rdd(training dataset) and batch size. Please refer to [ProgrammingGuide](https://bigdl-project.github.io/master/#ProgrammingGuide/optimization/) and [Optimizer](https://bigdl-project.github.io/master/#APIGuide/Optimizers/Optimizer/) for more details to create efficient optimizers."
   ]
  },
  {
   "cell_type": "code",
   "execution_count": null,
   "metadata": {
    "id": "EpiU9RG_XKKM"
   },
   "outputs": [
    {
     "name": "stdout",
     "output_type": "stream",
     "text": [
      "creating: createAdam\n",
      "creating: createZooKerasSparseCategoricalCrossEntropy\n",
      "creating: createZooKerasSparseCategoricalAccuracy\n"
     ]
    }
   ],
   "source": [
    "ncf.compile(optimizer= \"adam\",\n",
    "            loss= \"sparse_categorical_crossentropy\",\n",
    "            metrics=['accuracy'])"
   ]
  },
  {
   "cell_type": "markdown",
   "metadata": {
    "id": "pOvfFZP3Xk0r"
   },
   "source": [
    "### Collect logs"
   ]
  },
  {
   "cell_type": "markdown",
   "metadata": {
    "id": "ult1tu6QXnaX"
   },
   "source": [
    "You can leverage tensorboard to see the summaries."
   ]
  },
  {
   "cell_type": "code",
   "execution_count": null,
   "metadata": {
    "id": "E44IwOlzXjYW"
   },
   "outputs": [],
   "source": [
    "tmp_log_dir = create_tmp_path()\n",
    "ncf.set_tensorboard(tmp_log_dir, \"training_ncf\")"
   ]
  },
  {
   "cell_type": "markdown",
   "metadata": {
    "id": "IKipPFhsXqxS"
   },
   "source": [
    "### Train the model"
   ]
  },
  {
   "cell_type": "code",
   "execution_count": null,
   "metadata": {
    "id": "4IHzRgUyXpu8"
   },
   "outputs": [],
   "source": [
    "ncf.fit(train_rdd, \n",
    "        nb_epoch= 10, \n",
    "        batch_size= 8000, \n",
    "        validation_data=val_rdd)"
   ]
  },
  {
   "cell_type": "markdown",
   "metadata": {
    "id": "YLj6L9JPXxri"
   },
   "source": [
    "### Prediction"
   ]
  },
  {
   "cell_type": "markdown",
   "metadata": {
    "id": "uzDas0oIX11i"
   },
   "source": [
    "Zoo models make inferences based on the given data using model.predict(val_rdd) API. A result of RDD is returned. predict_class returns the predicted label."
   ]
  },
  {
   "cell_type": "code",
   "execution_count": null,
   "metadata": {
    "id": "gUkaK6TUXuDJ"
   },
   "outputs": [
    {
     "data": {
      "text/plain": [
       "[array([0.00806034, 0.02006759, 0.18866627, 0.63047034, 0.15273541],\n",
       "       dtype=float32),\n",
       " array([0.00254512, 0.00567304, 0.06865695, 0.46720853, 0.4559163 ],\n",
       "       dtype=float32),\n",
       " array([0.00535633, 0.02252354, 0.12654975, 0.4168996 , 0.42867082],\n",
       "       dtype=float32),\n",
       " array([0.00396674, 0.01450644, 0.12073953, 0.60501534, 0.255772  ],\n",
       "       dtype=float32),\n",
       " array([0.00394357, 0.01327773, 0.14935595, 0.6658978 , 0.16752498],\n",
       "       dtype=float32)]"
      ]
     },
     "execution_count": 23,
     "metadata": {
      "tags": []
     },
     "output_type": "execute_result"
    }
   ],
   "source": [
    "results = ncf.predict(val_rdd)\n",
    "results.take(5)"
   ]
  },
  {
   "cell_type": "code",
   "execution_count": null,
   "metadata": {
    "id": "aLhHUm7sZm1Y"
   },
   "outputs": [
    {
     "data": {
      "text/plain": [
       "[4, 4, 5, 4, 4]"
      ]
     },
     "execution_count": 24,
     "metadata": {
      "tags": []
     },
     "output_type": "execute_result"
    }
   ],
   "source": [
    "results_class = ncf.predict_class(val_rdd)\n",
    "results_class.take(5)"
   ]
  },
  {
   "cell_type": "markdown",
   "metadata": {
    "id": "WqOfNL7gZrG6"
   },
   "source": [
    "In Analytics Zoo, Recommender has provied 3 unique APIs to predict user-item pairs and make recommendations for users or items given candidates."
   ]
  },
  {
   "cell_type": "markdown",
   "metadata": {
    "id": "9ffsw5z7aBlO"
   },
   "source": [
    "#### Predict for user item pairs"
   ]
  },
  {
   "cell_type": "code",
   "execution_count": null,
   "metadata": {
    "id": "NXHMNrSsZnOD"
   },
   "outputs": [
    {
     "name": "stdout",
     "output_type": "stream",
     "text": [
      "UserItemPrediction [user_id: 1, item_id: 661, prediction: 4, probability: 0.630470335483551]\n",
      "UserItemPrediction [user_id: 1, item_id: 2804, prediction: 4, probability: 0.46720853447914124]\n",
      "UserItemPrediction [user_id: 1, item_id: 1035, prediction: 5, probability: 0.42867082357406616]\n",
      "UserItemPrediction [user_id: 1, item_id: 2687, prediction: 4, probability: 0.6050153374671936]\n",
      "UserItemPrediction [user_id: 1, item_id: 2321, prediction: 4, probability: 0.665897786617279]\n"
     ]
    }
   ],
   "source": [
    "userItemPairPrediction = ncf.predict_user_item_pair(valPairFeatureRdds)\n",
    "for result in userItemPairPrediction.take(5): print(result)"
   ]
  },
  {
   "cell_type": "markdown",
   "metadata": {
    "id": "SCgDNVQaZ-mJ"
   },
   "source": [
    "#### Recommend 3 items for each user given candidates in the feature RDDs"
   ]
  },
  {
   "cell_type": "code",
   "execution_count": null,
   "metadata": {
    "id": "W2uMAeiOZ5RJ"
   },
   "outputs": [
    {
     "name": "stdout",
     "output_type": "stream",
     "text": [
      "UserItemPrediction [user_id: 4904, item_id: 750, prediction: 5, probability: 0.8882462382316589]\n",
      "UserItemPrediction [user_id: 4904, item_id: 1198, prediction: 5, probability: 0.8594017028808594]\n",
      "UserItemPrediction [user_id: 4904, item_id: 912, prediction: 5, probability: 0.8534067869186401]\n",
      "UserItemPrediction [user_id: 1084, item_id: 50, prediction: 5, probability: 0.7139193415641785]\n",
      "UserItemPrediction [user_id: 1084, item_id: 2324, prediction: 5, probability: 0.6326656937599182]\n"
     ]
    }
   ],
   "source": [
    "userRecs = ncf.recommend_for_user(valPairFeatureRdds, 3)\n",
    "for result in userRecs.take(5): print(result)"
   ]
  },
  {
   "cell_type": "markdown",
   "metadata": {
    "id": "kOHBbcDAaH8K"
   },
   "source": [
    "#### Recommend 3 users for each item given candidates in the feature RDDs"
   ]
  },
  {
   "cell_type": "code",
   "execution_count": null,
   "metadata": {
    "id": "CLp29k3kaHB-"
   },
   "outputs": [
    {
     "name": "stdout",
     "output_type": "stream",
     "text": [
      "UserItemPrediction [user_id: 2909, item_id: 384, prediction: 4, probability: 0.40346845984458923]\n",
      "UserItemPrediction [user_id: 1409, item_id: 384, prediction: 3, probability: 0.4329181909561157]\n",
      "UserItemPrediction [user_id: 4789, item_id: 384, prediction: 3, probability: 0.41791829466819763]\n",
      "UserItemPrediction [user_id: 1940, item_id: 1084, prediction: 5, probability: 0.8245269060134888]\n",
      "UserItemPrediction [user_id: 2497, item_id: 1084, prediction: 5, probability: 0.7757750749588013]\n"
     ]
    }
   ],
   "source": [
    "itemRecs = ncf.recommend_for_item(valPairFeatureRdds, 3)\n",
    "for result in itemRecs.take(5): print(result)"
   ]
  },
  {
   "cell_type": "markdown",
   "metadata": {
    "id": "FRJoSBJGaO43"
   },
   "source": [
    "### Evaluation"
   ]
  },
  {
   "cell_type": "markdown",
   "metadata": {
    "id": "t8AOXDp9aSwD"
   },
   "source": [
    "Plot the train and validation loss curves"
   ]
  },
  {
   "cell_type": "code",
   "execution_count": null,
   "metadata": {
    "id": "MbS3TGZbaKva"
   },
   "outputs": [
    {
     "data": {
      "text/plain": [
       "Text(0.5, 1.0, 'loss')"
      ]
     },
     "execution_count": 28,
     "metadata": {
      "tags": []
     },
     "output_type": "execute_result"
    },
    {
     "data": {
      "image/png": "[encoded data removed]",
      "text/plain": [
       "<Figure size 864x432 with 1 Axes>"
      ]
     },
     "metadata": {
      "filenames": {
       "image/png": "/content/reco-book/_build/jupyter_execute/nbs/T051594_Analytics_Zoo_58_1.png"
      },
      "needs_background": "light",
      "tags": []
     },
     "output_type": "display_data"
    }
   ],
   "source": [
    "#retrieve train and validation summary object and read the loss data into ndarray's. \n",
    "train_loss = np.array(ncf.get_train_summary(\"Loss\"))\n",
    "val_loss = np.array(ncf.get_validation_summary(\"Loss\"))\n",
    "#plot the train and validation curves\n",
    "# each event data is a tuple in form of (iteration_count, value, timestamp)\n",
    "plt.figure(figsize = (12,6))\n",
    "plt.plot(train_loss[:,0],train_loss[:,1],label='train loss')\n",
    "plt.plot(val_loss[:,0],val_loss[:,1],label='val loss',color='green')\n",
    "plt.scatter(val_loss[:,0],val_loss[:,1],color='green')\n",
    "plt.legend();\n",
    "plt.xlim(0,train_loss.shape[0]+10)\n",
    "plt.grid(True)\n",
    "plt.title(\"loss\")"
   ]
  },
  {
   "cell_type": "markdown",
   "metadata": {
    "id": "-Yh804RoaW8M"
   },
   "source": [
    "Plot accuracy"
   ]
  },
  {
   "cell_type": "code",
   "execution_count": null,
   "metadata": {
    "id": "F0JtfjEMaVLc"
   },
   "outputs": [
    {
     "data": {
      "image/png": "[encoded data removed]",
      "text/plain": [
       "<Figure size 864x432 with 1 Axes>"
      ]
     },
     "metadata": {
      "filenames": {
       "image/png": "/content/reco-book/_build/jupyter_execute/nbs/T051594_Analytics_Zoo_60_0.png"
      },
      "needs_background": "light",
      "tags": []
     },
     "output_type": "display_data"
    }
   ],
   "source": [
    "plt.figure(figsize = (12,6))\n",
    "top1 = np.array(ncf.get_validation_summary(\"Top1Accuracy\"))\n",
    "plt.plot(top1[:,0],top1[:,1],label='top1')\n",
    "plt.title(\"top1 accuracy\")\n",
    "plt.grid(True)\n",
    "plt.legend();"
   ]
  },
  {
   "cell_type": "markdown",
   "metadata": {
    "id": "ZCZSpXsswjdk"
   },
   "source": [
    "## Part 2\n",
    "> Applying NCF on Goodreads using Analytics Zoo library."
   ]
  },
  {
   "cell_type": "markdown",
   "metadata": {
    "id": "hJ6KmN6wwjdl"
   },
   "source": [
    "### Introduction"
   ]
  },
  {
   "cell_type": "markdown",
   "metadata": {
    "id": "QxxUKVDxwjdm"
   },
   "source": [
    "NCF Recommender with Explict Feedback\n",
    "\n",
    "In this notebook we demostrate how to build a neural network recommendation system, Neural Collaborative Filtering(NCF) with explict feedback. We use Recommender API in Analytics Zoo to build a model, and use optimizer of BigDL to train the model. \n",
    "\n",
    "The system ([Recommendation systems: Principles, methods and evaluation](http://www.sciencedirect.com/science/article/pii/S1110866515000341)) normally prompts the user through the system interface to provide ratings for items in order to construct and improve the model. The accuracy of recommendation depends on the quantity of ratings provided by the user.  \n",
    "\n",
    "NCF([He, 2015](https://www.comp.nus.edu.sg/~xiangnan/papers/ncf.pdf)) leverages a multi-layer perceptrons to learn the user–item interaction function, at the mean time, NCF can express and generalize matrix factorization under its framework. includeMF(Boolean) is provided for users to build a NCF with or without matrix factorization. \n",
    "\n",
    "Data: \n",
    "* Goodreads book ratings dataset \n",
    "  \n",
    "References: \n",
    "* A Keras implementation of Movie Recommendation([notebook](https://github.com/ririw/ririw.github.io/blob/master/assets/Recommending%20movies.ipynb)) from the [blog](http://blog.richardweiss.org/2016/09/25/movie-embeddings.html).\n",
    "* Nerual Collaborative filtering ([He, 2015](https://www.comp.nus.edu.sg/~xiangnan/papers/ncf.pdf))\n",
    "\n",
    "Python interface:\n",
    "\n",
    "```python\n",
    "ncf = NeuralCF(user_count, item_count, class_num, user_embed=20, item_embed=20, hidden_layers=(40, 20, 10), include_mf=True, mf_embed=20)\n",
    "```\n",
    "\n",
    "- `user_count`: The number of users. Positive int.\n",
    "- `item_count`: The number of classes. Positive int.\n",
    "- `class_num`: The number of classes. Positive int.\n",
    "- `user_embed`: Units of user embedding. Positive int. Default is 20.\n",
    "- `item_embed`: itemEmbed Units of item embedding. Positive int. Default is 20.\n",
    "- `hidden_layers`: Units of hidden layers for MLP. Tuple of positive int. Default is (40, 20, 10).\n",
    "- `include_mf`: Whether to include Matrix Factorization. Boolean. Default is True.\n",
    "- `mf_embed`: Units of matrix factorization embedding. Positive int. Default is 20."
   ]
  },
  {
   "cell_type": "markdown",
   "metadata": {
    "id": "RFiPLxEmwjdm"
   },
   "source": [
    "### Installation"
   ]
  },
  {
   "cell_type": "markdown",
   "metadata": {
    "id": "-W-trmlNwjdm"
   },
   "source": [
    "#### Install Java 8"
   ]
  },
  {
   "cell_type": "markdown",
   "metadata": {
    "id": "sAPWxoNHwjdn"
   },
   "source": [
    "Run the command on the colaboratory file to install jdk 1.8"
   ]
  },
  {
   "cell_type": "code",
   "execution_count": null,
   "metadata": {
    "id": "ZltnwoFUwjdn"
   },
   "outputs": [
    {
     "name": "stdout",
     "output_type": "stream",
     "text": [
      "update-alternatives: using /usr/lib/jvm/java-8-openjdk-amd64/jre/bin/java to provide /usr/bin/java (java) in manual mode\n"
     ]
    }
   ],
   "source": [
    "# Install jdk8\n",
    "!apt-get install openjdk-8-jdk-headless -qq > /dev/null\n",
    "# Set jdk environment path which enables you to run Pyspark in your Colab environment.\n",
    "import os\n",
    "os.environ[\"JAVA_HOME\"] = \"/usr/lib/jvm/java-8-openjdk-amd64\"\n",
    "!update-alternatives --set java /usr/lib/jvm/java-8-openjdk-amd64/jre/bin/java"
   ]
  },
  {
   "cell_type": "markdown",
   "metadata": {
    "id": "c45kBEXywjdo"
   },
   "source": [
    "#### Install Analytics Zoo from pip"
   ]
  },
  {
   "cell_type": "markdown",
   "metadata": {
    "id": "z-mZuYPIwjdo"
   },
   "source": [
    "You can add the following command on your colab file to install the analytics-zoo via pip easily:"
   ]
  },
  {
   "cell_type": "code",
   "execution_count": null,
   "metadata": {
    "id": "GZR8Zrhiwjdo"
   },
   "outputs": [],
   "source": [
    "# Install latest release version of analytics-zoo \n",
    "# Installing analytics-zoo from pip will automatically install pyspark, bigdl, and their dependencies.\n",
    "!pip install analytics-zoo"
   ]
  },
  {
   "cell_type": "markdown",
   "metadata": {
    "id": "9m68bCTEwjdp"
   },
   "source": [
    "#### Initialize context"
   ]
  },
  {
   "cell_type": "markdown",
   "metadata": {
    "id": "S7MDCaG5wjdp"
   },
   "source": [
    "Call init_nncontext() that will create a SparkContext with optimized performance configurations."
   ]
  },
  {
   "cell_type": "code",
   "execution_count": null,
   "metadata": {
    "id": "Csh2VxAhwjdp"
   },
   "outputs": [
    {
     "name": "stdout",
     "output_type": "stream",
     "text": [
      "Prepending /usr/local/lib/python3.7/dist-packages/bigdl/share/conf/spark-bigdl.conf to sys.path\n",
      "Adding /usr/local/lib/python3.7/dist-packages/zoo/share/lib/analytics-zoo-bigdl_0.12.2-spark_2.4.3-0.10.0-jar-with-dependencies.jar to BIGDL_JARS\n",
      "Prepending /usr/local/lib/python3.7/dist-packages/zoo/share/conf/spark-analytics-zoo.conf to sys.path\n",
      "pyspark_submit_args is:  --driver-class-path /usr/local/lib/python3.7/dist-packages/zoo/share/lib/analytics-zoo-bigdl_0.12.2-spark_2.4.3-0.10.0-jar-with-dependencies.jar:/usr/local/lib/python3.7/dist-packages/bigdl/share/lib/bigdl-0.12.2-jar-with-dependencies.jar pyspark-shell \n"
     ]
    }
   ],
   "source": [
    "from zoo.common.nncontext import*\n",
    "\n",
    "sc = init_nncontext()"
   ]
  },
  {
   "cell_type": "markdown",
   "metadata": {
    "id": "f03Rb5wJwjdp"
   },
   "source": [
    "Analytics Zoo provides three Recommenders, including Wide and Deep (WND) model, Neural network-based Collaborative Filtering (NCF) model and Session Recommender model. Easy-to-use Keras-Style defined models which provides compile and fit methods for training. Alternatively, they could be fed into NNFrames or BigDL Optimizer.\n",
    "\n",
    "WND and NCF recommenders can handle either explict or implicit feedback, given corresponding features."
   ]
  },
  {
   "cell_type": "markdown",
   "metadata": {
    "id": "N6Bk_kaMwjdq"
   },
   "source": [
    "### Imports"
   ]
  },
  {
   "cell_type": "code",
   "execution_count": null,
   "metadata": {
    "id": "2p2-yrX_wjdr"
   },
   "outputs": [
    {
     "name": "stdout",
     "output_type": "stream",
     "text": [
      "Populating the interactive namespace from numpy and matplotlib\n"
     ]
    }
   ],
   "source": [
    "from zoo.pipeline.api.keras.layers import *\n",
    "from zoo.models.recommendation import UserItemFeature\n",
    "from zoo.models.recommendation import NeuralCF\n",
    "from zoo.common.nncontext import init_nncontext\n",
    "import matplotlib\n",
    "from sklearn import metrics\n",
    "from operator import itemgetter\n",
    "from bigdl.util.common import *\n",
    "\n",
    "import os\n",
    "import numpy as np\n",
    "from sklearn import preprocessing\n",
    "\n",
    "matplotlib.use('agg')\n",
    "import matplotlib.pyplot as plt\n",
    "%pylab inline"
   ]
  },
  {
   "cell_type": "markdown",
   "metadata": {
    "id": "c6ouhGeKwjdr"
   },
   "source": [
    "### Download goodreads dataset"
   ]
  },
  {
   "cell_type": "code",
   "execution_count": null,
   "metadata": {
    "id": "L_Sc0G5Bwjds"
   },
   "outputs": [],
   "source": [
    "!wget https://github.com/sparsh-ai/reco-data/raw/master/goodreads/ratings.csv"
   ]
  },
  {
   "cell_type": "markdown",
   "metadata": {
    "id": "FnNN0I0Rwjdt"
   },
   "source": [
    "### Read the dataset"
   ]
  },
  {
   "cell_type": "code",
   "execution_count": null,
   "metadata": {
    "id": "hQMyYzEkwjdu"
   },
   "outputs": [],
   "source": [
    "def read_data_sets(data_dir):\n",
    "  rating_files = os.path.join(data_dir,\"ratings.csv\")\n",
    "  rating_list = [i.strip().split(\",\") for i in open(rating_files,\"r\").readlines()]    \n",
    "  goodreads_data = np.array(rating_list[1:]).astype(int)\n",
    "  return goodreads_data \n",
    "\n",
    "def get_id_pairs(data_dir):\n",
    "\tgoodreads_data = read_data_sets(data_dir)\n",
    "\treturn goodreads_data[:, 0:2]\n",
    "\n",
    "def get_id_ratings(data_dir):\n",
    "  goodreads_data = read_data_sets(data_dir)\n",
    "  le_user = preprocessing.LabelEncoder()\n",
    "  goodreads_data[:, 0] = le_user.fit_transform(goodreads_data[:, 0])\n",
    "  le_item = preprocessing.LabelEncoder()\n",
    "  goodreads_data[:, 1] = le_item.fit_transform(goodreads_data[:, 1])\n",
    "  return goodreads_data[:, 0:3]"
   ]
  },
  {
   "cell_type": "code",
   "execution_count": null,
   "metadata": {
    "id": "ylqBYfa5wjdu"
   },
   "outputs": [],
   "source": [
    "goodreads_data = get_id_ratings(\"/content\")"
   ]
  },
  {
   "cell_type": "markdown",
   "metadata": {
    "id": "c8bD5ucHwjdv"
   },
   "source": [
    "### Understand the data"
   ]
  },
  {
   "cell_type": "code",
   "execution_count": null,
   "metadata": {
    "id": "RkCA3V6Bwjdv"
   },
   "outputs": [
    {
     "name": "stdout",
     "output_type": "stream",
     "text": [
      "(454517, 3)\n",
      "0 4999 0 4999 [1 2 3 4 5]\n"
     ]
    }
   ],
   "source": [
    "min_user_id = np.min(goodreads_data[:,0])\n",
    "max_user_id = np.max(goodreads_data[:,0])\n",
    "min_book_id = np.min(goodreads_data[:,1])\n",
    "max_book_id = np.max(goodreads_data[:,1])\n",
    "rating_labels= np.unique(goodreads_data[:,2])\n",
    "\n",
    "print(goodreads_data.shape)\n",
    "print(min_user_id, max_user_id, min_book_id, max_book_id, rating_labels)"
   ]
  },
  {
   "cell_type": "markdown",
   "metadata": {
    "id": "1da8_HQ0wjdw"
   },
   "source": [
    "Each record is in format of (userid, bookid, rating_score). Both UserIDs and BookIDs range between 0 and 4999. Ratings are made on a 5-star scale (whole-star ratings only). Counts of users and books are recorded for later use."
   ]
  },
  {
   "cell_type": "markdown",
   "metadata": {
    "id": "yU35a78hwjdx"
   },
   "source": [
    "### Transformation"
   ]
  },
  {
   "cell_type": "markdown",
   "metadata": {
    "id": "SikiBG5ywjdy"
   },
   "source": [
    "Transform original data into RDD of sample. We use optimizer of BigDL directly to train the model, it requires data to be provided in format of RDD(Sample). A Sample is a BigDL data structure which can be constructed using 2 numpy arrays, feature and label respectively. The API interface is Sample.from_ndarray(feature, label)."
   ]
  },
  {
   "cell_type": "code",
   "execution_count": null,
   "metadata": {
    "id": "CQ54GbOQwjdz"
   },
   "outputs": [],
   "source": [
    "def build_sample(user_id, item_id, rating):\n",
    "    sample = Sample.from_ndarray(np.array([user_id, item_id]), np.array([rating]))\n",
    "    return UserItemFeature(user_id, item_id, sample)"
   ]
  },
  {
   "cell_type": "code",
   "execution_count": null,
   "metadata": {
    "id": "EL5j6InFwjdz"
   },
   "outputs": [
    {
     "data": {
      "text/plain": [
       "[<zoo.models.recommendation.recommender.UserItemFeature at 0x7f91617553d0>,\n",
       " <zoo.models.recommendation.recommender.UserItemFeature at 0x7f9161755210>,\n",
       " <zoo.models.recommendation.recommender.UserItemFeature at 0x7f9161755090>]"
      ]
     },
     "execution_count": 19,
     "metadata": {
      "tags": []
     },
     "output_type": "execute_result"
    }
   ],
   "source": [
    "pairFeatureRdds = sc.parallelize(goodreads_data).map(lambda x: build_sample(x[0], x[1], x[2]-1))\n",
    "pairFeatureRdds.take(3)"
   ]
  },
  {
   "cell_type": "markdown",
   "metadata": {
    "id": "6xlpJE4Pwjd0"
   },
   "source": [
    "### Split"
   ]
  },
  {
   "cell_type": "markdown",
   "metadata": {
    "id": "AzmLaYvBwjd1"
   },
   "source": [
    "Randomly split the data into train (80%) and validation (20%)"
   ]
  },
  {
   "cell_type": "code",
   "execution_count": null,
   "metadata": {
    "id": "SIppamqvwjd4"
   },
   "outputs": [
    {
     "data": {
      "text/plain": [
       "PythonRDD[37] at RDD at PythonRDD.scala:53"
      ]
     },
     "execution_count": 20,
     "metadata": {
      "tags": []
     },
     "output_type": "execute_result"
    }
   ],
   "source": [
    "trainPairFeatureRdds, valPairFeatureRdds = pairFeatureRdds.randomSplit([0.8, 0.2], seed= 1)\n",
    "valPairFeatureRdds.cache()\n",
    "\n",
    "train_rdd= trainPairFeatureRdds.map(lambda pair_feature: pair_feature.sample)\n",
    "val_rdd= valPairFeatureRdds.map(lambda pair_feature: pair_feature.sample)\n",
    "val_rdd.persist()"
   ]
  },
  {
   "cell_type": "code",
   "execution_count": null,
   "metadata": {
    "id": "7EBzLHhvwjd5"
   },
   "outputs": [
    {
     "data": {
      "text/plain": [
       "363662"
      ]
     },
     "execution_count": 21,
     "metadata": {
      "tags": []
     },
     "output_type": "execute_result"
    }
   ],
   "source": [
    "train_rdd.count()"
   ]
  },
  {
   "cell_type": "code",
   "execution_count": null,
   "metadata": {
    "id": "8lHUu-5Dwjd5"
   },
   "outputs": [
    {
     "data": {
      "text/plain": [
       "[Sample: features: [JTensor: storage: [510. 276.], shape: [2], float], labels: [JTensor: storage: [3.], shape: [1], float],\n",
       " Sample: features: [JTensor: storage: [2289. 2492.], shape: [2], float], labels: [JTensor: storage: [1.], shape: [1], float],\n",
       " Sample: features: [JTensor: storage: [3919. 1597.], shape: [2], float], labels: [JTensor: storage: [4.], shape: [1], float]]"
      ]
     },
     "execution_count": 22,
     "metadata": {
      "tags": []
     },
     "output_type": "execute_result"
    }
   ],
   "source": [
    "train_rdd.take(3)"
   ]
  },
  {
   "cell_type": "markdown",
   "metadata": {
    "id": "yOWXrkX8wjd5"
   },
   "source": [
    "### Build model"
   ]
  },
  {
   "cell_type": "markdown",
   "metadata": {
    "id": "Vl_IOERJwjd6"
   },
   "source": [
    "In Analytics Zoo, it is simple to build NCF model by calling NeuralCF API. You need specify the user count, item count and class number according to your data, then add hidden layers as needed, you can also choose to include matrix factorization in the network. The model could be fed into an Optimizer of BigDL or NNClassifier of analytics-zoo. Please refer to the document for more details. In this example, we demostrate how to use optimizer of BigDL."
   ]
  },
  {
   "cell_type": "code",
   "execution_count": null,
   "metadata": {
    "id": "wPTeoFIwwjd6"
   },
   "outputs": [
    {
     "name": "stdout",
     "output_type": "stream",
     "text": [
      "creating: createZooKerasInput\n",
      "creating: createZooKerasFlatten\n",
      "creating: createZooKerasSelect\n",
      "creating: createZooKerasFlatten\n",
      "creating: createZooKerasSelect\n",
      "creating: createZooKerasEmbedding\n",
      "creating: createZooKerasEmbedding\n",
      "creating: createZooKerasFlatten\n",
      "creating: createZooKerasFlatten\n",
      "creating: createZooKerasMerge\n",
      "creating: createZooKerasDense\n",
      "creating: createZooKerasDense\n",
      "creating: createZooKerasDense\n",
      "creating: createZooKerasModel\n",
      "creating: createZooNeuralCF\n"
     ]
    }
   ],
   "source": [
    "ncf = NeuralCF(user_count=max_user_id, \n",
    "               item_count=max_book_id, \n",
    "               class_num=5, \n",
    "               hidden_layers=[20, 10], \n",
    "               include_mf = False)"
   ]
  },
  {
   "cell_type": "markdown",
   "metadata": {
    "id": "PmqQLyM_wjd6"
   },
   "source": [
    "### Compile model"
   ]
  },
  {
   "cell_type": "markdown",
   "metadata": {
    "id": "GrtA-kEnwjd6"
   },
   "source": [
    "Compile model given specific optimizers, loss, as well as metrics for evaluation. Optimizer tries to minimize the loss of the neural net with respect to its weights/biases, over the training set. To create an Optimizer in BigDL, you want to at least specify arguments: model(a neural network model), criterion(the loss function), traing_rdd(training dataset) and batch size. Please refer to [ProgrammingGuide](https://bigdl-project.github.io/master/#ProgrammingGuide/optimization/) and [Optimizer](https://bigdl-project.github.io/master/#APIGuide/Optimizers/Optimizer/) for more details to create efficient optimizers."
   ]
  },
  {
   "cell_type": "code",
   "execution_count": null,
   "metadata": {
    "id": "Fimmtd-hwjd7"
   },
   "outputs": [
    {
     "name": "stdout",
     "output_type": "stream",
     "text": [
      "creating: createAdam\n",
      "creating: createZooKerasSparseCategoricalCrossEntropy\n",
      "creating: createZooKerasSparseCategoricalAccuracy\n"
     ]
    }
   ],
   "source": [
    "ncf.compile(optimizer= \"adam\",\n",
    "            loss= \"sparse_categorical_crossentropy\",\n",
    "            metrics=['accuracy'])"
   ]
  },
  {
   "cell_type": "markdown",
   "metadata": {
    "id": "2KeJMO5ywjd7"
   },
   "source": [
    "### Collect logs"
   ]
  },
  {
   "cell_type": "markdown",
   "metadata": {
    "id": "r5zPul8hwjd7"
   },
   "source": [
    "You can leverage tensorboard to see the summaries."
   ]
  },
  {
   "cell_type": "code",
   "execution_count": null,
   "metadata": {
    "id": "2e3Zoj27wjd7"
   },
   "outputs": [],
   "source": [
    "tmp_log_dir = create_tmp_path()\n",
    "ncf.set_tensorboard(tmp_log_dir, \"training_ncf\")"
   ]
  },
  {
   "cell_type": "markdown",
   "metadata": {
    "id": "4AycEKAvwjd8"
   },
   "source": [
    "### Train the model"
   ]
  },
  {
   "cell_type": "code",
   "execution_count": null,
   "metadata": {
    "id": "Sci601vfwjd8"
   },
   "outputs": [],
   "source": [
    "ncf.fit(train_rdd, \n",
    "        nb_epoch= 10, \n",
    "        batch_size= 5000,\n",
    "        validation_data=val_rdd)"
   ]
  },
  {
   "cell_type": "markdown",
   "metadata": {
    "id": "WXZwcEKhwjd8"
   },
   "source": [
    "### Prediction"
   ]
  },
  {
   "cell_type": "markdown",
   "metadata": {
    "id": "Lo5AJu9gwjd8"
   },
   "source": [
    "Zoo models make inferences based on the given data using model.predict(val_rdd) API. A result of RDD is returned. predict_class returns the predicted label."
   ]
  },
  {
   "cell_type": "code",
   "execution_count": null,
   "metadata": {
    "id": "bMvjZyVFwjd8"
   },
   "outputs": [
    {
     "data": {
      "text/plain": [
       "[array([0.00071773, 0.00534406, 0.07192371, 0.46765593, 0.45435852],\n",
       "       dtype=float32),\n",
       " array([0.14319365, 0.23656234, 0.28515524, 0.24342458, 0.09166414],\n",
       "       dtype=float32),\n",
       " array([0.0084668 , 0.02982639, 0.17435056, 0.46424043, 0.32311577],\n",
       "       dtype=float32),\n",
       " array([5.7515636e-04, 1.4479134e-02, 3.0612889e-01, 6.0694826e-01,\n",
       "        7.1868621e-02], dtype=float32),\n",
       " array([0.00603686, 0.01832466, 0.12356475, 0.32203293, 0.5300408 ],\n",
       "       dtype=float32)]"
      ]
     },
     "execution_count": 27,
     "metadata": {
      "tags": []
     },
     "output_type": "execute_result"
    }
   ],
   "source": [
    "results = ncf.predict(val_rdd)\n",
    "results.take(5)"
   ]
  },
  {
   "cell_type": "code",
   "execution_count": null,
   "metadata": {
    "id": "uk7CVamgwjd9"
   },
   "outputs": [
    {
     "data": {
      "text/plain": [
       "[4, 3, 4, 4, 5]"
      ]
     },
     "execution_count": 28,
     "metadata": {
      "tags": []
     },
     "output_type": "execute_result"
    }
   ],
   "source": [
    "results_class = ncf.predict_class(val_rdd)\n",
    "results_class.take(5)"
   ]
  },
  {
   "cell_type": "markdown",
   "metadata": {
    "id": "58pkoo1Ywjd9"
   },
   "source": [
    "In Analytics Zoo, Recommender has provied 3 unique APIs to predict user-item pairs and make recommendations for users or items given candidates."
   ]
  },
  {
   "cell_type": "markdown",
   "metadata": {
    "id": "X-xHwV-swjd9"
   },
   "source": [
    "#### Predict for user item pairs"
   ]
  },
  {
   "cell_type": "code",
   "execution_count": null,
   "metadata": {
    "id": "5p7tvznrwjd9"
   },
   "outputs": [
    {
     "name": "stdout",
     "output_type": "stream",
     "text": [
      "UserItemPrediction [user_id: 2765, item_id: 53, prediction: 4, probability: 0.4676559269428253]\n",
      "UserItemPrediction [user_id: 4573, item_id: 95, prediction: 3, probability: 0.2851552367210388]\n",
      "UserItemPrediction [user_id: 3907, item_id: 15, prediction: 4, probability: 0.4642404317855835]\n",
      "UserItemPrediction [user_id: 790, item_id: 156, prediction: 4, probability: 0.6069482564926147]\n",
      "UserItemPrediction [user_id: 3315, item_id: 1721, prediction: 5, probability: 0.5300408005714417]\n"
     ]
    }
   ],
   "source": [
    "userItemPairPrediction = ncf.predict_user_item_pair(valPairFeatureRdds)\n",
    "for result in userItemPairPrediction.take(5): print(result)"
   ]
  },
  {
   "cell_type": "markdown",
   "metadata": {
    "id": "CyX1eTdkwjd-"
   },
   "source": [
    "#### Recommend 3 items for each user given candidates in the feature RDDs"
   ]
  },
  {
   "cell_type": "code",
   "execution_count": null,
   "metadata": {
    "id": "I-DVT_Rrwjd-"
   },
   "outputs": [
    {
     "name": "stdout",
     "output_type": "stream",
     "text": [
      "UserItemPrediction [user_id: 3586, item_id: 850, prediction: 5, probability: 0.49247753620147705]\n",
      "UserItemPrediction [user_id: 3586, item_id: 2354, prediction: 4, probability: 0.6351815462112427]\n",
      "UserItemPrediction [user_id: 3586, item_id: 2787, prediction: 4, probability: 0.6106586456298828]\n",
      "UserItemPrediction [user_id: 1084, item_id: 4588, prediction: 5, probability: 0.7689940333366394]\n",
      "UserItemPrediction [user_id: 1084, item_id: 554, prediction: 5, probability: 0.7594876289367676]\n"
     ]
    }
   ],
   "source": [
    "userRecs = ncf.recommend_for_user(valPairFeatureRdds, 3)\n",
    "for result in userRecs.take(5): print(result)"
   ]
  },
  {
   "cell_type": "markdown",
   "metadata": {
    "id": "FRiuPObQwjd_"
   },
   "source": [
    "#### Recommend 3 users for each item given candidates in the feature RDDs"
   ]
  },
  {
   "cell_type": "code",
   "execution_count": null,
   "metadata": {
    "id": "7uzgNF0iwjd_"
   },
   "outputs": [
    {
     "name": "stdout",
     "output_type": "stream",
     "text": [
      "UserItemPrediction [user_id: 3111, item_id: 3558, prediction: 5, probability: 0.48693835735321045]\n",
      "UserItemPrediction [user_id: 2024, item_id: 3558, prediction: 5, probability: 0.42628324031829834]\n",
      "UserItemPrediction [user_id: 4909, item_id: 3558, prediction: 4, probability: 0.562437891960144]\n",
      "UserItemPrediction [user_id: 3023, item_id: 1084, prediction: 5, probability: 0.8389995694160461]\n",
      "UserItemPrediction [user_id: 4790, item_id: 1084, prediction: 5, probability: 0.6715853810310364]\n"
     ]
    }
   ],
   "source": [
    "itemRecs = ncf.recommend_for_item(valPairFeatureRdds, 3)\n",
    "for result in itemRecs.take(5): print(result)"
   ]
  },
  {
   "cell_type": "markdown",
   "metadata": {
    "id": "dAZa8Prjwjd_"
   },
   "source": [
    "### Evaluation"
   ]
  },
  {
   "cell_type": "markdown",
   "metadata": {
    "id": "RjuH2lVBwjeA"
   },
   "source": [
    "Plot the train and validation loss curves"
   ]
  },
  {
   "cell_type": "code",
   "execution_count": null,
   "metadata": {
    "id": "KJ3psufCwjeA"
   },
   "outputs": [
    {
     "data": {
      "text/plain": [
       "Text(0.5, 1.0, 'loss')"
      ]
     },
     "execution_count": 32,
     "metadata": {
      "tags": []
     },
     "output_type": "execute_result"
    },
    {
     "data": {
      "image/png": "[encoded data removed]",
      "text/plain": [
       "<Figure size 864x432 with 1 Axes>"
      ]
     },
     "metadata": {
      "filenames": {
       "image/png": "/content/reco-book/_build/jupyter_execute/nbs/T051594_Analytics_Zoo_118_1.png"
      },
      "needs_background": "light",
      "tags": []
     },
     "output_type": "display_data"
    }
   ],
   "source": [
    "#retrieve train and validation summary object and read the loss data into ndarray's. \n",
    "train_loss = np.array(ncf.get_train_summary(\"Loss\"))\n",
    "val_loss = np.array(ncf.get_validation_summary(\"Loss\"))\n",
    "#plot the train and validation curves\n",
    "# each event data is a tuple in form of (iteration_count, value, timestamp)\n",
    "plt.figure(figsize = (12,6))\n",
    "plt.plot(train_loss[:,0],train_loss[:,1],label='train loss')\n",
    "plt.plot(val_loss[:,0],val_loss[:,1],label='val loss',color='green')\n",
    "plt.scatter(val_loss[:,0],val_loss[:,1],color='green')\n",
    "plt.legend();\n",
    "plt.xlim(0,train_loss.shape[0]+10)\n",
    "plt.grid(True)\n",
    "plt.title(\"loss\")"
   ]
  },
  {
   "cell_type": "markdown",
   "metadata": {
    "id": "n1cVdiScwjeB"
   },
   "source": [
    "Plot accuracy"
   ]
  },
  {
   "cell_type": "code",
   "execution_count": null,
   "metadata": {
    "id": "qcmTiyIswjeB"
   },
   "outputs": [
    {
     "data": {
      "image/png": "[encoded data removed]",
      "text/plain": [
       "<Figure size 864x432 with 1 Axes>"
      ]
     },
     "metadata": {
      "filenames": {
       "image/png": "/content/reco-book/_build/jupyter_execute/nbs/T051594_Analytics_Zoo_120_0.png"
      },
      "needs_background": "light",
      "tags": []
     },
     "output_type": "display_data"
    }
   ],
   "source": [
    "plt.figure(figsize = (12,6))\n",
    "top1 = np.array(ncf.get_validation_summary(\"Top1Accuracy\"))\n",
    "plt.plot(top1[:,0],top1[:,1],label='top1')\n",
    "plt.title(\"top1 accuracy\")\n",
    "plt.grid(True)\n",
    "plt.legend();"
   ]
  },
  {
   "cell_type": "markdown",
   "metadata": {
    "id": "4Jhm1sRpw2UH"
   },
   "source": [
    "## Part 3\n",
    "> Applying Wide&Deep on MovieLens using Analytics Zoo library"
   ]
  },
  {
   "cell_type": "markdown",
   "metadata": {
    "id": "8lB2W4xaw2UI"
   },
   "source": [
    "### Introduction"
   ]
  },
  {
   "cell_type": "markdown",
   "metadata": {
    "id": "a8pHwHXvw2UJ"
   },
   "source": [
    "Wide and Deep Learning Model, proposed by Google in 2016, is a DNN-Linear mixed model. Wide and deep learning has been used for Google App Store for their app recommendation.\n",
    "\n",
    "In this tutorial, we use Recommender API of Analytics Zoo to build a wide linear model and a deep neural network, which is called Wide&Deep model, and use optimizer of BigDL to train the neural network. Wide&Deep model combines the strength of memorization and generalization. It's useful for generic large-scale regression and classification problems with sparse input features (e.g., categorical features with a large number of possible feature values).\n",
    "\n",
    "Python interface:\n",
    "\n",
    "```python\n",
    "wide_and_deep = WideAndDeep(class_num, column_info, model_type=\"wide_n_deep\", hidden_layers=(40, 20, 10))\n",
    "```\n",
    "\n",
    "- `class_num`: The number of classes. Positive int.\n",
    "- `column_info`: An instance of ColumnFeatureInfo.\n",
    "- `model_type`: String. 'wide', 'deep' and 'wide_n_deep' are supported. Default is 'wide_n_deep'.\n",
    "- `hidden_layers`: Units of hidden layers for the deep model. Tuple of positive int. Default is (40, 20, 10)."
   ]
  },
  {
   "cell_type": "markdown",
   "metadata": {
    "id": "H4CMXQMyw2UJ"
   },
   "source": [
    "### Installation"
   ]
  },
  {
   "cell_type": "markdown",
   "metadata": {
    "id": "WDw5_uMWw2UK"
   },
   "source": [
    "#### Install Java 8"
   ]
  },
  {
   "cell_type": "markdown",
   "metadata": {
    "id": "F221uLTkw2UL"
   },
   "source": [
    "Run the command on the colaboratory file to install jdk 1.8"
   ]
  },
  {
   "cell_type": "code",
   "execution_count": null,
   "metadata": {
    "id": "SRzXLOI8w2UL"
   },
   "outputs": [
    {
     "name": "stdout",
     "output_type": "stream",
     "text": [
      "update-alternatives: using /usr/lib/jvm/java-8-openjdk-amd64/jre/bin/java to provide /usr/bin/java (java) in manual mode\n"
     ]
    }
   ],
   "source": [
    "# Install jdk8\n",
    "!apt-get install openjdk-8-jdk-headless -qq > /dev/null\n",
    "# Set jdk environment path which enables you to run Pyspark in your Colab environment.\n",
    "import os\n",
    "os.environ[\"JAVA_HOME\"] = \"/usr/lib/jvm/java-8-openjdk-amd64\"\n",
    "!update-alternatives --set java /usr/lib/jvm/java-8-openjdk-amd64/jre/bin/java"
   ]
  },
  {
   "cell_type": "markdown",
   "metadata": {
    "id": "OIY--lfVw2UM"
   },
   "source": [
    "#### Install Analytics Zoo from pip"
   ]
  },
  {
   "cell_type": "markdown",
   "metadata": {
    "id": "AA8UaT_hw2UN"
   },
   "source": [
    "You can add the following command on your colab file to install the analytics-zoo via pip easily:"
   ]
  },
  {
   "cell_type": "code",
   "execution_count": null,
   "metadata": {
    "id": "IC0AUY8Hw2UN"
   },
   "outputs": [],
   "source": [
    "# Install latest release version of analytics-zoo \n",
    "# Installing analytics-zoo from pip will automatically install pyspark, bigdl, and their dependencies.\n",
    "!pip install analytics-zoo"
   ]
  },
  {
   "cell_type": "markdown",
   "metadata": {
    "id": "RFP78OY4w2UO"
   },
   "source": [
    "#### Initialize context"
   ]
  },
  {
   "cell_type": "markdown",
   "metadata": {
    "id": "YNvyx5L0w2UO"
   },
   "source": [
    "Call init_nncontext() that will create a SparkContext with optimized performance configurations."
   ]
  },
  {
   "cell_type": "code",
   "execution_count": null,
   "metadata": {
    "id": "odlmBvpjw2UO"
   },
   "outputs": [
    {
     "name": "stdout",
     "output_type": "stream",
     "text": [
      "Prepending /usr/local/lib/python3.7/dist-packages/bigdl/share/conf/spark-bigdl.conf to sys.path\n",
      "Adding /usr/local/lib/python3.7/dist-packages/zoo/share/lib/analytics-zoo-bigdl_0.12.2-spark_2.4.3-0.10.0-jar-with-dependencies.jar to BIGDL_JARS\n",
      "Prepending /usr/local/lib/python3.7/dist-packages/zoo/share/conf/spark-analytics-zoo.conf to sys.path\n",
      "pyspark_submit_args is:  --driver-class-path /usr/local/lib/python3.7/dist-packages/zoo/share/lib/analytics-zoo-bigdl_0.12.2-spark_2.4.3-0.10.0-jar-with-dependencies.jar:/usr/local/lib/python3.7/dist-packages/bigdl/share/lib/bigdl-0.12.2-jar-with-dependencies.jar pyspark-shell \n"
     ]
    }
   ],
   "source": [
    "from zoo.common.nncontext import*\n",
    "\n",
    "sc = init_nncontext()"
   ]
  },
  {
   "cell_type": "markdown",
   "metadata": {
    "id": "_lgLtqW5w2UP"
   },
   "source": [
    "Analytics Zoo provides three Recommenders, including Wide and Deep (WND) model, Neural network-based Collaborative Filtering (NCF) model and Session Recommender model. Easy-to-use Keras-Style defined models which provides compile and fit methods for training. Alternatively, they could be fed into NNFrames or BigDL Optimizer.\n",
    "\n",
    "WND and NCF recommenders can handle either explict or implicit feedback, given corresponding features."
   ]
  },
  {
   "cell_type": "markdown",
   "metadata": {
    "id": "9QKIIKp0w2UP"
   },
   "source": [
    "### Imports"
   ]
  },
  {
   "cell_type": "code",
   "execution_count": null,
   "metadata": {
    "id": "zv1XiNMIw2UP"
   },
   "outputs": [
    {
     "name": "stdout",
     "output_type": "stream",
     "text": [
      "Populating the interactive namespace from numpy and matplotlib\n"
     ]
    }
   ],
   "source": [
    "from zoo.models.recommendation import *\n",
    "from zoo.models.recommendation.utils import *\n",
    "from zoo.common.nncontext import init_nncontext\n",
    "\n",
    "sqlContext = SQLContext(sc)\n",
    "from pyspark.sql.types import *\n",
    "from pyspark.sql import Row\n",
    "\n",
    "import os\n",
    "import sys\n",
    "import datetime as dt\n",
    "import numpy as np\n",
    "from sklearn import preprocessing\n",
    "\n",
    "import matplotlib\n",
    "matplotlib.use('agg')\n",
    "import matplotlib.pyplot as plt\n",
    "%pylab inline"
   ]
  },
  {
   "cell_type": "markdown",
   "metadata": {
    "id": "p5kkcN-bw2UQ"
   },
   "source": [
    "### Download movielens dataset"
   ]
  },
  {
   "cell_type": "code",
   "execution_count": null,
   "metadata": {
    "id": "60DfwIk2w2UQ"
   },
   "outputs": [],
   "source": [
    "!wget http://files.grouplens.org/datasets/movielens/ml-1m.zip\n",
    "!unzip ml-1m.zip"
   ]
  },
  {
   "cell_type": "markdown",
   "metadata": {
    "id": "0KYv1ZrSw2UU"
   },
   "source": [
    "### Read the dataset"
   ]
  },
  {
   "cell_type": "code",
   "execution_count": null,
   "metadata": {
    "id": "RQiulVJ4w2UV"
   },
   "outputs": [],
   "source": [
    "def read_data_sets(data_dir):\n",
    "  rating_files = os.path.join(data_dir,\"ratings.dat\")\n",
    "  rating_list = [i.strip().split(\"::\") for i in open(rating_files,\"r\").readlines()]    \n",
    "  movielens_data = np.array(rating_list).astype(int)\n",
    "  return movielens_data \n",
    "\n",
    "def get_id_pairs(data_dir):\n",
    "\tmovielens_data = read_data_sets(data_dir)\n",
    "\treturn movielens_data[:, 0:2]\n",
    "\n",
    "def get_id_ratings(data_dir):\n",
    "\tmovielens_data = read_data_sets(data_dir)\n",
    "\treturn movielens_data[:100000, 0:3]"
   ]
  },
  {
   "cell_type": "code",
   "execution_count": null,
   "metadata": {
    "id": "RjctH9Sjw2UV"
   },
   "outputs": [],
   "source": [
    "movielens_data = get_id_ratings(\"/content/ml-1m\")"
   ]
  },
  {
   "cell_type": "markdown",
   "metadata": {
    "id": "8FaVmR1Jw2UW"
   },
   "source": [
    "### Understand the data"
   ]
  },
  {
   "cell_type": "code",
   "execution_count": null,
   "metadata": {
    "id": "5S6-El_pw2UW"
   },
   "outputs": [
    {
     "name": "stdout",
     "output_type": "stream",
     "text": [
      "(100000, 3)\n",
      "1 669 1 3952 [1 2 3 4 5]\n"
     ]
    }
   ],
   "source": [
    "min_user_id = np.min(movielens_data[:,0])\n",
    "max_user_id = np.max(movielens_data[:,0])\n",
    "min_movie_id = np.min(movielens_data[:,1])\n",
    "max_movie_id = np.max(movielens_data[:,1])\n",
    "rating_labels= np.unique(movielens_data[:,2])\n",
    "\n",
    "print(movielens_data.shape)\n",
    "print(min_user_id, max_user_id, min_movie_id, max_movie_id, rating_labels)"
   ]
  },
  {
   "cell_type": "markdown",
   "metadata": {
    "id": "mVuCeKKww2UW"
   },
   "source": [
    "### Transformation"
   ]
  },
  {
   "cell_type": "markdown",
   "metadata": {
    "id": "cRkhV1j5w2UX"
   },
   "source": [
    "Transform ratings into dataframe, read user and item data into dataframes. Transform labels to zero-based since the original labels start from 1."
   ]
  },
  {
   "cell_type": "code",
   "execution_count": null,
   "metadata": {
    "id": "2T8xvlJLw2UX"
   },
   "outputs": [],
   "source": [
    "Rating = Row(\"userId\", \"itemId\", \"label\")\n",
    "User = Row(\"userId\", \"gender\", \"age\" ,\"occupation\")\n",
    "Item = Row(\"itemId\", \"title\" ,\"genres\")\n",
    "\n",
    "ratings = sc.parallelize(movielens_data)\\\n",
    "    .map(lambda l: (int(l[0]), int(l[1]), int(l[2])-1))\\\n",
    "    .map(lambda r: Rating(*r))\n",
    "ratingDF = sqlContext.createDataFrame(ratings)\n",
    "\n",
    "users= sc.textFile(\"/content/ml-1m/users.dat\")\\\n",
    "    .map(lambda l: l.split(\"::\")[0:4])\\\n",
    "    .map(lambda l: (int(l[0]), l[1], int(l[2]), int(l[3])))\\\n",
    "    .map(lambda r: User(*r))\n",
    "userDF = sqlContext.createDataFrame(users)\n",
    "\n",
    "items = sc.textFile(\"/content/ml-1m/movies.dat\")\\\n",
    "    .map(lambda l: l.split(\"::\")[0:3])\\\n",
    "    .map(lambda l: (int(l[0]), l[1], l[2].split('|')[0]))\\\n",
    "    .map(lambda r: Item(*r))\n",
    "itemDF = sqlContext.createDataFrame(items)"
   ]
  },
  {
   "cell_type": "markdown",
   "metadata": {
    "id": "5GF3VrUfrGUj"
   },
   "source": [
    "Join data together, and transform data. For example, gender is going be used as categorical feature, occupation and gender will be used as crossed features."
   ]
  },
  {
   "cell_type": "code",
   "execution_count": null,
   "metadata": {
    "id": "3vIUyR2YrKi0"
   },
   "outputs": [
    {
     "name": "stdout",
     "output_type": "stream",
     "text": [
      "+------+------+-----+------+---+----------+--------------+------+----------+\n",
      "|itemId|userId|label|gender|age|occupation|         title|genres|age-gender|\n",
      "+------+------+-----+------+---+----------+--------------+------+----------+\n",
      "|    26|   229|    3|     2| 18|        10|Othello (1995)|     5|        72|\n",
      "|    26|   342|    3|     2| 18|        12|Othello (1995)|     5|        72|\n",
      "|    26|   655|    2|     1| 25|         2|Othello (1995)|     5|         1|\n",
      "|    26|   524|    2|     2| 18|         0|Othello (1995)|     5|        72|\n",
      "|    26|    18|    3|     1| 18|         3|Othello (1995)|     5|        77|\n",
      "+------+------+-----+------+---+----------+--------------+------+----------+\n",
      "only showing top 5 rows\n",
      "\n"
     ]
    }
   ],
   "source": [
    "from pyspark.sql.functions import col, udf\n",
    "\n",
    "gender_udf = udf(lambda gender: categorical_from_vocab_list(gender, [\"F\", \"M\"], start=1))\n",
    "bucket_cross_udf = udf(lambda feature1, feature2: hash_bucket(str(feature1) + \"_\" + str(feature2), bucket_size=100))\n",
    "genres_list = [\"Crime\", \"Romance\", \"Thriller\", \"Adventure\", \"Drama\", \"Children's\",\n",
    "      \"War\", \"Documentary\", \"Fantasy\", \"Mystery\", \"Musical\", \"Animation\", \"Film-Noir\", \"Horror\",\n",
    "      \"Western\", \"Comedy\", \"Action\", \"Sci-Fi\"]\n",
    "genres_udf = udf(lambda genres: categorical_from_vocab_list(genres, genres_list, start=1))\n",
    "     \n",
    "allDF = ratingDF.join(userDF, [\"userId\"]).join(itemDF, [\"itemId\"]) \\\n",
    "        .withColumn(\"gender\", gender_udf(col(\"gender\")).cast(\"int\")) \\\n",
    "        .withColumn(\"age-gender\", bucket_cross_udf(col(\"age\"), col(\"gender\")).cast(\"int\")) \\\n",
    "        .withColumn(\"genres\", genres_udf(col(\"genres\")).cast(\"int\"))\n",
    "allDF.show(5)"
   ]
  },
  {
   "cell_type": "markdown",
   "metadata": {
    "id": "pi1uCpp3rRrG"
   },
   "source": [
    "Speficy data feature information shared by the WideAndDeep model and its feature generation. Here, we use occupation gender for wide base part, age and gender crossed as wide cross part, genres and gender as indicators, userid and itemid for embedding."
   ]
  },
  {
   "cell_type": "code",
   "execution_count": null,
   "metadata": {
    "id": "xyc85kqqrQ5y"
   },
   "outputs": [],
   "source": [
    "bucket_size = 100\n",
    "column_info = ColumnFeatureInfo(\n",
    "            wide_base_cols=[\"occupation\", \"gender\"],\n",
    "            wide_base_dims=[21, 3],\n",
    "            wide_cross_cols=[\"age-gender\"],\n",
    "            wide_cross_dims=[bucket_size],\n",
    "            indicator_cols=[\"genres\", \"gender\"],\n",
    "            indicator_dims=[19, 3],\n",
    "            embed_cols=[\"userId\", \"itemId\"],\n",
    "            embed_in_dims=[max_user_id, max_movie_id],\n",
    "            embed_out_dims=[64, 64],\n",
    "            continuous_cols=[\"age\"])"
   ]
  },
  {
   "cell_type": "markdown",
   "metadata": {
    "id": "4Ct0py6Qrjki"
   },
   "source": [
    "Transform data to RDD of Sample. We use optimizer of BigDL directly to train the model, it requires data to be provided in format of RDD(Sample). A Sample is a BigDL data structure which can be constructed using 2 numpy arrays, feature and label respectively. The API interface is Sample.from_ndarray(feature, label). Wide&Deep model need two input tensors, one is SparseTensor for the Wide model, another is a DenseTensor for the Deep model."
   ]
  },
  {
   "cell_type": "markdown",
   "metadata": {
    "id": "BQE06xv9w2UZ"
   },
   "source": [
    "Randomly split the data into train (80%) and validation (20%)"
   ]
  },
  {
   "cell_type": "code",
   "execution_count": null,
   "metadata": {
    "id": "Q2XqW5wMrlWR"
   },
   "outputs": [],
   "source": [
    "rdds = allDF.rdd.map(lambda row: to_user_item_feature(row, column_info))\n",
    "trainPairFeatureRdds, valPairFeatureRdds = rdds.randomSplit([0.8, 0.2], seed= 1)\n",
    "valPairFeatureRdds.persist()\n",
    "\n",
    "train_data= trainPairFeatureRdds.map(lambda pair_feature: pair_feature.sample)\n",
    "test_data= valPairFeatureRdds.map(lambda pair_feature: pair_feature.sample)"
   ]
  },
  {
   "cell_type": "code",
   "execution_count": null,
   "metadata": {
    "id": "oXKMHtzNw2UZ"
   },
   "outputs": [
    {
     "data": {
      "text/plain": [
       "80151"
      ]
     },
     "execution_count": 13,
     "metadata": {
      "tags": []
     },
     "output_type": "execute_result"
    }
   ],
   "source": [
    "train_data.count()"
   ]
  },
  {
   "cell_type": "code",
   "execution_count": null,
   "metadata": {
    "id": "ZD1hhAh_w2Ua"
   },
   "outputs": [
    {
     "data": {
      "text/plain": [
       "[Sample: features: [JTensor: storage: [1. 1. 1.], shape: [124] ,indices [10 23 96], float, JTensor: storage: [0. 0. 0. 0. 0. 1. 0. 0. 0. 0. 0. 0. 0. 0. 0. 0. 0. 0. 0. 0. 0. 1.], shape: [22], float, JTensor: storage: [229.  26.], shape: [2], float, JTensor: storage: [18.], shape: [1], float], labels: [JTensor: storage: [3.], shape: [1], float],\n",
       " Sample: features: [JTensor: storage: [1. 1. 1.], shape: [124] ,indices [ 2 22 25], float, JTensor: storage: [0. 0. 0. 0. 0. 1. 0. 0. 0. 0. 0. 0. 0. 0. 0. 0. 0. 0. 0. 0. 1. 0.], shape: [22], float, JTensor: storage: [655.  26.], shape: [2], float, JTensor: storage: [25.], shape: [1], float], labels: [JTensor: storage: [2.], shape: [1], float],\n",
       " Sample: features: [JTensor: storage: [1. 1. 1.], shape: [124] ,indices [ 0 23 96], float, JTensor: storage: [0. 0. 0. 0. 0. 1. 0. 0. 0. 0. 0. 0. 0. 0. 0. 0. 0. 0. 0. 0. 0. 1.], shape: [22], float, JTensor: storage: [524.  26.], shape: [2], float, JTensor: storage: [18.], shape: [1], float], labels: [JTensor: storage: [2.], shape: [1], float]]"
      ]
     },
     "execution_count": 14,
     "metadata": {
      "tags": []
     },
     "output_type": "execute_result"
    }
   ],
   "source": [
    "train_data.take(3)"
   ]
  },
  {
   "cell_type": "markdown",
   "metadata": {
    "id": "WFCygS2Yw2Ua"
   },
   "source": [
    "### Build model"
   ]
  },
  {
   "cell_type": "markdown",
   "metadata": {
    "id": "FfkBNv4mw2Ua"
   },
   "source": [
    "In Analytics Zoo, it is simple to build Wide&Deep model by calling WideAndDeep API. You need specify model type, and class number, as well as column information of features according to your data. You can also change other default parameters in the network, like hidden layers. The model could be fed into an Optimizer of BigDL or NNClassifier of analytics-zoo. Please refer to the document for more details. In this example, we demostrate how to use optimizer of BigDL."
   ]
  },
  {
   "cell_type": "code",
   "execution_count": null,
   "metadata": {
    "id": "i1xFZKRow2Ua"
   },
   "outputs": [
    {
     "name": "stdout",
     "output_type": "stream",
     "text": [
      "creating: createZooKerasInput\n",
      "creating: createZooKerasInput\n",
      "creating: createZooKerasInput\n",
      "creating: createZooKerasInput\n",
      "creating: createZooKerasSparseDense\n",
      "creating: createZooKerasFlatten\n",
      "creating: createZooKerasSelect\n",
      "creating: createZooKerasEmbedding\n",
      "creating: createZooKerasFlatten\n",
      "creating: createZooKerasFlatten\n",
      "creating: createZooKerasSelect\n",
      "creating: createZooKerasEmbedding\n",
      "creating: createZooKerasFlatten\n",
      "creating: createZooKerasMerge\n",
      "creating: createZooKerasDense\n",
      "creating: createZooKerasDense\n",
      "creating: createZooKerasDense\n",
      "creating: createZooKerasDense\n",
      "creating: createZooKerasMerge\n",
      "creating: createZooKerasActivation\n",
      "creating: createZooKerasModel\n",
      "creating: createZooWideAndDeep\n"
     ]
    }
   ],
   "source": [
    "wide_n_deep = WideAndDeep(5, column_info, \"wide_n_deep\")"
   ]
  },
  {
   "cell_type": "markdown",
   "metadata": {
    "id": "AgFrVcNusKGX"
   },
   "source": [
    "#### Create optimizer and train the model"
   ]
  },
  {
   "cell_type": "code",
   "execution_count": null,
   "metadata": {
    "id": "I9nj8isTw2Ub"
   },
   "outputs": [
    {
     "name": "stdout",
     "output_type": "stream",
     "text": [
      "creating: createAdam\n",
      "creating: createZooKerasSparseCategoricalCrossEntropy\n",
      "creating: createZooKerasSparseCategoricalAccuracy\n"
     ]
    }
   ],
   "source": [
    "wide_n_deep.compile(optimizer = \"adam\",\n",
    "                    loss= \"sparse_categorical_crossentropy\",\n",
    "                    metrics=['accuracy'])"
   ]
  },
  {
   "cell_type": "code",
   "execution_count": null,
   "metadata": {
    "id": "pBFimH_GsOPP"
   },
   "outputs": [],
   "source": [
    "tmp_log_dir = create_tmp_path()\n",
    "wide_n_deep.set_tensorboard(tmp_log_dir, \"training_wideanddeep\")"
   ]
  },
  {
   "cell_type": "markdown",
   "metadata": {
    "id": "l0Ev3lGSsP3d"
   },
   "source": [
    "Train the network. Wait some time till it finished.. Voila! You've got a trained model\n"
   ]
  },
  {
   "cell_type": "code",
   "execution_count": null,
   "metadata": {
    "id": "nnlnakrOsRkx"
   },
   "outputs": [
    {
     "name": "stdout",
     "output_type": "stream",
     "text": [
      "Optimization Done.\n",
      "CPU times: user 478 ms, sys: 57.8 ms, total: 535 ms\n",
      "Wall time: 1min 19s\n"
     ]
    }
   ],
   "source": [
    "%%time\n",
    "# Boot training process\n",
    "wide_n_deep.fit(train_data,\n",
    "                batch_size = 20000,\n",
    "                nb_epoch = 10,\n",
    "                validation_data = test_data)\n",
    "print(\"Optimization Done.\")"
   ]
  },
  {
   "cell_type": "markdown",
   "metadata": {
    "id": "HFT0T6STw2Uc"
   },
   "source": [
    "### Prediction"
   ]
  },
  {
   "cell_type": "markdown",
   "metadata": {
    "id": "ROE3Kt5Aw2Uc"
   },
   "source": [
    "Zoo models make inferences based on the given data using model.predict(val_rdd) API. A result of RDD is returned. predict_class returns the predicted label."
   ]
  },
  {
   "cell_type": "code",
   "execution_count": null,
   "metadata": {
    "id": "ZSKCCYX8w2Uc"
   },
   "outputs": [
    {
     "data": {
      "text/plain": [
       "[array([0.11510788, 0.11794264, 0.20563757, 0.437561  , 0.12375093],\n",
       "       dtype=float32),\n",
       " array([0.02078348, 0.03359406, 0.22935031, 0.20971832, 0.5065538 ],\n",
       "       dtype=float32),\n",
       " array([0.07785287, 0.06622984, 0.32682514, 0.37786472, 0.15122744],\n",
       "       dtype=float32),\n",
       " array([0.08764142, 0.05253283, 0.22836466, 0.34160003, 0.28986108],\n",
       "       dtype=float32),\n",
       " array([0.09743527, 0.07298197, 0.31074455, 0.3314138 , 0.18742438],\n",
       "       dtype=float32)]"
      ]
     },
     "execution_count": 19,
     "metadata": {
      "tags": []
     },
     "output_type": "execute_result"
    }
   ],
   "source": [
    "results = wide_n_deep.predict(test_data)\n",
    "results.take(5)"
   ]
  },
  {
   "cell_type": "code",
   "execution_count": null,
   "metadata": {
    "id": "YQfGrCjbw2Ud"
   },
   "outputs": [
    {
     "data": {
      "text/plain": [
       "[4, 5, 4, 4, 4]"
      ]
     },
     "execution_count": 20,
     "metadata": {
      "tags": []
     },
     "output_type": "execute_result"
    }
   ],
   "source": [
    "results_class = wide_n_deep.predict_class(test_data)\n",
    "results_class.take(5)"
   ]
  },
  {
   "cell_type": "markdown",
   "metadata": {
    "id": "Z2zfr4KCw2Ud"
   },
   "source": [
    "In Analytics Zoo, Recommender has provied 3 unique APIs to predict user-item pairs and make recommendations for users or items given candidates."
   ]
  },
  {
   "cell_type": "markdown",
   "metadata": {
    "id": "b-NuD3g2w2Ud"
   },
   "source": [
    "#### Predict for user item pairs"
   ]
  },
  {
   "cell_type": "code",
   "execution_count": null,
   "metadata": {
    "id": "LRLs8Laiw2Ud"
   },
   "outputs": [
    {
     "name": "stdout",
     "output_type": "stream",
     "text": [
      "UserItemPrediction [user_id: 342, item_id: 26, prediction: 4, probability: 0.4375610053539276]\n",
      "UserItemPrediction [user_id: 602, item_id: 29, prediction: 5, probability: 0.5065538287162781]\n",
      "UserItemPrediction [user_id: 5, item_id: 29, prediction: 4, probability: 0.3778647184371948]\n",
      "UserItemPrediction [user_id: 623, item_id: 29, prediction: 4, probability: 0.3416000306606293]\n",
      "UserItemPrediction [user_id: 563, item_id: 29, prediction: 4, probability: 0.33141380548477173]\n"
     ]
    }
   ],
   "source": [
    "userItemPairPrediction = wide_n_deep.predict_user_item_pair(valPairFeatureRdds)\n",
    "for result in userItemPairPrediction.take(5): print(result)"
   ]
  },
  {
   "cell_type": "markdown",
   "metadata": {
    "id": "wuvZkGe6w2Ue"
   },
   "source": [
    "#### Recommend 3 items for each user given candidates in the feature RDDs"
   ]
  },
  {
   "cell_type": "code",
   "execution_count": null,
   "metadata": {
    "id": "agMyaFqNw2Ue"
   },
   "outputs": [
    {
     "name": "stdout",
     "output_type": "stream",
     "text": [
      "UserItemPrediction [user_id: 600, item_id: 2987, prediction: 4, probability: 0.48497775197029114]\n",
      "UserItemPrediction [user_id: 600, item_id: 2701, prediction: 4, probability: 0.47248759865760803]\n",
      "UserItemPrediction [user_id: 600, item_id: 104, prediction: 4, probability: 0.4457840323448181]\n",
      "UserItemPrediction [user_id: 200, item_id: 2555, prediction: 5, probability: 0.2934740483760834]\n",
      "UserItemPrediction [user_id: 200, item_id: 2041, prediction: 3, probability: 0.3036503791809082]\n"
     ]
    }
   ],
   "source": [
    "userRecs = wide_n_deep.recommend_for_user(valPairFeatureRdds, 3)\n",
    "for result in userRecs.take(5): print(result)"
   ]
  },
  {
   "cell_type": "markdown",
   "metadata": {
    "id": "r9Kcf4iZw2Ue"
   },
   "source": [
    "#### Recommend 3 users for each item given candidates in the feature RDDs"
   ]
  },
  {
   "cell_type": "code",
   "execution_count": null,
   "metadata": {
    "id": "7oiubQuYw2Ue"
   },
   "outputs": [
    {
     "name": "stdout",
     "output_type": "stream",
     "text": [
      "UserItemPrediction [user_id: 412, item_id: 1200, prediction: 5, probability: 0.4764344394207001]\n",
      "UserItemPrediction [user_id: 661, item_id: 1200, prediction: 5, probability: 0.47617384791374207]\n",
      "UserItemPrediction [user_id: 161, item_id: 1200, prediction: 5, probability: 0.47474074363708496]\n",
      "UserItemPrediction [user_id: 10, item_id: 2000, prediction: 5, probability: 0.3568936884403229]\n",
      "UserItemPrediction [user_id: 101, item_id: 2000, prediction: 5, probability: 0.3536785840988159]\n"
     ]
    }
   ],
   "source": [
    "itemRecs = wide_n_deep.recommend_for_item(valPairFeatureRdds, 3)\n",
    "for result in itemRecs.take(5): print(result)"
   ]
  },
  {
   "cell_type": "markdown",
   "metadata": {
    "id": "kI7aKJFCw2Uh"
   },
   "source": [
    "### Evaluation"
   ]
  },
  {
   "cell_type": "markdown",
   "metadata": {
    "id": "uw7LGhJnw2Uh"
   },
   "source": [
    "Plot the train and validation loss curves"
   ]
  },
  {
   "cell_type": "code",
   "execution_count": null,
   "metadata": {
    "id": "F32c_5Evw2Uh"
   },
   "outputs": [
    {
     "data": {
      "text/plain": [
       "Text(0.5, 1.0, 'loss')"
      ]
     },
     "execution_count": 24,
     "metadata": {
      "tags": []
     },
     "output_type": "execute_result"
    },
    {
     "data": {
      "image/png": "[encoded data removed]",
      "text/plain": [
       "<Figure size 864x432 with 1 Axes>"
      ]
     },
     "metadata": {
      "filenames": {
       "image/png": "/content/reco-book/_build/jupyter_execute/nbs/T051594_Analytics_Zoo_177_1.png"
      },
      "needs_background": "light",
      "tags": []
     },
     "output_type": "display_data"
    }
   ],
   "source": [
    "#retrieve train and validation summary object and read the loss data into ndarray's. \n",
    "train_loss = np.array(wide_n_deep.get_train_summary(\"Loss\"))\n",
    "val_loss = np.array(wide_n_deep.get_validation_summary(\"Loss\"))\n",
    "#plot the train and validation curves\n",
    "# each event data is a tuple in form of (iteration_count, value, timestamp)\n",
    "plt.figure(figsize = (12,6))\n",
    "plt.plot(train_loss[:,0],train_loss[:,1],label='train loss')\n",
    "plt.plot(val_loss[:,0],val_loss[:,1],label='val loss',color='green')\n",
    "plt.scatter(val_loss[:,0],val_loss[:,1],color='green')\n",
    "plt.legend();\n",
    "plt.xlim(0,train_loss.shape[0]+10)\n",
    "plt.grid(True)\n",
    "plt.title(\"loss\")"
   ]
  },
  {
   "cell_type": "markdown",
   "metadata": {
    "id": "H2XNxqniw2Ui"
   },
   "source": [
    "Plot accuracy"
   ]
  },
  {
   "cell_type": "code",
   "execution_count": null,
   "metadata": {
    "id": "Y1kTx1Gdw2Ui"
   },
   "outputs": [
    {
     "data": {
      "text/plain": [
       "(0.0, 60.0)"
      ]
     },
     "execution_count": 25,
     "metadata": {
      "tags": []
     },
     "output_type": "execute_result"
    },
    {
     "data": {
      "image/png": "[encoded data removed]",
      "text/plain": [
       "<Figure size 864x432 with 1 Axes>"
      ]
     },
     "metadata": {
      "filenames": {
       "image/png": "/content/reco-book/_build/jupyter_execute/nbs/T051594_Analytics_Zoo_179_1.png"
      },
      "needs_background": "light",
      "tags": []
     },
     "output_type": "display_data"
    }
   ],
   "source": [
    "plt.figure(figsize = (12,6))\n",
    "top1 = np.array(wide_n_deep.get_validation_summary(\"Top1Accuracy\"))\n",
    "plt.plot(top1[:,0],top1[:,1],label='top1')\n",
    "plt.title(\"top1 accuracy\")\n",
    "plt.grid(True)\n",
    "plt.legend();\n",
    "plt.xlim(0,train_loss.shape[0]+10)"
   ]
  },
  {
   "cell_type": "code",
   "execution_count": null,
   "metadata": {
    "id": "4WwZJ_OB01SN"
   },
   "outputs": [],
   "source": [
    "# %reload_ext tensorboard\n",
    "# %tensorboard --logdir $tmp_log_dir/training_wideanddeep/"
   ]
  },
  {
   "cell_type": "markdown",
   "metadata": {
    "id": "4GJfcnCwxV7U"
   },
   "source": [
    "<img src='https://www.notion.so/image/https%3A%2F%2Fs3-us-west-2.amazonaws.com%2Fsecure.notion-static.com%2F458e2929-3e13-4a70-a024-06529ba69944%2FUntitled.png?table=block&id=c067f5e5-b038-45ae-8a13-a55d3fda879b&spaceId=63b72b1f-0e90-4ab8-a6df-a060a6545a56&width=2000&userId=21ec183f-f0be-4b6b-9b3e-6f0d4e5c5469&cache=v2'>"
   ]
  }
 ],
 "metadata": {
  "colab": {
   "collapsed_sections": [],
   "name": "T051594_Analytics_Zoo.ipynb",
   "toc_visible": true
  },
  "kernelspec": {
   "display_name": "Python 3",
   "name": "python3"
  }
 },
 "nbformat": 4,
 "nbformat_minor": 0
}