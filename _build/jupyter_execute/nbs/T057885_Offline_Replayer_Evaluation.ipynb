{
 "cells": [
  {
   "cell_type": "markdown",
   "metadata": {
    "id": "view-in-github"
   },
   "source": [
    "<a href=\"https://colab.research.google.com/github/sparsh-ai/reco-book/blob/stage/nbs/T057885_Offline_Replayer_Evaluation.ipynb\" target=\"_parent\"><img src=\"https://colab.research.google.com/assets/colab-badge.svg\" alt=\"Open In Colab\"/></a>"
   ]
  },
  {
   "cell_type": "markdown",
   "metadata": {
    "id": "kOkChdgi0OZo"
   },
   "source": [
    "# Offline Replayer Evaluation"
   ]
  },
  {
   "cell_type": "markdown",
   "metadata": {
    "id": "uSUfDrbZywvc"
   },
   "source": [
    "## Recogym\n",
    "> Running recogym for offline simulation and evaluation"
   ]
  },
  {
   "cell_type": "code",
   "execution_count": null,
   "metadata": {
    "id": "lE0TYT5zVVjy"
   },
   "outputs": [],
   "source": [
    "!pip install -q recogym"
   ]
  },
  {
   "cell_type": "code",
   "execution_count": null,
   "metadata": {
    "id": "cUH6Vc1OU89n"
   },
   "outputs": [],
   "source": [
    "import numpy as np\n",
    "from numpy.random.mtrand import RandomState\n",
    "from scipy.special import logsumexp\n",
    "import scipy\n",
    "import pandas as pd\n",
    "from scipy.stats.distributions import beta\n",
    "from copy import deepcopy\n",
    "\n",
    "from scipy.sparse import csr_matrix\n",
    "from scipy.sparse.linalg import svds\n",
    "\n",
    "from itertools import chain\n",
    "from sklearn.neighbors import NearestNeighbors\n",
    "from IPython.display import display, HTML\n",
    "\n",
    "from matplotlib.ticker import FormatStrFormatter\n",
    "\n",
    "import gym, recogym\n",
    "from recogym import env_1_args, Configuration\n",
    "from recogym.agents import OrganicUserEventCounterAgent, organic_user_count_args\n",
    "from recogym.agents.organic_count import OrganicCount, organic_count_args, to_categorical\n",
    "from recogym import Configuration\n",
    "from recogym.agents import Agent\n",
    "from recogym.envs.observation import Observation\n",
    "from recogym.agents import RandomAgent, random_args\n",
    "from recogym import verify_agents, verify_agents_IPS\n",
    "from recogym.evaluate_agent import plot_verify_agents, verify_agents_recall_at_k\n",
    "\n",
    "from recogym.envs.session import OrganicSessions\n",
    "from recogym.envs.context import DefaultContext\n",
    "from recogym.envs.observation import Observation\n",
    "\n",
    "import matplotlib.pyplot as plt\n",
    "%matplotlib inline\n",
    "\n",
    "P = 2000 # Number of Products\n",
    "U = 2000 # Number of Users"
   ]
  },
  {
   "cell_type": "code",
   "execution_count": null,
   "metadata": {
    "id": "vk3eavl0VN_n"
   },
   "outputs": [],
   "source": [
    "# You can overwrite environment arguments here\n",
    "env_1_args['random_seed'] = 42\n",
    "env_1_args['num_products']= P\n",
    "env_1_args['phi_var']=0.0\n",
    "env_1_args['number_of_flips']=P//2\n",
    "env_1_args['sigma_mu_organic'] = 0.1\n",
    "env_1_args['sigma_omega']=0.05"
   ]
  },
  {
   "cell_type": "code",
   "execution_count": null,
   "metadata": {
    "id": "8ShuzevnVI7b"
   },
   "outputs": [],
   "source": [
    "# Initialize the gym for the first time by calling .make() and .init_gym()\n",
    "env = gym.make('reco-gym-v1')\n",
    "env.init_gym(env_1_args)"
   ]
  },
  {
   "cell_type": "code",
   "execution_count": null,
   "metadata": {
    "id": "p3ZfkuZcVMZT"
   },
   "outputs": [],
   "source": [
    "# env.reset()"
   ]
  },
  {
   "cell_type": "code",
   "execution_count": null,
   "metadata": {
    "id": "zdnvCn74VnMn"
   },
   "outputs": [
    {
     "name": "stderr",
     "output_type": "stream",
     "text": [
      "Organic Users: 0it [00:00, ?it/s]\n",
      "Users: 100%|██████████| 2000/2000 [02:15<00:00, 14.73it/s]\n"
     ]
    },
    {
     "data": {
      "text/html": [
       "<div>\n",
       "<style scoped>\n",
       "    .dataframe tbody tr th:only-of-type {\n",
       "        vertical-align: middle;\n",
       "    }\n",
       "\n",
       "    .dataframe tbody tr th {\n",
       "        vertical-align: top;\n",
       "    }\n",
       "\n",
       "    .dataframe thead th {\n",
       "        text-align: right;\n",
       "    }\n",
       "</style>\n",
       "<table border=\"1\" class=\"dataframe\">\n",
       "  <thead>\n",
       "    <tr style=\"text-align: right;\">\n",
       "      <th></th>\n",
       "      <th>t</th>\n",
       "      <th>u</th>\n",
       "      <th>z</th>\n",
       "      <th>v</th>\n",
       "      <th>a</th>\n",
       "      <th>c</th>\n",
       "      <th>ps</th>\n",
       "      <th>ps-a</th>\n",
       "    </tr>\n",
       "  </thead>\n",
       "  <tbody>\n",
       "    <tr>\n",
       "      <th>0</th>\n",
       "      <td>0.0</td>\n",
       "      <td>0</td>\n",
       "      <td>organic</td>\n",
       "      <td>116</td>\n",
       "      <td>&lt;NA&gt;</td>\n",
       "      <td>NaN</td>\n",
       "      <td>NaN</td>\n",
       "      <td>None</td>\n",
       "    </tr>\n",
       "    <tr>\n",
       "      <th>1</th>\n",
       "      <td>1.0</td>\n",
       "      <td>0</td>\n",
       "      <td>bandit</td>\n",
       "      <td>&lt;NA&gt;</td>\n",
       "      <td>1123</td>\n",
       "      <td>0.0</td>\n",
       "      <td>0.0005</td>\n",
       "      <td>()</td>\n",
       "    </tr>\n",
       "    <tr>\n",
       "      <th>2</th>\n",
       "      <td>2.0</td>\n",
       "      <td>0</td>\n",
       "      <td>bandit</td>\n",
       "      <td>&lt;NA&gt;</td>\n",
       "      <td>1332</td>\n",
       "      <td>0.0</td>\n",
       "      <td>0.0005</td>\n",
       "      <td>()</td>\n",
       "    </tr>\n",
       "    <tr>\n",
       "      <th>3</th>\n",
       "      <td>3.0</td>\n",
       "      <td>0</td>\n",
       "      <td>bandit</td>\n",
       "      <td>&lt;NA&gt;</td>\n",
       "      <td>805</td>\n",
       "      <td>0.0</td>\n",
       "      <td>0.0005</td>\n",
       "      <td>()</td>\n",
       "    </tr>\n",
       "    <tr>\n",
       "      <th>4</th>\n",
       "      <td>4.0</td>\n",
       "      <td>0</td>\n",
       "      <td>bandit</td>\n",
       "      <td>&lt;NA&gt;</td>\n",
       "      <td>1184</td>\n",
       "      <td>0.0</td>\n",
       "      <td>0.0005</td>\n",
       "      <td>()</td>\n",
       "    </tr>\n",
       "    <tr>\n",
       "      <th>5</th>\n",
       "      <td>0.0</td>\n",
       "      <td>1</td>\n",
       "      <td>organic</td>\n",
       "      <td>1205</td>\n",
       "      <td>&lt;NA&gt;</td>\n",
       "      <td>NaN</td>\n",
       "      <td>NaN</td>\n",
       "      <td>None</td>\n",
       "    </tr>\n",
       "    <tr>\n",
       "      <th>6</th>\n",
       "      <td>1.0</td>\n",
       "      <td>1</td>\n",
       "      <td>organic</td>\n",
       "      <td>1137</td>\n",
       "      <td>&lt;NA&gt;</td>\n",
       "      <td>NaN</td>\n",
       "      <td>NaN</td>\n",
       "      <td>None</td>\n",
       "    </tr>\n",
       "    <tr>\n",
       "      <th>7</th>\n",
       "      <td>2.0</td>\n",
       "      <td>1</td>\n",
       "      <td>organic</td>\n",
       "      <td>1337</td>\n",
       "      <td>&lt;NA&gt;</td>\n",
       "      <td>NaN</td>\n",
       "      <td>NaN</td>\n",
       "      <td>None</td>\n",
       "    </tr>\n",
       "    <tr>\n",
       "      <th>8</th>\n",
       "      <td>3.0</td>\n",
       "      <td>1</td>\n",
       "      <td>organic</td>\n",
       "      <td>972</td>\n",
       "      <td>&lt;NA&gt;</td>\n",
       "      <td>NaN</td>\n",
       "      <td>NaN</td>\n",
       "      <td>None</td>\n",
       "    </tr>\n",
       "    <tr>\n",
       "      <th>9</th>\n",
       "      <td>4.0</td>\n",
       "      <td>1</td>\n",
       "      <td>organic</td>\n",
       "      <td>841</td>\n",
       "      <td>&lt;NA&gt;</td>\n",
       "      <td>NaN</td>\n",
       "      <td>NaN</td>\n",
       "      <td>None</td>\n",
       "    </tr>\n",
       "    <tr>\n",
       "      <th>10</th>\n",
       "      <td>5.0</td>\n",
       "      <td>1</td>\n",
       "      <td>organic</td>\n",
       "      <td>140</td>\n",
       "      <td>&lt;NA&gt;</td>\n",
       "      <td>NaN</td>\n",
       "      <td>NaN</td>\n",
       "      <td>None</td>\n",
       "    </tr>\n",
       "    <tr>\n",
       "      <th>11</th>\n",
       "      <td>6.0</td>\n",
       "      <td>1</td>\n",
       "      <td>bandit</td>\n",
       "      <td>&lt;NA&gt;</td>\n",
       "      <td>1367</td>\n",
       "      <td>0.0</td>\n",
       "      <td>0.0005</td>\n",
       "      <td>()</td>\n",
       "    </tr>\n",
       "    <tr>\n",
       "      <th>12</th>\n",
       "      <td>7.0</td>\n",
       "      <td>1</td>\n",
       "      <td>bandit</td>\n",
       "      <td>&lt;NA&gt;</td>\n",
       "      <td>1086</td>\n",
       "      <td>0.0</td>\n",
       "      <td>0.0005</td>\n",
       "      <td>()</td>\n",
       "    </tr>\n",
       "    <tr>\n",
       "      <th>13</th>\n",
       "      <td>8.0</td>\n",
       "      <td>1</td>\n",
       "      <td>bandit</td>\n",
       "      <td>&lt;NA&gt;</td>\n",
       "      <td>1698</td>\n",
       "      <td>0.0</td>\n",
       "      <td>0.0005</td>\n",
       "      <td>()</td>\n",
       "    </tr>\n",
       "    <tr>\n",
       "      <th>14</th>\n",
       "      <td>9.0</td>\n",
       "      <td>1</td>\n",
       "      <td>bandit</td>\n",
       "      <td>&lt;NA&gt;</td>\n",
       "      <td>1513</td>\n",
       "      <td>0.0</td>\n",
       "      <td>0.0005</td>\n",
       "      <td>()</td>\n",
       "    </tr>\n",
       "    <tr>\n",
       "      <th>15</th>\n",
       "      <td>10.0</td>\n",
       "      <td>1</td>\n",
       "      <td>bandit</td>\n",
       "      <td>&lt;NA&gt;</td>\n",
       "      <td>134</td>\n",
       "      <td>0.0</td>\n",
       "      <td>0.0005</td>\n",
       "      <td>()</td>\n",
       "    </tr>\n",
       "    <tr>\n",
       "      <th>16</th>\n",
       "      <td>11.0</td>\n",
       "      <td>1</td>\n",
       "      <td>bandit</td>\n",
       "      <td>&lt;NA&gt;</td>\n",
       "      <td>1056</td>\n",
       "      <td>0.0</td>\n",
       "      <td>0.0005</td>\n",
       "      <td>()</td>\n",
       "    </tr>\n",
       "    <tr>\n",
       "      <th>17</th>\n",
       "      <td>12.0</td>\n",
       "      <td>1</td>\n",
       "      <td>bandit</td>\n",
       "      <td>&lt;NA&gt;</td>\n",
       "      <td>1751</td>\n",
       "      <td>0.0</td>\n",
       "      <td>0.0005</td>\n",
       "      <td>()</td>\n",
       "    </tr>\n",
       "    <tr>\n",
       "      <th>18</th>\n",
       "      <td>13.0</td>\n",
       "      <td>1</td>\n",
       "      <td>bandit</td>\n",
       "      <td>&lt;NA&gt;</td>\n",
       "      <td>725</td>\n",
       "      <td>0.0</td>\n",
       "      <td>0.0005</td>\n",
       "      <td>()</td>\n",
       "    </tr>\n",
       "    <tr>\n",
       "      <th>19</th>\n",
       "      <td>14.0</td>\n",
       "      <td>1</td>\n",
       "      <td>bandit</td>\n",
       "      <td>&lt;NA&gt;</td>\n",
       "      <td>612</td>\n",
       "      <td>0.0</td>\n",
       "      <td>0.0005</td>\n",
       "      <td>()</td>\n",
       "    </tr>\n",
       "  </tbody>\n",
       "</table>\n",
       "</div>"
      ],
      "text/plain": [
       "       t  u        z     v     a    c      ps  ps-a\n",
       "0    0.0  0  organic   116  <NA>  NaN     NaN  None\n",
       "1    1.0  0   bandit  <NA>  1123  0.0  0.0005    ()\n",
       "2    2.0  0   bandit  <NA>  1332  0.0  0.0005    ()\n",
       "3    3.0  0   bandit  <NA>   805  0.0  0.0005    ()\n",
       "4    4.0  0   bandit  <NA>  1184  0.0  0.0005    ()\n",
       "5    0.0  1  organic  1205  <NA>  NaN     NaN  None\n",
       "6    1.0  1  organic  1137  <NA>  NaN     NaN  None\n",
       "7    2.0  1  organic  1337  <NA>  NaN     NaN  None\n",
       "8    3.0  1  organic   972  <NA>  NaN     NaN  None\n",
       "9    4.0  1  organic   841  <NA>  NaN     NaN  None\n",
       "10   5.0  1  organic   140  <NA>  NaN     NaN  None\n",
       "11   6.0  1   bandit  <NA>  1367  0.0  0.0005    ()\n",
       "12   7.0  1   bandit  <NA>  1086  0.0  0.0005    ()\n",
       "13   8.0  1   bandit  <NA>  1698  0.0  0.0005    ()\n",
       "14   9.0  1   bandit  <NA>  1513  0.0  0.0005    ()\n",
       "15  10.0  1   bandit  <NA>   134  0.0  0.0005    ()\n",
       "16  11.0  1   bandit  <NA>  1056  0.0  0.0005    ()\n",
       "17  12.0  1   bandit  <NA>  1751  0.0  0.0005    ()\n",
       "18  13.0  1   bandit  <NA>   725  0.0  0.0005    ()\n",
       "19  14.0  1   bandit  <NA>   612  0.0  0.0005    ()"
      ]
     },
     "execution_count": 7,
     "metadata": {
      "tags": []
     },
     "output_type": "execute_result"
    }
   ],
   "source": [
    "# Generate RecSys logs for U users\n",
    "reco_log = env.generate_logs(U)\n",
    "reco_log.head(20)"
   ]
  },
  {
   "cell_type": "code",
   "execution_count": null,
   "metadata": {
    "id": "xbB6tEBPVuDZ"
   },
   "outputs": [
    {
     "name": "stdout",
     "output_type": "stream",
     "text": [
      "Training on 43753 organic and 159967 bandit events\n"
     ]
    }
   ],
   "source": [
    "n_events = reco_log.shape[0]\n",
    "n_organic = reco_log.loc[reco_log['z'] == 'organic'].shape[0]\n",
    "print('Training on {0} organic and {1} bandit events'.format(n_organic, n_events - n_organic))"
   ]
  },
  {
   "cell_type": "markdown",
   "metadata": {
    "id": "gX5Gve7eYG_r"
   },
   "source": [
    "### Defining evaluation methods"
   ]
  },
  {
   "cell_type": "markdown",
   "metadata": {
    "id": "485rufJ-X8Ju"
   },
   "source": [
    "#### Traditional evaluation"
   ]
  },
  {
   "cell_type": "code",
   "execution_count": null,
   "metadata": {
    "id": "44GbKe76WZAV"
   },
   "outputs": [],
   "source": [
    "def leave_one_out(reco_log, agent, last = False, N = 1, folds = 10):\n",
    "    # 1. Extract all organic events\n",
    "    reco_log = reco_log.loc[reco_log['z'] == 'organic']\n",
    "    \n",
    "    # 2. For every user sequence - randomly sample out an item\n",
    "    hits = []\n",
    "    for _ in range(folds):\n",
    "        user_id = 0\n",
    "        history = []\n",
    "        session = OrganicSessions()\n",
    "        agent.reset()\n",
    "        for row in reco_log.itertuples():\n",
    "            # If we have a new user\n",
    "            if row.u != user_id:\n",
    "                if last:\n",
    "                    # Sample out last item\n",
    "                    index = len(history) - 1\n",
    "                else:\n",
    "                    # Sample out a random item from the history\n",
    "                    index = np.random.choice(len(history),\n",
    "                                             replace = False)\n",
    "                test  = history[index]\n",
    "                train = history[:index] + history[index + 1:]\n",
    "\n",
    "                # 3. Recreate the user sequence without these items - Let the agent observe the incomplete sequence\n",
    "                for t, v in list(train):\n",
    "                    session.next(DefaultContext(t, user_id), int(v))\n",
    "\n",
    "                # 4. Generate a top-N set of recommendations by letting the agent act\n",
    "                # TODO - For now only works for N = 1\n",
    "                try:\n",
    "                    prob_a = agent.act(Observation(DefaultContext(t + 1, user_id), session), 0, False)['ps-a']\n",
    "                except:\n",
    "                    prob_a = [1 / P] * P\n",
    "\n",
    "                # 5. Compute metrics checking whether the sampled test item is in the top-N\n",
    "                try:\n",
    "                  hits.append(np.argmax(prob_a) == int(test[1]))\n",
    "                except:\n",
    "                  hits.append(0)\n",
    "\n",
    "                # Reset variables\n",
    "                user_id = row.u\n",
    "                history = []\n",
    "                session = OrganicSessions()\n",
    "                agent.reset()\n",
    "\n",
    "            # Save the organic interaction to the running average for the session\n",
    "            history.append((row.t,row.v))\n",
    "    \n",
    "    # Error analysis\n",
    "    mean_hits = np.mean(hits)\n",
    "    serr_hits = np.std(hits) / np.sqrt(len(hits))\n",
    "    low_bound = mean_hits - 1.96 * serr_hits\n",
    "    upp_bound = mean_hits + 1.96 * serr_hits\n",
    "    \n",
    "    return mean_hits, low_bound, upp_bound\n",
    "\n",
    "def verify_agents_traditional(reco_log, agents, last = False, N = 1, folds = 10):\n",
    "    # Placeholder DataFrame for result\n",
    "    stat = {\n",
    "        'Agent': [],\n",
    "        '0.025': [],\n",
    "        '0.500' : [],\n",
    "        '0.975': [],\n",
    "    }\n",
    "\n",
    "    # For every agent\n",
    "    for agent_id in agents:\n",
    "        # Compute HR@k\n",
    "        mean, low, upp = leave_one_out(reco_log, agents[agent_id], last = last, N = N, folds = folds)\n",
    "        stat['Agent'].append(agent_id)\n",
    "        stat['0.025'].append(low)\n",
    "        stat['0.500'].append(mean)\n",
    "        stat['0.975'].append(upp)\n",
    "    return pd.DataFrame().from_dict(stat)"
   ]
  },
  {
   "cell_type": "markdown",
   "metadata": {
    "id": "Ka70n5JcYPYE"
   },
   "source": [
    "#### Counterfactual evaluation"
   ]
  },
  {
   "cell_type": "code",
   "execution_count": null,
   "metadata": {
    "id": "_HoADS4uX54y"
   },
   "outputs": [],
   "source": [
    "def compute_ips_weights(agent, reco_log):\n",
    "    # Placeholder for return values\n",
    "    rewards = [] # Labels for actions\n",
    "    t_props = [] # Treatment propensities\n",
    "    l_props = [] # Logging propensities\n",
    "    \n",
    "    # For every logged interaction\n",
    "    user_id = 0\n",
    "    session = OrganicSessions()\n",
    "    agent.reset()\n",
    "    for row in reco_log.itertuples():\n",
    "        # If we have a new user\n",
    "        if row.u != user_id:\n",
    "            # Reset\n",
    "            session = OrganicSessions()\n",
    "            agent.reset()\n",
    "            user_id = row.u\n",
    "        \n",
    "        # If we have an organic event\n",
    "        if row.z == 'organic':\n",
    "            session.next(DefaultContext(row.t, row.u), int(row.v))        \n",
    "            \n",
    "        else:\n",
    "            prob_a = agent.act(Observation(DefaultContext(row.t, row.u), session), 0, False)['ps-a']\n",
    "            rewards.append(row.c)\n",
    "            try:\n",
    "              t_props.append(prob_a[int(row.a)])\n",
    "            except:\n",
    "              t_props.append(0)\n",
    "            l_props.append(row.ps)\n",
    "            session = OrganicSessions()\n",
    "    \n",
    "    return np.asarray(rewards), np.asarray(t_props), np.asarray(l_props)\n",
    "\n",
    "def verify_agents_counterfactual(reco_log, agents, cap = 3):\n",
    "    # Placeholder DataFrame for results\n",
    "    IPS_stat = {\n",
    "        'Agent': [],\n",
    "        '0.025': [],\n",
    "        '0.500' : [],\n",
    "        '0.975': [],\n",
    "    }\n",
    "    CIPS_stat = {\n",
    "        'Agent': [],\n",
    "        '0.025': [],\n",
    "        '0.500' : [],\n",
    "        '0.975': [],\n",
    "    }\n",
    "    SNIPS_stat = {\n",
    "        'Agent': [],\n",
    "        '0.025': [],\n",
    "        '0.500' : [],\n",
    "        '0.975': [],\n",
    "    }\n",
    "\n",
    "    # For every agent\n",
    "    for agent_id in agents:\n",
    "        # Get the rewards and propensities\n",
    "        rewards, t_props, l_props = compute_ips_weights(agents[agent_id], reco_log)\n",
    "        \n",
    "        # Compute the sample weights - propensity ratios\n",
    "        p_ratio = t_props / l_props\n",
    "\n",
    "        # Effective sample size for E_t estimate (from A. Owen)\n",
    "        n_e = len(rewards) * (np.mean(p_ratio) ** 2) / (p_ratio ** 2).mean()\n",
    "        n_e = 0 if np.isnan(n_e) else n_e\n",
    "        print(\"Effective sample size for agent {} is {}\".format(str(agent_id), n_e))\n",
    "        \n",
    "        # Critical value from t-distribution as we have unknown variance\n",
    "        alpha = .00125\n",
    "        cv = scipy.stats.t.ppf(1 - alpha, df = int(n_e) - 1)\n",
    "        \n",
    "        ###############\n",
    "        # VANILLA IPS #\n",
    "        ###############\n",
    "        # Expected reward for pi_t\n",
    "        E_t = np.mean(rewards * p_ratio)\n",
    "\n",
    "        # Variance of the estimate\n",
    "        var = ((rewards * p_ratio - E_t) ** 2).mean()\n",
    "        stddev = np.sqrt(var)\n",
    "        \n",
    "        # C.I. assuming unknown variance - use t-distribution and effective sample size\n",
    "        min_bound = E_t - cv * stddev / np.sqrt(int(n_e))\n",
    "        max_bound = E_t + cv * stddev / np.sqrt(int(n_e))\n",
    "        \n",
    "        # Store result\n",
    "        IPS_stat['Agent'].append(agent_id)\n",
    "        IPS_stat['0.025'].append(min_bound)\n",
    "        IPS_stat['0.500'].append(E_t)\n",
    "        IPS_stat['0.975'].append(max_bound)\n",
    "        \n",
    "        ############### \n",
    "        # CAPPED IPS #\n",
    "        ##############\n",
    "        # Cap ratios\n",
    "        p_ratio_capped = np.clip(p_ratio, a_min = None, a_max = cap)\n",
    "        \n",
    "        # Expected reward for pi_t\n",
    "        E_t_capped = np.mean(rewards * p_ratio_capped)\n",
    "\n",
    "        # Variance of the estimate\n",
    "        var_capped = ((rewards * p_ratio_capped - E_t_capped) ** 2).mean()\n",
    "        stddev_capped = np.sqrt(var_capped)        \n",
    "        \n",
    "        # C.I. assuming unknown variance - use t-distribution and effective sample size\n",
    "        min_bound_capped = E_t_capped - cv * stddev_capped / np.sqrt(int(n_e))\n",
    "        max_bound_capped = E_t_capped + cv * stddev_capped / np.sqrt(int(n_e))\n",
    "        \n",
    "        # Store result\n",
    "        CIPS_stat['Agent'].append(agent_id)\n",
    "        CIPS_stat['0.025'].append(min_bound_capped)\n",
    "        CIPS_stat['0.500'].append(E_t_capped)\n",
    "        CIPS_stat['0.975'].append(max_bound_capped)\n",
    "        \n",
    "        ##############\n",
    "        # NORMED IPS #\n",
    "        ##############\n",
    "        # Expected reward for pi_t\n",
    "        E_t_normed = np.sum(rewards * p_ratio) / np.sum(p_ratio)\n",
    "\n",
    "        # Variance of the estimate\n",
    "        var_normed = np.sum(((rewards - E_t_normed) ** 2) * (p_ratio ** 2)) / (p_ratio.sum() ** 2)    \n",
    "        stddev_normed = np.sqrt(var_normed)\n",
    "\n",
    "        # C.I. assuming unknown variance - use t-distribution and effective sample size\n",
    "        min_bound_normed = E_t_normed - cv * stddev_normed / np.sqrt(int(n_e))\n",
    "        max_bound_normed = E_t_normed + cv * stddev_normed / np.sqrt(int(n_e))\n",
    "\n",
    "        # Store result\n",
    "        SNIPS_stat['Agent'].append(agent_id)\n",
    "        SNIPS_stat['0.025'].append(min_bound_normed)\n",
    "        SNIPS_stat['0.500'].append(E_t_normed)\n",
    "        SNIPS_stat['0.975'].append(max_bound_normed)\n",
    "        \n",
    "    return pd.DataFrame().from_dict(IPS_stat), pd.DataFrame().from_dict(CIPS_stat), pd.DataFrame().from_dict(SNIPS_stat)"
   ]
  },
  {
   "cell_type": "markdown",
   "metadata": {
    "id": "bvr-NmAdYUSg"
   },
   "source": [
    "### Creating agents"
   ]
  },
  {
   "cell_type": "markdown",
   "metadata": {
    "id": "MTAIbCveYWTy"
   },
   "source": [
    "#### SVD agent"
   ]
  },
  {
   "cell_type": "code",
   "execution_count": null,
   "metadata": {
    "id": "6xcs7TqWYSbI"
   },
   "outputs": [],
   "source": [
    "class SVDAgent(Agent):\n",
    "    def __init__(self, config, U = U, P = P, K = 5):\n",
    "        super(SVDAgent, self).__init__(config)\n",
    "        self.rng = RandomState(self.config.random_seed)\n",
    "        assert(P >= K)\n",
    "        self.K = K\n",
    "        self.R = csr_matrix((U,P))\n",
    "        self.V = np.zeros((P,K))\n",
    "        self.user_history = np.zeros(P)\n",
    "    \n",
    "    def train(self, reco_log, U = U, P = P):\n",
    "        # Extract all organic user logs\n",
    "        reco_log = reco_log.loc[reco_log['z'] == 'organic']\n",
    "        \n",
    "        # Generate ratings matrix for training, row-based for efficient row (user) retrieval\n",
    "        self.R = csr_matrix((np.ones(len(reco_log)),\n",
    "                            (reco_log['u'],reco_log['v'])),\n",
    "                            (U,P))\n",
    "\n",
    "        # Singular Value Decomposition\n",
    "        _, _, self.V = svds(self.R, k = self.K)\n",
    "        \n",
    "    def observe(self, observation):\n",
    "        for session in observation.sessions():\n",
    "            self.user_history[session['v']] += 1\n",
    "\n",
    "    def act(self, observation, reward, done):\n",
    "        \"\"\"Act method returns an Action based on current observation and past history\"\"\"\n",
    "        self.observe(observation)\n",
    "        scores = self.user_history.dot(self.V.T).dot(self.V)\n",
    "        action = np.argmax(scores)\n",
    "        prob = np.zeros_like(scores)\n",
    "        prob[action] = 1.0\n",
    "\n",
    "        return {\n",
    "            **super().act(observation, reward, done),\n",
    "            **{\n",
    "                'a': action,\n",
    "                'ps': prob[action],\n",
    "                'ps-a': prob,\n",
    "            },\n",
    "        }\n",
    "\n",
    "    def reset(self):\n",
    "        self.user_history = np.zeros(P)"
   ]
  },
  {
   "cell_type": "markdown",
   "metadata": {
    "id": "CwOGMwwyYjTQ"
   },
   "source": [
    "#### Item-KNN agent"
   ]
  },
  {
   "cell_type": "code",
   "execution_count": null,
   "metadata": {
    "id": "YHIXb-KHYejQ"
   },
   "outputs": [],
   "source": [
    "class itemkNNAgent(Agent):\n",
    "    def __init__(self, config, U = U, P = P, k = 5, greedy = False, alpha = 1):\n",
    "        super(itemkNNAgent, self).__init__(config)\n",
    "        self.rng = RandomState(self.config.random_seed)\n",
    "        self.k = min(P,k)\n",
    "        self.greedy = greedy\n",
    "        self.alpha = alpha\n",
    "        self.Rt = csr_matrix((P,U))\n",
    "        self.user_history = np.zeros(P)\n",
    "        self.S = np.eye(P)\n",
    "    \n",
    "    def train(self, reco_log, U = U, P = P):\n",
    "        # Extract all organic user logs\n",
    "        reco_log = reco_log.loc[reco_log['z'] == 'organic']\n",
    "        \n",
    "        # Generate ratings matrix for training, row-based for efficient row (user) retrieval\n",
    "        self.R_t = csr_matrix((np.ones(len(reco_log)),\n",
    "                              (reco_log['v'],reco_log['u'])),\n",
    "                              (P,U))\n",
    "\n",
    "        # Set up nearest neighbours module\n",
    "        nn = NearestNeighbors(n_neighbors = self.k,\n",
    "                              metric = 'cosine')\n",
    "\n",
    "        # Initialise placeholder for distances and indices\n",
    "        distances = []\n",
    "        indices   = []\n",
    "\n",
    "        # Dirty fix for multiprocessing backend being unable to pickle large objects\n",
    "        nn.fit(self.R_t)\n",
    "        distances, indices = nn.kneighbors(self.R_t, return_distance = True)\n",
    "\n",
    "        # Precompute similarity matrix S\n",
    "        data = list(chain.from_iterable(1.0 - distances))\n",
    "        rows = list(chain.from_iterable([i] * self.k for i in range(P)))\n",
    "        cols = list(chain.from_iterable(indices))\n",
    "        \n",
    "        # (P,P)-matrix with cosine similarities between items\n",
    "        self.S = csr_matrix((data,(rows, cols)), (P,P)).todense()\n",
    "        \n",
    "    def observe(self, observation):\n",
    "        for session in observation.sessions():\n",
    "            self.user_history[session['v']] += 1\n",
    "\n",
    "    def act(self, observation, reward, done):\n",
    "        \"\"\"Act method returns an Action based on current observation and past history\"\"\"\n",
    "        self.observe(observation)\n",
    "        scores = self.user_history.dot(self.S).A1\n",
    "        \n",
    "        if self.greedy:\n",
    "            action = np.argmax(scores)\n",
    "            prob = np.zeros_like(scores)\n",
    "            prob[action] = 1.0\n",
    "        else:\n",
    "            scores **= self.alpha\n",
    "            prob = scores / np.sum(scores)\n",
    "            action = self.rng.choice(self.S.shape[0], p = prob)\n",
    "\n",
    "        return {\n",
    "            **super().act(observation, reward, done),\n",
    "            **{\n",
    "                'a': action,\n",
    "                'ps': prob[action],\n",
    "                'ps-a': prob,\n",
    "            },\n",
    "        }\n",
    "\n",
    "    def reset(self):\n",
    "        self.user_history = np.zeros(P)"
   ]
  },
  {
   "cell_type": "markdown",
   "metadata": {
    "id": "qK82zI6qYspo"
   },
   "source": [
    "#### User-KNN agent"
   ]
  },
  {
   "cell_type": "code",
   "execution_count": null,
   "metadata": {
    "id": "uoRDZ8mNYpLo"
   },
   "outputs": [],
   "source": [
    "class userkNNAgent(Agent):\n",
    "    def __init__(self, config, U = U, P = P, k = 5, greedy = False, alpha = 1):\n",
    "        super(userkNNAgent, self).__init__(config)\n",
    "        self.rng = RandomState(self.config.random_seed)\n",
    "        self.k = min(P,k)\n",
    "        self.greedy = greedy\n",
    "        self.alpha = alpha\n",
    "        self.U = U\n",
    "        self.P = P\n",
    "        self.R = csr_matrix((U,P))\n",
    "        self.user_history = np.zeros(P)\n",
    "        self.nn = NearestNeighbors(n_neighbors = self.k, metric = 'cosine')\n",
    "        \n",
    "    def train(self, reco_log, U = U, P = P):\n",
    "        # Extract all organic user logs\n",
    "        reco_log = reco_log.loc[reco_log['z'] == 'organic']\n",
    "        \n",
    "        # Generate ratings matrix for training, row-based for efficient row (user) retrieval\n",
    "        self.R = csr_matrix((np.ones(len(reco_log)),\n",
    "                            (reco_log['u'],reco_log['v'])),\n",
    "                            (U,P))\n",
    "\n",
    "        # Fit nearest neighbours\n",
    "        self.nn.fit(self.R)\n",
    "        \n",
    "    def observe(self, observation):\n",
    "        for session in observation.sessions():\n",
    "            self.user_history[session['v']] += 1\n",
    "\n",
    "    def act(self, observation, reward, done):\n",
    "        \"\"\"Act method returns an Action based on current observation and past history\"\"\"\n",
    "        self.observe(observation)\n",
    "        \n",
    "        # Get neighbouring users based on user history\n",
    "        distances, indices = self.nn.kneighbors(self.user_history.reshape(1,-1))\n",
    "        scores = np.add.reduce([dist * self.R[idx,:] for dist, idx in zip(distances,indices)])\n",
    "        \n",
    "        if self.greedy:\n",
    "            action = np.argmax(scores)\n",
    "            prob = np.zeros_like(scores)\n",
    "            prob[action] = 1.0\n",
    "        else:\n",
    "            scores **= self.alpha\n",
    "            prob = scores / np.sum(scores)\n",
    "            action = self.rng.choice(self.P, p = prob)\n",
    "\n",
    "        return {\n",
    "            **super().act(observation, reward, done),\n",
    "            **{\n",
    "                'a': action,\n",
    "                'ps': prob[action],\n",
    "                'ps-a': prob,\n",
    "            },\n",
    "        }\n",
    "\n",
    "    def reset(self):\n",
    "        self.user_history = np.zeros(P)"
   ]
  },
  {
   "cell_type": "markdown",
   "metadata": {
    "id": "CcVL6ih6Y0p8"
   },
   "source": [
    "#### Agent initializations"
   ]
  },
  {
   "cell_type": "code",
   "execution_count": null,
   "metadata": {
    "id": "wYX3_5fYYumd"
   },
   "outputs": [],
   "source": [
    "# SVD Agent\n",
    "SVD_agent = SVDAgent(Configuration(env_1_args), U, P, 30)\n",
    "SVD_agent.train(reco_log)\n",
    "\n",
    "# item-kNN Agent\n",
    "itemkNN_agent = itemkNNAgent(Configuration(env_1_args), U, P, 500, greedy = True)\n",
    "itemkNN_agent.train(reco_log)\n",
    "\n",
    "# user-kNN Agent\n",
    "userkNN_agent = userkNNAgent(Configuration(env_1_args), U, P, 20, greedy = True)\n",
    "userkNN_agent.train(reco_log)\n",
    "\n",
    "# Generalised Popularity agent\n",
    "GPOP_agent = OrganicCount(Configuration({\n",
    "    **env_1_args,\n",
    "    'select_randomly': True,\n",
    "}))\n",
    "\n",
    "# Generalised Popularity agent\n",
    "GPOP_agent_greedy = OrganicCount(Configuration({\n",
    "    **env_1_args,\n",
    "    'select_randomly': False,\n",
    "}))\n",
    "\n",
    "# Peronalised Popularity agent\n",
    "PPOP_agent = OrganicUserEventCounterAgent(Configuration({\n",
    "    **organic_user_count_args,\n",
    "    **env_1_args,\n",
    "    'select_randomly': True,\n",
    "}))\n",
    "\n",
    "# Peronalised Popularity agent\n",
    "PPOP_agent_greedy = OrganicUserEventCounterAgent(Configuration({\n",
    "    **organic_user_count_args,\n",
    "    **env_1_args,\n",
    "    'select_randomly': False,\n",
    "}))\n",
    "\n",
    "# Random Agent\n",
    "random_args['num_products'] = P\n",
    "RAND_agent = RandomAgent(Configuration({**env_1_args, **random_args,}))"
   ]
  },
  {
   "cell_type": "markdown",
   "metadata": {
    "id": "qRqbHqMJY9vL"
   },
   "source": [
    "### Offline evaluation"
   ]
  },
  {
   "cell_type": "markdown",
   "metadata": {
    "id": "E9r-zhlAZZ9M"
   },
   "source": [
    "#### Generating test logs"
   ]
  },
  {
   "cell_type": "code",
   "execution_count": null,
   "metadata": {
    "id": "pnzTANe1Y3lW"
   },
   "outputs": [
    {
     "name": "stderr",
     "output_type": "stream",
     "text": [
      "Organic Users: 0it [00:00, ?it/s]\n",
      "Users: 100%|██████████| 5000/5000 [05:38<00:00, 14.77it/s]\n"
     ]
    },
    {
     "name": "stdout",
     "output_type": "stream",
     "text": [
      "Testing on 109631 organic and 403487 bandit events\n",
      "CPU times: user 6min 4s, sys: 4min 47s, total: 10min 51s\n",
      "Wall time: 5min 40s\n"
     ]
    }
   ],
   "source": [
    "%%time\n",
    "# Placeholder for agents\n",
    "agents = {\n",
    "    '    Random': RAND_agent,\n",
    "    '   Popular': GPOP_agent_greedy,\n",
    "    '   User-pop': PPOP_agent,\n",
    "    '  SVD':  SVD_agent,\n",
    "    ' User-kNN': userkNN_agent,\n",
    "    'Item-kNN': itemkNN_agent,\n",
    "}\n",
    "agent_ids = sorted(list(agents.keys()))#['SVD','GPOP','PPOP','RAND']\n",
    "# Generate new logs, to be used for offline testing\n",
    "n_test_users = 5000 # U\n",
    "test_log = env.generate_logs(n_test_users)\n",
    "n_events = test_log.shape[0]\n",
    "n_organic = test_log.loc[test_log['z'] == 'organic'].shape[0]\n",
    "print('Testing on {0} organic and {1} bandit events'.format(n_organic, n_events - n_organic))"
   ]
  },
  {
   "cell_type": "markdown",
   "metadata": {
    "id": "igubir8vaB0m"
   },
   "source": [
    "#### (Util) helper function to plot barchart"
   ]
  },
  {
   "cell_type": "code",
   "execution_count": null,
   "metadata": {
    "id": "zCpbb9K-ZB-b"
   },
   "outputs": [],
   "source": [
    "def plot_barchart(result, title, xlabel,  col = 'tab:red', figname = 'fig.eps', size = (6,2), fontsize = 12):\n",
    "    fig, axes = plt.subplots(figsize = size)\n",
    "    plt.title(title, size = fontsize)\n",
    "    n_agents = len(result)\n",
    "    yticks = np.arange(n_agents)\n",
    "    mean = result['0.500']\n",
    "    lower = result['0.500'] - result['0.025']\n",
    "    upper = result['0.975'] - result['0.500']\n",
    "    plt.barh(yticks,\n",
    "             mean,\n",
    "             height = .25,\n",
    "             xerr  = (lower, upper),\n",
    "             align = 'center',\n",
    "             color = col,)\n",
    "    plt.yticks(yticks, result['Agent'], size = fontsize)\n",
    "    plt.xticks(size = fontsize)\n",
    "    plt.xlabel(xlabel, size = fontsize)\n",
    "    plt.xlim(.0,None)\n",
    "    plt.gca().xaxis.set_major_formatter(FormatStrFormatter('%.2f'))\n",
    "    plt.savefig(figname, bbox_inches = 'tight')\n",
    "    plt.show()"
   ]
  },
  {
   "cell_type": "markdown",
   "metadata": {
    "id": "w9r6FSeDZdyM"
   },
   "source": [
    "#### Leave-one-out evaluation"
   ]
  },
  {
   "cell_type": "code",
   "execution_count": null,
   "metadata": {
    "id": "zJSfQ5RDZpab"
   },
   "outputs": [
    {
     "name": "stderr",
     "output_type": "stream",
     "text": [
      "/usr/local/lib/python3.7/dist-packages/recogym/agents/organic_user_count.py:51: RuntimeWarning: invalid value encountered in true_divide\n",
      "  action_proba = features / np.sum(features)\n"
     ]
    },
    {
     "data": {
      "text/html": [
       "<div>\n",
       "<style scoped>\n",
       "    .dataframe tbody tr th:only-of-type {\n",
       "        vertical-align: middle;\n",
       "    }\n",
       "\n",
       "    .dataframe tbody tr th {\n",
       "        vertical-align: top;\n",
       "    }\n",
       "\n",
       "    .dataframe thead th {\n",
       "        text-align: right;\n",
       "    }\n",
       "</style>\n",
       "<table border=\"1\" class=\"dataframe\">\n",
       "  <thead>\n",
       "    <tr style=\"text-align: right;\">\n",
       "      <th></th>\n",
       "      <th>Agent</th>\n",
       "      <th>0.025</th>\n",
       "      <th>0.500</th>\n",
       "      <th>0.975</th>\n",
       "    </tr>\n",
       "  </thead>\n",
       "  <tbody>\n",
       "    <tr>\n",
       "      <th>0</th>\n",
       "      <td>Random</td>\n",
       "      <td>0.000000</td>\n",
       "      <td>0.000000</td>\n",
       "      <td>0.000000</td>\n",
       "    </tr>\n",
       "    <tr>\n",
       "      <th>1</th>\n",
       "      <td>Popular</td>\n",
       "      <td>0.000000</td>\n",
       "      <td>0.000000</td>\n",
       "      <td>0.000000</td>\n",
       "    </tr>\n",
       "    <tr>\n",
       "      <th>2</th>\n",
       "      <td>User-pop</td>\n",
       "      <td>0.000000</td>\n",
       "      <td>0.000000</td>\n",
       "      <td>0.000000</td>\n",
       "    </tr>\n",
       "    <tr>\n",
       "      <th>3</th>\n",
       "      <td>SVD</td>\n",
       "      <td>0.074560</td>\n",
       "      <td>0.076895</td>\n",
       "      <td>0.079231</td>\n",
       "    </tr>\n",
       "    <tr>\n",
       "      <th>4</th>\n",
       "      <td>User-kNN</td>\n",
       "      <td>0.079927</td>\n",
       "      <td>0.082336</td>\n",
       "      <td>0.084746</td>\n",
       "    </tr>\n",
       "    <tr>\n",
       "      <th>5</th>\n",
       "      <td>Item-kNN</td>\n",
       "      <td>0.074461</td>\n",
       "      <td>0.076795</td>\n",
       "      <td>0.079130</td>\n",
       "    </tr>\n",
       "  </tbody>\n",
       "</table>\n",
       "</div>"
      ],
      "text/plain": [
       "         Agent     0.025     0.500     0.975\n",
       "0       Random  0.000000  0.000000  0.000000\n",
       "1      Popular  0.000000  0.000000  0.000000\n",
       "2     User-pop  0.000000  0.000000  0.000000\n",
       "3          SVD  0.074560  0.076895  0.079231\n",
       "4     User-kNN  0.079927  0.082336  0.084746\n",
       "5     Item-kNN  0.074461  0.076795  0.079130"
      ]
     },
     "metadata": {
      "tags": []
     },
     "output_type": "display_data"
    },
    {
     "data": {
      "image/png": "[encoded data removed]",
      "text/plain": [
       "<Figure size 432x144 with 1 Axes>"
      ]
     },
     "metadata": {
      "filenames": {
       "image/png": "/content/reco-book/_build/jupyter_execute/nbs/T057885_Offline_Replayer_Evaluation_30_2.png"
      },
      "needs_background": "light",
      "tags": []
     },
     "output_type": "display_data"
    },
    {
     "name": "stdout",
     "output_type": "stream",
     "text": [
      "CPU times: user 6min 45s, sys: 43 s, total: 7min 28s\n",
      "Wall time: 4min 43s\n"
     ]
    }
   ],
   "source": [
    "%%time\n",
    "result_LOO = verify_agents_traditional(test_log, deepcopy(agents))\n",
    "display(result_LOO)\n",
    "plot_barchart(result_LOO, 'Evaluate on Organic Feedback', 'HR@1', 'tab:red', 'traditional_eval.eps')"
   ]
  },
  {
   "cell_type": "markdown",
   "metadata": {
    "id": "KMEG7NLGZ5Kp"
   },
   "source": [
    "#### IPS Estimators"
   ]
  },
  {
   "cell_type": "code",
   "execution_count": null,
   "metadata": {
    "id": "RuQ5m3goeHnR"
   },
   "outputs": [],
   "source": [
    "# Generate new logs, to be used for offline testing\n",
    "test_log_ppop = env.generate_logs(n_test_users, agent = deepcopy(PPOP_agent))"
   ]
  },
  {
   "cell_type": "code",
   "execution_count": null,
   "metadata": {
    "id": "Gjj31s8ge6qZ"
   },
   "outputs": [
    {
     "data": {
      "text/html": [
       "<div>\n",
       "<style scoped>\n",
       "    .dataframe tbody tr th:only-of-type {\n",
       "        vertical-align: middle;\n",
       "    }\n",
       "\n",
       "    .dataframe tbody tr th {\n",
       "        vertical-align: top;\n",
       "    }\n",
       "\n",
       "    .dataframe thead th {\n",
       "        text-align: right;\n",
       "    }\n",
       "</style>\n",
       "<table border=\"1\" class=\"dataframe\">\n",
       "  <thead>\n",
       "    <tr style=\"text-align: right;\">\n",
       "      <th></th>\n",
       "      <th>t</th>\n",
       "      <th>u</th>\n",
       "      <th>z</th>\n",
       "      <th>v</th>\n",
       "      <th>a</th>\n",
       "      <th>c</th>\n",
       "      <th>ps</th>\n",
       "      <th>ps-a</th>\n",
       "    </tr>\n",
       "  </thead>\n",
       "  <tbody>\n",
       "    <tr>\n",
       "      <th>0</th>\n",
       "      <td>0.0</td>\n",
       "      <td>0</td>\n",
       "      <td>organic</td>\n",
       "      <td>220</td>\n",
       "      <td>&lt;NA&gt;</td>\n",
       "      <td>NaN</td>\n",
       "      <td>NaN</td>\n",
       "      <td>None</td>\n",
       "    </tr>\n",
       "    <tr>\n",
       "      <th>1</th>\n",
       "      <td>1.0</td>\n",
       "      <td>0</td>\n",
       "      <td>organic</td>\n",
       "      <td>867</td>\n",
       "      <td>&lt;NA&gt;</td>\n",
       "      <td>NaN</td>\n",
       "      <td>NaN</td>\n",
       "      <td>None</td>\n",
       "    </tr>\n",
       "    <tr>\n",
       "      <th>2</th>\n",
       "      <td>2.0</td>\n",
       "      <td>0</td>\n",
       "      <td>organic</td>\n",
       "      <td>969</td>\n",
       "      <td>&lt;NA&gt;</td>\n",
       "      <td>NaN</td>\n",
       "      <td>NaN</td>\n",
       "      <td>None</td>\n",
       "    </tr>\n",
       "    <tr>\n",
       "      <th>3</th>\n",
       "      <td>3.0</td>\n",
       "      <td>0</td>\n",
       "      <td>organic</td>\n",
       "      <td>730</td>\n",
       "      <td>&lt;NA&gt;</td>\n",
       "      <td>NaN</td>\n",
       "      <td>NaN</td>\n",
       "      <td>None</td>\n",
       "    </tr>\n",
       "    <tr>\n",
       "      <th>4</th>\n",
       "      <td>4.0</td>\n",
       "      <td>0</td>\n",
       "      <td>bandit</td>\n",
       "      <td>&lt;NA&gt;</td>\n",
       "      <td>969</td>\n",
       "      <td>0.0</td>\n",
       "      <td>0.25</td>\n",
       "      <td>()</td>\n",
       "    </tr>\n",
       "  </tbody>\n",
       "</table>\n",
       "</div>"
      ],
      "text/plain": [
       "     t  u        z     v     a    c    ps  ps-a\n",
       "0  0.0  0  organic   220  <NA>  NaN   NaN  None\n",
       "1  1.0  0  organic   867  <NA>  NaN   NaN  None\n",
       "2  2.0  0  organic   969  <NA>  NaN   NaN  None\n",
       "3  3.0  0  organic   730  <NA>  NaN   NaN  None\n",
       "4  4.0  0   bandit  <NA>   969  0.0  0.25    ()"
      ]
     },
     "execution_count": 26,
     "metadata": {
      "tags": []
     },
     "output_type": "execute_result"
    }
   ],
   "source": [
    "test_log_ppop.head()"
   ]
  },
  {
   "cell_type": "code",
   "execution_count": null,
   "metadata": {
    "id": "SdKK38bSZ6Bl"
   },
   "outputs": [
    {
     "name": "stderr",
     "output_type": "stream",
     "text": [
      "/usr/local/lib/python3.7/dist-packages/ipykernel_launcher.py:65: RuntimeWarning: invalid value encountered in double_scalars\n",
      "/usr/local/lib/python3.7/dist-packages/ipykernel_launcher.py:120: RuntimeWarning: invalid value encountered in double_scalars\n"
     ]
    },
    {
     "name": "stdout",
     "output_type": "stream",
     "text": [
      "Effective sample size for agent     Random is 0\n",
      "Effective sample size for agent    Popular is 0\n",
      "Effective sample size for agent    User-pop is 0\n",
      "Effective sample size for agent   SVD is 21243.67667925834\n",
      "Effective sample size for agent  User-kNN is 33971.880634000554\n",
      "Effective sample size for agent Item-kNN is 39627.482103973896\n"
     ]
    },
    {
     "data": {
      "text/html": [
       "<div>\n",
       "<style scoped>\n",
       "    .dataframe tbody tr th:only-of-type {\n",
       "        vertical-align: middle;\n",
       "    }\n",
       "\n",
       "    .dataframe tbody tr th {\n",
       "        vertical-align: top;\n",
       "    }\n",
       "\n",
       "    .dataframe thead th {\n",
       "        text-align: right;\n",
       "    }\n",
       "</style>\n",
       "<table border=\"1\" class=\"dataframe\">\n",
       "  <thead>\n",
       "    <tr style=\"text-align: right;\">\n",
       "      <th></th>\n",
       "      <th>Agent</th>\n",
       "      <th>0.025</th>\n",
       "      <th>0.500</th>\n",
       "      <th>0.975</th>\n",
       "    </tr>\n",
       "  </thead>\n",
       "  <tbody>\n",
       "    <tr>\n",
       "      <th>0</th>\n",
       "      <td>Random</td>\n",
       "      <td>NaN</td>\n",
       "      <td>0.000000</td>\n",
       "      <td>NaN</td>\n",
       "    </tr>\n",
       "    <tr>\n",
       "      <th>1</th>\n",
       "      <td>Popular</td>\n",
       "      <td>NaN</td>\n",
       "      <td>0.000000</td>\n",
       "      <td>NaN</td>\n",
       "    </tr>\n",
       "    <tr>\n",
       "      <th>2</th>\n",
       "      <td>User-pop</td>\n",
       "      <td>NaN</td>\n",
       "      <td>0.000000</td>\n",
       "      <td>NaN</td>\n",
       "    </tr>\n",
       "    <tr>\n",
       "      <th>3</th>\n",
       "      <td>SVD</td>\n",
       "      <td>0.005323</td>\n",
       "      <td>0.013057</td>\n",
       "      <td>0.020791</td>\n",
       "    </tr>\n",
       "    <tr>\n",
       "      <th>4</th>\n",
       "      <td>User-kNN</td>\n",
       "      <td>0.010922</td>\n",
       "      <td>0.017513</td>\n",
       "      <td>0.024104</td>\n",
       "    </tr>\n",
       "    <tr>\n",
       "      <th>5</th>\n",
       "      <td>Item-kNN</td>\n",
       "      <td>0.012314</td>\n",
       "      <td>0.018250</td>\n",
       "      <td>0.024186</td>\n",
       "    </tr>\n",
       "  </tbody>\n",
       "</table>\n",
       "</div>"
      ],
      "text/plain": [
       "         Agent     0.025     0.500     0.975\n",
       "0       Random       NaN  0.000000       NaN\n",
       "1      Popular       NaN  0.000000       NaN\n",
       "2     User-pop       NaN  0.000000       NaN\n",
       "3          SVD  0.005323  0.013057  0.020791\n",
       "4     User-kNN  0.010922  0.017513  0.024104\n",
       "5     Item-kNN  0.012314  0.018250  0.024186"
      ]
     },
     "metadata": {
      "tags": []
     },
     "output_type": "display_data"
    },
    {
     "data": {
      "image/png": "[encoded data removed]",
      "text/plain": [
       "<Figure size 432x144 with 1 Axes>"
      ]
     },
     "metadata": {
      "filenames": {
       "image/png": "/content/reco-book/_build/jupyter_execute/nbs/T057885_Offline_Replayer_Evaluation_34_3.png"
      },
      "needs_background": "light",
      "tags": []
     },
     "output_type": "display_data"
    },
    {
     "data": {
      "text/html": [
       "<div>\n",
       "<style scoped>\n",
       "    .dataframe tbody tr th:only-of-type {\n",
       "        vertical-align: middle;\n",
       "    }\n",
       "\n",
       "    .dataframe tbody tr th {\n",
       "        vertical-align: top;\n",
       "    }\n",
       "\n",
       "    .dataframe thead th {\n",
       "        text-align: right;\n",
       "    }\n",
       "</style>\n",
       "<table border=\"1\" class=\"dataframe\">\n",
       "  <thead>\n",
       "    <tr style=\"text-align: right;\">\n",
       "      <th></th>\n",
       "      <th>Agent</th>\n",
       "      <th>0.025</th>\n",
       "      <th>0.500</th>\n",
       "      <th>0.975</th>\n",
       "    </tr>\n",
       "  </thead>\n",
       "  <tbody>\n",
       "    <tr>\n",
       "      <th>0</th>\n",
       "      <td>Random</td>\n",
       "      <td>NaN</td>\n",
       "      <td>0.000000</td>\n",
       "      <td>NaN</td>\n",
       "    </tr>\n",
       "    <tr>\n",
       "      <th>1</th>\n",
       "      <td>Popular</td>\n",
       "      <td>NaN</td>\n",
       "      <td>0.000000</td>\n",
       "      <td>NaN</td>\n",
       "    </tr>\n",
       "    <tr>\n",
       "      <th>2</th>\n",
       "      <td>User-pop</td>\n",
       "      <td>NaN</td>\n",
       "      <td>0.000000</td>\n",
       "      <td>NaN</td>\n",
       "    </tr>\n",
       "    <tr>\n",
       "      <th>3</th>\n",
       "      <td>SVD</td>\n",
       "      <td>0.005590</td>\n",
       "      <td>0.012160</td>\n",
       "      <td>0.018731</td>\n",
       "    </tr>\n",
       "    <tr>\n",
       "      <th>4</th>\n",
       "      <td>User-kNN</td>\n",
       "      <td>0.010801</td>\n",
       "      <td>0.016735</td>\n",
       "      <td>0.022670</td>\n",
       "    </tr>\n",
       "    <tr>\n",
       "      <th>5</th>\n",
       "      <td>Item-kNN</td>\n",
       "      <td>0.012184</td>\n",
       "      <td>0.017599</td>\n",
       "      <td>0.023014</td>\n",
       "    </tr>\n",
       "  </tbody>\n",
       "</table>\n",
       "</div>"
      ],
      "text/plain": [
       "         Agent     0.025     0.500     0.975\n",
       "0       Random       NaN  0.000000       NaN\n",
       "1      Popular       NaN  0.000000       NaN\n",
       "2     User-pop       NaN  0.000000       NaN\n",
       "3          SVD  0.005590  0.012160  0.018731\n",
       "4     User-kNN  0.010801  0.016735  0.022670\n",
       "5     Item-kNN  0.012184  0.017599  0.023014"
      ]
     },
     "metadata": {
      "tags": []
     },
     "output_type": "display_data"
    },
    {
     "data": {
      "image/png": "[encoded data removed]",
      "text/plain": [
       "<Figure size 432x144 with 1 Axes>"
      ]
     },
     "metadata": {
      "filenames": {
       "image/png": "/content/reco-book/_build/jupyter_execute/nbs/T057885_Offline_Replayer_Evaluation_34_5.png"
      },
      "needs_background": "light",
      "tags": []
     },
     "output_type": "display_data"
    },
    {
     "name": "stdout",
     "output_type": "stream",
     "text": [
      "CPU times: user 45min 36s, sys: 2min 15s, total: 47min 51s\n",
      "Wall time: 29min 38s\n"
     ]
    }
   ],
   "source": [
    "%%time\n",
    "cap = 15\n",
    "result_IPS, result_CIPS, result_SNIPS = verify_agents_counterfactual(test_log_ppop, deepcopy(agents), cap = cap)\n",
    "display(result_IPS)\n",
    "plot_barchart(result_IPS, 'IPS', 'CTR', 'tab:blue', 'bandit_eval_noclip.eps')\n",
    "display(result_CIPS)\n",
    "plot_barchart(result_CIPS, 'Clipped IPS', 'CTR', 'tab:blue', 'bandit_eval_clip{0}.eps'.format(cap))"
   ]
  },
  {
   "cell_type": "markdown",
   "metadata": {
    "id": "NqDH9cq_b4vh"
   },
   "source": [
    "#### A/B tests"
   ]
  },
  {
   "cell_type": "code",
   "execution_count": null,
   "metadata": {
    "id": "DsK98lKNb6RB"
   },
   "outputs": [
    {
     "name": "stderr",
     "output_type": "stream",
     "text": [
      "Organic Users: 0it [00:00, ?it/s]\n",
      "Users: 100%|██████████| 5000/5000 [05:39<00:00, 14.71it/s]\n",
      "Organic Users: 0it [00:00, ?it/s]\n",
      "Users: 100%|██████████| 5000/5000 [05:35<00:00, 14.92it/s]\n",
      "Organic Users: 0it [00:00, ?it/s]\n",
      "Users: 100%|██████████| 5000/5000 [06:49<00:00, 12.20it/s]\n",
      "Organic Users: 0it [00:00, ?it/s]\n",
      "Users: 100%|██████████| 5000/5000 [06:39<00:00, 12.53it/s]\n",
      "Organic Users: 0it [00:00, ?it/s]\n",
      "Users:  83%|████████▎ | 4163/5000 [18:04<03:51,  3.62it/s]"
     ]
    }
   ],
   "source": [
    "%%time\n",
    "result_AB = verify_agents(env, n_test_users, deepcopy(agents))\n",
    "display(result_AB)\n",
    "plot_barchart(result_AB, 'A/B-test', 'CTR', 'tab:green', 'ABtest_eval.eps')"
   ]
  },
  {
   "cell_type": "code",
   "execution_count": null,
   "metadata": {
    "id": "ieFcpaa-b8Tt"
   },
   "outputs": [],
   "source": [
    "def combine_barchart(resultAB, resultCIPS, title, xlabel,  figname = 'fig.eps', size = (6,2), fontsize = 12):\n",
    "    fig, axes = plt.subplots(figsize = size)\n",
    "    plt.title(title, size = fontsize)\n",
    "    n_agents = len(resultAB)\n",
    "    \n",
    "    for i, (name, colour, result) in enumerate([('A/B-test', 'tab:green', result_AB),('CIPS', 'tab:blue', result_CIPS)]):\n",
    "        mean = result['0.500']\n",
    "        lower = result['0.500'] - result['0.025']\n",
    "        upper = result['0.975'] - result['0.500']\n",
    "        height = .25\n",
    "        yticks = [a + i * height for a in range(n_agents)]\n",
    "        plt.barh(yticks,\n",
    "                 mean,\n",
    "                 height = height,\n",
    "                 xerr  = (lower, upper),\n",
    "                 align = 'edge',\n",
    "                 label = name,\n",
    "                 color = colour)\n",
    "    plt.yticks(yticks, result['Agent'], size = fontsize)\n",
    "    plt.xticks(size = fontsize)\n",
    "    plt.xlabel(xlabel, size = fontsize)\n",
    "    plt.legend(loc = 'lower right')\n",
    "    plt.xlim(.0,None)\n",
    "    plt.gca().xaxis.set_major_formatter(FormatStrFormatter('%.3f'))\n",
    "    plt.savefig(figname, bbox_inches = 'tight')\n",
    "    plt.show()\n",
    "combine_barchart(result_AB, result_CIPS, 'Evaluate on Bandit Feedback', 'CTR', 'ABtest_CIPS.eps')"
   ]
  },
  {
   "cell_type": "code",
   "execution_count": null,
   "metadata": {
    "id": "Q4NB72lgb-Ek"
   },
   "outputs": [],
   "source": [
    "plot_barchart(result_LOO, 'Evaluate on Organic Feedback', 'HR@1', 'tab:red', 'traditional_eval.eps')"
   ]
  },
  {
   "cell_type": "markdown",
   "metadata": {
    "id": "k2eO-W1b1HGN"
   },
   "source": [
    "## Recogym small\n",
    "> Running recogym for offline simulation and evaluation with small number of users and items"
   ]
  },
  {
   "cell_type": "markdown",
   "metadata": {
    "id": "B7BGtRmWYACb"
   },
   "source": [
    "### Imports"
   ]
  },
  {
   "cell_type": "code",
   "execution_count": null,
   "metadata": {
    "id": "DNKCg-hn1HGP"
   },
   "outputs": [],
   "source": [
    "!pip install -q recogym"
   ]
  },
  {
   "cell_type": "code",
   "execution_count": null,
   "metadata": {
    "id": "WFpGJceJ1HGP"
   },
   "outputs": [],
   "source": [
    "import numpy as np\n",
    "from numpy.random.mtrand import RandomState\n",
    "from scipy.special import logsumexp\n",
    "import scipy\n",
    "import pandas as pd\n",
    "from scipy.stats.distributions import beta\n",
    "from copy import deepcopy\n",
    "\n",
    "from scipy.sparse import csr_matrix\n",
    "from scipy.sparse.linalg import svds\n",
    "\n",
    "from itertools import chain\n",
    "from sklearn.neighbors import NearestNeighbors\n",
    "from IPython.display import display, HTML\n",
    "\n",
    "from matplotlib.ticker import FormatStrFormatter\n",
    "\n",
    "import gym, recogym\n",
    "from recogym import env_1_args, Configuration\n",
    "from recogym.agents import OrganicUserEventCounterAgent, organic_user_count_args\n",
    "from recogym.agents.organic_count import OrganicCount, organic_count_args, to_categorical\n",
    "from recogym import Configuration\n",
    "from recogym.agents import Agent\n",
    "from recogym.envs.observation import Observation\n",
    "from recogym.agents import RandomAgent, random_args\n",
    "from recogym import verify_agents, verify_agents_IPS\n",
    "from recogym.evaluate_agent import plot_verify_agents, verify_agents_recall_at_k\n",
    "\n",
    "from recogym.envs.session import OrganicSessions\n",
    "from recogym.envs.context import DefaultContext\n",
    "from recogym.envs.observation import Observation\n",
    "\n",
    "import matplotlib.pyplot as plt\n",
    "%matplotlib inline\n",
    "\n",
    "P = 50 # Number of Products\n",
    "U = 50 # Number of Users"
   ]
  },
  {
   "cell_type": "code",
   "execution_count": null,
   "metadata": {
    "id": "QOjZWKMd1HGQ"
   },
   "outputs": [],
   "source": [
    "# You can overwrite environment arguments here\n",
    "env_1_args['random_seed'] = 42\n",
    "env_1_args['num_products']= P\n",
    "env_1_args['phi_var']=0.0\n",
    "env_1_args['number_of_flips']=P//2\n",
    "env_1_args['sigma_mu_organic'] = 0.1\n",
    "env_1_args['sigma_omega']=0.05"
   ]
  },
  {
   "cell_type": "code",
   "execution_count": null,
   "metadata": {
    "id": "jAgakIw61HGQ"
   },
   "outputs": [],
   "source": [
    "# Initialize the gym for the first time by calling .make() and .init_gym()\n",
    "env = gym.make('reco-gym-v1')\n",
    "env.init_gym(env_1_args)"
   ]
  },
  {
   "cell_type": "code",
   "execution_count": null,
   "metadata": {
    "id": "AWzrIzzE1HGQ"
   },
   "outputs": [],
   "source": [
    "env.reset()"
   ]
  },
  {
   "cell_type": "code",
   "execution_count": null,
   "metadata": {
    "id": "YKVo_fHG1HGQ"
   },
   "outputs": [
    {
     "name": "stderr",
     "output_type": "stream",
     "text": [
      "Organic Users: 0it [00:00, ?it/s]\n",
      "Users: 100%|██████████| 50/50 [00:01<00:00, 44.55it/s]\n"
     ]
    },
    {
     "data": {
      "text/html": [
       "<div>\n",
       "<style scoped>\n",
       "    .dataframe tbody tr th:only-of-type {\n",
       "        vertical-align: middle;\n",
       "    }\n",
       "\n",
       "    .dataframe tbody tr th {\n",
       "        vertical-align: top;\n",
       "    }\n",
       "\n",
       "    .dataframe thead th {\n",
       "        text-align: right;\n",
       "    }\n",
       "</style>\n",
       "<table border=\"1\" class=\"dataframe\">\n",
       "  <thead>\n",
       "    <tr style=\"text-align: right;\">\n",
       "      <th></th>\n",
       "      <th>t</th>\n",
       "      <th>u</th>\n",
       "      <th>z</th>\n",
       "      <th>v</th>\n",
       "      <th>a</th>\n",
       "      <th>c</th>\n",
       "      <th>ps</th>\n",
       "      <th>ps-a</th>\n",
       "    </tr>\n",
       "  </thead>\n",
       "  <tbody>\n",
       "    <tr>\n",
       "      <th>0</th>\n",
       "      <td>0.0</td>\n",
       "      <td>0</td>\n",
       "      <td>organic</td>\n",
       "      <td>6</td>\n",
       "      <td>&lt;NA&gt;</td>\n",
       "      <td>NaN</td>\n",
       "      <td>NaN</td>\n",
       "      <td>None</td>\n",
       "    </tr>\n",
       "    <tr>\n",
       "      <th>1</th>\n",
       "      <td>1.0</td>\n",
       "      <td>0</td>\n",
       "      <td>organic</td>\n",
       "      <td>6</td>\n",
       "      <td>&lt;NA&gt;</td>\n",
       "      <td>NaN</td>\n",
       "      <td>NaN</td>\n",
       "      <td>None</td>\n",
       "    </tr>\n",
       "    <tr>\n",
       "      <th>2</th>\n",
       "      <td>2.0</td>\n",
       "      <td>0</td>\n",
       "      <td>organic</td>\n",
       "      <td>31</td>\n",
       "      <td>&lt;NA&gt;</td>\n",
       "      <td>NaN</td>\n",
       "      <td>NaN</td>\n",
       "      <td>None</td>\n",
       "    </tr>\n",
       "    <tr>\n",
       "      <th>3</th>\n",
       "      <td>3.0</td>\n",
       "      <td>0</td>\n",
       "      <td>organic</td>\n",
       "      <td>2</td>\n",
       "      <td>&lt;NA&gt;</td>\n",
       "      <td>NaN</td>\n",
       "      <td>NaN</td>\n",
       "      <td>None</td>\n",
       "    </tr>\n",
       "    <tr>\n",
       "      <th>4</th>\n",
       "      <td>4.0</td>\n",
       "      <td>0</td>\n",
       "      <td>organic</td>\n",
       "      <td>31</td>\n",
       "      <td>&lt;NA&gt;</td>\n",
       "      <td>NaN</td>\n",
       "      <td>NaN</td>\n",
       "      <td>None</td>\n",
       "    </tr>\n",
       "    <tr>\n",
       "      <th>5</th>\n",
       "      <td>5.0</td>\n",
       "      <td>0</td>\n",
       "      <td>organic</td>\n",
       "      <td>32</td>\n",
       "      <td>&lt;NA&gt;</td>\n",
       "      <td>NaN</td>\n",
       "      <td>NaN</td>\n",
       "      <td>None</td>\n",
       "    </tr>\n",
       "    <tr>\n",
       "      <th>6</th>\n",
       "      <td>6.0</td>\n",
       "      <td>0</td>\n",
       "      <td>organic</td>\n",
       "      <td>1</td>\n",
       "      <td>&lt;NA&gt;</td>\n",
       "      <td>NaN</td>\n",
       "      <td>NaN</td>\n",
       "      <td>None</td>\n",
       "    </tr>\n",
       "    <tr>\n",
       "      <th>7</th>\n",
       "      <td>7.0</td>\n",
       "      <td>0</td>\n",
       "      <td>bandit</td>\n",
       "      <td>&lt;NA&gt;</td>\n",
       "      <td>23</td>\n",
       "      <td>0.0</td>\n",
       "      <td>0.02</td>\n",
       "      <td>()</td>\n",
       "    </tr>\n",
       "    <tr>\n",
       "      <th>8</th>\n",
       "      <td>8.0</td>\n",
       "      <td>0</td>\n",
       "      <td>bandit</td>\n",
       "      <td>&lt;NA&gt;</td>\n",
       "      <td>10</td>\n",
       "      <td>0.0</td>\n",
       "      <td>0.02</td>\n",
       "      <td>()</td>\n",
       "    </tr>\n",
       "    <tr>\n",
       "      <th>9</th>\n",
       "      <td>9.0</td>\n",
       "      <td>0</td>\n",
       "      <td>bandit</td>\n",
       "      <td>&lt;NA&gt;</td>\n",
       "      <td>34</td>\n",
       "      <td>0.0</td>\n",
       "      <td>0.02</td>\n",
       "      <td>()</td>\n",
       "    </tr>\n",
       "    <tr>\n",
       "      <th>10</th>\n",
       "      <td>10.0</td>\n",
       "      <td>0</td>\n",
       "      <td>bandit</td>\n",
       "      <td>&lt;NA&gt;</td>\n",
       "      <td>38</td>\n",
       "      <td>0.0</td>\n",
       "      <td>0.02</td>\n",
       "      <td>()</td>\n",
       "    </tr>\n",
       "    <tr>\n",
       "      <th>11</th>\n",
       "      <td>11.0</td>\n",
       "      <td>0</td>\n",
       "      <td>bandit</td>\n",
       "      <td>&lt;NA&gt;</td>\n",
       "      <td>8</td>\n",
       "      <td>0.0</td>\n",
       "      <td>0.02</td>\n",
       "      <td>()</td>\n",
       "    </tr>\n",
       "    <tr>\n",
       "      <th>12</th>\n",
       "      <td>12.0</td>\n",
       "      <td>0</td>\n",
       "      <td>bandit</td>\n",
       "      <td>&lt;NA&gt;</td>\n",
       "      <td>47</td>\n",
       "      <td>0.0</td>\n",
       "      <td>0.02</td>\n",
       "      <td>()</td>\n",
       "    </tr>\n",
       "    <tr>\n",
       "      <th>13</th>\n",
       "      <td>13.0</td>\n",
       "      <td>0</td>\n",
       "      <td>bandit</td>\n",
       "      <td>&lt;NA&gt;</td>\n",
       "      <td>36</td>\n",
       "      <td>0.0</td>\n",
       "      <td>0.02</td>\n",
       "      <td>()</td>\n",
       "    </tr>\n",
       "    <tr>\n",
       "      <th>14</th>\n",
       "      <td>14.0</td>\n",
       "      <td>0</td>\n",
       "      <td>bandit</td>\n",
       "      <td>&lt;NA&gt;</td>\n",
       "      <td>26</td>\n",
       "      <td>0.0</td>\n",
       "      <td>0.02</td>\n",
       "      <td>()</td>\n",
       "    </tr>\n",
       "    <tr>\n",
       "      <th>15</th>\n",
       "      <td>15.0</td>\n",
       "      <td>0</td>\n",
       "      <td>bandit</td>\n",
       "      <td>&lt;NA&gt;</td>\n",
       "      <td>46</td>\n",
       "      <td>0.0</td>\n",
       "      <td>0.02</td>\n",
       "      <td>()</td>\n",
       "    </tr>\n",
       "    <tr>\n",
       "      <th>16</th>\n",
       "      <td>16.0</td>\n",
       "      <td>0</td>\n",
       "      <td>bandit</td>\n",
       "      <td>&lt;NA&gt;</td>\n",
       "      <td>25</td>\n",
       "      <td>0.0</td>\n",
       "      <td>0.02</td>\n",
       "      <td>()</td>\n",
       "    </tr>\n",
       "    <tr>\n",
       "      <th>17</th>\n",
       "      <td>17.0</td>\n",
       "      <td>0</td>\n",
       "      <td>bandit</td>\n",
       "      <td>&lt;NA&gt;</td>\n",
       "      <td>26</td>\n",
       "      <td>0.0</td>\n",
       "      <td>0.02</td>\n",
       "      <td>()</td>\n",
       "    </tr>\n",
       "    <tr>\n",
       "      <th>18</th>\n",
       "      <td>18.0</td>\n",
       "      <td>0</td>\n",
       "      <td>bandit</td>\n",
       "      <td>&lt;NA&gt;</td>\n",
       "      <td>41</td>\n",
       "      <td>0.0</td>\n",
       "      <td>0.02</td>\n",
       "      <td>()</td>\n",
       "    </tr>\n",
       "    <tr>\n",
       "      <th>19</th>\n",
       "      <td>19.0</td>\n",
       "      <td>0</td>\n",
       "      <td>bandit</td>\n",
       "      <td>&lt;NA&gt;</td>\n",
       "      <td>31</td>\n",
       "      <td>0.0</td>\n",
       "      <td>0.02</td>\n",
       "      <td>()</td>\n",
       "    </tr>\n",
       "  </tbody>\n",
       "</table>\n",
       "</div>"
      ],
      "text/plain": [
       "       t  u        z     v     a    c    ps  ps-a\n",
       "0    0.0  0  organic     6  <NA>  NaN   NaN  None\n",
       "1    1.0  0  organic     6  <NA>  NaN   NaN  None\n",
       "2    2.0  0  organic    31  <NA>  NaN   NaN  None\n",
       "3    3.0  0  organic     2  <NA>  NaN   NaN  None\n",
       "4    4.0  0  organic    31  <NA>  NaN   NaN  None\n",
       "5    5.0  0  organic    32  <NA>  NaN   NaN  None\n",
       "6    6.0  0  organic     1  <NA>  NaN   NaN  None\n",
       "7    7.0  0   bandit  <NA>    23  0.0  0.02    ()\n",
       "8    8.0  0   bandit  <NA>    10  0.0  0.02    ()\n",
       "9    9.0  0   bandit  <NA>    34  0.0  0.02    ()\n",
       "10  10.0  0   bandit  <NA>    38  0.0  0.02    ()\n",
       "11  11.0  0   bandit  <NA>     8  0.0  0.02    ()\n",
       "12  12.0  0   bandit  <NA>    47  0.0  0.02    ()\n",
       "13  13.0  0   bandit  <NA>    36  0.0  0.02    ()\n",
       "14  14.0  0   bandit  <NA>    26  0.0  0.02    ()\n",
       "15  15.0  0   bandit  <NA>    46  0.0  0.02    ()\n",
       "16  16.0  0   bandit  <NA>    25  0.0  0.02    ()\n",
       "17  17.0  0   bandit  <NA>    26  0.0  0.02    ()\n",
       "18  18.0  0   bandit  <NA>    41  0.0  0.02    ()\n",
       "19  19.0  0   bandit  <NA>    31  0.0  0.02    ()"
      ]
     },
     "execution_count": 35,
     "metadata": {
      "tags": []
     },
     "output_type": "execute_result"
    }
   ],
   "source": [
    "# Generate RecSys logs for U users\n",
    "reco_log = env.generate_logs(U)\n",
    "reco_log.head(20)"
   ]
  },
  {
   "cell_type": "code",
   "execution_count": null,
   "metadata": {
    "id": "GacI27bO1HGR"
   },
   "outputs": [
    {
     "name": "stdout",
     "output_type": "stream",
     "text": [
      "Training on 1117 organic and 3926 bandit events\n"
     ]
    }
   ],
   "source": [
    "n_events = reco_log.shape[0]\n",
    "n_organic = reco_log.loc[reco_log['z'] == 'organic'].shape[0]\n",
    "print('Training on {0} organic and {1} bandit events'.format(n_organic, n_events - n_organic))"
   ]
  },
  {
   "cell_type": "markdown",
   "metadata": {
    "id": "BanQ4ywF1HGT"
   },
   "source": [
    "### Defining evaluation methods"
   ]
  },
  {
   "cell_type": "markdown",
   "metadata": {
    "id": "91J57Dok1HGU"
   },
   "source": [
    "#### Traditional evaluation"
   ]
  },
  {
   "cell_type": "code",
   "execution_count": null,
   "metadata": {
    "id": "ZEyxLjxK1HGU"
   },
   "outputs": [],
   "source": [
    "def leave_one_out(reco_log, agent, last = False, N = 1, folds = 10):\n",
    "    # 1. Extract all organic events\n",
    "    reco_log = reco_log.loc[reco_log['z'] == 'organic']\n",
    "    \n",
    "    # 2. For every user sequence - randomly sample out an item\n",
    "    hits = []\n",
    "    for _ in range(folds):\n",
    "        user_id = 0\n",
    "        history = []\n",
    "        session = OrganicSessions()\n",
    "        agent.reset()\n",
    "        for row in reco_log.itertuples():\n",
    "            # If we have a new user\n",
    "            if row.u != user_id:\n",
    "                if last:\n",
    "                    # Sample out last item\n",
    "                    index = len(history) - 1\n",
    "                else:\n",
    "                    # Sample out a random item from the history\n",
    "                    index = np.random.choice(len(history),\n",
    "                                             replace = False)\n",
    "                test  = history[index]\n",
    "                train = history[:index] + history[index + 1:]\n",
    "\n",
    "                # 3. Recreate the user sequence without these items - Let the agent observe the incomplete sequence\n",
    "                for t, v in list(train):\n",
    "                    session.next(DefaultContext(t, user_id), int(v))\n",
    "\n",
    "                # 4. Generate a top-N set of recommendations by letting the agent act\n",
    "                # TODO - For now only works for N = 1\n",
    "                try:\n",
    "                    prob_a = agent.act(Observation(DefaultContext(t + 1, user_id), session), 0, False)['ps-a']\n",
    "                except:\n",
    "                    prob_a = [1 / P] * P\n",
    "\n",
    "                # 5. Compute metrics checking whether the sampled test item is in the top-N\n",
    "                try:\n",
    "                  hits.append(np.argmax(prob_a) == int(test[1]))\n",
    "                except:\n",
    "                  hits.append(0)\n",
    "\n",
    "                # Reset variables\n",
    "                user_id = row.u\n",
    "                history = []\n",
    "                session = OrganicSessions()\n",
    "                agent.reset()\n",
    "\n",
    "            # Save the organic interaction to the running average for the session\n",
    "            history.append((row.t,row.v))\n",
    "    \n",
    "    # Error analysis\n",
    "    mean_hits = np.mean(hits)\n",
    "    serr_hits = np.std(hits) / np.sqrt(len(hits))\n",
    "    low_bound = mean_hits - 1.96 * serr_hits\n",
    "    upp_bound = mean_hits + 1.96 * serr_hits\n",
    "    \n",
    "    return mean_hits, low_bound, upp_bound\n",
    "\n",
    "def verify_agents_traditional(reco_log, agents, last = False, N = 1, folds = 10):\n",
    "    # Placeholder DataFrame for result\n",
    "    stat = {\n",
    "        'Agent': [],\n",
    "        '0.025': [],\n",
    "        '0.500' : [],\n",
    "        '0.975': [],\n",
    "    }\n",
    "\n",
    "    # For every agent\n",
    "    for agent_id in agents:\n",
    "        # Compute HR@k\n",
    "        mean, low, upp = leave_one_out(reco_log, agents[agent_id], last = last, N = N, folds = folds)\n",
    "        stat['Agent'].append(agent_id)\n",
    "        stat['0.025'].append(low)\n",
    "        stat['0.500'].append(mean)\n",
    "        stat['0.975'].append(upp)\n",
    "    return pd.DataFrame().from_dict(stat)"
   ]
  },
  {
   "cell_type": "markdown",
   "metadata": {
    "id": "-Jb-rZ9N1HGV"
   },
   "source": [
    "#### Counterfactual evaluation"
   ]
  },
  {
   "cell_type": "code",
   "execution_count": null,
   "metadata": {
    "id": "mQhvwF2c1HGV"
   },
   "outputs": [],
   "source": [
    "def compute_ips_weights(agent, reco_log):\n",
    "    # Placeholder for return values\n",
    "    rewards = [] # Labels for actions\n",
    "    t_props = [] # Treatment propensities\n",
    "    l_props = [] # Logging propensities\n",
    "    \n",
    "    # For every logged interaction\n",
    "    user_id = 0\n",
    "    session = OrganicSessions()\n",
    "    agent.reset()\n",
    "    for row in reco_log.itertuples():\n",
    "        # If we have a new user\n",
    "        if row.u != user_id:\n",
    "            # Reset\n",
    "            session = OrganicSessions()\n",
    "            agent.reset()\n",
    "            user_id = row.u\n",
    "        \n",
    "        # If we have an organic event\n",
    "        if row.z == 'organic':\n",
    "            session.next(DefaultContext(row.t, row.u), int(row.v))        \n",
    "            \n",
    "        else:\n",
    "            prob_a = agent.act(Observation(DefaultContext(row.t, row.u), session), 0, False)['ps-a']\n",
    "            rewards.append(row.c)\n",
    "            try:\n",
    "              t_props.append(prob_a[int(row.a)])\n",
    "            except:\n",
    "              t_props.append(0)\n",
    "            l_props.append(row.ps)\n",
    "            session = OrganicSessions()\n",
    "    \n",
    "    return np.asarray(rewards), np.asarray(t_props), np.asarray(l_props)\n",
    "\n",
    "def verify_agents_counterfactual(reco_log, agents, cap = 3):\n",
    "    # Placeholder DataFrame for results\n",
    "    IPS_stat = {\n",
    "        'Agent': [],\n",
    "        '0.025': [],\n",
    "        '0.500' : [],\n",
    "        '0.975': [],\n",
    "    }\n",
    "    CIPS_stat = {\n",
    "        'Agent': [],\n",
    "        '0.025': [],\n",
    "        '0.500' : [],\n",
    "        '0.975': [],\n",
    "    }\n",
    "    SNIPS_stat = {\n",
    "        'Agent': [],\n",
    "        '0.025': [],\n",
    "        '0.500' : [],\n",
    "        '0.975': [],\n",
    "    }\n",
    "\n",
    "    # For every agent\n",
    "    for agent_id in agents:\n",
    "        # Get the rewards and propensities\n",
    "        rewards, t_props, l_props = compute_ips_weights(agents[agent_id], reco_log)\n",
    "        \n",
    "        # Compute the sample weights - propensity ratios\n",
    "        p_ratio = t_props / l_props\n",
    "\n",
    "        # Effective sample size for E_t estimate (from A. Owen)\n",
    "        n_e = len(rewards) * (np.mean(p_ratio) ** 2) / (p_ratio ** 2).mean()\n",
    "        n_e = 0 if np.isnan(n_e) else n_e\n",
    "        print(\"Effective sample size for agent {} is {}\".format(str(agent_id), n_e))\n",
    "        \n",
    "        # Critical value from t-distribution as we have unknown variance\n",
    "        alpha = .00125\n",
    "        cv = scipy.stats.t.ppf(1 - alpha, df = int(n_e) - 1)\n",
    "        \n",
    "        ###############\n",
    "        # VANILLA IPS #\n",
    "        ###############\n",
    "        # Expected reward for pi_t\n",
    "        E_t = np.mean(rewards * p_ratio)\n",
    "\n",
    "        # Variance of the estimate\n",
    "        var = ((rewards * p_ratio - E_t) ** 2).mean()\n",
    "        stddev = np.sqrt(var)\n",
    "        \n",
    "        # C.I. assuming unknown variance - use t-distribution and effective sample size\n",
    "        min_bound = E_t - cv * stddev / np.sqrt(int(n_e))\n",
    "        max_bound = E_t + cv * stddev / np.sqrt(int(n_e))\n",
    "        \n",
    "        # Store result\n",
    "        IPS_stat['Agent'].append(agent_id)\n",
    "        IPS_stat['0.025'].append(min_bound)\n",
    "        IPS_stat['0.500'].append(E_t)\n",
    "        IPS_stat['0.975'].append(max_bound)\n",
    "        \n",
    "        ############## \n",
    "        # CAPPED IPS #\n",
    "        ##############\n",
    "        # Cap ratios\n",
    "        p_ratio_capped = np.clip(p_ratio, a_min = None, a_max = cap)\n",
    "        \n",
    "        # Expected reward for pi_t\n",
    "        E_t_capped = np.mean(rewards * p_ratio_capped)\n",
    "\n",
    "        # Variance of the estimate\n",
    "        var_capped = ((rewards * p_ratio_capped - E_t_capped) ** 2).mean()\n",
    "        stddev_capped = np.sqrt(var_capped)        \n",
    "        \n",
    "        # C.I. assuming unknown variance - use t-distribution and effective sample size\n",
    "        min_bound_capped = E_t_capped - cv * stddev_capped / np.sqrt(int(n_e))\n",
    "        max_bound_capped = E_t_capped + cv * stddev_capped / np.sqrt(int(n_e))\n",
    "        \n",
    "        # Store result\n",
    "        CIPS_stat['Agent'].append(agent_id)\n",
    "        CIPS_stat['0.025'].append(min_bound_capped)\n",
    "        CIPS_stat['0.500'].append(E_t_capped)\n",
    "        CIPS_stat['0.975'].append(max_bound_capped)\n",
    "        \n",
    "        ##############\n",
    "        # NORMED IPS #\n",
    "        ##############\n",
    "        # Expected reward for pi_t\n",
    "        E_t_normed = np.sum(rewards * p_ratio) / np.sum(p_ratio)\n",
    "\n",
    "        # Variance of the estimate\n",
    "        var_normed = np.sum(((rewards - E_t_normed) ** 2) * (p_ratio ** 2)) / (p_ratio.sum() ** 2)    \n",
    "        stddev_normed = np.sqrt(var_normed)\n",
    "\n",
    "        # C.I. assuming unknown variance - use t-distribution and effective sample size\n",
    "        min_bound_normed = E_t_normed - cv * stddev_normed / np.sqrt(int(n_e))\n",
    "        max_bound_normed = E_t_normed + cv * stddev_normed / np.sqrt(int(n_e))\n",
    "\n",
    "        # Store result\n",
    "        SNIPS_stat['Agent'].append(agent_id)\n",
    "        SNIPS_stat['0.025'].append(min_bound_normed)\n",
    "        SNIPS_stat['0.500'].append(E_t_normed)\n",
    "        SNIPS_stat['0.975'].append(max_bound_normed)\n",
    "        \n",
    "    return pd.DataFrame().from_dict(IPS_stat), pd.DataFrame().from_dict(CIPS_stat), pd.DataFrame().from_dict(SNIPS_stat)"
   ]
  },
  {
   "cell_type": "markdown",
   "metadata": {
    "id": "ZdbULErK1HGV"
   },
   "source": [
    "### Creating agents"
   ]
  },
  {
   "cell_type": "markdown",
   "metadata": {
    "id": "aDa_43Zq1HGW"
   },
   "source": [
    "#### SVD agent"
   ]
  },
  {
   "cell_type": "code",
   "execution_count": null,
   "metadata": {
    "id": "seUZAhYb1HGW"
   },
   "outputs": [],
   "source": [
    "class SVDAgent(Agent):\n",
    "    def __init__(self, config, U = U, P = P, K = 5):\n",
    "        super(SVDAgent, self).__init__(config)\n",
    "        self.rng = RandomState(self.config.random_seed)\n",
    "        assert(P >= K)\n",
    "        self.K = K\n",
    "        self.R = csr_matrix((U,P))\n",
    "        self.V = np.zeros((P,K))\n",
    "        self.user_history = np.zeros(P)\n",
    "    \n",
    "    def train(self, reco_log, U = U, P = P):\n",
    "        # Extract all organic user logs\n",
    "        reco_log = reco_log.loc[reco_log['z'] == 'organic']\n",
    "        \n",
    "        # Generate ratings matrix for training, row-based for efficient row (user) retrieval\n",
    "        self.R = csr_matrix((np.ones(len(reco_log)),\n",
    "                            (reco_log['u'],reco_log['v'])),\n",
    "                            (U,P))\n",
    "\n",
    "        # Singular Value Decomposition\n",
    "        _, _, self.V = svds(self.R, k = self.K)\n",
    "        \n",
    "    def observe(self, observation):\n",
    "        for session in observation.sessions():\n",
    "            self.user_history[session['v']] += 1\n",
    "\n",
    "    def act(self, observation, reward, done):\n",
    "        \"\"\"Act method returns an Action based on current observation and past history\"\"\"\n",
    "        self.observe(observation)\n",
    "        scores = self.user_history.dot(self.V.T).dot(self.V)\n",
    "        action = np.argmax(scores)\n",
    "        prob = np.zeros_like(scores)\n",
    "        prob[action] = 1.0\n",
    "\n",
    "        return {\n",
    "            **super().act(observation, reward, done),\n",
    "            **{\n",
    "                'a': action,\n",
    "                'ps': prob[action],\n",
    "                'ps-a': prob,\n",
    "            },\n",
    "        }\n",
    "\n",
    "    def reset(self):\n",
    "        self.user_history = np.zeros(P)"
   ]
  },
  {
   "cell_type": "markdown",
   "metadata": {
    "id": "zkLMJYGs1HGW"
   },
   "source": [
    "#### Item-KNN agent"
   ]
  },
  {
   "cell_type": "code",
   "execution_count": null,
   "metadata": {
    "id": "YIHQfY8z1HGW"
   },
   "outputs": [],
   "source": [
    "class itemkNNAgent(Agent):\n",
    "    def __init__(self, config, U = U, P = P, k = 5, greedy = False, alpha = 1):\n",
    "        super(itemkNNAgent, self).__init__(config)\n",
    "        self.rng = RandomState(self.config.random_seed)\n",
    "        self.k = min(P,k)\n",
    "        self.greedy = greedy\n",
    "        self.alpha = alpha\n",
    "        self.Rt = csr_matrix((P,U))\n",
    "        self.user_history = np.zeros(P)\n",
    "        self.S = np.eye(P)\n",
    "    \n",
    "    def train(self, reco_log, U = U, P = P):\n",
    "        # Extract all organic user logs\n",
    "        reco_log = reco_log.loc[reco_log['z'] == 'organic']\n",
    "        \n",
    "        # Generate ratings matrix for training, row-based for efficient row (user) retrieval\n",
    "        self.R_t = csr_matrix((np.ones(len(reco_log)),\n",
    "                              (reco_log['v'],reco_log['u'])),\n",
    "                              (P,U))\n",
    "\n",
    "        # Set up nearest neighbours module\n",
    "        nn = NearestNeighbors(n_neighbors = self.k,\n",
    "                              metric = 'cosine')\n",
    "\n",
    "        # Initialise placeholder for distances and indices\n",
    "        distances = []\n",
    "        indices   = []\n",
    "\n",
    "        # Dirty fix for multiprocessing backend being unable to pickle large objects\n",
    "        nn.fit(self.R_t)\n",
    "        distances, indices = nn.kneighbors(self.R_t, return_distance = True)\n",
    "\n",
    "        # Precompute similarity matrix S\n",
    "        data = list(chain.from_iterable(1.0 - distances))\n",
    "        rows = list(chain.from_iterable([i] * self.k for i in range(P)))\n",
    "        cols = list(chain.from_iterable(indices))\n",
    "        \n",
    "        # (P,P)-matrix with cosine similarities between items\n",
    "        self.S = csr_matrix((data,(rows, cols)), (P,P)).todense()\n",
    "        \n",
    "    def observe(self, observation):\n",
    "        for session in observation.sessions():\n",
    "            self.user_history[session['v']] += 1\n",
    "\n",
    "    def act(self, observation, reward, done):\n",
    "        \"\"\"Act method returns an Action based on current observation and past history\"\"\"\n",
    "        self.observe(observation)\n",
    "        scores = self.user_history.dot(self.S).A1\n",
    "        \n",
    "        if self.greedy:\n",
    "            action = np.argmax(scores)\n",
    "            prob = np.zeros_like(scores)\n",
    "            prob[action] = 1.0\n",
    "        else:\n",
    "            scores **= self.alpha\n",
    "            prob = scores / np.sum(scores)\n",
    "            action = self.rng.choice(self.S.shape[0], p = prob)\n",
    "\n",
    "        return {\n",
    "            **super().act(observation, reward, done),\n",
    "            **{\n",
    "                'a': action,\n",
    "                'ps': prob[action],\n",
    "                'ps-a': prob,\n",
    "            },\n",
    "        }\n",
    "\n",
    "    def reset(self):\n",
    "        self.user_history = np.zeros(P)"
   ]
  },
  {
   "cell_type": "markdown",
   "metadata": {
    "id": "l18JFVZG1HGX"
   },
   "source": [
    "#### User-KNN agent"
   ]
  },
  {
   "cell_type": "code",
   "execution_count": null,
   "metadata": {
    "id": "GN_KtRg61HGX"
   },
   "outputs": [],
   "source": [
    "class userkNNAgent(Agent):\n",
    "    def __init__(self, config, U = U, P = P, k = 5, greedy = False, alpha = 1):\n",
    "        super(userkNNAgent, self).__init__(config)\n",
    "        self.rng = RandomState(self.config.random_seed)\n",
    "        self.k = min(P,k)\n",
    "        self.greedy = greedy\n",
    "        self.alpha = alpha\n",
    "        self.U = U\n",
    "        self.P = P\n",
    "        self.R = csr_matrix((U,P))\n",
    "        self.user_history = np.zeros(P)\n",
    "        self.nn = NearestNeighbors(n_neighbors = self.k, metric = 'cosine')\n",
    "        \n",
    "    def train(self, reco_log, U = U, P = P):\n",
    "        # Extract all organic user logs\n",
    "        reco_log = reco_log.loc[reco_log['z'] == 'organic']\n",
    "        \n",
    "        # Generate ratings matrix for training, row-based for efficient row (user) retrieval\n",
    "        self.R = csr_matrix((np.ones(len(reco_log)),\n",
    "                            (reco_log['u'],reco_log['v'])),\n",
    "                            (U,P))\n",
    "\n",
    "        # Fit nearest neighbours\n",
    "        self.nn.fit(self.R)\n",
    "        \n",
    "    def observe(self, observation):\n",
    "        for session in observation.sessions():\n",
    "            self.user_history[session['v']] += 1\n",
    "\n",
    "    def act(self, observation, reward, done):\n",
    "        \"\"\"Act method returns an Action based on current observation and past history\"\"\"\n",
    "        self.observe(observation)\n",
    "        \n",
    "        # Get neighbouring users based on user history\n",
    "        distances, indices = self.nn.kneighbors(self.user_history.reshape(1,-1))\n",
    "        scores = np.add.reduce([dist * self.R[idx,:] for dist, idx in zip(distances,indices)])\n",
    "        \n",
    "        if self.greedy:\n",
    "            action = np.argmax(scores)\n",
    "            prob = np.zeros_like(scores)\n",
    "            prob[action] = 1.0\n",
    "        else:\n",
    "            scores **= self.alpha\n",
    "            prob = scores / np.sum(scores)\n",
    "            action = self.rng.choice(self.P, p = prob)\n",
    "\n",
    "        return {\n",
    "            **super().act(observation, reward, done),\n",
    "            **{\n",
    "                'a': action,\n",
    "                'ps': prob[action],\n",
    "                'ps-a': prob,\n",
    "            },\n",
    "        }\n",
    "\n",
    "    def reset(self):\n",
    "        self.user_history = np.zeros(P)"
   ]
  },
  {
   "cell_type": "markdown",
   "metadata": {
    "id": "0kLy35QC1HGX"
   },
   "source": [
    "#### Agent initializations"
   ]
  },
  {
   "cell_type": "code",
   "execution_count": null,
   "metadata": {
    "id": "qewN2myJ0Qvu"
   },
   "outputs": [],
   "source": [
    "# SVD Agent\n",
    "SVD_agent = SVDAgent(Configuration(env_1_args), U, P, 30)\n",
    "\n",
    "# item-kNN Agent\n",
    "itemkNN_agent = itemkNNAgent(Configuration(env_1_args), U, P, 500, greedy = True)\n",
    "\n",
    "# user-kNN Agent\n",
    "userkNN_agent = userkNNAgent(Configuration(env_1_args), U, P, 20, greedy = True)\n",
    "\n",
    "# Generalised Popularity agent\n",
    "GPOP_agent = OrganicCount(Configuration({\n",
    "    **env_1_args,\n",
    "    'select_randomly': True,\n",
    "}))\n",
    "\n",
    "# Generalised Popularity agent\n",
    "GPOP_agent_greedy = OrganicCount(Configuration({\n",
    "    **env_1_args,\n",
    "    'select_randomly': False,\n",
    "}))\n",
    "\n",
    "# Peronalised Popularity agent\n",
    "PPOP_agent = OrganicUserEventCounterAgent(Configuration({\n",
    "    **organic_user_count_args,\n",
    "    **env_1_args,\n",
    "    'select_randomly': True,\n",
    "}))\n",
    "\n",
    "# Peronalised Popularity agent\n",
    "PPOP_agent_greedy = OrganicUserEventCounterAgent(Configuration({\n",
    "    **organic_user_count_args,\n",
    "    **env_1_args,\n",
    "    'select_randomly': False,\n",
    "}))\n",
    "\n",
    "# Random Agent\n",
    "random_args['num_products'] = P\n",
    "RAND_agent = RandomAgent(Configuration({**env_1_args, **random_args,}))"
   ]
  },
  {
   "cell_type": "code",
   "execution_count": null,
   "metadata": {
    "id": "Hc9Lz8rU1HGX"
   },
   "outputs": [],
   "source": [
    "SVD_agent.train(reco_log)\n",
    "itemkNN_agent.train(reco_log)\n",
    "userkNN_agent.train(reco_log)"
   ]
  },
  {
   "cell_type": "markdown",
   "metadata": {
    "id": "Id-_OMd11HGY"
   },
   "source": [
    "### Offline evaluation"
   ]
  },
  {
   "cell_type": "markdown",
   "metadata": {
    "id": "BOp5wqai1HGY"
   },
   "source": [
    "#### Generating test logs"
   ]
  },
  {
   "cell_type": "code",
   "execution_count": null,
   "metadata": {
    "id": "DPJ3z7VT1HGY"
   },
   "outputs": [
    {
     "name": "stderr",
     "output_type": "stream",
     "text": [
      "Organic Users: 0it [00:00, ?it/s]\n",
      "Users: 100%|██████████| 50/50 [00:01<00:00, 39.77it/s]"
     ]
    },
    {
     "name": "stdout",
     "output_type": "stream",
     "text": [
      "Testing on 1033 organic and 4264 bandit events\n",
      "CPU times: user 1.29 s, sys: 75.4 ms, total: 1.36 s\n",
      "Wall time: 1.3 s\n"
     ]
    },
    {
     "name": "stderr",
     "output_type": "stream",
     "text": [
      "\n"
     ]
    }
   ],
   "source": [
    "%%time\n",
    "# Placeholder for agents\n",
    "agents = {\n",
    "    '    Random': RAND_agent,\n",
    "    '   Popular': GPOP_agent_greedy,\n",
    "    '   User-pop': PPOP_agent,\n",
    "    '  SVD':  SVD_agent,\n",
    "    ' User-kNN': userkNN_agent,\n",
    "    'Item-kNN': itemkNN_agent,\n",
    "}\n",
    "agent_ids = sorted(list(agents.keys()))#['SVD','GPOP','PPOP','RAND']\n",
    "# Generate new logs, to be used for offline testing\n",
    "n_test_users = 50 # U\n",
    "test_log = env.generate_logs(n_test_users)\n",
    "n_events = test_log.shape[0]\n",
    "n_organic = test_log.loc[test_log['z'] == 'organic'].shape[0]\n",
    "print('Testing on {0} organic and {1} bandit events'.format(n_organic, n_events - n_organic))"
   ]
  },
  {
   "cell_type": "markdown",
   "metadata": {
    "id": "GwLZ-uti1HGY"
   },
   "source": [
    "#### (Util) helper function to plot barchart"
   ]
  },
  {
   "cell_type": "code",
   "execution_count": null,
   "metadata": {
    "id": "d0AUPdVX1HGY"
   },
   "outputs": [],
   "source": [
    "def plot_barchart(result, title, xlabel,  col = 'tab:red', figname = 'fig.eps', size = (6,2), fontsize = 12):\n",
    "    fig, axes = plt.subplots(figsize = size)\n",
    "    plt.title(title, size = fontsize)\n",
    "    n_agents = len(result)\n",
    "    yticks = np.arange(n_agents)\n",
    "    mean = result['0.500']\n",
    "    lower = result['0.500'] - result['0.025']\n",
    "    upper = result['0.975'] - result['0.500']\n",
    "    plt.barh(yticks,\n",
    "             mean,\n",
    "             height = .25,\n",
    "             xerr  = (lower, upper),\n",
    "             align = 'center',\n",
    "             color = col,)\n",
    "    plt.yticks(yticks, result['Agent'], size = fontsize)\n",
    "    plt.xticks(size = fontsize)\n",
    "    plt.xlabel(xlabel, size = fontsize)\n",
    "    plt.xlim(.0,None)\n",
    "    plt.gca().xaxis.set_major_formatter(FormatStrFormatter('%.2f'))\n",
    "    plt.savefig(figname, bbox_inches = 'tight')\n",
    "    plt.show()"
   ]
  },
  {
   "cell_type": "markdown",
   "metadata": {
    "id": "qIvsDciw1HGZ"
   },
   "source": [
    "#### Leave-one-out evaluation"
   ]
  },
  {
   "cell_type": "code",
   "execution_count": null,
   "metadata": {
    "id": "S-Tb5_8U1HGZ"
   },
   "outputs": [
    {
     "name": "stderr",
     "output_type": "stream",
     "text": [
      "/usr/local/lib/python3.7/dist-packages/recogym/agents/organic_user_count.py:51: RuntimeWarning: invalid value encountered in true_divide\n",
      "  action_proba = features / np.sum(features)\n"
     ]
    },
    {
     "data": {
      "text/html": [
       "<div>\n",
       "<style scoped>\n",
       "    .dataframe tbody tr th:only-of-type {\n",
       "        vertical-align: middle;\n",
       "    }\n",
       "\n",
       "    .dataframe tbody tr th {\n",
       "        vertical-align: top;\n",
       "    }\n",
       "\n",
       "    .dataframe thead th {\n",
       "        text-align: right;\n",
       "    }\n",
       "</style>\n",
       "<table border=\"1\" class=\"dataframe\">\n",
       "  <thead>\n",
       "    <tr style=\"text-align: right;\">\n",
       "      <th></th>\n",
       "      <th>Agent</th>\n",
       "      <th>0.025</th>\n",
       "      <th>0.500</th>\n",
       "      <th>0.975</th>\n",
       "    </tr>\n",
       "  </thead>\n",
       "  <tbody>\n",
       "    <tr>\n",
       "      <th>0</th>\n",
       "      <td>Random</td>\n",
       "      <td>0.000000</td>\n",
       "      <td>0.000000</td>\n",
       "      <td>0.000000</td>\n",
       "    </tr>\n",
       "    <tr>\n",
       "      <th>1</th>\n",
       "      <td>Popular</td>\n",
       "      <td>0.000000</td>\n",
       "      <td>0.000000</td>\n",
       "      <td>0.000000</td>\n",
       "    </tr>\n",
       "    <tr>\n",
       "      <th>2</th>\n",
       "      <td>User-pop</td>\n",
       "      <td>0.000000</td>\n",
       "      <td>0.000000</td>\n",
       "      <td>0.000000</td>\n",
       "    </tr>\n",
       "    <tr>\n",
       "      <th>3</th>\n",
       "      <td>SVD</td>\n",
       "      <td>0.273181</td>\n",
       "      <td>0.314286</td>\n",
       "      <td>0.355390</td>\n",
       "    </tr>\n",
       "    <tr>\n",
       "      <th>4</th>\n",
       "      <td>User-kNN</td>\n",
       "      <td>0.080663</td>\n",
       "      <td>0.108163</td>\n",
       "      <td>0.135664</td>\n",
       "    </tr>\n",
       "    <tr>\n",
       "      <th>5</th>\n",
       "      <td>Item-kNN</td>\n",
       "      <td>0.261387</td>\n",
       "      <td>0.302041</td>\n",
       "      <td>0.342695</td>\n",
       "    </tr>\n",
       "  </tbody>\n",
       "</table>\n",
       "</div>"
      ],
      "text/plain": [
       "         Agent     0.025     0.500     0.975\n",
       "0       Random  0.000000  0.000000  0.000000\n",
       "1      Popular  0.000000  0.000000  0.000000\n",
       "2     User-pop  0.000000  0.000000  0.000000\n",
       "3          SVD  0.273181  0.314286  0.355390\n",
       "4     User-kNN  0.080663  0.108163  0.135664\n",
       "5     Item-kNN  0.261387  0.302041  0.342695"
      ]
     },
     "metadata": {
      "tags": []
     },
     "output_type": "display_data"
    },
    {
     "data": {
      "image/png": "[encoded data removed]",
      "text/plain": [
       "<Figure size 432x144 with 1 Axes>"
      ]
     },
     "metadata": {
      "filenames": {
       "image/png": "/content/reco-book/_build/jupyter_execute/nbs/T057885_Offline_Replayer_Evaluation_69_2.png"
      },
      "needs_background": "light",
      "tags": []
     },
     "output_type": "display_data"
    },
    {
     "name": "stdout",
     "output_type": "stream",
     "text": [
      "CPU times: user 1.5 s, sys: 61.4 ms, total: 1.56 s\n",
      "Wall time: 1.53 s\n"
     ]
    }
   ],
   "source": [
    "%%time\n",
    "result_LOO = verify_agents_traditional(test_log, deepcopy(agents))\n",
    "display(result_LOO)\n",
    "plot_barchart(result_LOO, 'Evaluate on Organic Feedback', 'HR@1', 'tab:red', 'traditional_eval.eps')"
   ]
  },
  {
   "cell_type": "markdown",
   "metadata": {
    "id": "nphVoJZL1HGZ"
   },
   "source": [
    "#### IPS Estimators"
   ]
  },
  {
   "cell_type": "code",
   "execution_count": null,
   "metadata": {
    "id": "1Bx73I5j1HGa"
   },
   "outputs": [
    {
     "name": "stderr",
     "output_type": "stream",
     "text": [
      "Organic Users: 0it [00:00, ?it/s]\n",
      "Users: 100%|██████████| 50/50 [00:01<00:00, 27.14it/s]\n"
     ]
    }
   ],
   "source": [
    "# Generate new logs, to be used for offline testing\n",
    "test_log_ppop = env.generate_logs(n_test_users, agent = deepcopy(PPOP_agent))"
   ]
  },
  {
   "cell_type": "code",
   "execution_count": null,
   "metadata": {
    "id": "7jtQTJOx1HGa"
   },
   "outputs": [
    {
     "data": {
      "text/html": [
       "<div>\n",
       "<style scoped>\n",
       "    .dataframe tbody tr th:only-of-type {\n",
       "        vertical-align: middle;\n",
       "    }\n",
       "\n",
       "    .dataframe tbody tr th {\n",
       "        vertical-align: top;\n",
       "    }\n",
       "\n",
       "    .dataframe thead th {\n",
       "        text-align: right;\n",
       "    }\n",
       "</style>\n",
       "<table border=\"1\" class=\"dataframe\">\n",
       "  <thead>\n",
       "    <tr style=\"text-align: right;\">\n",
       "      <th></th>\n",
       "      <th>t</th>\n",
       "      <th>u</th>\n",
       "      <th>z</th>\n",
       "      <th>v</th>\n",
       "      <th>a</th>\n",
       "      <th>c</th>\n",
       "      <th>ps</th>\n",
       "      <th>ps-a</th>\n",
       "    </tr>\n",
       "  </thead>\n",
       "  <tbody>\n",
       "    <tr>\n",
       "      <th>0</th>\n",
       "      <td>0.0</td>\n",
       "      <td>0</td>\n",
       "      <td>organic</td>\n",
       "      <td>7</td>\n",
       "      <td>&lt;NA&gt;</td>\n",
       "      <td>NaN</td>\n",
       "      <td>NaN</td>\n",
       "      <td>None</td>\n",
       "    </tr>\n",
       "    <tr>\n",
       "      <th>1</th>\n",
       "      <td>1.0</td>\n",
       "      <td>0</td>\n",
       "      <td>organic</td>\n",
       "      <td>9</td>\n",
       "      <td>&lt;NA&gt;</td>\n",
       "      <td>NaN</td>\n",
       "      <td>NaN</td>\n",
       "      <td>None</td>\n",
       "    </tr>\n",
       "    <tr>\n",
       "      <th>2</th>\n",
       "      <td>2.0</td>\n",
       "      <td>0</td>\n",
       "      <td>organic</td>\n",
       "      <td>7</td>\n",
       "      <td>&lt;NA&gt;</td>\n",
       "      <td>NaN</td>\n",
       "      <td>NaN</td>\n",
       "      <td>None</td>\n",
       "    </tr>\n",
       "    <tr>\n",
       "      <th>3</th>\n",
       "      <td>3.0</td>\n",
       "      <td>0</td>\n",
       "      <td>organic</td>\n",
       "      <td>20</td>\n",
       "      <td>&lt;NA&gt;</td>\n",
       "      <td>NaN</td>\n",
       "      <td>NaN</td>\n",
       "      <td>None</td>\n",
       "    </tr>\n",
       "    <tr>\n",
       "      <th>4</th>\n",
       "      <td>4.0</td>\n",
       "      <td>0</td>\n",
       "      <td>bandit</td>\n",
       "      <td>&lt;NA&gt;</td>\n",
       "      <td>20</td>\n",
       "      <td>0.0</td>\n",
       "      <td>0.25</td>\n",
       "      <td>()</td>\n",
       "    </tr>\n",
       "  </tbody>\n",
       "</table>\n",
       "</div>"
      ],
      "text/plain": [
       "     t  u        z     v     a    c    ps  ps-a\n",
       "0  0.0  0  organic     7  <NA>  NaN   NaN  None\n",
       "1  1.0  0  organic     9  <NA>  NaN   NaN  None\n",
       "2  2.0  0  organic     7  <NA>  NaN   NaN  None\n",
       "3  3.0  0  organic    20  <NA>  NaN   NaN  None\n",
       "4  4.0  0   bandit  <NA>    20  0.0  0.25    ()"
      ]
     },
     "execution_count": 51,
     "metadata": {
      "tags": []
     },
     "output_type": "execute_result"
    }
   ],
   "source": [
    "test_log_ppop.head()"
   ]
  },
  {
   "cell_type": "code",
   "execution_count": null,
   "metadata": {
    "id": "x7Ld6-eL1HGa"
   },
   "outputs": [
    {
     "name": "stderr",
     "output_type": "stream",
     "text": [
      "/usr/local/lib/python3.7/dist-packages/ipykernel_launcher.py:65: RuntimeWarning: invalid value encountered in double_scalars\n",
      "/usr/local/lib/python3.7/dist-packages/ipykernel_launcher.py:120: RuntimeWarning: invalid value encountered in double_scalars\n"
     ]
    },
    {
     "name": "stdout",
     "output_type": "stream",
     "text": [
      "Effective sample size for agent     Random is 0\n",
      "Effective sample size for agent    Popular is 0\n",
      "Effective sample size for agent    User-pop is 0\n",
      "Effective sample size for agent   SVD is 1120.7440758663975\n",
      "Effective sample size for agent  User-kNN is 298.0127276763118\n",
      "Effective sample size for agent Item-kNN is 889.7428242947079\n"
     ]
    },
    {
     "data": {
      "text/html": [
       "<div>\n",
       "<style scoped>\n",
       "    .dataframe tbody tr th:only-of-type {\n",
       "        vertical-align: middle;\n",
       "    }\n",
       "\n",
       "    .dataframe tbody tr th {\n",
       "        vertical-align: top;\n",
       "    }\n",
       "\n",
       "    .dataframe thead th {\n",
       "        text-align: right;\n",
       "    }\n",
       "</style>\n",
       "<table border=\"1\" class=\"dataframe\">\n",
       "  <thead>\n",
       "    <tr style=\"text-align: right;\">\n",
       "      <th></th>\n",
       "      <th>Agent</th>\n",
       "      <th>0.025</th>\n",
       "      <th>0.500</th>\n",
       "      <th>0.975</th>\n",
       "    </tr>\n",
       "  </thead>\n",
       "  <tbody>\n",
       "    <tr>\n",
       "      <th>0</th>\n",
       "      <td>Random</td>\n",
       "      <td>NaN</td>\n",
       "      <td>0.000000</td>\n",
       "      <td>NaN</td>\n",
       "    </tr>\n",
       "    <tr>\n",
       "      <th>1</th>\n",
       "      <td>Popular</td>\n",
       "      <td>NaN</td>\n",
       "      <td>0.000000</td>\n",
       "      <td>NaN</td>\n",
       "    </tr>\n",
       "    <tr>\n",
       "      <th>2</th>\n",
       "      <td>User-pop</td>\n",
       "      <td>NaN</td>\n",
       "      <td>0.000000</td>\n",
       "      <td>NaN</td>\n",
       "    </tr>\n",
       "    <tr>\n",
       "      <th>3</th>\n",
       "      <td>SVD</td>\n",
       "      <td>-0.010231</td>\n",
       "      <td>0.014218</td>\n",
       "      <td>0.038666</td>\n",
       "    </tr>\n",
       "    <tr>\n",
       "      <th>4</th>\n",
       "      <td>User-kNN</td>\n",
       "      <td>-0.024978</td>\n",
       "      <td>0.005388</td>\n",
       "      <td>0.035754</td>\n",
       "    </tr>\n",
       "    <tr>\n",
       "      <th>5</th>\n",
       "      <td>Item-kNN</td>\n",
       "      <td>-0.011787</td>\n",
       "      <td>0.011767</td>\n",
       "      <td>0.035322</td>\n",
       "    </tr>\n",
       "  </tbody>\n",
       "</table>\n",
       "</div>"
      ],
      "text/plain": [
       "         Agent     0.025     0.500     0.975\n",
       "0       Random       NaN  0.000000       NaN\n",
       "1      Popular       NaN  0.000000       NaN\n",
       "2     User-pop       NaN  0.000000       NaN\n",
       "3          SVD -0.010231  0.014218  0.038666\n",
       "4     User-kNN -0.024978  0.005388  0.035754\n",
       "5     Item-kNN -0.011787  0.011767  0.035322"
      ]
     },
     "metadata": {
      "tags": []
     },
     "output_type": "display_data"
    },
    {
     "data": {
      "image/png": "[encoded data removed]",
      "text/plain": [
       "<Figure size 432x144 with 1 Axes>"
      ]
     },
     "metadata": {
      "filenames": {
       "image/png": "/content/reco-book/_build/jupyter_execute/nbs/T057885_Offline_Replayer_Evaluation_73_3.png"
      },
      "needs_background": "light",
      "tags": []
     },
     "output_type": "display_data"
    },
    {
     "data": {
      "text/html": [
       "<div>\n",
       "<style scoped>\n",
       "    .dataframe tbody tr th:only-of-type {\n",
       "        vertical-align: middle;\n",
       "    }\n",
       "\n",
       "    .dataframe tbody tr th {\n",
       "        vertical-align: top;\n",
       "    }\n",
       "\n",
       "    .dataframe thead th {\n",
       "        text-align: right;\n",
       "    }\n",
       "</style>\n",
       "<table border=\"1\" class=\"dataframe\">\n",
       "  <thead>\n",
       "    <tr style=\"text-align: right;\">\n",
       "      <th></th>\n",
       "      <th>Agent</th>\n",
       "      <th>0.025</th>\n",
       "      <th>0.500</th>\n",
       "      <th>0.975</th>\n",
       "    </tr>\n",
       "  </thead>\n",
       "  <tbody>\n",
       "    <tr>\n",
       "      <th>0</th>\n",
       "      <td>Random</td>\n",
       "      <td>NaN</td>\n",
       "      <td>0.000000</td>\n",
       "      <td>NaN</td>\n",
       "    </tr>\n",
       "    <tr>\n",
       "      <th>1</th>\n",
       "      <td>Popular</td>\n",
       "      <td>NaN</td>\n",
       "      <td>0.000000</td>\n",
       "      <td>NaN</td>\n",
       "    </tr>\n",
       "    <tr>\n",
       "      <th>2</th>\n",
       "      <td>User-pop</td>\n",
       "      <td>NaN</td>\n",
       "      <td>0.000000</td>\n",
       "      <td>NaN</td>\n",
       "    </tr>\n",
       "    <tr>\n",
       "      <th>3</th>\n",
       "      <td>SVD</td>\n",
       "      <td>-0.010231</td>\n",
       "      <td>0.014218</td>\n",
       "      <td>0.038666</td>\n",
       "    </tr>\n",
       "    <tr>\n",
       "      <th>4</th>\n",
       "      <td>User-kNN</td>\n",
       "      <td>-0.024978</td>\n",
       "      <td>0.005388</td>\n",
       "      <td>0.035754</td>\n",
       "    </tr>\n",
       "    <tr>\n",
       "      <th>5</th>\n",
       "      <td>Item-kNN</td>\n",
       "      <td>-0.011787</td>\n",
       "      <td>0.011767</td>\n",
       "      <td>0.035322</td>\n",
       "    </tr>\n",
       "  </tbody>\n",
       "</table>\n",
       "</div>"
      ],
      "text/plain": [
       "         Agent     0.025     0.500     0.975\n",
       "0       Random       NaN  0.000000       NaN\n",
       "1      Popular       NaN  0.000000       NaN\n",
       "2     User-pop       NaN  0.000000       NaN\n",
       "3          SVD -0.010231  0.014218  0.038666\n",
       "4     User-kNN -0.024978  0.005388  0.035754\n",
       "5     Item-kNN -0.011787  0.011767  0.035322"
      ]
     },
     "metadata": {
      "tags": []
     },
     "output_type": "display_data"
    },
    {
     "data": {
      "image/png": "[encoded data removed]",
      "text/plain": [
       "<Figure size 432x144 with 1 Axes>"
      ]
     },
     "metadata": {
      "filenames": {
       "image/png": "/content/reco-book/_build/jupyter_execute/nbs/T057885_Offline_Replayer_Evaluation_73_5.png"
      },
      "needs_background": "light",
      "tags": []
     },
     "output_type": "display_data"
    },
    {
     "name": "stdout",
     "output_type": "stream",
     "text": [
      "CPU times: user 5.97 s, sys: 120 ms, total: 6.09 s\n",
      "Wall time: 6.03 s\n"
     ]
    }
   ],
   "source": [
    "%%time\n",
    "cap = 15\n",
    "result_IPS, result_CIPS, result_SNIPS = verify_agents_counterfactual(test_log_ppop, deepcopy(agents), cap = cap)\n",
    "display(result_IPS)\n",
    "plot_barchart(result_IPS, 'IPS', 'CTR', 'tab:blue', 'bandit_eval_noclip.eps')\n",
    "display(result_CIPS)\n",
    "plot_barchart(result_CIPS, 'Clipped IPS', 'CTR', 'tab:blue', 'bandit_eval_clip{0}.eps'.format(cap))"
   ]
  },
  {
   "cell_type": "markdown",
   "metadata": {
    "id": "uJYByb3G1HGa"
   },
   "source": [
    "#### A/B tests"
   ]
  },
  {
   "cell_type": "code",
   "execution_count": null,
   "metadata": {
    "id": "Pvc_5gPg0HA3"
   },
   "outputs": [],
   "source": [
    "n_test_users = 50 # U\n",
    "\n",
    "agents = {\n",
    "    '    Random': RAND_agent,\n",
    "    '   Popular': GPOP_agent_greedy,\n",
    "    '   User-pop': PPOP_agent,\n",
    "    '  SVD':  SVD_agent,\n",
    "    ' User-kNN': userkNN_agent,\n",
    "    'Item-kNN': itemkNN_agent,\n",
    "}"
   ]
  },
  {
   "cell_type": "code",
   "execution_count": null,
   "metadata": {
    "id": "Dligbuda1HGb"
   },
   "outputs": [
    {
     "name": "stderr",
     "output_type": "stream",
     "text": [
      "Organic Users: 0it [00:00, ?it/s]\n",
      "Users: 100%|██████████| 50/50 [00:01<00:00, 36.23it/s]\n",
      "Organic Users: 0it [00:00, ?it/s]\n",
      "Users: 100%|██████████| 50/50 [00:01<00:00, 41.71it/s]\n",
      "Organic Users: 0it [00:00, ?it/s]\n",
      "Users: 100%|██████████| 50/50 [00:01<00:00, 28.04it/s]\n",
      "Organic Users: 0it [00:00, ?it/s]\n",
      "Users: 100%|██████████| 50/50 [00:01<00:00, 35.95it/s]\n",
      "Organic Users: 0it [00:00, ?it/s]\n",
      "Users: 100%|██████████| 50/50 [00:06<00:00,  7.86it/s]\n",
      "Organic Users: 0it [00:00, ?it/s]\n",
      "Users: 100%|██████████| 50/50 [00:01<00:00, 33.91it/s]\n"
     ]
    },
    {
     "data": {
      "text/html": [
       "<div>\n",
       "<style scoped>\n",
       "    .dataframe tbody tr th:only-of-type {\n",
       "        vertical-align: middle;\n",
       "    }\n",
       "\n",
       "    .dataframe tbody tr th {\n",
       "        vertical-align: top;\n",
       "    }\n",
       "\n",
       "    .dataframe thead th {\n",
       "        text-align: right;\n",
       "    }\n",
       "</style>\n",
       "<table border=\"1\" class=\"dataframe\">\n",
       "  <thead>\n",
       "    <tr style=\"text-align: right;\">\n",
       "      <th></th>\n",
       "      <th>Agent</th>\n",
       "      <th>0.025</th>\n",
       "      <th>0.500</th>\n",
       "      <th>0.975</th>\n",
       "    </tr>\n",
       "  </thead>\n",
       "  <tbody>\n",
       "    <tr>\n",
       "      <th>0</th>\n",
       "      <td>Random</td>\n",
       "      <td>0.007624</td>\n",
       "      <td>0.010324</td>\n",
       "      <td>0.013590</td>\n",
       "    </tr>\n",
       "    <tr>\n",
       "      <th>1</th>\n",
       "      <td>Popular</td>\n",
       "      <td>0.008203</td>\n",
       "      <td>0.010997</td>\n",
       "      <td>0.014357</td>\n",
       "    </tr>\n",
       "    <tr>\n",
       "      <th>2</th>\n",
       "      <td>User-pop</td>\n",
       "      <td>0.011879</td>\n",
       "      <td>0.015227</td>\n",
       "      <td>0.019140</td>\n",
       "    </tr>\n",
       "    <tr>\n",
       "      <th>3</th>\n",
       "      <td>SVD</td>\n",
       "      <td>0.012572</td>\n",
       "      <td>0.015994</td>\n",
       "      <td>0.019976</td>\n",
       "    </tr>\n",
       "    <tr>\n",
       "      <th>4</th>\n",
       "      <td>User-kNN</td>\n",
       "      <td>0.011999</td>\n",
       "      <td>0.015350</td>\n",
       "      <td>0.019263</td>\n",
       "    </tr>\n",
       "    <tr>\n",
       "      <th>5</th>\n",
       "      <td>Item-kNN</td>\n",
       "      <td>0.012174</td>\n",
       "      <td>0.015545</td>\n",
       "      <td>0.019477</td>\n",
       "    </tr>\n",
       "  </tbody>\n",
       "</table>\n",
       "</div>"
      ],
      "text/plain": [
       "         Agent     0.025     0.500     0.975\n",
       "0       Random  0.007624  0.010324  0.013590\n",
       "1      Popular  0.008203  0.010997  0.014357\n",
       "2     User-pop  0.011879  0.015227  0.019140\n",
       "3          SVD  0.012572  0.015994  0.019976\n",
       "4     User-kNN  0.011999  0.015350  0.019263\n",
       "5     Item-kNN  0.012174  0.015545  0.019477"
      ]
     },
     "metadata": {
      "tags": []
     },
     "output_type": "display_data"
    },
    {
     "data": {
      "image/png": "[encoded data removed]",
      "text/plain": [
       "<Figure size 432x144 with 1 Axes>"
      ]
     },
     "metadata": {
      "filenames": {
       "image/png": "/content/reco-book/_build/jupyter_execute/nbs/T057885_Offline_Replayer_Evaluation_76_2.png"
      },
      "needs_background": "light",
      "tags": []
     },
     "output_type": "display_data"
    },
    {
     "name": "stdout",
     "output_type": "stream",
     "text": [
      "CPU times: user 14 s, sys: 445 ms, total: 14.4 s\n",
      "Wall time: 14.1 s\n"
     ]
    }
   ],
   "source": [
    "%%time\n",
    "result_AB = verify_agents(env, n_test_users, deepcopy(agents))\n",
    "display(result_AB)\n",
    "plot_barchart(result_AB, 'A/B-test', 'CTR', 'tab:green', 'ABtest_eval.eps')"
   ]
  },
  {
   "cell_type": "code",
   "execution_count": null,
   "metadata": {
    "id": "WAIpUZaL1HGb"
   },
   "outputs": [
    {
     "name": "stderr",
     "output_type": "stream",
     "text": [
      "The PostScript backend does not support transparency; partially transparent artists will be rendered opaque.\n",
      "The PostScript backend does not support transparency; partially transparent artists will be rendered opaque.\n"
     ]
    },
    {
     "data": {
      "image/png": "[encoded data removed]",
      "text/plain": [
       "<Figure size 720x576 with 1 Axes>"
      ]
     },
     "metadata": {
      "filenames": {
       "image/png": "/content/reco-book/_build/jupyter_execute/nbs/T057885_Offline_Replayer_Evaluation_77_1.png"
      },
      "needs_background": "light",
      "tags": []
     },
     "output_type": "display_data"
    }
   ],
   "source": [
    "def combine_barchart(resultAB, resultCIPS, title, xlabel,  figname = 'fig.eps', size = (10,8), fontsize = 12):\n",
    "    fig, axes = plt.subplots(figsize = size)\n",
    "    plt.title(title, size = fontsize)\n",
    "    n_agents = len(resultAB)\n",
    "    \n",
    "    for i, (name, colour, result) in enumerate([('A/B-test', 'tab:green', result_AB),('CIPS', 'tab:blue', result_CIPS)]):\n",
    "        mean = result['0.500']\n",
    "        lower = result['0.500'] - result['0.025']\n",
    "        upper = result['0.975'] - result['0.500']\n",
    "        height = .25\n",
    "        yticks = [a + i * height for a in range(n_agents)]\n",
    "        plt.barh(yticks,\n",
    "                 mean,\n",
    "                 height = height,\n",
    "                 xerr  = (lower, upper),\n",
    "                 align = 'edge',\n",
    "                 label = name,\n",
    "                 color = colour)\n",
    "    plt.yticks(yticks, result['Agent'], size = fontsize)\n",
    "    plt.xticks(size = fontsize)\n",
    "    plt.xlabel(xlabel, size = fontsize)\n",
    "    plt.legend(loc = 'lower right')\n",
    "    plt.xlim(.0,None)\n",
    "    plt.gca().xaxis.set_major_formatter(FormatStrFormatter('%.3f'))\n",
    "    plt.savefig(figname, bbox_inches = 'tight')\n",
    "    plt.show()\n",
    "combine_barchart(result_AB, result_CIPS, 'Evaluate on Bandit Feedback', 'CTR', 'ABtest_CIPS.eps')"
   ]
  },
  {
   "cell_type": "code",
   "execution_count": null,
   "metadata": {
    "id": "3NrHcNsH1HGc"
   },
   "outputs": [
    {
     "data": {
      "image/png": "[encoded data removed]",
      "text/plain": [
       "<Figure size 432x144 with 1 Axes>"
      ]
     },
     "metadata": {
      "filenames": {
       "image/png": "/content/reco-book/_build/jupyter_execute/nbs/T057885_Offline_Replayer_Evaluation_78_0.png"
      },
      "needs_background": "light",
      "tags": []
     },
     "output_type": "display_data"
    }
   ],
   "source": [
    "plot_barchart(result_LOO, 'Evaluate on Organic Feedback', 'HR@1', 'tab:red', 'traditional_eval.eps')"
   ]
  },
  {
   "cell_type": "markdown",
   "metadata": {
    "id": "3HeVoTaYAS4t"
   },
   "source": [
    "## Amazon electronics dataset\n",
    "> Running bandit models on amazon electronics ratings dataset for offline evaluation"
   ]
  },
  {
   "cell_type": "markdown",
   "metadata": {
    "id": "v53K41Shvhfg"
   },
   "source": [
    "### Libraries"
   ]
  },
  {
   "cell_type": "code",
   "execution_count": null,
   "metadata": {
    "id": "WLK0DJZcupDr"
   },
   "outputs": [],
   "source": [
    "import os\n",
    "import sys\n",
    "import time\n",
    "import json\n",
    "import datetime\n",
    "import logging\n",
    "import numpy as np\n",
    "import pandas as pd\n",
    "\n",
    "%matplotlib inline\n",
    "from matplotlib import pyplot as plt\n",
    "import seaborn as sns"
   ]
  },
  {
   "cell_type": "markdown",
   "metadata": {
    "id": "K1amYK0DvgB0"
   },
   "source": [
    "### Data"
   ]
  },
  {
   "cell_type": "code",
   "execution_count": null,
   "metadata": {
    "id": "VZigff4OuxEG"
   },
   "outputs": [],
   "source": [
    "!pip install -q -U kaggle\n",
    "!pip install --upgrade --force-reinstall --no-deps kaggle\n",
    "!mkdir ~/.kaggle\n",
    "!cp /content/drive/MyDrive/kaggle.json ~/.kaggle/\n",
    "!chmod 600 ~/.kaggle/kaggle.json\n",
    "\n",
    "!kaggle datasets download -d saurav9786/amazon-product-reviews"
   ]
  },
  {
   "cell_type": "code",
   "execution_count": null,
   "metadata": {
    "id": "6Tc5v-8-vB4v"
   },
   "outputs": [
    {
     "name": "stdout",
     "output_type": "stream",
     "text": [
      "Archive:  amazon-product-reviews.zip\n",
      "  inflating: ratings_Electronics (1).csv  \n"
     ]
    }
   ],
   "source": [
    "!unzip amazon-product-reviews.zip"
   ]
  },
  {
   "cell_type": "markdown",
   "metadata": {
    "id": "-eEwXE-qvd-V"
   },
   "source": [
    "### Utils"
   ]
  },
  {
   "cell_type": "code",
   "execution_count": null,
   "metadata": {
    "id": "338aGTt4vogR"
   },
   "outputs": [
    {
     "name": "stdout",
     "output_type": "stream",
     "text": [
      "created folder :  ./output//2021-06-16 21:35:53.937354\n"
     ]
    }
   ],
   "source": [
    "# getting the current system time\n",
    "current_time = datetime.datetime.now().strftime(\"%Y-%m-%d__%H.%M\")\n",
    "\n",
    "# run folder which will be unique always\n",
    "run_folder = str(datetime.datetime.now())\n",
    "\n",
    "# temprary folder location to export the results\n",
    "temp_folder = \"./output/\"\n",
    "\n",
    "# target folder to export all the result\n",
    "target_dir = temp_folder + '/' + run_folder\n",
    "\n",
    "# checking if the temp folder exists. Create one if not\n",
    "check_folder = os.path.isdir(target_dir)\n",
    "if not check_folder:\n",
    "    os.makedirs(target_dir)\n",
    "    print(\"created folder : \", target_dir)\n",
    "\n",
    "# latency dictionary to hold execution time\n",
    "latency = dict()\n",
    "\n",
    "# removing any existing log files if present\n",
    "if os.path.exists(target_dir + '/main.log'):\n",
    "    os.remove(target_dir+ '/main.log')"
   ]
  },
  {
   "cell_type": "code",
   "execution_count": null,
   "metadata": {
    "id": "PbJWoiO_vJAF"
   },
   "outputs": [],
   "source": [
    "def get_loggers(temp_path):\n",
    "  # name the logger as HPC-AI skunkworks\n",
    "  logger = logging.getLogger(\"Multi-Arm-Bandit\")\n",
    "  logger.setLevel(logging.INFO)\n",
    "  # file where the custom logs needs to be handled\n",
    "  f_hand = logging.FileHandler(temp_path + '/.log')\n",
    "  f_hand.setLevel(logging.INFO)  # level to set for logging the errors\n",
    "  f_format = logging.Formatter('%(asctime)s : %(levelname)s : %(message)s',\n",
    "                                datefmt='%d-%b-%y %H:%M:%S')\n",
    "  # format in which the logs needs to be written\n",
    "  f_hand.setFormatter(f_format)  # setting the format of the logs\n",
    "  # setting the logging handler with the above formatter specification\n",
    "  logger.addHandler(f_hand)\n",
    "\n",
    "  stdout_handler = logging.StreamHandler()\n",
    "  stdout_handler.setFormatter(f_format)\n",
    "  logger.addHandler(stdout_handler)\n",
    "\n",
    "  return logger"
   ]
  },
  {
   "cell_type": "code",
   "execution_count": null,
   "metadata": {
    "id": "bEI_GvmfwIu_"
   },
   "outputs": [],
   "source": [
    "# get custom logger\n",
    "logger = get_loggers(target_dir)"
   ]
  },
  {
   "cell_type": "code",
   "execution_count": null,
   "metadata": {
    "id": "aiOBkuZb1B4i"
   },
   "outputs": [],
   "source": [
    "def export_to_json(dictionary, file_name):\n",
    "  try:\n",
    "    start = time.time()\n",
    "    json_data = json.dumps(dictionary, indent=4)\n",
    "    file = open(file_name, 'w')\n",
    "    print(json_data, file=file)\n",
    "    # updating into json\n",
    "    file.close()\n",
    "    stop = time.time()\n",
    "    latency['export_to_json_'] = stop - start\n",
    "    logger.info('Data exported to JSON successfully!')\n",
    "  except Exception as e:\n",
    "    logger.exception(e)\n",
    "    sys.exit(1)"
   ]
  },
  {
   "cell_type": "markdown",
   "metadata": {
    "id": "6e3Xp5i5wvDc"
   },
   "source": [
    "### Defining agents"
   ]
  },
  {
   "cell_type": "code",
   "execution_count": null,
   "metadata": {
    "id": "RSoF3yi61hb1"
   },
   "outputs": [],
   "source": [
    "'''\n",
    "\n",
    "Author - Abhishek Maheshwarappa and Jiaxin Tong\n",
    "\n",
    "This script is used for simulating AB testing simulator\n",
    "\n",
    "'''\n",
    "\n",
    "import numpy as np\n",
    "from tqdm import tqdm\n",
    "\n",
    "\n",
    "class ABTestReplayer():\n",
    "    '''\n",
    "    A class to provide functionality for simulating the method on an A/B test.\n",
    "    '''\n",
    "    \n",
    "    def __init__(self, n_visits, n_test_visits, reward_history, item_col_name, visitor_col_name, reward_col_name, n_iterations=1):\n",
    "        \n",
    "        self.reward_history = reward_history\n",
    "        self.item_col_name = item_col_name\n",
    "        self.visitor_col_name = visitor_col_name\n",
    "        self.reward_col_name = reward_col_name\n",
    "\n",
    "        # number of runs to average over\n",
    "        self.n_iterations = n_iterations\n",
    "\n",
    "        \n",
    "        # TODO: validate that n_test_visits <= n_visits\n",
    "    \n",
    "        self.n_test_visits = n_test_visits\n",
    "\n",
    "        # number of visits to replay/simulate\n",
    "        self.n_visits = n_visits\n",
    "\n",
    "        # items under test\n",
    "        self.items = self.reward_history[self.item_col_name].unique()\n",
    "        self.n_items = len(self.items)\n",
    "        \n",
    "        # visitors in the historical reward_history (e.g., from ratings df)\n",
    "        self.visitors = self.reward_history[self.visitor_col_name].unique()\n",
    "        self.n_visitors = len(self.visitors)\n",
    "        \n",
    "        self.is_testing = True\n",
    "        self.best_item_id = None\n",
    "        \n",
    "    def reset(self):\n",
    "        # number of times each item has been sampled (previously n_sampled)\n",
    "        self.n_item_samples = np.zeros(self.n_items)\n",
    "        \n",
    "        # fraction of time each item has resulted in a reward (previously movie_clicks)\n",
    "        self.n_item_rewards = np.zeros(self.n_items)\n",
    "        \n",
    "        self.is_testing = True\n",
    "        self.best_item_idx = None\n",
    "    \n",
    "    def select_item(self):\n",
    "        if self.is_testing:\n",
    "            return np.random.randint(self.n_items)\n",
    "        else:\n",
    "            return self.best_item_idx\n",
    "            \n",
    "    def record_result(self, visit, item_idx, reward):\n",
    "    \n",
    "        self.n_item_samples[item_idx] += 1\n",
    "        \n",
    "        alpha = 1./self.n_item_samples[item_idx]\n",
    "\n",
    "        self.n_item_rewards[item_idx] += alpha * (reward - self.n_item_rewards[item_idx])\n",
    "        \n",
    "        if (visit == self.n_test_visits - 1): # this was the last visit during the testing phase\n",
    "            \n",
    "            self.is_testing = False\n",
    "            self.best_item_idx = np.argmax(self.n_item_rewards)\n",
    "\n",
    "    def simulator(self):\n",
    "    \n",
    "        results = []\n",
    "\n",
    "        for iteration in tqdm(range(0, self.n_iterations)):\n",
    "        \n",
    "            self.reset()\n",
    "            \n",
    "            total_rewards = 0\n",
    "            fraction_relevant = np.zeros(self.n_visits)\n",
    "\n",
    "            for visit in range(0, self.n_visits):\n",
    "            \n",
    "                found_match = False\n",
    "                while not found_match:\n",
    "                \n",
    "                    # choose a random visitor\n",
    "                    visitor_idx = np.random.randint(self.n_visitors)\n",
    "                    visitor_id = self.visitors[visitor_idx]\n",
    "\n",
    "                    # select an item to offer the visitor\n",
    "                    item_idx = self.select_item()\n",
    "                    item_id = self.items[item_idx]\n",
    "                    \n",
    "                    # if this interaction exists in the history, count it\n",
    "                    reward = self.reward_history.query(\n",
    "                        '{} == @item_id and {} == @visitor_id'.format(self.item_col_name, self.visitor_col_name))[self.reward_col_name]\n",
    "                    \n",
    "                    found_match = reward.shape[0] > 0\n",
    "                \n",
    "                reward_value = reward.iloc[0]\n",
    "                \n",
    "                self.record_result(visit, item_idx, reward_value)\n",
    "                \n",
    "                # record metrics\n",
    "                total_rewards += reward_value\n",
    "                fraction_relevant[visit] = total_rewards * 1. / (visit + 1)\n",
    "                \n",
    "                result = {}\n",
    "                result['iteration'] = iteration\n",
    "                result['visit'] = visit\n",
    "                result['item_id'] = item_id\n",
    "                result['visitor_id'] = visitor_id\n",
    "                result['reward'] = reward_value\n",
    "                result['total_reward'] = total_rewards\n",
    "                result['fraction_relevant'] = total_rewards * 1. / (visit + 1)\n",
    "                \n",
    "                results.append(result)\n",
    "        \n",
    "        return results"
   ]
  },
  {
   "cell_type": "code",
   "execution_count": null,
   "metadata": {
    "id": "Tv1vSiD81hZR"
   },
   "outputs": [],
   "source": [
    "'''\n",
    "\n",
    "Author - Abhishek Maheshwarappa and Jiaxin Tong\n",
    "\n",
    "'''\n",
    "\n",
    "import numpy as np\n",
    "from tqdm import tqdm\n",
    "\n",
    "class EpsilonGreedyReplayer():\n",
    "    '''\n",
    "    A class to provide functionality for simulating the replayer method on an epsilon-Greedy bandit algorithm.\n",
    "    '''\n",
    "\n",
    "    def __init__(self, epsilon, n_visits, reward_history, item_col_name, visitor_col_name, reward_col_name, n_iterations=1):\n",
    "        \n",
    "        self.reward_history = reward_history\n",
    "        self.item_col_name = item_col_name\n",
    "        self.visitor_col_name = visitor_col_name\n",
    "        self.reward_col_name = reward_col_name\n",
    "\n",
    "        # number of runs to average over\n",
    "        self.n_iterations = n_iterations\n",
    "    \n",
    "        # parameter to control exploration vs exploitation\n",
    "        self.epsilon = epsilon\n",
    "\n",
    "        # number of visits to replay/simulate\n",
    "        self.n_visits = n_visits\n",
    "\n",
    "        # items under test\n",
    "        self.items = self.reward_history[self.item_col_name].unique()\n",
    "        self.n_items = len(self.items)\n",
    "        \n",
    "        # visitors in the historical reward_history (e.g., from ratings df)\n",
    "        self.visitors = self.reward_history[self.visitor_col_name].unique()\n",
    "        self.n_visitors = len(self.visitors)\n",
    "        \n",
    "        self.is_testing = True\n",
    "        self.best_item_id = None\n",
    "    \n",
    "    def select_item(self):\n",
    "        \n",
    "        # decide to explore or exploit\n",
    "        if np.random.uniform() < self.epsilon: # explore\n",
    "            item_id = np.random.randint(self.n_items)\n",
    "            \n",
    "        else: # exploit\n",
    "            item_id = np.argmax(self.n_item_rewards)\n",
    "            \n",
    "        return item_id\n",
    "    \n",
    "    def reset(self):\n",
    "        # number of times each item has been sampled (previously n_sampled)\n",
    "        self.n_item_samples = np.zeros(self.n_items)\n",
    "        \n",
    "        # fraction of time each item has resulted in a reward (previously movie_clicks)\n",
    "        self.n_item_rewards = np.zeros(self.n_items)\n",
    "\n",
    "    def record_result(self, visit, item_idx, reward):\n",
    "    \n",
    "        self.n_item_samples[item_idx] += 1\n",
    "        \n",
    "        alpha = 1./self.n_item_samples[item_idx]\n",
    "        self.n_item_rewards[item_idx] += alpha * (reward - self.n_item_rewards[item_idx])\n",
    "\n",
    "    \n",
    "    def simulator(self):\n",
    "\n",
    "        results = []\n",
    "\n",
    "        for iteration in tqdm(range(0, self.n_iterations)):\n",
    "        \n",
    "            self.reset()\n",
    "            \n",
    "            total_rewards = 0\n",
    "            fraction_relevant = np.zeros(self.n_visits)\n",
    "\n",
    "            for visit in range(0, self.n_visits):\n",
    "            \n",
    "                found_match = False\n",
    "                while not found_match:\n",
    "                \n",
    "                    # choose a random visitor\n",
    "                    visitor_idx = np.random.randint(self.n_visitors)\n",
    "                    visitor_id = self.visitors[visitor_idx]\n",
    "\n",
    "                    # select an item to offer the visitor\n",
    "                    item_idx = self.select_item()\n",
    "                    item_id = self.items[item_idx]\n",
    "                    \n",
    "                    # if this interaction exists in the history, count it\n",
    "                    reward = self.reward_history.query(\n",
    "                        '{} == @item_id and {} == @visitor_id'.format(self.item_col_name, self.visitor_col_name))[self.reward_col_name]\n",
    "                    \n",
    "                    found_match = reward.shape[0] > 0\n",
    "                \n",
    "                reward_value = reward.iloc[0]\n",
    "                \n",
    "                self.record_result(visit, item_idx, reward_value)\n",
    "                \n",
    "                # record metrics\n",
    "                total_rewards += reward_value\n",
    "                fraction_relevant[visit] = total_rewards * 1. / (visit + 1)\n",
    "                \n",
    "                result = {}\n",
    "                result['iteration'] = iteration\n",
    "                result['visit'] = visit\n",
    "                result['item_id'] = item_id\n",
    "                result['visitor_id'] = visitor_id\n",
    "                result['reward'] = reward_value\n",
    "                result['total_reward'] = total_rewards\n",
    "                result['fraction_relevant'] = total_rewards * 1. / (visit + 1)\n",
    "                \n",
    "                results.append(result)\n",
    "        \n",
    "        return results"
   ]
  },
  {
   "cell_type": "code",
   "execution_count": null,
   "metadata": {
    "id": "NSCPqsbS1hWx"
   },
   "outputs": [],
   "source": [
    "'''\n",
    "\n",
    "Author - Abhishek Maheshwarappa and Jiaxin Tong\n",
    "\n",
    "'''\n",
    "\n",
    "import numpy as np\n",
    "from tqdm import tqdm\n",
    "\n",
    "class ThompsonSamplingReplayer():\n",
    "    '''\n",
    "    A class to provide functionality for simulating the replayer method on a Thompson Sampling bandit algorithm\n",
    "\n",
    "    '''\n",
    "\n",
    "    def __init__(self, n_visits, reward_history, item_col_name, visitor_col_name, reward_col_name, n_iterations=1):\n",
    "        \n",
    "        self.reward_history = reward_history\n",
    "        self.item_col_name = item_col_name\n",
    "        self.visitor_col_name = visitor_col_name\n",
    "        self.reward_col_name = reward_col_name\n",
    "\n",
    "        # number of runs to average over\n",
    "        self.n_iterations = n_iterations\n",
    "    \n",
    "\n",
    "\n",
    "        # number of visits to replay/simulate\n",
    "        self.n_visits = n_visits\n",
    "\n",
    "        # items under test\n",
    "        self.items = self.reward_history[self.item_col_name].unique()\n",
    "        self.n_items = len(self.items)\n",
    "        \n",
    "        # visitors in the historical reward_history (e.g., from ratings df)\n",
    "        self.visitors = self.reward_history[self.visitor_col_name].unique()\n",
    "        self.n_visitors = len(self.visitors)\n",
    "        \n",
    "        self.is_testing = True\n",
    "        self.best_item_id = None\n",
    "\n",
    "    def reset(self):\n",
    "        self.alphas = np.ones(self.n_items)\n",
    "        self.betas = np.ones(self.n_items)\n",
    "\n",
    "    def select_item(self):\n",
    "    \n",
    "        samples = [np.random.beta(a,b) for a,b in zip(self.alphas, self.betas)]\n",
    "        \n",
    "        return np.argmax(samples)\n",
    "\n",
    "    def record_result(self, visit, item_idx, reward):\n",
    "        \n",
    "        # update value estimate\n",
    "        if reward == 1:\n",
    "            self.alphas[item_idx] += 1\n",
    "        else:\n",
    "            self.betas[item_idx] += 1\n",
    "\n",
    "\n",
    "\n",
    "    def simulator(self):\n",
    "\n",
    "        results = []\n",
    "\n",
    "        for iteration in tqdm(range(0, self.n_iterations)):\n",
    "        \n",
    "            self.reset()\n",
    "            \n",
    "            total_rewards = 0\n",
    "            fraction_relevant = np.zeros(self.n_visits)\n",
    "\n",
    "            for visit in range(0, self.n_visits):\n",
    "            \n",
    "                found_match = False\n",
    "                while not found_match:\n",
    "                \n",
    "                    # choose a random visitor\n",
    "                    visitor_idx = np.random.randint(self.n_visitors)\n",
    "                    visitor_id = self.visitors[visitor_idx]\n",
    "\n",
    "                    # select an item to offer the visitor\n",
    "                    item_idx = self.select_item()\n",
    "                    item_id = self.items[item_idx]\n",
    "                    \n",
    "                    # if this interaction exists in the history, count it\n",
    "                    reward = self.reward_history.query(\n",
    "                        '{} == @item_id and {} == @visitor_id'.format(self.item_col_name, self.visitor_col_name))[self.reward_col_name]\n",
    "                    \n",
    "                    found_match = reward.shape[0] > 0\n",
    "                \n",
    "                reward_value = reward.iloc[0]\n",
    "                \n",
    "                self.record_result(visit, item_idx, reward_value)\n",
    "                \n",
    "                # record metrics\n",
    "                total_rewards += reward_value\n",
    "                fraction_relevant[visit] = total_rewards * 1. / (visit + 1)\n",
    "                \n",
    "                result = {}\n",
    "                result['iteration'] = iteration\n",
    "                result['visit'] = visit\n",
    "                result['item_id'] = item_id\n",
    "                result['visitor_id'] = visitor_id\n",
    "                result['reward'] = reward_value\n",
    "                result['total_reward'] = total_rewards\n",
    "                result['fraction_relevant'] = total_rewards * 1. / (visit + 1)\n",
    "                \n",
    "                results.append(result)\n",
    "        \n",
    "        return results"
   ]
  },
  {
   "cell_type": "code",
   "execution_count": null,
   "metadata": {
    "id": "aH5VPlaX1hT8"
   },
   "outputs": [],
   "source": [
    "'''\n",
    "\n",
    "Author - Abhishek Maheshwarappa and Jiaxin Tong\n",
    "\n",
    "'''\n",
    "import numpy as np\n",
    "from tqdm import tqdm\n",
    "\n",
    "\n",
    "class ReplaySimulator(object):\n",
    "    '''\n",
    "    A class to provide base functionality for simulating the replayer method for online algorithms.\n",
    "    '''\n",
    "\n",
    "    def __init__(self, n_visits, reward_history, item_col_name, visitor_col_name, reward_col_name, n_iterations=1, random_seed=1):\n",
    "\n",
    "        np.random.seed(random_seed)\n",
    "    \n",
    "        self.reward_history = reward_history\n",
    "        self.item_col_name = item_col_name\n",
    "        self.visitor_col_name = visitor_col_name\n",
    "        self.reward_col_name = reward_col_name\n",
    "\n",
    "        # number of visits to replay/simulate\n",
    "        self.n_visits = n_visits\n",
    "        \n",
    "        # number of runs to average over\n",
    "        self.n_iterations = n_iterations\n",
    "    \n",
    "        # items under test\n",
    "        self.items = self.reward_history[self.item_col_name].unique()\n",
    "        self.n_items = len(self.items)\n",
    "        \n",
    "        # visitors in the historical reward_history (e.g., from ratings df)\n",
    "        self.visitors = self.reward_history[self.visitor_col_name].unique()\n",
    "        self.n_visitors = len(self.visitors)\n",
    "        \n",
    "\n",
    "    def reset(self):\n",
    "        # number of times each item has been sampled (previously n_sampled)\n",
    "        self.n_item_samples = np.zeros(self.n_items)\n",
    "        \n",
    "        # fraction of time each item has resulted in a reward (previously movie_clicks)\n",
    "        self.n_item_rewards = np.zeros(self.n_items)\n",
    "        \n",
    "    \n",
    "    def replay(self):\n",
    "        \n",
    "        results = []\n",
    "\n",
    "        for iteration in tqdm(range(0, self.n_iterations)):\n",
    "        \n",
    "            self.reset()\n",
    "            \n",
    "            total_rewards = 0\n",
    "            fraction_relevant = np.zeros(self.n_visits)\n",
    "\n",
    "            for visit in range(0, self.n_visits):\n",
    "            \n",
    "                found_match = False\n",
    "                while not found_match:\n",
    "                \n",
    "                    # choose a random visitor\n",
    "                    visitor_idx = np.random.randint(self.n_visitors)\n",
    "                    visitor_id = self.visitors[visitor_idx]\n",
    "\n",
    "                    # select an item to offer the visitor\n",
    "                    item_idx = self.select_item()\n",
    "                    item_id = self.items[item_idx]\n",
    "                    \n",
    "                    # if this interaction exists in the history, count it\n",
    "                    reward = self.reward_history.query(\n",
    "                        '{} == @item_id and {} == @visitor_id'.format(self.item_col_name, self.visitor_col_name))[self.reward_col_name]\n",
    "                    \n",
    "                    found_match = reward.shape[0] > 0\n",
    "                \n",
    "                reward_value = reward.iloc[0]\n",
    "                \n",
    "                self.record_result(visit, item_idx, reward_value)\n",
    "                \n",
    "                ## record metrics\n",
    "                total_rewards += reward_value\n",
    "                fraction_relevant[visit] = total_rewards * 1. / (visit + 1)\n",
    "                \n",
    "                result = {}\n",
    "                result['iteration'] = iteration\n",
    "                result['visit'] = visit\n",
    "                result['item_id'] = item_id\n",
    "                result['visitor_id'] = visitor_id\n",
    "                result['reward'] = reward_value\n",
    "                result['total_reward'] = total_rewards\n",
    "                result['fraction_relevant'] = total_rewards * 1. / (visit + 1)\n",
    "                \n",
    "                results.append(result)\n",
    "        \n",
    "        return results\n",
    "        \n",
    "    def select_item(self):\n",
    "        return np.random.randint(self.n_items)\n",
    "        \n",
    "    def record_result(self, visit, item_idx, reward):\n",
    "    \n",
    "        self.n_item_samples[item_idx] += 1\n",
    "        \n",
    "        alpha = 1./self.n_item_samples[item_idx]\n",
    "        self.n_item_rewards[item_idx] += alpha * (reward - self.n_item_rewards[item_idx])"
   ]
  },
  {
   "cell_type": "code",
   "execution_count": null,
   "metadata": {
    "id": "h_rKHYy91hRH"
   },
   "outputs": [],
   "source": [
    "'''\n",
    "\n",
    "Author - Abhishek Maheshwarappa and Jiaxin Tong\n",
    "\n",
    "'''\n",
    "\n",
    "import numpy as np\n",
    "from tqdm import tqdm\n",
    "\n",
    "class UCBSamplingReplayer():\n",
    "    '''\n",
    "    A class to provide functionality for simulating the replayer method on a Thompson Sampling bandit algorithm\n",
    "\n",
    "    '''\n",
    "\n",
    "    def __init__(self,ucb_c, n_visits, reward_history, item_col_name, visitor_col_name, reward_col_name, n_iterations=1):\n",
    "        \n",
    "        self.reward_history = reward_history\n",
    "        self.item_col_name = item_col_name\n",
    "        self.visitor_col_name = visitor_col_name\n",
    "        self.reward_col_name = reward_col_name\n",
    "        self.ucb_c = ucb_c\n",
    "\n",
    "        # number of runs to average over\n",
    "        self.n_iterations = n_iterations\n",
    "    \n",
    "\n",
    "\n",
    "        # number of visits to replay/simulate\n",
    "        self.n_visits = n_visits\n",
    "\n",
    "        # items under test\n",
    "        self.items = self.reward_history[self.item_col_name].unique()\n",
    "        self.n_items = len(self.items)\n",
    "        \n",
    "        # visitors in the historical reward_history (e.g., from ratings df)\n",
    "        self.visitors = self.reward_history[self.visitor_col_name].unique()\n",
    "        self.n_visitors = len(self.visitors)\n",
    "        \n",
    "        self.is_testing = True\n",
    "        self.best_item_id = None\n",
    "\n",
    "    def reset(self):\n",
    "        self.Q = np.zeros(self.n_items) # q-value of actions\n",
    "        self.N = np.zeros(self.n_items) + 0.0001 # action count\n",
    "        self.timestep = 1\n",
    "\n",
    "\n",
    "    def select_item(self):\n",
    "\n",
    "        ln_timestep = np.log(np.full(self.n_items, self.timestep))\n",
    "        confidence = self.ucb_c * np.sqrt(ln_timestep/self.N)\n",
    "\n",
    "        action = np.argmax(self.Q + confidence)\n",
    "        self.timestep += 1\n",
    "        \n",
    "        return action\n",
    "\n",
    "    def record_result(self, visit, item_idx, reward):\n",
    "        \n",
    "        # update value estimate\n",
    "        self.N[item_idx] += 1 # increment action count\n",
    "        self.Q[item_idx] += 1/self.N[item_idx] * (reward - self.Q[item_idx]) # inc. update rule\n",
    "\n",
    "\n",
    "    def simulator(self):\n",
    "\n",
    "        results = []\n",
    "\n",
    "        for iteration in tqdm(range(0, self.n_iterations)):\n",
    "        \n",
    "            self.reset()\n",
    "            \n",
    "            total_rewards = 0\n",
    "            fraction_relevant = np.zeros(self.n_visits)\n",
    "\n",
    "            for visit in range(0, self.n_visits):\n",
    "            \n",
    "                found_match = False\n",
    "                while not found_match:\n",
    "                \n",
    "                    # choose a random visitor\n",
    "                    visitor_idx = np.random.randint(self.n_visitors)\n",
    "                    visitor_id = self.visitors[visitor_idx]\n",
    "\n",
    "                    # select an item to offer the visitor\n",
    "                    item_idx = self.select_item()\n",
    "                    item_id = self.items[item_idx]\n",
    "                    \n",
    "                    # if this interaction exists in the history, count it\n",
    "                    reward = self.reward_history.query(\n",
    "                        '{} == @item_id and {} == @visitor_id'.format(self.item_col_name, self.visitor_col_name))[self.reward_col_name]\n",
    "                    \n",
    "                    found_match = reward.shape[0] > 0\n",
    "                \n",
    "                reward_value = reward.iloc[0]\n",
    "                \n",
    "                self.record_result(visit, item_idx, reward_value)\n",
    "                \n",
    "                # record metrics\n",
    "                total_rewards += reward_value\n",
    "                fraction_relevant[visit] = total_rewards * 1. / (visit + 1)\n",
    "                \n",
    "                result = {}\n",
    "                result['iteration'] = iteration\n",
    "                result['visit'] = visit\n",
    "                result['item_id'] = item_id\n",
    "                result['visitor_id'] = visitor_id\n",
    "                result['reward'] = reward_value\n",
    "                result['total_reward'] = total_rewards\n",
    "                result['fraction_relevant'] = total_rewards * 1. / (visit + 1)\n",
    "                \n",
    "                results.append(result)\n",
    "        \n",
    "        return results"
   ]
  },
  {
   "cell_type": "markdown",
   "metadata": {
    "id": "_4pnGuTQwy_V"
   },
   "source": [
    "### Running simulation"
   ]
  },
  {
   "cell_type": "code",
   "execution_count": null,
   "metadata": {
    "id": "bbZkkn_7wqnQ"
   },
   "outputs": [
    {
     "name": "stderr",
     "output_type": "stream",
     "text": [
      "16-Jun-21 22:00:41 : INFO : Multi-Armed-Bandits-for-Recommendations-and-A-B-testing !!!\n",
      "16-Jun-21 22:00:41 : INFO : Current time: 2021-06-16__21.35\n",
      "16-Jun-21 22:00:41 : INFO : Reading the data..!!\n",
      "16-Jun-21 22:00:47 : INFO : Read the data Successfully ..!!!\n"
     ]
    }
   ],
   "source": [
    "logger.info(\"Multi-Armed-Bandits-for-Recommendations-and-A-B-testing !!!\")\n",
    "logger.info(\"Current time: \" + str(current_time))\n",
    "\n",
    "logger.info(\"Reading the data..!!\")\n",
    "\n",
    "start = time.time()\n",
    "header_list = [\"User_ID\", \"Product_ID\", \"Rating\", \"Time_Stamp\"]\n",
    "rating_df = pd.read_csv('ratings_Electronics (1).csv', names=header_list)\n",
    "latency[\"Data_reading -\"] = time.time() - start\n",
    "logger.info(\"Read the data Successfully ..!!!\")\n",
    "\n",
    "reward_threshold = 4\n",
    "rating_df['reward'] = rating_df.eval('Rating > @reward_threshold').astype(int)"
   ]
  },
  {
   "cell_type": "code",
   "execution_count": null,
   "metadata": {
    "id": "ai3L1Nv0w7Hj"
   },
   "outputs": [],
   "source": [
    "n_visits = 500\n",
    "n_iterations = 1\n",
    "n_test_visits = 100\n",
    "\n",
    "reward_history = rating_df[:1000]\n",
    "item_col_name = 'Product_ID'\n",
    "visitor_col_name = 'User_ID'\n",
    "reward_col_name = 'reward'"
   ]
  },
  {
   "cell_type": "code",
   "execution_count": null,
   "metadata": {
    "id": "rSJp1191w-da"
   },
   "outputs": [
    {
     "name": "stderr",
     "output_type": "stream",
     "text": [
      "16-Jun-21 22:01:52 : INFO : A/B Test Simulations...starts...!!!\n",
      "\n",
      "  0%|          | 0/1 [00:00<?, ?it/s]\u001b[A\n",
      "100%|██████████| 1/1 [03:07<00:00, 187.56s/it]\n",
      "16-Jun-21 22:04:59 : INFO : A/B testing completed Successfully..!!\n",
      "16-Jun-21 22:04:59 : INFO : Saving the A/B test results saved Successfully..!!\n"
     ]
    }
   ],
   "source": [
    "#################### A/B testing ###############\n",
    "\n",
    "logger.info(\"A/B Test Simulations...starts...!!!\")\n",
    "\n",
    "start = time.time()\n",
    "ab_results = ABTestReplayer(n_visits, n_test_visits, reward_history,\n",
    "                            item_col_name, visitor_col_name, reward_col_name,\n",
    "                            n_iterations=n_iterations).simulator()\n",
    "\n",
    "ab_results_df = pd.DataFrame(ab_results)\n",
    "latency[\"A/B testing -\"] = time.time() - start\n",
    "\n",
    "logger.info(\"A/B testing completed Successfully..!!\")\n",
    "\n",
    "ab_results_df.to_csv(target_dir + '/ab_results_df.csv')\n",
    "\n",
    "logger.info(\"Saving the A/B test results saved Successfully..!!\")"
   ]
  },
  {
   "cell_type": "code",
   "execution_count": null,
   "metadata": {
    "id": "1oTrn4npxSXA"
   },
   "outputs": [
    {
     "name": "stderr",
     "output_type": "stream",
     "text": [
      "16-Jun-21 22:04:59 : INFO : Epsilon - Greedy Simulations...starts...!!!\n",
      "\n",
      "  0%|          | 0/1 [00:00<?, ?it/s]\u001b[A\n",
      "100%|██████████| 1/1 [10:38<00:00, 638.64s/it]\n",
      "16-Jun-21 22:15:38 : INFO : Epsilon - Greedy Simulations completed Successfully..!!\n",
      "16-Jun-21 22:15:38 : INFO : Epsilon - Greedy Simulations results saved Successfully..!!\n"
     ]
    }
   ],
   "source": [
    "################# Epsilon - Greedy Simulations ##############\n",
    "\n",
    "logger.info(\"Epsilon - Greedy Simulations...starts...!!!\")\n",
    "\n",
    "start = time.time()\n",
    "epsilon = 0.05\n",
    "epsilon_results = EpsilonGreedyReplayer(epsilon, n_visits, reward_history,\n",
    "                                        item_col_name, visitor_col_name, reward_col_name,\n",
    "                                        n_iterations=n_iterations).simulator()\n",
    "\n",
    "epsilon_results_df = pd.DataFrame(epsilon_results)\n",
    "latency[\"Epsilon - Greedy Simulations  -\"] = time.time() - start\n",
    "logger.info(\"Epsilon - Greedy Simulations completed Successfully..!!\")\n",
    "\n",
    "epsilon_results_df.to_csv(target_dir +'/epsilon_results_df.csv')\n",
    "\n",
    "logger.info(\"Epsilon - Greedy Simulations results saved Successfully..!!\")"
   ]
  },
  {
   "cell_type": "code",
   "execution_count": null,
   "metadata": {
    "id": "p1CLmjThxac-"
   },
   "outputs": [
    {
     "name": "stderr",
     "output_type": "stream",
     "text": [
      "16-Jun-21 22:15:38 : INFO : Thompson Sampling Simulations...starts...!!!\n",
      "\n",
      "  0%|          | 0/1 [00:00<?, ?it/s]\u001b[A\n",
      "100%|██████████| 1/1 [11:51<00:00, 711.80s/it]\n",
      "16-Jun-21 22:27:30 : INFO : Thompson Sampling Simulations completed Successfully..!!\n",
      "16-Jun-21 22:27:30 : INFO : Thompson Sampling Simulations results saved Successfully..!!\n"
     ]
    }
   ],
   "source": [
    "################### Thompson Sampling Simulations #######################\n",
    "\n",
    "logger.info(\"Thompson Sampling Simulations...starts...!!!\")\n",
    "\n",
    "start = time.time()\n",
    "\n",
    "thompson_results = ThompsonSamplingReplayer(n_visits, reward_history,\n",
    "                                            item_col_name, visitor_col_name, reward_col_name,\n",
    "                                            n_iterations=n_iterations).simulator()\n",
    "\n",
    "thompson_results_df = pd.DataFrame(thompson_results)\n",
    "latency[\"Thompson Sampling Simulations  -\"] = time.time() - start\n",
    "logger.info(\"Thompson Sampling Simulations completed Successfully..!!\")\n",
    "\n",
    "thompson_results_df.to_csv(target_dir +'/thompson_results_df.csv')\n",
    "\n",
    "logger.info(\"Thompson Sampling Simulations results saved Successfully..!!\")"
   ]
  },
  {
   "cell_type": "code",
   "execution_count": null,
   "metadata": {
    "id": "GJCQhSIpxkTO"
   },
   "outputs": [
    {
     "name": "stderr",
     "output_type": "stream",
     "text": [
      "16-Jun-21 22:27:30 : INFO : Upper Confidence Bounds Simulations...starts...!!!\n",
      "\n",
      "  0%|          | 0/1 [00:00<?, ?it/s]\u001b[A\n",
      "100%|██████████| 1/1 [14:35<00:00, 875.29s/it]\n",
      "16-Jun-21 22:42:05 : INFO : Upper Confidence Bounds Simulations completed Successfully..!!\n",
      "16-Jun-21 22:42:05 : INFO : Upper Confidence Bounds Simulations results saved Successfully..!!\n",
      "16-Jun-21 22:42:05 : INFO : Exporting the latency\n",
      "16-Jun-21 22:42:05 : INFO : Data exported to JSON successfully!\n",
      "16-Jun-21 22:42:05 : INFO : Program completed normally\n"
     ]
    }
   ],
   "source": [
    "####################  Upper Confidence Bounds #########################\n",
    "\n",
    "logger.info(\"Upper Confidence Bounds Simulations...starts...!!!\")\n",
    "\n",
    "start = time.time()\n",
    "\n",
    "ucb = 2\n",
    "\n",
    "ucb_results = UCBSamplingReplayer(ucb, n_visits, reward_history,\n",
    "                                  item_col_name, visitor_col_name, reward_col_name,\n",
    "                                  n_iterations=n_iterations).simulator()\n",
    "\n",
    "ucb_results_df = pd.DataFrame(ucb_results)\n",
    "latency[\"Upper Confidence Bounds Simulations  -\"] = time.time() - start\n",
    "\n",
    "logger.info(\"Upper Confidence Bounds Simulations completed Successfully..!!\")\n",
    "\n",
    "ucb_results_df.to_csv(target_dir +'/ucb_results_df.csv')\n",
    "\n",
    "logger.info(\"Upper Confidence Bounds Simulations results saved Successfully..!!\")\n",
    "\n",
    "logger.info('Exporting the latency')\n",
    "file_name = target_dir +'/latency_stats.json'\n",
    "export_to_json(latency, file_name)\n",
    "logger.info(\"Program completed normally\")\n",
    "logger.handlers.clear()"
   ]
  },
  {
   "cell_type": "markdown",
   "metadata": {
    "id": "q4g03Tfg2ZB0"
   },
   "source": [
    "### Result analysis"
   ]
  },
  {
   "cell_type": "code",
   "execution_count": null,
   "metadata": {
    "id": "On9oqeyVwJiG"
   },
   "outputs": [],
   "source": [
    "'''\n",
    "The Csv files present in current \n",
    "output run directory are Read \n",
    "for all the algos\n",
    "\n",
    "'''\n",
    "\n",
    "ucb_results_df = pd.read_csv(os.path.join(target_dir,'ucb_results_df.csv')).drop('Unnamed: 0', axis=1)\n",
    "thompson_results_df = pd.read_csv(os.path.join(target_dir,'thompson_results_df.csv')).drop('Unnamed: 0', axis=1)\n",
    "epsilon_results_df = pd.read_csv(os.path.join(target_dir,'epsilon_results_df.csv')).drop('Unnamed: 0', axis=1)\n",
    "ab_results_df = pd.read_csv(os.path.join(target_dir,'ab_results_df.csv')).drop('Unnamed: 0', axis=1)"
   ]
  },
  {
   "cell_type": "code",
   "execution_count": null,
   "metadata": {
    "id": "pNGzK5GB21Cq"
   },
   "outputs": [],
   "source": [
    "'''\n",
    "Grouping the each data frame with visit with mean\n",
    "'''\n",
    "\n",
    "ucb_avg_results_df = ucb_results_df.groupby('visit', as_index=False).mean()\n",
    "\n",
    "thompson_avg_results_df = thompson_results_df.groupby('visit', as_index=False).mean()\n",
    "\n",
    "epsilon_avg_results_df = epsilon_results_df.groupby('visit', as_index=False).mean()\n",
    "\n",
    "ab_avg_results_df = ab_results_df.groupby('visit', as_index=False).mean()"
   ]
  },
  {
   "cell_type": "code",
   "execution_count": null,
   "metadata": {
    "id": "0lBvFEXU21vt"
   },
   "outputs": [
    {
     "data": {
      "image/png": "[encoded data removed]",
      "text/plain": [
       "<Figure size 720x72 with 1 Axes>"
      ]
     },
     "metadata": {
      "filenames": {
       "image/png": "/content/reco-book/_build/jupyter_execute/nbs/T057885_Offline_Replayer_Evaluation_106_0.png"
      },
      "needs_background": "light",
      "tags": []
     },
     "output_type": "display_data"
    }
   ],
   "source": [
    "# using a color-blind friendly palette with 10 colors\n",
    "color_blind_palette_10 = ['#cfcfcf', '#ffbc79', '#a2c8ec', '#898989', '#c85200',\n",
    "                          '#5f9ed1', '#595959', '#ababab', '#ff800e', '#006ba4']\n",
    "\n",
    "sns.palplot(color_blind_palette_10)"
   ]
  },
  {
   "cell_type": "code",
   "execution_count": null,
   "metadata": {
    "id": "N-JcTHxB21sz"
   },
   "outputs": [
    {
     "data": {
      "image/png": "[encoded data removed]",
      "text/plain": [
       "<Figure size 864x720 with 1 Axes>"
      ]
     },
     "metadata": {
      "filenames": {
       "image/png": "/content/reco-book/_build/jupyter_execute/nbs/T057885_Offline_Replayer_Evaluation_107_0.png"
      },
      "needs_background": "light",
      "tags": []
     },
     "output_type": "display_data"
    }
   ],
   "source": [
    "fig, ax = plt.subplots(figsize=(12,10))\n",
    "\n",
    "for (avg_results_df, style) in [(ucb_avg_results_df, 'r-'),\n",
    "                                (thompson_avg_results_df, 'g--'),\n",
    "                                (epsilon_avg_results_df, 'b-'),\n",
    "                                (ab_avg_results_df, 'y--')]:\n",
    "    \n",
    "    ax.plot(avg_results_df.visit, avg_results_df.fraction_relevant, style, linewidth=3.5)\n",
    "\n",
    "\n",
    "ax.set_title('Percentage of Liked Recommendations')\n",
    "ax.set_xlabel('Recommendation #')\n",
    "ax.set_ylabel('% of Recs Clicked')\n",
    "\n",
    "#ax.set_xticks(range(0,22000,5000))\n",
    "#ax.set_ylim(0.2, 0.6)\n",
    "#ax.set_yticks(np.arange(0.2, 0.7, 0.1))\n",
    "\n",
    "#rescale the y-axis tick labels to show them as a percentage\n",
    "ax.set_yticklabels((ax.get_yticks()*100).astype(int))\n",
    "\n",
    "ax.legend(['UCB ',\n",
    "           'Thompson Sampling',\n",
    "           '$\\epsilon$ Greedy',\n",
    "           'A/B Test'\n",
    "          ],\n",
    "          loc='lower right'\n",
    "         )\n",
    "\n",
    "plt.tight_layout()\n",
    "plt.show()"
   ]
  },
  {
   "cell_type": "markdown",
   "metadata": {
    "id": "OJCVa1zZ29Ys"
   },
   "source": [
    "From the above it is clear that Thompson smapling of multi arm bandit outperforms A/B testing. In the lower samples the Epsilon Greedy better than all other algorithim, but as in when the number smaples increase the thompsonsampling starts performing beter and better."
   ]
  },
  {
   "cell_type": "markdown",
   "metadata": {
    "id": "FO1NemUuTW68"
   },
   "source": [
    "## Movielens\n",
    "> Evaluating bandits offline with replay method on movielens dataset"
   ]
  },
  {
   "cell_type": "markdown",
   "metadata": {
    "id": "D8UfnCqxct2M"
   },
   "source": [
    "### Import libraries"
   ]
  },
  {
   "cell_type": "code",
   "execution_count": null,
   "metadata": {
    "id": "3nfpF4cfcUMf"
   },
   "outputs": [],
   "source": [
    "import os\n",
    "import numpy as np\n",
    "import pandas as pd\n",
    "import matplotlib.pyplot as plt\n",
    "from matplotlib.ticker import FormatStrFormatter\n",
    "import seaborn as sns\n",
    "from tqdm import tqdm\n",
    "\n",
    "from scipy.stats import norm, beta\n",
    "from abc import ABC, abstractmethod"
   ]
  },
  {
   "cell_type": "markdown",
   "metadata": {
    "id": "vUocdyisc8oW"
   },
   "source": [
    "### Loading data"
   ]
  },
  {
   "cell_type": "code",
   "execution_count": null,
   "metadata": {
    "id": "LlHZArr4dVcI"
   },
   "outputs": [],
   "source": [
    "!wget http://files.grouplens.org/datasets/movielens/ml-100k.zip\n",
    "!unzip ml-100k.zip\n",
    "\n",
    "rating_df = pd.read_csv('ml-100k/u.data', sep='\\t', header=None, names=['user_id','movie_id','rating','timestamp'], usecols=['movie_id', 'rating'])\n",
    "rating_df.columns = ['movieId', 'rating']\n",
    "rating_df.head()"
   ]
  },
  {
   "cell_type": "markdown",
   "metadata": {
    "id": "M1lFWXL8Opne"
   },
   "source": [
    "### Util functions"
   ]
  },
  {
   "cell_type": "code",
   "execution_count": null,
   "metadata": {
    "id": "vb_VE53rovQF"
   },
   "outputs": [],
   "source": [
    "def get_data(data, num_ratings, num_movies):\n",
    "    \"\"\" Make each movieId/action uniformly distributed \"\"\"\n",
    "    # filters out movies with less than `num_ratings` ratings\n",
    "    movies = data.groupby('movieId').agg({'rating': 'count'})\n",
    "    if num_movies is not None:\n",
    "        movies_to_keep = movies[(movies['rating'] >= num_ratings)].sample(\n",
    "            n=num_movies, random_state=12).index\n",
    "    else:\n",
    "        movies_to_keep = movies[(movies['rating'] >= num_ratings)].index\n",
    "    data = data[data['movieId'].isin(movies_to_keep)]\n",
    "    # take a random sample of size `num_ratings` for each movie\n",
    "    data = data.groupby('movieId').sample(n=num_ratings, random_state=42)\n",
    "    # shuffle rows to randomize data stream\n",
    "    data = data.sample(frac=1, random_state=42)\n",
    "    # reset index to create pseudo-timestamp index\n",
    "    data = data.reset_index(drop=True)\n",
    "    return data\n",
    "\n",
    "\n",
    "# Plot ################################################################\n",
    "\n",
    "def plot_rewards(*policies, title=None):\n",
    "    fig, (ax1, ax2) = plt.subplots(nrows=1, ncols=2, figsize=(11,5))\n",
    "    fig.suptitle(title)\n",
    "    for policy in policies:\n",
    "        # get cumulative rewards\n",
    "        cumsum_rewards = policy.history.reward.cumsum()\n",
    "        # get average rewards\n",
    "        timesteps = np.arange(len(cumsum_rewards)) + 1\n",
    "        avg_rewards = cumsum_rewards / timesteps\n",
    "        # plots\n",
    "        ax1.plot(timesteps, avg_rewards, label=policy.name)\n",
    "        ax2.plot(timesteps, cumsum_rewards, label=policy.name)\n",
    "    #\n",
    "    ax1.yaxis.set_major_formatter(FormatStrFormatter('%.1f'))\n",
    "    ax1.set_xlabel('time step')\n",
    "    ax1.set_ylabel('average reward')\n",
    "    ax1.legend(loc='lower right')\n",
    "    #\n",
    "    ax2.yaxis.set_major_formatter(FormatStrFormatter('%d'))\n",
    "    ax2.set_xlabel('time step')\n",
    "    ax2.set_ylabel('cumulative reward')\n",
    "    ax2.legend(loc='lower right')\n",
    "    #\n",
    "    plt.tight_layout()\n",
    "    plt.show()\n",
    "\n",
    "\n",
    "def plot_action_values(*policies):\n",
    "    fig, axs = plt.subplots(nrows=1, ncols=len(policies), figsize=(15,5), squeeze=False)\n",
    "    fig.suptitle(\"Action scores\")\n",
    "    axs = axs.ravel()\n",
    "    for i, policy in enumerate(policies):\n",
    "        cbar = True if i == len(axs)-1 else False\n",
    "        sns.heatmap(policy.scores_log.T, ax=axs[i], vmin=2.5, vmax=5, cmap='hot',\n",
    "                    cbar=cbar, xticklabels=1000, yticklabels=False)\n",
    "        axs[i].set_xlabel('time step')\n",
    "        axs[i].title.set_text(policy.name)\n",
    "    axs[0].set_ylabel('movieId')\n",
    "    plt.tight_layout()\n",
    "    plt.show()"
   ]
  },
  {
   "cell_type": "markdown",
   "metadata": {
    "id": "edR3-_6EQ8vg"
   },
   "source": [
    "### Set variables"
   ]
  },
  {
   "cell_type": "code",
   "execution_count": null,
   "metadata": {
    "id": "fgVsqYsHQ-Py"
   },
   "outputs": [],
   "source": [
    "NUM_RATINGS = 30        # with full dataset  -> 10000\n",
    "                        # with small dataset -> 30\n",
    "NUM_MOVIES = None\n",
    "SLATE_SIZE = 5\n",
    "BATCH_SIZE = 100        # with replay eval   -> 100\n",
    "                        # with simulated env -> 1\n",
    "STREAM_LENGTH = 150     # with full dataset  -> 50000\n",
    "                        # with small dataset -> 150\n",
    "MODE = 'replay'         # 'replay' or 'sim'\n",
    "SCORES_LOG = False      # logging movie scores or not"
   ]
  },
  {
   "cell_type": "code",
   "execution_count": null,
   "metadata": {
    "id": "1pf3VWcMSci4"
   },
   "outputs": [],
   "source": [
    "# get data\n",
    "logged_events = get_data(rating_df, NUM_RATINGS, NUM_MOVIES)"
   ]
  },
  {
   "cell_type": "markdown",
   "metadata": {
    "id": "D_HkxX0Rlgn1"
   },
   "source": [
    "### Create agents"
   ]
  },
  {
   "cell_type": "code",
   "execution_count": null,
   "metadata": {
    "id": "A8cqEaKmNdlV"
   },
   "outputs": [],
   "source": [
    "# Abstract Base Policy ###############################################\n",
    "\n",
    "class ABPolicy(ABC):\n",
    "    def __init__(self, bandit, slate_size, scores_logging):\n",
    "        self.name = None\n",
    "        self.slate_size = slate_size\n",
    "        self.history = pd.DataFrame(data=None, columns=['movieId', 'reward'])\n",
    "        if scores_logging is True:\n",
    "            self.scores_log = pd.DataFrame(data=None, columns=bandit.actions)\n",
    "        else:\n",
    "            self.scores_log = None\n",
    "\n",
    "    @abstractmethod\n",
    "    def get_recommendations(self):\n",
    "        ...\n",
    "\n",
    "    def update(self, rewards):\n",
    "        # append new events to history\n",
    "        self.history = self.history.append(rewards, ignore_index=True)\n",
    "    \n",
    "    def _sort_actions(self, scores):\n",
    "        \"\"\" Sort actions by score and shuffle actions with same score\n",
    "            Inputs:\n",
    "                scores: pandas.Series with actions as index \"\"\"\n",
    "        sorted_actions = sorted(\n",
    "            scores.sample(frac=1).index,\n",
    "            key=lambda idx: scores.loc[idx],\n",
    "            reverse=True)\n",
    "        return sorted_actions\n",
    "\n",
    "    def _update_scores_history(self, scores):\n",
    "        if self.scores_log is not None:\n",
    "            self.scores_log = self.scores_log.append(\n",
    "                pd.DataFrame(\n",
    "                    data=scores.to_numpy().reshape((1,-1)),\n",
    "                    columns=self.scores_log.columns),\n",
    "                ignore_index=True)\n",
    "            self.scores_log = self.scores_log.astype('float')\n",
    "\n",
    "\n",
    "\n",
    "# Epsilon Greedy Policy ##############################################\n",
    "\n",
    "class EpsilonGreedy(ABPolicy):\n",
    "    def __init__(self, bandit, epsilon, slate_size=1, scores_logging=False):\n",
    "        super(EpsilonGreedy, self).__init__(bandit, slate_size, scores_logging)\n",
    "        self.name = '{}-Greedy'.format(epsilon)\n",
    "        self.epsilon = epsilon\n",
    "        self.action_values = pd.DataFrame(data=0, columns=['value', 'count'],\n",
    "                                          index=bandit.actions)\n",
    "\n",
    "    def get_recommendations(self):\n",
    "        # sort actions by value and shuffle actions with same value\n",
    "        sorted_actions = self._sort_actions(self.action_values['value'])\n",
    "        # choose recommendations\n",
    "        if np.random.random() < self.epsilon:\n",
    "            recs = np.random.choice(sorted_actions[self.slate_size:],\n",
    "                                    size=self.slate_size, replace=False)\n",
    "        else:\n",
    "            recs = sorted_actions[:self.slate_size]\n",
    "        # update history of action scores\n",
    "        self._update_scores_history(self.action_values['value'])\n",
    "        return recs\n",
    "\n",
    "    def update(self, rewards):\n",
    "        super(EpsilonGreedy, self).update(rewards)\n",
    "        # update action values\n",
    "        for _, (movieId, reward) in rewards.iterrows():\n",
    "            value = self.action_values.loc[movieId, 'value']\n",
    "            N = self.action_values.loc[movieId, 'count']\n",
    "            self.action_values.loc[movieId, 'value'] = (value * N + reward) / (N + 1)\n",
    "            self.action_values.loc[movieId, 'count'] += 1\n",
    "    \n",
    "\n",
    "# Upper Confidence Bound Policy ######################################\n",
    "\n",
    "class UCB1(ABPolicy):\n",
    "    def __init__(self, bandit, slate_size=1, scores_logging=False):\n",
    "        super(UCB1, self).__init__(bandit, slate_size, scores_logging)\n",
    "        self.name = 'UCB1'\n",
    "        self.action_values = pd.DataFrame(data=0, columns=['value', 'count'],\n",
    "                                          index=bandit.actions)\n",
    "\n",
    "    def get_recommendations(self):\n",
    "        # compute UCB for each action\n",
    "        current_step = len(self.history)\n",
    "        if current_step > 0:\n",
    "            scores = self.action_values['count'].apply(\n",
    "                lambda N: np.sqrt(2*np.log(current_step) / N) if N > 0 else np.Inf)\n",
    "            scores = scores + self.action_values['value']\n",
    "        else:\n",
    "            scores = pd.Series(data=np.Inf, index=self.action_values.index)\n",
    "        # sort actions by score and shuffle actions with same score\n",
    "        sorted_actions = self._sort_actions(scores)\n",
    "        # choose recommendations\n",
    "        recs = sorted_actions[:self.slate_size]\n",
    "        # update history of action scores\n",
    "        self._update_scores_history(scores)\n",
    "        return recs\n",
    "\n",
    "    def update(self, rewards):\n",
    "        super(UCB1, self).update(rewards)\n",
    "        # update action values\n",
    "        for _, (movieId, reward) in rewards.iterrows():\n",
    "            value = self.action_values.loc[movieId, 'value']\n",
    "            N = self.action_values.loc[movieId, 'count']\n",
    "            self.action_values.loc[movieId, 'value'] = (value * N + reward) / (N + 1)\n",
    "            self.action_values.loc[movieId, 'count'] += 1\n",
    "\n",
    "\n",
    "# Thompson Sampling Policy ###########################################\n",
    "\n",
    "class TS(ABPolicy):\n",
    "    def __init__(self, bandit, slate_size=1, scores_logging=False):\n",
    "        super(TS, self).__init__(bandit, slate_size, scores_logging)\n",
    "        self.name = 'Thompson Sampling'\n",
    "        self.beta_params = pd.DataFrame(data=1, columns=['alpha', 'beta'],\n",
    "                                        index=bandit.actions)\n",
    "    \n",
    "    def get_recommendations(self):\n",
    "        # sample expected value for each action\n",
    "        expected_values = pd.Series(\n",
    "            data=4.5 * beta.rvs(self.beta_params['alpha'], self.beta_params['beta']) + 0.5,\n",
    "            index=self.beta_params.index)\n",
    "        # sort actions by value and shuffle actions with same value\n",
    "        sorted_actions = self._sort_actions(expected_values)\n",
    "        # choose recommendations\n",
    "        recs = sorted_actions[:self.slate_size]\n",
    "        # update history of action scores\n",
    "        self._update_scores_history(expected_values)\n",
    "        return recs\n",
    "\n",
    "    def update(self, rewards):\n",
    "        super(TS, self).update(rewards)\n",
    "        # update action value distribution prior\n",
    "        for _, (movieId, reward) in rewards.iterrows():\n",
    "            self.beta_params.loc[movieId, 'alpha'] += (reward - 0.5) / 4.5\n",
    "            self.beta_params.loc[movieId, 'beta'] += (5.0 - reward) / 4.5"
   ]
  },
  {
   "cell_type": "code",
   "execution_count": null,
   "metadata": {
    "id": "nlNYIT56lkMx"
   },
   "outputs": [],
   "source": [
    "class ReplayBandit():\n",
    "    \"\"\" Implementation of a bandit problem with replay evaluation \"\"\"\n",
    "    def __init__(self, logged_events, batch_size=1):\n",
    "        self.events = logged_events.rename(columns={'rating': 'reward'})\n",
    "        self.actions = np.sort(logged_events['movieId'].unique())\n",
    "        self.batch_size = batch_size\n",
    "        self.stream_length = len(self.events) // batch_size\n",
    "    \n",
    "    def get_rewards(self, recommendations, n_event):\n",
    "        # generate events\n",
    "        idx = n_event * self.batch_size\n",
    "        events =  self.events.iloc[idx:idx+self.batch_size]\n",
    "        # keep only events that match with the recommendation slate\n",
    "        rewards = events[events['movieId'].isin(recommendations)]\n",
    "        return rewards"
   ]
  },
  {
   "cell_type": "code",
   "execution_count": null,
   "metadata": {
    "id": "ztkTtHE8S5Qs"
   },
   "outputs": [
    {
     "name": "stdout",
     "output_type": "stream",
     "text": [
      "NUMBER OF MOVIES/ACTIONS: 806\n"
     ]
    }
   ],
   "source": [
    "bandit = ReplayBandit(logged_events, BATCH_SIZE)\n",
    "STREAM_LENGTH = bandit.stream_length\n",
    "title=\"rewards for bandit problem with replay evaluation\"\n",
    "\n",
    "print(\"NUMBER OF MOVIES/ACTIONS: {}\".format(len(bandit.actions)))"
   ]
  },
  {
   "cell_type": "code",
   "execution_count": null,
   "metadata": {
    "id": "pSrEd3wnS-Jj"
   },
   "outputs": [],
   "source": [
    "# instantiate policies\n",
    "policies = [\n",
    "    EpsilonGreedy(bandit, epsilon=0.1, slate_size=SLATE_SIZE, scores_logging=SCORES_LOG),\n",
    "    UCB1(bandit, slate_size=SLATE_SIZE, scores_logging=SCORES_LOG),\n",
    "    TS(bandit, slate_size=SLATE_SIZE, scores_logging=SCORES_LOG),\n",
    "    ]"
   ]
  },
  {
   "cell_type": "code",
   "execution_count": null,
   "metadata": {
    "id": "5eQMfXQeTE9M"
   },
   "outputs": [
    {
     "name": "stderr",
     "output_type": "stream",
     "text": [
      "  4%|3         | 9/241 [00:00<00:02, 85.23it/s]"
     ]
    },
    {
     "name": "stdout",
     "output_type": "stream",
     "text": [
      "POLICY: 0.1-Greedy\n"
     ]
    },
    {
     "name": "stderr",
     "output_type": "stream",
     "text": [
      "100%|##########| 241/241 [00:02<00:00, 81.60it/s]\n",
      "  4%|3         | 9/241 [00:00<00:02, 82.17it/s]"
     ]
    },
    {
     "name": "stdout",
     "output_type": "stream",
     "text": [
      "HISTORY LENGTH: 133\n",
      "\n",
      "POLICY: UCB1\n"
     ]
    },
    {
     "name": "stderr",
     "output_type": "stream",
     "text": [
      "100%|##########| 241/241 [00:03<00:00, 74.59it/s]\n",
      "  3%|3         | 8/241 [00:00<00:02, 78.25it/s]"
     ]
    },
    {
     "name": "stdout",
     "output_type": "stream",
     "text": [
      "HISTORY LENGTH: 144\n",
      "\n",
      "POLICY: Thompson Sampling\n"
     ]
    },
    {
     "name": "stderr",
     "output_type": "stream",
     "text": [
      "100%|##########| 241/241 [00:03<00:00, 78.49it/s]"
     ]
    },
    {
     "name": "stdout",
     "output_type": "stream",
     "text": [
      "HISTORY LENGTH: 141\n",
      "\n"
     ]
    },
    {
     "name": "stderr",
     "output_type": "stream",
     "text": [
      "\n"
     ]
    }
   ],
   "source": [
    "# evaluate policies\n",
    "for policy in policies:\n",
    "    print(\"POLICY: {}\".format(policy.name))\n",
    "    for i in tqdm(range(STREAM_LENGTH), ascii=True):\n",
    "        recs = policy.get_recommendations()\n",
    "        rewards = bandit.get_rewards(recs, i)\n",
    "        policy.update(rewards)\n",
    "    print(\"HISTORY LENGTH: {}\".format(len(policy.history)))\n",
    "    print()"
   ]
  },
  {
   "cell_type": "code",
   "execution_count": null,
   "metadata": {
    "id": "kAM4S_V-TGKV"
   },
   "outputs": [
    {
     "data": {
      "image/png": "[encoded data removed]",
      "text/plain": [
       "<Figure size 792x360 with 2 Axes>"
      ]
     },
     "metadata": {
      "filenames": {
       "image/png": "/content/reco-book/_build/jupyter_execute/nbs/T057885_Offline_Replayer_Evaluation_125_0.png"
      },
      "needs_background": "light",
      "tags": []
     },
     "output_type": "display_data"
    }
   ],
   "source": [
    "# plot results\n",
    "plot_rewards(*policies, title=title)\n",
    "if SCORES_LOG is True:\n",
    "    plot_action_values(*policies)"
   ]
  }
 ],
 "metadata": {
  "colab": {
   "collapsed_sections": [],
   "name": "T057885_Offline_Replayer_Evaluation.ipynb",
   "toc_visible": true
  },
  "kernelspec": {
   "display_name": "Python 3",
   "name": "python3"
  }
 },
 "nbformat": 4,
 "nbformat_minor": 0
}