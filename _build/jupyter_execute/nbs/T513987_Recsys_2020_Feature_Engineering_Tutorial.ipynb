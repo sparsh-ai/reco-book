{
 "cells": [
  {
   "cell_type": "markdown",
   "metadata": {
    "id": "Qp9CyeCjAP6I"
   },
   "source": [
    "# Recsys'20 Feature Engineering Tutorial\n",
    "> RecSys'20 tutorial on feature engineering on a large retail dataset"
   ]
  },
  {
   "cell_type": "markdown",
   "metadata": {
    "id": "eGgByaEg6A4P"
   },
   "source": [
    "## Part 1"
   ]
  },
  {
   "cell_type": "markdown",
   "metadata": {
    "id": "glqcrXsxGNq1"
   },
   "source": [
    "### Data download"
   ]
  },
  {
   "cell_type": "code",
   "execution_count": null,
   "metadata": {
    "id": "nMLPnhbYEm8A"
   },
   "outputs": [],
   "source": [
    "!pip install -q -U kaggle\n",
    "!pip install --upgrade --force-reinstall --no-deps kaggle\n",
    "!mkdir ~/.kaggle\n",
    "!cp /content/drive/MyDrive/kaggle.json ~/.kaggle/\n",
    "!chmod 600 ~/.kaggle/kaggle.json\n",
    "\n",
    "!kaggle datasets download -d mkechinov/ecommerce-behavior-data-from-multi-category-store"
   ]
  },
  {
   "cell_type": "code",
   "execution_count": null,
   "metadata": {
    "id": "2Tac1tdjBvqs"
   },
   "outputs": [
    {
     "name": "stdout",
     "output_type": "stream",
     "text": [
      "Downloading...\n",
      "From: https://drive.google.com/uc?id=1qZIwMbMgMmgDC5EoMdJ8aI9lQPsWA3-P\n",
      "To: /content/2019-Dec.csv.gz\n",
      "2.95GB [01:08, 42.9MB/s]\n",
      "Downloading...\n",
      "From: https://drive.google.com/uc?id=1x5ohrrZNhWQN4Q-zww0RmXOwctKHH9PT\n",
      "To: /content/2020-Jan.csv.gz\n",
      "2.39GB [00:58, 40.7MB/s]\n",
      "Downloading...\n",
      "From: https://drive.google.com/uc?id=1-Rov9fFtGJqb7_ePc6qH-Rhzxn0cIcKB\n",
      "To: /content/2020-Feb.csv.gz\n",
      "2.35GB [00:56, 41.7MB/s]\n",
      "Downloading...\n",
      "From: https://drive.google.com/uc?id=1zr_RXpGvOWN2PrWI6itWL8HnRsCpyqz8\n",
      "To: /content/2020-Mar.csv.gz\n",
      "2.42GB [00:40, 60.3MB/s]\n",
      "Downloading...\n",
      "From: https://drive.google.com/uc?id=1g5WoIgLe05UMdREbxAjh0bEFgVCjA1UL\n",
      "To: /content/2020-Apr.csv.gz\n",
      "2.93GB [00:44, 66.3MB/s]\n"
     ]
    }
   ],
   "source": [
    "!gdown --id 1qZIwMbMgMmgDC5EoMdJ8aI9lQPsWA3-P\n",
    "!gdown --id 1x5ohrrZNhWQN4Q-zww0RmXOwctKHH9PT\n",
    "!gdown --id 1-Rov9fFtGJqb7_ePc6qH-Rhzxn0cIcKB\n",
    "!gdown --id 1zr_RXpGvOWN2PrWI6itWL8HnRsCpyqz8\n",
    "!gdown --id 1g5WoIgLe05UMdREbxAjh0bEFgVCjA1UL"
   ]
  },
  {
   "cell_type": "markdown",
   "metadata": {
    "id": "cbqqSo1mGRFU"
   },
   "source": [
    "### Data extract"
   ]
  },
  {
   "cell_type": "code",
   "execution_count": null,
   "metadata": {
    "id": "yEDIXNVkGuCW"
   },
   "outputs": [],
   "source": [
    "import os\n",
    "import gc\n",
    "import glob\n",
    "import pandas as pd"
   ]
  },
  {
   "cell_type": "code",
   "execution_count": null,
   "metadata": {
    "id": "eWEtIxIXDlfW"
   },
   "outputs": [
    {
     "name": "stdout",
     "output_type": "stream",
     "text": [
      "Archive:  /content/ecommerce-behavior-data-from-multi-category-store.zip\n",
      "  inflating: 2019-Nov.csv            \n",
      "  inflating: 2019-Oct.csv            \n"
     ]
    }
   ],
   "source": [
    "!unzip /content/ecommerce-behavior-data-from-multi-category-store.zip\n",
    "!rm /content/ecommerce-behavior-data-from-multi-category-store.zip"
   ]
  },
  {
   "cell_type": "code",
   "execution_count": null,
   "metadata": {
    "id": "IOxOL1pJGpWM"
   },
   "outputs": [
    {
     "data": {
      "text/plain": [
       "['/content/2020-Jan.csv.gz',\n",
       " '/content/2020-Mar.csv.gz',\n",
       " '/content/2019-Dec.csv.gz',\n",
       " '/content/2020-Apr.csv.gz',\n",
       " '/content/2020-Feb.csv.gz']"
      ]
     },
     "execution_count": 5,
     "metadata": {
      "tags": []
     },
     "output_type": "execute_result"
    }
   ],
   "source": [
    "list_gz_files = glob.glob('/content/*.gz')\n",
    "list_gz_files"
   ]
  },
  {
   "cell_type": "code",
   "execution_count": null,
   "metadata": {
    "id": "PVC7SGvzHFm1"
   },
   "outputs": [
    {
     "name": "stdout",
     "output_type": "stream",
     "text": [
      "/content/2020-Jan.csv.gz\n",
      "/content/2020-Mar.csv.gz\n",
      "/content/2019-Dec.csv.gz\n",
      "/content/2020-Apr.csv.gz\n",
      "/content/2020-Feb.csv.gz\n"
     ]
    }
   ],
   "source": [
    "for file in list_gz_files:\n",
    "  print(file)\n",
    "  !gunzip $file"
   ]
  },
  {
   "cell_type": "code",
   "execution_count": null,
   "metadata": {
    "id": "teiuKEb1QzcQ"
   },
   "outputs": [
    {
     "data": {
      "text/html": [
       "<div>\n",
       "<style scoped>\n",
       "    .dataframe tbody tr th:only-of-type {\n",
       "        vertical-align: middle;\n",
       "    }\n",
       "\n",
       "    .dataframe tbody tr th {\n",
       "        vertical-align: top;\n",
       "    }\n",
       "\n",
       "    .dataframe thead th {\n",
       "        text-align: right;\n",
       "    }\n",
       "</style>\n",
       "<table border=\"1\" class=\"dataframe\">\n",
       "  <thead>\n",
       "    <tr style=\"text-align: right;\">\n",
       "      <th></th>\n",
       "      <th>event_time</th>\n",
       "      <th>event_type</th>\n",
       "      <th>product_id</th>\n",
       "      <th>category_id</th>\n",
       "      <th>category_code</th>\n",
       "      <th>brand</th>\n",
       "      <th>price</th>\n",
       "      <th>user_id</th>\n",
       "      <th>user_session</th>\n",
       "    </tr>\n",
       "  </thead>\n",
       "  <tbody>\n",
       "    <tr>\n",
       "      <th>19704681</th>\n",
       "      <td>2019-10-15 12:13:56 UTC</td>\n",
       "      <td>view</td>\n",
       "      <td>1307348</td>\n",
       "      <td>2053013558920217191</td>\n",
       "      <td>computers.notebook</td>\n",
       "      <td>acer</td>\n",
       "      <td>694.97</td>\n",
       "      <td>515263277</td>\n",
       "      <td>1f854496-4dae-4114-af89-4f027ba31e56</td>\n",
       "    </tr>\n",
       "    <tr>\n",
       "      <th>41661471</th>\n",
       "      <td>2019-10-31 09:41:21 UTC</td>\n",
       "      <td>view</td>\n",
       "      <td>12709169</td>\n",
       "      <td>2053013553559896355</td>\n",
       "      <td>NaN</td>\n",
       "      <td>michelin</td>\n",
       "      <td>68.21</td>\n",
       "      <td>512784291</td>\n",
       "      <td>caa01956-1d21-4966-8767-3fa5013ef13a</td>\n",
       "    </tr>\n",
       "    <tr>\n",
       "      <th>14636483</th>\n",
       "      <td>2019-10-12 06:19:13 UTC</td>\n",
       "      <td>view</td>\n",
       "      <td>11300059</td>\n",
       "      <td>2053013555531219353</td>\n",
       "      <td>electronics.telephone</td>\n",
       "      <td>texet</td>\n",
       "      <td>17.46</td>\n",
       "      <td>519299950</td>\n",
       "      <td>d67e54c3-88e4-4df2-bc37-d8c7cf656a6a</td>\n",
       "    </tr>\n",
       "    <tr>\n",
       "      <th>41272837</th>\n",
       "      <td>2019-10-31 03:29:40 UTC</td>\n",
       "      <td>view</td>\n",
       "      <td>11500273</td>\n",
       "      <td>2053013554625249641</td>\n",
       "      <td>NaN</td>\n",
       "      <td>jbl</td>\n",
       "      <td>94.71</td>\n",
       "      <td>543868618</td>\n",
       "      <td>a162e395-7b69-49aa-9d45-f05a60e19641</td>\n",
       "    </tr>\n",
       "    <tr>\n",
       "      <th>3527462</th>\n",
       "      <td>2019-10-03 20:29:36 UTC</td>\n",
       "      <td>view</td>\n",
       "      <td>1004777</td>\n",
       "      <td>2053013555631882655</td>\n",
       "      <td>electronics.smartphone</td>\n",
       "      <td>xiaomi</td>\n",
       "      <td>135.01</td>\n",
       "      <td>520834671</td>\n",
       "      <td>98d5af9f-c141-4b79-bdd1-dc9bd1d9a7cb</td>\n",
       "    </tr>\n",
       "  </tbody>\n",
       "</table>\n",
       "</div>"
      ],
      "text/plain": [
       "                       event_time  ...                          user_session\n",
       "19704681  2019-10-15 12:13:56 UTC  ...  1f854496-4dae-4114-af89-4f027ba31e56\n",
       "41661471  2019-10-31 09:41:21 UTC  ...  caa01956-1d21-4966-8767-3fa5013ef13a\n",
       "14636483  2019-10-12 06:19:13 UTC  ...  d67e54c3-88e4-4df2-bc37-d8c7cf656a6a\n",
       "41272837  2019-10-31 03:29:40 UTC  ...  a162e395-7b69-49aa-9d45-f05a60e19641\n",
       "3527462   2019-10-03 20:29:36 UTC  ...  98d5af9f-c141-4b79-bdd1-dc9bd1d9a7cb\n",
       "\n",
       "[5 rows x 9 columns]"
      ]
     },
     "execution_count": 7,
     "metadata": {
      "tags": []
     },
     "output_type": "execute_result"
    }
   ],
   "source": [
    "snapshot = pd.read_csv(\"/content/2019-Oct.csv\").sample(1000)\n",
    "snapshot.head()"
   ]
  },
  {
   "cell_type": "code",
   "execution_count": null,
   "metadata": {
    "id": "Jq2EU5X4RAgG"
   },
   "outputs": [],
   "source": [
    "!mkdir -p /content/data/tmp\n",
    "snapshot.to_csv('/content/data/tmp/snapshot.csv', index=False)"
   ]
  },
  {
   "cell_type": "code",
   "execution_count": null,
   "metadata": {
    "id": "CYgxGyUMHmDQ"
   },
   "outputs": [
    {
     "data": {
      "text/plain": [
       "123"
      ]
     },
     "execution_count": 9,
     "metadata": {
      "tags": []
     },
     "output_type": "execute_result"
    }
   ],
   "source": [
    "gc.collect()"
   ]
  },
  {
   "cell_type": "markdown",
   "metadata": {
    "id": "CD_eROhoNxEu"
   },
   "source": [
    "### Data transform"
   ]
  },
  {
   "cell_type": "code",
   "execution_count": null,
   "metadata": {
    "id": "yTtSL-aeN464"
   },
   "outputs": [],
   "source": [
    "import os\n",
    "import gc\n",
    "import glob\n",
    "import pandas as pd\n",
    "from pathlib import Path"
   ]
  },
  {
   "cell_type": "code",
   "execution_count": null,
   "metadata": {
    "id": "bD1X1HtbXxqU"
   },
   "outputs": [],
   "source": [
    "file = '/content/data/tmp/snapshot.csv'"
   ]
  },
  {
   "cell_type": "code",
   "execution_count": null,
   "metadata": {
    "id": "LlHEnxnZR056"
   },
   "outputs": [
    {
     "data": {
      "text/html": [
       "<div>\n",
       "<style scoped>\n",
       "    .dataframe tbody tr th:only-of-type {\n",
       "        vertical-align: middle;\n",
       "    }\n",
       "\n",
       "    .dataframe tbody tr th {\n",
       "        vertical-align: top;\n",
       "    }\n",
       "\n",
       "    .dataframe thead th {\n",
       "        text-align: right;\n",
       "    }\n",
       "</style>\n",
       "<table border=\"1\" class=\"dataframe\">\n",
       "  <thead>\n",
       "    <tr style=\"text-align: right;\">\n",
       "      <th></th>\n",
       "      <th>event_time</th>\n",
       "      <th>event_type</th>\n",
       "      <th>product_id</th>\n",
       "      <th>category_code</th>\n",
       "      <th>brand</th>\n",
       "      <th>price</th>\n",
       "      <th>user_id</th>\n",
       "      <th>user_session</th>\n",
       "      <th>target</th>\n",
       "    </tr>\n",
       "  </thead>\n",
       "  <tbody>\n",
       "    <tr>\n",
       "      <th>55</th>\n",
       "      <td>2019-10-01 14:17:59 UTC</td>\n",
       "      <td>cart</td>\n",
       "      <td>4804055</td>\n",
       "      <td>electronics.audio.headphone</td>\n",
       "      <td>apple</td>\n",
       "      <td>189.10</td>\n",
       "      <td>522564858</td>\n",
       "      <td>c3f614f6-bdcb-46d7-ad93-18d03b0e11ba</td>\n",
       "      <td>0</td>\n",
       "    </tr>\n",
       "    <tr>\n",
       "      <th>75</th>\n",
       "      <td>2019-10-10 10:16:18 UTC</td>\n",
       "      <td>cart</td>\n",
       "      <td>1004708</td>\n",
       "      <td>electronics.smartphone</td>\n",
       "      <td>huawei</td>\n",
       "      <td>153.96</td>\n",
       "      <td>516882359</td>\n",
       "      <td>b513996d-0335-4337-bb4d-09c3c14ee2cf</td>\n",
       "      <td>0</td>\n",
       "    </tr>\n",
       "    <tr>\n",
       "      <th>133</th>\n",
       "      <td>2019-10-18 08:22:44 UTC</td>\n",
       "      <td>cart</td>\n",
       "      <td>2701288</td>\n",
       "      <td>appliances.kitchen.refrigerators</td>\n",
       "      <td>samsung</td>\n",
       "      <td>849.26</td>\n",
       "      <td>512762567</td>\n",
       "      <td>2dd77291-d54e-4d3c-a25a-2c915df9fff9</td>\n",
       "      <td>0</td>\n",
       "    </tr>\n",
       "    <tr>\n",
       "      <th>140</th>\n",
       "      <td>2019-10-10 04:24:55 UTC</td>\n",
       "      <td>cart</td>\n",
       "      <td>1004767</td>\n",
       "      <td>electronics.smartphone</td>\n",
       "      <td>samsung</td>\n",
       "      <td>250.93</td>\n",
       "      <td>558658709</td>\n",
       "      <td>d6c93da2-f4ee-42a1-951a-45fc52bbbf82</td>\n",
       "      <td>0</td>\n",
       "    </tr>\n",
       "    <tr>\n",
       "      <th>163</th>\n",
       "      <td>2019-10-12 20:19:27 UTC</td>\n",
       "      <td>cart</td>\n",
       "      <td>1004750</td>\n",
       "      <td>electronics.smartphone</td>\n",
       "      <td>samsung</td>\n",
       "      <td>196.80</td>\n",
       "      <td>549588267</td>\n",
       "      <td>d63ac7ef-d492-4034-b846-351fd2a5c32b</td>\n",
       "      <td>0</td>\n",
       "    </tr>\n",
       "  </tbody>\n",
       "</table>\n",
       "</div>"
      ],
      "text/plain": [
       "                  event_time  ... target\n",
       "55   2019-10-01 14:17:59 UTC  ...      0\n",
       "75   2019-10-10 10:16:18 UTC  ...      0\n",
       "133  2019-10-18 08:22:44 UTC  ...      0\n",
       "140  2019-10-10 04:24:55 UTC  ...      0\n",
       "163  2019-10-12 20:19:27 UTC  ...      0\n",
       "\n",
       "[5 rows x 9 columns]"
      ]
     },
     "execution_count": 12,
     "metadata": {
      "tags": []
     },
     "output_type": "execute_result"
    }
   ],
   "source": [
    "df_tmp = pd.read_csv(file)\n",
    "df_tmp['session_purchase'] =  df_tmp['user_session'] + '_' + df_tmp['product_id'].astype(str)\n",
    "df_purchase = df_tmp[df_tmp['event_type']=='purchase']\n",
    "df_cart = df_tmp[df_tmp['event_type']=='cart']\n",
    "df_purchase = df_purchase[df_purchase['session_purchase'].isin(df_cart['session_purchase'])]\n",
    "df_cart = df_cart[~(df_cart['session_purchase'].isin(df_purchase['session_purchase']))]\n",
    "df_cart['target'] = 0\n",
    "df_purchase['target'] = 1\n",
    "df = pd.concat([df_cart, df_purchase])\n",
    "df = df.drop('category_id', axis=1)\n",
    "df = df.drop('session_purchase', axis=1)\n",
    "df.head()"
   ]
  },
  {
   "cell_type": "code",
   "execution_count": null,
   "metadata": {
    "id": "H_rxW2oGRkIh"
   },
   "outputs": [
    {
     "data": {
      "text/html": [
       "<div>\n",
       "<style scoped>\n",
       "    .dataframe tbody tr th:only-of-type {\n",
       "        vertical-align: middle;\n",
       "    }\n",
       "\n",
       "    .dataframe tbody tr th {\n",
       "        vertical-align: top;\n",
       "    }\n",
       "\n",
       "    .dataframe thead th {\n",
       "        text-align: right;\n",
       "    }\n",
       "</style>\n",
       "<table border=\"1\" class=\"dataframe\">\n",
       "  <thead>\n",
       "    <tr style=\"text-align: right;\">\n",
       "      <th></th>\n",
       "      <th>event_time</th>\n",
       "      <th>event_type</th>\n",
       "      <th>product_id</th>\n",
       "      <th>brand</th>\n",
       "      <th>price</th>\n",
       "      <th>user_id</th>\n",
       "      <th>user_session</th>\n",
       "      <th>target</th>\n",
       "      <th>cat_0</th>\n",
       "      <th>cat_1</th>\n",
       "      <th>cat_2</th>\n",
       "      <th>timestamp</th>\n",
       "      <th>ts_hour</th>\n",
       "      <th>ts_minute</th>\n",
       "      <th>ts_weekday</th>\n",
       "      <th>ts_day</th>\n",
       "      <th>ts_month</th>\n",
       "      <th>ts_year</th>\n",
       "    </tr>\n",
       "  </thead>\n",
       "  <tbody>\n",
       "    <tr>\n",
       "      <th>55</th>\n",
       "      <td>2019-10-01 14:17:59 UTC</td>\n",
       "      <td>cart</td>\n",
       "      <td>4804055</td>\n",
       "      <td>apple</td>\n",
       "      <td>189.10</td>\n",
       "      <td>522564858</td>\n",
       "      <td>c3f614f6-bdcb-46d7-ad93-18d03b0e11ba</td>\n",
       "      <td>0</td>\n",
       "      <td>electronics</td>\n",
       "      <td>audio</td>\n",
       "      <td>headphone</td>\n",
       "      <td>2019-10-01 14:17:59</td>\n",
       "      <td>14</td>\n",
       "      <td>17</td>\n",
       "      <td>1</td>\n",
       "      <td>1</td>\n",
       "      <td>10</td>\n",
       "      <td>2019</td>\n",
       "    </tr>\n",
       "    <tr>\n",
       "      <th>75</th>\n",
       "      <td>2019-10-10 10:16:18 UTC</td>\n",
       "      <td>cart</td>\n",
       "      <td>1004708</td>\n",
       "      <td>huawei</td>\n",
       "      <td>153.96</td>\n",
       "      <td>516882359</td>\n",
       "      <td>b513996d-0335-4337-bb4d-09c3c14ee2cf</td>\n",
       "      <td>0</td>\n",
       "      <td>electronics</td>\n",
       "      <td>smartphone</td>\n",
       "      <td>NA</td>\n",
       "      <td>2019-10-10 10:16:18</td>\n",
       "      <td>10</td>\n",
       "      <td>16</td>\n",
       "      <td>3</td>\n",
       "      <td>10</td>\n",
       "      <td>10</td>\n",
       "      <td>2019</td>\n",
       "    </tr>\n",
       "    <tr>\n",
       "      <th>133</th>\n",
       "      <td>2019-10-18 08:22:44 UTC</td>\n",
       "      <td>cart</td>\n",
       "      <td>2701288</td>\n",
       "      <td>samsung</td>\n",
       "      <td>849.26</td>\n",
       "      <td>512762567</td>\n",
       "      <td>2dd77291-d54e-4d3c-a25a-2c915df9fff9</td>\n",
       "      <td>0</td>\n",
       "      <td>appliances</td>\n",
       "      <td>kitchen</td>\n",
       "      <td>refrigerators</td>\n",
       "      <td>2019-10-18 08:22:44</td>\n",
       "      <td>8</td>\n",
       "      <td>22</td>\n",
       "      <td>4</td>\n",
       "      <td>18</td>\n",
       "      <td>10</td>\n",
       "      <td>2019</td>\n",
       "    </tr>\n",
       "    <tr>\n",
       "      <th>140</th>\n",
       "      <td>2019-10-10 04:24:55 UTC</td>\n",
       "      <td>cart</td>\n",
       "      <td>1004767</td>\n",
       "      <td>samsung</td>\n",
       "      <td>250.93</td>\n",
       "      <td>558658709</td>\n",
       "      <td>d6c93da2-f4ee-42a1-951a-45fc52bbbf82</td>\n",
       "      <td>0</td>\n",
       "      <td>electronics</td>\n",
       "      <td>smartphone</td>\n",
       "      <td>NA</td>\n",
       "      <td>2019-10-10 04:24:55</td>\n",
       "      <td>4</td>\n",
       "      <td>24</td>\n",
       "      <td>3</td>\n",
       "      <td>10</td>\n",
       "      <td>10</td>\n",
       "      <td>2019</td>\n",
       "    </tr>\n",
       "    <tr>\n",
       "      <th>163</th>\n",
       "      <td>2019-10-12 20:19:27 UTC</td>\n",
       "      <td>cart</td>\n",
       "      <td>1004750</td>\n",
       "      <td>samsung</td>\n",
       "      <td>196.80</td>\n",
       "      <td>549588267</td>\n",
       "      <td>d63ac7ef-d492-4034-b846-351fd2a5c32b</td>\n",
       "      <td>0</td>\n",
       "      <td>electronics</td>\n",
       "      <td>smartphone</td>\n",
       "      <td>NA</td>\n",
       "      <td>2019-10-12 20:19:27</td>\n",
       "      <td>20</td>\n",
       "      <td>19</td>\n",
       "      <td>5</td>\n",
       "      <td>12</td>\n",
       "      <td>10</td>\n",
       "      <td>2019</td>\n",
       "    </tr>\n",
       "  </tbody>\n",
       "</table>\n",
       "</div>"
      ],
      "text/plain": [
       "                  event_time event_type  product_id  ... ts_day  ts_month  ts_year\n",
       "55   2019-10-01 14:17:59 UTC       cart     4804055  ...      1        10     2019\n",
       "75   2019-10-10 10:16:18 UTC       cart     1004708  ...     10        10     2019\n",
       "133  2019-10-18 08:22:44 UTC       cart     2701288  ...     18        10     2019\n",
       "140  2019-10-10 04:24:55 UTC       cart     1004767  ...     10        10     2019\n",
       "163  2019-10-12 20:19:27 UTC       cart     1004750  ...     12        10     2019\n",
       "\n",
       "[5 rows x 18 columns]"
      ]
     },
     "execution_count": 13,
     "metadata": {
      "tags": []
     },
     "output_type": "execute_result"
    }
   ],
   "source": [
    "df[['cat_0', 'cat_1', 'cat_2']] = df['category_code'].str.split(\"\\.\", n = 3, expand = True).fillna('NA')\n",
    "# df[['cat_0', 'cat_1', 'cat_2', 'cat_3']] = df['category_code'].str.split(\"\\.\", n = 3, expand = True).fillna('NA')\n",
    "df['brand'] = df['brand'].fillna('NA')\n",
    "df = df.drop('category_code', axis=1)\n",
    "df['timestamp'] = pd.to_datetime(df['event_time'].str.replace(' UTC', ''))\n",
    "df['ts_hour'] = df['timestamp'].dt.hour\n",
    "df['ts_minute'] = df['timestamp'].dt.minute\n",
    "df['ts_weekday'] = df['timestamp'].dt.weekday\n",
    "df['ts_day'] = df['timestamp'].dt.day\n",
    "df['ts_month'] = df['timestamp'].dt.month\n",
    "df['ts_year'] = df['timestamp'].dt.year\n",
    "df.head()"
   ]
  },
  {
   "cell_type": "code",
   "execution_count": null,
   "metadata": {
    "id": "M95wOkSINI_K"
   },
   "outputs": [
    {
     "data": {
      "text/plain": [
       "['/content/2020-Apr.csv',\n",
       " '/content/2019-Nov.csv',\n",
       " '/content/2020-Jan.csv',\n",
       " '/content/2019-Dec.csv',\n",
       " '/content/2020-Mar.csv',\n",
       " '/content/2019-Oct.csv',\n",
       " '/content/2020-Feb.csv']"
      ]
     },
     "execution_count": 14,
     "metadata": {
      "tags": []
     },
     "output_type": "execute_result"
    }
   ],
   "source": [
    "list_files = glob.glob('/content/*.csv')\n",
    "list_files"
   ]
  },
  {
   "cell_type": "code",
   "execution_count": null,
   "metadata": {
    "id": "AAVAUULwNriQ"
   },
   "outputs": [],
   "source": [
    "def process_files(df_tmp, chunkname):\n",
    "    df_tmp['session_purchase'] =  df_tmp['user_session'] + '_' + df_tmp['product_id'].astype(str)\n",
    "    df_purchase = df_tmp[df_tmp['event_type']=='purchase']\n",
    "    df_cart = df_tmp[df_tmp['event_type']=='cart']\n",
    "    df_purchase = df_purchase[df_purchase['session_purchase'].isin(df_cart['session_purchase'])]\n",
    "    df_cart = df_cart[~(df_cart['session_purchase'].isin(df_purchase['session_purchase']))]\n",
    "    df_cart['target'] = 0\n",
    "    df_purchase['target'] = 1\n",
    "    df = pd.concat([df_cart, df_purchase])\n",
    "    df = df.drop('category_id', axis=1)\n",
    "    df = df.drop('session_purchase', axis=1)\n",
    "    # df[['cat_0', 'cat_1', 'cat_2', 'cat_3']] = df['category_code'].str.split(\"\\.\", n = 3, expand = True).fillna('NA')\n",
    "    df['brand'] = df['brand'].fillna('NA')\n",
    "    # df = df.drop('category_code', axis=1)\n",
    "    df['timestamp'] = pd.to_datetime(df['event_time'].str.replace(' UTC', ''))\n",
    "    df['ts_hour'] = df['timestamp'].dt.hour\n",
    "    df['ts_minute'] = df['timestamp'].dt.minute\n",
    "    df['ts_weekday'] = df['timestamp'].dt.weekday\n",
    "    df['ts_day'] = df['timestamp'].dt.day\n",
    "    df['ts_month'] = df['timestamp'].dt.month\n",
    "    df['ts_year'] = df['timestamp'].dt.year\n",
    "    df.to_csv(chunkname, index=False)"
   ]
  },
  {
   "cell_type": "code",
   "execution_count": null,
   "metadata": {
    "id": "l8_QGBIzWxcO"
   },
   "outputs": [],
   "source": [
    "base_path_silver = \"/content/data/silver\"\n",
    "!mkdir -p $base_path_silver"
   ]
  },
  {
   "cell_type": "code",
   "execution_count": null,
   "metadata": {
    "id": "rlpfP0TRdsUK"
   },
   "outputs": [
    {
     "name": "stdout",
     "output_type": "stream",
     "text": [
      "/content/data/silver/2020-Apr-0.csv\n",
      "/content/data/silver/2019-Nov-1.csv\n"
     ]
    }
   ],
   "source": [
    "for idx, chunk in enumerate(list_files[:2]):\n",
    "  chunkname = os.path.join(base_path_silver, Path(chunk).stem + '-' + str(idx) + '.csv')\n",
    "  print(chunkname)"
   ]
  },
  {
   "cell_type": "code",
   "execution_count": null,
   "metadata": {
    "id": "RiN1K5yxOSik"
   },
   "outputs": [],
   "source": [
    "chunksize = 10 ** 6\n",
    "\n",
    "for file in list_files:\n",
    "    print(file)\n",
    "    for idx, chunk in enumerate(pd.read_csv(file, chunksize=chunksize)):\n",
    "      chunkname = os.path.join(base_path_silver, Path(file).stem + '-' + str(idx) + '.csv')\n",
    "      print(chunkname)\n",
    "      if not os.path.exists(chunkname):\n",
    "        process_files(chunk, chunkname)"
   ]
  },
  {
   "cell_type": "code",
   "execution_count": null,
   "metadata": {
    "id": "fluni49HqMrd"
   },
   "outputs": [],
   "source": [
    "for file in list_files:\n",
    "  !rm $file"
   ]
  },
  {
   "cell_type": "code",
   "execution_count": null,
   "metadata": {
    "id": "-f6cVkEiqtzh"
   },
   "outputs": [
    {
     "data": {
      "text/plain": [
       "['/content/data/silver/2020-Jan-40.csv',\n",
       " '/content/data/silver/2019-Dec-54.csv',\n",
       " '/content/data/silver/2019-Oct-27.csv',\n",
       " '/content/data/silver/2019-Nov-12.csv',\n",
       " '/content/data/silver/2020-Mar-36.csv',\n",
       " '/content/data/silver/2020-Apr-14.csv',\n",
       " '/content/data/silver/2020-Feb-40.csv',\n",
       " '/content/data/silver/2019-Nov-3.csv',\n",
       " '/content/data/silver/2020-Mar-3.csv',\n",
       " '/content/data/silver/2020-Apr-39.csv']"
      ]
     },
     "execution_count": 3,
     "metadata": {
      "tags": []
     },
     "output_type": "execute_result"
    }
   ],
   "source": [
    "list_chunks = glob.glob(os.path.join(base_path_silver,'*.csv'))\n",
    "list_chunks[:10]"
   ]
  },
  {
   "cell_type": "code",
   "execution_count": null,
   "metadata": {
    "id": "N5VRhVZsq0-Z"
   },
   "outputs": [],
   "source": [
    "!cd $base_path_silver && zip /content/data_silver.zip ./*.csv"
   ]
  },
  {
   "cell_type": "code",
   "execution_count": null,
   "metadata": {
    "id": "vYCsnvmgrpAW"
   },
   "outputs": [],
   "source": [
    "!cp data_silver.zip /content/drive/MyDrive/Recommendation"
   ]
  },
  {
   "cell_type": "code",
   "execution_count": null,
   "metadata": {
    "id": "S4FtC2JHOzpY"
   },
   "outputs": [],
   "source": [
    "lp = []\n",
    "for file in list_chunks:\n",
    "  lp.append(pd.read_csv(file))"
   ]
  },
  {
   "cell_type": "code",
   "execution_count": null,
   "metadata": {
    "id": "7Bc_EWETuEcP"
   },
   "outputs": [
    {
     "data": {
      "text/plain": [
       "(16742775, 16)"
      ]
     },
     "execution_count": 5,
     "metadata": {
      "tags": []
     },
     "output_type": "execute_result"
    }
   ],
   "source": [
    "df = pd.concat(lp)\n",
    "df.shape"
   ]
  },
  {
   "cell_type": "code",
   "execution_count": null,
   "metadata": {
    "id": "mDU1BYyisccz"
   },
   "outputs": [
    {
     "data": {
      "text/html": [
       "<div>\n",
       "<style scoped>\n",
       "    .dataframe tbody tr th:only-of-type {\n",
       "        vertical-align: middle;\n",
       "    }\n",
       "\n",
       "    .dataframe tbody tr th {\n",
       "        vertical-align: top;\n",
       "    }\n",
       "\n",
       "    .dataframe thead th {\n",
       "        text-align: right;\n",
       "    }\n",
       "</style>\n",
       "<table border=\"1\" class=\"dataframe\">\n",
       "  <thead>\n",
       "    <tr style=\"text-align: right;\">\n",
       "      <th></th>\n",
       "      <th>event_time</th>\n",
       "      <th>event_type</th>\n",
       "      <th>product_id</th>\n",
       "      <th>category_code</th>\n",
       "      <th>brand</th>\n",
       "      <th>price</th>\n",
       "      <th>user_id</th>\n",
       "      <th>user_session</th>\n",
       "      <th>target</th>\n",
       "      <th>timestamp</th>\n",
       "      <th>ts_hour</th>\n",
       "      <th>ts_minute</th>\n",
       "      <th>ts_weekday</th>\n",
       "      <th>ts_day</th>\n",
       "      <th>ts_month</th>\n",
       "      <th>ts_year</th>\n",
       "    </tr>\n",
       "  </thead>\n",
       "  <tbody>\n",
       "    <tr>\n",
       "      <th>0</th>\n",
       "      <td>2020-01-23 04:32:33 UTC</td>\n",
       "      <td>cart</td>\n",
       "      <td>100039953</td>\n",
       "      <td>appliances.personal.massager</td>\n",
       "      <td>kivi</td>\n",
       "      <td>267.44</td>\n",
       "      <td>512913139</td>\n",
       "      <td>9bebab16-bce8-43cd-ac97-f763ee4664dd</td>\n",
       "      <td>0</td>\n",
       "      <td>2020-01-23 04:32:33</td>\n",
       "      <td>4</td>\n",
       "      <td>32</td>\n",
       "      <td>3</td>\n",
       "      <td>23</td>\n",
       "      <td>1</td>\n",
       "      <td>2020</td>\n",
       "    </tr>\n",
       "    <tr>\n",
       "      <th>1</th>\n",
       "      <td>2020-01-23 04:32:36 UTC</td>\n",
       "      <td>cart</td>\n",
       "      <td>1004767</td>\n",
       "      <td>construction.tools.light</td>\n",
       "      <td>samsung</td>\n",
       "      <td>226.27</td>\n",
       "      <td>549154456</td>\n",
       "      <td>659387e4-032e-4e71-8b0b-3b90f0538f14</td>\n",
       "      <td>0</td>\n",
       "      <td>2020-01-23 04:32:36</td>\n",
       "      <td>4</td>\n",
       "      <td>32</td>\n",
       "      <td>3</td>\n",
       "      <td>23</td>\n",
       "      <td>1</td>\n",
       "      <td>2020</td>\n",
       "    </tr>\n",
       "    <tr>\n",
       "      <th>2</th>\n",
       "      <td>2020-01-23 04:32:38 UTC</td>\n",
       "      <td>cart</td>\n",
       "      <td>1003306</td>\n",
       "      <td>construction.tools.light</td>\n",
       "      <td>apple</td>\n",
       "      <td>614.79</td>\n",
       "      <td>585624798</td>\n",
       "      <td>41a24f4f-afb8-4342-ae6f-003aa968f82f</td>\n",
       "      <td>0</td>\n",
       "      <td>2020-01-23 04:32:38</td>\n",
       "      <td>4</td>\n",
       "      <td>32</td>\n",
       "      <td>3</td>\n",
       "      <td>23</td>\n",
       "      <td>1</td>\n",
       "      <td>2020</td>\n",
       "    </tr>\n",
       "    <tr>\n",
       "      <th>3</th>\n",
       "      <td>2020-01-23 04:32:38 UTC</td>\n",
       "      <td>cart</td>\n",
       "      <td>4804055</td>\n",
       "      <td>sport.bicycle</td>\n",
       "      <td>apple</td>\n",
       "      <td>192.07</td>\n",
       "      <td>525860806</td>\n",
       "      <td>70b5ed9a-4395-481e-9f91-d811ced8a4c3</td>\n",
       "      <td>0</td>\n",
       "      <td>2020-01-23 04:32:38</td>\n",
       "      <td>4</td>\n",
       "      <td>32</td>\n",
       "      <td>3</td>\n",
       "      <td>23</td>\n",
       "      <td>1</td>\n",
       "      <td>2020</td>\n",
       "    </tr>\n",
       "    <tr>\n",
       "      <th>4</th>\n",
       "      <td>2020-01-23 04:32:43 UTC</td>\n",
       "      <td>cart</td>\n",
       "      <td>1005100</td>\n",
       "      <td>construction.tools.light</td>\n",
       "      <td>samsung</td>\n",
       "      <td>141.06</td>\n",
       "      <td>599724791</td>\n",
       "      <td>bc35693d-9c73-457f-a7ef-8ced2f0bb729</td>\n",
       "      <td>0</td>\n",
       "      <td>2020-01-23 04:32:43</td>\n",
       "      <td>4</td>\n",
       "      <td>32</td>\n",
       "      <td>3</td>\n",
       "      <td>23</td>\n",
       "      <td>1</td>\n",
       "      <td>2020</td>\n",
       "    </tr>\n",
       "  </tbody>\n",
       "</table>\n",
       "</div>"
      ],
      "text/plain": [
       "                event_time event_type  product_id  ... ts_day ts_month  ts_year\n",
       "0  2020-01-23 04:32:33 UTC       cart   100039953  ...     23        1     2020\n",
       "1  2020-01-23 04:32:36 UTC       cart     1004767  ...     23        1     2020\n",
       "2  2020-01-23 04:32:38 UTC       cart     1003306  ...     23        1     2020\n",
       "3  2020-01-23 04:32:38 UTC       cart     4804055  ...     23        1     2020\n",
       "4  2020-01-23 04:32:43 UTC       cart     1005100  ...     23        1     2020\n",
       "\n",
       "[5 rows x 16 columns]"
      ]
     },
     "execution_count": 35,
     "metadata": {
      "tags": []
     },
     "output_type": "execute_result"
    }
   ],
   "source": [
    "df.head()"
   ]
  },
  {
   "cell_type": "code",
   "execution_count": null,
   "metadata": {
    "id": "lMDUiiz7sarl"
   },
   "outputs": [],
   "source": [
    "# df2 = df['category_code'].str.split(\"\\.\", n=3, expand=True).fillna('NA')\n",
    "# df2.columns = ['cat_{}'.format(x+1) for x in df2.columns]\n",
    "# df2.to_parquet('/content/data/silver_l2/df_cat.parquet', index=False)"
   ]
  },
  {
   "cell_type": "code",
   "execution_count": null,
   "metadata": {
    "id": "YFkf_K_jPEGS"
   },
   "outputs": [],
   "source": [
    "df_test = df[df['ts_month']==4]\n",
    "df_valid = df[df['ts_month']==3]\n",
    "df_train = df[(df['ts_month']!=3)&(df['ts_month']!=4)]"
   ]
  },
  {
   "cell_type": "code",
   "execution_count": null,
   "metadata": {
    "id": "OXVudXP-yIJG"
   },
   "outputs": [
    {
     "data": {
      "text/plain": [
       "((11495245, 16), (2466048, 16), (2781482, 16))"
      ]
     },
     "execution_count": 7,
     "metadata": {
      "tags": []
     },
     "output_type": "execute_result"
    }
   ],
   "source": [
    "df_train.shape, df_valid.shape, df_test.shape"
   ]
  },
  {
   "cell_type": "code",
   "execution_count": null,
   "metadata": {
    "id": "KBEAURWbxtBa"
   },
   "outputs": [],
   "source": [
    "!mkdir -p /content/data/silver_l2\n",
    "df_train.to_parquet('/content/data/silver_l2/train.parquet', index=False)\n",
    "df_valid.to_parquet('/content/data/silver_l2/valid.parquet', index=False)\n",
    "df_test.to_parquet('/content/data/silver_l2/test.parquet', index=False)"
   ]
  },
  {
   "cell_type": "markdown",
   "metadata": {
    "id": "Q8E5moaL3pb6"
   },
   "source": [
    "### Data load"
   ]
  },
  {
   "cell_type": "code",
   "execution_count": null,
   "metadata": {
    "id": "pN-Foz-x2-uO"
   },
   "outputs": [
    {
     "name": "stdout",
     "output_type": "stream",
     "text": [
      "  adding: test.parquet (deflated 24%)\n",
      "  adding: train.parquet (deflated 25%)\n",
      "  adding: valid.parquet (deflated 24%)\n"
     ]
    }
   ],
   "source": [
    "!cd /content/data/silver_l2 && zip /content/data_silver_l2.zip ./*.parquet\n",
    "!cp /content/data_silver_l2.zip /content/drive/MyDrive/Recommendation"
   ]
  },
  {
   "cell_type": "code",
   "execution_count": null,
   "metadata": {
    "id": "t5g5KwR66gTi"
   },
   "outputs": [
    {
     "data": {
      "text/plain": [
       "(16742775, 16)"
      ]
     },
     "execution_count": 1,
     "metadata": {
      "tags": []
     },
     "output_type": "execute_result"
    }
   ],
   "source": [
    "import pandas as pd\n",
    "\n",
    "df_train = pd.read_parquet('/content/data/silver_l2/train.parquet')\n",
    "df_valid = pd.read_parquet('/content/data/silver_l2/valid.parquet')\n",
    "df_test = pd.read_parquet('/content/data/silver_l2/test.parquet')\n",
    "\n",
    "df = pd.concat([df_train, df_valid, df_test],ignore_index=True)\n",
    "\n",
    "df.shape"
   ]
  },
  {
   "cell_type": "markdown",
   "metadata": {
    "id": "tcmIcf3s3sZo"
   },
   "source": [
    "### EDA"
   ]
  },
  {
   "cell_type": "code",
   "execution_count": null,
   "metadata": {
    "id": "L_qjZpHn5izl"
   },
   "outputs": [],
   "source": [
    "import IPython\n",
    "\n",
    "import pandas as pd\n",
    "import matplotlib.pyplot as plt\n",
    "\n",
    "import warnings\n",
    "warnings.filterwarnings(\"ignore\")\n",
    "\n",
    "%matplotlib inline"
   ]
  },
  {
   "cell_type": "code",
   "execution_count": null,
   "metadata": {
    "id": "H16gdtbZ3aMb"
   },
   "outputs": [
    {
     "data": {
      "text/plain": [
       "event_time        object\n",
       "event_type        object\n",
       "product_id         int64\n",
       "category_code     object\n",
       "brand             object\n",
       "price            float64\n",
       "user_id            int64\n",
       "user_session      object\n",
       "target             int64\n",
       "timestamp         object\n",
       "ts_hour            int64\n",
       "ts_minute          int64\n",
       "ts_weekday         int64\n",
       "ts_day             int64\n",
       "ts_month           int64\n",
       "ts_year            int64\n",
       "dtype: object"
      ]
     },
     "execution_count": 3,
     "metadata": {
      "tags": []
     },
     "output_type": "execute_result"
    }
   ],
   "source": [
    "df.dtypes"
   ]
  },
  {
   "cell_type": "code",
   "execution_count": null,
   "metadata": {
    "id": "LIdlCF-l4wvD"
   },
   "outputs": [],
   "source": [
    "df['timestamp'] = pd.to_datetime(df['timestamp'])"
   ]
  },
  {
   "cell_type": "code",
   "execution_count": null,
   "metadata": {
    "id": "zXcy3O_q40cX"
   },
   "outputs": [
    {
     "data": {
      "text/plain": [
       "0.36775719676099095"
      ]
     },
     "execution_count": 5,
     "metadata": {
      "tags": []
     },
     "output_type": "execute_result"
    }
   ],
   "source": [
    "df.target.mean()"
   ]
  },
  {
   "cell_type": "code",
   "execution_count": null,
   "metadata": {
    "id": "v9P5YniL5Bh9"
   },
   "outputs": [
    {
     "data": {
      "text/plain": [
       "cart        0.632243\n",
       "purchase    0.367757\n",
       "Name: event_type, dtype: float64"
      ]
     },
     "execution_count": 6,
     "metadata": {
      "tags": []
     },
     "output_type": "execute_result"
    }
   ],
   "source": [
    "df['event_type'].value_counts(normalize=True)"
   ]
  },
  {
   "cell_type": "markdown",
   "metadata": {
    "id": "XxVZV8Vn5HdU"
   },
   "source": [
    "Around 37.0% of datapoints are purchases. Lets take a look on the sparsity of the data."
   ]
  },
  {
   "cell_type": "code",
   "execution_count": null,
   "metadata": {
    "id": "uukjSMRT5FQG"
   },
   "outputs": [
    {
     "name": "stdout",
     "output_type": "stream",
     "text": [
      "# of datapoints:(16742775, 16)\n",
      "# of unique users:(3584809,)\n",
      "# of unique products:(214907,)\n",
      "# of unique sessions:(10715053,)\n"
     ]
    }
   ],
   "source": [
    "print('# of datapoints:' + str(df.shape))\n",
    "print('# of unique users:' + str(df['user_id'].drop_duplicates().shape))\n",
    "print('# of unique products:' + str(df['product_id'].drop_duplicates().shape))\n",
    "print('# of unique sessions:' + str(df['user_session'].drop_duplicates().shape))"
   ]
  },
  {
   "cell_type": "code",
   "execution_count": null,
   "metadata": {
    "id": "gIWDc9iF5Ktq"
   },
   "outputs": [],
   "source": [
    "def plot_sparse(df, col):\n",
    "    stats = df[[col, 'target']].groupby(col).agg(['count', 'mean', 'sum'])\n",
    "    stats = stats.reset_index()\n",
    "    stats.columns = [col, 'count', 'mean', 'sum']\n",
    "    stats_sort = stats['count'].value_counts().reset_index()\n",
    "    stats_sort = stats_sort.sort_values('index')\n",
    "    plt.figure(figsize=(15,4))\n",
    "    plt.bar(stats_sort['index'].astype(str).values[0:20], stats_sort['count'].values[0:20])\n",
    "    plt.title('Frequency of ' + str(col))\n",
    "    plt.xlabel('Number frequency')\n",
    "    plt.ylabel('Frequency')"
   ]
  },
  {
   "cell_type": "code",
   "execution_count": null,
   "metadata": {
    "id": "ThKVAx3K5bqH"
   },
   "outputs": [
    {
     "data": {
      "image/png": "[encoded data removed]",
      "text/plain": [
       "<Figure size 1080x288 with 1 Axes>"
      ]
     },
     "metadata": {
      "filenames": {
       "image/png": "/content/reco-book/_build/jupyter_execute/nbs/T513987_Recsys_2020_Feature_Engineering_Tutorial_46_0.png"
      },
      "needs_background": "light",
      "tags": []
     },
     "output_type": "display_data"
    }
   ],
   "source": [
    "plot_sparse(df, 'product_id')"
   ]
  },
  {
   "cell_type": "code",
   "execution_count": null,
   "metadata": {
    "id": "zlYjAUzq5fD9"
   },
   "outputs": [
    {
     "data": {
      "image/png": "[encoded data removed]",
      "text/plain": [
       "<Figure size 1080x288 with 1 Axes>"
      ]
     },
     "metadata": {
      "filenames": {
       "image/png": "/content/reco-book/_build/jupyter_execute/nbs/T513987_Recsys_2020_Feature_Engineering_Tutorial_47_0.png"
      },
      "needs_background": "light",
      "tags": []
     },
     "output_type": "display_data"
    }
   ],
   "source": [
    "plot_sparse(df, 'user_id')"
   ]
  },
  {
   "cell_type": "code",
   "execution_count": null,
   "metadata": {
    "id": "8powyDiy50ef"
   },
   "outputs": [
    {
     "data": {
      "image/png": "[encoded data removed]",
      "text/plain": [
       "<Figure size 1080x288 with 1 Axes>"
      ]
     },
     "metadata": {
      "filenames": {
       "image/png": "/content/reco-book/_build/jupyter_execute/nbs/T513987_Recsys_2020_Feature_Engineering_Tutorial_48_0.png"
      },
      "needs_background": "light",
      "tags": []
     },
     "output_type": "display_data"
    }
   ],
   "source": [
    "plot_sparse(df, 'brand')"
   ]
  },
  {
   "cell_type": "markdown",
   "metadata": {
    "id": "NgUmBmmS597f"
   },
   "source": [
    "We can observe following pattern:\n",
    "- There are ~45000 products which appear only once in the dataset\n",
    "- There are 1200000 users which appear only once in the dataset\n",
    "- There are 350 brands which appears only once in the dataset"
   ]
  },
  {
   "cell_type": "markdown",
   "metadata": {
    "id": "YN9112LL8mHy"
   },
   "source": [
    "The sparsity is important for understanding which features can be better used in a model. Product_id and User_id have many values which appear only once and the model is less able to learn a good patterns from them.\n",
    "On the other hand, brands has many observations and can be leveraged for prediction."
   ]
  },
  {
   "cell_type": "code",
   "execution_count": null,
   "metadata": {
    "id": "7Y2MwjKF55ES"
   },
   "outputs": [],
   "source": [
    "def plot_top20(df, col):\n",
    "    stats = df[[col, 'target']].groupby(col).agg(['count', 'mean', 'sum'])\n",
    "    stats = stats.reset_index()\n",
    "    stats.columns = [col, 'count', 'mean', 'sum']\n",
    "    stats = stats.sort_values('count', ascending=False)\n",
    "    fig, ax1 = plt.subplots(figsize=(15,4))\n",
    "    ax2 = ax1.twinx()\n",
    "    ax1.bar(stats[col].astype(str).values[0:20], stats['count'].values[0:20])\n",
    "    ax1.set_xticklabels(stats[col].astype(str).values[0:20], rotation='vertical')\n",
    "    ax2.plot(stats['mean'].values[0:20], color='red')\n",
    "    ax2.set_ylim(0,1)\n",
    "    ax2.set_ylabel('Mean Target')\n",
    "    ax1.set_ylabel('Frequency')\n",
    "    ax1.set_xlabel(col)\n",
    "    ax1.set_title('Top20 ' + col + 's based on frequency')"
   ]
  },
  {
   "cell_type": "code",
   "execution_count": null,
   "metadata": {
    "id": "QrCM9B2b8tLV"
   },
   "outputs": [
    {
     "data": {
      "image/png": "[encoded data removed]",
      "text/plain": [
       "<Figure size 1080x288 with 2 Axes>"
      ]
     },
     "metadata": {
      "filenames": {
       "image/png": "/content/reco-book/_build/jupyter_execute/nbs/T513987_Recsys_2020_Feature_Engineering_Tutorial_52_0.png"
      },
      "needs_background": "light",
      "tags": []
     },
     "output_type": "display_data"
    }
   ],
   "source": [
    "plot_top20(df, 'product_id')"
   ]
  },
  {
   "cell_type": "code",
   "execution_count": null,
   "metadata": {
    "id": "-Daz2Etw8ywW"
   },
   "outputs": [
    {
     "data": {
      "image/png": "[encoded data removed]",
      "text/plain": [
       "<Figure size 1080x288 with 2 Axes>"
      ]
     },
     "metadata": {
      "filenames": {
       "image/png": "/content/reco-book/_build/jupyter_execute/nbs/T513987_Recsys_2020_Feature_Engineering_Tutorial_53_0.png"
      },
      "needs_background": "light",
      "tags": []
     },
     "output_type": "display_data"
    }
   ],
   "source": [
    "plot_top20(df, 'user_id')"
   ]
  },
  {
   "cell_type": "code",
   "execution_count": null,
   "metadata": {
    "id": "IfVtFT4V80yK"
   },
   "outputs": [
    {
     "data": {
      "image/png": "[encoded data removed]",
      "text/plain": [
       "<Figure size 1080x288 with 2 Axes>"
      ]
     },
     "metadata": {
      "filenames": {
       "image/png": "/content/reco-book/_build/jupyter_execute/nbs/T513987_Recsys_2020_Feature_Engineering_Tutorial_54_0.png"
      },
      "needs_background": "light",
      "tags": []
     },
     "output_type": "display_data"
    }
   ],
   "source": [
    "plot_top20(df, 'brand')"
   ]
  },
  {
   "cell_type": "code",
   "execution_count": null,
   "metadata": {
    "id": "TeNKLjJU81_Y"
   },
   "outputs": [],
   "source": [
    "df['date'] = pd.to_datetime(df['timestamp']).dt.date"
   ]
  },
  {
   "cell_type": "code",
   "execution_count": null,
   "metadata": {
    "id": "yyUDEaxC9fKc"
   },
   "outputs": [
    {
     "name": "stdout",
     "output_type": "stream",
     "text": [
      "\n"
     ]
    },
    {
     "data": {
      "image/png": "[encoded data removed]",
      "text/plain": [
       "<Figure size 1080x288 with 1 Axes>"
      ]
     },
     "metadata": {
      "filenames": {
       "image/png": "/content/reco-book/_build/jupyter_execute/nbs/T513987_Recsys_2020_Feature_Engineering_Tutorial_56_1.png"
      },
      "needs_background": "light",
      "tags": []
     },
     "output_type": "display_data"
    }
   ],
   "source": [
    "plt.figure(figsize=(15,4))\n",
    "plt.plot(df[['date', 'target']].groupby('date').target.mean())\n",
    "plt.ylabel('average mean')\n",
    "plt.xlabel('date')\n",
    "plt.xticks(df[['date', 'target']].groupby('date').target.mean().index[::3], rotation='vertical')\n",
    "print('')"
   ]
  },
  {
   "cell_type": "code",
   "execution_count": null,
   "metadata": {
    "id": "p2xBxTn2-3KX"
   },
   "outputs": [
    {
     "data": {
      "text/plain": [
       "date\n",
       "2019-11-15    0.000000\n",
       "2020-01-02    0.000000\n",
       "2020-04-20    0.000096\n",
       "2020-04-21    0.000147\n",
       "2020-01-01    0.063013\n",
       "2020-02-27    0.114378\n",
       "2019-11-14    0.135596\n",
       "2019-11-16    0.147902\n",
       "2020-01-31    0.161678\n",
       "2020-02-01    0.203322\n",
       "2020-01-30    0.223492\n",
       "2020-02-02    0.258615\n",
       "2020-02-03    0.270665\n",
       "2020-01-03    0.282014\n",
       "2020-02-04    0.295918\n",
       "2020-02-29    0.300146\n",
       "2020-02-28    0.300432\n",
       "2020-02-05    0.310188\n",
       "2020-02-07    0.317174\n",
       "2020-02-08    0.318376\n",
       "Name: target, dtype: float64"
      ]
     },
     "execution_count": 5,
     "metadata": {
      "tags": []
     },
     "output_type": "execute_result"
    }
   ],
   "source": [
    "df[['date', 'target']].groupby('date').target.mean().sort_values().head(20)"
   ]
  },
  {
   "cell_type": "markdown",
   "metadata": {
    "id": "LJ7POegh-7rk"
   },
   "source": [
    "- We explored the data and saw the different raw features available in the dataset.\n",
    "- We analzyed basic statistics of the raw features and saw long-tail distribution for categorical features (user, item, brand)\n",
    "- Some categorical features (categories) have high occurances\n",
    "- In general, we see that categorical features have variance in the target, which we can leverage to engineer more powerful features"
   ]
  },
  {
   "cell_type": "markdown",
   "metadata": {
    "id": "HXZLJtnT6Sr-"
   },
   "source": [
    "## Part 2"
   ]
  },
  {
   "cell_type": "markdown",
   "metadata": {
    "id": "qU7bKl-xHQi3"
   },
   "source": [
    "### Install RAPIDS"
   ]
  },
  {
   "cell_type": "code",
   "execution_count": null,
   "metadata": {
    "id": "A477KsIzC8yR"
   },
   "outputs": [
    {
     "name": "stdout",
     "output_type": "stream",
     "text": [
      "Python 3.7.10\n",
      "No LSB modules are available.\n",
      "Distributor ID:\tUbuntu\n",
      "Description:\tUbuntu 18.04.5 LTS\n",
      "Release:\t18.04\n",
      "Codename:\tbionic\n",
      "nvcc: NVIDIA (R) Cuda compiler driver\n",
      "Copyright (c) 2005-2020 NVIDIA Corporation\n",
      "Built on Wed_Jul_22_19:09:09_PDT_2020\n",
      "Cuda compilation tools, release 11.0, V11.0.221\n",
      "Build cuda_11.0_bu.TC445_37.28845127_0\n",
      "/usr/local/cuda/bin/nvcc\n",
      "Sat Jun 19 07:09:44 2021       \n",
      "+-----------------------------------------------------------------------------+\n",
      "| NVIDIA-SMI 465.27       Driver Version: 460.32.03    CUDA Version: 11.2     |\n",
      "|-------------------------------+----------------------+----------------------+\n",
      "| GPU  Name        Persistence-M| Bus-Id        Disp.A | Volatile Uncorr. ECC |\n",
      "| Fan  Temp  Perf  Pwr:Usage/Cap|         Memory-Usage | GPU-Util  Compute M. |\n",
      "|                               |                      |               MIG M. |\n",
      "|===============================+======================+======================|\n",
      "|   0  Tesla T4            Off  | 00000000:00:04.0 Off |                    0 |\n",
      "| N/A   54C    P8    10W /  70W |      0MiB / 15109MiB |      0%      Default |\n",
      "|                               |                      |                  N/A |\n",
      "+-------------------------------+----------------------+----------------------+\n",
      "                                                                               \n",
      "+-----------------------------------------------------------------------------+\n",
      "| Processes:                                                                  |\n",
      "|  GPU   GI   CI        PID   Type   Process name                  GPU Memory |\n",
      "|        ID   ID                                                   Usage      |\n",
      "|=============================================================================|\n",
      "|  No running processes found                                                 |\n",
      "+-----------------------------------------------------------------------------+\n"
     ]
    }
   ],
   "source": [
    "# Check Python Version\n",
    "!python --version\n",
    "\n",
    "# Check Ubuntu Version\n",
    "!lsb_release -a\n",
    "\n",
    "# Check CUDA/cuDNN Version\n",
    "!nvcc -V && which nvcc\n",
    "\n",
    "# Check GPU\n",
    "!nvidia-smi"
   ]
  },
  {
   "cell_type": "code",
   "execution_count": null,
   "metadata": {
    "id": "mMqV93ivDa4q"
   },
   "outputs": [
    {
     "name": "stdout",
     "output_type": "stream",
     "text": [
      "Cloning into 'rapidsai-csp-utils'...\n",
      "remote: Enumerating objects: 272, done.\u001b[K\n",
      "remote: Counting objects: 100% (101/101), done.\u001b[K\n",
      "remote: Compressing objects: 100% (82/82), done.\u001b[K\n",
      "remote: Total 272 (delta 56), reused 38 (delta 19), pack-reused 171\u001b[K\n",
      "Receiving objects: 100% (272/272), 79.66 KiB | 1.35 MiB/s, done.\n",
      "Resolving deltas: 100% (118/118), done.\n",
      "***********************************************************************\n",
      "Woo! Your instance has the right kind of GPU, a Tesla T4!\n",
      "***********************************************************************\n",
      "\n"
     ]
    }
   ],
   "source": [
    "# This get the RAPIDS-Colab install files and test check your GPU.  Run this and the next cell only.\n",
    "# Please read the output of this cell.  If your Colab Instance is not RAPIDS compatible, it will warn you and give you remediation steps.\n",
    "!git clone https://github.com/rapidsai/rapidsai-csp-utils.git\n",
    "!python rapidsai-csp-utils/colab/env-check.py"
   ]
  },
  {
   "cell_type": "code",
   "execution_count": null,
   "metadata": {
    "id": "wOzXb8sdE69d"
   },
   "outputs": [],
   "source": [
    "# This will update the Colab environment and restart the kernel.  Don't run the next cell until you see the session crash.\n",
    "!bash rapidsai-csp-utils/colab/update_gcc.sh\n",
    "import os\n",
    "os._exit(00)"
   ]
  },
  {
   "cell_type": "code",
   "execution_count": null,
   "metadata": {
    "id": "uajvUZkpEqSe"
   },
   "outputs": [],
   "source": [
    "# This will install CondaColab.  This will restart your kernel one last time.  Run this cell by itself and only run the next cell once you see the session crash.\n",
    "import condacolab\n",
    "condacolab.install()"
   ]
  },
  {
   "cell_type": "code",
   "execution_count": null,
   "metadata": {
    "id": "HckAjLPjENGz"
   },
   "outputs": [],
   "source": [
    "# you can now run the rest of the cells as normal\n",
    "import condacolab\n",
    "condacolab.check()"
   ]
  },
  {
   "cell_type": "code",
   "execution_count": null,
   "metadata": {
    "id": "7_Ip6zuYG3u-"
   },
   "outputs": [],
   "source": [
    "# Installing RAPIDS is now 'python rapidsai-csp-utils/colab/install_rapids.py <release> <packages>'\n",
    "# The <release> options are 'stable' and 'nightly'.  Leaving it blank or adding any other words will default to stable.\n",
    "# The <packages> option are default blank or 'core'.  By default, we install RAPIDSAI and BlazingSQL.  The 'core' option will install only RAPIDSAI and not include BlazingSQL, \n",
    "!python rapidsai-csp-utils/colab/install_rapids.py stable"
   ]
  },
  {
   "cell_type": "code",
   "execution_count": null,
   "metadata": {
    "id": "op3d43QrB4bT"
   },
   "outputs": [],
   "source": [
    "import IPython\n",
    "\n",
    "import pandas as pd\n",
    "import cudf\n",
    "import numpy as np\n",
    "import cupy\n",
    "import matplotlib.pyplot as plt"
   ]
  },
  {
   "cell_type": "markdown",
   "metadata": {
    "id": "0cvBjPqT6SsG"
   },
   "source": [
    "### Data load"
   ]
  },
  {
   "cell_type": "code",
   "execution_count": null,
   "metadata": {
    "id": "TmqnZpzZ6SsG"
   },
   "outputs": [
    {
     "name": "stdout",
     "output_type": "stream",
     "text": [
      "Archive:  /content/data_silver_l2.zip\n",
      "  inflating: test.parquet            \n",
      "  inflating: train.parquet           \n",
      "  inflating: valid.parquet           \n"
     ]
    }
   ],
   "source": [
    "!cp /content/drive/MyDrive/Recommendation/data_silver_l2.zip /content\n",
    "!unzip /content/data_silver_l2.zip"
   ]
  },
  {
   "cell_type": "code",
   "execution_count": null,
   "metadata": {
    "id": "LWhFZJet6SsH"
   },
   "outputs": [
    {
     "data": {
      "text/plain": [
       "event_time             0\n",
       "event_type             0\n",
       "product_id             0\n",
       "category_code    1527738\n",
       "brand             949133\n",
       "price                  0\n",
       "user_id                0\n",
       "user_session          66\n",
       "target                 0\n",
       "timestamp              0\n",
       "ts_hour                0\n",
       "ts_minute              0\n",
       "ts_weekday             0\n",
       "ts_day                 0\n",
       "ts_month               0\n",
       "ts_year                0\n",
       "dtype: uint64"
      ]
     },
     "execution_count": 2,
     "metadata": {
      "tags": []
     },
     "output_type": "execute_result"
    }
   ],
   "source": [
    "df_train = cudf.read_parquet('/content/train.parquet')\n",
    "df_valid = cudf.read_parquet('/content/valid.parquet')\n",
    "df_test = cudf.read_parquet('/content/test.parquet')\n",
    "\n",
    "df_train.isna().sum()"
   ]
  },
  {
   "cell_type": "code",
   "execution_count": null,
   "metadata": {
    "id": "hyHiAN-FIc7f"
   },
   "outputs": [],
   "source": [
    "_temp = df_train['category_code'].str.split(\".\", n=3, expand=True).fillna('NA')\n",
    "_temp.columns = ['cat_{}'.format(x) for x in _temp.columns]\n",
    "df_train.drop('category_code', axis=1, inplace=True)\n",
    "df_train = df_train.join(_temp)\n",
    "\n",
    "_temp = df_valid['category_code'].str.split(\".\", n=3, expand=True).fillna('NA')\n",
    "_temp.columns = ['cat_{}'.format(x) for x in _temp.columns]\n",
    "df_valid.drop('category_code', axis=1, inplace=True)\n",
    "df_valid = df_valid.join(_temp)\n",
    "\n",
    "_temp = df_test['category_code'].str.split(\".\", n=3, expand=True).fillna('NA')\n",
    "_temp.columns = ['cat_{}'.format(x) for x in _temp.columns]\n",
    "df_test.drop('category_code', axis=1, inplace=True)\n",
    "df_test = df_test.join(_temp)"
   ]
  },
  {
   "cell_type": "code",
   "execution_count": null,
   "metadata": {
    "id": "X0tlszhuOLfx"
   },
   "outputs": [
    {
     "data": {
      "text/html": [
       "<div>\n",
       "<style scoped>\n",
       "    .dataframe tbody tr th:only-of-type {\n",
       "        vertical-align: middle;\n",
       "    }\n",
       "\n",
       "    .dataframe tbody tr th {\n",
       "        vertical-align: top;\n",
       "    }\n",
       "\n",
       "    .dataframe thead th {\n",
       "        text-align: right;\n",
       "    }\n",
       "</style>\n",
       "<table border=\"1\" class=\"dataframe\">\n",
       "  <thead>\n",
       "    <tr style=\"text-align: right;\">\n",
       "      <th></th>\n",
       "      <th>event_time</th>\n",
       "      <th>event_type</th>\n",
       "      <th>product_id</th>\n",
       "      <th>brand</th>\n",
       "      <th>price</th>\n",
       "      <th>user_id</th>\n",
       "      <th>user_session</th>\n",
       "      <th>target</th>\n",
       "      <th>timestamp</th>\n",
       "      <th>ts_hour</th>\n",
       "      <th>ts_minute</th>\n",
       "      <th>ts_weekday</th>\n",
       "      <th>ts_day</th>\n",
       "      <th>ts_month</th>\n",
       "      <th>ts_year</th>\n",
       "      <th>cat_0</th>\n",
       "      <th>cat_1</th>\n",
       "      <th>cat_2</th>\n",
       "      <th>cat_3</th>\n",
       "    </tr>\n",
       "  </thead>\n",
       "  <tbody>\n",
       "    <tr>\n",
       "      <th>15328</th>\n",
       "      <td>2020-01-23 10:22:27 UTC</td>\n",
       "      <td>cart</td>\n",
       "      <td>1005101</td>\n",
       "      <td>xiaomi</td>\n",
       "      <td>419.31</td>\n",
       "      <td>602604607</td>\n",
       "      <td>ec725848-03db-4a0d-94b2-d0121f79dbb5</td>\n",
       "      <td>0</td>\n",
       "      <td>2020-01-23 10:22:27</td>\n",
       "      <td>10</td>\n",
       "      <td>22</td>\n",
       "      <td>3</td>\n",
       "      <td>23</td>\n",
       "      <td>1</td>\n",
       "      <td>2020</td>\n",
       "      <td>construction</td>\n",
       "      <td>tools</td>\n",
       "      <td>light</td>\n",
       "      <td>NA</td>\n",
       "    </tr>\n",
       "    <tr>\n",
       "      <th>15329</th>\n",
       "      <td>2020-01-23 10:22:27 UTC</td>\n",
       "      <td>cart</td>\n",
       "      <td>17300751</td>\n",
       "      <td>versace</td>\n",
       "      <td>81.57</td>\n",
       "      <td>543745697</td>\n",
       "      <td>860e30ab-c461-40ef-aa17-1f74acc94f21</td>\n",
       "      <td>0</td>\n",
       "      <td>2020-01-23 10:22:27</td>\n",
       "      <td>10</td>\n",
       "      <td>22</td>\n",
       "      <td>3</td>\n",
       "      <td>23</td>\n",
       "      <td>1</td>\n",
       "      <td>2020</td>\n",
       "      <td>apparel</td>\n",
       "      <td>shoes</td>\n",
       "      <td>sandals</td>\n",
       "      <td>NA</td>\n",
       "    </tr>\n",
       "    <tr>\n",
       "      <th>15330</th>\n",
       "      <td>2020-01-23 10:22:37 UTC</td>\n",
       "      <td>cart</td>\n",
       "      <td>4802273</td>\n",
       "      <td>samsung</td>\n",
       "      <td>6.67</td>\n",
       "      <td>512756088</td>\n",
       "      <td>0b8d5157-50ee-46ae-9772-e599004d1cbc</td>\n",
       "      <td>0</td>\n",
       "      <td>2020-01-23 10:22:37</td>\n",
       "      <td>10</td>\n",
       "      <td>22</td>\n",
       "      <td>3</td>\n",
       "      <td>23</td>\n",
       "      <td>1</td>\n",
       "      <td>2020</td>\n",
       "      <td>sport</td>\n",
       "      <td>bicycle</td>\n",
       "      <td>NA</td>\n",
       "      <td>NA</td>\n",
       "    </tr>\n",
       "    <tr>\n",
       "      <th>15331</th>\n",
       "      <td>2020-01-23 10:22:38 UTC</td>\n",
       "      <td>cart</td>\n",
       "      <td>2900561</td>\n",
       "      <td>midea</td>\n",
       "      <td>48.86</td>\n",
       "      <td>571387327</td>\n",
       "      <td>2366dffb-a199-4aa1-b6a3-12fe807ea80d</td>\n",
       "      <td>0</td>\n",
       "      <td>2020-01-23 10:22:38</td>\n",
       "      <td>10</td>\n",
       "      <td>22</td>\n",
       "      <td>3</td>\n",
       "      <td>23</td>\n",
       "      <td>1</td>\n",
       "      <td>2020</td>\n",
       "      <td>furniture</td>\n",
       "      <td>bedroom</td>\n",
       "      <td>blanket</td>\n",
       "      <td>NA</td>\n",
       "    </tr>\n",
       "    <tr>\n",
       "      <th>15332</th>\n",
       "      <td>2020-01-23 10:22:40 UTC</td>\n",
       "      <td>cart</td>\n",
       "      <td>17501003</td>\n",
       "      <td>enough</td>\n",
       "      <td>6.69</td>\n",
       "      <td>590902280</td>\n",
       "      <td>38efa242-cba4-45ac-8d28-a96d964d0e57</td>\n",
       "      <td>0</td>\n",
       "      <td>2020-01-23 10:22:40</td>\n",
       "      <td>10</td>\n",
       "      <td>22</td>\n",
       "      <td>3</td>\n",
       "      <td>23</td>\n",
       "      <td>1</td>\n",
       "      <td>2020</td>\n",
       "      <td>apparel</td>\n",
       "      <td>costume</td>\n",
       "      <td>NA</td>\n",
       "      <td>NA</td>\n",
       "    </tr>\n",
       "  </tbody>\n",
       "</table>\n",
       "</div>"
      ],
      "text/plain": [
       "                    event_time event_type  product_id  ...    cat_1    cat_2  cat_3\n",
       "15328  2020-01-23 10:22:27 UTC       cart     1005101  ...    tools    light     NA\n",
       "15329  2020-01-23 10:22:27 UTC       cart    17300751  ...    shoes  sandals     NA\n",
       "15330  2020-01-23 10:22:37 UTC       cart     4802273  ...  bicycle       NA     NA\n",
       "15331  2020-01-23 10:22:38 UTC       cart     2900561  ...  bedroom  blanket     NA\n",
       "15332  2020-01-23 10:22:40 UTC       cart    17501003  ...  costume       NA     NA\n",
       "\n",
       "[5 rows x 19 columns]"
      ]
     },
     "execution_count": 20,
     "metadata": {
      "tags": []
     },
     "output_type": "execute_result"
    }
   ],
   "source": [
    "df_train.head()"
   ]
  },
  {
   "cell_type": "markdown",
   "metadata": {
    "id": "QDBrto66IJX7"
   },
   "source": [
    "### Missing value imputation"
   ]
  },
  {
   "cell_type": "markdown",
   "metadata": {
    "id": "UIPbHCJMIRdL"
   },
   "source": [
    "Categorical Features: Imputing categorical features is easy - a unique category value (e.g. \"UNKNOWN\") can be imputed\n",
    "\n",
    "Important: Before imputing the missing values, it is beneficial to create a indicator column, which indicate if the a value was imputed or not. There is maybe a underlying pattern for the missing values and models can learn the pattern."
   ]
  },
  {
   "cell_type": "code",
   "execution_count": null,
   "metadata": {
    "id": "t_69z61dCA27"
   },
   "outputs": [],
   "source": [
    "cols = ['brand', 'user_session', 'cat_0', 'cat_1', 'cat_2', 'cat_3']\n",
    "\n",
    "for col in cols:\n",
    "    df_train['NA_' + col] = df_train[col].isna().astype(np.int8)\n",
    "    df_train[col].fillna('UNKNOWN', inplace=True)"
   ]
  },
  {
   "cell_type": "code",
   "execution_count": null,
   "metadata": {
    "id": "sQAc_Sf6Otqt"
   },
   "outputs": [
    {
     "data": {
      "text/plain": [
       "event_time         0\n",
       "event_type         0\n",
       "product_id         0\n",
       "brand              0\n",
       "price              0\n",
       "user_id            0\n",
       "user_session       0\n",
       "target             0\n",
       "timestamp          0\n",
       "ts_hour            0\n",
       "ts_minute          0\n",
       "ts_weekday         0\n",
       "ts_day             0\n",
       "ts_month           0\n",
       "ts_year            0\n",
       "cat_0              0\n",
       "cat_1              0\n",
       "cat_2              0\n",
       "cat_3              0\n",
       "NA_brand           0\n",
       "NA_user_session    0\n",
       "NA_cat_0           0\n",
       "NA_cat_1           0\n",
       "NA_cat_2           0\n",
       "NA_cat_3           0\n",
       "dtype: uint64"
      ]
     },
     "execution_count": 22,
     "metadata": {
      "tags": []
     },
     "output_type": "execute_result"
    }
   ],
   "source": [
    "df_train.isna().sum()"
   ]
  },
  {
   "cell_type": "markdown",
   "metadata": {
    "id": "QkmIIh2JPFUV"
   },
   "source": [
    "Numerical Features: Imputing median for the numerical value (per group)\n",
    "Imputing mean for numercial value (per group)\n",
    "In some cases, we may know what value should be used as the default value (e.g. 0 for historical data or the max)\n",
    "\n",
    "\n",
    "Important: For the same reason as in the categorical case, it is important to add a indicator column that the datapoint was imputed.\n",
    "\n",
    "In our case, we do not have missing values in the numerical column price. Therefore, we artificially inject nans and then compare the difference."
   ]
  },
  {
   "cell_type": "code",
   "execution_count": null,
   "metadata": {
    "id": "OwoNFjhHOu-X"
   },
   "outputs": [
    {
     "data": {
      "text/plain": [
       "0.009994654311413111"
      ]
     },
     "execution_count": 23,
     "metadata": {
      "tags": []
     },
     "output_type": "execute_result"
    }
   ],
   "source": [
    "np.random.seed(42)\n",
    "df_train.loc[np.random.random(df_train.shape[0])<0.01, 'price'] = None\n",
    "df_train['price'].isna().mean()"
   ]
  },
  {
   "cell_type": "markdown",
   "metadata": {
    "id": "78GxvWHFPL58"
   },
   "source": [
    "We calculate the median per cat_2 and merge it to the dataset."
   ]
  },
  {
   "cell_type": "code",
   "execution_count": null,
   "metadata": {
    "id": "WInk0_goPLgf"
   },
   "outputs": [],
   "source": [
    "df_median = df_train[['cat_2', 'price']].groupby('cat_2').median().reset_index()\n",
    "df_median.columns = ['cat_2', 'price_median_per_cat2']\n",
    "df_train = df_train.merge(df_median, how='left', on='cat_2')"
   ]
  },
  {
   "cell_type": "markdown",
   "metadata": {
    "id": "QAmEbcYtPQB-"
   },
   "source": [
    "We create an indicator column, when price was not available and then overwrite the missing values with the median."
   ]
  },
  {
   "cell_type": "code",
   "execution_count": null,
   "metadata": {
    "id": "vPtjViuHPQVB"
   },
   "outputs": [
    {
     "data": {
      "text/html": [
       "<div>\n",
       "<style scoped>\n",
       "    .dataframe tbody tr th:only-of-type {\n",
       "        vertical-align: middle;\n",
       "    }\n",
       "\n",
       "    .dataframe tbody tr th {\n",
       "        vertical-align: top;\n",
       "    }\n",
       "\n",
       "    .dataframe thead th {\n",
       "        text-align: right;\n",
       "    }\n",
       "</style>\n",
       "<table border=\"1\" class=\"dataframe\">\n",
       "  <thead>\n",
       "    <tr style=\"text-align: right;\">\n",
       "      <th></th>\n",
       "      <th>event_time</th>\n",
       "      <th>event_type</th>\n",
       "      <th>product_id</th>\n",
       "      <th>brand</th>\n",
       "      <th>price</th>\n",
       "      <th>user_id</th>\n",
       "      <th>user_session</th>\n",
       "      <th>target</th>\n",
       "      <th>timestamp</th>\n",
       "      <th>ts_hour</th>\n",
       "      <th>ts_minute</th>\n",
       "      <th>ts_weekday</th>\n",
       "      <th>ts_day</th>\n",
       "      <th>ts_month</th>\n",
       "      <th>ts_year</th>\n",
       "      <th>cat_0</th>\n",
       "      <th>cat_1</th>\n",
       "      <th>cat_2</th>\n",
       "      <th>cat_3</th>\n",
       "      <th>NA_brand</th>\n",
       "      <th>NA_user_session</th>\n",
       "      <th>NA_cat_0</th>\n",
       "      <th>NA_cat_1</th>\n",
       "      <th>NA_cat_2</th>\n",
       "      <th>NA_cat_3</th>\n",
       "      <th>NA_price</th>\n",
       "    </tr>\n",
       "  </thead>\n",
       "  <tbody>\n",
       "    <tr>\n",
       "      <th>0</th>\n",
       "      <td>2020-01-23 13:55:58 UTC</td>\n",
       "      <td>cart</td>\n",
       "      <td>1002524</td>\n",
       "      <td>apple</td>\n",
       "      <td>514.81</td>\n",
       "      <td>568965448</td>\n",
       "      <td>ed183a73-dbce-4f24-893c-fcf8541ec69a</td>\n",
       "      <td>0</td>\n",
       "      <td>2020-01-23 13:55:58</td>\n",
       "      <td>13</td>\n",
       "      <td>55</td>\n",
       "      <td>3</td>\n",
       "      <td>23</td>\n",
       "      <td>1</td>\n",
       "      <td>2020</td>\n",
       "      <td>construction</td>\n",
       "      <td>tools</td>\n",
       "      <td>light</td>\n",
       "      <td>NA</td>\n",
       "      <td>0</td>\n",
       "      <td>0</td>\n",
       "      <td>0</td>\n",
       "      <td>0</td>\n",
       "      <td>0</td>\n",
       "      <td>0</td>\n",
       "      <td>0</td>\n",
       "    </tr>\n",
       "    <tr>\n",
       "      <th>1</th>\n",
       "      <td>2020-01-23 13:55:59 UTC</td>\n",
       "      <td>cart</td>\n",
       "      <td>1005099</td>\n",
       "      <td>samsung</td>\n",
       "      <td>141.05</td>\n",
       "      <td>603972321</td>\n",
       "      <td>5bf2241f-6062-4403-9fd5-b746e43149e2</td>\n",
       "      <td>0</td>\n",
       "      <td>2020-01-23 13:55:59</td>\n",
       "      <td>13</td>\n",
       "      <td>55</td>\n",
       "      <td>3</td>\n",
       "      <td>23</td>\n",
       "      <td>1</td>\n",
       "      <td>2020</td>\n",
       "      <td>construction</td>\n",
       "      <td>tools</td>\n",
       "      <td>light</td>\n",
       "      <td>NA</td>\n",
       "      <td>0</td>\n",
       "      <td>0</td>\n",
       "      <td>0</td>\n",
       "      <td>0</td>\n",
       "      <td>0</td>\n",
       "      <td>0</td>\n",
       "      <td>0</td>\n",
       "    </tr>\n",
       "    <tr>\n",
       "      <th>2</th>\n",
       "      <td>2020-01-23 13:55:59 UTC</td>\n",
       "      <td>cart</td>\n",
       "      <td>1002524</td>\n",
       "      <td>apple</td>\n",
       "      <td>514.81</td>\n",
       "      <td>568965448</td>\n",
       "      <td>ed183a73-dbce-4f24-893c-fcf8541ec69a</td>\n",
       "      <td>0</td>\n",
       "      <td>2020-01-23 13:55:59</td>\n",
       "      <td>13</td>\n",
       "      <td>55</td>\n",
       "      <td>3</td>\n",
       "      <td>23</td>\n",
       "      <td>1</td>\n",
       "      <td>2020</td>\n",
       "      <td>construction</td>\n",
       "      <td>tools</td>\n",
       "      <td>light</td>\n",
       "      <td>NA</td>\n",
       "      <td>0</td>\n",
       "      <td>0</td>\n",
       "      <td>0</td>\n",
       "      <td>0</td>\n",
       "      <td>0</td>\n",
       "      <td>0</td>\n",
       "      <td>0</td>\n",
       "    </tr>\n",
       "    <tr>\n",
       "      <th>3</th>\n",
       "      <td>2020-01-23 13:55:59 UTC</td>\n",
       "      <td>cart</td>\n",
       "      <td>1002524</td>\n",
       "      <td>apple</td>\n",
       "      <td>514.81</td>\n",
       "      <td>568965448</td>\n",
       "      <td>ed183a73-dbce-4f24-893c-fcf8541ec69a</td>\n",
       "      <td>0</td>\n",
       "      <td>2020-01-23 13:55:59</td>\n",
       "      <td>13</td>\n",
       "      <td>55</td>\n",
       "      <td>3</td>\n",
       "      <td>23</td>\n",
       "      <td>1</td>\n",
       "      <td>2020</td>\n",
       "      <td>construction</td>\n",
       "      <td>tools</td>\n",
       "      <td>light</td>\n",
       "      <td>NA</td>\n",
       "      <td>0</td>\n",
       "      <td>0</td>\n",
       "      <td>0</td>\n",
       "      <td>0</td>\n",
       "      <td>0</td>\n",
       "      <td>0</td>\n",
       "      <td>0</td>\n",
       "    </tr>\n",
       "    <tr>\n",
       "      <th>4</th>\n",
       "      <td>2020-01-23 13:55:59 UTC</td>\n",
       "      <td>cart</td>\n",
       "      <td>26010323</td>\n",
       "      <td>UNKNOWN</td>\n",
       "      <td>9.01</td>\n",
       "      <td>530857374</td>\n",
       "      <td>26b6aa26-d125-4cb4-9249-f74053b0b950</td>\n",
       "      <td>0</td>\n",
       "      <td>2020-01-23 13:55:59</td>\n",
       "      <td>13</td>\n",
       "      <td>55</td>\n",
       "      <td>3</td>\n",
       "      <td>23</td>\n",
       "      <td>1</td>\n",
       "      <td>2020</td>\n",
       "      <td>NA</td>\n",
       "      <td>NA</td>\n",
       "      <td>NA</td>\n",
       "      <td>NA</td>\n",
       "      <td>1</td>\n",
       "      <td>0</td>\n",
       "      <td>0</td>\n",
       "      <td>0</td>\n",
       "      <td>0</td>\n",
       "      <td>0</td>\n",
       "      <td>0</td>\n",
       "    </tr>\n",
       "  </tbody>\n",
       "</table>\n",
       "</div>"
      ],
      "text/plain": [
       "                event_time event_type  product_id  ... NA_cat_2  NA_cat_3  NA_price\n",
       "0  2020-01-23 13:55:58 UTC       cart     1002524  ...        0         0         0\n",
       "1  2020-01-23 13:55:59 UTC       cart     1005099  ...        0         0         0\n",
       "2  2020-01-23 13:55:59 UTC       cart     1002524  ...        0         0         0\n",
       "3  2020-01-23 13:55:59 UTC       cart     1002524  ...        0         0         0\n",
       "4  2020-01-23 13:55:59 UTC       cart    26010323  ...        0         0         0\n",
       "\n",
       "[5 rows x 26 columns]"
      ]
     },
     "execution_count": 29,
     "metadata": {
      "tags": []
     },
     "output_type": "execute_result"
    }
   ],
   "source": [
    "df_train['NA_price'] = df_train[col].isna().astype(np.int8)\n",
    "df_train.loc[df_train['price'].isna(), 'price'] = df_train.loc[df_train['price'].isna(), 'price_median_per_cat2']\n",
    "df_train.drop('price_median_per_cat2', axis=1, inplace=True)\n",
    "df_train.head(5)"
   ]
  },
  {
   "cell_type": "code",
   "execution_count": null,
   "metadata": {
    "id": "gvol2f7nPlqM"
   },
   "outputs": [
    {
     "data": {
      "text/plain": [
       "0.0"
      ]
     },
     "execution_count": 30,
     "metadata": {
      "tags": []
     },
     "output_type": "execute_result"
    }
   ],
   "source": [
    "df_train['price'].isna().mean()"
   ]
  },
  {
   "cell_type": "markdown",
   "metadata": {
    "id": "us4AeY7RPxsK"
   },
   "source": [
    "Predicting missing values: In [Improving Deep Learning For Airbnb Search](https://arxiv.org/abs/2002.05515), the authors propose to use a DNN for missing user engagement features of new items (listenings). New items have no historical user engagements, such as # of views, # of bookings, etc.. In the paper, they train a DNN based on the meta information, such as price, location and predict the user engagements feature. This could be interpreted in what are the expected user engagement.\n",
    "\n",
    "Instead of the hand-crafted default values for missing user engagement, the authors replaced the missing values with the prediction of the DNN and showed that it reduced the error by 43% (offline test) and improved the overall bookings by 0.38% (online A/B test)."
   ]
  },
  {
   "cell_type": "markdown",
   "metadata": {
    "id": "za7BuNoIQJnb"
   },
   "source": [
    "### Feature cross - basics"
   ]
  },
  {
   "cell_type": "markdown",
   "metadata": {
    "id": "pfRasuDrQXpc"
   },
   "source": [
    "*Combining Categories (CC)* is a simple, powerful technique, but often undervalued. We will use this strategy in other feature engineering techniques, as well, and will introduce its value in a simple example.\n",
    "\n",
    "In some datasets, categories by itself provide no information to predict the target. But if we combine multiple categories, together, then we can indentify patterns.\n",
    "\n",
    "For example, we have the following categories:\n",
    "- Weekday\n",
    "- Hour of the day\n",
    "\n",
    "Each of them independently has no significant pattern in the dataset. If we combine them with Weekday_HourOfTheDay, then we can observe some strong behavior for certainn times on the weekend\n",
    "\n",
    "Decision Trees determine the split in the dataset on single features. If each categorical feature by itself does not provide the information gain, then Decision Trees cannot find a good split. If we provide a combined categorical feature, the Decision Tree can easier split the dataset."
   ]
  },
  {
   "cell_type": "markdown",
   "metadata": {
    "id": "8qiWXy3PQfD9"
   },
   "source": [
    "Combining categories, also called Cross Column or Cross Product, is used in the Wide Deep Architecture by Google and is implemented in Tensorflow."
   ]
  },
  {
   "cell_type": "code",
   "execution_count": null,
   "metadata": {
    "id": "9dsdm-n4Pugm"
   },
   "outputs": [],
   "source": [
    "f1 = [0]*45 + [1]*45 + [2]*10 + [0]*5 + [1]*5 + [2]*90 + [0]*5 + [1]*5 + [2]*90 + [0]*45 + [1]*45 + [2]*10\n",
    "f2 = [0]*45 + [0]*45 + [0]*10 + [1]*5 + [1]*5 + [1]*90 + [0]*5 + [0]*5 + [0]*90 + [1]*45 + [1]*45 + [1]*10\n",
    "t = [1]*45 + [1]*45 + [1]*10 + [1]*5 + [1]*5 + [1]*90 + [0]*5 + [0]*5 + [0]*90 + [0]*45 + [0]*45 + [0]*10\n",
    "\n",
    "data = cudf.DataFrame({\n",
    "    'f1': f1,\n",
    "    'f2': f2,\n",
    "})\n",
    "\n",
    "for i in range(3,5):\n",
    "    data['f' + str(i)] = np.random.choice(list(range(3)), data.shape[0])\n",
    "\n",
    "data['target'] = t"
   ]
  },
  {
   "cell_type": "code",
   "execution_count": null,
   "metadata": {
    "id": "lhygn9-oQpdX"
   },
   "outputs": [
    {
     "data": {
      "text/html": [
       "<div>\n",
       "<style scoped>\n",
       "    .dataframe tbody tr th:only-of-type {\n",
       "        vertical-align: middle;\n",
       "    }\n",
       "\n",
       "    .dataframe tbody tr th {\n",
       "        vertical-align: top;\n",
       "    }\n",
       "\n",
       "    .dataframe thead th {\n",
       "        text-align: right;\n",
       "    }\n",
       "</style>\n",
       "<table border=\"1\" class=\"dataframe\">\n",
       "  <thead>\n",
       "    <tr style=\"text-align: right;\">\n",
       "      <th></th>\n",
       "      <th>f1</th>\n",
       "      <th>f2</th>\n",
       "      <th>f3</th>\n",
       "      <th>f4</th>\n",
       "      <th>target</th>\n",
       "    </tr>\n",
       "  </thead>\n",
       "  <tbody>\n",
       "    <tr>\n",
       "      <th>0</th>\n",
       "      <td>0</td>\n",
       "      <td>0</td>\n",
       "      <td>2</td>\n",
       "      <td>2</td>\n",
       "      <td>1</td>\n",
       "    </tr>\n",
       "    <tr>\n",
       "      <th>1</th>\n",
       "      <td>0</td>\n",
       "      <td>0</td>\n",
       "      <td>2</td>\n",
       "      <td>1</td>\n",
       "      <td>1</td>\n",
       "    </tr>\n",
       "    <tr>\n",
       "      <th>2</th>\n",
       "      <td>0</td>\n",
       "      <td>0</td>\n",
       "      <td>0</td>\n",
       "      <td>2</td>\n",
       "      <td>1</td>\n",
       "    </tr>\n",
       "    <tr>\n",
       "      <th>3</th>\n",
       "      <td>0</td>\n",
       "      <td>0</td>\n",
       "      <td>2</td>\n",
       "      <td>2</td>\n",
       "      <td>1</td>\n",
       "    </tr>\n",
       "    <tr>\n",
       "      <th>4</th>\n",
       "      <td>0</td>\n",
       "      <td>0</td>\n",
       "      <td>2</td>\n",
       "      <td>1</td>\n",
       "      <td>1</td>\n",
       "    </tr>\n",
       "  </tbody>\n",
       "</table>\n",
       "</div>"
      ],
      "text/plain": [
       "   f1  f2  f3  f4  target\n",
       "0   0   0   2   2       1\n",
       "1   0   0   2   1       1\n",
       "2   0   0   0   2       1\n",
       "3   0   0   2   2       1\n",
       "4   0   0   2   1       1"
      ]
     },
     "execution_count": 32,
     "metadata": {
      "tags": []
     },
     "output_type": "execute_result"
    }
   ],
   "source": [
    "data.head()"
   ]
  },
  {
   "cell_type": "markdown",
   "metadata": {
    "id": "mjj5QZL2QwnL"
   },
   "source": [
    "We take a look on the features f1 and f2. Each of the feature provides no information gain as each category has a 0.5 probability for the target."
   ]
  },
  {
   "cell_type": "code",
   "execution_count": null,
   "metadata": {
    "id": "8BC9QcUtQqq7"
   },
   "outputs": [
    {
     "data": {
      "text/html": [
       "<div>\n",
       "<style scoped>\n",
       "    .dataframe tbody tr th:only-of-type {\n",
       "        vertical-align: middle;\n",
       "    }\n",
       "\n",
       "    .dataframe tbody tr th {\n",
       "        vertical-align: top;\n",
       "    }\n",
       "\n",
       "    .dataframe thead th {\n",
       "        text-align: right;\n",
       "    }\n",
       "</style>\n",
       "<table border=\"1\" class=\"dataframe\">\n",
       "  <thead>\n",
       "    <tr style=\"text-align: right;\">\n",
       "      <th></th>\n",
       "      <th>mean</th>\n",
       "      <th>count</th>\n",
       "    </tr>\n",
       "    <tr>\n",
       "      <th>f1</th>\n",
       "      <th></th>\n",
       "      <th></th>\n",
       "    </tr>\n",
       "  </thead>\n",
       "  <tbody>\n",
       "    <tr>\n",
       "      <th>1</th>\n",
       "      <td>0.5</td>\n",
       "      <td>100</td>\n",
       "    </tr>\n",
       "    <tr>\n",
       "      <th>0</th>\n",
       "      <td>0.5</td>\n",
       "      <td>100</td>\n",
       "    </tr>\n",
       "    <tr>\n",
       "      <th>2</th>\n",
       "      <td>0.5</td>\n",
       "      <td>200</td>\n",
       "    </tr>\n",
       "  </tbody>\n",
       "</table>\n",
       "</div>"
      ],
      "text/plain": [
       "    mean  count\n",
       "f1             \n",
       "1    0.5    100\n",
       "0    0.5    100\n",
       "2    0.5    200"
      ]
     },
     "execution_count": 33,
     "metadata": {
      "tags": []
     },
     "output_type": "execute_result"
    }
   ],
   "source": [
    "data.groupby('f1').target.agg(['mean', 'count'])"
   ]
  },
  {
   "cell_type": "code",
   "execution_count": null,
   "metadata": {
    "id": "Bh800BKIQ32b"
   },
   "outputs": [
    {
     "data": {
      "text/html": [
       "<div>\n",
       "<style scoped>\n",
       "    .dataframe tbody tr th:only-of-type {\n",
       "        vertical-align: middle;\n",
       "    }\n",
       "\n",
       "    .dataframe tbody tr th {\n",
       "        vertical-align: top;\n",
       "    }\n",
       "\n",
       "    .dataframe thead th {\n",
       "        text-align: right;\n",
       "    }\n",
       "</style>\n",
       "<table border=\"1\" class=\"dataframe\">\n",
       "  <thead>\n",
       "    <tr style=\"text-align: right;\">\n",
       "      <th></th>\n",
       "      <th>mean</th>\n",
       "      <th>count</th>\n",
       "    </tr>\n",
       "    <tr>\n",
       "      <th>f2</th>\n",
       "      <th></th>\n",
       "      <th></th>\n",
       "    </tr>\n",
       "  </thead>\n",
       "  <tbody>\n",
       "    <tr>\n",
       "      <th>1</th>\n",
       "      <td>0.5</td>\n",
       "      <td>200</td>\n",
       "    </tr>\n",
       "    <tr>\n",
       "      <th>0</th>\n",
       "      <td>0.5</td>\n",
       "      <td>200</td>\n",
       "    </tr>\n",
       "  </tbody>\n",
       "</table>\n",
       "</div>"
      ],
      "text/plain": [
       "    mean  count\n",
       "f2             \n",
       "1    0.5    200\n",
       "0    0.5    200"
      ]
     },
     "execution_count": 34,
     "metadata": {
      "tags": []
     },
     "output_type": "execute_result"
    }
   ],
   "source": [
    "data.groupby('f2').target.agg(['mean', 'count'])"
   ]
  },
  {
   "cell_type": "markdown",
   "metadata": {
    "id": "J9GSOS7MQ-hQ"
   },
   "source": [
    "If we analyze the features f1 and f2 together, we can observe a significant pattern in the target variable."
   ]
  },
  {
   "cell_type": "code",
   "execution_count": null,
   "metadata": {
    "id": "e_6G8b4UQ7QL"
   },
   "outputs": [
    {
     "data": {
      "text/html": [
       "<div>\n",
       "<style scoped>\n",
       "    .dataframe tbody tr th:only-of-type {\n",
       "        vertical-align: middle;\n",
       "    }\n",
       "\n",
       "    .dataframe tbody tr th {\n",
       "        vertical-align: top;\n",
       "    }\n",
       "\n",
       "    .dataframe thead th {\n",
       "        text-align: right;\n",
       "    }\n",
       "</style>\n",
       "<table border=\"1\" class=\"dataframe\">\n",
       "  <thead>\n",
       "    <tr style=\"text-align: right;\">\n",
       "      <th></th>\n",
       "      <th></th>\n",
       "      <th>mean</th>\n",
       "      <th>count</th>\n",
       "    </tr>\n",
       "    <tr>\n",
       "      <th>f1</th>\n",
       "      <th>f2</th>\n",
       "      <th></th>\n",
       "      <th></th>\n",
       "    </tr>\n",
       "  </thead>\n",
       "  <tbody>\n",
       "    <tr>\n",
       "      <th>0</th>\n",
       "      <th>0</th>\n",
       "      <td>0.9</td>\n",
       "      <td>50</td>\n",
       "    </tr>\n",
       "    <tr>\n",
       "      <th rowspan=\"2\" valign=\"top\">1</th>\n",
       "      <th>1</th>\n",
       "      <td>0.1</td>\n",
       "      <td>50</td>\n",
       "    </tr>\n",
       "    <tr>\n",
       "      <th>0</th>\n",
       "      <td>0.9</td>\n",
       "      <td>50</td>\n",
       "    </tr>\n",
       "    <tr>\n",
       "      <th rowspan=\"2\" valign=\"top\">2</th>\n",
       "      <th>1</th>\n",
       "      <td>0.9</td>\n",
       "      <td>100</td>\n",
       "    </tr>\n",
       "    <tr>\n",
       "      <th>0</th>\n",
       "      <td>0.1</td>\n",
       "      <td>100</td>\n",
       "    </tr>\n",
       "    <tr>\n",
       "      <th>0</th>\n",
       "      <th>1</th>\n",
       "      <td>0.1</td>\n",
       "      <td>50</td>\n",
       "    </tr>\n",
       "  </tbody>\n",
       "</table>\n",
       "</div>"
      ],
      "text/plain": [
       "       mean  count\n",
       "f1 f2             \n",
       "0  0    0.9     50\n",
       "1  1    0.1     50\n",
       "   0    0.9     50\n",
       "2  1    0.9    100\n",
       "   0    0.1    100\n",
       "0  1    0.1     50"
      ]
     },
     "execution_count": 35,
     "metadata": {
      "tags": []
     },
     "output_type": "execute_result"
    }
   ],
   "source": [
    "data.groupby(['f1', 'f2']).target.agg(['mean', 'count'])"
   ]
  },
  {
   "cell_type": "markdown",
   "metadata": {
    "id": "bthWPaDzRBAq"
   },
   "source": [
    "Next, we train a simple Decision Tree to show how combining categories will support the decision boundaries."
   ]
  },
  {
   "cell_type": "code",
   "execution_count": null,
   "metadata": {
    "id": "JL1C6dk1Q_5u"
   },
   "outputs": [],
   "source": [
    "df = data.to_pandas()"
   ]
  },
  {
   "cell_type": "code",
   "execution_count": null,
   "metadata": {
    "id": "cPyGtFO4RGic"
   },
   "outputs": [],
   "source": [
    "import pydotplus\n",
    "import sklearn.tree as tree\n",
    "from IPython.display import Image"
   ]
  },
  {
   "cell_type": "code",
   "execution_count": null,
   "metadata": {
    "id": "ce-PCOHURJFh"
   },
   "outputs": [],
   "source": [
    "def get_hotn_features(df):\n",
    "    out = []\n",
    "    for col in df.columns:\n",
    "        if col != 'target':\n",
    "            out.append(pd.get_dummies(df[col], prefix=col))\n",
    "    return(pd.concat(out, axis=1))\n",
    "\n",
    "def viz_tree(df, lf):\n",
    "    dt_feature_names = list(get_hotn_features(df).columns)\n",
    "    dt_target_names = 'target'\n",
    "    tree.export_graphviz(lf, out_file='tree.dot', \n",
    "                         feature_names=dt_feature_names, class_names=dt_target_names,\n",
    "                         filled=True)  \n",
    "    graph = pydotplus.graph_from_dot_file('tree.dot')\n",
    "    return(graph.create_png())"
   ]
  },
  {
   "cell_type": "markdown",
   "metadata": {
    "id": "JGhu2ehHRP9Z"
   },
   "source": [
    "First, we train it without the combined categories f1 and f2. We can see, that the Decision Trees creates the split on the random features f3 and f4. The leaves have only a small information gain (e.g. 98 negative vs. 82 positive)."
   ]
  },
  {
   "cell_type": "code",
   "execution_count": null,
   "metadata": {
    "id": "GIEZNXnXRNg0"
   },
   "outputs": [
    {
     "data": {
      "image/png": "[encoded data removed]",
      "text/plain": [
       "<IPython.core.display.Image object>"
      ]
     },
     "execution_count": 39,
     "metadata": {
      "filenames": {
       "image/png": "/content/reco-book/_build/jupyter_execute/nbs/T513987_Recsys_2020_Feature_Engineering_Tutorial_100_0.png"
      },
      "tags": []
     },
     "output_type": "execute_result"
    }
   ],
   "source": [
    "lf = tree.DecisionTreeClassifier(max_depth=2)\n",
    "lf.fit(get_hotn_features(df), df[['target']])\n",
    "Image(viz_tree(df, lf))"
   ]
  },
  {
   "cell_type": "markdown",
   "metadata": {
    "id": "SwMHGlbIRZoM"
   },
   "source": [
    "Now, we combine the categories f1 and f2 as an additional feature. We can see that the Decision Tree uses that feature first and that the splits have a high information gain. For example, 190 negative vs. 110 positives."
   ]
  },
  {
   "cell_type": "code",
   "execution_count": null,
   "metadata": {
    "id": "eU7Kb8dGRVfI"
   },
   "outputs": [],
   "source": [
    "df['f1_f2'] = df['f1'].astype(str) + df['f2'].astype(str)"
   ]
  },
  {
   "cell_type": "code",
   "execution_count": null,
   "metadata": {
    "id": "dinz7i5IRb0w"
   },
   "outputs": [
    {
     "data": {
      "image/png": "[encoded data removed]",
      "text/plain": [
       "<IPython.core.display.Image object>"
      ]
     },
     "execution_count": 41,
     "metadata": {
      "filenames": {
       "image/png": "/content/reco-book/_build/jupyter_execute/nbs/T513987_Recsys_2020_Feature_Engineering_Tutorial_103_0.png"
      },
      "tags": []
     },
     "output_type": "execute_result"
    }
   ],
   "source": [
    "lf.fit(get_hotn_features(df), df[['target']])\n",
    "Image(viz_tree(df, lf))"
   ]
  },
  {
   "cell_type": "markdown",
   "metadata": {
    "id": "U2h0VZsGRsF9"
   },
   "source": [
    "This simple technique will be used in combination with other feature engineering techniques.\n",
    "\n",
    "We may have the idea - that is great, let's combine all categories into one feature. Unfortunately, this is not that easy. We want to balance the number of categories used, the number of observations in resulting category values and the information gain:\n",
    "\n",
    "The more categories we combine, we will identify more underlying patterns - but combining more categories together reduces the number of observation per categoy in the resulting features\n",
    "Higher number of observation in the resulting category shows a strong pattern and it is more generalizable\n",
    "High information gain supports our model, but only if it is generalizable\n",
    "The extreme example is that we combine all features f1, f2, f3 and f4 together. But the observation per category (count) is very small (4-20)"
   ]
  },
  {
   "cell_type": "code",
   "execution_count": null,
   "metadata": {
    "id": "fFXBqCfgRdDP"
   },
   "outputs": [
    {
     "data": {
      "text/html": [
       "<div>\n",
       "<style scoped>\n",
       "    .dataframe tbody tr th:only-of-type {\n",
       "        vertical-align: middle;\n",
       "    }\n",
       "\n",
       "    .dataframe tbody tr th {\n",
       "        vertical-align: top;\n",
       "    }\n",
       "\n",
       "    .dataframe thead th {\n",
       "        text-align: right;\n",
       "    }\n",
       "</style>\n",
       "<table border=\"1\" class=\"dataframe\">\n",
       "  <thead>\n",
       "    <tr style=\"text-align: right;\">\n",
       "      <th></th>\n",
       "      <th></th>\n",
       "      <th></th>\n",
       "      <th></th>\n",
       "      <th>mean</th>\n",
       "      <th>count</th>\n",
       "    </tr>\n",
       "    <tr>\n",
       "      <th>f1</th>\n",
       "      <th>f2</th>\n",
       "      <th>f3</th>\n",
       "      <th>f4</th>\n",
       "      <th></th>\n",
       "      <th></th>\n",
       "    </tr>\n",
       "  </thead>\n",
       "  <tbody>\n",
       "    <tr>\n",
       "      <th rowspan=\"10\" valign=\"top\">0</th>\n",
       "      <th rowspan=\"9\" valign=\"top\">0</th>\n",
       "      <th rowspan=\"3\" valign=\"top\">0</th>\n",
       "      <th>0</th>\n",
       "      <td>1.000000</td>\n",
       "      <td>4</td>\n",
       "    </tr>\n",
       "    <tr>\n",
       "      <th>1</th>\n",
       "      <td>1.000000</td>\n",
       "      <td>6</td>\n",
       "    </tr>\n",
       "    <tr>\n",
       "      <th>2</th>\n",
       "      <td>1.000000</td>\n",
       "      <td>5</td>\n",
       "    </tr>\n",
       "    <tr>\n",
       "      <th rowspan=\"3\" valign=\"top\">1</th>\n",
       "      <th>0</th>\n",
       "      <td>0.857143</td>\n",
       "      <td>7</td>\n",
       "    </tr>\n",
       "    <tr>\n",
       "      <th>1</th>\n",
       "      <td>1.000000</td>\n",
       "      <td>5</td>\n",
       "    </tr>\n",
       "    <tr>\n",
       "      <th>2</th>\n",
       "      <td>1.000000</td>\n",
       "      <td>8</td>\n",
       "    </tr>\n",
       "    <tr>\n",
       "      <th rowspan=\"3\" valign=\"top\">2</th>\n",
       "      <th>0</th>\n",
       "      <td>0.666667</td>\n",
       "      <td>3</td>\n",
       "    </tr>\n",
       "    <tr>\n",
       "      <th>1</th>\n",
       "      <td>1.000000</td>\n",
       "      <td>5</td>\n",
       "    </tr>\n",
       "    <tr>\n",
       "      <th>2</th>\n",
       "      <td>0.571429</td>\n",
       "      <td>7</td>\n",
       "    </tr>\n",
       "    <tr>\n",
       "      <th>1</th>\n",
       "      <th>0</th>\n",
       "      <th>0</th>\n",
       "      <td>0.000000</td>\n",
       "      <td>4</td>\n",
       "    </tr>\n",
       "  </tbody>\n",
       "</table>\n",
       "</div>"
      ],
      "text/plain": [
       "                 mean  count\n",
       "f1 f2 f3 f4                 \n",
       "0  0  0  0   1.000000      4\n",
       "         1   1.000000      6\n",
       "         2   1.000000      5\n",
       "      1  0   0.857143      7\n",
       "         1   1.000000      5\n",
       "         2   1.000000      8\n",
       "      2  0   0.666667      3\n",
       "         1   1.000000      5\n",
       "         2   0.571429      7\n",
       "   1  0  0   0.000000      4"
      ]
     },
     "execution_count": 42,
     "metadata": {
      "tags": []
     },
     "output_type": "execute_result"
    }
   ],
   "source": [
    "df.groupby([x for x in df.columns if 'target' not in x and 'f1_f2' not in x]).target.agg(['mean', 'count']).head(10)"
   ]
  },
  {
   "cell_type": "markdown",
   "metadata": {
    "id": "TPYLLytNRwg_"
   },
   "source": [
    "Best practices:\n",
    "\n",
    "- Combining low cardinal categories is a good start. For example, the dataset size is 100M rows and there are multiple categories with a caridnality (# of unique values) of 10-50, then combining them should not result in low observation count\n",
    "- Exploratory Data Analysis (EDA) is faster than training a model. Analyzing the information value for different combination of categorical features (on a sample) is really fast."
   ]
  },
  {
   "cell_type": "code",
   "execution_count": null,
   "metadata": {
    "id": "t6052-UpRuH_"
   },
   "outputs": [
    {
     "data": {
      "text/html": [
       "<div>\n",
       "<style scoped>\n",
       "    .dataframe tbody tr th:only-of-type {\n",
       "        vertical-align: middle;\n",
       "    }\n",
       "\n",
       "    .dataframe tbody tr th {\n",
       "        vertical-align: top;\n",
       "    }\n",
       "\n",
       "    .dataframe thead th {\n",
       "        text-align: right;\n",
       "    }\n",
       "</style>\n",
       "<table border=\"1\" class=\"dataframe\">\n",
       "  <thead>\n",
       "    <tr style=\"text-align: right;\">\n",
       "      <th></th>\n",
       "      <th>f1</th>\n",
       "      <th>f2</th>\n",
       "      <th>f3</th>\n",
       "      <th>f4</th>\n",
       "      <th>target</th>\n",
       "      <th>f1_f2</th>\n",
       "    </tr>\n",
       "  </thead>\n",
       "  <tbody>\n",
       "    <tr>\n",
       "      <th>count</th>\n",
       "      <td>400</td>\n",
       "      <td>400</td>\n",
       "      <td>400</td>\n",
       "      <td>400</td>\n",
       "      <td>400</td>\n",
       "      <td>400</td>\n",
       "    </tr>\n",
       "    <tr>\n",
       "      <th>unique</th>\n",
       "      <td>3</td>\n",
       "      <td>2</td>\n",
       "      <td>3</td>\n",
       "      <td>3</td>\n",
       "      <td>2</td>\n",
       "      <td>6</td>\n",
       "    </tr>\n",
       "    <tr>\n",
       "      <th>top</th>\n",
       "      <td>2</td>\n",
       "      <td>1</td>\n",
       "      <td>1</td>\n",
       "      <td>1</td>\n",
       "      <td>1</td>\n",
       "      <td>21</td>\n",
       "    </tr>\n",
       "    <tr>\n",
       "      <th>freq</th>\n",
       "      <td>200</td>\n",
       "      <td>200</td>\n",
       "      <td>137</td>\n",
       "      <td>136</td>\n",
       "      <td>200</td>\n",
       "      <td>100</td>\n",
       "    </tr>\n",
       "  </tbody>\n",
       "</table>\n",
       "</div>"
      ],
      "text/plain": [
       "         f1   f2   f3   f4 target f1_f2\n",
       "count   400  400  400  400    400   400\n",
       "unique    3    2    3    3      2     6\n",
       "top       2    1    1    1      1    21\n",
       "freq    200  200  137  136    200   100"
      ]
     },
     "execution_count": 43,
     "metadata": {
      "tags": []
     },
     "output_type": "execute_result"
    }
   ],
   "source": [
    "# Example of getting the cardinality for categories:\n",
    "df.astype(str).describe()"
   ]
  },
  {
   "cell_type": "markdown",
   "metadata": {
    "id": "SBL8pzpESUYh"
   },
   "source": [
    "### Apply feature cross"
   ]
  },
  {
   "cell_type": "code",
   "execution_count": null,
   "metadata": {
    "id": "9DHLWCDyR-gN"
   },
   "outputs": [
    {
     "name": "stdout",
     "output_type": "stream",
     "text": [
      "         product_id    user_id      mean  count\n",
      "553991      1004767  545442548  0.000000    807\n",
      "2757949     1004767  525325337  0.000000    753\n",
      "832745      1005107  553431815  0.598372    737\n",
      "2887447    15300303  512875426  0.000000    709\n",
      "4631256     1005174  563599039  0.929412    510\n",
      "2162303     1004873  515032042  0.002041    490\n",
      "2890567     4804718  536911254  0.000000    471\n",
      "5949107     8800045  557590749  0.000000    380\n",
      "5436668     1002524  515598234  0.581522    368\n",
      "759242      3601537  578263741  0.000000    363\n",
      "2090692     1004833  564068124  0.791667    360\n",
      "5431410     1005115  516010934  0.616046    349\n",
      "5744834     1005100  611998200  0.000000    333\n",
      "5843134     1004249  513901034  0.648562    313\n",
      "5548274     1005008  521558076  0.003236    309\n",
      "1026458     1005161  512924342  0.535354    297\n",
      "640836      4804718  576154686  0.548611    288\n",
      "6111734   100007950  515481166  0.000000    287\n",
      "2510850     3601489  513824664  0.000000    275\n",
      "119345      1002544  545376441  0.896296    270\n"
     ]
    }
   ],
   "source": [
    "def explore_cat(df, cats):\n",
    "    df_agg = df_train[cats + ['target']].groupby(cats).agg(['mean', 'count']).reset_index()\n",
    "    df_agg.columns = cats + ['mean', 'count']\n",
    "    print(df_agg.sort_values('count', ascending=False).head(20))\n",
    "    \n",
    "cats = ['product_id', 'user_id']  \n",
    "explore_cat(df_train, cats)"
   ]
  },
  {
   "cell_type": "code",
   "execution_count": null,
   "metadata": {
    "id": "qjNt2wV5S69R"
   },
   "outputs": [
    {
     "name": "stdout",
     "output_type": "stream",
     "text": [
      "     ts_weekday  ts_hour      mean   count\n",
      "101           4        9  0.302715  136237\n",
      "18            4        8  0.305953  134661\n",
      "155           4       10  0.302520  131525\n",
      "51            4        7  0.298787  128148\n",
      "104           5        7  0.315947  126382\n",
      "118           4        6  0.282097  126070\n",
      "43            4       11  0.293566  126026\n",
      "55            5        8  0.359090  125818\n",
      "110           5        9  0.414171  123601\n",
      "145           6       10  0.412849  123343\n",
      "106           6        8  0.411147  122776\n",
      "156           6        7  0.412360  121891\n",
      "98            5       10  0.402228  121344\n",
      "127           6        9  0.407846  121183\n",
      "152           6       11  0.429601  120726\n",
      "126           5        6  0.315390  120679\n",
      "135           4        5  0.279342  118364\n",
      "8             5       11  0.346054  117187\n",
      "11            6        6  0.411512  115909\n",
      "47            6       12  0.423719  113927\n"
     ]
    }
   ],
   "source": [
    "cats = ['ts_weekday', 'ts_hour']  \n",
    "explore_cat(df_train, cats)"
   ]
  },
  {
   "cell_type": "code",
   "execution_count": null,
   "metadata": {
    "id": "kbBeaeqUTB1i"
   },
   "outputs": [
    {
     "name": "stdout",
     "output_type": "stream",
     "text": [
      "                cat_2     brand      mean    count\n",
      "141             light   samsung  0.478160  1216099\n",
      "9278            light     apple  0.465644  1018787\n",
      "5421               NA     apple  0.377829   883712\n",
      "471                NA   samsung  0.400737   717738\n",
      "4594               NA   UNKNOWN  0.275269   522929\n",
      "192             light    xiaomi  0.393963   512147\n",
      "3416               NA    xiaomi  0.288319   484502\n",
      "8098            light    huawei  0.457535   229552\n",
      "8266        headphone     apple  0.327196   121447\n",
      "3730               NA    huawei  0.377412   117524\n",
      "1929               NA  cordiant  0.245952   110062\n",
      "2079               NA      sony  0.359959   109354\n",
      "8914            light      oppo  0.501943    99097\n",
      "1602         massager   samsung  0.403950    85726\n",
      "10974          vacuum   samsung  0.388883    68545\n",
      "10844          washer   samsung  0.331476    59416\n",
      "2793   coffee_grinder   lucente  0.508868    58469\n",
      "5568    refrigerators   samsung  0.446318    57636\n",
      "9342               NA      oppo  0.391734    56084\n",
      "6555               NA   lucente  0.378844    53394\n"
     ]
    }
   ],
   "source": [
    "cats = ['cat_2', 'brand']  \n",
    "explore_cat(df_train, cats)"
   ]
  },
  {
   "cell_type": "markdown",
   "metadata": {
    "id": "DTOYOnEqTJlB"
   },
   "source": [
    "Hypothesis:\n",
    "- Some user will always buy the same one-way products e.g. cleaning supplies, food\n",
    "- Behavior changes on weekday+hour - e.g. during the week, users will not stay up late as they work next day\n",
    "- Category and brand are both powerful features, but the combination can be more important. E.g. do people buy apple smartphones or accessories?"
   ]
  },
  {
   "cell_type": "markdown",
   "metadata": {
    "id": "MKDvvtSuTXra"
   },
   "source": [
    "### Categorify"
   ]
  },
  {
   "cell_type": "markdown",
   "metadata": {
    "id": "waLGDJLtUhSL"
   },
   "source": [
    "*Categorifying* is required for using categorical features in deep learning models with Embedding layers. An Embedding layer encodes the category into a hidden latent vector with a smaller dimension.\n",
    "\n",
    "Categorical features can be from datatype String or Integer. The Embedding layer requires that categorical features are continoues, positive Integers from 0 to |C| (number of unique category values)."
   ]
  },
  {
   "cell_type": "code",
   "execution_count": null,
   "metadata": {
    "id": "FeqVSEiDTGVk"
   },
   "outputs": [
    {
     "data": {
      "text/plain": [
       "0           1000894\n",
       "1           1000978\n",
       "2           1001588\n",
       "3           1001605\n",
       "4           1001606\n",
       "            ...    \n",
       "164448    100143856\n",
       "164449    100143867\n",
       "164450    100144046\n",
       "164451    100144443\n",
       "164452    100144608\n",
       "Name: product_id, Length: 164453, dtype: int64"
      ]
     },
     "execution_count": 47,
     "metadata": {
      "tags": []
     },
     "output_type": "execute_result"
    }
   ],
   "source": [
    "df_train['product_id'].unique()"
   ]
  },
  {
   "cell_type": "code",
   "execution_count": null,
   "metadata": {
    "id": "Jx2LLSySU8wT"
   },
   "outputs": [
    {
     "data": {
      "text/plain": [
       "array([   24,  1033,    24, ..., 37414,   776, 18803], dtype=int32)"
      ]
     },
     "execution_count": 49,
     "metadata": {
      "tags": []
     },
     "output_type": "execute_result"
    }
   ],
   "source": [
    "# Using factorize creates continous integers from a categorical feature\n",
    "codes, uniques = df_train['product_id'].factorize()\n",
    "codes"
   ]
  },
  {
   "cell_type": "code",
   "execution_count": null,
   "metadata": {
    "id": "kcIH8T63VFQh"
   },
   "outputs": [
    {
     "data": {
      "text/plain": [
       "Int64Index([  1000894,   1000978,   1001588,   1001605,   1001606,   1001618,\n",
       "              1001619,   1001820,   1002042,   1002062,\n",
       "            ...\n",
       "            100143480, 100143510, 100143590, 100143628, 100143638, 100143856,\n",
       "            100143867, 100144046, 100144443, 100144608],\n",
       "           dtype='int64', length=164453)"
      ]
     },
     "execution_count": 50,
     "metadata": {
      "tags": []
     },
     "output_type": "execute_result"
    }
   ],
   "source": [
    "uniques"
   ]
  },
  {
   "cell_type": "markdown",
   "metadata": {
    "id": "nrn9IC53VVfd"
   },
   "source": [
    "Another important reason to Categorify categorical features is to reduce the size of the dataset. Often categorical features are of the datatype String and sometimes, they are hashed to protect the user / dataset privacy."
   ]
  },
  {
   "cell_type": "code",
   "execution_count": null,
   "metadata": {
    "id": "BZ23FZXZVMTR"
   },
   "outputs": [],
   "source": [
    "import hashlib\n",
    "from sys import getsizeof"
   ]
  },
  {
   "cell_type": "markdown",
   "metadata": {
    "id": "cHm4qcMlVaDn"
   },
   "source": [
    "For example, we can hash the Integer 0 to a md5 hash"
   ]
  },
  {
   "cell_type": "code",
   "execution_count": null,
   "metadata": {
    "id": "5pFDddngVaad"
   },
   "outputs": [
    {
     "data": {
      "application/vnd.google.colaboratory.intrinsic+json": {
       "type": "string"
      },
      "text/plain": [
       "'cfcd208495d565ef66e7dff9f98764da'"
      ]
     },
     "execution_count": 53,
     "metadata": {
      "tags": []
     },
     "output_type": "execute_result"
    }
   ],
   "source": [
    "hashlib.md5(b'0').hexdigest()"
   ]
  },
  {
   "cell_type": "markdown",
   "metadata": {
    "id": "K36IY_V8Vfjh"
   },
   "source": [
    "We can hash the full product_id column"
   ]
  },
  {
   "cell_type": "code",
   "execution_count": null,
   "metadata": {
    "id": "606WOQsOVcGZ"
   },
   "outputs": [
    {
     "data": {
      "text/plain": [
       "0           869aaba3c9113c27539bb1c3232e651c\n",
       "1           a545dff4990390c31fa997325f45f697\n",
       "2           869aaba3c9113c27539bb1c3232e651c\n",
       "3           869aaba3c9113c27539bb1c3232e651c\n",
       "4           eaefcc8eeaf8ee99768f5bd0e4ded9b9\n",
       "                          ...               \n",
       "11495240    6c05e1b9e466725f725df0326a1b5039\n",
       "11495241    8ce7e84738eb6f686d418101d520df2e\n",
       "11495242    cedc44508ef5c516bc445fe2944c4b91\n",
       "11495243    6b327527a0cf16326f9dd2bf455c3056\n",
       "11495244    032bab49d0c08d80d8ff08f826078dd4\n",
       "Name: product_id, Length: 11495245, dtype: object"
      ]
     },
     "execution_count": 56,
     "metadata": {
      "tags": []
     },
     "output_type": "execute_result"
    }
   ],
   "source": [
    "hashSeries = df_train['product_id'].to_pandas().apply(lambda x: hashlib.md5(bytes(str(x), encoding='utf-8')).hexdigest())\n",
    "hashSeries"
   ]
  },
  {
   "cell_type": "code",
   "execution_count": null,
   "metadata": {
    "id": "BZ1BhmIxVoop"
   },
   "outputs": [],
   "source": [
    "codes, uniques = hashSeries.factorize()"
   ]
  },
  {
   "cell_type": "code",
   "execution_count": null,
   "metadata": {
    "id": "mz5YxGczVpAZ"
   },
   "outputs": [
    {
     "name": "stdout",
     "output_type": "stream",
     "text": [
      "product id column size is reduced from 1023076965 to 91962120. We need only 11.12% of the original DataSeries memory.\n"
     ]
    }
   ],
   "source": [
    "print(\"product id column size is reduced from {} to {}. We need only {:.2f}% of the original DataSeries memory.\"\\\n",
    "      .format(getsizeof(hashSeries), getsizeof(pd.DataFrame(codes)[0]),\n",
    "              getsizeof(hashSeries)/getsizeof(pd.DataFrame(codes)[0])))"
   ]
  },
  {
   "cell_type": "markdown",
   "metadata": {
    "id": "nY4nhADxWn3x"
   },
   "source": [
    "Finally, we can prevent overfitting for low frequency categories. Categories with low frequency can be grouped together to an new category called 'other'. In the previous exercise we learned that it is powerful to combine categorical features together to create a new feature. However, combining categories increases the cardinality of the new feature and the number of observations per category will decrease. Therefore, we can apply a treshhold to group all categories with lower frequency count to the the new category.\n",
    "\n",
    "In addition, categories, which occurs in the validation dataset and do not occur in the training dataset, should be mapped to the 'other' category as well.\n",
    "\n",
    "We use in our example the category Ids 0 or 1 for a placeholder for the low frequency and unkown category. Then our function is independent of the cardinality of the categorical feature and we do not keep records of the cardinality to know the low frequency/unkown category.\n",
    "\n",
    "In our dataset, we see that multiple product_ids occur only once in the training dataset. Our model would overfit to these low frequency categories."
   ]
  },
  {
   "cell_type": "code",
   "execution_count": null,
   "metadata": {
    "id": "zp1NjDeGXOkP"
   },
   "outputs": [],
   "source": [
    "cat = 'product_id'"
   ]
  },
  {
   "cell_type": "code",
   "execution_count": null,
   "metadata": {
    "id": "m-ih8rxNWIJA"
   },
   "outputs": [],
   "source": [
    "freq = df_train[cat].value_counts()\n",
    "freq = freq.reset_index()\n",
    "freq.columns = [cat, 'count']\n",
    "freq = freq.reset_index()\n",
    "freq.columns = [cat + '_Categorify', cat, 'count']\n",
    "freq_filtered = freq[freq['count']>5]\n",
    "freq_filtered[cat + '_Categorify'] = freq_filtered[cat + '_Categorify']+1\n",
    "freq_filtered = freq_filtered.drop('count', axis=1)"
   ]
  },
  {
   "cell_type": "code",
   "execution_count": null,
   "metadata": {
    "id": "8OaPTcoeXuwq"
   },
   "outputs": [
    {
     "data": {
      "text/html": [
       "<div>\n",
       "<style scoped>\n",
       "    .dataframe tbody tr th:only-of-type {\n",
       "        vertical-align: middle;\n",
       "    }\n",
       "\n",
       "    .dataframe tbody tr th {\n",
       "        vertical-align: top;\n",
       "    }\n",
       "\n",
       "    .dataframe thead th {\n",
       "        text-align: right;\n",
       "    }\n",
       "</style>\n",
       "<table border=\"1\" class=\"dataframe\">\n",
       "  <thead>\n",
       "    <tr style=\"text-align: right;\">\n",
       "      <th></th>\n",
       "      <th>product_id_Categorify</th>\n",
       "      <th>product_id</th>\n",
       "    </tr>\n",
       "  </thead>\n",
       "  <tbody>\n",
       "    <tr>\n",
       "      <th>0</th>\n",
       "      <td>1</td>\n",
       "      <td>1004767</td>\n",
       "    </tr>\n",
       "    <tr>\n",
       "      <th>1</th>\n",
       "      <td>2</td>\n",
       "      <td>1005115</td>\n",
       "    </tr>\n",
       "    <tr>\n",
       "      <th>2</th>\n",
       "      <td>3</td>\n",
       "      <td>1004856</td>\n",
       "    </tr>\n",
       "    <tr>\n",
       "      <th>3</th>\n",
       "      <td>4</td>\n",
       "      <td>4804056</td>\n",
       "    </tr>\n",
       "    <tr>\n",
       "      <th>4</th>\n",
       "      <td>5</td>\n",
       "      <td>1005100</td>\n",
       "    </tr>\n",
       "  </tbody>\n",
       "</table>\n",
       "</div>"
      ],
      "text/plain": [
       "   product_id_Categorify  product_id\n",
       "0                      1     1004767\n",
       "1                      2     1005115\n",
       "2                      3     1004856\n",
       "3                      4     4804056\n",
       "4                      5     1005100"
      ]
     },
     "execution_count": 68,
     "metadata": {
      "tags": []
     },
     "output_type": "execute_result"
    }
   ],
   "source": [
    "freq_filtered.head()"
   ]
  },
  {
   "cell_type": "code",
   "execution_count": null,
   "metadata": {
    "id": "JkRkDzebXwmA"
   },
   "outputs": [
    {
     "data": {
      "text/plain": [
       "(76500, 2)"
      ]
     },
     "execution_count": 69,
     "metadata": {
      "tags": []
     },
     "output_type": "execute_result"
    }
   ],
   "source": [
    "freq_filtered.shape"
   ]
  },
  {
   "cell_type": "code",
   "execution_count": null,
   "metadata": {
    "id": "0x-TrwUNXuMS"
   },
   "outputs": [],
   "source": [
    "df_train = df_train.merge(freq_filtered, how='left', on=cat) #giving memory error\n",
    "df_train[cat + '_Categorify'] = df_train[cat + '_Categorify'].fillna(0)\n",
    "df_train['product_id_Categorify'].min(), df_train['product_id_Categorify'].max(), df_train['product_id_Categorify'].drop_duplicates().shape"
   ]
  },
  {
   "cell_type": "markdown",
   "metadata": {
    "id": "LZtDwDfBXIkc"
   },
   "source": [
    "We need to apply the categorify to our validation and test sets."
   ]
  },
  {
   "cell_type": "code",
   "execution_count": null,
   "metadata": {
    "id": "smrWtZrpW-B4"
   },
   "outputs": [],
   "source": [
    "df_valid = df_valid.merge(freq_filtered, how='left', on=cat)\n",
    "df_valid[cat + '_Categorify'] = df_valid[cat + '_Categorify'].fillna(0)\n",
    "\n",
    "df_test = df_test.merge(freq_filtered, how='left', on=cat)\n",
    "df_test[cat + '_Categorify'] = df_test[cat + '_Categorify'].fillna(0)"
   ]
  },
  {
   "cell_type": "markdown",
   "metadata": {
    "id": "uCjz3xVcYMWc"
   },
   "source": [
    "- Categorify is important to enable deep learning models to use categorical features\n",
    "- Categorify can significantly reduce the dataset size by tranforming categorical features from String datatypes to Integer datatypes\n",
    "- Categorify can prevent overfitting by grouping categories with low frequency into one category together"
   ]
  },
  {
   "cell_type": "markdown",
   "metadata": {
    "id": "i2ZRFKcxYVta"
   },
   "source": [
    "Categorify the category features brand, Apply a frequency treshhold of minimum 20, Map low frequency categories to the id=0, and Map unkown categories to the id=1 in the validation and test set"
   ]
  },
  {
   "cell_type": "code",
   "execution_count": null,
   "metadata": {
    "id": "NXoDUHB8YJ_K"
   },
   "outputs": [],
   "source": [
    "cat = 'brand'\n",
    "\n",
    "freq = df_train[cat].value_counts()\n",
    "freq = freq.reset_index()\n",
    "freq.columns = [cat, 'count']\n",
    "freq = freq.reset_index()\n",
    "freq.columns = [cat + '_Categorify', cat, 'count']\n",
    "freq[cat + '_Categorify'] = freq[cat + '_Categorify']+2\n",
    "freq.loc[freq['count']<20, cat + '_Categorify'] = 0\n",
    "\n",
    "freq = freq.drop('count', axis=1)\n",
    "\n",
    "# df_train = df_train.merge(freq, how='left', on=cat)\n",
    "# df_train[cat + '_Categorify'] = df_train[cat + '_Categorify'].fillna(1)\n",
    "\n",
    "df_valid = df_valid.merge(freq, how='left', on=cat)\n",
    "df_valid[cat + '_Categorify'] = df_valid[cat + '_Categorify'].fillna(1)\n",
    "\n",
    "df_test = df_test.merge(freq, how='left', on=cat)\n",
    "df_test[cat + '_Categorify'] = df_test[cat + '_Categorify'].fillna(1)"
   ]
  },
  {
   "cell_type": "code",
   "execution_count": null,
   "metadata": {
    "id": "lcJxM2GfYX34"
   },
   "outputs": [
    {
     "data": {
      "text/html": [
       "<div>\n",
       "<style scoped>\n",
       "    .dataframe tbody tr th:only-of-type {\n",
       "        vertical-align: middle;\n",
       "    }\n",
       "\n",
       "    .dataframe tbody tr th {\n",
       "        vertical-align: top;\n",
       "    }\n",
       "\n",
       "    .dataframe thead th {\n",
       "        text-align: right;\n",
       "    }\n",
       "</style>\n",
       "<table border=\"1\" class=\"dataframe\">\n",
       "  <thead>\n",
       "    <tr style=\"text-align: right;\">\n",
       "      <th></th>\n",
       "      <th>event_time</th>\n",
       "      <th>event_type</th>\n",
       "      <th>product_id</th>\n",
       "      <th>brand</th>\n",
       "      <th>price</th>\n",
       "      <th>user_id</th>\n",
       "      <th>user_session</th>\n",
       "      <th>target</th>\n",
       "      <th>timestamp</th>\n",
       "      <th>ts_hour</th>\n",
       "      <th>ts_minute</th>\n",
       "      <th>ts_weekday</th>\n",
       "      <th>ts_day</th>\n",
       "      <th>ts_month</th>\n",
       "      <th>ts_year</th>\n",
       "      <th>cat_0</th>\n",
       "      <th>cat_1</th>\n",
       "      <th>cat_2</th>\n",
       "      <th>cat_3</th>\n",
       "      <th>product_id_Categorify</th>\n",
       "      <th>brand_Categorify</th>\n",
       "    </tr>\n",
       "  </thead>\n",
       "  <tbody>\n",
       "    <tr>\n",
       "      <th>0</th>\n",
       "      <td>2020-04-09 16:47:18 UTC</td>\n",
       "      <td>cart</td>\n",
       "      <td>1005100</td>\n",
       "      <td>samsung</td>\n",
       "      <td>144.89</td>\n",
       "      <td>604644674</td>\n",
       "      <td>16b2649b-56d9-47e8-afe9-c16d97af142b</td>\n",
       "      <td>0</td>\n",
       "      <td>2020-04-09 16:47:18</td>\n",
       "      <td>16</td>\n",
       "      <td>47</td>\n",
       "      <td>3</td>\n",
       "      <td>9</td>\n",
       "      <td>4</td>\n",
       "      <td>2020</td>\n",
       "      <td>construction</td>\n",
       "      <td>tools</td>\n",
       "      <td>light</td>\n",
       "      <td>NA</td>\n",
       "      <td>5</td>\n",
       "      <td>2</td>\n",
       "    </tr>\n",
       "    <tr>\n",
       "      <th>1</th>\n",
       "      <td>2020-04-09 16:47:18 UTC</td>\n",
       "      <td>cart</td>\n",
       "      <td>1005100</td>\n",
       "      <td>samsung</td>\n",
       "      <td>144.89</td>\n",
       "      <td>604644674</td>\n",
       "      <td>16b2649b-56d9-47e8-afe9-c16d97af142b</td>\n",
       "      <td>0</td>\n",
       "      <td>2020-04-09 16:47:18</td>\n",
       "      <td>16</td>\n",
       "      <td>47</td>\n",
       "      <td>3</td>\n",
       "      <td>9</td>\n",
       "      <td>4</td>\n",
       "      <td>2020</td>\n",
       "      <td>construction</td>\n",
       "      <td>tools</td>\n",
       "      <td>light</td>\n",
       "      <td>NA</td>\n",
       "      <td>5</td>\n",
       "      <td>2</td>\n",
       "    </tr>\n",
       "    <tr>\n",
       "      <th>2</th>\n",
       "      <td>2020-04-09 16:47:18 UTC</td>\n",
       "      <td>cart</td>\n",
       "      <td>1005100</td>\n",
       "      <td>samsung</td>\n",
       "      <td>144.89</td>\n",
       "      <td>604644674</td>\n",
       "      <td>16b2649b-56d9-47e8-afe9-c16d97af142b</td>\n",
       "      <td>0</td>\n",
       "      <td>2020-04-09 16:47:18</td>\n",
       "      <td>16</td>\n",
       "      <td>47</td>\n",
       "      <td>3</td>\n",
       "      <td>9</td>\n",
       "      <td>4</td>\n",
       "      <td>2020</td>\n",
       "      <td>construction</td>\n",
       "      <td>tools</td>\n",
       "      <td>light</td>\n",
       "      <td>NA</td>\n",
       "      <td>5</td>\n",
       "      <td>2</td>\n",
       "    </tr>\n",
       "    <tr>\n",
       "      <th>3</th>\n",
       "      <td>2020-04-09 16:47:18 UTC</td>\n",
       "      <td>cart</td>\n",
       "      <td>1005100</td>\n",
       "      <td>samsung</td>\n",
       "      <td>144.89</td>\n",
       "      <td>604644674</td>\n",
       "      <td>16b2649b-56d9-47e8-afe9-c16d97af142b</td>\n",
       "      <td>0</td>\n",
       "      <td>2020-04-09 16:47:18</td>\n",
       "      <td>16</td>\n",
       "      <td>47</td>\n",
       "      <td>3</td>\n",
       "      <td>9</td>\n",
       "      <td>4</td>\n",
       "      <td>2020</td>\n",
       "      <td>construction</td>\n",
       "      <td>tools</td>\n",
       "      <td>light</td>\n",
       "      <td>NA</td>\n",
       "      <td>5</td>\n",
       "      <td>2</td>\n",
       "    </tr>\n",
       "    <tr>\n",
       "      <th>4</th>\n",
       "      <td>2020-04-09 16:47:18 UTC</td>\n",
       "      <td>cart</td>\n",
       "      <td>1005100</td>\n",
       "      <td>samsung</td>\n",
       "      <td>144.89</td>\n",
       "      <td>604644674</td>\n",
       "      <td>16b2649b-56d9-47e8-afe9-c16d97af142b</td>\n",
       "      <td>0</td>\n",
       "      <td>2020-04-09 16:47:18</td>\n",
       "      <td>16</td>\n",
       "      <td>47</td>\n",
       "      <td>3</td>\n",
       "      <td>9</td>\n",
       "      <td>4</td>\n",
       "      <td>2020</td>\n",
       "      <td>construction</td>\n",
       "      <td>tools</td>\n",
       "      <td>light</td>\n",
       "      <td>NA</td>\n",
       "      <td>5</td>\n",
       "      <td>2</td>\n",
       "    </tr>\n",
       "  </tbody>\n",
       "</table>\n",
       "</div>"
      ],
      "text/plain": [
       "                event_time event_type  ...  product_id_Categorify brand_Categorify\n",
       "0  2020-04-09 16:47:18 UTC       cart  ...                      5                2\n",
       "1  2020-04-09 16:47:18 UTC       cart  ...                      5                2\n",
       "2  2020-04-09 16:47:18 UTC       cart  ...                      5                2\n",
       "3  2020-04-09 16:47:18 UTC       cart  ...                      5                2\n",
       "4  2020-04-09 16:47:18 UTC       cart  ...                      5                2\n",
       "\n",
       "[5 rows x 21 columns]"
      ]
     },
     "execution_count": 74,
     "metadata": {
      "tags": []
     },
     "output_type": "execute_result"
    }
   ],
   "source": [
    "df_test.head()"
   ]
  },
  {
   "cell_type": "code",
   "execution_count": null,
   "metadata": {
    "id": "A74KgrDtZHR2"
   },
   "outputs": [
    {
     "data": {
      "text/html": [
       "<div>\n",
       "<style scoped>\n",
       "    .dataframe tbody tr th:only-of-type {\n",
       "        vertical-align: middle;\n",
       "    }\n",
       "\n",
       "    .dataframe tbody tr th {\n",
       "        vertical-align: top;\n",
       "    }\n",
       "\n",
       "    .dataframe thead th {\n",
       "        text-align: right;\n",
       "    }\n",
       "</style>\n",
       "<table border=\"1\" class=\"dataframe\">\n",
       "  <thead>\n",
       "    <tr style=\"text-align: right;\">\n",
       "      <th></th>\n",
       "      <th>product_id</th>\n",
       "      <th>price</th>\n",
       "      <th>user_id</th>\n",
       "      <th>target</th>\n",
       "      <th>ts_hour</th>\n",
       "      <th>ts_minute</th>\n",
       "      <th>ts_weekday</th>\n",
       "      <th>ts_day</th>\n",
       "      <th>ts_month</th>\n",
       "      <th>ts_year</th>\n",
       "      <th>product_id_Categorify</th>\n",
       "      <th>brand_Categorify</th>\n",
       "    </tr>\n",
       "  </thead>\n",
       "  <tbody>\n",
       "    <tr>\n",
       "      <th>count</th>\n",
       "      <td>2.781482e+06</td>\n",
       "      <td>2.781482e+06</td>\n",
       "      <td>2.781482e+06</td>\n",
       "      <td>2.781482e+06</td>\n",
       "      <td>2.781482e+06</td>\n",
       "      <td>2.781482e+06</td>\n",
       "      <td>2.781482e+06</td>\n",
       "      <td>2.781482e+06</td>\n",
       "      <td>2781482.0</td>\n",
       "      <td>2781482.0</td>\n",
       "      <td>2.781482e+06</td>\n",
       "      <td>2.781482e+06</td>\n",
       "    </tr>\n",
       "    <tr>\n",
       "      <th>mean</th>\n",
       "      <td>2.927051e+07</td>\n",
       "      <td>2.395021e+02</td>\n",
       "      <td>5.848275e+08</td>\n",
       "      <td>3.450640e-01</td>\n",
       "      <td>1.072351e+01</td>\n",
       "      <td>2.957519e+01</td>\n",
       "      <td>2.923329e+00</td>\n",
       "      <td>1.679353e+01</td>\n",
       "      <td>4.0</td>\n",
       "      <td>2020.0</td>\n",
       "      <td>6.096862e+03</td>\n",
       "      <td>8.782552e+01</td>\n",
       "    </tr>\n",
       "    <tr>\n",
       "      <th>std</th>\n",
       "      <td>4.029024e+07</td>\n",
       "      <td>2.963358e+02</td>\n",
       "      <td>4.832589e+07</td>\n",
       "      <td>4.753890e-01</td>\n",
       "      <td>4.940534e+00</td>\n",
       "      <td>1.730840e+01</td>\n",
       "      <td>1.923655e+00</td>\n",
       "      <td>8.294825e+00</td>\n",
       "      <td>0.0</td>\n",
       "      <td>0.0</td>\n",
       "      <td>1.323384e+04</td>\n",
       "      <td>2.537361e+02</td>\n",
       "    </tr>\n",
       "    <tr>\n",
       "      <th>min</th>\n",
       "      <td>1.001402e+06</td>\n",
       "      <td>0.000000e+00</td>\n",
       "      <td>9.636947e+07</td>\n",
       "      <td>0.000000e+00</td>\n",
       "      <td>0.000000e+00</td>\n",
       "      <td>0.000000e+00</td>\n",
       "      <td>0.000000e+00</td>\n",
       "      <td>1.000000e+00</td>\n",
       "      <td>4.0</td>\n",
       "      <td>2020.0</td>\n",
       "      <td>0.000000e+00</td>\n",
       "      <td>0.000000e+00</td>\n",
       "    </tr>\n",
       "    <tr>\n",
       "      <th>25%</th>\n",
       "      <td>1.005217e+06</td>\n",
       "      <td>4.807000e+01</td>\n",
       "      <td>5.374738e+08</td>\n",
       "      <td>0.000000e+00</td>\n",
       "      <td>7.000000e+00</td>\n",
       "      <td>1.500000e+01</td>\n",
       "      <td>1.000000e+00</td>\n",
       "      <td>1.000000e+01</td>\n",
       "      <td>4.0</td>\n",
       "      <td>2020.0</td>\n",
       "      <td>1.400000e+01</td>\n",
       "      <td>2.000000e+00</td>\n",
       "    </tr>\n",
       "    <tr>\n",
       "      <th>50%</th>\n",
       "      <td>5.801305e+06</td>\n",
       "      <td>1.490400e+02</td>\n",
       "      <td>5.912242e+08</td>\n",
       "      <td>0.000000e+00</td>\n",
       "      <td>1.000000e+01</td>\n",
       "      <td>3.000000e+01</td>\n",
       "      <td>3.000000e+00</td>\n",
       "      <td>1.700000e+01</td>\n",
       "      <td>4.0</td>\n",
       "      <td>2020.0</td>\n",
       "      <td>2.980000e+02</td>\n",
       "      <td>6.000000e+00</td>\n",
       "    </tr>\n",
       "    <tr>\n",
       "      <th>75%</th>\n",
       "      <td>4.050000e+07</td>\n",
       "      <td>2.941900e+02</td>\n",
       "      <td>6.349695e+08</td>\n",
       "      <td>1.000000e+00</td>\n",
       "      <td>1.500000e+01</td>\n",
       "      <td>4.500000e+01</td>\n",
       "      <td>5.000000e+00</td>\n",
       "      <td>2.400000e+01</td>\n",
       "      <td>4.0</td>\n",
       "      <td>2020.0</td>\n",
       "      <td>4.574000e+03</td>\n",
       "      <td>4.400000e+01</td>\n",
       "    </tr>\n",
       "    <tr>\n",
       "      <th>max</th>\n",
       "      <td>1.002337e+08</td>\n",
       "      <td>2.574070e+03</td>\n",
       "      <td>6.497754e+08</td>\n",
       "      <td>1.000000e+00</td>\n",
       "      <td>2.300000e+01</td>\n",
       "      <td>5.900000e+01</td>\n",
       "      <td>6.000000e+00</td>\n",
       "      <td>3.000000e+01</td>\n",
       "      <td>4.0</td>\n",
       "      <td>2020.0</td>\n",
       "      <td>7.649800e+04</td>\n",
       "      <td>2.704000e+03</td>\n",
       "    </tr>\n",
       "  </tbody>\n",
       "</table>\n",
       "</div>"
      ],
      "text/plain": [
       "         product_id         price  ...  product_id_Categorify  brand_Categorify\n",
       "count  2.781482e+06  2.781482e+06  ...           2.781482e+06      2.781482e+06\n",
       "mean   2.927051e+07  2.395021e+02  ...           6.096862e+03      8.782552e+01\n",
       "std    4.029024e+07  2.963358e+02  ...           1.323384e+04      2.537361e+02\n",
       "min    1.001402e+06  0.000000e+00  ...           0.000000e+00      0.000000e+00\n",
       "25%    1.005217e+06  4.807000e+01  ...           1.400000e+01      2.000000e+00\n",
       "50%    5.801305e+06  1.490400e+02  ...           2.980000e+02      6.000000e+00\n",
       "75%    4.050000e+07  2.941900e+02  ...           4.574000e+03      4.400000e+01\n",
       "max    1.002337e+08  2.574070e+03  ...           7.649800e+04      2.704000e+03\n",
       "\n",
       "[8 rows x 12 columns]"
      ]
     },
     "execution_count": 75,
     "metadata": {
      "tags": []
     },
     "output_type": "execute_result"
    }
   ],
   "source": [
    "df_test.describe()"
   ]
  },
  {
   "cell_type": "code",
   "execution_count": null,
   "metadata": {
    "id": "Cf7PQrylZKwi"
   },
   "outputs": [
    {
     "data": {
      "text/html": [
       "<div>\n",
       "<style scoped>\n",
       "    .dataframe tbody tr th:only-of-type {\n",
       "        vertical-align: middle;\n",
       "    }\n",
       "\n",
       "    .dataframe tbody tr th {\n",
       "        vertical-align: top;\n",
       "    }\n",
       "\n",
       "    .dataframe thead th {\n",
       "        text-align: right;\n",
       "    }\n",
       "</style>\n",
       "<table border=\"1\" class=\"dataframe\">\n",
       "  <thead>\n",
       "    <tr style=\"text-align: right;\">\n",
       "      <th></th>\n",
       "      <th>event_time</th>\n",
       "      <th>event_type</th>\n",
       "      <th>brand</th>\n",
       "      <th>user_session</th>\n",
       "      <th>timestamp</th>\n",
       "      <th>cat_0</th>\n",
       "      <th>cat_1</th>\n",
       "      <th>cat_2</th>\n",
       "      <th>cat_3</th>\n",
       "    </tr>\n",
       "  </thead>\n",
       "  <tbody>\n",
       "    <tr>\n",
       "      <th>count</th>\n",
       "      <td>2781482</td>\n",
       "      <td>2781482</td>\n",
       "      <td>2518085</td>\n",
       "      <td>2781438</td>\n",
       "      <td>2781482</td>\n",
       "      <td>2781482</td>\n",
       "      <td>2781482</td>\n",
       "      <td>2781482</td>\n",
       "      <td>2781482</td>\n",
       "    </tr>\n",
       "    <tr>\n",
       "      <th>unique</th>\n",
       "      <td>1475322</td>\n",
       "      <td>2</td>\n",
       "      <td>3244</td>\n",
       "      <td>1826140</td>\n",
       "      <td>1475322</td>\n",
       "      <td>14</td>\n",
       "      <td>63</td>\n",
       "      <td>91</td>\n",
       "      <td>2</td>\n",
       "    </tr>\n",
       "    <tr>\n",
       "      <th>top</th>\n",
       "      <td>2020-04-07 15:50:31 UTC</td>\n",
       "      <td>cart</td>\n",
       "      <td>samsung</td>\n",
       "      <td>c388eb36-c432-4c8f-8809-0f7bca7d732e</td>\n",
       "      <td>2020-04-07 15:50:31</td>\n",
       "      <td>construction</td>\n",
       "      <td>tools</td>\n",
       "      <td>light</td>\n",
       "      <td>NA</td>\n",
       "    </tr>\n",
       "    <tr>\n",
       "      <th>freq</th>\n",
       "      <td>78</td>\n",
       "      <td>1821692</td>\n",
       "      <td>580038</td>\n",
       "      <td>705</td>\n",
       "      <td>78</td>\n",
       "      <td>1040618</td>\n",
       "      <td>1031554</td>\n",
       "      <td>974229</td>\n",
       "      <td>2774627</td>\n",
       "    </tr>\n",
       "  </tbody>\n",
       "</table>\n",
       "</div>"
      ],
      "text/plain": [
       "                     event_time event_type    brand  ...    cat_1    cat_2    cat_3\n",
       "count                   2781482    2781482  2518085  ...  2781482  2781482  2781482\n",
       "unique                  1475322          2     3244  ...       63       91        2\n",
       "top     2020-04-07 15:50:31 UTC       cart  samsung  ...    tools    light       NA\n",
       "freq                         78    1821692   580038  ...  1031554   974229  2774627\n",
       "\n",
       "[4 rows x 9 columns]"
      ]
     },
     "execution_count": 76,
     "metadata": {
      "tags": []
     },
     "output_type": "execute_result"
    }
   ],
   "source": [
    "df_test.describe(include=['O'])"
   ]
  },
  {
   "cell_type": "markdown",
   "metadata": {
    "id": "hJqluc2iZE7-"
   },
   "source": [
    "### Target encoding"
   ]
  },
  {
   "cell_type": "markdown",
   "metadata": {
    "id": "iPsFk4igZahK"
   },
   "source": [
    "*Target Encoding (TE)* calculates the statistics from a target variable grouped by the unique values of one or more categorical features.\n",
    "\n",
    "For example in a binary classification problem, it calculates the probability that the target is true for each category value - a simple mean."
   ]
  },
  {
   "cell_type": "code",
   "execution_count": null,
   "metadata": {
    "id": "GCQpUgWWY4_Y"
   },
   "outputs": [],
   "source": [
    "df_train['brand'] = df_train['brand'].fillna('UNKNOWN')\n",
    "df_valid['brand'] = df_valid['brand'].fillna('UNKNOWN')\n",
    "df_test['brand'] = df_test['brand'].fillna('UNKNOWN')\n",
    "df_train['cat_2'] = df_train['cat_2'].fillna('UNKNOWN')\n",
    "df_valid['cat_2'] = df_valid['cat_2'].fillna('UNKNOWN')\n",
    "df_test['cat_2'] = df_test['cat_2'].fillna('UNKNOWN')"
   ]
  },
  {
   "cell_type": "code",
   "execution_count": null,
   "metadata": {
    "id": "mZfmRvnnZW8G"
   },
   "outputs": [
    {
     "data": {
      "text/html": [
       "<div>\n",
       "<style scoped>\n",
       "    .dataframe tbody tr th:only-of-type {\n",
       "        vertical-align: middle;\n",
       "    }\n",
       "\n",
       "    .dataframe tbody tr th {\n",
       "        vertical-align: top;\n",
       "    }\n",
       "\n",
       "    .dataframe thead th {\n",
       "        text-align: right;\n",
       "    }\n",
       "</style>\n",
       "<table border=\"1\" class=\"dataframe\">\n",
       "  <thead>\n",
       "    <tr style=\"text-align: right;\">\n",
       "      <th></th>\n",
       "      <th>target</th>\n",
       "    </tr>\n",
       "    <tr>\n",
       "      <th>brand</th>\n",
       "      <th></th>\n",
       "    </tr>\n",
       "  </thead>\n",
       "  <tbody>\n",
       "    <tr>\n",
       "      <th>zajkami</th>\n",
       "      <td>0.000000</td>\n",
       "    </tr>\n",
       "    <tr>\n",
       "      <th>sherlock</th>\n",
       "      <td>0.571429</td>\n",
       "    </tr>\n",
       "    <tr>\n",
       "      <th>ves</th>\n",
       "      <td>0.239130</td>\n",
       "    </tr>\n",
       "    <tr>\n",
       "      <th>triumphtree</th>\n",
       "      <td>0.207692</td>\n",
       "    </tr>\n",
       "    <tr>\n",
       "      <th>tigar</th>\n",
       "      <td>0.182229</td>\n",
       "    </tr>\n",
       "    <tr>\n",
       "      <th>...</th>\n",
       "      <td>...</td>\n",
       "    </tr>\n",
       "    <tr>\n",
       "      <th>nyne</th>\n",
       "      <td>0.000000</td>\n",
       "    </tr>\n",
       "    <tr>\n",
       "      <th>nocnezna</th>\n",
       "      <td>0.350515</td>\n",
       "    </tr>\n",
       "    <tr>\n",
       "      <th>mojdodyr</th>\n",
       "      <td>0.714286</td>\n",
       "    </tr>\n",
       "    <tr>\n",
       "      <th>joerex</th>\n",
       "      <td>0.219101</td>\n",
       "    </tr>\n",
       "    <tr>\n",
       "      <th>nord</th>\n",
       "      <td>0.225352</td>\n",
       "    </tr>\n",
       "  </tbody>\n",
       "</table>\n",
       "<p>4638 rows × 1 columns</p>\n",
       "</div>"
      ],
      "text/plain": [
       "               target\n",
       "brand                \n",
       "zajkami      0.000000\n",
       "sherlock     0.571429\n",
       "ves          0.239130\n",
       "triumphtree  0.207692\n",
       "tigar        0.182229\n",
       "...               ...\n",
       "nyne         0.000000\n",
       "nocnezna     0.350515\n",
       "mojdodyr     0.714286\n",
       "joerex       0.219101\n",
       "nord         0.225352\n",
       "\n",
       "[4638 rows x 1 columns]"
      ]
     },
     "execution_count": 81,
     "metadata": {
      "tags": []
     },
     "output_type": "execute_result"
    }
   ],
   "source": [
    "cat = 'brand'\n",
    "\n",
    "te = df_train[[cat, 'target']].groupby(cat).mean()\n",
    "te"
   ]
  },
  {
   "cell_type": "markdown",
   "metadata": {
    "id": "0bgc9xsIkX6X"
   },
   "source": [
    "if you get MemoryError: std::bad_alloc: CUDA error at: /usr/local/include/rmm/mr/device/cuda_memory_resource.hpp:69: cudaErrorMemoryAllocation out of memory error, restart the session and run data loading blocks. It will free-up the GPU memory."
   ]
  },
  {
   "cell_type": "code",
   "execution_count": null,
   "metadata": {
    "id": "5MYoD3UHZlOA"
   },
   "outputs": [
    {
     "data": {
      "text/html": [
       "<div>\n",
       "<style scoped>\n",
       "    .dataframe tbody tr th:only-of-type {\n",
       "        vertical-align: middle;\n",
       "    }\n",
       "\n",
       "    .dataframe tbody tr th {\n",
       "        vertical-align: top;\n",
       "    }\n",
       "\n",
       "    .dataframe thead th {\n",
       "        text-align: right;\n",
       "    }\n",
       "</style>\n",
       "<table border=\"1\" class=\"dataframe\">\n",
       "  <thead>\n",
       "    <tr style=\"text-align: right;\">\n",
       "      <th></th>\n",
       "      <th>event_time</th>\n",
       "      <th>event_type</th>\n",
       "      <th>product_id</th>\n",
       "      <th>brand</th>\n",
       "      <th>price</th>\n",
       "      <th>user_id</th>\n",
       "      <th>user_session</th>\n",
       "      <th>target</th>\n",
       "      <th>timestamp</th>\n",
       "      <th>ts_hour</th>\n",
       "      <th>ts_minute</th>\n",
       "      <th>ts_weekday</th>\n",
       "      <th>ts_day</th>\n",
       "      <th>ts_month</th>\n",
       "      <th>ts_year</th>\n",
       "      <th>cat_0</th>\n",
       "      <th>cat_1</th>\n",
       "      <th>cat_2</th>\n",
       "      <th>cat_3</th>\n",
       "      <th>NA_brand</th>\n",
       "      <th>NA_user_session</th>\n",
       "      <th>NA_cat_0</th>\n",
       "      <th>NA_cat_1</th>\n",
       "      <th>NA_cat_2</th>\n",
       "      <th>NA_cat_3</th>\n",
       "      <th>NA_price</th>\n",
       "      <th>TE_brand</th>\n",
       "    </tr>\n",
       "  </thead>\n",
       "  <tbody>\n",
       "    <tr>\n",
       "      <th>0</th>\n",
       "      <td>2020-02-04 10:10:27 UTC</td>\n",
       "      <td>cart</td>\n",
       "      <td>32701200</td>\n",
       "      <td>zemex</td>\n",
       "      <td>99.69</td>\n",
       "      <td>516509684</td>\n",
       "      <td>b8c19628-67b7-44a5-9b84-0b53a94fc815</td>\n",
       "      <td>0</td>\n",
       "      <td>2020-02-04 10:10:27</td>\n",
       "      <td>10</td>\n",
       "      <td>10</td>\n",
       "      <td>1</td>\n",
       "      <td>4</td>\n",
       "      <td>2</td>\n",
       "      <td>2020</td>\n",
       "      <td>apparel</td>\n",
       "      <td>shoes</td>\n",
       "      <td>NA</td>\n",
       "      <td>NA</td>\n",
       "      <td>0</td>\n",
       "      <td>0</td>\n",
       "      <td>0</td>\n",
       "      <td>0</td>\n",
       "      <td>0</td>\n",
       "      <td>0</td>\n",
       "      <td>0</td>\n",
       "      <td>0.214815</td>\n",
       "    </tr>\n",
       "    <tr>\n",
       "      <th>1</th>\n",
       "      <td>2019-12-17 17:28:54 UTC</td>\n",
       "      <td>purchase</td>\n",
       "      <td>1005119</td>\n",
       "      <td>apple</td>\n",
       "      <td>972.74</td>\n",
       "      <td>545679084</td>\n",
       "      <td>42f88377-2d87-4e61-8176-744ed7934eaa</td>\n",
       "      <td>1</td>\n",
       "      <td>2019-12-17 17:28:54</td>\n",
       "      <td>17</td>\n",
       "      <td>28</td>\n",
       "      <td>1</td>\n",
       "      <td>17</td>\n",
       "      <td>12</td>\n",
       "      <td>2019</td>\n",
       "      <td>construction</td>\n",
       "      <td>tools</td>\n",
       "      <td>light</td>\n",
       "      <td>NA</td>\n",
       "      <td>0</td>\n",
       "      <td>0</td>\n",
       "      <td>0</td>\n",
       "      <td>0</td>\n",
       "      <td>0</td>\n",
       "      <td>0</td>\n",
       "      <td>0</td>\n",
       "      <td>0.418314</td>\n",
       "    </tr>\n",
       "    <tr>\n",
       "      <th>2</th>\n",
       "      <td>2019-10-09 20:29:52 UTC</td>\n",
       "      <td>cart</td>\n",
       "      <td>5100503</td>\n",
       "      <td>xiaomi</td>\n",
       "      <td>23.00</td>\n",
       "      <td>517829035</td>\n",
       "      <td>72999ff9-75c1-4145-b022-959c3afb9391</td>\n",
       "      <td>0</td>\n",
       "      <td>2019-10-09 20:29:52</td>\n",
       "      <td>20</td>\n",
       "      <td>29</td>\n",
       "      <td>2</td>\n",
       "      <td>9</td>\n",
       "      <td>10</td>\n",
       "      <td>2019</td>\n",
       "      <td>NA</td>\n",
       "      <td>NA</td>\n",
       "      <td>NA</td>\n",
       "      <td>NA</td>\n",
       "      <td>0</td>\n",
       "      <td>0</td>\n",
       "      <td>0</td>\n",
       "      <td>0</td>\n",
       "      <td>0</td>\n",
       "      <td>0</td>\n",
       "      <td>0</td>\n",
       "      <td>0.337278</td>\n",
       "    </tr>\n",
       "    <tr>\n",
       "      <th>3</th>\n",
       "      <td>2020-01-23 11:57:48 UTC</td>\n",
       "      <td>cart</td>\n",
       "      <td>10301357</td>\n",
       "      <td>welly</td>\n",
       "      <td>6.92</td>\n",
       "      <td>605023154</td>\n",
       "      <td>56912ae4-4a9b-4c8a-bb88-bba0530af2a3</td>\n",
       "      <td>0</td>\n",
       "      <td>2020-01-23 11:57:48</td>\n",
       "      <td>11</td>\n",
       "      <td>57</td>\n",
       "      <td>3</td>\n",
       "      <td>23</td>\n",
       "      <td>1</td>\n",
       "      <td>2020</td>\n",
       "      <td>apparel</td>\n",
       "      <td>scarf</td>\n",
       "      <td>NA</td>\n",
       "      <td>NA</td>\n",
       "      <td>0</td>\n",
       "      <td>0</td>\n",
       "      <td>0</td>\n",
       "      <td>0</td>\n",
       "      <td>0</td>\n",
       "      <td>0</td>\n",
       "      <td>0</td>\n",
       "      <td>0.064536</td>\n",
       "    </tr>\n",
       "    <tr>\n",
       "      <th>4</th>\n",
       "      <td>2020-02-08 17:22:35 UTC</td>\n",
       "      <td>cart</td>\n",
       "      <td>1201292</td>\n",
       "      <td>apple</td>\n",
       "      <td>308.61</td>\n",
       "      <td>516299461</td>\n",
       "      <td>c67ae3d9-ee7c-4f7e-8818-7dec5e1535d8</td>\n",
       "      <td>0</td>\n",
       "      <td>2020-02-08 17:22:35</td>\n",
       "      <td>17</td>\n",
       "      <td>22</td>\n",
       "      <td>5</td>\n",
       "      <td>8</td>\n",
       "      <td>2</td>\n",
       "      <td>2020</td>\n",
       "      <td>electronics</td>\n",
       "      <td>tablet</td>\n",
       "      <td>NA</td>\n",
       "      <td>NA</td>\n",
       "      <td>0</td>\n",
       "      <td>0</td>\n",
       "      <td>0</td>\n",
       "      <td>0</td>\n",
       "      <td>0</td>\n",
       "      <td>0</td>\n",
       "      <td>0</td>\n",
       "      <td>0.418314</td>\n",
       "    </tr>\n",
       "  </tbody>\n",
       "</table>\n",
       "</div>"
      ],
      "text/plain": [
       "                event_time event_type  product_id  ... NA_cat_3  NA_price  TE_brand\n",
       "0  2020-02-04 10:10:27 UTC       cart    32701200  ...        0         0  0.214815\n",
       "1  2019-12-17 17:28:54 UTC   purchase     1005119  ...        0         0  0.418314\n",
       "2  2019-10-09 20:29:52 UTC       cart     5100503  ...        0         0  0.337278\n",
       "3  2020-01-23 11:57:48 UTC       cart    10301357  ...        0         0  0.064536\n",
       "4  2020-02-08 17:22:35 UTC       cart     1201292  ...        0         0  0.418314\n",
       "\n",
       "[5 rows x 27 columns]"
      ]
     },
     "execution_count": 83,
     "metadata": {
      "tags": []
     },
     "output_type": "execute_result"
    }
   ],
   "source": [
    "te = te.reset_index()\n",
    "te.columns = [cat, 'TE_' + cat]\n",
    "\n",
    "\n",
    "\n",
    "# using small sample of 1 million records\n",
    "df_train.sample(1000000, random_state=42).merge(te, how='left', on=cat).head()"
   ]
  },
  {
   "cell_type": "markdown",
   "metadata": {
    "id": "ZV0vk6mRaY0B"
   },
   "source": [
    "Similarly, we can apply Target Encoding to a group of categorical features."
   ]
  },
  {
   "cell_type": "code",
   "execution_count": null,
   "metadata": {
    "id": "DyxQRS8YZre4"
   },
   "outputs": [
    {
     "data": {
      "text/html": [
       "<div>\n",
       "<style scoped>\n",
       "    .dataframe tbody tr th:only-of-type {\n",
       "        vertical-align: middle;\n",
       "    }\n",
       "\n",
       "    .dataframe tbody tr th {\n",
       "        vertical-align: top;\n",
       "    }\n",
       "\n",
       "    .dataframe thead th {\n",
       "        text-align: right;\n",
       "    }\n",
       "</style>\n",
       "<table border=\"1\" class=\"dataframe\">\n",
       "  <thead>\n",
       "    <tr style=\"text-align: right;\">\n",
       "      <th></th>\n",
       "      <th></th>\n",
       "      <th>target</th>\n",
       "    </tr>\n",
       "    <tr>\n",
       "      <th>brand</th>\n",
       "      <th>cat_2</th>\n",
       "      <th></th>\n",
       "    </tr>\n",
       "  </thead>\n",
       "  <tbody>\n",
       "    <tr>\n",
       "      <th>chaod</th>\n",
       "      <th>NA</th>\n",
       "      <td>0.120000</td>\n",
       "    </tr>\n",
       "    <tr>\n",
       "      <th>bugaboo</th>\n",
       "      <th>chair</th>\n",
       "      <td>0.000000</td>\n",
       "    </tr>\n",
       "    <tr>\n",
       "      <th>vplaboratory</th>\n",
       "      <th>NA</th>\n",
       "      <td>0.500000</td>\n",
       "    </tr>\n",
       "    <tr>\n",
       "      <th>berber</th>\n",
       "      <th>NA</th>\n",
       "      <td>0.142857</td>\n",
       "    </tr>\n",
       "    <tr>\n",
       "      <th>kubanfarfor</th>\n",
       "      <th>NA</th>\n",
       "      <td>0.111111</td>\n",
       "    </tr>\n",
       "    <tr>\n",
       "      <th>...</th>\n",
       "      <th>...</th>\n",
       "      <td>...</td>\n",
       "    </tr>\n",
       "    <tr>\n",
       "      <th>hitachi</th>\n",
       "      <th>acoustic</th>\n",
       "      <td>0.500000</td>\n",
       "    </tr>\n",
       "    <tr>\n",
       "      <th>hyperx</th>\n",
       "      <th>headphone</th>\n",
       "      <td>0.256870</td>\n",
       "    </tr>\n",
       "    <tr>\n",
       "      <th>termit</th>\n",
       "      <th>NA</th>\n",
       "      <td>0.333333</td>\n",
       "    </tr>\n",
       "    <tr>\n",
       "      <th>marshal</th>\n",
       "      <th>NA</th>\n",
       "      <td>0.144737</td>\n",
       "    </tr>\n",
       "    <tr>\n",
       "      <th>ducray</th>\n",
       "      <th>winch</th>\n",
       "      <td>0.461538</td>\n",
       "    </tr>\n",
       "  </tbody>\n",
       "</table>\n",
       "<p>11154 rows × 1 columns</p>\n",
       "</div>"
      ],
      "text/plain": [
       "                          target\n",
       "brand        cat_2              \n",
       "chaod        NA         0.120000\n",
       "bugaboo      chair      0.000000\n",
       "vplaboratory NA         0.500000\n",
       "berber       NA         0.142857\n",
       "kubanfarfor  NA         0.111111\n",
       "...                          ...\n",
       "hitachi      acoustic   0.500000\n",
       "hyperx       headphone  0.256870\n",
       "termit       NA         0.333333\n",
       "marshal      NA         0.144737\n",
       "ducray       winch      0.461538\n",
       "\n",
       "[11154 rows x 1 columns]"
      ]
     },
     "execution_count": 89,
     "metadata": {
      "tags": []
     },
     "output_type": "execute_result"
    }
   ],
   "source": [
    "te = df_train[['brand', 'cat_2', 'target']].groupby(['brand', 'cat_2']).mean()\n",
    "te"
   ]
  },
  {
   "cell_type": "code",
   "execution_count": null,
   "metadata": {
    "id": "C_anqp6YarTz"
   },
   "outputs": [
    {
     "data": {
      "text/html": [
       "<div>\n",
       "<style scoped>\n",
       "    .dataframe tbody tr th:only-of-type {\n",
       "        vertical-align: middle;\n",
       "    }\n",
       "\n",
       "    .dataframe tbody tr th {\n",
       "        vertical-align: top;\n",
       "    }\n",
       "\n",
       "    .dataframe thead th {\n",
       "        text-align: right;\n",
       "    }\n",
       "</style>\n",
       "<table border=\"1\" class=\"dataframe\">\n",
       "  <thead>\n",
       "    <tr style=\"text-align: right;\">\n",
       "      <th></th>\n",
       "      <th>event_time</th>\n",
       "      <th>event_type</th>\n",
       "      <th>product_id</th>\n",
       "      <th>brand</th>\n",
       "      <th>price</th>\n",
       "      <th>user_id</th>\n",
       "      <th>user_session</th>\n",
       "      <th>target</th>\n",
       "      <th>timestamp</th>\n",
       "      <th>ts_hour</th>\n",
       "      <th>ts_minute</th>\n",
       "      <th>ts_weekday</th>\n",
       "      <th>ts_day</th>\n",
       "      <th>ts_month</th>\n",
       "      <th>ts_year</th>\n",
       "      <th>cat_0</th>\n",
       "      <th>cat_1</th>\n",
       "      <th>cat_2</th>\n",
       "      <th>cat_3</th>\n",
       "      <th>NA_brand</th>\n",
       "      <th>NA_user_session</th>\n",
       "      <th>NA_cat_0</th>\n",
       "      <th>NA_cat_1</th>\n",
       "      <th>NA_cat_2</th>\n",
       "      <th>NA_cat_3</th>\n",
       "      <th>NA_price</th>\n",
       "      <th>TE_brand_cat_2</th>\n",
       "    </tr>\n",
       "  </thead>\n",
       "  <tbody>\n",
       "    <tr>\n",
       "      <th>0</th>\n",
       "      <td>2020-02-05 04:27:22 UTC</td>\n",
       "      <td>cart</td>\n",
       "      <td>44100020</td>\n",
       "      <td>bibalina</td>\n",
       "      <td>19.51</td>\n",
       "      <td>522696854</td>\n",
       "      <td>f65f7a48-14a3-4f4c-be31-7da05d0b6bbd</td>\n",
       "      <td>0</td>\n",
       "      <td>2020-02-05 04:27:22</td>\n",
       "      <td>4</td>\n",
       "      <td>27</td>\n",
       "      <td>2</td>\n",
       "      <td>5</td>\n",
       "      <td>2</td>\n",
       "      <td>2020</td>\n",
       "      <td>NA</td>\n",
       "      <td>NA</td>\n",
       "      <td>NA</td>\n",
       "      <td>NA</td>\n",
       "      <td>0</td>\n",
       "      <td>0</td>\n",
       "      <td>0</td>\n",
       "      <td>0</td>\n",
       "      <td>0</td>\n",
       "      <td>0</td>\n",
       "      <td>0</td>\n",
       "      <td>0.235135</td>\n",
       "    </tr>\n",
       "    <tr>\n",
       "      <th>1</th>\n",
       "      <td>2020-01-10 07:54:06 UTC</td>\n",
       "      <td>purchase</td>\n",
       "      <td>5000475</td>\n",
       "      <td>janome</td>\n",
       "      <td>172.44</td>\n",
       "      <td>552041316</td>\n",
       "      <td>877ef70a-85b0-4865-bef6-49a2f0b709cb</td>\n",
       "      <td>1</td>\n",
       "      <td>2020-01-10 07:54:06</td>\n",
       "      <td>7</td>\n",
       "      <td>54</td>\n",
       "      <td>4</td>\n",
       "      <td>10</td>\n",
       "      <td>1</td>\n",
       "      <td>2020</td>\n",
       "      <td>appliances</td>\n",
       "      <td>sewing_machine</td>\n",
       "      <td>NA</td>\n",
       "      <td>NA</td>\n",
       "      <td>0</td>\n",
       "      <td>0</td>\n",
       "      <td>0</td>\n",
       "      <td>0</td>\n",
       "      <td>0</td>\n",
       "      <td>0</td>\n",
       "      <td>0</td>\n",
       "      <td>0.310899</td>\n",
       "    </tr>\n",
       "    <tr>\n",
       "      <th>2</th>\n",
       "      <td>2020-01-04 09:01:01 UTC</td>\n",
       "      <td>cart</td>\n",
       "      <td>16400237</td>\n",
       "      <td>UNKNOWN</td>\n",
       "      <td>154.44</td>\n",
       "      <td>518785103</td>\n",
       "      <td>370cd9ab-afd9-435c-8d58-47cdd5af42e0</td>\n",
       "      <td>0</td>\n",
       "      <td>2020-01-04 09:01:01</td>\n",
       "      <td>9</td>\n",
       "      <td>1</td>\n",
       "      <td>5</td>\n",
       "      <td>4</td>\n",
       "      <td>1</td>\n",
       "      <td>2020</td>\n",
       "      <td>NA</td>\n",
       "      <td>NA</td>\n",
       "      <td>NA</td>\n",
       "      <td>NA</td>\n",
       "      <td>1</td>\n",
       "      <td>0</td>\n",
       "      <td>0</td>\n",
       "      <td>0</td>\n",
       "      <td>0</td>\n",
       "      <td>0</td>\n",
       "      <td>0</td>\n",
       "      <td>0.275269</td>\n",
       "    </tr>\n",
       "    <tr>\n",
       "      <th>3</th>\n",
       "      <td>2020-02-15 13:36:19 UTC</td>\n",
       "      <td>cart</td>\n",
       "      <td>1005253</td>\n",
       "      <td>xiaomi</td>\n",
       "      <td>280.43</td>\n",
       "      <td>546915503</td>\n",
       "      <td>e53f9922-1183-4be0-b8e9-aaf821359b9d</td>\n",
       "      <td>0</td>\n",
       "      <td>2020-02-15 13:36:19</td>\n",
       "      <td>13</td>\n",
       "      <td>36</td>\n",
       "      <td>5</td>\n",
       "      <td>15</td>\n",
       "      <td>2</td>\n",
       "      <td>2020</td>\n",
       "      <td>construction</td>\n",
       "      <td>tools</td>\n",
       "      <td>light</td>\n",
       "      <td>NA</td>\n",
       "      <td>0</td>\n",
       "      <td>0</td>\n",
       "      <td>0</td>\n",
       "      <td>0</td>\n",
       "      <td>0</td>\n",
       "      <td>0</td>\n",
       "      <td>0</td>\n",
       "      <td>0.393963</td>\n",
       "    </tr>\n",
       "    <tr>\n",
       "      <th>4</th>\n",
       "      <td>2020-01-08 14:05:01 UTC</td>\n",
       "      <td>purchase</td>\n",
       "      <td>12600003</td>\n",
       "      <td>maxwell</td>\n",
       "      <td>59.18</td>\n",
       "      <td>537631301</td>\n",
       "      <td>4f5c64d7-3f27-4e3e-abe2-69f1286bfe51</td>\n",
       "      <td>1</td>\n",
       "      <td>2020-01-08 14:05:01</td>\n",
       "      <td>14</td>\n",
       "      <td>5</td>\n",
       "      <td>2</td>\n",
       "      <td>8</td>\n",
       "      <td>1</td>\n",
       "      <td>2020</td>\n",
       "      <td>appliances</td>\n",
       "      <td>environment</td>\n",
       "      <td>vacuum</td>\n",
       "      <td>NA</td>\n",
       "      <td>0</td>\n",
       "      <td>0</td>\n",
       "      <td>0</td>\n",
       "      <td>0</td>\n",
       "      <td>0</td>\n",
       "      <td>0</td>\n",
       "      <td>0</td>\n",
       "      <td>0.371530</td>\n",
       "    </tr>\n",
       "  </tbody>\n",
       "</table>\n",
       "</div>"
      ],
      "text/plain": [
       "                event_time event_type  ...  NA_price TE_brand_cat_2\n",
       "0  2020-02-05 04:27:22 UTC       cart  ...         0       0.235135\n",
       "1  2020-01-10 07:54:06 UTC   purchase  ...         0       0.310899\n",
       "2  2020-01-04 09:01:01 UTC       cart  ...         0       0.275269\n",
       "3  2020-02-15 13:36:19 UTC       cart  ...         0       0.393963\n",
       "4  2020-01-08 14:05:01 UTC   purchase  ...         0       0.371530\n",
       "\n",
       "[5 rows x 27 columns]"
      ]
     },
     "execution_count": 90,
     "metadata": {
      "tags": []
     },
     "output_type": "execute_result"
    }
   ],
   "source": [
    "te = te.reset_index()\n",
    "te.columns = ['brand', 'cat_2', 'TE_brand_cat_2']\n",
    "df_train.sample(1000000, random_state=42).merge(te, how='left', left_on=['brand', 'cat_2'], right_on=['brand', 'cat_2']).head()"
   ]
  },
  {
   "cell_type": "markdown",
   "metadata": {
    "id": "YXtaei12bF9a"
   },
   "source": [
    "Target Encoding creates a new features, which can be used by the model for training. The advantage of Target Encoding is, that it process the categorical features and makes them easier accessible to the model during training and validation.\n",
    "\n",
    "Tree-based model requires to create a split for each categorical value (depending on the exact model). Target Encoding saves to create many splits for the model. In particular, when applying Target Encoding to multiple columns, it reduces significantly the number of splits. The model can directly operate on the probablities/averages and creates a split based on them.\n",
    "Another advantage is, that some boosted-tree libraries, such as XGBoost, cannot handle categorical features. The library requires to hot-n encode them. Categorical features with large cardinality (e.g. >100) are inefficient to store as hot-n.\n",
    "\n",
    "Deep learning models often apply Embedding Layers to categorical features. Embedding layer can overfit quickly and categorical values with low frequencies have ony a few gradient descent updates and can memorize the training data."
   ]
  },
  {
   "cell_type": "markdown",
   "metadata": {
    "id": "JP0XAhPPdZEZ"
   },
   "source": [
    "### Smoothing"
   ]
  },
  {
   "cell_type": "markdown",
   "metadata": {
    "id": "6qqG22jYdbLG"
   },
   "source": [
    "The introduced Target Encoding is a good first step, but it lacks to generalize well and it will tend to overfit, as well.\n",
    "\n",
    "Let's take a look on Target Encoding with the observation count:"
   ]
  },
  {
   "cell_type": "code",
   "execution_count": null,
   "metadata": {
    "id": "QdT6B0sGa3Tq"
   },
   "outputs": [
    {
     "data": {
      "text/html": [
       "<div>\n",
       "<style scoped>\n",
       "    .dataframe tbody tr th:only-of-type {\n",
       "        vertical-align: middle;\n",
       "    }\n",
       "\n",
       "    .dataframe tbody tr th {\n",
       "        vertical-align: top;\n",
       "    }\n",
       "\n",
       "    .dataframe thead tr th {\n",
       "        text-align: left;\n",
       "    }\n",
       "\n",
       "    .dataframe thead tr:last-of-type th {\n",
       "        text-align: right;\n",
       "    }\n",
       "</style>\n",
       "<table border=\"1\" class=\"dataframe\">\n",
       "  <thead>\n",
       "    <tr>\n",
       "      <th></th>\n",
       "      <th colspan=\"2\" halign=\"left\">target</th>\n",
       "    </tr>\n",
       "    <tr>\n",
       "      <th></th>\n",
       "      <th>mean</th>\n",
       "      <th>count</th>\n",
       "    </tr>\n",
       "    <tr>\n",
       "      <th>brand</th>\n",
       "      <th></th>\n",
       "      <th></th>\n",
       "    </tr>\n",
       "  </thead>\n",
       "  <tbody>\n",
       "    <tr>\n",
       "      <th>zajkami</th>\n",
       "      <td>0.000000</td>\n",
       "      <td>7</td>\n",
       "    </tr>\n",
       "    <tr>\n",
       "      <th>sherlock</th>\n",
       "      <td>0.571429</td>\n",
       "      <td>7</td>\n",
       "    </tr>\n",
       "    <tr>\n",
       "      <th>ves</th>\n",
       "      <td>0.239130</td>\n",
       "      <td>184</td>\n",
       "    </tr>\n",
       "    <tr>\n",
       "      <th>triumphtree</th>\n",
       "      <td>0.207692</td>\n",
       "      <td>130</td>\n",
       "    </tr>\n",
       "    <tr>\n",
       "      <th>tigar</th>\n",
       "      <td>0.182229</td>\n",
       "      <td>3984</td>\n",
       "    </tr>\n",
       "    <tr>\n",
       "      <th>...</th>\n",
       "      <td>...</td>\n",
       "      <td>...</td>\n",
       "    </tr>\n",
       "    <tr>\n",
       "      <th>nyne</th>\n",
       "      <td>0.000000</td>\n",
       "      <td>1</td>\n",
       "    </tr>\n",
       "    <tr>\n",
       "      <th>nocnezna</th>\n",
       "      <td>0.350515</td>\n",
       "      <td>194</td>\n",
       "    </tr>\n",
       "    <tr>\n",
       "      <th>mojdodyr</th>\n",
       "      <td>0.714286</td>\n",
       "      <td>7</td>\n",
       "    </tr>\n",
       "    <tr>\n",
       "      <th>joerex</th>\n",
       "      <td>0.219101</td>\n",
       "      <td>356</td>\n",
       "    </tr>\n",
       "    <tr>\n",
       "      <th>nord</th>\n",
       "      <td>0.225352</td>\n",
       "      <td>142</td>\n",
       "    </tr>\n",
       "  </tbody>\n",
       "</table>\n",
       "<p>4638 rows × 2 columns</p>\n",
       "</div>"
      ],
      "text/plain": [
       "               target      \n",
       "                 mean count\n",
       "brand                      \n",
       "zajkami      0.000000     7\n",
       "sherlock     0.571429     7\n",
       "ves          0.239130   184\n",
       "triumphtree  0.207692   130\n",
       "tigar        0.182229  3984\n",
       "...               ...   ...\n",
       "nyne         0.000000     1\n",
       "nocnezna     0.350515   194\n",
       "mojdodyr     0.714286     7\n",
       "joerex       0.219101   356\n",
       "nord         0.225352   142\n",
       "\n",
       "[4638 rows x 2 columns]"
      ]
     },
     "execution_count": 91,
     "metadata": {
      "tags": []
     },
     "output_type": "execute_result"
    }
   ],
   "source": [
    "df_train[[cat, 'target']].groupby(cat).agg(['mean', 'count'])"
   ]
  },
  {
   "cell_type": "code",
   "execution_count": null,
   "metadata": {
    "id": "yubqkhlfdwLt"
   },
   "outputs": [],
   "source": [
    "dd = df_train[[cat, 'target']].groupby(cat).agg(['mean', 'count']).reset_index()['target']['count']"
   ]
  },
  {
   "cell_type": "code",
   "execution_count": null,
   "metadata": {
    "id": "rRfuWxF2d1Pp"
   },
   "outputs": [
    {
     "data": {
      "text/plain": [
       "(0.0, 50.0)"
      ]
     },
     "execution_count": 93,
     "metadata": {
      "tags": []
     },
     "output_type": "execute_result"
    },
    {
     "data": {
      "image/png": "[encoded data removed]",
      "text/plain": [
       "<Figure size 432x288 with 1 Axes>"
      ]
     },
     "metadata": {
      "filenames": {
       "image/png": "/content/reco-book/_build/jupyter_execute/nbs/T513987_Recsys_2020_Feature_Engineering_Tutorial_154_1.png"
      },
      "needs_background": "light",
      "tags": []
     },
     "output_type": "display_data"
    }
   ],
   "source": [
    "plt.bar(dd.groupby('count').count().index.to_array(), dd.groupby('count').count().to_array())\n",
    "plt.xlim(0,50)"
   ]
  },
  {
   "cell_type": "markdown",
   "metadata": {
    "id": "PMPIP9sQd-YN"
   },
   "source": [
    "We can observe, that the observation count for some categories are 1. This means, that we have only one data point to calculate the average and Target Encoding overfits to these values. Therefore, we need to adjust the calculation:\n",
    "\n",
    "- if the number of observation is high, we want to use the mean of this category value\n",
    "- if the number of observation is low, we want to use the global mean"
   ]
  },
  {
   "cell_type": "markdown",
   "metadata": {
    "id": "an5ucQCieVn1"
   },
   "source": [
    "![image.png](data:image/png;base64,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)"
   ]
  },
  {
   "cell_type": "code",
   "execution_count": null,
   "metadata": {
    "id": "LQpiJd-0d2JV"
   },
   "outputs": [],
   "source": [
    "feat = ['brand', 'cat_2']\n",
    "w = 20\n",
    "\n",
    "mean_global = df_train.target.mean()\n",
    "te = df_train.groupby(feat)['target'].agg(['mean','count']).reset_index()\n",
    "te['TE_brand_cat_2'] = ((te['mean']*te['count'])+(mean_global*w))/(te['count']+w)\n",
    "\n",
    "df_train = df_train.sample(1e6, random_state=42).merge(te, on=feat, how='left')\n",
    "df_valid = df_valid.merge( te, on=feat, how='left' )\n",
    "df_test = df_test.merge( te, on=feat, how='left' )\n",
    "df_valid['TE_brand_cat_2'] = df_valid['TE_brand_cat_2'].fillna(mean_global)\n",
    "df_test['TE_brand_cat_2'] = df_test['TE_brand_cat_2'].fillna(mean_global)"
   ]
  },
  {
   "cell_type": "code",
   "execution_count": null,
   "metadata": {
    "id": "_T9pX78Ie35z"
   },
   "outputs": [
    {
     "data": {
      "text/html": [
       "<div>\n",
       "<style scoped>\n",
       "    .dataframe tbody tr th:only-of-type {\n",
       "        vertical-align: middle;\n",
       "    }\n",
       "\n",
       "    .dataframe tbody tr th {\n",
       "        vertical-align: top;\n",
       "    }\n",
       "\n",
       "    .dataframe thead th {\n",
       "        text-align: right;\n",
       "    }\n",
       "</style>\n",
       "<table border=\"1\" class=\"dataframe\">\n",
       "  <thead>\n",
       "    <tr style=\"text-align: right;\">\n",
       "      <th></th>\n",
       "      <th>event_time</th>\n",
       "      <th>event_type</th>\n",
       "      <th>product_id</th>\n",
       "      <th>brand</th>\n",
       "      <th>price</th>\n",
       "      <th>user_id</th>\n",
       "      <th>user_session</th>\n",
       "      <th>target</th>\n",
       "      <th>timestamp</th>\n",
       "      <th>ts_hour</th>\n",
       "      <th>ts_minute</th>\n",
       "      <th>ts_weekday</th>\n",
       "      <th>ts_day</th>\n",
       "      <th>ts_month</th>\n",
       "      <th>ts_year</th>\n",
       "      <th>cat_0</th>\n",
       "      <th>cat_1</th>\n",
       "      <th>cat_2</th>\n",
       "      <th>cat_3</th>\n",
       "      <th>product_id_Categorify</th>\n",
       "      <th>brand_Categorify</th>\n",
       "      <th>mean</th>\n",
       "      <th>count</th>\n",
       "      <th>TE_brand_cat_2</th>\n",
       "    </tr>\n",
       "  </thead>\n",
       "  <tbody>\n",
       "    <tr>\n",
       "      <th>0</th>\n",
       "      <td>2020-04-09 16:47:18 UTC</td>\n",
       "      <td>cart</td>\n",
       "      <td>1005100</td>\n",
       "      <td>samsung</td>\n",
       "      <td>144.89</td>\n",
       "      <td>604644674</td>\n",
       "      <td>16b2649b-56d9-47e8-afe9-c16d97af142b</td>\n",
       "      <td>0</td>\n",
       "      <td>2020-04-09 16:47:18</td>\n",
       "      <td>16</td>\n",
       "      <td>47</td>\n",
       "      <td>3</td>\n",
       "      <td>9</td>\n",
       "      <td>4</td>\n",
       "      <td>2020</td>\n",
       "      <td>construction</td>\n",
       "      <td>tools</td>\n",
       "      <td>light</td>\n",
       "      <td>NA</td>\n",
       "      <td>5</td>\n",
       "      <td>2</td>\n",
       "      <td>0.47816</td>\n",
       "      <td>1216099</td>\n",
       "      <td>0.478158</td>\n",
       "    </tr>\n",
       "    <tr>\n",
       "      <th>1</th>\n",
       "      <td>2020-04-09 16:47:18 UTC</td>\n",
       "      <td>cart</td>\n",
       "      <td>1005100</td>\n",
       "      <td>samsung</td>\n",
       "      <td>144.89</td>\n",
       "      <td>604644674</td>\n",
       "      <td>16b2649b-56d9-47e8-afe9-c16d97af142b</td>\n",
       "      <td>0</td>\n",
       "      <td>2020-04-09 16:47:18</td>\n",
       "      <td>16</td>\n",
       "      <td>47</td>\n",
       "      <td>3</td>\n",
       "      <td>9</td>\n",
       "      <td>4</td>\n",
       "      <td>2020</td>\n",
       "      <td>construction</td>\n",
       "      <td>tools</td>\n",
       "      <td>light</td>\n",
       "      <td>NA</td>\n",
       "      <td>5</td>\n",
       "      <td>2</td>\n",
       "      <td>0.47816</td>\n",
       "      <td>1216099</td>\n",
       "      <td>0.478158</td>\n",
       "    </tr>\n",
       "    <tr>\n",
       "      <th>2</th>\n",
       "      <td>2020-04-09 16:47:18 UTC</td>\n",
       "      <td>cart</td>\n",
       "      <td>1005100</td>\n",
       "      <td>samsung</td>\n",
       "      <td>144.89</td>\n",
       "      <td>604644674</td>\n",
       "      <td>16b2649b-56d9-47e8-afe9-c16d97af142b</td>\n",
       "      <td>0</td>\n",
       "      <td>2020-04-09 16:47:18</td>\n",
       "      <td>16</td>\n",
       "      <td>47</td>\n",
       "      <td>3</td>\n",
       "      <td>9</td>\n",
       "      <td>4</td>\n",
       "      <td>2020</td>\n",
       "      <td>construction</td>\n",
       "      <td>tools</td>\n",
       "      <td>light</td>\n",
       "      <td>NA</td>\n",
       "      <td>5</td>\n",
       "      <td>2</td>\n",
       "      <td>0.47816</td>\n",
       "      <td>1216099</td>\n",
       "      <td>0.478158</td>\n",
       "    </tr>\n",
       "    <tr>\n",
       "      <th>3</th>\n",
       "      <td>2020-04-09 16:47:18 UTC</td>\n",
       "      <td>cart</td>\n",
       "      <td>1005100</td>\n",
       "      <td>samsung</td>\n",
       "      <td>144.89</td>\n",
       "      <td>604644674</td>\n",
       "      <td>16b2649b-56d9-47e8-afe9-c16d97af142b</td>\n",
       "      <td>0</td>\n",
       "      <td>2020-04-09 16:47:18</td>\n",
       "      <td>16</td>\n",
       "      <td>47</td>\n",
       "      <td>3</td>\n",
       "      <td>9</td>\n",
       "      <td>4</td>\n",
       "      <td>2020</td>\n",
       "      <td>construction</td>\n",
       "      <td>tools</td>\n",
       "      <td>light</td>\n",
       "      <td>NA</td>\n",
       "      <td>5</td>\n",
       "      <td>2</td>\n",
       "      <td>0.47816</td>\n",
       "      <td>1216099</td>\n",
       "      <td>0.478158</td>\n",
       "    </tr>\n",
       "    <tr>\n",
       "      <th>4</th>\n",
       "      <td>2020-04-09 16:47:18 UTC</td>\n",
       "      <td>cart</td>\n",
       "      <td>1005100</td>\n",
       "      <td>samsung</td>\n",
       "      <td>144.89</td>\n",
       "      <td>604644674</td>\n",
       "      <td>16b2649b-56d9-47e8-afe9-c16d97af142b</td>\n",
       "      <td>0</td>\n",
       "      <td>2020-04-09 16:47:18</td>\n",
       "      <td>16</td>\n",
       "      <td>47</td>\n",
       "      <td>3</td>\n",
       "      <td>9</td>\n",
       "      <td>4</td>\n",
       "      <td>2020</td>\n",
       "      <td>construction</td>\n",
       "      <td>tools</td>\n",
       "      <td>light</td>\n",
       "      <td>NA</td>\n",
       "      <td>5</td>\n",
       "      <td>2</td>\n",
       "      <td>0.47816</td>\n",
       "      <td>1216099</td>\n",
       "      <td>0.478158</td>\n",
       "    </tr>\n",
       "  </tbody>\n",
       "</table>\n",
       "</div>"
      ],
      "text/plain": [
       "                event_time event_type  ...    count TE_brand_cat_2\n",
       "0  2020-04-09 16:47:18 UTC       cart  ...  1216099       0.478158\n",
       "1  2020-04-09 16:47:18 UTC       cart  ...  1216099       0.478158\n",
       "2  2020-04-09 16:47:18 UTC       cart  ...  1216099       0.478158\n",
       "3  2020-04-09 16:47:18 UTC       cart  ...  1216099       0.478158\n",
       "4  2020-04-09 16:47:18 UTC       cart  ...  1216099       0.478158\n",
       "\n",
       "[5 rows x 24 columns]"
      ]
     },
     "execution_count": 95,
     "metadata": {
      "tags": []
     },
     "output_type": "execute_result"
    }
   ],
   "source": [
    "df_test.head()"
   ]
  },
  {
   "cell_type": "markdown",
   "metadata": {
    "id": "YC8lrt4ZgImh"
   },
   "source": [
    "### Improve TargetEncoding with out-of-fold\n",
    "We can still improve our Target Encoding function. We can even make it more generalizable, if we apply an out of fold calculation.\n",
    "\n",
    "In our current definition, we use the full training dataset to Target Encode the training dataset and validation/test dataset. Therefore, we will likely overfit slightly on our training dataset, because we use the information from it to encode the categorical values. A better strategy is to use out of fold:\n",
    "\n",
    "- use the full training dataset to encode the validation/test dataset\n",
    "- split the training dataset in k-folds and encode the i-th fold by using all folds except of the i-th one\n"
   ]
  },
  {
   "cell_type": "markdown",
   "metadata": {
    "id": "phLfIffvgOPL"
   },
   "source": [
    "The following figure visualize the strategy for k=5:"
   ]
  },
  {
   "cell_type": "markdown",
   "metadata": {
    "id": "pdPlMRmM6nT4"
   },
   "source": [
    "<img src='https://www.notion.so/image/https%3A%2F%2Fs3-us-west-2.amazonaws.com%2Fsecure.notion-static.com%2F5c5de229-9394-48fa-b715-c642502ee966%2FUntitled.png?table=block&id=e30c8b87-e677-4a07-b27e-13eed7c69c1b&spaceId=63b72b1f-0e90-4ab8-a6df-a060a6545a56&width=2000&userId=21ec183f-f0be-4b6b-9b3e-6f0d4e5c5469&cache=v2'>"
   ]
  },
  {
   "cell_type": "code",
   "execution_count": null,
   "metadata": {
    "id": "5zYPc7TsfS_4"
   },
   "outputs": [],
   "source": [
    "def target_encode(train, valid, col, target, kfold=5, smooth=20):\n",
    "    \"\"\"\n",
    "        train:  train dataset\n",
    "        valid:  validation dataset\n",
    "        col:   column which will be encoded (in the example RESOURCE)\n",
    "        target: target column which will be used to calculate the statistic\n",
    "    \"\"\"\n",
    "    \n",
    "    # We assume that the train dataset is shuffled\n",
    "    train['kfold'] = ((train.index) % kfold)\n",
    "    # We keep the original order as cudf merge will not preserve the original order\n",
    "    train['org_sorting'] = cupy.arange(len(train), dtype=\"int32\")\n",
    "    # We create the output column, we fill with 0\n",
    "    col_name = '_'.join(col)\n",
    "    train['TE_' + col_name] = 0.\n",
    "    for i in range(kfold):\n",
    "        ###################################\n",
    "        # filter for out of fold\n",
    "        # calculate the mean/counts per group category\n",
    "        # calculate the global mean for the oof\n",
    "        # calculate the smoothed TE\n",
    "        # merge it to the original dataframe\n",
    "        ###################################\n",
    "        \n",
    "        df_tmp = train[train['kfold']!=i]\n",
    "        mn = df_tmp[target].mean()\n",
    "        df_tmp = df_tmp[col + [target]].groupby(col).agg(['mean', 'count']).reset_index()\n",
    "        df_tmp.columns = col + ['mean', 'count']\n",
    "        df_tmp['TE_tmp'] = ((df_tmp['mean']*df_tmp['count'])+(mn*smooth)) / (df_tmp['count']+smooth)\n",
    "        df_tmp_m = train[col + ['kfold', 'org_sorting', 'TE_' + col_name]].merge(df_tmp, how='left', left_on=col, right_on=col).sort_values('org_sorting')\n",
    "        df_tmp_m.loc[df_tmp_m['kfold']==i, 'TE_' + col_name] = df_tmp_m.loc[df_tmp_m['kfold']==i, 'TE_tmp']\n",
    "        train['TE_' + col_name] = df_tmp_m['TE_' + col_name].fillna(mn).values\n",
    "\n",
    "    \n",
    "    ###################################\n",
    "    # calculate the mean/counts per group for the full training dataset\n",
    "    # calculate the global mean\n",
    "    # calculate the smoothed TE\n",
    "    # merge it to the original dataframe\n",
    "    # drop all temp columns\n",
    "    ###################################    \n",
    "    \n",
    "    df_tmp = train[col + [target]].groupby(col).agg(['mean', 'count']).reset_index()\n",
    "    mn = train[target].mean()\n",
    "    df_tmp.columns = col + ['mean', 'count']\n",
    "    df_tmp['TE_tmp'] = ((df_tmp['mean']*df_tmp['count'])+(mn*smooth)) / (df_tmp['count']+smooth)\n",
    "    valid['org_sorting'] = cupy.arange(len(valid), dtype=\"int32\")\n",
    "    df_tmp_m = valid[col + ['org_sorting']].merge(df_tmp, how='left', left_on=col, right_on=col).sort_values('org_sorting')\n",
    "    valid['TE_' + col_name] = df_tmp_m['TE_tmp'].fillna(mn).values\n",
    "    \n",
    "    valid = valid.drop('org_sorting', axis=1)\n",
    "    train = train.drop('kfold', axis=1)\n",
    "    train = train.drop('org_sorting', axis=1)\n",
    "    return(train, valid)"
   ]
  },
  {
   "cell_type": "markdown",
   "metadata": {
    "id": "jHmuQFGvhGiB"
   },
   "source": [
    "- Target Encoding calculates statistics of a target column given one or more categorical features\n",
    "- Target Encoding smooths the statistics as a weighted average of the category value and the global statistic\n",
    "- Target Encoding uses a out-of-fold strategy to prevent overfitting to the training dataset.\n",
    "\n",
    "We can see the advantage of using Target Encoding as a feature engineering step. A tree-based model or a neural network learns the average probability for the category value. However, neither model is designed to prevent overfitting."
   ]
  },
  {
   "cell_type": "markdown",
   "metadata": {
    "id": "HeZ0ZTvvhQCy"
   },
   "source": [
    "### Count encoding"
   ]
  },
  {
   "cell_type": "markdown",
   "metadata": {
    "id": "NknHxLqphTFD"
   },
   "source": [
    "*Count Encoding (CE)* calculates the frequency from one or more categorical features given the training dataset.\n",
    "\n",
    "For example we can consider Count Encoding as the populiarity of an item or activity of an user.\n",
    "\n",
    "Count Encoding creates a new feature, which can be used by the model for training. It groups categorical values based on the frequency together.\n",
    "\n",
    "For example,\n",
    "\n",
    "users, which have only 1 interaction in the datasets, are encoded with 1. Instead of having 1 datapoint per user, now, the model can learn a behavior pattern of these users at once.\n",
    "products, which have many interactions in the datasets, are encoded with a high number. The model can learn to see them as top sellers and treat them, accordingly.\n",
    "\n",
    "The advantage of Count Encoding is that the category values are grouped together based on behavior. Particularly in cases with only a few observation, a decision tree is not able to create a split and neural networks have only a few gradient descent updates for these values."
   ]
  },
  {
   "cell_type": "code",
   "execution_count": null,
   "metadata": {
    "id": "SKu-1bfbhMvE"
   },
   "outputs": [],
   "source": [
    "col = 'user_id'\n",
    "\n",
    "df_train['org_sorting'] = cupy.arange(len(df_train), dtype=\"int32\")\n",
    "    \n",
    "train_tmp = df_train[col].value_counts().reset_index()\n",
    "train_tmp.columns = [col,  'CE_' + col]\n",
    "df_tmp = df_train[[col, 'org_sorting']].merge(train_tmp, how='left', left_on=col, right_on=col).sort_values('org_sorting')\n",
    "df_train['CE_' + col] = df_tmp['CE_' + col].fillna(0).values\n",
    "df_train = df_train.drop('org_sorting', axis=1)\n",
    "        \n",
    "df_valid['org_sorting'] = cupy.arange(len(df_valid), dtype=\"int32\")\n",
    "df_tmp = df_valid[[col, 'org_sorting']].merge(train_tmp, how='left', left_on=col, right_on=col).sort_values('org_sorting')\n",
    "df_valid['CE_' + col] = df_tmp['CE_' + col].fillna(0).values\n",
    "df_valid = df_valid.drop('org_sorting', axis=1)"
   ]
  },
  {
   "cell_type": "code",
   "execution_count": null,
   "metadata": {
    "id": "ngtjgCvWhogv"
   },
   "outputs": [
    {
     "data": {
      "text/html": [
       "<div>\n",
       "<style scoped>\n",
       "    .dataframe tbody tr th:only-of-type {\n",
       "        vertical-align: middle;\n",
       "    }\n",
       "\n",
       "    .dataframe tbody tr th {\n",
       "        vertical-align: top;\n",
       "    }\n",
       "\n",
       "    .dataframe thead th {\n",
       "        text-align: right;\n",
       "    }\n",
       "</style>\n",
       "<table border=\"1\" class=\"dataframe\">\n",
       "  <thead>\n",
       "    <tr style=\"text-align: right;\">\n",
       "      <th></th>\n",
       "      <th>event_time</th>\n",
       "      <th>event_type</th>\n",
       "      <th>product_id</th>\n",
       "      <th>category_code</th>\n",
       "      <th>brand</th>\n",
       "      <th>price</th>\n",
       "      <th>user_id</th>\n",
       "      <th>user_session</th>\n",
       "      <th>target</th>\n",
       "      <th>timestamp</th>\n",
       "      <th>ts_hour</th>\n",
       "      <th>ts_minute</th>\n",
       "      <th>ts_weekday</th>\n",
       "      <th>ts_day</th>\n",
       "      <th>ts_month</th>\n",
       "      <th>ts_year</th>\n",
       "      <th>CE_user_id</th>\n",
       "    </tr>\n",
       "  </thead>\n",
       "  <tbody>\n",
       "    <tr>\n",
       "      <th>0</th>\n",
       "      <td>2020-01-23 04:32:33 UTC</td>\n",
       "      <td>cart</td>\n",
       "      <td>100039953</td>\n",
       "      <td>appliances.personal.massager</td>\n",
       "      <td>kivi</td>\n",
       "      <td>267.44</td>\n",
       "      <td>512913139</td>\n",
       "      <td>9bebab16-bce8-43cd-ac97-f763ee4664dd</td>\n",
       "      <td>0</td>\n",
       "      <td>2020-01-23 04:32:33</td>\n",
       "      <td>4</td>\n",
       "      <td>32</td>\n",
       "      <td>3</td>\n",
       "      <td>23</td>\n",
       "      <td>1</td>\n",
       "      <td>2020</td>\n",
       "      <td>3</td>\n",
       "    </tr>\n",
       "    <tr>\n",
       "      <th>1</th>\n",
       "      <td>2020-01-23 04:32:36 UTC</td>\n",
       "      <td>cart</td>\n",
       "      <td>1004767</td>\n",
       "      <td>construction.tools.light</td>\n",
       "      <td>samsung</td>\n",
       "      <td>226.27</td>\n",
       "      <td>549154456</td>\n",
       "      <td>659387e4-032e-4e71-8b0b-3b90f0538f14</td>\n",
       "      <td>0</td>\n",
       "      <td>2020-01-23 04:32:36</td>\n",
       "      <td>4</td>\n",
       "      <td>32</td>\n",
       "      <td>3</td>\n",
       "      <td>23</td>\n",
       "      <td>1</td>\n",
       "      <td>2020</td>\n",
       "      <td>5</td>\n",
       "    </tr>\n",
       "    <tr>\n",
       "      <th>2</th>\n",
       "      <td>2020-01-23 04:32:38 UTC</td>\n",
       "      <td>cart</td>\n",
       "      <td>1003306</td>\n",
       "      <td>construction.tools.light</td>\n",
       "      <td>apple</td>\n",
       "      <td>614.79</td>\n",
       "      <td>585624798</td>\n",
       "      <td>41a24f4f-afb8-4342-ae6f-003aa968f82f</td>\n",
       "      <td>0</td>\n",
       "      <td>2020-01-23 04:32:38</td>\n",
       "      <td>4</td>\n",
       "      <td>32</td>\n",
       "      <td>3</td>\n",
       "      <td>23</td>\n",
       "      <td>1</td>\n",
       "      <td>2020</td>\n",
       "      <td>26</td>\n",
       "    </tr>\n",
       "    <tr>\n",
       "      <th>3</th>\n",
       "      <td>2020-01-23 04:32:38 UTC</td>\n",
       "      <td>cart</td>\n",
       "      <td>4804055</td>\n",
       "      <td>sport.bicycle</td>\n",
       "      <td>apple</td>\n",
       "      <td>192.07</td>\n",
       "      <td>525860806</td>\n",
       "      <td>70b5ed9a-4395-481e-9f91-d811ced8a4c3</td>\n",
       "      <td>0</td>\n",
       "      <td>2020-01-23 04:32:38</td>\n",
       "      <td>4</td>\n",
       "      <td>32</td>\n",
       "      <td>3</td>\n",
       "      <td>23</td>\n",
       "      <td>1</td>\n",
       "      <td>2020</td>\n",
       "      <td>21</td>\n",
       "    </tr>\n",
       "    <tr>\n",
       "      <th>4</th>\n",
       "      <td>2020-01-23 04:32:43 UTC</td>\n",
       "      <td>cart</td>\n",
       "      <td>1005100</td>\n",
       "      <td>construction.tools.light</td>\n",
       "      <td>samsung</td>\n",
       "      <td>141.06</td>\n",
       "      <td>599724791</td>\n",
       "      <td>bc35693d-9c73-457f-a7ef-8ced2f0bb729</td>\n",
       "      <td>0</td>\n",
       "      <td>2020-01-23 04:32:43</td>\n",
       "      <td>4</td>\n",
       "      <td>32</td>\n",
       "      <td>3</td>\n",
       "      <td>23</td>\n",
       "      <td>1</td>\n",
       "      <td>2020</td>\n",
       "      <td>23</td>\n",
       "    </tr>\n",
       "  </tbody>\n",
       "</table>\n",
       "</div>"
      ],
      "text/plain": [
       "                event_time event_type  ...  ts_year CE_user_id\n",
       "0  2020-01-23 04:32:33 UTC       cart  ...     2020          3\n",
       "1  2020-01-23 04:32:36 UTC       cart  ...     2020          5\n",
       "2  2020-01-23 04:32:38 UTC       cart  ...     2020         26\n",
       "3  2020-01-23 04:32:38 UTC       cart  ...     2020         21\n",
       "4  2020-01-23 04:32:43 UTC       cart  ...     2020         23\n",
       "\n",
       "[5 rows x 17 columns]"
      ]
     },
     "execution_count": 5,
     "metadata": {
      "tags": []
     },
     "output_type": "execute_result"
    }
   ],
   "source": [
    "df_train.head()"
   ]
  },
  {
   "cell_type": "markdown",
   "metadata": {
    "id": "RhXeuH1RiQvL"
   },
   "source": [
    "### Binning"
   ]
  },
  {
   "cell_type": "markdown",
   "metadata": {
    "id": "b8uDE63_iXIX"
   },
   "source": [
    "*Binning* maps multiple ordinal categorical or numerical features into groups. It is mainly applied to numerical features:\n",
    "\n",
    "- prevent overfitting by grouping values together\n",
    "- enables us to add some expert knowledge into the model\n",
    "- most simple case: binary flags, e.g. features is greater than 0\n",
    "\n",
    "Examples:\n",
    "- binning weekdays into weekday and weekend\n",
    "- binning hours into morning, early afternoon, late afternoon, evening and night\n",
    "- binning age into child, adlult and retired\n",
    "\n",
    "We can take a look on the hour of the day. We can see multiple patterns:\n",
    "- 0-3 Night: Low purchase probability\n",
    "- 4-7 Early morning: Mid purchase probability\n",
    "- 8-14 Morning/Lunch: Higher purchase probability\n",
    "- 15-20 Afternoon: Low purchase probability\n",
    "- 21-23: Evening: High purchase probability"
   ]
  },
  {
   "cell_type": "code",
   "execution_count": null,
   "metadata": {
    "id": "qL0lTpQrh37u"
   },
   "outputs": [
    {
     "data": {
      "text/html": [
       "<div>\n",
       "<style scoped>\n",
       "    .dataframe tbody tr th:only-of-type {\n",
       "        vertical-align: middle;\n",
       "    }\n",
       "\n",
       "    .dataframe tbody tr th {\n",
       "        vertical-align: top;\n",
       "    }\n",
       "\n",
       "    .dataframe thead tr th {\n",
       "        text-align: left;\n",
       "    }\n",
       "\n",
       "    .dataframe thead tr:last-of-type th {\n",
       "        text-align: right;\n",
       "    }\n",
       "</style>\n",
       "<table border=\"1\" class=\"dataframe\">\n",
       "  <thead>\n",
       "    <tr>\n",
       "      <th></th>\n",
       "      <th colspan=\"2\" halign=\"left\">target</th>\n",
       "    </tr>\n",
       "    <tr>\n",
       "      <th></th>\n",
       "      <th>count</th>\n",
       "      <th>mean</th>\n",
       "    </tr>\n",
       "    <tr>\n",
       "      <th>ts_hour</th>\n",
       "      <th></th>\n",
       "      <th></th>\n",
       "    </tr>\n",
       "  </thead>\n",
       "  <tbody>\n",
       "    <tr>\n",
       "      <th>21</th>\n",
       "      <td>117724</td>\n",
       "      <td>0.363027</td>\n",
       "    </tr>\n",
       "    <tr>\n",
       "      <th>1</th>\n",
       "      <td>99235</td>\n",
       "      <td>0.251756</td>\n",
       "    </tr>\n",
       "    <tr>\n",
       "      <th>20</th>\n",
       "      <td>197950</td>\n",
       "      <td>0.348790</td>\n",
       "    </tr>\n",
       "    <tr>\n",
       "      <th>14</th>\n",
       "      <td>646275</td>\n",
       "      <td>0.358253</td>\n",
       "    </tr>\n",
       "    <tr>\n",
       "      <th>22</th>\n",
       "      <td>73302</td>\n",
       "      <td>0.377643</td>\n",
       "    </tr>\n",
       "    <tr>\n",
       "      <th>2</th>\n",
       "      <td>207125</td>\n",
       "      <td>0.281960</td>\n",
       "    </tr>\n",
       "    <tr>\n",
       "      <th>0</th>\n",
       "      <td>58535</td>\n",
       "      <td>0.304860</td>\n",
       "    </tr>\n",
       "    <tr>\n",
       "      <th>19</th>\n",
       "      <td>321995</td>\n",
       "      <td>0.341636</td>\n",
       "    </tr>\n",
       "    <tr>\n",
       "      <th>23</th>\n",
       "      <td>50577</td>\n",
       "      <td>0.379461</td>\n",
       "    </tr>\n",
       "    <tr>\n",
       "      <th>17</th>\n",
       "      <td>548159</td>\n",
       "      <td>0.338296</td>\n",
       "    </tr>\n",
       "  </tbody>\n",
       "</table>\n",
       "</div>"
      ],
      "text/plain": [
       "         target          \n",
       "          count      mean\n",
       "ts_hour                  \n",
       "21       117724  0.363027\n",
       "1         99235  0.251756\n",
       "20       197950  0.348790\n",
       "14       646275  0.358253\n",
       "22        73302  0.377643\n",
       "2        207125  0.281960\n",
       "0         58535  0.304860\n",
       "19       321995  0.341636\n",
       "23        50577  0.379461\n",
       "17       548159  0.338296"
      ]
     },
     "execution_count": 4,
     "metadata": {
      "tags": []
     },
     "output_type": "execute_result"
    }
   ],
   "source": [
    "df_train[['ts_hour', 'target']].groupby('ts_hour').agg(['count', 'mean']).head(10)"
   ]
  },
  {
   "cell_type": "code",
   "execution_count": null,
   "metadata": {
    "id": "DzzQxbkMihe_"
   },
   "outputs": [],
   "source": [
    "hour = list(range(0,24))\n",
    "hour_bin = [0]*4 + [1]*4 + [2]*7 + [3]*6 + [4]*3\n",
    "\n",
    "data = cudf.DataFrame({\n",
    "    'hour': hour,\n",
    "    'hour_bin': hour_bin,\n",
    "})"
   ]
  },
  {
   "cell_type": "code",
   "execution_count": null,
   "metadata": {
    "id": "4LJ1wIaliiDc"
   },
   "outputs": [
    {
     "data": {
      "text/html": [
       "<div>\n",
       "<style scoped>\n",
       "    .dataframe tbody tr th:only-of-type {\n",
       "        vertical-align: middle;\n",
       "    }\n",
       "\n",
       "    .dataframe tbody tr th {\n",
       "        vertical-align: top;\n",
       "    }\n",
       "\n",
       "    .dataframe thead th {\n",
       "        text-align: right;\n",
       "    }\n",
       "</style>\n",
       "<table border=\"1\" class=\"dataframe\">\n",
       "  <thead>\n",
       "    <tr style=\"text-align: right;\">\n",
       "      <th></th>\n",
       "      <th>hour</th>\n",
       "      <th>hour_bin</th>\n",
       "    </tr>\n",
       "  </thead>\n",
       "  <tbody>\n",
       "    <tr>\n",
       "      <th>0</th>\n",
       "      <td>0</td>\n",
       "      <td>0</td>\n",
       "    </tr>\n",
       "    <tr>\n",
       "      <th>1</th>\n",
       "      <td>1</td>\n",
       "      <td>0</td>\n",
       "    </tr>\n",
       "    <tr>\n",
       "      <th>2</th>\n",
       "      <td>2</td>\n",
       "      <td>0</td>\n",
       "    </tr>\n",
       "    <tr>\n",
       "      <th>3</th>\n",
       "      <td>3</td>\n",
       "      <td>0</td>\n",
       "    </tr>\n",
       "    <tr>\n",
       "      <th>4</th>\n",
       "      <td>4</td>\n",
       "      <td>1</td>\n",
       "    </tr>\n",
       "    <tr>\n",
       "      <th>5</th>\n",
       "      <td>5</td>\n",
       "      <td>1</td>\n",
       "    </tr>\n",
       "    <tr>\n",
       "      <th>6</th>\n",
       "      <td>6</td>\n",
       "      <td>1</td>\n",
       "    </tr>\n",
       "    <tr>\n",
       "      <th>7</th>\n",
       "      <td>7</td>\n",
       "      <td>1</td>\n",
       "    </tr>\n",
       "    <tr>\n",
       "      <th>8</th>\n",
       "      <td>8</td>\n",
       "      <td>2</td>\n",
       "    </tr>\n",
       "    <tr>\n",
       "      <th>9</th>\n",
       "      <td>9</td>\n",
       "      <td>2</td>\n",
       "    </tr>\n",
       "  </tbody>\n",
       "</table>\n",
       "</div>"
      ],
      "text/plain": [
       "   hour  hour_bin\n",
       "0     0         0\n",
       "1     1         0\n",
       "2     2         0\n",
       "3     3         0\n",
       "4     4         1\n",
       "5     5         1\n",
       "6     6         1\n",
       "7     7         1\n",
       "8     8         2\n",
       "9     9         2"
      ]
     },
     "execution_count": 6,
     "metadata": {
      "tags": []
     },
     "output_type": "execute_result"
    }
   ],
   "source": [
    "data.head(10)"
   ]
  },
  {
   "cell_type": "code",
   "execution_count": null,
   "metadata": {
    "id": "AFtrw11uijYX"
   },
   "outputs": [],
   "source": [
    "df_train = df_train.merge(data, how='left', right_on='hour', left_on='ts_hour')"
   ]
  },
  {
   "cell_type": "code",
   "execution_count": null,
   "metadata": {
    "id": "nz0TmY86ilxl"
   },
   "outputs": [
    {
     "data": {
      "text/html": [
       "<div>\n",
       "<style scoped>\n",
       "    .dataframe tbody tr th:only-of-type {\n",
       "        vertical-align: middle;\n",
       "    }\n",
       "\n",
       "    .dataframe tbody tr th {\n",
       "        vertical-align: top;\n",
       "    }\n",
       "\n",
       "    .dataframe thead tr th {\n",
       "        text-align: left;\n",
       "    }\n",
       "\n",
       "    .dataframe thead tr:last-of-type th {\n",
       "        text-align: right;\n",
       "    }\n",
       "</style>\n",
       "<table border=\"1\" class=\"dataframe\">\n",
       "  <thead>\n",
       "    <tr>\n",
       "      <th></th>\n",
       "      <th colspan=\"2\" halign=\"left\">target</th>\n",
       "    </tr>\n",
       "    <tr>\n",
       "      <th></th>\n",
       "      <th>count</th>\n",
       "      <th>mean</th>\n",
       "    </tr>\n",
       "    <tr>\n",
       "      <th>hour_bin</th>\n",
       "      <th></th>\n",
       "      <th></th>\n",
       "    </tr>\n",
       "  </thead>\n",
       "  <tbody>\n",
       "    <tr>\n",
       "      <th>1</th>\n",
       "      <td>2714395</td>\n",
       "      <td>0.375762</td>\n",
       "    </tr>\n",
       "    <tr>\n",
       "      <th>2</th>\n",
       "      <td>4996207</td>\n",
       "      <td>0.383043</td>\n",
       "    </tr>\n",
       "    <tr>\n",
       "      <th>0</th>\n",
       "      <td>752027</td>\n",
       "      <td>0.308982</td>\n",
       "    </tr>\n",
       "    <tr>\n",
       "      <th>4</th>\n",
       "      <td>241603</td>\n",
       "      <td>0.370902</td>\n",
       "    </tr>\n",
       "    <tr>\n",
       "      <th>3</th>\n",
       "      <td>2791013</td>\n",
       "      <td>0.334824</td>\n",
       "    </tr>\n",
       "  </tbody>\n",
       "</table>\n",
       "</div>"
      ],
      "text/plain": [
       "           target          \n",
       "            count      mean\n",
       "hour_bin                   \n",
       "1         2714395  0.375762\n",
       "2         4996207  0.383043\n",
       "0          752027  0.308982\n",
       "4          241603  0.370902\n",
       "3         2791013  0.334824"
      ]
     },
     "execution_count": 8,
     "metadata": {
      "tags": []
     },
     "output_type": "execute_result"
    }
   ],
   "source": [
    "df_train[['hour_bin', 'target']].groupby('hour_bin').agg(['count', 'mean'])"
   ]
  },
  {
   "cell_type": "markdown",
   "metadata": {
    "id": "dLqG0WN0iqLA"
   },
   "source": [
    "Binning the numerical features reduces the cardinality (# of unique values). Therefore, a model can easier learn the relationship to the target variables, as there are more observation per category. In addition, binning prevents overfitting.\n",
    "\n",
    "Another reason to apply binning is to standardize numeric variables per category group. The datasets provides information about the product category (cat_1) and price information.\n",
    "\n",
    "For example, the headphones and smartphones have a different price distribution.\n",
    "\n",
    "- We can probably buy good headphones between 100−200\n",
    "- For a good smartphone, prices are probably in the range of 400−1200\n",
    "\n",
    "Therefore, the buying behavior should be different depending on the price per category (what is a good deal)."
   ]
  },
  {
   "cell_type": "code",
   "execution_count": null,
   "metadata": {
    "id": "T_Ubdzpyim8V"
   },
   "outputs": [
    {
     "data": {
      "image/png": "[encoded data removed]",
      "text/plain": [
       "<Figure size 432x288 with 1 Axes>"
      ]
     },
     "metadata": {
      "filenames": {
       "image/png": "/content/reco-book/_build/jupyter_execute/nbs/T513987_Recsys_2020_Feature_Engineering_Tutorial_176_0.png"
      },
      "needs_background": "light",
      "tags": []
     },
     "output_type": "display_data"
    }
   ],
   "source": [
    "plt.hist(df_train[df_train['cat_2']=='headphone'].price.to_pandas(), bins=50)\n",
    "plt.show()"
   ]
  },
  {
   "cell_type": "code",
   "execution_count": null,
   "metadata": {
    "id": "2wmQeEzgixMO"
   },
   "outputs": [
    {
     "data": {
      "image/png": "[encoded data removed]",
      "text/plain": [
       "<Figure size 432x288 with 1 Axes>"
      ]
     },
     "metadata": {
      "filenames": {
       "image/png": "/content/reco-book/_build/jupyter_execute/nbs/T513987_Recsys_2020_Feature_Engineering_Tutorial_177_0.png"
      },
      "needs_background": "light",
      "tags": []
     },
     "output_type": "display_data"
    }
   ],
   "source": [
    "plt.hist(df_train[df_train['cat_1']=='smartphone'].price.to_pandas(), bins=50)\n",
    "plt.show()"
   ]
  },
  {
   "cell_type": "code",
   "execution_count": null,
   "metadata": {
    "id": "woQ9ar7ajFZf"
   },
   "outputs": [
    {
     "name": "stdout",
     "output_type": "stream",
     "text": [
      "Headphones mean price: 317.2112100416274 median price: 189.84\n",
      "Smartphones mean price: 456.26767214233337 median price: 263.84\n"
     ]
    }
   ],
   "source": [
    "print('Headphones mean price: ' + str(df_train[df_train['cat_2']=='headphone'].price.mean()) + ' median price: ' + str(df_train[df_train['cat_2']=='headphone'].price.median()))\n",
    "print('Smartphones mean price: ' + str(df_train[df_train['cat_1']=='smartphone'].price.mean()) + ' median price: ' + str(df_train[df_train['cat_1']=='smartphone'].price.median()))"
   ]
  },
  {
   "cell_type": "markdown",
   "metadata": {
    "id": "Efn5mxlSjLMP"
   },
   "source": [
    "Based on the category tree, we want to bin the prices as a combination of cat_0, cat_1 and cat_2."
   ]
  },
  {
   "cell_type": "code",
   "execution_count": null,
   "metadata": {
    "id": "oBxzuI4qjIzw"
   },
   "outputs": [],
   "source": [
    "df_train['cat_012'] = df_train['cat_0'].astype(str) + '_' + df_train['cat_1'].astype(str) + '_' + df_train['cat_2'].astype(str)\n",
    "q_list = [0.1, 0.25, 0.5, 0.75, 0.9]"
   ]
  },
  {
   "cell_type": "markdown",
   "metadata": {
    "id": "4WYhw7uYjRwO"
   },
   "source": [
    "We calculate the quantiles per category group and then merge the quantile to the original dataframe."
   ]
  },
  {
   "cell_type": "code",
   "execution_count": null,
   "metadata": {
    "id": "xG8D7-RWjRWn"
   },
   "outputs": [],
   "source": [
    "for q_value in q_list:\n",
    "    q = df_train[['cat_012', 'price']].groupby(['cat_012']).quantile(q_value)\n",
    "    q = q.reset_index()\n",
    "    q.columns = ['cat_012', 'price' + str(q_value)]\n",
    "    df_train = df_train.merge(q, how='left', on='cat_012')"
   ]
  },
  {
   "cell_type": "markdown",
   "metadata": {
    "id": "nGCecXWkjW1a"
   },
   "source": [
    "Afterwards, we loop through the columns and update the price_bin depending, if the price is between quantiles."
   ]
  },
  {
   "cell_type": "code",
   "execution_count": null,
   "metadata": {
    "id": "SYvAf9NMjVus"
   },
   "outputs": [],
   "source": [
    "df_train['price_bin'] = -1\n",
    "\n",
    "for i, q_value in enumerate(q_list):\n",
    "    if i == 0:\n",
    "        df_train.loc[df_train['price']<=df_train['price' + str(q_value)], 'price_bin'] = i\n",
    "    else:\n",
    "        df_train.loc[(df_train['price']>df_train['price' + str(q_list[i-1])]) & (df_train['price']<=df_train['price' + str(q_value)]), 'price_bin'] = i\n",
    "        \n",
    "df_train.loc[df_train['price']>df_train['price' + str(q_value)], 'price_bin'] = i+1"
   ]
  },
  {
   "cell_type": "code",
   "execution_count": null,
   "metadata": {
    "id": "1bDMXe1KjmaU"
   },
   "outputs": [
    {
     "data": {
      "text/html": [
       "<div>\n",
       "<style scoped>\n",
       "    .dataframe tbody tr th:only-of-type {\n",
       "        vertical-align: middle;\n",
       "    }\n",
       "\n",
       "    .dataframe tbody tr th {\n",
       "        vertical-align: top;\n",
       "    }\n",
       "\n",
       "    .dataframe thead th {\n",
       "        text-align: right;\n",
       "    }\n",
       "</style>\n",
       "<table border=\"1\" class=\"dataframe\">\n",
       "  <thead>\n",
       "    <tr style=\"text-align: right;\">\n",
       "      <th></th>\n",
       "      <th>price</th>\n",
       "      <th>price0.1</th>\n",
       "      <th>price0.25</th>\n",
       "      <th>price0.5</th>\n",
       "      <th>price0.75</th>\n",
       "      <th>price0.9</th>\n",
       "      <th>price_bin</th>\n",
       "    </tr>\n",
       "  </thead>\n",
       "  <tbody>\n",
       "    <tr>\n",
       "      <th>309305</th>\n",
       "      <td>7.70</td>\n",
       "      <td>4.12</td>\n",
       "      <td>5.56</td>\n",
       "      <td>7.68</td>\n",
       "      <td>11.58</td>\n",
       "      <td>16.99</td>\n",
       "      <td>3</td>\n",
       "    </tr>\n",
       "    <tr>\n",
       "      <th>1105820</th>\n",
       "      <td>7.72</td>\n",
       "      <td>3.06</td>\n",
       "      <td>6.15</td>\n",
       "      <td>7.70</td>\n",
       "      <td>12.87</td>\n",
       "      <td>25.71</td>\n",
       "      <td>3</td>\n",
       "    </tr>\n",
       "    <tr>\n",
       "      <th>143278</th>\n",
       "      <td>7.72</td>\n",
       "      <td>3.73</td>\n",
       "      <td>4.63</td>\n",
       "      <td>7.71</td>\n",
       "      <td>15.37</td>\n",
       "      <td>24.66</td>\n",
       "      <td>3</td>\n",
       "    </tr>\n",
       "    <tr>\n",
       "      <th>29097</th>\n",
       "      <td>7.72</td>\n",
       "      <td>4.12</td>\n",
       "      <td>5.56</td>\n",
       "      <td>7.68</td>\n",
       "      <td>11.58</td>\n",
       "      <td>16.99</td>\n",
       "      <td>3</td>\n",
       "    </tr>\n",
       "    <tr>\n",
       "      <th>9451362</th>\n",
       "      <td>7.74</td>\n",
       "      <td>3.73</td>\n",
       "      <td>4.63</td>\n",
       "      <td>7.71</td>\n",
       "      <td>15.37</td>\n",
       "      <td>24.66</td>\n",
       "      <td>3</td>\n",
       "    </tr>\n",
       "    <tr>\n",
       "      <th>...</th>\n",
       "      <td>...</td>\n",
       "      <td>...</td>\n",
       "      <td>...</td>\n",
       "      <td>...</td>\n",
       "      <td>...</td>\n",
       "      <td>...</td>\n",
       "      <td>...</td>\n",
       "    </tr>\n",
       "    <tr>\n",
       "      <th>107240</th>\n",
       "      <td>766.73</td>\n",
       "      <td>254.81</td>\n",
       "      <td>308.63</td>\n",
       "      <td>514.56</td>\n",
       "      <td>767.81</td>\n",
       "      <td>1283.73</td>\n",
       "      <td>3</td>\n",
       "    </tr>\n",
       "    <tr>\n",
       "      <th>775100</th>\n",
       "      <td>766.82</td>\n",
       "      <td>254.81</td>\n",
       "      <td>308.63</td>\n",
       "      <td>514.56</td>\n",
       "      <td>767.81</td>\n",
       "      <td>1283.73</td>\n",
       "      <td>3</td>\n",
       "    </tr>\n",
       "    <tr>\n",
       "      <th>1729643</th>\n",
       "      <td>767.05</td>\n",
       "      <td>254.81</td>\n",
       "      <td>308.63</td>\n",
       "      <td>514.56</td>\n",
       "      <td>767.81</td>\n",
       "      <td>1283.73</td>\n",
       "      <td>3</td>\n",
       "    </tr>\n",
       "    <tr>\n",
       "      <th>716072</th>\n",
       "      <td>767.79</td>\n",
       "      <td>254.81</td>\n",
       "      <td>308.63</td>\n",
       "      <td>514.56</td>\n",
       "      <td>767.81</td>\n",
       "      <td>1283.73</td>\n",
       "      <td>3</td>\n",
       "    </tr>\n",
       "    <tr>\n",
       "      <th>369944</th>\n",
       "      <td>767.81</td>\n",
       "      <td>254.81</td>\n",
       "      <td>308.63</td>\n",
       "      <td>514.56</td>\n",
       "      <td>767.81</td>\n",
       "      <td>1283.73</td>\n",
       "      <td>3</td>\n",
       "    </tr>\n",
       "  </tbody>\n",
       "</table>\n",
       "<p>52053 rows × 7 columns</p>\n",
       "</div>"
      ],
      "text/plain": [
       "          price  price0.1  price0.25  price0.5  price0.75  price0.9  price_bin\n",
       "309305     7.70      4.12       5.56      7.68      11.58     16.99          3\n",
       "1105820    7.72      3.06       6.15      7.70      12.87     25.71          3\n",
       "143278     7.72      3.73       4.63      7.71      15.37     24.66          3\n",
       "29097      7.72      4.12       5.56      7.68      11.58     16.99          3\n",
       "9451362    7.74      3.73       4.63      7.71      15.37     24.66          3\n",
       "...         ...       ...        ...       ...        ...       ...        ...\n",
       "107240   766.73    254.81     308.63    514.56     767.81   1283.73          3\n",
       "775100   766.82    254.81     308.63    514.56     767.81   1283.73          3\n",
       "1729643  767.05    254.81     308.63    514.56     767.81   1283.73          3\n",
       "716072   767.79    254.81     308.63    514.56     767.81   1283.73          3\n",
       "369944   767.81    254.81     308.63    514.56     767.81   1283.73          3\n",
       "\n",
       "[52053 rows x 7 columns]"
      ]
     },
     "execution_count": 15,
     "metadata": {
      "tags": []
     },
     "output_type": "execute_result"
    }
   ],
   "source": [
    "df_train[df_train['price_bin']==3][['price', 'price0.1', 'price0.25', 'price0.5', 'price0.75', 'price0.9', 'price_bin']].drop_duplicates()"
   ]
  },
  {
   "cell_type": "code",
   "execution_count": null,
   "metadata": {
    "id": "nyv_CgM7jm7h"
   },
   "outputs": [],
   "source": [
    "df_train = df_train.drop(['price' + str(x) for x in q_list], axis=1)"
   ]
  },
  {
   "cell_type": "markdown",
   "metadata": {
    "id": "LyRh_1htj-nK"
   },
   "source": [
    "We can see the pattern, that products in a lower quantile 0-10% and 10-25% have lower purchase probabilities."
   ]
  },
  {
   "cell_type": "code",
   "execution_count": null,
   "metadata": {
    "id": "StNkrwttjsAN"
   },
   "outputs": [
    {
     "data": {
      "text/html": [
       "<div>\n",
       "<style scoped>\n",
       "    .dataframe tbody tr th:only-of-type {\n",
       "        vertical-align: middle;\n",
       "    }\n",
       "\n",
       "    .dataframe tbody tr th {\n",
       "        vertical-align: top;\n",
       "    }\n",
       "\n",
       "    .dataframe thead tr th {\n",
       "        text-align: left;\n",
       "    }\n",
       "\n",
       "    .dataframe thead tr:last-of-type th {\n",
       "        text-align: right;\n",
       "    }\n",
       "</style>\n",
       "<table border=\"1\" class=\"dataframe\">\n",
       "  <thead>\n",
       "    <tr>\n",
       "      <th></th>\n",
       "      <th colspan=\"2\" halign=\"left\">target</th>\n",
       "    </tr>\n",
       "    <tr>\n",
       "      <th></th>\n",
       "      <th>count</th>\n",
       "      <th>mean</th>\n",
       "    </tr>\n",
       "    <tr>\n",
       "      <th>price_bin</th>\n",
       "      <th></th>\n",
       "      <th></th>\n",
       "    </tr>\n",
       "  </thead>\n",
       "  <tbody>\n",
       "    <tr>\n",
       "      <th>1</th>\n",
       "      <td>1729591</td>\n",
       "      <td>0.357154</td>\n",
       "    </tr>\n",
       "    <tr>\n",
       "      <th>2</th>\n",
       "      <td>2849441</td>\n",
       "      <td>0.366890</td>\n",
       "    </tr>\n",
       "    <tr>\n",
       "      <th>0</th>\n",
       "      <td>1193665</td>\n",
       "      <td>0.335035</td>\n",
       "    </tr>\n",
       "    <tr>\n",
       "      <th>5</th>\n",
       "      <td>1139560</td>\n",
       "      <td>0.365359</td>\n",
       "    </tr>\n",
       "    <tr>\n",
       "      <th>4</th>\n",
       "      <td>1696056</td>\n",
       "      <td>0.373025</td>\n",
       "    </tr>\n",
       "    <tr>\n",
       "      <th>3</th>\n",
       "      <td>2886932</td>\n",
       "      <td>0.373441</td>\n",
       "    </tr>\n",
       "  </tbody>\n",
       "</table>\n",
       "</div>"
      ],
      "text/plain": [
       "            target          \n",
       "             count      mean\n",
       "price_bin                   \n",
       "1          1729591  0.357154\n",
       "2          2849441  0.366890\n",
       "0          1193665  0.335035\n",
       "5          1139560  0.365359\n",
       "4          1696056  0.373025\n",
       "3          2886932  0.373441"
      ]
     },
     "execution_count": 17,
     "metadata": {
      "tags": []
     },
     "output_type": "execute_result"
    }
   ],
   "source": [
    "df_train[['price_bin', 'target']].groupby('price_bin').agg(['count', 'mean'])"
   ]
  },
  {
   "cell_type": "markdown",
   "metadata": {
    "id": "6P-gaoYxkHQV"
   },
   "source": [
    "Now, let's take a look on ts_weekday."
   ]
  },
  {
   "cell_type": "code",
   "execution_count": null,
   "metadata": {
    "id": "dmJh_uoEkD8q"
   },
   "outputs": [
    {
     "data": {
      "text/html": [
       "<div>\n",
       "<style scoped>\n",
       "    .dataframe tbody tr th:only-of-type {\n",
       "        vertical-align: middle;\n",
       "    }\n",
       "\n",
       "    .dataframe tbody tr th {\n",
       "        vertical-align: top;\n",
       "    }\n",
       "\n",
       "    .dataframe thead tr th {\n",
       "        text-align: left;\n",
       "    }\n",
       "\n",
       "    .dataframe thead tr:last-of-type th {\n",
       "        text-align: right;\n",
       "    }\n",
       "</style>\n",
       "<table border=\"1\" class=\"dataframe\">\n",
       "  <thead>\n",
       "    <tr>\n",
       "      <th></th>\n",
       "      <th colspan=\"2\" halign=\"left\">target</th>\n",
       "    </tr>\n",
       "    <tr>\n",
       "      <th></th>\n",
       "      <th>count</th>\n",
       "      <th>mean</th>\n",
       "    </tr>\n",
       "    <tr>\n",
       "      <th>ts_weekday</th>\n",
       "      <th></th>\n",
       "      <th></th>\n",
       "    </tr>\n",
       "  </thead>\n",
       "  <tbody>\n",
       "    <tr>\n",
       "      <th>1</th>\n",
       "      <td>1428105</td>\n",
       "      <td>0.401288</td>\n",
       "    </tr>\n",
       "    <tr>\n",
       "      <th>2</th>\n",
       "      <td>1419514</td>\n",
       "      <td>0.404012</td>\n",
       "    </tr>\n",
       "    <tr>\n",
       "      <th>0</th>\n",
       "      <td>1509801</td>\n",
       "      <td>0.411447</td>\n",
       "    </tr>\n",
       "    <tr>\n",
       "      <th>5</th>\n",
       "      <td>1839756</td>\n",
       "      <td>0.329605</td>\n",
       "    </tr>\n",
       "    <tr>\n",
       "      <th>4</th>\n",
       "      <td>2015682</td>\n",
       "      <td>0.280888</td>\n",
       "    </tr>\n",
       "    <tr>\n",
       "      <th>6</th>\n",
       "      <td>1788988</td>\n",
       "      <td>0.406825</td>\n",
       "    </tr>\n",
       "    <tr>\n",
       "      <th>3</th>\n",
       "      <td>1493399</td>\n",
       "      <td>0.349564</td>\n",
       "    </tr>\n",
       "  </tbody>\n",
       "</table>\n",
       "</div>"
      ],
      "text/plain": [
       "             target          \n",
       "              count      mean\n",
       "ts_weekday                   \n",
       "1           1428105  0.401288\n",
       "2           1419514  0.404012\n",
       "0           1509801  0.411447\n",
       "5           1839756  0.329605\n",
       "4           2015682  0.280888\n",
       "6           1788988  0.406825\n",
       "3           1493399  0.349564"
      ]
     },
     "execution_count": 18,
     "metadata": {
      "tags": []
     },
     "output_type": "execute_result"
    }
   ],
   "source": [
    "df_train[['ts_weekday', 'target']].groupby('ts_weekday').agg(['count', 'mean'])"
   ]
  },
  {
   "cell_type": "code",
   "execution_count": null,
   "metadata": {
    "id": "tsBOrZVnkMNu"
   },
   "outputs": [],
   "source": [
    "weekday = list(range(0,7))\n",
    "weekday_bin = [0, 1, 1, 2, 2, 2, 0]\n",
    "\n",
    "data = cudf.DataFrame({\n",
    "    'weekday': weekday,\n",
    "    'weekday_bin': weekday_bin,\n",
    "})"
   ]
  },
  {
   "cell_type": "code",
   "execution_count": null,
   "metadata": {
    "id": "59KnnYmtkNPl"
   },
   "outputs": [],
   "source": [
    "df_train = df_train.merge(data, how='left', right_on='weekday', left_on='ts_weekday')"
   ]
  },
  {
   "cell_type": "code",
   "execution_count": null,
   "metadata": {
    "id": "dcwtUdsHkNrb"
   },
   "outputs": [
    {
     "data": {
      "text/html": [
       "<div>\n",
       "<style scoped>\n",
       "    .dataframe tbody tr th:only-of-type {\n",
       "        vertical-align: middle;\n",
       "    }\n",
       "\n",
       "    .dataframe tbody tr th {\n",
       "        vertical-align: top;\n",
       "    }\n",
       "\n",
       "    .dataframe thead tr th {\n",
       "        text-align: left;\n",
       "    }\n",
       "\n",
       "    .dataframe thead tr:last-of-type th {\n",
       "        text-align: right;\n",
       "    }\n",
       "</style>\n",
       "<table border=\"1\" class=\"dataframe\">\n",
       "  <thead>\n",
       "    <tr>\n",
       "      <th></th>\n",
       "      <th colspan=\"2\" halign=\"left\">target</th>\n",
       "    </tr>\n",
       "    <tr>\n",
       "      <th></th>\n",
       "      <th>count</th>\n",
       "      <th>mean</th>\n",
       "    </tr>\n",
       "    <tr>\n",
       "      <th>weekday_bin</th>\n",
       "      <th></th>\n",
       "      <th></th>\n",
       "    </tr>\n",
       "  </thead>\n",
       "  <tbody>\n",
       "    <tr>\n",
       "      <th>1</th>\n",
       "      <td>2847619</td>\n",
       "      <td>0.402646</td>\n",
       "    </tr>\n",
       "    <tr>\n",
       "      <th>2</th>\n",
       "      <td>5348837</td>\n",
       "      <td>0.316819</td>\n",
       "    </tr>\n",
       "    <tr>\n",
       "      <th>0</th>\n",
       "      <td>3298789</td>\n",
       "      <td>0.408940</td>\n",
       "    </tr>\n",
       "  </tbody>\n",
       "</table>\n",
       "</div>"
      ],
      "text/plain": [
       "              target          \n",
       "               count      mean\n",
       "weekday_bin                   \n",
       "1            2847619  0.402646\n",
       "2            5348837  0.316819\n",
       "0            3298789  0.408940"
      ]
     },
     "execution_count": 21,
     "metadata": {
      "tags": []
     },
     "output_type": "execute_result"
    }
   ],
   "source": [
    "df_train[['weekday_bin', 'target']].groupby('weekday_bin').agg(['count', 'mean'])"
   ]
  },
  {
   "cell_type": "markdown",
   "metadata": {
    "id": "RMtFcJAEk18K"
   },
   "source": [
    "It is maybe counterintuitive:\n",
    "* the highest days are Sunday and Monday - a hypothesis could be that people shop on Sunday evening and the first day of the week\n",
    "* the lowest days are Thur-Sat - a hypothesis could be that Thu/Fri is end of \n",
    " week and people are finishing up their work and have no time to do online shopping\n",
    "* Saturday is maybe a day go outside"
   ]
  },
  {
   "cell_type": "markdown",
   "metadata": {
    "id": "zIskg9s5lc1O"
   },
   "source": [
    "### Normalization"
   ]
  },
  {
   "cell_type": "markdown",
   "metadata": {
    "id": "Wv-anGkSmCpm"
   },
   "source": [
    "*Normalization* is required to enable neural networks to leverage numerical features. Tree-based models do not require normalization as they define the split independent of the scale of a feature. Without normalization, neural networks are difficult to train. The image visualizes the loss surface and the gradient updates for non-normalized input (left) and normalized input (right).\n",
    "\n",
    "We will first generate some numerical features with the feature engineering that we also covered in previous steps.\n",
    "\n",
    "The reason is that different numerical features have different scales. When we combine the features in a hidden layer, the different scales make it more difficult to extract patterns from it.\n",
    "\n",
    "Normalization Techniques\n",
    "After we outline the importance for normalizing the numerical input feature, we will discuss different strategy to achieve a normal distributed input feature:\n",
    "- Normalization with mean/std\n",
    "- Log-based normalization\n",
    "- Scale to 0-1\n",
    "- Gauss Rank (separate notebook)\n",
    "- Power transfomer"
   ]
  },
  {
   "cell_type": "code",
   "execution_count": null,
   "metadata": {
    "id": "wt2SL_yCleu4"
   },
   "outputs": [],
   "source": [
    "def target_encode(train, valid, col, target, kfold=5, smooth=20, gpu=True):\n",
    "    \"\"\"\n",
    "        train:  train dataset\n",
    "        valid:  validation dataset\n",
    "        col:   column which will be encoded (in the example RESOURCE)\n",
    "        target: target column which will be used to calculate the statistic\n",
    "    \"\"\"\n",
    "    \n",
    "    # We assume that the train dataset is shuffled\n",
    "    train['kfold'] = ((train.index) % kfold)\n",
    "    # We keep the original order as cudf merge will not preserve the original order\n",
    "    if gpu:\n",
    "        train['org_sorting'] = cupy.arange(len(train), dtype=\"int32\")\n",
    "    else:\n",
    "        train['org_sorting'] = np.arange(len(train), dtype=\"int32\")\n",
    "    # We create the output column, we fill with 0\n",
    "    col_name = '_'.join(col)\n",
    "    train['TE_' + col_name] = 0.\n",
    "    for i in range(kfold):\n",
    "        ###################################\n",
    "        # filter for out of fold\n",
    "        # calculate the mean/counts per group category\n",
    "        # calculate the global mean for the oof\n",
    "        # calculate the smoothed TE\n",
    "        # merge it to the original dataframe\n",
    "        ###################################\n",
    "        \n",
    "        df_tmp = train[train['kfold']!=i]\n",
    "        mn = df_tmp[target].mean()\n",
    "        df_tmp = df_tmp[col + [target]].groupby(col).agg(['mean', 'count']).reset_index()\n",
    "        df_tmp.columns = col + ['mean', 'count']\n",
    "        df_tmp['TE_tmp'] = ((df_tmp['mean']*df_tmp['count'])+(mn*smooth)) / (df_tmp['count']+smooth)\n",
    "        df_tmp_m = train[col + ['kfold', 'org_sorting', 'TE_' + col_name]].merge(df_tmp, how='left', left_on=col, right_on=col).sort_values('org_sorting')\n",
    "        df_tmp_m.loc[df_tmp_m['kfold']==i, 'TE_' + col_name] = df_tmp_m.loc[df_tmp_m['kfold']==i, 'TE_tmp']\n",
    "        train['TE_' + col_name] = df_tmp_m['TE_' + col_name].fillna(mn).values\n",
    "\n",
    "    \n",
    "    ###################################\n",
    "    # calculate the mean/counts per group for the full training dataset\n",
    "    # calculate the global mean\n",
    "    # calculate the smoothed TE\n",
    "    # merge it to the original dataframe\n",
    "    # drop all temp columns\n",
    "    ###################################    \n",
    "    \n",
    "    df_tmp = train[col + [target]].groupby(col).agg(['mean', 'count']).reset_index()\n",
    "    mn = train[target].mean()\n",
    "    df_tmp.columns = col + ['mean', 'count']\n",
    "    df_tmp['TE_tmp'] = ((df_tmp['mean']*df_tmp['count'])+(mn*smooth)) / (df_tmp['count']+smooth)\n",
    "    if gpu:\n",
    "        valid['org_sorting'] = cupy.arange(len(valid), dtype=\"int32\")\n",
    "    else:\n",
    "        valid['org_sorting'] = np.arange(len(valid), dtype=\"int32\")\n",
    "    df_tmp_m = valid[col + ['org_sorting']].merge(df_tmp, how='left', left_on=col, right_on=col).sort_values('org_sorting')\n",
    "    valid['TE_' + col_name] = df_tmp_m['TE_tmp'].fillna(mn).values\n",
    "    \n",
    "    valid = valid.drop('org_sorting', axis=1)\n",
    "    train = train.drop('kfold', axis=1)\n",
    "    train = train.drop('org_sorting', axis=1)\n",
    "    return(train, valid)"
   ]
  },
  {
   "cell_type": "code",
   "execution_count": null,
   "metadata": {
    "id": "Zp9NfIP8lmTj"
   },
   "outputs": [],
   "source": [
    "cats = [['cat_0'], ['cat_1'], ['cat_2'], ['cat_0', 'cat_1', 'cat_2'], ['ts_hour'], ['ts_weekday'], ['ts_weekday', 'ts_hour', 'cat_2', 'brand']]\n",
    "\n",
    "for cat in cats:\n",
    "    df_train, df_valid = target_encode(df_train, df_valid, cat, 'target')"
   ]
  },
  {
   "cell_type": "code",
   "execution_count": null,
   "metadata": {
    "id": "eSGViLTTl0Xn"
   },
   "outputs": [],
   "source": [
    "def count_encode(train, valid, col, gpu=True):\n",
    "    \"\"\"\n",
    "        train:  train dataset\n",
    "        valid:  validation dataset\n",
    "        col:    column which will be count encoded (in the example RESOURCE)\n",
    "    \"\"\"\n",
    "    # We keep the original order as cudf merge will not preserve the original order\n",
    "    if gpu:\n",
    "        train['org_sorting'] = cupy.arange(len(train), dtype=\"int32\")\n",
    "    else:\n",
    "        train['org_sorting'] = np.arange(len(train), dtype=\"int32\")\n",
    "    \n",
    "    train_tmp = train[col].value_counts().reset_index()\n",
    "    train_tmp.columns = [col,  'CE_' + col]\n",
    "    df_tmp = train[[col, 'org_sorting']].merge(train_tmp, how='left', left_on=col, right_on=col).sort_values('org_sorting')\n",
    "    train['CE_' + col] = df_tmp['CE_' + col].fillna(0).values\n",
    "        \n",
    "    if gpu:\n",
    "        valid['org_sorting'] = cupy.arange(len(valid), dtype=\"int32\")\n",
    "    else:\n",
    "        valid['org_sorting'] = np.arange(len(valid), dtype=\"int32\")\n",
    "    df_tmp = valid[[col, 'org_sorting']].merge(train_tmp, how='left', left_on=col, right_on=col).sort_values('org_sorting')\n",
    "    valid['CE_' + col] = df_tmp['CE_' + col].fillna(0).values\n",
    "    \n",
    "    valid = valid.drop('org_sorting', axis=1)\n",
    "    train = train.drop('org_sorting', axis=1)\n",
    "    return(train, valid)"
   ]
  },
  {
   "cell_type": "code",
   "execution_count": null,
   "metadata": {
    "id": "MgxwaFoClver"
   },
   "outputs": [],
   "source": [
    "cats = ['brand', 'user_id', 'product_id', 'cat_0', 'cat_1', 'cat_2']\n",
    "\n",
    "for cat in cats:\n",
    "    df_train, df_valid = count_encode(df_train, df_valid, cat, gpu=True)"
   ]
  },
  {
   "cell_type": "code",
   "execution_count": null,
   "metadata": {
    "id": "-jv0pn3ul7tz"
   },
   "outputs": [
    {
     "data": {
      "text/html": [
       "<div>\n",
       "<style scoped>\n",
       "    .dataframe tbody tr th:only-of-type {\n",
       "        vertical-align: middle;\n",
       "    }\n",
       "\n",
       "    .dataframe tbody tr th {\n",
       "        vertical-align: top;\n",
       "    }\n",
       "\n",
       "    .dataframe thead th {\n",
       "        text-align: right;\n",
       "    }\n",
       "</style>\n",
       "<table border=\"1\" class=\"dataframe\">\n",
       "  <thead>\n",
       "    <tr style=\"text-align: right;\">\n",
       "      <th></th>\n",
       "      <th>event_time</th>\n",
       "      <th>event_type</th>\n",
       "      <th>product_id</th>\n",
       "      <th>brand</th>\n",
       "      <th>price</th>\n",
       "      <th>user_id</th>\n",
       "      <th>user_session</th>\n",
       "      <th>target</th>\n",
       "      <th>timestamp</th>\n",
       "      <th>ts_hour</th>\n",
       "      <th>ts_minute</th>\n",
       "      <th>ts_weekday</th>\n",
       "      <th>ts_day</th>\n",
       "      <th>ts_month</th>\n",
       "      <th>ts_year</th>\n",
       "      <th>cat_0</th>\n",
       "      <th>cat_1</th>\n",
       "      <th>cat_2</th>\n",
       "      <th>cat_3</th>\n",
       "      <th>hour</th>\n",
       "      <th>hour_bin</th>\n",
       "      <th>cat_012</th>\n",
       "      <th>price_bin</th>\n",
       "      <th>weekday</th>\n",
       "      <th>weekday_bin</th>\n",
       "      <th>TE_cat_0</th>\n",
       "      <th>TE_cat_1</th>\n",
       "      <th>TE_cat_2</th>\n",
       "      <th>TE_cat_0_cat_1_cat_2</th>\n",
       "      <th>TE_ts_hour</th>\n",
       "      <th>TE_ts_weekday</th>\n",
       "      <th>TE_ts_weekday_ts_hour_cat_2_brand</th>\n",
       "      <th>CE_brand</th>\n",
       "      <th>CE_user_id</th>\n",
       "      <th>CE_product_id</th>\n",
       "      <th>CE_cat_0</th>\n",
       "      <th>CE_cat_1</th>\n",
       "      <th>CE_cat_2</th>\n",
       "    </tr>\n",
       "  </thead>\n",
       "  <tbody>\n",
       "    <tr>\n",
       "      <th>0</th>\n",
       "      <td>2020-01-23 08:22:39 UTC</td>\n",
       "      <td>cart</td>\n",
       "      <td>13201032</td>\n",
       "      <td>brw</td>\n",
       "      <td>207.47</td>\n",
       "      <td>513115689</td>\n",
       "      <td>520e7567-c1f3-4322-993e-aa4df1ff42ac</td>\n",
       "      <td>0</td>\n",
       "      <td>2020-01-23 08:22:39</td>\n",
       "      <td>8</td>\n",
       "      <td>22</td>\n",
       "      <td>3</td>\n",
       "      <td>23</td>\n",
       "      <td>1</td>\n",
       "      <td>2020</td>\n",
       "      <td>furniture</td>\n",
       "      <td>bedroom</td>\n",
       "      <td>bed</td>\n",
       "      <td>NA</td>\n",
       "      <td>8</td>\n",
       "      <td>2</td>\n",
       "      <td>furniture_bedroom_bed</td>\n",
       "      <td>4</td>\n",
       "      <td>3</td>\n",
       "      <td>2</td>\n",
       "      <td>0.312571</td>\n",
       "      <td>0.359570</td>\n",
       "      <td>0.324688</td>\n",
       "      <td>0.324688</td>\n",
       "      <td>0.390130</td>\n",
       "      <td>0.349599</td>\n",
       "      <td>0.273233</td>\n",
       "      <td>11364</td>\n",
       "      <td>7</td>\n",
       "      <td>50</td>\n",
       "      <td>336494</td>\n",
       "      <td>125236</td>\n",
       "      <td>50304</td>\n",
       "    </tr>\n",
       "    <tr>\n",
       "      <th>1</th>\n",
       "      <td>2020-01-23 08:22:41 UTC</td>\n",
       "      <td>cart</td>\n",
       "      <td>1307058</td>\n",
       "      <td>apple</td>\n",
       "      <td>1281.89</td>\n",
       "      <td>573953156</td>\n",
       "      <td>11b2fb95-fcaa-41c2-904c-7c456cc9e9f3</td>\n",
       "      <td>0</td>\n",
       "      <td>2020-01-23 08:22:41</td>\n",
       "      <td>8</td>\n",
       "      <td>22</td>\n",
       "      <td>3</td>\n",
       "      <td>23</td>\n",
       "      <td>1</td>\n",
       "      <td>2020</td>\n",
       "      <td>electronics</td>\n",
       "      <td>audio</td>\n",
       "      <td>headphone</td>\n",
       "      <td>NA</td>\n",
       "      <td>8</td>\n",
       "      <td>2</td>\n",
       "      <td>electronics_audio_headphone</td>\n",
       "      <td>5</td>\n",
       "      <td>3</td>\n",
       "      <td>2</td>\n",
       "      <td>0.360921</td>\n",
       "      <td>0.361619</td>\n",
       "      <td>0.365271</td>\n",
       "      <td>0.365271</td>\n",
       "      <td>0.390216</td>\n",
       "      <td>0.349541</td>\n",
       "      <td>0.421725</td>\n",
       "      <td>2040287</td>\n",
       "      <td>8</td>\n",
       "      <td>969</td>\n",
       "      <td>2577712</td>\n",
       "      <td>387516</td>\n",
       "      <td>305568</td>\n",
       "    </tr>\n",
       "    <tr>\n",
       "      <th>2</th>\n",
       "      <td>2020-01-23 08:22:42 UTC</td>\n",
       "      <td>cart</td>\n",
       "      <td>1005177</td>\n",
       "      <td>samsung</td>\n",
       "      <td>849.16</td>\n",
       "      <td>515852078</td>\n",
       "      <td>05622990-d291-4ce3-8e2f-4be65c96707e</td>\n",
       "      <td>0</td>\n",
       "      <td>2020-01-23 08:22:42</td>\n",
       "      <td>8</td>\n",
       "      <td>22</td>\n",
       "      <td>3</td>\n",
       "      <td>23</td>\n",
       "      <td>1</td>\n",
       "      <td>2020</td>\n",
       "      <td>construction</td>\n",
       "      <td>tools</td>\n",
       "      <td>light</td>\n",
       "      <td>NA</td>\n",
       "      <td>8</td>\n",
       "      <td>2</td>\n",
       "      <td>construction_tools_light</td>\n",
       "      <td>4</td>\n",
       "      <td>3</td>\n",
       "      <td>2</td>\n",
       "      <td>0.450553</td>\n",
       "      <td>0.450018</td>\n",
       "      <td>0.456834</td>\n",
       "      <td>0.457670</td>\n",
       "      <td>0.390174</td>\n",
       "      <td>0.349531</td>\n",
       "      <td>0.490076</td>\n",
       "      <td>2329847</td>\n",
       "      <td>48</td>\n",
       "      <td>18073</td>\n",
       "      <td>3375478</td>\n",
       "      <td>3319883</td>\n",
       "      <td>3184510</td>\n",
       "    </tr>\n",
       "    <tr>\n",
       "      <th>3</th>\n",
       "      <td>2020-01-23 08:22:43 UTC</td>\n",
       "      <td>cart</td>\n",
       "      <td>5701000</td>\n",
       "      <td>pioneer</td>\n",
       "      <td>61.78</td>\n",
       "      <td>545280126</td>\n",
       "      <td>1f03212a-2582-4d59-844e-05b27e82f54b</td>\n",
       "      <td>0</td>\n",
       "      <td>2020-01-23 08:22:43</td>\n",
       "      <td>8</td>\n",
       "      <td>22</td>\n",
       "      <td>3</td>\n",
       "      <td>23</td>\n",
       "      <td>1</td>\n",
       "      <td>2020</td>\n",
       "      <td>electronics</td>\n",
       "      <td>video</td>\n",
       "      <td>tv</td>\n",
       "      <td>NA</td>\n",
       "      <td>8</td>\n",
       "      <td>2</td>\n",
       "      <td>electronics_video_tv</td>\n",
       "      <td>0</td>\n",
       "      <td>3</td>\n",
       "      <td>2</td>\n",
       "      <td>0.361095</td>\n",
       "      <td>0.315736</td>\n",
       "      <td>0.313373</td>\n",
       "      <td>0.313373</td>\n",
       "      <td>0.390190</td>\n",
       "      <td>0.349571</td>\n",
       "      <td>0.409333</td>\n",
       "      <td>19737</td>\n",
       "      <td>8</td>\n",
       "      <td>152</td>\n",
       "      <td>2577712</td>\n",
       "      <td>176316</td>\n",
       "      <td>164102</td>\n",
       "    </tr>\n",
       "    <tr>\n",
       "      <th>4</th>\n",
       "      <td>2020-01-23 08:22:44 UTC</td>\n",
       "      <td>cart</td>\n",
       "      <td>1005023</td>\n",
       "      <td>xiaomi</td>\n",
       "      <td>322.95</td>\n",
       "      <td>581301439</td>\n",
       "      <td>94ead800-d5dc-43fc-b690-508afd45936f</td>\n",
       "      <td>0</td>\n",
       "      <td>2020-01-23 08:22:44</td>\n",
       "      <td>8</td>\n",
       "      <td>22</td>\n",
       "      <td>3</td>\n",
       "      <td>23</td>\n",
       "      <td>1</td>\n",
       "      <td>2020</td>\n",
       "      <td>construction</td>\n",
       "      <td>tools</td>\n",
       "      <td>light</td>\n",
       "      <td>NA</td>\n",
       "      <td>8</td>\n",
       "      <td>2</td>\n",
       "      <td>construction_tools_light</td>\n",
       "      <td>3</td>\n",
       "      <td>3</td>\n",
       "      <td>2</td>\n",
       "      <td>0.450266</td>\n",
       "      <td>0.449712</td>\n",
       "      <td>0.456533</td>\n",
       "      <td>0.457381</td>\n",
       "      <td>0.390178</td>\n",
       "      <td>0.349578</td>\n",
       "      <td>0.369724</td>\n",
       "      <td>1085216</td>\n",
       "      <td>6</td>\n",
       "      <td>2688</td>\n",
       "      <td>3375478</td>\n",
       "      <td>3319883</td>\n",
       "      <td>3184510</td>\n",
       "    </tr>\n",
       "  </tbody>\n",
       "</table>\n",
       "</div>"
      ],
      "text/plain": [
       "                event_time event_type  product_id  ... CE_cat_0  CE_cat_1  CE_cat_2\n",
       "0  2020-01-23 08:22:39 UTC       cart    13201032  ...   336494    125236     50304\n",
       "1  2020-01-23 08:22:41 UTC       cart     1307058  ...  2577712    387516    305568\n",
       "2  2020-01-23 08:22:42 UTC       cart     1005177  ...  3375478   3319883   3184510\n",
       "3  2020-01-23 08:22:43 UTC       cart     5701000  ...  2577712    176316    164102\n",
       "4  2020-01-23 08:22:44 UTC       cart     1005023  ...  3375478   3319883   3184510\n",
       "\n",
       "[5 rows x 38 columns]"
      ]
     },
     "execution_count": 27,
     "metadata": {
      "tags": []
     },
     "output_type": "execute_result"
    }
   ],
   "source": [
    "df_train.head()"
   ]
  },
  {
   "cell_type": "code",
   "execution_count": null,
   "metadata": {
    "id": "CB7mJ12Vl9Py"
   },
   "outputs": [
    {
     "data": {
      "text/plain": [
       "Index(['event_time', 'event_type', 'product_id', 'brand', 'price', 'user_id',\n",
       "       'user_session', 'target', 'timestamp', 'ts_hour', 'ts_minute',\n",
       "       'ts_weekday', 'ts_day', 'ts_month', 'ts_year', 'cat_0', 'cat_1',\n",
       "       'cat_2', 'cat_3', 'hour', 'hour_bin', 'cat_012', 'price_bin', 'weekday',\n",
       "       'weekday_bin', 'TE_cat_0', 'TE_cat_1', 'TE_cat_2',\n",
       "       'TE_cat_0_cat_1_cat_2', 'TE_ts_hour', 'TE_ts_weekday',\n",
       "       'TE_ts_weekday_ts_hour_cat_2_brand', 'CE_brand', 'CE_user_id',\n",
       "       'CE_product_id', 'CE_cat_0', 'CE_cat_1', 'CE_cat_2'],\n",
       "      dtype='object')"
      ]
     },
     "execution_count": 28,
     "metadata": {
      "tags": []
     },
     "output_type": "execute_result"
    }
   ],
   "source": [
    "df_train.columns"
   ]
  },
  {
   "cell_type": "markdown",
   "metadata": {
    "id": "kx_SfKiame1U"
   },
   "source": [
    "Let's normalize the features: price, TE_ts_weekday_ts_hour_cat_2_brand, CE_cat_2"
   ]
  },
  {
   "cell_type": "code",
   "execution_count": null,
   "metadata": {
    "id": "NC7zcfXjl_h1"
   },
   "outputs": [
    {
     "data": {
      "text/plain": [
       "Text(0.5, 1.0, 'Histogram minmax')"
      ]
     },
     "execution_count": 29,
     "metadata": {
      "tags": []
     },
     "output_type": "execute_result"
    },
    {
     "data": {
      "image/png": "[encoded data removed]",
      "text/plain": [
       "<Figure size 1152x216 with 4 Axes>"
      ]
     },
     "metadata": {
      "filenames": {
       "image/png": "/content/reco-book/_build/jupyter_execute/nbs/T513987_Recsys_2020_Feature_Engineering_Tutorial_204_1.png"
      },
      "needs_background": "light",
      "tags": []
     },
     "output_type": "display_data"
    }
   ],
   "source": [
    "cat = 'price'\n",
    "\n",
    "X = df_train[cat]\n",
    "X_norm = (X-X.mean())/X.std()\n",
    "\n",
    "X_log = np.log(X.to_pandas()+1)\n",
    "X_log_norm = (X_log-X_log.mean())/X_log.std()\n",
    "\n",
    "X_minmax = ((X-X.min())/(X.max()-X.min()))\n",
    "\n",
    "fig, axs = plt.subplots(1, 4, figsize=(16,3))\n",
    "axs[0].hist(X.sample(frac=0.01).to_pandas(), bins=50)\n",
    "axs[0].set_title('Histogram non-normalised')\n",
    "axs[1].hist(X_norm.sample(frac=0.01).to_pandas(), bins=50)\n",
    "axs[1].set_title('Histogram normalised')\n",
    "axs[2].hist(X_log_norm.sample(frac=0.01), bins=50)\n",
    "axs[2].set_title('Histogram log-normalised')\n",
    "axs[3].hist(X_minmax.sample(frac=0.01).to_pandas(), bins=50)\n",
    "axs[3].set_title('Histogram minmax')"
   ]
  },
  {
   "cell_type": "code",
   "execution_count": null,
   "metadata": {
    "id": "lPNIGID3midD"
   },
   "outputs": [
    {
     "data": {
      "text/plain": [
       "Text(0.5, 1.0, 'Histogram minmax')"
      ]
     },
     "execution_count": 30,
     "metadata": {
      "tags": []
     },
     "output_type": "execute_result"
    },
    {
     "data": {
      "image/png": "[encoded data removed]",
      "text/plain": [
       "<Figure size 1152x216 with 4 Axes>"
      ]
     },
     "metadata": {
      "filenames": {
       "image/png": "/content/reco-book/_build/jupyter_execute/nbs/T513987_Recsys_2020_Feature_Engineering_Tutorial_205_1.png"
      },
      "needs_background": "light",
      "tags": []
     },
     "output_type": "display_data"
    }
   ],
   "source": [
    "cat = 'TE_ts_weekday_ts_hour_cat_2_brand'\n",
    "\n",
    "X = df_train[cat]\n",
    "X_norm = (X-X.mean())/X.std()\n",
    "\n",
    "X_log = np.log(X.to_pandas()+1)\n",
    "X_log_norm = (X_log-X_log.mean())/X_log.std()\n",
    "\n",
    "X_minmax = ((X-X.min())/(X.max()-X.min()))\n",
    "\n",
    "fig, axs = plt.subplots(1, 4, figsize=(16,3))\n",
    "axs[0].hist(X.sample(frac=0.01).to_pandas(), bins=50)\n",
    "axs[0].set_title('Histogram non-normalised')\n",
    "axs[1].hist(X_norm.sample(frac=0.01).to_pandas(), bins=50)\n",
    "axs[1].set_title('Histogram normalised')\n",
    "axs[2].hist(X_log_norm.sample(frac=0.01), bins=50)\n",
    "axs[2].set_title('Histogram log-normalised')\n",
    "axs[3].hist(X_minmax.sample(frac=0.01).to_pandas(), bins=50)\n",
    "axs[3].set_title('Histogram minmax')"
   ]
  },
  {
   "cell_type": "code",
   "execution_count": null,
   "metadata": {
    "id": "fwLMIRhRmkHK"
   },
   "outputs": [
    {
     "data": {
      "text/plain": [
       "Text(0.5, 1.0, 'Histogram minmax')"
      ]
     },
     "execution_count": 31,
     "metadata": {
      "tags": []
     },
     "output_type": "execute_result"
    },
    {
     "data": {
      "image/png": "[encoded data removed]",
      "text/plain": [
       "<Figure size 1152x216 with 4 Axes>"
      ]
     },
     "metadata": {
      "filenames": {
       "image/png": "/content/reco-book/_build/jupyter_execute/nbs/T513987_Recsys_2020_Feature_Engineering_Tutorial_206_1.png"
      },
      "needs_background": "light",
      "tags": []
     },
     "output_type": "display_data"
    }
   ],
   "source": [
    "cat = 'CE_cat_2'\n",
    "\n",
    "X = df_train[cat]\n",
    "X_norm = (X-X.mean())/X.std()\n",
    "\n",
    "X_log = np.log(X.to_pandas()+1)\n",
    "X_log_norm = (X_log-X_log.mean())/X_log.std()\n",
    "\n",
    "X_minmax = ((X-X.min())/(X.max()-X.min()))\n",
    "\n",
    "fig, axs = plt.subplots(1, 4, figsize=(16,3))\n",
    "axs[0].hist(X.sample(frac=0.01).to_pandas(), bins=50)\n",
    "axs[0].set_title('Histogram non-normalised')\n",
    "axs[1].hist(X_norm.sample(frac=0.01).to_pandas(), bins=50)\n",
    "axs[1].set_title('Histogram normalised')\n",
    "axs[2].hist(X_log_norm.sample(frac=0.01), bins=50)\n",
    "axs[2].set_title('Histogram log-normalised')\n",
    "axs[3].hist(X_minmax.sample(frac=0.01).to_pandas(), bins=50)\n",
    "axs[3].set_title('Histogram minmax')"
   ]
  },
  {
   "cell_type": "markdown",
   "metadata": {
    "id": "vSLsbqUdmv6B"
   },
   "source": [
    "### Gauss rank"
   ]
  },
  {
   "cell_type": "markdown",
   "metadata": {
    "id": "GkhtEw2YmxU1"
   },
   "source": [
    "Gauss Rank* transforms any arbitrary distribution to a Gaussian normal distribution by\n",
    "\n",
    "1. Compute the rank (or sort the values ascending)\n",
    "2. Scale the values linearly from -1 to +1\n",
    "3. Apply the erfinv function"
   ]
  },
  {
   "cell_type": "markdown",
   "metadata": {
    "id": "kz1FZrPJm-75"
   },
   "source": [
    "![image.png](data:image/png;base64,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)"
   ]
  },
  {
   "cell_type": "code",
   "execution_count": null,
   "metadata": {
    "id": "sYEsdKcDmlsh"
   },
   "outputs": [],
   "source": [
    "import cupy as cp\n",
    "from cupyx.scipy.special import erfinv\n",
    "import cudf as gd\n",
    "\n",
    "import matplotlib.pyplot as plt\n",
    "import numpy as np\n",
    "import pandas as pd\n",
    "from scipy.special import erfinv as sp_erfinv"
   ]
  },
  {
   "cell_type": "code",
   "execution_count": null,
   "metadata": {
    "id": "LpBRtTgXnCJm"
   },
   "outputs": [],
   "source": [
    "def gaussrank_cpu(data, epsilon = 1e-6):\n",
    "    r_cpu = data.argsort().argsort()\n",
    "    r_cpu = (r_cpu/r_cpu.max()-0.5)*2 # scale to (-1,1)\n",
    "    r_cpu = np.clip(r_cpu,-1+epsilon,1-epsilon)\n",
    "    r_cpu = sp_erfinv(r_cpu)\n",
    "    return(r_cpu)\n",
    "\n",
    "def gaussrank_gpu(data, epsilon = 1e-6):\n",
    "    r_gpu = data.argsort().argsort()\n",
    "    r_gpu = (r_gpu/r_gpu.max()-0.5)*2 # scale to (-1,1)\n",
    "    r_gpu = cp.clip(r_gpu,-1+epsilon,1-epsilon)\n",
    "    r_gpu = erfinv(r_gpu)\n",
    "    return(r_gpu)"
   ]
  },
  {
   "cell_type": "code",
   "execution_count": null,
   "metadata": {
    "id": "6aqQQHEdnFNd"
   },
   "outputs": [
    {
     "data": {
      "text/plain": [
       "Text(0.5, 1.0, 'Histogram Gauss Rank')"
      ]
     },
     "execution_count": 34,
     "metadata": {
      "tags": []
     },
     "output_type": "execute_result"
    },
    {
     "data": {
      "image/png": "[encoded data removed]",
      "text/plain": [
       "<Figure size 1152x216 with 2 Axes>"
      ]
     },
     "metadata": {
      "filenames": {
       "image/png": "/content/reco-book/_build/jupyter_execute/nbs/T513987_Recsys_2020_Feature_Engineering_Tutorial_212_1.png"
      },
      "needs_background": "light",
      "tags": []
     },
     "output_type": "display_data"
    }
   ],
   "source": [
    "fig, axs = plt.subplots(1, 2, figsize=(16,3))\n",
    "col = 'CE_product_id'\n",
    "data_sample = df_train[col].sample(frac=0.01)\n",
    "axs[0].hist(data_sample.to_pandas().values, bins=50)\n",
    "axs[1].hist(cp.asnumpy(gaussrank_gpu(df_train[col].values)), bins=50)\n",
    "axs[0].set_title('Histogram non-normalized')\n",
    "axs[1].set_title('Histogram Gauss Rank')"
   ]
  },
  {
   "cell_type": "markdown",
   "metadata": {
    "id": "gCTSBzX6nIsH"
   },
   "source": [
    "Let's normalize the features price, TE_ts_weekday_ts_hour_cat_2_brand and CE_cat_2 with GaussRank, and plot the non-normalized and normalized values"
   ]
  },
  {
   "cell_type": "code",
   "execution_count": null,
   "metadata": {
    "id": "e2FSjqRGnFcz"
   },
   "outputs": [
    {
     "data": {
      "image/png": "[encoded data removed]",
      "text/plain": [
       "<Figure size 1152x648 with 6 Axes>"
      ]
     },
     "metadata": {
      "filenames": {
       "image/png": "/content/reco-book/_build/jupyter_execute/nbs/T513987_Recsys_2020_Feature_Engineering_Tutorial_214_0.png"
      },
      "needs_background": "light",
      "tags": []
     },
     "output_type": "display_data"
    }
   ],
   "source": [
    "fig, axs = plt.subplots(3, 2, figsize=(16,9))\n",
    "for i, col in enumerate(['price', 'TE_ts_weekday_ts_hour_cat_2_brand', 'CE_cat_2']):\n",
    "    data_sample = df_train[col].sample(frac=0.01)\n",
    "    axs[i, 0].hist(data_sample.to_pandas(), bins=50)\n",
    "    axs[i, 1].hist(cp.asnumpy(gaussrank_gpu(data_sample.values)), bins=50)\n",
    "    if i==0:\n",
    "        axs[i, 0].set_title('Histogram non-normalized')\n",
    "        axs[i, 1].set_title('Histogram Gauss Rank')"
   ]
  },
  {
   "cell_type": "markdown",
   "metadata": {
    "id": "Qtu_4jsQnbvI"
   },
   "source": [
    "### Timeseries historical events"
   ]
  },
  {
   "cell_type": "markdown",
   "metadata": {
    "id": "cSU7fJsFnijN"
   },
   "source": [
    "Many real-world recommendation systems contain time information. The system normally logs events with a timestamp. Tree-based or deep learning based models usually only uses the information from the datapoint itself for the prediction and they have difficulties to capture relationships over multiple datapoints.\n",
    "\n",
    "Let's take a look at a simple example. Let's assume we have the interaction events of an itemid, userid and action with the timestamp."
   ]
  },
  {
   "cell_type": "code",
   "execution_count": null,
   "metadata": {
    "id": "AuX2geBynPi2"
   },
   "outputs": [
    {
     "data": {
      "text/html": [
       "<div>\n",
       "<style scoped>\n",
       "    .dataframe tbody tr th:only-of-type {\n",
       "        vertical-align: middle;\n",
       "    }\n",
       "\n",
       "    .dataframe tbody tr th {\n",
       "        vertical-align: top;\n",
       "    }\n",
       "\n",
       "    .dataframe thead th {\n",
       "        text-align: right;\n",
       "    }\n",
       "</style>\n",
       "<table border=\"1\" class=\"dataframe\">\n",
       "  <thead>\n",
       "    <tr style=\"text-align: right;\">\n",
       "      <th></th>\n",
       "      <th>itemid</th>\n",
       "      <th>userid</th>\n",
       "      <th>action</th>\n",
       "      <th>timestamp</th>\n",
       "    </tr>\n",
       "  </thead>\n",
       "  <tbody>\n",
       "    <tr>\n",
       "      <th>0</th>\n",
       "      <td>1000001</td>\n",
       "      <td>6491</td>\n",
       "      <td>1</td>\n",
       "      <td>2020-01-01</td>\n",
       "    </tr>\n",
       "    <tr>\n",
       "      <th>1</th>\n",
       "      <td>1000001</td>\n",
       "      <td>5429</td>\n",
       "      <td>0</td>\n",
       "      <td>2020-01-01</td>\n",
       "    </tr>\n",
       "    <tr>\n",
       "      <th>2</th>\n",
       "      <td>1000001</td>\n",
       "      <td>7591</td>\n",
       "      <td>1</td>\n",
       "      <td>2020-01-01</td>\n",
       "    </tr>\n",
       "    <tr>\n",
       "      <th>3</th>\n",
       "      <td>1000001</td>\n",
       "      <td>9085</td>\n",
       "      <td>1</td>\n",
       "      <td>2020-01-01</td>\n",
       "    </tr>\n",
       "    <tr>\n",
       "      <th>4</th>\n",
       "      <td>1000001</td>\n",
       "      <td>8408</td>\n",
       "      <td>0</td>\n",
       "      <td>2020-01-01</td>\n",
       "    </tr>\n",
       "    <tr>\n",
       "      <th>5</th>\n",
       "      <td>1000001</td>\n",
       "      <td>1771</td>\n",
       "      <td>1</td>\n",
       "      <td>2020-01-01</td>\n",
       "    </tr>\n",
       "    <tr>\n",
       "      <th>6</th>\n",
       "      <td>1000001</td>\n",
       "      <td>2784</td>\n",
       "      <td>1</td>\n",
       "      <td>2020-01-01</td>\n",
       "    </tr>\n",
       "    <tr>\n",
       "      <th>7</th>\n",
       "      <td>1000001</td>\n",
       "      <td>3083</td>\n",
       "      <td>0</td>\n",
       "      <td>2020-01-01</td>\n",
       "    </tr>\n",
       "    <tr>\n",
       "      <th>8</th>\n",
       "      <td>1000001</td>\n",
       "      <td>3395</td>\n",
       "      <td>1</td>\n",
       "      <td>2020-01-01</td>\n",
       "    </tr>\n",
       "    <tr>\n",
       "      <th>9</th>\n",
       "      <td>1000001</td>\n",
       "      <td>6500</td>\n",
       "      <td>1</td>\n",
       "      <td>2020-01-01</td>\n",
       "    </tr>\n",
       "    <tr>\n",
       "      <th>15</th>\n",
       "      <td>1000001</td>\n",
       "      <td>640</td>\n",
       "      <td>1</td>\n",
       "      <td>2020-01-02</td>\n",
       "    </tr>\n",
       "    <tr>\n",
       "      <th>16</th>\n",
       "      <td>1000001</td>\n",
       "      <td>8694</td>\n",
       "      <td>1</td>\n",
       "      <td>2020-01-02</td>\n",
       "    </tr>\n",
       "    <tr>\n",
       "      <th>17</th>\n",
       "      <td>1000001</td>\n",
       "      <td>6148</td>\n",
       "      <td>1</td>\n",
       "      <td>2020-01-02</td>\n",
       "    </tr>\n",
       "    <tr>\n",
       "      <th>18</th>\n",
       "      <td>1000001</td>\n",
       "      <td>3544</td>\n",
       "      <td>0</td>\n",
       "      <td>2020-01-02</td>\n",
       "    </tr>\n",
       "    <tr>\n",
       "      <th>19</th>\n",
       "      <td>1000001</td>\n",
       "      <td>8871</td>\n",
       "      <td>1</td>\n",
       "      <td>2020-01-02</td>\n",
       "    </tr>\n",
       "    <tr>\n",
       "      <th>25</th>\n",
       "      <td>1000001</td>\n",
       "      <td>9028</td>\n",
       "      <td>1</td>\n",
       "      <td>2020-01-03</td>\n",
       "    </tr>\n",
       "    <tr>\n",
       "      <th>27</th>\n",
       "      <td>1000001</td>\n",
       "      <td>9903</td>\n",
       "      <td>1</td>\n",
       "      <td>2020-01-04</td>\n",
       "    </tr>\n",
       "    <tr>\n",
       "      <th>28</th>\n",
       "      <td>1000001</td>\n",
       "      <td>9226</td>\n",
       "      <td>1</td>\n",
       "      <td>2020-01-04</td>\n",
       "    </tr>\n",
       "    <tr>\n",
       "      <th>31</th>\n",
       "      <td>1000001</td>\n",
       "      <td>474</td>\n",
       "      <td>1</td>\n",
       "      <td>2020-01-05</td>\n",
       "    </tr>\n",
       "    <tr>\n",
       "      <th>32</th>\n",
       "      <td>1000001</td>\n",
       "      <td>7779</td>\n",
       "      <td>1</td>\n",
       "      <td>2020-01-05</td>\n",
       "    </tr>\n",
       "    <tr>\n",
       "      <th>33</th>\n",
       "      <td>1000001</td>\n",
       "      <td>8992</td>\n",
       "      <td>1</td>\n",
       "      <td>2020-01-05</td>\n",
       "    </tr>\n",
       "    <tr>\n",
       "      <th>36</th>\n",
       "      <td>1000001</td>\n",
       "      <td>3554</td>\n",
       "      <td>1</td>\n",
       "      <td>2020-01-07</td>\n",
       "    </tr>\n",
       "    <tr>\n",
       "      <th>38</th>\n",
       "      <td>1000001</td>\n",
       "      <td>3704</td>\n",
       "      <td>1</td>\n",
       "      <td>2020-01-08</td>\n",
       "    </tr>\n",
       "    <tr>\n",
       "      <th>39</th>\n",
       "      <td>1000001</td>\n",
       "      <td>6929</td>\n",
       "      <td>1</td>\n",
       "      <td>2020-01-08</td>\n",
       "    </tr>\n",
       "    <tr>\n",
       "      <th>40</th>\n",
       "      <td>1000001</td>\n",
       "      <td>7574</td>\n",
       "      <td>1</td>\n",
       "      <td>2020-01-08</td>\n",
       "    </tr>\n",
       "    <tr>\n",
       "      <th>41</th>\n",
       "      <td>1000001</td>\n",
       "      <td>4624</td>\n",
       "      <td>1</td>\n",
       "      <td>2020-01-08</td>\n",
       "    </tr>\n",
       "    <tr>\n",
       "      <th>42</th>\n",
       "      <td>1000001</td>\n",
       "      <td>2106</td>\n",
       "      <td>0</td>\n",
       "      <td>2020-01-08</td>\n",
       "    </tr>\n",
       "    <tr>\n",
       "      <th>43</th>\n",
       "      <td>1000001</td>\n",
       "      <td>8194</td>\n",
       "      <td>1</td>\n",
       "      <td>2020-01-08</td>\n",
       "    </tr>\n",
       "    <tr>\n",
       "      <th>47</th>\n",
       "      <td>1000001</td>\n",
       "      <td>9245</td>\n",
       "      <td>1</td>\n",
       "      <td>2020-01-09</td>\n",
       "    </tr>\n",
       "    <tr>\n",
       "      <th>48</th>\n",
       "      <td>1000001</td>\n",
       "      <td>8382</td>\n",
       "      <td>1</td>\n",
       "      <td>2020-01-09</td>\n",
       "    </tr>\n",
       "  </tbody>\n",
       "</table>\n",
       "</div>"
      ],
      "text/plain": [
       "     itemid  userid  action  timestamp\n",
       "0   1000001    6491       1 2020-01-01\n",
       "1   1000001    5429       0 2020-01-01\n",
       "2   1000001    7591       1 2020-01-01\n",
       "3   1000001    9085       1 2020-01-01\n",
       "4   1000001    8408       0 2020-01-01\n",
       "5   1000001    1771       1 2020-01-01\n",
       "6   1000001    2784       1 2020-01-01\n",
       "7   1000001    3083       0 2020-01-01\n",
       "8   1000001    3395       1 2020-01-01\n",
       "9   1000001    6500       1 2020-01-01\n",
       "15  1000001     640       1 2020-01-02\n",
       "16  1000001    8694       1 2020-01-02\n",
       "17  1000001    6148       1 2020-01-02\n",
       "18  1000001    3544       0 2020-01-02\n",
       "19  1000001    8871       1 2020-01-02\n",
       "25  1000001    9028       1 2020-01-03\n",
       "27  1000001    9903       1 2020-01-04\n",
       "28  1000001    9226       1 2020-01-04\n",
       "31  1000001     474       1 2020-01-05\n",
       "32  1000001    7779       1 2020-01-05\n",
       "33  1000001    8992       1 2020-01-05\n",
       "36  1000001    3554       1 2020-01-07\n",
       "38  1000001    3704       1 2020-01-08\n",
       "39  1000001    6929       1 2020-01-08\n",
       "40  1000001    7574       1 2020-01-08\n",
       "41  1000001    4624       1 2020-01-08\n",
       "42  1000001    2106       0 2020-01-08\n",
       "43  1000001    8194       1 2020-01-08\n",
       "47  1000001    9245       1 2020-01-09\n",
       "48  1000001    8382       1 2020-01-09"
      ]
     },
     "execution_count": 36,
     "metadata": {
      "tags": []
     },
     "output_type": "execute_result"
    }
   ],
   "source": [
    "itemid = [1000001]*10 + [1000002]*5 + [1000001]*5 + [1000002]*5 + [1000001]*1 + [1000002]*1 + [1000001]*2 + [1000002]*2\n",
    "itemid += [1000001]*3 + [1000002]*2 + [1000001]*1 + [1000002]*1 + [1000001]*6 + [1000002]*3 + [1000001]*2 + [1000002]*2\n",
    "userid = np.random.choice(list(range(10000)), len(itemid))\n",
    "action = np.random.choice(list(range(2)), len(itemid), p=[0.2, 0.8])\n",
    "timestamp = [pd.to_datetime('2020-01-01')]*15\n",
    "timestamp += [pd.to_datetime('2020-01-02')]*10\n",
    "timestamp += [pd.to_datetime('2020-01-03')]*2\n",
    "timestamp += [pd.to_datetime('2020-01-04')]*4\n",
    "timestamp += [pd.to_datetime('2020-01-05')]*5\n",
    "timestamp += [pd.to_datetime('2020-01-07')]*2\n",
    "timestamp += [pd.to_datetime('2020-01-08')]*9\n",
    "timestamp += [pd.to_datetime('2020-01-09')]*4\n",
    "\n",
    "data = pd.DataFrame({\n",
    "    'itemid': itemid,\n",
    "    'userid': userid,\n",
    "    'action': action,\n",
    "    'timestamp': timestamp\n",
    "})\n",
    "\n",
    "data = cudf.from_pandas(data)\n",
    "\n",
    "data[data['itemid']==1000001]"
   ]
  },
  {
   "cell_type": "markdown",
   "metadata": {
    "id": "rjAoJEpxnv5m"
   },
   "source": [
    "We can extract many interesting features based on the history, such as\n",
    "\n",
    "- the sum number of actions of the last day, last 3 days or last 7 days\n",
    "- the average number of actions of the last day, last 3 days or last 7 days\n",
    "- the average probability of the last day, last 3 days or last 7 days\n",
    "etc.\n",
    "\n",
    "In general, these operations are called window function and uses .rolling() function. For each row, the function looks at a window (# of rows around it) and apply a certain function to it.\n",
    "\n",
    "Current, our data is on a userid and itemid level. First, we need to aggregate it on the level, we want to apply the window function."
   ]
  },
  {
   "cell_type": "code",
   "execution_count": null,
   "metadata": {
    "id": "WucjI8GbnvJn"
   },
   "outputs": [
    {
     "data": {
      "text/html": [
       "<div>\n",
       "<style scoped>\n",
       "    .dataframe tbody tr th:only-of-type {\n",
       "        vertical-align: middle;\n",
       "    }\n",
       "\n",
       "    .dataframe tbody tr th {\n",
       "        vertical-align: top;\n",
       "    }\n",
       "\n",
       "    .dataframe thead th {\n",
       "        text-align: right;\n",
       "    }\n",
       "</style>\n",
       "<table border=\"1\" class=\"dataframe\">\n",
       "  <thead>\n",
       "    <tr style=\"text-align: right;\">\n",
       "      <th></th>\n",
       "      <th>itemid</th>\n",
       "      <th>timestamp</th>\n",
       "      <th>count</th>\n",
       "      <th>sum</th>\n",
       "    </tr>\n",
       "    <tr>\n",
       "      <th>timestamp</th>\n",
       "      <th></th>\n",
       "      <th></th>\n",
       "      <th></th>\n",
       "      <th></th>\n",
       "    </tr>\n",
       "  </thead>\n",
       "  <tbody>\n",
       "    <tr>\n",
       "      <th>2020-01-01</th>\n",
       "      <td>1000002</td>\n",
       "      <td>2020-01-01</td>\n",
       "      <td>5</td>\n",
       "      <td>4</td>\n",
       "    </tr>\n",
       "    <tr>\n",
       "      <th>2020-01-08</th>\n",
       "      <td>1000001</td>\n",
       "      <td>2020-01-08</td>\n",
       "      <td>6</td>\n",
       "      <td>5</td>\n",
       "    </tr>\n",
       "    <tr>\n",
       "      <th>2020-01-02</th>\n",
       "      <td>1000001</td>\n",
       "      <td>2020-01-02</td>\n",
       "      <td>5</td>\n",
       "      <td>4</td>\n",
       "    </tr>\n",
       "    <tr>\n",
       "      <th>2020-01-07</th>\n",
       "      <td>1000001</td>\n",
       "      <td>2020-01-07</td>\n",
       "      <td>1</td>\n",
       "      <td>1</td>\n",
       "    </tr>\n",
       "    <tr>\n",
       "      <th>2020-01-03</th>\n",
       "      <td>1000001</td>\n",
       "      <td>2020-01-03</td>\n",
       "      <td>1</td>\n",
       "      <td>1</td>\n",
       "    </tr>\n",
       "    <tr>\n",
       "      <th>2020-01-09</th>\n",
       "      <td>1000001</td>\n",
       "      <td>2020-01-09</td>\n",
       "      <td>2</td>\n",
       "      <td>2</td>\n",
       "    </tr>\n",
       "    <tr>\n",
       "      <th>2020-01-04</th>\n",
       "      <td>1000001</td>\n",
       "      <td>2020-01-04</td>\n",
       "      <td>2</td>\n",
       "      <td>2</td>\n",
       "    </tr>\n",
       "    <tr>\n",
       "      <th>2020-01-05</th>\n",
       "      <td>1000001</td>\n",
       "      <td>2020-01-05</td>\n",
       "      <td>3</td>\n",
       "      <td>3</td>\n",
       "    </tr>\n",
       "    <tr>\n",
       "      <th>2020-01-08</th>\n",
       "      <td>1000002</td>\n",
       "      <td>2020-01-08</td>\n",
       "      <td>3</td>\n",
       "      <td>2</td>\n",
       "    </tr>\n",
       "    <tr>\n",
       "      <th>2020-01-07</th>\n",
       "      <td>1000002</td>\n",
       "      <td>2020-01-07</td>\n",
       "      <td>1</td>\n",
       "      <td>1</td>\n",
       "    </tr>\n",
       "    <tr>\n",
       "      <th>2020-01-09</th>\n",
       "      <td>1000002</td>\n",
       "      <td>2020-01-09</td>\n",
       "      <td>2</td>\n",
       "      <td>2</td>\n",
       "    </tr>\n",
       "    <tr>\n",
       "      <th>2020-01-03</th>\n",
       "      <td>1000002</td>\n",
       "      <td>2020-01-03</td>\n",
       "      <td>1</td>\n",
       "      <td>1</td>\n",
       "    </tr>\n",
       "    <tr>\n",
       "      <th>2020-01-05</th>\n",
       "      <td>1000002</td>\n",
       "      <td>2020-01-05</td>\n",
       "      <td>2</td>\n",
       "      <td>2</td>\n",
       "    </tr>\n",
       "    <tr>\n",
       "      <th>2020-01-04</th>\n",
       "      <td>1000002</td>\n",
       "      <td>2020-01-04</td>\n",
       "      <td>2</td>\n",
       "      <td>2</td>\n",
       "    </tr>\n",
       "    <tr>\n",
       "      <th>2020-01-01</th>\n",
       "      <td>1000001</td>\n",
       "      <td>2020-01-01</td>\n",
       "      <td>10</td>\n",
       "      <td>7</td>\n",
       "    </tr>\n",
       "    <tr>\n",
       "      <th>2020-01-02</th>\n",
       "      <td>1000002</td>\n",
       "      <td>2020-01-02</td>\n",
       "      <td>5</td>\n",
       "      <td>4</td>\n",
       "    </tr>\n",
       "  </tbody>\n",
       "</table>\n",
       "</div>"
      ],
      "text/plain": [
       "             itemid  timestamp  count  sum\n",
       "timestamp                                 \n",
       "2020-01-01  1000002 2020-01-01      5    4\n",
       "2020-01-08  1000001 2020-01-08      6    5\n",
       "2020-01-02  1000001 2020-01-02      5    4\n",
       "2020-01-07  1000001 2020-01-07      1    1\n",
       "2020-01-03  1000001 2020-01-03      1    1\n",
       "2020-01-09  1000001 2020-01-09      2    2\n",
       "2020-01-04  1000001 2020-01-04      2    2\n",
       "2020-01-05  1000001 2020-01-05      3    3\n",
       "2020-01-08  1000002 2020-01-08      3    2\n",
       "2020-01-07  1000002 2020-01-07      1    1\n",
       "2020-01-09  1000002 2020-01-09      2    2\n",
       "2020-01-03  1000002 2020-01-03      1    1\n",
       "2020-01-05  1000002 2020-01-05      2    2\n",
       "2020-01-04  1000002 2020-01-04      2    2\n",
       "2020-01-01  1000001 2020-01-01     10    7\n",
       "2020-01-02  1000002 2020-01-02      5    4"
      ]
     },
     "execution_count": 37,
     "metadata": {
      "tags": []
     },
     "output_type": "execute_result"
    }
   ],
   "source": [
    "data_window = data[['itemid', 'timestamp', 'action']].groupby(['itemid', 'timestamp']).agg(['count', 'sum']).reset_index()\n",
    "data_window.columns = ['itemid', 'timestamp', 'count', 'sum']\n",
    "data_window.index = data_window['timestamp']\n",
    "\n",
    "data_window"
   ]
  },
  {
   "cell_type": "markdown",
   "metadata": {
    "id": "xsGGUP_5o2fJ"
   },
   "source": [
    "We are interested how many positive interaction an item had on the previous day. Next, we want to groupby our dataframe by itemid. Then we apply the rolling function for two days (2D).\n",
    "\n",
    "Note: To use the rolling function with days, the dataframe index has to by a timestamp.\n",
    "\n",
    "We can see that every row contains the sum of the row value + the previous row value. For example, itemid=1000001 for data 2020-01-02 counts 15 observations and sums 12 positive interactions."
   ]
  },
  {
   "cell_type": "code",
   "execution_count": null,
   "metadata": {
    "id": "AwGNFUhJo2Gd"
   },
   "outputs": [
    {
     "data": {
      "text/html": [
       "<div>\n",
       "<style scoped>\n",
       "    .dataframe tbody tr th:only-of-type {\n",
       "        vertical-align: middle;\n",
       "    }\n",
       "\n",
       "    .dataframe tbody tr th {\n",
       "        vertical-align: top;\n",
       "    }\n",
       "\n",
       "    .dataframe thead th {\n",
       "        text-align: right;\n",
       "    }\n",
       "</style>\n",
       "<table border=\"1\" class=\"dataframe\">\n",
       "  <thead>\n",
       "    <tr style=\"text-align: right;\">\n",
       "      <th></th>\n",
       "      <th></th>\n",
       "      <th>count</th>\n",
       "      <th>sum</th>\n",
       "    </tr>\n",
       "    <tr>\n",
       "      <th>itemid</th>\n",
       "      <th>timestamp</th>\n",
       "      <th></th>\n",
       "      <th></th>\n",
       "    </tr>\n",
       "  </thead>\n",
       "  <tbody>\n",
       "    <tr>\n",
       "      <th rowspan=\"8\" valign=\"top\">1000001</th>\n",
       "      <th>2020-01-08</th>\n",
       "      <td>6</td>\n",
       "      <td>5</td>\n",
       "    </tr>\n",
       "    <tr>\n",
       "      <th>2020-01-02</th>\n",
       "      <td>11</td>\n",
       "      <td>9</td>\n",
       "    </tr>\n",
       "    <tr>\n",
       "      <th>2020-01-07</th>\n",
       "      <td>1</td>\n",
       "      <td>1</td>\n",
       "    </tr>\n",
       "    <tr>\n",
       "      <th>2020-01-03</th>\n",
       "      <td>13</td>\n",
       "      <td>11</td>\n",
       "    </tr>\n",
       "    <tr>\n",
       "      <th>2020-01-09</th>\n",
       "      <td>2</td>\n",
       "      <td>2</td>\n",
       "    </tr>\n",
       "    <tr>\n",
       "      <th>2020-01-04</th>\n",
       "      <td>17</td>\n",
       "      <td>15</td>\n",
       "    </tr>\n",
       "    <tr>\n",
       "      <th>2020-01-05</th>\n",
       "      <td>9</td>\n",
       "      <td>9</td>\n",
       "    </tr>\n",
       "    <tr>\n",
       "      <th>2020-01-01</th>\n",
       "      <td>30</td>\n",
       "      <td>25</td>\n",
       "    </tr>\n",
       "    <tr>\n",
       "      <th rowspan=\"8\" valign=\"top\">1000002</th>\n",
       "      <th>2020-01-01</th>\n",
       "      <td>5</td>\n",
       "      <td>4</td>\n",
       "    </tr>\n",
       "    <tr>\n",
       "      <th>2020-01-08</th>\n",
       "      <td>3</td>\n",
       "      <td>2</td>\n",
       "    </tr>\n",
       "    <tr>\n",
       "      <th>2020-01-07</th>\n",
       "      <td>4</td>\n",
       "      <td>3</td>\n",
       "    </tr>\n",
       "    <tr>\n",
       "      <th>2020-01-09</th>\n",
       "      <td>6</td>\n",
       "      <td>5</td>\n",
       "    </tr>\n",
       "    <tr>\n",
       "      <th>2020-01-03</th>\n",
       "      <td>12</td>\n",
       "      <td>10</td>\n",
       "    </tr>\n",
       "    <tr>\n",
       "      <th>2020-01-05</th>\n",
       "      <td>9</td>\n",
       "      <td>8</td>\n",
       "    </tr>\n",
       "    <tr>\n",
       "      <th>2020-01-04</th>\n",
       "      <td>11</td>\n",
       "      <td>10</td>\n",
       "    </tr>\n",
       "    <tr>\n",
       "      <th>2020-01-02</th>\n",
       "      <td>21</td>\n",
       "      <td>18</td>\n",
       "    </tr>\n",
       "  </tbody>\n",
       "</table>\n",
       "</div>"
      ],
      "text/plain": [
       "                    count  sum\n",
       "itemid  timestamp             \n",
       "1000001 2020-01-08      6    5\n",
       "        2020-01-02     11    9\n",
       "        2020-01-07      1    1\n",
       "        2020-01-03     13   11\n",
       "        2020-01-09      2    2\n",
       "        2020-01-04     17   15\n",
       "        2020-01-05      9    9\n",
       "        2020-01-01     30   25\n",
       "1000002 2020-01-01      5    4\n",
       "        2020-01-08      3    2\n",
       "        2020-01-07      4    3\n",
       "        2020-01-09      6    5\n",
       "        2020-01-03     12   10\n",
       "        2020-01-05      9    8\n",
       "        2020-01-04     11   10\n",
       "        2020-01-02     21   18"
      ]
     },
     "execution_count": 38,
     "metadata": {
      "tags": []
     },
     "output_type": "execute_result"
    }
   ],
   "source": [
    "offset = '3D'\n",
    "\n",
    "data_window_roll = data_window[['itemid', 'count', 'sum']].groupby(['itemid']).rolling(offset).sum().drop('itemid', axis=1)\n",
    "data_window_roll"
   ]
  },
  {
   "cell_type": "markdown",
   "metadata": {
    "id": "Vn9kzhDvpPa-"
   },
   "source": [
    "If we take a look on the calculations, we see that the .rolling() inclues the value from the current row, as well. This could be a kind of data leakage. Therefore, we shift the values by one row."
   ]
  },
  {
   "cell_type": "code",
   "execution_count": null,
   "metadata": {
    "id": "eXwEtz8ipO4L"
   },
   "outputs": [
    {
     "data": {
      "text/html": [
       "<div>\n",
       "<style scoped>\n",
       "    .dataframe tbody tr th:only-of-type {\n",
       "        vertical-align: middle;\n",
       "    }\n",
       "\n",
       "    .dataframe tbody tr th {\n",
       "        vertical-align: top;\n",
       "    }\n",
       "\n",
       "    .dataframe thead th {\n",
       "        text-align: right;\n",
       "    }\n",
       "</style>\n",
       "<table border=\"1\" class=\"dataframe\">\n",
       "  <thead>\n",
       "    <tr style=\"text-align: right;\">\n",
       "      <th></th>\n",
       "      <th>itemid</th>\n",
       "      <th>timestamp</th>\n",
       "      <th>count_3D</th>\n",
       "      <th>sum_3D</th>\n",
       "      <th>avg_3D</th>\n",
       "    </tr>\n",
       "  </thead>\n",
       "  <tbody>\n",
       "    <tr>\n",
       "      <th>0</th>\n",
       "      <td>1000001</td>\n",
       "      <td>2020-01-08</td>\n",
       "      <td>&lt;NA&gt;</td>\n",
       "      <td>&lt;NA&gt;</td>\n",
       "      <td>&lt;NA&gt;</td>\n",
       "    </tr>\n",
       "    <tr>\n",
       "      <th>1</th>\n",
       "      <td>1000001</td>\n",
       "      <td>2020-01-02</td>\n",
       "      <td>6</td>\n",
       "      <td>5</td>\n",
       "      <td>0.833333333</td>\n",
       "    </tr>\n",
       "    <tr>\n",
       "      <th>2</th>\n",
       "      <td>1000001</td>\n",
       "      <td>2020-01-07</td>\n",
       "      <td>11</td>\n",
       "      <td>9</td>\n",
       "      <td>0.818181818</td>\n",
       "    </tr>\n",
       "    <tr>\n",
       "      <th>3</th>\n",
       "      <td>1000001</td>\n",
       "      <td>2020-01-03</td>\n",
       "      <td>1</td>\n",
       "      <td>1</td>\n",
       "      <td>1.0</td>\n",
       "    </tr>\n",
       "    <tr>\n",
       "      <th>4</th>\n",
       "      <td>1000001</td>\n",
       "      <td>2020-01-09</td>\n",
       "      <td>13</td>\n",
       "      <td>11</td>\n",
       "      <td>0.846153846</td>\n",
       "    </tr>\n",
       "    <tr>\n",
       "      <th>5</th>\n",
       "      <td>1000001</td>\n",
       "      <td>2020-01-04</td>\n",
       "      <td>2</td>\n",
       "      <td>2</td>\n",
       "      <td>1.0</td>\n",
       "    </tr>\n",
       "    <tr>\n",
       "      <th>6</th>\n",
       "      <td>1000001</td>\n",
       "      <td>2020-01-05</td>\n",
       "      <td>17</td>\n",
       "      <td>15</td>\n",
       "      <td>0.882352941</td>\n",
       "    </tr>\n",
       "    <tr>\n",
       "      <th>7</th>\n",
       "      <td>1000001</td>\n",
       "      <td>2020-01-01</td>\n",
       "      <td>9</td>\n",
       "      <td>9</td>\n",
       "      <td>1.0</td>\n",
       "    </tr>\n",
       "    <tr>\n",
       "      <th>8</th>\n",
       "      <td>1000002</td>\n",
       "      <td>2020-01-01</td>\n",
       "      <td>0</td>\n",
       "      <td>0</td>\n",
       "      <td>NaN</td>\n",
       "    </tr>\n",
       "    <tr>\n",
       "      <th>9</th>\n",
       "      <td>1000002</td>\n",
       "      <td>2020-01-08</td>\n",
       "      <td>5</td>\n",
       "      <td>4</td>\n",
       "      <td>0.8</td>\n",
       "    </tr>\n",
       "    <tr>\n",
       "      <th>10</th>\n",
       "      <td>1000002</td>\n",
       "      <td>2020-01-07</td>\n",
       "      <td>3</td>\n",
       "      <td>2</td>\n",
       "      <td>0.666666667</td>\n",
       "    </tr>\n",
       "    <tr>\n",
       "      <th>11</th>\n",
       "      <td>1000002</td>\n",
       "      <td>2020-01-09</td>\n",
       "      <td>4</td>\n",
       "      <td>3</td>\n",
       "      <td>0.75</td>\n",
       "    </tr>\n",
       "    <tr>\n",
       "      <th>12</th>\n",
       "      <td>1000002</td>\n",
       "      <td>2020-01-03</td>\n",
       "      <td>6</td>\n",
       "      <td>5</td>\n",
       "      <td>0.833333333</td>\n",
       "    </tr>\n",
       "    <tr>\n",
       "      <th>13</th>\n",
       "      <td>1000002</td>\n",
       "      <td>2020-01-05</td>\n",
       "      <td>12</td>\n",
       "      <td>10</td>\n",
       "      <td>0.833333333</td>\n",
       "    </tr>\n",
       "    <tr>\n",
       "      <th>14</th>\n",
       "      <td>1000002</td>\n",
       "      <td>2020-01-04</td>\n",
       "      <td>9</td>\n",
       "      <td>8</td>\n",
       "      <td>0.888888889</td>\n",
       "    </tr>\n",
       "    <tr>\n",
       "      <th>15</th>\n",
       "      <td>1000002</td>\n",
       "      <td>2020-01-02</td>\n",
       "      <td>11</td>\n",
       "      <td>10</td>\n",
       "      <td>0.909090909</td>\n",
       "    </tr>\n",
       "  </tbody>\n",
       "</table>\n",
       "</div>"
      ],
      "text/plain": [
       "     itemid  timestamp count_3D sum_3D       avg_3D\n",
       "0   1000001 2020-01-08     <NA>   <NA>         <NA>\n",
       "1   1000001 2020-01-02        6      5  0.833333333\n",
       "2   1000001 2020-01-07       11      9  0.818181818\n",
       "3   1000001 2020-01-03        1      1          1.0\n",
       "4   1000001 2020-01-09       13     11  0.846153846\n",
       "5   1000001 2020-01-04        2      2          1.0\n",
       "6   1000001 2020-01-05       17     15  0.882352941\n",
       "7   1000001 2020-01-01        9      9          1.0\n",
       "8   1000002 2020-01-01        0      0          NaN\n",
       "9   1000002 2020-01-08        5      4          0.8\n",
       "10  1000002 2020-01-07        3      2  0.666666667\n",
       "11  1000002 2020-01-09        4      3         0.75\n",
       "12  1000002 2020-01-03        6      5  0.833333333\n",
       "13  1000002 2020-01-05       12     10  0.833333333\n",
       "14  1000002 2020-01-04        9      8  0.888888889\n",
       "15  1000002 2020-01-02       11     10  0.909090909"
      ]
     },
     "execution_count": 39,
     "metadata": {
      "tags": []
     },
     "output_type": "execute_result"
    }
   ],
   "source": [
    "data_window_roll = data_window_roll.reset_index()\n",
    "data_window_roll.columns = ['itemid', 'timestamp', 'count_' + offset, 'sum_' + offset]\n",
    "data_window_roll[['count_' + offset, 'sum_' + offset]] = data_window_roll[['count_' + offset, 'sum_' + offset]].shift(1)\n",
    "data_window_roll.loc[data_window_roll['itemid']!=data_window_roll['itemid'].shift(1), ['count_' + offset, 'sum_' + offset]] = 0\n",
    "data_window_roll['avg_' + offset] = data_window_roll['sum_' + offset]/data_window_roll['count_' + offset]\n",
    "data_window_roll"
   ]
  },
  {
   "cell_type": "markdown",
   "metadata": {
    "id": "FI_TTI-FpVMr"
   },
   "source": [
    "After we calculated the aggregated values and applied the window function, we want to merge it to our original dataframe."
   ]
  },
  {
   "cell_type": "code",
   "execution_count": null,
   "metadata": {
    "id": "dOcBt21xpS4Y"
   },
   "outputs": [
    {
     "data": {
      "text/html": [
       "<div>\n",
       "<style scoped>\n",
       "    .dataframe tbody tr th:only-of-type {\n",
       "        vertical-align: middle;\n",
       "    }\n",
       "\n",
       "    .dataframe tbody tr th {\n",
       "        vertical-align: top;\n",
       "    }\n",
       "\n",
       "    .dataframe thead th {\n",
       "        text-align: right;\n",
       "    }\n",
       "</style>\n",
       "<table border=\"1\" class=\"dataframe\">\n",
       "  <thead>\n",
       "    <tr style=\"text-align: right;\">\n",
       "      <th></th>\n",
       "      <th>itemid</th>\n",
       "      <th>userid</th>\n",
       "      <th>action</th>\n",
       "      <th>timestamp</th>\n",
       "      <th>count_3D</th>\n",
       "      <th>sum_3D</th>\n",
       "      <th>avg_3D</th>\n",
       "    </tr>\n",
       "  </thead>\n",
       "  <tbody>\n",
       "    <tr>\n",
       "      <th>0</th>\n",
       "      <td>1000001</td>\n",
       "      <td>6491</td>\n",
       "      <td>1</td>\n",
       "      <td>2020-01-01</td>\n",
       "      <td>9</td>\n",
       "      <td>9</td>\n",
       "      <td>1.0</td>\n",
       "    </tr>\n",
       "    <tr>\n",
       "      <th>1</th>\n",
       "      <td>1000001</td>\n",
       "      <td>5429</td>\n",
       "      <td>0</td>\n",
       "      <td>2020-01-01</td>\n",
       "      <td>9</td>\n",
       "      <td>9</td>\n",
       "      <td>1.0</td>\n",
       "    </tr>\n",
       "    <tr>\n",
       "      <th>2</th>\n",
       "      <td>1000001</td>\n",
       "      <td>7591</td>\n",
       "      <td>1</td>\n",
       "      <td>2020-01-01</td>\n",
       "      <td>9</td>\n",
       "      <td>9</td>\n",
       "      <td>1.0</td>\n",
       "    </tr>\n",
       "    <tr>\n",
       "      <th>3</th>\n",
       "      <td>1000001</td>\n",
       "      <td>9085</td>\n",
       "      <td>1</td>\n",
       "      <td>2020-01-01</td>\n",
       "      <td>9</td>\n",
       "      <td>9</td>\n",
       "      <td>1.0</td>\n",
       "    </tr>\n",
       "    <tr>\n",
       "      <th>4</th>\n",
       "      <td>1000001</td>\n",
       "      <td>8408</td>\n",
       "      <td>0</td>\n",
       "      <td>2020-01-01</td>\n",
       "      <td>9</td>\n",
       "      <td>9</td>\n",
       "      <td>1.0</td>\n",
       "    </tr>\n",
       "    <tr>\n",
       "      <th>5</th>\n",
       "      <td>1000001</td>\n",
       "      <td>1771</td>\n",
       "      <td>1</td>\n",
       "      <td>2020-01-01</td>\n",
       "      <td>9</td>\n",
       "      <td>9</td>\n",
       "      <td>1.0</td>\n",
       "    </tr>\n",
       "    <tr>\n",
       "      <th>6</th>\n",
       "      <td>1000001</td>\n",
       "      <td>2784</td>\n",
       "      <td>1</td>\n",
       "      <td>2020-01-01</td>\n",
       "      <td>9</td>\n",
       "      <td>9</td>\n",
       "      <td>1.0</td>\n",
       "    </tr>\n",
       "    <tr>\n",
       "      <th>7</th>\n",
       "      <td>1000001</td>\n",
       "      <td>3083</td>\n",
       "      <td>0</td>\n",
       "      <td>2020-01-01</td>\n",
       "      <td>9</td>\n",
       "      <td>9</td>\n",
       "      <td>1.0</td>\n",
       "    </tr>\n",
       "    <tr>\n",
       "      <th>8</th>\n",
       "      <td>1000001</td>\n",
       "      <td>3395</td>\n",
       "      <td>1</td>\n",
       "      <td>2020-01-01</td>\n",
       "      <td>9</td>\n",
       "      <td>9</td>\n",
       "      <td>1.0</td>\n",
       "    </tr>\n",
       "    <tr>\n",
       "      <th>9</th>\n",
       "      <td>1000001</td>\n",
       "      <td>6500</td>\n",
       "      <td>1</td>\n",
       "      <td>2020-01-01</td>\n",
       "      <td>9</td>\n",
       "      <td>9</td>\n",
       "      <td>1.0</td>\n",
       "    </tr>\n",
       "    <tr>\n",
       "      <th>10</th>\n",
       "      <td>1000002</td>\n",
       "      <td>8765</td>\n",
       "      <td>0</td>\n",
       "      <td>2020-01-01</td>\n",
       "      <td>0</td>\n",
       "      <td>0</td>\n",
       "      <td>NaN</td>\n",
       "    </tr>\n",
       "    <tr>\n",
       "      <th>11</th>\n",
       "      <td>1000002</td>\n",
       "      <td>3912</td>\n",
       "      <td>1</td>\n",
       "      <td>2020-01-01</td>\n",
       "      <td>0</td>\n",
       "      <td>0</td>\n",
       "      <td>NaN</td>\n",
       "    </tr>\n",
       "    <tr>\n",
       "      <th>12</th>\n",
       "      <td>1000002</td>\n",
       "      <td>653</td>\n",
       "      <td>1</td>\n",
       "      <td>2020-01-01</td>\n",
       "      <td>0</td>\n",
       "      <td>0</td>\n",
       "      <td>NaN</td>\n",
       "    </tr>\n",
       "    <tr>\n",
       "      <th>13</th>\n",
       "      <td>1000002</td>\n",
       "      <td>6661</td>\n",
       "      <td>1</td>\n",
       "      <td>2020-01-01</td>\n",
       "      <td>0</td>\n",
       "      <td>0</td>\n",
       "      <td>NaN</td>\n",
       "    </tr>\n",
       "    <tr>\n",
       "      <th>14</th>\n",
       "      <td>1000002</td>\n",
       "      <td>8473</td>\n",
       "      <td>1</td>\n",
       "      <td>2020-01-01</td>\n",
       "      <td>0</td>\n",
       "      <td>0</td>\n",
       "      <td>NaN</td>\n",
       "    </tr>\n",
       "    <tr>\n",
       "      <th>15</th>\n",
       "      <td>1000001</td>\n",
       "      <td>640</td>\n",
       "      <td>1</td>\n",
       "      <td>2020-01-02</td>\n",
       "      <td>6</td>\n",
       "      <td>5</td>\n",
       "      <td>0.833333333</td>\n",
       "    </tr>\n",
       "    <tr>\n",
       "      <th>16</th>\n",
       "      <td>1000001</td>\n",
       "      <td>8694</td>\n",
       "      <td>1</td>\n",
       "      <td>2020-01-02</td>\n",
       "      <td>6</td>\n",
       "      <td>5</td>\n",
       "      <td>0.833333333</td>\n",
       "    </tr>\n",
       "    <tr>\n",
       "      <th>17</th>\n",
       "      <td>1000001</td>\n",
       "      <td>6148</td>\n",
       "      <td>1</td>\n",
       "      <td>2020-01-02</td>\n",
       "      <td>6</td>\n",
       "      <td>5</td>\n",
       "      <td>0.833333333</td>\n",
       "    </tr>\n",
       "    <tr>\n",
       "      <th>18</th>\n",
       "      <td>1000001</td>\n",
       "      <td>3544</td>\n",
       "      <td>0</td>\n",
       "      <td>2020-01-02</td>\n",
       "      <td>6</td>\n",
       "      <td>5</td>\n",
       "      <td>0.833333333</td>\n",
       "    </tr>\n",
       "    <tr>\n",
       "      <th>19</th>\n",
       "      <td>1000001</td>\n",
       "      <td>8871</td>\n",
       "      <td>1</td>\n",
       "      <td>2020-01-02</td>\n",
       "      <td>6</td>\n",
       "      <td>5</td>\n",
       "      <td>0.833333333</td>\n",
       "    </tr>\n",
       "    <tr>\n",
       "      <th>20</th>\n",
       "      <td>1000002</td>\n",
       "      <td>7850</td>\n",
       "      <td>1</td>\n",
       "      <td>2020-01-02</td>\n",
       "      <td>11</td>\n",
       "      <td>10</td>\n",
       "      <td>0.909090909</td>\n",
       "    </tr>\n",
       "    <tr>\n",
       "      <th>21</th>\n",
       "      <td>1000002</td>\n",
       "      <td>9412</td>\n",
       "      <td>1</td>\n",
       "      <td>2020-01-02</td>\n",
       "      <td>11</td>\n",
       "      <td>10</td>\n",
       "      <td>0.909090909</td>\n",
       "    </tr>\n",
       "    <tr>\n",
       "      <th>22</th>\n",
       "      <td>1000002</td>\n",
       "      <td>7570</td>\n",
       "      <td>1</td>\n",
       "      <td>2020-01-02</td>\n",
       "      <td>11</td>\n",
       "      <td>10</td>\n",
       "      <td>0.909090909</td>\n",
       "    </tr>\n",
       "    <tr>\n",
       "      <th>23</th>\n",
       "      <td>1000002</td>\n",
       "      <td>1592</td>\n",
       "      <td>1</td>\n",
       "      <td>2020-01-02</td>\n",
       "      <td>11</td>\n",
       "      <td>10</td>\n",
       "      <td>0.909090909</td>\n",
       "    </tr>\n",
       "    <tr>\n",
       "      <th>24</th>\n",
       "      <td>1000002</td>\n",
       "      <td>5350</td>\n",
       "      <td>0</td>\n",
       "      <td>2020-01-02</td>\n",
       "      <td>11</td>\n",
       "      <td>10</td>\n",
       "      <td>0.909090909</td>\n",
       "    </tr>\n",
       "    <tr>\n",
       "      <th>25</th>\n",
       "      <td>1000001</td>\n",
       "      <td>9028</td>\n",
       "      <td>1</td>\n",
       "      <td>2020-01-03</td>\n",
       "      <td>1</td>\n",
       "      <td>1</td>\n",
       "      <td>1.0</td>\n",
       "    </tr>\n",
       "    <tr>\n",
       "      <th>26</th>\n",
       "      <td>1000002</td>\n",
       "      <td>8950</td>\n",
       "      <td>1</td>\n",
       "      <td>2020-01-03</td>\n",
       "      <td>6</td>\n",
       "      <td>5</td>\n",
       "      <td>0.833333333</td>\n",
       "    </tr>\n",
       "    <tr>\n",
       "      <th>27</th>\n",
       "      <td>1000001</td>\n",
       "      <td>9903</td>\n",
       "      <td>1</td>\n",
       "      <td>2020-01-04</td>\n",
       "      <td>2</td>\n",
       "      <td>2</td>\n",
       "      <td>1.0</td>\n",
       "    </tr>\n",
       "    <tr>\n",
       "      <th>28</th>\n",
       "      <td>1000001</td>\n",
       "      <td>9226</td>\n",
       "      <td>1</td>\n",
       "      <td>2020-01-04</td>\n",
       "      <td>2</td>\n",
       "      <td>2</td>\n",
       "      <td>1.0</td>\n",
       "    </tr>\n",
       "    <tr>\n",
       "      <th>29</th>\n",
       "      <td>1000002</td>\n",
       "      <td>8482</td>\n",
       "      <td>1</td>\n",
       "      <td>2020-01-04</td>\n",
       "      <td>9</td>\n",
       "      <td>8</td>\n",
       "      <td>0.888888889</td>\n",
       "    </tr>\n",
       "    <tr>\n",
       "      <th>30</th>\n",
       "      <td>1000002</td>\n",
       "      <td>9633</td>\n",
       "      <td>1</td>\n",
       "      <td>2020-01-04</td>\n",
       "      <td>9</td>\n",
       "      <td>8</td>\n",
       "      <td>0.888888889</td>\n",
       "    </tr>\n",
       "    <tr>\n",
       "      <th>31</th>\n",
       "      <td>1000001</td>\n",
       "      <td>474</td>\n",
       "      <td>1</td>\n",
       "      <td>2020-01-05</td>\n",
       "      <td>17</td>\n",
       "      <td>15</td>\n",
       "      <td>0.882352941</td>\n",
       "    </tr>\n",
       "    <tr>\n",
       "      <th>32</th>\n",
       "      <td>1000001</td>\n",
       "      <td>7779</td>\n",
       "      <td>1</td>\n",
       "      <td>2020-01-05</td>\n",
       "      <td>17</td>\n",
       "      <td>15</td>\n",
       "      <td>0.882352941</td>\n",
       "    </tr>\n",
       "    <tr>\n",
       "      <th>33</th>\n",
       "      <td>1000001</td>\n",
       "      <td>8992</td>\n",
       "      <td>1</td>\n",
       "      <td>2020-01-05</td>\n",
       "      <td>17</td>\n",
       "      <td>15</td>\n",
       "      <td>0.882352941</td>\n",
       "    </tr>\n",
       "    <tr>\n",
       "      <th>34</th>\n",
       "      <td>1000002</td>\n",
       "      <td>4096</td>\n",
       "      <td>1</td>\n",
       "      <td>2020-01-05</td>\n",
       "      <td>12</td>\n",
       "      <td>10</td>\n",
       "      <td>0.833333333</td>\n",
       "    </tr>\n",
       "    <tr>\n",
       "      <th>35</th>\n",
       "      <td>1000002</td>\n",
       "      <td>3889</td>\n",
       "      <td>1</td>\n",
       "      <td>2020-01-05</td>\n",
       "      <td>12</td>\n",
       "      <td>10</td>\n",
       "      <td>0.833333333</td>\n",
       "    </tr>\n",
       "    <tr>\n",
       "      <th>36</th>\n",
       "      <td>1000001</td>\n",
       "      <td>3554</td>\n",
       "      <td>1</td>\n",
       "      <td>2020-01-07</td>\n",
       "      <td>11</td>\n",
       "      <td>9</td>\n",
       "      <td>0.818181818</td>\n",
       "    </tr>\n",
       "    <tr>\n",
       "      <th>37</th>\n",
       "      <td>1000002</td>\n",
       "      <td>6203</td>\n",
       "      <td>1</td>\n",
       "      <td>2020-01-07</td>\n",
       "      <td>3</td>\n",
       "      <td>2</td>\n",
       "      <td>0.666666667</td>\n",
       "    </tr>\n",
       "    <tr>\n",
       "      <th>38</th>\n",
       "      <td>1000001</td>\n",
       "      <td>3704</td>\n",
       "      <td>1</td>\n",
       "      <td>2020-01-08</td>\n",
       "      <td>&lt;NA&gt;</td>\n",
       "      <td>&lt;NA&gt;</td>\n",
       "      <td>&lt;NA&gt;</td>\n",
       "    </tr>\n",
       "    <tr>\n",
       "      <th>39</th>\n",
       "      <td>1000001</td>\n",
       "      <td>6929</td>\n",
       "      <td>1</td>\n",
       "      <td>2020-01-08</td>\n",
       "      <td>&lt;NA&gt;</td>\n",
       "      <td>&lt;NA&gt;</td>\n",
       "      <td>&lt;NA&gt;</td>\n",
       "    </tr>\n",
       "    <tr>\n",
       "      <th>40</th>\n",
       "      <td>1000001</td>\n",
       "      <td>7574</td>\n",
       "      <td>1</td>\n",
       "      <td>2020-01-08</td>\n",
       "      <td>&lt;NA&gt;</td>\n",
       "      <td>&lt;NA&gt;</td>\n",
       "      <td>&lt;NA&gt;</td>\n",
       "    </tr>\n",
       "    <tr>\n",
       "      <th>41</th>\n",
       "      <td>1000001</td>\n",
       "      <td>4624</td>\n",
       "      <td>1</td>\n",
       "      <td>2020-01-08</td>\n",
       "      <td>&lt;NA&gt;</td>\n",
       "      <td>&lt;NA&gt;</td>\n",
       "      <td>&lt;NA&gt;</td>\n",
       "    </tr>\n",
       "    <tr>\n",
       "      <th>42</th>\n",
       "      <td>1000001</td>\n",
       "      <td>2106</td>\n",
       "      <td>0</td>\n",
       "      <td>2020-01-08</td>\n",
       "      <td>&lt;NA&gt;</td>\n",
       "      <td>&lt;NA&gt;</td>\n",
       "      <td>&lt;NA&gt;</td>\n",
       "    </tr>\n",
       "    <tr>\n",
       "      <th>43</th>\n",
       "      <td>1000001</td>\n",
       "      <td>8194</td>\n",
       "      <td>1</td>\n",
       "      <td>2020-01-08</td>\n",
       "      <td>&lt;NA&gt;</td>\n",
       "      <td>&lt;NA&gt;</td>\n",
       "      <td>&lt;NA&gt;</td>\n",
       "    </tr>\n",
       "    <tr>\n",
       "      <th>44</th>\n",
       "      <td>1000002</td>\n",
       "      <td>7604</td>\n",
       "      <td>1</td>\n",
       "      <td>2020-01-08</td>\n",
       "      <td>5</td>\n",
       "      <td>4</td>\n",
       "      <td>0.8</td>\n",
       "    </tr>\n",
       "    <tr>\n",
       "      <th>45</th>\n",
       "      <td>1000002</td>\n",
       "      <td>5752</td>\n",
       "      <td>1</td>\n",
       "      <td>2020-01-08</td>\n",
       "      <td>5</td>\n",
       "      <td>4</td>\n",
       "      <td>0.8</td>\n",
       "    </tr>\n",
       "    <tr>\n",
       "      <th>46</th>\n",
       "      <td>1000002</td>\n",
       "      <td>6588</td>\n",
       "      <td>0</td>\n",
       "      <td>2020-01-08</td>\n",
       "      <td>5</td>\n",
       "      <td>4</td>\n",
       "      <td>0.8</td>\n",
       "    </tr>\n",
       "    <tr>\n",
       "      <th>47</th>\n",
       "      <td>1000001</td>\n",
       "      <td>9245</td>\n",
       "      <td>1</td>\n",
       "      <td>2020-01-09</td>\n",
       "      <td>13</td>\n",
       "      <td>11</td>\n",
       "      <td>0.846153846</td>\n",
       "    </tr>\n",
       "    <tr>\n",
       "      <th>48</th>\n",
       "      <td>1000001</td>\n",
       "      <td>8382</td>\n",
       "      <td>1</td>\n",
       "      <td>2020-01-09</td>\n",
       "      <td>13</td>\n",
       "      <td>11</td>\n",
       "      <td>0.846153846</td>\n",
       "    </tr>\n",
       "    <tr>\n",
       "      <th>49</th>\n",
       "      <td>1000002</td>\n",
       "      <td>1966</td>\n",
       "      <td>1</td>\n",
       "      <td>2020-01-09</td>\n",
       "      <td>4</td>\n",
       "      <td>3</td>\n",
       "      <td>0.75</td>\n",
       "    </tr>\n",
       "    <tr>\n",
       "      <th>50</th>\n",
       "      <td>1000002</td>\n",
       "      <td>642</td>\n",
       "      <td>1</td>\n",
       "      <td>2020-01-09</td>\n",
       "      <td>4</td>\n",
       "      <td>3</td>\n",
       "      <td>0.75</td>\n",
       "    </tr>\n",
       "  </tbody>\n",
       "</table>\n",
       "</div>"
      ],
      "text/plain": [
       "     itemid  userid  action  timestamp count_3D sum_3D       avg_3D\n",
       "0   1000001    6491       1 2020-01-01        9      9          1.0\n",
       "1   1000001    5429       0 2020-01-01        9      9          1.0\n",
       "2   1000001    7591       1 2020-01-01        9      9          1.0\n",
       "3   1000001    9085       1 2020-01-01        9      9          1.0\n",
       "4   1000001    8408       0 2020-01-01        9      9          1.0\n",
       "5   1000001    1771       1 2020-01-01        9      9          1.0\n",
       "6   1000001    2784       1 2020-01-01        9      9          1.0\n",
       "7   1000001    3083       0 2020-01-01        9      9          1.0\n",
       "8   1000001    3395       1 2020-01-01        9      9          1.0\n",
       "9   1000001    6500       1 2020-01-01        9      9          1.0\n",
       "10  1000002    8765       0 2020-01-01        0      0          NaN\n",
       "11  1000002    3912       1 2020-01-01        0      0          NaN\n",
       "12  1000002     653       1 2020-01-01        0      0          NaN\n",
       "13  1000002    6661       1 2020-01-01        0      0          NaN\n",
       "14  1000002    8473       1 2020-01-01        0      0          NaN\n",
       "15  1000001     640       1 2020-01-02        6      5  0.833333333\n",
       "16  1000001    8694       1 2020-01-02        6      5  0.833333333\n",
       "17  1000001    6148       1 2020-01-02        6      5  0.833333333\n",
       "18  1000001    3544       0 2020-01-02        6      5  0.833333333\n",
       "19  1000001    8871       1 2020-01-02        6      5  0.833333333\n",
       "20  1000002    7850       1 2020-01-02       11     10  0.909090909\n",
       "21  1000002    9412       1 2020-01-02       11     10  0.909090909\n",
       "22  1000002    7570       1 2020-01-02       11     10  0.909090909\n",
       "23  1000002    1592       1 2020-01-02       11     10  0.909090909\n",
       "24  1000002    5350       0 2020-01-02       11     10  0.909090909\n",
       "25  1000001    9028       1 2020-01-03        1      1          1.0\n",
       "26  1000002    8950       1 2020-01-03        6      5  0.833333333\n",
       "27  1000001    9903       1 2020-01-04        2      2          1.0\n",
       "28  1000001    9226       1 2020-01-04        2      2          1.0\n",
       "29  1000002    8482       1 2020-01-04        9      8  0.888888889\n",
       "30  1000002    9633       1 2020-01-04        9      8  0.888888889\n",
       "31  1000001     474       1 2020-01-05       17     15  0.882352941\n",
       "32  1000001    7779       1 2020-01-05       17     15  0.882352941\n",
       "33  1000001    8992       1 2020-01-05       17     15  0.882352941\n",
       "34  1000002    4096       1 2020-01-05       12     10  0.833333333\n",
       "35  1000002    3889       1 2020-01-05       12     10  0.833333333\n",
       "36  1000001    3554       1 2020-01-07       11      9  0.818181818\n",
       "37  1000002    6203       1 2020-01-07        3      2  0.666666667\n",
       "38  1000001    3704       1 2020-01-08     <NA>   <NA>         <NA>\n",
       "39  1000001    6929       1 2020-01-08     <NA>   <NA>         <NA>\n",
       "40  1000001    7574       1 2020-01-08     <NA>   <NA>         <NA>\n",
       "41  1000001    4624       1 2020-01-08     <NA>   <NA>         <NA>\n",
       "42  1000001    2106       0 2020-01-08     <NA>   <NA>         <NA>\n",
       "43  1000001    8194       1 2020-01-08     <NA>   <NA>         <NA>\n",
       "44  1000002    7604       1 2020-01-08        5      4          0.8\n",
       "45  1000002    5752       1 2020-01-08        5      4          0.8\n",
       "46  1000002    6588       0 2020-01-08        5      4          0.8\n",
       "47  1000001    9245       1 2020-01-09       13     11  0.846153846\n",
       "48  1000001    8382       1 2020-01-09       13     11  0.846153846\n",
       "49  1000002    1966       1 2020-01-09        4      3         0.75\n",
       "50  1000002     642       1 2020-01-09        4      3         0.75"
      ]
     },
     "execution_count": 40,
     "metadata": {
      "tags": []
     },
     "output_type": "execute_result"
    }
   ],
   "source": [
    "data = data.merge(data_window_roll, how='left', on=['itemid', 'timestamp'])\n",
    "data"
   ]
  },
  {
   "cell_type": "code",
   "execution_count": null,
   "metadata": {
    "id": "YglWt4khpXxJ"
   },
   "outputs": [
    {
     "data": {
      "text/html": [
       "<div>\n",
       "<style scoped>\n",
       "    .dataframe tbody tr th:only-of-type {\n",
       "        vertical-align: middle;\n",
       "    }\n",
       "\n",
       "    .dataframe tbody tr th {\n",
       "        vertical-align: top;\n",
       "    }\n",
       "\n",
       "    .dataframe thead th {\n",
       "        text-align: right;\n",
       "    }\n",
       "</style>\n",
       "<table border=\"1\" class=\"dataframe\">\n",
       "  <thead>\n",
       "    <tr style=\"text-align: right;\">\n",
       "      <th></th>\n",
       "      <th>itemid</th>\n",
       "      <th>userid</th>\n",
       "      <th>action</th>\n",
       "      <th>timestamp</th>\n",
       "      <th>count_3D</th>\n",
       "      <th>sum_3D</th>\n",
       "      <th>avg_3D</th>\n",
       "      <th>count_7D</th>\n",
       "      <th>sum_7D</th>\n",
       "      <th>avg_7D</th>\n",
       "    </tr>\n",
       "  </thead>\n",
       "  <tbody>\n",
       "    <tr>\n",
       "      <th>0</th>\n",
       "      <td>1000001</td>\n",
       "      <td>6491</td>\n",
       "      <td>1</td>\n",
       "      <td>2020-01-01</td>\n",
       "      <td>9</td>\n",
       "      <td>9</td>\n",
       "      <td>1.0</td>\n",
       "      <td>20</td>\n",
       "      <td>18</td>\n",
       "      <td>0.9</td>\n",
       "    </tr>\n",
       "    <tr>\n",
       "      <th>1</th>\n",
       "      <td>1000001</td>\n",
       "      <td>5429</td>\n",
       "      <td>0</td>\n",
       "      <td>2020-01-01</td>\n",
       "      <td>9</td>\n",
       "      <td>9</td>\n",
       "      <td>1.0</td>\n",
       "      <td>20</td>\n",
       "      <td>18</td>\n",
       "      <td>0.9</td>\n",
       "    </tr>\n",
       "    <tr>\n",
       "      <th>2</th>\n",
       "      <td>1000001</td>\n",
       "      <td>7591</td>\n",
       "      <td>1</td>\n",
       "      <td>2020-01-01</td>\n",
       "      <td>9</td>\n",
       "      <td>9</td>\n",
       "      <td>1.0</td>\n",
       "      <td>20</td>\n",
       "      <td>18</td>\n",
       "      <td>0.9</td>\n",
       "    </tr>\n",
       "    <tr>\n",
       "      <th>3</th>\n",
       "      <td>1000001</td>\n",
       "      <td>9085</td>\n",
       "      <td>1</td>\n",
       "      <td>2020-01-01</td>\n",
       "      <td>9</td>\n",
       "      <td>9</td>\n",
       "      <td>1.0</td>\n",
       "      <td>20</td>\n",
       "      <td>18</td>\n",
       "      <td>0.9</td>\n",
       "    </tr>\n",
       "    <tr>\n",
       "      <th>4</th>\n",
       "      <td>1000001</td>\n",
       "      <td>8408</td>\n",
       "      <td>0</td>\n",
       "      <td>2020-01-01</td>\n",
       "      <td>9</td>\n",
       "      <td>9</td>\n",
       "      <td>1.0</td>\n",
       "      <td>20</td>\n",
       "      <td>18</td>\n",
       "      <td>0.9</td>\n",
       "    </tr>\n",
       "    <tr>\n",
       "      <th>5</th>\n",
       "      <td>1000001</td>\n",
       "      <td>1771</td>\n",
       "      <td>1</td>\n",
       "      <td>2020-01-01</td>\n",
       "      <td>9</td>\n",
       "      <td>9</td>\n",
       "      <td>1.0</td>\n",
       "      <td>20</td>\n",
       "      <td>18</td>\n",
       "      <td>0.9</td>\n",
       "    </tr>\n",
       "    <tr>\n",
       "      <th>6</th>\n",
       "      <td>1000001</td>\n",
       "      <td>2784</td>\n",
       "      <td>1</td>\n",
       "      <td>2020-01-01</td>\n",
       "      <td>9</td>\n",
       "      <td>9</td>\n",
       "      <td>1.0</td>\n",
       "      <td>20</td>\n",
       "      <td>18</td>\n",
       "      <td>0.9</td>\n",
       "    </tr>\n",
       "    <tr>\n",
       "      <th>7</th>\n",
       "      <td>1000001</td>\n",
       "      <td>3083</td>\n",
       "      <td>0</td>\n",
       "      <td>2020-01-01</td>\n",
       "      <td>9</td>\n",
       "      <td>9</td>\n",
       "      <td>1.0</td>\n",
       "      <td>20</td>\n",
       "      <td>18</td>\n",
       "      <td>0.9</td>\n",
       "    </tr>\n",
       "    <tr>\n",
       "      <th>8</th>\n",
       "      <td>1000001</td>\n",
       "      <td>3395</td>\n",
       "      <td>1</td>\n",
       "      <td>2020-01-01</td>\n",
       "      <td>9</td>\n",
       "      <td>9</td>\n",
       "      <td>1.0</td>\n",
       "      <td>20</td>\n",
       "      <td>18</td>\n",
       "      <td>0.9</td>\n",
       "    </tr>\n",
       "    <tr>\n",
       "      <th>9</th>\n",
       "      <td>1000001</td>\n",
       "      <td>6500</td>\n",
       "      <td>1</td>\n",
       "      <td>2020-01-01</td>\n",
       "      <td>9</td>\n",
       "      <td>9</td>\n",
       "      <td>1.0</td>\n",
       "      <td>20</td>\n",
       "      <td>18</td>\n",
       "      <td>0.9</td>\n",
       "    </tr>\n",
       "    <tr>\n",
       "      <th>10</th>\n",
       "      <td>1000002</td>\n",
       "      <td>8765</td>\n",
       "      <td>0</td>\n",
       "      <td>2020-01-01</td>\n",
       "      <td>0</td>\n",
       "      <td>0</td>\n",
       "      <td>NaN</td>\n",
       "      <td>0</td>\n",
       "      <td>0</td>\n",
       "      <td>NaN</td>\n",
       "    </tr>\n",
       "    <tr>\n",
       "      <th>11</th>\n",
       "      <td>1000002</td>\n",
       "      <td>3912</td>\n",
       "      <td>1</td>\n",
       "      <td>2020-01-01</td>\n",
       "      <td>0</td>\n",
       "      <td>0</td>\n",
       "      <td>NaN</td>\n",
       "      <td>0</td>\n",
       "      <td>0</td>\n",
       "      <td>NaN</td>\n",
       "    </tr>\n",
       "    <tr>\n",
       "      <th>12</th>\n",
       "      <td>1000002</td>\n",
       "      <td>653</td>\n",
       "      <td>1</td>\n",
       "      <td>2020-01-01</td>\n",
       "      <td>0</td>\n",
       "      <td>0</td>\n",
       "      <td>NaN</td>\n",
       "      <td>0</td>\n",
       "      <td>0</td>\n",
       "      <td>NaN</td>\n",
       "    </tr>\n",
       "    <tr>\n",
       "      <th>13</th>\n",
       "      <td>1000002</td>\n",
       "      <td>6661</td>\n",
       "      <td>1</td>\n",
       "      <td>2020-01-01</td>\n",
       "      <td>0</td>\n",
       "      <td>0</td>\n",
       "      <td>NaN</td>\n",
       "      <td>0</td>\n",
       "      <td>0</td>\n",
       "      <td>NaN</td>\n",
       "    </tr>\n",
       "    <tr>\n",
       "      <th>14</th>\n",
       "      <td>1000002</td>\n",
       "      <td>8473</td>\n",
       "      <td>1</td>\n",
       "      <td>2020-01-01</td>\n",
       "      <td>0</td>\n",
       "      <td>0</td>\n",
       "      <td>NaN</td>\n",
       "      <td>0</td>\n",
       "      <td>0</td>\n",
       "      <td>NaN</td>\n",
       "    </tr>\n",
       "    <tr>\n",
       "      <th>15</th>\n",
       "      <td>1000001</td>\n",
       "      <td>640</td>\n",
       "      <td>1</td>\n",
       "      <td>2020-01-02</td>\n",
       "      <td>6</td>\n",
       "      <td>5</td>\n",
       "      <td>0.833333333</td>\n",
       "      <td>6</td>\n",
       "      <td>5</td>\n",
       "      <td>0.833333333</td>\n",
       "    </tr>\n",
       "    <tr>\n",
       "      <th>16</th>\n",
       "      <td>1000001</td>\n",
       "      <td>8694</td>\n",
       "      <td>1</td>\n",
       "      <td>2020-01-02</td>\n",
       "      <td>6</td>\n",
       "      <td>5</td>\n",
       "      <td>0.833333333</td>\n",
       "      <td>6</td>\n",
       "      <td>5</td>\n",
       "      <td>0.833333333</td>\n",
       "    </tr>\n",
       "    <tr>\n",
       "      <th>17</th>\n",
       "      <td>1000001</td>\n",
       "      <td>6148</td>\n",
       "      <td>1</td>\n",
       "      <td>2020-01-02</td>\n",
       "      <td>6</td>\n",
       "      <td>5</td>\n",
       "      <td>0.833333333</td>\n",
       "      <td>6</td>\n",
       "      <td>5</td>\n",
       "      <td>0.833333333</td>\n",
       "    </tr>\n",
       "    <tr>\n",
       "      <th>18</th>\n",
       "      <td>1000001</td>\n",
       "      <td>3544</td>\n",
       "      <td>0</td>\n",
       "      <td>2020-01-02</td>\n",
       "      <td>6</td>\n",
       "      <td>5</td>\n",
       "      <td>0.833333333</td>\n",
       "      <td>6</td>\n",
       "      <td>5</td>\n",
       "      <td>0.833333333</td>\n",
       "    </tr>\n",
       "    <tr>\n",
       "      <th>19</th>\n",
       "      <td>1000001</td>\n",
       "      <td>8871</td>\n",
       "      <td>1</td>\n",
       "      <td>2020-01-02</td>\n",
       "      <td>6</td>\n",
       "      <td>5</td>\n",
       "      <td>0.833333333</td>\n",
       "      <td>6</td>\n",
       "      <td>5</td>\n",
       "      <td>0.833333333</td>\n",
       "    </tr>\n",
       "    <tr>\n",
       "      <th>20</th>\n",
       "      <td>1000002</td>\n",
       "      <td>7850</td>\n",
       "      <td>1</td>\n",
       "      <td>2020-01-02</td>\n",
       "      <td>11</td>\n",
       "      <td>10</td>\n",
       "      <td>0.909090909</td>\n",
       "      <td>16</td>\n",
       "      <td>14</td>\n",
       "      <td>0.875</td>\n",
       "    </tr>\n",
       "    <tr>\n",
       "      <th>21</th>\n",
       "      <td>1000002</td>\n",
       "      <td>9412</td>\n",
       "      <td>1</td>\n",
       "      <td>2020-01-02</td>\n",
       "      <td>11</td>\n",
       "      <td>10</td>\n",
       "      <td>0.909090909</td>\n",
       "      <td>16</td>\n",
       "      <td>14</td>\n",
       "      <td>0.875</td>\n",
       "    </tr>\n",
       "    <tr>\n",
       "      <th>22</th>\n",
       "      <td>1000002</td>\n",
       "      <td>7570</td>\n",
       "      <td>1</td>\n",
       "      <td>2020-01-02</td>\n",
       "      <td>11</td>\n",
       "      <td>10</td>\n",
       "      <td>0.909090909</td>\n",
       "      <td>16</td>\n",
       "      <td>14</td>\n",
       "      <td>0.875</td>\n",
       "    </tr>\n",
       "    <tr>\n",
       "      <th>23</th>\n",
       "      <td>1000002</td>\n",
       "      <td>1592</td>\n",
       "      <td>1</td>\n",
       "      <td>2020-01-02</td>\n",
       "      <td>11</td>\n",
       "      <td>10</td>\n",
       "      <td>0.909090909</td>\n",
       "      <td>16</td>\n",
       "      <td>14</td>\n",
       "      <td>0.875</td>\n",
       "    </tr>\n",
       "    <tr>\n",
       "      <th>24</th>\n",
       "      <td>1000002</td>\n",
       "      <td>5350</td>\n",
       "      <td>0</td>\n",
       "      <td>2020-01-02</td>\n",
       "      <td>11</td>\n",
       "      <td>10</td>\n",
       "      <td>0.909090909</td>\n",
       "      <td>16</td>\n",
       "      <td>14</td>\n",
       "      <td>0.875</td>\n",
       "    </tr>\n",
       "    <tr>\n",
       "      <th>25</th>\n",
       "      <td>1000001</td>\n",
       "      <td>9028</td>\n",
       "      <td>1</td>\n",
       "      <td>2020-01-03</td>\n",
       "      <td>1</td>\n",
       "      <td>1</td>\n",
       "      <td>1.0</td>\n",
       "      <td>12</td>\n",
       "      <td>10</td>\n",
       "      <td>0.833333333</td>\n",
       "    </tr>\n",
       "    <tr>\n",
       "      <th>26</th>\n",
       "      <td>1000002</td>\n",
       "      <td>8950</td>\n",
       "      <td>1</td>\n",
       "      <td>2020-01-03</td>\n",
       "      <td>6</td>\n",
       "      <td>5</td>\n",
       "      <td>0.833333333</td>\n",
       "      <td>6</td>\n",
       "      <td>5</td>\n",
       "      <td>0.833333333</td>\n",
       "    </tr>\n",
       "    <tr>\n",
       "      <th>27</th>\n",
       "      <td>1000001</td>\n",
       "      <td>9903</td>\n",
       "      <td>1</td>\n",
       "      <td>2020-01-04</td>\n",
       "      <td>2</td>\n",
       "      <td>2</td>\n",
       "      <td>1.0</td>\n",
       "      <td>4</td>\n",
       "      <td>4</td>\n",
       "      <td>1.0</td>\n",
       "    </tr>\n",
       "    <tr>\n",
       "      <th>28</th>\n",
       "      <td>1000001</td>\n",
       "      <td>9226</td>\n",
       "      <td>1</td>\n",
       "      <td>2020-01-04</td>\n",
       "      <td>2</td>\n",
       "      <td>2</td>\n",
       "      <td>1.0</td>\n",
       "      <td>4</td>\n",
       "      <td>4</td>\n",
       "      <td>1.0</td>\n",
       "    </tr>\n",
       "    <tr>\n",
       "      <th>29</th>\n",
       "      <td>1000002</td>\n",
       "      <td>8482</td>\n",
       "      <td>1</td>\n",
       "      <td>2020-01-04</td>\n",
       "      <td>9</td>\n",
       "      <td>8</td>\n",
       "      <td>0.888888889</td>\n",
       "      <td>14</td>\n",
       "      <td>12</td>\n",
       "      <td>0.857142857</td>\n",
       "    </tr>\n",
       "    <tr>\n",
       "      <th>30</th>\n",
       "      <td>1000002</td>\n",
       "      <td>9633</td>\n",
       "      <td>1</td>\n",
       "      <td>2020-01-04</td>\n",
       "      <td>9</td>\n",
       "      <td>8</td>\n",
       "      <td>0.888888889</td>\n",
       "      <td>14</td>\n",
       "      <td>12</td>\n",
       "      <td>0.857142857</td>\n",
       "    </tr>\n",
       "    <tr>\n",
       "      <th>31</th>\n",
       "      <td>1000001</td>\n",
       "      <td>474</td>\n",
       "      <td>1</td>\n",
       "      <td>2020-01-05</td>\n",
       "      <td>17</td>\n",
       "      <td>15</td>\n",
       "      <td>0.882352941</td>\n",
       "      <td>17</td>\n",
       "      <td>15</td>\n",
       "      <td>0.882352941</td>\n",
       "    </tr>\n",
       "    <tr>\n",
       "      <th>32</th>\n",
       "      <td>1000001</td>\n",
       "      <td>7779</td>\n",
       "      <td>1</td>\n",
       "      <td>2020-01-05</td>\n",
       "      <td>17</td>\n",
       "      <td>15</td>\n",
       "      <td>0.882352941</td>\n",
       "      <td>17</td>\n",
       "      <td>15</td>\n",
       "      <td>0.882352941</td>\n",
       "    </tr>\n",
       "    <tr>\n",
       "      <th>33</th>\n",
       "      <td>1000001</td>\n",
       "      <td>8992</td>\n",
       "      <td>1</td>\n",
       "      <td>2020-01-05</td>\n",
       "      <td>17</td>\n",
       "      <td>15</td>\n",
       "      <td>0.882352941</td>\n",
       "      <td>17</td>\n",
       "      <td>15</td>\n",
       "      <td>0.882352941</td>\n",
       "    </tr>\n",
       "    <tr>\n",
       "      <th>34</th>\n",
       "      <td>1000002</td>\n",
       "      <td>4096</td>\n",
       "      <td>1</td>\n",
       "      <td>2020-01-05</td>\n",
       "      <td>12</td>\n",
       "      <td>10</td>\n",
       "      <td>0.833333333</td>\n",
       "      <td>12</td>\n",
       "      <td>10</td>\n",
       "      <td>0.833333333</td>\n",
       "    </tr>\n",
       "    <tr>\n",
       "      <th>35</th>\n",
       "      <td>1000002</td>\n",
       "      <td>3889</td>\n",
       "      <td>1</td>\n",
       "      <td>2020-01-05</td>\n",
       "      <td>12</td>\n",
       "      <td>10</td>\n",
       "      <td>0.833333333</td>\n",
       "      <td>12</td>\n",
       "      <td>10</td>\n",
       "      <td>0.833333333</td>\n",
       "    </tr>\n",
       "    <tr>\n",
       "      <th>36</th>\n",
       "      <td>1000001</td>\n",
       "      <td>3554</td>\n",
       "      <td>1</td>\n",
       "      <td>2020-01-07</td>\n",
       "      <td>11</td>\n",
       "      <td>9</td>\n",
       "      <td>0.818181818</td>\n",
       "      <td>11</td>\n",
       "      <td>9</td>\n",
       "      <td>0.818181818</td>\n",
       "    </tr>\n",
       "    <tr>\n",
       "      <th>37</th>\n",
       "      <td>1000002</td>\n",
       "      <td>6203</td>\n",
       "      <td>1</td>\n",
       "      <td>2020-01-07</td>\n",
       "      <td>3</td>\n",
       "      <td>2</td>\n",
       "      <td>0.666666667</td>\n",
       "      <td>3</td>\n",
       "      <td>2</td>\n",
       "      <td>0.666666667</td>\n",
       "    </tr>\n",
       "    <tr>\n",
       "      <th>38</th>\n",
       "      <td>1000001</td>\n",
       "      <td>3704</td>\n",
       "      <td>1</td>\n",
       "      <td>2020-01-08</td>\n",
       "      <td>&lt;NA&gt;</td>\n",
       "      <td>&lt;NA&gt;</td>\n",
       "      <td>&lt;NA&gt;</td>\n",
       "      <td>&lt;NA&gt;</td>\n",
       "      <td>&lt;NA&gt;</td>\n",
       "      <td>&lt;NA&gt;</td>\n",
       "    </tr>\n",
       "    <tr>\n",
       "      <th>39</th>\n",
       "      <td>1000001</td>\n",
       "      <td>6929</td>\n",
       "      <td>1</td>\n",
       "      <td>2020-01-08</td>\n",
       "      <td>&lt;NA&gt;</td>\n",
       "      <td>&lt;NA&gt;</td>\n",
       "      <td>&lt;NA&gt;</td>\n",
       "      <td>&lt;NA&gt;</td>\n",
       "      <td>&lt;NA&gt;</td>\n",
       "      <td>&lt;NA&gt;</td>\n",
       "    </tr>\n",
       "    <tr>\n",
       "      <th>40</th>\n",
       "      <td>1000001</td>\n",
       "      <td>7574</td>\n",
       "      <td>1</td>\n",
       "      <td>2020-01-08</td>\n",
       "      <td>&lt;NA&gt;</td>\n",
       "      <td>&lt;NA&gt;</td>\n",
       "      <td>&lt;NA&gt;</td>\n",
       "      <td>&lt;NA&gt;</td>\n",
       "      <td>&lt;NA&gt;</td>\n",
       "      <td>&lt;NA&gt;</td>\n",
       "    </tr>\n",
       "    <tr>\n",
       "      <th>41</th>\n",
       "      <td>1000001</td>\n",
       "      <td>4624</td>\n",
       "      <td>1</td>\n",
       "      <td>2020-01-08</td>\n",
       "      <td>&lt;NA&gt;</td>\n",
       "      <td>&lt;NA&gt;</td>\n",
       "      <td>&lt;NA&gt;</td>\n",
       "      <td>&lt;NA&gt;</td>\n",
       "      <td>&lt;NA&gt;</td>\n",
       "      <td>&lt;NA&gt;</td>\n",
       "    </tr>\n",
       "    <tr>\n",
       "      <th>42</th>\n",
       "      <td>1000001</td>\n",
       "      <td>2106</td>\n",
       "      <td>0</td>\n",
       "      <td>2020-01-08</td>\n",
       "      <td>&lt;NA&gt;</td>\n",
       "      <td>&lt;NA&gt;</td>\n",
       "      <td>&lt;NA&gt;</td>\n",
       "      <td>&lt;NA&gt;</td>\n",
       "      <td>&lt;NA&gt;</td>\n",
       "      <td>&lt;NA&gt;</td>\n",
       "    </tr>\n",
       "    <tr>\n",
       "      <th>43</th>\n",
       "      <td>1000001</td>\n",
       "      <td>8194</td>\n",
       "      <td>1</td>\n",
       "      <td>2020-01-08</td>\n",
       "      <td>&lt;NA&gt;</td>\n",
       "      <td>&lt;NA&gt;</td>\n",
       "      <td>&lt;NA&gt;</td>\n",
       "      <td>&lt;NA&gt;</td>\n",
       "      <td>&lt;NA&gt;</td>\n",
       "      <td>&lt;NA&gt;</td>\n",
       "    </tr>\n",
       "    <tr>\n",
       "      <th>44</th>\n",
       "      <td>1000002</td>\n",
       "      <td>7604</td>\n",
       "      <td>1</td>\n",
       "      <td>2020-01-08</td>\n",
       "      <td>5</td>\n",
       "      <td>4</td>\n",
       "      <td>0.8</td>\n",
       "      <td>5</td>\n",
       "      <td>4</td>\n",
       "      <td>0.8</td>\n",
       "    </tr>\n",
       "    <tr>\n",
       "      <th>45</th>\n",
       "      <td>1000002</td>\n",
       "      <td>5752</td>\n",
       "      <td>1</td>\n",
       "      <td>2020-01-08</td>\n",
       "      <td>5</td>\n",
       "      <td>4</td>\n",
       "      <td>0.8</td>\n",
       "      <td>5</td>\n",
       "      <td>4</td>\n",
       "      <td>0.8</td>\n",
       "    </tr>\n",
       "    <tr>\n",
       "      <th>46</th>\n",
       "      <td>1000002</td>\n",
       "      <td>6588</td>\n",
       "      <td>0</td>\n",
       "      <td>2020-01-08</td>\n",
       "      <td>5</td>\n",
       "      <td>4</td>\n",
       "      <td>0.8</td>\n",
       "      <td>5</td>\n",
       "      <td>4</td>\n",
       "      <td>0.8</td>\n",
       "    </tr>\n",
       "    <tr>\n",
       "      <th>47</th>\n",
       "      <td>1000001</td>\n",
       "      <td>9245</td>\n",
       "      <td>1</td>\n",
       "      <td>2020-01-09</td>\n",
       "      <td>13</td>\n",
       "      <td>11</td>\n",
       "      <td>0.846153846</td>\n",
       "      <td>13</td>\n",
       "      <td>11</td>\n",
       "      <td>0.846153846</td>\n",
       "    </tr>\n",
       "    <tr>\n",
       "      <th>48</th>\n",
       "      <td>1000001</td>\n",
       "      <td>8382</td>\n",
       "      <td>1</td>\n",
       "      <td>2020-01-09</td>\n",
       "      <td>13</td>\n",
       "      <td>11</td>\n",
       "      <td>0.846153846</td>\n",
       "      <td>13</td>\n",
       "      <td>11</td>\n",
       "      <td>0.846153846</td>\n",
       "    </tr>\n",
       "    <tr>\n",
       "      <th>49</th>\n",
       "      <td>1000002</td>\n",
       "      <td>1966</td>\n",
       "      <td>1</td>\n",
       "      <td>2020-01-09</td>\n",
       "      <td>4</td>\n",
       "      <td>3</td>\n",
       "      <td>0.75</td>\n",
       "      <td>9</td>\n",
       "      <td>7</td>\n",
       "      <td>0.777777778</td>\n",
       "    </tr>\n",
       "    <tr>\n",
       "      <th>50</th>\n",
       "      <td>1000002</td>\n",
       "      <td>642</td>\n",
       "      <td>1</td>\n",
       "      <td>2020-01-09</td>\n",
       "      <td>4</td>\n",
       "      <td>3</td>\n",
       "      <td>0.75</td>\n",
       "      <td>9</td>\n",
       "      <td>7</td>\n",
       "      <td>0.777777778</td>\n",
       "    </tr>\n",
       "  </tbody>\n",
       "</table>\n",
       "</div>"
      ],
      "text/plain": [
       "     itemid  userid  action  ... count_7D sum_7D       avg_7D\n",
       "0   1000001    6491       1  ...       20     18          0.9\n",
       "1   1000001    5429       0  ...       20     18          0.9\n",
       "2   1000001    7591       1  ...       20     18          0.9\n",
       "3   1000001    9085       1  ...       20     18          0.9\n",
       "4   1000001    8408       0  ...       20     18          0.9\n",
       "5   1000001    1771       1  ...       20     18          0.9\n",
       "6   1000001    2784       1  ...       20     18          0.9\n",
       "7   1000001    3083       0  ...       20     18          0.9\n",
       "8   1000001    3395       1  ...       20     18          0.9\n",
       "9   1000001    6500       1  ...       20     18          0.9\n",
       "10  1000002    8765       0  ...        0      0          NaN\n",
       "11  1000002    3912       1  ...        0      0          NaN\n",
       "12  1000002     653       1  ...        0      0          NaN\n",
       "13  1000002    6661       1  ...        0      0          NaN\n",
       "14  1000002    8473       1  ...        0      0          NaN\n",
       "15  1000001     640       1  ...        6      5  0.833333333\n",
       "16  1000001    8694       1  ...        6      5  0.833333333\n",
       "17  1000001    6148       1  ...        6      5  0.833333333\n",
       "18  1000001    3544       0  ...        6      5  0.833333333\n",
       "19  1000001    8871       1  ...        6      5  0.833333333\n",
       "20  1000002    7850       1  ...       16     14        0.875\n",
       "21  1000002    9412       1  ...       16     14        0.875\n",
       "22  1000002    7570       1  ...       16     14        0.875\n",
       "23  1000002    1592       1  ...       16     14        0.875\n",
       "24  1000002    5350       0  ...       16     14        0.875\n",
       "25  1000001    9028       1  ...       12     10  0.833333333\n",
       "26  1000002    8950       1  ...        6      5  0.833333333\n",
       "27  1000001    9903       1  ...        4      4          1.0\n",
       "28  1000001    9226       1  ...        4      4          1.0\n",
       "29  1000002    8482       1  ...       14     12  0.857142857\n",
       "30  1000002    9633       1  ...       14     12  0.857142857\n",
       "31  1000001     474       1  ...       17     15  0.882352941\n",
       "32  1000001    7779       1  ...       17     15  0.882352941\n",
       "33  1000001    8992       1  ...       17     15  0.882352941\n",
       "34  1000002    4096       1  ...       12     10  0.833333333\n",
       "35  1000002    3889       1  ...       12     10  0.833333333\n",
       "36  1000001    3554       1  ...       11      9  0.818181818\n",
       "37  1000002    6203       1  ...        3      2  0.666666667\n",
       "38  1000001    3704       1  ...     <NA>   <NA>         <NA>\n",
       "39  1000001    6929       1  ...     <NA>   <NA>         <NA>\n",
       "40  1000001    7574       1  ...     <NA>   <NA>         <NA>\n",
       "41  1000001    4624       1  ...     <NA>   <NA>         <NA>\n",
       "42  1000001    2106       0  ...     <NA>   <NA>         <NA>\n",
       "43  1000001    8194       1  ...     <NA>   <NA>         <NA>\n",
       "44  1000002    7604       1  ...        5      4          0.8\n",
       "45  1000002    5752       1  ...        5      4          0.8\n",
       "46  1000002    6588       0  ...        5      4          0.8\n",
       "47  1000001    9245       1  ...       13     11  0.846153846\n",
       "48  1000001    8382       1  ...       13     11  0.846153846\n",
       "49  1000002    1966       1  ...        9      7  0.777777778\n",
       "50  1000002     642       1  ...        9      7  0.777777778\n",
       "\n",
       "[51 rows x 10 columns]"
      ]
     },
     "execution_count": 41,
     "metadata": {
      "tags": []
     },
     "output_type": "execute_result"
    }
   ],
   "source": [
    "offset = '7D'\n",
    "\n",
    "data_window_roll = data_window[['itemid', 'count', 'sum']].groupby(['itemid']).rolling(offset).sum().drop('itemid', axis=1)\n",
    "data_window_roll = data_window_roll.reset_index()\n",
    "data_window_roll.columns = ['itemid', 'timestamp', 'count_' + offset, 'sum_' + offset]\n",
    "data_window_roll[['count_' + offset, 'sum_' + offset]] = data_window_roll[['count_' + offset, 'sum_' + offset]].shift(1)\n",
    "data_window_roll.loc[data_window_roll['itemid']!=data_window_roll['itemid'].shift(1), ['count_' + offset, 'sum_' + offset]] = 0\n",
    "data_window_roll['avg_' + offset] = data_window_roll['sum_' + offset]/data_window_roll['count_' + offset]\n",
    "data = data.merge(data_window_roll, how='left', on=['itemid', 'timestamp'])\n",
    "data"
   ]
  },
  {
   "cell_type": "markdown",
   "metadata": {
    "id": "6tnEI33Lpim5"
   },
   "source": [
    "Let's get the # of purchases per product in the 7 days before."
   ]
  },
  {
   "cell_type": "code",
   "execution_count": null,
   "metadata": {
    "id": "4XjcqI8hp4TO"
   },
   "outputs": [],
   "source": [
    "# cuDF does not support date32, right now. We use pandas to transform the timestamp in only date values.\n",
    "df_train['date'] = cudf.from_pandas(pd.to_datetime(df_train['timestamp'].to_pandas()).dt.date)"
   ]
  },
  {
   "cell_type": "code",
   "execution_count": null,
   "metadata": {
    "id": "1ugoVj5apa5X"
   },
   "outputs": [
    {
     "data": {
      "text/html": [
       "<div>\n",
       "<style scoped>\n",
       "    .dataframe tbody tr th:only-of-type {\n",
       "        vertical-align: middle;\n",
       "    }\n",
       "\n",
       "    .dataframe tbody tr th {\n",
       "        vertical-align: top;\n",
       "    }\n",
       "\n",
       "    .dataframe thead th {\n",
       "        text-align: right;\n",
       "    }\n",
       "</style>\n",
       "<table border=\"1\" class=\"dataframe\">\n",
       "  <thead>\n",
       "    <tr style=\"text-align: right;\">\n",
       "      <th></th>\n",
       "      <th>event_time</th>\n",
       "      <th>event_type</th>\n",
       "      <th>product_id</th>\n",
       "      <th>brand</th>\n",
       "      <th>price</th>\n",
       "      <th>user_id</th>\n",
       "      <th>user_session</th>\n",
       "      <th>target</th>\n",
       "      <th>timestamp</th>\n",
       "      <th>ts_hour</th>\n",
       "      <th>ts_minute</th>\n",
       "      <th>ts_weekday</th>\n",
       "      <th>ts_day</th>\n",
       "      <th>ts_month</th>\n",
       "      <th>ts_year</th>\n",
       "      <th>cat_0</th>\n",
       "      <th>cat_1</th>\n",
       "      <th>cat_2</th>\n",
       "      <th>cat_3</th>\n",
       "      <th>hour</th>\n",
       "      <th>hour_bin</th>\n",
       "      <th>price_bin</th>\n",
       "      <th>weekday</th>\n",
       "      <th>weekday_bin</th>\n",
       "      <th>TE_cat_0</th>\n",
       "      <th>TE_cat_1</th>\n",
       "      <th>TE_cat_2</th>\n",
       "      <th>TE_cat_0_cat_1_cat_2</th>\n",
       "      <th>TE_ts_hour</th>\n",
       "      <th>TE_ts_weekday</th>\n",
       "      <th>TE_ts_weekday_ts_hour_cat_2_brand</th>\n",
       "      <th>CE_brand</th>\n",
       "      <th>CE_user_id</th>\n",
       "      <th>CE_product_id</th>\n",
       "      <th>CE_cat_0</th>\n",
       "      <th>CE_cat_1</th>\n",
       "      <th>CE_cat_2</th>\n",
       "      <th>date</th>\n",
       "      <th>count_7D</th>\n",
       "      <th>sum_7D</th>\n",
       "      <th>avg_7D</th>\n",
       "    </tr>\n",
       "  </thead>\n",
       "  <tbody>\n",
       "    <tr>\n",
       "      <th>0</th>\n",
       "      <td>2020-01-23 05:51:54 UTC</td>\n",
       "      <td>cart</td>\n",
       "      <td>1004767</td>\n",
       "      <td>samsung</td>\n",
       "      <td>226.27</td>\n",
       "      <td>604877512</td>\n",
       "      <td>d8340c6c-ea06-4e9d-8c35-91a794ec4fe1</td>\n",
       "      <td>0</td>\n",
       "      <td>2020-01-23 05:51:54</td>\n",
       "      <td>5</td>\n",
       "      <td>51</td>\n",
       "      <td>3</td>\n",
       "      <td>23</td>\n",
       "      <td>1</td>\n",
       "      <td>2020</td>\n",
       "      <td>construction</td>\n",
       "      <td>tools</td>\n",
       "      <td>light</td>\n",
       "      <td>NA</td>\n",
       "      <td>5</td>\n",
       "      <td>1</td>\n",
       "      <td>2</td>\n",
       "      <td>3</td>\n",
       "      <td>2</td>\n",
       "      <td>0.450266</td>\n",
       "      <td>0.449712</td>\n",
       "      <td>0.456533</td>\n",
       "      <td>0.457381</td>\n",
       "      <td>0.373932</td>\n",
       "      <td>0.349578</td>\n",
       "      <td>0.484851</td>\n",
       "      <td>2329847</td>\n",
       "      <td>2</td>\n",
       "      <td>318753</td>\n",
       "      <td>3375478</td>\n",
       "      <td>3319883</td>\n",
       "      <td>3184510</td>\n",
       "      <td>2020-01-23</td>\n",
       "      <td>4584</td>\n",
       "      <td>2499</td>\n",
       "      <td>0.545157</td>\n",
       "    </tr>\n",
       "    <tr>\n",
       "      <th>1</th>\n",
       "      <td>2020-01-23 05:51:57 UTC</td>\n",
       "      <td>cart</td>\n",
       "      <td>100043749</td>\n",
       "      <td>defacto</td>\n",
       "      <td>7.70</td>\n",
       "      <td>584393413</td>\n",
       "      <td>e6825e0a-2882-46c4-a181-66b4d3f51d77</td>\n",
       "      <td>0</td>\n",
       "      <td>2020-01-23 05:51:57</td>\n",
       "      <td>5</td>\n",
       "      <td>51</td>\n",
       "      <td>3</td>\n",
       "      <td>23</td>\n",
       "      <td>1</td>\n",
       "      <td>2020</td>\n",
       "      <td>appliances</td>\n",
       "      <td>personal</td>\n",
       "      <td>massager</td>\n",
       "      <td>NA</td>\n",
       "      <td>5</td>\n",
       "      <td>1</td>\n",
       "      <td>0</td>\n",
       "      <td>3</td>\n",
       "      <td>2</td>\n",
       "      <td>0.343637</td>\n",
       "      <td>0.386527</td>\n",
       "      <td>0.393561</td>\n",
       "      <td>0.393561</td>\n",
       "      <td>0.373823</td>\n",
       "      <td>0.349599</td>\n",
       "      <td>0.345413</td>\n",
       "      <td>19306</td>\n",
       "      <td>18</td>\n",
       "      <td>42</td>\n",
       "      <td>1531852</td>\n",
       "      <td>306000</td>\n",
       "      <td>277531</td>\n",
       "      <td>2020-01-23</td>\n",
       "      <td>8</td>\n",
       "      <td>2</td>\n",
       "      <td>0.250000</td>\n",
       "    </tr>\n",
       "    <tr>\n",
       "      <th>2</th>\n",
       "      <td>2020-01-23 05:51:58 UTC</td>\n",
       "      <td>cart</td>\n",
       "      <td>1005160</td>\n",
       "      <td>xiaomi</td>\n",
       "      <td>167.57</td>\n",
       "      <td>593241453</td>\n",
       "      <td>8768b7f8-67aa-437d-9750-27008f77354a</td>\n",
       "      <td>0</td>\n",
       "      <td>2020-01-23 05:51:58</td>\n",
       "      <td>5</td>\n",
       "      <td>51</td>\n",
       "      <td>3</td>\n",
       "      <td>23</td>\n",
       "      <td>1</td>\n",
       "      <td>2020</td>\n",
       "      <td>construction</td>\n",
       "      <td>tools</td>\n",
       "      <td>light</td>\n",
       "      <td>NA</td>\n",
       "      <td>5</td>\n",
       "      <td>1</td>\n",
       "      <td>2</td>\n",
       "      <td>3</td>\n",
       "      <td>2</td>\n",
       "      <td>0.450141</td>\n",
       "      <td>0.449635</td>\n",
       "      <td>0.456450</td>\n",
       "      <td>0.457303</td>\n",
       "      <td>0.373849</td>\n",
       "      <td>0.349541</td>\n",
       "      <td>0.368587</td>\n",
       "      <td>1085216</td>\n",
       "      <td>5</td>\n",
       "      <td>120163</td>\n",
       "      <td>3375478</td>\n",
       "      <td>3319883</td>\n",
       "      <td>3184510</td>\n",
       "      <td>2020-01-23</td>\n",
       "      <td>1547</td>\n",
       "      <td>467</td>\n",
       "      <td>0.301875</td>\n",
       "    </tr>\n",
       "    <tr>\n",
       "      <th>3</th>\n",
       "      <td>2020-01-23 05:52:00 UTC</td>\n",
       "      <td>cart</td>\n",
       "      <td>1005160</td>\n",
       "      <td>xiaomi</td>\n",
       "      <td>167.57</td>\n",
       "      <td>593241453</td>\n",
       "      <td>8768b7f8-67aa-437d-9750-27008f77354a</td>\n",
       "      <td>0</td>\n",
       "      <td>2020-01-23 05:52:00</td>\n",
       "      <td>5</td>\n",
       "      <td>52</td>\n",
       "      <td>3</td>\n",
       "      <td>23</td>\n",
       "      <td>1</td>\n",
       "      <td>2020</td>\n",
       "      <td>construction</td>\n",
       "      <td>tools</td>\n",
       "      <td>light</td>\n",
       "      <td>NA</td>\n",
       "      <td>5</td>\n",
       "      <td>1</td>\n",
       "      <td>2</td>\n",
       "      <td>3</td>\n",
       "      <td>2</td>\n",
       "      <td>0.450553</td>\n",
       "      <td>0.450018</td>\n",
       "      <td>0.456834</td>\n",
       "      <td>0.457670</td>\n",
       "      <td>0.374013</td>\n",
       "      <td>0.349531</td>\n",
       "      <td>0.374806</td>\n",
       "      <td>1085216</td>\n",
       "      <td>5</td>\n",
       "      <td>120163</td>\n",
       "      <td>3375478</td>\n",
       "      <td>3319883</td>\n",
       "      <td>3184510</td>\n",
       "      <td>2020-01-23</td>\n",
       "      <td>1547</td>\n",
       "      <td>467</td>\n",
       "      <td>0.301875</td>\n",
       "    </tr>\n",
       "    <tr>\n",
       "      <th>4</th>\n",
       "      <td>2020-01-23 05:52:01 UTC</td>\n",
       "      <td>cart</td>\n",
       "      <td>100009497</td>\n",
       "      <td>arcodoro</td>\n",
       "      <td>21.36</td>\n",
       "      <td>516498608</td>\n",
       "      <td>543260b0-6e6f-492d-b4e3-4380f4bb7329</td>\n",
       "      <td>0</td>\n",
       "      <td>2020-01-23 05:52:01</td>\n",
       "      <td>5</td>\n",
       "      <td>52</td>\n",
       "      <td>3</td>\n",
       "      <td>23</td>\n",
       "      <td>1</td>\n",
       "      <td>2020</td>\n",
       "      <td>medicine</td>\n",
       "      <td>tools</td>\n",
       "      <td>tonometer</td>\n",
       "      <td>NA</td>\n",
       "      <td>5</td>\n",
       "      <td>1</td>\n",
       "      <td>2</td>\n",
       "      <td>3</td>\n",
       "      <td>2</td>\n",
       "      <td>0.303333</td>\n",
       "      <td>0.449727</td>\n",
       "      <td>0.303333</td>\n",
       "      <td>0.303333</td>\n",
       "      <td>0.374066</td>\n",
       "      <td>0.349571</td>\n",
       "      <td>0.418171</td>\n",
       "      <td>714</td>\n",
       "      <td>9</td>\n",
       "      <td>129</td>\n",
       "      <td>5011</td>\n",
       "      <td>3319883</td>\n",
       "      <td>5011</td>\n",
       "      <td>2020-01-23</td>\n",
       "      <td>5</td>\n",
       "      <td>2</td>\n",
       "      <td>0.400000</td>\n",
       "    </tr>\n",
       "  </tbody>\n",
       "</table>\n",
       "</div>"
      ],
      "text/plain": [
       "                event_time event_type  product_id  ... count_7D  sum_7D    avg_7D\n",
       "0  2020-01-23 05:51:54 UTC       cart     1004767  ...     4584    2499  0.545157\n",
       "1  2020-01-23 05:51:57 UTC       cart   100043749  ...        8       2  0.250000\n",
       "2  2020-01-23 05:51:58 UTC       cart     1005160  ...     1547     467  0.301875\n",
       "3  2020-01-23 05:52:00 UTC       cart     1005160  ...     1547     467  0.301875\n",
       "4  2020-01-23 05:52:01 UTC       cart   100009497  ...        5       2  0.400000\n",
       "\n",
       "[5 rows x 42 columns]"
      ]
     },
     "execution_count": 44,
     "metadata": {
      "tags": []
     },
     "output_type": "execute_result"
    }
   ],
   "source": [
    "offset = '7D'\n",
    "\n",
    "data_window = df_train[['product_id', 'date', 'target']].groupby(['product_id', 'date']).agg(['count', 'sum']).reset_index()\n",
    "data_window.columns = ['product_id', 'date', 'count', 'sum']\n",
    "data_window.index = data_window['date']\n",
    "\n",
    "data_window_roll = data_window[['product_id', 'count', 'sum']].groupby(['product_id']).rolling(offset).sum().drop('product_id', axis=1)\n",
    "data_window_roll = data_window_roll.reset_index()\n",
    "data_window_roll.columns = ['product_id', 'date', 'count_' + offset, 'sum_' + offset]\n",
    "data_window_roll[['count_' + offset, 'sum_' + offset]] = data_window_roll[['count_' + offset, 'sum_' + offset]].shift(1)\n",
    "data_window_roll.loc[data_window_roll['product_id']!=data_window_roll['product_id'].shift(1), ['count_' + offset, 'sum_' + offset]] = 0\n",
    "data_window_roll['avg_' + offset] = data_window_roll['sum_' + offset]/data_window_roll['count_' + offset]\n",
    "data = df_train.merge(data_window_roll, how='left', on=['product_id', 'date'])\n",
    "data.head()"
   ]
  },
  {
   "cell_type": "markdown",
   "metadata": {
    "id": "Eh07Qws4qJTi"
   },
   "source": [
    "### Differences"
   ]
  },
  {
   "cell_type": "markdown",
   "metadata": {
    "id": "q-V8QzAFqN6R"
   },
   "source": [
    "Another category of powerful features is to calculate the differences to previous datapoints based on a timestamp. For example, we can calculate if the price changed of a product and how much the price change was."
   ]
  },
  {
   "cell_type": "code",
   "execution_count": null,
   "metadata": {
    "id": "EUuNlaMvp1bK"
   },
   "outputs": [
    {
     "data": {
      "text/html": [
       "<div>\n",
       "<style scoped>\n",
       "    .dataframe tbody tr th:only-of-type {\n",
       "        vertical-align: middle;\n",
       "    }\n",
       "\n",
       "    .dataframe tbody tr th {\n",
       "        vertical-align: top;\n",
       "    }\n",
       "\n",
       "    .dataframe thead th {\n",
       "        text-align: right;\n",
       "    }\n",
       "</style>\n",
       "<table border=\"1\" class=\"dataframe\">\n",
       "  <thead>\n",
       "    <tr style=\"text-align: right;\">\n",
       "      <th></th>\n",
       "      <th>itemid</th>\n",
       "      <th>userid</th>\n",
       "      <th>price</th>\n",
       "      <th>action</th>\n",
       "      <th>timestamp</th>\n",
       "    </tr>\n",
       "  </thead>\n",
       "  <tbody>\n",
       "    <tr>\n",
       "      <th>0</th>\n",
       "      <td>1000001</td>\n",
       "      <td>6916</td>\n",
       "      <td>100.0</td>\n",
       "      <td>1</td>\n",
       "      <td>2020-01-01</td>\n",
       "    </tr>\n",
       "    <tr>\n",
       "      <th>1</th>\n",
       "      <td>1000001</td>\n",
       "      <td>8981</td>\n",
       "      <td>100.0</td>\n",
       "      <td>0</td>\n",
       "      <td>2020-01-01</td>\n",
       "    </tr>\n",
       "    <tr>\n",
       "      <th>2</th>\n",
       "      <td>1000001</td>\n",
       "      <td>9272</td>\n",
       "      <td>100.0</td>\n",
       "      <td>1</td>\n",
       "      <td>2020-01-01</td>\n",
       "    </tr>\n",
       "    <tr>\n",
       "      <th>3</th>\n",
       "      <td>1000001</td>\n",
       "      <td>5939</td>\n",
       "      <td>100.0</td>\n",
       "      <td>1</td>\n",
       "      <td>2020-01-01</td>\n",
       "    </tr>\n",
       "    <tr>\n",
       "      <th>4</th>\n",
       "      <td>1000001</td>\n",
       "      <td>9305</td>\n",
       "      <td>100.0</td>\n",
       "      <td>1</td>\n",
       "      <td>2020-01-01</td>\n",
       "    </tr>\n",
       "    <tr>\n",
       "      <th>5</th>\n",
       "      <td>1000001</td>\n",
       "      <td>4431</td>\n",
       "      <td>100.0</td>\n",
       "      <td>1</td>\n",
       "      <td>2020-01-01</td>\n",
       "    </tr>\n",
       "    <tr>\n",
       "      <th>6</th>\n",
       "      <td>1000001</td>\n",
       "      <td>3954</td>\n",
       "      <td>100.0</td>\n",
       "      <td>1</td>\n",
       "      <td>2020-01-01</td>\n",
       "    </tr>\n",
       "    <tr>\n",
       "      <th>7</th>\n",
       "      <td>1000001</td>\n",
       "      <td>8092</td>\n",
       "      <td>100.0</td>\n",
       "      <td>1</td>\n",
       "      <td>2020-01-01</td>\n",
       "    </tr>\n",
       "    <tr>\n",
       "      <th>8</th>\n",
       "      <td>1000001</td>\n",
       "      <td>1204</td>\n",
       "      <td>100.0</td>\n",
       "      <td>1</td>\n",
       "      <td>2020-01-01</td>\n",
       "    </tr>\n",
       "    <tr>\n",
       "      <th>9</th>\n",
       "      <td>1000001</td>\n",
       "      <td>3582</td>\n",
       "      <td>100.0</td>\n",
       "      <td>1</td>\n",
       "      <td>2020-01-01</td>\n",
       "    </tr>\n",
       "  </tbody>\n",
       "</table>\n",
       "</div>"
      ],
      "text/plain": [
       "    itemid  userid  price  action  timestamp\n",
       "0  1000001    6916  100.0       1 2020-01-01\n",
       "1  1000001    8981  100.0       0 2020-01-01\n",
       "2  1000001    9272  100.0       1 2020-01-01\n",
       "3  1000001    5939  100.0       1 2020-01-01\n",
       "4  1000001    9305  100.0       1 2020-01-01\n",
       "5  1000001    4431  100.0       1 2020-01-01\n",
       "6  1000001    3954  100.0       1 2020-01-01\n",
       "7  1000001    8092  100.0       1 2020-01-01\n",
       "8  1000001    1204  100.0       1 2020-01-01\n",
       "9  1000001    3582  100.0       1 2020-01-01"
      ]
     },
     "execution_count": 4,
     "metadata": {
      "tags": []
     },
     "output_type": "execute_result"
    }
   ],
   "source": [
    "itemid = [1000001]*10 + [1000002]*5 + [1000001]*5 + [1000002]*5 + [1000001]*1 + [1000002]*1 + [1000001]*2 + [1000002]*2\n",
    "itemid += [1000001]*3 + [1000002]*2 + [1000001]*1 + [1000002]*1 + [1000001]*6 + [1000002]*3 + [1000001]*2 + [1000002]*2\n",
    "userid = np.random.choice(list(range(10000)), len(itemid))\n",
    "action = np.random.choice(list(range(2)), len(itemid), p=[0.2, 0.8])\n",
    "\n",
    "price = [100.00]*10 + [25.00]*5 + [100.00]*5 + [30.00]*5 + [125.00]*1 + [30.00]*1 + [125.00]*2 + [30.00]*2\n",
    "price += [110.00]*3 + [30.00]*2 + [110.00]*1 + [20.00]*1 + [90.00]*6 + [20.00]*3 + [90.00]*2 + [20.00]*2\n",
    "\n",
    "timestamp = [pd.to_datetime('2020-01-01')]*15\n",
    "timestamp += [pd.to_datetime('2020-01-02')]*10\n",
    "timestamp += [pd.to_datetime('2020-01-03')]*2\n",
    "timestamp += [pd.to_datetime('2020-01-04')]*4\n",
    "timestamp += [pd.to_datetime('2020-01-05')]*5\n",
    "timestamp += [pd.to_datetime('2020-01-07')]*2\n",
    "timestamp += [pd.to_datetime('2020-01-08')]*9\n",
    "timestamp += [pd.to_datetime('2020-01-09')]*4\n",
    "\n",
    "data = pd.DataFrame({\n",
    "    'itemid': itemid,\n",
    "    'userid': userid,\n",
    "    'price': price,\n",
    "    'action': action,\n",
    "    'timestamp': timestamp\n",
    "})\n",
    "\n",
    "data = cudf.from_pandas(data)\n",
    "\n",
    "data[data['itemid']==1000001].head(10)"
   ]
  },
  {
   "cell_type": "markdown",
   "metadata": {
    "id": "Zf768ni5qTFf"
   },
   "source": [
    "Tree-based or deep learning based models have difficulties processing these relationships on their own. Providing the models with these features can significantly improve the performance."
   ]
  },
  {
   "cell_type": "code",
   "execution_count": null,
   "metadata": {
    "id": "5RF5YmcvqQLT"
   },
   "outputs": [
    {
     "data": {
      "text/html": [
       "<div>\n",
       "<style scoped>\n",
       "    .dataframe tbody tr th:only-of-type {\n",
       "        vertical-align: middle;\n",
       "    }\n",
       "\n",
       "    .dataframe tbody tr th {\n",
       "        vertical-align: top;\n",
       "    }\n",
       "\n",
       "    .dataframe thead th {\n",
       "        text-align: right;\n",
       "    }\n",
       "</style>\n",
       "<table border=\"1\" class=\"dataframe\">\n",
       "  <thead>\n",
       "    <tr style=\"text-align: right;\">\n",
       "      <th></th>\n",
       "      <th>itemid</th>\n",
       "      <th>timestamp</th>\n",
       "      <th>mean</th>\n",
       "      <th>mean_1</th>\n",
       "      <th>diff_1</th>\n",
       "    </tr>\n",
       "  </thead>\n",
       "  <tbody>\n",
       "    <tr>\n",
       "      <th>0</th>\n",
       "      <td>1000002</td>\n",
       "      <td>2020-01-01</td>\n",
       "      <td>25.0</td>\n",
       "      <td>&lt;NA&gt;</td>\n",
       "      <td>&lt;NA&gt;</td>\n",
       "    </tr>\n",
       "    <tr>\n",
       "      <th>1</th>\n",
       "      <td>1000001</td>\n",
       "      <td>2020-01-08</td>\n",
       "      <td>90.0</td>\n",
       "      <td>&lt;NA&gt;</td>\n",
       "      <td>&lt;NA&gt;</td>\n",
       "    </tr>\n",
       "    <tr>\n",
       "      <th>2</th>\n",
       "      <td>1000001</td>\n",
       "      <td>2020-01-02</td>\n",
       "      <td>100.0</td>\n",
       "      <td>90.0</td>\n",
       "      <td>10.0</td>\n",
       "    </tr>\n",
       "    <tr>\n",
       "      <th>3</th>\n",
       "      <td>1000001</td>\n",
       "      <td>2020-01-07</td>\n",
       "      <td>110.0</td>\n",
       "      <td>100.0</td>\n",
       "      <td>10.0</td>\n",
       "    </tr>\n",
       "    <tr>\n",
       "      <th>4</th>\n",
       "      <td>1000001</td>\n",
       "      <td>2020-01-03</td>\n",
       "      <td>125.0</td>\n",
       "      <td>110.0</td>\n",
       "      <td>15.0</td>\n",
       "    </tr>\n",
       "    <tr>\n",
       "      <th>5</th>\n",
       "      <td>1000001</td>\n",
       "      <td>2020-01-09</td>\n",
       "      <td>90.0</td>\n",
       "      <td>125.0</td>\n",
       "      <td>-35.0</td>\n",
       "    </tr>\n",
       "    <tr>\n",
       "      <th>6</th>\n",
       "      <td>1000001</td>\n",
       "      <td>2020-01-04</td>\n",
       "      <td>125.0</td>\n",
       "      <td>90.0</td>\n",
       "      <td>35.0</td>\n",
       "    </tr>\n",
       "    <tr>\n",
       "      <th>7</th>\n",
       "      <td>1000001</td>\n",
       "      <td>2020-01-05</td>\n",
       "      <td>110.0</td>\n",
       "      <td>125.0</td>\n",
       "      <td>-15.0</td>\n",
       "    </tr>\n",
       "    <tr>\n",
       "      <th>8</th>\n",
       "      <td>1000002</td>\n",
       "      <td>2020-01-08</td>\n",
       "      <td>20.0</td>\n",
       "      <td>&lt;NA&gt;</td>\n",
       "      <td>&lt;NA&gt;</td>\n",
       "    </tr>\n",
       "    <tr>\n",
       "      <th>9</th>\n",
       "      <td>1000002</td>\n",
       "      <td>2020-01-07</td>\n",
       "      <td>20.0</td>\n",
       "      <td>20.0</td>\n",
       "      <td>0.0</td>\n",
       "    </tr>\n",
       "  </tbody>\n",
       "</table>\n",
       "</div>"
      ],
      "text/plain": [
       "    itemid  timestamp   mean mean_1 diff_1\n",
       "0  1000002 2020-01-01   25.0   <NA>   <NA>\n",
       "1  1000001 2020-01-08   90.0   <NA>   <NA>\n",
       "2  1000001 2020-01-02  100.0   90.0   10.0\n",
       "3  1000001 2020-01-07  110.0  100.0   10.0\n",
       "4  1000001 2020-01-03  125.0  110.0   15.0\n",
       "5  1000001 2020-01-09   90.0  125.0  -35.0\n",
       "6  1000001 2020-01-04  125.0   90.0   35.0\n",
       "7  1000001 2020-01-05  110.0  125.0  -15.0\n",
       "8  1000002 2020-01-08   20.0   <NA>   <NA>\n",
       "9  1000002 2020-01-07   20.0   20.0    0.0"
      ]
     },
     "execution_count": 50,
     "metadata": {
      "tags": []
     },
     "output_type": "execute_result"
    }
   ],
   "source": [
    "offset = 1\n",
    "data_shift = data[['itemid', 'timestamp', 'price']].groupby(['itemid', 'timestamp']).mean().reset_index()\n",
    "data_shift.columns = ['itemid', 'timestamp', 'mean']\n",
    "data_shift['mean_' + str(offset)] = data_shift['mean'].shift(1)\n",
    "data_shift.loc[data_shift['itemid']!=data_shift['itemid'].shift(1), 'mean_' + str(offset)] = None\n",
    "data_shift['diff_' + str(offset)] = data_shift['mean'] - data_shift['mean_' + str(offset)]\n",
    "data_shift.head(10)"
   ]
  },
  {
   "cell_type": "code",
   "execution_count": null,
   "metadata": {
    "id": "PXhtcPZHqWZo"
   },
   "outputs": [
    {
     "data": {
      "text/html": [
       "<div>\n",
       "<style scoped>\n",
       "    .dataframe tbody tr th:only-of-type {\n",
       "        vertical-align: middle;\n",
       "    }\n",
       "\n",
       "    .dataframe tbody tr th {\n",
       "        vertical-align: top;\n",
       "    }\n",
       "\n",
       "    .dataframe thead th {\n",
       "        text-align: right;\n",
       "    }\n",
       "</style>\n",
       "<table border=\"1\" class=\"dataframe\">\n",
       "  <thead>\n",
       "    <tr style=\"text-align: right;\">\n",
       "      <th></th>\n",
       "      <th>itemid</th>\n",
       "      <th>timestamp</th>\n",
       "      <th>price_diff_1</th>\n",
       "    </tr>\n",
       "  </thead>\n",
       "  <tbody>\n",
       "    <tr>\n",
       "      <th>0</th>\n",
       "      <td>1000002</td>\n",
       "      <td>2020-01-01</td>\n",
       "      <td>&lt;NA&gt;</td>\n",
       "    </tr>\n",
       "    <tr>\n",
       "      <th>1</th>\n",
       "      <td>1000001</td>\n",
       "      <td>2020-01-08</td>\n",
       "      <td>&lt;NA&gt;</td>\n",
       "    </tr>\n",
       "    <tr>\n",
       "      <th>2</th>\n",
       "      <td>1000001</td>\n",
       "      <td>2020-01-02</td>\n",
       "      <td>10.0</td>\n",
       "    </tr>\n",
       "    <tr>\n",
       "      <th>3</th>\n",
       "      <td>1000001</td>\n",
       "      <td>2020-01-07</td>\n",
       "      <td>10.0</td>\n",
       "    </tr>\n",
       "    <tr>\n",
       "      <th>4</th>\n",
       "      <td>1000001</td>\n",
       "      <td>2020-01-03</td>\n",
       "      <td>15.0</td>\n",
       "    </tr>\n",
       "    <tr>\n",
       "      <th>5</th>\n",
       "      <td>1000001</td>\n",
       "      <td>2020-01-09</td>\n",
       "      <td>-35.0</td>\n",
       "    </tr>\n",
       "    <tr>\n",
       "      <th>6</th>\n",
       "      <td>1000001</td>\n",
       "      <td>2020-01-04</td>\n",
       "      <td>35.0</td>\n",
       "    </tr>\n",
       "    <tr>\n",
       "      <th>7</th>\n",
       "      <td>1000001</td>\n",
       "      <td>2020-01-05</td>\n",
       "      <td>-15.0</td>\n",
       "    </tr>\n",
       "    <tr>\n",
       "      <th>8</th>\n",
       "      <td>1000002</td>\n",
       "      <td>2020-01-08</td>\n",
       "      <td>&lt;NA&gt;</td>\n",
       "    </tr>\n",
       "    <tr>\n",
       "      <th>9</th>\n",
       "      <td>1000002</td>\n",
       "      <td>2020-01-07</td>\n",
       "      <td>0.0</td>\n",
       "    </tr>\n",
       "  </tbody>\n",
       "</table>\n",
       "</div>"
      ],
      "text/plain": [
       "    itemid  timestamp price_diff_1\n",
       "0  1000002 2020-01-01         <NA>\n",
       "1  1000001 2020-01-08         <NA>\n",
       "2  1000001 2020-01-02         10.0\n",
       "3  1000001 2020-01-07         10.0\n",
       "4  1000001 2020-01-03         15.0\n",
       "5  1000001 2020-01-09        -35.0\n",
       "6  1000001 2020-01-04         35.0\n",
       "7  1000001 2020-01-05        -15.0\n",
       "8  1000002 2020-01-08         <NA>\n",
       "9  1000002 2020-01-07          0.0"
      ]
     },
     "execution_count": 51,
     "metadata": {
      "tags": []
     },
     "output_type": "execute_result"
    }
   ],
   "source": [
    "data_shift.columns = ['itemid', 'timestamp', 'c1', 'c2', 'price_diff_1']\n",
    "data_shift.drop(['c1', 'c2'], inplace=True, axis=1)\n",
    "data_shift.head(10)"
   ]
  },
  {
   "cell_type": "code",
   "execution_count": null,
   "metadata": {
    "id": "3D-LeWrSqYl8"
   },
   "outputs": [
    {
     "data": {
      "text/html": [
       "<div>\n",
       "<style scoped>\n",
       "    .dataframe tbody tr th:only-of-type {\n",
       "        vertical-align: middle;\n",
       "    }\n",
       "\n",
       "    .dataframe tbody tr th {\n",
       "        vertical-align: top;\n",
       "    }\n",
       "\n",
       "    .dataframe thead th {\n",
       "        text-align: right;\n",
       "    }\n",
       "</style>\n",
       "<table border=\"1\" class=\"dataframe\">\n",
       "  <thead>\n",
       "    <tr style=\"text-align: right;\">\n",
       "      <th></th>\n",
       "      <th>itemid</th>\n",
       "      <th>userid</th>\n",
       "      <th>price</th>\n",
       "      <th>action</th>\n",
       "      <th>timestamp</th>\n",
       "      <th>price_diff_1</th>\n",
       "    </tr>\n",
       "  </thead>\n",
       "  <tbody>\n",
       "    <tr>\n",
       "      <th>0</th>\n",
       "      <td>1000001</td>\n",
       "      <td>9289</td>\n",
       "      <td>100.0</td>\n",
       "      <td>1</td>\n",
       "      <td>2020-01-01</td>\n",
       "      <td>&lt;NA&gt;</td>\n",
       "    </tr>\n",
       "    <tr>\n",
       "      <th>1</th>\n",
       "      <td>1000001</td>\n",
       "      <td>7503</td>\n",
       "      <td>100.0</td>\n",
       "      <td>1</td>\n",
       "      <td>2020-01-01</td>\n",
       "      <td>&lt;NA&gt;</td>\n",
       "    </tr>\n",
       "    <tr>\n",
       "      <th>2</th>\n",
       "      <td>1000001</td>\n",
       "      <td>3793</td>\n",
       "      <td>100.0</td>\n",
       "      <td>1</td>\n",
       "      <td>2020-01-01</td>\n",
       "      <td>&lt;NA&gt;</td>\n",
       "    </tr>\n",
       "    <tr>\n",
       "      <th>3</th>\n",
       "      <td>1000001</td>\n",
       "      <td>1575</td>\n",
       "      <td>100.0</td>\n",
       "      <td>1</td>\n",
       "      <td>2020-01-01</td>\n",
       "      <td>&lt;NA&gt;</td>\n",
       "    </tr>\n",
       "    <tr>\n",
       "      <th>4</th>\n",
       "      <td>1000001</td>\n",
       "      <td>5868</td>\n",
       "      <td>100.0</td>\n",
       "      <td>1</td>\n",
       "      <td>2020-01-01</td>\n",
       "      <td>&lt;NA&gt;</td>\n",
       "    </tr>\n",
       "  </tbody>\n",
       "</table>\n",
       "</div>"
      ],
      "text/plain": [
       "    itemid  userid  price  action  timestamp price_diff_1\n",
       "0  1000001    9289  100.0       1 2020-01-01         <NA>\n",
       "1  1000001    7503  100.0       1 2020-01-01         <NA>\n",
       "2  1000001    3793  100.0       1 2020-01-01         <NA>\n",
       "3  1000001    1575  100.0       1 2020-01-01         <NA>\n",
       "4  1000001    5868  100.0       1 2020-01-01         <NA>"
      ]
     },
     "execution_count": 52,
     "metadata": {
      "tags": []
     },
     "output_type": "execute_result"
    }
   ],
   "source": [
    "data = data.merge(data_shift, how='left', on=['itemid', 'timestamp'])\n",
    "data.head()"
   ]
  },
  {
   "cell_type": "markdown",
   "metadata": {
    "id": "t9heMbn5qk38"
   },
   "source": [
    "We can combine techniques of TimeSeries data and chain them together. For example, we can calculate the # of purchases per item and then compare the previous week with a the week, 2, 3 or 5 weeks ago. We can recognize patterns over time."
   ]
  },
  {
   "cell_type": "markdown",
   "metadata": {
    "id": "z07Fkvh0qrHk"
   },
   "source": [
    "Let's get the price difference of the previous price to the current price per item"
   ]
  },
  {
   "cell_type": "code",
   "execution_count": null,
   "metadata": {
    "id": "ZdaJ2Lz-q_Wl"
   },
   "outputs": [],
   "source": [
    "# cuDF does not support date32, right now. We use pandas to transform the timestamp in only date values.\n",
    "df_train['date'] = cudf.from_pandas(pd.to_datetime(df_train['timestamp'].to_pandas()).dt.date)"
   ]
  },
  {
   "cell_type": "code",
   "execution_count": null,
   "metadata": {
    "id": "6xArlhsGqlIG"
   },
   "outputs": [
    {
     "data": {
      "text/html": [
       "<div>\n",
       "<style scoped>\n",
       "    .dataframe tbody tr th:only-of-type {\n",
       "        vertical-align: middle;\n",
       "    }\n",
       "\n",
       "    .dataframe tbody tr th {\n",
       "        vertical-align: top;\n",
       "    }\n",
       "\n",
       "    .dataframe thead th {\n",
       "        text-align: right;\n",
       "    }\n",
       "</style>\n",
       "<table border=\"1\" class=\"dataframe\">\n",
       "  <thead>\n",
       "    <tr style=\"text-align: right;\">\n",
       "      <th></th>\n",
       "      <th>event_time</th>\n",
       "      <th>event_type</th>\n",
       "      <th>product_id</th>\n",
       "      <th>brand</th>\n",
       "      <th>price</th>\n",
       "      <th>user_id</th>\n",
       "      <th>user_session</th>\n",
       "      <th>target</th>\n",
       "      <th>timestamp</th>\n",
       "      <th>ts_hour</th>\n",
       "      <th>ts_minute</th>\n",
       "      <th>ts_weekday</th>\n",
       "      <th>ts_day</th>\n",
       "      <th>ts_month</th>\n",
       "      <th>ts_year</th>\n",
       "      <th>cat_0</th>\n",
       "      <th>cat_1</th>\n",
       "      <th>cat_2</th>\n",
       "      <th>cat_3</th>\n",
       "      <th>date</th>\n",
       "      <th>price_diff_1</th>\n",
       "    </tr>\n",
       "  </thead>\n",
       "  <tbody>\n",
       "    <tr>\n",
       "      <th>0</th>\n",
       "      <td>2020-01-23 14:14:26 UTC</td>\n",
       "      <td>cart</td>\n",
       "      <td>1002544</td>\n",
       "      <td>apple</td>\n",
       "      <td>411.31</td>\n",
       "      <td>536990227</td>\n",
       "      <td>8d30039f-25b6-4692-b6ef-14f2edc322a9</td>\n",
       "      <td>0</td>\n",
       "      <td>2020-01-23 14:14:26</td>\n",
       "      <td>14</td>\n",
       "      <td>14</td>\n",
       "      <td>3</td>\n",
       "      <td>23</td>\n",
       "      <td>1</td>\n",
       "      <td>2020</td>\n",
       "      <td>construction</td>\n",
       "      <td>tools</td>\n",
       "      <td>light</td>\n",
       "      <td>NA</td>\n",
       "      <td>2020-01-23</td>\n",
       "      <td>&lt;NA&gt;</td>\n",
       "    </tr>\n",
       "    <tr>\n",
       "      <th>1</th>\n",
       "      <td>2020-01-23 14:14:26 UTC</td>\n",
       "      <td>cart</td>\n",
       "      <td>1002544</td>\n",
       "      <td>apple</td>\n",
       "      <td>411.31</td>\n",
       "      <td>536990227</td>\n",
       "      <td>8d30039f-25b6-4692-b6ef-14f2edc322a9</td>\n",
       "      <td>0</td>\n",
       "      <td>2020-01-23 14:14:26</td>\n",
       "      <td>14</td>\n",
       "      <td>14</td>\n",
       "      <td>3</td>\n",
       "      <td>23</td>\n",
       "      <td>1</td>\n",
       "      <td>2020</td>\n",
       "      <td>construction</td>\n",
       "      <td>tools</td>\n",
       "      <td>light</td>\n",
       "      <td>NA</td>\n",
       "      <td>2020-01-23</td>\n",
       "      <td>&lt;NA&gt;</td>\n",
       "    </tr>\n",
       "    <tr>\n",
       "      <th>2</th>\n",
       "      <td>2020-01-23 14:14:26 UTC</td>\n",
       "      <td>cart</td>\n",
       "      <td>1002544</td>\n",
       "      <td>apple</td>\n",
       "      <td>411.31</td>\n",
       "      <td>536990227</td>\n",
       "      <td>8d30039f-25b6-4692-b6ef-14f2edc322a9</td>\n",
       "      <td>0</td>\n",
       "      <td>2020-01-23 14:14:26</td>\n",
       "      <td>14</td>\n",
       "      <td>14</td>\n",
       "      <td>3</td>\n",
       "      <td>23</td>\n",
       "      <td>1</td>\n",
       "      <td>2020</td>\n",
       "      <td>construction</td>\n",
       "      <td>tools</td>\n",
       "      <td>light</td>\n",
       "      <td>NA</td>\n",
       "      <td>2020-01-23</td>\n",
       "      <td>&lt;NA&gt;</td>\n",
       "    </tr>\n",
       "    <tr>\n",
       "      <th>3</th>\n",
       "      <td>2020-01-23 14:14:26 UTC</td>\n",
       "      <td>cart</td>\n",
       "      <td>1002544</td>\n",
       "      <td>apple</td>\n",
       "      <td>411.31</td>\n",
       "      <td>536990227</td>\n",
       "      <td>8d30039f-25b6-4692-b6ef-14f2edc322a9</td>\n",
       "      <td>0</td>\n",
       "      <td>2020-01-23 14:14:26</td>\n",
       "      <td>14</td>\n",
       "      <td>14</td>\n",
       "      <td>3</td>\n",
       "      <td>23</td>\n",
       "      <td>1</td>\n",
       "      <td>2020</td>\n",
       "      <td>construction</td>\n",
       "      <td>tools</td>\n",
       "      <td>light</td>\n",
       "      <td>NA</td>\n",
       "      <td>2020-01-23</td>\n",
       "      <td>&lt;NA&gt;</td>\n",
       "    </tr>\n",
       "    <tr>\n",
       "      <th>4</th>\n",
       "      <td>2020-01-23 14:14:26 UTC</td>\n",
       "      <td>cart</td>\n",
       "      <td>1002544</td>\n",
       "      <td>apple</td>\n",
       "      <td>411.31</td>\n",
       "      <td>536990227</td>\n",
       "      <td>8d30039f-25b6-4692-b6ef-14f2edc322a9</td>\n",
       "      <td>0</td>\n",
       "      <td>2020-01-23 14:14:26</td>\n",
       "      <td>14</td>\n",
       "      <td>14</td>\n",
       "      <td>3</td>\n",
       "      <td>23</td>\n",
       "      <td>1</td>\n",
       "      <td>2020</td>\n",
       "      <td>construction</td>\n",
       "      <td>tools</td>\n",
       "      <td>light</td>\n",
       "      <td>NA</td>\n",
       "      <td>2020-01-23</td>\n",
       "      <td>&lt;NA&gt;</td>\n",
       "    </tr>\n",
       "  </tbody>\n",
       "</table>\n",
       "</div>"
      ],
      "text/plain": [
       "                event_time event_type  product_id  ... cat_3       date  price_diff_1\n",
       "0  2020-01-23 14:14:26 UTC       cart     1002544  ...    NA 2020-01-23          <NA>\n",
       "1  2020-01-23 14:14:26 UTC       cart     1002544  ...    NA 2020-01-23          <NA>\n",
       "2  2020-01-23 14:14:26 UTC       cart     1002544  ...    NA 2020-01-23          <NA>\n",
       "3  2020-01-23 14:14:26 UTC       cart     1002544  ...    NA 2020-01-23          <NA>\n",
       "4  2020-01-23 14:14:26 UTC       cart     1002544  ...    NA 2020-01-23          <NA>\n",
       "\n",
       "[5 rows x 21 columns]"
      ]
     },
     "execution_count": 6,
     "metadata": {
      "tags": []
     },
     "output_type": "execute_result"
    }
   ],
   "source": [
    "offset = 1\n",
    "data_shift = df_train[['product_id', 'date', 'price']].groupby(['product_id', 'date']).mean().reset_index()\n",
    "data_shift.columns = ['product_id', 'date', 'mean']\n",
    "data_shift['mean_' + str(offset)] = data_shift['mean'].shift(1)\n",
    "data_shift.loc[data_shift['product_id']!=data_shift['product_id'].shift(1), 'mean_' + str(offset)] = None\n",
    "data_shift['diff_' + str(offset)] = data_shift['mean'] - data_shift['mean_' + str(offset)]\n",
    "data_shift.columns = ['product_id', 'date', 'c1', 'c2', 'price_diff_1']\n",
    "data_shift.drop(['c1', 'c2'], inplace=True, axis=1)\n",
    "df_train = df_train.merge(data_shift, how='left', on=['product_id', 'date'])\n",
    "df_train.head()"
   ]
  }
 ],
 "metadata": {
  "colab": {
   "collapsed_sections": [],
   "name": "T513987_Recsys_2020_Feature_Engineering_Tutorial.ipynb",
   "toc_visible": true
  },
  "kernelspec": {
   "display_name": "Python 3",
   "name": "python3"
  }
 },
 "nbformat": 4,
 "nbformat_minor": 0
}