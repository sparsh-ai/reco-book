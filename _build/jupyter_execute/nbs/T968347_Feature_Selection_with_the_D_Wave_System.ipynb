{
 "cells": [
  {
   "cell_type": "markdown",
   "metadata": {
    "id": "1C_f8pKg10iI"
   },
   "source": [
    "# Feature Selection with the D-Wave System\n",
    "> This notebook demonstrates the formulation of an  (nk)  optimization problem for solution on a D-Wave quantum computer. The method used in the example problem of this notebook—feature-selection for machine learning— is applicable to problems from a wide range of domains; for example feature selection in recommenders."
   ]
  },
  {
   "cell_type": "markdown",
   "metadata": {
    "id": "TR6xf7oMW71H"
   },
   "source": [
    "The promise of quantum computing to open new unexplored possibilities in several scientific fields has been long discussed, but until recently the lack of a functional quantum computer has confined this discussion mostly to theoretical algorithmic papers. It was only in the last few years that small but functional quantum computers have become available to the broader research community. One paradigm in particular,quantum annealing, can be used to sample optimal solutions for a number of NP-hard optimization problems represented with classical operations research tools, providing an easy access to the potential of this emerging technology. One of the tasks that most naturally fits in this mathematical formulation is feature selection. In this tutorial, we will learn how to run feature selection algorithm. We represent the feature selection as an optimization problem and solve it on a real quantum computer, provided by D-Wave. The results indicate that the proposed approach is effective in selecting a limited set of important features and that quantum computers are becoming powerful enough to enter the wider realm of applied science."
   ]
  },
  {
   "cell_type": "markdown",
   "metadata": {
    "id": "XZOnEvb_knMh"
   },
   "source": [
    "This notebook demonstrates the formulation of an $n \\choose k$ optimization problem for solution on a D-Wave quantum computer. The method used in the example problem of this notebook&mdash;feature-selection for machine learning&mdash; is applicable to problems from a wide range of domains; for example financial portfolio optimization. \n",
    "    \n",
    "1. [What is Feature Selection?](#What-is-Feature-Selection?) defines and explains the feature-selection problem.\n",
    "2. [Feature Selection by Mutual Information](#Feature-Selection-by-Mutual-Information) describes a particular method of feature selection that is demonstrated in this notebook.\n",
    "3. [Solving Feature Selection on a Quantum Computer](#Solving-Feature-Selection-on-a-Quantum-Computer) shows how such optimization problems can be formulated for solution on a D-Wave quantum computer. \n",
    "4. [Example Application: Predicting Survival of Titanic Passengers](#Example-Application:-Predicting-Survival-of-Titanic-Passengers) demonstrates the use of *Kerberos*, an out-of-the-box classical-quantum [hybrid](https://github.com/dwavesystems/dwave-hybrid) sampler, to select optimal features for a public-domain dataset. \n",
    "\n",
    "This notebook should help you understand both the techniques and [Ocean software](https://github.com/dwavesystems) tools used for solving optimization problems on D-Wave quantum computers."
   ]
  },
  {
   "cell_type": "markdown",
   "metadata": {
    "id": "es4nwSodknMr"
   },
   "source": [
    "## What is Feature Selection?\n",
    "Statistical and machine-learning models use sets of input variables (\"features\") to predict output variables of interest. Feature selection can be part of the model design process: selecting from a large set of potential features a highly informative subset simplifies the model and reduces dimensionality. \n",
    "\n",
    "For example, to build a model that predicts the ripening of hothouse tomatoes, Farmer MacDonald daily records the date, noontime temperature, daylight hours, degree of cloudiness, rationed water and fertilizer, soil humidity, electric-light hours, etc. These measurements constitute a list of potential features. After a growth cycle or two, her analysis reveals some correlations between these features and crop yields:\n",
    "\n",
    "* fertilizer seems a strong predictor of fruit size\n",
    "* cloudiness and daylight hours seem poor predictors of growth \n",
    "* water rations and soil humidity seem a highly correlated pair of strong predictors of crop rot   \n",
    "\n",
    "Farmer MacDonald suspects that her hothouse's use of electric light reduces dependency on seasons and sunlight. She can simplify her model by discarding date, daylight hours, and cloudiness. She can record just water ration or just soil humidity rather than both.\n",
    "\n",
    "For systems with large numbers of potential input information&mdash;for example, weather forecasting or image recognition&mdash;model complexity and required compute resources can be daunting. Feature selection can help make such models tractable. \n",
    "\n",
    "However, optimal feature selection can itself be a hard problem. This example introduces a powerful method of optimizing feature selection based on a complex probability calculation. This calculation is submitted for solution to a quantum computer. "
   ]
  },
  {
   "cell_type": "markdown",
   "metadata": {
    "id": "Hmz6Fp-wnwQ8"
   },
   "source": [
    "## Setup"
   ]
  },
  {
   "cell_type": "code",
   "execution_count": null,
   "metadata": {
    "id": "09fTRZZctNi_"
   },
   "outputs": [],
   "source": [
    "!pip install dimod\n",
    "!pip install dwave_networkx\n",
    "!pip install dwave-ocean-sdk\n",
    "!pip install -U requests"
   ]
  },
  {
   "cell_type": "code",
   "execution_count": null,
   "metadata": {
    "id": "HmAgSkH_mhb_"
   },
   "outputs": [],
   "source": [
    "import numpy as np\n",
    "import pandas as pd\n",
    "import matplotlib.pyplot as plt\n",
    "from matplotlib.gridspec import GridSpec\n",
    "import matplotlib.colors as colors\n",
    "import itertools\n",
    "from scipy.optimize import curve_fit\n",
    "from scipy.stats import linregress\n",
    "\n",
    "import dimod\n",
    "import dwave_networkx as dnx\n",
    "\n",
    "%matplotlib inline"
   ]
  },
  {
   "cell_type": "code",
   "execution_count": null,
   "metadata": {
    "id": "DZ6TkpcJ0P3q"
   },
   "outputs": [
    {
     "name": "stdout",
     "output_type": "stream",
     "text": [
      "Last updated: 2021-07-28 06:39:46\n",
      "\n",
      "Compiler    : GCC 7.5.0\n",
      "OS          : Linux\n",
      "Release     : 5.4.104+\n",
      "Machine     : x86_64\n",
      "Processor   : x86_64\n",
      "CPU cores   : 2\n",
      "Architecture: 64bit\n",
      "\n",
      "networkx      : 2.5.1\n",
      "sys           : 3.7.11 (default, Jul  3 2021, 18:01:19) \n",
      "[GCC 7.5.0]\n",
      "dwave_networkx: 0.8.8\n",
      "pandas        : 1.1.5\n",
      "matplotlib    : 3.2.2\n",
      "numpy         : 1.19.5\n",
      "dimod         : 0.9.15\n",
      "IPython       : 5.5.0\n",
      "\n"
     ]
    }
   ],
   "source": [
    "!pip install -q watermark\n",
    "%reload_ext watermark\n",
    "%watermark -m -iv -u -t -d"
   ]
  },
  {
   "cell_type": "markdown",
   "metadata": {
    "id": "kGV_5qPjmcFt"
   },
   "source": [
    "### Plot utils"
   ]
  },
  {
   "cell_type": "code",
   "execution_count": null,
   "metadata": {
    "id": "WHDD7sdrIVW1"
   },
   "outputs": [],
   "source": [
    "def sub_plot(size, small, big, x, subtitles, y, *y2):\n",
    "    gs = GridSpec(big + 1, small)\n",
    "    plt.figure(figsize=size)\n",
    "    for i in range(small):\n",
    "        ax = 'ax_' + str(i)\n",
    "        ax = plt.subplot(gs[0, i])\n",
    "        ax.set_title(subtitles[i])\n",
    "        if y2:\n",
    "            ax.plot(x, y2[0]['out'].values, 'ro')\n",
    "            ax.plot(x, y[y.columns[i]].values, 'bv')\n",
    "            ax.legend([\"out\", \"model\"])\n",
    "        else:\n",
    "            ax.plot(x, y[y.columns[i]].values)\n",
    "        \n",
    "    if big:\n",
    "        axy = plt.subplot(gs[1, :])\n",
    "        i += 1\n",
    "        axy.set_title(y.columns[i])\n",
    "        axy.plot(x, y[y.columns[i]].values, 'r') \n",
    "    return plt\n",
    "\n",
    "def plot_toy_signals(df):\n",
    "    sub_plot((10, 8), 3, True, np.linspace(-np.pi, np.pi, len(df)), df.columns, df)  \n",
    "    plt.suptitle(\"Toy Problem: System Inputs and Output\", fontsize=15)\n",
    "\n",
    "def plot_two_var_model(df1, df2):\n",
    "    subtitles = [\"Modeling %s and %s\" % f0f1 for f0f1 in df1.columns]\n",
    "    sub_plot((12, 4), 3, 0, np.linspace(-np.pi, np.pi, len(df1)), subtitles, df1, df2) \n",
    "    plt.suptitle(\"Toy Problem: Output Vesus Two-Signal Model\", fontsize=15)\n",
    "\n",
    "def plot_lingress(df, toy):\n",
    "    subtitles = [\"%s correlation coefficient: %.2f\" % var_rval for var_rval in df.columns]\n",
    "    sub_plot((12, 4), 3, 0, np.linspace(-np.pi, np.pi, len(df)), subtitles, df, toy) \n",
    "    plt.suptitle(\"Toy Problem: Linear Regression\", fontsize=15)\n",
    "\n",
    "# Warning since 0.24.2\n",
    "#def plot_se(data):\n",
    "#    pd.DataFrame(data).plot(x='Bins', y=['Maximum', 'Uniform', 'Exp', 'Vals'], style = [ 'ro','b', 'g', 'y'])\n",
    "#    plt.title(\"Shannon Entropy\")\n",
    "#    plt.ylabel(\"Entropy\")\n",
    "def plot_se(data):\n",
    "    df = pd.DataFrame(data)\n",
    "    plt.figure(figsize=(5, 4))\n",
    "    plt.plot(df[['Bins']], df[['Maximum']], 'ro', \n",
    "             df[['Bins']], df[['Uniform']], 'b', \n",
    "             df[['Bins']], df[['Exp']], 'g', \n",
    "             df[['Bins']], df[['Vals']], 'y')\n",
    "    plt.title(\"Shannon Entropy\")\n",
    "    plt.xlabel(\"Bins\")\n",
    "    plt.ylabel(\"Entropy\")\n",
    "    plt.legend(['Maximum', 'Uniform', 'Exp', 'Vals'])\n",
    "    \n",
    "def plot_mi(scores):\n",
    "    if len(scores) > 5:\n",
    "        plt.figure(figsize=(8, 5))\n",
    "    else:\n",
    "        plt.figure(figsize=(4, 4))\n",
    "    labels, values = zip(*sorted(scores.items(), key=lambda pair: pair[1], reverse=True))\n",
    "    plt.bar(np.arange(len(labels)), values)\n",
    "    plt.xticks(np.arange(len(labels)), labels, rotation=90)\n",
    "    plt.bar(np.arange(len(labels)), values)\n",
    "    plt.xticks(np.arange(len(labels)), labels, rotation=90)\n",
    "    plt.title(\"Mutual Information\")\n",
    "    plt.ylabel(\"MI with Variable of Interest\")\n",
    "\n",
    "def plot_solutions(result):\n",
    "    features = []\n",
    "    energies = []\n",
    "    for sample, energy in result.data(['sample', 'energy']):\n",
    "        energies.append(energy)\n",
    "        features.append([key for (key, value) in sample.items() if value == 1])\n",
    "    plt.figure(figsize=(4, 4))\n",
    "    plt.bar(np.arange(len(features)), energies)\n",
    "    plt.xticks(np.arange(len(features)), features, rotation=90)\n",
    "    plt.title(\"Toy Problem: Unconstrained Solution\")\n",
    "    plt.ylabel(\"Energy\")\n",
    "\n",
    "def plot_features(features, selected_features):\n",
    "    fig = plt.figure(figsize=(6, 6))\n",
    "    ax = fig.add_axes([0.1, 0.3, .9, .7])\n",
    "    ax.set_title(\"Best Feature Selection\")\n",
    "    ax.set_ylabel('Number of Selected Features')\n",
    "    ax.set_xticks(np.arange(len(features)))\n",
    "    ax.set_xticklabels(features, rotation=90)\n",
    "    ax.set_yticks(np.arange(len(features)))\n",
    "    ax.set_yticklabels(np.arange(1, len(features)+1))\n",
    "    # Set a grid on minor ticks\n",
    "    ax.set_xticks(np.arange(-0.5, len(features)), minor=True)\n",
    "    ax.set_yticks(np.arange(-0.5, len(features)), minor=True)\n",
    "    ax.grid(which='minor', color='black')\n",
    "    ax.imshow(selected_features, cmap=colors.ListedColormap(['white', 'red']))"
   ]
  },
  {
   "cell_type": "markdown",
   "metadata": {
    "id": "wavl5fgJknMx"
   },
   "source": [
    "## Illustrative Toy Problem\n",
    "This subsection illustrates the use of feature selection with a simple example: a toy system with a single output generated from three inputs. \n",
    "\n",
    "The model built to predict the system's output is even simpler: it uses just two of three possible features (inputs). You can expect it to perform better when the selected two features are more independent, assuming all three contribute somewhat commensurately to the system output (if an independent feature contributes less than the difference between two dependent ones, this might not be true). In the case of Farmer MacDonalds's tomatoes, a model using rationed water and fertilizer should perform better than one using rationed water and soil humidity. \n",
    "\n",
    "The code cell below uses the NumPy library to define three inputs, the first two of which are very similar: a sine, a noisy sine, and a linear function with added random noise. It defines an output that is a simple linear combination of these three inputs."
   ]
  },
  {
   "cell_type": "code",
   "execution_count": null,
   "metadata": {
    "id": "52mB5LVZknMz"
   },
   "outputs": [],
   "source": [
    "sig_len = 100\n",
    "# Three inputs: in1 & in2 are similar \n",
    "in1 = np.sin(np.linspace(-np.pi, np.pi, sig_len)).reshape(sig_len, 1)\n",
    "in2 = np.sin(np.linspace(-np.pi+0.1, np.pi+0.2, sig_len)).reshape(sig_len, 1) + 0.3*np.random.rand(sig_len, 1)\n",
    "in3 = np.linspace(-1, 1, sig_len).reshape(sig_len,1) + 2*np.random.rand(sig_len, 1)\n",
    "\n",
    "out = 2*in1 + 3*in2 + 6*in3"
   ]
  },
  {
   "cell_type": "markdown",
   "metadata": {
    "id": "5-Ae-NWdknM4"
   },
   "source": [
    "Plot the features and variable of interest (the output)."
   ]
  },
  {
   "cell_type": "code",
   "execution_count": null,
   "metadata": {
    "id": "fMywq4zNknM6"
   },
   "outputs": [
    {
     "data": {
      "image/png": "[encoded data removed]",
      "text/plain": [
       "<Figure size 720x576 with 4 Axes>"
      ]
     },
     "metadata": {
      "filenames": {
       "image/png": "/home/runner/work/reco-book/reco-book/_build/jupyter_execute/nbs/T968347_Feature_Selection_with_the_D_Wave_System_13_0.png"
      },
      "needs_background": "light",
      "tags": []
     },
     "output_type": "display_data"
    }
   ],
   "source": [
    "# Store problem in a pandas DataFrame for later use\n",
    "toy = pd.DataFrame(np.hstack((in1, in2, in3, out)), columns=[\"in1\", \"in2\", \"in3\", \"out\"])\n",
    "\n",
    "plot_toy_signals(toy)"
   ]
  },
  {
   "cell_type": "markdown",
   "metadata": {
    "id": "0LvU4rMjknM7"
   },
   "source": [
    "The `two_var_model` function in the next cell defines a linear model of two variables. "
   ]
  },
  {
   "cell_type": "code",
   "execution_count": null,
   "metadata": {
    "id": "pOV_r2xEknM8"
   },
   "outputs": [],
   "source": [
    "def two_var_model(in_tuple, a, b):\n",
    "    ina, inb = in_tuple\n",
    "    return a*ina + b*inb"
   ]
  },
  {
   "cell_type": "markdown",
   "metadata": {
    "id": "E0o1rbALknM-"
   },
   "source": [
    "Use the SciPy library's `curve_fit` function to try to predict the variable of interest from two of three features. The model with less-correlated features performs better."
   ]
  },
  {
   "cell_type": "code",
   "execution_count": null,
   "metadata": {
    "id": "VKg4PcZgknNA"
   },
   "outputs": [
    {
     "name": "stdout",
     "output_type": "stream",
     "text": [
      "Standard deviation for selection of features in1 and in2 is 3.2589.\n",
      "Standard deviation for selection of features in1 and in3 is 0.0746.\n",
      "Standard deviation for selection of features in2 and in3 is 0.0540.\n"
     ]
    },
    {
     "data": {
      "image/png": "[encoded data removed]",
      "text/plain": [
       "<Figure size 864x288 with 3 Axes>"
      ]
     },
     "metadata": {
      "filenames": {
       "image/png": "/home/runner/work/reco-book/reco-book/_build/jupyter_execute/nbs/T968347_Feature_Selection_with_the_D_Wave_System_17_1.png"
      },
      "needs_background": "light",
      "tags": []
     },
     "output_type": "display_data"
    }
   ],
   "source": [
    "model = []\n",
    "two_vars = []\n",
    "for f0, f1 in itertools.combinations(['in1', 'in2', 'in3'], 2):  \n",
    "    two_vars.append((f0, f1))\n",
    "    popt, pcov = curve_fit(two_var_model, (toy[f0].values, toy[f1].values), toy['out'].values)\n",
    "    model.append(two_var_model((toy[f0].values, toy[f1].values), popt[0], popt[1]).reshape(len(toy), 1))\n",
    "    print(\"Standard deviation for selection of features {} and {} is {:.4f}.\".format(f0, f1, max(np.sqrt(np.diag(pcov)))))\n",
    "model_df = pd.DataFrame(np.hstack(model), columns=two_vars)\n",
    "\n",
    "plot_two_var_model(model_df, toy)"
   ]
  },
  {
   "cell_type": "markdown",
   "metadata": {
    "id": "dtwbArYYknNC"
   },
   "source": [
    "The following section introduces a method for optimizing feature selection that can be useful in modeling complex systems. "
   ]
  },
  {
   "cell_type": "markdown",
   "metadata": {
    "id": "Vz1PSSkvknND"
   },
   "source": [
    "## Feature Selection by Mutual Information\n",
    "There are various methods for [feature selection](https://en.wikipedia.org/wiki/Feature_selection). If you are building a machine-learning model, for example, and have six potential features, you might naively consider training it first on each of the features by itself, then on all 15 combinations of subsets of two features, then 20 combinations of subsets of three features, and so on. However, statistical methods are more efficient.  \n",
    "\n",
    "One statistical criterion that can guide this selection is mutual information (MI). The following subsections explain information and MI with some simple examples.\n",
    "\n",
    "If you already understand MI and Shannon entropy, please skip ahead to section [Solving Feature Selection on a Quantum Computer](#Solving-Feature-Selection-on-a-Quantum-Computer) (and then from the menu bar, click the **Cell** drop-down menu's *Run All Above* option). "
   ]
  },
  {
   "cell_type": "markdown",
   "metadata": {
    "id": "EG37R8qXknNE"
   },
   "source": [
    "### Quantifying Information: Shannon Entropy\n",
    "[Shannon entropy](https://en.wiktionary.org/wiki/Shannon_entropy), $H(X)$,  mathematically quantifies the information in a signal:\n",
    "\n",
    "$H(X) = - \\sum_{x \\in X} p(x) \\log p(x)$\n",
    "\n",
    "where $p(x)$ represents the probability of an event's occurrence. The Shannon Entropy (SE) formula can be understood as weighing by an event's probability a value of $\\log \\frac{1}{p(x)}$ for the event, where the reciprocal is due to the minus sign. This value means that the less likely the occurrence of an event, the more information is attributed to it (intuitively, when a man bites a dog it's news). \n",
    "\n",
    "To calculate SE, the `prob` function defined below calculates probability for a dataset representing some variables (a training set in a machine learning context) by dividing it into bins as a histogram using the NumPy library's `histogramdd` function."
   ]
  },
  {
   "cell_type": "code",
   "execution_count": null,
   "metadata": {
    "id": "NrgieQdPknNF"
   },
   "outputs": [],
   "source": [
    "def prob(dataset, max_bins=10):\n",
    "    \"\"\"Joint probability distribution P(X) for the given data.\"\"\"\n",
    "\n",
    "    # bin by the number of different values per feature\n",
    "    num_rows, num_columns = dataset.shape\n",
    "    bins = [min(len(np.unique(dataset[:, ci])), max_bins) for ci in range(num_columns)]\n",
    "\n",
    "    freq, _ = np.histogramdd(dataset, bins)\n",
    "    p = freq / np.sum(freq)\n",
    "    return p\n",
    "\n",
    "def shannon_entropy(p):\n",
    "    \"\"\"Shannon entropy H(X) is the sum of P(X)log(P(X)) for probabilty distribution P(X).\"\"\"\n",
    "    p = p.flatten()\n",
    "    return -sum(pi*np.log2(pi) for pi in p if pi)"
   ]
  },
  {
   "cell_type": "markdown",
   "metadata": {
    "id": "ms9pqPUtknNG"
   },
   "source": [
    "#### Illustration of Shannon Entropy\n",
    "For an intuitive example of measuring SE, this subsection applies the `shannon_entropy` function to three signals with defined distributions:\n",
    "\n",
    "* Uniform: this distribution maximizes values of SE because all outcomes are equally likely, meaning every outcome is equally unpredictable. $H(X) = log(N)$ for uniform distribution, where $N$ is the number of possible outcomes, ${x_1, x_2, ...x_N}$. \n",
    "* Exponential: the steeper the curve, the more outcomes are in the \"tail\" part (have higher probability) with lower information value. \n",
    "* Binomial: the stronger this signal is biased to one outcome, the more predictable its values, the lower its information value. $H(X) = -p \\log(p) - (1-p) \\log(1-p)$ for binomial distribution; for $p = 0.1$, for example, $H(X) = 0.468$.  \n",
    "\n",
    "Define the three signals and plot the SE. The red dots show the maximal values of SE for different numbers of bits (Shannon developed the formula to calculate channel bandwidth, which for digital communications is measured in bits) or, as here, the bins into which the signals' possible values are divided.  "
   ]
  },
  {
   "cell_type": "code",
   "execution_count": null,
   "metadata": {
    "id": "qZV85nrJknNK"
   },
   "outputs": [
    {
     "data": {
      "image/png": "[encoded data removed]",
      "text/plain": [
       "<Figure size 360x288 with 1 Axes>"
      ]
     },
     "metadata": {
      "filenames": {
       "image/png": "/home/runner/work/reco-book/reco-book/_build/jupyter_execute/nbs/T968347_Feature_Selection_with_the_D_Wave_System_23_0.png"
      },
      "needs_background": "light",
      "tags": []
     },
     "output_type": "display_data"
    }
   ],
   "source": [
    "max_bins = 10\n",
    "\n",
    "# Signals with defined distributions\n",
    "x_uniform = np.random.uniform(0, 1, (1000, 1))\n",
    "x_exp = np.exp(-np.linspace(0, 10, 1000)/2).reshape(1000, 1)\n",
    "x_vals = np.random.choice([0, 1],(1000, 1), p=[0.1, 0.9])\n",
    "\n",
    "data = list()\n",
    "for bins in range(1, max_bins):\n",
    "    uniform_se = shannon_entropy(prob(x_uniform, bins))\n",
    "    exp_se = shannon_entropy(prob(x_exp, bins))\n",
    "    vals_se = shannon_entropy(prob(x_vals, bins))                               \n",
    "    data.append({'Bins': bins, 'Uniform': uniform_se, 'Maximum': np.log2(bins), 'Exp': exp_se, 'Vals': vals_se})\n",
    "\n",
    "plot_se(data)"
   ]
  },
  {
   "cell_type": "markdown",
   "metadata": {
    "id": "D4N6gRBIknNN"
   },
   "source": [
    "#### Conditional Shannon Entropy\n",
    "\n",
    "Conditional SE (CSE) measures the information in one signal, $X$, when the value of another signal, $Y$, is known: \n",
    "\n",
    "$\\begin{aligned} H(X|Y) \n",
    "& = H(X,Y)-H(Y) \\\\\n",
    "& = - \\sum_{x \\in X} p(x, y) \\log p(x, y) - H(Y) \\end{aligned}$\n",
    "\n",
    "where joint SE, $H(X,Y)$, measures the information in both signals together, with $p(x,y)$ being their joint probability. For example, knowing that it's winter reduces the information value of news that it is raining.  "
   ]
  },
  {
   "cell_type": "code",
   "execution_count": null,
   "metadata": {
    "id": "_o_p3NUJknNP"
   },
   "outputs": [],
   "source": [
    "def conditional_shannon_entropy(p, *conditional_indices):\n",
    "    \"\"\"Shannon entropy of P(X) conditional on variable j\"\"\"\n",
    "\n",
    "    axis = tuple(i for i in np.arange(len(p.shape)) if i not in conditional_indices)\n",
    "\n",
    "    return shannon_entropy(p) - shannon_entropy(np.sum(p, axis=axis))"
   ]
  },
  {
   "cell_type": "markdown",
   "metadata": {
    "id": "QX7dvSFxknNQ"
   },
   "source": [
    "#### Illustration of CSE \n",
    "Apply CSE to the toy problem. Because signals `in1` and `in2` are similar, knowing the value of one provides a good estimate of the other; in contrast, the value of signal `in3` is less good for estimating the first two.  "
   ]
  },
  {
   "cell_type": "code",
   "execution_count": null,
   "metadata": {
    "id": "EuF_fDlhknNR"
   },
   "outputs": [
    {
     "name": "stdout",
     "output_type": "stream",
     "text": [
      "H(in1) = 3.16\n",
      "H(in1|in3) = 2.31\n",
      "H(in1|in2) = 1.16\n"
     ]
    }
   ],
   "source": [
    "print(\"H(in1) = {:.2f}\".format(shannon_entropy(prob(toy[[\"in1\"]].values))))\n",
    "print(\"H(in1|in3) = {:.2f}\".format(conditional_shannon_entropy(prob(toy[[\"in1\", \"in3\"]].values), 1)))\n",
    "print(\"H(in1|in2) = {:.2f}\".format(conditional_shannon_entropy(prob(toy[[\"in1\", \"in2\"]].values), 1)))"
   ]
  },
  {
   "cell_type": "markdown",
   "metadata": {
    "id": "AASZe10IknNS"
   },
   "source": [
    "### Mutual Information\n",
    "[Mutual information](https://en.wikipedia.org/wiki/Mutual_information) between variables $X$ and $Y$ is defined as \n",
    "\n",
    "$I(X;Y)  = \\sum_{y \\in Y} \\sum_{x \\in X} p(x, y) \\log \\frac{p(x,y)}{p(x)p(y)}$\n",
    "\n",
    "where $p(x)$ and $p(y)$ are marginal probabilities of $X$ and $Y$, and $p(x,y)$ the joint probability. Equivalently, \n",
    "\n",
    "$I(X;Y)  = H(Y) - H(Y|X)$\n",
    "\n",
    "where $H(Y)$ is the SE of $Y$ and $H(Y|X)$ is the CSE of $Y$ conditional on $X$.\n",
    "\n",
    "Mutual information (MI) quantifies how much one knows about one random variable from observations of another. Intuitively, a model based on just one of a pair of features (e.g., farmer MacDonald's water rations and soil humidity) will better reproduce their combined contribution when MI between them is high. "
   ]
  },
  {
   "cell_type": "code",
   "execution_count": null,
   "metadata": {
    "id": "IREtaM1yknNU"
   },
   "outputs": [],
   "source": [
    "def mutual_information(p, j):\n",
    "    \"\"\"Mutual information between all variables and variable j\"\"\"\n",
    "    return shannon_entropy(np.sum(p, axis=j)) - conditional_shannon_entropy(p, j)"
   ]
  },
  {
   "cell_type": "markdown",
   "metadata": {
    "id": "dei7MqNSknNV"
   },
   "source": [
    "#### Mutual Information on the Toy Problem\n",
    "Calculate and plot MI between the output of the toy problem and its three input signals. This measures the suitability of each on its own as a feature in a model of the system, or how much each shapes the output.  "
   ]
  },
  {
   "cell_type": "code",
   "execution_count": null,
   "metadata": {
    "id": "SQb0uk5YknNW"
   },
   "outputs": [
    {
     "data": {
      "image/png": "[encoded data removed]",
      "text/plain": [
       "<Figure size 288x288 with 1 Axes>"
      ]
     },
     "metadata": {
      "filenames": {
       "image/png": "/home/runner/work/reco-book/reco-book/_build/jupyter_execute/nbs/T968347_Feature_Selection_with_the_D_Wave_System_31_0.png"
      },
      "needs_background": "light",
      "tags": []
     },
     "output_type": "display_data"
    }
   ],
   "source": [
    "mi = {}\n",
    "for column in toy.columns:\n",
    "    if column == 'out':\n",
    "        continue\n",
    "    mi[column] = mutual_information(prob(toy[['out', column]].values), 1)\n",
    "\n",
    "plot_mi(mi)"
   ]
  },
  {
   "cell_type": "markdown",
   "metadata": {
    "id": "-ul9ExQRknNY"
   },
   "source": [
    "The plot of input and output signals in the first section might give an impression that the toy model's output is closer to the two sine signals than to `in3`, but the linear regression below confirms the MI result. "
   ]
  },
  {
   "cell_type": "code",
   "execution_count": null,
   "metadata": {
    "id": "9Gsnqv50knNY"
   },
   "outputs": [
    {
     "data": {
      "image/png": "[encoded data removed]",
      "text/plain": [
       "<Figure size 864x288 with 3 Axes>"
      ]
     },
     "metadata": {
      "filenames": {
       "image/png": "/home/runner/work/reco-book/reco-book/_build/jupyter_execute/nbs/T968347_Feature_Selection_with_the_D_Wave_System_33_0.png"
      },
      "needs_background": "light",
      "tags": []
     },
     "output_type": "display_data"
    }
   ],
   "source": [
    "model = []\n",
    "var_rval = []\n",
    "for column in toy.columns:\n",
    "    if column == 'out':\n",
    "        continue\n",
    "    slope, intercept, rvalue, pvalue, stderr = linregress(toy[column].values, toy['out'].values)  \n",
    "    model.append((slope*toy[column].values + intercept).reshape(len(toy), 1))\n",
    "    var_rval.append((column, rvalue))\n",
    "\n",
    "plot_lingress(pd.DataFrame(np.hstack(model), columns=var_rval), toy)"
   ]
  },
  {
   "cell_type": "markdown",
   "metadata": {
    "id": "4piEKRAdknNb"
   },
   "source": [
    "The result should in fact be expected given an output defined as $out = 2 \\times in_1 + 3 \\times in_2 + 6 \\times in_3$ with the sixfold multiplier on $in_3$ greater than the sum of multipliers on the other signals, all three of which have an amplitude of 1.  "
   ]
  },
  {
   "cell_type": "markdown",
   "metadata": {
    "id": "pwjcKefVknNc"
   },
   "source": [
    "#### Conditional Mutual Information\n",
    "\n",
    "Conditional mutual information (CMI) between a variable of interest, $X$, and a feature, $Y$, given the selection of another feature, $Z$, is given by\n",
    "\n",
    "$I(X;Y|Z) = H(X|Z)-H(X|Y,Z)$\n",
    "\n",
    "where $H(X|Z)$ is the CSE of $X$ conditional on $Z$ and $H(X|Y, Z)$ is the CSE of $X$ conditional on both $Y$ and $Z$.\n",
    "\n",
    "In this code cell, because marginalization over $j$ removes a dimension, any conditional indices pointing to subsequent dimensions are decremented by 1."
   ]
  },
  {
   "cell_type": "code",
   "execution_count": null,
   "metadata": {
    "id": "gc1u3KxyknNd"
   },
   "outputs": [],
   "source": [
    "def conditional_mutual_information(p, j, *conditional_indices):\n",
    "    \"\"\"Mutual information between variables X and variable Y conditional on variable Z.\"\"\"\n",
    "    \n",
    "    marginal_conditional_indices = [i-1 if i > j else i for i in conditional_indices]\n",
    "\n",
    "    return (conditional_shannon_entropy(np.sum(p, axis=j), *marginal_conditional_indices)\n",
    "            - conditional_shannon_entropy(p, j, *conditional_indices))"
   ]
  },
  {
   "cell_type": "markdown",
   "metadata": {
    "id": "l64-7EBSknNd"
   },
   "source": [
    "Apply `conditional_mutual_information` to the toy problem to find CMI between `out` and either `in2` or `in3`, conditional on `in1`."
   ]
  },
  {
   "cell_type": "code",
   "execution_count": null,
   "metadata": {
    "id": "BrVGxA58knNe"
   },
   "outputs": [
    {
     "name": "stdout",
     "output_type": "stream",
     "text": [
      "I(out;in2|in1) = 0.59\n",
      "I(out;in3|in1) = 1.73\n"
     ]
    }
   ],
   "source": [
    "print(\"I(out;in2|in1) = {:.2f}\".format(conditional_mutual_information(prob(toy[['out', 'in2', 'in1']].values), 1, 2)))\n",
    "print(\"I(out;in3|in1) = {:.2f}\".format(conditional_mutual_information(prob(toy[['out', 'in3', 'in1']].values), 1, 2)))"
   ]
  },
  {
   "cell_type": "markdown",
   "metadata": {
    "id": "WF1l1EiMknNe"
   },
   "source": [
    "Given the sine signal, `in1`, if you try to predict the output from one of the remaining signals, you find that the linear function, `in3` contributes more information than the noisy sine, `in2`.\n",
    "\n",
    "Ideally, to select a model's $k$ most relevant of $n$ features, you could maximize $I({X_k}; Y)$, the MI between a set of $k$ features, $X_k$, and variable of interest, $Y$. This is a hard calculation because $n \\choose k$ grows rapidly in real-world problems."
   ]
  },
  {
   "cell_type": "markdown",
   "metadata": {
    "id": "7XJgFh1IknNe"
   },
   "source": [
    "## Solving Feature Selection on a Quantum Computer\n",
    "There are different methods of approximating the hard calculation of optimally selecting $n \\choose k$ features to maximize MI. The approach followed here assumes conditional independence of features and limits CMI calculations to permutations of three features. The optimal set of features, $S$, is then approximated by:\n",
    "\n",
    "$\\arg \\max_S \\sum_{i \\in S} \\left \\{ I(X_i;Y) + \\sum_{j \\in S, j \\ne i} I(X_j;Y |X_i) \\right \\}$\n",
    "\n",
    "\n",
    "The left-hand component, $I(X_i;Y)$, represents MI between the variable of interest and a particular feature; maximizing selects features that best predict the variable of interest. The right-hand component, $I(X_j;Y |X_i)$, represents conditional MI between the variable of interest and a feature given the prior selection of another feature; maximizing selects features that complement information about the variable of interest rather than provide redundant information.\n",
    "\n",
    "This approximation is still a hard calculation. The following subsection demonstrates a method for formulating it for solution on the D-Wave quantum computer. The method is based on the 2014 paper, [Effective Global Approaches for Mutual Information Based Feature Selection](https://dl.acm.org/citation.cfm?id=2623611), by Nguyen, Chan, Romano, and Bailey published in the Proceedings of the 20th ACM SIGKDD international conference on knowledge discovery and data mining."
   ]
  },
  {
   "cell_type": "markdown",
   "metadata": {
    "id": "arTP51R3knNf"
   },
   "source": [
    "## MIQUBO: QUBO Representation of Feature Selection\n",
    "D-Wave systems solve binary quadratic models (BQM)&mdash;the Ising model traditionally used in statistical mechanics and its computer-science equivalent, the quadratic unconstrained binary optimization (QUBO) problem. Given $N$ variables $x_1,...,x_N$, where each variable $x_i$ can have binary values $0$ or $1$, the system finds assignments of values that minimize,\n",
    "    \n",
    "$\\sum_i^N q_ix_i + \\sum_{i<j}^N q_{i,j}x_i  x_j$,\n",
    "    \n",
    "where $q_i$ and $q_{i,j}$ are configurable (linear and quadratic) coefficients. To formulate a problem for the D-Wave system is to program $q_i$ and $q_{i,j}$ so that assignments of $x_1,...,x_N$ also represent solutions to the problem.\n",
    "\n",
    "For feature selection, the Mutual Information QUBO (MIQUBO) method formulates a QUBO based on the approximation above for $I({X_k}; Y)$, which can be submitted to the D-Wave quantum computer for solution.\n",
    "\n",
    "The reduction of scope to permutations of three variables in this approximate formulation for MI-based optimal feature selection makes it a natural fit for reformulation as a QUBO: \n",
    "\n",
    "<table style=\"width:75%\">\n",
    "  <tr>\n",
    "    <th width=\"10%\"></th>\n",
    "    <th width=\"35%\">Formula</th>\n",
    "    <th width=\"10%\">Optimization</th> \n",
    "    <th width=\"10%\">Linear Terms</th>\n",
    "    <th width=\"15%\">Quadratic Terms</th>\n",
    "  </tr>\n",
    "  <tr>\n",
    "    <td><b>Feature Selection</b></td> \n",
    "    <td>$\\sum_{i \\in S} \\left \\{ I(X_i;Y) + \\sum_{j \\in S, j \\ne i} I(X_j;Y |X_i) \\right \\}$</td>\n",
    "    <td>Maximize</td> \n",
    "    <td>$I(X_i;Y)$</td>\n",
    "    <td>$I(X_j;Y |X_i)$</td>\n",
    "  </tr>\n",
    "  <tr>\n",
    "    <td><b>QUBO</b></td>\n",
    "    <td>$\\sum_i^N q_ix_i + \\sum_{i < j}^N q_{i,j}x_i  x_j$</td>\n",
    "    <td>Minimize</td> \n",
    "    <td>$q_ix_i$</td>\n",
    "    <td>$q_{i,j}x_ix_j$</td>\n",
    "  </tr>\n",
    "</table>\n",
    "\n",
    "You can represent each choice of $n \\choose k$ features as the value of solution $x_1,...,x_N$ by encoding $x_i=1$ if feature $X_i$ should be selected and $x_i=0$ if not. With solutions encoded this way, you can represent the QUBO in matrix format, $\\mathbf{x}^T \\mathbf{Q x}$, where $\\mathbf Q$ is an $n$ x $n$ matrix and $\\mathbf{x}$ is an $n$ x $1$ matrix (a vector) that should have $k$ ones representing the selected features. \n",
    "\n",
    "To map the feature-selection formula to a QUBO, set the elements of $\\mathbf Q$ such that\n",
    "\n",
    " * diagonal elements (linear coefficients) represent MI: $Q_{ii} \\leftarrow -I(X_i;Y)$ \n",
    " * non-diagonal elements (quadratic elements) represent CMI: $Q_{ij} \\leftarrow -I(X_j;Y |X_i)$\n",
    "\n",
    "These QUBO terms are negative because the quantum computer seeks to minimize the programmed problem while the feature-selection formula maximizes. The following subsection codes this and then completes the formulation by adding the $n \\choose k$ constraint to the QUBO.  "
   ]
  },
  {
   "cell_type": "markdown",
   "metadata": {
    "id": "9gBiipA9knNf"
   },
   "source": [
    "### MIQUBO on the Toy Problem\n",
    "This subsection applies the MIQUBO formulation to the toy problem by configuring the QUBO in three parts: (1) linear biases that maximize MI between the variable of interest and each feature (2) quadratic biases that maximize CMI between the variable of interest and each feature, given the prior choice of another feature (3) selection of just $k$ features.\n",
    "\n",
    "Create a BQM and set the linear coefficients as the MI between `out` and each potential feature. "
   ]
  },
  {
   "cell_type": "code",
   "execution_count": null,
   "metadata": {
    "id": "P9h6GX1aknNg"
   },
   "outputs": [
    {
     "name": "stdout",
     "output_type": "stream",
     "text": [
      "in1: -1.147\n",
      "in2: -1.269\n",
      "in3: -1.696\n"
     ]
    }
   ],
   "source": [
    "bqm = dimod.BinaryQuadraticModel.empty(dimod.BINARY)\n",
    "\n",
    "for column in toy.columns:\n",
    "\n",
    "    if column == 'out':\n",
    "        continue\n",
    "\n",
    "    mi = mutual_information(prob(toy[['out', column]].values), 1)\n",
    "    bqm.add_variable(column, -mi)\n",
    "\n",
    "for item in bqm.linear.items():\n",
    "    print(\"{}: {:.3f}\".format(item[0], item[1]))"
   ]
  },
  {
   "cell_type": "markdown",
   "metadata": {
    "id": "YOg3Xp3kknNg"
   },
   "source": [
    "Set the quadratic coefficients as the MI between `out` and each potential feature conditional on the other features."
   ]
  },
  {
   "cell_type": "code",
   "execution_count": null,
   "metadata": {
    "id": "vzeTPQMhknNg"
   },
   "outputs": [
    {
     "name": "stdout",
     "output_type": "stream",
     "text": [
      "('in1', 'in2'): -0.326\n",
      "('in1', 'in3'): -0.899\n",
      "('in2', 'in3'): -1.000\n"
     ]
    }
   ],
   "source": [
    "for f0, f1 in itertools.combinations(['in1', 'in2', 'in3'], 2):\n",
    "    cmi_01 = conditional_mutual_information(prob(toy[['out', f0, f1]].values), 1, 2)\n",
    "    cmi_10 = conditional_mutual_information(prob(toy[['out', f1, f0]].values), 1, 2)\n",
    "    bqm.add_interaction(f0, f1, -cmi_01)\n",
    "    bqm.add_interaction(f1, f0, -cmi_10)\n",
    "\n",
    "bqm.normalize()     # scale the BQM to (-1, 1) biases\n",
    "\n",
    "for item in bqm.quadratic.items():\n",
    "    print(\"{}: {:.3f}\".format(item[0], item[1]))"
   ]
  },
  {
   "cell_type": "markdown",
   "metadata": {
    "id": "AQUf9xn6knNi"
   },
   "source": [
    "Use Ocean software's [dimod](https://docs.ocean.dwavesys.com/en/stable/docs_dimod/sdk_index.html) [ExactSolver()](https://docs.ocean.dwavesys.com/en/stable/docs_dimod/reference/sampler_composites/samplers.html) to find an exact solution of the BQM, which currently represents a minimization of MI and CMI, and plot the results."
   ]
  },
  {
   "cell_type": "code",
   "execution_count": null,
   "metadata": {
    "id": "dfXEEj2WknNi"
   },
   "outputs": [
    {
     "data": {
      "image/png": "[encoded data removed]",
      "text/plain": [
       "<Figure size 288x288 with 1 Axes>"
      ]
     },
     "metadata": {
      "filenames": {
       "image/png": "/home/runner/work/reco-book/reco-book/_build/jupyter_execute/nbs/T968347_Feature_Selection_with_the_D_Wave_System_47_0.png"
      },
      "needs_background": "light",
      "tags": []
     },
     "output_type": "display_data"
    }
   ],
   "source": [
    "sampler = dimod.ExactSolver()\n",
    "\n",
    "result = sampler.sample(bqm)\n",
    "\n",
    "plot_solutions(result)"
   ]
  },
  {
   "cell_type": "markdown",
   "metadata": {
    "id": "DAzt86B6knNj"
   },
   "source": [
    "Unsurprisingly, the best solution (lowest-energy solution for the minimized QUBO) employs all three input signals because the current QUBO mapping does not constrain the number of selected features. In those solutions where only two are selected, models that select `in3` are better than the one that selects just `in1` and `in2`."
   ]
  },
  {
   "cell_type": "markdown",
   "metadata": {
    "id": "4tkDPEhOknNj"
   },
   "source": [
    "### Penalizing Non-k Selections\n",
    "How do you program  on the quantum computer a constraint that exactly $k$ features be selected? By penalizing solutions that select greater or fewer than $k$ features. If you add \n",
    "\n",
    "$P = \\alpha (\\sum_{i=1}^n x_i - k)^2$ \n",
    "\n",
    "to the QUBO, where penalty $P$ is positive whenever the number of $1$s in solution $x_1,...,x_N$ is not $k$, a large enough $\\alpha$ can ensure that such solutions are no longer minima of the problem.  \n",
    "\n",
    "Set set a constraint that $k=2$ with a penalty amplitude of $4$ (you can rerun this cell with varying values of `strength` to see the penalty range from ineffective to overshadowing the problem) and plot the solution. "
   ]
  },
  {
   "cell_type": "code",
   "execution_count": null,
   "metadata": {
    "id": "wHumEN5OknNk"
   },
   "outputs": [
    {
     "data": {
      "image/png": "[encoded data removed]",
      "text/plain": [
       "<Figure size 288x288 with 1 Axes>"
      ]
     },
     "metadata": {
      "filenames": {
       "image/png": "/home/runner/work/reco-book/reco-book/_build/jupyter_execute/nbs/T968347_Feature_Selection_with_the_D_Wave_System_50_0.png"
      },
      "needs_background": "light",
      "tags": []
     },
     "output_type": "display_data"
    }
   ],
   "source": [
    "k = 2\n",
    "bqm.update(dimod.generators.combinations(bqm.variables, k, strength=4))\n",
    "\n",
    "result = sampler.sample(bqm)\n",
    "\n",
    "plot_solutions(result)"
   ]
  },
  {
   "cell_type": "markdown",
   "metadata": {
    "id": "XKGWmeiPknNl"
   },
   "source": [
    "## Example Application: Predicting Survival of Titanic Passengers\n",
    "This example illustrates the MIQUBO method by finding an optimal feature set for predicting survival of Titanic passengers. It uses records provided in file `formatted_titanic.csv`, which is a feature-engineered version of a public database of passenger information recorded by the ship's crew. In addition to a column showing survival for each passenger, its columns record gender, title, class, port of embarkation, etc. \n",
    "\n",
    "The next cell reads the file into a pandas DataFrame. "
   ]
  },
  {
   "cell_type": "code",
   "execution_count": null,
   "metadata": {
    "id": "y9BZrRv6knNl"
   },
   "outputs": [
    {
     "data": {
      "text/html": [
       "<div>\n",
       "<style scoped>\n",
       "    .dataframe tbody tr th:only-of-type {\n",
       "        vertical-align: middle;\n",
       "    }\n",
       "\n",
       "    .dataframe tbody tr th {\n",
       "        vertical-align: top;\n",
       "    }\n",
       "\n",
       "    .dataframe thead th {\n",
       "        text-align: right;\n",
       "    }\n",
       "</style>\n",
       "<table border=\"1\" class=\"dataframe\">\n",
       "  <thead>\n",
       "    <tr style=\"text-align: right;\">\n",
       "      <th></th>\n",
       "      <th>pclass</th>\n",
       "      <th>survived</th>\n",
       "      <th>sex</th>\n",
       "      <th>age</th>\n",
       "      <th>fare</th>\n",
       "      <th>cabin</th>\n",
       "      <th>miss</th>\n",
       "      <th>master</th>\n",
       "      <th>mr</th>\n",
       "      <th>mrs</th>\n",
       "      <th>rare</th>\n",
       "      <th>alone</th>\n",
       "      <th>embarked port S</th>\n",
       "      <th>embarked port C</th>\n",
       "      <th>embarked port Q</th>\n",
       "    </tr>\n",
       "  </thead>\n",
       "  <tbody>\n",
       "    <tr>\n",
       "      <th>0</th>\n",
       "      <td>1</td>\n",
       "      <td>1</td>\n",
       "      <td>1</td>\n",
       "      <td>2</td>\n",
       "      <td>2</td>\n",
       "      <td>True</td>\n",
       "      <td>True</td>\n",
       "      <td>False</td>\n",
       "      <td>False</td>\n",
       "      <td>False</td>\n",
       "      <td>False</td>\n",
       "      <td>True</td>\n",
       "      <td>True</td>\n",
       "      <td>False</td>\n",
       "      <td>False</td>\n",
       "    </tr>\n",
       "    <tr>\n",
       "      <th>1</th>\n",
       "      <td>1</td>\n",
       "      <td>1</td>\n",
       "      <td>0</td>\n",
       "      <td>0</td>\n",
       "      <td>1</td>\n",
       "      <td>True</td>\n",
       "      <td>False</td>\n",
       "      <td>True</td>\n",
       "      <td>False</td>\n",
       "      <td>False</td>\n",
       "      <td>False</td>\n",
       "      <td>False</td>\n",
       "      <td>True</td>\n",
       "      <td>False</td>\n",
       "      <td>False</td>\n",
       "    </tr>\n",
       "    <tr>\n",
       "      <th>2</th>\n",
       "      <td>1</td>\n",
       "      <td>0</td>\n",
       "      <td>1</td>\n",
       "      <td>0</td>\n",
       "      <td>1</td>\n",
       "      <td>True</td>\n",
       "      <td>True</td>\n",
       "      <td>False</td>\n",
       "      <td>False</td>\n",
       "      <td>False</td>\n",
       "      <td>False</td>\n",
       "      <td>False</td>\n",
       "      <td>True</td>\n",
       "      <td>False</td>\n",
       "      <td>False</td>\n",
       "    </tr>\n",
       "    <tr>\n",
       "      <th>3</th>\n",
       "      <td>1</td>\n",
       "      <td>0</td>\n",
       "      <td>0</td>\n",
       "      <td>2</td>\n",
       "      <td>1</td>\n",
       "      <td>True</td>\n",
       "      <td>False</td>\n",
       "      <td>False</td>\n",
       "      <td>True</td>\n",
       "      <td>False</td>\n",
       "      <td>False</td>\n",
       "      <td>False</td>\n",
       "      <td>True</td>\n",
       "      <td>False</td>\n",
       "      <td>False</td>\n",
       "    </tr>\n",
       "    <tr>\n",
       "      <th>4</th>\n",
       "      <td>1</td>\n",
       "      <td>0</td>\n",
       "      <td>1</td>\n",
       "      <td>2</td>\n",
       "      <td>1</td>\n",
       "      <td>True</td>\n",
       "      <td>False</td>\n",
       "      <td>False</td>\n",
       "      <td>False</td>\n",
       "      <td>True</td>\n",
       "      <td>False</td>\n",
       "      <td>False</td>\n",
       "      <td>True</td>\n",
       "      <td>False</td>\n",
       "      <td>False</td>\n",
       "    </tr>\n",
       "  </tbody>\n",
       "</table>\n",
       "</div>"
      ],
      "text/plain": [
       "   pclass  survived  sex  ...  embarked port S  embarked port C  embarked port Q\n",
       "0       1         1    1  ...             True            False            False\n",
       "1       1         1    0  ...             True            False            False\n",
       "2       1         0    1  ...             True            False            False\n",
       "3       1         0    0  ...             True            False            False\n",
       "4       1         0    1  ...             True            False            False\n",
       "\n",
       "[5 rows x 15 columns]"
      ]
     },
     "execution_count": 20,
     "metadata": {
      "tags": []
     },
     "output_type": "execute_result"
    }
   ],
   "source": [
    "titanic = pd.read_csv(\"https://github.com/sparsh-ai/dwave-notebooks/raw/master/demos/feature-selection/data/formatted_titanic.csv\")\n",
    "titanic.head()"
   ]
  },
  {
   "cell_type": "markdown",
   "metadata": {
    "id": "wJh4U80WknNm"
   },
   "source": [
    "Plot a ranking of MI between each feature and the variable of interest (survival)."
   ]
  },
  {
   "cell_type": "code",
   "execution_count": null,
   "metadata": {
    "id": "tDhUqC3OknNm"
   },
   "outputs": [
    {
     "data": {
      "image/png": "[encoded data removed]",
      "text/plain": [
       "<Figure size 576x360 with 1 Axes>"
      ]
     },
     "metadata": {
      "filenames": {
       "image/png": "/home/runner/work/reco-book/reco-book/_build/jupyter_execute/nbs/T968347_Feature_Selection_with_the_D_Wave_System_54_0.png"
      },
      "needs_background": "light",
      "tags": []
     },
     "output_type": "display_data"
    }
   ],
   "source": [
    "mi = {}\n",
    "features = list(set(titanic.columns).difference(('survived',)))\n",
    "\n",
    "for feature in features:\n",
    "    mi[feature] = mutual_information(prob(titanic[['survived', feature]].values), 1)\n",
    "\n",
    "plot_mi(mi)"
   ]
  },
  {
   "cell_type": "markdown",
   "metadata": {
    "id": "lJ7M1vqmknNn"
   },
   "source": [
    "### Exact Versus Good Solutions: a Note on this Dataset\n",
    "This example demonstrates a technique for solving a type of optimization problem on a quantum computer. The Titanic dataset provides a familiar, intuitive example available in the public domain. In itself, however, it is not a good fit for solving by sampling. \n",
    "\n",
    "The next cell plots the values of MI and CMI for all features and three-variable permutations. Notice the clustering of values in tight ranges of values."
   ]
  },
  {
   "cell_type": "code",
   "execution_count": null,
   "metadata": {
    "id": "sPmoFldlknNn"
   },
   "outputs": [
    {
     "data": {
      "text/plain": [
       "<matplotlib.legend.Legend at 0x7f5ea1c128d0>"
      ]
     },
     "execution_count": 22,
     "metadata": {
      "tags": []
     },
     "output_type": "execute_result"
    },
    {
     "data": {
      "image/png": "[encoded data removed]",
      "text/plain": [
       "<Figure size 432x288 with 1 Axes>"
      ]
     },
     "metadata": {
      "filenames": {
       "image/png": "/home/runner/work/reco-book/reco-book/_build/jupyter_execute/nbs/T968347_Feature_Selection_with_the_D_Wave_System_56_1.png"
      },
      "needs_background": "light",
      "tags": []
     },
     "output_type": "display_data"
    }
   ],
   "source": [
    "plt.plot(range(len(features)), [mutual_information(prob(titanic[['survived', feature]].values), 1) for feature in features], 'bo')\n",
    "\n",
    "plt.plot(range(len([x for x in itertools.combinations(features, 2)])), [conditional_mutual_information(prob(titanic[['survived', f0, f1]].values), 1, 2) for f0, f1 in itertools.combinations(features, 2)], 'go')\n",
    "plt.plot(range(len([x for x in itertools.combinations(features, 2)])), [conditional_mutual_information(prob(titanic[['survived', f1, f0]].values), 1, 2) for f0, f1 in itertools.combinations(features, 2)], 'go')\n",
    "\n",
    "plt.title(\"Titanic MI & CMI Values\")\n",
    "plt.ylabel(\"Shannon Entropy\")\n",
    "plt.xlabel(\"Variable\")\n",
    "plt.legend([\"MI\", \"CMI\"])"
   ]
  },
  {
   "cell_type": "markdown",
   "metadata": {
    "id": "S_naMXVjknNo"
   },
   "source": [
    "The plot below, obtained by exploiting the problem's small size and brute-force solving for all possible values, shows the solution space for a couple of choices of $k$. The left side shows the resulting energy for all possible assignments of values to $x_1...x_N$ (yellow) and those that satisfy the requirement of $n \\choose k$ (blue); the right side focuses on only those that satisfy $n \\choose k$ and highlights the optimal solution (red)."
   ]
  },
  {
   "cell_type": "markdown",
   "metadata": {
    "id": "xjA1IS5RIzrK"
   },
   "source": [
    "<img src='https://www.notion.so/image/https%3A%2F%2Fs3-us-west-2.amazonaws.com%2Fsecure.notion-static.com%2F8abbf7d4-974f-4f74-bcd4-8017bdb08ac7%2FUntitled.png?table=block&id=aa01cbe7-f27e-49ec-8753-ab0621793715&spaceId=63b72b1f-0e90-4ab8-a6df-a060a6545a56&width=2000&userId=21ec183f-f0be-4b6b-9b3e-6f0d4e5c5469&cache=v2'>"
   ]
  },
  {
   "cell_type": "markdown",
   "metadata": {
    "id": "hK5SKMR3knNp"
   },
   "source": [
    "Notice the high number of valid solutions that form a small cluster (the energy difference between the five best solutions in the depicted graph is in the fourth decimal place). The quantum computer's strength is in quickly finding diverse good solutions to hard problems, it is not best employed as a double-precision numerical calculator. Run naively on this dataset, it finds numerous good solutions but is unlikely to find the exact optimal solution.\n",
    "\n",
    "There are many techniques for reformulating problems for the D-Wave system that can improve performance on various metrics, some of which can help narrow down good solutions to closer approach an optimal solution. These are out of scope for this example. For more information, see the [D-Wave Problem-Solving Handbook](https://docs.dwavesys.com/docs/latest/doc_handbook.html), and examples in the [Ocean software documentation](https://docs.ocean.dwavesys.com/en/stable/index.html).\n",
    "\n",
    "The remainder of this section solves the problem for just the highest-scoring features."
   ]
  },
  {
   "cell_type": "markdown",
   "metadata": {
    "id": "a7GkBZzSknNt"
   },
   "source": [
    "### Building the MI-Based BQM\n",
    "Select 8 features with the top MI ranking found above. "
   ]
  },
  {
   "cell_type": "code",
   "execution_count": null,
   "metadata": {
    "id": "c_49x3KDknNv"
   },
   "outputs": [
    {
     "name": "stdout",
     "output_type": "stream",
     "text": [
      "Submitting for 8 features: ['cabin', 'embarked port C', 'sex', 'alone', 'mrs', 'pclass', 'miss', 'mr']\n"
     ]
    }
   ],
   "source": [
    "keep = 8\n",
    "\n",
    "sorted_mi = sorted(mi.items(), key=lambda pair: pair[1], reverse=True)\n",
    "titanic = titanic[[column[0] for column in sorted_mi[0:keep]] + [\"survived\"]]\n",
    "features = list(set(titanic.columns).difference(('survived',)))\n",
    "\n",
    "print(\"Submitting for {} features: {}\".format(keep, features))"
   ]
  },
  {
   "cell_type": "markdown",
   "metadata": {
    "id": "AV7dwOvkknNw"
   },
   "source": [
    "Calculate a BQM based on the problem's MI and CMI as done previously for the toy problem."
   ]
  },
  {
   "cell_type": "code",
   "execution_count": null,
   "metadata": {
    "cellView": "form",
    "id": "YXi85PmSuR4u"
   },
   "outputs": [],
   "source": [
    "#@markdown draw helper\n",
    "import matplotlib.pyplot as plt\n",
    "import matplotlib.colors as colors\n",
    "import numpy as np\n",
    "import networkx as nx\n",
    "import sys\n",
    "\n",
    "from bokeh.io import show, output_notebook\n",
    "from bokeh.models import Plot, Range1d, MultiLine, Circle, Label, LabelSet, ColumnDataSource\n",
    "from bokeh.models import WheelZoomTool, ZoomInTool, ZoomOutTool, ResetTool, PanTool\n",
    "from bokeh.plotting import from_networkx\n",
    "\n",
    "me = sys.modules[__name__]\n",
    "if not hasattr(me, 'bokeh_loaded'):\n",
    "    output_notebook()\n",
    "    bokeh_loaded = True\n",
    "\n",
    "def plot_bqm(bqm):\n",
    "    \"\"\"Plot binary quadratic model as a labeled graph.\"\"\"\n",
    "    g = nx.Graph()\n",
    "    g.add_nodes_from(bqm.variables)\n",
    "    g.add_edges_from(bqm.quadratic)      \n",
    "    plot_size = 400\n",
    "    text_size = '16pt'\n",
    "     \n",
    "    graph = from_networkx(g, nx.spring_layout)\n",
    "    graph.node_renderer.glyph = Circle(size=35, fill_color='purple', fill_alpha=0.25)\n",
    "    graph.edge_renderer.glyph = MultiLine(line_alpha=0.8, line_width=2)\n",
    " \n",
    "    pos = nx.spring_layout(g)\n",
    "    data = {'xpos': [], 'ypos': [], 'label': []}\n",
    "    for label, loc in pos.items():\n",
    "        data['label'].append(label)\n",
    "        data['xpos'].append(loc[0])\n",
    "        data['ypos'].append(loc[1])\n",
    "    labels = LabelSet(x='xpos', y='ypos', text='label', level='glyph', \n",
    "                      source=ColumnDataSource(data), x_offset=-1, y_offset=-1, \n",
    "                      text_color=\"blue\", text_font_size='14pt', text_font_style='bold')    \n",
    "    \n",
    "    plot = Plot(plot_width=plot_size, plot_height=plot_size, x_range=Range1d(-1.3, 1.3), y_range=Range1d(-1.3, 1.3))\n",
    "    plot.title.text = \"BQM with {} nodes and {} edges\".format(len(bqm), len(bqm.quadratic))\n",
    "    \n",
    "    tools = [WheelZoomTool(), ZoomInTool(), ZoomOutTool(), PanTool(), ResetTool()]\n",
    "    plot.add_tools(*tools)\n",
    "    plot.toolbar.active_scroll = tools[0]\n",
    "    \n",
    "    plot.renderers.append(graph)\n",
    "    plot.add_layout(labels)\n",
    "    plot.background_fill_color = \"lightyellow\"\n",
    "        \n",
    "    show(plot)\n",
    "    \n",
    "def plot_feature_selection(features, selected_features):\n",
    "    fig = plt.figure(figsize=(6, 6))\n",
    "    ax = fig.add_axes([0.1, 0.3, .9, .7])\n",
    "    ax.set_title(\"Best Feature Selection\")\n",
    "    ax.set_ylabel('Number of Selected Features')\n",
    "    ax.set_xticks(np.arange(len(features)))\n",
    "    ax.set_xticklabels(features, rotation=90)\n",
    "    ax.set_yticks(np.arange(len(features)))\n",
    "    ax.set_yticklabels(np.arange(1, len(features)+1))\n",
    "    # Set a grid on minor ticks\n",
    "    ax.set_xticks(np.arange(-0.5, len(features)), minor=True)\n",
    "    ax.set_yticks(np.arange(-0.5, len(features)), minor=True)\n",
    "    ax.grid(which='minor', color='black')\n",
    "    ax.imshow(selected_features, cmap=colors.ListedColormap(['white', 'red']))"
   ]
  },
  {
   "cell_type": "code",
   "execution_count": null,
   "metadata": {
    "id": "czXzPT9TknNy"
   },
   "outputs": [
    {
     "data": {
      "application/javascript": [
       "\n",
       "(function(root) {\n",
       "  function now() {\n",
       "    return new Date();\n",
       "  }\n",
       "\n",
       "  var force = true;\n",
       "\n",
       "  if (typeof root._bokeh_onload_callbacks === \"undefined\" || force === true) {\n",
       "    root._bokeh_onload_callbacks = [];\n",
       "    root._bokeh_is_loading = undefined;\n",
       "  }\n",
       "\n",
       "  var JS_MIME_TYPE = 'application/javascript';\n",
       "  var HTML_MIME_TYPE = 'text/html';\n",
       "  var EXEC_MIME_TYPE = 'application/vnd.bokehjs_exec.v0+json';\n",
       "  var CLASS_NAME = 'output_bokeh rendered_html';\n",
       "\n",
       "  /**\n",
       "   * Render data to the DOM node\n",
       "   */\n",
       "  function render(props, node) {\n",
       "    var script = document.createElement(\"script\");\n",
       "    node.appendChild(script);\n",
       "  }\n",
       "\n",
       "  /**\n",
       "   * Handle when an output is cleared or removed\n",
       "   */\n",
       "  function handleClearOutput(event, handle) {\n",
       "    var cell = handle.cell;\n",
       "\n",
       "    var id = cell.output_area._bokeh_element_id;\n",
       "    var server_id = cell.output_area._bokeh_server_id;\n",
       "    // Clean up Bokeh references\n",
       "    if (id != null && id in Bokeh.index) {\n",
       "      Bokeh.index[id].model.document.clear();\n",
       "      delete Bokeh.index[id];\n",
       "    }\n",
       "\n",
       "    if (server_id !== undefined) {\n",
       "      // Clean up Bokeh references\n",
       "      var cmd = \"from bokeh.io.state import curstate; print(curstate().uuid_to_server['\" + server_id + \"'].get_sessions()[0].document.roots[0]._id)\";\n",
       "      cell.notebook.kernel.execute(cmd, {\n",
       "        iopub: {\n",
       "          output: function(msg) {\n",
       "            var id = msg.content.text.trim();\n",
       "            if (id in Bokeh.index) {\n",
       "              Bokeh.index[id].model.document.clear();\n",
       "              delete Bokeh.index[id];\n",
       "            }\n",
       "          }\n",
       "        }\n",
       "      });\n",
       "      // Destroy server and session\n",
       "      var cmd = \"import bokeh.io.notebook as ion; ion.destroy_server('\" + server_id + \"')\";\n",
       "      cell.notebook.kernel.execute(cmd);\n",
       "    }\n",
       "  }\n",
       "\n",
       "  /**\n",
       "   * Handle when a new output is added\n",
       "   */\n",
       "  function handleAddOutput(event, handle) {\n",
       "    var output_area = handle.output_area;\n",
       "    var output = handle.output;\n",
       "\n",
       "    // limit handleAddOutput to display_data with EXEC_MIME_TYPE content only\n",
       "    if ((output.output_type != \"display_data\") || (!Object.prototype.hasOwnProperty.call(output.data, EXEC_MIME_TYPE))) {\n",
       "      return\n",
       "    }\n",
       "\n",
       "    var toinsert = output_area.element.find(\".\" + CLASS_NAME.split(' ')[0]);\n",
       "\n",
       "    if (output.metadata[EXEC_MIME_TYPE][\"id\"] !== undefined) {\n",
       "      toinsert[toinsert.length - 1].firstChild.textContent = output.data[JS_MIME_TYPE];\n",
       "      // store reference to embed id on output_area\n",
       "      output_area._bokeh_element_id = output.metadata[EXEC_MIME_TYPE][\"id\"];\n",
       "    }\n",
       "    if (output.metadata[EXEC_MIME_TYPE][\"server_id\"] !== undefined) {\n",
       "      var bk_div = document.createElement(\"div\");\n",
       "      bk_div.innerHTML = output.data[HTML_MIME_TYPE];\n",
       "      var script_attrs = bk_div.children[0].attributes;\n",
       "      for (var i = 0; i < script_attrs.length; i++) {\n",
       "        toinsert[toinsert.length - 1].firstChild.setAttribute(script_attrs[i].name, script_attrs[i].value);\n",
       "        toinsert[toinsert.length - 1].firstChild.textContent = bk_div.children[0].textContent\n",
       "      }\n",
       "      // store reference to server id on output_area\n",
       "      output_area._bokeh_server_id = output.metadata[EXEC_MIME_TYPE][\"server_id\"];\n",
       "    }\n",
       "  }\n",
       "\n",
       "  function register_renderer(events, OutputArea) {\n",
       "\n",
       "    function append_mime(data, metadata, element) {\n",
       "      // create a DOM node to render to\n",
       "      var toinsert = this.create_output_subarea(\n",
       "        metadata,\n",
       "        CLASS_NAME,\n",
       "        EXEC_MIME_TYPE\n",
       "      );\n",
       "      this.keyboard_manager.register_events(toinsert);\n",
       "      // Render to node\n",
       "      var props = {data: data, metadata: metadata[EXEC_MIME_TYPE]};\n",
       "      render(props, toinsert[toinsert.length - 1]);\n",
       "      element.append(toinsert);\n",
       "      return toinsert\n",
       "    }\n",
       "\n",
       "    /* Handle when an output is cleared or removed */\n",
       "    events.on('clear_output.CodeCell', handleClearOutput);\n",
       "    events.on('delete.Cell', handleClearOutput);\n",
       "\n",
       "    /* Handle when a new output is added */\n",
       "    events.on('output_added.OutputArea', handleAddOutput);\n",
       "\n",
       "    /**\n",
       "     * Register the mime type and append_mime function with output_area\n",
       "     */\n",
       "    OutputArea.prototype.register_mime_type(EXEC_MIME_TYPE, append_mime, {\n",
       "      /* Is output safe? */\n",
       "      safe: true,\n",
       "      /* Index of renderer in `output_area.display_order` */\n",
       "      index: 0\n",
       "    });\n",
       "  }\n",
       "\n",
       "  // register the mime type if in Jupyter Notebook environment and previously unregistered\n",
       "  if (root.Jupyter !== undefined) {\n",
       "    var events = require('base/js/events');\n",
       "    var OutputArea = require('notebook/js/outputarea').OutputArea;\n",
       "\n",
       "    if (OutputArea.prototype.mime_types().indexOf(EXEC_MIME_TYPE) == -1) {\n",
       "      register_renderer(events, OutputArea);\n",
       "    }\n",
       "  }\n",
       "\n",
       "  \n",
       "  if (typeof (root._bokeh_timeout) === \"undefined\" || force === true) {\n",
       "    root._bokeh_timeout = Date.now() + 5000;\n",
       "    root._bokeh_failed_load = false;\n",
       "  }\n",
       "\n",
       "  var NB_LOAD_WARNING = {'data': {'text/html':\n",
       "     \"<div style='background-color: #fdd'>\\n\"+\n",
       "     \"<p>\\n\"+\n",
       "     \"BokehJS does not appear to have successfully loaded. If loading BokehJS from CDN, this \\n\"+\n",
       "     \"may be due to a slow or bad network connection. Possible fixes:\\n\"+\n",
       "     \"</p>\\n\"+\n",
       "     \"<ul>\\n\"+\n",
       "     \"<li>re-rerun `output_notebook()` to attempt to load from CDN again, or</li>\\n\"+\n",
       "     \"<li>use INLINE resources instead, as so:</li>\\n\"+\n",
       "     \"</ul>\\n\"+\n",
       "     \"<code>\\n\"+\n",
       "     \"from bokeh.resources import INLINE\\n\"+\n",
       "     \"output_notebook(resources=INLINE)\\n\"+\n",
       "     \"</code>\\n\"+\n",
       "     \"</div>\"}};\n",
       "\n",
       "  function display_loaded() {\n",
       "    var el = document.getElementById(null);\n",
       "    if (el != null) {\n",
       "      el.textContent = \"BokehJS is loading...\";\n",
       "    }\n",
       "    if (root.Bokeh !== undefined) {\n",
       "      if (el != null) {\n",
       "        el.textContent = \"BokehJS \" + root.Bokeh.version + \" successfully loaded.\";\n",
       "      }\n",
       "    } else if (Date.now() < root._bokeh_timeout) {\n",
       "      setTimeout(display_loaded, 100)\n",
       "    }\n",
       "  }\n",
       "\n",
       "\n",
       "  function run_callbacks() {\n",
       "    try {\n",
       "      root._bokeh_onload_callbacks.forEach(function(callback) {\n",
       "        if (callback != null)\n",
       "          callback();\n",
       "      });\n",
       "    } finally {\n",
       "      delete root._bokeh_onload_callbacks\n",
       "    }\n",
       "    console.debug(\"Bokeh: all callbacks have finished\");\n",
       "  }\n",
       "\n",
       "  function load_libs(css_urls, js_urls, callback) {\n",
       "    if (css_urls == null) css_urls = [];\n",
       "    if (js_urls == null) js_urls = [];\n",
       "\n",
       "    root._bokeh_onload_callbacks.push(callback);\n",
       "    if (root._bokeh_is_loading > 0) {\n",
       "      console.debug(\"Bokeh: BokehJS is being loaded, scheduling callback at\", now());\n",
       "      return null;\n",
       "    }\n",
       "    if (js_urls == null || js_urls.length === 0) {\n",
       "      run_callbacks();\n",
       "      return null;\n",
       "    }\n",
       "    console.debug(\"Bokeh: BokehJS not loaded, scheduling load and callback at\", now());\n",
       "    root._bokeh_is_loading = css_urls.length + js_urls.length;\n",
       "\n",
       "    function on_load() {\n",
       "      root._bokeh_is_loading--;\n",
       "      if (root._bokeh_is_loading === 0) {\n",
       "        console.debug(\"Bokeh: all BokehJS libraries/stylesheets loaded\");\n",
       "        run_callbacks()\n",
       "      }\n",
       "    }\n",
       "\n",
       "    function on_error(url) {\n",
       "      console.error(\"failed to load \" + url);\n",
       "    }\n",
       "\n",
       "    for (let i = 0; i < css_urls.length; i++) {\n",
       "      const url = css_urls[i];\n",
       "      const element = document.createElement(\"link\");\n",
       "      element.onload = on_load;\n",
       "      element.onerror = on_error.bind(null, url);\n",
       "      element.rel = \"stylesheet\";\n",
       "      element.type = \"text/css\";\n",
       "      element.href = url;\n",
       "      console.debug(\"Bokeh: injecting link tag for BokehJS stylesheet: \", url);\n",
       "      document.body.appendChild(element);\n",
       "    }\n",
       "\n",
       "    const hashes = {\"https://cdn.bokeh.org/bokeh/release/bokeh-2.3.3.min.js\": \"dM3QQsP+wXdHg42wTqW85BjZQdLNNIXqlPw/BgKoExPmTG7ZLML4EGqLMfqHT6ON\", \"https://cdn.bokeh.org/bokeh/release/bokeh-tables-2.3.3.min.js\": \"8x57I4YuIfu8XyZfFo0XVr2WAT8EK4rh/uDe3wF7YuW2FNUSNEpJbsPaB1nJ2fz2\", \"https://cdn.bokeh.org/bokeh/release/bokeh-widgets-2.3.3.min.js\": \"3QTqdz9LyAm2i0sG5XTePsHec3UHWwVsrOL68SYRoAXsafvfAyqtQ+h440+qIBhS\"};\n",
       "\n",
       "    for (let i = 0; i < js_urls.length; i++) {\n",
       "      const url = js_urls[i];\n",
       "      const element = document.createElement('script');\n",
       "      element.onload = on_load;\n",
       "      element.onerror = on_error.bind(null, url);\n",
       "      element.async = false;\n",
       "      element.src = url;\n",
       "      if (url in hashes) {\n",
       "        element.crossOrigin = \"anonymous\";\n",
       "        element.integrity = \"sha384-\" + hashes[url];\n",
       "      }\n",
       "      console.debug(\"Bokeh: injecting script tag for BokehJS library: \", url);\n",
       "      document.head.appendChild(element);\n",
       "    }\n",
       "  };\n",
       "\n",
       "  function inject_raw_css(css) {\n",
       "    const element = document.createElement(\"style\");\n",
       "    element.appendChild(document.createTextNode(css));\n",
       "    document.body.appendChild(element);\n",
       "  }\n",
       "\n",
       "  \n",
       "  var js_urls = [\"https://cdn.bokeh.org/bokeh/release/bokeh-2.3.3.min.js\", \"https://cdn.bokeh.org/bokeh/release/bokeh-widgets-2.3.3.min.js\", \"https://cdn.bokeh.org/bokeh/release/bokeh-tables-2.3.3.min.js\"];\n",
       "  var css_urls = [];\n",
       "  \n",
       "\n",
       "  var inline_js = [\n",
       "    function(Bokeh) {\n",
       "      Bokeh.set_log_level(\"info\");\n",
       "    },\n",
       "    function(Bokeh) {\n",
       "    \n",
       "    \n",
       "    }\n",
       "  ];\n",
       "\n",
       "  function run_inline_js() {\n",
       "    \n",
       "    if (root.Bokeh !== undefined || force === true) {\n",
       "      \n",
       "    for (var i = 0; i < inline_js.length; i++) {\n",
       "      inline_js[i].call(root, root.Bokeh);\n",
       "    }\n",
       "    } else if (Date.now() < root._bokeh_timeout) {\n",
       "      setTimeout(run_inline_js, 100);\n",
       "    } else if (!root._bokeh_failed_load) {\n",
       "      console.log(\"Bokeh: BokehJS failed to load within specified timeout.\");\n",
       "      root._bokeh_failed_load = true;\n",
       "    } else if (force !== true) {\n",
       "      var cell = $(document.getElementById(null)).parents('.cell').data().cell;\n",
       "      cell.output_area.append_execute_result(NB_LOAD_WARNING)\n",
       "    }\n",
       "\n",
       "  }\n",
       "\n",
       "  if (root._bokeh_is_loading === 0) {\n",
       "    console.debug(\"Bokeh: BokehJS loaded, going straight to plotting\");\n",
       "    run_inline_js();\n",
       "  } else {\n",
       "    load_libs(css_urls, js_urls, function() {\n",
       "      console.debug(\"Bokeh: BokehJS plotting callback run at\", now());\n",
       "      run_inline_js();\n",
       "    });\n",
       "  }\n",
       "}(window));"
      ],
      "application/vnd.bokehjs_load.v0+json": "\n(function(root) {\n  function now() {\n    return new Date();\n  }\n\n  var force = true;\n\n  if (typeof root._bokeh_onload_callbacks === \"undefined\" || force === true) {\n    root._bokeh_onload_callbacks = [];\n    root._bokeh_is_loading = undefined;\n  }\n\n  \n\n  \n  if (typeof (root._bokeh_timeout) === \"undefined\" || force === true) {\n    root._bokeh_timeout = Date.now() + 5000;\n    root._bokeh_failed_load = false;\n  }\n\n  var NB_LOAD_WARNING = {'data': {'text/html':\n     \"<div style='background-color: #fdd'>\\n\"+\n     \"<p>\\n\"+\n     \"BokehJS does not appear to have successfully loaded. If loading BokehJS from CDN, this \\n\"+\n     \"may be due to a slow or bad network connection. Possible fixes:\\n\"+\n     \"</p>\\n\"+\n     \"<ul>\\n\"+\n     \"<li>re-rerun `output_notebook()` to attempt to load from CDN again, or</li>\\n\"+\n     \"<li>use INLINE resources instead, as so:</li>\\n\"+\n     \"</ul>\\n\"+\n     \"<code>\\n\"+\n     \"from bokeh.resources import INLINE\\n\"+\n     \"output_notebook(resources=INLINE)\\n\"+\n     \"</code>\\n\"+\n     \"</div>\"}};\n\n  function display_loaded() {\n    var el = document.getElementById(null);\n    if (el != null) {\n      el.textContent = \"BokehJS is loading...\";\n    }\n    if (root.Bokeh !== undefined) {\n      if (el != null) {\n        el.textContent = \"BokehJS \" + root.Bokeh.version + \" successfully loaded.\";\n      }\n    } else if (Date.now() < root._bokeh_timeout) {\n      setTimeout(display_loaded, 100)\n    }\n  }\n\n\n  function run_callbacks() {\n    try {\n      root._bokeh_onload_callbacks.forEach(function(callback) {\n        if (callback != null)\n          callback();\n      });\n    } finally {\n      delete root._bokeh_onload_callbacks\n    }\n    console.debug(\"Bokeh: all callbacks have finished\");\n  }\n\n  function load_libs(css_urls, js_urls, callback) {\n    if (css_urls == null) css_urls = [];\n    if (js_urls == null) js_urls = [];\n\n    root._bokeh_onload_callbacks.push(callback);\n    if (root._bokeh_is_loading > 0) {\n      console.debug(\"Bokeh: BokehJS is being loaded, scheduling callback at\", now());\n      return null;\n    }\n    if (js_urls == null || js_urls.length === 0) {\n      run_callbacks();\n      return null;\n    }\n    console.debug(\"Bokeh: BokehJS not loaded, scheduling load and callback at\", now());\n    root._bokeh_is_loading = css_urls.length + js_urls.length;\n\n    function on_load() {\n      root._bokeh_is_loading--;\n      if (root._bokeh_is_loading === 0) {\n        console.debug(\"Bokeh: all BokehJS libraries/stylesheets loaded\");\n        run_callbacks()\n      }\n    }\n\n    function on_error(url) {\n      console.error(\"failed to load \" + url);\n    }\n\n    for (let i = 0; i < css_urls.length; i++) {\n      const url = css_urls[i];\n      const element = document.createElement(\"link\");\n      element.onload = on_load;\n      element.onerror = on_error.bind(null, url);\n      element.rel = \"stylesheet\";\n      element.type = \"text/css\";\n      element.href = url;\n      console.debug(\"Bokeh: injecting link tag for BokehJS stylesheet: \", url);\n      document.body.appendChild(element);\n    }\n\n    const hashes = {\"https://cdn.bokeh.org/bokeh/release/bokeh-2.3.3.min.js\": \"dM3QQsP+wXdHg42wTqW85BjZQdLNNIXqlPw/BgKoExPmTG7ZLML4EGqLMfqHT6ON\", \"https://cdn.bokeh.org/bokeh/release/bokeh-tables-2.3.3.min.js\": \"8x57I4YuIfu8XyZfFo0XVr2WAT8EK4rh/uDe3wF7YuW2FNUSNEpJbsPaB1nJ2fz2\", \"https://cdn.bokeh.org/bokeh/release/bokeh-widgets-2.3.3.min.js\": \"3QTqdz9LyAm2i0sG5XTePsHec3UHWwVsrOL68SYRoAXsafvfAyqtQ+h440+qIBhS\"};\n\n    for (let i = 0; i < js_urls.length; i++) {\n      const url = js_urls[i];\n      const element = document.createElement('script');\n      element.onload = on_load;\n      element.onerror = on_error.bind(null, url);\n      element.async = false;\n      element.src = url;\n      if (url in hashes) {\n        element.crossOrigin = \"anonymous\";\n        element.integrity = \"sha384-\" + hashes[url];\n      }\n      console.debug(\"Bokeh: injecting script tag for BokehJS library: \", url);\n      document.head.appendChild(element);\n    }\n  };\n\n  function inject_raw_css(css) {\n    const element = document.createElement(\"style\");\n    element.appendChild(document.createTextNode(css));\n    document.body.appendChild(element);\n  }\n\n  \n  var js_urls = [\"https://cdn.bokeh.org/bokeh/release/bokeh-2.3.3.min.js\", \"https://cdn.bokeh.org/bokeh/release/bokeh-widgets-2.3.3.min.js\", \"https://cdn.bokeh.org/bokeh/release/bokeh-tables-2.3.3.min.js\"];\n  var css_urls = [];\n  \n\n  var inline_js = [\n    function(Bokeh) {\n      Bokeh.set_log_level(\"info\");\n    },\n    function(Bokeh) {\n    \n    \n    }\n  ];\n\n  function run_inline_js() {\n    \n    if (root.Bokeh !== undefined || force === true) {\n      \n    for (var i = 0; i < inline_js.length; i++) {\n      inline_js[i].call(root, root.Bokeh);\n    }\n    } else if (Date.now() < root._bokeh_timeout) {\n      setTimeout(run_inline_js, 100);\n    } else if (!root._bokeh_failed_load) {\n      console.log(\"Bokeh: BokehJS failed to load within specified timeout.\");\n      root._bokeh_failed_load = true;\n    } else if (force !== true) {\n      var cell = $(document.getElementById(null)).parents('.cell').data().cell;\n      cell.output_area.append_execute_result(NB_LOAD_WARNING)\n    }\n\n  }\n\n  if (root._bokeh_is_loading === 0) {\n    console.debug(\"Bokeh: BokehJS loaded, going straight to plotting\");\n    run_inline_js();\n  } else {\n    load_libs(css_urls, js_urls, function() {\n      console.debug(\"Bokeh: BokehJS plotting callback run at\", now());\n      run_inline_js();\n    });\n  }\n}(window));"
     },
     "metadata": {
      "tags": []
     },
     "output_type": "display_data"
    },
    {
     "data": {
      "text/html": [
       "\n",
       "\n",
       "\n",
       "\n",
       "\n",
       "\n",
       "<div class=\"bk-root\" id=\"4d82852b-2fc6-4d3d-b73c-ff26c3ad06a1\" data-root-id=\"1027\"></div>\n"
      ]
     },
     "metadata": {
      "tags": []
     },
     "output_type": "display_data"
    },
    {
     "data": {
      "application/javascript": [
       "(function(root) {\n",
       "  function embed_document(root) {\n",
       "    \n",
       "  var docs_json = {\"d29db7a5-63f8-4c56-a350-825e620a4b4c\":{\"defs\":[],\"roots\":{\"references\":[{\"attributes\":{\"background_fill_color\":\"lightyellow\",\"center\":[{\"id\":\"1023\"}],\"height\":400,\"renderers\":[{\"id\":\"1002\"}],\"title\":{\"id\":\"1030\"},\"toolbar\":{\"id\":\"1036\"},\"width\":400,\"x_range\":{\"id\":\"1025\"},\"x_scale\":{\"id\":\"1045\"},\"y_range\":{\"id\":\"1026\"},\"y_scale\":{\"id\":\"1044\"}},\"id\":\"1027\",\"type\":\"Plot\"},{\"attributes\":{\"end\":1.3,\"start\":-1.3},\"id\":\"1026\",\"type\":\"Range1d\"},{\"attributes\":{\"source\":{\"id\":\"1004\"}},\"id\":\"1006\",\"type\":\"CDSView\"},{\"attributes\":{\"end\":1.3,\"start\":-1.3},\"id\":\"1025\",\"type\":\"Range1d\"},{\"attributes\":{\"source\":{\"id\":\"1008\"}},\"id\":\"1010\",\"type\":\"CDSView\"},{\"attributes\":{},\"id\":\"1061\",\"type\":\"UnionRenderers\"},{\"attributes\":{\"text\":\"BQM with 8 nodes and 28 edges\"},\"id\":\"1030\",\"type\":\"Title\"},{\"attributes\":{},\"id\":\"1050\",\"type\":\"NodesOnly\"},{\"attributes\":{},\"id\":\"1059\",\"type\":\"UnionRenderers\"},{\"attributes\":{},\"id\":\"1033\",\"type\":\"ZoomOutTool\"},{\"attributes\":{},\"id\":\"1058\",\"type\":\"Selection\"},{\"attributes\":{},\"id\":\"1057\",\"type\":\"UnionRenderers\"},{\"attributes\":{\"data\":{\"index\":[\"cabin\",\"embarked port C\",\"sex\",\"alone\",\"mrs\",\"pclass\",\"miss\",\"mr\"]},\"selected\":{\"id\":\"1060\"},\"selection_policy\":{\"id\":\"1061\"}},\"id\":\"1004\",\"type\":\"ColumnDataSource\"},{\"attributes\":{},\"id\":\"1032\",\"type\":\"ZoomInTool\"},{\"attributes\":{\"data_source\":{\"id\":\"1008\"},\"glyph\":{\"id\":\"1017\"},\"hover_glyph\":null,\"muted_glyph\":null,\"view\":{\"id\":\"1010\"}},\"id\":\"1009\",\"type\":\"GlyphRenderer\"},{\"attributes\":{},\"id\":\"1051\",\"type\":\"NodesOnly\"},{\"attributes\":{\"data\":{\"label\":[\"cabin\",\"embarked port C\",\"sex\",\"alone\",\"mrs\",\"pclass\",\"miss\",\"mr\"],\"xpos\":[-0.7939123949174524,0.46221675675115137,0.02499036106798346,-0.06539310472479663,-0.39386722939975366,0.9696898597906559,-0.9921877985415849,0.7884635499737971],\"ypos\":[0.6321921297645691,-0.8881943549542604,0.9999999999999999,0.013980106161005382,-0.9186838367944027,-0.210603383477458,-0.2474363293028456,0.618745668603391]},\"selected\":{\"id\":\"1056\"},\"selection_policy\":{\"id\":\"1057\"}},\"id\":\"1022\",\"type\":\"ColumnDataSource\"},{\"attributes\":{\"level\":\"glyph\",\"source\":{\"id\":\"1022\"},\"text\":{\"field\":\"label\"},\"text_color\":{\"value\":\"blue\"},\"text_font_size\":{\"value\":\"14pt\"},\"text_font_style\":{\"value\":\"bold\"},\"x\":{\"field\":\"xpos\"},\"x_offset\":{\"value\":-1},\"y\":{\"field\":\"ypos\"},\"y_offset\":{\"value\":-1}},\"id\":\"1023\",\"type\":\"LabelSet\"},{\"attributes\":{},\"id\":\"1031\",\"type\":\"WheelZoomTool\"},{\"attributes\":{},\"id\":\"1056\",\"type\":\"Selection\"},{\"attributes\":{\"graph_layout\":{\"alone\":[0.7151750239257791,0.7131357199112602],\"cabin\":[-0.9403956639699569,-0.35366317322753765],\"embarked port C\":[-0.010934651459585337,0.02141501604102122],\"miss\":[0.9945639718763757,-0.1086904690052603],\"mr\":[0.5428184434087181,-0.845286899442503],\"mrs\":[-0.307015200340493,-0.939661785249047],\"pclass\":[-0.1282855733737811,1.0],\"sex\":[-0.8659263500670571,0.5127515909720651]}},\"id\":\"1011\",\"type\":\"StaticLayoutProvider\"},{\"attributes\":{},\"id\":\"1035\",\"type\":\"ResetTool\"},{\"attributes\":{\"fill_alpha\":{\"value\":0.25},\"fill_color\":{\"value\":\"purple\"},\"size\":{\"value\":35}},\"id\":\"1012\",\"type\":\"Circle\"},{\"attributes\":{},\"id\":\"1044\",\"type\":\"LinearScale\"},{\"attributes\":{},\"id\":\"1034\",\"type\":\"PanTool\"},{\"attributes\":{\"edge_renderer\":{\"id\":\"1009\"},\"inspection_policy\":{\"id\":\"1051\"},\"layout_provider\":{\"id\":\"1011\"},\"node_renderer\":{\"id\":\"1005\"},\"selection_policy\":{\"id\":\"1050\"}},\"id\":\"1002\",\"type\":\"GraphRenderer\"},{\"attributes\":{\"data\":{\"end\":[\"embarked port C\",\"sex\",\"alone\",\"mrs\",\"pclass\",\"miss\",\"mr\",\"sex\",\"alone\",\"mrs\",\"pclass\",\"miss\",\"mr\",\"alone\",\"mrs\",\"pclass\",\"miss\",\"mr\",\"mrs\",\"pclass\",\"miss\",\"mr\",\"pclass\",\"miss\",\"mr\",\"miss\",\"mr\",\"mr\"],\"start\":[\"cabin\",\"cabin\",\"cabin\",\"cabin\",\"cabin\",\"cabin\",\"cabin\",\"embarked port C\",\"embarked port C\",\"embarked port C\",\"embarked port C\",\"embarked port C\",\"embarked port C\",\"sex\",\"sex\",\"sex\",\"sex\",\"sex\",\"alone\",\"alone\",\"alone\",\"alone\",\"mrs\",\"mrs\",\"mrs\",\"pclass\",\"pclass\",\"miss\"]},\"selected\":{\"id\":\"1058\"},\"selection_policy\":{\"id\":\"1059\"}},\"id\":\"1008\",\"type\":\"ColumnDataSource\"},{\"attributes\":{\"line_alpha\":{\"value\":0.8},\"line_width\":{\"value\":2}},\"id\":\"1017\",\"type\":\"MultiLine\"},{\"attributes\":{},\"id\":\"1060\",\"type\":\"Selection\"},{\"attributes\":{\"data_source\":{\"id\":\"1004\"},\"glyph\":{\"id\":\"1012\"},\"hover_glyph\":null,\"muted_glyph\":null,\"view\":{\"id\":\"1006\"}},\"id\":\"1005\",\"type\":\"GlyphRenderer\"},{\"attributes\":{},\"id\":\"1045\",\"type\":\"LinearScale\"},{\"attributes\":{\"active_multi\":null,\"active_scroll\":{\"id\":\"1031\"},\"tools\":[{\"id\":\"1031\"},{\"id\":\"1032\"},{\"id\":\"1033\"},{\"id\":\"1034\"},{\"id\":\"1035\"}]},\"id\":\"1036\",\"type\":\"Toolbar\"}],\"root_ids\":[\"1027\"]},\"title\":\"Bokeh Application\",\"version\":\"2.3.3\"}};\n",
       "  var render_items = [{\"docid\":\"d29db7a5-63f8-4c56-a350-825e620a4b4c\",\"root_ids\":[\"1027\"],\"roots\":{\"1027\":\"4d82852b-2fc6-4d3d-b73c-ff26c3ad06a1\"}}];\n",
       "  root.Bokeh.embed.embed_items_notebook(docs_json, render_items);\n",
       "\n",
       "  }\n",
       "  if (root.Bokeh !== undefined) {\n",
       "    embed_document(root);\n",
       "  } else {\n",
       "    var attempts = 0;\n",
       "    var timer = setInterval(function(root) {\n",
       "      if (root.Bokeh !== undefined) {\n",
       "        clearInterval(timer);\n",
       "        embed_document(root);\n",
       "      } else {\n",
       "        attempts++;\n",
       "        if (attempts > 100) {\n",
       "          clearInterval(timer);\n",
       "          console.log(\"Bokeh: ERROR: Unable to run BokehJS code because BokehJS library is missing\");\n",
       "        }\n",
       "      }\n",
       "    }, 10, root)\n",
       "  }\n",
       "})(window);"
      ],
      "application/vnd.bokehjs_exec.v0+json": ""
     },
     "metadata": {
      "application/vnd.bokehjs_exec.v0+json": {
       "id": "1027"
      },
      "tags": []
     },
     "output_type": "display_data"
    }
   ],
   "source": [
    "bqm = dimod.BinaryQuadraticModel.empty(dimod.BINARY)\n",
    "\n",
    "# add the features\n",
    "for feature in features:\n",
    "    mi = mutual_information(prob(titanic[['survived', feature]].values), 1)\n",
    "    bqm.add_variable(feature, -mi)\n",
    "\n",
    "for f0, f1 in itertools.combinations(features, 2):\n",
    "    cmi_01 = conditional_mutual_information(prob(titanic[['survived', f0, f1]].values), 1, 2)\n",
    "    cmi_10 = conditional_mutual_information(prob(titanic[['survived', f1, f0]].values), 1, 2)\n",
    "    bqm.add_interaction(f0, f1, -cmi_01)\n",
    "    bqm.add_interaction(f1, f0, -cmi_10)\n",
    "\n",
    "bqm.normalize()  \n",
    "\n",
    "plot_bqm(bqm)"
   ]
  },
  {
   "cell_type": "markdown",
   "metadata": {
    "id": "dOM7HSp7knNy"
   },
   "source": [
    "### Setting Up a QPU as a Solver\n",
    "Set up a D-Wave system as your solver in the standard way described in the Ocean documentation's [Configuring Access to D-Wave Solvers](https://docs.ocean.dwavesys.com/en/stable/overview/sapi.html). \n",
    "\n",
    "*minor-embedding*, the mapping between the problem's variables to the D-Wave QPU's numerically indexed qubits, can be handled in a variety of ways and this affects solution quality and performance. Ocean software provides tools suited for different types of problems; for example, [dwave-system](https://docs.ocean.dwavesys.com/en/stable/docs_system/sdk_index.html) [EmbeddingComposite()](https://docs.ocean.dwavesys.com/en/stable/docs_system/reference/composites.html) has a heuristic for automatic embedding. This example uses [FixedEmbeddingComposite()](https://docs.ocean.dwavesys.com/en/stable/docs_system/reference/composites.html) with the embedding found using an algorithm tuned for cliques (complete graphs).\n",
    "\n",
    "Helper function `qpu_working_graph` below creates a [*dwave-networkx*](https://docs.ocean.dwavesys.com/en/stable/docs_dnx/sdk_index.html) graph that represents the *working graph* of the QPU selected by [DWaveSampler](https://docs.ocean.dwavesys.com/en/stable/docs_system/reference/samplers.html), a Pegasus or Chimera graph with the same sets of nodes (qubits) and edges (couplers) as the QPU. Ocean software's [*minorminer*](https://docs.ocean.dwavesys.com/en/stable/docs_minorminer/sdk_index.html) finds an embedding for the required clique size in the working graph. "
   ]
  },
  {
   "cell_type": "markdown",
   "metadata": {
    "id": "CYSUOtYnIvdM"
   },
   "source": [
    "<img src='https://www.notion.so/image/https%3A%2F%2Fs3-us-west-2.amazonaws.com%2Fsecure.notion-static.com%2Fd7d626b0-e5a3-4d90-afc8-a169cd07652e%2FUntitled.png?table=block&id=66b8f3d2-04c6-47bf-8ad1-23d050903c13&spaceId=63b72b1f-0e90-4ab8-a6df-a060a6545a56&width=2000&userId=21ec183f-f0be-4b6b-9b3e-6f0d4e5c5469&cache=v2'>"
   ]
  },
  {
   "cell_type": "markdown",
   "metadata": {
    "id": "sKBpMByAy8Hl"
   },
   "source": [
    "https://youtu.be/qafL1TVKpY0\n",
    "\n",
    "https://docs.ocean.dwavesys.com/en/stable/overview/install.html"
   ]
  },
  {
   "cell_type": "code",
   "execution_count": null,
   "metadata": {
    "id": "GuwSvfO8w0G5"
   },
   "outputs": [],
   "source": [
    "!dwave setup"
   ]
  },
  {
   "cell_type": "markdown",
   "metadata": {
    "id": "3nN9MVKN00c5"
   },
   "source": [
    "```text\n",
    "Optionally install non-open-source packages and configure your environment.\n",
    "\n",
    "Do you want to select non-open-source packages to install (y/n)? [y]: \n",
    "\n",
    "D-Wave Drivers\n",
    "These drivers enable some automated performance-tuning features.\n",
    "This package is available under the D-Wave EULA license.\n",
    "The terms of the license are available online: https://docs.ocean.dwavesys.com/eula\n",
    "Install (y/n)? [y]: \n",
    "Installing: D-Wave Drivers\n",
    "Successfully installed D-Wave Drivers.\n",
    "\n",
    "D-Wave Problem Inspector\n",
    "This tool visualizes problems submitted to the quantum computer and the results returned.\n",
    "This package is available under the D-Wave EULA license.\n",
    "The terms of the license are available online: https://docs.ocean.dwavesys.com/eula\n",
    "Install (y/n)? [y]: \n",
    "Installing: D-Wave Problem Inspector\n",
    "Successfully installed D-Wave Problem Inspector.\n",
    "\n",
    "Creating the D-Wave configuration file.\n",
    "Configuration file not found; the default location is: /root/.config/dwave/dwave.conf\n",
    "Configuration file path [/root/.config/dwave/dwave.conf]: \n",
    "Configuration file path does not exist. Create it? [y/N]: y\n",
    "Profile (create new) [prod]: dev\n",
    "API endpoint URL [skip]: https://cloud.dwavesys.com/sapi/\n",
    "Authentication token [skip]: DEV-4595********************\n",
    "Default client class [skip]: \n",
    "Default solver [skip]: \n",
    "Configuration saved.\n",
    "```"
   ]
  },
  {
   "cell_type": "code",
   "execution_count": null,
   "metadata": {
    "id": "d3irX5iqzRRa"
   },
   "outputs": [
    {
     "name": "stdout",
     "output_type": "stream",
     "text": [
      "Using endpoint: https://cloud.dwavesys.com/sapi/\n",
      "Using solver: DW_2000Q_6\n",
      "Submitted problem ID: 19ef1009-af13-4d82-9b5f-0b216259786c\n",
      "\n",
      "Wall clock time:\n",
      " * Solver definition fetch: 900.507 ms\n",
      " * Problem submit and results fetch: 966.624 ms\n",
      " * Total: 1867.132 ms\n",
      "\n",
      "QPU timing:\n",
      " * post_processing_overhead_time = 508 us\n",
      " * qpu_access_overhead_time = 1986 us\n",
      " * qpu_access_time = 10986 us\n",
      " * qpu_anneal_time_per_sample = 20 us\n",
      " * qpu_delay_time_per_sample = 21 us\n",
      " * qpu_programming_time = 10747 us\n",
      " * qpu_readout_time_per_sample = 198 us\n",
      " * qpu_sampling_time = 239 us\n",
      " * total_post_processing_time = 508 us\n"
     ]
    }
   ],
   "source": [
    "!dwave ping"
   ]
  },
  {
   "cell_type": "code",
   "execution_count": null,
   "metadata": {
    "id": "cXxmtJ2svaKZ"
   },
   "outputs": [],
   "source": [
    "def qpu_working_graph(qpu):\n",
    "    \"Return a dwave_networkx graph representing the working graph of a given QPU.\"\n",
    "    \n",
    "    dnx_graphs = {'chimera': dnx.chimera_graph, 'pegasus': dnx.pegasus_graph}\n",
    "\n",
    "    dnx_graph = dnx_graphs[qpu.properties[\"topology\"][\"type\"].lower()]\n",
    "\n",
    "    return dnx_graph(qpu.properties[\"topology\"][\"shape\"][0], \n",
    "                     node_list=qpu.nodelist, \n",
    "                     edge_list=qpu.edgelist)"
   ]
  },
  {
   "cell_type": "code",
   "execution_count": null,
   "metadata": {
    "id": "O_O9ijPjknNz"
   },
   "outputs": [
    {
     "name": "stdout",
     "output_type": "stream",
     "text": [
      "Maximum chain length for minor embedding is 2.\n"
     ]
    }
   ],
   "source": [
    "from dwave.system import DWaveSampler, FixedEmbeddingComposite\n",
    "from minorminer.busclique import find_clique_embedding\n",
    "\n",
    "qpu = DWaveSampler()\n",
    "\n",
    "qpu_working_graph = qpu_working_graph(qpu)\n",
    "embedding = find_clique_embedding(bqm.variables, qpu_working_graph)\n",
    "\n",
    "qpu_sampler = FixedEmbeddingComposite(qpu, embedding)\n",
    "\n",
    "print(\"Maximum chain length for minor embedding is {}.\".format(max(len(x) for x in embedding.values())))"
   ]
  },
  {
   "cell_type": "markdown",
   "metadata": {
    "id": "k2mv1sdyknNz"
   },
   "source": [
    "This problem is small enough to be solved in its entirety on a D-Wave 2000Q QPU. For datasets with higher numbers of features, D-Wave Ocean's [dwave-hybrid](https://docs.ocean.dwavesys.com/en/stable/docs_hybrid/sdk_index.html) tool can be used to break the BQM into smaller pieces for serial submission to the QPU and/or parallel solution on classical resources. Here, an out-of-the-box hybrid sampler, [Kerberos](https://docs.ocean.dwavesys.com/en/stable/docs_hybrid/reference/reference.html) is used.    "
   ]
  },
  {
   "cell_type": "code",
   "execution_count": null,
   "metadata": {
    "id": "PhTbD6WIknN0"
   },
   "outputs": [],
   "source": [
    "from hybrid.reference.kerberos import KerberosSampler\n",
    "\n",
    "kerberos_sampler = KerberosSampler() "
   ]
  },
  {
   "cell_type": "markdown",
   "metadata": {
    "id": "GiS-M9ymknN0"
   },
   "source": [
    "### Submit the Problem for All k Values\n",
    "For all numbers of selected features, $k$, set a $n \\choose k$ penalty, submit an updated BQM for solution, and at the end plot the selected features."
   ]
  },
  {
   "cell_type": "code",
   "execution_count": null,
   "metadata": {
    "id": "LK_rii6vknN0"
   },
   "outputs": [
    {
     "name": "stdout",
     "output_type": "stream",
     "text": [
      "Submitting for k=1\n",
      "Submitting for k=2\n",
      "Submitting for k=3\n",
      "Submitting for k=4\n",
      "Submitting for k=5\n",
      "Submitting for k=6\n",
      "Submitting for k=7\n",
      "Submitting for k=8\n"
     ]
    },
    {
     "data": {
      "image/png": "[encoded data removed]",
      "text/plain": [
       "<Figure size 432x432 with 1 Axes>"
      ]
     },
     "metadata": {
      "filenames": {
       "image/png": "/home/runner/work/reco-book/reco-book/_build/jupyter_execute/nbs/T968347_Feature_Selection_with_the_D_Wave_System_76_1.png"
      },
      "needs_background": "light",
      "tags": []
     },
     "output_type": "display_data"
    }
   ],
   "source": [
    "selected_features = np.zeros((len(features), len(features)))\n",
    "for k in range(1, len(features) + 1):\n",
    "    print(\"Submitting for k={}\".format(k))\n",
    "    kbqm = dimod.generators.combinations(features, k, strength=6)\n",
    "    kbqm.update(bqm)\n",
    "    kbqm.normalize()\n",
    "    \n",
    "    best = kerberos_sampler.sample(kbqm, \n",
    "                                   qpu_sampler=qpu_sampler, \n",
    "                                   qpu_reads=10000, \n",
    "                                   max_iter=1,\n",
    "                                   qpu_params={'label': 'Notebook - Feature Selection'}\n",
    "                                  ).first.sample\n",
    "    \n",
    "    for fi, f in enumerate(features):\n",
    "        selected_features[k-1, fi] = best[f]\n",
    "\n",
    "plot_feature_selection(features, selected_features)"
   ]
  },
  {
   "cell_type": "markdown",
   "metadata": {
    "id": "_1v16hhW_XgQ"
   },
   "source": [
    "## Conclusion"
   ]
  },
  {
   "cell_type": "markdown",
   "metadata": {
    "id": "exnuznkm_giV"
   },
   "source": [
    "In this tutorial, we understood some basics of feature selection and applied our learning on a toy dataset using DWave quantum processor. [This](https://cloud.dwavesys.com/leap/) is the link where you can register to get some free access. Next, you can take help of [this](https://github.com/sparsh-ai/dwave-notebooks) repo and explore some more examples. Also, explore [this](https://github.com/qcpolimi/CQFS) repo and associated [paper](https://www.mdpi.com/1099-4300/23/8/970/pdf) to know how to perform feature selection on recsys datasets - Movielens, CiteULike, and Xing (RecSys'17)."
   ]
  },
  {
   "cell_type": "markdown",
   "metadata": {
    "id": "itF83eHoknN1"
   },
   "source": [
    "Copyright &copy; D-Wave Systems Inc."
   ]
  }
 ],
 "metadata": {
  "colab": {
   "collapsed_sections": [
    "EG37R8qXknNE",
    "ms9pqPUtknNG",
    "D4N6gRBIknNN",
    "QX7dvSFxknNQ",
    "AASZe10IknNS",
    "dei7MqNSknNV",
    "pwjcKefVknNc",
    "9gBiipA9knNf",
    "4tkDPEhOknNj",
    "lJ7M1vqmknNn",
    "a7GkBZzSknNt",
    "dOM7HSp7knNy"
   ],
   "name": "T968347_Feature_Selection_with_the_D_Wave_System.ipynb",
   "toc_visible": true
  },
  "kernelspec": {
   "display_name": "Python 3",
   "name": "python3"
  }
 },
 "nbformat": 4,
 "nbformat_minor": 0
}