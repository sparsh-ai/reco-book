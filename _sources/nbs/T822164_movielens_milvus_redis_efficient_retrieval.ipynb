{
  "cells": [
    {
      "cell_type": "markdown",
      "metadata": {
        "id": "8FgLYOButqII"
      },
      "source": [
        "# Recommender with Redis and Milvus\n",
        "> Storing the pre-calculated user and items vectors of movielens dataset into redis in-memory database and then indexing into milvus for efficient large-scale retrieval"
      ]
    },
    {
      "cell_type": "markdown",
      "metadata": {
        "id": "3dfeb422"
      },
      "source": [
        "|  Packages |  Servers |\n",
        "| --------------- | -------------- |\n",
        "| pymilvus        | milvus-1.1.0   |\n",
        "| redis           | redis          |\n",
        "| paddle_serving_app |\n",
        "| paddlepaddle |"
      ]
    },
    {
      "cell_type": "code",
      "execution_count": null,
      "metadata": {
        "id": "tA3G1ESOMkrS"
      },
      "outputs": [],
      "source": [
        "!pip install pymilvus==1.1.0\n",
        "!pip install paddle_serving_app==0.3.1\n",
        "!pip install paddlepaddle\n",
        "!pip install redis"
      ]
    },
    {
      "cell_type": "markdown",
      "metadata": {
        "id": "WNYdYI3numT-"
      },
      "source": [
        "## Install and run Milvus server"
      ]
    },
    {
      "cell_type": "markdown",
      "metadata": {
        "id": "IUtzLMjevQRn"
      },
      "source": [
        "> Warning: It will take ~40 minutes to install!"
      ]
    },
    {
      "cell_type": "code",
      "execution_count": null,
      "metadata": {
        "id": "h8kdCNOvMsdb"
      },
      "outputs": [],
      "source": [
        "!git clone -b 1.1 https://github.com/milvus-io/milvus.git\n",
        "% cd /content/milvus/core\n",
        "! ./ubuntu_build_deps.sh\n",
        "!./build.sh -t Release\n",
        "# !./build.sh -t Release -g\n",
        "\n",
        "% cd /content/milvus/core/milvus\n",
        "! echo $LD_LIBRARY_PATH\n",
        "import os\n",
        "os.environ['LD_LIBRARY_PATH'] +=\":/content/milvus/core/milvus/lib\"\n",
        "! echo $LD_LIBRARY_PATH\n",
        "% cd scripts\n",
        "! nohup ./start_server.sh &\n",
        "! cat nohup.out"
      ]
    },
    {
      "cell_type": "code",
      "execution_count": null,
      "metadata": {
        "id": "XHBfpO_DkNEA"
      },
      "outputs": [
        {
          "name": "stdout",
          "output_type": "stream",
          "text": [
            "\n",
            "    __  _________ _   ____  ______    \n",
            "   /  |/  /  _/ /| | / / / / / __/    \n",
            "  / /|_/ // // /_| |/ / /_/ /\\ \\    \n",
            " /_/  /_/___/____/___/\\____/___/     \n",
            "\n",
            "Welcome to use Milvus!\n",
            "Milvus Release version: v1.1.1, built at 2021-06-23 14:11.42, with OpenBLAS library.\n",
            "You are using Milvus CPU edition\n",
            "Last commit id: 3fc81236452d8060fe7adc1793ad1d69f3d8423c\n",
            "\n",
            "Loading configuration from: ../conf/server_config.yaml\n",
            "NOTICE: You are using SQLite as the meta data management. We recommend change it to MySQL.\n",
            "Supported CPU instruction sets: avx2, sse4_2\n",
            "FAISS hook AVX2\n",
            "Milvus server started successfully!\n",
            "Milvus server is going to shutdown ...\n",
            "Milvus server exit...\n"
          ]
        }
      ],
      "source": [
        "!cat nohup.out"
      ]
    },
    {
      "cell_type": "markdown",
      "metadata": {
        "id": "-fQOxxmXONX5"
      },
      "source": [
        "We are using Redis as a metadata storage service. Code can easily be modified to use a python dictionary, but that usually does not work in any use case outside of quick examples. We need a metadata storage service in order to be able to be able to map between embeddings and the corresponding data."
      ]
    },
    {
      "cell_type": "markdown",
      "metadata": {
        "id": "8l6Uz5UNuqsX"
      },
      "source": [
        "## Install and run Redis server"
      ]
    },
    {
      "cell_type": "code",
      "execution_count": null,
      "metadata": {
        "id": "Uqac1hT5NUs7"
      },
      "outputs": [],
      "source": [
        "#hide-output\n",
        "!wget http://download.redis.io/releases/redis-stable.tar.gz --no-check-certificate\n",
        "!tar -xf redis-stable.tar.gz && cd redis-stable/src && make"
      ]
    },
    {
      "cell_type": "code",
      "execution_count": null,
      "metadata": {
        "id": "uOpL7Krfm1jk"
      },
      "outputs": [
        {
          "name": "stdout",
          "output_type": "stream",
          "text": [
            "nohup: redirecting stderr to stdout\n",
            "42581:C 23 Jun 2021 16:02:32.639 # oO0OoO0OoO0Oo Redis is starting oO0OoO0OoO0Oo\n",
            "42581:C 23 Jun 2021 16:02:32.639 # Redis version=6.0.5, bits=64, commit=3fc81236, modified=0, pid=42581, just started\n",
            "42581:C 23 Jun 2021 16:02:32.639 # Warning: no config file specified, using the default config. In order to specify a config file use ./redis-stable/src/redis-server /path/to/redis.conf\n",
            "42581:M 23 Jun 2021 16:02:32.641 * Running mode=standalone, port=6379.\n",
            "42581:M 23 Jun 2021 16:02:32.641 # Server initialized\n",
            "42581:M 23 Jun 2021 16:02:32.641 # WARNING you have Transparent Huge Pages (THP) support enabled in your kernel. This will create latency and memory usage issues with Redis. To fix this issue run the command 'echo never > /sys/kernel/mm/transparent_hugepage/enabled' as root, and add it to your /etc/rc.local in order to retain the setting after a reboot. Redis must be restarted after THP is disabled.\n",
            "42581:M 23 Jun 2021 16:02:32.642 * Ready to accept connections\n"
          ]
        }
      ],
      "source": [
        "! nohup ./redis-stable/src/redis-server > redis_nohup.out &\n",
        "! cat redis_nohup.out"
      ]
    },
    {
      "cell_type": "code",
      "execution_count": null,
      "metadata": {
        "id": "4K0PQx_Qpk-d"
      },
      "outputs": [],
      "source": [
        "!pip install -U grpcio"
      ]
    },
    {
      "cell_type": "code",
      "execution_count": null,
      "metadata": {
        "id": "ryH_eaIEpcuF"
      },
      "outputs": [
        {
          "name": "stdout",
          "output_type": "stream",
          "text": [
            "/content\n"
          ]
        }
      ],
      "source": [
        "%cd /content"
      ]
    },
    {
      "cell_type": "markdown",
      "metadata": {
        "id": "cac14f13"
      },
      "source": [
        "## Downloading Pretrained Models\n",
        "\n",
        "This PaddlePaddle model is used to transform user information into vectors."
      ]
    },
    {
      "cell_type": "code",
      "execution_count": null,
      "metadata": {
        "id": "b52f00c3"
      },
      "outputs": [],
      "source": [
        "!wget https://paddlerec.bj.bcebos.com/aistudio/user_vector.tar.gz --no-check-certificate\n",
        "!mkdir -p movie_recommender/user_vector_model\n",
        "!tar xf user_vector.tar.gz -C movie_recommender/user_vector_model/\n",
        "!rm user_vector.tar.gz"
      ]
    },
    {
      "cell_type": "markdown",
      "metadata": {
        "id": "1ab3a252"
      },
      "source": [
        "Downloading Data"
      ]
    },
    {
      "cell_type": "code",
      "execution_count": null,
      "metadata": {
        "id": "39a7facb"
      },
      "outputs": [],
      "source": [
        "# Download movie information\n",
        "!wget -P movie_recommender https://paddlerec.bj.bcebos.com/aistudio/movies.dat --no-check-certificate\n",
        "# Download movie vecotrs\n",
        "!wget -P movie_recommender https://paddlerec.bj.bcebos.com/aistudio/movie_vectors.txt --no-check-certificate"
      ]
    },
    {
      "cell_type": "markdown",
      "metadata": {
        "id": "e994eb1e-aa76-446b-98c6-02c74f050ba5"
      },
      "source": [
        "Importing Movies into Milvus"
      ]
    },
    {
      "cell_type": "markdown",
      "metadata": {
        "id": "3a999eeb-bcc6-4800-9039-f9c57ea399f1"
      },
      "source": [
        "### 1. Connectings to Milvus and Redis"
      ]
    },
    {
      "cell_type": "code",
      "execution_count": null,
      "metadata": {
        "id": "fQnASRYRno5g"
      },
      "outputs": [
        {
          "name": "stdout",
          "output_type": "stream",
          "text": [
            "milvus_se 42433 root   17u  IPv4 478871      0t0  TCP *:19121 (LISTEN)\n",
            "milvus_se 42433 root   20u  IPv4 479283      0t0  TCP *:19530 (LISTEN)\n",
            "redis-ser 42581 root    6u  IPv6 507112      0t0  TCP *:6379 (LISTEN)\n",
            "redis-ser 42581 root    7u  IPv4 507113      0t0  TCP *:6379 (LISTEN)\n"
          ]
        }
      ],
      "source": [
        "! lsof -i -P -n | grep -E 'milvus|redis'"
      ]
    },
    {
      "cell_type": "code",
      "execution_count": null,
      "metadata": {
        "id": "d8de5e40"
      },
      "outputs": [],
      "source": [
        "from milvus import Milvus, IndexType, MetricType, Status\n",
        "import redis\n",
        "\n",
        "milv = Milvus(host = '127.0.0.1', port = 19530)\n",
        "r = redis.StrictRedis(host=\"127.0.0.1\", port=6379) "
      ]
    },
    {
      "cell_type": "code",
      "execution_count": null,
      "metadata": {
        "id": "KGwZgi9Hqdhs"
      },
      "outputs": [
        {
          "data": {
            "application/vnd.google.colaboratory.intrinsic+json": {
              "type": "string"
            },
            "text/plain": [
              "'1.1.0'"
            ]
          },
          "execution_count": 3,
          "metadata": {
            "tags": []
          },
          "output_type": "execute_result"
        }
      ],
      "source": [
        "milv.client_version()"
      ]
    },
    {
      "cell_type": "markdown",
      "metadata": {
        "id": "a3c114a7"
      },
      "source": [
        "### 2. Loading Movies into Redis\n",
        "We begin by loading all the movie files into redis. "
      ]
    },
    {
      "cell_type": "code",
      "execution_count": null,
      "metadata": {
        "id": "f56cf19c"
      },
      "outputs": [],
      "source": [
        "import json\n",
        "import codecs\n",
        "\n",
        "#1::Toy Story (1995)::Animation|Children's|Comedy\n",
        "def process_movie(lines, redis_cli):\n",
        "    for line in lines:\n",
        "        if len(line.strip()) == 0:\n",
        "            continue\n",
        "        tmp = line.strip().split(\"::\")\n",
        "        movie_id = tmp[0]\n",
        "        title = tmp[1]\n",
        "        genre_group = tmp[2]\n",
        "        tmp = genre_group.strip().split(\"|\")\n",
        "        genre = tmp\n",
        "        movie_info = {\"movie_id\" : movie_id,\n",
        "                \"title\" : title,\n",
        "                \"genre\" : genre\n",
        "                }\n",
        "        redis_cli.set(\"{}##movie_info\".format(movie_id), json.dumps(movie_info))\n",
        "        \n",
        "with codecs.open(\"movie_recommender/movies.dat\", \"r\",encoding='utf-8',errors='ignore') as f:\n",
        "        lines = f.readlines()\n",
        "        process_movie(lines, r)"
      ]
    },
    {
      "cell_type": "markdown",
      "metadata": {
        "id": "a54a6046"
      },
      "source": [
        "### 3. Creating Partition and Collection in Milvus"
      ]
    },
    {
      "cell_type": "code",
      "execution_count": null,
      "metadata": {
        "id": "ef3ef1f7"
      },
      "outputs": [
        {
          "data": {
            "text/plain": [
              "Status(code=0, message='Create collection successfully!')"
            ]
          },
          "execution_count": 5,
          "metadata": {
            "tags": []
          },
          "output_type": "execute_result"
        }
      ],
      "source": [
        "COLLECTION_NAME = 'demo_films'\n",
        "PARTITION_NAME = 'Movie'\n",
        "\n",
        "#Dropping collection for clean slate run\n",
        "milv.drop_collection(COLLECTION_NAME)\n",
        "\n",
        "\n",
        "param = {'collection_name':COLLECTION_NAME, \n",
        "         'dimension':32, \n",
        "         'index_file_size':2048, \n",
        "         'metric_type':MetricType.L2\n",
        "        }\n",
        "\n",
        "milv.create_collection(param)\n",
        "# milv.create_partition(COLLECTION_NAME, PARTITION_NAME)"
      ]
    },
    {
      "cell_type": "code",
      "execution_count": null,
      "metadata": {
        "id": "399Cxz4cqhZ4"
      },
      "outputs": [
        {
          "data": {
            "text/plain": [
              "(Status(code=0, message='Describe collection successfully!'),\n",
              " CollectionSchema(collection_name='demo_films', dimension=32, index_file_size=2048, metric_type=<MetricType: L2>))"
            ]
          },
          "execution_count": 7,
          "metadata": {
            "tags": []
          },
          "output_type": "execute_result"
        }
      ],
      "source": [
        "milv.get_collection_info(COLLECTION_NAME)"
      ]
    },
    {
      "cell_type": "markdown",
      "metadata": {
        "id": "d298372e"
      },
      "source": [
        "### 4. Getting Embeddings and IDs\n",
        "The vectors in `movie_vectors.txt` are obtained from the `user_vector_model` downloaded above. So we can directly get the vectors and the IDs by reading the file."
      ]
    },
    {
      "cell_type": "code",
      "execution_count": null,
      "metadata": {
        "id": "1aaee36b"
      },
      "outputs": [],
      "source": [
        "def get_vectors():\n",
        "    with codecs.open(\"movie_recommender/movie_vectors.txt\", \"r\", encoding='utf-8', errors='ignore') as f:\n",
        "        lines = f.readlines()\n",
        "    ids = [int(line.split(\":\")[0]) for line in lines]\n",
        "    embeddings = []\n",
        "    for line in lines:\n",
        "        line = line.strip().split(\":\")[1][1:-1]\n",
        "        str_nums = line.split(\",\")\n",
        "        emb = [float(x) for x in str_nums]\n",
        "        embeddings.append(emb)\n",
        "    return ids, embeddings\n",
        "\n",
        "ids, embeddings = get_vectors()"
      ]
    },
    {
      "cell_type": "markdown",
      "metadata": {
        "id": "3a6140b1"
      },
      "source": [
        "### 4. Importing Vectors into Milvus\n",
        "Import vectors into the partition **Movie** under the collection **demo_films**."
      ]
    },
    {
      "cell_type": "code",
      "execution_count": null,
      "metadata": {
        "id": "4ac4cfff"
      },
      "outputs": [
        {
          "data": {
            "text/plain": [
              "Status(code=0, message='Add vectors successfully!')"
            ]
          },
          "execution_count": 9,
          "metadata": {
            "tags": []
          },
          "output_type": "execute_result"
        }
      ],
      "source": [
        "# status = milv.insert(collection_name=COLLECTION_NAME, records=embeddings, ids=ids, partition_tag=PARTITION_NAME)\n",
        "status = milv.insert(collection_name=COLLECTION_NAME, records=embeddings, ids=ids)\n",
        "status[0]"
      ]
    },
    {
      "cell_type": "markdown",
      "metadata": {
        "id": "e93feb30"
      },
      "source": [
        "## Recalling Vectors in Milvus\n",
        "### 1. Genarating User Embeddings\n",
        "Pass in the gender, age and occupation of the user we want to recommend. **user_vector_model** model will generate the corresponding user vector.\n",
        "Occupation is chosen from the following choices:\n",
        "*  0:  \"other\" or not specified\n",
        "*  1:  \"academic/educator\"\n",
        "*  2:  \"artist\"\n",
        "*  3:  \"clerical/admin\"\n",
        "*  4:  \"college/grad student\"\n",
        "*  5:  \"customer service\"\n",
        "*  6:  \"doctor/health care\"\n",
        "*  7:  \"executive/managerial\"\n",
        "*  8:  \"farmer\"\n",
        "*  9:  \"homemaker\"\n",
        "*  10:  \"K-12 student\"\n",
        "*  11:  \"lawyer\"\n",
        "*  12:  \"programmer\"\n",
        "*  13:  \"retired\"\n",
        "*  14:  \"sales/marketing\"\n",
        "*  15:  \"scientist\"\n",
        "*  16:  \"self-employed\"\n",
        "*  17:  \"technician/engineer\"\n",
        "*  18:  \"tradesman/craftsman\"\n",
        "*  19:  \"unemployed\"\n",
        "*  20:  \"writer\""
      ]
    },
    {
      "cell_type": "code",
      "execution_count": null,
      "metadata": {
        "id": "1a35a9d4"
      },
      "outputs": [
        {
          "name": "stderr",
          "output_type": "stream",
          "text": [
            "2021-06-23 16:29:24,262 - INFO - LocalPredictor load_model_config params: model_path:movie_recommender/user_vector_model/serving_server_dir, use_gpu:False,            gpu_id:0, use_profile:False, thread_num:1, mem_optim:True, ir_optim:False,            use_trt:False, use_lite:False, use_xpu: False, use_feed_fetch_ops:False\n"
          ]
        }
      ],
      "source": [
        "import numpy as np\n",
        "from paddle_serving_app.local_predict import LocalPredictor\n",
        "\n",
        "class RecallServerServicer(object):\n",
        "    def __init__(self):\n",
        "        self.uv_client = LocalPredictor()\n",
        "        self.uv_client.load_model_config(\"movie_recommender/user_vector_model/serving_server_dir\") \n",
        "        \n",
        "    def hash2(self, a):\n",
        "        return hash(a) % 1000000\n",
        "\n",
        "    def get_user_vector(self):\n",
        "        dic = {\"userid\": [], \"gender\": [], \"age\": [], \"occupation\": []}\n",
        "        lod = [0]\n",
        "        dic[\"userid\"].append(self.hash2('0'))\n",
        "        dic[\"gender\"].append(self.hash2('M'))\n",
        "        dic[\"age\"].append(self.hash2('23'))\n",
        "        dic[\"occupation\"].append(self.hash2('6'))\n",
        "        lod.append(1)\n",
        "\n",
        "        dic[\"userid.lod\"] = lod\n",
        "        dic[\"gender.lod\"] = lod\n",
        "        dic[\"age.lod\"] = lod\n",
        "        dic[\"occupation.lod\"] = lod\n",
        "        for key in dic:\n",
        "            dic[key] = np.array(dic[key]).astype(np.int64).reshape(len(dic[key]),1)\n",
        "        fetch_map = self.uv_client.predict(feed=dic, fetch=[\"save_infer_model/scale_0.tmp_1\"], batch=True)\n",
        "        return fetch_map[\"save_infer_model/scale_0.tmp_1\"].tolist()[0]\n",
        "\n",
        "recall = RecallServerServicer()\n",
        "user_vector = recall.get_user_vector()"
      ]
    },
    {
      "cell_type": "code",
      "execution_count": null,
      "metadata": {
        "id": "vfzaCguwtLgL"
      },
      "outputs": [
        {
          "data": {
            "text/plain": [
              "[0.0,\n",
              " 4.911433696746826,\n",
              " 4.132595062255859,\n",
              " 3.2255895137786865,\n",
              " 0.0,\n",
              " 4.944108963012695,\n",
              " 0.0,\n",
              " 0.0,\n",
              " 1.27165687084198,\n",
              " 3.1072912216186523,\n",
              " 0.0,\n",
              " 0.0,\n",
              " 0.0,\n",
              " 0.0,\n",
              " 0.0,\n",
              " 0.0,\n",
              " 0.0,\n",
              " 0.0,\n",
              " 0.0,\n",
              " 0.0,\n",
              " 0.0,\n",
              " 0.0,\n",
              " 0.0,\n",
              " 0.0,\n",
              " 0.0,\n",
              " 1.9184402227401733,\n",
              " 0.0,\n",
              " 0.0,\n",
              " 0.0,\n",
              " 4.42396354675293,\n",
              " 2.0686450004577637,\n",
              " 0.0]"
            ]
          },
          "execution_count": 11,
          "metadata": {
            "tags": []
          },
          "output_type": "execute_result"
        }
      ],
      "source": [
        "user_vector"
      ]
    },
    {
      "cell_type": "markdown",
      "metadata": {
        "id": "e15ea6e8"
      },
      "source": [
        "### 2. Searching\n",
        "Pass in the user vector, and then recall vectors in the previously imported data collection and partition."
      ]
    },
    {
      "cell_type": "code",
      "execution_count": null,
      "metadata": {
        "id": "e4d91d02"
      },
      "outputs": [],
      "source": [
        "TOP_K = 20\n",
        "SEARCH_PARAM = {'nprobe': 20}\n",
        "status, results = milv.search(collection_name=COLLECTION_NAME, query_records=[user_vector], top_k=TOP_K, params=SEARCH_PARAM)"
      ]
    },
    {
      "cell_type": "markdown",
      "metadata": {
        "id": "9c847608"
      },
      "source": [
        "### 3. Returning Information by IDs"
      ]
    },
    {
      "cell_type": "code",
      "execution_count": null,
      "metadata": {
        "id": "90a56325"
      },
      "outputs": [
        {
          "data": {
            "text/plain": [
              "['{\"movie_id\": \"760\", \"title\": \"Stalingrad (1993)\", \"genre\": [\"War\"]}',\n",
              " '{\"movie_id\": \"1350\", \"title\": \"Omen, The (1976)\", \"genre\": [\"Horror\"]}',\n",
              " '{\"movie_id\": \"1258\", \"title\": \"Shining, The (1980)\", \"genre\": [\"Horror\"]}',\n",
              " '{\"movie_id\": \"632\", \"title\": \"Land and Freedom (Tierra y libertad) (1995)\", \"genre\": [\"War\"]}',\n",
              " '{\"movie_id\": \"3007\", \"title\": \"American Movie (1999)\", \"genre\": [\"Documentary\"]}',\n",
              " '{\"movie_id\": \"2086\", \"title\": \"One Magic Christmas (1985)\", \"genre\": [\"Drama\", \"Fantasy\"]}',\n",
              " '{\"movie_id\": \"1051\", \"title\": \"Trees Lounge (1996)\", \"genre\": [\"Drama\"]}',\n",
              " '{\"movie_id\": \"3920\", \"title\": \"Faraway, So Close (In Weiter Ferne, So Nah!) (1993)\", \"genre\": [\"Drama\", \"Fantasy\"]}',\n",
              " '{\"movie_id\": \"1303\", \"title\": \"Man Who Would Be King, The (1975)\", \"genre\": [\"Adventure\"]}',\n",
              " '{\"movie_id\": \"652\", \"title\": \"301, 302 (1995)\", \"genre\": [\"Mystery\"]}',\n",
              " '{\"movie_id\": \"1605\", \"title\": \"Excess Baggage (1997)\", \"genre\": [\"Adventure\", \"Romance\"]}',\n",
              " '{\"movie_id\": \"1275\", \"title\": \"Highlander (1986)\", \"genre\": [\"Action\", \"Adventure\"]}',\n",
              " '{\"movie_id\": \"1126\", \"title\": \"Drop Dead Fred (1991)\", \"genre\": [\"Comedy\", \"Fantasy\"]}',\n",
              " '{\"movie_id\": \"792\", \"title\": \"Hungarian Fairy Tale, A (1987)\", \"genre\": [\"Fantasy\"]}',\n",
              " '{\"movie_id\": \"2228\", \"title\": \"Mountain Eagle, The (1926)\", \"genre\": [\"Drama\"]}',\n",
              " '{\"movie_id\": \"2659\", \"title\": \"It Came from Hollywood (1982)\", \"genre\": [\"Comedy\", \"Documentary\"]}',\n",
              " '{\"movie_id\": \"2545\", \"title\": \"Relax... It\\'s Just Sex (1998)\", \"genre\": [\"Comedy\"]}',\n",
              " '{\"movie_id\": \"1289\", \"title\": \"Koyaanisqatsi (1983)\", \"genre\": [\"Documentary\", \"War\"]}',\n",
              " '{\"movie_id\": \"2537\", \"title\": \"Beyond the Poseidon Adventure (1979)\", \"genre\": [\"Adventure\"]}',\n",
              " '{\"movie_id\": \"2864\", \"title\": \"Splendor (1999)\", \"genre\": [\"Comedy\"]}']"
            ]
          },
          "execution_count": 23,
          "metadata": {
            "tags": []
          },
          "output_type": "execute_result"
        }
      ],
      "source": [
        "recall_results = []\n",
        "for x in results[0]:\n",
        "    recall_results.append(r.get(\"{}##movie_info\".format(x.id)).decode('utf-8'))\n",
        "recall_results"
      ]
    },
    {
      "cell_type": "markdown",
      "metadata": {
        "id": "d4f7e3c5"
      },
      "source": [
        "## Conclusion"
      ]
    },
    {
      "cell_type": "markdown",
      "metadata": {
        "id": "843120ee"
      },
      "source": [
        "After completing the recall service, the results can be further sorted using the **movie_recommender** model, and then the movies with high similarity scores can be recommended to users. You can try this deployable recommendation system using this [quick start](QUICK_START.md)."
      ]
    }
  ],
  "metadata": {
    "colab": {
      "collapsed_sections": [],
      "name": "T822164_movielens_milvus_redis_efficient_retrieval.ipynb",
      "toc_visible": true
    },
    "kernelspec": {
      "display_name": "Python 3",
      "name": "python3"
    }
  },
  "nbformat": 4,
  "nbformat_minor": 0
}
