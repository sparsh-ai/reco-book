{
  "cells": [
    {
      "cell_type": "markdown",
      "metadata": {
        "id": "uEhvwbHYDrdo"
      },
      "source": [
        "# Collaborative Filtering on ML-latest-small"
      ]
    },
    {
      "cell_type": "markdown",
      "metadata": {
        "id": "4ZXcwgHEfyT4"
      },
      "source": [
        "## Part 1 - Data loading and EDA\n",
        "> Collaborative Filtering on MovieLens Latest-small Part 1 - Downloading movielens latest small dataset and exploratory data analysis"
      ]
    },
    {
      "cell_type": "code",
      "execution_count": null,
      "metadata": {
        "id": "0JOjBYo-Llxk"
      },
      "outputs": [],
      "source": [
        "import matplotlib.pyplot as plt\n",
        "import pandas as pd\n",
        "import numpy as np\n",
        "import sys\n",
        "import os\n",
        "\n",
        "from scipy.sparse import csr_matrix\n",
        "from sklearn.preprocessing import LabelEncoder"
      ]
    },
    {
      "cell_type": "code",
      "execution_count": null,
      "metadata": {
        "id": "_E35u8EhMaSn"
      },
      "outputs": [],
      "source": [
        "!wget http://files.grouplens.org/datasets/movielens/ml-latest-small.zip\n",
        "!unzip ml-latest-small.zip"
      ]
    },
    {
      "cell_type": "code",
      "execution_count": null,
      "metadata": {
        "id": "-eAcwzlgMR7E"
      },
      "outputs": [],
      "source": [
        "DOWNLOAD_DESTINATION_DIR = \"/content/ml-latest-small\"\n",
        "\n",
        "ratings_path = os.path.join(DOWNLOAD_DESTINATION_DIR, 'ratings.csv')\n",
        "ratings = pd.read_csv(\n",
        "    ratings_path,\n",
        "    sep=',',\n",
        "    names=[\"userid\", \"itemid\", \"rating\", \"timestamp\"],\n",
        "    skiprows=1\n",
        ")\n",
        "\n",
        "movies_path = os.path.join(DOWNLOAD_DESTINATION_DIR, 'movies.csv')\n",
        "movies = pd.read_csv(\n",
        "    movies_path,\n",
        "    sep=',',\n",
        "    names=[\"itemid\", \"title\", \"genres\"],\n",
        "    encoding='latin-1',\n",
        "    skiprows=1\n",
        ")"
      ]
    },
    {
      "cell_type": "code",
      "execution_count": null,
      "metadata": {
        "id": "t8gjAW3FM0Rg"
      },
      "outputs": [
        {
          "data": {
            "text/html": [
              "<div>\n",
              "<style scoped>\n",
              "    .dataframe tbody tr th:only-of-type {\n",
              "        vertical-align: middle;\n",
              "    }\n",
              "\n",
              "    .dataframe tbody tr th {\n",
              "        vertical-align: top;\n",
              "    }\n",
              "\n",
              "    .dataframe thead th {\n",
              "        text-align: right;\n",
              "    }\n",
              "</style>\n",
              "<table border=\"1\" class=\"dataframe\">\n",
              "  <thead>\n",
              "    <tr style=\"text-align: right;\">\n",
              "      <th></th>\n",
              "      <th>userid</th>\n",
              "      <th>itemid</th>\n",
              "      <th>rating</th>\n",
              "      <th>timestamp</th>\n",
              "    </tr>\n",
              "  </thead>\n",
              "  <tbody>\n",
              "    <tr>\n",
              "      <th>0</th>\n",
              "      <td>1</td>\n",
              "      <td>1</td>\n",
              "      <td>4.0</td>\n",
              "      <td>964982703</td>\n",
              "    </tr>\n",
              "    <tr>\n",
              "      <th>1</th>\n",
              "      <td>1</td>\n",
              "      <td>3</td>\n",
              "      <td>4.0</td>\n",
              "      <td>964981247</td>\n",
              "    </tr>\n",
              "    <tr>\n",
              "      <th>2</th>\n",
              "      <td>1</td>\n",
              "      <td>6</td>\n",
              "      <td>4.0</td>\n",
              "      <td>964982224</td>\n",
              "    </tr>\n",
              "    <tr>\n",
              "      <th>3</th>\n",
              "      <td>1</td>\n",
              "      <td>47</td>\n",
              "      <td>5.0</td>\n",
              "      <td>964983815</td>\n",
              "    </tr>\n",
              "    <tr>\n",
              "      <th>4</th>\n",
              "      <td>1</td>\n",
              "      <td>50</td>\n",
              "      <td>5.0</td>\n",
              "      <td>964982931</td>\n",
              "    </tr>\n",
              "  </tbody>\n",
              "</table>\n",
              "</div>"
            ],
            "text/plain": [
              "   userid  itemid  rating  timestamp\n",
              "0       1       1     4.0  964982703\n",
              "1       1       3     4.0  964981247\n",
              "2       1       6     4.0  964982224\n",
              "3       1      47     5.0  964983815\n",
              "4       1      50     5.0  964982931"
            ]
          },
          "execution_count": 4,
          "metadata": {
            "tags": []
          },
          "output_type": "execute_result"
        }
      ],
      "source": [
        "ratings.head()"
      ]
    },
    {
      "cell_type": "code",
      "execution_count": null,
      "metadata": {
        "id": "1Ra5MaWNM_j5"
      },
      "outputs": [
        {
          "data": {
            "text/html": [
              "<div>\n",
              "<style scoped>\n",
              "    .dataframe tbody tr th:only-of-type {\n",
              "        vertical-align: middle;\n",
              "    }\n",
              "\n",
              "    .dataframe tbody tr th {\n",
              "        vertical-align: top;\n",
              "    }\n",
              "\n",
              "    .dataframe thead th {\n",
              "        text-align: right;\n",
              "    }\n",
              "</style>\n",
              "<table border=\"1\" class=\"dataframe\">\n",
              "  <thead>\n",
              "    <tr style=\"text-align: right;\">\n",
              "      <th></th>\n",
              "      <th>itemid</th>\n",
              "      <th>title</th>\n",
              "      <th>genres</th>\n",
              "    </tr>\n",
              "  </thead>\n",
              "  <tbody>\n",
              "    <tr>\n",
              "      <th>0</th>\n",
              "      <td>1</td>\n",
              "      <td>Toy Story (1995)</td>\n",
              "      <td>Adventure|Animation|Children|Comedy|Fantasy</td>\n",
              "    </tr>\n",
              "    <tr>\n",
              "      <th>1</th>\n",
              "      <td>2</td>\n",
              "      <td>Jumanji (1995)</td>\n",
              "      <td>Adventure|Children|Fantasy</td>\n",
              "    </tr>\n",
              "    <tr>\n",
              "      <th>2</th>\n",
              "      <td>3</td>\n",
              "      <td>Grumpier Old Men (1995)</td>\n",
              "      <td>Comedy|Romance</td>\n",
              "    </tr>\n",
              "    <tr>\n",
              "      <th>3</th>\n",
              "      <td>4</td>\n",
              "      <td>Waiting to Exhale (1995)</td>\n",
              "      <td>Comedy|Drama|Romance</td>\n",
              "    </tr>\n",
              "    <tr>\n",
              "      <th>4</th>\n",
              "      <td>5</td>\n",
              "      <td>Father of the Bride Part II (1995)</td>\n",
              "      <td>Comedy</td>\n",
              "    </tr>\n",
              "  </tbody>\n",
              "</table>\n",
              "</div>"
            ],
            "text/plain": [
              "   itemid  ...                                       genres\n",
              "0       1  ...  Adventure|Animation|Children|Comedy|Fantasy\n",
              "1       2  ...                   Adventure|Children|Fantasy\n",
              "2       3  ...                               Comedy|Romance\n",
              "3       4  ...                         Comedy|Drama|Romance\n",
              "4       5  ...                                       Comedy\n",
              "\n",
              "[5 rows x 3 columns]"
            ]
          },
          "execution_count": 5,
          "metadata": {
            "tags": []
          },
          "output_type": "execute_result"
        }
      ],
      "source": [
        "movies.head()"
      ]
    },
    {
      "cell_type": "code",
      "execution_count": null,
      "metadata": {
        "id": "50uSTCGlWcCp"
      },
      "outputs": [
        {
          "name": "stdout",
          "output_type": "stream",
          "text": [
            "There are 610 users and 9724 movies in this dataset.\n"
          ]
        }
      ],
      "source": [
        "print(\"There are {} users and {} movies in this dataset.\"\\\n",
        "      .format(ratings.userid.nunique(),\n",
        "              ratings.itemid.nunique()))"
      ]
    },
    {
      "cell_type": "code",
      "execution_count": null,
      "metadata": {
        "id": "XoFmEgtQNBEa"
      },
      "outputs": [
        {
          "data": {
            "image/png": "[encoded data removed]",
            "text/plain": [
              "<Figure size 432x288 with 1 Axes>"
            ]
          },
          "metadata": {
            "needs_background": "light",
            "tags": []
          },
          "output_type": "display_data"
        }
      ],
      "source": [
        "# histogram of ratings\n",
        "ratings.groupby('rating').size().plot(kind='bar');"
      ]
    },
    {
      "cell_type": "markdown",
      "metadata": {
        "id": "34CUYZ1yNNzw"
      },
      "source": [
        "Ratings range from $0.5$ to $5.0$, with a step of $0.5$. The above histogram presents the repartition of ratings in the dataset. the two most commun ratings are $4.0$ and $3.0$ and the less common ratings are $0.5$ and $1.5$"
      ]
    },
    {
      "cell_type": "code",
      "execution_count": null,
      "metadata": {
        "id": "nSzaD8k7NLcp"
      },
      "outputs": [
        {
          "data": {
            "image/png": "[encoded data removed]",
            "text/plain": [
              "<Figure size 1152x432 with 1 Axes>"
            ]
          },
          "metadata": {
            "needs_background": "light",
            "tags": []
          },
          "output_type": "display_data"
        }
      ],
      "source": [
        "# average rating of movies\n",
        "movie_means = ratings.join(movies['title'], on='itemid').groupby('title').rating.mean()\n",
        "movie_means[:50].plot(kind='bar', grid=True, figsize=(16,6), title=\"mean ratings of 50 movies\");"
      ]
    },
    {
      "cell_type": "code",
      "execution_count": null,
      "metadata": {
        "id": "vkjdDzgGNdP9"
      },
      "outputs": [
        {
          "data": {
            "image/png": "[encoded data removed]",
            "text/plain": [
              "<Figure size 1152x288 with 2 Axes>"
            ]
          },
          "metadata": {
            "needs_background": "light",
            "tags": []
          },
          "output_type": "display_data"
        }
      ],
      "source": [
        "# 30 most rated movies vs. 30 less rated movies\n",
        "fig, (ax1, ax2) = plt.subplots(ncols=2, figsize=(16,4), sharey=True)\n",
        "movie_means.nlargest(30).plot(kind='bar', ax=ax1, title=\"Top 30 movies in data set\");\n",
        "movie_means.nsmallest(30).plot(kind='bar', ax=ax2, title=\"Bottom 30 movies in data set\");"
      ]
    },
    {
      "cell_type": "code",
      "execution_count": null,
      "metadata": {
        "id": "La6eY8nJYI_w"
      },
      "outputs": [],
      "source": [
        "def ids_encoder(ratings):\n",
        "    users = sorted(ratings['userid'].unique())\n",
        "    items = sorted(ratings['itemid'].unique())\n",
        "\n",
        "    # create users and items encoders\n",
        "    uencoder = LabelEncoder()\n",
        "    iencoder = LabelEncoder()\n",
        "\n",
        "    # fit users and items ids to the corresponding encoder\n",
        "    uencoder.fit(users)\n",
        "    iencoder.fit(items)\n",
        "\n",
        "    # encode userids and itemids\n",
        "    ratings.userid = uencoder.transform(ratings.userid.tolist())\n",
        "    ratings.itemid = iencoder.transform(ratings.itemid.tolist())\n",
        "\n",
        "    return ratings, uencoder, iencoder"
      ]
    },
    {
      "cell_type": "code",
      "execution_count": null,
      "metadata": {
        "id": "QVneOxkPNdLW"
      },
      "outputs": [],
      "source": [
        "# userids and itemids encoding\n",
        "ratings, uencoder, iencoder = ids_encoder(ratings)"
      ]
    },
    {
      "cell_type": "code",
      "execution_count": null,
      "metadata": {
        "id": "3ryDZb22TAmb"
      },
      "outputs": [],
      "source": [
        "# transform rating dataframe to matrix\n",
        "def ratings_matrix(ratings):    \n",
        "    return csr_matrix(pd.crosstab(ratings.userid, ratings.itemid, ratings.rating, aggfunc=sum).fillna(0).values)    \n",
        "\n",
        "R = ratings_matrix(ratings)"
      ]
    },
    {
      "cell_type": "code",
      "execution_count": null,
      "metadata": {
        "id": "HD4326rdVpUu"
      },
      "outputs": [
        {
          "data": {
            "text/plain": [
              "matrix([[4. , 0. , 4. , 0. , 0. , 4. , 0. , 0. , 0. , 0. ],\n",
              "        [0. , 0. , 0. , 0. , 0. , 0. , 0. , 0. , 0. , 0. ],\n",
              "        [0. , 0. , 0. , 0. , 0. , 0. , 0. , 0. , 0. , 0. ],\n",
              "        [0. , 0. , 0. , 0. , 0. , 0. , 0. , 0. , 0. , 0. ],\n",
              "        [4. , 0. , 0. , 0. , 0. , 0. , 0. , 0. , 0. , 0. ],\n",
              "        [0. , 4. , 5. , 3. , 5. , 4. , 4. , 3. , 0. , 3. ],\n",
              "        [4.5, 0. , 0. , 0. , 0. , 0. , 0. , 0. , 0. , 0. ],\n",
              "        [0. , 4. , 0. , 0. , 0. , 0. , 0. , 0. , 0. , 2. ],\n",
              "        [0. , 0. , 0. , 0. , 0. , 0. , 0. , 0. , 0. , 0. ],\n",
              "        [0. , 0. , 0. , 0. , 0. , 0. , 0. , 0. , 0. , 0. ]])"
            ]
          },
          "execution_count": 13,
          "metadata": {
            "tags": []
          },
          "output_type": "execute_result"
        }
      ],
      "source": [
        "R[:10,:10].todense()"
      ]
    },
    {
      "cell_type": "code",
      "execution_count": null,
      "metadata": {
        "id": "Bx-mclSdWGmm"
      },
      "outputs": [
        {
          "data": {
            "image/png": "[encoded data removed]",
            "text/plain": [
              "<Figure size 1440x720 with 1 Axes>"
            ]
          },
          "metadata": {
            "needs_background": "light",
            "tags": []
          },
          "output_type": "display_data"
        }
      ],
      "source": [
        "plt.figure(figsize=(20,10))\n",
        "plt.imshow(csr_matrix(R).todense(), cmap='hot', interpolation='nearest')\n",
        "plt.show()"
      ]
    },
    {
      "cell_type": "code",
      "execution_count": null,
      "metadata": {
        "id": "h0y6wu7eXfCh"
      },
      "outputs": [
        {
          "data": {
            "image/png": "[encoded data removed]",
            "text/plain": [
              "<Figure size 360x360 with 1 Axes>"
            ]
          },
          "metadata": {
            "needs_background": "light",
            "tags": []
          },
          "output_type": "display_data"
        }
      ],
      "source": [
        "plt.figure(figsize=(5,5))\n",
        "plt.imshow(csr_matrix(R[:100,:100]).todense(), cmap='hot', interpolation='nearest')\n",
        "plt.show()"
      ]
    },
    {
      "cell_type": "markdown",
      "metadata": {
        "id": "qyPbyojOhURY"
      },
      "source": [
        "## Part 2 - User-based method\n",
        "> Collaborative Filtering on MovieLens Latest-small Part 2 - Finding recommendations using memory based user-user similarity method"
      ]
    },
    {
      "cell_type": "markdown",
      "metadata": {
        "id": "SE33o-Z1gB5y"
      },
      "source": [
        "### Download tools"
      ]
    },
    {
      "cell_type": "code",
      "execution_count": null,
      "metadata": {
        "id": "_11-qrsSgB51"
      },
      "outputs": [],
      "source": [
        "import os\n",
        "\n",
        "if not (os.path.exists(\"recsys.zip\") or os.path.exists(\"recsys\")):\n",
        "    !wget https://github.com/nzhinusoftcm/review-on-collaborative-filtering/raw/master/recsys.zip    \n",
        "    !unzip recsys.zip"
      ]
    },
    {
      "cell_type": "markdown",
      "metadata": {
        "id": "7GbwgznIgB57"
      },
      "source": [
        "### Import requirements\n",
        "```\n",
        "matplotlib==3.2.2\n",
        "numpy==1.19.2\n",
        "pandas==1.0.5\n",
        "python==3.7\n",
        "scikit-learn==0.24.1\n",
        "scikit-surprise==1.1.1\n",
        "scipy==1.6.2\n",
        "```"
      ]
    },
    {
      "cell_type": "code",
      "execution_count": null,
      "metadata": {
        "id": "QS_R1id1gB5-"
      },
      "outputs": [],
      "source": [
        "from sklearn.neighbors import NearestNeighbors\n",
        "from scipy.sparse import csr_matrix\n",
        "\n",
        "from recsys.datasets import ml100k\n",
        "from recsys.preprocessing import ids_encoder\n",
        "\n",
        "import pandas as pd\n",
        "import numpy as np\n",
        "import zipfile"
      ]
    },
    {
      "cell_type": "markdown",
      "metadata": {
        "id": "i95Dc1UUgB5_"
      },
      "source": [
        "### Load MovieLen ratings"
      ]
    },
    {
      "cell_type": "code",
      "execution_count": null,
      "metadata": {
        "id": "0g3RGJAmgB6B"
      },
      "outputs": [],
      "source": [
        "ratings, movies = ml100k.load()"
      ]
    },
    {
      "cell_type": "markdown",
      "metadata": {
        "id": "11V7xUSbgB6G"
      },
      "source": [
        "### userids and itemids encoding"
      ]
    },
    {
      "cell_type": "code",
      "execution_count": null,
      "metadata": {
        "id": "tPxE5jUkgB6M"
      },
      "outputs": [],
      "source": [
        "# create the encoder\n",
        "ratings, uencoder, iencoder = ids_encoder(ratings)"
      ]
    },
    {
      "cell_type": "markdown",
      "metadata": {
        "id": "0jO1hP-7gB6O"
      },
      "source": [
        "### Transform rating dataframe to matrix"
      ]
    },
    {
      "cell_type": "code",
      "execution_count": null,
      "metadata": {
        "id": "zi_AduhbgB6T"
      },
      "outputs": [],
      "source": [
        "def ratings_matrix(ratings):    \n",
        "    return csr_matrix(pd.crosstab(ratings.userid, ratings.itemid, ratings.rating, aggfunc=sum).fillna(0).values)    \n",
        "\n",
        "R = ratings_matrix(ratings)"
      ]
    },
    {
      "cell_type": "markdown",
      "metadata": {
        "id": "5rx37eszgB6W"
      },
      "source": [
        "Memory based collaborative filtering (CF) also known as nearest neighbors based CF makes recommendation based on similar behavious of users and items. There are two types of memory based CF : <b>user-based</b> and <b>item-based</b> CF. Both of these algorithm usually proceed in three stages :\n",
        "\n",
        "1. Similarity computation (between users or items)\n",
        "2. Rating prediction (using ratings of similar users or items)\n",
        "3. Top-N recommendation\n"
      ]
    },
    {
      "cell_type": "markdown",
      "metadata": {
        "id": "7hCnJQNbgB6f"
      },
      "source": [
        "### Idea\n",
        "\n",
        "Let $u$ be the user for which we plan to make recommendations. \n",
        "\n",
        "1. Find other users whose past rating behavior is similar to that of $u$\n",
        "2. Use their ratings on other items to predict what the current user will like"
      ]
    },
    {
      "cell_type": "markdown",
      "metadata": {
        "id": "8Y4SvQ9ogB6h"
      },
      "source": [
        "### Algorithm : user-to-user collaborative filtering\n",
        "\n",
        "The entire process of user-to-user CF algorithm is described as follow <a href=\"https://romisatriawahono.net/lecture/rm/survey/information%20retrieval/Bobadilla%20-%20Recommender%20Systems%20-%202013.pdf\">(J. Bobadilla et al. 2013)</a>: For an active user $u$,\n",
        "\n",
        "<ol>\n",
        "    <li> First identify the set $G_u$ of $k$ most similar users. $G_u$ is the group users similar to the active user $u$. The similarity between two users $u$ and $v$ can be measured by the cosine similarity measure as follows :\n",
        "\n",
        "\\begin{equation}\n",
        " w_{u,v}=\\frac{\\vec{r}_u \\cdot \\vec{r}_v}{\\|\\vec{r}_u\\|_2 \\ast \\|\\vec{r}_v\\|_2} = \\frac{\\sum_{i\\in I}r_{u,i}r_{v,i}}{\\sqrt{\\sum_{i\\in I} (r_{u,i})^2}\\sqrt{\\sum_{i\\in I} (r_{v,i})^2}}\n",
        "\\end{equation}\n",
        "\n",
        "$w_{u,v}$ is the degree of similarity between users $u$ and $v$. This term is computed for all $v\\in U$, where $U$ is the set of all users. There remains the question of how many neighbors to select. As experimented by <a href=\"https://dl.acm.org/doi/10.1145/3130348.3130372\">(Herlocker et al. 1999)</a>, $k\\in [20,50]$ is a reasonable starting point in many domains.\n",
        "    </li>\n",
        "    <li> Find the set $C$ of candidate items, purchased by the group and not purchased by the active user $u$. Candidate items have to be the most frequent items purchased by the group.\n",
        "    </li>\n",
        "    <li>Aggregate ratings of users in $G_u$ to make predictions for user $u$ on items he has not already purchased. Several aggregation approaches are often used such as <b>average, weighted sum, ajusted weighted sum</b>. By using weighted sum, the predicted rating of user $u$ on item $i$ denoted by $\\hat{r}_{u,i}$ is computed as follow :\n",
        "\n",
        "\\begin{equation}\n",
        " \\hat{r}_{u,i}=\\bar{r}_u + \\frac{\\sum_{v\\in G_u}(r_{v,i}-\\bar{r}_v)\\cdot w_{u,v}}{\\sum_{v\\in G_u}|w_{u,v}|}.\n",
        "\\end{equation}\n",
        "\n",
        "Ratings of similar users are weighted by the corresponding similarity with the active user. Summation are made over all the users who have rated item $i$. Subtracting the user’s mean rating $\\bar{r}_v$ compensates for differences in users’ use of the rating scale as some users will tend to give higher ratings than others <a href=\"https://dl.acm.org/doi/10.1561/1100000009\">(Michael D. Ekstrand, <i>et al.</i> 2011)</a>. This prediction is made for all items $i \\in C$ not purchased by user $u$.\n",
        "    </li>\n",
        "    <li>The Top-$N$ recommendations are obtained by choosing the $N$ items which provide most satisfaction to the user according to prediction.\n",
        "    </li>\n",
        "</ol>"
      ]
    },
    {
      "cell_type": "markdown",
      "metadata": {
        "id": "n9cuEYongB6j"
      },
      "source": [
        "#### Step 1. Identify $G_u$, the set of $k$ users similar to an active user $u$"
      ]
    },
    {
      "cell_type": "markdown",
      "metadata": {
        "id": "NXPwjOm2gB6l"
      },
      "source": [
        "To find the $k$ most similar users to $u$, we use the cosine similarity and compute $w_{u,v}$ for all $v\\in U$. Fortunately, libraries such as <i>scikit-learn (sklearn)</i> are very useful for such tasks :\n",
        "\n",
        "1. First of all, we create a nearest neighbors model with sklearn through the function ```create_model()```. This function creates and fit a nearest neighbors model with user's ratings. We can choose ```cosine``` or ```euclidian``` based similarity metric. ```n_neighbors=21``` define the number of neighbors to return. With $k=20$ neighbors, $|G_u|=21$ as $G_u$ contains $20$ similar users added to the active user $u$. That is why ```n_neighbors=21```. Each row $r_u$ of the rating matrix $R$ represents ratings of user $u$ on all items of the database. Missing ratings are replaced with $0.0$. \n",
        "```python\n",
        "R[u,:] # uth row of the rating matrix R. Ratings of user u on all items in the database\n",
        "```\n",
        "2. Function ```nearest_neighbors()``` returns the knn users for each user."
      ]
    },
    {
      "cell_type": "code",
      "execution_count": null,
      "metadata": {
        "id": "-9x9jpDkgB6n"
      },
      "outputs": [],
      "source": [
        "def create_model(rating_matrix, metric):\n",
        "    \"\"\"\n",
        "    - create the nearest neighbors model with the corresponding similarity metric\n",
        "    - fit the model\n",
        "    \"\"\"\n",
        "    model = NearestNeighbors(metric=metric, n_neighbors=21, algorithm='brute')\n",
        "    model.fit(rating_matrix)    \n",
        "    return model"
      ]
    },
    {
      "cell_type": "code",
      "execution_count": null,
      "metadata": {
        "id": "GnSme27dgB6p"
      },
      "outputs": [],
      "source": [
        "def nearest_neighbors(rating_matrix, model):\n",
        "    \"\"\"    \n",
        "    :param rating_matrix : rating matrix of shape (nb_users, nb_items)\n",
        "    :param model : nearest neighbors model    \n",
        "    :return\n",
        "        - similarities : distances of the neighbors from the referenced user\n",
        "        - neighbors : neighbors of the referenced user in decreasing order of similarities\n",
        "    \"\"\"    \n",
        "    similarities, neighbors = model.kneighbors(rating_matrix)        \n",
        "    return similarities[:, 1:], neighbors[:, 1:]"
      ]
    },
    {
      "cell_type": "markdown",
      "metadata": {
        "id": "uXbvxzC8gB6q"
      },
      "source": [
        "Let's call functions ```create_model()``` and ```nearest_neighbors()``` to respectively create the $k$-NN model and compute the nearest neighbors for a given user"
      ]
    },
    {
      "cell_type": "code",
      "execution_count": null,
      "metadata": {
        "id": "9cqqDR_5gB6r"
      },
      "outputs": [],
      "source": [
        "model = create_model(rating_matrix=R, metric='cosine') # we can also use the 'euclidian' distance\n",
        "similarities, neighbors = nearest_neighbors(R, model)"
      ]
    },
    {
      "cell_type": "markdown",
      "metadata": {
        "id": "W6Gh_1bCgB6s"
      },
      "source": [
        "#### Step 2. Find candidate items"
      ]
    },
    {
      "cell_type": "markdown",
      "metadata": {
        "id": "mozg_Q3NgB6v"
      },
      "source": [
        "The set $C$ of candidate items are the most frequent ones purchased by users in $G_u$ for an active user $u$ and not purchased by $u$."
      ]
    },
    {
      "cell_type": "markdown",
      "metadata": {
        "id": "FeIcM33KgB6x"
      },
      "source": [
        "Function ```find_candidate_items()``` : find items purchased by these similar users as well as their frequency. Note that the frequency of the items in the set $C$ can be computed by just counting the actual occurrence frequency of that items.\n",
        "\n",
        "1. ```Gu_items``` : frequent items of $G_u$ in decreasing order of frequency.\n",
        "2. ```active_items``` : items already purchased by the active user\n",
        "3. ```candidates``` : frequent items of $G_u$ not purchased by the active user $u$"
      ]
    },
    {
      "cell_type": "code",
      "execution_count": null,
      "metadata": {
        "id": "z7VvpeZcgB64"
      },
      "outputs": [],
      "source": [
        "def find_candidate_items(userid):\n",
        "    \"\"\"\n",
        "    Find candidate items for an active user\n",
        "    \n",
        "    :param userid : active user\n",
        "    :param neighbors : users similar to the active user        \n",
        "    :return candidates : top 30 of candidate items\n",
        "    \"\"\"\n",
        "    user_neighbors = neighbors[userid]\n",
        "    activities = ratings.loc[ratings.userid.isin(user_neighbors)]\n",
        "    \n",
        "    # sort items in decreasing order of frequency\n",
        "    frequency = activities.groupby('itemid')['rating'].count().reset_index(name='count').sort_values(['count'],ascending=False)\n",
        "    Gu_items = frequency.itemid\n",
        "    active_items = ratings.loc[ratings.userid == userid].itemid.to_list()\n",
        "    candidates = np.setdiff1d(Gu_items, active_items, assume_unique=True)[:30]\n",
        "        \n",
        "    return candidates"
      ]
    },
    {
      "cell_type": "markdown",
      "metadata": {
        "id": "dr3w67zOgB69"
      },
      "source": [
        "#### Step 3. Rating prediction"
      ]
    },
    {
      "cell_type": "markdown",
      "metadata": {
        "id": "ZxnNDPLsgB7A"
      },
      "source": [
        "Now it's time to predict what score the active user $u$ would have given to each of the top-30 candidate items.\n",
        "\n",
        "To predict the score of $u$ on a candidate item $i$ ,we need :\n",
        "1. Similarities between $u$ and all his neighbors $v \\in G_u$ who rated item $i$ : function ```nearest_neighbors()``` returns similar users of a user as well as their corresponding similarities.\n",
        "2. Normalized ratings of all $v \\in G_u$ on item $i$. The normalized rating of user $v$ on item $i$ is defined by $r_{v,i}-\\bar{r}_v$."
      ]
    },
    {
      "cell_type": "markdown",
      "metadata": {
        "id": "IRT3d7BLgB7E"
      },
      "source": [
        "Next, let's compute the mean rating of each user and the normalized ratings for each item. The DataFrame ```mean``` contains mean rating for each user. With the mean rating of each user, we can add an extra column ```norm_rating``` to the ```ratings```'s DataFrame which can be accessed to make predictions."
      ]
    },
    {
      "cell_type": "code",
      "execution_count": null,
      "metadata": {
        "id": "eyZ-DZN_gB7M"
      },
      "outputs": [],
      "source": [
        "# mean ratings for each user\n",
        "mean = ratings.groupby(by='userid', as_index=False)['rating'].mean()\n",
        "mean_ratings = pd.merge(ratings, mean, suffixes=('','_mean'), on='userid')\n",
        "\n",
        "# normalized ratings for each items\n",
        "mean_ratings['norm_rating'] = mean_ratings['rating'] - mean_ratings['rating_mean']\n",
        "\n",
        "mean = mean.to_numpy()[:, 1]"
      ]
    },
    {
      "cell_type": "code",
      "execution_count": null,
      "metadata": {
        "id": "siSec0WkgB7R"
      },
      "outputs": [],
      "source": [
        "np_ratings = mean_ratings.to_numpy()"
      ]
    },
    {
      "cell_type": "markdown",
      "metadata": {
        "id": "2UQduZpbgB7V"
      },
      "source": [
        "Let us define function ```predict``` that predict rating between user $u$ and item $i$. Recall that the prediction formula is defined as follow :\n",
        "\n",
        "\\begin{equation}\n",
        " \\hat{r}_{u,i}=\\bar{r}_u + \\frac{\\sum_{v\\in G_u}(r_{v,i}-\\bar{r}_v)\\cdot w_{u,v}}{\\sum_{v\\in G_u}|w_{u,v}|}.\n",
        "\\end{equation}"
      ]
    },
    {
      "cell_type": "code",
      "execution_count": null,
      "metadata": {
        "id": "f08b1FqvgB7W"
      },
      "outputs": [],
      "source": [
        "def predict(userid, itemid):\n",
        "    \"\"\"\n",
        "    predict what score userid would have given to itemid.\n",
        "    \n",
        "    :param\n",
        "        - userid : user id for which we want to make prediction\n",
        "        - itemid : item id on which we want to make prediction\n",
        "        \n",
        "    :return\n",
        "        - r_hat : predicted rating of user userid on item itemid\n",
        "    \"\"\"\n",
        "    user_similarities = similarities[userid]\n",
        "    user_neighbors = neighbors[userid]\n",
        "    # get mean rating of user userid\n",
        "    user_mean = mean[userid]\n",
        "    \n",
        "    # find users who rated item 'itemid'\n",
        "    iratings = np_ratings[np_ratings[:, 1].astype('int') == itemid]\n",
        "    \n",
        "    # find similar users to 'userid' who rated item 'itemid'\n",
        "    suri = iratings[np.isin(iratings[:, 0], user_neighbors)]\n",
        "    \n",
        "    # similar users who rated current item (surci)\n",
        "    normalized_ratings = suri[:,4]\n",
        "    indexes = [np.where(user_neighbors == uid)[0][0] for uid in suri[:, 0].astype('int')]\n",
        "    sims = user_similarities[indexes]\n",
        "    \n",
        "    num = np.dot(normalized_ratings, sims)\n",
        "    den = np.sum(np.abs(sims))\n",
        "    \n",
        "    if num == 0 or den == 0:\n",
        "        return user_mean\n",
        "    \n",
        "    r_hat = user_mean + np.dot(normalized_ratings, sims) / np.sum(np.abs(sims))\n",
        "    \n",
        "    return r_hat"
      ]
    },
    {
      "cell_type": "markdown",
      "metadata": {
        "id": "H2cfxcs2gB7Y"
      },
      "source": [
        "Now, we can make rating prediction for a given user on each item in his set of candidate items."
      ]
    },
    {
      "cell_type": "code",
      "execution_count": null,
      "metadata": {
        "id": "I4vK7ulrgB7Z"
      },
      "outputs": [],
      "source": [
        "def user2userPredictions(userid, pred_path):\n",
        "    \"\"\"\n",
        "    Make rating prediction for the active user on each candidate item and save in file prediction.csv\n",
        "    \n",
        "    :param\n",
        "        - userid : id of the active user\n",
        "        - pred_path : where to save predictions\n",
        "    \"\"\"    \n",
        "    # find candidate items for the active user\n",
        "    candidates = find_candidate_items(userid)\n",
        "    \n",
        "    # loop over candidates items to make predictions\n",
        "    for itemid in candidates:\n",
        "        \n",
        "        # prediction for userid on itemid\n",
        "        r_hat = predict(userid, itemid)\n",
        "        \n",
        "        # save predictions\n",
        "        with open(pred_path, 'a+') as file:\n",
        "            line = '{},{},{}\\n'.format(userid, itemid, r_hat)\n",
        "            file.write(line)"
      ]
    },
    {
      "cell_type": "code",
      "execution_count": null,
      "metadata": {
        "id": "Vx4HN4kPgB7f"
      },
      "outputs": [],
      "source": [
        "import sys\n",
        "\n",
        "def user2userCF():\n",
        "    \"\"\"\n",
        "    Make predictions for each user in the database.    \n",
        "    \"\"\"\n",
        "    # get list of users in the database\n",
        "    users = ratings.userid.unique()\n",
        "    \n",
        "    def _progress(count):\n",
        "        sys.stdout.write('\\rRating predictions. Progress status : %.1f%%' % (float(count/len(users))*100.0))\n",
        "        sys.stdout.flush()\n",
        "    \n",
        "    saved_predictions = 'predictions.csv'    \n",
        "    if os.path.exists(saved_predictions):\n",
        "        os.remove(saved_predictions)\n",
        "    \n",
        "    for count, userid in enumerate(users):        \n",
        "        # make rating predictions for the current user\n",
        "        user2userPredictions(userid, saved_predictions)\n",
        "        _progress(count)"
      ]
    },
    {
      "cell_type": "code",
      "execution_count": null,
      "metadata": {
        "id": "zxHW36qfgB7h"
      },
      "outputs": [
        {
          "name": "stdout",
          "output_type": "stream",
          "text": [
            "Rating predictions. Progress status : 99.9%"
          ]
        }
      ],
      "source": [
        "user2userCF()"
      ]
    },
    {
      "cell_type": "markdown",
      "metadata": {
        "id": "eLwR8O4OgB7r"
      },
      "source": [
        "#### Step 4. Top-N recommendation\n",
        "\n",
        "Function ```user2userRecommendation()``` reads predictions for a given user and return the list of items in decreasing order of predicted rating."
      ]
    },
    {
      "cell_type": "code",
      "execution_count": null,
      "metadata": {
        "id": "Hc5hyq25gB7u"
      },
      "outputs": [],
      "source": [
        "def user2userRecommendation(userid):\n",
        "    \"\"\"\n",
        "    \"\"\"\n",
        "    # encode the userid\n",
        "    uid = uencoder.transform([userid])[0]\n",
        "    saved_predictions = 'predictions.csv'\n",
        "    \n",
        "    predictions = pd.read_csv(saved_predictions, sep=',', names=['userid', 'itemid', 'predicted_rating'])\n",
        "    predictions = predictions[predictions.userid==uid]\n",
        "    List = predictions.sort_values(by=['predicted_rating'], ascending=False)\n",
        "    \n",
        "    List.userid = uencoder.inverse_transform(List.userid.tolist())\n",
        "    List.itemid = iencoder.inverse_transform(List.itemid.tolist())\n",
        "    \n",
        "    List = pd.merge(List, movies, on='itemid', how='inner')\n",
        "    \n",
        "    return List"
      ]
    },
    {
      "cell_type": "code",
      "execution_count": null,
      "metadata": {
        "id": "ID2YWpmSgB7v"
      },
      "outputs": [
        {
          "data": {
            "text/html": [
              "<div>\n",
              "<style scoped>\n",
              "    .dataframe tbody tr th:only-of-type {\n",
              "        vertical-align: middle;\n",
              "    }\n",
              "\n",
              "    .dataframe tbody tr th {\n",
              "        vertical-align: top;\n",
              "    }\n",
              "\n",
              "    .dataframe thead th {\n",
              "        text-align: right;\n",
              "    }\n",
              "</style>\n",
              "<table border=\"1\" class=\"dataframe\">\n",
              "  <thead>\n",
              "    <tr style=\"text-align: right;\">\n",
              "      <th></th>\n",
              "      <th>userid</th>\n",
              "      <th>itemid</th>\n",
              "      <th>predicted_rating</th>\n",
              "      <th>title</th>\n",
              "    </tr>\n",
              "  </thead>\n",
              "  <tbody>\n",
              "    <tr>\n",
              "      <th>0</th>\n",
              "      <td>212</td>\n",
              "      <td>483</td>\n",
              "      <td>4.871495</td>\n",
              "      <td>Casablanca (1942)</td>\n",
              "    </tr>\n",
              "    <tr>\n",
              "      <th>1</th>\n",
              "      <td>212</td>\n",
              "      <td>357</td>\n",
              "      <td>4.764547</td>\n",
              "      <td>One Flew Over the Cuckoo's Nest (1975)</td>\n",
              "    </tr>\n",
              "    <tr>\n",
              "      <th>2</th>\n",
              "      <td>212</td>\n",
              "      <td>50</td>\n",
              "      <td>4.660002</td>\n",
              "      <td>Star Wars (1977)</td>\n",
              "    </tr>\n",
              "    <tr>\n",
              "      <th>3</th>\n",
              "      <td>212</td>\n",
              "      <td>98</td>\n",
              "      <td>4.613636</td>\n",
              "      <td>Silence of the Lambs, The (1991)</td>\n",
              "    </tr>\n",
              "    <tr>\n",
              "      <th>4</th>\n",
              "      <td>212</td>\n",
              "      <td>64</td>\n",
              "      <td>4.550733</td>\n",
              "      <td>Shawshank Redemption, The (1994)</td>\n",
              "    </tr>\n",
              "    <tr>\n",
              "      <th>5</th>\n",
              "      <td>212</td>\n",
              "      <td>194</td>\n",
              "      <td>4.522336</td>\n",
              "      <td>Sting, The (1973)</td>\n",
              "    </tr>\n",
              "    <tr>\n",
              "      <th>6</th>\n",
              "      <td>212</td>\n",
              "      <td>174</td>\n",
              "      <td>4.521300</td>\n",
              "      <td>Raiders of the Lost Ark (1981)</td>\n",
              "    </tr>\n",
              "    <tr>\n",
              "      <th>7</th>\n",
              "      <td>212</td>\n",
              "      <td>134</td>\n",
              "      <td>4.414819</td>\n",
              "      <td>Citizen Kane (1941)</td>\n",
              "    </tr>\n",
              "    <tr>\n",
              "      <th>8</th>\n",
              "      <td>212</td>\n",
              "      <td>187</td>\n",
              "      <td>4.344531</td>\n",
              "      <td>Godfather: Part II, The (1974)</td>\n",
              "    </tr>\n",
              "    <tr>\n",
              "      <th>9</th>\n",
              "      <td>212</td>\n",
              "      <td>196</td>\n",
              "      <td>4.303696</td>\n",
              "      <td>Dead Poets Society (1989)</td>\n",
              "    </tr>\n",
              "    <tr>\n",
              "      <th>10</th>\n",
              "      <td>212</td>\n",
              "      <td>523</td>\n",
              "      <td>4.281802</td>\n",
              "      <td>Cool Hand Luke (1967)</td>\n",
              "    </tr>\n",
              "    <tr>\n",
              "      <th>11</th>\n",
              "      <td>212</td>\n",
              "      <td>216</td>\n",
              "      <td>4.278246</td>\n",
              "      <td>When Harry Met Sally... (1989)</td>\n",
              "    </tr>\n",
              "    <tr>\n",
              "      <th>12</th>\n",
              "      <td>212</td>\n",
              "      <td>100</td>\n",
              "      <td>4.260087</td>\n",
              "      <td>Fargo (1996)</td>\n",
              "    </tr>\n",
              "    <tr>\n",
              "      <th>13</th>\n",
              "      <td>212</td>\n",
              "      <td>168</td>\n",
              "      <td>4.206139</td>\n",
              "      <td>Monty Python and the Holy Grail (1974)</td>\n",
              "    </tr>\n",
              "    <tr>\n",
              "      <th>14</th>\n",
              "      <td>212</td>\n",
              "      <td>435</td>\n",
              "      <td>4.122984</td>\n",
              "      <td>Butch Cassidy and the Sundance Kid (1969)</td>\n",
              "    </tr>\n",
              "    <tr>\n",
              "      <th>15</th>\n",
              "      <td>212</td>\n",
              "      <td>135</td>\n",
              "      <td>4.115228</td>\n",
              "      <td>2001: A Space Odyssey (1968)</td>\n",
              "    </tr>\n",
              "    <tr>\n",
              "      <th>16</th>\n",
              "      <td>212</td>\n",
              "      <td>83</td>\n",
              "      <td>4.106995</td>\n",
              "      <td>Much Ado About Nothing (1993)</td>\n",
              "    </tr>\n",
              "    <tr>\n",
              "      <th>17</th>\n",
              "      <td>212</td>\n",
              "      <td>69</td>\n",
              "      <td>4.086366</td>\n",
              "      <td>Forrest Gump (1994)</td>\n",
              "    </tr>\n",
              "    <tr>\n",
              "      <th>18</th>\n",
              "      <td>212</td>\n",
              "      <td>70</td>\n",
              "      <td>4.086328</td>\n",
              "      <td>Four Weddings and a Funeral (1994)</td>\n",
              "    </tr>\n",
              "    <tr>\n",
              "      <th>19</th>\n",
              "      <td>212</td>\n",
              "      <td>275</td>\n",
              "      <td>3.985037</td>\n",
              "      <td>Sense and Sensibility (1995)</td>\n",
              "    </tr>\n",
              "    <tr>\n",
              "      <th>20</th>\n",
              "      <td>212</td>\n",
              "      <td>153</td>\n",
              "      <td>3.981619</td>\n",
              "      <td>Fish Called Wanda, A (1988)</td>\n",
              "    </tr>\n",
              "    <tr>\n",
              "      <th>21</th>\n",
              "      <td>212</td>\n",
              "      <td>514</td>\n",
              "      <td>3.956640</td>\n",
              "      <td>Annie Hall (1977)</td>\n",
              "    </tr>\n",
              "    <tr>\n",
              "      <th>22</th>\n",
              "      <td>212</td>\n",
              "      <td>521</td>\n",
              "      <td>3.937792</td>\n",
              "      <td>Deer Hunter, The (1978)</td>\n",
              "    </tr>\n",
              "    <tr>\n",
              "      <th>23</th>\n",
              "      <td>212</td>\n",
              "      <td>97</td>\n",
              "      <td>3.906106</td>\n",
              "      <td>Dances with Wolves (1990)</td>\n",
              "    </tr>\n",
              "    <tr>\n",
              "      <th>24</th>\n",
              "      <td>212</td>\n",
              "      <td>173</td>\n",
              "      <td>3.879325</td>\n",
              "      <td>Princess Bride, The (1987)</td>\n",
              "    </tr>\n",
              "    <tr>\n",
              "      <th>25</th>\n",
              "      <td>212</td>\n",
              "      <td>660</td>\n",
              "      <td>3.847897</td>\n",
              "      <td>Fried Green Tomatoes (1991)</td>\n",
              "    </tr>\n",
              "    <tr>\n",
              "      <th>26</th>\n",
              "      <td>212</td>\n",
              "      <td>215</td>\n",
              "      <td>3.709920</td>\n",
              "      <td>Field of Dreams (1989)</td>\n",
              "    </tr>\n",
              "    <tr>\n",
              "      <th>27</th>\n",
              "      <td>212</td>\n",
              "      <td>258</td>\n",
              "      <td>3.583718</td>\n",
              "      <td>Contact (1997)</td>\n",
              "    </tr>\n",
              "    <tr>\n",
              "      <th>28</th>\n",
              "      <td>212</td>\n",
              "      <td>202</td>\n",
              "      <td>3.508617</td>\n",
              "      <td>Groundhog Day (1993)</td>\n",
              "    </tr>\n",
              "    <tr>\n",
              "      <th>29</th>\n",
              "      <td>212</td>\n",
              "      <td>237</td>\n",
              "      <td>3.039041</td>\n",
              "      <td>Jerry Maguire (1996)</td>\n",
              "    </tr>\n",
              "  </tbody>\n",
              "</table>\n",
              "</div>"
            ],
            "text/plain": [
              "    userid  itemid  predicted_rating  \\\n",
              "0      212     483          4.871495   \n",
              "1      212     357          4.764547   \n",
              "2      212      50          4.660002   \n",
              "3      212      98          4.613636   \n",
              "4      212      64          4.550733   \n",
              "5      212     194          4.522336   \n",
              "6      212     174          4.521300   \n",
              "7      212     134          4.414819   \n",
              "8      212     187          4.344531   \n",
              "9      212     196          4.303696   \n",
              "10     212     523          4.281802   \n",
              "11     212     216          4.278246   \n",
              "12     212     100          4.260087   \n",
              "13     212     168          4.206139   \n",
              "14     212     435          4.122984   \n",
              "15     212     135          4.115228   \n",
              "16     212      83          4.106995   \n",
              "17     212      69          4.086366   \n",
              "18     212      70          4.086328   \n",
              "19     212     275          3.985037   \n",
              "20     212     153          3.981619   \n",
              "21     212     514          3.956640   \n",
              "22     212     521          3.937792   \n",
              "23     212      97          3.906106   \n",
              "24     212     173          3.879325   \n",
              "25     212     660          3.847897   \n",
              "26     212     215          3.709920   \n",
              "27     212     258          3.583718   \n",
              "28     212     202          3.508617   \n",
              "29     212     237          3.039041   \n",
              "\n",
              "                                        title  \n",
              "0                           Casablanca (1942)  \n",
              "1      One Flew Over the Cuckoo's Nest (1975)  \n",
              "2                            Star Wars (1977)  \n",
              "3            Silence of the Lambs, The (1991)  \n",
              "4            Shawshank Redemption, The (1994)  \n",
              "5                           Sting, The (1973)  \n",
              "6              Raiders of the Lost Ark (1981)  \n",
              "7                         Citizen Kane (1941)  \n",
              "8              Godfather: Part II, The (1974)  \n",
              "9                   Dead Poets Society (1989)  \n",
              "10                      Cool Hand Luke (1967)  \n",
              "11             When Harry Met Sally... (1989)  \n",
              "12                               Fargo (1996)  \n",
              "13     Monty Python and the Holy Grail (1974)  \n",
              "14  Butch Cassidy and the Sundance Kid (1969)  \n",
              "15               2001: A Space Odyssey (1968)  \n",
              "16              Much Ado About Nothing (1993)  \n",
              "17                        Forrest Gump (1994)  \n",
              "18         Four Weddings and a Funeral (1994)  \n",
              "19               Sense and Sensibility (1995)  \n",
              "20                Fish Called Wanda, A (1988)  \n",
              "21                          Annie Hall (1977)  \n",
              "22                    Deer Hunter, The (1978)  \n",
              "23                  Dances with Wolves (1990)  \n",
              "24                 Princess Bride, The (1987)  \n",
              "25                Fried Green Tomatoes (1991)  \n",
              "26                     Field of Dreams (1989)  \n",
              "27                             Contact (1997)  \n",
              "28                       Groundhog Day (1993)  \n",
              "29                       Jerry Maguire (1996)  "
            ]
          },
          "execution_count": 17,
          "metadata": {
            "tags": []
          },
          "output_type": "execute_result"
        }
      ],
      "source": [
        "user2userRecommendation(212)"
      ]
    },
    {
      "cell_type": "markdown",
      "metadata": {
        "id": "YhWlIKBHgB70"
      },
      "source": [
        "Let us make top n recommendation for a given user."
      ]
    },
    {
      "cell_type": "markdown",
      "metadata": {
        "id": "2OipwWHxgB71"
      },
      "source": [
        "### Evaluation with Mean Absolute Error (MAE)"
      ]
    },
    {
      "cell_type": "code",
      "execution_count": null,
      "metadata": {
        "id": "fo0WXxvggB71"
      },
      "outputs": [],
      "source": [
        "from recsys.preprocessing import train_test_split, get_examples\n",
        "\n",
        "# get examples as tuples of userids and itemids and labels from normalize ratings\n",
        "raw_examples, raw_labels = get_examples(ratings, labels_column='rating')\n",
        "\n",
        "# train test split\n",
        "(x_train, x_test), (y_train, y_test) = train_test_split(examples=raw_examples, labels=raw_labels)\n",
        "\n",
        "def evaluate(x_test, y_test):\n",
        "    print('Evaluate the model on {} test data ...'.format(x_test.shape[0]))\n",
        "    preds = list(predict(u,i) for (u,i) in x_test)\n",
        "    mae = np.sum(np.absolute(y_test - np.array(preds))) / x_test.shape[0]\n",
        "    print('\\nMAE :', mae)\n",
        "    return mae"
      ]
    },
    {
      "cell_type": "code",
      "execution_count": null,
      "metadata": {
        "id": "txLsfKqFgB72"
      },
      "outputs": [
        {
          "name": "stdout",
          "output_type": "stream",
          "text": [
            "Evaluate the model on 10000 test data ...\n",
            "\n",
            "MAE : 0.7505910931068639\n"
          ]
        },
        {
          "data": {
            "text/plain": [
              "0.7505910931068639"
            ]
          },
          "execution_count": 19,
          "metadata": {
            "tags": []
          },
          "output_type": "execute_result"
        }
      ],
      "source": [
        "evaluate(x_test, y_test)"
      ]
    },
    {
      "cell_type": "markdown",
      "metadata": {
        "id": "7uf6TStwgB74"
      },
      "source": [
        "### Summary\n",
        "\n",
        "We have summarised all the steps of building the user-based collaborative filtering into a python class for further user. Click [UserToUser.py](https://github.com/nzhinusoftcm/review-on-collaborative-filtering/blob/master/recsys/memories/UserToUser.py) for more details on the **UserToUser** class definition."
      ]
    },
    {
      "cell_type": "code",
      "execution_count": null,
      "metadata": {
        "id": "tgVhH4HugB75"
      },
      "outputs": [],
      "source": [
        "from recsys.memories.UserToUser import UserToUser\n",
        "\n",
        "# load ml100k ratings\n",
        "ratings, movies = ml100k.load()\n",
        "\n",
        "# prepare data\n",
        "ratings, uencoder, iencoder = ids_encoder(ratings)\n",
        "\n",
        "# get examples as tuples of userids and itemids and labels from normalize ratings\n",
        "raw_examples, raw_labels = get_examples(ratings, labels_column='rating')\n",
        "\n",
        "# train test split\n",
        "(x_train, x_test), (y_train, y_test) = train_test_split(examples=raw_examples, labels=raw_labels)"
      ]
    },
    {
      "cell_type": "code",
      "execution_count": null,
      "metadata": {
        "id": "eBkpq1KvgB8E"
      },
      "outputs": [
        {
          "name": "stdout",
          "output_type": "stream",
          "text": [
            "Normalize users ratings ...\n",
            "Initialize the similarity model ...\n",
            "Compute nearest neighbors ...\n",
            "User to user recommendation model created with success ...\n"
          ]
        }
      ],
      "source": [
        "# create the user-based CF\n",
        "usertouser = UserToUser(ratings, movies, metric='cosine')"
      ]
    },
    {
      "cell_type": "code",
      "execution_count": null,
      "metadata": {
        "id": "boR4DhcvgB8H"
      },
      "outputs": [
        {
          "name": "stdout",
          "output_type": "stream",
          "text": [
            "Evaluate the model on 10000 test data ...\n",
            "\n",
            "MAE : 0.7505910931068639\n"
          ]
        },
        {
          "data": {
            "text/plain": [
              "0.7505910931068639"
            ]
          },
          "execution_count": 22,
          "metadata": {
            "tags": []
          },
          "output_type": "execute_result"
        }
      ],
      "source": [
        "# evaluate the user-based CF on the ml100k test data\n",
        "usertouser.evaluate(x_test, y_test)"
      ]
    },
    {
      "cell_type": "markdown",
      "metadata": {
        "id": "wKo-CUMtgB8L"
      },
      "source": [
        "### Evaluation on the ML-1M dataset (this may take some time)"
      ]
    },
    {
      "cell_type": "code",
      "execution_count": null,
      "metadata": {
        "id": "fxJRF3nrgB8M"
      },
      "outputs": [
        {
          "name": "stdout",
          "output_type": "stream",
          "text": [
            "Normalize users ratings ...\n",
            "Initialize the similarity model ...\n",
            "Compute nearest neighbors ...\n",
            "User to user recommendation model created with success ...\n",
            "==========================\n",
            "Evaluate the model on 100021 test data ...\n",
            "\n",
            "MAE : 0.732267005840993\n"
          ]
        },
        {
          "data": {
            "text/plain": [
              "0.732267005840993"
            ]
          },
          "execution_count": 23,
          "metadata": {
            "tags": []
          },
          "output_type": "execute_result"
        }
      ],
      "source": [
        "from recsys.datasets import ml1m\n",
        "from recsys.preprocessing import ids_encoder, get_examples, train_test_split\n",
        "from recsys.memories.UserToUser import UserToUser\n",
        "\n",
        "# load ml100k ratings\n",
        "ratings, movies = ml1m.load()\n",
        "\n",
        "# prepare data\n",
        "ratings, uencoder, iencoder = ids_encoder(ratings)\n",
        "\n",
        "# get examples as tuples of userids and itemids and labels from normalize ratings\n",
        "raw_examples, raw_labels = get_examples(ratings, labels_column='rating')\n",
        "\n",
        "# train test split\n",
        "(x_train, x_test), (y_train, y_test) = train_test_split(examples=raw_examples, labels=raw_labels)\n",
        "\n",
        "# create the user-based CF\n",
        "usertouser = UserToUser(ratings, movies, k=20, metric='cosine')\n",
        "\n",
        "# evaluate the user-based CF on the ml1m test data\n",
        "print(\"==========================\")\n",
        "usertouser.evaluate(x_test, y_test)"
      ]
    },
    {
      "cell_type": "markdown",
      "metadata": {
        "id": "9Krt6dqugB8N"
      },
      "source": [
        "### Limitations of user-based CF\n",
        "\n",
        "1. <b> Sparsity </b> : In general, users interact with less than 20% of items. This leads the rating matrix to be highly sparse. For example, the movielen-100k contains 100k ratings from 943 users on 1682 items. The pourcentage of sparsity in this case is around $94\\%$. A recommender system based on nearest neighbor algorithms may be unable to make any item recommendations for a particular user. As a result the accuracy of recommendations may be poor <a href=\"https://dl.acm.org/doi/10.1145/371920.372071\">(Sarwar <i>et al.</i> 2001)</a>.\n",
        "\n",
        "2. <b> Stability of user's ratings </b> : As a user rates and re-rates items, their rating vector will change along with their similarity to other users. A user’s neighborhood is determined not only by their ratings but also by the ratings of other users, so their neighborhood can change as a result of new ratings supplied by any user in the system <a href=\"https://dl.acm.org/doi/10.1561/1100000009\">(Michael D. Ekstrand, <i>et al.</i> 2011)</a>.\n",
        "\n",
        "3. <b> Scalability </b> : Due to the non-stability of users ratings, finding similar users in advance is complicated. For this reason, most user-based CF systems find neighborhoods each time predictions or recommendations are needed. However, these are huge computations that grows with both the number of users and the number of items. With millions of users and items, a typical web-based recommender system running existing algorithms will suffer serious scalability concerns <a href=\"https://dl.acm.org/doi/10.1145/371920.372071\">(Sarwar <i>et al.</i> 2001)</a>, <a href=\"https://dl.acm.org/doi/10.1561/1100000009\">(Michael D. Ekstrand, <i>et al.</i> 2011)</a>."
      ]
    },
    {
      "cell_type": "markdown",
      "metadata": {
        "id": "PtfpuFYJgCQ2"
      },
      "source": [
        "## Part 3 - Item-based method\n",
        "> Collaborative Filtering on MovieLens Latest-small Part 3 - Finding recommendations using memory based item-item similarity method"
      ]
    },
    {
      "cell_type": "markdown",
      "metadata": {
        "id": "b4-1x60KgCQ3"
      },
      "source": [
        "### Idea\n",
        "Let $u$ be the active user and $i$ the referenced item\n",
        "1. If $u$ liked items similar to $i$, he will probably like item $i$.\n",
        "2. If he hated or disliked items similar to $i$, he will also hate item $i$.\n",
        "\n",
        "The idea is therefore to look at how an active user $u$ rated items similar to $i$ to know how he would have rated item $i$"
      ]
    },
    {
      "cell_type": "markdown",
      "metadata": {
        "id": "nXuDy5JLgCQ4"
      },
      "source": [
        "### Advantages over user-based CF\n",
        "\n",
        "1. <b> Stability </b> : Items ratings are more stable than users ratings. New ratings on items are unlikely to significantly change the similarity between two items, particularly when the items have many ratings <a href=\"https://dl.acm.org/doi/10.1561/1100000009\">(Michael D. Ekstrand, <i>et al.</i> 2011)</a>. \n",
        "2. <b> Scalability </b> : with stable item's ratings, it is reasonable to pre-compute similarities between items in an item-item similarity matrix (similarity between items can be computed offline). This will reduce the scalability concern of the algorithm. <a href=\"https://dl.acm.org/doi/10.1145/371920.372071\">(Sarwar <i>et al.</i> 2001)</a>, <a href=\"https://dl.acm.org/doi/10.1561/1100000009\">(Michael D. Ekstrand, <i>et al.</i> 2011)</a>."
      ]
    },
    {
      "cell_type": "markdown",
      "metadata": {
        "id": "XbVv7UzQgCQ5"
      },
      "source": [
        "### Algorithm : item-to-item collaborative filtering\n",
        "\n",
        "The algorithm that defines item-based CF is described as follow <a href=\"http://citeseerx.ist.psu.edu/viewdoc/download?doi=10.1.1.449.1171&rep=rep1&type=pdf\">(B. Sarwar et al. 2001)</a><a href=\"https://citeseerx.ist.psu.edu/viewdoc/download?doi=10.1.1.554.1671&rep=rep1&type=pdf\">(George Karypis 2001)</a> :\n",
        "\n",
        "<ol>\n",
        "    <li>\n",
        "        First identify the $k$ most similar items for each item in the catalogue and record the corresponding similarities. To compute similarity between two items we can user the <i>Adjusted Cosine Similarity</i> that has proven to be more efficient than the basic <i>Cosine similarity measure</i> used for user-based collaborative as described in <a href=\"http://citeseerx.ist.psu.edu/viewdoc/download?doi=10.1.1.449.1171&rep=rep1&type=pdf\">(B. Sarwar et al. 2001)</a>. The Adjusted Cosine distance between two items $i$ and $j$ is computed as follow\n",
        "\n",
        "\\begin{equation}\n",
        " w_{i,j}= \\frac{\\sum_{u\\in U}(r_{u,i}-\\bar{r}_u)(r_{u,j}-\\bar{r}_u)}{\\sqrt{\\sum_{u\\in U} (r_{u,i}-\\bar{r}_u)^2}\\sqrt{\\sum_{u\\in U} (r_{u,j}-\\bar{r}_u)^2}}\n",
        "\\end{equation}\n",
        "\n",
        "$w_{i,j}$ is the degree of similarity between items $i$ and $j$. This term is computed for all users $u\\in U$, where $U$ is the set of users that rated both items $i$ and $j$. Let's denote by $S^{(i)}$ the set of the $k$ most similar items to item $i$.\n",
        "    </li>    \n",
        "    <li> To produce top-N recommendations for a given user $u$ that has already purchased a set $I_u$ of items, do the following :\n",
        "<ul>\n",
        "    <li> Find the set $C$ of candidate items by taking the union of all $S^{(i)}, \\forall i\\in I_u$ and removing each of the items in the set $I_u$.\n",
        "\\begin{equation}\n",
        " C = \\bigcup_{i\\in I_u}\\{S^{(i)}\\}\\smallsetminus I_u\n",
        "\\end{equation}\n",
        "    </li>\n",
        "    <li>\n",
        "        $\\forall c\\in C$, compute similarity between c and the set $I_u$ as follows:\n",
        "\\begin{equation}\n",
        " w_{c,I_u} = \\sum_{i\\in I_u} w_{c,i}, \\forall c \\in C\n",
        "\\end{equation}\n",
        "    </li>\n",
        "    <li>\n",
        "        Sort items in $C$ in decreasing order of $w_{c,I_u}, \\forall c \\in C$, and return the first $N$ items as the Top-N recommendation list.\n",
        "    </li>\n",
        "</ul>    \n",
        "    </li>\n",
        "</ol>"
      ]
    },
    {
      "cell_type": "markdown",
      "metadata": {
        "id": "MX6Nj-yWgCQ9"
      },
      "source": [
        "Before returning the first $N$ items as top-N recommendation list, we can make predictions about what user $u$ would have given to each items in the top-N recommendation list, rearrange the list in descending order of predicted ratings and return the rearranged list as the final recommendation list. Rating prediction for item-based CF is given by the following formular <a href=\"http://citeseerx.ist.psu.edu/viewdoc/download?doi=10.1.1.449.1171&rep=rep1&type=pdf\">(B. Sarwar et al. 2001)</a>:\n",
        "\n",
        "\\begin{equation}\n",
        " \\hat{r}_{u,i}=\\frac{\\sum_{i\\in S^{(i)}}r_{u,j}\\cdot w_{i,j}}{\\sum_{j\\in S^{(i)}}|w_{i,j}|}\n",
        "\\end{equation}"
      ]
    },
    {
      "cell_type": "markdown",
      "metadata": {
        "id": "NtMl7OD2gCRA"
      },
      "source": [
        "#### Import useful requirements"
      ]
    },
    {
      "cell_type": "code",
      "execution_count": null,
      "metadata": {
        "id": "M_n9x9VtgCRB"
      },
      "outputs": [],
      "source": [
        "import os\n",
        "\n",
        "if not (os.path.exists(\"recsys.zip\") or os.path.exists(\"recsys\")):\n",
        "    !wget https://github.com/nzhinusoftcm/review-on-collaborative-filtering/raw/master/recsys.zip    \n",
        "    !unzip recsys.zip"
      ]
    },
    {
      "cell_type": "markdown",
      "metadata": {
        "id": "kubu9WOjgCRC"
      },
      "source": [
        "#### Import requirements"
      ]
    },
    {
      "cell_type": "markdown",
      "metadata": {
        "id": "qNHO40yIgCRE"
      },
      "source": [
        "```\n",
        "matplotlib==3.2.2\n",
        "numpy==1.19.2\n",
        "pandas==1.0.5\n",
        "python==3.7\n",
        "scikit-learn==0.24.1\n",
        "scikit-surprise==1.1.1\n",
        "scipy==1.6.2\n",
        "```"
      ]
    },
    {
      "cell_type": "code",
      "execution_count": null,
      "metadata": {
        "id": "NGvRWO6agCRF"
      },
      "outputs": [],
      "source": [
        "from sklearn.neighbors import NearestNeighbors\n",
        "from scipy.sparse import csr_matrix\n",
        "\n",
        "from recsys.datasets import ml1m, ml100k\n",
        "from recsys.preprocessing import ids_encoder\n",
        "\n",
        "import pandas as pd\n",
        "import numpy as np\n",
        "import os\n",
        "import sys"
      ]
    },
    {
      "cell_type": "markdown",
      "metadata": {
        "id": "UB4zW0-PgCRI"
      },
      "source": [
        "#### Load ratings"
      ]
    },
    {
      "cell_type": "code",
      "execution_count": null,
      "metadata": {
        "id": "j6y4doBGgCRL"
      },
      "outputs": [],
      "source": [
        "ratings, movies = ml100k.load()"
      ]
    },
    {
      "cell_type": "markdown",
      "metadata": {
        "id": "fkD5QbH6gCRR"
      },
      "source": [
        "#### userids and itemids encoding"
      ]
    },
    {
      "cell_type": "code",
      "execution_count": null,
      "metadata": {
        "id": "tQ0TGn0MgCRT"
      },
      "outputs": [],
      "source": [
        "# create the encoder\n",
        "ratings, uencoder, iencoder = ids_encoder(ratings)"
      ]
    },
    {
      "cell_type": "markdown",
      "metadata": {
        "id": "l1fMwy11gCRT"
      },
      "source": [
        "Let's implements the item-based collaborative filtering algorithm described above"
      ]
    },
    {
      "cell_type": "markdown",
      "metadata": {
        "id": "1Ua8DZMGgCRW"
      },
      "source": [
        "#### Step 1. Find similarities for each of the items"
      ]
    },
    {
      "cell_type": "markdown",
      "metadata": {
        "id": "H4S1UAsbgCRW"
      },
      "source": [
        "To compute similarity between two items $i$ and $j$, we need to :\n",
        "\n",
        "1. find all users who rated both of them,\n",
        "2. Normalize their ratings on items $i$ and $j$\n",
        "3. Apply the cosine metric to the normalized ratings to compute similarity between $i$ and $j$"
      ]
    },
    {
      "cell_type": "markdown",
      "metadata": {
        "id": "aU1VxSZEgCRX"
      },
      "source": [
        "Function ```normalize()``` process the rating dataframe to normalize ratings of all users"
      ]
    },
    {
      "cell_type": "code",
      "execution_count": null,
      "metadata": {
        "id": "S2AB5WB1gCRk"
      },
      "outputs": [],
      "source": [
        "def normalize():\n",
        "    # compute mean rating for each user\n",
        "    mean = ratings.groupby(by='userid', as_index=False)['rating'].mean()\n",
        "    norm_ratings = pd.merge(ratings, mean, suffixes=('','_mean'), on='userid')\n",
        "    \n",
        "    # normalize each rating by substracting the mean rating of the corresponding user\n",
        "    norm_ratings['norm_rating'] = norm_ratings['rating'] - norm_ratings['rating_mean']\n",
        "    return mean.to_numpy()[:, 1], norm_ratings"
      ]
    },
    {
      "cell_type": "code",
      "execution_count": null,
      "metadata": {
        "id": "wvSY6uTJgCRl"
      },
      "outputs": [
        {
          "data": {
            "text/html": [
              "<div>\n",
              "<style scoped>\n",
              "    .dataframe tbody tr th:only-of-type {\n",
              "        vertical-align: middle;\n",
              "    }\n",
              "\n",
              "    .dataframe tbody tr th {\n",
              "        vertical-align: top;\n",
              "    }\n",
              "\n",
              "    .dataframe thead th {\n",
              "        text-align: right;\n",
              "    }\n",
              "</style>\n",
              "<table border=\"1\" class=\"dataframe\">\n",
              "  <thead>\n",
              "    <tr style=\"text-align: right;\">\n",
              "      <th></th>\n",
              "      <th>userid</th>\n",
              "      <th>itemid</th>\n",
              "      <th>rating</th>\n",
              "      <th>rating_mean</th>\n",
              "      <th>norm_rating</th>\n",
              "    </tr>\n",
              "  </thead>\n",
              "  <tbody>\n",
              "    <tr>\n",
              "      <th>0</th>\n",
              "      <td>0</td>\n",
              "      <td>0</td>\n",
              "      <td>5</td>\n",
              "      <td>3.610294</td>\n",
              "      <td>1.389706</td>\n",
              "    </tr>\n",
              "    <tr>\n",
              "      <th>1</th>\n",
              "      <td>0</td>\n",
              "      <td>1</td>\n",
              "      <td>3</td>\n",
              "      <td>3.610294</td>\n",
              "      <td>-0.610294</td>\n",
              "    </tr>\n",
              "    <tr>\n",
              "      <th>2</th>\n",
              "      <td>0</td>\n",
              "      <td>2</td>\n",
              "      <td>4</td>\n",
              "      <td>3.610294</td>\n",
              "      <td>0.389706</td>\n",
              "    </tr>\n",
              "    <tr>\n",
              "      <th>3</th>\n",
              "      <td>0</td>\n",
              "      <td>3</td>\n",
              "      <td>3</td>\n",
              "      <td>3.610294</td>\n",
              "      <td>-0.610294</td>\n",
              "    </tr>\n",
              "    <tr>\n",
              "      <th>4</th>\n",
              "      <td>0</td>\n",
              "      <td>4</td>\n",
              "      <td>3</td>\n",
              "      <td>3.610294</td>\n",
              "      <td>-0.610294</td>\n",
              "    </tr>\n",
              "  </tbody>\n",
              "</table>\n",
              "</div>"
            ],
            "text/plain": [
              "   userid  itemid  rating  rating_mean  norm_rating\n",
              "0       0       0       5     3.610294     1.389706\n",
              "1       0       1       3     3.610294    -0.610294\n",
              "2       0       2       4     3.610294     0.389706\n",
              "3       0       3       3     3.610294    -0.610294\n",
              "4       0       4       3     3.610294    -0.610294"
            ]
          },
          "execution_count": 6,
          "metadata": {
            "tags": []
          },
          "output_type": "execute_result"
        }
      ],
      "source": [
        "mean, norm_ratings = normalize()\n",
        "np_ratings = norm_ratings.to_numpy()\n",
        "norm_ratings.head()"
      ]
    },
    {
      "cell_type": "markdown",
      "metadata": {
        "id": "vj4OKJoGgCRn"
      },
      "source": [
        "now that each rating has been normalized, we can represent each item by a vector of its normalized ratings"
      ]
    },
    {
      "cell_type": "code",
      "execution_count": null,
      "metadata": {
        "id": "We0b8U5dgCRp"
      },
      "outputs": [],
      "source": [
        "def item_representation(ratings):    \n",
        "    return csr_matrix(\n",
        "        pd.crosstab(ratings.itemid, ratings.userid, ratings.norm_rating, aggfunc=sum).fillna(0).values\n",
        "    )"
      ]
    },
    {
      "cell_type": "code",
      "execution_count": null,
      "metadata": {
        "id": "RDM8olmSgCRr"
      },
      "outputs": [],
      "source": [
        "R = item_representation(norm_ratings)"
      ]
    },
    {
      "cell_type": "markdown",
      "metadata": {
        "id": "mf_gosbogCRs"
      },
      "source": [
        "Let's build and fit our $k$-NN model using sklearn"
      ]
    },
    {
      "cell_type": "code",
      "execution_count": null,
      "metadata": {
        "id": "_mohrtd9gCRu"
      },
      "outputs": [],
      "source": [
        "def create_model(rating_matrix, k=20, metric=\"cosine\"):\n",
        "    \"\"\"\n",
        "    :param R : numpy array of item representations\n",
        "    :param k : number of nearest neighbors to return    \n",
        "    :return model : our knn model\n",
        "    \"\"\"    \n",
        "    model = NearestNeighbors(metric=metric, n_neighbors=k+1, algorithm='brute')\n",
        "    model.fit(rating_matrix)    \n",
        "    return model"
      ]
    },
    {
      "cell_type": "markdown",
      "metadata": {
        "id": "FKxTLWqVgCR0"
      },
      "source": [
        "##### Similarities computation"
      ]
    },
    {
      "cell_type": "markdown",
      "metadata": {
        "id": "IedNhvlUgCR1"
      },
      "source": [
        "Similarities between items can be measured with the *Cosine* or *Eucliedian* distance. The ***NearestNeighbors*** class from the sklearn library simplifies the computation of neighbors. We just need to specify the metric (e.g. cosine or euclidian) that will be used to compute similarities.\n",
        "\n",
        "The above method, ```create_model```, creates the kNN model and the following ```nearest_neighbors``` method uses the created model to kNN items. It returns nearest neighbors as well as similarities measures for each items.\n",
        "\n",
        "```nearest_neighbors``` returns :\n",
        "- ```similarities``` : numpy array of shape $(n,k)$\n",
        "- ```neighbors``` : numpy array of shape $(n,k)$\n",
        "\n",
        "where $n$ is the total number of items and $k$ is the number of neighbors to return, specified when creating the kNN model."
      ]
    },
    {
      "cell_type": "code",
      "execution_count": null,
      "metadata": {
        "id": "r7rKoadUgCR1"
      },
      "outputs": [],
      "source": [
        "def nearest_neighbors(rating_matrix, model):\n",
        "    \"\"\"\n",
        "    compute the top n similar items for each item.    \n",
        "    :param rating_matrix : items representations\n",
        "    :param model : nearest neighbors model    \n",
        "    :return similarities, neighbors\n",
        "    \"\"\"    \n",
        "    similarities, neighbors = model.kneighbors(rating_matrix)    \n",
        "    return similarities[:,1:], neighbors[:,1:]"
      ]
    },
    {
      "cell_type": "markdown",
      "metadata": {
        "id": "CqXOnJplgCR9"
      },
      "source": [
        "##### Ajusted Cosine Similarity\n",
        "In the context of item-based collaborative filtering, the adjusted cosine similarity has shown to be more efficient that the cosine or the euclidian distance. Here is the formular to compute the adjusted cosine weight between two items $i$ and $j$ :"
      ]
    },
    {
      "cell_type": "markdown",
      "metadata": {
        "id": "6Kl-hZQjgCR-"
      },
      "source": [
        "\\begin{equation}\n",
        " w_{i,j}= \\frac{\\sum_{u\\in U}(r_{u,i}-\\bar{r}_u)(r_{u,j}-\\bar{r}_u)}{\\sqrt{\\sum_{u\\in U} (r_{u,i}-\\bar{r}_u)^2}\\sqrt{\\sum_{u\\in U} (r_{u,j}-\\bar{r}_u)^2}}.\n",
        "\\end{equation}"
      ]
    },
    {
      "cell_type": "markdown",
      "metadata": {
        "id": "3p0_b_FtgCR_"
      },
      "source": [
        "This term is computed for all users $u\\in U$, where $U$ is the set of users that rated both items $i$ and $j$. Since the *sklearn* library do not directly implement the adjusted cosine similarity metric, we will implement it with the method ```adjusted_cosine```, with some helper function :\n",
        "\n",
        "- ```save_similarities``` : since the computation of the adjusted cosine similarity is time consuming, around 5 mins for the ml100k dataset, we use this method to save the computed similarities for lated usage.\n",
        "- ```load_similarities``` : load the saved similarities\n",
        "- ```cosine``` : cosine distance between two vectors."
      ]
    },
    {
      "cell_type": "code",
      "execution_count": null,
      "metadata": {
        "id": "4-2fZQhdgCR_"
      },
      "outputs": [],
      "source": [
        "def save_similarities(similarities, neighbors, dataset_name):    \n",
        "    base_dir = 'recsys/weights/item2item'\n",
        "    save_dir = os.path.join(base_dir, dataset_name)\n",
        "    os.makedirs(save_dir, exist_ok=True)    \n",
        "    similarities_file_name = os.path.join(save_dir, 'similarities.npy')\n",
        "    neighbors_file_name = os.path.join(save_dir, 'neighbors.npy')    \n",
        "    try:\n",
        "        np.save(similarities_file_name, similarities)\n",
        "        np.save(neighbors_file_name, neighbors)        \n",
        "    except ValueError as error:\n",
        "        print(f\"An error occured when saving similarities, due to : \\n ValueError : {error}\")\n",
        "\n",
        "        \n",
        "def load_similarities(dataset_name, k=20):\n",
        "    base_dir = 'recsys/weights/item2item'\n",
        "    save_dir = os.path.join(base_dir, dataset_name)    \n",
        "    similiraties_file = os.path.join(save_dir, 'similarities.npy')\n",
        "    neighbors_file = os.path.join(save_dir, 'neighbors.npy')    \n",
        "    similarities = np.load(similiraties_file)\n",
        "    neighbors = np.load(neighbors_file)    \n",
        "    return similarities[:,:k], neighbors[:,:k]\n",
        "\n",
        "\n",
        "def cosine(x, y):\n",
        "    return np.dot(x, y) / (np.linalg.norm(x) * np.linalg.norm(y))\n",
        "\n",
        "\n",
        "def adjusted_cosine(np_ratings, nb_items, dataset_name):\n",
        "    similarities = np.zeros(shape=(nb_items, nb_items))\n",
        "    similarities.fill(-1)\n",
        "    \n",
        "    def _progress(count):\n",
        "        sys.stdout.write('\\rComputing similarities. Progress status : %.1f%%' % (float(count / nb_items)*100.0))\n",
        "        sys.stdout.flush()\n",
        "        \n",
        "    items = sorted(ratings.itemid.unique())    \n",
        "    for i in items[:-1]:\n",
        "        for j in items[i+1:]:            \n",
        "            scores = np_ratings[(np_ratings[:, 1] == i) | (np_ratings[:, 1] == j), :]\n",
        "            vals, count = np.unique(scores[:,0], return_counts = True)\n",
        "            scores = scores[np.isin(scores[:,0], vals[count > 1]),:]\n",
        "\n",
        "            if scores.shape[0] > 2:\n",
        "                x = scores[scores[:, 1].astype('int') == i, 4]\n",
        "                y = scores[scores[:, 1].astype('int') == j, 4]\n",
        "                w = cosine(x, y)\n",
        "\n",
        "                similarities[i, j] = w\n",
        "                similarities[j, i] = w\n",
        "        _progress(i)\n",
        "    _progress(nb_items)\n",
        "    \n",
        "    # get neighbors by their neighbors in decreasing order of similarities\n",
        "    neighbors = np.flip(np.argsort(similarities), axis=1)\n",
        "    \n",
        "    # sort similarities in decreasing order\n",
        "    similarities = np.flip(np.sort(similarities), axis=1)\n",
        "    \n",
        "    # save similarities to disk\n",
        "    save_similarities(similarities, neighbors, dataset_name=dataset_name) \n",
        "    \n",
        "    return similarities, neighbors"
      ]
    },
    {
      "cell_type": "markdown",
      "metadata": {
        "id": "NN9pqKGvgCSC"
      },
      "source": [
        "now, we can call the ```adjusted_cosine``` function to compute and save items similarities and neighbors based on the adjusted cosine metric. \n",
        "\n",
        "uncomment the two lines of the following cell to compute the adjusted cosine between all items. As we have already run the next cell before, we will just load the precomputed similarities for further use."
      ]
    },
    {
      "cell_type": "code",
      "execution_count": null,
      "metadata": {
        "id": "WruBFbgCgCSD"
      },
      "outputs": [],
      "source": [
        "# nb_items = ratings.itemid.nunique()\n",
        "# similarities, neighbors = adjusted_cosine(np_ratings, nb_items=nb_items, dataset_name='ml100k')"
      ]
    },
    {
      "cell_type": "markdown",
      "metadata": {
        "id": "TbGrGnYngCSE"
      },
      "source": [
        "Among the following similarity metrics, choose the one you wish to use for the item-based collaborative filtering :\n",
        "\n",
        "- **euclidian** or **cosine** : choose *euclidian* or *cosine* to initialise the similarity model through the sklearn library.\n",
        "- **adjusted_cosine** : choose the *adjusted_cosine* metric to load similarities computed and saved through the ```adjusted_cosine``` function.\n",
        "\n",
        "In this case, we will use the *adjusted_cosine* metric."
      ]
    },
    {
      "cell_type": "code",
      "execution_count": null,
      "metadata": {
        "id": "uExs3jYNgCSF"
      },
      "outputs": [],
      "source": [
        "# metric : choose among [cosine, euclidean, adjusted_cosine]\n",
        "\n",
        "metric = 'adjusted_cosine'\n",
        "\n",
        "if metric == 'adjusted_cosine':\n",
        "    similarities, neighbors = load_similarities('ml100k')\n",
        "else:\n",
        "    model = create_model(R, k=21, metric=metric)\n",
        "    similarities, neighbors = nearest_neighbors(R, model)"
      ]
    },
    {
      "cell_type": "code",
      "execution_count": null,
      "metadata": {
        "id": "2W9M6LBugCSG"
      },
      "outputs": [
        {
          "name": "stdout",
          "output_type": "stream",
          "text": [
            "neighbors shape :  (1682, 20)\n",
            "similarities shape :  (1682, 20)\n"
          ]
        }
      ],
      "source": [
        "print('neighbors shape : ', neighbors.shape)\n",
        "print('similarities shape : ', similarities.shape)"
      ]
    },
    {
      "cell_type": "markdown",
      "metadata": {
        "id": "0YmwE7i-gCSH"
      },
      "source": [
        "```neighbors``` and ```similarities``` are numpy array, were each entries are list of 20 neighbors with their corresponding similarities"
      ]
    },
    {
      "cell_type": "markdown",
      "metadata": {
        "id": "Pw0wUfpFgCSH"
      },
      "source": [
        "#### Step 2. Top N recommendation for a given user"
      ]
    },
    {
      "cell_type": "markdown",
      "metadata": {
        "id": "wTr4UYq5gCSI"
      },
      "source": [
        "Top-N recommendations are made for example for a user $u$ who has already rated a set of items $I_u$"
      ]
    },
    {
      "cell_type": "markdown",
      "metadata": {
        "id": "tX9rNRwygCSI"
      },
      "source": [
        "##### 2.a- Finding candidate items\n",
        "\n",
        "To find candidate items for user $u$, we need to :\n",
        "\n",
        "1. Find the set $I_u$ of items already rated by user $u$,\n",
        "2. Take the union of similar items as $C$ for all items in $I_u$\n",
        "3. exclude from the set $C$ all items in $I_u$, to avoid recommend to a user items he has already purchased.\n",
        "\n",
        "These are done in function ```candidate_items()```"
      ]
    },
    {
      "cell_type": "code",
      "execution_count": null,
      "metadata": {
        "id": "2yGkVKPLgCSJ"
      },
      "outputs": [],
      "source": [
        "def candidate_items(userid):\n",
        "    \"\"\"\n",
        "    :param userid : user id for which we wish to find candidate items    \n",
        "    :return : I_u, candidates\n",
        "    \"\"\"\n",
        "    \n",
        "    # 1. Finding the set I_u of items already rated by user userid\n",
        "    I_u = np_ratings[np_ratings[:, 0] == userid]\n",
        "    I_u = I_u[:, 1].astype('int')\n",
        "    \n",
        "    # 2. Taking the union of similar items for all items in I_u to form the set of candidate items\n",
        "    c = set()\n",
        "        \n",
        "    for iid in I_u:    \n",
        "        # add the neighbors of item iid in the set of candidate items\n",
        "        c.update(neighbors[iid])\n",
        "        \n",
        "    c = list(c)\n",
        "    # 3. exclude from the set C all items in I_u.\n",
        "    candidates = np.setdiff1d(c, I_u, assume_unique=True)\n",
        "    \n",
        "    return I_u, candidates"
      ]
    },
    {
      "cell_type": "code",
      "execution_count": null,
      "metadata": {
        "id": "aTBHlimngCSJ"
      },
      "outputs": [],
      "source": [
        "test_user = uencoder.transform([1])[0]\n",
        "i_u, u_candidates = candidate_items(test_user)"
      ]
    },
    {
      "cell_type": "code",
      "execution_count": null,
      "metadata": {
        "id": "A_W5DaZPgCSK"
      },
      "outputs": [
        {
          "name": "stdout",
          "output_type": "stream",
          "text": [
            "number of items purchased by user 1 :  272\n",
            "number of candidate items for user 1 :  893\n"
          ]
        }
      ],
      "source": [
        "print('number of items purchased by user 1 : ', len(i_u))\n",
        "print('number of candidate items for user 1 : ', len(u_candidates))"
      ]
    },
    {
      "cell_type": "markdown",
      "metadata": {
        "id": "NPv4qL8ngCSK"
      },
      "source": [
        "##### 2.b- Find similarity between each candidate item and the set $I_u$"
      ]
    },
    {
      "cell_type": "code",
      "execution_count": null,
      "metadata": {
        "id": "x2m3P3iBgCSL"
      },
      "outputs": [],
      "source": [
        "def similarity_with_Iu(c, I_u):\n",
        "    \"\"\"\n",
        "    compute similarity between an item c and a set of items I_u. For each item i in I_u, get similarity between \n",
        "    i and c, if c exists in the set of items similar to itemid.    \n",
        "    :param c : itemid of a candidate item\n",
        "    :param I_u : set of items already purchased by a given user    \n",
        "    :return w : similarity between c and I_u\n",
        "    \"\"\"\n",
        "    w = 0    \n",
        "    for iid in I_u :        \n",
        "        # get similarity between itemid and c, if c is one of the k nearest neighbors of itemid\n",
        "        if c in neighbors[iid] :\n",
        "            w = w + similarities[iid, neighbors[iid] == c][0]    \n",
        "    return w"
      ]
    },
    {
      "cell_type": "markdown",
      "metadata": {
        "id": "0ss05vFdgCSL"
      },
      "source": [
        "##### 2.c- Rank candidate items according to their similarities to $I_u$"
      ]
    },
    {
      "cell_type": "code",
      "execution_count": null,
      "metadata": {
        "id": "6LpqLQ_7gCSM"
      },
      "outputs": [],
      "source": [
        "def rank_candidates(candidates, I_u):\n",
        "    \"\"\"\n",
        "    rank candidate items according to their similarities with i_u    \n",
        "    :param candidates : list of candidate items\n",
        "    :param I_u : list of items purchased by the user    \n",
        "    :return ranked_candidates : dataframe of candidate items, ranked in descending order of similarities with I_u\n",
        "    \"\"\"\n",
        "    \n",
        "    # list of candidate items mapped to their corresponding similarities to I_u\n",
        "    sims = [similarity_with_Iu(c, I_u) for c in candidates]\n",
        "    candidates = iencoder.inverse_transform(candidates)    \n",
        "    mapping = list(zip(candidates, sims))\n",
        "    \n",
        "    ranked_candidates = sorted(mapping, key=lambda couple:couple[1], reverse=True)    \n",
        "    return ranked_candidates"
      ]
    },
    {
      "cell_type": "markdown",
      "metadata": {
        "id": "W0SkRTn9gCSM"
      },
      "source": [
        "### Putting all together"
      ]
    },
    {
      "cell_type": "markdown",
      "metadata": {
        "id": "6Z5-lW7agCSN"
      },
      "source": [
        "Now that we defined all functions necessary to build our item to item top-N recommendation, let's define function ```item2item_topN()``` that makes top-$N$ recommendations for a given user "
      ]
    },
    {
      "cell_type": "code",
      "execution_count": null,
      "metadata": {
        "id": "SRbF7MvlgCSO"
      },
      "outputs": [],
      "source": [
        "def topn_recommendation(userid, N=30):\n",
        "    \"\"\"\n",
        "    Produce top-N recommendation for a given user    \n",
        "    :param userid : user for which we produce top-N recommendation\n",
        "    :param n : length of the top-N recommendation list    \n",
        "    :return topn\n",
        "    \"\"\"\n",
        "    # find candidate items\n",
        "    I_u, candidates = candidate_items(userid)\n",
        "    \n",
        "    # rank candidate items according to their similarities with I_u\n",
        "    ranked_candidates = rank_candidates(candidates, I_u)\n",
        "    \n",
        "    # get the first N row of ranked_candidates to build the top N recommendation list\n",
        "    topn = pd.DataFrame(ranked_candidates[:N], columns=['itemid','similarity_with_Iu'])    \n",
        "    topn = pd.merge(topn, movies, on='itemid', how='inner')    \n",
        "    return topn"
      ]
    },
    {
      "cell_type": "code",
      "execution_count": null,
      "metadata": {
        "id": "41QHU6uYgCSO"
      },
      "outputs": [
        {
          "data": {
            "text/html": [
              "<div>\n",
              "<style scoped>\n",
              "    .dataframe tbody tr th:only-of-type {\n",
              "        vertical-align: middle;\n",
              "    }\n",
              "\n",
              "    .dataframe tbody tr th {\n",
              "        vertical-align: top;\n",
              "    }\n",
              "\n",
              "    .dataframe thead th {\n",
              "        text-align: right;\n",
              "    }\n",
              "</style>\n",
              "<table border=\"1\" class=\"dataframe\">\n",
              "  <thead>\n",
              "    <tr style=\"text-align: right;\">\n",
              "      <th></th>\n",
              "      <th>itemid</th>\n",
              "      <th>similarity_with_Iu</th>\n",
              "      <th>title</th>\n",
              "    </tr>\n",
              "  </thead>\n",
              "  <tbody>\n",
              "    <tr>\n",
              "      <th>0</th>\n",
              "      <td>1356</td>\n",
              "      <td>52.867173</td>\n",
              "      <td>Ed's Next Move (1996)</td>\n",
              "    </tr>\n",
              "    <tr>\n",
              "      <th>1</th>\n",
              "      <td>1189</td>\n",
              "      <td>50.362199</td>\n",
              "      <td>Prefontaine (1997)</td>\n",
              "    </tr>\n",
              "    <tr>\n",
              "      <th>2</th>\n",
              "      <td>1516</td>\n",
              "      <td>31.133267</td>\n",
              "      <td>Wedding Gift, The (1994)</td>\n",
              "    </tr>\n",
              "    <tr>\n",
              "      <th>3</th>\n",
              "      <td>1550</td>\n",
              "      <td>31.031738</td>\n",
              "      <td>Destiny Turns on the Radio (1995)</td>\n",
              "    </tr>\n",
              "    <tr>\n",
              "      <th>4</th>\n",
              "      <td>1554</td>\n",
              "      <td>27.364494</td>\n",
              "      <td>Safe Passage (1994)</td>\n",
              "    </tr>\n",
              "    <tr>\n",
              "      <th>5</th>\n",
              "      <td>1600</td>\n",
              "      <td>27.287712</td>\n",
              "      <td>Guantanamera (1994)</td>\n",
              "    </tr>\n",
              "    <tr>\n",
              "      <th>6</th>\n",
              "      <td>1223</td>\n",
              "      <td>26.631850</td>\n",
              "      <td>King of the Hill (1993)</td>\n",
              "    </tr>\n",
              "    <tr>\n",
              "      <th>7</th>\n",
              "      <td>1388</td>\n",
              "      <td>26.624397</td>\n",
              "      <td>Gabbeh (1996)</td>\n",
              "    </tr>\n",
              "    <tr>\n",
              "      <th>8</th>\n",
              "      <td>766</td>\n",
              "      <td>26.590175</td>\n",
              "      <td>Man of the Year (1995)</td>\n",
              "    </tr>\n",
              "    <tr>\n",
              "      <th>9</th>\n",
              "      <td>691</td>\n",
              "      <td>26.461802</td>\n",
              "      <td>Dark City (1998)</td>\n",
              "    </tr>\n",
              "    <tr>\n",
              "      <th>10</th>\n",
              "      <td>1378</td>\n",
              "      <td>25.787842</td>\n",
              "      <td>Rhyme &amp; Reason (1997)</td>\n",
              "    </tr>\n",
              "    <tr>\n",
              "      <th>11</th>\n",
              "      <td>1664</td>\n",
              "      <td>25.327445</td>\n",
              "      <td>8 Heads in a Duffel Bag (1997)</td>\n",
              "    </tr>\n",
              "    <tr>\n",
              "      <th>12</th>\n",
              "      <td>1261</td>\n",
              "      <td>24.785660</td>\n",
              "      <td>Run of the Country, The (1995)</td>\n",
              "    </tr>\n",
              "    <tr>\n",
              "      <th>13</th>\n",
              "      <td>1123</td>\n",
              "      <td>24.524028</td>\n",
              "      <td>Last Time I Saw Paris, The (1954)</td>\n",
              "    </tr>\n",
              "    <tr>\n",
              "      <th>14</th>\n",
              "      <td>1538</td>\n",
              "      <td>24.492453</td>\n",
              "      <td>All Over Me (1997)</td>\n",
              "    </tr>\n",
              "    <tr>\n",
              "      <th>15</th>\n",
              "      <td>1485</td>\n",
              "      <td>24.345312</td>\n",
              "      <td>Colonel Chabert, Le (1994)</td>\n",
              "    </tr>\n",
              "    <tr>\n",
              "      <th>16</th>\n",
              "      <td>1450</td>\n",
              "      <td>24.262120</td>\n",
              "      <td>Golden Earrings (1947)</td>\n",
              "    </tr>\n",
              "    <tr>\n",
              "      <th>17</th>\n",
              "      <td>909</td>\n",
              "      <td>23.357301</td>\n",
              "      <td>Dangerous Beauty (1998)</td>\n",
              "    </tr>\n",
              "    <tr>\n",
              "      <th>18</th>\n",
              "      <td>359</td>\n",
              "      <td>22.973658</td>\n",
              "      <td>Assignment, The (1997)</td>\n",
              "    </tr>\n",
              "    <tr>\n",
              "      <th>19</th>\n",
              "      <td>1369</td>\n",
              "      <td>22.710078</td>\n",
              "      <td>Forbidden Christ, The (Cristo proibito, Il) (1...</td>\n",
              "    </tr>\n",
              "    <tr>\n",
              "      <th>20</th>\n",
              "      <td>1506</td>\n",
              "      <td>22.325504</td>\n",
              "      <td>Nelly &amp; Monsieur Arnaud (1995)</td>\n",
              "    </tr>\n",
              "    <tr>\n",
              "      <th>21</th>\n",
              "      <td>1537</td>\n",
              "      <td>22.061914</td>\n",
              "      <td>Cosi (1996)</td>\n",
              "    </tr>\n",
              "    <tr>\n",
              "      <th>22</th>\n",
              "      <td>1474</td>\n",
              "      <td>21.877034</td>\n",
              "      <td>Nina Takes a Lover (1994)</td>\n",
              "    </tr>\n",
              "    <tr>\n",
              "      <th>23</th>\n",
              "      <td>1467</td>\n",
              "      <td>21.861203</td>\n",
              "      <td>Saint of Fort Washington, The (1993)</td>\n",
              "    </tr>\n",
              "    <tr>\n",
              "      <th>24</th>\n",
              "      <td>1255</td>\n",
              "      <td>21.750924</td>\n",
              "      <td>Broken English (1996)</td>\n",
              "    </tr>\n",
              "    <tr>\n",
              "      <th>25</th>\n",
              "      <td>1499</td>\n",
              "      <td>21.529748</td>\n",
              "      <td>Grosse Fatigue (1994)</td>\n",
              "    </tr>\n",
              "    <tr>\n",
              "      <th>26</th>\n",
              "      <td>1466</td>\n",
              "      <td>21.063269</td>\n",
              "      <td>Margaret's Museum (1995)</td>\n",
              "    </tr>\n",
              "    <tr>\n",
              "      <th>27</th>\n",
              "      <td>1448</td>\n",
              "      <td>20.846909</td>\n",
              "      <td>My Favorite Season (1993)</td>\n",
              "    </tr>\n",
              "    <tr>\n",
              "      <th>28</th>\n",
              "      <td>927</td>\n",
              "      <td>20.730153</td>\n",
              "      <td>Flower of My Secret, The (Flor de mi secreto, ...</td>\n",
              "    </tr>\n",
              "    <tr>\n",
              "      <th>29</th>\n",
              "      <td>1375</td>\n",
              "      <td>20.627152</td>\n",
              "      <td>Cement Garden, The (1993)</td>\n",
              "    </tr>\n",
              "  </tbody>\n",
              "</table>\n",
              "</div>"
            ],
            "text/plain": [
              "    itemid  similarity_with_Iu  \\\n",
              "0     1356           52.867173   \n",
              "1     1189           50.362199   \n",
              "2     1516           31.133267   \n",
              "3     1550           31.031738   \n",
              "4     1554           27.364494   \n",
              "5     1600           27.287712   \n",
              "6     1223           26.631850   \n",
              "7     1388           26.624397   \n",
              "8      766           26.590175   \n",
              "9      691           26.461802   \n",
              "10    1378           25.787842   \n",
              "11    1664           25.327445   \n",
              "12    1261           24.785660   \n",
              "13    1123           24.524028   \n",
              "14    1538           24.492453   \n",
              "15    1485           24.345312   \n",
              "16    1450           24.262120   \n",
              "17     909           23.357301   \n",
              "18     359           22.973658   \n",
              "19    1369           22.710078   \n",
              "20    1506           22.325504   \n",
              "21    1537           22.061914   \n",
              "22    1474           21.877034   \n",
              "23    1467           21.861203   \n",
              "24    1255           21.750924   \n",
              "25    1499           21.529748   \n",
              "26    1466           21.063269   \n",
              "27    1448           20.846909   \n",
              "28     927           20.730153   \n",
              "29    1375           20.627152   \n",
              "\n",
              "                                                title  \n",
              "0                               Ed's Next Move (1996)  \n",
              "1                                  Prefontaine (1997)  \n",
              "2                            Wedding Gift, The (1994)  \n",
              "3                   Destiny Turns on the Radio (1995)  \n",
              "4                                 Safe Passage (1994)  \n",
              "5                                 Guantanamera (1994)  \n",
              "6                             King of the Hill (1993)  \n",
              "7                                       Gabbeh (1996)  \n",
              "8                              Man of the Year (1995)  \n",
              "9                                    Dark City (1998)  \n",
              "10                              Rhyme & Reason (1997)  \n",
              "11                     8 Heads in a Duffel Bag (1997)  \n",
              "12                     Run of the Country, The (1995)  \n",
              "13                  Last Time I Saw Paris, The (1954)  \n",
              "14                                 All Over Me (1997)  \n",
              "15                         Colonel Chabert, Le (1994)  \n",
              "16                             Golden Earrings (1947)  \n",
              "17                            Dangerous Beauty (1998)  \n",
              "18                             Assignment, The (1997)  \n",
              "19  Forbidden Christ, The (Cristo proibito, Il) (1...  \n",
              "20                     Nelly & Monsieur Arnaud (1995)  \n",
              "21                                        Cosi (1996)  \n",
              "22                          Nina Takes a Lover (1994)  \n",
              "23               Saint of Fort Washington, The (1993)  \n",
              "24                              Broken English (1996)  \n",
              "25                              Grosse Fatigue (1994)  \n",
              "26                           Margaret's Museum (1995)  \n",
              "27                          My Favorite Season (1993)  \n",
              "28  Flower of My Secret, The (Flor de mi secreto, ...  \n",
              "29                          Cement Garden, The (1993)  "
            ]
          },
          "execution_count": 21,
          "metadata": {
            "tags": []
          },
          "output_type": "execute_result"
        }
      ],
      "source": [
        "topn_recommendation(test_user)"
      ]
    },
    {
      "cell_type": "markdown",
      "metadata": {
        "id": "Vx889wLKgCSO"
      },
      "source": [
        "This dataframe represents the top N recommendation list a user. These items are sorted in decreasing order of similarities with $I_u$.\n",
        "\n",
        "**Observation** : The recommended items are the most similar to the set $I_u$ of items already purchased by the user."
      ]
    },
    {
      "cell_type": "markdown",
      "metadata": {
        "id": "FG55R4isgCSP"
      },
      "source": [
        "### Top N recommendation with predictions"
      ]
    },
    {
      "cell_type": "markdown",
      "metadata": {
        "id": "ubJMamVLgCSP"
      },
      "source": [
        "Before recommending the previous list to the user, we can go further and predict the ratings the user would have given to each of these items, sort them in descending order of prediction and return the reordered list as the new top N recommendation list."
      ]
    },
    {
      "cell_type": "markdown",
      "metadata": {
        "id": "JzrrNHgmgCSP"
      },
      "source": [
        "#### Rating prediction\n",
        "\n",
        "As stated earlier, the predicted rating $\\hat{r}_{u,i}$ for a given user $u$ on an item $i$ is obtained by aggregating ratings given by $u$ on items similar to $i$ as follows:\n",
        "\n",
        "\\begin{equation}\n",
        " \\hat{r}_{u,i}=\\frac{\\sum_{j\\in S^{(i)}}r_{u,j}\\cdot w_{i,j}}{\\sum_{j\\in S^{(i)}}|w_{i,j}|}\n",
        "\\end{equation}"
      ]
    },
    {
      "cell_type": "code",
      "execution_count": null,
      "metadata": {
        "id": "QYdz_sQLgCSQ"
      },
      "outputs": [],
      "source": [
        "def predict(userid, itemid):\n",
        "    \"\"\"\n",
        "    Make rating prediction for user userid on item itemid    \n",
        "    :param userid : id of the active user\n",
        "    :param itemid : id of the item for which we are making prediction        \n",
        "    :return r_hat : predicted rating\n",
        "    \"\"\"\n",
        "    \n",
        "    # Get items similar to item itemid with their corresponding similarities\n",
        "    item_neighbors = neighbors[itemid]\n",
        "    item_similarities = similarities[itemid]\n",
        "    \n",
        "    # get ratings of user with id userid\n",
        "    uratings = np_ratings[np_ratings[:, 0].astype('int') == userid]\n",
        "    \n",
        "    # similar items rated by item the user of i\n",
        "    siru = uratings[np.isin(uratings[:, 1], item_neighbors)]\n",
        "    scores = siru[:, 2]\n",
        "    indexes = [np.where(item_neighbors == iid)[0][0] for iid in siru[:,1].astype('int')]    \n",
        "    sims = item_similarities[indexes]\n",
        "    \n",
        "    dot = np.dot(scores, sims)\n",
        "    som = np.sum(np.abs(sims))\n",
        "\n",
        "    if dot == 0 or som == 0:\n",
        "        return mean[userid]\n",
        "    \n",
        "    return dot / som"
      ]
    },
    {
      "cell_type": "markdown",
      "metadata": {
        "id": "3D6-DlSbgCSQ"
      },
      "source": [
        "Now let's use our ```predict()``` function to predict what ratings the user would have given to the previous top-$N$ list and return the reorganised list (in decreasing order of predictions) as the new top-$N$ list"
      ]
    },
    {
      "cell_type": "code",
      "execution_count": null,
      "metadata": {
        "id": "wZXqc221gCSQ"
      },
      "outputs": [],
      "source": [
        "def topn_prediction(userid):\n",
        "    \"\"\"\n",
        "    :param userid : id of the active user    \n",
        "    :return topn : initial topN recommendations returned by the function item2item_topN\n",
        "    :return topn_predict : topN recommendations reordered according to rating predictions\n",
        "    \"\"\"\n",
        "    # make top N recommendation for the active user\n",
        "    topn = topn_recommendation(userid)\n",
        "    \n",
        "    # get list of items of the top N list\n",
        "    itemids = topn.itemid.to_list()\n",
        "    \n",
        "    predictions = []\n",
        "    \n",
        "    # make prediction for each item in the top N list\n",
        "    for itemid in itemids:\n",
        "        r = predict(userid, itemid)\n",
        "        \n",
        "        predictions.append((itemid,r))\n",
        "    \n",
        "    predictions = pd.DataFrame(predictions, columns=['itemid','prediction'])\n",
        "    \n",
        "    # merge the predictions to topN_list and rearrange the list according to predictions\n",
        "    topn_predict = pd.merge(topn, predictions, on='itemid', how='inner')\n",
        "    topn_predict = topn_predict.sort_values(by=['prediction'], ascending=False)\n",
        "    \n",
        "    return topn, topn_predict"
      ]
    },
    {
      "cell_type": "markdown",
      "metadata": {
        "id": "f89U3bEegCSR"
      },
      "source": [
        "Now, let's make recommendation for user 1 and compare the two list"
      ]
    },
    {
      "cell_type": "code",
      "execution_count": null,
      "metadata": {
        "id": "M9uInQj0gCSR"
      },
      "outputs": [],
      "source": [
        "topn, topn_predict = topn_prediction(userid=test_user)"
      ]
    },
    {
      "cell_type": "code",
      "execution_count": null,
      "metadata": {
        "id": "VsU4JUOwgCSU"
      },
      "outputs": [
        {
          "data": {
            "text/html": [
              "<div>\n",
              "<style scoped>\n",
              "    .dataframe tbody tr th:only-of-type {\n",
              "        vertical-align: middle;\n",
              "    }\n",
              "\n",
              "    .dataframe tbody tr th {\n",
              "        vertical-align: top;\n",
              "    }\n",
              "\n",
              "    .dataframe thead th {\n",
              "        text-align: right;\n",
              "    }\n",
              "</style>\n",
              "<table border=\"1\" class=\"dataframe\">\n",
              "  <thead>\n",
              "    <tr style=\"text-align: right;\">\n",
              "      <th></th>\n",
              "      <th>itemid</th>\n",
              "      <th>similarity_with_Iu</th>\n",
              "      <th>title</th>\n",
              "      <th>prediction</th>\n",
              "    </tr>\n",
              "  </thead>\n",
              "  <tbody>\n",
              "    <tr>\n",
              "      <th>7</th>\n",
              "      <td>1388</td>\n",
              "      <td>26.624397</td>\n",
              "      <td>Gabbeh (1996)</td>\n",
              "      <td>4.666667</td>\n",
              "    </tr>\n",
              "    <tr>\n",
              "      <th>18</th>\n",
              "      <td>359</td>\n",
              "      <td>22.973658</td>\n",
              "      <td>Assignment, The (1997)</td>\n",
              "      <td>4.600000</td>\n",
              "    </tr>\n",
              "    <tr>\n",
              "      <th>4</th>\n",
              "      <td>1554</td>\n",
              "      <td>27.364494</td>\n",
              "      <td>Safe Passage (1994)</td>\n",
              "      <td>4.500000</td>\n",
              "    </tr>\n",
              "    <tr>\n",
              "      <th>14</th>\n",
              "      <td>1538</td>\n",
              "      <td>24.492453</td>\n",
              "      <td>All Over Me (1997)</td>\n",
              "      <td>4.500000</td>\n",
              "    </tr>\n",
              "    <tr>\n",
              "      <th>27</th>\n",
              "      <td>1448</td>\n",
              "      <td>20.846909</td>\n",
              "      <td>My Favorite Season (1993)</td>\n",
              "      <td>4.490052</td>\n",
              "    </tr>\n",
              "    <tr>\n",
              "      <th>29</th>\n",
              "      <td>1375</td>\n",
              "      <td>20.627152</td>\n",
              "      <td>Cement Garden, The (1993)</td>\n",
              "      <td>4.333333</td>\n",
              "    </tr>\n",
              "    <tr>\n",
              "      <th>26</th>\n",
              "      <td>1466</td>\n",
              "      <td>21.063269</td>\n",
              "      <td>Margaret's Museum (1995)</td>\n",
              "      <td>4.271915</td>\n",
              "    </tr>\n",
              "    <tr>\n",
              "      <th>2</th>\n",
              "      <td>1516</td>\n",
              "      <td>31.133267</td>\n",
              "      <td>Wedding Gift, The (1994)</td>\n",
              "      <td>4.000000</td>\n",
              "    </tr>\n",
              "    <tr>\n",
              "      <th>23</th>\n",
              "      <td>1467</td>\n",
              "      <td>21.861203</td>\n",
              "      <td>Saint of Fort Washington, The (1993)</td>\n",
              "      <td>4.000000</td>\n",
              "    </tr>\n",
              "    <tr>\n",
              "      <th>21</th>\n",
              "      <td>1537</td>\n",
              "      <td>22.061914</td>\n",
              "      <td>Cosi (1996)</td>\n",
              "      <td>4.000000</td>\n",
              "    </tr>\n",
              "    <tr>\n",
              "      <th>10</th>\n",
              "      <td>1378</td>\n",
              "      <td>25.787842</td>\n",
              "      <td>Rhyme &amp; Reason (1997)</td>\n",
              "      <td>4.000000</td>\n",
              "    </tr>\n",
              "    <tr>\n",
              "      <th>19</th>\n",
              "      <td>1369</td>\n",
              "      <td>22.710078</td>\n",
              "      <td>Forbidden Christ, The (Cristo proibito, Il) (1...</td>\n",
              "      <td>4.000000</td>\n",
              "    </tr>\n",
              "    <tr>\n",
              "      <th>3</th>\n",
              "      <td>1550</td>\n",
              "      <td>31.031738</td>\n",
              "      <td>Destiny Turns on the Radio (1995)</td>\n",
              "      <td>3.777778</td>\n",
              "    </tr>\n",
              "    <tr>\n",
              "      <th>1</th>\n",
              "      <td>1189</td>\n",
              "      <td>50.362199</td>\n",
              "      <td>Prefontaine (1997)</td>\n",
              "      <td>3.666528</td>\n",
              "    </tr>\n",
              "    <tr>\n",
              "      <th>20</th>\n",
              "      <td>1506</td>\n",
              "      <td>22.325504</td>\n",
              "      <td>Nelly &amp; Monsieur Arnaud (1995)</td>\n",
              "      <td>3.610294</td>\n",
              "    </tr>\n",
              "    <tr>\n",
              "      <th>15</th>\n",
              "      <td>1485</td>\n",
              "      <td>24.345312</td>\n",
              "      <td>Colonel Chabert, Le (1994)</td>\n",
              "      <td>3.610294</td>\n",
              "    </tr>\n",
              "    <tr>\n",
              "      <th>11</th>\n",
              "      <td>1664</td>\n",
              "      <td>25.327445</td>\n",
              "      <td>8 Heads in a Duffel Bag (1997)</td>\n",
              "      <td>3.610294</td>\n",
              "    </tr>\n",
              "    <tr>\n",
              "      <th>9</th>\n",
              "      <td>691</td>\n",
              "      <td>26.461802</td>\n",
              "      <td>Dark City (1998)</td>\n",
              "      <td>3.610294</td>\n",
              "    </tr>\n",
              "    <tr>\n",
              "      <th>6</th>\n",
              "      <td>1223</td>\n",
              "      <td>26.631850</td>\n",
              "      <td>King of the Hill (1993)</td>\n",
              "      <td>3.610294</td>\n",
              "    </tr>\n",
              "    <tr>\n",
              "      <th>5</th>\n",
              "      <td>1600</td>\n",
              "      <td>27.287712</td>\n",
              "      <td>Guantanamera (1994)</td>\n",
              "      <td>3.610294</td>\n",
              "    </tr>\n",
              "    <tr>\n",
              "      <th>17</th>\n",
              "      <td>909</td>\n",
              "      <td>23.357301</td>\n",
              "      <td>Dangerous Beauty (1998)</td>\n",
              "      <td>3.500000</td>\n",
              "    </tr>\n",
              "    <tr>\n",
              "      <th>12</th>\n",
              "      <td>1261</td>\n",
              "      <td>24.785660</td>\n",
              "      <td>Run of the Country, The (1995)</td>\n",
              "      <td>3.333333</td>\n",
              "    </tr>\n",
              "    <tr>\n",
              "      <th>24</th>\n",
              "      <td>1255</td>\n",
              "      <td>21.750924</td>\n",
              "      <td>Broken English (1996)</td>\n",
              "      <td>3.265749</td>\n",
              "    </tr>\n",
              "    <tr>\n",
              "      <th>13</th>\n",
              "      <td>1123</td>\n",
              "      <td>24.524028</td>\n",
              "      <td>Last Time I Saw Paris, The (1954)</td>\n",
              "      <td>3.200000</td>\n",
              "    </tr>\n",
              "    <tr>\n",
              "      <th>16</th>\n",
              "      <td>1450</td>\n",
              "      <td>24.262120</td>\n",
              "      <td>Golden Earrings (1947)</td>\n",
              "      <td>3.142978</td>\n",
              "    </tr>\n",
              "    <tr>\n",
              "      <th>22</th>\n",
              "      <td>1474</td>\n",
              "      <td>21.877034</td>\n",
              "      <td>Nina Takes a Lover (1994)</td>\n",
              "      <td>3.000000</td>\n",
              "    </tr>\n",
              "    <tr>\n",
              "      <th>8</th>\n",
              "      <td>766</td>\n",
              "      <td>26.590175</td>\n",
              "      <td>Man of the Year (1995)</td>\n",
              "      <td>3.000000</td>\n",
              "    </tr>\n",
              "    <tr>\n",
              "      <th>0</th>\n",
              "      <td>1356</td>\n",
              "      <td>52.867173</td>\n",
              "      <td>Ed's Next Move (1996)</td>\n",
              "      <td>2.280926</td>\n",
              "    </tr>\n",
              "    <tr>\n",
              "      <th>28</th>\n",
              "      <td>927</td>\n",
              "      <td>20.730153</td>\n",
              "      <td>Flower of My Secret, The (Flor de mi secreto, ...</td>\n",
              "      <td>1.665010</td>\n",
              "    </tr>\n",
              "    <tr>\n",
              "      <th>25</th>\n",
              "      <td>1499</td>\n",
              "      <td>21.529748</td>\n",
              "      <td>Grosse Fatigue (1994)</td>\n",
              "      <td>1.122032</td>\n",
              "    </tr>\n",
              "  </tbody>\n",
              "</table>\n",
              "</div>"
            ],
            "text/plain": [
              "    itemid  similarity_with_Iu  \\\n",
              "7     1388           26.624397   \n",
              "18     359           22.973658   \n",
              "4     1554           27.364494   \n",
              "14    1538           24.492453   \n",
              "27    1448           20.846909   \n",
              "29    1375           20.627152   \n",
              "26    1466           21.063269   \n",
              "2     1516           31.133267   \n",
              "23    1467           21.861203   \n",
              "21    1537           22.061914   \n",
              "10    1378           25.787842   \n",
              "19    1369           22.710078   \n",
              "3     1550           31.031738   \n",
              "1     1189           50.362199   \n",
              "20    1506           22.325504   \n",
              "15    1485           24.345312   \n",
              "11    1664           25.327445   \n",
              "9      691           26.461802   \n",
              "6     1223           26.631850   \n",
              "5     1600           27.287712   \n",
              "17     909           23.357301   \n",
              "12    1261           24.785660   \n",
              "24    1255           21.750924   \n",
              "13    1123           24.524028   \n",
              "16    1450           24.262120   \n",
              "22    1474           21.877034   \n",
              "8      766           26.590175   \n",
              "0     1356           52.867173   \n",
              "28     927           20.730153   \n",
              "25    1499           21.529748   \n",
              "\n",
              "                                                title  prediction  \n",
              "7                                       Gabbeh (1996)    4.666667  \n",
              "18                             Assignment, The (1997)    4.600000  \n",
              "4                                 Safe Passage (1994)    4.500000  \n",
              "14                                 All Over Me (1997)    4.500000  \n",
              "27                          My Favorite Season (1993)    4.490052  \n",
              "29                          Cement Garden, The (1993)    4.333333  \n",
              "26                           Margaret's Museum (1995)    4.271915  \n",
              "2                            Wedding Gift, The (1994)    4.000000  \n",
              "23               Saint of Fort Washington, The (1993)    4.000000  \n",
              "21                                        Cosi (1996)    4.000000  \n",
              "10                              Rhyme & Reason (1997)    4.000000  \n",
              "19  Forbidden Christ, The (Cristo proibito, Il) (1...    4.000000  \n",
              "3                   Destiny Turns on the Radio (1995)    3.777778  \n",
              "1                                  Prefontaine (1997)    3.666528  \n",
              "20                     Nelly & Monsieur Arnaud (1995)    3.610294  \n",
              "15                         Colonel Chabert, Le (1994)    3.610294  \n",
              "11                     8 Heads in a Duffel Bag (1997)    3.610294  \n",
              "9                                    Dark City (1998)    3.610294  \n",
              "6                             King of the Hill (1993)    3.610294  \n",
              "5                                 Guantanamera (1994)    3.610294  \n",
              "17                            Dangerous Beauty (1998)    3.500000  \n",
              "12                     Run of the Country, The (1995)    3.333333  \n",
              "24                              Broken English (1996)    3.265749  \n",
              "13                  Last Time I Saw Paris, The (1954)    3.200000  \n",
              "16                             Golden Earrings (1947)    3.142978  \n",
              "22                          Nina Takes a Lover (1994)    3.000000  \n",
              "8                              Man of the Year (1995)    3.000000  \n",
              "0                               Ed's Next Move (1996)    2.280926  \n",
              "28  Flower of My Secret, The (Flor de mi secreto, ...    1.665010  \n",
              "25                              Grosse Fatigue (1994)    1.122032  "
            ]
          },
          "execution_count": 25,
          "metadata": {
            "tags": []
          },
          "output_type": "execute_result"
        }
      ],
      "source": [
        "topn_predict"
      ]
    },
    {
      "cell_type": "markdown",
      "metadata": {
        "id": "T5EEllYzgCSX"
      },
      "source": [
        "As you will have noticed, the two lists are sorted in different ways. The second list is organized according to the predictions made for the user.\n",
        "\n",
        "<b>Note</b>: When making predictions for user $u$ on item $i$, user $u$ may not have rated any of the $k$ most similar items to i. In this case, we consider the mean rating of $u$ as the predicted value."
      ]
    },
    {
      "cell_type": "markdown",
      "metadata": {
        "id": "uJ9FQoD_gCSY"
      },
      "source": [
        "### Evaluation with Mean Absolute Error"
      ]
    },
    {
      "cell_type": "code",
      "execution_count": null,
      "metadata": {
        "id": "GlFncHmBgCSZ"
      },
      "outputs": [],
      "source": [
        "from recsys.preprocessing import train_test_split, get_examples\n",
        "\n",
        "# get examples as tuples of userids and itemids and labels from normalize ratings\n",
        "raw_examples, raw_labels = get_examples(ratings, labels_column='rating')\n",
        "\n",
        "# train test split\n",
        "(x_train, x_test), (y_train, y_test) = train_test_split(examples=raw_examples, labels=raw_labels)\n",
        "\n",
        "def evaluate(x_test, y_test):\n",
        "    print('Evaluate the model on {} test data ...'.format(x_test.shape[0]))\n",
        "    preds = list(predict(u,i) for (u,i) in x_test)\n",
        "    mae = np.sum(np.absolute(y_test - np.array(preds))) / x_test.shape[0]\n",
        "    print('\\nMAE :', mae)\n",
        "    return mae"
      ]
    },
    {
      "cell_type": "code",
      "execution_count": null,
      "metadata": {
        "id": "4e6Uah0OgCSa"
      },
      "outputs": [
        {
          "name": "stdout",
          "output_type": "stream",
          "text": [
            "Evaluate the model on 10000 test data ...\n",
            "\n",
            "MAE : 0.672389703640273\n"
          ]
        },
        {
          "data": {
            "text/plain": [
              "0.672389703640273"
            ]
          },
          "execution_count": 27,
          "metadata": {
            "tags": []
          },
          "output_type": "execute_result"
        }
      ],
      "source": [
        "evaluate(x_test, y_test)"
      ]
    },
    {
      "cell_type": "markdown",
      "metadata": {
        "id": "oo8awY_KgCSb"
      },
      "source": [
        "### Summary"
      ]
    },
    {
      "cell_type": "markdown",
      "metadata": {
        "id": "3EkbFyUcgCSb"
      },
      "source": [
        "As with the User-based CF, we have also summarised the Item-based CF into the python class [ItemToItem](https://github.com/nzhinusoftcm/review-on-collaborative-filtering/blob/master/recsys/memories/ItemToItem.py). \n",
        "\n",
        "##### ItemToItem : usage"
      ]
    },
    {
      "cell_type": "code",
      "execution_count": null,
      "metadata": {
        "id": "K73JoFtQgCSc"
      },
      "outputs": [],
      "source": [
        "from recsys.memories.ItemToItem import ItemToItem\n",
        "from recsys.preprocessing import ids_encoder, train_test_split, get_examples\n",
        "from recsys.datasets import ml100k\n",
        "\n",
        "# load data\n",
        "ratings, movies = ml100k.load()\n",
        "\n",
        "# prepare data\n",
        "ratings, uencoder, iencoder = ids_encoder(ratings)\n",
        "\n",
        "# get examples as tuples of userids and itemids and labels from normalize ratings\n",
        "raw_examples, raw_labels = get_examples(ratings, labels_column='rating')\n",
        "\n",
        "# train test split\n",
        "(x_train, x_test), (y_train, y_test) = train_test_split(examples=raw_examples, labels=raw_labels)"
      ]
    },
    {
      "cell_type": "markdown",
      "metadata": {
        "id": "5am0MnLhgCSd"
      },
      "source": [
        "##### Instanciate the ItemToItem CF\n",
        "\n",
        "Parameters :\n",
        "- ```k``` : number of neighbors to consider for each item\n",
        "- ```metric``` : metric to use when computing similarities : let's use **cosine**\n",
        "- ```dataset_name``` : in this example, we use the ml100k dataset"
      ]
    },
    {
      "cell_type": "code",
      "execution_count": null,
      "metadata": {
        "id": "No4ablY5gCSe"
      },
      "outputs": [
        {
          "name": "stdout",
          "output_type": "stream",
          "text": [
            "Normalize ratings ...\n",
            "Create the similarity model ...\n",
            "Compute nearest neighbors ...\n",
            "Item to item recommendation model created with success ...\n"
          ]
        }
      ],
      "source": [
        "# create the Item-based CF\n",
        "item2item = ItemToItem(ratings, movies, k=20, metric='cosine', dataset_name='ml100k')"
      ]
    },
    {
      "cell_type": "code",
      "execution_count": null,
      "metadata": {
        "id": "rCJLUt0JgCSg"
      },
      "outputs": [
        {
          "name": "stdout",
          "output_type": "stream",
          "text": [
            "Evaluate the model on 10000 test data ...\n",
            "\n",
            "MAE : 0.507794195659005\n"
          ]
        },
        {
          "data": {
            "text/plain": [
              "0.507794195659005"
            ]
          },
          "execution_count": 30,
          "metadata": {
            "tags": []
          },
          "output_type": "execute_result"
        }
      ],
      "source": [
        "# evaluate the algorithm on test dataset\n",
        "item2item.evaluate(x_test, y_test)"
      ]
    },
    {
      "cell_type": "markdown",
      "metadata": {
        "id": "hZefVmFhgCSh"
      },
      "source": [
        "##### Evaluate the Item-based CF on the ML-1M dataset"
      ]
    },
    {
      "cell_type": "code",
      "execution_count": null,
      "metadata": {
        "id": "ENke7QjOgCSi"
      },
      "outputs": [
        {
          "name": "stdout",
          "output_type": "stream",
          "text": [
            "Normalize ratings ...\n",
            "Create the similarity model ...\n",
            "Compute nearest neighbors ...\n",
            "Item to item recommendation model created with success ...\n",
            "=========================\n",
            "Evaluate the model on 100021 test data ...\n",
            "\n",
            "MAE : 0.42514728655396045\n"
          ]
        },
        {
          "data": {
            "text/plain": [
              "0.42514728655396045"
            ]
          },
          "execution_count": 31,
          "metadata": {
            "tags": []
          },
          "output_type": "execute_result"
        }
      ],
      "source": [
        "from recsys.memories.ItemToItem import ItemToItem\n",
        "from recsys.preprocessing import ids_encoder, train_test_split, get_examples\n",
        "from recsys.datasets import ml1m\n",
        "\n",
        "# load data\n",
        "ratings, movies = ml1m.load()\n",
        "\n",
        "# prepare data\n",
        "ratings, uencoder, iencoder = ids_encoder(ratings)\n",
        "\n",
        "# get examples as tuples of userids and itemids and labels from normalize ratings\n",
        "raw_examples, raw_labels = get_examples(ratings, labels_column='rating')\n",
        "\n",
        "# train test split\n",
        "(x_train, x_test), (y_train, y_test) = train_test_split(examples=raw_examples, labels=raw_labels)\n",
        "\n",
        "# create the Item-based CF\n",
        "item2item = ItemToItem(ratings, movies, k=20, metric='cosine', dataset_name='ml1m')\n",
        "\n",
        "# evaluate the algorithm on test dataset\n",
        "print(\"=========================\")\n",
        "item2item.evaluate(x_test, y_test)"
      ]
    },
    {
      "cell_type": "markdown",
      "metadata": {
        "id": "iS17ccy3gCSw"
      },
      "source": [
        "### Model based CF\n",
        "\n",
        "**User-based** and **Item-based CF** are memory based algorithms. They directly act on the user-item interactions to compute recommendation. To the contrary, model-based algorithms are mathematical models trained on the user-item interactions and used to predict recommendation.\n",
        "\n",
        "We will start with the SVD (Singular Value Decomposition) algorithm."
      ]
    },
    {
      "cell_type": "markdown",
      "metadata": {
        "id": "xqiEVosSgCYV"
      },
      "source": [
        "## Part 4 - SVD method\n",
        "> Collaborative Filtering on MovieLens Latest-small Part 4 - Finding recommendations using model based singular value decomposition (SVD) method."
      ]
    },
    {
      "cell_type": "markdown",
      "metadata": {
        "id": "t5c30ciOgCYW"
      },
      "source": [
        "Due to the high level sparsity of the rating matrix $R$, **user-based** and **item-based** collaborative filtering suffer from **data sparsity** and **scalability**. These cause user and item-based collaborative filtering to be less effective and highly affect their performences. \n",
        "\n",
        "To address the high level sparsity problem, [Sarwar et al. (2000)](http://files.grouplens.org/papers/webKDD00.pdf) proposed to reduce the dimensionality of the rating $R$ using the *Singular Value Decomposition (SVD)* algorithm.\n",
        "\n",
        "---\n",
        "\n",
        "### How do SVD works ?\n",
        "\n",
        "As described is Figure 1, SVD factors the rating matrix $R$ of size $m\\times n$ into three matrices $P$, $\\Sigma$ and $Q$ as follows :\n",
        "\n",
        "\\begin{equation}\n",
        "R = P\\Sigma Q^{\\top}.\n",
        "\\end{equation}\n",
        "\n",
        "Here, $P$ and $Q$ are two orthogonal matrices of size $m\\times \\hat{k}$ and $n\\times \\hat{k}$ respectively and $\\Sigma$ is a diagonal matrix of size $ \\hat{k}\\times \\hat{k}$ (with $ \\hat{k}$ the rank of matrix $R$) having all singular values of the rating matrix R as its diagonal entries ([Billsus and Pazzani, 1998](https://www.ics.uci.edu/~pazzani/Publications/MLC98.pdf), [Sarwar et al. (2000)](http://files.grouplens.org/papers/webKDD00.pdf)).\n",
        "\n",
        "![](https://github.com/nzhinusoftcm/review-on-collaborative-filtering/blob/master/recsys/img/svd.png?raw=1)\n",
        "<center> <b>Figure 1</b> : Singular value decomposition of rating matrix $R$ </center>\n",
        "\n",
        "After having choosen $k$, the dimension of factors that will represent users and items, we can truncate matrix $\\Sigma$ by only retaining its $k$ largest singular values to yield $\\Sigma_k$ and reduce matrices $P$ and $Q$ accordingly to obtain $P_k$ and $Q_k$. The rating matrix will then be estimated as \n",
        "\n",
        "\\begin{equation}\n",
        "R_k = P_k\\Sigma_k Q_k^{\\top}.\n",
        "\\end{equation}\n",
        "\n",
        "Once these matrices are known, they can be used for rating predictions ant top-N recommendations. $P_k\\Sigma_k^{\\frac{1}{2}}$ represents the latent space of users and $\\Sigma_k^{\\frac{1}{2}}Q_k^{\\top}$ the latent space of items. Rating prediction for user $u$ on $i$ is done by the following formular\n",
        "\n",
        "\\begin{equation}\n",
        "\\hat{R}_{u,i} = \\begin{bmatrix}P_k\\Sigma_k^{\\frac{1}{2}}\\end{bmatrix}_u \\begin{bmatrix}\\Sigma_k^{\\frac{1}{2}}Q_k^{\\top}\\end{bmatrix}_i.\n",
        "\\end{equation}\n",
        "\n",
        "Before applying SVD, its important to fill in missing values of the rating matrix $R$. [Sarwar et al. (2000)](http://files.grouplens.org/papers/webKDD00.pdf) found the item’s mean rating to be useful default values. The user's average rating can also be used but the former shown better performances. Adding ratings normalization by subtracting the user mean rating or other baseline predictor can improve accuracy.\n",
        "\n",
        "---\n",
        "\n",
        "### SVD algorithm\n",
        "\n",
        "> 1. Factor the normalize rating matrix $R_{norm}$ to obtain matrices $P$, $\\Sigma$ and $Q$\n",
        "> 2. Reduce $\\Sigma$ to dimension $k$ to obtain $\\Sigma_k$\n",
        "> 3. Compute the square-root of $\\Sigma_k$ to obtain $\\Sigma_k^{\\frac{1}{2}}$\n",
        "> 4. Compute the resultant matrices $P_k\\Sigma_k^{\\frac{1}{2}}$ and $\\Sigma_k^{\\frac{1}{2}}Q_k^{\\top}$ that will be used to compute recommendation scores for any user and items.\n",
        "\n",
        "---\n",
        "\n",
        "### Implementation details\n",
        "\n",
        "SVD can easily be implemented using python library such as ```numpy```, ```scipy``` or ```sklearn```. As described by Andrew Ng in his [Machine Learning course](https://www.coursera.org/learn/machine-learning/lecture/CEXN0/vectorization-low-rank-matrix-factorization), it's not recommended to implement the standard SVD by ourselves. Instead, we can take advantage of matrix libraries (such as those listed before) that are optimized for matrix computations and vectorization.\n",
        "\n",
        "Now let's implement the SVD collaborative filtering"
      ]
    },
    {
      "cell_type": "markdown",
      "metadata": {
        "id": "f6HngvlCgCYq"
      },
      "source": [
        "### Download useful tools"
      ]
    },
    {
      "cell_type": "code",
      "execution_count": null,
      "metadata": {
        "id": "Clp4G4_QgCYs"
      },
      "outputs": [],
      "source": [
        "import os\n",
        "\n",
        "if not (os.path.exists(\"recsys.zip\") or os.path.exists(\"recsys\")):\n",
        "    !wget https://github.com/nzhinusoftcm/review-on-collaborative-filtering/raw/master/recsys.zip    \n",
        "    !unzip recsys.zip"
      ]
    },
    {
      "cell_type": "markdown",
      "metadata": {
        "id": "XRakvIvdgCYv"
      },
      "source": [
        "### Import requirements\n",
        "\n",
        "```\n",
        "matplotlib==3.2.2\n",
        "numpy==1.19.2\n",
        "pandas==1.0.5\n",
        "python==3.7\n",
        "scikit-learn==0.24.1\n",
        "scikit-surprise==1.1.1\n",
        "scipy==1.6.2\n",
        "```"
      ]
    },
    {
      "cell_type": "code",
      "execution_count": null,
      "metadata": {
        "id": "xgf0tX-pgCZA"
      },
      "outputs": [],
      "source": [
        "from recsys.datasets import mlLastedSmall, ml100k, ml1m\n",
        "from sklearn.preprocessing import LabelEncoder\n",
        "from scipy.sparse import csr_matrix\n",
        "\n",
        "import pandas as pd\n",
        "import numpy as np\n",
        "import os"
      ]
    },
    {
      "cell_type": "markdown",
      "metadata": {
        "id": "Llnqze23gCZD"
      },
      "source": [
        "### Loading movielen ratings"
      ]
    },
    {
      "cell_type": "code",
      "execution_count": null,
      "metadata": {
        "id": "0p4uHthDgCZN"
      },
      "outputs": [],
      "source": [
        "ratings, movies = mlLastedSmall.load()"
      ]
    },
    {
      "cell_type": "markdown",
      "metadata": {
        "id": "W8FYmKhIgCZO"
      },
      "source": [
        "Let's see how our rating matrix looks like"
      ]
    },
    {
      "cell_type": "code",
      "execution_count": null,
      "metadata": {
        "id": "xN2ip3hhgCZP"
      },
      "outputs": [
        {
          "data": {
            "text/html": [
              "<div>\n",
              "<style scoped>\n",
              "    .dataframe tbody tr th:only-of-type {\n",
              "        vertical-align: middle;\n",
              "    }\n",
              "\n",
              "    .dataframe tbody tr th {\n",
              "        vertical-align: top;\n",
              "    }\n",
              "\n",
              "    .dataframe thead th {\n",
              "        text-align: right;\n",
              "    }\n",
              "</style>\n",
              "<table border=\"1\" class=\"dataframe\">\n",
              "  <thead>\n",
              "    <tr style=\"text-align: right;\">\n",
              "      <th>itemid</th>\n",
              "      <th>1</th>\n",
              "      <th>2</th>\n",
              "      <th>3</th>\n",
              "      <th>4</th>\n",
              "      <th>5</th>\n",
              "      <th>6</th>\n",
              "      <th>7</th>\n",
              "      <th>8</th>\n",
              "      <th>9</th>\n",
              "      <th>10</th>\n",
              "      <th>...</th>\n",
              "      <th>193565</th>\n",
              "      <th>193567</th>\n",
              "      <th>193571</th>\n",
              "      <th>193573</th>\n",
              "      <th>193579</th>\n",
              "      <th>193581</th>\n",
              "      <th>193583</th>\n",
              "      <th>193585</th>\n",
              "      <th>193587</th>\n",
              "      <th>193609</th>\n",
              "    </tr>\n",
              "    <tr>\n",
              "      <th>userid</th>\n",
              "      <th></th>\n",
              "      <th></th>\n",
              "      <th></th>\n",
              "      <th></th>\n",
              "      <th></th>\n",
              "      <th></th>\n",
              "      <th></th>\n",
              "      <th></th>\n",
              "      <th></th>\n",
              "      <th></th>\n",
              "      <th></th>\n",
              "      <th></th>\n",
              "      <th></th>\n",
              "      <th></th>\n",
              "      <th></th>\n",
              "      <th></th>\n",
              "      <th></th>\n",
              "      <th></th>\n",
              "      <th></th>\n",
              "      <th></th>\n",
              "      <th></th>\n",
              "    </tr>\n",
              "  </thead>\n",
              "  <tbody>\n",
              "    <tr>\n",
              "      <th>1</th>\n",
              "      <td>4.0</td>\n",
              "      <td>NaN</td>\n",
              "      <td>4.0</td>\n",
              "      <td>NaN</td>\n",
              "      <td>NaN</td>\n",
              "      <td>4.0</td>\n",
              "      <td>NaN</td>\n",
              "      <td>NaN</td>\n",
              "      <td>NaN</td>\n",
              "      <td>NaN</td>\n",
              "      <td>...</td>\n",
              "      <td>NaN</td>\n",
              "      <td>NaN</td>\n",
              "      <td>NaN</td>\n",
              "      <td>NaN</td>\n",
              "      <td>NaN</td>\n",
              "      <td>NaN</td>\n",
              "      <td>NaN</td>\n",
              "      <td>NaN</td>\n",
              "      <td>NaN</td>\n",
              "      <td>NaN</td>\n",
              "    </tr>\n",
              "    <tr>\n",
              "      <th>2</th>\n",
              "      <td>NaN</td>\n",
              "      <td>NaN</td>\n",
              "      <td>NaN</td>\n",
              "      <td>NaN</td>\n",
              "      <td>NaN</td>\n",
              "      <td>NaN</td>\n",
              "      <td>NaN</td>\n",
              "      <td>NaN</td>\n",
              "      <td>NaN</td>\n",
              "      <td>NaN</td>\n",
              "      <td>...</td>\n",
              "      <td>NaN</td>\n",
              "      <td>NaN</td>\n",
              "      <td>NaN</td>\n",
              "      <td>NaN</td>\n",
              "      <td>NaN</td>\n",
              "      <td>NaN</td>\n",
              "      <td>NaN</td>\n",
              "      <td>NaN</td>\n",
              "      <td>NaN</td>\n",
              "      <td>NaN</td>\n",
              "    </tr>\n",
              "    <tr>\n",
              "      <th>3</th>\n",
              "      <td>NaN</td>\n",
              "      <td>NaN</td>\n",
              "      <td>NaN</td>\n",
              "      <td>NaN</td>\n",
              "      <td>NaN</td>\n",
              "      <td>NaN</td>\n",
              "      <td>NaN</td>\n",
              "      <td>NaN</td>\n",
              "      <td>NaN</td>\n",
              "      <td>NaN</td>\n",
              "      <td>...</td>\n",
              "      <td>NaN</td>\n",
              "      <td>NaN</td>\n",
              "      <td>NaN</td>\n",
              "      <td>NaN</td>\n",
              "      <td>NaN</td>\n",
              "      <td>NaN</td>\n",
              "      <td>NaN</td>\n",
              "      <td>NaN</td>\n",
              "      <td>NaN</td>\n",
              "      <td>NaN</td>\n",
              "    </tr>\n",
              "    <tr>\n",
              "      <th>4</th>\n",
              "      <td>NaN</td>\n",
              "      <td>NaN</td>\n",
              "      <td>NaN</td>\n",
              "      <td>NaN</td>\n",
              "      <td>NaN</td>\n",
              "      <td>NaN</td>\n",
              "      <td>NaN</td>\n",
              "      <td>NaN</td>\n",
              "      <td>NaN</td>\n",
              "      <td>NaN</td>\n",
              "      <td>...</td>\n",
              "      <td>NaN</td>\n",
              "      <td>NaN</td>\n",
              "      <td>NaN</td>\n",
              "      <td>NaN</td>\n",
              "      <td>NaN</td>\n",
              "      <td>NaN</td>\n",
              "      <td>NaN</td>\n",
              "      <td>NaN</td>\n",
              "      <td>NaN</td>\n",
              "      <td>NaN</td>\n",
              "    </tr>\n",
              "    <tr>\n",
              "      <th>5</th>\n",
              "      <td>4.0</td>\n",
              "      <td>NaN</td>\n",
              "      <td>NaN</td>\n",
              "      <td>NaN</td>\n",
              "      <td>NaN</td>\n",
              "      <td>NaN</td>\n",
              "      <td>NaN</td>\n",
              "      <td>NaN</td>\n",
              "      <td>NaN</td>\n",
              "      <td>NaN</td>\n",
              "      <td>...</td>\n",
              "      <td>NaN</td>\n",
              "      <td>NaN</td>\n",
              "      <td>NaN</td>\n",
              "      <td>NaN</td>\n",
              "      <td>NaN</td>\n",
              "      <td>NaN</td>\n",
              "      <td>NaN</td>\n",
              "      <td>NaN</td>\n",
              "      <td>NaN</td>\n",
              "      <td>NaN</td>\n",
              "    </tr>\n",
              "    <tr>\n",
              "      <th>...</th>\n",
              "      <td>...</td>\n",
              "      <td>...</td>\n",
              "      <td>...</td>\n",
              "      <td>...</td>\n",
              "      <td>...</td>\n",
              "      <td>...</td>\n",
              "      <td>...</td>\n",
              "      <td>...</td>\n",
              "      <td>...</td>\n",
              "      <td>...</td>\n",
              "      <td>...</td>\n",
              "      <td>...</td>\n",
              "      <td>...</td>\n",
              "      <td>...</td>\n",
              "      <td>...</td>\n",
              "      <td>...</td>\n",
              "      <td>...</td>\n",
              "      <td>...</td>\n",
              "      <td>...</td>\n",
              "      <td>...</td>\n",
              "      <td>...</td>\n",
              "    </tr>\n",
              "    <tr>\n",
              "      <th>606</th>\n",
              "      <td>2.5</td>\n",
              "      <td>NaN</td>\n",
              "      <td>NaN</td>\n",
              "      <td>NaN</td>\n",
              "      <td>NaN</td>\n",
              "      <td>NaN</td>\n",
              "      <td>2.5</td>\n",
              "      <td>NaN</td>\n",
              "      <td>NaN</td>\n",
              "      <td>NaN</td>\n",
              "      <td>...</td>\n",
              "      <td>NaN</td>\n",
              "      <td>NaN</td>\n",
              "      <td>NaN</td>\n",
              "      <td>NaN</td>\n",
              "      <td>NaN</td>\n",
              "      <td>NaN</td>\n",
              "      <td>NaN</td>\n",
              "      <td>NaN</td>\n",
              "      <td>NaN</td>\n",
              "      <td>NaN</td>\n",
              "    </tr>\n",
              "    <tr>\n",
              "      <th>607</th>\n",
              "      <td>4.0</td>\n",
              "      <td>NaN</td>\n",
              "      <td>NaN</td>\n",
              "      <td>NaN</td>\n",
              "      <td>NaN</td>\n",
              "      <td>NaN</td>\n",
              "      <td>NaN</td>\n",
              "      <td>NaN</td>\n",
              "      <td>NaN</td>\n",
              "      <td>NaN</td>\n",
              "      <td>...</td>\n",
              "      <td>NaN</td>\n",
              "      <td>NaN</td>\n",
              "      <td>NaN</td>\n",
              "      <td>NaN</td>\n",
              "      <td>NaN</td>\n",
              "      <td>NaN</td>\n",
              "      <td>NaN</td>\n",
              "      <td>NaN</td>\n",
              "      <td>NaN</td>\n",
              "      <td>NaN</td>\n",
              "    </tr>\n",
              "    <tr>\n",
              "      <th>608</th>\n",
              "      <td>2.5</td>\n",
              "      <td>2.0</td>\n",
              "      <td>2.0</td>\n",
              "      <td>NaN</td>\n",
              "      <td>NaN</td>\n",
              "      <td>NaN</td>\n",
              "      <td>NaN</td>\n",
              "      <td>NaN</td>\n",
              "      <td>NaN</td>\n",
              "      <td>4.0</td>\n",
              "      <td>...</td>\n",
              "      <td>NaN</td>\n",
              "      <td>NaN</td>\n",
              "      <td>NaN</td>\n",
              "      <td>NaN</td>\n",
              "      <td>NaN</td>\n",
              "      <td>NaN</td>\n",
              "      <td>NaN</td>\n",
              "      <td>NaN</td>\n",
              "      <td>NaN</td>\n",
              "      <td>NaN</td>\n",
              "    </tr>\n",
              "    <tr>\n",
              "      <th>609</th>\n",
              "      <td>3.0</td>\n",
              "      <td>NaN</td>\n",
              "      <td>NaN</td>\n",
              "      <td>NaN</td>\n",
              "      <td>NaN</td>\n",
              "      <td>NaN</td>\n",
              "      <td>NaN</td>\n",
              "      <td>NaN</td>\n",
              "      <td>NaN</td>\n",
              "      <td>4.0</td>\n",
              "      <td>...</td>\n",
              "      <td>NaN</td>\n",
              "      <td>NaN</td>\n",
              "      <td>NaN</td>\n",
              "      <td>NaN</td>\n",
              "      <td>NaN</td>\n",
              "      <td>NaN</td>\n",
              "      <td>NaN</td>\n",
              "      <td>NaN</td>\n",
              "      <td>NaN</td>\n",
              "      <td>NaN</td>\n",
              "    </tr>\n",
              "    <tr>\n",
              "      <th>610</th>\n",
              "      <td>5.0</td>\n",
              "      <td>NaN</td>\n",
              "      <td>NaN</td>\n",
              "      <td>NaN</td>\n",
              "      <td>NaN</td>\n",
              "      <td>5.0</td>\n",
              "      <td>NaN</td>\n",
              "      <td>NaN</td>\n",
              "      <td>NaN</td>\n",
              "      <td>NaN</td>\n",
              "      <td>...</td>\n",
              "      <td>NaN</td>\n",
              "      <td>NaN</td>\n",
              "      <td>NaN</td>\n",
              "      <td>NaN</td>\n",
              "      <td>NaN</td>\n",
              "      <td>NaN</td>\n",
              "      <td>NaN</td>\n",
              "      <td>NaN</td>\n",
              "      <td>NaN</td>\n",
              "      <td>NaN</td>\n",
              "    </tr>\n",
              "  </tbody>\n",
              "</table>\n",
              "<p>610 rows × 9724 columns</p>\n",
              "</div>"
            ],
            "text/plain": [
              "itemid  1       2       3       4       5       6       7       8       \\\n",
              "userid                                                                   \n",
              "1          4.0     NaN     4.0     NaN     NaN     4.0     NaN     NaN   \n",
              "2          NaN     NaN     NaN     NaN     NaN     NaN     NaN     NaN   \n",
              "3          NaN     NaN     NaN     NaN     NaN     NaN     NaN     NaN   \n",
              "4          NaN     NaN     NaN     NaN     NaN     NaN     NaN     NaN   \n",
              "5          4.0     NaN     NaN     NaN     NaN     NaN     NaN     NaN   \n",
              "...        ...     ...     ...     ...     ...     ...     ...     ...   \n",
              "606        2.5     NaN     NaN     NaN     NaN     NaN     2.5     NaN   \n",
              "607        4.0     NaN     NaN     NaN     NaN     NaN     NaN     NaN   \n",
              "608        2.5     2.0     2.0     NaN     NaN     NaN     NaN     NaN   \n",
              "609        3.0     NaN     NaN     NaN     NaN     NaN     NaN     NaN   \n",
              "610        5.0     NaN     NaN     NaN     NaN     5.0     NaN     NaN   \n",
              "\n",
              "itemid  9       10      ...  193565  193567  193571  193573  193579  193581  \\\n",
              "userid                  ...                                                   \n",
              "1          NaN     NaN  ...     NaN     NaN     NaN     NaN     NaN     NaN   \n",
              "2          NaN     NaN  ...     NaN     NaN     NaN     NaN     NaN     NaN   \n",
              "3          NaN     NaN  ...     NaN     NaN     NaN     NaN     NaN     NaN   \n",
              "4          NaN     NaN  ...     NaN     NaN     NaN     NaN     NaN     NaN   \n",
              "5          NaN     NaN  ...     NaN     NaN     NaN     NaN     NaN     NaN   \n",
              "...        ...     ...  ...     ...     ...     ...     ...     ...     ...   \n",
              "606        NaN     NaN  ...     NaN     NaN     NaN     NaN     NaN     NaN   \n",
              "607        NaN     NaN  ...     NaN     NaN     NaN     NaN     NaN     NaN   \n",
              "608        NaN     4.0  ...     NaN     NaN     NaN     NaN     NaN     NaN   \n",
              "609        NaN     4.0  ...     NaN     NaN     NaN     NaN     NaN     NaN   \n",
              "610        NaN     NaN  ...     NaN     NaN     NaN     NaN     NaN     NaN   \n",
              "\n",
              "itemid  193583  193585  193587  193609  \n",
              "userid                                  \n",
              "1          NaN     NaN     NaN     NaN  \n",
              "2          NaN     NaN     NaN     NaN  \n",
              "3          NaN     NaN     NaN     NaN  \n",
              "4          NaN     NaN     NaN     NaN  \n",
              "5          NaN     NaN     NaN     NaN  \n",
              "...        ...     ...     ...     ...  \n",
              "606        NaN     NaN     NaN     NaN  \n",
              "607        NaN     NaN     NaN     NaN  \n",
              "608        NaN     NaN     NaN     NaN  \n",
              "609        NaN     NaN     NaN     NaN  \n",
              "610        NaN     NaN     NaN     NaN  \n",
              "\n",
              "[610 rows x 9724 columns]"
            ]
          },
          "execution_count": 4,
          "metadata": {
            "tags": []
          },
          "output_type": "execute_result"
        }
      ],
      "source": [
        "pd.crosstab(ratings.userid, ratings.itemid, ratings.rating, aggfunc=sum)"
      ]
    },
    {
      "cell_type": "markdown",
      "metadata": {
        "id": "eADw2pVCgCZT"
      },
      "source": [
        "We can observe that our rating matrix has many of unobserved value. However, as we described earlier, the SVD algorithm requires that all inputs in the matrix must be defined. Let's initialize the unobserved ratings with item's average that led to better performances compared to the user's average or even a null initialization ([Sarwar et al. (2000)](http://files.grouplens.org/papers/webKDD00.pdf)).\n",
        "\n",
        "We can go further and subtrat from each rating the corresponding user mean to normalize the data. This helps to improve the accuracy of the model."
      ]
    },
    {
      "cell_type": "code",
      "execution_count": null,
      "metadata": {
        "id": "_6FbONqugCZV"
      },
      "outputs": [],
      "source": [
        "# get user's mean rating\n",
        "umean = ratings.groupby(by='userid')['rating'].mean()"
      ]
    },
    {
      "cell_type": "code",
      "execution_count": null,
      "metadata": {
        "id": "CRA9Bi_JgCZW"
      },
      "outputs": [],
      "source": [
        "def rating_matrix(ratings):\n",
        "    \"\"\"\n",
        "    1. Fill NaN values with item's average ratings\n",
        "    2. Normalize ratings by subtracting user's mean ratings\n",
        "    \n",
        "    :param ratings : DataFrame of ratings data\n",
        "    :return\n",
        "        - R : Numpy array of normalized ratings\n",
        "        - df : DataFrame of normalized ratings\n",
        "    \"\"\"\n",
        "    \n",
        "    # fill missing values with item's average ratings\n",
        "    df = pd.crosstab(ratings.userid, ratings.itemid, ratings.rating, aggfunc=sum)\n",
        "    df = df.fillna(df.mean(axis=0))\n",
        "    \n",
        "    # subtract user's mean ratings to normalize data\n",
        "    df = df.subtract(umean, axis=0)\n",
        "    \n",
        "    # convert our dataframe to numpy array\n",
        "    R = df.to_numpy()\n",
        "    \n",
        "    return R, df\n",
        "\n",
        "# generate rating matrix by calling function rating_matrix\n",
        "R, df = rating_matrix(ratings)"
      ]
    },
    {
      "cell_type": "markdown",
      "metadata": {
        "id": "fUMlqw1IgCZX"
      },
      "source": [
        "$R$ is our final rating matrix. This is how the final rating matrix looks like"
      ]
    },
    {
      "cell_type": "code",
      "execution_count": null,
      "metadata": {
        "id": "9MTcxcctgCZZ"
      },
      "outputs": [
        {
          "data": {
            "text/html": [
              "<div>\n",
              "<style scoped>\n",
              "    .dataframe tbody tr th:only-of-type {\n",
              "        vertical-align: middle;\n",
              "    }\n",
              "\n",
              "    .dataframe tbody tr th {\n",
              "        vertical-align: top;\n",
              "    }\n",
              "\n",
              "    .dataframe thead th {\n",
              "        text-align: right;\n",
              "    }\n",
              "</style>\n",
              "<table border=\"1\" class=\"dataframe\">\n",
              "  <thead>\n",
              "    <tr style=\"text-align: right;\">\n",
              "      <th>itemid</th>\n",
              "      <th>1</th>\n",
              "      <th>2</th>\n",
              "      <th>3</th>\n",
              "      <th>4</th>\n",
              "      <th>5</th>\n",
              "      <th>6</th>\n",
              "      <th>7</th>\n",
              "      <th>8</th>\n",
              "      <th>9</th>\n",
              "      <th>10</th>\n",
              "      <th>...</th>\n",
              "      <th>193565</th>\n",
              "      <th>193567</th>\n",
              "      <th>193571</th>\n",
              "      <th>193573</th>\n",
              "      <th>193579</th>\n",
              "      <th>193581</th>\n",
              "      <th>193583</th>\n",
              "      <th>193585</th>\n",
              "      <th>193587</th>\n",
              "      <th>193609</th>\n",
              "    </tr>\n",
              "    <tr>\n",
              "      <th>userid</th>\n",
              "      <th></th>\n",
              "      <th></th>\n",
              "      <th></th>\n",
              "      <th></th>\n",
              "      <th></th>\n",
              "      <th></th>\n",
              "      <th></th>\n",
              "      <th></th>\n",
              "      <th></th>\n",
              "      <th></th>\n",
              "      <th></th>\n",
              "      <th></th>\n",
              "      <th></th>\n",
              "      <th></th>\n",
              "      <th></th>\n",
              "      <th></th>\n",
              "      <th></th>\n",
              "      <th></th>\n",
              "      <th></th>\n",
              "      <th></th>\n",
              "      <th></th>\n",
              "    </tr>\n",
              "  </thead>\n",
              "  <tbody>\n",
              "    <tr>\n",
              "      <th>1</th>\n",
              "      <td>-0.366379</td>\n",
              "      <td>-0.934561</td>\n",
              "      <td>-0.366379</td>\n",
              "      <td>-2.009236</td>\n",
              "      <td>-1.294951</td>\n",
              "      <td>-0.366379</td>\n",
              "      <td>-1.181194</td>\n",
              "      <td>-1.491379</td>\n",
              "      <td>-1.241379</td>\n",
              "      <td>-0.870167</td>\n",
              "      <td>...</td>\n",
              "      <td>-0.866379</td>\n",
              "      <td>-1.366379</td>\n",
              "      <td>-0.366379</td>\n",
              "      <td>-0.366379</td>\n",
              "      <td>-0.866379</td>\n",
              "      <td>-0.366379</td>\n",
              "      <td>-0.866379</td>\n",
              "      <td>-0.866379</td>\n",
              "      <td>-0.866379</td>\n",
              "      <td>-0.366379</td>\n",
              "    </tr>\n",
              "    <tr>\n",
              "      <th>2</th>\n",
              "      <td>-0.027346</td>\n",
              "      <td>-0.516458</td>\n",
              "      <td>-0.688660</td>\n",
              "      <td>-1.591133</td>\n",
              "      <td>-0.876847</td>\n",
              "      <td>-0.002197</td>\n",
              "      <td>-0.763091</td>\n",
              "      <td>-1.073276</td>\n",
              "      <td>-0.823276</td>\n",
              "      <td>-0.452064</td>\n",
              "      <td>...</td>\n",
              "      <td>-0.448276</td>\n",
              "      <td>-0.948276</td>\n",
              "      <td>0.051724</td>\n",
              "      <td>0.051724</td>\n",
              "      <td>-0.448276</td>\n",
              "      <td>0.051724</td>\n",
              "      <td>-0.448276</td>\n",
              "      <td>-0.448276</td>\n",
              "      <td>-0.448276</td>\n",
              "      <td>0.051724</td>\n",
              "    </tr>\n",
              "    <tr>\n",
              "      <th>3</th>\n",
              "      <td>1.485033</td>\n",
              "      <td>0.995921</td>\n",
              "      <td>0.823718</td>\n",
              "      <td>-0.078755</td>\n",
              "      <td>0.635531</td>\n",
              "      <td>1.510181</td>\n",
              "      <td>0.749288</td>\n",
              "      <td>0.439103</td>\n",
              "      <td>0.689103</td>\n",
              "      <td>1.060315</td>\n",
              "      <td>...</td>\n",
              "      <td>1.064103</td>\n",
              "      <td>0.564103</td>\n",
              "      <td>1.564103</td>\n",
              "      <td>1.564103</td>\n",
              "      <td>1.064103</td>\n",
              "      <td>1.564103</td>\n",
              "      <td>1.064103</td>\n",
              "      <td>1.064103</td>\n",
              "      <td>1.064103</td>\n",
              "      <td>1.564103</td>\n",
              "    </tr>\n",
              "    <tr>\n",
              "      <th>4</th>\n",
              "      <td>0.365375</td>\n",
              "      <td>-0.123737</td>\n",
              "      <td>-0.295940</td>\n",
              "      <td>-1.198413</td>\n",
              "      <td>-0.484127</td>\n",
              "      <td>0.390523</td>\n",
              "      <td>-0.370370</td>\n",
              "      <td>-0.680556</td>\n",
              "      <td>-0.430556</td>\n",
              "      <td>-0.059343</td>\n",
              "      <td>...</td>\n",
              "      <td>-0.055556</td>\n",
              "      <td>-0.555556</td>\n",
              "      <td>0.444444</td>\n",
              "      <td>0.444444</td>\n",
              "      <td>-0.055556</td>\n",
              "      <td>0.444444</td>\n",
              "      <td>-0.055556</td>\n",
              "      <td>-0.055556</td>\n",
              "      <td>-0.055556</td>\n",
              "      <td>0.444444</td>\n",
              "    </tr>\n",
              "    <tr>\n",
              "      <th>5</th>\n",
              "      <td>0.363636</td>\n",
              "      <td>-0.204545</td>\n",
              "      <td>-0.376748</td>\n",
              "      <td>-1.279221</td>\n",
              "      <td>-0.564935</td>\n",
              "      <td>0.309715</td>\n",
              "      <td>-0.451178</td>\n",
              "      <td>-0.761364</td>\n",
              "      <td>-0.511364</td>\n",
              "      <td>-0.140152</td>\n",
              "      <td>...</td>\n",
              "      <td>-0.136364</td>\n",
              "      <td>-0.636364</td>\n",
              "      <td>0.363636</td>\n",
              "      <td>0.363636</td>\n",
              "      <td>-0.136364</td>\n",
              "      <td>0.363636</td>\n",
              "      <td>-0.136364</td>\n",
              "      <td>-0.136364</td>\n",
              "      <td>-0.136364</td>\n",
              "      <td>0.363636</td>\n",
              "    </tr>\n",
              "    <tr>\n",
              "      <th>...</th>\n",
              "      <td>...</td>\n",
              "      <td>...</td>\n",
              "      <td>...</td>\n",
              "      <td>...</td>\n",
              "      <td>...</td>\n",
              "      <td>...</td>\n",
              "      <td>...</td>\n",
              "      <td>...</td>\n",
              "      <td>...</td>\n",
              "      <td>...</td>\n",
              "      <td>...</td>\n",
              "      <td>...</td>\n",
              "      <td>...</td>\n",
              "      <td>...</td>\n",
              "      <td>...</td>\n",
              "      <td>...</td>\n",
              "      <td>...</td>\n",
              "      <td>...</td>\n",
              "      <td>...</td>\n",
              "      <td>...</td>\n",
              "      <td>...</td>\n",
              "    </tr>\n",
              "    <tr>\n",
              "      <th>606</th>\n",
              "      <td>-1.157399</td>\n",
              "      <td>-0.225581</td>\n",
              "      <td>-0.397784</td>\n",
              "      <td>-1.300256</td>\n",
              "      <td>-0.585971</td>\n",
              "      <td>0.288679</td>\n",
              "      <td>-1.157399</td>\n",
              "      <td>-0.782399</td>\n",
              "      <td>-0.532399</td>\n",
              "      <td>-0.161187</td>\n",
              "      <td>...</td>\n",
              "      <td>-0.157399</td>\n",
              "      <td>-0.657399</td>\n",
              "      <td>0.342601</td>\n",
              "      <td>0.342601</td>\n",
              "      <td>-0.157399</td>\n",
              "      <td>0.342601</td>\n",
              "      <td>-0.157399</td>\n",
              "      <td>-0.157399</td>\n",
              "      <td>-0.157399</td>\n",
              "      <td>0.342601</td>\n",
              "    </tr>\n",
              "    <tr>\n",
              "      <th>607</th>\n",
              "      <td>0.213904</td>\n",
              "      <td>-0.354278</td>\n",
              "      <td>-0.526481</td>\n",
              "      <td>-1.428953</td>\n",
              "      <td>-0.714668</td>\n",
              "      <td>0.159982</td>\n",
              "      <td>-0.600911</td>\n",
              "      <td>-0.911096</td>\n",
              "      <td>-0.661096</td>\n",
              "      <td>-0.289884</td>\n",
              "      <td>...</td>\n",
              "      <td>-0.286096</td>\n",
              "      <td>-0.786096</td>\n",
              "      <td>0.213904</td>\n",
              "      <td>0.213904</td>\n",
              "      <td>-0.286096</td>\n",
              "      <td>0.213904</td>\n",
              "      <td>-0.286096</td>\n",
              "      <td>-0.286096</td>\n",
              "      <td>-0.286096</td>\n",
              "      <td>0.213904</td>\n",
              "    </tr>\n",
              "    <tr>\n",
              "      <th>608</th>\n",
              "      <td>-0.634176</td>\n",
              "      <td>-1.134176</td>\n",
              "      <td>-1.134176</td>\n",
              "      <td>-0.777033</td>\n",
              "      <td>-0.062747</td>\n",
              "      <td>0.811903</td>\n",
              "      <td>0.051009</td>\n",
              "      <td>-0.259176</td>\n",
              "      <td>-0.009176</td>\n",
              "      <td>0.865824</td>\n",
              "      <td>...</td>\n",
              "      <td>0.365824</td>\n",
              "      <td>-0.134176</td>\n",
              "      <td>0.865824</td>\n",
              "      <td>0.865824</td>\n",
              "      <td>0.365824</td>\n",
              "      <td>0.865824</td>\n",
              "      <td>0.365824</td>\n",
              "      <td>0.365824</td>\n",
              "      <td>0.365824</td>\n",
              "      <td>0.865824</td>\n",
              "    </tr>\n",
              "    <tr>\n",
              "      <th>609</th>\n",
              "      <td>-0.270270</td>\n",
              "      <td>0.161548</td>\n",
              "      <td>-0.010655</td>\n",
              "      <td>-0.913127</td>\n",
              "      <td>-0.198842</td>\n",
              "      <td>0.675808</td>\n",
              "      <td>-0.085085</td>\n",
              "      <td>-0.395270</td>\n",
              "      <td>-0.145270</td>\n",
              "      <td>0.729730</td>\n",
              "      <td>...</td>\n",
              "      <td>0.229730</td>\n",
              "      <td>-0.270270</td>\n",
              "      <td>0.729730</td>\n",
              "      <td>0.729730</td>\n",
              "      <td>0.229730</td>\n",
              "      <td>0.729730</td>\n",
              "      <td>0.229730</td>\n",
              "      <td>0.229730</td>\n",
              "      <td>0.229730</td>\n",
              "      <td>0.729730</td>\n",
              "    </tr>\n",
              "    <tr>\n",
              "      <th>610</th>\n",
              "      <td>1.311444</td>\n",
              "      <td>-0.256738</td>\n",
              "      <td>-0.428941</td>\n",
              "      <td>-1.331413</td>\n",
              "      <td>-0.617127</td>\n",
              "      <td>1.311444</td>\n",
              "      <td>-0.503371</td>\n",
              "      <td>-0.813556</td>\n",
              "      <td>-0.563556</td>\n",
              "      <td>-0.192344</td>\n",
              "      <td>...</td>\n",
              "      <td>-0.188556</td>\n",
              "      <td>-0.688556</td>\n",
              "      <td>0.311444</td>\n",
              "      <td>0.311444</td>\n",
              "      <td>-0.188556</td>\n",
              "      <td>0.311444</td>\n",
              "      <td>-0.188556</td>\n",
              "      <td>-0.188556</td>\n",
              "      <td>-0.188556</td>\n",
              "      <td>0.311444</td>\n",
              "    </tr>\n",
              "  </tbody>\n",
              "</table>\n",
              "<p>610 rows × 9724 columns</p>\n",
              "</div>"
            ],
            "text/plain": [
              "itemid    1         2         3         4         5         6         7       \\\n",
              "userid                                                                         \n",
              "1      -0.366379 -0.934561 -0.366379 -2.009236 -1.294951 -0.366379 -1.181194   \n",
              "2      -0.027346 -0.516458 -0.688660 -1.591133 -0.876847 -0.002197 -0.763091   \n",
              "3       1.485033  0.995921  0.823718 -0.078755  0.635531  1.510181  0.749288   \n",
              "4       0.365375 -0.123737 -0.295940 -1.198413 -0.484127  0.390523 -0.370370   \n",
              "5       0.363636 -0.204545 -0.376748 -1.279221 -0.564935  0.309715 -0.451178   \n",
              "...          ...       ...       ...       ...       ...       ...       ...   \n",
              "606    -1.157399 -0.225581 -0.397784 -1.300256 -0.585971  0.288679 -1.157399   \n",
              "607     0.213904 -0.354278 -0.526481 -1.428953 -0.714668  0.159982 -0.600911   \n",
              "608    -0.634176 -1.134176 -1.134176 -0.777033 -0.062747  0.811903  0.051009   \n",
              "609    -0.270270  0.161548 -0.010655 -0.913127 -0.198842  0.675808 -0.085085   \n",
              "610     1.311444 -0.256738 -0.428941 -1.331413 -0.617127  1.311444 -0.503371   \n",
              "\n",
              "itemid    8         9         10      ...    193565    193567    193571  \\\n",
              "userid                                ...                                 \n",
              "1      -1.491379 -1.241379 -0.870167  ... -0.866379 -1.366379 -0.366379   \n",
              "2      -1.073276 -0.823276 -0.452064  ... -0.448276 -0.948276  0.051724   \n",
              "3       0.439103  0.689103  1.060315  ...  1.064103  0.564103  1.564103   \n",
              "4      -0.680556 -0.430556 -0.059343  ... -0.055556 -0.555556  0.444444   \n",
              "5      -0.761364 -0.511364 -0.140152  ... -0.136364 -0.636364  0.363636   \n",
              "...          ...       ...       ...  ...       ...       ...       ...   \n",
              "606    -0.782399 -0.532399 -0.161187  ... -0.157399 -0.657399  0.342601   \n",
              "607    -0.911096 -0.661096 -0.289884  ... -0.286096 -0.786096  0.213904   \n",
              "608    -0.259176 -0.009176  0.865824  ...  0.365824 -0.134176  0.865824   \n",
              "609    -0.395270 -0.145270  0.729730  ...  0.229730 -0.270270  0.729730   \n",
              "610    -0.813556 -0.563556 -0.192344  ... -0.188556 -0.688556  0.311444   \n",
              "\n",
              "itemid    193573    193579    193581    193583    193585    193587    193609  \n",
              "userid                                                                        \n",
              "1      -0.366379 -0.866379 -0.366379 -0.866379 -0.866379 -0.866379 -0.366379  \n",
              "2       0.051724 -0.448276  0.051724 -0.448276 -0.448276 -0.448276  0.051724  \n",
              "3       1.564103  1.064103  1.564103  1.064103  1.064103  1.064103  1.564103  \n",
              "4       0.444444 -0.055556  0.444444 -0.055556 -0.055556 -0.055556  0.444444  \n",
              "5       0.363636 -0.136364  0.363636 -0.136364 -0.136364 -0.136364  0.363636  \n",
              "...          ...       ...       ...       ...       ...       ...       ...  \n",
              "606     0.342601 -0.157399  0.342601 -0.157399 -0.157399 -0.157399  0.342601  \n",
              "607     0.213904 -0.286096  0.213904 -0.286096 -0.286096 -0.286096  0.213904  \n",
              "608     0.865824  0.365824  0.865824  0.365824  0.365824  0.365824  0.865824  \n",
              "609     0.729730  0.229730  0.729730  0.229730  0.229730  0.229730  0.729730  \n",
              "610     0.311444 -0.188556  0.311444 -0.188556 -0.188556 -0.188556  0.311444  \n",
              "\n",
              "[610 rows x 9724 columns]"
            ]
          },
          "execution_count": 7,
          "metadata": {
            "tags": []
          },
          "output_type": "execute_result"
        }
      ],
      "source": [
        "df"
      ]
    },
    {
      "cell_type": "markdown",
      "metadata": {
        "id": "kPmz2tNYgCZb"
      },
      "source": [
        "### Ids encoding\n",
        "\n",
        "Let's encode users and items ids such that their values range from 0 to 909 (for users) and from 0 to 9723 (for items)"
      ]
    },
    {
      "cell_type": "code",
      "execution_count": null,
      "metadata": {
        "id": "yAc4X1KagCZc"
      },
      "outputs": [
        {
          "data": {
            "text/plain": [
              "LabelEncoder()"
            ]
          },
          "execution_count": 8,
          "metadata": {
            "tags": []
          },
          "output_type": "execute_result"
        }
      ],
      "source": [
        "users = sorted(ratings['userid'].unique())\n",
        "items = sorted(ratings['itemid'].unique())\n",
        "\n",
        "# create our id encoders\n",
        "uencoder = LabelEncoder()\n",
        "iencoder = LabelEncoder()\n",
        "\n",
        "# fit our label encoder\n",
        "uencoder.fit(users)\n",
        "iencoder.fit(items)"
      ]
    },
    {
      "cell_type": "markdown",
      "metadata": {
        "id": "A0kZ0aaKgCZd"
      },
      "source": [
        "### SVD Algorithm\n",
        "\n",
        "Now that our rating data has been normalize and that missing values has been filled, we can apply the SVD algorithm. Several libraries may be useful such as ```numpy```, ```scipy```, ```sklearn```, ... Let's try it with ```numpy```.\n",
        "\n",
        "In our SVD class we provide the following function :\n",
        "\n",
        "1. ```fit()``` : compute the svd of the rating matrix and save the resultant matrices P, S and Qh (Q transpose) as attributs of the SVD class.\n",
        "2. ```predict()```: use matrices P, S and Qh to make ratin prediction for a given $u$ user on an item $i$. Computations are made over encoded values of userid and itemid. The predicted value is the dot product between $u^{th}$ row of $P.\\sqrt{S}$ and the $i^{th}$ column of $\\sqrt{S}.Qh$. **Note** that since we normalized rating before applying SVD, the predicted value will also be normalize. So, to get the final predicted rating, we have to add to the predicted value the mean rating of user $u$.\n",
        "3. ```recommend()```: use matrices P, S and Qh to make recommendations to a given user. The recommended items are those that where not rated by the user and received a high score according to the svd model."
      ]
    },
    {
      "cell_type": "code",
      "execution_count": null,
      "metadata": {
        "id": "DC7RZg68gCZe"
      },
      "outputs": [],
      "source": [
        "class SVD:\n",
        "    \n",
        "    def __init__(self, umeam):\n",
        "        \"\"\"\n",
        "        :param\n",
        "            - umean : mean ratings of users\n",
        "        \"\"\"\n",
        "        self.umean = umean.to_numpy()\n",
        "        \n",
        "        # init svd resultant matrices\n",
        "        self.P = np.array([])\n",
        "        self.S = np.array([])\n",
        "        self.Qh = np.array([])\n",
        "        \n",
        "        # init users and items latent factors\n",
        "        self.u_factors = np.array([])\n",
        "        self.i_factors = np.array([])\n",
        "    \n",
        "    def fit(self, R):\n",
        "        \"\"\"\n",
        "        Fit the SVD model with rating matrix R\n",
        "        \"\"\"\n",
        "        P, s, Qh = np.linalg.svd(R, full_matrices=False)\n",
        "        \n",
        "        self.P = P\n",
        "        self.S = np.diag(s)\n",
        "        self.Qh = Qh\n",
        "        \n",
        "        # latent factors of users (u_factors) and items (i_factors)\n",
        "        self.u_factors = np.dot(self.P, np.sqrt(self.S))\n",
        "        self.i_factors = np.dot(np.sqrt(self.S), self.Qh)\n",
        "    \n",
        "    def predict(self, userid, itemid):\n",
        "        \"\"\"\n",
        "        Make rating prediction for a given user on an item\n",
        "        \n",
        "        :param\n",
        "            - userid : user's id\n",
        "            - itemid : item's id\n",
        "            \n",
        "        :return\n",
        "            - r_hat : predicted rating\n",
        "        \"\"\"\n",
        "        # encode user and item ids\n",
        "        u = uencoder.transform([userid])[0]\n",
        "        i = iencoder.transform([itemid])[0]\n",
        "        \n",
        "        # the predicted rating is the dot product between the uth row \n",
        "        # of u_factors and the ith column of i_factors\n",
        "        r_hat = np.dot(self.u_factors[u,:], self.i_factors[:,i])\n",
        "        \n",
        "        # add the mean rating of user u to the predicted value\n",
        "        r_hat += self.umean[u]\n",
        "        \n",
        "        return r_hat\n",
        "        \n",
        "    \n",
        "    def recommend(self, userid):\n",
        "        \"\"\"\n",
        "        :param\n",
        "            - userid : user's id\n",
        "        \"\"\"\n",
        "        # encode user\n",
        "        u = uencoder.transform([userid])[0]\n",
        "        \n",
        "        # the dot product between the uth row of u_factors and i_factors returns\n",
        "        # the predicted value for user u on all items        \n",
        "        predictions = np.dot(self.u_factors[u,:], self.i_factors) + self.umean[u]\n",
        "        \n",
        "        # sort item ids in decreasing order of predictions\n",
        "        top_idx = np.flip(np.argsort(predictions))\n",
        "\n",
        "        # decode indices to get their corresponding itemids\n",
        "        top_items = iencoder.inverse_transform(top_idx)\n",
        "        \n",
        "        # sorted predictions\n",
        "        preds = predictions[top_idx]\n",
        "        \n",
        "        return top_items, preds\n",
        "        "
      ]
    },
    {
      "cell_type": "markdown",
      "metadata": {
        "id": "Mnkcp4gVgCZ0"
      },
      "source": [
        "Now let's create our SVD model and provide to it user's mean rating; Fit the model with the normalized rating matrix $R$."
      ]
    },
    {
      "cell_type": "code",
      "execution_count": null,
      "metadata": {
        "id": "lYNbcVwmgCZ1"
      },
      "outputs": [],
      "source": [
        "# create our svd model\n",
        "svd = SVD(umean)\n",
        "\n",
        "# fit our model with normalized ratings\n",
        "svd.fit(R)"
      ]
    },
    {
      "cell_type": "markdown",
      "metadata": {
        "id": "ijBSzpShgCZ1"
      },
      "source": [
        "### Rating prediction\n",
        "\n",
        "Our model has been fitted.\n",
        "OK ...\n",
        "\n",
        "Let's make some predictions for users using function ```predict``` of our SVD class. Here are some truth ratings"
      ]
    },
    {
      "cell_type": "code",
      "execution_count": null,
      "metadata": {
        "id": "Kfl5gH3OgCZ2"
      },
      "outputs": [
        {
          "data": {
            "text/html": [
              "<div>\n",
              "<style scoped>\n",
              "    .dataframe tbody tr th:only-of-type {\n",
              "        vertical-align: middle;\n",
              "    }\n",
              "\n",
              "    .dataframe tbody tr th {\n",
              "        vertical-align: top;\n",
              "    }\n",
              "\n",
              "    .dataframe thead th {\n",
              "        text-align: right;\n",
              "    }\n",
              "</style>\n",
              "<table border=\"1\" class=\"dataframe\">\n",
              "  <thead>\n",
              "    <tr style=\"text-align: right;\">\n",
              "      <th></th>\n",
              "      <th>userid</th>\n",
              "      <th>itemid</th>\n",
              "      <th>rating</th>\n",
              "      <th>timestamp</th>\n",
              "    </tr>\n",
              "  </thead>\n",
              "  <tbody>\n",
              "    <tr>\n",
              "      <th>0</th>\n",
              "      <td>1</td>\n",
              "      <td>1</td>\n",
              "      <td>4.0</td>\n",
              "      <td>964982703</td>\n",
              "    </tr>\n",
              "    <tr>\n",
              "      <th>1</th>\n",
              "      <td>1</td>\n",
              "      <td>3</td>\n",
              "      <td>4.0</td>\n",
              "      <td>964981247</td>\n",
              "    </tr>\n",
              "    <tr>\n",
              "      <th>2</th>\n",
              "      <td>1</td>\n",
              "      <td>6</td>\n",
              "      <td>4.0</td>\n",
              "      <td>964982224</td>\n",
              "    </tr>\n",
              "    <tr>\n",
              "      <th>3</th>\n",
              "      <td>1</td>\n",
              "      <td>47</td>\n",
              "      <td>5.0</td>\n",
              "      <td>964983815</td>\n",
              "    </tr>\n",
              "    <tr>\n",
              "      <th>4</th>\n",
              "      <td>1</td>\n",
              "      <td>50</td>\n",
              "      <td>5.0</td>\n",
              "      <td>964982931</td>\n",
              "    </tr>\n",
              "    <tr>\n",
              "      <th>5</th>\n",
              "      <td>1</td>\n",
              "      <td>70</td>\n",
              "      <td>3.0</td>\n",
              "      <td>964982400</td>\n",
              "    </tr>\n",
              "    <tr>\n",
              "      <th>6</th>\n",
              "      <td>1</td>\n",
              "      <td>101</td>\n",
              "      <td>5.0</td>\n",
              "      <td>964980868</td>\n",
              "    </tr>\n",
              "    <tr>\n",
              "      <th>7</th>\n",
              "      <td>1</td>\n",
              "      <td>110</td>\n",
              "      <td>4.0</td>\n",
              "      <td>964982176</td>\n",
              "    </tr>\n",
              "    <tr>\n",
              "      <th>8</th>\n",
              "      <td>1</td>\n",
              "      <td>151</td>\n",
              "      <td>5.0</td>\n",
              "      <td>964984041</td>\n",
              "    </tr>\n",
              "    <tr>\n",
              "      <th>9</th>\n",
              "      <td>1</td>\n",
              "      <td>157</td>\n",
              "      <td>5.0</td>\n",
              "      <td>964984100</td>\n",
              "    </tr>\n",
              "  </tbody>\n",
              "</table>\n",
              "</div>"
            ],
            "text/plain": [
              "   userid  itemid  rating  timestamp\n",
              "0       1       1     4.0  964982703\n",
              "1       1       3     4.0  964981247\n",
              "2       1       6     4.0  964982224\n",
              "3       1      47     5.0  964983815\n",
              "4       1      50     5.0  964982931\n",
              "5       1      70     3.0  964982400\n",
              "6       1     101     5.0  964980868\n",
              "7       1     110     4.0  964982176\n",
              "8       1     151     5.0  964984041\n",
              "9       1     157     5.0  964984100"
            ]
          },
          "execution_count": 11,
          "metadata": {
            "tags": []
          },
          "output_type": "execute_result"
        }
      ],
      "source": [
        "ratings.head(10)"
      ]
    },
    {
      "cell_type": "markdown",
      "metadata": {
        "id": "787PIbVZgCZ3"
      },
      "source": [
        "Let's apply our model to make see if our predictions make sens. We will make predictions for user 1 on the 10 items listed above."
      ]
    },
    {
      "cell_type": "code",
      "execution_count": null,
      "metadata": {
        "id": "fTAx7bWDgCZ4"
      },
      "outputs": [
        {
          "name": "stdout",
          "output_type": "stream",
          "text": [
            "prediction for userid=1 and itemid=1 : 4.000000000000007\n",
            "prediction for userid=1 and itemid=3 : 4.0000000000000036\n",
            "prediction for userid=1 and itemid=6 : 3.9999999999999885\n",
            "prediction for userid=1 and itemid=47 : 5.000000000000003\n",
            "prediction for userid=1 and itemid=50 : 4.9999999999999964\n",
            "prediction for userid=1 and itemid=70 : 2.9999999999999893\n",
            "prediction for userid=1 and itemid=101 : 5.000000000000002\n",
            "prediction for userid=1 and itemid=110 : 3.999999999999993\n",
            "prediction for userid=1 and itemid=151 : 5.000000000000007\n",
            "prediction for userid=1 and itemid=157 : 5.000000000000019\n"
          ]
        }
      ],
      "source": [
        "# user for which we make predictions\n",
        "userid = 1\n",
        "\n",
        "# list of items for which we are making predictions for user 1\n",
        "items = [1,3,6,47,50,70,101,110,151,157]\n",
        "\n",
        "# predictions\n",
        "for itemid in items:\n",
        "    r = svd.predict(userid=userid, itemid=itemid)\n",
        "    print('prediction for userid={} and itemid={} : {}'.format(userid, itemid, r))"
      ]
    },
    {
      "cell_type": "markdown",
      "metadata": {
        "id": "TQbOKEdXgCZ5"
      },
      "source": [
        "Our prediction error is less than 0.00001"
      ]
    },
    {
      "cell_type": "markdown",
      "metadata": {
        "id": "d1yJFJ_HgCZ6"
      },
      "source": [
        "### Make recommendations\n",
        "\n",
        "The ```recommend``` function makes recommendations for a given user."
      ]
    },
    {
      "cell_type": "code",
      "execution_count": null,
      "metadata": {
        "id": "bA62wSwYgCZ7"
      },
      "outputs": [
        {
          "data": {
            "text/html": [
              "<div>\n",
              "<style scoped>\n",
              "    .dataframe tbody tr th:only-of-type {\n",
              "        vertical-align: middle;\n",
              "    }\n",
              "\n",
              "    .dataframe tbody tr th {\n",
              "        vertical-align: top;\n",
              "    }\n",
              "\n",
              "    .dataframe thead th {\n",
              "        text-align: right;\n",
              "    }\n",
              "</style>\n",
              "<table border=\"1\" class=\"dataframe\">\n",
              "  <thead>\n",
              "    <tr style=\"text-align: right;\">\n",
              "      <th></th>\n",
              "      <th>itemid</th>\n",
              "      <th>predictions</th>\n",
              "      <th>title</th>\n",
              "      <th>genres</th>\n",
              "    </tr>\n",
              "  </thead>\n",
              "  <tbody>\n",
              "    <tr>\n",
              "      <th>0</th>\n",
              "      <td>140627</td>\n",
              "      <td>5.0</td>\n",
              "      <td>Battle For Sevastopol (2015)</td>\n",
              "      <td>Drama|Romance|War</td>\n",
              "    </tr>\n",
              "    <tr>\n",
              "      <th>1</th>\n",
              "      <td>27373</td>\n",
              "      <td>5.0</td>\n",
              "      <td>61* (2001)</td>\n",
              "      <td>Drama</td>\n",
              "    </tr>\n",
              "    <tr>\n",
              "      <th>2</th>\n",
              "      <td>115727</td>\n",
              "      <td>5.0</td>\n",
              "      <td>Crippled Avengers (Can que) (Return of the 5 D...</td>\n",
              "      <td>Action|Adventure</td>\n",
              "    </tr>\n",
              "    <tr>\n",
              "      <th>3</th>\n",
              "      <td>151769</td>\n",
              "      <td>5.0</td>\n",
              "      <td>Three from Prostokvashino (1978)</td>\n",
              "      <td>Animation</td>\n",
              "    </tr>\n",
              "    <tr>\n",
              "      <th>4</th>\n",
              "      <td>4402</td>\n",
              "      <td>5.0</td>\n",
              "      <td>Dr. Goldfoot and the Bikini Machine (1965)</td>\n",
              "      <td>Comedy</td>\n",
              "    </tr>\n",
              "    <tr>\n",
              "      <th>5</th>\n",
              "      <td>166183</td>\n",
              "      <td>5.0</td>\n",
              "      <td>Junior and Karlson (1968)</td>\n",
              "      <td>Adventure|Animation|Children</td>\n",
              "    </tr>\n",
              "    <tr>\n",
              "      <th>6</th>\n",
              "      <td>165959</td>\n",
              "      <td>5.0</td>\n",
              "      <td>Alesha Popovich and Tugarin the Dragon (2004)</td>\n",
              "      <td>Animation|Comedy|Drama</td>\n",
              "    </tr>\n",
              "    <tr>\n",
              "      <th>7</th>\n",
              "      <td>147328</td>\n",
              "      <td>5.0</td>\n",
              "      <td>The Adventures of Sherlock Holmes and Dr. Wats...</td>\n",
              "      <td>Crime</td>\n",
              "    </tr>\n",
              "    <tr>\n",
              "      <th>8</th>\n",
              "      <td>128087</td>\n",
              "      <td>5.0</td>\n",
              "      <td>Trinity and Sartana Are Coming (1972)</td>\n",
              "      <td>Comedy|Western</td>\n",
              "    </tr>\n",
              "    <tr>\n",
              "      <th>9</th>\n",
              "      <td>69860</td>\n",
              "      <td>5.0</td>\n",
              "      <td>Eichmann (2007)</td>\n",
              "      <td>Drama|War</td>\n",
              "    </tr>\n",
              "    <tr>\n",
              "      <th>10</th>\n",
              "      <td>131610</td>\n",
              "      <td>5.0</td>\n",
              "      <td>Willy/Milly (1986)</td>\n",
              "      <td>Comedy|Fantasy</td>\n",
              "    </tr>\n",
              "    <tr>\n",
              "      <th>11</th>\n",
              "      <td>69211</td>\n",
              "      <td>5.0</td>\n",
              "      <td>Boy Eats Girl (2005)</td>\n",
              "      <td>Comedy|Horror</td>\n",
              "    </tr>\n",
              "    <tr>\n",
              "      <th>12</th>\n",
              "      <td>3531</td>\n",
              "      <td>5.0</td>\n",
              "      <td>All the Vermeers in New York (1990)</td>\n",
              "      <td>Comedy|Drama|Romance</td>\n",
              "    </tr>\n",
              "    <tr>\n",
              "      <th>13</th>\n",
              "      <td>113829</td>\n",
              "      <td>5.0</td>\n",
              "      <td>One I Love, The (2014)</td>\n",
              "      <td>Comedy|Drama|Romance</td>\n",
              "    </tr>\n",
              "    <tr>\n",
              "      <th>14</th>\n",
              "      <td>69469</td>\n",
              "      <td>5.0</td>\n",
              "      <td>Garfield's Pet Force (2009)</td>\n",
              "      <td>Animation</td>\n",
              "    </tr>\n",
              "    <tr>\n",
              "      <th>15</th>\n",
              "      <td>26928</td>\n",
              "      <td>5.0</td>\n",
              "      <td>Summer's Tale, A (Conte d'Ã©tÃ©) (1996)</td>\n",
              "      <td>Comedy|Drama|Romance</td>\n",
              "    </tr>\n",
              "    <tr>\n",
              "      <th>16</th>\n",
              "      <td>131724</td>\n",
              "      <td>5.0</td>\n",
              "      <td>The Jinx: The Life and Deaths of Robert Durst ...</td>\n",
              "      <td>Documentary</td>\n",
              "    </tr>\n",
              "    <tr>\n",
              "      <th>17</th>\n",
              "      <td>26849</td>\n",
              "      <td>5.0</td>\n",
              "      <td>Stand, The (1994)</td>\n",
              "      <td>Adventure|Drama|Fantasy|Horror|Sci-Fi</td>\n",
              "    </tr>\n",
              "    <tr>\n",
              "      <th>18</th>\n",
              "      <td>114265</td>\n",
              "      <td>5.0</td>\n",
              "      <td>Laggies (2014)</td>\n",
              "      <td>Comedy|Romance</td>\n",
              "    </tr>\n",
              "    <tr>\n",
              "      <th>19</th>\n",
              "      <td>3096</td>\n",
              "      <td>5.0</td>\n",
              "      <td>My Man Godfrey (1957)</td>\n",
              "      <td>Comedy</td>\n",
              "    </tr>\n",
              "    <tr>\n",
              "      <th>20</th>\n",
              "      <td>70451</td>\n",
              "      <td>5.0</td>\n",
              "      <td>Max Manus (2008)</td>\n",
              "      <td>Action|Drama|War</td>\n",
              "    </tr>\n",
              "    <tr>\n",
              "      <th>21</th>\n",
              "      <td>26840</td>\n",
              "      <td>5.0</td>\n",
              "      <td>Sonatine (Sonachine) (1993)</td>\n",
              "      <td>Action|Comedy|Crime|Drama</td>\n",
              "    </tr>\n",
              "    <tr>\n",
              "      <th>22</th>\n",
              "      <td>4788</td>\n",
              "      <td>5.0</td>\n",
              "      <td>Moscow Does Not Believe in Tears (Moskva sleza...</td>\n",
              "      <td>Drama|Romance</td>\n",
              "    </tr>\n",
              "    <tr>\n",
              "      <th>23</th>\n",
              "      <td>71268</td>\n",
              "      <td>5.0</td>\n",
              "      <td>Tyler Perry's I Can Do Bad All by Myself (2009)</td>\n",
              "      <td>Comedy|Drama</td>\n",
              "    </tr>\n",
              "    <tr>\n",
              "      <th>24</th>\n",
              "      <td>7122</td>\n",
              "      <td>5.0</td>\n",
              "      <td>King of Hearts (1966)</td>\n",
              "      <td>Comedy|Drama|War</td>\n",
              "    </tr>\n",
              "    <tr>\n",
              "      <th>25</th>\n",
              "      <td>4813</td>\n",
              "      <td>5.0</td>\n",
              "      <td>When Worlds Collide (1951)</td>\n",
              "      <td>Sci-Fi</td>\n",
              "    </tr>\n",
              "    <tr>\n",
              "      <th>26</th>\n",
              "      <td>67618</td>\n",
              "      <td>5.0</td>\n",
              "      <td>Strictly Sexual (2008)</td>\n",
              "      <td>Comedy|Drama|Romance</td>\n",
              "    </tr>\n",
              "    <tr>\n",
              "      <th>27</th>\n",
              "      <td>3567</td>\n",
              "      <td>5.0</td>\n",
              "      <td>Bossa Nova (2000)</td>\n",
              "      <td>Comedy|Drama|Romance</td>\n",
              "    </tr>\n",
              "    <tr>\n",
              "      <th>28</th>\n",
              "      <td>131098</td>\n",
              "      <td>5.0</td>\n",
              "      <td>Saving Santa (2013)</td>\n",
              "      <td>Animation|Children|Comedy</td>\n",
              "    </tr>\n",
              "    <tr>\n",
              "      <th>29</th>\n",
              "      <td>131130</td>\n",
              "      <td>5.0</td>\n",
              "      <td>Tom and Jerry: A Nutcracker Tale (2007)</td>\n",
              "      <td>Animation|Comedy</td>\n",
              "    </tr>\n",
              "  </tbody>\n",
              "</table>\n",
              "</div>"
            ],
            "text/plain": [
              "    itemid  predictions                                              title  \\\n",
              "0   140627          5.0                       Battle For Sevastopol (2015)   \n",
              "1    27373          5.0                                         61* (2001)   \n",
              "2   115727          5.0  Crippled Avengers (Can que) (Return of the 5 D...   \n",
              "3   151769          5.0                   Three from Prostokvashino (1978)   \n",
              "4     4402          5.0         Dr. Goldfoot and the Bikini Machine (1965)   \n",
              "5   166183          5.0                          Junior and Karlson (1968)   \n",
              "6   165959          5.0      Alesha Popovich and Tugarin the Dragon (2004)   \n",
              "7   147328          5.0  The Adventures of Sherlock Holmes and Dr. Wats...   \n",
              "8   128087          5.0              Trinity and Sartana Are Coming (1972)   \n",
              "9    69860          5.0                                    Eichmann (2007)   \n",
              "10  131610          5.0                                 Willy/Milly (1986)   \n",
              "11   69211          5.0                               Boy Eats Girl (2005)   \n",
              "12    3531          5.0                All the Vermeers in New York (1990)   \n",
              "13  113829          5.0                             One I Love, The (2014)   \n",
              "14   69469          5.0                        Garfield's Pet Force (2009)   \n",
              "15   26928          5.0            Summer's Tale, A (Conte d'Ã©tÃ©) (1996)   \n",
              "16  131724          5.0  The Jinx: The Life and Deaths of Robert Durst ...   \n",
              "17   26849          5.0                                  Stand, The (1994)   \n",
              "18  114265          5.0                                     Laggies (2014)   \n",
              "19    3096          5.0                              My Man Godfrey (1957)   \n",
              "20   70451          5.0                                   Max Manus (2008)   \n",
              "21   26840          5.0                        Sonatine (Sonachine) (1993)   \n",
              "22    4788          5.0  Moscow Does Not Believe in Tears (Moskva sleza...   \n",
              "23   71268          5.0    Tyler Perry's I Can Do Bad All by Myself (2009)   \n",
              "24    7122          5.0                              King of Hearts (1966)   \n",
              "25    4813          5.0                         When Worlds Collide (1951)   \n",
              "26   67618          5.0                             Strictly Sexual (2008)   \n",
              "27    3567          5.0                                  Bossa Nova (2000)   \n",
              "28  131098          5.0                                Saving Santa (2013)   \n",
              "29  131130          5.0            Tom and Jerry: A Nutcracker Tale (2007)   \n",
              "\n",
              "                                   genres  \n",
              "0                       Drama|Romance|War  \n",
              "1                                   Drama  \n",
              "2                        Action|Adventure  \n",
              "3                               Animation  \n",
              "4                                  Comedy  \n",
              "5            Adventure|Animation|Children  \n",
              "6                  Animation|Comedy|Drama  \n",
              "7                                   Crime  \n",
              "8                          Comedy|Western  \n",
              "9                               Drama|War  \n",
              "10                         Comedy|Fantasy  \n",
              "11                          Comedy|Horror  \n",
              "12                   Comedy|Drama|Romance  \n",
              "13                   Comedy|Drama|Romance  \n",
              "14                              Animation  \n",
              "15                   Comedy|Drama|Romance  \n",
              "16                            Documentary  \n",
              "17  Adventure|Drama|Fantasy|Horror|Sci-Fi  \n",
              "18                         Comedy|Romance  \n",
              "19                                 Comedy  \n",
              "20                       Action|Drama|War  \n",
              "21              Action|Comedy|Crime|Drama  \n",
              "22                          Drama|Romance  \n",
              "23                           Comedy|Drama  \n",
              "24                       Comedy|Drama|War  \n",
              "25                                 Sci-Fi  \n",
              "26                   Comedy|Drama|Romance  \n",
              "27                   Comedy|Drama|Romance  \n",
              "28              Animation|Children|Comedy  \n",
              "29                       Animation|Comedy  "
            ]
          },
          "execution_count": 13,
          "metadata": {
            "tags": []
          },
          "output_type": "execute_result"
        }
      ],
      "source": [
        "userid = 1\n",
        "\n",
        "# items sorted in decreasing order of predictions for user 1\n",
        "sorted_items, preds = svd.recommend(userid=userid)\n",
        "\n",
        "##\n",
        "# Now let's exclud from that sorted list items already purchased by the user\n",
        "##\n",
        "\n",
        "# list of items rated by the user\n",
        "uitems = ratings.loc[ratings.userid == userid].itemid.to_list()\n",
        "\n",
        "# remove from sorted_items items already in uitems and pick the top 30 ones\n",
        "# as recommendation list\n",
        "top30 = np.setdiff1d(sorted_items, uitems, assume_unique=True)[:30]\n",
        "\n",
        "# get corresponding predictions from the top30 items\n",
        "top30_idx = list(np.where(sorted_items == idx)[0][0] for idx in top30)\n",
        "top30_predictions = preds[top30_idx]\n",
        "\n",
        "# find corresponding movie titles\n",
        "zipped_top30 = list(zip(top30,top30_predictions))\n",
        "top30 = pd.DataFrame(zipped_top30, columns=['itemid','predictions'])\n",
        "List = pd.merge(top30, movies, on='itemid', how='inner')\n",
        "\n",
        "# show the list\n",
        "List"
      ]
    },
    {
      "cell_type": "markdown",
      "metadata": {
        "id": "0kuwE1z4gCZ9"
      },
      "source": [
        "The first 30 items have an equivalent rating prediction for the user 1"
      ]
    },
    {
      "cell_type": "markdown",
      "metadata": {
        "id": "wL9cSS8DgCZ_"
      },
      "source": [
        "### Improving memory based collaborative filtering\n",
        "\n",
        "SVD can be applied to improve user and item-based collaborative filtering. Instead of computing similarities between user's or item's ratings, we can represent users and items by their corresponding latent factors extracted from the SVD algorithm."
      ]
    },
    {
      "cell_type": "markdown",
      "metadata": {
        "id": "9QFusH-6gCaA"
      },
      "source": [
        "### Matrix Factorization\n",
        "\n",
        "The **Matrix Factorization** algorithm is a variant of SVD. Also known as Regularized SVD, it uses the *Gradient Descent* optimizer to optimize the cost function while training the model."
      ]
    },
    {
      "cell_type": "markdown",
      "metadata": {
        "id": "5MzSv49iMF1_"
      },
      "source": [
        "## Part 5 - Matrix factorization method\n",
        "> Collaborative Filtering on MovieLens Latest-small Part 5 - Finding recommendations using model based  matrix factorization method."
      ]
    },
    {
      "cell_type": "markdown",
      "metadata": {
        "id": "mGoHyoipMF2B"
      },
      "source": [
        "<b>User-based</b> and <b>Item-based</b> collaborative Filtering recommender systems suffer from <i>data sparsity</i> and <i>scalability</i> for online recommendations. <b>Matrix Factorization</b> helps to address these drawbacks of memory-based collaborative filtering by reducing the dimension of the rating matrix $R$."
      ]
    },
    {
      "cell_type": "markdown",
      "metadata": {
        "id": "kSvTMCyVMF2C"
      },
      "source": [
        "The movielen lasted small dataset has 100k ratings of $m=610$ users on $n=9724$ items. The rating matrix in then a $m\\times n$ matrix (i.e $R\\in \\mathbb{R}^{m\\times n}$). The fact that users usually interact with less than $1\\%$ of items leads the rating matrix $R$ to be highly sparse. For example, the degree of sparsity of the movielen lasted small dataset is \n",
        "\n",
        "\\begin{equation}\n",
        "sparsity = 100 - \\frac{\\text{total # ratings}}{m \\times n} = 100 - \\frac{100000}{610\\times 9724} = 98,3\\%\n",
        "\\end{equation}\n",
        "\n",
        "This means that in this dataset, a user has interacted with less than $2\\%$ of items. To reduce the dimension of the rating matrix $R$, Matrix Factorization (MF) mappes both users and items to a joint latent factor space of dimensionality $k$ such that user-item interactions are modeled as inner products in that space <a href='https://ieeexplore.ieee.org/document/5197422'>(Yehuda Koren et al., 2009)</a>. MF then decomposes $R$ in two matrices as follows :\n",
        "\n",
        "\\begin{equation}\n",
        "R = Q^\\top P\n",
        "\\end{equation}\n",
        "\n",
        "Where $P \\in \\mathbb{R}^{m\\times k}$ represents latent factors of users and $Q \\in \\mathbb{R}^{n\\times k}$ is the latent factors of items. Each line of $P$, say $p_u \\in \\mathbb{R}^k$ denotes the taste of user $u$ and each $q_i \\in \\mathbb{R}^k$ the features of item $i$. The dot product between $p_u$ and $q_i$ will be the rating prediction of user $u$ on item $i$ :\n",
        "\n",
        "\\begin{equation}\n",
        "\\hat{r}_{u,i} = q_{i}^{\\top} p_u.\n",
        "\\end{equation}\n",
        "\n",
        "Figure 1 presents an example of decomposition of $R$ into two matrices $P$ and $Q$.\n",
        "\n",
        "![MF](https://raw.githubusercontent.com/nzhinusoftcm/review-on-collaborative-filtering/master/recsys/img/MF.png)\n",
        "\n",
        "\n",
        "To learn the latent factors $p_u$ and $q_i$, the system minimizes the regularized squared error on the set of known ratings. The cost function $J$ is defined as follows : \n",
        "\n",
        "\\begin{equation}\n",
        "J = \\frac{1}{2}\\sum_{(u,i)\\in \\kappa} (r_{ui} - q_{i}^{\\top} p_u)^2 + \\lambda(||p_u||^2 + ||q_i||^2)\n",
        "\\end{equation}\n",
        "\n",
        "where $\\kappa$ is the set of $(u,i)$ pairs for which $r_{u,i}$ is known (the training set), and $\\lambda$ is the regularizer parameter."
      ]
    },
    {
      "cell_type": "markdown",
      "metadata": {
        "id": "azVL_VTEMF2C"
      },
      "source": [
        "### Learning Algorithms\n",
        "\n",
        "As described in <a href='https://ieeexplore.ieee.org/document/5197422'>(Yehuda Koren et al., 2009)</a>, to minimize the cost function $J$, the matrix factorization algorithm predicts $\\hat{r}_{u,i}$ for each given training case (existing $r_{u,i}$), and computes the associated error defined by the Mean Absolute Error (MAE) as :\n",
        "\n",
        "\\begin{equation}\n",
        "e_{u,i} = |r_{ui} - q_{i}^{\\top} p_u|.\n",
        "\\end{equation}\n",
        "\n",
        "<b>Note</b> : The overall error $E$ is defined as :\n",
        "\n",
        "\\begin{equation}\n",
        "E = \\frac{1}{M}\\sum_{(u,i)\\in\\kappa} e_{u,i}\n",
        "\\end{equation}\n",
        "\n",
        "Where $M$ is the number of example. The update rules for parameters $p_u$ and $q_i$ are defined as follows :\n",
        "\n",
        "\\begin{equation}\n",
        "q_i \\leftarrow q_i - \\alpha\\frac{\\partial}{\\partial q_i}J_{u,i}, \n",
        "\\end{equation}\n",
        "\n",
        "\\begin{equation}\n",
        "p_u \\leftarrow p_u - \\alpha\\frac{\\partial}{\\partial p_u}J_{u,i}\n",
        "\\end{equation}\n",
        "\n",
        "where $\\alpha$ is the learning rate and $\\frac{\\partial}{\\partial p_u}J_{u,i}$ is the partial derivative of the cost function $J$ according to $p_u$. It computes the extent to which $p_u$ contributes to the total error.\n",
        "\n",
        "#### How to compute $\\frac{\\partial}{\\partial q_i}J_{u,i}$ ?\n",
        "\n",
        "\\begin{align}\n",
        "\\frac{\\partial}{\\partial q_i}J_{u,i} & = & \\frac{1}{2}\\frac{\\partial}{\\partial q_i} \\begin{bmatrix}(r_{ui} - q_{i}^{\\top} p_u)^2 + \\lambda(||p_u||^2 + ||q_i||^2)\\end{bmatrix} \\\\\n",
        "& = & -(r_{u,i}-q_{i}^{\\top} p_u)\\cdot p_u + \\lambda \\cdot q_i  \\\\\n",
        "& = & -e_{u,i}\\cdot p_u+\\lambda \\cdot q_i\n",
        "\\end{align}\n",
        "\n",
        "The update rules are then given by : \n",
        "\n",
        "\\begin{equation}\n",
        "q_i \\leftarrow q_i + \\alpha\\cdot (e_{u,i}\\cdot p_u-\\lambda \\cdot q_i), \n",
        "\\end{equation}\n",
        "\n",
        "\\begin{equation}\n",
        "p_u \\leftarrow p_u + \\alpha\\cdot (e_{u,i}\\cdot q_i-\\lambda \\cdot p_u)\n",
        "\\end{equation}"
      ]
    },
    {
      "cell_type": "markdown",
      "metadata": {
        "id": "04D2zA48MF2D"
      },
      "source": [
        "### Matrix Factorization : algorithm\n",
        "<ol>\n",
        "    <li>Initialize $P$ and $Q$ with random values\n",
        "    <li>For each training example $(u,i)\\in\\kappa$ with the corresponding rating $r_{u,i}$ :\n",
        "        <ul>\n",
        "            <li>compute $\\hat{r}_{u,i}$ as $\\hat{r}_{u,i} = q_{i}^{\\top} p_u$\n",
        "            <li>compute the error : $e_{u,i} = |r_{ui} - \\hat{r}_{u,i}|$\n",
        "            <li>update $p_u$ and $q_i$:\n",
        "                <ul>\n",
        "                    <li>$p_u \\leftarrow p_u + \\alpha\\cdot (e_{u,i}\\cdot q_i-\\lambda \\cdot p_u)$\n",
        "                    <li>$q_i \\leftarrow q_i + \\alpha\\cdot (e_{u,i}\\cdot p_u-\\lambda \\cdot q_i)$\n",
        "                </ul>\n",
        "        </ul>\n",
        "    <li> Repeat step 2 until the optimal parameters are reached.\n",
        "</ol>\n"
      ]
    },
    {
      "cell_type": "markdown",
      "metadata": {
        "id": "qAr3PdnAgCzT"
      },
      "source": [
        "#### Download useful files"
      ]
    },
    {
      "cell_type": "code",
      "execution_count": null,
      "metadata": {
        "id": "HQEezEwQgCzb"
      },
      "outputs": [],
      "source": [
        "import os\n",
        "if not (os.path.exists(\"recsys.zip\") or os.path.exists(\"recsys\")):\n",
        "    !wget https://github.com/nzhinusoftcm/review-on-collaborative-filtering/raw/master/recsys.zip    \n",
        "    !unzip recsys.zip"
      ]
    },
    {
      "cell_type": "markdown",
      "metadata": {
        "id": "KzGsFLCJgCzo"
      },
      "source": [
        "#### Import requirements\n",
        "```\n",
        "matplotlib==3.2.2\n",
        "numpy==1.19.2\n",
        "pandas==1.0.5\n",
        "python==3.7\n",
        "scikit-learn==0.24.1\n",
        "scikit-surprise==1.1.1\n",
        "scipy==1.6.2\n",
        "```"
      ]
    },
    {
      "cell_type": "code",
      "execution_count": null,
      "metadata": {
        "id": "x_ohlWURMF2F"
      },
      "outputs": [],
      "source": [
        "from recsys.preprocessing import mean_ratings\n",
        "from recsys.preprocessing import normalized_ratings\n",
        "from recsys.preprocessing import ids_encoder\n",
        "from recsys.preprocessing import train_test_split\n",
        "from recsys.preprocessing import rating_matrix\n",
        "from recsys.preprocessing import get_examples\n",
        "from recsys.preprocessing import scale_ratings\n",
        "\n",
        "from recsys.datasets import ml100k\n",
        "from recsys.datasets import ml1m\n",
        "\n",
        "import matplotlib.pyplot as plt\n",
        "import pandas as pd\n",
        "import numpy as np\n",
        "\n",
        "import os"
      ]
    },
    {
      "cell_type": "markdown",
      "metadata": {
        "id": "JE1e_7yvgCzp"
      },
      "source": [
        "### Model definition"
      ]
    },
    {
      "cell_type": "code",
      "execution_count": null,
      "metadata": {
        "id": "GAYonOOzgCzq"
      },
      "outputs": [],
      "source": [
        "class MatrixFactorization:\n",
        "    \n",
        "    def __init__(self, m, n, k=10, alpha=0.001, lamb=0.01):\n",
        "        \"\"\"\n",
        "        Initialization of the model        \n",
        "        : param\n",
        "            - m : number of users\n",
        "            - n : number of items\n",
        "            - k : length of latent factor, both for users and items. 50 by default\n",
        "            - alpha : learning rate. 0.001 by default\n",
        "            - lamb : regularizer parameter. 0.02 by default\n",
        "        \"\"\"\n",
        "        np.random.seed(32)\n",
        "        \n",
        "        # initialize the latent factor matrices P and Q (of shapes (m,k) and (n,k) respectively) that will be learnt\n",
        "        self.k = k\n",
        "        self.P = np.random.normal(size=(m, k))\n",
        "        self.Q = np.random.normal(size=(n, k))\n",
        "        \n",
        "        # hyperparameter initialization\n",
        "        self.alpha = alpha\n",
        "        self.lamb = lamb\n",
        "        \n",
        "        # training history\n",
        "        self.history = {\n",
        "            \"epochs\":[],\n",
        "            \"loss\":[],\n",
        "            \"val_loss\":[],\n",
        "            \"lr\":[]\n",
        "        }\n",
        "    \n",
        "    def print_training_parameters(self):\n",
        "        print('Training Matrix Factorization Model ...')\n",
        "        print(f'k={self.k} \\t alpha={self.alpha} \\t lambda={self.lamb}')\n",
        "    \n",
        "    def update_rule(self, u, i, error):\n",
        "        self.P[u] = self.P[u] + self.alpha * (error * self.Q[i] - self.lamb * self.P[u])\n",
        "        self.Q[i] = self.Q[i] + self.alpha * (error * self.P[u] - self.lamb * self.Q[i])\n",
        "        \n",
        "    def mae(self,  x_train, y_train):\n",
        "        \"\"\"\n",
        "        returns the Mean Absolute Error\n",
        "        \"\"\"\n",
        "        # number of training exemples\n",
        "        M = x_train.shape[0]\n",
        "        error = 0\n",
        "        for pair, r in zip(x_train, y_train):\n",
        "            u, i = pair\n",
        "            error += abs(r - np.dot(self.P[u], self.Q[i]))\n",
        "        return error/M\n",
        "    \n",
        "    def print_training_progress(self, epoch, epochs, error, val_error, steps=5):\n",
        "        if epoch == 1 or epoch % steps == 0 :\n",
        "                print(\"epoch {}/{} - loss : {} - val_loss : {}\".format(epoch, epochs, round(error,3), round(val_error,3)))\n",
        "                \n",
        "    def learning_rate_schedule(self, epoch, target_epochs = 20):\n",
        "        if (epoch >= target_epochs) and (epoch % target_epochs == 0):\n",
        "                factor = epoch // target_epochs\n",
        "                self.alpha = self.alpha * (1 / (factor * 20))\n",
        "                print(\"\\nLearning Rate : {}\\n\".format(self.alpha))\n",
        "    \n",
        "    def fit(self, x_train, y_train, validation_data, epochs=1000):\n",
        "        \"\"\"\n",
        "        Train latent factors P and Q according to the training set\n",
        "        \n",
        "        :param\n",
        "            - x_train : training pairs (u,i) for which rating r_ui is known\n",
        "            - y_train : set of ratings r_ui for all training pairs (u,i)\n",
        "            - validation_data : tuple (x_test, y_test)\n",
        "            - epochs : number of time to loop over the entire training set. \n",
        "            1000 epochs by default\n",
        "            \n",
        "        Note that u and i are encoded values of userid and itemid\n",
        "        \"\"\"\n",
        "        self.print_training_parameters()\n",
        "        \n",
        "        # validation data\n",
        "        x_test, y_test = validation_data\n",
        "        \n",
        "        # loop over the number of epochs\n",
        "        for epoch in range(1, epochs+1):\n",
        "            \n",
        "            # for each pair (u,i) and the corresponding rating r\n",
        "            for pair, r in zip(x_train, y_train):\n",
        "                \n",
        "                # get encoded values of userid and itemid from pair\n",
        "                u,i = pair\n",
        "                \n",
        "                # compute the predicted rating r_hat\n",
        "                r_hat = np.dot(self.P[u], self.Q[i])\n",
        "                \n",
        "                # compute the prediction error\n",
        "                e = abs(r - r_hat)\n",
        "                \n",
        "                # update rules\n",
        "                self.update_rule(u, i, e)\n",
        "                \n",
        "            # training and validation error  after this epochs\n",
        "            error = self.mae(x_train, y_train)\n",
        "            val_error = self.mae(x_test, y_test)\n",
        "            \n",
        "            # update history\n",
        "            self.history['epochs'].append(epoch)\n",
        "            self.history['loss'].append(error)\n",
        "            self.history['val_loss'].append(val_error)\n",
        "            \n",
        "            # update history\n",
        "            self.update_history(epoch, error, val_error)\n",
        "            \n",
        "            # print training progress after each steps epochs\n",
        "            self.print_training_progress(epoch, epochs, error, val_error, steps=1)\n",
        "              \n",
        "            # leaning rate scheduler : redure the learning rate as we go deeper in the number of epochs\n",
        "            # self.learning_rate_schedule(epoch)\n",
        "        \n",
        "        return self.history\n",
        "    \n",
        "    def update_history(self, epoch, error, val_error):\n",
        "        self.history['epochs'].append(epoch)\n",
        "        self.history['loss'].append(error)\n",
        "        self.history['val_loss'].append(val_error)\n",
        "        self.history['lr'].append(self.alpha)\n",
        "    \n",
        "    def evaluate(self, x_test, y_test):\n",
        "        \"\"\"\n",
        "        compute the global error on the test set        \n",
        "        :param x_test : test pairs (u,i) for which rating r_ui is known\n",
        "        :param y_test : set of ratings r_ui for all test pairs (u,i)\n",
        "        \"\"\"\n",
        "        error = self.mae(x_test, y_test)\n",
        "        print(f\"validation error : {round(error,3)}\")\n",
        "        \n",
        "        return error\n",
        "      \n",
        "    def predict(self, userid, itemid):\n",
        "        \"\"\"\n",
        "        Make rating prediction for a user on an item\n",
        "        :param userid\n",
        "        :param itemid\n",
        "        :return r : predicted rating\n",
        "        \"\"\"\n",
        "        # encode user and item ids to be able to access their latent factors in\n",
        "        # matrices P and Q\n",
        "        u = uencoder.transform([userid])[0]\n",
        "        i = iencoder.transform([itemid])[0]\n",
        "\n",
        "        # rating prediction using encoded ids. Dot product between P_u and Q_i\n",
        "        r = np.dot(self.P[u], self.Q[i])\n",
        "        return r\n",
        "\n",
        "    def recommend(self, userid, N=30):\n",
        "        \"\"\"\n",
        "        make to N recommendations for a given user\n",
        "\n",
        "        :return(top_items,preds) : top N items with the highest predictions \n",
        "        with their corresponding predictions\n",
        "        \"\"\"\n",
        "        # encode the userid\n",
        "        u = uencoder.transform([userid])[0]\n",
        "\n",
        "        # predictions for users userid on all product\n",
        "        predictions = np.dot(self.P[u], self.Q.T)\n",
        "\n",
        "        # get the indices of the top N predictions\n",
        "        top_idx = np.flip(np.argsort(predictions))[:N]\n",
        "\n",
        "        # decode indices to get their corresponding itemids\n",
        "        top_items = iencoder.inverse_transform(top_idx)\n",
        "\n",
        "        # take corresponding predictions for top N indices\n",
        "        preds = predictions[top_idx]\n",
        "\n",
        "        return top_items, preds        "
      ]
    },
    {
      "cell_type": "code",
      "execution_count": null,
      "metadata": {
        "id": "anzaSi8ggCzv"
      },
      "outputs": [],
      "source": [
        "epochs = 10"
      ]
    },
    {
      "cell_type": "markdown",
      "metadata": {
        "id": "grOTFFETgCzz"
      },
      "source": [
        "### MovieLens 100k"
      ]
    },
    {
      "cell_type": "markdown",
      "metadata": {
        "id": "pPChuAJ3lT1a"
      },
      "source": [
        "#### Evaluation on raw ratings"
      ]
    },
    {
      "cell_type": "code",
      "execution_count": null,
      "metadata": {
        "id": "lJ94EgebgCzz"
      },
      "outputs": [],
      "source": [
        "# load the ml100k dataset\n",
        "ratings, movies = ml100k.load()\n",
        "\n",
        "ratings, uencoder, iencoder = ids_encoder(ratings)\n",
        "\n",
        "m = ratings.userid.nunique()   # total number of users\n",
        "n = ratings.itemid.nunique()   # total number of items\n",
        "\n",
        "# get examples as tuples of userids and itemids and labels from normalize ratings\n",
        "raw_examples, raw_labels = get_examples(ratings)\n",
        "\n",
        "# train test split\n",
        "(x_train, x_test), (y_train, y_test) = train_test_split(examples=raw_examples, labels=raw_labels)"
      ]
    },
    {
      "cell_type": "code",
      "execution_count": null,
      "metadata": {
        "id": "VRp3MossgCz0"
      },
      "outputs": [
        {
          "name": "stdout",
          "output_type": "stream",
          "text": [
            "Training Matrix Factorization Model ...\n",
            "k=10 \t alpha=0.01 \t lambda=1.5\n",
            "epoch 1/10 - loss : 2.734 - val_loss : 2.779\n",
            "epoch 2/10 - loss : 1.764 - val_loss : 1.794\n",
            "epoch 3/10 - loss : 1.592 - val_loss : 1.614\n",
            "epoch 4/10 - loss : 1.538 - val_loss : 1.556\n",
            "epoch 5/10 - loss : 1.515 - val_loss : 1.531\n",
            "epoch 6/10 - loss : 1.503 - val_loss : 1.517\n",
            "epoch 7/10 - loss : 1.496 - val_loss : 1.509\n",
            "epoch 8/10 - loss : 1.491 - val_loss : 1.504\n",
            "epoch 9/10 - loss : 1.488 - val_loss : 1.5\n",
            "epoch 10/10 - loss : 1.486 - val_loss : 1.497\n"
          ]
        }
      ],
      "source": [
        "# create the model\n",
        "MF = MatrixFactorization(m, n, k=10, alpha=0.01, lamb=1.5)\n",
        "\n",
        "# fit the model on the training set\n",
        "history = MF.fit(x_train, y_train, epochs=epochs, validation_data=(x_test, y_test))"
      ]
    },
    {
      "cell_type": "code",
      "execution_count": null,
      "metadata": {
        "id": "9CbdCn3EgCz5"
      },
      "outputs": [
        {
          "name": "stdout",
          "output_type": "stream",
          "text": [
            "validation error : 1.497\n"
          ]
        },
        {
          "data": {
            "text/plain": [
              "1.4973507972141993"
            ]
          },
          "execution_count": 7,
          "metadata": {
            "tags": []
          },
          "output_type": "execute_result"
        }
      ],
      "source": [
        "MF.evaluate(x_test, y_test)"
      ]
    },
    {
      "cell_type": "markdown",
      "metadata": {
        "id": "WfxfW68agCz7"
      },
      "source": [
        "#### Evaluation on normalized ratings"
      ]
    },
    {
      "cell_type": "code",
      "execution_count": null,
      "metadata": {
        "id": "zuCxWPZvgCz8"
      },
      "outputs": [],
      "source": [
        "# load data\n",
        "ratings, movies = ml100k.load()\n",
        "\n",
        "ratings, uencoder, iencoder = ids_encoder(ratings)\n",
        "\n",
        "m = ratings['userid'].nunique()   # total number of users\n",
        "n = ratings['itemid'].nunique()   # total number of items\n",
        "\n",
        "# normalize ratings by substracting means\n",
        "normalized_column_name = \"norm_rating\"\n",
        "ratings = normalized_ratings(ratings, norm_column=normalized_column_name)\n",
        "\n",
        "# get examples as tuples of userids and itemids and labels from normalize ratings\n",
        "raw_examples, raw_labels = get_examples(ratings, labels_column=normalized_column_name)\n",
        "\n",
        "# train test split\n",
        "(x_train, x_test), (y_train, y_test) = train_test_split(examples=raw_examples, labels=raw_labels)"
      ]
    },
    {
      "cell_type": "code",
      "execution_count": null,
      "metadata": {
        "id": "oHjJks4PgCz8"
      },
      "outputs": [
        {
          "name": "stdout",
          "output_type": "stream",
          "text": [
            "Training Matrix Factorization Model ...\n",
            "k=10 \t alpha=0.01 \t lambda=1.5\n",
            "epoch 1/10 - loss : 0.851 - val_loss : 0.847\n",
            "epoch 2/10 - loss : 0.831 - val_loss : 0.831\n",
            "epoch 3/10 - loss : 0.828 - val_loss : 0.829\n",
            "epoch 4/10 - loss : 0.827 - val_loss : 0.828\n",
            "epoch 5/10 - loss : 0.827 - val_loss : 0.828\n",
            "epoch 6/10 - loss : 0.826 - val_loss : 0.828\n",
            "epoch 7/10 - loss : 0.826 - val_loss : 0.828\n",
            "epoch 8/10 - loss : 0.826 - val_loss : 0.828\n",
            "epoch 9/10 - loss : 0.826 - val_loss : 0.828\n",
            "epoch 10/10 - loss : 0.826 - val_loss : 0.828\n"
          ]
        }
      ],
      "source": [
        "# create the model\n",
        "MF = MatrixFactorization(m, n, k=10, alpha=0.01, lamb=1.5)\n",
        "\n",
        "# fit the model on the training set\n",
        "history = MF.fit(x_train, y_train, epochs=epochs, validation_data=(x_test, y_test))"
      ]
    },
    {
      "cell_type": "code",
      "execution_count": null,
      "metadata": {
        "id": "lxH4jNI3gCz9"
      },
      "outputs": [
        {
          "name": "stdout",
          "output_type": "stream",
          "text": [
            "validation error : 0.828\n"
          ]
        },
        {
          "data": {
            "text/plain": [
              "0.8276982643684648"
            ]
          },
          "execution_count": 10,
          "metadata": {
            "tags": []
          },
          "output_type": "execute_result"
        }
      ],
      "source": [
        "MF.evaluate(x_test, y_test)"
      ]
    },
    {
      "cell_type": "markdown",
      "metadata": {
        "id": "5YW54SougCz-"
      },
      "source": [
        "### MovieLens 1M"
      ]
    },
    {
      "cell_type": "markdown",
      "metadata": {
        "id": "ROsCpy1KlWaw"
      },
      "source": [
        "#### Evaluation on raw data"
      ]
    },
    {
      "cell_type": "code",
      "execution_count": null,
      "metadata": {
        "id": "PPWsOqMpgCz-"
      },
      "outputs": [],
      "source": [
        "# load the ml1m dataset\n",
        "ratings, movies = ml1m.load()\n",
        "\n",
        "ratings, uencoder, iencoder = ids_encoder(ratings)\n",
        "\n",
        "m = ratings.userid.nunique()   # total number of users\n",
        "n = ratings.itemid.nunique()   # total number of items\n",
        "\n",
        "# get examples as tuples of userids and itemids and labels from normalize ratings\n",
        "raw_examples, raw_labels = get_examples(ratings)\n",
        "\n",
        "# train test split\n",
        "(x_train, x_test), (y_train, y_test) = train_test_split(examples=raw_examples, labels=raw_labels)"
      ]
    },
    {
      "cell_type": "code",
      "execution_count": null,
      "metadata": {
        "id": "8raSMMJZgCz_"
      },
      "outputs": [
        {
          "name": "stdout",
          "output_type": "stream",
          "text": [
            "Training Matrix Factorization Model ...\n",
            "k=10 \t alpha=0.01 \t lambda=1.5\n",
            "epoch 1/10 - loss : 1.713 - val_loss : 1.718\n",
            "epoch 2/10 - loss : 1.523 - val_loss : 1.526\n",
            "epoch 3/10 - loss : 1.496 - val_loss : 1.498\n",
            "epoch 4/10 - loss : 1.489 - val_loss : 1.489\n",
            "epoch 5/10 - loss : 1.485 - val_loss : 1.486\n",
            "epoch 6/10 - loss : 1.484 - val_loss : 1.484\n",
            "epoch 7/10 - loss : 1.483 - val_loss : 1.483\n",
            "epoch 8/10 - loss : 1.483 - val_loss : 1.483\n",
            "epoch 9/10 - loss : 1.482 - val_loss : 1.482\n",
            "epoch 10/10 - loss : 1.482 - val_loss : 1.482\n"
          ]
        }
      ],
      "source": [
        "# create the model\n",
        "MF = MatrixFactorization(m, n, k=10, alpha=0.01, lamb=1.5)\n",
        "\n",
        "# fit the model on the training set\n",
        "history = MF.fit(x_train, y_train, epochs=epochs, validation_data=(x_test, y_test))"
      ]
    },
    {
      "cell_type": "code",
      "execution_count": null,
      "metadata": {
        "id": "1u17P3ESgC0A"
      },
      "outputs": [
        {
          "name": "stdout",
          "output_type": "stream",
          "text": [
            "validation error : 1.482\n"
          ]
        },
        {
          "data": {
            "text/plain": [
              "1.4820034560467208"
            ]
          },
          "execution_count": 13,
          "metadata": {
            "tags": []
          },
          "output_type": "execute_result"
        }
      ],
      "source": [
        "MF.evaluate(x_test, y_test)"
      ]
    },
    {
      "cell_type": "markdown",
      "metadata": {
        "id": "apQplsBJgC0A"
      },
      "source": [
        "#### Evaluation on normalized ratings"
      ]
    },
    {
      "cell_type": "code",
      "execution_count": null,
      "metadata": {
        "id": "q62I-C8ggC0B"
      },
      "outputs": [],
      "source": [
        "# load data\n",
        "ratings, movies = ml1m.load()\n",
        "\n",
        "ratings, uencoder, iencoder = ids_encoder(ratings)\n",
        "\n",
        "m = ratings['userid'].nunique()   # total number of users\n",
        "n = ratings['itemid'].nunique()   # total number of items\n",
        "\n",
        "# normalize ratings by substracting means\n",
        "normalized_column_name = \"norm_rating\"\n",
        "ratings = normalized_ratings(ratings, norm_column=normalized_column_name)\n",
        "\n",
        "# get examples as tuples of userids and itemids and labels from normalize ratings\n",
        "raw_examples, raw_labels = get_examples(ratings, labels_column=normalized_column_name)\n",
        "\n",
        "# train test split\n",
        "(x_train, x_test), (y_train, y_test) = train_test_split(examples=raw_examples, labels=raw_labels)"
      ]
    },
    {
      "cell_type": "code",
      "execution_count": null,
      "metadata": {
        "id": "OP9_mHRigC0D"
      },
      "outputs": [
        {
          "name": "stdout",
          "output_type": "stream",
          "text": [
            "Training Matrix Factorization Model ...\n",
            "k=10 \t alpha=0.01 \t lambda=1.5\n",
            "epoch 1/10 - loss : 0.826 - val_loss : 0.827\n",
            "epoch 2/10 - loss : 0.824 - val_loss : 0.825\n",
            "epoch 3/10 - loss : 0.823 - val_loss : 0.825\n",
            "epoch 4/10 - loss : 0.823 - val_loss : 0.825\n",
            "epoch 5/10 - loss : 0.823 - val_loss : 0.825\n",
            "epoch 6/10 - loss : 0.823 - val_loss : 0.825\n",
            "epoch 7/10 - loss : 0.823 - val_loss : 0.825\n",
            "epoch 8/10 - loss : 0.823 - val_loss : 0.825\n",
            "epoch 9/10 - loss : 0.823 - val_loss : 0.825\n",
            "epoch 10/10 - loss : 0.823 - val_loss : 0.825\n"
          ]
        }
      ],
      "source": [
        "# create the model\n",
        "MF = MatrixFactorization(m, n, k=10, alpha=0.01, lamb=1.5)\n",
        "\n",
        "# fit the model on the training set\n",
        "history = MF.fit(x_train, y_train, epochs=epochs, validation_data=(x_test, y_test))"
      ]
    },
    {
      "cell_type": "code",
      "execution_count": null,
      "metadata": {
        "id": "QH8pxjwsgC0E"
      },
      "outputs": [
        {
          "name": "stdout",
          "output_type": "stream",
          "text": [
            "validation error : 0.825\n"
          ]
        },
        {
          "data": {
            "text/plain": [
              "0.8250208634455388"
            ]
          },
          "execution_count": 16,
          "metadata": {
            "tags": []
          },
          "output_type": "execute_result"
        }
      ],
      "source": [
        "MF.evaluate(x_test, y_test)"
      ]
    },
    {
      "cell_type": "markdown",
      "metadata": {
        "id": "DF8hqi1ygC0E"
      },
      "source": [
        "### Predictions"
      ]
    },
    {
      "cell_type": "markdown",
      "metadata": {
        "id": "_hzclXP0RL8V"
      },
      "source": [
        "Now that the latent factors $P$ and $Q$, we can use them to make predictions and recommendations. Let's call the ```predict``` function of the ```Matrix Factorization``` class to make prediction for a given.\n",
        "\n",
        "rating prediction for user 1 on item 1 for which the truth rating $r=5.0$"
      ]
    },
    {
      "cell_type": "code",
      "execution_count": null,
      "metadata": {
        "id": "4rAUY-AHgC0F"
      },
      "outputs": [
        {
          "data": {
            "text/html": [
              "<div>\n",
              "<style scoped>\n",
              "    .dataframe tbody tr th:only-of-type {\n",
              "        vertical-align: middle;\n",
              "    }\n",
              "\n",
              "    .dataframe tbody tr th {\n",
              "        vertical-align: top;\n",
              "    }\n",
              "\n",
              "    .dataframe thead th {\n",
              "        text-align: right;\n",
              "    }\n",
              "</style>\n",
              "<table border=\"1\" class=\"dataframe\">\n",
              "  <thead>\n",
              "    <tr style=\"text-align: right;\">\n",
              "      <th></th>\n",
              "      <th>userid</th>\n",
              "      <th>itemid</th>\n",
              "      <th>rating</th>\n",
              "      <th>rating_mean</th>\n",
              "      <th>norm_rating</th>\n",
              "    </tr>\n",
              "  </thead>\n",
              "  <tbody>\n",
              "    <tr>\n",
              "      <th>0</th>\n",
              "      <td>1</td>\n",
              "      <td>1</td>\n",
              "      <td>5</td>\n",
              "      <td>4.188679</td>\n",
              "      <td>0.811321</td>\n",
              "    </tr>\n",
              "    <tr>\n",
              "      <th>1</th>\n",
              "      <td>1</td>\n",
              "      <td>48</td>\n",
              "      <td>5</td>\n",
              "      <td>4.188679</td>\n",
              "      <td>0.811321</td>\n",
              "    </tr>\n",
              "    <tr>\n",
              "      <th>2</th>\n",
              "      <td>1</td>\n",
              "      <td>145</td>\n",
              "      <td>5</td>\n",
              "      <td>4.188679</td>\n",
              "      <td>0.811321</td>\n",
              "    </tr>\n",
              "    <tr>\n",
              "      <th>3</th>\n",
              "      <td>1</td>\n",
              "      <td>254</td>\n",
              "      <td>4</td>\n",
              "      <td>4.188679</td>\n",
              "      <td>-0.188679</td>\n",
              "    </tr>\n",
              "    <tr>\n",
              "      <th>4</th>\n",
              "      <td>1</td>\n",
              "      <td>514</td>\n",
              "      <td>5</td>\n",
              "      <td>4.188679</td>\n",
              "      <td>0.811321</td>\n",
              "    </tr>\n",
              "  </tbody>\n",
              "</table>\n",
              "</div>"
            ],
            "text/plain": [
              "   userid  itemid  rating  rating_mean  norm_rating\n",
              "0       1       1       5     4.188679     0.811321\n",
              "1       1      48       5     4.188679     0.811321\n",
              "2       1     145       5     4.188679     0.811321\n",
              "3       1     254       4     4.188679    -0.188679\n",
              "4       1     514       5     4.188679     0.811321"
            ]
          },
          "execution_count": 17,
          "metadata": {
            "tags": []
          },
          "output_type": "execute_result"
        }
      ],
      "source": [
        "ratings.userid = uencoder.inverse_transform(ratings.userid.to_list())\n",
        "ratings.itemid = uencoder.inverse_transform(ratings.itemid.to_list())\n",
        "ratings.head(5)"
      ]
    },
    {
      "cell_type": "code",
      "execution_count": null,
      "metadata": {
        "id": "WjQN_N1WRKSm"
      },
      "outputs": [
        {
          "data": {
            "text/plain": [
              "4.188679163563357"
            ]
          },
          "execution_count": 18,
          "metadata": {
            "tags": []
          },
          "output_type": "execute_result"
        }
      ],
      "source": [
        "4.188679 + MF.predict(userid=1, itemid=1) # add the mean because we have used the normalised ratings for training"
      ]
    },
    {
      "cell_type": "markdown",
      "metadata": {
        "id": "YYncVXWvebEZ"
      },
      "source": [
        "### Summary\n",
        "\n",
        "This is the link to the MatrixFactorization class : [MatrixFactorization.py](https://github.com/nzhinusoftcm/review-on-collaborative-filtering/blob/master/recsys/models/MatrixFactorization.py)"
      ]
    },
    {
      "cell_type": "markdown",
      "metadata": {
        "id": "erPyco4tgC0H"
      },
      "source": [
        "### Non-negative Matrix Factorization\n",
        "\n",
        "With the Matrix Factorization model, $P$ and $Q$ latent factors are non interpretable since they contain arbitrary negative or positive values. This make the Matrix Factorization model to be non explainable.\n",
        "\n",
        "The **Non-negative Matrix Factorization (NMF)** algorithm is a variant of Matrix Factorization which generate explainable latent factors for $P$ and $Q$ by constraining their values in the range [0,1]. This allow a probability interpretation of these latent factors, hense the explainability."
      ]
    },
    {
      "cell_type": "markdown",
      "metadata": {
        "id": "k8-N80THgDMS"
      },
      "source": [
        "## Part 6 - Non-negative Matrix factorization method\n",
        "> Collaborative Filtering on MovieLens Latest-small Part 6 - Finding recommendations using model based non-negative matrix factorization method."
      ]
    },
    {
      "cell_type": "markdown",
      "metadata": {
        "id": "Xl52szgdgDMW"
      },
      "source": [
        "Jusl like Matrix Factorization (MF) [(Yehuda Koren et al., 2009)](https://ieeexplore.ieee.org/document/5197422), Non-negative Matrix Factorization (NMF in short) factors the rating matrix $R$ in two matrices in such a way that $R = PQ^{\\top}$.\n",
        "\n",
        "### One limitation of Matrix Factorization\n",
        "\n",
        "$P$ and $Q$ values in MF are non interpretable since their components can take arbitrary (positive and negative) values.\n",
        "\n",
        "### Particulariy of Non-negative Matrix Factorization\n",
        "\n",
        "NMF [(Lee and Seung, 1999)](http://www.dm.unibo.it/~simoncin/nmfconverge.pdf) allows the reconstruction of $P$ and $Q$ in such a way that $P,Q \\ge 0$. Constraining $P$ and $Q$ values to be taken from $[0,1]$ allows  a probabilistic interpretation\n",
        "\n",
        "- Latent factors represent groups of users who share the same tastes,\n",
        "- The value  $P_{u,l}$  represents the probability that user $u$ belongs to the group $l$ of users and \n",
        "- The value $Q_{l,i}$ represents the probability that users in the group $l$  likes item $i$.\n",
        "\n",
        "### Objective function\n",
        "\n",
        "With the Euclidian distance, the NMF objective function is defined by\n",
        "\n",
        "\\begin{equation}\n",
        "J = \\frac{1}{2}\\sum_{(u,i) \\in \\kappa}||R_{u,i} - P_uQ_i^{\\top}||^2 + \\lambda_P||P_u||^2 + \\lambda_Q||Q_i||^2\n",
        "\\end{equation}\n",
        "\n",
        "The goal is to minimize the cost function $J$ by optimizing parameters $P$ and $Q$, with $\\lambda_P$ and $\\lambda_Q$ the regularizer parameters."
      ]
    },
    {
      "cell_type": "markdown",
      "metadata": {
        "id": "jMYP8CiQgDMp"
      },
      "source": [
        "### Multiplicative update rule\n",
        "\n",
        "According [(Lee and Seung, 1999)](https://www.nature.com/articles/44565.pdf), to the multiplicative update rule for $P$ and $Q$ are as follows :\n",
        "\n",
        "\\begin{equation}\n",
        "P \\leftarrow P \\cdot \\frac{RQ}{PQ^{\\top}Q}\n",
        "\\end{equation}\n",
        "\n",
        "\\begin{equation}\n",
        "Q \\leftarrow Q \\cdot \\frac{R^{\\top}P}{QP^{\\top}P}\n",
        "\\end{equation}\n",
        "\n",
        "However, since $R$ is a sparse matrix, we need to update each $P_u$ according to existing ratings of user $u$. Similarily, we need to update $Q_i$ according to existing ratings on item $i$. Hence :\n",
        "\n",
        "\\begin{equation}\n",
        "P_{u,k} \\leftarrow P_{u,k} \\cdot \\frac{\\sum_{i \\in I_u}Q_{i,k}\\cdot r_{u,i}}{\\sum_{i \\in I_u}Q_{i,k}\\cdot \\hat{r}_{u,i} + \\lambda_P|I_u|P_{u,k}}\n",
        "\\end{equation}\n",
        "\n",
        "\\begin{equation}\n",
        "Q_{i,k} \\leftarrow Q_{i,k} \\cdot \\frac{\\sum_{u \\in U_i}P_{u,k}\\cdot r_{u,i}}{\\sum_{u \\in U_i}P_{u,k}\\cdot \\hat{r}_{u,i} + \\lambda_Q|U_i|Q_{i,k}}\n",
        "\\end{equation}\n",
        "\n",
        "Where\n",
        "- $P_{u,k}$ is the $k^{th}$ latent factor of $P_u$\n",
        "- $Q_{i,k}$ is the $k^{th}$ latent factor of $Q_i$\n",
        "- $I_u$ the of items rated by user $u$\n",
        "- $U_i$ the set of users who rated item $i$"
      ]
    },
    {
      "cell_type": "code",
      "execution_count": null,
      "metadata": {
        "id": "gz_CjughgDMw"
      },
      "outputs": [],
      "source": [
        "import os\n",
        "\n",
        "if not (os.path.exists(\"recsys.zip\") or os.path.exists(\"recsys\")):\n",
        "    !wget https://github.com/nzhinusoftcm/review-on-collaborative-filtering/raw/master/recsys.zip    \n",
        "    !unzip recsys.zip"
      ]
    },
    {
      "cell_type": "markdown",
      "metadata": {
        "id": "xsnXPpGkgDM1"
      },
      "source": [
        "### Install and import useful packages"
      ]
    },
    {
      "cell_type": "markdown",
      "metadata": {
        "id": "TPbI9-95gDM3"
      },
      "source": [
        "### requirements\n",
        "\n",
        "```\n",
        "matplotlib==3.2.2\n",
        "numpy==1.19.2\n",
        "pandas==1.0.5\n",
        "python==3.7\n",
        "scikit-learn==0.24.1\n",
        "scikit-surprise==1.1.1\n",
        "scipy==1.6.2\n",
        "```"
      ]
    },
    {
      "cell_type": "code",
      "execution_count": null,
      "metadata": {
        "id": "aW8HFUvygDM5"
      },
      "outputs": [],
      "source": [
        "from recsys.preprocessing import mean_ratings\n",
        "from recsys.preprocessing import normalized_ratings\n",
        "from recsys.preprocessing import ids_encoder\n",
        "from recsys.preprocessing import train_test_split\n",
        "from recsys.preprocessing import rating_matrix\n",
        "from recsys.preprocessing import get_examples\n",
        "from recsys.preprocessing import scale_ratings\n",
        "\n",
        "from recsys.datasets import ml1m\n",
        "from recsys.datasets import ml100k\n",
        "\n",
        "import matplotlib.pyplot as plt\n",
        "import pandas as pd\n",
        "import numpy as np\n",
        "\n",
        "import os"
      ]
    },
    {
      "cell_type": "markdown",
      "metadata": {
        "id": "pJeGbvNngDM7"
      },
      "source": [
        "### Load and preprocess rating"
      ]
    },
    {
      "cell_type": "code",
      "execution_count": null,
      "metadata": {
        "id": "N1mSGdcRgDM8"
      },
      "outputs": [],
      "source": [
        "# load data\n",
        "ratings, movies = ml100k.load()\n",
        "\n",
        "# prepare data\n",
        "ratings, uencoder, iencoder = ids_encoder(ratings)\n",
        "\n",
        "# convert ratings from dataframe to numpy array\n",
        "np_ratings = ratings.to_numpy()\n",
        "\n",
        "# get examples as tuples of userids and itemids and labels from normalize ratings\n",
        "raw_examples, raw_labels = get_examples(ratings, labels_column=\"rating\")\n",
        "\n",
        "# train test split\n",
        "(x_train, x_test), (y_train, y_test) = train_test_split(examples=raw_examples, labels=raw_labels)"
      ]
    },
    {
      "cell_type": "markdown",
      "metadata": {
        "id": "a92zPNmagDM-"
      },
      "source": [
        "### Non-negative Matrix Factorization Model"
      ]
    },
    {
      "cell_type": "code",
      "execution_count": null,
      "metadata": {
        "id": "9r43X5xRgDM_"
      },
      "outputs": [],
      "source": [
        "class NMF:\n",
        "    \n",
        "    def __init__(self, ratings, m, n, uencoder, iencoder, K=10, lambda_P=0.01, lambda_Q=0.01):\n",
        "        \n",
        "        np.random.seed(32)\n",
        "        \n",
        "        # initialize the latent factor matrices P and Q (of shapes (m,k) and (n,k) respectively) that will be learnt\n",
        "        self.ratings = ratings\n",
        "        self.np_ratings = ratings.to_numpy()\n",
        "        self.K = K\n",
        "        self.P = np.random.rand(m, K)\n",
        "        self.Q = np.random.rand(n, K)\n",
        "        \n",
        "        # hyper parameter initialization\n",
        "        self.lambda_P = lambda_P\n",
        "        self.lambda_Q = lambda_Q\n",
        "\n",
        "        # initialize encoders\n",
        "        self.uencoder = uencoder\n",
        "        self.iencoder = iencoder\n",
        "        \n",
        "        # training history\n",
        "        self.history = {\n",
        "            \"epochs\": [],\n",
        "            \"loss\": [],\n",
        "            \"val_loss\": [],\n",
        "        }\n",
        "    \n",
        "    def print_training_parameters(self):\n",
        "        print('Training NMF ...')\n",
        "        print(f'k={self.K}')\n",
        "        \n",
        "    def mae(self, x_train, y_train):\n",
        "        \"\"\"\n",
        "        returns the Mean Absolute Error\n",
        "        \"\"\"\n",
        "        # number of training examples\n",
        "        m = x_train.shape[0]\n",
        "        error = 0\n",
        "        for pair, r in zip(x_train, y_train):\n",
        "            u, i = pair\n",
        "            error += abs(r - np.dot(self.P[u], self.Q[i]))\n",
        "        return error / m\n",
        "    \n",
        "    def update_rule(self, u, i, error):\n",
        "        I = self.np_ratings[self.np_ratings[:, 0] == u][:, [1, 2]]\n",
        "        U = self.np_ratings[self.np_ratings[:, 1] == i][:, [0, 2]]    \n",
        "                    \n",
        "        num = self.P[u] * np.dot(self.Q[I[:, 0]].T, I[:, 1])\n",
        "        dem = np.dot(self.Q[I[:, 0]].T, np.dot(self.P[u], self.Q[I[:, 0]].T)) + self.lambda_P * len(I) * self.P[u]\n",
        "        self.P[u] = num / dem\n",
        "\n",
        "        num = self.Q[i] * np.dot(self.P[U[:, 0]].T, U[:, 1])\n",
        "        dem = np.dot(self.P[U[:, 0]].T, np.dot(self.P[U[:, 0]], self.Q[i].T)) + self.lambda_Q * len(U) * self.Q[i]\n",
        "        self.Q[i] = num / dem\n",
        "    \n",
        "    @staticmethod\n",
        "    def print_training_progress(epoch, epochs, error, val_error, steps=5):\n",
        "        if epoch == 1 or epoch % steps == 0:\n",
        "            print(f\"epoch {epoch}/{epochs} - loss : {round(error, 3)} - val_loss : {round(val_error, 3)}\")\n",
        "                \n",
        "    def fit(self, x_train, y_train, validation_data, epochs=10):\n",
        "\n",
        "        self.print_training_parameters()\n",
        "        x_test, y_test = validation_data\n",
        "        for epoch in range(1, epochs+1):\n",
        "            for pair, r in zip(x_train, y_train):\n",
        "                u, i = pair\n",
        "                r_hat = np.dot(self.P[u], self.Q[i])\n",
        "                e = abs(r - r_hat)\n",
        "                self.update_rule(u, i, e)                \n",
        "            # training and validation error  after this epochs\n",
        "            error = self.mae(x_train, y_train)\n",
        "            val_error = self.mae(x_test, y_test)\n",
        "            self.update_history(epoch, error, val_error)\n",
        "            self.print_training_progress(epoch, epochs, error, val_error, steps=1)\n",
        "        \n",
        "        return self.history\n",
        "    \n",
        "    def update_history(self, epoch, error, val_error):\n",
        "        self.history['epochs'].append(epoch)\n",
        "        self.history['loss'].append(error)\n",
        "        self.history['val_loss'].append(val_error)\n",
        "    \n",
        "    def evaluate(self, x_test, y_test):        \n",
        "        error = self.mae(x_test, y_test)\n",
        "        print(f\"validation error : {round(error,3)}\")\n",
        "        print('MAE : ', error)        \n",
        "        return error\n",
        "      \n",
        "    def predict(self, userid, itemid):\n",
        "        u = self.uencoder.transform([userid])[0]\n",
        "        i = self.iencoder.transform([itemid])[0]\n",
        "        r = np.dot(self.P[u], self.Q[i])\n",
        "        return r\n",
        "\n",
        "    def recommend(self, userid, N=30):\n",
        "        # encode the userid\n",
        "        u = self.uencoder.transform([userid])[0]\n",
        "\n",
        "        # predictions for users userid on all product\n",
        "        predictions = np.dot(self.P[u], self.Q.T)\n",
        "\n",
        "        # get the indices of the top N predictions\n",
        "        top_idx = np.flip(np.argsort(predictions))[:N]\n",
        "\n",
        "        # decode indices to get their corresponding itemids\n",
        "        top_items = self.iencoder.inverse_transform(top_idx)\n",
        "\n",
        "        # take corresponding predictions for top N indices\n",
        "        preds = predictions[top_idx]\n",
        "\n",
        "        return top_items, preds\n"
      ]
    },
    {
      "cell_type": "markdown",
      "metadata": {
        "id": "Qrm1T12MgDNR"
      },
      "source": [
        "### Train the NMF model with ML-100K dataset\n",
        "\n",
        "model parameters :\n",
        "\n",
        "- $k = 10$ : (number of factors)\n",
        "- $\\lambda_P = 0.6$\n",
        "- $\\lambda_Q = 0.6$\n",
        "- epochs = 10\n",
        "\n",
        "Note that it may take some time to complete the training on 10 epochs (around 7 minutes)."
      ]
    },
    {
      "cell_type": "code",
      "execution_count": null,
      "metadata": {
        "id": "3x632g2fgDNT"
      },
      "outputs": [
        {
          "name": "stdout",
          "output_type": "stream",
          "text": [
            "Training NMF ...\n",
            "k=10\n",
            "epoch 1/10 - loss : 0.916 - val_loss : 0.917\n",
            "epoch 2/10 - loss : 0.915 - val_loss : 0.917\n",
            "epoch 3/10 - loss : 0.915 - val_loss : 0.917\n",
            "epoch 4/10 - loss : 0.915 - val_loss : 0.917\n",
            "epoch 5/10 - loss : 0.915 - val_loss : 0.917\n",
            "epoch 6/10 - loss : 0.915 - val_loss : 0.917\n",
            "epoch 7/10 - loss : 0.915 - val_loss : 0.917\n",
            "epoch 8/10 - loss : 0.915 - val_loss : 0.917\n",
            "epoch 9/10 - loss : 0.915 - val_loss : 0.917\n",
            "epoch 10/10 - loss : 0.915 - val_loss : 0.917\n"
          ]
        }
      ],
      "source": [
        "m = ratings['userid'].nunique()   # total number of users\n",
        "n = ratings['itemid'].nunique()   # total number of items\n",
        "\n",
        "# create and train the model\n",
        "nmf = NMF(ratings, m, n, uencoder, iencoder, K=10, lambda_P=0.6, lambda_Q=0.6)\n",
        "history = nmf.fit(x_train, y_train, epochs=10, validation_data=(x_test, y_test))"
      ]
    },
    {
      "cell_type": "code",
      "execution_count": null,
      "metadata": {
        "id": "HH9mrKTIgDNW"
      },
      "outputs": [
        {
          "name": "stdout",
          "output_type": "stream",
          "text": [
            "validation error : 0.917\n",
            "MAE :  0.916504134301954\n"
          ]
        },
        {
          "data": {
            "text/plain": [
              "0.916504134301954"
            ]
          },
          "execution_count": 6,
          "metadata": {
            "tags": []
          },
          "output_type": "execute_result"
        }
      ],
      "source": [
        "nmf.evaluate(x_test, y_test)"
      ]
    },
    {
      "cell_type": "markdown",
      "metadata": {
        "id": "mYICcYRfgDNY"
      },
      "source": [
        "### Evaluation of NMF with Scikit-suprise"
      ]
    },
    {
      "cell_type": "markdown",
      "metadata": {
        "id": "hmrN4PeGgDNa"
      },
      "source": [
        "We can use the [scikt-suprise](https://surprise.readthedocs.io/en/stable/) package to train the NMF model. It  is an easy-to-use Python scikit for recommender systems.\n",
        "\n",
        "1. Import the NMF class from the suprise scikit.\n",
        "2. Load the data with the built-in function\n",
        "3. Instanciate NMF with ```k=10``` (```n_factors```) and we use 10 epochs (```n_epochs```)\n",
        "4. Evaluate the model using cross-validation with 5 folds."
      ]
    },
    {
      "cell_type": "code",
      "execution_count": null,
      "metadata": {
        "id": "B0tDua8SgDNb"
      },
      "outputs": [
        {
          "name": "stdout",
          "output_type": "stream",
          "text": [
            "Evaluating MAE of algorithm NMF on 5 split(s).\n",
            "\n",
            "                  Fold 1  Fold 2  Fold 3  Fold 4  Fold 5  Mean    Std     \n",
            "MAE (testset)     0.9626  0.9435  0.9777  0.9607  0.9510  0.9591  0.0116  \n",
            "Fit time          0.63    0.69    0.74    0.65    0.71    0.68    0.04    \n",
            "Test time         0.15    0.11    0.14    0.10    0.15    0.13    0.02    \n"
          ]
        }
      ],
      "source": [
        "from surprise import NMF\n",
        "from surprise import Dataset\n",
        "from surprise.model_selection import cross_validate\n",
        "\n",
        "# Load the movielens-100k dataset (download it if needed).\n",
        "data = Dataset.load_builtin('ml-100k')\n",
        "\n",
        "# Use the NMF algorithm.\n",
        "nmf = NMF(n_factors=10, n_epochs=10)\n",
        "\n",
        "# Run 5-fold cross-validation and print results.\n",
        "history = cross_validate(nmf, data, measures=['MAE'], cv=5, verbose=True)"
      ]
    },
    {
      "cell_type": "markdown",
      "metadata": {
        "id": "v6wBPfPHgDNg"
      },
      "source": [
        "As result, the mean MAE on the test set is **mae = 0.9510** which is equivalent to the result we have obtained on *ml-100k* with our own implementation **mae = 0.9165**"
      ]
    },
    {
      "cell_type": "markdown",
      "metadata": {
        "id": "F0WNSy56gDNh"
      },
      "source": [
        "The mean MAE on a 5-fold cross-validation is **mae = 0.9567**\n",
        "\n",
        "This may take arount 2 minutes"
      ]
    },
    {
      "cell_type": "code",
      "execution_count": null,
      "metadata": {
        "id": "sLBsxya4gDNl"
      },
      "outputs": [
        {
          "name": "stdout",
          "output_type": "stream",
          "text": [
            "Evaluating MAE of algorithm NMF on 5 split(s).\n",
            "\n",
            "                  Fold 1  Fold 2  Fold 3  Fold 4  Fold 5  Mean    Std     \n",
            "MAE (testset)     0.9559  0.9580  0.9566  0.9639  0.9490  0.9567  0.0047  \n",
            "Fit time          6.37    6.55    6.49    6.45    6.51    6.47    0.06    \n",
            "Test time         1.68    1.31    1.64    1.46    1.75    1.57    0.16    \n"
          ]
        }
      ],
      "source": [
        "data = Dataset.load_builtin('ml-1m')\n",
        "nmf = NMF(n_factors=10, n_epochs=10)\n",
        "history = cross_validate(nmf, data, measures=['MAE'], cv=5, verbose=True)"
      ]
    },
    {
      "cell_type": "markdown",
      "metadata": {
        "id": "jo52C6bGgDNm"
      },
      "source": [
        "### Explainable Matrix Factorization\n",
        "\n",
        "NMF introduced explainability to MF by constraining $P$ and $Q$ values in $[0,1]$. It can be considered is an inner explainable model. It's possible to inject external informations into the model in order to bring explainability. This is what the **Explainable Matrix Factorization (EMF)** algorithm does. It computes explainable scores from user or item similarities taken from the user-based or item-based CF."
      ]
    },
    {
      "cell_type": "markdown",
      "metadata": {
        "id": "hO9lSW2pGX2h"
      },
      "source": [
        "## Part 7 - Explainable Matrix factorization method\n",
        "> Collaborative Filtering on MovieLens Latest-small Part 7 - Finding recommendations using model based explainable matrix factorization method."
      ]
    },
    {
      "cell_type": "markdown",
      "metadata": {
        "id": "qEF8lEcAgDm6"
      },
      "source": [
        "### How to quantify explainability ?\n",
        "\n",
        "- Use the rating distribution within the active user’s neighborhood. \n",
        "- If many neighbors have rated the recommended item, then this can provide a basis upon which to explain the recommendations, using neighborhood style explanation mechanisms"
      ]
    },
    {
      "cell_type": "markdown",
      "metadata": {
        "id": "9NVH7eX8gDm8"
      },
      "source": [
        "According to [(Abdollahi and Nasraoui, 2016)](https://www.researchgate.net/publication/301616080_Explainable_Matrix_Factorization_for_Collaborative_Filtering), an item $i$ is consider to be explainable for user $u$ if a considerable number of its neighbors rated item $i$. The explainability score $E_{ui}$ is the percentage of user $u$'s neighbors who have rated item $i$.\n",
        "\n",
        "\\begin{equation}\n",
        "E_{ui} = \\frac{|N_k^{(i)}(u)|}{|N_k(u)|},\n",
        "\\end{equation}\n",
        "\n",
        "where $N_k(u)$ is the set of $k$ nearest neighbors of user $u$ and $N_k^{(i)}(u)$ is the set of user $u$'s neighbors who have rated item $i$. However, only explainable scores above an optimal threshold $\\theta$ are accepted.\n",
        "\n",
        "\\begin{equation}\n",
        "W_{ui} = \\begin{cases} E_{ui} \\text{  } if \\text{  } E_{ui} > \\theta \\\\ 0 \\text{ } otherwise \\end{cases},\n",
        "\\end{equation}"
      ]
    },
    {
      "cell_type": "markdown",
      "metadata": {
        "id": "xFxef1q6gDm-"
      },
      "source": [
        "By including explainability weight in the training algorithm, the new objective function, to be minimized over the set of known ratings, has been formulated by [(Abdollahi and Nasraoui, 2016)](https://www.researchgate.net/publication/301616080_Explainable_Matrix_Factorization_for_Collaborative_Filtering) as:\n",
        "\n",
        "\\begin{equation}\n",
        " J = \\sum_{(u,i)\\in \\kappa} (R_{ui} - \\hat{R}_{ui})^2 +\\frac{\\beta}{2}(||P_u||^2 + ||Q_i||^2) + \\frac{\\lambda}{2}(P_u-Q_i)^2W_{ui},\n",
        "\\end{equation}\n",
        "\n",
        "here, $\\frac{\\beta}{2}(||P_u||^2 + ||Q_i||^2)$ is the $L_2$ regularization term weighted by the coefficient $\\beta$, and $\\lambda$ is an explainability regularization coefficient that controls the smoothness of the new representation and tradeoff between explainability and accuracy. The idea here is that if item $i$ is explainable for user $u$, then their representations in the latent space, $Q_i$ and $P_u$, should be close to each other. Stochastic Gradient descent can be used to optimize the objectve function.\n",
        "\n",
        "\\begin{equation}\n",
        "P_u \\leftarrow P_u + \\alpha\\left(2(R_{u,i}-P_uQ_i^{\\top})Q_i - \\beta P_u - \\lambda(P_u-Q_i)W_{ui}\\right)\n",
        "\\end{equation}\n",
        "\\begin{equation}\n",
        "Q_i \\leftarrow Q_i + \\alpha\\left(2(R_{u,i}-P_uQ_i^{\\top})P_u - \\beta Q_i + \\lambda(P_u-Q_i)W_{ui}\\right)\n",
        "\\end{equation}"
      ]
    },
    {
      "cell_type": "code",
      "execution_count": null,
      "metadata": {
        "id": "iU7wjIFHgDnB"
      },
      "outputs": [],
      "source": [
        "import os\n",
        "\n",
        "if not (os.path.exists(\"recsys.zip\") or os.path.exists(\"recsys\")):\n",
        "    !wget https://github.com/nzhinusoftcm/review-on-collaborative-filtering/raw/master/recsys.zip    \n",
        "    !unzip recsys.zip"
      ]
    },
    {
      "cell_type": "markdown",
      "metadata": {
        "id": "TR5BlBqGgDnH"
      },
      "source": [
        "### requirements\n",
        "\n",
        "```\n",
        "matplotlib==3.2.2\n",
        "numpy==1.18.1\n",
        "pandas==1.0.5\n",
        "python==3.6.10\n",
        "scikit-learn==0.23.1\n",
        "scipy==1.5.0\n",
        "```"
      ]
    },
    {
      "cell_type": "code",
      "execution_count": null,
      "metadata": {
        "id": "m1TVjV9wGX2o"
      },
      "outputs": [],
      "source": [
        "from recsys.memories.UserToUser import UserToUser\n",
        "\n",
        "from recsys.preprocessing import mean_ratings\n",
        "from recsys.preprocessing import normalized_ratings\n",
        "from recsys.preprocessing import ids_encoder\n",
        "from recsys.preprocessing import train_test_split\n",
        "from recsys.preprocessing import rating_matrix\n",
        "from recsys.preprocessing import get_examples\n",
        "\n",
        "from recsys.datasets import ml100k, ml1m\n",
        "\n",
        "import matplotlib.pyplot as plt\n",
        "import pandas as pd\n",
        "import numpy as np\n",
        "\n",
        "import sys\n",
        "import os"
      ]
    },
    {
      "cell_type": "markdown",
      "metadata": {
        "id": "r8AwCSWVgDnp"
      },
      "source": [
        "### Compute Explainable Scores\n",
        "\n",
        "Explainable score are computed using neighborhood based similarities. Here, we are using the user based algorithme to compute similarities"
      ]
    },
    {
      "cell_type": "code",
      "execution_count": null,
      "metadata": {
        "id": "gYEoCr_RgDnr"
      },
      "outputs": [],
      "source": [
        "def explainable_score(user2user, users, items, theta=0):\n",
        "    \n",
        "    def _progress(count):\n",
        "        sys.stdout.write('\\rCompute Explainable score. Progress status : %.1f%%'%(float(count/len(users))*100.0))\n",
        "        sys.stdout.flush()\n",
        "    # initialize explainable score to zeros\n",
        "    W = np.zeros((len(users), len(items)))\n",
        "\n",
        "    for count, u in enumerate(users):            \n",
        "        candidate_items = user2user.find_user_candidate_items(u)        \n",
        "        for i in candidate_items:                \n",
        "            user_who_rated_i, similar_user_who_rated_i = \\\n",
        "                user2user.similar_users_who_rated_this_item(u, i)\n",
        "            if user_who_rated_i.shape[0] == 0:\n",
        "                w = 0.0\n",
        "            else:\n",
        "                w = similar_user_who_rated_i.shape[0] / user_who_rated_i.shape[0]\n",
        "            W[u,i] =  w  if w > theta else 0.0\n",
        "        _progress(count)\n",
        "    return W"
      ]
    },
    {
      "cell_type": "markdown",
      "metadata": {
        "id": "TH6uvGObgDns"
      },
      "source": [
        "### Explainable Matrix Factorization Model"
      ]
    },
    {
      "cell_type": "code",
      "execution_count": null,
      "metadata": {
        "id": "O2bSuu0jgDnw"
      },
      "outputs": [],
      "source": [
        "class ExplainableMatrixFactorization:\n",
        "    \n",
        "    def __init__(self, m, n, W, alpha=0.001, beta=0.01, lamb=0.1, k=10):\n",
        "        \"\"\"\n",
        "            - R : Rating matrix of shape (m,n) \n",
        "            - W : Explainability Weights of shape (m,n)\n",
        "            - k : number of latent factors\n",
        "            - beta : L2 regularization parameter\n",
        "            - lamb : explainability regularization coefficient\n",
        "            - theta : threshold above which an item is explainable for a user\n",
        "        \"\"\"\n",
        "        self.W = W\n",
        "        self.m = m\n",
        "        self.n = n\n",
        "        \n",
        "        np.random.seed(64)\n",
        "        \n",
        "        # initialize the latent factor matrices P and Q (of shapes (m,k) and (n,k) respectively) that will be learnt\n",
        "        self.k = k\n",
        "        self.P = np.random.normal(size=(self.m,k))\n",
        "        self.Q = np.random.normal(size=(self.n,k))\n",
        "        \n",
        "        # hyperparameter initialization\n",
        "        self.alpha = alpha\n",
        "        self.beta = beta\n",
        "        self.lamb = lamb\n",
        "        \n",
        "        # training history\n",
        "        self.history = {\n",
        "            \"epochs\":[],\n",
        "            \"loss\":[],\n",
        "            \"val_loss\":[],\n",
        "        }\n",
        "        \n",
        "    def print_training_parameters(self):\n",
        "        print('Training EMF')\n",
        "        print(f'k={self.k} \\t alpha={self.alpha} \\t beta={self.beta} \\t lambda={self.lamb}')\n",
        "        \n",
        "    def update_rule(self, u, i, error):\n",
        "        self.P[u] = self.P[u] + \\\n",
        "            self.alpha*(2 * error*self.Q[i] - self.beta*self.P[u] - self.lamb*(self.P[u] - self.Q[i]) * self.W[u,i])\n",
        "        \n",
        "        self.Q[i] = self.Q[i] + \\\n",
        "            self.alpha*(2 * error*self.P[u] - self.beta*self.Q[i] + self.lamb*(self.P[u] - self.Q[i]) * self.W[u,i])\n",
        "        \n",
        "    def mae(self,  x_train, y_train):\n",
        "        \"\"\"\n",
        "        returns the Mean Absolute Error\n",
        "        \"\"\"\n",
        "        # number of training exemples\n",
        "        M = x_train.shape[0]\n",
        "        error = 0\n",
        "        for pair, r in zip(x_train, y_train):\n",
        "            u, i = pair\n",
        "            error += np.absolute(r - np.dot(self.P[u], self.Q[i]))\n",
        "        return error/M\n",
        "    \n",
        "    def print_training_progress(self, epoch, epochs, error, val_error, steps=5):\n",
        "        if epoch == 1 or epoch % steps == 0 :\n",
        "                print(f\"epoch {epoch}/{epochs} - loss : {round(error,3)} - val_loss : {round(val_error,3)}\")\n",
        "                \n",
        "    def learning_rate_schedule(self, epoch, target_epochs = 20):\n",
        "        if (epoch >= target_epochs) and (epoch % target_epochs == 0):\n",
        "                factor = epoch // target_epochs\n",
        "                self.alpha = self.alpha * (1 / (factor * 20))\n",
        "                print(\"\\nLearning Rate : {}\\n\".format(self.alpha))\n",
        "        \n",
        "    def fit(self, x_train, y_train, validation_data, epochs=10):\n",
        "        \"\"\"\n",
        "        Train latent factors P and Q according to the training set\n",
        "        \n",
        "        :param\n",
        "            - x_train : training pairs (u,i) for which rating r_ui is known\n",
        "            - y_train : set of ratings r_ui for all training pairs (u,i)\n",
        "            - validation_data : tuple (x_test, y_test)\n",
        "            - epochs : number of time to loop over the entire training set. \n",
        "            10 epochs by default\n",
        "            \n",
        "        Note that u and i are encoded values of userid and itemid\n",
        "        \"\"\"\n",
        "        self.print_training_parameters()\n",
        "        \n",
        "        # get validation data\n",
        "        x_test, y_test = validation_data\n",
        "        \n",
        "        for epoch in range(1, epochs+1):\n",
        "            for pair, r in zip(x_train, y_train):                \n",
        "                u,i = pair                \n",
        "                r_hat = np.dot(self.P[u], self.Q[i])                \n",
        "                e = r - r_hat\n",
        "                self.update_rule(u, i, error=e)\n",
        "                \n",
        "            # training and validation error  after this epochs\n",
        "            error = self.mae(x_train, y_train)\n",
        "            val_error = self.mae(x_test, y_test)\n",
        "            self.update_history(epoch, error, val_error)            \n",
        "            self.print_training_progress(epoch, epochs, error, val_error, steps=1)\n",
        "        \n",
        "        return self.history\n",
        "    \n",
        "    def update_history(self, epoch, error, val_error):\n",
        "        self.history['epochs'].append(epoch)\n",
        "        self.history['loss'].append(error)\n",
        "        self.history['val_loss'].append(val_error)\n",
        "    \n",
        "    def evaluate(self, x_test, y_test):\n",
        "        \"\"\"\n",
        "        compute the global error on the test set\n",
        "        \n",
        "        :param\n",
        "            - x_test : test pairs (u,i) for which rating r_ui is known\n",
        "            - y_test : set of ratings r_ui for all test pairs (u,i)\n",
        "        \"\"\"\n",
        "        error = self.mae(x_test, y_test)\n",
        "        print(f\"validation error : {round(error,3)}\")\n",
        "      \n",
        "    def predict(self, userid, itemid):\n",
        "        \"\"\"\n",
        "        Make rating prediction for a user on an item\n",
        "\n",
        "        :param\n",
        "        - userid\n",
        "        - itemid\n",
        "\n",
        "        :return\n",
        "        - r : predicted rating\n",
        "        \"\"\"\n",
        "        # encode user and item ids to be able to access their latent factors in\n",
        "        # matrices P and Q\n",
        "        u = uencoder.transform([userid])[0]\n",
        "        i = iencoder.transform([itemid])[0]\n",
        "\n",
        "        # rating prediction using encoded ids. Dot product between P_u and Q_i\n",
        "        r = np.dot(self.P[u], self.Q[i])\n",
        "\n",
        "        return r\n",
        "\n",
        "    def recommend(self, userid, N=30):\n",
        "        \"\"\"\n",
        "        make to N recommendations for a given user\n",
        "\n",
        "        :return \n",
        "        - (top_items,preds) : top N items with the highest predictions \n",
        "        \"\"\"\n",
        "        # encode the userid\n",
        "        u = uencoder.transform([userid])[0]\n",
        "\n",
        "        # predictions for this user on all product\n",
        "        predictions = np.dot(self.P[u], self.Q.T)\n",
        "\n",
        "        # get the indices of the top N predictions\n",
        "        top_idx = np.flip(np.argsort(predictions))[:N]\n",
        "\n",
        "        # decode indices to get their corresponding itemids\n",
        "        top_items = iencoder.inverse_transform(top_idx)\n",
        "\n",
        "        # take corresponding predictions for top N indices\n",
        "        preds = predictions[top_idx]\n",
        "\n",
        "        return top_items, preds"
      ]
    },
    {
      "cell_type": "code",
      "execution_count": null,
      "metadata": {
        "id": "f8WgfBjPgDnz"
      },
      "outputs": [],
      "source": [
        "epochs = 10"
      ]
    },
    {
      "cell_type": "markdown",
      "metadata": {
        "id": "-9IDXOqRgDn1"
      },
      "source": [
        "### Model Evaluation"
      ]
    },
    {
      "cell_type": "markdown",
      "metadata": {
        "id": "0d4H5bZDF1Om"
      },
      "source": [
        "#### MovieLens 100K"
      ]
    },
    {
      "cell_type": "markdown",
      "metadata": {
        "id": "2RYMk--kF2bU"
      },
      "source": [
        "**Evaluation on raw data**"
      ]
    },
    {
      "cell_type": "code",
      "execution_count": null,
      "metadata": {
        "id": "zVfuOHTPgDn3"
      },
      "outputs": [],
      "source": [
        "# load data\n",
        "ratings, movies = ml100k.load()\n",
        "\n",
        "# encode users and items ids\n",
        "ratings, uencoder, iencoder = ids_encoder(ratings)\n",
        "\n",
        "users = sorted(ratings.userid.unique())\n",
        "items = sorted(ratings.itemid.unique())\n",
        "\n",
        "m = len(users)\n",
        "n = len(items)\n",
        "\n",
        "# get examples as tuples of userids and itemids and labels from normalize ratings\n",
        "raw_examples, raw_labels = get_examples(ratings)\n",
        "\n",
        "# train test split\n",
        "(x_train, x_test), (y_train, y_test) = train_test_split(examples=raw_examples, labels=raw_labels)"
      ]
    },
    {
      "cell_type": "code",
      "execution_count": null,
      "metadata": {
        "id": "kJ9MFwmdgDn4"
      },
      "outputs": [
        {
          "name": "stdout",
          "output_type": "stream",
          "text": [
            "Normalize users ratings ...\n",
            "Initialize the similarity model ...\n",
            "Compute nearest neighbors ...\n",
            "User to user recommendation model created with success ...\n",
            "Compute Explainable score. Progress status : 99.9%"
          ]
        }
      ],
      "source": [
        "# create the user to user model for similarity measure\n",
        "usertouser = UserToUser(ratings, movies)\n",
        "\n",
        "# compute explainable score\n",
        "W = explainable_score(usertouser, users, items)"
      ]
    },
    {
      "cell_type": "code",
      "execution_count": null,
      "metadata": {
        "id": "CQGoZQ1ogDoU"
      },
      "outputs": [
        {
          "name": "stdout",
          "output_type": "stream",
          "text": [
            "Training EMF\n",
            "k=10 \t alpha=0.01 \t beta=0.4 \t lambda=0.01\n",
            "epoch 1/10 - loss : 0.922 - val_loss : 1.036\n",
            "epoch 2/10 - loss : 0.79 - val_loss : 0.873\n",
            "epoch 3/10 - loss : 0.766 - val_loss : 0.837\n",
            "epoch 4/10 - loss : 0.757 - val_loss : 0.822\n",
            "epoch 5/10 - loss : 0.753 - val_loss : 0.814\n",
            "epoch 6/10 - loss : 0.751 - val_loss : 0.808\n",
            "epoch 7/10 - loss : 0.749 - val_loss : 0.805\n",
            "epoch 8/10 - loss : 0.748 - val_loss : 0.802\n",
            "epoch 9/10 - loss : 0.746 - val_loss : 0.799\n",
            "epoch 10/10 - loss : 0.745 - val_loss : 0.797\n"
          ]
        }
      ],
      "source": [
        "# initialize the model\n",
        "EMF = ExplainableMatrixFactorization(m, n, W, alpha=0.01, beta=0.4, lamb=0.01, k=10)\n",
        "\n",
        "history = EMF.fit(x_train, y_train, epochs=epochs, validation_data=(x_test, y_test))"
      ]
    },
    {
      "cell_type": "code",
      "execution_count": null,
      "metadata": {
        "id": "Bc6F0HWMWbLd"
      },
      "outputs": [
        {
          "name": "stdout",
          "output_type": "stream",
          "text": [
            "validation error : 0.797\n"
          ]
        }
      ],
      "source": [
        "EMF.evaluate(x_test, y_test)"
      ]
    },
    {
      "cell_type": "markdown",
      "metadata": {
        "id": "HP7FBr2HgDoe"
      },
      "source": [
        "**Evaluation on normalized data**"
      ]
    },
    {
      "cell_type": "code",
      "execution_count": null,
      "metadata": {
        "id": "Mp1XcoWTgDog"
      },
      "outputs": [],
      "source": [
        "# load data\n",
        "ratings, movies = ml100k.load()\n",
        "\n",
        "# encode users and items ids\n",
        "ratings, uencoder, iencoder = ids_encoder(ratings)\n",
        "\n",
        "users = sorted(ratings.userid.unique())\n",
        "items = sorted(ratings.itemid.unique())\n",
        "\n",
        "m = len(users)\n",
        "n = len(items)\n",
        "\n",
        "# normalize ratings by substracting means\n",
        "normalized_column_name = \"norm_rating\"\n",
        "ratings = normalized_ratings(ratings, norm_column=normalized_column_name)\n",
        "\n",
        "# get examples as tuples of userids and itemids and labels from normalize ratings\n",
        "raw_examples, raw_labels = get_examples(ratings, labels_column=normalized_column_name)\n",
        "\n",
        "# train test split\n",
        "(x_train, x_test), (y_train, y_test) = train_test_split(examples=raw_examples, labels=raw_labels)"
      ]
    },
    {
      "cell_type": "code",
      "execution_count": null,
      "metadata": {
        "id": "nKL1O2SsgDoh"
      },
      "outputs": [
        {
          "name": "stdout",
          "output_type": "stream",
          "text": [
            "Training EMF\n",
            "k=10 \t alpha=0.022 \t beta=0.65 \t lambda=0.01\n",
            "epoch 1/10 - loss : 0.809 - val_loss : 0.842\n",
            "epoch 2/10 - loss : 0.809 - val_loss : 0.829\n",
            "epoch 3/10 - loss : 0.807 - val_loss : 0.821\n",
            "epoch 4/10 - loss : 0.799 - val_loss : 0.811\n",
            "epoch 5/10 - loss : 0.789 - val_loss : 0.8\n",
            "epoch 6/10 - loss : 0.782 - val_loss : 0.793\n",
            "epoch 7/10 - loss : 0.778 - val_loss : 0.789\n",
            "epoch 8/10 - loss : 0.776 - val_loss : 0.786\n",
            "epoch 9/10 - loss : 0.774 - val_loss : 0.784\n",
            "epoch 10/10 - loss : 0.773 - val_loss : 0.783\n"
          ]
        }
      ],
      "source": [
        "# initialize the model\n",
        "EMF = ExplainableMatrixFactorization(m, n, W, alpha=0.022, beta=0.65, lamb=0.01, k=10)\n",
        "\n",
        "history = EMF.fit(x_train, y_train, epochs=epochs, validation_data=(x_test, y_test))"
      ]
    },
    {
      "cell_type": "markdown",
      "metadata": {
        "id": "O1IYzbV3gDoi"
      },
      "source": [
        "#### MovieLens 1M"
      ]
    },
    {
      "cell_type": "markdown",
      "metadata": {
        "id": "Zz4Huhn2GD-4"
      },
      "source": [
        "**Evaluation on raw data**"
      ]
    },
    {
      "cell_type": "code",
      "execution_count": null,
      "metadata": {
        "id": "o9ozKw3ogDoj"
      },
      "outputs": [],
      "source": [
        "# load data\n",
        "ratings, movies = ml1m.load()\n",
        "\n",
        "# encode users and items ids\n",
        "ratings, uencoder, iencoder = ids_encoder(ratings)\n",
        "\n",
        "users = sorted(ratings.userid.unique())\n",
        "items = sorted(ratings.itemid.unique())\n",
        "\n",
        "m = len(users)\n",
        "n = len(items)\n",
        "\n",
        "# get examples as tuples of userids and itemids and labels from normalize ratings\n",
        "raw_examples, raw_labels = get_examples(ratings)\n",
        "\n",
        "# train test split\n",
        "(x_train, x_test), (y_train, y_test) = train_test_split(examples=raw_examples, labels=raw_labels)"
      ]
    },
    {
      "cell_type": "code",
      "execution_count": null,
      "metadata": {
        "id": "h9IBKiwAgDok"
      },
      "outputs": [
        {
          "name": "stdout",
          "output_type": "stream",
          "text": [
            "Normalize users ratings ...\n",
            "Initialize the similarity model ...\n",
            "Compute nearest neighbors ...\n",
            "User to user recommendation model created with success ...\n",
            "Compute Explainable score. Progress status : 100.0%"
          ]
        }
      ],
      "source": [
        "# create the user to user model for similarity measure\n",
        "usertouser = UserToUser(ratings, movies)\n",
        "\n",
        "# compute explainable score\n",
        "W = explainable_score(usertouser, users, items)"
      ]
    },
    {
      "cell_type": "code",
      "execution_count": null,
      "metadata": {
        "id": "QOyz8rXzgDor"
      },
      "outputs": [
        {
          "name": "stdout",
          "output_type": "stream",
          "text": [
            "Training EMF\n",
            "k=10 \t alpha=0.01 \t beta=0.4 \t lambda=0.01\n",
            "epoch 1/10 - loss : 0.782 - val_loss : 0.807\n",
            "epoch 2/10 - loss : 0.762 - val_loss : 0.781\n",
            "epoch 3/10 - loss : 0.76 - val_loss : 0.775\n",
            "epoch 4/10 - loss : 0.758 - val_loss : 0.771\n",
            "epoch 5/10 - loss : 0.757 - val_loss : 0.769\n",
            "epoch 6/10 - loss : 0.756 - val_loss : 0.767\n",
            "epoch 7/10 - loss : 0.754 - val_loss : 0.764\n",
            "epoch 8/10 - loss : 0.752 - val_loss : 0.762\n",
            "epoch 9/10 - loss : 0.751 - val_loss : 0.761\n",
            "epoch 10/10 - loss : 0.75 - val_loss : 0.76\n"
          ]
        }
      ],
      "source": [
        "# initialize the model\n",
        "EMF = ExplainableMatrixFactorization(m, n, W, alpha=0.01, beta=0.4, lamb=0.01, k=10)\n",
        "\n",
        "history = EMF.fit(x_train, y_train, epochs=epochs, validation_data=(x_test, y_test))"
      ]
    },
    {
      "cell_type": "markdown",
      "metadata": {
        "id": "VtD4fCSigDot"
      },
      "source": [
        "**Evaluation on normalized data**"
      ]
    },
    {
      "cell_type": "code",
      "execution_count": null,
      "metadata": {
        "id": "FEWsFmKNgDot"
      },
      "outputs": [],
      "source": [
        "# load data\n",
        "ratings, movies = ml1m.load()\n",
        "\n",
        "# encode users and items ids\n",
        "ratings, uencoder, iencoder = ids_encoder(ratings)\n",
        "\n",
        "# normalize ratings by substracting means\n",
        "normalized_column_name = \"norm_rating\"\n",
        "ratings = normalized_ratings(ratings, norm_column=normalized_column_name)\n",
        "\n",
        "# get examples as tuples of userids and itemids and labels from normalize ratings\n",
        "raw_examples, raw_labels = get_examples(ratings, labels_column=normalized_column_name)\n",
        "\n",
        "# train test split\n",
        "(x_train, x_test), (y_train, y_test) = train_test_split(examples=raw_examples, labels=raw_labels)"
      ]
    },
    {
      "cell_type": "code",
      "execution_count": null,
      "metadata": {
        "id": "1pUkEWRogDo3"
      },
      "outputs": [
        {
          "name": "stdout",
          "output_type": "stream",
          "text": [
            "Training EMF\n",
            "k=10 \t alpha=0.023 \t beta=0.59 \t lambda=0.01\n",
            "epoch 1/10 - loss : 0.805 - val_loss : 0.814\n",
            "epoch 2/10 - loss : 0.764 - val_loss : 0.77\n",
            "epoch 3/10 - loss : 0.756 - val_loss : 0.762\n",
            "epoch 4/10 - loss : 0.755 - val_loss : 0.759\n",
            "epoch 5/10 - loss : 0.754 - val_loss : 0.759\n",
            "epoch 6/10 - loss : 0.754 - val_loss : 0.758\n",
            "epoch 7/10 - loss : 0.754 - val_loss : 0.758\n",
            "epoch 8/10 - loss : 0.753 - val_loss : 0.758\n",
            "epoch 9/10 - loss : 0.753 - val_loss : 0.758\n",
            "epoch 10/10 - loss : 0.753 - val_loss : 0.758\n"
          ]
        }
      ],
      "source": [
        "# initialize the model\n",
        "EMF = ExplainableMatrixFactorization(m, n, W, alpha=0.023, beta=0.59, lamb=0.01, k=10)\n",
        "\n",
        "history = EMF.fit(x_train, y_train, epochs=epochs, validation_data=(x_test, y_test))"
      ]
    },
    {
      "cell_type": "markdown",
      "metadata": {
        "id": "_K9PoEXsgDo3"
      },
      "source": [
        "### Ratings prediction"
      ]
    },
    {
      "cell_type": "code",
      "execution_count": null,
      "metadata": {
        "id": "M5FpA7T3uA2v"
      },
      "outputs": [
        {
          "data": {
            "text/html": [
              "<div>\n",
              "<style scoped>\n",
              "    .dataframe tbody tr th:only-of-type {\n",
              "        vertical-align: middle;\n",
              "    }\n",
              "\n",
              "    .dataframe tbody tr th {\n",
              "        vertical-align: top;\n",
              "    }\n",
              "\n",
              "    .dataframe thead th {\n",
              "        text-align: right;\n",
              "    }\n",
              "</style>\n",
              "<table border=\"1\" class=\"dataframe\">\n",
              "  <thead>\n",
              "    <tr style=\"text-align: right;\">\n",
              "      <th></th>\n",
              "      <th>itemid</th>\n",
              "      <th>predictions</th>\n",
              "      <th>title</th>\n",
              "      <th>genres</th>\n",
              "    </tr>\n",
              "  </thead>\n",
              "  <tbody>\n",
              "    <tr>\n",
              "      <th>0</th>\n",
              "      <td>3460</td>\n",
              "      <td>4.364036</td>\n",
              "      <td>Hillbillys in a Haunted House (1967)</td>\n",
              "      <td>Comedy</td>\n",
              "    </tr>\n",
              "    <tr>\n",
              "      <th>1</th>\n",
              "      <td>701</td>\n",
              "      <td>4.324177</td>\n",
              "      <td>Daens (1992)</td>\n",
              "      <td>Drama</td>\n",
              "    </tr>\n",
              "    <tr>\n",
              "      <th>2</th>\n",
              "      <td>3057</td>\n",
              "      <td>4.307404</td>\n",
              "      <td>Where's Marlowe? (1999)</td>\n",
              "      <td>Comedy</td>\n",
              "    </tr>\n",
              "    <tr>\n",
              "      <th>3</th>\n",
              "      <td>2214</td>\n",
              "      <td>4.304979</td>\n",
              "      <td>Number Seventeen (1932)</td>\n",
              "      <td>Thriller</td>\n",
              "    </tr>\n",
              "    <tr>\n",
              "      <th>4</th>\n",
              "      <td>1145</td>\n",
              "      <td>4.299559</td>\n",
              "      <td>Snowriders (1996)</td>\n",
              "      <td>Documentary</td>\n",
              "    </tr>\n",
              "    <tr>\n",
              "      <th>5</th>\n",
              "      <td>2258</td>\n",
              "      <td>4.292125</td>\n",
              "      <td>Master Ninja I (1984)</td>\n",
              "      <td>Action</td>\n",
              "    </tr>\n",
              "    <tr>\n",
              "      <th>6</th>\n",
              "      <td>3353</td>\n",
              "      <td>4.281912</td>\n",
              "      <td>Closer You Get, The (2000)</td>\n",
              "      <td>Comedy|Romance</td>\n",
              "    </tr>\n",
              "    <tr>\n",
              "      <th>7</th>\n",
              "      <td>868</td>\n",
              "      <td>4.278937</td>\n",
              "      <td>Death in Brunswick (1991)</td>\n",
              "      <td>Comedy</td>\n",
              "    </tr>\n",
              "    <tr>\n",
              "      <th>8</th>\n",
              "      <td>826</td>\n",
              "      <td>4.269901</td>\n",
              "      <td>Diebinnen (1995)</td>\n",
              "      <td>Drama</td>\n",
              "    </tr>\n",
              "    <tr>\n",
              "      <th>9</th>\n",
              "      <td>3305</td>\n",
              "      <td>4.266769</td>\n",
              "      <td>Bluebeard (1944)</td>\n",
              "      <td>Film-Noir|Horror</td>\n",
              "    </tr>\n",
              "    <tr>\n",
              "      <th>10</th>\n",
              "      <td>2619</td>\n",
              "      <td>4.265997</td>\n",
              "      <td>Mascara (1999)</td>\n",
              "      <td>Drama</td>\n",
              "    </tr>\n",
              "    <tr>\n",
              "      <th>11</th>\n",
              "      <td>763</td>\n",
              "      <td>4.264092</td>\n",
              "      <td>Last of the High Kings, The (a.k.a. Summer Fli...</td>\n",
              "      <td>Drama</td>\n",
              "    </tr>\n",
              "    <tr>\n",
              "      <th>12</th>\n",
              "      <td>1852</td>\n",
              "      <td>4.262517</td>\n",
              "      <td>Love Walked In (1998)</td>\n",
              "      <td>Drama|Thriller</td>\n",
              "    </tr>\n",
              "    <tr>\n",
              "      <th>13</th>\n",
              "      <td>642</td>\n",
              "      <td>4.260353</td>\n",
              "      <td>Roula (1995)</td>\n",
              "      <td>Drama</td>\n",
              "    </tr>\n",
              "    <tr>\n",
              "      <th>14</th>\n",
              "      <td>682</td>\n",
              "      <td>4.258829</td>\n",
              "      <td>Tigrero: A Film That Was Never Made (1994)</td>\n",
              "      <td>Documentary|Drama</td>\n",
              "    </tr>\n",
              "    <tr>\n",
              "      <th>15</th>\n",
              "      <td>792</td>\n",
              "      <td>4.253339</td>\n",
              "      <td>Hungarian Fairy Tale, A (1987)</td>\n",
              "      <td>Fantasy</td>\n",
              "    </tr>\n",
              "    <tr>\n",
              "      <th>16</th>\n",
              "      <td>1316</td>\n",
              "      <td>4.252915</td>\n",
              "      <td>Anna (1996)</td>\n",
              "      <td>Drama</td>\n",
              "    </tr>\n",
              "    <tr>\n",
              "      <th>17</th>\n",
              "      <td>3228</td>\n",
              "      <td>4.245526</td>\n",
              "      <td>Wirey Spindell (1999)</td>\n",
              "      <td>Comedy</td>\n",
              "    </tr>\n",
              "    <tr>\n",
              "      <th>18</th>\n",
              "      <td>853</td>\n",
              "      <td>4.240745</td>\n",
              "      <td>Dingo (1992)</td>\n",
              "      <td>Drama</td>\n",
              "    </tr>\n",
              "    <tr>\n",
              "      <th>19</th>\n",
              "      <td>3172</td>\n",
              "      <td>4.238188</td>\n",
              "      <td>Ulysses (Ulisse) (1954)</td>\n",
              "      <td>Adventure</td>\n",
              "    </tr>\n",
              "    <tr>\n",
              "      <th>20</th>\n",
              "      <td>2254</td>\n",
              "      <td>4.238008</td>\n",
              "      <td>Choices (1981)</td>\n",
              "      <td>Drama</td>\n",
              "    </tr>\n",
              "    <tr>\n",
              "      <th>21</th>\n",
              "      <td>2503</td>\n",
              "      <td>4.234547</td>\n",
              "      <td>Apple, The (Sib) (1998)</td>\n",
              "      <td>Drama</td>\n",
              "    </tr>\n",
              "    <tr>\n",
              "      <th>22</th>\n",
              "      <td>2905</td>\n",
              "      <td>4.224974</td>\n",
              "      <td>Sanjuro (1962)</td>\n",
              "      <td>Action|Adventure</td>\n",
              "    </tr>\n",
              "    <tr>\n",
              "      <th>23</th>\n",
              "      <td>744</td>\n",
              "      <td>4.224278</td>\n",
              "      <td>Brothers in Trouble (1995)</td>\n",
              "      <td>Drama</td>\n",
              "    </tr>\n",
              "    <tr>\n",
              "      <th>24</th>\n",
              "      <td>757</td>\n",
              "      <td>4.224226</td>\n",
              "      <td>Ashes of Time (1994)</td>\n",
              "      <td>Drama</td>\n",
              "    </tr>\n",
              "    <tr>\n",
              "      <th>25</th>\n",
              "      <td>858</td>\n",
              "      <td>4.223665</td>\n",
              "      <td>Godfather, The (1972)</td>\n",
              "      <td>Action|Crime|Drama</td>\n",
              "    </tr>\n",
              "    <tr>\n",
              "      <th>26</th>\n",
              "      <td>789</td>\n",
              "      <td>4.220788</td>\n",
              "      <td>I, Worst of All (Yo, la peor de todas) (1990)</td>\n",
              "      <td>Drama</td>\n",
              "    </tr>\n",
              "    <tr>\n",
              "      <th>27</th>\n",
              "      <td>3748</td>\n",
              "      <td>4.216508</td>\n",
              "      <td>Match, The (1999)</td>\n",
              "      <td>Comedy|Romance</td>\n",
              "    </tr>\n",
              "    <tr>\n",
              "      <th>28</th>\n",
              "      <td>790</td>\n",
              "      <td>4.216455</td>\n",
              "      <td>An Unforgettable Summer (1994)</td>\n",
              "      <td>Drama</td>\n",
              "    </tr>\n",
              "    <tr>\n",
              "      <th>29</th>\n",
              "      <td>745</td>\n",
              "      <td>4.215986</td>\n",
              "      <td>Close Shave, A (1995)</td>\n",
              "      <td>Animation|Comedy|Thriller</td>\n",
              "    </tr>\n",
              "  </tbody>\n",
              "</table>\n",
              "</div>"
            ],
            "text/plain": [
              "    itemid  predictions                                              title  \\\n",
              "0     3460     4.364036               Hillbillys in a Haunted House (1967)   \n",
              "1      701     4.324177                                       Daens (1992)   \n",
              "2     3057     4.307404                            Where's Marlowe? (1999)   \n",
              "3     2214     4.304979                            Number Seventeen (1932)   \n",
              "4     1145     4.299559                                  Snowriders (1996)   \n",
              "5     2258     4.292125                              Master Ninja I (1984)   \n",
              "6     3353     4.281912                         Closer You Get, The (2000)   \n",
              "7      868     4.278937                          Death in Brunswick (1991)   \n",
              "8      826     4.269901                                   Diebinnen (1995)   \n",
              "9     3305     4.266769                                   Bluebeard (1944)   \n",
              "10    2619     4.265997                                     Mascara (1999)   \n",
              "11     763     4.264092  Last of the High Kings, The (a.k.a. Summer Fli...   \n",
              "12    1852     4.262517                              Love Walked In (1998)   \n",
              "13     642     4.260353                                       Roula (1995)   \n",
              "14     682     4.258829         Tigrero: A Film That Was Never Made (1994)   \n",
              "15     792     4.253339                     Hungarian Fairy Tale, A (1987)   \n",
              "16    1316     4.252915                                        Anna (1996)   \n",
              "17    3228     4.245526                              Wirey Spindell (1999)   \n",
              "18     853     4.240745                                       Dingo (1992)   \n",
              "19    3172     4.238188                            Ulysses (Ulisse) (1954)   \n",
              "20    2254     4.238008                                     Choices (1981)   \n",
              "21    2503     4.234547                            Apple, The (Sib) (1998)   \n",
              "22    2905     4.224974                                     Sanjuro (1962)   \n",
              "23     744     4.224278                         Brothers in Trouble (1995)   \n",
              "24     757     4.224226                               Ashes of Time (1994)   \n",
              "25     858     4.223665                              Godfather, The (1972)   \n",
              "26     789     4.220788      I, Worst of All (Yo, la peor de todas) (1990)   \n",
              "27    3748     4.216508                                  Match, The (1999)   \n",
              "28     790     4.216455                     An Unforgettable Summer (1994)   \n",
              "29     745     4.215986                              Close Shave, A (1995)   \n",
              "\n",
              "                       genres  \n",
              "0                      Comedy  \n",
              "1                       Drama  \n",
              "2                      Comedy  \n",
              "3                    Thriller  \n",
              "4                 Documentary  \n",
              "5                      Action  \n",
              "6              Comedy|Romance  \n",
              "7                      Comedy  \n",
              "8                       Drama  \n",
              "9            Film-Noir|Horror  \n",
              "10                      Drama  \n",
              "11                      Drama  \n",
              "12             Drama|Thriller  \n",
              "13                      Drama  \n",
              "14          Documentary|Drama  \n",
              "15                    Fantasy  \n",
              "16                      Drama  \n",
              "17                     Comedy  \n",
              "18                      Drama  \n",
              "19                  Adventure  \n",
              "20                      Drama  \n",
              "21                      Drama  \n",
              "22           Action|Adventure  \n",
              "23                      Drama  \n",
              "24                      Drama  \n",
              "25         Action|Crime|Drama  \n",
              "26                      Drama  \n",
              "27             Comedy|Romance  \n",
              "28                      Drama  \n",
              "29  Animation|Comedy|Thriller  "
            ]
          },
          "execution_count": 17,
          "metadata": {
            "tags": []
          },
          "output_type": "execute_result"
        }
      ],
      "source": [
        "# get list of top N items with their corresponding predicted ratings\n",
        "userid = 42\n",
        "recommended_items, predictions = EMF.recommend(userid=userid)\n",
        "\n",
        "# find corresponding movie titles\n",
        "top_N = list(zip(recommended_items,predictions))\n",
        "top_N = pd.DataFrame(top_N, columns=['itemid','predictions'])\n",
        "top_N.predictions = top_N.predictions + ratings.loc[ratings.userid==userid].rating_mean.values[0]\n",
        "List = pd.merge(top_N, movies, on='itemid', how='inner')\n",
        "\n",
        "# show the list\n",
        "List"
      ]
    },
    {
      "cell_type": "markdown",
      "metadata": {
        "id": "ZPeVMap_wu2T"
      },
      "source": [
        "**Note**: The recommendation list may content items already purchased by the user. This is just an illustration of how to implement matrix factorization recommender system. You can optimize the recommended list and return the top rated items that the user has not already purchased."
      ]
    },
    {
      "cell_type": "markdown",
      "metadata": {
        "id": "FP65IDNNgDo7"
      },
      "source": [
        "### Putting all together\n",
        "\n",
        "This repository covers the following algorithms for collaborative filtering\n",
        "\n",
        "1. User-based CF\n",
        "2. Item-based CF\n",
        "3. Singular Value Decomposition (SVD)\n",
        "4. Matrix Factorization (MF)\n",
        "5. Non-negative Matrix Factorization (NMF)\n",
        "6. Explainable Matrix Factorization (EMF)"
      ]
    },
    {
      "cell_type": "markdown",
      "metadata": {
        "id": "OzGirwTvnRZc"
      },
      "source": [
        "## Part 8 - Evaluation\n",
        "> Collaborative Filtering on MovieLens Latest-small Part 8 - Evaluation of various methods."
      ]
    },
    {
      "cell_type": "code",
      "execution_count": null,
      "metadata": {
        "id": "hvZ1mZ4YgDzv"
      },
      "outputs": [],
      "source": [
        "import os\n",
        "\n",
        "if not (os.path.exists(\"recsys.zip\") or os.path.exists(\"recsys\")):\n",
        "    !wget https://github.com/nzhinusoftcm/review-on-collaborative-filtering/raw/master/recsys.zip    \n",
        "    !unzip recsys.zip"
      ]
    },
    {
      "cell_type": "markdown",
      "metadata": {
        "id": "P2LwPqpwgD14"
      },
      "source": [
        "#### requirements\n",
        "\n",
        "```\n",
        "matplotlib==3.2.2\n",
        "numpy==1.19.2\n",
        "pandas==1.0.5\n",
        "python==3.7\n",
        "scikit-learn==0.24.1\n",
        "scikit-surprise==1.1.1\n",
        "scipy==1.6.2\n",
        "```"
      ]
    },
    {
      "cell_type": "code",
      "execution_count": null,
      "metadata": {
        "id": "9i69DyAdgD1_"
      },
      "outputs": [],
      "source": [
        "from recsys.memories.UserToUser import UserToUser\n",
        "from recsys.memories.ItemToItem import ItemToItem\n",
        "\n",
        "from recsys.models.MatrixFactorization import MF\n",
        "from recsys.models.ExplainableMF import EMF, explainable_score\n",
        "\n",
        "from recsys.preprocessing import normalized_ratings\n",
        "from recsys.preprocessing import train_test_split\n",
        "from recsys.preprocessing import rating_matrix\n",
        "from recsys.preprocessing import scale_ratings\n",
        "from recsys.preprocessing import mean_ratings\n",
        "from recsys.preprocessing import get_examples\n",
        "from recsys.preprocessing import ids_encoder\n",
        "\n",
        "from recsys.datasets import ml100k\n",
        "from recsys.datasets import ml1m\n",
        "\n",
        "from sklearn.preprocessing import LabelEncoder\n",
        "\n",
        "import matplotlib.pyplot as plt\n",
        "import pandas as pd\n",
        "import numpy as np\n",
        "\n",
        "import os"
      ]
    },
    {
      "cell_type": "markdown",
      "metadata": {
        "id": "GJOZneMKgD2D"
      },
      "source": [
        "### Results on MovieLens 100k"
      ]
    },
    {
      "cell_type": "markdown",
      "metadata": {
        "id": "fRPodc5bgD2E"
      },
      "source": [
        "#### User-based CF"
      ]
    },
    {
      "cell_type": "code",
      "execution_count": null,
      "metadata": {
        "id": "x3XkiZBzgD2G"
      },
      "outputs": [
        {
          "name": "stdout",
          "output_type": "stream",
          "text": [
            "Normalize users ratings ...\n",
            "Initialize the similarity model ...\n",
            "Compute nearest neighbors ...\n",
            "User to user recommendation model created with success ...\n",
            "==========================\n",
            "Evaluate the model on 10000 test data ...\n",
            "\n",
            "MAE : 0.8125945111976461\n"
          ]
        },
        {
          "data": {
            "text/plain": [
              "0.8125945111976461"
            ]
          },
          "execution_count": 3,
          "metadata": {
            "tags": []
          },
          "output_type": "execute_result"
        }
      ],
      "source": [
        "## load data\n",
        "ratings, movies = ml100k.load()\n",
        "\n",
        "## prepare data\n",
        "ratings, uencoder, iencoder = ids_encoder(ratings)\n",
        "\n",
        "## get examples as tuples of userids and itemids and labels from normalize ratings\n",
        "raw_examples, raw_labels = get_examples(ratings, labels_column='rating')\n",
        "\n",
        "## train test split\n",
        "(x_train, x_test), (y_train, y_test) = train_test_split(examples=raw_examples, labels=raw_labels)\n",
        "\n",
        "## evaluate with Euclidean distance\n",
        "usertouser = UserToUser(ratings, movies, metric='euclidean')\n",
        "print(\"==========================\")\n",
        "usertouser.evaluate(x_test, y_test)"
      ]
    },
    {
      "cell_type": "code",
      "execution_count": null,
      "metadata": {
        "id": "dYT2HviSgD2J"
      },
      "outputs": [
        {
          "name": "stdout",
          "output_type": "stream",
          "text": [
            "Normalize users ratings ...\n",
            "Initialize the similarity model ...\n",
            "Compute nearest neighbors ...\n",
            "User to user recommendation model created with success ...\n",
            "=========================\n",
            "Evaluate the model on 10000 test data ...\n",
            "\n",
            "MAE : 0.7505910931068639\n"
          ]
        },
        {
          "data": {
            "text/plain": [
              "0.7505910931068639"
            ]
          },
          "execution_count": 4,
          "metadata": {
            "tags": []
          },
          "output_type": "execute_result"
        }
      ],
      "source": [
        "## evaluate with cosine similarity\n",
        "usertouser = UserToUser(ratings, movies, metric='cosine')\n",
        "print(\"=========================\")\n",
        "usertouser.evaluate(x_test, y_test)"
      ]
    },
    {
      "cell_type": "markdown",
      "metadata": {
        "id": "3o9VTWDPgD2T"
      },
      "source": [
        "#### Item-based CF"
      ]
    },
    {
      "cell_type": "code",
      "execution_count": null,
      "metadata": {
        "id": "f3C4IRlrgD2V"
      },
      "outputs": [
        {
          "name": "stdout",
          "output_type": "stream",
          "text": [
            "Normalize ratings ...\n",
            "Create the similarity model ...\n",
            "Compute nearest neighbors ...\n",
            "Item to item recommendation model created with success ...\n",
            "==================\n",
            "Evaluate the model on 10000 test data ...\n",
            "\n",
            "MAE : 0.507794195659005\n"
          ]
        },
        {
          "data": {
            "text/plain": [
              "0.507794195659005"
            ]
          },
          "execution_count": 5,
          "metadata": {
            "tags": []
          },
          "output_type": "execute_result"
        }
      ],
      "source": [
        "## load data\n",
        "ratings, movies = ml100k.load()\n",
        "\n",
        "## prepare data\n",
        "ratings, uencoder, iencoder = ids_encoder(ratings)\n",
        "\n",
        "## get examples as tuples of userids and itemids and labels from normalize ratings\n",
        "raw_examples, raw_labels = get_examples(ratings, labels_column='rating')\n",
        "\n",
        "## train test split\n",
        "(x_train, x_test), (y_train, y_test) = train_test_split(examples=raw_examples, labels=raw_labels)\n",
        "\n",
        "## evaluation with cosine similarity\n",
        "itemtoitem = ItemToItem(ratings, movies, metric='cosine')\n",
        "print(\"==================\")\n",
        "itemtoitem.evaluate(x_test, y_test)"
      ]
    },
    {
      "cell_type": "markdown",
      "metadata": {
        "id": "Yd--F3UEgD2X"
      },
      "source": [
        "**Evaluation with Euclidean distance**"
      ]
    },
    {
      "cell_type": "code",
      "execution_count": null,
      "metadata": {
        "id": "uaBmWUMOgD2Y"
      },
      "outputs": [
        {
          "name": "stdout",
          "output_type": "stream",
          "text": [
            "Normalize ratings ...\n",
            "Create the similarity model ...\n",
            "Compute nearest neighbors ...\n",
            "Item to item recommendation model created with success ...\n",
            "==================\n",
            "Evaluate the model on 10000 test data ...\n",
            "\n",
            "MAE : 0.8277111416143341\n"
          ]
        },
        {
          "data": {
            "text/plain": [
              "0.8277111416143341"
            ]
          },
          "execution_count": 6,
          "metadata": {
            "tags": []
          },
          "output_type": "execute_result"
        }
      ],
      "source": [
        "## evaluation with Euclidean distance\n",
        "itemtoitem = ItemToItem(ratings, movies, metric='euclidean')\n",
        "print(\"==================\")\n",
        "itemtoitem.evaluate(x_test, y_test)"
      ]
    },
    {
      "cell_type": "markdown",
      "metadata": {
        "id": "B3I2hmNfgD2Z"
      },
      "source": [
        "#### Matrix Factorization"
      ]
    },
    {
      "cell_type": "code",
      "execution_count": null,
      "metadata": {
        "id": "EhXhkFB-gD2Z"
      },
      "outputs": [],
      "source": [
        "epochs = 10"
      ]
    },
    {
      "cell_type": "code",
      "execution_count": null,
      "metadata": {
        "id": "eToztgR3gD2a"
      },
      "outputs": [
        {
          "name": "stdout",
          "output_type": "stream",
          "text": [
            "Training Matrix Factorization Model ...\n",
            "k=10 \t alpha=0.01 \t lambda=1.5\n",
            "epoch 1/10 - loss : 2.734 - val_loss : 2.779\n",
            "epoch 2/10 - loss : 1.764 - val_loss : 1.794\n",
            "epoch 3/10 - loss : 1.592 - val_loss : 1.614\n",
            "epoch 4/10 - loss : 1.538 - val_loss : 1.556\n",
            "epoch 5/10 - loss : 1.515 - val_loss : 1.531\n",
            "epoch 6/10 - loss : 1.503 - val_loss : 1.517\n",
            "epoch 7/10 - loss : 1.496 - val_loss : 1.509\n",
            "epoch 8/10 - loss : 1.491 - val_loss : 1.504\n",
            "epoch 9/10 - loss : 1.488 - val_loss : 1.5\n",
            "epoch 10/10 - loss : 1.486 - val_loss : 1.497\n"
          ]
        }
      ],
      "source": [
        "## load the ml100k dataset\n",
        "ratings, movies = ml100k.load()\n",
        "\n",
        "ratings, uencoder, iencoder = ids_encoder(ratings)\n",
        "\n",
        "m = ratings.userid.nunique()   ## total number of users\n",
        "n = ratings.itemid.nunique()   ## total number of items\n",
        "\n",
        "## get examples as tuples of userids and itemids and labels from normalize ratings\n",
        "raw_examples, raw_labels = get_examples(ratings)\n",
        "\n",
        "## train test split\n",
        "(x_train, x_test), (y_train, y_test) = train_test_split(examples=raw_examples, labels=raw_labels)\n",
        "\n",
        "## create and train the model\n",
        "mf = MF(m, n, k=10, alpha=0.01, lamb=1.5)\n",
        "\n",
        "## fit the model on the training set\n",
        "history = mf.fit(x_train, y_train, epochs=epochs, validation_data=(x_test, y_test))"
      ]
    },
    {
      "cell_type": "markdown",
      "metadata": {
        "id": "xluvzLf0gD2d"
      },
      "source": [
        "#### Non-negative Matrix Factorization"
      ]
    },
    {
      "cell_type": "code",
      "execution_count": null,
      "metadata": {
        "id": "mNqyp6nogD2i"
      },
      "outputs": [
        {
          "name": "stdout",
          "output_type": "stream",
          "text": [
            "Evaluating MAE of algorithm NMF on 5 split(s).\n",
            "\n",
            "                  Fold 1  Fold 2  Fold 3  Fold 4  Fold 5  Mean    Std     \n",
            "MAE (testset)     0.9615  0.9501  0.9548  0.9582  0.9675  0.9584  0.0059  \n",
            "Fit time          0.67    0.72    0.79    0.72    0.72    0.72    0.04    \n",
            "Test time         0.15    0.09    0.16    0.10    0.14    0.13    0.03    \n"
          ]
        }
      ],
      "source": [
        "from surprise import NMF\n",
        "from surprise import Dataset\n",
        "from surprise.model_selection import cross_validate\n",
        "\n",
        "## Load the movielens-100k dataset (download it if needed).\n",
        "data = Dataset.load_builtin('ml-100k')\n",
        "\n",
        "## Use the NMF algorithm.\n",
        "nmf = NMF(n_factors=10, n_epochs=10)\n",
        "\n",
        "## Run 5-fold cross-validation and print results.\n",
        "history = cross_validate(nmf, data, measures=['MAE'], cv=5, verbose=True)"
      ]
    },
    {
      "cell_type": "markdown",
      "metadata": {
        "id": "IKK2gUjNgD2k"
      },
      "source": [
        "#### Explainable Matrix Factorization"
      ]
    },
    {
      "cell_type": "code",
      "execution_count": null,
      "metadata": {
        "id": "ld82I8nhgD2l"
      },
      "outputs": [
        {
          "name": "stdout",
          "output_type": "stream",
          "text": [
            "Normalize users ratings ...\n",
            "Initialize the similarity model ...\n",
            "Compute nearest neighbors ...\n",
            "User to user recommendation model created with success ...\n",
            "Compute explainable scores ...\n",
            "===================\n",
            "Training EMF\n",
            "k=10 \t alpha=0.01 \t beta=0.4 \t lambda=0.01\n",
            "epoch 1/10 - loss : 0.922 - val_loss : 1.036\n",
            "epoch 2/10 - loss : 0.79 - val_loss : 0.873\n",
            "epoch 3/10 - loss : 0.766 - val_loss : 0.837\n",
            "epoch 4/10 - loss : 0.757 - val_loss : 0.822\n",
            "epoch 5/10 - loss : 0.753 - val_loss : 0.814\n",
            "epoch 6/10 - loss : 0.751 - val_loss : 0.808\n",
            "epoch 7/10 - loss : 0.749 - val_loss : 0.805\n",
            "epoch 8/10 - loss : 0.748 - val_loss : 0.802\n",
            "epoch 9/10 - loss : 0.746 - val_loss : 0.799\n",
            "epoch 10/10 - loss : 0.745 - val_loss : 0.797\n",
            "===================\n",
            "MAE : 0.797\n"
          ]
        },
        {
          "data": {
            "text/plain": [
              "0.7973478247232839"
            ]
          },
          "execution_count": 10,
          "metadata": {
            "tags": []
          },
          "output_type": "execute_result"
        }
      ],
      "source": [
        "## load data\n",
        "ratings, movies = ml100k.load()\n",
        "\n",
        "## encode users and items ids\n",
        "ratings, uencoder, iencoder = ids_encoder(ratings)\n",
        "\n",
        "users = sorted(ratings.userid.unique())\n",
        "items = sorted(ratings.itemid.unique())\n",
        "\n",
        "m = len(users)\n",
        "n = len(items)\n",
        "\n",
        "## get examples as tuples of userids and itemids and labels from normalize ratings\n",
        "raw_examples, raw_labels = get_examples(ratings)\n",
        "\n",
        "## train test split\n",
        "(x_train, x_test), (y_train, y_test) = train_test_split(examples=raw_examples, labels=raw_labels)\n",
        "\n",
        "## create the user to user model for similarity measure\n",
        "usertouser = UserToUser(ratings, movies)\n",
        "\n",
        "## compute explainable score\n",
        "W = explainable_score(usertouser, users, items)\n",
        "\n",
        "print(\"===================\")\n",
        "## initialize the model\n",
        "emf = EMF(m, n, W, alpha=0.01, beta=0.4, lamb=0.01, k=10)\n",
        "\n",
        "history = emf.fit(x_train, y_train, epochs=epochs, validation_data=(x_test, y_test))\n",
        "\n",
        "print(\"===================\")\n",
        "emf.evaluate(x_test, y_test)"
      ]
    },
    {
      "cell_type": "markdown",
      "metadata": {
        "id": "ff9GWpCDgD2o"
      },
      "source": [
        "### Results on MovieLens 1M (ML-1M)"
      ]
    },
    {
      "cell_type": "markdown",
      "metadata": {
        "id": "Oko1CEP3gD2p"
      },
      "source": [
        "#### User-based CF"
      ]
    },
    {
      "cell_type": "code",
      "execution_count": null,
      "metadata": {
        "id": "Uv2JOR4ngD2p"
      },
      "outputs": [
        {
          "name": "stdout",
          "output_type": "stream",
          "text": [
            "Normalize users ratings ...\n",
            "Initialize the similarity model ...\n",
            "Compute nearest neighbors ...\n",
            "User to user recommendation model created with success ...\n",
            "==========================\n",
            "Evaluate the model on 100021 test data ...\n",
            "\n",
            "MAE : 0.732267005840993\n"
          ]
        },
        {
          "data": {
            "text/plain": [
              "0.732267005840993"
            ]
          },
          "execution_count": 11,
          "metadata": {
            "tags": []
          },
          "output_type": "execute_result"
        }
      ],
      "source": [
        "## load ml100k ratings\n",
        "ratings, movies = ml1m.load()\n",
        "\n",
        "## prepare data\n",
        "ratings, uencoder, iencoder = ids_encoder(ratings)\n",
        "\n",
        "## get examples as tuples of userids and itemids and labels from normalize ratings\n",
        "raw_examples, raw_labels = get_examples(ratings, labels_column='rating')\n",
        "\n",
        "## train test split\n",
        "(x_train, x_test), (y_train, y_test) = train_test_split(examples=raw_examples, labels=raw_labels)\n",
        "\n",
        "## metric : cosine\n",
        "\n",
        "## create the user-based CF\n",
        "usertouser = UserToUser(ratings, movies, k=20, metric='cosine')\n",
        "\n",
        "## evaluate the user-based CF on the ml1m test data\n",
        "print(\"==========================\")\n",
        "usertouser.evaluate(x_test, y_test)"
      ]
    },
    {
      "cell_type": "code",
      "execution_count": null,
      "metadata": {
        "id": "qXrhLr03gD3E"
      },
      "outputs": [
        {
          "name": "stdout",
          "output_type": "stream",
          "text": [
            "Normalize users ratings ...\n",
            "Initialize the similarity model ...\n",
            "Compute nearest neighbors ...\n",
            "User to user recommendation model created with success ...\n",
            "==========================\n",
            "Evaluate the model on 100021 test data ...\n",
            "\n",
            "MAE : 0.8069332535426615\n"
          ]
        },
        {
          "data": {
            "text/plain": [
              "0.8069332535426615"
            ]
          },
          "execution_count": 12,
          "metadata": {
            "tags": []
          },
          "output_type": "execute_result"
        }
      ],
      "source": [
        "## metric : euclidean\n",
        "\n",
        "## create the user-based CF\n",
        "usertouser = UserToUser(ratings, movies, k=20, metric='euclidean')\n",
        "\n",
        "## evaluate the user-based CF on the ml1m test data\n",
        "print(\"==========================\")\n",
        "usertouser.evaluate(x_test, y_test)"
      ]
    },
    {
      "cell_type": "markdown",
      "metadata": {
        "id": "3Aw4Zdq0gD3F"
      },
      "source": [
        "#### Item-based CF"
      ]
    },
    {
      "cell_type": "markdown",
      "metadata": {
        "id": "CnEbPSdzgD6L"
      },
      "source": [
        "**Cosine similarity**"
      ]
    },
    {
      "cell_type": "code",
      "execution_count": null,
      "metadata": {
        "id": "Z8SN5rHEgD6M"
      },
      "outputs": [
        {
          "name": "stdout",
          "output_type": "stream",
          "text": [
            "Normalize ratings ...\n",
            "Create the similarity model ...\n",
            "Compute nearest neighbors ...\n",
            "Item to item recommendation model created with success ...\n",
            "==========================\n",
            "Evaluate the model on 100021 test data ...\n",
            "\n",
            "MAE : 0.42514728655396045\n"
          ]
        },
        {
          "data": {
            "text/plain": [
              "0.42514728655396045"
            ]
          },
          "execution_count": 13,
          "metadata": {
            "tags": []
          },
          "output_type": "execute_result"
        }
      ],
      "source": [
        "itemtoitem = ItemToItem(ratings, movies, metric='cosine')\n",
        "print(\"==========================\")\n",
        "itemtoitem.evaluate(x_test, y_test)"
      ]
    },
    {
      "cell_type": "markdown",
      "metadata": {
        "id": "kMHfDnlsgD6N"
      },
      "source": [
        "**Euclidean distance**"
      ]
    },
    {
      "cell_type": "code",
      "execution_count": null,
      "metadata": {
        "id": "GSddwJXFgD6O"
      },
      "outputs": [
        {
          "name": "stdout",
          "output_type": "stream",
          "text": [
            "Normalize ratings ...\n",
            "Create the similarity model ...\n",
            "Compute nearest neighbors ...\n",
            "Item to item recommendation model created with success ...\n",
            "==========================\n",
            "Evaluate the model on 100021 test data ...\n",
            "\n",
            "MAE : 0.82502173206615\n"
          ]
        },
        {
          "data": {
            "text/plain": [
              "0.82502173206615"
            ]
          },
          "execution_count": 14,
          "metadata": {
            "tags": []
          },
          "output_type": "execute_result"
        }
      ],
      "source": [
        "itemtoitem = ItemToItem(ratings, movies, metric='euclidean')\n",
        "print(\"==========================\")\n",
        "itemtoitem.evaluate(x_test, y_test)"
      ]
    },
    {
      "cell_type": "markdown",
      "metadata": {
        "id": "VPjmbrCigD6P"
      },
      "source": [
        "#### Matrix Factorization"
      ]
    },
    {
      "cell_type": "code",
      "execution_count": null,
      "metadata": {
        "id": "kLtNjj5YgD6P"
      },
      "outputs": [
        {
          "name": "stdout",
          "output_type": "stream",
          "text": [
            "Training Matrix Factorization Model ...\n",
            "k=10 \t alpha=0.01 \t lambda=1.5\n",
            "epoch 1/10 - loss : 1.713 - val_loss : 1.718\n",
            "epoch 2/10 - loss : 1.523 - val_loss : 1.526\n",
            "epoch 3/10 - loss : 1.496 - val_loss : 1.498\n",
            "epoch 4/10 - loss : 1.489 - val_loss : 1.489\n",
            "epoch 5/10 - loss : 1.485 - val_loss : 1.486\n",
            "epoch 6/10 - loss : 1.484 - val_loss : 1.484\n",
            "epoch 7/10 - loss : 1.483 - val_loss : 1.483\n",
            "epoch 8/10 - loss : 1.483 - val_loss : 1.483\n",
            "epoch 9/10 - loss : 1.482 - val_loss : 1.482\n",
            "epoch 10/10 - loss : 1.482 - val_loss : 1.482\n",
            "===================\n",
            "validation error : 1.482\n"
          ]
        },
        {
          "data": {
            "text/plain": [
              "1.4820034560467208"
            ]
          },
          "execution_count": 15,
          "metadata": {
            "tags": []
          },
          "output_type": "execute_result"
        }
      ],
      "source": [
        "## load the ml1m dataset\n",
        "ratings, movies = ml1m.load()\n",
        "\n",
        "ratings, uencoder, iencoder = ids_encoder(ratings)\n",
        "\n",
        "m = ratings.userid.nunique()   ## total number of users\n",
        "n = ratings.itemid.nunique()   ## total number of items\n",
        "\n",
        "## get examples as tuples of userids and itemids and labels from normalize ratings\n",
        "raw_examples, raw_labels = get_examples(ratings)\n",
        "\n",
        "## train test split\n",
        "(x_train, x_test), (y_train, y_test) = train_test_split(examples=raw_examples, labels=raw_labels)\n",
        "\n",
        "## create the model\n",
        "model = MF(m, n, k=10, alpha=0.01, lamb=1.5)\n",
        "\n",
        "## fit the model on the training set\n",
        "history = model.fit(x_train, y_train, epochs=epochs, validation_data=(x_test, y_test))\n",
        "\n",
        "print(\"===================\")\n",
        "model.evaluate(x_test, y_test)"
      ]
    },
    {
      "cell_type": "markdown",
      "metadata": {
        "id": "Km6USAATgD6Q"
      },
      "source": [
        "#### Non-negative Matrix Factorization"
      ]
    },
    {
      "cell_type": "code",
      "execution_count": null,
      "metadata": {
        "id": "mvTGQF7AgD6R"
      },
      "outputs": [
        {
          "name": "stdout",
          "output_type": "stream",
          "text": [
            "Evaluating MAE of algorithm NMF on 5 split(s).\n",
            "\n",
            "                  Fold 1  Fold 2  Fold 3  Fold 4  Fold 5  Mean    Std     \n",
            "MAE (testset)     0.9435  0.9456  0.9527  0.9546  0.9524  0.9498  0.0044  \n",
            "Fit time          6.35    6.51    6.52    6.52    6.55    6.49    0.07    \n",
            "Test time         1.20    1.47    1.46    1.47    1.47    1.42    0.11    \n"
          ]
        }
      ],
      "source": [
        "from surprise import NMF\n",
        "from surprise import Dataset\n",
        "from surprise.model_selection import cross_validate\n",
        "\n",
        "## Load the movielens-100k dataset (download it if needed).\n",
        "data = Dataset.load_builtin('ml-1m')\n",
        "\n",
        "## Use the NMF algorithm.\n",
        "nmf = NMF(n_factors=10, n_epochs=10)\n",
        "\n",
        "## Run 5-fold cross-validation and print results.\n",
        "history = cross_validate(nmf, data, measures=['MAE'], cv=5, verbose=True)"
      ]
    },
    {
      "cell_type": "markdown",
      "metadata": {
        "id": "umKwEF4kgD6T"
      },
      "source": [
        "#### Explainable Matrix Factorization"
      ]
    },
    {
      "cell_type": "code",
      "execution_count": null,
      "metadata": {
        "id": "l-M9dCdQgD6U"
      },
      "outputs": [
        {
          "name": "stdout",
          "output_type": "stream",
          "text": [
            "Normalize users ratings ...\n",
            "Initialize the similarity model ...\n",
            "Compute nearest neighbors ...\n",
            "User to user recommendation model created with success ...\n",
            "Compute explainable scores ...\n",
            "Training EMF\n",
            "k=10 \t alpha=0.01 \t beta=0.4 \t lambda=0.01\n",
            "epoch 1/10 - loss : 0.782 - val_loss : 0.807\n",
            "epoch 2/10 - loss : 0.762 - val_loss : 0.781\n",
            "epoch 3/10 - loss : 0.76 - val_loss : 0.775\n",
            "epoch 4/10 - loss : 0.758 - val_loss : 0.771\n",
            "epoch 5/10 - loss : 0.757 - val_loss : 0.769\n",
            "epoch 6/10 - loss : 0.756 - val_loss : 0.767\n",
            "epoch 7/10 - loss : 0.754 - val_loss : 0.764\n",
            "epoch 8/10 - loss : 0.752 - val_loss : 0.762\n",
            "epoch 9/10 - loss : 0.751 - val_loss : 0.761\n",
            "epoch 10/10 - loss : 0.75 - val_loss : 0.76\n"
          ]
        }
      ],
      "source": [
        "## load data\n",
        "ratings, movies = ml1m.load()\n",
        "\n",
        "## encode users and items ids\n",
        "ratings, uencoder, iencoder = ids_encoder(ratings)\n",
        "\n",
        "users = sorted(ratings.userid.unique())\n",
        "items = sorted(ratings.itemid.unique())\n",
        "\n",
        "m = len(users)\n",
        "n = len(items)\n",
        "\n",
        "## get examples as tuples of userids and itemids and labels from normalize ratings\n",
        "raw_examples, raw_labels = get_examples(ratings)\n",
        "\n",
        "## train test split\n",
        "(x_train, x_test), (y_train, y_test) = train_test_split(examples=raw_examples, labels=raw_labels)\n",
        "\n",
        "## create the user to user model for similarity measure\n",
        "usertouser = UserToUser(ratings, movies)\n",
        "\n",
        "## compute explainable score\n",
        "W = explainable_score(usertouser, users, items)\n",
        "\n",
        "## initialize the model\n",
        "emf = EMF(m, n, W, alpha=0.01, beta=0.4, lamb=0.01, k=10)\n",
        "\n",
        "history = emf.fit(x_train, y_train, epochs=epochs, validation_data=(x_test, y_test))"
      ]
    },
    {
      "cell_type": "markdown",
      "metadata": {
        "id": "7I741g3dgD6V"
      },
      "source": [
        "### Summary\n",
        "\n",
        "<center> <b> MAE comparison between User-based and Item-based CF </b> </center>\n",
        "\n",
        "|   Metric  | Dataset | User-based | Item-based |\n",
        "|:---------:|:-------:|:----------:|:----------:|\n",
        "| Euclidean | ML-100k |    0.81    |    0.83    |\n",
        "| Euclidean |  ML-1M  |    0.81    |    0.82    |\n",
        "|   Cosine  | ML-100k |    0.75    |    0.51    |\n",
        "|   Cosine  |  ML-1M  |    0.73    |    0.42    |\n",
        "\n",
        "\n",
        "---\n",
        "\n",
        "\n",
        "<center> <b> MAE comparison between MF, NMF and EMF </b> </center>\n",
        "\n",
        "|  Preprocessing  | Dataset |   MF  |   NMF  | EMF   |\n",
        "|:---------------:|:-------:|:-----:|:------:|-------|\n",
        "|     Raw data    | ML-100k | 1.497 |  0.951 | 0.797 |\n",
        "|     Raw data    |  ML-1M  | 1.482 | 0.9567 | 0.76  |\n",
        "| Normalized data | ML-100k | 0.828 |   ---  | 0.783 |\n",
        "| Normalized data |  ML-1M  | 0.825 |   ---  | 0.758 |\n"
      ]
    }
  ],
  "metadata": {
    "colab": {
      "collapsed_sections": [],
      "name": "T424437_Collaborative_Filtering_on_ML_latest_small.ipynb",
      "toc_visible": true
    },
    "kernelspec": {
      "display_name": "Python 3",
      "name": "python3"
    }
  },
  "nbformat": 4,
  "nbformat_minor": 0
}
