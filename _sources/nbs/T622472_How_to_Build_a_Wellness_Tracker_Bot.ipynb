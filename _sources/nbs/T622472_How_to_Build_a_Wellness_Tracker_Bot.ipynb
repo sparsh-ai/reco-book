{
  "cells": [
    {
      "cell_type": "markdown",
      "metadata": {
        "id": "V9SYHOEILWHU"
      },
      "source": [
        "# How to Build a Wellness Tracker Bot\n",
        "> A bot that logs daily wellness data to a spreadsheet (using the Airtable API), to help the user keep track of their health goals. Connect the assistant to a messaging channel—Twilio—so users can talk to the assistant via text message and Whatsapp."
      ]
    },
    {
      "cell_type": "markdown",
      "metadata": {
        "id": "jBegqyUXVHeE"
      },
      "source": [
        "## Introduction"
      ]
    },
    {
      "cell_type": "markdown",
      "metadata": {
        "id": "1-rw2M3nHKPE"
      },
      "source": [
        "<img src='https://www.notion.so/image/https%3A%2F%2Fs3-us-west-2.amazonaws.com%2Fsecure.notion-static.com%2Fe25f2045-ea51-4364-9c0f-eeffbee6dbf8%2FUntitled.png?table=block&id=ab849425-90b0-48d4-98e6-874d6e1a912d&spaceId=63b72b1f-0e90-4ab8-a6df-a060a6545a56&width=2000&userId=21ec183f-f0be-4b6b-9b3e-6f0d4e5c5469&cache=v2'>"
      ]
    },
    {
      "cell_type": "markdown",
      "metadata": {
        "id": "R8Al3ihzVMf2"
      },
      "source": [
        "A bot that logs daily wellness data to a spreadsheet (using the Airtable API), to help the user keep track of their health goals. Connect the assistant to a messaging channel—Twilio—so users can talk to the assistant via text message and Whatsapp.\n",
        "\n",
        "### What you'll learn?\n",
        "\n",
        "- RASA chatbot with Forms and Custom actions\n",
        "- Connect with Airtable API to log records in the table database\n",
        "- Connect with Whatsapp for user interaction\n",
        "\n",
        "### Why is this important?\n",
        "\n",
        "- Bots are the future\n",
        "- More and more users are starting using bots to get recommendations\n",
        "\n",
        "### How it will work?\n",
        "\n",
        "- Buid chatbot in RASA\n",
        "- Test the functionality using command line\n",
        "- Connect to Twilio\n",
        "- Connect to Whatsapp via Twilio\n",
        "- Store responses in Airtable\n",
        "\n",
        "### Who is this for?\n",
        "\n",
        "- People who are new in chatbots\n",
        "- People looking to learn how chatbots work and suggest/assist users\n",
        "\n",
        "### Important resources\n",
        "\n",
        "1. [Udemy course](https://www.udemy.com/course/rasa-for-beginners/learn/lecture/20746878#overview)\n",
        "2. [GitHub code repo](https://github.com/sparsh-ai/chatbots/tree/master/wellnessTracker)\n",
        "\n",
        "<!---------------------------->\n",
        "\n",
        "## Command-line chat\n",
        "\n",
        "Duration: 10"
      ]
    },
    {
      "cell_type": "markdown",
      "metadata": {
        "id": "VrUcTikpHOww"
      },
      "source": [
        "<img src='https://www.notion.so/image/https%3A%2F%2Fs3-us-west-2.amazonaws.com%2Fsecure.notion-static.com%2Fee9d94cb-b672-45d2-8c95-593cb7cedf08%2FUntitled.png?table=block&id=33371b06-5dc8-4bab-bc56-7d275771c01c&spaceId=63b72b1f-0e90-4ab8-a6df-a060a6545a56&width=2000&userId=21ec183f-f0be-4b6b-9b3e-6f0d4e5c5469&cache=v2'>"
      ]
    },
    {
      "cell_type": "markdown",
      "metadata": {
        "id": "9RkO1re8HPOH"
      },
      "source": [
        "<img src='https://www.notion.so/image/https%3A%2F%2Fs3-us-west-2.amazonaws.com%2Fsecure.notion-static.com%2Fa6ccbbc7-4d42-4268-8fe5-d49c0ea43ebe%2FUntitled.png?table=block&id=920635a4-be45-43c5-a713-392ef2613270&spaceId=63b72b1f-0e90-4ab8-a6df-a060a6545a56&width=2000&userId=21ec183f-f0be-4b6b-9b3e-6f0d4e5c5469&cache=v2'>"
      ]
    },
    {
      "cell_type": "markdown",
      "metadata": {
        "id": "_IwOw4UaVQIo"
      },
      "source": [
        "## Twilio\n",
        "\n",
        "Duration: 10\n"
      ]
    },
    {
      "cell_type": "markdown",
      "metadata": {
        "id": "fYPIMUrEHQhI"
      },
      "source": [
        "<img src='https://www.notion.so/image/https%3A%2F%2Fs3-us-west-2.amazonaws.com%2Fsecure.notion-static.com%2F8b9a3e02-4dbd-4457-b531-89a45ef50946%2FUntitled.png?table=block&id=af15ac19-d261-4e0f-b143-12ef551a1f3f&spaceId=63b72b1f-0e90-4ab8-a6df-a060a6545a56&width=2000&userId=21ec183f-f0be-4b6b-9b3e-6f0d4e5c5469&cache=v2'>"
      ]
    },
    {
      "cell_type": "markdown",
      "metadata": {
        "id": "RyMbUbJCVR9R"
      },
      "source": [
        "## Whatsapp\n",
        "\n",
        "Duration: 5\n"
      ]
    },
    {
      "cell_type": "markdown",
      "metadata": {
        "id": "_zEQ44fdHRvi"
      },
      "source": [
        "<img src='https://www.notion.so/image/https%3A%2F%2Fs3-us-west-2.amazonaws.com%2Fsecure.notion-static.com%2Ff503a055-ebdb-4455-a14b-c6e269372b69%2FUntitled.png?table=block&id=9a8befff-06e6-4f60-9fe1-03864aa466b5&spaceId=63b72b1f-0e90-4ab8-a6df-a060a6545a56&width=2000&userId=21ec183f-f0be-4b6b-9b3e-6f0d4e5c5469&cache=v2'>"
      ]
    },
    {
      "cell_type": "markdown",
      "metadata": {
        "id": "3jkwtEs9VTuy"
      },
      "source": [
        "## Airtable\n",
        "\n",
        "Duration: 5\n"
      ]
    },
    {
      "cell_type": "markdown",
      "metadata": {
        "id": "MZ8gCbc_HSrU"
      },
      "source": [
        "<img src='https://www.notion.so/image/https%3A%2F%2Fs3-us-west-2.amazonaws.com%2Fsecure.notion-static.com%2F0d61b850-6fa0-4790-b344-7e6bf6fa943d%2FUntitled.png?table=block&id=8ed91d8e-ada9-44a9-bc59-cdf00bebbe38&spaceId=63b72b1f-0e90-4ab8-a6df-a060a6545a56&width=2000&userId=21ec183f-f0be-4b6b-9b3e-6f0d4e5c5469&cache=v2'>"
      ]
    },
    {
      "cell_type": "markdown",
      "metadata": {
        "id": "bReOYjUvT__0"
      },
      "source": [
        "## Running the assistant\n",
        "\n",
        "1. Download the Airtable template and generate an [Airtable API token](https://support.airtable.com/hc/en-us/articles/219046777-How-do-I-get-my-API-key-). You'll also need to locate your Table Name and Base ID, which can be found in the [Airtable API docs](https://airtable.com/api).\n",
        "2. Make a copy of the `.example-env` and rename it `.env`. Add your Airtable API token, Base ID, and Table Name to the file.\n",
        "3. Install Rasa Open Source: [https://rasa.com/docs/rasa/user-guide/installation/](https://rasa.com/docs/rasa/user-guide/installation/)\n",
        "4. Install the action server dependencies: `pip install -r requirements-actions.txt`\n",
        "5. Train the model: `rasa train`\n",
        "6. Open a second terminal window and start the action server: `rasa run actions`\n",
        "7. Return to the first terminal window and start the assistant on the command line: `rasa shell`\n",
        "\n",
        "## Links and References\n",
        "\n",
        "1. [Udemy course](https://www.udemy.com/course/rasa-for-beginners/learn/lecture/20746878#overview)\n",
        "2. [GitHub code repo](https://github.com/sparsh-ai/chatbots/tree/master/wellnessTracker)"
      ]
    }
  ],
  "metadata": {
    "colab": {
      "name": "T622472_How_to_Build_a_Wellness_Tracker_Bot.ipynb",
      "toc_visible": true
    },
    "kernelspec": {
      "display_name": "Python 3",
      "name": "python3"
    }
  },
  "nbformat": 4,
  "nbformat_minor": 0
}
